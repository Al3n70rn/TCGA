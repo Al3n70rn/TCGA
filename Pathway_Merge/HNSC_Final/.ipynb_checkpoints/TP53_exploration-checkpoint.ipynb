{
 "metadata": {
  "name": ""
 },
 "nbformat": 3,
 "nbformat_minor": 0,
 "worksheets": [
  {
   "cells": [
    {
     "cell_type": "markdown",
     "metadata": {},
     "source": [
      "<h1 class=\"alert alert-info\">HNSCC HPV- Cohort <small>  <i class=\"icon-globe\"></i>  TP53 Mutation Exploration</small></h1>"
     ]
    },
    {
     "cell_type": "heading",
     "level": 1,
     "metadata": {},
     "source": [
      "Setup"
     ]
    },
    {
     "cell_type": "heading",
     "level": 2,
     "metadata": {},
     "source": [
      "Initialization"
     ]
    },
    {
     "cell_type": "code",
     "collapsed": false,
     "input": [
      "%load_ext nbtoc\n",
      "%nbtoc"
     ],
     "language": "python",
     "metadata": {},
     "outputs": [
      {
       "output_type": "stream",
       "stream": "stdout",
       "text": [
        "The nbtoc extension is already loaded. To reload it, use:\n",
        "  %reload_ext nbtoc\n"
       ]
      },
      {
       "html": [
        "<!-- extracted from https://gist.github.com/magican/5574556 -->\n",
        "<div id=\"toc-wrapper\">\n",
        "    <div class=\"header\">Contents <a href=\"#\" class=\"hide-btn\">[hide]</a></div>\n",
        "    <div id=\"toc\"></div>\n",
        "</div>\n",
        " \n",
        "<style>\n",
        "  #toc {\n",
        "    overflow-y: scroll;\n",
        "    max-height: 300px;\n",
        "  }\n",
        "  #toc-wrapper {\n",
        "    position: fixed; top: 120px; max-width:430px; right: 20px;\n",
        "    border: thin solid rgba(0, 0, 0, 0.38); opacity: .8;\n",
        "    border-radius: 5px; background-color: #fff; padding:10px;\n",
        "    z-index: 100;\n",
        "  }\n",
        "  #toc-wrapper.closed {\n",
        "      min-width: 100px;\n",
        "      width: auto;\n",
        "      transition: width;\n",
        "  }\n",
        "  #toc-wrapper:hover{\n",
        "      opacity:1;\n",
        "  }\n",
        "  #toc-wrapper .header {\n",
        "      font-size:18px; font-weight: bold;\n",
        "  }\n",
        "  #toc-wrapper .hide-btn {\n",
        "      font-size: 14px;\n",
        "  }\n",
        " \n",
        "</style>\n",
        "\n",
        "<style>\n",
        "  ol.nested {\n",
        "    counter-reset: item;\n",
        "    list-style: none;\n",
        "  }\n",
        "  li.nested {\n",
        "        display: block;\n",
        "    }\n",
        "  li.nested:before {\n",
        "        counter-increment: item;\n",
        "        content: counters(item, \".\")\" \";\n",
        "    }\n",
        "</style>\n"
       ],
       "metadata": {},
       "output_type": "display_data"
      },
      {
       "javascript": [
        "// adapted from https://gist.github.com/magican/5574556\n",
        "\n",
        "function clone_anchor(element) {\n",
        "  // clone link\n",
        "  var h = element.find(\"div.text_cell_render\").find(':header').first();\n",
        "  var a = h.find('a').clone();\n",
        "  var new_a = $(\"<a>\");\n",
        "  new_a.attr(\"href\", a.attr(\"href\"));\n",
        "  // get the text *excluding* the link text, whatever it may be\n",
        "  var hclone = h.clone();\n",
        "  hclone.children().remove();\n",
        "  new_a.text(hclone.text());\n",
        "  return new_a;\n",
        "}\n",
        "\n",
        "function ol_depth(element) {\n",
        "  // get depth of nested ol\n",
        "  var d = 0;\n",
        "  while (element.prop(\"tagName\").toLowerCase() == 'ol') {\n",
        "    d += 1;\n",
        "    element = element.parent();\n",
        "  }\n",
        "  return d;\n",
        "}\n",
        "\n",
        "function table_of_contents(threshold) {\n",
        "  if (threshold === undefined) {\n",
        "    threshold = 4;\n",
        "  }\n",
        "  var cells = IPython.notebook.get_cells();\n",
        "  \n",
        "  var ol = $(\"<ol/>\");\n",
        "  $(\"#toc\").empty().append(ol);\n",
        "  \n",
        "  for (var i=0; i < cells.length; i++) {\n",
        "    var cell = cells[i];\n",
        "    \n",
        "    if (cell.cell_type !== 'heading') continue;\n",
        "    \n",
        "    var level = cell.level;\n",
        "    if (level > threshold) continue;\n",
        "    \n",
        "    var depth = ol_depth(ol);\n",
        "\n",
        "    // walk down levels\n",
        "    for (; depth < level; depth++) {\n",
        "      var new_ol = $(\"<ol/>\");\n",
        "      ol.append(new_ol);\n",
        "      ol = new_ol;\n",
        "    }\n",
        "    // walk up levels\n",
        "    for (; depth > level; depth--) {\n",
        "      ol = ol.parent();\n",
        "    }\n",
        "    //\n",
        "    ol.append(\n",
        "      $(\"<li/>\").append(clone_anchor(cell.element))\n",
        "    );\n",
        "  }\n",
        "\n",
        "  $('#toc-wrapper .header').click(function(){\n",
        "    $('#toc').slideToggle();\n",
        "    $('#toc-wrapper').toggleClass('closed');\n",
        "    if ($('#toc-wrapper').hasClass('closed')){\n",
        "      $('#toc-wrapper .hide-btn').text('[show]');\n",
        "    } else {\n",
        "      $('#toc-wrapper .hide-btn').text('[hide]');\n",
        "    }\n",
        "    return false;\n",
        "  })\n",
        "\n",
        "  $(window).resize(function(){\n",
        "    $('#toc').css({maxHeight: $(window).height() - 200})\n",
        "  })\n",
        "\n",
        "  $(window).trigger('resize')\n",
        "}\n",
        "\n",
        "table_of_contents();\n",
        "\n",
        "\n"
       ],
       "metadata": {},
       "output_type": "display_data"
      }
     ],
     "prompt_number": 164
    },
    {
     "cell_type": "code",
     "collapsed": false,
     "input": [
      "cd ../src"
     ],
     "language": "python",
     "metadata": {},
     "outputs": [
      {
       "output_type": "stream",
       "stream": "stdout",
       "text": [
        "/cellar/users/agross/TCGA_Code/TCGA/Pathway_Merge/src\n"
       ]
      }
     ],
     "prompt_number": 2
    },
    {
     "cell_type": "code",
     "collapsed": false,
     "input": [
      "from Processing.Imports import *\n",
      "from Figures.Helpers import *\n",
      "from Figures.Survival import *"
     ],
     "language": "python",
     "metadata": {},
     "outputs": [],
     "prompt_number": 3
    },
    {
     "cell_type": "code",
     "collapsed": false,
     "input": [
      "import Data.Firehose as FH"
     ],
     "language": "python",
     "metadata": {},
     "outputs": [],
     "prompt_number": 90
    },
    {
     "cell_type": "heading",
     "level": 2,
     "metadata": {},
     "source": [
      "Read in Pre-processed Data"
     ]
    },
    {
     "cell_type": "code",
     "collapsed": false,
     "input": [
      "run = get_run('/cellar/data/TCGA/Firehose__2013_05_23/', 'Run_all_2')\n",
      "\n",
      "cancer = run.load_cancer('HNSC')\n",
      "clinical = cancer.load_clinical()\n",
      "\n",
      "mut = cancer.load_data('Mutation')\n",
      "mut.uncompress()\n",
      "cn = cancer.load_data('CN_broad')\n",
      "cn.uncompress()"
     ],
     "language": "python",
     "metadata": {},
     "outputs": [],
     "prompt_number": 10
    },
    {
     "cell_type": "code",
     "collapsed": false,
     "input": [
      "rna = pickle.load(open(cancer.path + '/mRNASeq/store/no_hpv.p', 'rb'))\n",
      "meth = pickle.load(open(cancer.path + '/Methylation/store/no_hpv.p', 'rb'))\n",
      "mirna = pickle.load(open(cancer.path + '/miRNASeq/store/no_hpv.p', 'rb'))"
     ],
     "language": "python",
     "metadata": {},
     "outputs": [],
     "prompt_number": 9
    },
    {
     "cell_type": "code",
     "collapsed": false,
     "input": [
      "clinical_processed = clinical.processed\n",
      "hpv_inferred = clinical_processed.hpv_inferred\n",
      "age = clinical.timeline.age.astype(float)\n",
      "old = pd.Series(1.*(age>=75), name='old')\n",
      "\n",
      "surv = clinical.survival.survival_5y\n",
      "surv_all = clinical.survival.survival"
     ],
     "language": "python",
     "metadata": {},
     "outputs": [],
     "prompt_number": 5
    },
    {
     "cell_type": "code",
     "collapsed": false,
     "input": [
      "keepers_o = true_index(hpv_inferred == 0).intersection(surv.unstack().index)"
     ],
     "language": "python",
     "metadata": {},
     "outputs": [],
     "prompt_number": 6
    },
    {
     "cell_type": "heading",
     "level": 1,
     "metadata": {},
     "source": [
      "TP53 Mutation Clinical Coorelates"
     ]
    },
    {
     "cell_type": "code",
     "collapsed": false,
     "input": [
      "plt.rcParams['font.size'] = 12"
     ],
     "language": "python",
     "metadata": {},
     "outputs": [],
     "prompt_number": 47
    },
    {
     "cell_type": "code",
     "collapsed": false,
     "input": [
      "p53_mut = mut.df.ix['TP53'].ix[keepers_o].dropna().astype(int)"
     ],
     "language": "python",
     "metadata": {},
     "outputs": [],
     "prompt_number": 48
    },
    {
     "cell_type": "code",
     "collapsed": false,
     "input": [
      "survival_and_stats(p53_mut, surv, figsize=(5,4), order=[3,2,1,0])"
     ],
     "language": "python",
     "metadata": {},
     "outputs": [
      {
       "metadata": {},
       "output_type": "display_data",
       "png": "[encoded data removed]",
       "text": [
        "<matplotlib.figure.Figure at 0xaf2d8d0>"
       ]
      }
     ],
     "prompt_number": 49
    },
    {
     "cell_type": "code",
     "collapsed": false,
     "input": [
      "screen_feature(p53_mut>0, kruskal_pandas, clinical.processed.T).head()"
     ],
     "language": "python",
     "metadata": {},
     "outputs": [
      {
       "html": [
        "<div style=\"max-height:1000px;max-width:1500px;overflow:auto;\">\n",
        "<table border=\"1\" class=\"dataframe\">\n",
        "  <thead>\n",
        "    <tr style=\"text-align: right;\">\n",
        "      <th></th>\n",
        "      <th>H</th>\n",
        "      <th>p</th>\n",
        "      <th>q</th>\n",
        "    </tr>\n",
        "  </thead>\n",
        "  <tbody>\n",
        "    <tr>\n",
        "      <th>lymph_status</th>\n",
        "      <td> 8.29</td>\n",
        "      <td> 0.00</td>\n",
        "      <td> 0.05</td>\n",
        "    </tr>\n",
        "    <tr>\n",
        "      <th>spread_inferred</th>\n",
        "      <td> 6.96</td>\n",
        "      <td> 0.01</td>\n",
        "      <td> 0.05</td>\n",
        "    </tr>\n",
        "    <tr>\n",
        "      <th>smoker_inferred</th>\n",
        "      <td> 6.91</td>\n",
        "      <td> 0.01</td>\n",
        "      <td> 0.05</td>\n",
        "    </tr>\n",
        "    <tr>\n",
        "      <th>invasion_inferred</th>\n",
        "      <td> 3.08</td>\n",
        "      <td> 0.08</td>\n",
        "      <td> 0.36</td>\n",
        "    </tr>\n",
        "    <tr>\n",
        "      <th>age</th>\n",
        "      <td> 1.48</td>\n",
        "      <td> 0.22</td>\n",
        "      <td> 0.81</td>\n",
        "    </tr>\n",
        "  </tbody>\n",
        "</table>\n",
        "</div>"
       ],
       "metadata": {},
       "output_type": "pyout",
       "prompt_number": 54,
       "text": [
        "                      H     p     q\n",
        "lymph_status       8.29  0.00  0.05\n",
        "spread_inferred    6.96  0.01  0.05\n",
        "smoker_inferred    6.91  0.01  0.05\n",
        "invasion_inferred  3.08  0.08  0.36\n",
        "age                1.48  0.22  0.81"
       ]
      }
     ],
     "prompt_number": 54
    },
    {
     "cell_type": "code",
     "collapsed": false,
     "input": [
      "ecs = clinical.clinical.presenceofpathologicalnodalextracapsularspread\n",
      "ecs.name = 'Extra Capsular Spread'\n",
      "pd.crosstab(p53_mut>0, ecs).T.plot(kind='bar', rot=15)"
     ],
     "language": "python",
     "metadata": {},
     "outputs": [
      {
       "metadata": {},
       "output_type": "pyout",
       "prompt_number": 71,
       "text": [
        "<matplotlib.axes.AxesSubplot at 0xd0a2f90>"
       ]
      },
      {
       "metadata": {},
       "output_type": "display_data",
       "png": "[encoded data removed]",
       "text": [
        "<matplotlib.figure.Figure at 0xd0c1410>"
       ]
      }
     ],
     "prompt_number": 71
    },
    {
     "cell_type": "code",
     "collapsed": false,
     "input": [
      "pd.crosstab(p53_mut>0, clinical.processed.smoker_inferred).plot(kind='bar', rot=0)"
     ],
     "language": "python",
     "metadata": {},
     "outputs": [
      {
       "metadata": {},
       "output_type": "pyout",
       "prompt_number": 79,
       "text": [
        "<matplotlib.axes.AxesSubplot at 0xe5a2ed0>"
       ]
      },
      {
       "metadata": {},
       "output_type": "display_data",
       "png": "[encoded data removed]",
       "text": [
        "<matplotlib.figure.Figure at 0xe2bfc90>"
       ]
      }
     ],
     "prompt_number": 79
    },
    {
     "cell_type": "heading",
     "level": 1,
     "metadata": {},
     "source": [
      "TP53 Mutation Functional Assessment"
     ]
    },
    {
     "cell_type": "heading",
     "level": 2,
     "metadata": {},
     "source": [
      "Classification of Mutations via Poeta et. al."
     ]
    },
    {
     "cell_type": "markdown",
     "metadata": {},
     "source": [
      "* http://www.ncbi.nlm.nih.gov/pubmed/18094376 \n",
      "* In this paper the authors sequence TP53 for 420 patients.  \n",
      "* They classify a mutation as disruptive or non-disruptive if it:  \n",
      "    a) contains a stop mutation  \n",
      "    b) occurs at a binding site AND encodes an amino acid with a different polarity  "
     ]
    },
    {
     "cell_type": "code",
     "collapsed": false,
     "input": [],
     "language": "python",
     "metadata": {},
     "outputs": [],
     "prompt_number": 87
    },
    {
     "cell_type": "code",
     "collapsed": false,
     "input": [
      "'''Read in amino acid table'''\n",
      "aa = pd.read_csv('/cellar/users/agross/Data/GeneSets/amino_acids.csv')\n",
      "lo = aa.set_index('Symbol').groupby(level=0).first()\n",
      "\n",
      "def is_disruptive(s):\n",
      "    if 'fs' in s:\n",
      "        return False\n",
      "    if len(s) != 7:\n",
      "        #print s\n",
      "        return False\n",
      "    if lo.Polarity[s[6]] == 'stop':\n",
      "        return True\n",
      "    aa = s[3:6]\n",
      "    if int(aa) in range(163,196) + range(236, 252):\n",
      "        if lo.Polarity[s[2]] == lo.Polarity[s[6]]:\n",
      "            return True\n",
      "    return False"
     ],
     "language": "python",
     "metadata": {},
     "outputs": [],
     "prompt_number": 88
    },
    {
     "cell_type": "code",
     "collapsed": false,
     "input": [
      "p53 = FH.get_submaf(run.data_path, cancer.name, ['TP53'], fields='All').ix['TP53']\n",
      "status = pd.concat([combine(p53.Protein_Change.map(is_disruptive), p53.is_silent==0), \n",
      "                    p53.Tumor_Sample_Barcode], axis=1, \n",
      "                   keys=['status','barcode'])\n",
      "status = status.set_index('barcode')['status']\n",
      "status = (status == 'both').groupby(level=0).sum().clip_upper(1.)\n",
      "status = status.ix[mut.df.columns].fillna(-1).map({-1:'WT',0:'Non-Disruptive',1:'Disruptive'})"
     ],
     "language": "python",
     "metadata": {},
     "outputs": [],
     "prompt_number": 91
    },
    {
     "cell_type": "heading",
     "level": 2,
     "metadata": {},
     "source": [
      "Prognostic Effects of TP53 Mutations"
     ]
    },
    {
     "cell_type": "markdown",
     "metadata": {},
     "source": [
      "* I also threw in a plot of the frequent mutations as well, can't get alot from it but it shows that they do matter, even though we don't have the power to really say anything else.\n",
      "* When we start looking across multiple cancers, or have 1000 person cohorts, we may be able to extract some meaningfull information by looking at the effects of individual mutations but that is a ways off. "
     ]
    },
    {
     "cell_type": "code",
     "collapsed": false,
     "input": [
      "fig, axs = subplots(1,2, figsize=(8,3), sharey=False)\n",
      "\n",
      "cc = p53.set_index('Tumor_Sample_Barcode').Protein_Change\n",
      "cc = cc.groupby(level=0).agg(lambda s: s.ix[s.map(p53.Protein_Change.value_counts()).argmax()])\n",
      "cc = cc[cc.isin(true_index(cc.ix[keepers_o].value_counts() >= 5))]\n",
      "draw_survival_curve(cc.ix[keepers_o].dropna(), surv, ax=axs[0], alpha=.8)\n",
      "axs[0].legend(loc='lower right', frameon=False)\n",
      "\n",
      "draw_survival_curve(status.ix[keepers_o].dropna(), surv, ax=axs[1])\n",
      "axs[1].legend(loc='lower left', frameon=False)\n",
      "fig.tight_layout()\n",
      "for ax in axs:\n",
      "    prettify_ax(ax)\n",
      "plt.savefig('/cellar/users/agross/Desktop/Figures/TP53_characterization.pdf', transparent=True)"
     ],
     "language": "python",
     "metadata": {},
     "outputs": [
      {
       "metadata": {},
       "output_type": "display_data",
       "png": "[encoded data removed]",
       "text": [
        "<matplotlib.figure.Figure at 0x15e05d50>"
       ]
      }
     ],
     "prompt_number": 102
    },
    {
     "cell_type": "code",
     "collapsed": false,
     "input": [
      "survival_and_stats(cc, surv, figsize=(5,4))"
     ],
     "language": "python",
     "metadata": {},
     "outputs": [
      {
       "metadata": {},
       "output_type": "display_data",
       "png": "[encoded data removed]",
       "text": [
        "<matplotlib.figure.Figure at 0xae72a90>"
       ]
      }
     ],
     "prompt_number": 107
    },
    {
     "cell_type": "code",
     "collapsed": false,
     "input": [
      "get_cox_ph(surv, status[status != 'WT'].ix[keepers_o].dropna(), print_desc=True);"
     ],
     "language": "python",
     "metadata": {},
     "outputs": [
      {
       "output_type": "stream",
       "stream": "stdout",
       "text": [
        "\n",
        "                        coef exp(coef) se(coef)     z     p\n",
        "featureNon-Disruptive -0.513     0.599    0.215 -2.38 0.017\n",
        "\n",
        "Likelihood ratio test=5.31  on 1 df, p=0.0213  n= 215, number of events= 99 \n",
        "\n"
       ]
      }
     ],
     "prompt_number": 109
    },
    {
     "cell_type": "code",
     "collapsed": false,
     "input": [
      "get_cox_ph(surv, status[status != 'Disruptive'].ix[keepers_o].dropna(), print_desc=True);"
     ],
     "language": "python",
     "metadata": {},
     "outputs": [
      {
       "output_type": "stream",
       "stream": "stdout",
       "text": [
        "\n",
        "            coef exp(coef) se(coef)     z     p\n",
        "featureWT -0.747     0.474    0.314 -2.38 0.017\n",
        "\n",
        "Likelihood ratio test=6.66  on 1 df, p=0.00986  n= 206, number of events= 79 \n",
        "\n"
       ]
      }
     ],
     "prompt_number": 110
    },
    {
     "cell_type": "code",
     "collapsed": false,
     "input": [
      "get_cox_ph(surv, status[status != 'Non-Disruptive'].ix[keepers_o].dropna(), print_desc=True);"
     ],
     "language": "python",
     "metadata": {},
     "outputs": [
      {
       "output_type": "stream",
       "stream": "stdout",
       "text": [
        "\n",
        "           coef exp(coef) se(coef)     z       p\n",
        "featureWT -1.22     0.295    0.342 -3.57 0.00036\n",
        "\n",
        "Likelihood ratio test=14.5  on 1 df, p=0.000139  n= 105, number of events= 44 \n",
        "\n"
       ]
      }
     ],
     "prompt_number": 111
    },
    {
     "cell_type": "heading",
     "level": 2,
     "metadata": {},
     "source": [
      "Molecular Coorelates of TP53 Functional Status"
     ]
    },
    {
     "cell_type": "code",
     "collapsed": false,
     "input": [
      "screen_feature(status[status.isin(['Disruptive', 'Non-Disruptive'])], \n",
      "               kruskal_pandas, rna.features).head()"
     ],
     "language": "python",
     "metadata": {},
     "outputs": [
      {
       "html": [
        "<div style=\"max-height:1000px;max-width:1500px;overflow:auto;\">\n",
        "<table border=\"1\" class=\"dataframe\">\n",
        "  <thead>\n",
        "    <tr style=\"text-align: right;\">\n",
        "      <th></th>\n",
        "      <th>H</th>\n",
        "      <th>p</th>\n",
        "      <th>q</th>\n",
        "    </tr>\n",
        "  </thead>\n",
        "  <tbody>\n",
        "    <tr>\n",
        "      <th>(real, IRAK2)</th>\n",
        "      <td> 13.93</td>\n",
        "      <td> 1.89e-04</td>\n",
        "      <td> 1</td>\n",
        "    </tr>\n",
        "    <tr>\n",
        "      <th>(real, SLC6A7)</th>\n",
        "      <td> 12.64</td>\n",
        "      <td> 3.78e-04</td>\n",
        "      <td> 1</td>\n",
        "    </tr>\n",
        "    <tr>\n",
        "      <th>(binary, VSTM2A)</th>\n",
        "      <td> 12.10</td>\n",
        "      <td> 5.04e-04</td>\n",
        "      <td> 1</td>\n",
        "    </tr>\n",
        "    <tr>\n",
        "      <th>(real, C11orf54)</th>\n",
        "      <td> 10.80</td>\n",
        "      <td> 1.02e-03</td>\n",
        "      <td> 1</td>\n",
        "    </tr>\n",
        "    <tr>\n",
        "      <th>(real, MYBPC3)</th>\n",
        "      <td> 10.45</td>\n",
        "      <td> 1.22e-03</td>\n",
        "      <td> 1</td>\n",
        "    </tr>\n",
        "  </tbody>\n",
        "</table>\n",
        "</div>"
       ],
       "metadata": {},
       "output_type": "pyout",
       "prompt_number": 142,
       "text": [
        "                      H         p  q\n",
        "(real, IRAK2)     13.93  1.89e-04  1\n",
        "(real, SLC6A7)    12.64  3.78e-04  1\n",
        "(binary, VSTM2A)  12.10  5.04e-04  1\n",
        "(real, C11orf54)  10.80  1.02e-03  1\n",
        "(real, MYBPC3)    10.45  1.22e-03  1"
       ]
      }
     ],
     "prompt_number": 142
    },
    {
     "cell_type": "code",
     "collapsed": false,
     "input": [
      "screen_feature(status[status.isin(['Disruptive', 'Non-Disruptive'])], \n",
      "               kruskal_pandas, mirna.features).head()"
     ],
     "language": "python",
     "metadata": {},
     "outputs": [
      {
       "html": [
        "<div style=\"max-height:1000px;max-width:1500px;overflow:auto;\">\n",
        "<table border=\"1\" class=\"dataframe\">\n",
        "  <thead>\n",
        "    <tr style=\"text-align: right;\">\n",
        "      <th></th>\n",
        "      <th>H</th>\n",
        "      <th>p</th>\n",
        "      <th>q</th>\n",
        "    </tr>\n",
        "  </thead>\n",
        "  <tbody>\n",
        "    <tr>\n",
        "      <th>(binary, hsa-mir-1246)</th>\n",
        "      <td> 9.70</td>\n",
        "      <td> 0.00</td>\n",
        "      <td> 0.43</td>\n",
        "    </tr>\n",
        "    <tr>\n",
        "      <th>(real, hsa-mir-370)</th>\n",
        "      <td> 5.41</td>\n",
        "      <td> 0.02</td>\n",
        "      <td> 0.89</td>\n",
        "    </tr>\n",
        "    <tr>\n",
        "      <th>(real, hsa-mir-3129)</th>\n",
        "      <td> 5.39</td>\n",
        "      <td> 0.02</td>\n",
        "      <td> 0.89</td>\n",
        "    </tr>\n",
        "    <tr>\n",
        "      <th>(real, hsa-mir-3195)</th>\n",
        "      <td> 4.85</td>\n",
        "      <td> 0.03</td>\n",
        "      <td> 0.89</td>\n",
        "    </tr>\n",
        "    <tr>\n",
        "      <th>(real, hsa-mir-421)</th>\n",
        "      <td> 4.56</td>\n",
        "      <td> 0.03</td>\n",
        "      <td> 0.89</td>\n",
        "    </tr>\n",
        "  </tbody>\n",
        "</table>\n",
        "</div>"
       ],
       "metadata": {},
       "output_type": "pyout",
       "prompt_number": 143,
       "text": [
        "                           H     p     q\n",
        "(binary, hsa-mir-1246)  9.70  0.00  0.43\n",
        "(real, hsa-mir-370)     5.41  0.02  0.89\n",
        "(real, hsa-mir-3129)    5.39  0.02  0.89\n",
        "(real, hsa-mir-3195)    4.85  0.03  0.89\n",
        "(real, hsa-mir-421)     4.56  0.03  0.89"
       ]
      }
     ],
     "prompt_number": 143
    },
    {
     "cell_type": "code",
     "collapsed": false,
     "input": [
      "screen_feature(status[status.isin(['Disruptive', 'Non-Disruptive'])], \n",
      "               chi2_cont_test, cn.features).head()"
     ],
     "language": "python",
     "metadata": {},
     "outputs": [
      {
       "html": [
        "<div style=\"max-height:1000px;max-width:1500px;overflow:auto;\">\n",
        "<table border=\"1\" class=\"dataframe\">\n",
        "  <thead>\n",
        "    <tr style=\"text-align: right;\">\n",
        "      <th></th>\n",
        "      <th>chi2</th>\n",
        "      <th>p</th>\n",
        "      <th>dof</th>\n",
        "      <th>q</th>\n",
        "    </tr>\n",
        "  </thead>\n",
        "  <tbody>\n",
        "    <tr>\n",
        "      <th>(Amplification, 11q13.3, Lesion)</th>\n",
        "      <td> 10.61</td>\n",
        "      <td> 0.00</td>\n",
        "      <td> 2</td>\n",
        "      <td> 0.35</td>\n",
        "    </tr>\n",
        "    <tr>\n",
        "      <th>(Deletion, 2q36.2, Lesion)</th>\n",
        "      <td>  4.72</td>\n",
        "      <td> 0.03</td>\n",
        "      <td> 1</td>\n",
        "      <td> 0.64</td>\n",
        "    </tr>\n",
        "    <tr>\n",
        "      <th>(Deletion, 8p23.2, Lesion)</th>\n",
        "      <td>  4.57</td>\n",
        "      <td> 0.03</td>\n",
        "      <td> 1</td>\n",
        "      <td> 0.64</td>\n",
        "    </tr>\n",
        "    <tr>\n",
        "      <th>(Amplification, 18q11.2, Lesion)</th>\n",
        "      <td>  6.29</td>\n",
        "      <td> 0.04</td>\n",
        "      <td> 2</td>\n",
        "      <td> 0.64</td>\n",
        "    </tr>\n",
        "    <tr>\n",
        "      <th>(Deletion, 18q23, Lesion)</th>\n",
        "      <td>  3.99</td>\n",
        "      <td> 0.05</td>\n",
        "      <td> 1</td>\n",
        "      <td> 0.64</td>\n",
        "    </tr>\n",
        "  </tbody>\n",
        "</table>\n",
        "</div>"
       ],
       "metadata": {},
       "output_type": "pyout",
       "prompt_number": 145,
       "text": [
        "                                   chi2     p  dof     q\n",
        "(Amplification, 11q13.3, Lesion)  10.61  0.00    2  0.35\n",
        "(Deletion, 2q36.2, Lesion)         4.72  0.03    1  0.64\n",
        "(Deletion, 8p23.2, Lesion)         4.57  0.03    1  0.64\n",
        "(Amplification, 18q11.2, Lesion)   6.29  0.04    2  0.64\n",
        "(Deletion, 18q23, Lesion)          3.99  0.05    1  0.64"
       ]
      }
     ],
     "prompt_number": 145
    },
    {
     "cell_type": "code",
     "collapsed": false,
     "input": [
      "status.name = 'TP53 Functional Status'\n",
      "pd.crosstab(cn.df.ix['Amplification'].ix['11q13.3'].iloc[0], status).T.plot(kind='bar', rot=0)"
     ],
     "language": "python",
     "metadata": {},
     "outputs": [
      {
       "metadata": {},
       "output_type": "pyout",
       "prompt_number": 152,
       "text": [
        "<matplotlib.axes.AxesSubplot at 0x122f3610>"
       ]
      },
      {
       "metadata": {},
       "output_type": "display_data",
       "png": "[encoded data removed]",
       "text": [
        "<matplotlib.figure.Figure at 0x122fc410>"
       ]
      }
     ],
     "prompt_number": 152
    },
    {
     "cell_type": "code",
     "collapsed": false,
     "input": [
      "screen_feature(status[status.isin(['Disruptive', 'Non-Disruptive'])], \n",
      "               chi2_cont_test, mut.df.ix[mut.df.sum(1)>6]>0).head()"
     ],
     "language": "python",
     "metadata": {},
     "outputs": [
      {
       "html": [
        "<div style=\"max-height:1000px;max-width:1500px;overflow:auto;\">\n",
        "<table border=\"1\" class=\"dataframe\">\n",
        "  <thead>\n",
        "    <tr style=\"text-align: right;\">\n",
        "      <th></th>\n",
        "      <th>chi2</th>\n",
        "      <th>p</th>\n",
        "      <th>dof</th>\n",
        "      <th>q</th>\n",
        "    </tr>\n",
        "  </thead>\n",
        "  <tbody>\n",
        "    <tr>\n",
        "      <th>PFAS</th>\n",
        "      <td> 10.22</td>\n",
        "      <td> 0.00</td>\n",
        "      <td> 1</td>\n",
        "      <td> 0.98</td>\n",
        "    </tr>\n",
        "    <tr>\n",
        "      <th>LILRA1</th>\n",
        "      <td>  7.57</td>\n",
        "      <td> 0.01</td>\n",
        "      <td> 1</td>\n",
        "      <td> 0.98</td>\n",
        "    </tr>\n",
        "    <tr>\n",
        "      <th>BIRC6</th>\n",
        "      <td>  6.45</td>\n",
        "      <td> 0.01</td>\n",
        "      <td> 1</td>\n",
        "      <td> 0.98</td>\n",
        "    </tr>\n",
        "    <tr>\n",
        "      <th>PDE10A</th>\n",
        "      <td>  6.45</td>\n",
        "      <td> 0.01</td>\n",
        "      <td> 1</td>\n",
        "      <td> 0.98</td>\n",
        "    </tr>\n",
        "    <tr>\n",
        "      <th>PCDHGA1</th>\n",
        "      <td>  5.40</td>\n",
        "      <td> 0.02</td>\n",
        "      <td> 1</td>\n",
        "      <td> 0.98</td>\n",
        "    </tr>\n",
        "  </tbody>\n",
        "</table>\n",
        "</div>"
       ],
       "metadata": {},
       "output_type": "pyout",
       "prompt_number": 160,
       "text": [
        "          chi2     p  dof     q\n",
        "PFAS     10.22  0.00    1  0.98\n",
        "LILRA1    7.57  0.01    1  0.98\n",
        "BIRC6     6.45  0.01    1  0.98\n",
        "PDE10A    6.45  0.01    1  0.98\n",
        "PCDHGA1   5.40  0.02    1  0.98"
       ]
      }
     ],
     "prompt_number": 160
    },
    {
     "cell_type": "code",
     "collapsed": false,
     "input": [
      "pd.crosstab(status, mut.df.ix['PFAS']>0)"
     ],
     "language": "python",
     "metadata": {},
     "outputs": [
      {
       "html": [
        "<div style=\"max-height:1000px;max-width:1500px;overflow:auto;\">\n",
        "<table border=\"1\" class=\"dataframe\">\n",
        "  <thead>\n",
        "    <tr style=\"text-align: right;\">\n",
        "      <th>PFAS</th>\n",
        "      <th>False</th>\n",
        "      <th>True</th>\n",
        "    </tr>\n",
        "    <tr>\n",
        "      <th>TP53 Functional Status</th>\n",
        "      <th></th>\n",
        "      <th></th>\n",
        "    </tr>\n",
        "  </thead>\n",
        "  <tbody>\n",
        "    <tr>\n",
        "      <th>Disruptive</th>\n",
        "      <td>  51</td>\n",
        "      <td> 6</td>\n",
        "    </tr>\n",
        "    <tr>\n",
        "      <th>Non-Disruptive</th>\n",
        "      <td> 159</td>\n",
        "      <td> 1</td>\n",
        "    </tr>\n",
        "    <tr>\n",
        "      <th>WT</th>\n",
        "      <td>  86</td>\n",
        "      <td> 3</td>\n",
        "    </tr>\n",
        "  </tbody>\n",
        "</table>\n",
        "</div>"
       ],
       "metadata": {},
       "output_type": "pyout",
       "prompt_number": 163,
       "text": [
        "PFAS                    False  True \n",
        "TP53 Functional Status              \n",
        "Disruptive                 51      6\n",
        "Non-Disruptive            159      1\n",
        "WT                         86      3"
       ]
      }
     ],
     "prompt_number": 163
    },
    {
     "cell_type": "heading",
     "level": 2,
     "metadata": {},
     "source": [
      "Prediction of TP53 functional status"
     ]
    },
    {
     "cell_type": "code",
     "collapsed": false,
     "input": [
      "from Stats.Classification import SVC_fill"
     ],
     "language": "python",
     "metadata": {},
     "outputs": [],
     "prompt_number": 115
    },
    {
     "cell_type": "code",
     "collapsed": false,
     "input": [
      "ret = SVC_fill(status[status.isin(['Disruptive', 'WT'])]=='Disruptive', \n",
      "               rna.features.ix['real'].ix[:,keepers_o].dropna(1))"
     ],
     "language": "python",
     "metadata": {},
     "outputs": [],
     "prompt_number": 131
    },
    {
     "cell_type": "code",
     "collapsed": false,
     "input": [
      "ret['auc']"
     ],
     "language": "python",
     "metadata": {},
     "outputs": [
      {
       "metadata": {},
       "output_type": "pyout",
       "prompt_number": 132,
       "text": [
        "0.86274509803921573"
       ]
      }
     ],
     "prompt_number": 132
    },
    {
     "cell_type": "code",
     "collapsed": false,
     "input": [
      "violin_plot_pandas(status, ret['decision_function'])"
     ],
     "language": "python",
     "metadata": {},
     "outputs": [
      {
       "metadata": {},
       "output_type": "display_data",
       "png": "[encoded data removed]",
       "text": [
        "<matplotlib.figure.Figure at 0x14057210>"
       ]
      }
     ],
     "prompt_number": 133
    },
    {
     "cell_type": "code",
     "collapsed": false,
     "input": [
      "draw_survival_curves(ret['decision_function'] > 0, surv, status)"
     ],
     "language": "python",
     "metadata": {},
     "outputs": [
      {
       "metadata": {},
       "output_type": "display_data",
       "png": "[encoded data removed]",
       "text": [
        "<matplotlib.figure.Figure at 0x15e62a50>"
       ]
      }
     ],
     "prompt_number": 139
    }
   ],
   "metadata": {}
  }
 ]
}