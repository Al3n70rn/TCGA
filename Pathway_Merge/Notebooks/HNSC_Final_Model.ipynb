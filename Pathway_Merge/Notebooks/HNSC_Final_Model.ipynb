{
 "metadata": {
  "name": "HNSC_Final_Model"
 },
 "nbformat": 3,
 "nbformat_minor": 0,
 "worksheets": [
  {
   "cells": [
    {
     "cell_type": "markdown",
     "metadata": {},
     "source": [
      "#HNSC- What do we keep in the final model?"
     ]
    },
    {
     "cell_type": "code",
     "collapsed": false,
     "input": [
      "cd ../src"
     ],
     "language": "python",
     "metadata": {},
     "outputs": [
      {
       "output_type": "stream",
       "stream": "stdout",
       "text": [
        "/cellar/users/agross/TCGA_Code/TCGA/Pathway_Merge/src\n"
       ]
      }
     ],
     "prompt_number": 7
    },
    {
     "cell_type": "markdown",
     "metadata": {},
     "source": [
      "##Load the data"
     ]
    },
    {
     "cell_type": "code",
     "collapsed": false,
     "input": [
      "from Processing.Imports import *"
     ],
     "language": "python",
     "metadata": {},
     "outputs": [],
     "prompt_number": 9
    },
    {
     "cell_type": "code",
     "collapsed": false,
     "input": [
      "run = get_run('/cellar/data/TCGA/Firehose__2013_04_21/', 'Run_all')\n",
      "\n",
      "cancer = run.load_cancer('HNSC')\n",
      "clinical = cancer.load_clinical()\n",
      "global_vars = cancer.load_global_vars()\n",
      "\n",
      "mut = cancer.load_data('Mutation')\n",
      "mut.uncompress()\n",
      "meth = cancer.load_data('Methylation')\n",
      "cn = cancer.load_data('CN_broad')\n",
      "cn.uncompress()\n",
      "rna = cancer.load_data('mRNASeq')\n",
      "rppa  = cancer.load_data('RPPA')\n",
      "mirna = cancer.load_data('miRNASeq')\n",
      "age = clinical.clinical.age.astype(float)"
     ],
     "language": "python",
     "metadata": {},
     "outputs": [],
     "prompt_number": 12
    },
    {
     "cell_type": "code",
     "collapsed": false,
     "input": [
      "hpv_all = pd.read_csv('/cellar/users/agross/hpv_summary_3_20_13_distribute.csv', index_col=0)\n",
      "hpv = hpv_all.Molecular_HPV.map({0:'HPV-', 1:'HPV+'})\n",
      "hpv.name = 'HPV'"
     ],
     "language": "python",
     "metadata": {},
     "outputs": [],
     "prompt_number": 14
    },
    {
     "cell_type": "code",
     "collapsed": false,
     "input": [
      "filters = pd.concat([age>85], axis=1)\n",
      "clinical_filter = filters.sum(1) == 0\n",
      "keepers = true_index(clinical_filter)"
     ],
     "language": "python",
     "metadata": {},
     "outputs": [],
     "prompt_number": 15
    },
    {
     "cell_type": "code",
     "collapsed": false,
     "input": [
      "surv = clinical.survival.survival_5y\n",
      "test = SurvivalTest(surv, None)"
     ],
     "language": "python",
     "metadata": {},
     "outputs": [],
     "prompt_number": 16
    },
    {
     "cell_type": "markdown",
     "metadata": {},
     "source": [
      "###Global variables"
     ]
    },
    {
     "cell_type": "code",
     "collapsed": true,
     "input": [
      "r = global_vars.apply(test.full_test).T.dropna()\n",
      "r.dropna()"
     ],
     "language": "python",
     "metadata": {},
     "outputs": [
      {
       "ename": "AttributeError",
       "evalue": "(\"'function' object has no attribute 'params'\", u'occurred at index (mRNASeq, pc1)')",
       "output_type": "pyerr",
       "traceback": [
        "\u001b[1;31m---------------------------------------------------------------------------\u001b[0m\n\u001b[1;31mAttributeError\u001b[0m                            Traceback (most recent call last)",
        "\u001b[1;32m<ipython-input-17-e584f4e0dbb1>\u001b[0m in \u001b[0;36m<module>\u001b[1;34m()\u001b[0m\n\u001b[1;32m----> 1\u001b[1;33m \u001b[0mr\u001b[0m \u001b[1;33m=\u001b[0m \u001b[0mglobal_vars\u001b[0m\u001b[1;33m.\u001b[0m\u001b[0mapply\u001b[0m\u001b[1;33m(\u001b[0m\u001b[0mtest\u001b[0m\u001b[1;33m.\u001b[0m\u001b[0mfull_test\u001b[0m\u001b[1;33m)\u001b[0m\u001b[1;33m.\u001b[0m\u001b[0mT\u001b[0m\u001b[1;33m.\u001b[0m\u001b[0mdropna\u001b[0m\u001b[1;33m(\u001b[0m\u001b[1;33m)\u001b[0m\u001b[1;33m\u001b[0m\u001b[0m\n\u001b[0m\u001b[0;32m      2\u001b[0m \u001b[0mr\u001b[0m\u001b[1;33m.\u001b[0m\u001b[0mdropna\u001b[0m\u001b[1;33m(\u001b[0m\u001b[1;33m)\u001b[0m\u001b[1;33m\u001b[0m\u001b[0m\n",
        "\u001b[1;32m/cellar/users/agross/semillon/anaconda2/lib/python2.7/site-packages/pandas-0.12.0.dev_-py2.7-linux-x86_64.egg/pandas/core/frame.pyc\u001b[0m in \u001b[0;36mapply\u001b[1;34m(self, func, axis, broadcast, raw, args, **kwds)\u001b[0m\n\u001b[0;32m   4383\u001b[0m                     \u001b[1;32mreturn\u001b[0m \u001b[0mself\u001b[0m\u001b[1;33m.\u001b[0m\u001b[0m_apply_raw\u001b[0m\u001b[1;33m(\u001b[0m\u001b[0mf\u001b[0m\u001b[1;33m,\u001b[0m \u001b[0maxis\u001b[0m\u001b[1;33m)\u001b[0m\u001b[1;33m\u001b[0m\u001b[0m\n\u001b[0;32m   4384\u001b[0m                 \u001b[1;32melse\u001b[0m\u001b[1;33m:\u001b[0m\u001b[1;33m\u001b[0m\u001b[0m\n\u001b[1;32m-> 4385\u001b[1;33m                     \u001b[1;32mreturn\u001b[0m \u001b[0mself\u001b[0m\u001b[1;33m.\u001b[0m\u001b[0m_apply_standard\u001b[0m\u001b[1;33m(\u001b[0m\u001b[0mf\u001b[0m\u001b[1;33m,\u001b[0m \u001b[0maxis\u001b[0m\u001b[1;33m)\u001b[0m\u001b[1;33m\u001b[0m\u001b[0m\n\u001b[0m\u001b[0;32m   4386\u001b[0m             \u001b[1;32melse\u001b[0m\u001b[1;33m:\u001b[0m\u001b[1;33m\u001b[0m\u001b[0m\n\u001b[0;32m   4387\u001b[0m                 \u001b[1;32mreturn\u001b[0m \u001b[0mself\u001b[0m\u001b[1;33m.\u001b[0m\u001b[0m_apply_broadcast\u001b[0m\u001b[1;33m(\u001b[0m\u001b[0mf\u001b[0m\u001b[1;33m,\u001b[0m \u001b[0maxis\u001b[0m\u001b[1;33m)\u001b[0m\u001b[1;33m\u001b[0m\u001b[0m\n",
        "\u001b[1;32m/cellar/users/agross/semillon/anaconda2/lib/python2.7/site-packages/pandas-0.12.0.dev_-py2.7-linux-x86_64.egg/pandas/core/frame.pyc\u001b[0m in \u001b[0;36m_apply_standard\u001b[1;34m(self, func, axis, ignore_failures)\u001b[0m\n\u001b[0;32m   4458\u001b[0m                     \u001b[1;31m# no k defined yet\u001b[0m\u001b[1;33m\u001b[0m\u001b[1;33m\u001b[0m\u001b[0m\n\u001b[0;32m   4459\u001b[0m                     \u001b[1;32mpass\u001b[0m\u001b[1;33m\u001b[0m\u001b[0m\n\u001b[1;32m-> 4460\u001b[1;33m                 \u001b[1;32mraise\u001b[0m \u001b[0me\u001b[0m\u001b[1;33m\u001b[0m\u001b[0m\n\u001b[0m\u001b[0;32m   4461\u001b[0m \u001b[1;33m\u001b[0m\u001b[0m\n\u001b[0;32m   4462\u001b[0m \u001b[1;33m\u001b[0m\u001b[0m\n",
        "\u001b[1;31mAttributeError\u001b[0m: (\"'function' object has no attribute 'params'\", u'occurred at index (mRNASeq, pc1)')"
       ]
      }
     ],
     "prompt_number": 17
    },
    {
     "cell_type": "code",
     "collapsed": false,
     "input": [
      "get_cox_ph_ms(surv, covariates=pd.concat([global_vars.cna.gene_del, global_vars.cna.lesion_amp, \n",
      "                                          global_vars.mutation.ix[:,0], global_vars.mutation.ix[:,1]], axis=1), return_val='model_desc', interactions=False);"
     ],
     "language": "python",
     "metadata": {},
     "outputs": [
      {
       "output_type": "stream",
       "stream": "stdout",
       "text": [
        "\n",
        "          coef exp(coef) se(coef)    z     p\n",
        "gene_del 0.223      1.25   0.0932 2.39 0.017\n",
        "\n",
        "Likelihood ratio test=5.67  on 1 df, p=0.0173  n= 302, number of events= 113 \n",
        "\n"
       ]
      }
     ],
     "prompt_number": 9
    },
    {
     "cell_type": "markdown",
     "metadata": {},
     "source": [
      "##Clinical variables"
     ]
    },
    {
     "cell_type": "code",
     "collapsed": false,
     "input": [
      "stage = clinical.clinical.tumorstage\n",
      "stage = stage.fillna('stage i')\n",
      "invasion = clinical.clinical.perineuralinvasionpresent.fillna('no')\n",
      "margin = clinical.clinical.marginstatus.fillna('negative').replace(['close', 'positive'], 'yes')\n",
      "hpv_filled = hpv.ix[age.index].fillna('HPV-')"
     ],
     "language": "python",
     "metadata": {},
     "outputs": [],
     "prompt_number": 18
    },
    {
     "cell_type": "code",
     "collapsed": false,
     "input": [
      "get_cox_ph_ms(surv, covariates=pd.concat([invasion, age, stage, hpv_filled, margin], axis=1), return_val='model_desc', interactions=False);"
     ],
     "language": "python",
     "metadata": {},
     "outputs": [
      {
       "output_type": "stream",
       "stream": "stdout",
       "text": [
        "\n",
        "                               coef exp(coef) se(coef)     z      p\n",
        "perineuralinvasionpresentyes  0.358     1.431    0.190  1.89 0.0590\n",
        "HPVHPV+                      -0.860     0.423    0.375 -2.30 0.0220\n",
        "marginstatusyes               0.674     1.962    0.224  3.01 0.0026\n",
        "\n",
        "Likelihood ratio test=19  on 3 df, p=0.000268  n= 326, number of events= 118 \n",
        "\n"
       ]
      }
     ],
     "prompt_number": 19
    },
    {
     "cell_type": "markdown",
     "metadata": {},
     "source": [
      "##Genomic Subtypes"
     ]
    },
    {
     "cell_type": "code",
     "collapsed": false,
     "input": [
      "p53_mut = 1.*(mut.df.ix['TP53', keepers].dropna() > 0)\n",
      "p53_mut.name = 'p53_mut'\n",
      "del_3p = cn.df.ix['Deletion'].ix['3p14.2', keepers].ix[0].dropna()\n",
      "del_3p.name = 'del_3p'\n",
      "\n",
      "combo = combine(p53_mut==1, del_3p==-1)\n",
      "two_hit = 1.*(combo == 'both')\n",
      "two_hit.name = 'two_hit'\n",
      "p53_mut = p53_mut.ix[two_hit.index]\n",
      "del_3p = del_3p.ix[two_hit.index]\n",
      "\n",
      "subtype = combine(two_hit, mut.features.ix['REACTOME_SHC_MEDIATED_SIGNALLING']).dropna() == 'REACTOME_SHC_MEDIATED_SIGNALLING'\n",
      "#subtype = combine(two_hit, mut.df.ix['HRAS']>0).dropna() == 'HRAS'\n",
      "df = pd.concat([3.*(combine(subtype, two_hit==0)=='both'), 4.*(combine(mut.features.ix['MUC5B']==1, two_hit==1)=='both'), (two_hit + 1)], axis=1)\n",
      "subtypes = df.max(1)\n",
      "subtypes.name = 'subtypes'"
     ],
     "language": "python",
     "metadata": {},
     "outputs": [],
     "prompt_number": 20
    },
    {
     "cell_type": "code",
     "collapsed": false,
     "input": [
      "att = ['COL5A2','COL1A2','SPARC','CTSK','FBN1','VCAN','AEBP1','SERPINF1', 'CDH11', 'COL5A1','MMP2','FAP','DCN','THBS2','POSTN','ADAM12','PCOLCE','LUM','COL3A1','FSTL1']"
     ],
     "language": "python",
     "metadata": {},
     "outputs": [],
     "prompt_number": 95
    },
    {
     "cell_type": "code",
     "collapsed": false,
     "input": [
      "att = ['CENPA',\n",
      " 'DLGAP5',\n",
      " 'KIF2C',\n",
      " 'CCNB2',\n",
      " 'MELK',\n",
      " 'CCNA2',\n",
      " 'KIF20A',\n",
      " 'HJURP',\n",
      " 'NUSAP1',\n",
      " 'BUB1',\n",
      " 'TTK',\n",
      " 'KIF11',\n",
      " 'NCAPH',\n",
      " 'CEP55',\n",
      " 'KIF4A',\n",
      " 'CDC20',\n",
      " 'RACGAP1',\n",
      " 'NEK2',\n",
      " 'CDK1',\n",
      " 'DEPDC1']"
     ],
     "language": "python",
     "metadata": {},
     "outputs": [],
     "prompt_number": 67
    },
    {
     "cell_type": "code",
     "collapsed": false,
     "input": [
      "s = 'CD53:6\tPTPRC:5\tLCP2:5\tSASH3:5\tCD48:4\tDOCK2:4\tIL10RA:4\tGIMAP4:4\tLAPTM5:4\tFCER1G:4\tTFEC:4\tCYBB:4\tC3AR1:4\tHCK:4\tSLA:4\tSAMSN1:4\tEVI2B:3\tGMFG:3\tCD2:3\tARHGAP15:3'\n",
      "att = map(lambda a: a.split(':')[0], s.split())"
     ],
     "language": "python",
     "metadata": {},
     "outputs": [],
     "prompt_number": 78
    },
    {
     "cell_type": "code",
     "collapsed": false,
     "input": [
      "frame_svd(rna.df.ix[att].xs('01', axis=1, level=1))[0][0].order().plot(kind='bar')"
     ],
     "language": "python",
     "metadata": {},
     "outputs": [
      {
       "output_type": "pyout",
       "prompt_number": 79,
       "text": [
        "<matplotlib.axes.AxesSubplot at 0x58e5d90>"
       ]
      },
      {
       "output_type": "display_data",
       "png": "[encoded data removed]"
      }
     ],
     "prompt_number": 79
    },
    {
     "cell_type": "code",
     "collapsed": false,
     "input": [
      "f = frame_svd(rna.df.ix[att].xs('01', axis=1, level=1))[2][1]"
     ],
     "language": "python",
     "metadata": {},
     "outputs": [],
     "prompt_number": 97
    },
    {
     "cell_type": "code",
     "collapsed": false,
     "input": [
      "screen_feature(f, spearman_pandas, rna.features).head()"
     ],
     "language": "python",
     "metadata": {},
     "outputs": [
      {
       "html": [
        "<div style=\"max-height:1000px;max-width:1500px;overflow:auto;\">\n",
        "<table border=\"1\" class=\"dataframe\">\n",
        "  <thead>\n",
        "    <tr style=\"text-align: right;\">\n",
        "      <th></th>\n",
        "      <th>rho</th>\n",
        "      <th>p</th>\n",
        "      <th>q</th>\n",
        "    </tr>\n",
        "  </thead>\n",
        "  <tbody>\n",
        "    <tr>\n",
        "      <th>KEGG_ECM_RECEPTOR_INTERACTION</th>\n",
        "      <td> 0.70</td>\n",
        "      <td> 7.92e-47</td>\n",
        "      <td> 6.59e-44</td>\n",
        "    </tr>\n",
        "    <tr>\n",
        "      <th>REACTOME_NCAM1_INTERACTIONS</th>\n",
        "      <td> 0.67</td>\n",
        "      <td> 1.21e-40</td>\n",
        "      <td> 5.05e-38</td>\n",
        "    </tr>\n",
        "    <tr>\n",
        "      <th>KEGG_GLYCOSAMINOGLYCAN_BIOSYNTHESIS_CHONDROITIN_SULFATE</th>\n",
        "      <td> 0.66</td>\n",
        "      <td> 9.27e-40</td>\n",
        "      <td> 2.57e-37</td>\n",
        "    </tr>\n",
        "    <tr>\n",
        "      <th>KEGG_FOCAL_ADHESION</th>\n",
        "      <td> 0.66</td>\n",
        "      <td> 2.36e-39</td>\n",
        "      <td> 4.19e-37</td>\n",
        "    </tr>\n",
        "    <tr>\n",
        "      <th>REACTOME_NCAM_SIGNALING_FOR_NEURITE_OUT_GROWTH</th>\n",
        "      <td> 0.66</td>\n",
        "      <td> 2.52e-39</td>\n",
        "      <td> 4.19e-37</td>\n",
        "    </tr>\n",
        "  </tbody>\n",
        "</table>\n",
        "</div>"
       ],
       "output_type": "pyout",
       "prompt_number": 98,
       "text": [
        "                                                          rho         p         q\n",
        "KEGG_ECM_RECEPTOR_INTERACTION                            0.70  7.92e-47  6.59e-44\n",
        "REACTOME_NCAM1_INTERACTIONS                              0.67  1.21e-40  5.05e-38\n",
        "KEGG_GLYCOSAMINOGLYCAN_BIOSYNTHESIS_CHONDROITIN_SULFATE  0.66  9.27e-40  2.57e-37\n",
        "KEGG_FOCAL_ADHESION                                      0.66  2.36e-39  4.19e-37\n",
        "REACTOME_NCAM_SIGNALING_FOR_NEURITE_OUT_GROWTH           0.66  2.52e-39  4.19e-37"
       ]
      }
     ],
     "prompt_number": 98
    },
    {
     "cell_type": "code",
     "collapsed": false,
     "input": [
      "cox(frame_svd(rna.df.ix[att].xs('01', axis=1, level=1))[2][1], surv)"
     ],
     "language": "python",
     "metadata": {},
     "outputs": [
      {
       "output_type": "pyout",
       "prompt_number": 99,
       "text": [
        "LR    4.25\n",
        "p     0.04\n",
        "dtype: float64"
       ]
      }
     ],
     "prompt_number": 99
    },
    {
     "cell_type": "code",
     "collapsed": false,
     "input": [
      "draw_survival_curves(f, surv, show=True, std=1)"
     ],
     "language": "python",
     "metadata": {},
     "outputs": [
      {
       "html": [
        "<img src='data:image/png;base64,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'>"
       ],
       "output_type": "pyout",
       "prompt_number": 100,
       "text": [
        "<Reports.NotebookTools.Show at 0x4186f10>"
       ]
      }
     ],
     "prompt_number": 100
    },
    {
     "cell_type": "code",
     "collapsed": false,
     "input": [
      "subtypes"
     ],
     "language": "python",
     "metadata": {},
     "outputs": [
      {
       "output_type": "pyout",
       "prompt_number": 21,
       "text": [
        "TCGA-BA-4074    4\n",
        "TCGA-BA-4075    2\n",
        "TCGA-BA-4076    2\n",
        "TCGA-BA-4077    1\n",
        "TCGA-BA-4078    2\n",
        "TCGA-BA-5149    1\n",
        "TCGA-BA-5151    3\n",
        "TCGA-BA-5152    3\n",
        "TCGA-BA-5153    1\n",
        "TCGA-BA-5555    2\n",
        "TCGA-BA-5556    3\n",
        "TCGA-BA-5557    2\n",
        "TCGA-BA-5558    2\n",
        "TCGA-BA-5559    1\n",
        "TCGA-BA-6868    2\n",
        "...\n",
        "TCGA-DQ-7592    2\n",
        "TCGA-DQ-7594    1\n",
        "TCGA-DQ-7595    2\n",
        "TCGA-F7-7848    2\n",
        "TCGA-H7-7774    1\n",
        "TCGA-HD-7229    2\n",
        "TCGA-HD-7753    2\n",
        "TCGA-HD-7754    1\n",
        "TCGA-HD-7831    2\n",
        "TCGA-HD-7832    1\n",
        "TCGA-HD-7917    2\n",
        "TCGA-HL-7533    1\n",
        "TCGA-IQ-7630    2\n",
        "TCGA-IQ-7631    3\n",
        "TCGA-IQ-7632    1\n",
        "Name: subtypes, Length: 296, dtype: float64"
       ]
      }
     ],
     "prompt_number": 21
    },
    {
     "cell_type": "markdown",
     "metadata": {},
     "source": [
      "###TP53 Mutation"
     ]
    },
    {
     "cell_type": "code",
     "collapsed": false,
     "input": [
      "get_cox_ph_ms(surv, covariates=pd.concat([p53_mut, invasion, age, stage, hpv_filled, margin], axis=1), return_val='model_desc', interactions=False);"
     ],
     "language": "python",
     "metadata": {},
     "outputs": [
      {
       "output_type": "stream",
       "stream": "stdout",
       "text": [
        "\n",
        "                 coef exp(coef) se(coef)    z       p\n",
        "p53_mut         0.558      1.75    0.125 4.47 7.8e-06\n",
        "marginstatusyes 0.507      1.66    0.236 2.15 3.1e-02\n",
        "\n",
        "Likelihood ratio test=30.6  on 2 df, p=2.28e-07  n= 296, number of events= 107 \n",
        "\n"
       ]
      }
     ],
     "prompt_number": 178
    },
    {
     "cell_type": "markdown",
     "metadata": {},
     "source": [
      "###TP53 Mutation + 3p Deletion"
     ]
    },
    {
     "cell_type": "code",
     "collapsed": false,
     "input": [
      "get_cox_ph_ms(surv, covariates=pd.concat([p53_mut, del_3p, invasion, age, stage, hpv_filled, margin], axis=1), return_val='model_desc', interactions=False);"
     ],
     "language": "python",
     "metadata": {},
     "outputs": [
      {
       "output_type": "stream",
       "stream": "stdout",
       "text": [
        "\n",
        "                  coef exp(coef) se(coef)     z      p\n",
        "p53_mut          0.418     1.519    0.130  3.21 0.0013\n",
        "del_3p          -0.413     0.662    0.147 -2.82 0.0049\n",
        "marginstatusyes  0.543     1.722    0.236  2.30 0.0210\n",
        "\n",
        "Likelihood ratio test=40.5  on 3 df, p=8.5e-09  n= 296, number of events= 107 \n",
        "\n"
       ]
      }
     ],
     "prompt_number": 179
    },
    {
     "cell_type": "markdown",
     "metadata": {},
     "source": [
      "###TP53 Mutation AND 3p Deletion"
     ]
    },
    {
     "cell_type": "code",
     "collapsed": false,
     "input": [
      "get_cox_ph_ms(surv, covariates=pd.concat([two_hit, invasion, age, stage, hpv_filled, margin], axis=1), return_val='model_desc', interactions=False);"
     ],
     "language": "python",
     "metadata": {},
     "outputs": [
      {
       "output_type": "stream",
       "stream": "stdout",
       "text": [
        "\n",
        "                 coef exp(coef) se(coef)    z       p\n",
        "two_hit         0.638      1.89    0.121 5.28 1.3e-07\n",
        "marginstatusyes 0.547      1.73    0.236 2.32 2.0e-02\n",
        "\n",
        "Likelihood ratio test=39.8  on 2 df, p=2.32e-09  n= 296, number of events= 107 \n",
        "\n"
       ]
      }
     ],
     "prompt_number": 15
    },
    {
     "cell_type": "markdown",
     "metadata": {},
     "source": [
      "###All Genomic Subtypes"
     ]
    },
    {
     "cell_type": "code",
     "collapsed": false,
     "input": [
      "get_cox_ph_ms(surv, covariates=pd.concat([subtypes.astype(str), invasion, age, stage, hpv_filled, margin], axis=1), return_val='model_desc', interactions=False);"
     ],
     "language": "python",
     "metadata": {},
     "outputs": [
      {
       "output_type": "stream",
       "stream": "stdout",
       "text": [
        "\n",
        "                                coef exp(coef) se(coef)       z       p\n",
        "subtypes2.0                    1.050  2.86e+00    0.257  4.0943 4.2e-05\n",
        "subtypes3.0                  -16.833  4.89e-08 3007.316 -0.0056 1.0e+00\n",
        "subtypes4.0                    2.396  1.10e+01    0.376  6.3763 1.8e-10\n",
        "perineuralinvasionpresentyes   0.318  1.37e+00    0.201  1.5872 1.1e-01\n",
        "marginstatusyes                0.420  1.52e+00    0.241  1.7429 8.1e-02\n",
        "\n",
        "Likelihood ratio test=59.3  on 5 df, p=1.68e-11  n= 296, number of events= 107 \n",
        "\n"
       ]
      }
     ],
     "prompt_number": 182
    },
    {
     "cell_type": "markdown",
     "metadata": {},
     "source": [
      "##MicroRNA Signature"
     ]
    },
    {
     "cell_type": "code",
     "collapsed": false,
     "input": [
      "df = mirna.real.ix[['hsa-mir-337', 'hsa-mir-493', 'hsa-mir-377', 'hsa-mir-654']].T\n",
      "U,S,vH = frame_svd((df- df.mean())/ df.std())\n",
      "U[0] = -U[0]\n",
      "vH[0] = -vH[0]\n",
      "mir = U[0]\n",
      "mirna_vec = vH[0]\n",
      "mir.name = 'microRNA'"
     ],
     "language": "python",
     "metadata": {},
     "outputs": [],
     "prompt_number": 17
    },
    {
     "cell_type": "code",
     "collapsed": false,
     "input": [
      "get_cox_ph_ms(surv, covariates=pd.concat([mir], axis=1), return_val='model_desc', interactions=False);"
     ],
     "language": "python",
     "metadata": {},
     "outputs": [
      {
       "output_type": "stream",
       "stream": "stdout",
       "text": [
        "\n",
        "          coef exp(coef) se(coef)    z       p\n",
        "microRNA 0.607      1.83    0.112 5.44 5.5e-08\n",
        "\n",
        "Likelihood ratio test=32.7  on 1 df, p=1.07e-08  n= 324, number of events= 117 \n",
        "\n"
       ]
      }
     ],
     "prompt_number": 18
    },
    {
     "cell_type": "code",
     "collapsed": false,
     "input": [
      "get_cox_ph_ms(surv, covariates=pd.concat([mir, invasion, age, stage, hpv_filled, margin], axis=1), return_val='model_desc', interactions=False);"
     ],
     "language": "python",
     "metadata": {},
     "outputs": [
      {
       "output_type": "stream",
       "stream": "stdout",
       "text": [
        "\n",
        "                 coef exp(coef) se(coef)    z       p\n",
        "microRNA        0.588      1.80   0.1127 5.22 1.8e-07\n",
        "age             0.184      1.20   0.0972 1.89 5.9e-02\n",
        "marginstatusyes 0.348      1.42   0.2280 1.53 1.3e-01\n",
        "\n",
        "Likelihood ratio test=39.1  on 3 df, p=1.69e-08  n= 324, number of events= 117 \n",
        "\n"
       ]
      }
     ],
     "prompt_number": 19
    },
    {
     "cell_type": "code",
     "collapsed": false,
     "input": [
      "get_cox_ph_ms(surv, covariates=pd.concat([mir, two_hit, invasion, age, stage, hpv_filled, margin], axis=1), return_val='model_desc', interactions=False);"
     ],
     "language": "python",
     "metadata": {},
     "outputs": [
      {
       "output_type": "stream",
       "stream": "stdout",
       "text": [
        "\n",
        "          coef exp(coef) se(coef)    z       p\n",
        "microRNA 0.459      1.58    0.119 3.84 1.2e-04\n",
        "two_hit  0.520      1.68    0.124 4.19 2.8e-05\n",
        "\n",
        "Likelihood ratio test=50.1  on 2 df, p=1.34e-11  n= 295, number of events= 106 \n",
        "\n"
       ]
      }
     ],
     "prompt_number": 20
    },
    {
     "cell_type": "code",
     "collapsed": false,
     "input": [
      "get_cox_ph_ms(surv, covariates=pd.concat([mir, subtypes.astype(str), invasion, age, stage, hpv_filled, margin], axis=1), return_val='model_desc', interactions=False);"
     ],
     "language": "python",
     "metadata": {},
     "outputs": [
      {
       "output_type": "stream",
       "stream": "stdout",
       "text": [
        "\n",
        "               coef exp(coef) se(coef)        z       p\n",
        "microRNA      0.432  1.54e+00    0.118  3.67014 2.4e-04\n",
        "subtypes2.0   0.896  2.45e+00    0.259  3.46500 5.3e-04\n",
        "subtypes3.0 -16.618  6.07e-08 3025.724 -0.00549 1.0e+00\n",
        "subtypes4.0   2.299  9.97e+00    0.377  6.10252 1.0e-09\n",
        "\n",
        "Likelihood ratio test=68.5  on 4 df, p=4.75e-14  n= 295, number of events= 106 \n",
        "\n"
       ]
      }
     ],
     "prompt_number": 184
    },
    {
     "cell_type": "markdown",
     "metadata": {},
     "source": [
      "###Just mir-337"
     ]
    },
    {
     "cell_type": "code",
     "collapsed": false,
     "input": [
      "f = mirna.real.ix['hsa-mir-337']\n",
      "f.name = 'mir_337'\n",
      "get_cox_ph_ms(surv, covariates=pd.concat([subtypes.astype(str), f, invasion, age, stage, hpv_filled, margin], axis=1), return_val='model_desc', interactions=False);"
     ],
     "language": "python",
     "metadata": {},
     "outputs": [
      {
       "output_type": "stream",
       "stream": "stdout",
       "text": [
        "\n",
        "               coef exp(coef) se(coef)        z       p\n",
        "subtypes2.0   0.915  2.50e+00    0.258  3.54297 4.0e-04\n",
        "subtypes3.0 -16.571  6.36e-08 3018.221 -0.00549 1.0e+00\n",
        "subtypes4.0   2.344  1.04e+01    0.375  6.24468 4.2e-10\n",
        "mir_337       0.432  1.54e+00    0.122  3.54111 4.0e-04\n",
        "\n",
        "Likelihood ratio test=67.3  on 4 df, p=8.3e-14  n= 295, number of events= 106 \n",
        "\n"
       ]
      }
     ],
     "prompt_number": 185
    },
    {
     "cell_type": "markdown",
     "metadata": {},
     "source": [
      "##Nitric Oxide Metabolism \n",
      "* Loose 6 patients due to data-mismatch"
     ]
    },
    {
     "cell_type": "code",
     "collapsed": false,
     "input": [
      "no2 = rna.features.ix['REACTOME_METABOLISM_OF_NITRIC_OXIDE']"
     ],
     "language": "python",
     "metadata": {},
     "outputs": [],
     "prompt_number": 23
    },
    {
     "cell_type": "code",
     "collapsed": false,
     "input": [
      "get_cox_ph_ms(surv, covariates=pd.concat([no2], axis=1), return_val='model_desc', interactions=False);"
     ],
     "language": "python",
     "metadata": {},
     "outputs": [
      {
       "output_type": "stream",
       "stream": "stdout",
       "text": [
        "\n",
        "                                     coef exp(coef) se(coef)    z     p\n",
        "REACTOME_METABOLISM_OF_NITRIC_OXIDE 0.397      1.49    0.085 4.67 3e-06\n",
        "\n",
        "Likelihood ratio test=20.3  on 1 df, p=6.52e-06  n= 302, number of events= 114 \n",
        "\n"
       ]
      }
     ],
     "prompt_number": 24
    },
    {
     "cell_type": "code",
     "collapsed": false,
     "input": [
      "get_cox_ph_ms(surv, covariates=pd.concat([no2, invasion, age, stage, hpv_filled, margin], axis=1), return_val='model_desc', interactions=False);"
     ],
     "language": "python",
     "metadata": {},
     "outputs": [
      {
       "output_type": "stream",
       "stream": "stdout",
       "text": [
        "\n",
        "                                     coef exp(coef) se(coef)    z       p\n",
        "REACTOME_METABOLISM_OF_NITRIC_OXIDE 0.384      1.47   0.0863 4.45 8.7e-06\n",
        "perineuralinvasionpresentyes        0.337      1.40   0.1920 1.75 8.0e-02\n",
        "age                                 0.204      1.23   0.0977 2.09 3.6e-02\n",
        "marginstatusyes                     0.617      1.85   0.2287 2.70 7.0e-03\n",
        "\n",
        "Likelihood ratio test=34.2  on 4 df, p=6.76e-07  n= 302, number of events= 114 \n",
        "\n"
       ]
      }
     ],
     "prompt_number": 25
    },
    {
     "cell_type": "code",
     "collapsed": false,
     "input": [
      "get_cox_ph_ms(surv, covariates=pd.concat([subtypes.astype(str), no2], axis=1), return_val='model_desc', interactions=True);"
     ],
     "language": "python",
     "metadata": {},
     "outputs": [
      {
       "output_type": "stream",
       "stream": "stdout",
       "text": [
        "\n",
        "                                      coef exp(coef) se(coef)     z       p\n",
        "subtypes2.0                          0.887      2.43   0.2689  3.30 9.7e-04\n",
        "subtypes3.0                         -1.663      0.19   1.0279 -1.62 1.1e-01\n",
        "subtypes4.0                          2.192      8.95   0.3930  5.58 2.4e-08\n",
        "REACTOME_METABOLISM_OF_NITRIC_OXIDE  0.195      1.22   0.0903  2.16 3.1e-02\n",
        "\n",
        "Likelihood ratio test=58  on 4 df, p=7.66e-12  n= 289, number of events= 106 \n",
        "\n"
       ]
      }
     ],
     "prompt_number": 26
    },
    {
     "cell_type": "code",
     "collapsed": false,
     "input": [
      "get_cox_ph_ms(surv, covariates=pd.concat([no2, subtypes.astype(str), invasion, age, stage, hpv_filled, margin], axis=1), return_val='model_desc', interactions=False);"
     ],
     "language": "python",
     "metadata": {},
     "outputs": [
      {
       "output_type": "stream",
       "stream": "stdout",
       "text": [
        "\n",
        "                                      coef exp(coef) se(coef)     z       p\n",
        "REACTOME_METABOLISM_OF_NITRIC_OXIDE  0.204     1.226   0.0899  2.27 2.3e-02\n",
        "subtypes2.0                          0.871     2.388   0.2686  3.24 1.2e-03\n",
        "subtypes3.0                         -1.698     0.183   1.0282 -1.65 9.9e-02\n",
        "subtypes4.0                          2.182     8.868   0.3936  5.54 2.9e-08\n",
        "age                                  0.158     1.171   0.1056  1.50 1.3e-01\n",
        "\n",
        "Likelihood ratio test=60.3  on 5 df, p=1.06e-11  n= 289, number of events= 106 \n",
        "\n"
       ]
      }
     ],
     "prompt_number": 27
    },
    {
     "cell_type": "markdown",
     "metadata": {},
     "source": [
      "###EMT Signature"
     ]
    },
    {
     "cell_type": "code",
     "collapsed": false,
     "input": [
      "df.mean()"
     ],
     "language": "python",
     "metadata": {},
     "outputs": [
      {
       "output_type": "pyout",
       "prompt_number": 249,
       "text": [
        "microRNA                              -8.73e-17\n",
        "REACTOME_METABOLISM_OF_NITRIC_OXIDE   -1.98e-18\n",
        "dtype: float64"
       ]
      }
     ],
     "prompt_number": 249
    },
    {
     "cell_type": "code",
     "collapsed": false,
     "input": [
      "df = pd.concat([mir, no2], axis=1)\n",
      "mm = frame_svd((df- df.mean())/ df.std())\n",
      "#mm = frame_svd(df)\n",
      "emt = mm[0][0]\n",
      "emt.name = 'EMT'\n",
      "emt_loadings = mm[2][0]"
     ],
     "language": "python",
     "metadata": {},
     "outputs": [],
     "prompt_number": 262
    },
    {
     "cell_type": "code",
     "collapsed": false,
     "input": [
      "get_cox_ph_ms(surv, covariates=pd.concat([mir, no2], axis=1), return_val='model_desc', interactions=True);"
     ],
     "language": "python",
     "metadata": {},
     "outputs": [
      {
       "output_type": "stream",
       "stream": "stdout",
       "text": [
        "\n",
        "                                     coef exp(coef) se(coef)    z       p\n",
        "microRNA                            0.511      1.67   0.1152 4.44 9.1e-06\n",
        "REACTOME_METABOLISM_OF_NITRIC_OXIDE 0.306      1.36   0.0931 3.28 1.0e-03\n",
        "\n",
        "Likelihood ratio test=40  on 2 df, p=2.12e-09  n= 300, number of events= 113 \n",
        "\n"
       ]
      }
     ],
     "prompt_number": 263
    },
    {
     "cell_type": "code",
     "collapsed": false,
     "input": [
      "get_cox_ph_ms(surv, covariates=pd.concat([emt], axis=1), return_val='model_desc', interactions=False);"
     ],
     "language": "python",
     "metadata": {},
     "outputs": [
      {
       "output_type": "stream",
       "stream": "stdout",
       "text": [
        "\n",
        "      coef exp(coef) se(coef)     z       p\n",
        "EMT -0.646     0.524      0.1 -6.43 1.3e-10\n",
        "\n",
        "Likelihood ratio test=44.5  on 1 df, p=2.53e-11  n= 326, number of events= 118 \n",
        "\n"
       ]
      }
     ],
     "prompt_number": 264
    },
    {
     "cell_type": "code",
     "collapsed": false,
     "input": [
      "get_cox_ph_ms(surv, covariates=pd.concat([mir, no2, invasion, age, stage, hpv_filled, margin], axis=1), return_val='model_desc', interactions=False);"
     ],
     "language": "python",
     "metadata": {},
     "outputs": [
      {
       "output_type": "stream",
       "stream": "stdout",
       "text": [
        "\n",
        "                                     coef exp(coef) se(coef)    z       p\n",
        "microRNA                            0.483      1.62   0.1167 4.14 3.5e-05\n",
        "REACTOME_METABOLISM_OF_NITRIC_OXIDE 0.309      1.36   0.0921 3.36 7.9e-04\n",
        "age                                 0.214      1.24   0.0977 2.19 2.9e-02\n",
        "marginstatusyes                     0.375      1.46   0.2334 1.61 1.1e-01\n",
        "\n",
        "Likelihood ratio test=47.8  on 4 df, p=1.03e-09  n= 300, number of events= 113 \n",
        "\n"
       ]
      }
     ],
     "prompt_number": 288
    },
    {
     "cell_type": "code",
     "collapsed": false,
     "input": [
      "get_cox_ph_ms(surv, covariates=pd.concat([subtypes.astype(str), emt], axis=1), return_val='model_desc', interactions=False);"
     ],
     "language": "python",
     "metadata": {},
     "outputs": [
      {
       "output_type": "stream",
       "stream": "stdout",
       "text": [
        "\n",
        "              coef exp(coef) se(coef)     z       p\n",
        "subtypes2.0  0.763     2.144    0.265  2.88 4.0e-03\n",
        "subtypes3.0 -1.508     0.221    1.028 -1.47 1.4e-01\n",
        "subtypes4.0  2.040     7.688    0.390  5.24 1.6e-07\n",
        "EMT         -0.416     0.659    0.104 -3.99 6.7e-05\n",
        "\n",
        "Likelihood ratio test=71  on 4 df, p=1.4e-14  n= 296, number of events= 107 \n",
        "\n"
       ]
      }
     ],
     "prompt_number": 292
    },
    {
     "cell_type": "code",
     "collapsed": false,
     "input": [
      "get_cox_ph_ms(surv, covariates=pd.concat([subtypes.astype(str), mir, no2, invasion, age, stage, hpv_filled, margin], axis=1), return_val='model_desc', interactions=False);"
     ],
     "language": "python",
     "metadata": {},
     "outputs": [
      {
       "output_type": "stream",
       "stream": "stdout",
       "text": [
        "\n",
        "              coef exp(coef) se(coef)     z       p\n",
        "subtypes2.0  0.796     2.217    0.269  2.96 3.1e-03\n",
        "subtypes3.0 -1.577     0.207    1.028 -1.53 1.3e-01\n",
        "subtypes4.0  2.189     8.926    0.384  5.70 1.2e-08\n",
        "microRNA     0.431     1.538    0.118  3.64 2.7e-04\n",
        "\n",
        "Likelihood ratio test=67.2  on 4 df, p=8.67e-14  n= 288, number of events= 105 \n",
        "\n"
       ]
      }
     ],
     "prompt_number": 293
    },
    {
     "cell_type": "markdown",
     "metadata": {},
     "source": [
      "##Final Model"
     ]
    },
    {
     "cell_type": "code",
     "collapsed": false,
     "input": [
      "violin_plot_pandas(hpv_filled, emt)"
     ],
     "language": "python",
     "metadata": {},
     "outputs": [
      {
       "output_type": "display_data",
       "png": "[encoded data removed]"
      }
     ],
     "prompt_number": 295
    },
    {
     "cell_type": "code",
     "collapsed": false,
     "input": [
      "get_cox_ph_ms(surv, covariates=pd.concat([subtypes.astype(str), emt, invasion, age, stage, hpv_filled, margin], axis=1), return_val='model_desc', interactions=False);"
     ],
     "language": "python",
     "metadata": {},
     "outputs": [
      {
       "output_type": "stream",
       "stream": "stdout",
       "text": [
        "\n",
        "              coef exp(coef) se(coef)     z       p\n",
        "subtypes2.0  0.763     2.144    0.265  2.88 4.0e-03\n",
        "subtypes3.0 -1.508     0.221    1.028 -1.47 1.4e-01\n",
        "subtypes4.0  2.040     7.688    0.390  5.24 1.6e-07\n",
        "EMT         -0.416     0.659    0.104 -3.99 6.7e-05\n",
        "\n",
        "Likelihood ratio test=71  on 4 df, p=1.4e-14  n= 296, number of events= 107 \n",
        "\n"
       ]
      }
     ],
     "prompt_number": 298
    },
    {
     "cell_type": "code",
     "collapsed": false,
     "input": [
      "draw_survival_curves(emt, clinical.survival.survival_5y, subtypes.astype(str), show=True)"
     ],
     "language": "python",
     "metadata": {},
     "outputs": [
      {
       "html": [
        "<img src='data:image/png;base64,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'>"
       ],
       "output_type": "pyout",
       "prompt_number": 281,
       "text": [
        "<Reports.Figures.Show at 0xd52cf10>"
       ]
      }
     ],
     "prompt_number": 281
    },
    {
     "cell_type": "code",
     "collapsed": false,
     "input": [
      "violin_plot_pandas(combine(hpv_filled=='HPV+', two_hit==1), emt)"
     ],
     "language": "python",
     "metadata": {},
     "outputs": [
      {
       "output_type": "display_data",
       "png": "[encoded data removed]"
      }
     ],
     "prompt_number": 284
    },
    {
     "cell_type": "code",
     "collapsed": false,
     "input": [
      "get_cox_ph_ms(surv, covariates=pd.concat([emt.ix[true_index(subtypes.isin([1,3]))], hpv_filled], axis=1), return_val='model_desc', interactions=False);"
     ],
     "language": "python",
     "metadata": {},
     "outputs": [
      {
       "output_type": "stream",
       "stream": "stdout",
       "text": [
        "\n",
        "          coef exp(coef) se(coef)     z       p\n",
        "EMT     -0.985     0.373    0.277 -3.56 0.00037\n",
        "HPVHPV+  1.158     3.183    0.527  2.20 0.02800\n",
        "\n",
        "Likelihood ratio test=13.4  on 2 df, p=0.0012  n= 111, number of events= 20 \n",
        "\n"
       ]
      }
     ],
     "prompt_number": 306
    },
    {
     "cell_type": "code",
     "collapsed": false,
     "input": [
      "draw_survival_curves(to_quants(emt.ix[true_index(subtypes==1)], q=.5), clinical.survival.survival_5y, hpv, show=True)"
     ],
     "language": "python",
     "metadata": {},
     "outputs": [
      {
       "html": [
        "<img src='data:image/png;base64,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'>"
       ],
       "output_type": "pyout",
       "prompt_number": 305,
       "text": [
        "<Reports.Figures.Show at 0xd53f1d0>"
       ]
      }
     ],
     "prompt_number": 305
    },
    {
     "cell_type": "code",
     "collapsed": false,
     "input": [
      "draw_survival_curves(to_quants(emt, std=.5), clinical.survival.survival_5y, subtypes.astype(str), show=True)"
     ],
     "language": "python",
     "metadata": {},
     "outputs": [
      {
       "html": [
        "<img src='data:image/png;base64,iVBORw0KGgoAAAANSUhEUgAAA+gAAAEsCAIAAADfJw44AAAACXBIWXMAAAuIAAALiAHljilJAAAgAElEQVR4nOzdeXwNVxsH8N/NHhJZRQStoCmxE1tRe0pKq0RUSWupWl5V1FpFtRRdNCUiWlvRaEXUmiJCYotUFFGEEHssiUQSkT33/eNe2Zeb3Dt37vL7fvJ5zZw5c84Tfd54MnfmjEQqlYKIiIiIiDSbgdgBEBERERFR5Vi4ExERERFpARbuRERERERagIU7EREREZEWYOFORERERKQFWLgTEREREWkBFu5ERERERFqAhTsRERERkRZg4U5EREREpAVYuBMRERERaQEW7kREREREWoCFOxERERGRFmDhTkRERESkBVi4ExERERFpARbuRERERERagIW7+vj6+pqZmRVtefLkyVdffRUfH6/+YHbt2tWzZ88SjXl5edOnT7e1te3cuXNcXJz6oyKdoSHZnpmZOWLECEtLy+bNm4eHhxc9xGwnVdGQbH/69Om7775rYWHRrFkzZjsJREOyXWbFihUSicTHx6doo85nOwt3MT158mTx4sXqT/cHDx589dVXpdv/+uuvNWvW/Pzzz6amph9//LGaoyLdJkq2b968OSgoyMfHp27duh988IFUKi04xGwn4YiS7atWrTp79uy2bdssLS1nzJhR9BCznYQjViWTkpLi6+trZGRUol3ns52Fu2okJye/9dZbNWrUaNKkSXBwMIr8VpqZmSmRSLZt2wYgPz//ww8/tLa2/uSTT3JycgYPHgygc+fOffr06dGjB4BTp05JJJIrV674+vqamJiMHj3a2tp63Lhx2dnZGRkZsnPfeOONM2fOlDlpgczMzGdF5OTkFBzas2dP/fr1L126VPq7CAkJad68ube3t5eXV3h4eHZ2toB/ZaS1tCjb7927179//3Hjxo0ZMyY+Pj41NbXgELOdFKFF2d6nT5/NmzcPGDDA0dHRwcGh6FnMdlKEFmU7gJ9++snb29vU1LTEd6Hz2c7CXTXWr19/4sSJv/76y83N7ZNPPimvW05OjkQiWbRo0a+//rpt27agoCAAJ0+e9PLyOnXqVEpKSkhISLNmzVxdXWWdbW1t16xZs3Hjxt9//93X1/fYsWM7d+5s3Ljxe++9l5OTU8Gky5cvtyni0KFDBYfeeuuthw8fDhkypHR4CQkJderUAVC3bt38/Pxnz56p6u+HdIkWZfvSpUv37t0rlUqDg4Nfe+01KyurgkPMdlKEFmX7m2++6e7u7ubmtm/fvnnz5hU9i9lOitCibH/69OnmzZtnzZpVOjydz3YW7qrRtGnTjIyMuXPnurq6yn6JLM+yZcumT5/evHnzY8eOGRoaAjAyMhoyZIhUKg0JCQkJCfH09CzoPHfu3JEjR7Zo0eL48eNhYWEJCQmjRo3av3//o0ePbt26VcGko0ePPlZEly5dCg6ZmZk5Ojqam5uXjk0qlcruJZAFRlQmLcp2AHl5eZMmTdq3b5/sWlEBZjspQruyHcDevXsHDRr00UcfFb0xjNlOitCibP/+++/Hjh1rbm4ulUpzcnLy8/MLDul8trNwV41BgwZdunSpf//+GzZsaN26dVZWFoC8vLz8/PyMjIzS/Q0MDCQSScFu7dq1e/fu/ccff0RGRg4dOrSgXfYRj+y325ycnF69el24cOHq1asPHz50dnYuc1IZR0fHNkXUqlVLke/C3t7+wYMHAJ48eWJgYGBnZ1fdvw/SZVqU7VKpdNKkSUFBQYcPH+7YsWPRqJjtpAgtyvZt27Zt2LDB2dnZy8vr9u3bKSkpBYeY7aQILcr2kydPLlq0yNzc/MWLF7Nnz75y5UrBIZ3PdhbuqjFx4kRPT8+ePXsOGzYsOTk5PT3d1tY2Nzf3m2++mT59etGeX375pY+Pz6VLl/r06WNsbAzgwoULALy8vIKCgpydnVu1alXQecGCBStXrrx27VqvXr26det29uzZS5cuLV26tG/fvlKptPSkBSdW8AFTaZGRkRMnTnz69Gnfvn2vXbu2atWqdevW9enTR1d/WyUlaVG2//nnn7/++uvIkSNv3Lixbdu2zMxMZjtViRZle2xs7LRp01atWuXj4/Pqq69aWVkx26lKtCjb161bFxERERERYWZm9tlnnzVq1EiPsl1KqhAXF9e9e3czM7PatWv7+PhIpdK0tLTu3btbWlpOnDgRwNatW1evXm1kZDR48OBatWrJHunIy8vr1auXjY2NVCpNTEw0NDScO3eubMDVq1ebmJhMmjTJyspq/PjxOTk5aWlpXl5eFhYWzZs3P378eJmTFrh161bRD5gSExNLBDxy5MgePXrItrdu3Qrg1q1bBYsodezYMTY2VuC/M9JWWpTtEyZMKPrjLiEhgdlOVaJF2Z6SkjJ48OCaNWs2b9785MmTUv5spyrSomwvULNmzZ9++kmqT9kukRa5DY7EkpWVFRISMmjQoKioqPbt2wPw9fWdOXNmZmam2KERqRiznfQHs530B7NdPXirjEa4f//+8OHDvb2927VrJ3YsRMJitpP+YLaT/mC2qwevuBMRERERaQFecSciIiIi0gIs3ImIiIiItAALdyIiIiIiLcDCnYiIiIhIC7BwJyIiIiLSAizciYiIiIi0AAt3IiIiIiItwMKdiIiIiEgLsHAnIiIiItICLNyJiIiIiLQAC3ciIiIiIi3Awp2IiIiISAsYiR1AGcaNG3f37l2xoyDtk5OT8/nnnw8aNEjsQKqA2U7Vw2wn/cFsJ/1RabZrYuF+5cqViIgIsaMg7RMcHBwVFaVdP9yZ7VQ9zHbSH8x20h+VZjtvlSEiIiIi0gKCX3HPy8tLSEhISkqytrZ2dHQ0MOCvCqSzmO2kP5jtpD+Y7aQ5hC3cAwIC/Pz8rK2tnZyc4uPjU1NTp0yZ4uXlJeikRKJgtpP+YLaT/mC2k0YRtnD39/cPCwszMpLPkpeX5+HhUWm6Px76GEAUouz9djSc/B2AfdjXBm0aoIG8x4EDaNECr74KPz84O6NpUzg7w9cXxsZ4/33s34+RIxESgldfhYsLAJw9CwAdOgDA6NGYOhVPn6JfP0G+Z9JX1cv2jtmW556Ht7fo4Q73X39o+uprffDuu8IHS6SU6mW7Iv7AH/3Qzw52hU1+fn6YPHly5ef+jt8HYqAVrKo9+5YtGDIEFhaK9Y6ORkoKuneX716+jMRE9OhR2MHPDwVxp6dj50589FHhUX9/jB8PQ0P88Qfc3WFrW+2wdcrOnXjzTTg4iB1HIeGyvWo2bMCoUTA1Vfe8pGGE/bjH3t7e39//1KlTt27dOnXq1C+//GJjY1PpWQn9EwBEI7rG1iBZSyhC4xFf2OPYMdy/DwBbtyI8HLIHt7dtQ0AAUlOxZw8AnDqFW7fk/S9exMWL8u39+xETg5MnVfMdEr1UvWzvm3wvJv0cgBM4YbLnb4SHCx8pkbKql+2K2I/9z/CsWNPWrVu3KnTubuxOQ5oys+/ahfR0hXvHxMivCslcv44zZ4p1KBr3ixcICip2NCAA+fkAsG8fnhX/lvVZcDCePhU7iGKEy/aq2bEDWVkizEsaRiKVSoUb/cWLF0FBQefPn09OTraysnJzcxs6dKi5uXkFp/y5doV10HyHR6ZSw9zXb+RcdzYHIDXKluQbGSXVMUq2B9DQ6L55XWtYWCAmBpaWqFULlpaIiYFEAmdn3L+PRo0QHw8LC9SqBQCJiQBgbw8AFy+iQQNkZmLNGrz3nnDfO6mf7FnshQsXijJ79bK915fzHzsaGJgaZxq8aHpNklXT8HF9k7qoaw1rGBvD3x+tW6vtWyAtoo3ZbrNxee2M7IpHlhpnS3KNIZUUtLjEZcY0NFPkpmKpcZYk16TouVUlzYeRMYyNC1skkNRHfQuUdRE+ORnZ2ahTR7777BkyM+HoWNghJgZNm8q3c3Nx+zaaNCk8eu0aXFwgkeDWLTg58Uqq3N27GDIEa9bA0LCgTUuzvW5OtpHqbmt4JTbrfiOTfMPqp3cJucaSb9e9Gtuqom+k2t7G24uxWIiRdV7l2S5Vr88++6x04759+4YNG9ZsV7NXTzVItYQU6vpq3lz6449q/hsg4Rw4cGDx4sViR1Gogmyf085rV1eHHKNKUjTf1kb633/qj5w0nxZlu0yqhUR9P9v5pe1fvXtLhw2TRkbKEonZLtBXoh1cLws1+jzpPPX/p9EBlWa7utdx9/DwKN3YvXt3V1fXx0aPsyXZVxt7dLzwQk3RtGwJb281zUX6p4Jsj499kpzuefnL0a2vVpTtkqRknDqF5s0Fi5FINSrIdtn21Wt/d4x+rt6gSDvVqIElS1CnDurWFTuUsulMtts9xRunccVVkMH3Y/+3+FaQofWbugt3d3f30o1WVlZWVlaN0AhAcui9IX/Wfzdp4n2ry6N/jDzy8VgAZxoEPjW/D8D+VofEObO8sTX19Y4jv3kd8+fD1RVt28LVFV98AWNjTJ2KLVswfToCA+HiIr/NIDQUAPr0AYCxY/H66zh3DgBsbVG7tpq+c9I/FWV7o0ZA5+Seff5p3/TXbq4pN9tJpq765nPLmw1MN33+GMCKJZbO0WkA/sN/LdQdOFGVVZDtsm2bY3c8B3Ub5NG/4nEu1D3oktilRk7hA6Ye6/74ssX7b3StPIZ/6+53Tehplqvgs6VliIrCW2/B7uWTsQdx8CquAhiO4UMxtGTviAg8fYqBA+W7//yDhw+LPVw+fz6WLpVvp6Zi7VrMmVN4dNEiLFwIQ0OsWoXhwwtvudFza9di4UJ06SJ2HBWpNNsPTbyz7LfvjQ2yGjZU2T25zZbuuj5jYJ65iUpGc/0myOrSXQATMMEdfVQypsw5nFuBFSockErQuDen2tja7nXL3tVh5UZsNP79xkfzVwLYhH/DcR9Aq1tO0XOGdULkY7teI4d1xcqVaNoUPXuiRw/8+CNMTfH22zh6FMOG4fJldOmCt94CgJQUABg2DAAmTYKTk7xwJxKVja3tQ2mdfdJ3HkfMwNG1n86wjzG2Dhz2GMDH69OcowFg14PVi/Dgu+CejZ5YSE6chItLsX/7ibSEja3toeh7O0+trLhbCJ5MwReN0biwaX9EdPLKdfMrn2I/7s3CwvqoX+0g/xqMDu8VltB+SAjEVQCt0AIYVrK3VIr79+X/sgAwMsL164W7AFauLNxNSMCePcWOrl6NoUNhbIzdu+HhgUaNqh22Tvn7bx34HUYisd0duQxAfyt8Vypxqmn95Y6Dv5U/uae8Xy7h0l0AbnBzK53bSjCDmQpHo9KELdwHDx7833//NW7cWCIpfJzi4MGDFZ9l3tscaRiLsYgYK2t5D++Fo3C1jZn4YaBs4ayi7xMueJx/xw4A+OqrwkMff1y4nZiIOXOwbx8AxMSgb1/89BNatgSAS5dw5gzGjy8Z0NSpWLWqjECr2l4NS5bgk0/w+efo0aPYd1F6ri++wBdfFFvGTIVhkAKql+0jE1+88u+MxwDMM7oDaHkY2YNgUvgAX53H2IVdH4RdaPCgrcmpKNy6xcKdRFe9bFfENmwr2aTwi+MDEajk7Lt3V6V3iQUBS19ZLRp47drYu7fY0ePH5Ru//16VWXXdxo1iR1CScNleNYcOqXtG0kjCFu5//fVXq1atDhw4YKTCJ6sBfLPgkWHbiTjsD3+lxklNxcOHSE6W7yYn48aNMroVXfBLmfZquHQJmZmIjka9epXMdeECcnKECoMUUL1sl0iehIbKlyf9+WecOuyOEdutv/u2FmKBVABDdsEtCi3uJ5nkHMPz50hKgpsbDA2xZg3c3AT6XogqJtTPdiLNw2wnjSJsFkokkkOHDhkWWdRJSWlmCeh7BE1jUvKlCUhQdrioKADF3pcB4LvvyugpKWcBpqq2V4PsA4ToaKwo56axgrlKv79j0yaMGaOySKhC1c72unXln5/v3o1Tp4BdQ7oec3Qz8pQV7rUTUDsBKFjZOjtbfqPXG28gMhJt26rsGyBSmMp/thNpLGY7aRRhX8AEwMnJSaJEFSuFNBnJLyBfeeNW3dMI6QfPnbFeS4MRHIrQp3iagYwqjHjvXhU/DdVm48ahTRsMGiR/zQcJTMls9/FBs2YAEJ7c6sdPFsW/UuHv1Tk5OHGi2nMRKUnJbCfSIsx20hyCF+5KykCGF7yCEGRQKtRMZL6Ft/qi75hn08s7PSamVFODBoiJgSKvz9YBUik++AD79kGRl5eQ2GrXRvv2APAcFoEnR2764s9b3l1XzzD22oG97+BiN8u02mY5zV14hwwREZF+0vQbtmqgRghCAKzBmnmYZ5paOzERcHgCi+cA7GF/Hue7DADKeXZpzBiU8ViTRIJVq9C5MyIjERQEHx906AAA//yDY8fKePLP0xM7d5YxelXbq2HqVMydi/Hj0aMHZs+uaK6xY/HTT3i5FhU+/RTBwaqJgcRwLtziXPiQDv3iMt/JCfT8p8NZ1Hhg5nQvJ9/BwsrSSezoiIiISASaXrgX6IVewzCs7ZYNn34K/D4SHwQASE/HCl/Ex5d7+3fBodGjiy8wZWiIRo2QkAAHBzRqJF+HKzERd+6UsSaXs3PZC3VVtb0aZEPVr1/5XLLvoqBwt6j+SsYkosmTsW+ffP1SAIOPTBm4/ySARYthlJtgmQZD89jo0RbWJU67eBEPH6JlS9Srh5QUvHihsS8uISIiomrTmsLdBjY90CNVtvPyjTTPn2PuXADy/y2T7NC6dYiMLP62pa5d0bUrZswobOnYER07ljFEUFDZQ1e1vRpWrwaAkJByOxTMpXlLaFE1dOmCI0ewYQP8/QEgE2ZWf02ReO3LMM8HkGYJIO0ETgwqek5+Pj78EImJmDABCxfi1ClERWHhQjHCJyIiIgFpTeFeF3U/xIdX+6BOHTw+2ruqp9+6heXL8eOPQoRGpEpubrCzkxfuUinWv98Xe7bBdwoM82CVAkAKqbxraCgyMiCVIiEB6ek4eRIrVuDaNTx8iKwsmJqK900QERGR6mlN4S7TrBmOHcOn2xAKADAzw6BhOHoUvXsj0+pxep04u+vF3pN89ChsbREbC6CihVV2Y/dgDBYycKIqqFcPAwbg779f7m8fge0jUO+B2Y363U7KVocEAOzdW+yVLiEhhR/O9OqFhQvRqBFcXNQWNhEREQlKywp3AM2aYelSeeFuZYUdO9ClC3bsQATiAhG4EsUK9y5d0LkzfHwqGXMFVrBwJ81hYoJdu/D550h4WaOHhOCZRGqcg/bncPcVdIqEQcUrfEZE4Lff4OnJwp2IiEhnaF/hXlQKUrzgZbATXsBTPL2P+/dxv2gHg504kAC8AQAHXsODcsaJRawXvCSQLMCCFmgheNxElTEzw5o1hbvt2uH8Vfu0pw1XzLkN4L8W8N6Km60tnOHcVPo6QkKQlYXGjeHqisOH5Q+3DhiAoUPFiZ6IiIgEoJWFuwTy9yBkIjMQgahXeOg6rhfrWg+oB7QBgFggtvwxAxEIYD/2H8GRLsUv2+uC3bsxeDAePMDDh1wFXBsNHIjz583Q7Cp+mFlraEhon+u2SfhxpdV/OI78WmjbFomJ8PLCwoVo2bJwVRoiIiLSIVr5Xp4O6DAZgrxB6QVeHMABIUYWmWxRzCtXit0STdrj66/h4ABkmmGKr9Upj7hGCByGhLykzVGXn6dLMHMmxo1D//4AULOm2MESERGRILT1ivsqrGqO5mlIK2i8i7vRiB6IgSU679+PkycBoFs3DCx5UM4PfnVQ5yzOAij9ilbt9vvviIpCbCy8vPD4MRITi71OdvRoeHiIFxwp6t495Oa+3M6LRx08rgMgY3qzt5btnjBpaJ1Pakx0ghMALiZDRESkq7SycAdgCMMSF90jEBGIwDko+d7TR6E46QMAblmYU07hvhu7m6O5rHDXNdHRiI4GgMBAecuVK4VH9+3Dnj1wdxchMKqKtWuRkfFyZ8M4dD6DV+4CQM30JxY3T//e+fb4LzZjs2jxERERkfB05+pyW7Sdj/nVO3cndqo2GPF99ZVC787MzJS/44k027ff4tkzeHrC2BhWke6vDj9jer6z/Ni11+uc8NyFXZUMERmJY8eKtYSG4qwu/rJKRESko7T1intpZjAzg1n1zq1X9PlW3dCsGQ4dQnCwfNfPD5MnIzYWt2+jXz8AiIjAnj0iBkhVZWKCwEC0aIH+/fHDD3X/h3Z+OAMAw/8MffvfDGRcwqWWaFnu+bGxePYMvXoVtly6BEdHdOggeOhERESkCrpTuFNJLVui5csybvduzJmDkBCcOIE5cwDA15eFuzYaMACdOuHpU+w7YSh/98Crdx7iDoA2+W0bGry6A4/by7pOnoxp0wrPzM6GVIqFCwtbsrIgkWDyZACwtUVwMBd9JyIi0mR6VLifPYuMDJibV9ItFKGucN2LvQEIKH30K3zVGZ37o78gIQpn0yYA6NQJzZuLHQop5fvv5RvRg7/unBJ5zeqfgkP5Bnmd0Mmp5lXgAgCkpyM9veT5L16UbJH1SU5G796IioKjozCBExERkbJ0vHDfsweXLsm3T51Chw6YOhVjxsDYuNxTnuHZf/jvER4dwZHSR+MQZwpTIwX+3tzgZg3rasatck2bAkCtWqhVS+xQSDWsYf11VPDwdUcBmM9fmdH6DIB2aFd3sw/69ZM/kVwlDx4gLo6FOxERkcbS8cLd0hIDBiAqSv5GmsuXce8e8vLKKNzzkCfbuIIrV3AFwDEcK9mpKtqi7WEctoe9MoMQVaBWjh0ChwEwGrcDrQEgDWlwcEBYGOLiSvYODsbz5/DyKmwJCIC9PdzdMWAAEhLUFjYRERFVj44X7r17o3dvDBiA1q3ly2C/+SbMynqE1Ra2qp36PM5PwZQ/8IdqhyUq6cMtmU3+k20uxdKruNrEpsn09tNro3axbjdvIjUV7dsXtpw9CwcHtG9f0SdQRFRdR3G0N3qrZKjLuGwHO0fIPxD7F/86w9kGNuX1D0NYd3Q3hKEyk97BnRzkNEETZQapqrM4+zperwV+OKysvDycPIkePcSOg1RNxwt3GVdXGBkVvr+mTD/ixwZosBqrk5BkCtN0pDvAoXS3ZCSbwrQGalQwVCpSE5EIIB2l7jAmUrmLrY1XfCn9dmau/aM85CUi8RN8YgGLkt2KXmuXmThRPQES6af5mB+BCJUMFYjALuhSULhvwIZxGFdB4b4Yi//G30oW7sdxPBWpai7c12LtLMxi4a687GwsXoyjR8WOg1RNLwp3ALVr4969SvpMw7RpmDYXc9ugjTIPp/rC91N8qky0RIrIygIAXGz94mJr2N3DsnkAcu7X6Vu/r7iBEemYvdh7D5X9E1JKHOImYIJKAjiHc2dxtuB1DSdx8hEeVXAr5nVcn4IpShbusYjNRnY0qv7AjBIiEHEER5qhmTonFc7ly5igmhSostxcXLsmn712bSxaxM9WdYS+FO5l3h5Tpo7oWA/1yvt8sz3aN0ADlYVFpIQuXdCoUcm72RMSgPoiBUSko87ibPVerf0LflF5MDKyZ7EqsAEbVDLRKZxSyTiKm4qpN3GzLuoOxVA1X+9XuXv38ItQKaCQgtkvX8aff8LERMxgSCV0582pqjIEQzqh08f4uMyjgzCoObiiYjlu3kRSUuFuZiaePhUvGt3n4IB//8XUqXjvvcJLKel14q7dyhY1LiId8Tk+V/njT1QpCSQN0bARGlX7pYqiGzEChobnxI6imN27caWS3/VIO+jLFXdSh3fewTvvYNky+W5UFPbsKVx4nARgZYWff0ZUFE797/0nny+HVcp9p39c+53cMrr3yJFiB0ek5dqgzWEcDkRg9U7fiq3e8FZJJCdxsh7qOcNZtnsYh1ujdR3UKa//dmwfhmGKrFxcgcu4nIWsdminzCBVFYzgSZg0CZPUOanKWVnBzMxz6tRb+fmixZCbi8BAjBgBH5+X91WSTmDhrvfu3FHZJ3nJybhwoXC0GzcQHV354G+/jXr1VBOAvnJxQb/XGv7+1A5WKQDy8zF2LLp3xyuviB0ZkZZrj/bt0b7yfmUJR/hyLFdJGF/hqy7o8hbeku2mIW0cxlVQUkcicgmWKHnFeiu2piL1f/ifMoNU1RM86Yme6pxRIBJJ4rffihlARgb+/RfLl2PdOhbuOoWFu967dEmVz848fIiDB4u1HD5cySmNG+PoUdaYyqhVC7/9hj1P8Vy2b/E8OxvPn1d9IBGvDhHpnE3YpKqhSiwVNQdzKn5JyDqsM4GytzN7wCMf6v6ZsBALCxbPIWWYmsLfX8wAbuFWP/Qr2DWByWqsboRGIoakG1i4CygVqWKHUL4+fWBvj8REseMAbt7E3LkIKGMNH1KcoSEcHF4W7ptH461DQAdFT27TBvHxALB6Nbp1EyZAIr3TFE1VNZQTnIruvoJKrnS4wEX5Se1gp/wgVdUQDdU/qU4yMICLCrKgygpu0HqO5yXeQH8Jl8IRXnDHF1WP/hbukZGwsUFkJAB4q+YuxJJyUeHS8eJq1gwhIZg9G1KpysaMiEDt2mjychGAZ8+QkIDXXiu3/507iI0FgLw8lcWgx7zgJf9c3iYZ382Oizvm6qrYmYMHIzgYAJKThQuPiIh0Xn/0n4iJ/ijjav893DuO4yzclSR44S6VSgFIJJLHjx+npqa+VkEZp15hYXBxgZ8fIFjh/hAP05FeEzUFGV15bdpUfh9LlTRvXuzh1JMnK3k49bvvMGeOKgMQm7jZvgzLEpG4HusBoFbqiA6OpxHyKT4djuHa/qQXaSCN/dlOpHLMdsVJIPGFb2d0zkLhnfU/4sfruC5iVLpE2MJ97dq169evl0gkgwcPDg8PNzc3b968+bKCwk4Mc+fiu+8A4PZt1KiBO3cAoF+/ik+SGzUKH31USZ/t2P4zfpZt38Kt+qjfGI0XYMG7eLf6QWuL8ePRtm3hbsOG8PAQLxp104RsfxNvygt3y7Q8w+wzOJOM5BjEHMfxN/GmOiMh3aYJ2U6kHsz2qjKE4UcoVi0FIICFu6oIW7hv3LgxKioqM9z3mS8AACAASURBVDPTxcUlLi7OyMioQ4cOoqS7RCLf+PffMo4eOVJGY2lHj8LQEKNGVdRnBEaMwIgFWLAESwA0QqMoRFUtVu01bVqx3fr1UV+PXgWkCdkuxcsbn16LzQA+wScAohG9CqtGYMR6rK+BGuqMh3SVJmQ7kXow20mjCFu4W1lZbdiwISkpKScn59ChQ7a2tqampoLOWJ716/H220hLU2qQ/Hxs3FhJ4S7TFm0r70S6RROy3QUuEhhIy1oIYju2W8BCuPc4kl7RhGwnUg9mO2kUYQv3oKCg7du3Ozo6xsbGLlmyJDk5+bfffhN0xvJ0744jR3DhQmHLoUNwcJDf413pjdanT0OkwElraEK2d0bn4wgflDD2WVYG6j40eFzXwCExX5KXb5gDoBM6qTke0lWakO1E6sFsJ40i+BX3iRMnyrZXrFgBYNq0aT4+PiW67dy5c926dQW7WcK8KqBjR3TsWLibnAwXF3kp/8knlZxrbMzCnSqhIdneDd28v7m++vhFHHorv39w/upPDeo+gss1ALm5+ryOFKmShmQ7kRow20mjqPufcY+ynlb09PT09PQs2LW0tFRDJBMmwNi4WClPpFpiZfvDh8BTO4T1RJItwnvkD9wvaw8OxoR3VD4bEaBJP9uJhMZsJxEJXrjn5eUlJCQkJSVZW1s7Ojq6u7sLPaOCrK0BoKamLtVI2khDsj0wEP7+9b//4o/7CchetBhdT8naH7/zayqG1UKtcs+MjcXcuQDw7rvo0kUtwZK20pBsJ1IDZjtpDmEL94CAAD8/P2traycnp/j4+NTU1ClTpnh5eQk6KZEoNCrbJ07ExIlo0QKXLwNfL5S8ESE1fxGJyBM48TbeLve027exYgUArFmDAwfwJleQpLJpVLYTCYrZThpF2MLd398/LCzMyEg+S15enoeHB9OddJIGZvubb+LyZeD4m9I4ZzS/XG6/QYPw+uu4dq2w5flzLF6M0FA1BEnaSAOznUggzHbSKMIW7vb29v7+/m3btpX9nhodHW1jYyPojBpoO7bbwc4d7mMwZhM2KTmabJAQhDzBk5EYWbrDdExfhEXTMV35uahKNDDb16yBoSF8fQtbnuN5NrJNYFKsn6MjQkOxZAny83HtGsLD1RwnaR0NzHYigTDbSaMIW7hv27YtKCgoKCgoOTnZysrKzc1t0yb9qiazkHUFV2qjdhM0uYiLcYhTckDZIDGIeYRHZY4WjeibuFl6Lgc4WMBCydmpAhqY7RIJvLyKFe7v4/1WaHUUR+1gV6xrvXpYuxYANm5k4U6V0sBsJxIIs500irCFe40aNby9vb29vQWdRZNdxuXLuAzgM3wGoDEaKz9mwSDf4tsyO7jBrfRcLdHyKI7aw175AKhMGp3tjxwLbpWJRvQwDDuKo+JGRFpNo7OdSKWY7aRRDMQOQDfVR31DGIodRTGXcGkohoodRTmkUjx6VPahp0+RmaneaHRK48aoXx8YGoQznQsaYxAjYkhERERUPSzcBdERHfdhnxnMxA6kmDu4I3YI5cjOLvclWMuW4dw59UajU5ycEBaG7q2sjPqE461DYodDRERE1cf3KAplAAZkIAOAD3wc4fg+3u+CLhGIUHJY2SA7sOM+7s/AjNIdBmHQJmwahEEFc4UjvCd6KjmvsG7fhlSKX34p41B0NAwNYWMDV1e1h6UjGjfG8eOwszNJSuMLQYiIiLQYC3fBvYJXbGELoAM6KD+abJA6qFPerTht0MYYxiqZS30uXgSACRPKPhoSAn9/rFkDDw/Y2qozLl1ialq4nYKU67juAhfxwiEiIqIq460yghuCIbIL3quwSvnRZIP0QI/yblj/Bt9YwUolcwnO3R1mit1NlJqKWbNw9arAAemyr78GrjbD+bYAXuDFbMwWOyIiIiKqGl5xV8rly1i/Hj/9JHYcWqpNG4SFYcECZGXh6lW0bl1Gn4sXkZAAAHXromtXNQeoS6ytgWfW2DgWqz8FkCZNg6TCEyIi0FgFiyCV65tv8MEHAo5PRESkc1i4V01SEo4cKdyNi0NsbLGWomxt0a6deuLSWp064fBhJCRg3Djs3VtGh3ffLbudquL6dVwu/uLUyOjMiBdwcYFd8fXcUbOmfCMjA3HKvnagIh9+CDMzDBki4BRERES6hYV71Vy8iH79SjYeOFB2ZwMDbNqEDz8UOijtV7MmPvqo7EPt27NwV154OC5fhokJsl+2pL/+7+Sl+799NnDAgOJdhw/HuXP4/nvBY8rLw4kTLNyJiIgUx8JdIc2bw9wcGRlVOys/H2PHolMnvP66MGHpjBo1MLScNeZbtlRvKLpp/HiMH49fHwRPSticJ2syy7z49bsrJN1NsKAP+hTrvXw5BgxAXp5Q0axdi127hBqciIhId7FwV0jHjti7F5MnlyxmsrORmgr7st5GeucO8vKQl4fUVPXESFQJr3pd/aZtvzl+Xpp7EACpJL8lWnZCp5L9DAzQq5eAcZT3ERURERFViIW7ovr2xfXrJRujo7FmDdatK6O/g4P8oUoiDWEFqxnvWPkv+fN0Exc0igNgAxsLWIgdFxERESmEhbtS7OzQvbvYQRApzNsbz54Znk6vWXlXIiIi0jBcx10p9eph1CixgyCqCgMD4J+OYkdBREQa6sEDxMeLHQSVg4U7kf6Jd5L9+S/+FTcQIiLSNPv349AhsYOgcvBWGSL9Urs2cET+foH7uC9uMGWYPx+DB6NDhzIOffMNevYsvDtNKkXt2khMxJYtMDDAli04fLiw89y58PIq+00KmZnw8qrmMqPu7sVmUeG5H3+MhQvxyitlHJoyBVOnwsWlmvMSEQGrVsHBQb798Q00AQAEBeHsjZI9L1yAoSGuXVPZ1HGfAI0AIDAQV88pNVStWpg1C8bGKolLK7FwJ9IvRSvDdKSLFwjw+DHOlfoRfvs2/vsPBmV9GHj7Ni5fRo0a8l2pFBkZOHcO16/DwACPHhUb7c4d/PcfpNIyxsnKwsOHZUytiBKzqPDce/cK3xNcwv37SBf1vxQRab9Nmwq3+0JeuB88iPUHy+4fHKy6uQfIC/cDB3DgN2UH++cf7NgBExPlw9JKLNyJ9Nez3OeBRoFucHOGswjTb9+O7dvLaA8IKPeUjRtLtri5lb0N4I8/Kpq9RGfFVfvESs+t4Hr8hQu4eBFWVtWfmoj00rx5mDNH7CBUas8enDiBPn0q76mTWLgT6Zfnhimo81i2nWj0yAtetrANQUg7lHVXiRCaNVPTRLrkzh306QMbG8yfj549xY6GiLTG7NmoWxeXLxdrbPgncBsA+veHXeuSp8hulVHh+w8DGuAeAODtt9HCsfrjrFuHZ89UFJPWYuFOpF9SW5y2/mjPsyxTmGbJWpKQNBIjr+KqmiL45BMkJuKHH8o+mpEBY2MYlfWjqfShZ89gbY2sLADIzoalZeGhFy9gYlL2OFIpnj8v1llxaWnVPLHSc9PTYW5e9j1C6eno2hV//w1T02pOTUR6zNu7VNM5eeE+NHHd0LiSn/XFJcLAAA3jVBZAn4VXx6zAg3p4MmxN3DD5O/g+w2dd0bVK4+zcycKdhbteeoRHB3FwNEaLHQiJYIj5gD6uA/pOuhS1pD+kEtR7AMAY6n3S54sv8MUXZR+aMQPDhqFLlzIOzZ+PPn3Qu7d8VyqFlRWSkvDrrzAwwPr1iIgo7PzZZxg5Eh3LWvgyIwNvv42jR6sTeZcuxWZR4bkjRmDZMjRsWMahsWMxaxardiJSGYlEvhEVhaioEgcbyf44q7LZ+gHhZ9DrGM42OHv25bh/4+9gBHcH34ZTNVwOUh89w7NwhIsdBYnGygpjO7TEtlHwnSJ2LKW0bg07u7IPtWhRuCaCTKtWANCoEZydCwt6mTZtYGtb9jiGhujRo5rhlZhFhed26oSa5bwYy80NtWpVf14iohJ++KHcn7TCaHwT7sWv7D/H863Yqs4YdAOvuOuRB3jQGI0B5CDnGZ4dx3GxIyqXBBJf+PZHf7ED0VmmpsC+nrLL7QBSkJKNbBNowFP6H31U7qERI4rtSiQ4eRKA/BmlEmXxmDHljmNigkWLqhne0qXVPLHSc6dNK/fQ5MnVn5SIqLRWrXDwIEJD1THX+vW4cQPAUAx9DR0AHMKhYzimjql1EQt33WcK+SfsuciNQ+E9a2lIEykihQzBkEM4xI/QBPLhhzhyZMD2x/tku3dx1wtegQhU9z0zREQkCjc3pdbIUlxIiKxwH4ABAzAOQBrSWLhXG2+V0X2d0fl7fC92FFWWgQz+H1s4RkaYPh240Ab3Gsha9mDPRpRabJGIiIg0Bq+464WZmPkG3niBF7Lde7j3B/6YhVniRlWe7/BdCELEjkI/3GuAnmE4/qbsnpn/YrPwmvxIDnLu4q7s3ioiIiLSBCzc9cUbeKNgOwYxx3G8L/qKGE8F+LSKetSvDwcHPIlrhHPtZYX7hg2Y6I3mzQEgAQmzMTsIQSJHSURERC+xcNcsfn5o2lSphSsU0RRNN2FT5f00SkICzp9H27by3cWL8eGHcBbjfZ+6om5dHDmCgQPx0Bg5AICMN0LfPp4xqTkApCL1Fm7lI9+AN9QRERFpBhbugnvwoAprLt28CWPjspdyripn58J1WnVBVhbi4wv/am7cQGammPHohJYtcecO+mfhkGz/nb13sHdukQ790X8mZtZCrc7oLEqEREREVEDwwj0vL08ikRgYGMTFxUml0saN9e6W2ffeE2feKVOwapUO1e4JCRg4sFjL1as4cQLm5iIFVAYtzfbhGaMPGQbDKLf0oRCEOMO5DdqwcKcStDTbiaqB2U6aQ9jCfc2aNfv379+5c6efn9+hQ4dq1qzZvHnzb7/9VtBJNUTDhkhIEDMAX180aYLPPhMzBhW4dg0SCaTSMg6dO4fu3WFjg/nz0bOnugMrRXuz3dvivcVzt9/ptKNoo8GgA/lmLwC8j/d7oZdIoZGG0t5sJ6oqZjtpFGEL9y1btpw5c0Yikezbty80NNTIyKhjx456ku6HD6N/f0RGihnDnTtizq4ac+fC0REff4y8vJKHmjVDWBgsLMQIqwzam+1GRrj+reesWZ7x8di//+UtSPdeRf27IkdGmkp7s52oqpjtpFGELdzbtGmzYMGCLl26NG7ceMuWLZaWlvXq1RN0Rs1hbY0zZ6p81tKlaNUKgwYpNfW0afj5Z6VG0CyjR2PIECxYAHd3vPFybZxPP8XcuZpTtUPLs93EBD//jNxcvPIKHj4EAGken0mlcml1thNVCbOdNIqw/zavWbPGzc3t6NGjAM6fP5+amhoQECDojNrO2Rm1a4sdhAaqVQuNG8PJCTY28q/XXkPNmmKHVYwOZLuBAWxs5NvSfPnjEbNnY88e0UIizaQD2U6kIGY7aRRhr7gbGRkNHjx48ODBBS3Tpk3z8fEp0W3btm1FG7OysgSNSpN98IHYEWisqVOL7S5aJFIc5dKBbDcwwLRpmDkTqalAXCM43wLwotF/tWvzHncqRgeynUhBzHbSKOpeDtLDw6N046hRo0aNGlWwa2lpqcaIiISijdk+fjzeeANbt+K7ZzayJ4LbdMp6o20lZxFpY7YTVQ+znUQk+G2seXl5jx49unLlSnx8fH5+vru7u9AzEolFN7K9eXMsXw6Dlz8bDhnvP31a1IBII+lGthMpgtlOmkPYK+4BAQF+fn7W1tZOTk7x8fGpqalTpkzx8vISdFIiUehYtltYIAUA8DTvWd/hTw9ssevF+2XoJR3LdqIKMNtJowhbuPv7+4eFhRkZyWfJy8vz8PBgupNO0qVsl0LaqGn2edlO64sZxzvM+nrPyV6vmcFM3MBIQ+hSthNVjNlOGkXYwt3e3t7f379t27ay31Ojo6NtChatINItupTtKUhJbXC5cN/51gXfbl9g3EqsFC8o0iC6lO1EFWO2k0apvHAPCwsr3dhTsRdVbtu2LSgoKCgoKDk52crKys3NbdOmTVWMkEh9mO0y1rC+gRszMGNN7rpsoxcADJ7W/jJrJWzFjoxUh9lO+oPZTjqj8sL9woULpRsVTPcaNWp4e3t7e3tXNSwiUTDbi1qJlcnnXDZ3mgQgJwdduyI0FE5OYodFKsJsJ/3BbCedUXnhPm3atBItR44cESYYIpEx20to28hq88vtmBj88ANW8mYZXcFsJ/3BbCedoeg97gsXLjx27FhmZqahoaG9vX3fvn0FDYtIRMz2As1rOxTdzcsTKxASCrOd9AeznXSAouu4R0ZGHj9+vFu3bidOnKipYa+aJ1ItZnsBU5jKtyzTYJQrlYoaDQmA2U76g9lOOkDRwj0nJ+fChQupqakxMTHp6emCxkQkLmZ7gRZoId9yeAKL5xs34tgxUQMiVWO2k/5gtpMOULRw37RpU25u7uzZs/39/adPny5oTETiYraXJz0dw4ZV+awbuJGLXNl2DGJe4MVd3I1BjIqDo2phtpP+YLaTDlC0cPf29t67d29WVpavr2+fPn0EjYlIXMz2Cjx/XuVTPsNnqUiVbY/BmGu4thzLx2CMiiOjamG2k/5gtpMOUPTh1LCwsH/++efPP/9csmTJ66+//s033wgaFhGAZCTHIQ6AGcycoL5lCJntZVu0GFmmuYaYW8XzruHa1/ha9tbVu7i7Cqsu4uJjPPaBz2f4TAKJEMGSgpjtpD+Y7aQDFC3cMzMzk5OT09LS0tLSnlfjmhtR1fnAxwc+AAxhuBEbP8SH6pmX2V62aT4A8oAVVT/1Z/xcsL0Zm2Ub0zH9D/wxEzM94FEDNVQSI1UVs530B7OddICihfugQYP69es3YcIEV1dXiYRXyEgoEzAhFKElGvOQNwZjXsNrXdBFDTEw2wvUQq2RGPk7fhdo/EhERiDiTbzJwl0szHbSH8x20gGVF+6nTp3q2rXr4sWLASQnJ586dQpAt27dBA+N9NI6rAMwG7N/wk+WsASQitQ85OUj/wmeCD07s70EAxj8ht9c4PIADy5eRGQkADg7o1+/KgxyEAd7oZdsZcnd2N0N3WIQcxVXpZACGIuxDnCobAxSPWY76Q9mO+mMygv3f/75p2vXrhEREUV/PWW6k6C+w3cncCICEQDaoM1FXCzRITgYnTrBzk7F8zLbSzOE4UIsBPDjEUTOBIC2Q7CuKoX723h7JVbawhZANKK/xJe/4tcYxMgKdxILs530B7OddEblhbtsyaR9+/b16NFj2LBhLVu25AdMpAa90buCozt3wtlZ9YU7s10R+/Zh1y4MGaJo/3mYZwEL2fZSLHWG88f4eBM2ZSJT1rgXe9uibQM08IMfgMmYLEDUVBKznfQHs10zncCJCZigeP+EJZAtUfZTUxyF/Vf4yhjGQgWnqbiqjC4LCMDx42IHUX1LDwEArgcALgDw+ef4Jlx+7O5d2Ntj+XIYKLqiaRUw28v06qvyjZwcfPAB/vkHrVopdGI3FF7Wkv0+1g7tDGFY0BiKUEc4NkCDrdgKFu7qxWwn/cFs1zQxiKnaOz3el/95ADgAXMf17dhupHApqxu4qowOMnxZET1+jMePRQ1FJTLkf968CZwrbP7+e8TGwsEBEyeibVtVTshsL5OnJ3x8MG0aAGRlIT5e0cK9Yl7wSkTiYRyuiZqyn+BLsORLfKmCoUkBzHbSH8x2DeEN783Y/AAPlBxnJ3bOxuwO6KCSqLQFV5XRQfPm4ehRXLggdhwCMzbGuHGoWxeNGql4ZGZ7eT77DH5+uH5dBUOZwjQd6QCu4AqAok8eL8CCH/GjO9z94W8DGxVMRuVjtpP+YLZriNfxehjC1mN9VU9ctw7PngGA6czVWYYvVB+ZNlC0cG/VqtXcuVV97wqJw94eoaEILbmmoraa9SruyDZmocNIeePatZg1CwMGCDIjs70Cqro3aS/2voW3ZLV7aY5wXIZl1rBWzWRUPmY76Q9mu+ZogibLsbyqZ+38Hs9uAoDZ9I0s3CuRnp6+aNGiLl26GBkZAejbt6+QUZGybG0xbJjYQajIUsgL965d8e7Lxr//RsOGQs3IbK+Azcsr4OvWoX//6o/TFV2P4/hN3ASwCZu6o3sTNPkMnz3EQwAWsGgEVX+SQmVhtpP+YLaTDlC0cHd1dQUQEyN/hoDpTuJavRpmZkINzmyvwNdfyxdx//dfZYdqh3bt0A7ASZzsgz4d0fFLfCkr3EltmO2kP5jtpAMULdynyR5JI9IMNWsKODizvQImJqof82f8LNtYiqXDoCsfFWkJZjvpD2Y76QBFC3dPT08Aubm5UVFRLVq0OHjwoJBREYmJ2a6I+Hh89x1mz1brpA/woB7qqXVKXcdsJ/3BbCcdoGjhvnPnTtlGdnb2MJ25e5qoLMz2ChR81pGbizlzYGICdV7D8oSn7H26pCrMdtIfzHadkZYG2AHAe+/BNFqoWbp0webNMNKwZeIVDefMmTOyjaSkpKSkJMHiIRIfs70C7dtj1SpMnSrfDQsTpHB/hEcrsKJ0ezziZe31UG8URql+Yv3DbCf9wWzXdqam8o38fPnGgwdAnFDTxcVBKsXvvws1fvVU4c2p8hOMjDZu3ChUOEQagNlesU8/xb17+P57Aae4j/tzUfaqbQXtt3BrARYIGIR+YLaT/mC2a7ugIPTujYdqXMLg77/VN5eCFC3cZUufZmZmAjATbjkPIg3AbK9UvZf3mZ8+jX79IJFg6VJ0UPrtdZ3RuREaxSl2/WQhFnrDuyEaKjurfmO2k/5gtmu7pk1x+jRu3ICnFVIAAL6+eD1V9RPduIFJk1Q/rEpUXriHhYXNmzfv4MGDp0+fnjdvXl5e3pw5c0aN4ofUpIOY7QoquOcvIQFHjgDAP/8gJETZ2r0+6ochbC7m5iCnzA5HcbQ3eu/ETimkAHKRq9R8+o3ZTvqD2a4zGjZEw4YoWN6sY0cofcmoDHZ2AgyqIpUX7jNmzDh8+LCVldWCBQv279/v6OjYvn17pjvpJGa7gsaPx99/48CBwpaUFBw4oIKL7g3Q4HeUe0dhF3TZgR3GMGbJrjxmO+kPZjvpjMoLd3Nzc3t7+5s3b9ra2tavXx9ArVq1hA+MSATMdgWZmODPPxEQAKkUv/2G06fVNO8czFHTTHqA2U76g9lOOqPywr1evXoLFiyIjIwcP358cnLy5s2bmzRpUr3JIiMjO3XqVL1zidSA2a64mjUxfjwAnDkjL9wDA3HlCgYNgre3UJMOxmChhtY/zHbSH8x20hmVF+5bt27dvXt3z549e/fufe7cOUtLyzVr1ig4uq+vb9HdNWvW/O9//5syZUp1IiUSHrNdGVeu4MoVBAVBKsWHH4odDVWG2U76g9lOOqPywt3U1HT48OGybTc3Nzc3N8VHr1mz5rfffjtw4MA+ffoAMDc3b9iwYbXiJFIHZns1zJ2LkBDcvy/fzc/HypXiF+5hCDuN01/gCwC+8H0Fr7yDd0SOScMw20l/MNtJZwj7PqgxY8aMGDHCz88vICBgxowZDg4OAwcOFHRGIrHobba7uCAkBHv24MoVbNmi1qn/w38p8jXBSrqCK7dw6xzOAbiBGy/woh7qldlTUC5wsYSl+ucVmt5mO+khZjtpFMFf5GpmZjZjxoyUlJSVK1faafL6OkRK09tsb9oUTZtizx554f7wIeYWeXuSoSFmzBBkda338F7FHdZjvepnrYoO6HAIh2xgI24YQtDbbCc9xGwnzSF44S5jZWW1ePFiANOmTfPx8VHPpESiYLY/eYIVK4q1BAXh6FE4OalmfDe4ncEZ1YwlsLM4+zE+DkKQ2IEIhdlO+oPZTppATYV7AQ8Pj9KN27ZtK/r/gaysLDVGRCQUfcv2nj3h5oaoqDIOXbuGP//E9OmqmeggDg7H8FjEVtAnAxmZyJRd6k5BihGMaqKmaqZXTBrSEpAAIBnJ6pxXLPqW7aTPmO0kIsEL97y8vISEhKSkJGtra0dHR3d399J9Ro0aVfQ9CJaWOnhLKOkDPc92KyscPoyFC5GdXdh4+DBu31b1RLA6iIMV9wlByAmc+BpfA/gBPzREQ094qjiOCm3CprEYq84Z1UzPs530CrOdNIewhXtAQICfn5+1tbWTk1N8fHxqauqUKVO8vLwEnZRIFMx2ADY2WL26WMuQIfLCPSICTk54ua6D4OqjvhvkC0e0Rms78LZUVWK2k/5gtpNGEbZw9/f3DwsLMzKSz5KXl+fh4cF0J53EbK9YYCACA3HkCNatg4GB4NM1Q7NmaCbb7od+gs+nZ5jtpD+Y7aRRhC3c7e3t/f3927ZtK/s9NTo62sZGB1dXIAKzvRxeXti7F3l58t316/HRR+jWTdSYSGnMdtIfzHbSKMIW7tu2bQsKCgoKCkpOTraysnJzc9u0aZOgMxKJhdlepvffh5ERduxAcDDS0wEgN1fsmEhpzHbSH8x20ijCFu41atTw9vb29vYWdBYiTcBsL4+nJzw94ewsL9y51oIOYLaT/mC2k0YR/lZTIgFcwZV0pIsdBVXH+PGIixM7CK2SgIQc5IgdBRERiY+FO2mlH/DDXdwVOwqqgh495Bv37mHKFFFD0TZzMOcGbogdBRERiU/dL2Aiqra1WBuMYNl2BCIiEVmwbAhpvg0b8OIFAgMByO+Z0RPxiP8FvygzQixi7+Ius52IiFi4k9Y4hENFd8di7B3cqYu6HvCoj/piRUUKMjTEwIHywj0tDefOydsNDNCmDSQSEUMT1jVcm4AJSg4yGIN3YZcDHJqgiRWsVBIYEZGWefQIOTlo0EDsOMTEW2VI083CLEMYlm6XQpqHPABZ4NOOWub8ebi5yb/atcOoUYXrReqMN/FmXdRV1WiZyNyO7YEIvImbqhqTiEjLHDuGXbvEDkJkvOJOmm4kRlrB6iROFm0MRvB4jP8Un4oVFVWDqyvMzJCZWbI9IADdu2PiRDFiEkxjND6CIzMwQ/brpTKu4MoQDPkZPxvwUgsRaa+gIMTGKjXCfmLkQgAAEq5JREFUlSuoVQtSKV5+SOsL3/IukZjDfDZmm8NcqRk1Dwt30gIDMXAgBhZteYInfdFXrHioetzcsGsXPvyw8Pp6ejqyswEgKamM/ufP48QJTJ2qvghVyxWuB3FQ+XHGYuxkTGbVTkTa7e+/8fffKhinZs13+mb90xSXWmILtlTQ8QzO7MZuU5iqYFKNwX8JSCvNxMxX8IrYUVCVDRiAhAQkJcm/PD3l7cnJiIsr+XXtGi5flm+/eCFq3KLyhKcDHMSOgoioWsaPh5FKLxMnJr6b/GbthMo7HsTBfdinyqk1AK+4k1ZyhavYIZAq/fADfvih7EO//AIArVsjNBR2duoMSlN4wEPsEIiIqmv4cJiZIThYBUPduAETEwQEDDI1vYs1TRBdXse/8FcCEgBIIVXBvJqEhTsRiaZhQ0V7XryI0aOxT9cunRAR6YF338W776pgnO3b8eQJTE0B/A//q6DjeZyXFe66h7fKEJFolizBpwo/YHznDrZulW8XbFSPkqcTEZEIunaFh75/AsnCnYhEI5Fg1SpIpWV/hYdj9mzs3VvY38+v5Eb1KHk6ERGJ4JVX8NprYgchMt4qQ0QaysYGTZoU7t66BUND9OsHAFevyjeqp+jp5uZYuxb16ikRKBERkVqwcCciDdWyJVq2xP798t3nzwHgyBH5bsFG9RQ9/fp1hIejTh2lBiQiIhIab5UhIo02YADee0/YKa5dQ3i4sFMQEREpj1fciUijGRpixw5s24bsbKxYgTlzABRuVE/B6cuW4fZtlYRJREQkOBbuRKTpjIwwejQAbNqETz4ptlE9Badv2FBYuB89it69Kzrrzh3k5uLOnUq6ERERCYS3yhCR1ti5s+SGkuMUNX9+JWeFh+PQocq7ERERCYRX3IlIaxSs/aLkIjClT//1V8TFYcKEis66fh25uYiLw8SJmDcPr76qVAxERERVxcKdiEi+yMwvvyjUed06/Pkn5s/HjBkw4MeWRESkLvw3h4j018yZMKrW5Ytnz3D2LKRSVQdERERUPl5xJyL9NWwYLCzka0Fu3Qpv74o6//cfcnJw8iRevAAAV1cYGqojSCIiIhkW7kSk1wYMwIABABAejuXLK+q5ZQueP8f58/LCnYiISM14qwwREQCsWlVJh3798M476NhRLdEQERGVwivuREQA0KFDJR3q1gUAe3s1xEJERFQGXnEnIqqOFy+QmamOiRISkJOjjomIiEjD8Yo7EVF1nDyJc+fQtavgE82Zg1mz0KyZ4BMREVFR+fmIi1PNUIaGqnn7Bwt3IqLqePwYe/fi8mXBJ4qNxd27LNyJiNQtJQWNG6tstBUrMHu2soMIXrjfu3fPwMCg3ssXFd64caNJkyZCT0okCma7PsjIkG/cvInvvlPTpIMH46+/ULs2mjVDjRpqmrRizHbSH8x2fWNvDwsLPH+u4mHnzEGTJhgyRKlBhC3cv/zyy6ioKEtLSxMTk82bNxsbG3t6el64cEHQSYlEwWzXE66ukEjU/eqlzEwEBMDJCcOHo21btU5dJmY76Q9mux5q0ADh4XB3x9OnKh75zh1lRxC2cA8NDT19+rREIlm2bNlXX321dOlSQacjEhGzXU8sWgQXF2zciNhY1K4Na2vBZ7xyBUOG4OefYaAxqwkw20l/MNv1U7t2SExU2WhDhuCvv1QzlLCFu52d3R9//OHu7j579uyPP/549erVWVlZgs5IJBZmu/4YMQIjRmDmTLz3njoeTh07FpMna1DVDmY76RNmO2kUYf8p+O2331JSUq5evWpoaLh+/fqaNWu+8cYbgs5IJBZmu77x8EDDhuqYyNMTDg7qmEhxzHbSH8x20iiCX3GfOHGibNvQ0HDs2LHR0dGlu2VmZmYUPPBFpJ2Y7fqmd281TeThoaaJFMdsJ/3BbCeNou7lID3K+ifoyJEjW7ZsKdjNzs5WY0REQmG2k/5gtpP+YLaTiAQv3PPy8hISEpKSkqytrR0dHd3d3Uv3GThw4MCBAwt2LS0thY6KSAjMdtIfzHbSH8x20hzCFu4BAQF+fn7W1tZOTk7x8fGpqalTpkzx8vISdFIiUTDbSX8w20l/MNtJowhbuPv7+4eFhRkZyWfJy8vz8PBgupNOYraT/mC2k/5gtpNGEbZwt7e39/f3b9u2rez31OjoaBsbG0FnJBILs530B7Od9AeznTSKsIX7tm3bgoKCgoKCkpOTrays3NzcNm3aJOiMRGJhtpP+YLaT/mC2a7U92BOHOLGjwPX3ABcAONoBBY8tm8N8EiYZw7hKQwlbuNeoUcPb29vb21vQWYg0AbOd9AeznfQHs12r/Y7fxQ4BAPAyffYD+4s0n8TJAAQYVaUa16R38RERERERKWcERogdgkICEbgP+6p0irrXcSciIiIiEs50TK+BGqEIFTsQudOn8eABALRuDRcXAAhFaBKSAPy/vfuPqar+4zj+ucCVVeveS7Dix5S4alrDzEJvqQiB3FuUSbTZP7EvshabywW0NWr9oLQc7StZItLGxFKxP1KbumlbOdbcWrrldpvRoE3nlOUQQS0J5HK+f1y784uX8sb5nPv5cJ6Pv7jH6+f93ue87va+l3MPo2I0pqUY3AEAADClVIvqalEd7y6uK/+v2LdPCCH+0yRq7xNCiEViUXhwjxWXygAAAAAaYHAHAAAANMDgDgAAAGiAwR0AAADQAIM7AAAAoAEGdwAAAEADDO4AAACABhjcAQAAAA0wuAMAAAAaYHAHAAAANMDgDgAAAGiAwR0AAADQAIM7AAAAoAEGdwAAAEADDO4AAACABhjcAQAAAA0wuAMAAAAaYHAHAAAANMDgDgAAAGiAwR0AAADQAIM7AAAAoAEGdwAAAEADDO4AAACABhjcAQAAAA0wuAMAAAAaSJJdIBQK9fX1Xbx40ePxpKenJyTwVgFTFmmHfZB22AdphzrkDu4dHR0tLS0ejyczM7O3t/fy5csvv/zyqlWrpBYF4oK0wz5IO+yDtEMpcgf31tbWzs7OpKTrVUKhUGlpKXHHlETaYR+kHfZB2qEUuYN7Wlpaa2vrggULwu9Tg8FgSkqK1IpAvJB22Adph32QdihF7uC+c+fOPXv27NmzZ2BgwO125+Xltbe3S60IxAtph32QdtgHaYdS5A7ut99+e0VFRUVFReRITU3Npk2bxj3t/PnzZ8+ejTw0DENqV4AMpB32QdphH6QdSpF+V5lxSktLbz4YDAa//PLLyEOXy2VhR4AspB32QdphH6Qdsbrnnus/ZGT8dURcP5Qu0mNayurbQfr9/pufU1JSUlJSEnkYDAZldwXIQNphH6Qd9kHaMUn19WJoSKSliZUrrx/ZIDa4hGu2mL1YLI5pKW4HCZiDtMM+SDvsg7Rj8rKzxfbt/3ckV+TuErv+xVLcDhIwB2mHfZB22Adph1K4HSRgDtIO+yDtsA/SDqVwO0jAHKQd9kHaYR+kHUqx+naQwFRF2mEfpB32QdqhlIR4NwAAAADgn1l9H/dbMTAwkJqaak2tUCgUCoWmTZtmTbnh4WGn05mQYNH7paGhodtuu82aWqOjo4ZhOJ1Oa8oNDw8vWrQoMTFx3PGamhprGjALaTcLaVcfaTcLaVeflWk3xdjY2LVr15KTk+PdSAyuXbvmcDgi3xvWwvDw8MKFC/++539Iu6GeRx991LJa33777RtvvGFZucrKyq6uLsvKWbmTO3fu/OSTTywrFwgEBgcHLSsnD2k3C2lXH2k3C2lXn5XnyBQnT56sqqqKdxex+eijj3bv3h3vLmJTWlra398/mRW4VAYAAADQAIM7AAAAoAEGdwAAAEADiQ0NDfHuYTyv15uTk2NNrTvuuMPr9d59993WlMvKyvJ6vZZ9+cPKnfR4PF6v96677rKmXHZ2dk5Ozs1fYNIOaTcLaVcfaTcLaVeflefIFMnJyV6vNzMzM96NxCA1NdXr9brd7ng3EoPJJ9xhGIaJDQEAAACQgUtlAAAAAA0wuAMAAAAaYHAHAAAANMDgDgAAAGhArcH96tWrzz33XH5+fkdHhzUVDcMoKyuzoFB/f/+KFSsWL1785ptvWlDu3LlzRUVFPp9v69atFpQLa29vb25ull3ll19+yczMzMvLKy4ull1LKtJuFtKuPtJuFtKurKghtz75ty5qb+qfhZtf2ipvctjNPU9qnyf/51tN9Pnnn2/evHlkZGTJkiWjo6Oyy507dy43N3fmzJmyCxmGsXXr1o6OjrGxMb/ff+bMGdnlGhoaDh8+HAqFHnroIdm1woaGhmbNmrV582bZhQ4dOtTa2iq7igVIu1lIu/pIu1lIu7Kihtzi5Mckam+Kn4WoL22VN9mYoOfJ7LNan7ifOHFiwYIFTqfT4/H09fXJLpeRkXHixImZM2fKLiSEyM3N9fv9DofD5XIlJEjf9vLy8vz8/NHRUctuvtvS0vLUU09ZUOj06dNfffVVIBDYtWuXBeXkIe1mIe3qI+1mIe3Kihpyi5Mfk6i9KX4Wor60Vd5kMUHPk9lntQb3gYGB8M3/MzMzL168KLucw+FISkpyOByyCwkhli5d6vF4NmzYMG3atKysLNnl5s2b19fXN2fOnGXLlsmuJYS4dOnS8ePHly9fbkEtr9fb0NCwf//+jRs3WhASeUi7WUi7+ki7WUi7sqKG3OLkxyRqb4qfhagvbZU3WUzQ82T2Wa3B3e129/b2CiF6e3s9Hk+82zHTyMhIWVnZ77//vn37dgvKXbp0acaMGT09PZ2dnYODg7LLNTU11dXVya4S5vf7fT5fcnKyz+c7deqUNUVlIO1mIe3qI+1mIe3KihpylZMftTcdz4LKmzyRyeyzWoN7Xl5eMBgMhUKXL19OT0+Pdztm2rFjR0lJyfvvv+90Oi0o9+qrrwaDwcTExISEhJGREdnlfv3117feeuvtt9/esmXLDz/8ILVWfX39999/bxhGV1eXXn9QehzSbhbSrj7SbhbSrqyoIVc5+VF70/EsqLzJE5nUPk/yontzXb16ddWqVX6//4svvrCsaCAQsKBKVVXV3Llz58+fP3/+/J6eHtnlfv75Z5/P98gjj6xbt052rYgDBw5Y8AWm06dPFxQU5Ofnt7S0yK4lFWk3C2lXH2k3C2lX1riQf/3116+88kpckn+LojasxVmIvLTV3+SIcT1PZp8dhmHIeTsBAAAAwDRqXSoDAAAAICoGdwAAAEADDO4AAACABhjcAQAAAA0wuAMAAAAaYHAHAAAANMDgDgAAAGiAwR0AAADQAIM7AAAAoAEGdwAAAEADDO4AAACABhjcAQAAAA0wuMu1evXqvXv3hn9+8sknf/zxx3+9VHd390T/vbOzMzs7u7CwsLCwsLy83KxlgZiQdtgHaYd9kHalJMW7gSnuvffee/bZZ1euXHns2DGPx/Pwww//66W6u7t/++23iVaoqKhYv3696csCt460wz5IO+yDtCuFT9zlmj59enFx8e7duz/44IN169YJIfr7+/1+/5IlSz7++GMhxJkzZ4qKigKBwDvvvCOE2LRp00svvVRXV3f06NGnn346EAh899134aW2bdvW1tZ28uRJv9//+OOPNzU1/U3d4uLioaGhsbGxZcuWXbhw4caKzc3Na9eufeaZZ+rq6iLLDg4Oyt4KTHmkHfZB2mEfpF0pDO7S1dfXr1+/fvr06bNmzRJCNDc3V1dXHz169NChQxcuXDh//vzGjRsPHz585MiR8PMzMjKampoOHjxYW1u7bdu2P/74I3y8qqrqxRdfbG9vr62tPXLkyL59+27M6I4dO8K/YFqzZo0QoqSkpLOz89ixYwUFBVu2bLmxohAiLS1t//79P/30UygUCi/r8Xis3hdMRaQd9kHaYR+kXR1cKiNdSkpKQUHB6tWrww97enq6uroOHDhgGEZ/f7/b7W5sbHS5XH/++Wf4CY899pgQYs2aNe++++7AwMBrr71242qnTp1auHChw+F48MEHz549G4npuF8wrVix4tNPP73zzjuff/75Dz/88MaKQgifzyeEcLvdhmHI3wDYCGmHfZB22AdpVweDuxWcTqfT6Qz/fO+99y5fvrywsLCtrc3r9dbU1NTU1MydOzc/Pz/8hKSkJCHE3r17GxsbhRCVlZUHDx4M/5NhGDk5OcePH3/iiSeCwWBWVtZEFR944IHu7m6XyzVv3rxxFSMlIuwWekhF2mEfpB32QdoVwaUyVlu7dm1jY2NpaemVK1ecTmd5efnrr7/+wgsvpKamfvPNN5GnzZ49O/zutrKyMnxkxowZbW1tlZWVTU1NRUVFZWVlKSkpked/9tlnS/9y5coVh8Nx//33z5kzx+FwjKs4rp/wsja5MgwWI+2wD9IO+yDtceSwz3sUAAAAQF984g4AAABo4H+il0lHN7h7wAAAAABJRU5ErkJggg=='>"
       ],
       "output_type": "pyout",
       "prompt_number": 307,
       "text": [
        "<Reports.Figures.Show at 0xd54d2d0>"
       ]
      }
     ],
     "prompt_number": 307
    },
    {
     "cell_type": "code",
     "collapsed": false,
     "input": [],
     "language": "python",
     "metadata": {},
     "outputs": []
    }
   ],
   "metadata": {}
  }
 ]
}