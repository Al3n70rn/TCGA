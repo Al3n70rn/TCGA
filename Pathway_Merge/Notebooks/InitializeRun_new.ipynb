{
 "metadata": {
  "name": "InitializeRun_new"
 },
 "nbformat": 3,
 "nbformat_minor": 0,
 "worksheets": [
  {
   "cells": [
    {
     "cell_type": "code",
     "collapsed": false,
     "input": [
      "cd ../src"
     ],
     "language": "python",
     "metadata": {},
     "outputs": [
      {
       "output_type": "stream",
       "stream": "stdout",
       "text": [
        "/cellar/users/agross/TCGA_Code/TCGA/Pathway_Merge/src\n"
       ]
      }
     ],
     "prompt_number": 1
    },
    {
     "cell_type": "code",
     "collapsed": false,
     "input": [
      "import os as os\n",
      "import pickle as pickle\n",
      "\n",
      "from Data.Containers import Run\n",
      "\n",
      "import pandas as pd"
     ],
     "language": "python",
     "metadata": {},
     "outputs": [],
     "prompt_number": 2
    },
    {
     "cell_type": "code",
     "collapsed": false,
     "input": [
      "date = '2013_04_21'\n",
      "version = 'test'\n",
      "data_path = '/cellar/data/TCGA/Firehose__2013_04_21/'\n",
      "result_path = '/cellar/data/TCGA/Firehose__2013_04_21/ucsd_analyses/'\n",
      "parameters = {'min_patients' : 12,\n",
      "              'pathway_file' : '/cellar/users/agross/Data/GeneSets/c2.cp.v3.0.symbols_edit.csv'\n",
      "              }\n",
      "description = '''Streamlining code, getting rid of cruft.'''"
     ],
     "language": "python",
     "metadata": {},
     "outputs": [],
     "prompt_number": 36
    },
    {
     "cell_type": "code",
     "collapsed": false,
     "input": [
      "cancer_codes = pd.read_table('/cellar/data/TCGA/MetaData/diseaseStudy.txt',\n",
      "                             index_col=0, squeeze=True)\n",
      "run_dir = 'http://gdac.broadinstitute.org/runs'\n",
      "f = '{}/analyses__{}/ingested_data.tsv'.format(run_dir, date)\n",
      "sample_matrix = pd.read_table(f, skiprows=4, index_col=0).dropna()"
     ],
     "language": "python",
     "metadata": {},
     "outputs": [],
     "prompt_number": 37
    },
    {
     "cell_type": "code",
     "collapsed": false,
     "input": [
      "r = Run(date, version, data_path, result_path, parameters, cancer_codes, \n",
      "        sample_matrix, description)\n",
      "r.save()\n",
      "r"
     ],
     "language": "python",
     "metadata": {},
     "outputs": [
      {
       "output_type": "pyout",
       "prompt_number": 38,
       "text": [
        "Run object for TCGA Analysis\n",
        "Firehose run date: 2013_04_21\n",
        "Code version: test\n",
        "Comment: Streamlining code, getting rid of cruft.\n"
       ]
      }
     ],
     "prompt_number": 38
    },
    {
     "cell_type": "code",
     "collapsed": false,
     "input": [
      "from Data.Containers import get_run\n",
      "from Data.Containers import Cancer\n",
      "from Initialization.InitializeCN import initialize_cn\n",
      "from Initialization.InitializeReal import initialize_real\n",
      "from Initialization.InitializeMut import initialize_mut"
     ],
     "language": "python",
     "metadata": {},
     "outputs": [],
     "prompt_number": 39
    },
    {
     "cell_type": "code",
     "collapsed": false,
     "input": [
      "run = r"
     ],
     "language": "python",
     "metadata": {},
     "outputs": [],
     "prompt_number": 40
    },
    {
     "cell_type": "code",
     "collapsed": false,
     "input": [
      "cancer_type = 'HNSC'"
     ],
     "language": "python",
     "metadata": {},
     "outputs": [],
     "prompt_number": 41
    },
    {
     "cell_type": "code",
     "collapsed": false,
     "input": [
      "cancer = Cancer(cancer_type, run)\n",
      "cancer.initialize_data(run, save=True)"
     ],
     "language": "python",
     "metadata": {},
     "outputs": [],
     "prompt_number": "*"
    },
    {
     "cell_type": "code",
     "collapsed": false,
     "input": [
      "clinical = cancer.load_clinical()"
     ],
     "language": "python",
     "metadata": {},
     "outputs": [],
     "prompt_number": "*"
    },
    {
     "cell_type": "code",
     "collapsed": false,
     "input": [
      "tss = pd.Series(map(lambda s: s.split('-')[1], clinical.clinical.index), clinical.clinical.index)\n",
      "test = tss.order()[::3].index\n",
      "train = tss.index.diff(test)"
     ],
     "language": "python",
     "metadata": {},
     "outputs": [],
     "prompt_number": "*"
    },
    {
     "cell_type": "code",
     "collapsed": false,
     "input": [
      "patients = test"
     ],
     "language": "python",
     "metadata": {},
     "outputs": [],
     "prompt_number": "*"
    },
    {
     "cell_type": "code",
     "collapsed": false,
     "input": [
      "p = clinical.clinical.yearofinitialpathologicdiagnosis.astype(float).dropna() >= 1999\n",
      "patients = p.index[p]"
     ],
     "language": "python",
     "metadata": {},
     "outputs": [],
     "prompt_number": 31
    },
    {
     "cell_type": "code",
     "collapsed": false,
     "input": [
      "run.patients = patients\n",
      "run.save()"
     ],
     "language": "python",
     "metadata": {},
     "outputs": [],
     "prompt_number": 32
    },
    {
     "cell_type": "code",
     "collapsed": false,
     "input": [
      "for data_type in ['mRNASeq','Methylation','RPPA','miRNASeq']:\n",
      "    initialize_real('HNSC', run.report_path, data_type, patients=patients, create_meta_features=True, filter_down=True)\n",
      "initialize_cn('HNSC', run.report_path, 'CN_broad', patients=patients);\n",
      "initialize_mut('HNSC', run.report_path, patients=patients, create_meta_features=True);"
     ],
     "language": "python",
     "metadata": {},
     "outputs": [],
     "prompt_number": 33
    }
   ],
   "metadata": {}
  }
 ]
}