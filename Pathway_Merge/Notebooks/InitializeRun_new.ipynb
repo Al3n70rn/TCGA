{
 "metadata": {
  "name": "InitializeRun_new"
 },
 "nbformat": 3,
 "nbformat_minor": 0,
 "worksheets": [
  {
   "cells": [
    {
     "cell_type": "code",
     "collapsed": false,
     "input": [
      "cd ../src"
     ],
     "language": "python",
     "metadata": {},
     "outputs": [
      {
       "output_type": "stream",
       "stream": "stdout",
       "text": [
        "/cellar/users/agross/TCGA_Code/TCGA/Pathway_Merge/src\n"
       ]
      }
     ],
     "prompt_number": 1
    },
    {
     "cell_type": "code",
     "collapsed": false,
     "input": [
      "import os as os\n",
      "import pickle as pickle\n",
      "\n",
      "from Data.Containers import Run\n",
      "from Processing.Helpers import make_path_dump\n",
      "\n",
      "import pandas as pd"
     ],
     "language": "python",
     "metadata": {},
     "outputs": [],
     "prompt_number": 2
    },
    {
     "cell_type": "code",
     "collapsed": false,
     "input": [
      "date = '2013_04_21'\n",
      "version = 'test'\n",
      "data_path = '/cellar/data/TCGA/Firehose__2013_04_21/'\n",
      "result_path = '/cellar/data/TCGA/Firehose__2013_04_21/ucsd_analyses/'\n",
      "parameters = {'min_patients' : 12,\n",
      "              'pathway_file' : '/cellar/users/agross/Data/GeneSets/c2.cp.v3.0.symbols_edit.csv'\n",
      "              }\n",
      "description = '''Streamlining code, getting rid of cruft.'''"
     ],
     "language": "python",
     "metadata": {},
     "outputs": [],
     "prompt_number": 3
    },
    {
     "cell_type": "code",
     "collapsed": false,
     "input": [
      "cancer_codes = pd.read_table('/cellar/data/TCGA/MetaData/diseaseStudy.txt',\n",
      "                             index_col=0, squeeze=True)\n",
      "run_dir = 'http://gdac.broadinstitute.org/runs'\n",
      "f = '{}/analyses__{}/ingested_data.tsv'.format(run_dir, date)\n",
      "sample_matrix = pd.read_table(f, skiprows=4, index_col=0).dropna()"
     ],
     "language": "python",
     "metadata": {},
     "outputs": [],
     "prompt_number": 4
    },
    {
     "cell_type": "code",
     "collapsed": false,
     "input": [
      "r = Run(date, version, data_path, result_path, parameters, cancer_codes, \n",
      "        sample_matrix, description)\n",
      "r.save()\n",
      "r"
     ],
     "language": "python",
     "metadata": {},
     "outputs": [
      {
       "output_type": "pyout",
       "prompt_number": 5,
       "text": [
        "Run object for TCGA Analysis\n",
        "Firehose run date: 2013_04_21\n",
        "Code version: test\n",
        "Comment: Streamlining code, getting rid of cruft.\n"
       ]
      }
     ],
     "prompt_number": 5
    },
    {
     "cell_type": "code",
     "collapsed": false,
     "input": [
      "from Data.Containers import get_run\n",
      "from Data.Containers import Cancer"
     ],
     "language": "python",
     "metadata": {},
     "outputs": [],
     "prompt_number": 6
    },
    {
     "cell_type": "code",
     "collapsed": false,
     "input": [
      "%xmode verbose"
     ],
     "language": "python",
     "metadata": {},
     "outputs": [
      {
       "output_type": "stream",
       "stream": "stdout",
       "text": [
        "Exception reporting mode: Context\n"
       ]
      }
     ],
     "prompt_number": 7
    },
    {
     "cell_type": "code",
     "collapsed": false,
     "input": [
      "firehose_dir = '/cellar/data/TCGA/Firehose__2013_04_21'\n",
      "rr = get_run(firehose_dir)"
     ],
     "language": "python",
     "metadata": {},
     "outputs": [],
     "prompt_number": 8
    },
    {
     "cell_type": "code",
     "collapsed": false,
     "input": [
      "cancer = Cancer('HNSC', rr)"
     ],
     "language": "python",
     "metadata": {},
     "outputs": [],
     "prompt_number": 9
    },
    {
     "cell_type": "code",
     "collapsed": false,
     "input": [
      "cancer.initialize_data(rr, save=True)"
     ],
     "language": "python",
     "metadata": {},
     "outputs": [],
     "prompt_number": 10
    },
    {
     "cell_type": "code",
     "collapsed": false,
     "input": [
      "import Initialization.InitializeReal as IR\n",
      "reload(IR)"
     ],
     "language": "python",
     "metadata": {},
     "outputs": [
      {
       "output_type": "pyout",
       "prompt_number": 66,
       "text": [
        "<module 'Initialization.InitializeReal' from 'Initialization/InitializeReal.py'>"
       ]
      }
     ],
     "prompt_number": 66
    },
    {
     "cell_type": "code",
     "collapsed": false,
     "input": [
      "import Data.Intermediate as IM\n",
      "reload(IM)"
     ],
     "language": "python",
     "metadata": {},
     "outputs": [
      {
       "output_type": "pyout",
       "prompt_number": 53,
       "text": [
        "<module 'Data.Intermediate' from 'Data/Intermediate.pyc'>"
       ]
      }
     ],
     "prompt_number": 53
    },
    {
     "cell_type": "code",
     "collapsed": false,
     "input": [
      "from Initialization.InitializeReal import initialize_real"
     ],
     "language": "python",
     "metadata": {},
     "outputs": [],
     "prompt_number": 31
    },
    {
     "cell_type": "code",
     "collapsed": false,
     "input": [
      "data = initialize_real('HNSC', rr.report_path, 'mRNASeq', create_meta_features=True)"
     ],
     "language": "python",
     "metadata": {},
     "outputs": [],
     "prompt_number": 54
    },
    {
     "cell_type": "code",
     "collapsed": false,
     "input": [
      "data = initialize_real('HNSC', rr.report_path, 'RPPA', create_meta_features=True)"
     ],
     "language": "python",
     "metadata": {},
     "outputs": [],
     "prompt_number": 68
    }
   ],
   "metadata": {}
  }
 ]
}