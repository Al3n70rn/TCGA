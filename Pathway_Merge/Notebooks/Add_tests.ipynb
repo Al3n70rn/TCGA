{
 "metadata": {
  "name": "Add_tests"
 },
 "nbformat": 3,
 "nbformat_minor": 0,
 "worksheets": [
  {
   "cells": [
    {
     "cell_type": "code",
     "collapsed": false,
     "input": [
      "cd ../src/"
     ],
     "language": "python",
     "metadata": {},
     "outputs": [
      {
       "output_type": "stream",
       "stream": "stdout",
       "text": [
        "/cellar/users/agross/TCGA_Code/TCGA/Pathway_Merge/src\n"
       ]
      }
     ],
     "prompt_number": 1
    },
    {
     "cell_type": "code",
     "collapsed": false,
     "input": [
      "import pandas as pandas\n",
      "from Data.Pathways import read_in_pathways\n",
      "from Processing.Clinical import ClinicalObject\n",
      "import pickle as pickle\n",
      "import os as os\n",
      "\n",
      "pandas.set_printoptions(max_columns=300)"
     ],
     "language": "python",
     "metadata": {},
     "outputs": [],
     "prompt_number": 2
    },
    {
     "cell_type": "code",
     "collapsed": false,
     "input": [
      "firehose_path = '/cellar/users/agross/Data/TCGA/'\n",
      "date = '20120913'\n",
      "date_ = '_'.join([date[:4], date[4:6], date[6:8]])\n",
      "pathway_file = '/cellar/users/agross/Data/GeneSets/c2.cp.v3.0.symbols_edit.csv'\n",
      "gene_sets, gene_lookup = read_in_pathways(pathway_file)\n",
      "cancers = os.listdir(firehose_path + 'analyses__' + date_)"
     ],
     "language": "python",
     "metadata": {},
     "outputs": [],
     "prompt_number": 3
    },
    {
     "cell_type": "code",
     "collapsed": false,
     "input": [
      "report_ext = 'cov_rate_drop_pc_2'\n",
      "\n",
      "REAL_VARIABLES = ['AMAR','rate','age','karnofsky_performance']\n",
      "BINARY_VARIABLES = ['gender', 'therapy', 'radiation', 'triple_neg', 'triple_pos',\n",
      "                    'ER_pos','PR_pos','her2_pos', 'lymphnode_n0n1', 'tumor_t1t2',\n",
      "                    'post_menopause', 'histo_g1g2', 'neo_status', 'organ_subdivision'\n",
      "                    'complete_response', 'metastatic_recurrence']\n",
      "SURVIVAL_TESTS = {'survival' : {'event_var' : 'deceased', 'time_var' : 'days', \n",
      "                                'covariates' : ['age', 'rate']},\n",
      "                  'event_free_survival' : {'event_var' : 'event', \n",
      "                                           'time_var' : 'event_free_survival', \n",
      "                                           'covariates' : ['age', 'rate']}\n",
      "                  }"
     ],
     "language": "python",
     "metadata": {},
     "outputs": [],
     "prompt_number": 4
    },
    {
     "cell_type": "code",
     "collapsed": false,
     "input": [
      "cancer = 'OV'\n",
      "data_path = firehose_path + 'analyses__' + date_ + '/' + cancer + '/' + date + '/'\n",
      "cancer = ClinicalObject(cancer, data_path, gene_sets, data_type='expression',\n",
      "                        survival_tests=SURVIVAL_TESTS, real_variables=REAL_VARIABLES,\n",
      "                        binary_variables=BINARY_VARIABLES, drop_pc=True)"
     ],
     "language": "python",
     "metadata": {},
     "outputs": [
      {
       "output_type": "stream",
       "stream": "stdout",
       "text": [
        "rate not in clinical data... running anyway.\n",
        "rate not in clinical data... running anyway.\n",
        "rate not in clinical data... running anyway."
       ]
      },
      {
       "output_type": "stream",
       "stream": "stdout",
       "text": [
        "\n",
        "rate not in clinical data... running anyway.\n",
        "rate not in clinical data... running anyway."
       ]
      },
      {
       "output_type": "stream",
       "stream": "stdout",
       "text": [
        "\n",
        "rate not in clinical data... running anyway.\n",
        "rate not in clinical data... running anyway."
       ]
      },
      {
       "output_type": "stream",
       "stream": "stdout",
       "text": [
        "\n",
        "rate not in clinical data... running anyway.\n",
        "rate not in clinical data... running anyway."
       ]
      },
      {
       "output_type": "stream",
       "stream": "stdout",
       "text": [
        "\n",
        "rate not in clinical data... running anyway.\n",
        "rate not in clinical data... running anyway."
       ]
      },
      {
       "output_type": "stream",
       "stream": "stdout",
       "text": [
        "\n",
        "rate not in clinical data... running anyway.\n",
        "rate not in clinical data... running anyway."
       ]
      },
      {
       "output_type": "stream",
       "stream": "stdout",
       "text": [
        "\n",
        "rate not in clinical data... running anyway.\n",
        "rate not in clinical data... running anyway."
       ]
      },
      {
       "output_type": "stream",
       "stream": "stdout",
       "text": [
        "\n",
        "rate not in clinical data... running anyway.\n",
        "rate not in clinical data... running anyway."
       ]
      },
      {
       "output_type": "stream",
       "stream": "stdout",
       "text": [
        "\n",
        "rate not in clinical data... running anyway."
       ]
      },
      {
       "output_type": "stream",
       "stream": "stdout",
       "text": [
        "\n",
        "rate not in clinical data... running anyway.\n",
        "rate not in clinical data... running anyway."
       ]
      },
      {
       "output_type": "stream",
       "stream": "stdout",
       "text": [
        "\n",
        "rate not in clinical data... running anyway.\n",
        "rate not in clinical data... running anyway."
       ]
      },
      {
       "output_type": "stream",
       "stream": "stdout",
       "text": [
        "\n",
        "rate not in clinical data... running anyway.\n",
        "rate not in clinical data... running anyway."
       ]
      },
      {
       "output_type": "stream",
       "stream": "stdout",
       "text": [
        "\n",
        "rate not in clinical data... running anyway.\n",
        "rate not in clinical data... running anyway."
       ]
      },
      {
       "output_type": "stream",
       "stream": "stdout",
       "text": [
        "\n",
        "rate not in clinical data... running anyway."
       ]
      },
      {
       "output_type": "stream",
       "stream": "stdout",
       "text": [
        "\n",
        "rate not in clinical data... running anyway.\n",
        "rate not in clinical data... running anyway."
       ]
      },
      {
       "output_type": "stream",
       "stream": "stdout",
       "text": [
        "\n",
        "rate not in clinical data... running anyway.\n",
        "rate not in clinical data... running anyway."
       ]
      },
      {
       "output_type": "stream",
       "stream": "stdout",
       "text": [
        "\n",
        "rate not in clinical data... running anyway.\n",
        "rate not in clinical data... running anyway."
       ]
      },
      {
       "output_type": "stream",
       "stream": "stdout",
       "text": [
        "\n",
        "rate not in clinical data... running anyway.\n",
        "rate not in clinical data... running anyway."
       ]
      },
      {
       "output_type": "stream",
       "stream": "stdout",
       "text": [
        "\n",
        "rate not in clinical data... running anyway.\n",
        "rate not in clinical data... running anyway."
       ]
      },
      {
       "output_type": "stream",
       "stream": "stdout",
       "text": [
        "\n",
        "rate not in clinical data... running anyway.\n",
        "rate not in clinical data... running anyway."
       ]
      },
      {
       "output_type": "stream",
       "stream": "stdout",
       "text": [
        "\n",
        "rate not in clinical data... running anyway.\n",
        "rate not in clinical data... running anyway."
       ]
      },
      {
       "output_type": "stream",
       "stream": "stdout",
       "text": [
        "\n",
        "rate not in clinical data... running anyway.\n",
        "rate not in clinical data... running anyway."
       ]
      },
      {
       "output_type": "stream",
       "stream": "stdout",
       "text": [
        "\n",
        "rate not in clinical data... running anyway.\n",
        "rate not in clinical data... running anyway."
       ]
      },
      {
       "output_type": "stream",
       "stream": "stdout",
       "text": [
        "\n",
        "rate not in clinical data... running anyway.\n",
        "rate not in clinical data... running anyway."
       ]
      },
      {
       "output_type": "stream",
       "stream": "stdout",
       "text": [
        "\n",
        "rate not in clinical data... running anyway.\n",
        "rate not in clinical data... running anyway."
       ]
      },
      {
       "output_type": "stream",
       "stream": "stdout",
       "text": [
        "\n",
        "rate not in clinical data... running anyway.\n",
        "rate not in clinical data... running anyway."
       ]
      },
      {
       "output_type": "stream",
       "stream": "stdout",
       "text": [
        "\n",
        "rate not in clinical data... running anyway.\n",
        "rate not in clinical data... running anyway."
       ]
      },
      {
       "output_type": "stream",
       "stream": "stdout",
       "text": [
        "\n",
        "rate not in clinical data... running anyway.\n",
        "rate not in clinical data... running anyway."
       ]
      },
      {
       "output_type": "stream",
       "stream": "stdout",
       "text": [
        "\n",
        "rate not in clinical data... running anyway.\n",
        "rate not in clinical data... running anyway."
       ]
      },
      {
       "output_type": "stream",
       "stream": "stdout",
       "text": [
        "\n",
        "rate not in clinical data... running anyway.\n",
        "rate not in clinical data... running anyway."
       ]
      },
      {
       "output_type": "stream",
       "stream": "stdout",
       "text": [
        "\n",
        "rate not in clinical data... running anyway.\n",
        "rate not in clinical data... running anyway."
       ]
      },
      {
       "output_type": "stream",
       "stream": "stdout",
       "text": [
        "\n",
        "rate not in clinical data... running anyway.\n",
        "rate not in clinical data... running anyway."
       ]
      },
      {
       "output_type": "stream",
       "stream": "stdout",
       "text": [
        "\n",
        "rate not in clinical data... running anyway.\n",
        "rate not in clinical data... running anyway."
       ]
      },
      {
       "output_type": "stream",
       "stream": "stdout",
       "text": [
        "\n",
        "rate not in clinical data... running anyway.\n",
        "rate not in clinical data... running anyway."
       ]
      },
      {
       "output_type": "stream",
       "stream": "stdout",
       "text": [
        "\n",
        "rate not in clinical data... running anyway.\n",
        "rate not in clinical data... running anyway."
       ]
      },
      {
       "output_type": "stream",
       "stream": "stdout",
       "text": [
        "\n",
        "rate not in clinical data... running anyway.\n",
        "rate not in clinical data... running anyway."
       ]
      },
      {
       "output_type": "stream",
       "stream": "stdout",
       "text": [
        "\n",
        "rate not in clinical data... running anyway.\n",
        "rate not in clinical data... running anyway."
       ]
      },
      {
       "output_type": "stream",
       "stream": "stdout",
       "text": [
        "\n",
        "rate not in clinical data... running anyway.\n",
        "rate not in clinical data... running anyway."
       ]
      },
      {
       "output_type": "stream",
       "stream": "stdout",
       "text": [
        "\n",
        "rate not in clinical data... running anyway."
       ]
      },
      {
       "output_type": "stream",
       "stream": "stdout",
       "text": [
        "\n",
        "rate not in clinical data... running anyway.\n",
        "rate not in clinical data... running anyway."
       ]
      },
      {
       "output_type": "stream",
       "stream": "stdout",
       "text": [
        "\n",
        "rate not in clinical data... running anyway.\n",
        "rate not in clinical data... running anyway."
       ]
      },
      {
       "output_type": "stream",
       "stream": "stdout",
       "text": [
        "\n",
        "rate not in clinical data... running anyway.\n",
        "rate not in clinical data... running anyway."
       ]
      },
      {
       "output_type": "stream",
       "stream": "stdout",
       "text": [
        "\n",
        "rate not in clinical data... running anyway.\n",
        "rate not in clinical data... running anyway."
       ]
      },
      {
       "output_type": "stream",
       "stream": "stdout",
       "text": [
        "\n",
        "rate not in clinical data... running anyway.\n",
        "rate not in clinical data... running anyway."
       ]
      },
      {
       "output_type": "stream",
       "stream": "stdout",
       "text": [
        "\n",
        "rate not in clinical data... running anyway.\n",
        "rate not in clinical data... running anyway."
       ]
      },
      {
       "output_type": "stream",
       "stream": "stdout",
       "text": [
        "\n",
        "rate not in clinical data... running anyway.\n",
        "rate not in clinical data... running anyway."
       ]
      },
      {
       "output_type": "stream",
       "stream": "stdout",
       "text": [
        "\n",
        "rate not in clinical data... running anyway.\n",
        "rate not in clinical data... running anyway."
       ]
      },
      {
       "output_type": "stream",
       "stream": "stdout",
       "text": [
        "\n",
        "rate not in clinical data... running anyway.\n",
        "rate not in clinical data... running anyway."
       ]
      },
      {
       "output_type": "stream",
       "stream": "stdout",
       "text": [
        "\n",
        "rate not in clinical data... running anyway.\n",
        "rate not in clinical data... running anyway."
       ]
      },
      {
       "output_type": "stream",
       "stream": "stdout",
       "text": [
        "\n",
        "rate not in clinical data... running anyway.\n",
        "rate not in clinical data... running anyway."
       ]
      },
      {
       "output_type": "stream",
       "stream": "stdout",
       "text": [
        "\n",
        "rate not in clinical data... running anyway.\n",
        "rate not in clinical data... running anyway."
       ]
      },
      {
       "output_type": "stream",
       "stream": "stdout",
       "text": [
        "\n",
        "rate not in clinical data... running anyway.\n",
        "rate not in clinical data... running anyway."
       ]
      },
      {
       "output_type": "stream",
       "stream": "stdout",
       "text": [
        "\n",
        "rate not in clinical data... running anyway.\n",
        "rate not in clinical data... running anyway."
       ]
      },
      {
       "output_type": "stream",
       "stream": "stdout",
       "text": [
        "\n",
        "rate not in clinical data... running anyway.\n",
        "rate not in clinical data... running anyway."
       ]
      },
      {
       "output_type": "stream",
       "stream": "stdout",
       "text": [
        "\n",
        "rate not in clinical data... running anyway.\n",
        "rate not in clinical data... running anyway."
       ]
      },
      {
       "output_type": "stream",
       "stream": "stdout",
       "text": [
        "\n",
        "rate not in clinical data... running anyway.\n",
        "rate not in clinical data... running anyway."
       ]
      },
      {
       "output_type": "stream",
       "stream": "stdout",
       "text": [
        "\n",
        "rate not in clinical data... running anyway.\n",
        "rate not in clinical data... running anyway."
       ]
      },
      {
       "output_type": "stream",
       "stream": "stdout",
       "text": [
        "\n",
        "rate not in clinical data... running anyway.\n",
        "rate not in clinical data... running anyway."
       ]
      },
      {
       "output_type": "stream",
       "stream": "stdout",
       "text": [
        "\n",
        "rate not in clinical data... running anyway.\n",
        "rate not in clinical data... running anyway."
       ]
      },
      {
       "output_type": "stream",
       "stream": "stdout",
       "text": [
        "\n",
        "rate not in clinical data... running anyway.\n",
        "rate not in clinical data... running anyway."
       ]
      },
      {
       "output_type": "stream",
       "stream": "stdout",
       "text": [
        "\n",
        "rate not in clinical data... running anyway.\n",
        "rate not in clinical data... running anyway."
       ]
      },
      {
       "output_type": "stream",
       "stream": "stdout",
       "text": [
        "\n",
        "rate not in clinical data... running anyway.\n",
        "rate not in clinical data... running anyway."
       ]
      },
      {
       "output_type": "stream",
       "stream": "stdout",
       "text": [
        "\n",
        "rate not in clinical data... running anyway.\n",
        "rate not in clinical data... running anyway."
       ]
      },
      {
       "output_type": "stream",
       "stream": "stdout",
       "text": [
        "\n",
        "rate not in clinical data... running anyway.\n",
        "rate not in clinical data... running anyway."
       ]
      },
      {
       "output_type": "stream",
       "stream": "stdout",
       "text": [
        "\n",
        "rate not in clinical data... running anyway.\n",
        "rate not in clinical data... running anyway."
       ]
      },
      {
       "output_type": "stream",
       "stream": "stdout",
       "text": [
        "\n",
        "rate not in clinical data... running anyway.\n",
        "rate not in clinical data... running anyway."
       ]
      },
      {
       "output_type": "stream",
       "stream": "stdout",
       "text": [
        "\n",
        "rate not in clinical data... running anyway.\n",
        "rate not in clinical data... running anyway."
       ]
      },
      {
       "output_type": "stream",
       "stream": "stdout",
       "text": [
        "\n",
        "rate not in clinical data... running anyway.\n",
        "rate not in clinical data... running anyway."
       ]
      },
      {
       "output_type": "stream",
       "stream": "stdout",
       "text": [
        "\n",
        "rate not in clinical data... running anyway.\n",
        "rate not in clinical data... running anyway."
       ]
      },
      {
       "output_type": "stream",
       "stream": "stdout",
       "text": [
        "\n",
        "rate not in clinical data... running anyway.\n",
        "rate not in clinical data... running anyway."
       ]
      },
      {
       "output_type": "stream",
       "stream": "stdout",
       "text": [
        "\n",
        "rate not in clinical data... running anyway.\n",
        "rate not in clinical data... running anyway."
       ]
      },
      {
       "output_type": "stream",
       "stream": "stdout",
       "text": [
        "\n",
        "rate not in clinical data... running anyway.\n",
        "rate not in clinical data... running anyway."
       ]
      },
      {
       "output_type": "stream",
       "stream": "stdout",
       "text": [
        "\n",
        "rate not in clinical data... running anyway.\n",
        "rate not in clinical data... running anyway."
       ]
      },
      {
       "output_type": "stream",
       "stream": "stdout",
       "text": [
        "\n",
        "rate not in clinical data... running anyway.\n",
        "rate not in clinical data... running anyway."
       ]
      },
      {
       "output_type": "stream",
       "stream": "stdout",
       "text": [
        "\n",
        "rate not in clinical data... running anyway.\n",
        "rate not in clinical data... running anyway."
       ]
      },
      {
       "output_type": "stream",
       "stream": "stdout",
       "text": [
        "\n",
        "rate not in clinical data... running anyway.\n",
        "rate not in clinical data... running anyway."
       ]
      },
      {
       "output_type": "stream",
       "stream": "stdout",
       "text": [
        "\n",
        "rate not in clinical data... running anyway.\n",
        "rate not in clinical data... running anyway."
       ]
      },
      {
       "output_type": "stream",
       "stream": "stdout",
       "text": [
        "\n",
        "rate not in clinical data... running anyway.\n",
        "rate not in clinical data... running anyway."
       ]
      },
      {
       "output_type": "stream",
       "stream": "stdout",
       "text": [
        "\n",
        "rate not in clinical data... running anyway.\n",
        "rate not in clinical data... running anyway."
       ]
      },
      {
       "output_type": "stream",
       "stream": "stdout",
       "text": [
        "\n",
        "rate not in clinical data... running anyway.\n",
        "rate not in clinical data... running anyway."
       ]
      },
      {
       "output_type": "stream",
       "stream": "stdout",
       "text": [
        "\n",
        "rate not in clinical data... running anyway.\n",
        "rate not in clinical data... running anyway."
       ]
      },
      {
       "output_type": "stream",
       "stream": "stdout",
       "text": [
        "\n",
        "rate not in clinical data... running anyway.\n",
        "rate not in clinical data... running anyway."
       ]
      },
      {
       "output_type": "stream",
       "stream": "stdout",
       "text": [
        "\n",
        "rate not in clinical data... running anyway.\n",
        "rate not in clinical data... running anyway."
       ]
      },
      {
       "output_type": "stream",
       "stream": "stdout",
       "text": [
        "\n",
        "rate not in clinical data... running anyway.\n",
        "rate not in clinical data... running anyway."
       ]
      },
      {
       "output_type": "stream",
       "stream": "stdout",
       "text": [
        "\n",
        "rate not in clinical data... running anyway.\n",
        "rate not in clinical data... running anyway."
       ]
      },
      {
       "output_type": "stream",
       "stream": "stdout",
       "text": [
        "\n",
        "rate not in clinical data... running anyway.\n",
        "rate not in clinical data... running anyway."
       ]
      },
      {
       "output_type": "stream",
       "stream": "stdout",
       "text": [
        "\n",
        "rate not in clinical data... running anyway.\n",
        "rate not in clinical data... running anyway."
       ]
      },
      {
       "output_type": "stream",
       "stream": "stdout",
       "text": [
        "\n",
        "rate not in clinical data... running anyway.\n",
        "rate not in clinical data... running anyway."
       ]
      },
      {
       "output_type": "stream",
       "stream": "stdout",
       "text": [
        "\n",
        "rate not in clinical data... running anyway.\n",
        "rate not in clinical data... running anyway."
       ]
      },
      {
       "output_type": "stream",
       "stream": "stdout",
       "text": [
        "\n",
        "rate not in clinical data... running anyway."
       ]
      },
      {
       "output_type": "stream",
       "stream": "stdout",
       "text": [
        "\n",
        "rate not in clinical data... running anyway.\n",
        "rate not in clinical data... running anyway."
       ]
      },
      {
       "output_type": "stream",
       "stream": "stdout",
       "text": [
        "\n",
        "rate not in clinical data... running anyway.\n",
        "rate not in clinical data... running anyway."
       ]
      },
      {
       "output_type": "stream",
       "stream": "stdout",
       "text": [
        "\n",
        "rate not in clinical data... running anyway.\n",
        "rate not in clinical data... running anyway."
       ]
      },
      {
       "output_type": "stream",
       "stream": "stdout",
       "text": [
        "\n",
        "rate not in clinical data... running anyway.\n",
        "rate not in clinical data... running anyway."
       ]
      },
      {
       "output_type": "stream",
       "stream": "stdout",
       "text": [
        "\n",
        "rate not in clinical data... running anyway.\n",
        "rate not in clinical data... running anyway."
       ]
      },
      {
       "output_type": "stream",
       "stream": "stdout",
       "text": [
        "\n",
        "rate not in clinical data... running anyway.\n",
        "rate not in clinical data... running anyway."
       ]
      },
      {
       "output_type": "stream",
       "stream": "stdout",
       "text": [
        "\n",
        "rate not in clinical data... running anyway.\n",
        "rate not in clinical data... running anyway."
       ]
      },
      {
       "output_type": "stream",
       "stream": "stdout",
       "text": [
        "\n",
        "rate not in clinical data... running anyway.\n",
        "rate not in clinical data... running anyway."
       ]
      },
      {
       "output_type": "stream",
       "stream": "stdout",
       "text": [
        "\n",
        "rate not in clinical data... running anyway.\n",
        "rate not in clinical data... running anyway."
       ]
      },
      {
       "output_type": "stream",
       "stream": "stdout",
       "text": [
        "\n",
        "rate not in clinical data... running anyway.\n",
        "rate not in clinical data... running anyway."
       ]
      },
      {
       "output_type": "stream",
       "stream": "stdout",
       "text": [
        "\n",
        "rate not in clinical data... running anyway.\n",
        "rate not in clinical data... running anyway."
       ]
      },
      {
       "output_type": "stream",
       "stream": "stdout",
       "text": [
        "\n",
        "rate not in clinical data... running anyway.\n",
        "rate not in clinical data... running anyway."
       ]
      },
      {
       "output_type": "stream",
       "stream": "stdout",
       "text": [
        "\n",
        "rate not in clinical data... running anyway.\n",
        "rate not in clinical data... running anyway."
       ]
      },
      {
       "output_type": "stream",
       "stream": "stdout",
       "text": [
        "\n",
        "rate not in clinical data... running anyway.\n",
        "rate not in clinical data... running anyway."
       ]
      },
      {
       "output_type": "stream",
       "stream": "stdout",
       "text": [
        "\n",
        "rate not in clinical data... running anyway.\n",
        "rate not in clinical data... running anyway."
       ]
      },
      {
       "output_type": "stream",
       "stream": "stdout",
       "text": [
        "\n",
        "rate not in clinical data... running anyway.\n",
        "rate not in clinical data... running anyway."
       ]
      },
      {
       "output_type": "stream",
       "stream": "stdout",
       "text": [
        "\n",
        "rate not in clinical data... running anyway.\n",
        "rate not in clinical data... running anyway."
       ]
      },
      {
       "output_type": "stream",
       "stream": "stdout",
       "text": [
        "\n",
        "rate not in clinical data... running anyway.\n",
        "rate not in clinical data... running anyway."
       ]
      },
      {
       "output_type": "stream",
       "stream": "stdout",
       "text": [
        "\n",
        "rate not in clinical data... running anyway.\n",
        "rate not in clinical data... running anyway."
       ]
      },
      {
       "output_type": "stream",
       "stream": "stdout",
       "text": [
        "\n",
        "rate not in clinical data... running anyway.\n",
        "rate not in clinical data... running anyway."
       ]
      },
      {
       "output_type": "stream",
       "stream": "stdout",
       "text": [
        "\n",
        "rate not in clinical data... running anyway.\n",
        "rate not in clinical data... running anyway."
       ]
      },
      {
       "output_type": "stream",
       "stream": "stdout",
       "text": [
        "\n",
        "rate not in clinical data... running anyway.\n",
        "rate not in clinical data... running anyway."
       ]
      },
      {
       "output_type": "stream",
       "stream": "stdout",
       "text": [
        "\n",
        "rate not in clinical data... running anyway.\n",
        "rate not in clinical data... running anyway."
       ]
      },
      {
       "output_type": "stream",
       "stream": "stdout",
       "text": [
        "\n",
        "rate not in clinical data... running anyway.\n",
        "rate not in clinical data... running anyway."
       ]
      },
      {
       "output_type": "stream",
       "stream": "stdout",
       "text": [
        "\n",
        "rate not in clinical data... running anyway.\n",
        "rate not in clinical data... running anyway."
       ]
      },
      {
       "output_type": "stream",
       "stream": "stdout",
       "text": [
        "\n",
        "rate not in clinical data... running anyway.\n",
        "rate not in clinical data... running anyway."
       ]
      },
      {
       "output_type": "stream",
       "stream": "stdout",
       "text": [
        "\n",
        "rate not in clinical data... running anyway.\n",
        "rate not in clinical data... running anyway."
       ]
      },
      {
       "output_type": "stream",
       "stream": "stdout",
       "text": [
        "\n",
        "rate not in clinical data... running anyway.\n",
        "rate not in clinical data... running anyway."
       ]
      },
      {
       "output_type": "stream",
       "stream": "stdout",
       "text": [
        "\n",
        "rate not in clinical data... running anyway.\n",
        "rate not in clinical data... running anyway."
       ]
      },
      {
       "output_type": "stream",
       "stream": "stdout",
       "text": [
        "\n",
        "rate not in clinical data... running anyway.\n",
        "rate not in clinical data... running anyway."
       ]
      },
      {
       "output_type": "stream",
       "stream": "stdout",
       "text": [
        "\n",
        "rate not in clinical data... running anyway.\n",
        "rate not in clinical data... running anyway."
       ]
      },
      {
       "output_type": "stream",
       "stream": "stdout",
       "text": [
        "\n",
        "rate not in clinical data... running anyway.\n",
        "rate not in clinical data... running anyway."
       ]
      },
      {
       "output_type": "stream",
       "stream": "stdout",
       "text": [
        "\n",
        "rate not in clinical data... running anyway.\n",
        "rate not in clinical data... running anyway."
       ]
      },
      {
       "output_type": "stream",
       "stream": "stdout",
       "text": [
        "\n",
        "rate not in clinical data... running anyway.\n",
        "rate not in clinical data... running anyway."
       ]
      },
      {
       "output_type": "stream",
       "stream": "stdout",
       "text": [
        "\n",
        "rate not in clinical data... running anyway.\n",
        "rate not in clinical data... running anyway."
       ]
      },
      {
       "output_type": "stream",
       "stream": "stdout",
       "text": [
        "\n",
        "rate not in clinical data... running anyway.\n",
        "rate not in clinical data... running anyway."
       ]
      },
      {
       "output_type": "stream",
       "stream": "stdout",
       "text": [
        "\n",
        "rate not in clinical data... running anyway.\n",
        "rate not in clinical data... running anyway."
       ]
      },
      {
       "output_type": "stream",
       "stream": "stdout",
       "text": [
        "\n",
        "rate not in clinical data... running anyway.\n",
        "rate not in clinical data... running anyway."
       ]
      },
      {
       "output_type": "stream",
       "stream": "stdout",
       "text": [
        "\n",
        "rate not in clinical data... running anyway."
       ]
      },
      {
       "output_type": "stream",
       "stream": "stdout",
       "text": [
        "\n",
        "rate not in clinical data... running anyway.\n",
        "rate not in clinical data... running anyway."
       ]
      },
      {
       "output_type": "stream",
       "stream": "stdout",
       "text": [
        "\n",
        "rate not in clinical data... running anyway.\n",
        "rate not in clinical data... running anyway."
       ]
      },
      {
       "output_type": "stream",
       "stream": "stdout",
       "text": [
        "\n",
        "rate not in clinical data... running anyway.\n",
        "rate not in clinical data... running anyway."
       ]
      },
      {
       "output_type": "stream",
       "stream": "stdout",
       "text": [
        "\n",
        "rate not in clinical data... running anyway.\n",
        "rate not in clinical data... running anyway."
       ]
      },
      {
       "output_type": "stream",
       "stream": "stdout",
       "text": [
        "\n",
        "rate not in clinical data... running anyway.\n",
        "rate not in clinical data... running anyway."
       ]
      },
      {
       "output_type": "stream",
       "stream": "stdout",
       "text": [
        "\n",
        "rate not in clinical data... running anyway.\n",
        "rate not in clinical data... running anyway."
       ]
      },
      {
       "output_type": "stream",
       "stream": "stdout",
       "text": [
        "\n",
        "rate not in clinical data... running anyway.\n",
        "rate not in clinical data... running anyway."
       ]
      },
      {
       "output_type": "stream",
       "stream": "stdout",
       "text": [
        "\n",
        "rate not in clinical data... running anyway.\n",
        "rate not in clinical data... running anyway."
       ]
      },
      {
       "output_type": "stream",
       "stream": "stdout",
       "text": [
        "\n",
        "rate not in clinical data... running anyway.\n",
        "rate not in clinical data... running anyway."
       ]
      },
      {
       "output_type": "stream",
       "stream": "stdout",
       "text": [
        "\n",
        "rate not in clinical data... running anyway.\n",
        "rate not in clinical data... running anyway."
       ]
      },
      {
       "output_type": "stream",
       "stream": "stdout",
       "text": [
        "\n",
        "rate not in clinical data... running anyway.\n",
        "rate not in clinical data... running anyway."
       ]
      },
      {
       "output_type": "stream",
       "stream": "stdout",
       "text": [
        "\n",
        "rate not in clinical data... running anyway.\n",
        "rate not in clinical data... running anyway."
       ]
      },
      {
       "output_type": "stream",
       "stream": "stdout",
       "text": [
        "\n",
        "rate not in clinical data... running anyway.\n",
        "rate not in clinical data... running anyway."
       ]
      },
      {
       "output_type": "stream",
       "stream": "stdout",
       "text": [
        "\n",
        "rate not in clinical data... running anyway.\n",
        "rate not in clinical data... running anyway."
       ]
      },
      {
       "output_type": "stream",
       "stream": "stdout",
       "text": [
        "\n",
        "rate not in clinical data... running anyway.\n",
        "rate not in clinical data... running anyway."
       ]
      },
      {
       "output_type": "stream",
       "stream": "stdout",
       "text": [
        "\n",
        "rate not in clinical data... running anyway.\n",
        "rate not in clinical data... running anyway."
       ]
      },
      {
       "output_type": "stream",
       "stream": "stdout",
       "text": [
        "\n",
        "rate not in clinical data... running anyway.\n",
        "rate not in clinical data... running anyway."
       ]
      },
      {
       "output_type": "stream",
       "stream": "stdout",
       "text": [
        "\n",
        "rate not in clinical data... running anyway.\n",
        "rate not in clinical data... running anyway."
       ]
      },
      {
       "output_type": "stream",
       "stream": "stdout",
       "text": [
        "\n",
        "rate not in clinical data... running anyway.\n",
        "rate not in clinical data... running anyway."
       ]
      },
      {
       "output_type": "stream",
       "stream": "stdout",
       "text": [
        "\n",
        "rate not in clinical data... running anyway.\n",
        "rate not in clinical data... running anyway."
       ]
      },
      {
       "output_type": "stream",
       "stream": "stdout",
       "text": [
        "\n",
        "rate not in clinical data... running anyway.\n",
        "rate not in clinical data... running anyway."
       ]
      },
      {
       "output_type": "stream",
       "stream": "stdout",
       "text": [
        "\n",
        "rate not in clinical data... running anyway.\n",
        "rate not in clinical data... running anyway."
       ]
      },
      {
       "output_type": "stream",
       "stream": "stdout",
       "text": [
        "\n",
        "rate not in clinical data... running anyway.\n",
        "rate not in clinical data... running anyway."
       ]
      },
      {
       "output_type": "stream",
       "stream": "stdout",
       "text": [
        "\n",
        "rate not in clinical data... running anyway.\n",
        "rate not in clinical data... running anyway."
       ]
      },
      {
       "output_type": "stream",
       "stream": "stdout",
       "text": [
        "\n",
        "rate not in clinical data... running anyway.\n",
        "rate not in clinical data... running anyway."
       ]
      },
      {
       "output_type": "stream",
       "stream": "stdout",
       "text": [
        "\n",
        "rate not in clinical data... running anyway.\n",
        "rate not in clinical data... running anyway."
       ]
      },
      {
       "output_type": "stream",
       "stream": "stdout",
       "text": [
        "\n",
        "rate not in clinical data... running anyway.\n",
        "rate not in clinical data... running anyway."
       ]
      },
      {
       "output_type": "stream",
       "stream": "stdout",
       "text": [
        "\n",
        "rate not in clinical data... running anyway.\n",
        "rate not in clinical data... running anyway."
       ]
      },
      {
       "output_type": "stream",
       "stream": "stdout",
       "text": [
        "\n",
        "rate not in clinical data... running anyway.\n",
        "rate not in clinical data... running anyway."
       ]
      },
      {
       "output_type": "stream",
       "stream": "stdout",
       "text": [
        "\n",
        "rate not in clinical data... running anyway.\n",
        "rate not in clinical data... running anyway."
       ]
      },
      {
       "output_type": "stream",
       "stream": "stdout",
       "text": [
        "\n",
        "rate not in clinical data... running anyway.\n",
        "rate not in clinical data... running anyway."
       ]
      },
      {
       "output_type": "stream",
       "stream": "stdout",
       "text": [
        "\n",
        "rate not in clinical data... running anyway.\n",
        "rate not in clinical data... running anyway."
       ]
      },
      {
       "output_type": "stream",
       "stream": "stdout",
       "text": [
        "\n",
        "rate not in clinical data... running anyway.\n",
        "rate not in clinical data... running anyway."
       ]
      },
      {
       "output_type": "stream",
       "stream": "stdout",
       "text": [
        "\n",
        "rate not in clinical data... running anyway.\n",
        "rate not in clinical data... running anyway."
       ]
      },
      {
       "output_type": "stream",
       "stream": "stdout",
       "text": [
        "\n",
        "rate not in clinical data... running anyway.\n",
        "rate not in clinical data... running anyway."
       ]
      },
      {
       "output_type": "stream",
       "stream": "stdout",
       "text": [
        "\n",
        "rate not in clinical data... running anyway.\n",
        "rate not in clinical data... running anyway."
       ]
      },
      {
       "output_type": "stream",
       "stream": "stdout",
       "text": [
        "\n",
        "rate not in clinical data... running anyway.\n",
        "rate not in clinical data... running anyway."
       ]
      },
      {
       "output_type": "stream",
       "stream": "stdout",
       "text": [
        "\n",
        "rate not in clinical data... running anyway.\n",
        "rate not in clinical data... running anyway."
       ]
      },
      {
       "output_type": "stream",
       "stream": "stdout",
       "text": [
        "\n",
        "rate not in clinical data... running anyway.\n",
        "rate not in clinical data... running anyway."
       ]
      },
      {
       "output_type": "stream",
       "stream": "stdout",
       "text": [
        "\n",
        "rate not in clinical data... running anyway.\n",
        "rate not in clinical data... running anyway."
       ]
      },
      {
       "output_type": "stream",
       "stream": "stdout",
       "text": [
        "\n",
        "rate not in clinical data... running anyway.\n",
        "rate not in clinical data... running anyway."
       ]
      },
      {
       "output_type": "stream",
       "stream": "stdout",
       "text": [
        "\n",
        "rate not in clinical data... running anyway.\n",
        "rate not in clinical data... running anyway."
       ]
      },
      {
       "output_type": "stream",
       "stream": "stdout",
       "text": [
        "\n",
        "rate not in clinical data... running anyway.\n",
        "rate not in clinical data... running anyway."
       ]
      },
      {
       "output_type": "stream",
       "stream": "stdout",
       "text": [
        "\n",
        "rate not in clinical data... running anyway.\n",
        "rate not in clinical data... running anyway."
       ]
      },
      {
       "output_type": "stream",
       "stream": "stdout",
       "text": [
        "\n",
        "rate not in clinical data... running anyway."
       ]
      },
      {
       "output_type": "stream",
       "stream": "stdout",
       "text": [
        "\n",
        "rate not in clinical data... running anyway.\n",
        "rate not in clinical data... running anyway."
       ]
      },
      {
       "output_type": "stream",
       "stream": "stdout",
       "text": [
        "\n",
        "rate not in clinical data... running anyway.\n",
        "rate not in clinical data... running anyway."
       ]
      },
      {
       "output_type": "stream",
       "stream": "stdout",
       "text": [
        "\n",
        "rate not in clinical data... running anyway.\n",
        "rate not in clinical data... running anyway."
       ]
      },
      {
       "output_type": "stream",
       "stream": "stdout",
       "text": [
        "\n",
        "rate not in clinical data... running anyway.\n",
        "rate not in clinical data... running anyway."
       ]
      },
      {
       "output_type": "stream",
       "stream": "stdout",
       "text": [
        "\n",
        "rate not in clinical data... running anyway.\n",
        "rate not in clinical data... running anyway."
       ]
      },
      {
       "output_type": "stream",
       "stream": "stdout",
       "text": [
        "\n",
        "rate not in clinical data... running anyway.\n",
        "rate not in clinical data... running anyway."
       ]
      },
      {
       "output_type": "stream",
       "stream": "stdout",
       "text": [
        "\n",
        "rate not in clinical data... running anyway.\n",
        "rate not in clinical data... running anyway."
       ]
      },
      {
       "output_type": "stream",
       "stream": "stdout",
       "text": [
        "\n",
        "rate not in clinical data... running anyway.\n",
        "rate not in clinical data... running anyway."
       ]
      },
      {
       "output_type": "stream",
       "stream": "stdout",
       "text": [
        "\n",
        "rate not in clinical data... running anyway.\n",
        "rate not in clinical data... running anyway."
       ]
      },
      {
       "output_type": "stream",
       "stream": "stdout",
       "text": [
        "\n",
        "rate not in clinical data... running anyway.\n",
        "rate not in clinical data... running anyway."
       ]
      },
      {
       "output_type": "stream",
       "stream": "stdout",
       "text": [
        "\n",
        "rate not in clinical data... running anyway.\n",
        "rate not in clinical data... running anyway."
       ]
      },
      {
       "output_type": "stream",
       "stream": "stdout",
       "text": [
        "\n",
        "rate not in clinical data... running anyway.\n",
        "rate not in clinical data... running anyway."
       ]
      },
      {
       "output_type": "stream",
       "stream": "stdout",
       "text": [
        "\n",
        "rate not in clinical data... running anyway.\n",
        "rate not in clinical data... running anyway."
       ]
      },
      {
       "output_type": "stream",
       "stream": "stdout",
       "text": [
        "\n",
        "rate not in clinical data... running anyway.\n",
        "rate not in clinical data... running anyway."
       ]
      },
      {
       "output_type": "stream",
       "stream": "stdout",
       "text": [
        "\n",
        "rate not in clinical data... running anyway.\n",
        "rate not in clinical data... running anyway."
       ]
      },
      {
       "output_type": "stream",
       "stream": "stdout",
       "text": [
        "\n",
        "rate not in clinical data... running anyway.\n",
        "rate not in clinical data... running anyway."
       ]
      },
      {
       "output_type": "stream",
       "stream": "stdout",
       "text": [
        "\n",
        "rate not in clinical data... running anyway.\n",
        "rate not in clinical data... running anyway."
       ]
      },
      {
       "output_type": "stream",
       "stream": "stdout",
       "text": [
        "\n",
        "rate not in clinical data... running anyway.\n",
        "rate not in clinical data... running anyway."
       ]
      },
      {
       "output_type": "stream",
       "stream": "stdout",
       "text": [
        "\n",
        "rate not in clinical data... running anyway.\n",
        "rate not in clinical data... running anyway."
       ]
      },
      {
       "output_type": "stream",
       "stream": "stdout",
       "text": [
        "\n",
        "rate not in clinical data... running anyway.\n",
        "rate not in clinical data... running anyway."
       ]
      },
      {
       "output_type": "stream",
       "stream": "stdout",
       "text": [
        "\n",
        "rate not in clinical data... running anyway.\n",
        "rate not in clinical data... running anyway."
       ]
      },
      {
       "output_type": "stream",
       "stream": "stdout",
       "text": [
        "\n",
        "rate not in clinical data... running anyway.\n",
        "rate not in clinical data... running anyway."
       ]
      },
      {
       "output_type": "stream",
       "stream": "stdout",
       "text": [
        "\n",
        "rate not in clinical data... running anyway.\n",
        "rate not in clinical data... running anyway."
       ]
      },
      {
       "output_type": "stream",
       "stream": "stdout",
       "text": [
        "\n",
        "rate not in clinical data... running anyway.\n",
        "rate not in clinical data... running anyway."
       ]
      },
      {
       "output_type": "stream",
       "stream": "stdout",
       "text": [
        "\n",
        "rate not in clinical data... running anyway.\n",
        "rate not in clinical data... running anyway."
       ]
      },
      {
       "output_type": "stream",
       "stream": "stdout",
       "text": [
        "\n",
        "rate not in clinical data... running anyway.\n",
        "rate not in clinical data... running anyway."
       ]
      },
      {
       "output_type": "stream",
       "stream": "stdout",
       "text": [
        "\n",
        "rate not in clinical data... running anyway.\n",
        "rate not in clinical data... running anyway."
       ]
      },
      {
       "output_type": "stream",
       "stream": "stdout",
       "text": [
        "\n",
        "rate not in clinical data... running anyway.\n",
        "rate not in clinical data... running anyway."
       ]
      },
      {
       "output_type": "stream",
       "stream": "stdout",
       "text": [
        "\n",
        "rate not in clinical data... running anyway.\n",
        "rate not in clinical data... running anyway."
       ]
      },
      {
       "output_type": "stream",
       "stream": "stdout",
       "text": [
        "\n",
        "rate not in clinical data... running anyway.\n",
        "rate not in clinical data... running anyway."
       ]
      },
      {
       "output_type": "stream",
       "stream": "stdout",
       "text": [
        "\n",
        "rate not in clinical data... running anyway.\n",
        "rate not in clinical data... running anyway."
       ]
      },
      {
       "output_type": "stream",
       "stream": "stdout",
       "text": [
        "\n",
        "rate not in clinical data... running anyway.\n",
        "rate not in clinical data... running anyway."
       ]
      },
      {
       "output_type": "stream",
       "stream": "stdout",
       "text": [
        "\n",
        "rate not in clinical data... running anyway.\n",
        "rate not in clinical data... running anyway."
       ]
      },
      {
       "output_type": "stream",
       "stream": "stdout",
       "text": [
        "\n",
        "rate not in clinical data... running anyway.\n",
        "rate not in clinical data... running anyway."
       ]
      },
      {
       "output_type": "stream",
       "stream": "stdout",
       "text": [
        "\n",
        "rate not in clinical data... running anyway.\n",
        "rate not in clinical data... running anyway."
       ]
      },
      {
       "output_type": "stream",
       "stream": "stdout",
       "text": [
        "\n",
        "rate not in clinical data... running anyway.\n",
        "rate not in clinical data... running anyway."
       ]
      },
      {
       "output_type": "stream",
       "stream": "stdout",
       "text": [
        "\n",
        "rate not in clinical data... running anyway.\n",
        "rate not in clinical data... running anyway."
       ]
      },
      {
       "output_type": "stream",
       "stream": "stdout",
       "text": [
        "\n",
        "rate not in clinical data... running anyway.\n",
        "rate not in clinical data... running anyway."
       ]
      },
      {
       "output_type": "stream",
       "stream": "stdout",
       "text": [
        "\n",
        "rate not in clinical data... running anyway.\n",
        "rate not in clinical data... running anyway."
       ]
      },
      {
       "output_type": "stream",
       "stream": "stdout",
       "text": [
        "\n",
        "rate not in clinical data... running anyway.\n",
        "rate not in clinical data... running anyway."
       ]
      },
      {
       "output_type": "stream",
       "stream": "stdout",
       "text": [
        "\n",
        "rate not in clinical data... running anyway.\n",
        "rate not in clinical data... running anyway."
       ]
      },
      {
       "output_type": "stream",
       "stream": "stdout",
       "text": [
        "\n",
        "rate not in clinical data... running anyway.\n",
        "rate not in clinical data... running anyway."
       ]
      },
      {
       "output_type": "stream",
       "stream": "stdout",
       "text": [
        "\n",
        "rate not in clinical data... running anyway.\n",
        "rate not in clinical data... running anyway."
       ]
      },
      {
       "output_type": "stream",
       "stream": "stdout",
       "text": [
        "\n",
        "rate not in clinical data... running anyway.\n",
        "rate not in clinical data... running anyway."
       ]
      },
      {
       "output_type": "stream",
       "stream": "stdout",
       "text": [
        "\n",
        "rate not in clinical data... running anyway.\n",
        "rate not in clinical data... running anyway."
       ]
      },
      {
       "output_type": "stream",
       "stream": "stdout",
       "text": [
        "\n",
        "rate not in clinical data... running anyway.\n",
        "rate not in clinical data... running anyway."
       ]
      },
      {
       "output_type": "stream",
       "stream": "stdout",
       "text": [
        "\n",
        "rate not in clinical data... running anyway.\n",
        "rate not in clinical data... running anyway."
       ]
      },
      {
       "output_type": "stream",
       "stream": "stdout",
       "text": [
        "\n",
        "rate not in clinical data... running anyway.\n",
        "rate not in clinical data... running anyway."
       ]
      },
      {
       "output_type": "stream",
       "stream": "stdout",
       "text": [
        "\n",
        "rate not in clinical data... running anyway.\n",
        "rate not in clinical data... running anyway."
       ]
      },
      {
       "output_type": "stream",
       "stream": "stdout",
       "text": [
        "\n",
        "rate not in clinical data... running anyway.\n",
        "rate not in clinical data... running anyway."
       ]
      },
      {
       "output_type": "stream",
       "stream": "stdout",
       "text": [
        "\n",
        "rate not in clinical data... running anyway.\n",
        "rate not in clinical data... running anyway."
       ]
      },
      {
       "output_type": "stream",
       "stream": "stdout",
       "text": [
        "\n",
        "rate not in clinical data... running anyway.\n",
        "rate not in clinical data... running anyway."
       ]
      },
      {
       "output_type": "stream",
       "stream": "stdout",
       "text": [
        "\n",
        "rate not in clinical data... running anyway.\n",
        "rate not in clinical data... running anyway."
       ]
      },
      {
       "output_type": "stream",
       "stream": "stdout",
       "text": [
        "\n",
        "rate not in clinical data... running anyway.\n",
        "rate not in clinical data... running anyway."
       ]
      },
      {
       "output_type": "stream",
       "stream": "stdout",
       "text": [
        "\n",
        "rate not in clinical data... running anyway.\n",
        "rate not in clinical data... running anyway."
       ]
      },
      {
       "output_type": "stream",
       "stream": "stdout",
       "text": [
        "\n",
        "rate not in clinical data... running anyway.\n",
        "rate not in clinical data... running anyway."
       ]
      },
      {
       "output_type": "stream",
       "stream": "stdout",
       "text": [
        "\n",
        "rate not in clinical data... running anyway.\n",
        "rate not in clinical data... running anyway."
       ]
      },
      {
       "output_type": "stream",
       "stream": "stdout",
       "text": [
        "\n",
        "rate not in clinical data... running anyway.\n",
        "rate not in clinical data... running anyway."
       ]
      },
      {
       "output_type": "stream",
       "stream": "stdout",
       "text": [
        "\n",
        "rate not in clinical data... running anyway.\n",
        "rate not in clinical data... running anyway."
       ]
      },
      {
       "output_type": "stream",
       "stream": "stdout",
       "text": [
        "\n",
        "rate not in clinical data... running anyway.\n",
        "rate not in clinical data... running anyway."
       ]
      },
      {
       "output_type": "stream",
       "stream": "stdout",
       "text": [
        "\n",
        "rate not in clinical data... running anyway.\n",
        "rate not in clinical data... running anyway."
       ]
      },
      {
       "output_type": "stream",
       "stream": "stdout",
       "text": [
        "\n",
        "rate not in clinical data... running anyway.\n",
        "rate not in clinical data... running anyway."
       ]
      },
      {
       "output_type": "stream",
       "stream": "stdout",
       "text": [
        "\n",
        "rate not in clinical data... running anyway.\n",
        "rate not in clinical data... running anyway."
       ]
      },
      {
       "output_type": "stream",
       "stream": "stdout",
       "text": [
        "\n",
        "rate not in clinical data... running anyway.\n",
        "rate not in clinical data... running anyway."
       ]
      },
      {
       "output_type": "stream",
       "stream": "stdout",
       "text": [
        "\n",
        "rate not in clinical data... running anyway.\n",
        "rate not in clinical data... running anyway."
       ]
      },
      {
       "output_type": "stream",
       "stream": "stdout",
       "text": [
        "\n",
        "rate not in clinical data... running anyway.\n",
        "rate not in clinical data... running anyway."
       ]
      },
      {
       "output_type": "stream",
       "stream": "stdout",
       "text": [
        "\n",
        "rate not in clinical data... running anyway.\n",
        "rate not in clinical data... running anyway."
       ]
      },
      {
       "output_type": "stream",
       "stream": "stdout",
       "text": [
        "\n",
        "rate not in clinical data... running anyway.\n",
        "rate not in clinical data... running anyway."
       ]
      },
      {
       "output_type": "stream",
       "stream": "stdout",
       "text": [
        "\n",
        "rate not in clinical data... running anyway.\n",
        "rate not in clinical data... running anyway."
       ]
      },
      {
       "output_type": "stream",
       "stream": "stdout",
       "text": [
        "\n",
        "rate not in clinical data... running anyway.\n",
        "rate not in clinical data... running anyway."
       ]
      },
      {
       "output_type": "stream",
       "stream": "stdout",
       "text": [
        "\n",
        "rate not in clinical data... running anyway.\n",
        "rate not in clinical data... running anyway."
       ]
      },
      {
       "output_type": "stream",
       "stream": "stdout",
       "text": [
        "\n",
        "rate not in clinical data... running anyway.\n",
        "rate not in clinical data... running anyway."
       ]
      },
      {
       "output_type": "stream",
       "stream": "stdout",
       "text": [
        "\n",
        "rate not in clinical data... running anyway.\n",
        "rate not in clinical data... running anyway."
       ]
      },
      {
       "output_type": "stream",
       "stream": "stdout",
       "text": [
        "\n",
        "rate not in clinical data... running anyway.\n",
        "rate not in clinical data... running anyway."
       ]
      },
      {
       "output_type": "stream",
       "stream": "stdout",
       "text": [
        "\n",
        "rate not in clinical data... running anyway.\n",
        "rate not in clinical data... running anyway."
       ]
      },
      {
       "output_type": "stream",
       "stream": "stdout",
       "text": [
        "\n",
        "rate not in clinical data... running anyway.\n",
        "rate not in clinical data... running anyway."
       ]
      },
      {
       "output_type": "stream",
       "stream": "stdout",
       "text": [
        "\n",
        "rate not in clinical data... running anyway.\n",
        "rate not in clinical data... running anyway."
       ]
      },
      {
       "output_type": "stream",
       "stream": "stdout",
       "text": [
        "\n",
        "rate not in clinical data... running anyway.\n",
        "rate not in clinical data... running anyway."
       ]
      },
      {
       "output_type": "stream",
       "stream": "stdout",
       "text": [
        "\n",
        "rate not in clinical data... running anyway."
       ]
      },
      {
       "output_type": "stream",
       "stream": "stdout",
       "text": [
        "\n",
        "rate not in clinical data... running anyway.\n",
        "rate not in clinical data... running anyway."
       ]
      },
      {
       "output_type": "stream",
       "stream": "stdout",
       "text": [
        "\n",
        "rate not in clinical data... running anyway.\n",
        "rate not in clinical data... running anyway."
       ]
      },
      {
       "output_type": "stream",
       "stream": "stdout",
       "text": [
        "\n",
        "rate not in clinical data... running anyway.\n",
        "rate not in clinical data... running anyway."
       ]
      },
      {
       "output_type": "stream",
       "stream": "stdout",
       "text": [
        "\n",
        "rate not in clinical data... running anyway.\n",
        "rate not in clinical data... running anyway."
       ]
      },
      {
       "output_type": "stream",
       "stream": "stdout",
       "text": [
        "\n",
        "rate not in clinical data... running anyway.\n",
        "rate not in clinical data... running anyway."
       ]
      },
      {
       "output_type": "stream",
       "stream": "stdout",
       "text": [
        "\n",
        "rate not in clinical data... running anyway.\n",
        "rate not in clinical data... running anyway."
       ]
      },
      {
       "output_type": "stream",
       "stream": "stdout",
       "text": [
        "\n",
        "rate not in clinical data... running anyway.\n",
        "rate not in clinical data... running anyway."
       ]
      },
      {
       "output_type": "stream",
       "stream": "stdout",
       "text": [
        "\n",
        "rate not in clinical data... running anyway.\n",
        "rate not in clinical data... running anyway."
       ]
      },
      {
       "output_type": "stream",
       "stream": "stdout",
       "text": [
        "\n",
        "rate not in clinical data... running anyway.\n",
        "rate not in clinical data... running anyway."
       ]
      },
      {
       "output_type": "stream",
       "stream": "stdout",
       "text": [
        "\n",
        "rate not in clinical data... running anyway.\n",
        "rate not in clinical data... running anyway."
       ]
      },
      {
       "output_type": "stream",
       "stream": "stdout",
       "text": [
        "\n",
        "rate not in clinical data... running anyway.\n",
        "rate not in clinical data... running anyway."
       ]
      },
      {
       "output_type": "stream",
       "stream": "stdout",
       "text": [
        "\n",
        "rate not in clinical data... running anyway.\n",
        "rate not in clinical data... running anyway."
       ]
      },
      {
       "output_type": "stream",
       "stream": "stdout",
       "text": [
        "\n",
        "rate not in clinical data... running anyway.\n",
        "rate not in clinical data... running anyway."
       ]
      },
      {
       "output_type": "stream",
       "stream": "stdout",
       "text": [
        "\n",
        "rate not in clinical data... running anyway.\n",
        "rate not in clinical data... running anyway."
       ]
      },
      {
       "output_type": "stream",
       "stream": "stdout",
       "text": [
        "\n",
        "rate not in clinical data... running anyway.\n",
        "rate not in clinical data... running anyway."
       ]
      },
      {
       "output_type": "stream",
       "stream": "stdout",
       "text": [
        "\n",
        "rate not in clinical data... running anyway.\n",
        "rate not in clinical data... running anyway."
       ]
      },
      {
       "output_type": "stream",
       "stream": "stdout",
       "text": [
        "\n",
        "rate not in clinical data... running anyway.\n",
        "rate not in clinical data... running anyway."
       ]
      },
      {
       "output_type": "stream",
       "stream": "stdout",
       "text": [
        "\n",
        "rate not in clinical data... running anyway.\n",
        "rate not in clinical data... running anyway."
       ]
      },
      {
       "output_type": "stream",
       "stream": "stdout",
       "text": [
        "\n",
        "rate not in clinical data... running anyway.\n",
        "rate not in clinical data... running anyway."
       ]
      },
      {
       "output_type": "stream",
       "stream": "stdout",
       "text": [
        "\n",
        "rate not in clinical data... running anyway.\n",
        "rate not in clinical data... running anyway."
       ]
      },
      {
       "output_type": "stream",
       "stream": "stdout",
       "text": [
        "\n",
        "rate not in clinical data... running anyway.\n",
        "rate not in clinical data... running anyway."
       ]
      },
      {
       "output_type": "stream",
       "stream": "stdout",
       "text": [
        "\n",
        "rate not in clinical data... running anyway.\n",
        "rate not in clinical data... running anyway."
       ]
      },
      {
       "output_type": "stream",
       "stream": "stdout",
       "text": [
        "\n",
        "rate not in clinical data... running anyway.\n",
        "rate not in clinical data... running anyway."
       ]
      },
      {
       "output_type": "stream",
       "stream": "stdout",
       "text": [
        "\n",
        "rate not in clinical data... running anyway.\n",
        "rate not in clinical data... running anyway."
       ]
      },
      {
       "output_type": "stream",
       "stream": "stdout",
       "text": [
        "\n",
        "rate not in clinical data... running anyway.\n",
        "rate not in clinical data... running anyway."
       ]
      },
      {
       "output_type": "stream",
       "stream": "stdout",
       "text": [
        "\n",
        "rate not in clinical data... running anyway.\n",
        "rate not in clinical data... running anyway."
       ]
      },
      {
       "output_type": "stream",
       "stream": "stdout",
       "text": [
        "\n",
        "rate not in clinical data... running anyway.\n",
        "rate not in clinical data... running anyway."
       ]
      },
      {
       "output_type": "stream",
       "stream": "stdout",
       "text": [
        "\n",
        "rate not in clinical data... running anyway.\n",
        "rate not in clinical data... running anyway."
       ]
      },
      {
       "output_type": "stream",
       "stream": "stdout",
       "text": [
        "\n",
        "rate not in clinical data... running anyway.\n",
        "rate not in clinical data... running anyway."
       ]
      },
      {
       "output_type": "stream",
       "stream": "stdout",
       "text": [
        "\n",
        "rate not in clinical data... running anyway.\n",
        "rate not in clinical data... running anyway."
       ]
      },
      {
       "output_type": "stream",
       "stream": "stdout",
       "text": [
        "\n",
        "rate not in clinical data... running anyway.\n",
        "rate not in clinical data... running anyway."
       ]
      },
      {
       "output_type": "stream",
       "stream": "stdout",
       "text": [
        "\n"
       ]
      }
     ],
     "prompt_number": 5
    },
    {
     "cell_type": "code",
     "collapsed": false,
     "input": [
      "#cancer.filter_bad_pathways(gene_lookup)\n",
      "if hasattr(cancer, 'tests'): del cancer.tests\n",
      "cancer.report_folder = cancer.data_path + cancer.data_type + '_' + report_ext\n",
      "if not os.path.isdir(cancer.report_folder):\n",
      "    os.makedirs(cancer.report_folder)\n",
      "pickle.dump(cancer, open(cancer.report_folder + '/ClinicalObject.p', 'wb'))"
     ],
     "language": "python",
     "metadata": {},
     "outputs": [],
     "prompt_number": 6
    },
    {
     "cell_type": "code",
     "collapsed": false,
     "input": [
      "event_var='event'\n",
      "time_var='event_free_survival'\n",
      "covariates=['rate', 'age']\n",
      "clinical = cancer.clinical\n",
      "hit_vec = cancer.meta_matrix.ix['REACTOME_P53_INDEPENDENT_DNA_DAMAGE_RESPONSE'].clip_upper(1.)"
     ],
     "language": "python",
     "metadata": {},
     "outputs": [],
     "prompt_number": "*"
    },
    {
     "cell_type": "code",
     "collapsed": false,
     "input": [
      "s = draw_survival_curves(clinical, hit_vec, covariates, time_var,\n",
      "                         event_var, filename='tmp.png')\n",
      "Image(filename='tmp.png')"
     ],
     "language": "python",
     "metadata": {},
     "outputs": [],
     "prompt_number": "*"
    },
    {
     "cell_type": "code",
     "collapsed": false,
     "input": [
      "from Reports.Figures import *\n",
      "from Processing.Clinical import *"
     ],
     "language": "python",
     "metadata": {},
     "outputs": [],
     "prompt_number": "*"
    },
    {
     "cell_type": "code",
     "collapsed": false,
     "input": [
      "p53 = cancer.hit_matrix.ix['BIOCARTA_NEUROTRANSMITTERS_PATHWAY']>0\n",
      "p53_vec = (cancer.clinical.triple_neg[p53[p53].index]).astype(float)\n",
      "get_cox_ph(cancer.clinical, p53_vec, event_var='deceased', covariates=['age','rate'])"
     ],
     "language": "python",
     "metadata": {},
     "outputs": [],
     "prompt_number": "*"
    },
    {
     "cell_type": "code",
     "collapsed": false,
     "input": [
      "cancer.lesion_matrix.ix['17q12   '].value_counts()"
     ],
     "language": "python",
     "metadata": {},
     "outputs": [],
     "prompt_number": "*"
    },
    {
     "cell_type": "code",
     "collapsed": false,
     "input": [
      "cancer.clinical.her2_pos = cancer.clinical.her2_pos == 'True'"
     ],
     "language": "python",
     "metadata": {},
     "outputs": [],
     "prompt_number": "*"
    },
    {
     "cell_type": "code",
     "collapsed": true,
     "input": [
      "p53 = cancer.meta_matrix.ix['SIG_CHEMOTAXIS']>0\n",
      "p53_vec = (cancer.clinical.triple_neg[p53[p53].index]).astype(float)\n",
      "get_cox_ph(cancer.clinical, p53_vec, event_var='deceased', covariates=['age','rate'])"
     ],
     "language": "python",
     "metadata": {},
     "outputs": [],
     "prompt_number": "*"
    },
    {
     "cell_type": "code",
     "collapsed": false,
     "input": [
      "def draw_survival_curves(clinical, hit_vec, ime_var='days', event_var='censored',\n",
      "                         filename='tmp.png', show=False, \n",
      "                         ax=None, title=True, labels=['No Mutation', 'Mutation']):\n",
      "    hit_vec.name = 'pathway'\n",
      "    df = clinical.join(hit_vec)\n",
      "    df = com.convert_to_r_dataframe(df) #@UndefinedVariable\n",
      "    fmla = robjects.Formula('Surv(days, censored) ~ ' + hit_vec.name)\n",
      "    fit = survival.survfit(fmla, df)\n",
      "    r('png')(filename=filename)\n",
      "    ls = r('2:' + str(len(set(hit_vec))+1)) #R line styles\n",
      "    r('plot')(fit, lty=ls, col=ls, xlab='Days to Death', ylab= 'Survival')\n",
      "    if title:\n",
      "        r('title')(hit_vec.name)\n",
      "    r('legend')(nanmax(clinical.days) * .7,.9, labels, lty=ls, col=ls)\n",
      "    r('dev.off()')\n",
      "    if ax or show:\n",
      "        img = plt.imread(filename)\n",
      "        if ax is None:\n",
      "            fig,ax = plt.subplots(1,1, figsize=(7,7), frameon=False)\n",
      "        ax.imshow(img)\n",
      "        ax.set_axis_off()\n",
      "        ax.get_figure().tight_layout()"
     ],
     "language": "python",
     "metadata": {},
     "outputs": [],
     "prompt_number": "*"
    },
    {
     "cell_type": "code",
     "collapsed": true,
     "input": [
      "fischer_bar_chart(cancer.meta_matrix.ix['SIG_CHEMOTAXIS']>0, cancer.clinical.triple_neg);"
     ],
     "language": "python",
     "metadata": {},
     "outputs": [],
     "prompt_number": "*"
    },
    {
     "cell_type": "code",
     "collapsed": false,
     "input": [
      "gene_sets['REACTOME_ETHANOL_OXIDATION']"
     ],
     "language": "python",
     "metadata": {},
     "outputs": [],
     "prompt_number": "*"
    },
    {
     "cell_type": "code",
     "collapsed": false,
     "input": [
      "np.sort(cancer.q_pathways.event_free_survival)"
     ],
     "language": "python",
     "metadata": {},
     "outputs": [],
     "prompt_number": "*"
    },
    {
     "cell_type": "code",
     "collapsed": false,
     "input": [
      "cancer.q_genes.describe()"
     ],
     "language": "python",
     "metadata": {},
     "outputs": [],
     "prompt_number": "*"
    },
    {
     "cell_type": "code",
     "collapsed": false,
     "input": [
      "cancer.q_pathways.describe()"
     ],
     "language": "python",
     "metadata": {},
     "outputs": [],
     "prompt_number": "*"
    },
    {
     "cell_type": "code",
     "collapsed": false,
     "input": [
      "np.sort(cancer.q_pathways.triple_neg)"
     ],
     "language": "python",
     "metadata": {},
     "outputs": [],
     "prompt_number": "*"
    },
    {
     "cell_type": "code",
     "collapsed": false,
     "input": [
      "from Processing.Clinical import *"
     ],
     "language": "python",
     "metadata": {},
     "outputs": [],
     "prompt_number": "*"
    },
    {
     "cell_type": "code",
     "collapsed": false,
     "input": [
      "REAL_VARIABLES = ['AMAR','rate','age']\n",
      "BINARY_VARIABLES = ['gender', 'therapy', 'radiation', 'triple_neg', 'triple_pos',\n",
      "                    'ER_pos','PR_pos','her2_pos', 'lymphnode_n0n1', 'tumor_t1t2',\n",
      "                    'post_menopause']\n",
      "SURVIVAL_TESTS = {'survival' : {'event_var' : 'deceased', 'time_var' : 'days', \n",
      "                                'covariates' : ['age', 'rate']},\n",
      "                  'event_free_survival' : {'event_var' : 'event', \n",
      "                                           'time_var' : 'event_free_survival', \n",
      "                                           'covariates' : ['age', 'rate']}\n",
      "                  }"
     ],
     "language": "python",
     "metadata": {},
     "outputs": [],
     "prompt_number": "*"
    },
    {
     "cell_type": "code",
     "collapsed": false,
     "input": [
      "def run_clinical_bool(cancer, data_path, gene_sets, data_type='mutation'):\n",
      "    '''\n",
      "    Runs clinical tests for boolean type data (mutation, amplification, \n",
      "    or deletion).\n",
      "    '''\n",
      "    stddata_path = data_path.replace('analyses', 'stddata')\n",
      "    clinical = read_csv(stddata_path + 'Clinical/compiled.csv', index_col=0)\n",
      "    try:\n",
      "        meth_age, amar = get_age_signal(stddata_path, clinical)\n",
      "        clinical['meth_age'] = meth_age\n",
      "        clinical['AMAR'] = amar\n",
      "    except:\n",
      "        pass  #Probably because there is not a 450k chip for the cancer\n",
      "    patients = clinical[['days','deceased']].dropna().index\n",
      "    if data_type == 'mutation':\n",
      "        hit_matrix, _ = get_mutation_matrix(cancer, data_path)\n",
      "    elif data_type in ['amplification', 'deletion']:\n",
      "        hit_matrix, lesion_matrix = get_cna_matrix(data_path, data_type)\n",
      "    \n",
      "    single_matrix = lesion_matrix if data_type == 'amplification' else hit_matrix\n",
      "    single_matrix = single_matrix.clip_upper(1.)\n",
      "    clinical['rate'] = log(single_matrix.sum(0))\n",
      "    tests = get_tests_bool(clinical, SURVIVAL_TESTS, REAL_VARIABLES, BINARY_VARIABLES)\n",
      "    gene_counts = sort(single_matrix.sum(1))\n",
      "    good_genes = gene_counts[gene_counts > MIN_NUM_HITS].index[:500]\n",
      "    p_genes, q_genes = run_tests(tests, single_matrix.ix[good_genes])\n",
      "    \n",
      "    clinical['rate'] = log(hit_matrix.sum(0))\n",
      "    meta_matrix = build_meta_matrix(gene_sets, hit_matrix, \n",
      "                                    setFilter=lambda s: s.clip_upper(1))\n",
      "    tests = get_tests_bool(clinical, SURVIVAL_TESTS, REAL_VARIABLES, BINARY_VARIABLES)\n",
      "    p_pathways, q_pathways = run_tests(tests, meta_matrix.clip_upper(1.)) \n",
      "    return locals()\n"
     ],
     "language": "python",
     "metadata": {},
     "outputs": [],
     "prompt_number": "*"
    },
    {
     "cell_type": "code",
     "collapsed": false,
     "input": [
      "d = run_clinical_bool('BRCA', data_path, gene_sets, data_type='mutation')"
     ],
     "language": "python",
     "metadata": {},
     "outputs": [],
     "prompt_number": "*"
    },
    {
     "cell_type": "code",
     "collapsed": false,
     "input": [
      "from pandas import read_csv, read_table"
     ],
     "language": "python",
     "metadata": {},
     "outputs": [],
     "prompt_number": "*"
    },
    {
     "cell_type": "code",
     "collapsed": false,
     "input": [
      "clinical = read_csv(stddata_path + 'Clinical/compiled.csv', index_col=0)\n",
      "try:\n",
      "    meth_age, amar = get_age_signal(stddata_path, clinical)\n",
      "    clinical['meth_age'] = meth_age\n",
      "    clinical['AMAR'] = amar\n",
      "except:\n",
      "    pass  #Probably because there is not a 450k chip for the cancer"
     ],
     "language": "python",
     "metadata": {},
     "outputs": [],
     "prompt_number": "*"
    },
    {
     "cell_type": "code",
     "collapsed": false,
     "input": [
      "#patients = array(clinical[['days','deceased']].dropna().index)\n",
      "stddata_path = data_path.replace('analyses', 'stddata')"
     ],
     "language": "python",
     "metadata": {},
     "outputs": [],
     "prompt_number": "*"
    },
    {
     "cell_type": "code",
     "collapsed": false,
     "input": [
      "hit_matrix, _ = get_mutation_matrix('BRCA', data_path)\n",
      "clinical['rate'] = log(hit_matrix.sum(0))\n",
      "tests = get_tests_bool(clinical, SURVIVAL_TESTS, REAL_VARIABLES, BINARY_VARIABLES)"
     ],
     "language": "python",
     "metadata": {},
     "outputs": [],
     "prompt_number": "*"
    },
    {
     "cell_type": "code",
     "collapsed": false,
     "input": [
      "gene_counts = sort(hit_matrix.sum(1))\n",
      "good_genes = gene_counts[gene_counts > MIN_NUM_HITS].index[:500]\n",
      "p_genes, q_genes = run_tests(tests, hit_matrix.ix[good_genes].clip_upper(1.))"
     ],
     "language": "python",
     "metadata": {},
     "outputs": [],
     "prompt_number": "*"
    },
    {
     "cell_type": "code",
     "collapsed": false,
     "input": [
      "q_genes.sort(columns='event_free_survival').head(10)"
     ],
     "language": "python",
     "metadata": {},
     "outputs": [],
     "prompt_number": "*"
    },
    {
     "cell_type": "code",
     "collapsed": false,
     "input": [
      "clinical['rate'] = log(hit_matrix.sum(0))\n",
      "meta_matrix = build_meta_matrix(gene_sets, hit_matrix, \n",
      "                                   setFilter=lambda s: s.clip_upper(1))\n",
      "tests = get_tests_bool(clinical, SURVIVAL_TESTS, REAL_VARIABLES, BINARY_VARIABLES)\n",
      "p_pathways, q_pathways = run_tests(tests, meta_matrix) "
     ],
     "language": "python",
     "metadata": {},
     "outputs": [],
     "prompt_number": "*"
    },
    {
     "cell_type": "code",
     "collapsed": false,
     "input": [
      "no_p53 = [n for n,s in gene_sets.iteritems() if 'TP53' not in s]"
     ],
     "language": "python",
     "metadata": {},
     "outputs": [],
     "prompt_number": "*"
    },
    {
     "cell_type": "code",
     "collapsed": false,
     "input": [
      "q_pathways.ix[no_p53].sort(columns='rate').head(10)"
     ],
     "language": "python",
     "metadata": {},
     "outputs": [],
     "prompt_number": "*"
    },
    {
     "cell_type": "code",
     "collapsed": false,
     "input": [
      "scatter(*clinical[['days','event_free_survival']].as_matrix().T)"
     ],
     "language": "python",
     "metadata": {},
     "outputs": [],
     "prompt_number": "*"
    },
    {
     "cell_type": "code",
     "collapsed": false,
     "input": [],
     "language": "python",
     "metadata": {},
     "outputs": [],
     "prompt_number": "*"
    }
   ],
   "metadata": {}
  }
 ]
}