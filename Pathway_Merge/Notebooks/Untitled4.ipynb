{
 "metadata": {
  "name": "Untitled4"
 },
 "nbformat": 3,
 "nbformat_minor": 0,
 "worksheets": [
  {
   "cells": [
    {
     "cell_type": "code",
     "collapsed": false,
     "input": [
      "cd ../src"
     ],
     "language": "python",
     "metadata": {},
     "outputs": [
      {
       "output_type": "stream",
       "stream": "stdout",
       "text": [
        "/cellar/users/agross/TCGA_Code/TCGA/Pathway_Merge/src\n"
       ]
      }
     ],
     "prompt_number": 1
    },
    {
     "cell_type": "code",
     "collapsed": false,
     "input": [
      "import os\n",
      "import subprocess\n",
      "from itertools import product\n",
      "\n",
      "data_path = '/cellar/data/TCGA/Firehose__2012_10_24/'\n",
      "cancers = os.listdir(data_path + 'stddata')"
     ],
     "language": "python",
     "metadata": {},
     "outputs": [],
     "prompt_number": 2
    },
    {
     "cell_type": "code",
     "collapsed": false,
     "input": [
      "cancer = 'UCEC'\n",
      "data_type = 'mutation'\n",
      "report_ext = '_TEST'\n",
      "drop_pc = True"
     ],
     "language": "python",
     "metadata": {},
     "outputs": [],
     "prompt_number": 3
    },
    {
     "cell_type": "code",
     "collapsed": false,
     "input": [
      "report_folder = '/'.join(['ucsd_analyses', cancer, 'Clinical', \n",
      "                          data_type + report_ext,''])\n",
      "if not os.path.isdir(data_path + report_folder):\n",
      "        os.makedirs(data_path + report_folder)"
     ],
     "language": "python",
     "metadata": {},
     "outputs": [],
     "prompt_number": 4
    },
    {
     "cell_type": "code",
     "collapsed": false,
     "input": [
      "from Data.Pathways import read_in_pathways\n",
      "from Processing.Clinical import ClinicalObject\n",
      "\n",
      "PATHWAY_FILE = '/cellar/users/agross/Data/GeneSets/c2.cp.v3.0.symbols_edit.csv'\n",
      "gene_sets, gene_lookup = read_in_pathways(PATHWAY_FILE)\n",
      "\n",
      "REAL_VARIABLES = ['AMAR','rate','age','karnofsky_performance', 'pack_years',\n",
      "                  'pct_tumor_invasion', 'height', 'weight', 'neo_area']\n",
      "BINARY_VARIABLES = ['gender', 'therapy', 'radiation', 'triple_neg', 'triple_pos',\n",
      "                    'ER_pos','PR_pos','her2_pos', 'lymphnode_n0n1', 'tumor_t1t2',\n",
      "                    'post_menopause', 'histo_g1g2', 'neo_status', 'chemo', \n",
      "                    'hormones''complete_response', 'metastatic_recurrence',\n",
      "                    'new_tumor','smoker', 'drinker', 'aml_cyto_risk_favorable',\n",
      "                    'morphology_m1m2', 'normal_cyto', 'abnormallymphocyte', \n",
      "                    'bonemarrowbandcell', 'bonemarrowbasophil', 'bonemarrowblastcell',\n",
      "                    'bonemarrowcellularity', 'bonemarrowlabeosinophil', \n",
      "                    'bonemarrowlymphocyte', 'bonemarrowmyelocyte', 'bonemarrowneutrophil', \n",
      "                    'bonemarrowprolymphocyte', 'bonemarrowpromonocytecount', \n",
      "                    'bonemarrowpromyelocyte', 'monocyte', 'venous_invasion',\n",
      "                    'lymphatic_invasion', 'calcium_level', 'white_cell_count',\n",
      "                    'tumor_focality']\n",
      "REAL_VARIABLES = ['age']\n",
      "BINARY_VARIABLES = ['gender']\n",
      "SURVIVAL_TESTS = {'event_free_survival_3y' : {'event_var' : 'event_3y', \n",
      "                                           'time_var' : 'event_free_survival_3y', \n",
      "                                           'covariates' : ['age', 'rate']},\n",
      "                  'event_free_survival_5y' : {'event_var' : 'event_5y', \n",
      "                                           'time_var' : 'event_free_survival_5y', \n",
      "                                           'covariates' : ['age', 'rate']}\n",
      "                  }"
     ],
     "language": "python",
     "metadata": {},
     "outputs": [],
     "prompt_number": 5
    },
    {
     "cell_type": "code",
     "collapsed": false,
     "input": [
      "cancer_obj = ClinicalObject(cancer, data_path, gene_sets, data_type,\n",
      "                            survival_tests=SURVIVAL_TESTS, \n",
      "                            real_variables=REAL_VARIABLES,\n",
      "                            binary_variables=BINARY_VARIABLES,\n",
      "                            drop_pc=True)"
     ],
     "language": "python",
     "metadata": {},
     "outputs": [],
     "prompt_number": 7
    },
    {
     "cell_type": "code",
     "collapsed": false,
     "input": [
      "from Processing.Tests import get_cox_ph_ms"
     ],
     "language": "python",
     "metadata": {},
     "outputs": [],
     "prompt_number": 25
    },
    {
     "cell_type": "code",
     "collapsed": false,
     "input": [
      "s = get_cox_ph_ms(cancer_obj.clinical, cancer_obj.meta_matrix.ix['KEGG_TAURINE_AND_HYPOTAURINE_METABOLISM'], ['age','rate'], 'event_free_survival_3y', 'event_3y', return_val='LR')\n",
      "Series(s)"
     ],
     "language": "python",
     "metadata": {},
     "outputs": [
      {
       "output_type": "pyout",
       "prompt_number": 60,
       "text": [
        "LR                                                  0.02693653\n",
        "hazzard                                               2.083006\n",
        "model        [[0.733812109521, -0.0823072867338, -0.4155766...\n",
        "pathway_p                                          0.000743652"
       ]
      }
     ],
     "prompt_number": 60
    },
    {
     "cell_type": "code",
     "collapsed": false,
     "input": [
      "print '\\n\\n'.join(str(s['model']).split('\\n\\n')[-2:])"
     ],
     "language": "python",
     "metadata": {},
     "outputs": [
      {
       "output_type": "stream",
       "stream": "stdout",
       "text": [
        "\n",
        "                coef exp(coef) se(coef)      z       p\n",
        "pathway       0.7338     2.083    0.218  3.373 0.00074\n",
        "rate         -0.0823     0.921    0.335 -0.246 0.81000\n",
        "age          -0.4156     0.660    0.288 -1.443 0.15000\n",
        "pathway:rate -0.5218     0.593    0.242 -2.155 0.03100\n",
        "\n",
        "Likelihood ratio test=11  on 4 df, p=0.0269  n= 248, number of events= 15 \n",
        "\n"
       ]
      }
     ],
     "prompt_number": 61
    },
    {
     "cell_type": "code",
     "collapsed": false,
     "input": [
      "v = cancer_obj.q_pathways.event_free_survival_3y\n",
      "v[v < .2].order()"
     ],
     "language": "python",
     "metadata": {},
     "outputs": [
      {
       "output_type": "pyout",
       "prompt_number": 23,
       "text": [
        "KEGG_NEUROTROPHIN_SIGNALING_PATHWAY                             0.001841\n",
        "REACTOME_INTRINSIC_PATHWAY                                      0.004881\n",
        "KEGG_TAURINE_AND_HYPOTAURINE_METABOLISM                         0.029002\n",
        "REACTOME_HORMONE_SENSITIVE_LIPASE_HSL_MEDIATED_TRIACYLGLYCEROL_HYDROLYSIS    0.029002\n",
        "REACTOME_INFLUENZA_LIFE_CYCLE                                   0.029002\n",
        "ST_ADRENERGIC                                                   0.029002\n",
        "BIOCARTA_EPHA4_PATHWAY                                          0.056981\n",
        "REACTOME_MICRORNA_BIOGENESIS                                    0.056981\n",
        "BIOCARTA_NTHI_PATHWAY                                           0.116086\n",
        "BIOCARTA_PTDINS_PATHWAY                                         0.116086\n",
        "KEGG_BETA_ALANINE_METABOLISM                                    0.116086\n",
        "KEGG_PENTOSE_PHOSPHATE_PATHWAY                                  0.116086\n",
        "KEGG_PEROXISOME                                                 0.116086\n",
        "REACTOME_INHIBITION_OF_INSULIN_SECRETION_BY_ADRENALINE_NORADRENALINE    0.116086\n",
        "REACTOME_REMOVAL_OF_THE_FLAP_INTERMEDIATE                       0.116086\n",
        "REACTOME_RNA_POLYMERASE_I_III_AND_MITOCHONDRIAL_TRANSCRIPTION    0.116086\n",
        "REACTOME_TOLL_LIKE_RECEPTOR_9_CASCADE                           0.116086\n",
        "ST_INTERLEUKIN_4_PATHWAY                                        0.116086\n",
        "KEGG_REGULATION_OF_AUTOPHAGY                                    0.119743\n",
        "SA_TRKA_RECEPTOR                                                0.158018\n",
        "BIOCARTA_CSK_PATHWAY                                            0.164836\n",
        "REACTOME_DNA_STRAND_ELONGATION                                  0.164836\n",
        "REACTOME_FORMATION_OF_FIBRIN_CLOT_CLOTTING_CASCADE              0.164836\n",
        "REACTOME_POLYMERASE_SWITCHING                                   0.164836\n",
        "Name: event_free_survival_3y"
       ]
      }
     ],
     "prompt_number": 23
    },
    {
     "cell_type": "code",
     "collapsed": false,
     "input": [
      "v = cancer_obj.q_genes.event_free_survival_3y\n",
      "v[v < .2].order()"
     ],
     "language": "python",
     "metadata": {},
     "outputs": [
      {
       "output_type": "pyout",
       "prompt_number": 20,
       "text": [
        "FAT3     0.002218\n",
        "CHL1     0.015562\n",
        "NSD1     0.016168\n",
        "MYPN     0.025377\n",
        "DSP      0.060614\n",
        "KNTC1    0.060614\n",
        "Name: event_free_survival_3y"
       ]
      }
     ],
     "prompt_number": 20
    }
   ],
   "metadata": {}
  }
 ]
}