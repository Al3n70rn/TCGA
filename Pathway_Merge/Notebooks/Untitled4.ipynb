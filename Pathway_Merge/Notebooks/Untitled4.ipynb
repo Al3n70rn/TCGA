{
 "metadata": {
  "name": "Untitled4"
 },
 "nbformat": 3,
 "nbformat_minor": 0,
 "worksheets": [
  {
   "cells": [
    {
     "cell_type": "markdown",
     "metadata": {},
     "source": [
      "#Data.Firehose Tests"
     ]
    },
    {
     "cell_type": "code",
     "collapsed": false,
     "input": [
      "import numpy as np\n",
      "import os as os\n",
      "\n",
      "import pandas as pd\n",
      "from pandas import DataFrame, Series"
     ],
     "language": "python",
     "metadata": {},
     "outputs": [],
     "prompt_number": 1
    },
    {
     "cell_type": "code",
     "collapsed": false,
     "input": [
      "data_path = '/cellar/data/TCGA/Firehose__2013_04_21/'\n",
      "cancer = 'HNSC'"
     ],
     "language": "python",
     "metadata": {},
     "outputs": [],
     "prompt_number": 4
    },
    {
     "cell_type": "code",
     "collapsed": false,
     "input": [
      "def fix_barcode_columns(df, patients=None, tissue_code='All'):\n",
      "    '''\n",
      "    Takes TCGA barcode and reformats it into a MultiIndex if all tissue_codes \n",
      "    are desired, or just pulls the correct tissue codes and filteres the \n",
      "    DataFrame.\n",
      "\n",
      "    df: pandas DataFrame\n",
      "    patients: patient list to filter on\n",
      "    tissue_code: ['01','11','All']  #if all returns MultiIndex\n",
      "\n",
      "    '''\n",
      "    df.columns = pd.MultiIndex.from_tuples([(i[:12], i[13:15]) for i \n",
      "                                            in df.columns])\n",
      "    if patients is not None:\n",
      "        df  = df.ix[:, patients]\n",
      "    if tissue_code != 'All':\n",
      "        df = df.T.xs(tissue_code, level=1).T #pandas bug\n",
      "    return df"
     ],
     "language": "python",
     "metadata": {},
     "outputs": [],
     "prompt_number": 41
    },
    {
     "cell_type": "code",
     "collapsed": false,
     "input": [
      "def get_mutation_matrix(data_path, cancer, tissue_code='01'):\n",
      "    '''\n",
      "    Get gene by patient mutation matrix. \n",
      "    Here I filter by the is_silent column in the MAF file, \n",
      "    so I am returning only non-silent mutations.  \n",
      "    '''\n",
      "    maf = pd.read_table(data_path + '/'.join(['analyses', cancer, 'MutSigNozzleReport2', \n",
      "                                             cancer + '-TP.final_analysis_set.maf']))\n",
      "    maf = maf.dropna(how='all', axis=[0,1])\n",
      "    maf = maf.set_index(['Hugo_Symbol','Tumor_Sample_Barcode'])\n",
      "    non_silent = maf[maf.is_silent == 0]\n",
      "    non_silent['counter'] = 1\n",
      "    hit_matrix = non_silent.counter.groupby(level=[0,1]).sum().unstack()\n",
      "    hit_matrix = fix_barcode_columns(hit_matrix, tissue_code=tissue_code)\n",
      "    return hit_matrix  "
     ],
     "language": "python",
     "metadata": {},
     "outputs": [],
     "prompt_number": 42
    },
    {
     "cell_type": "code",
     "collapsed": false,
     "input": [
      "def get_gistic_gene_matrix(data_path, cancer, tissue_code='01'):\n",
      "    '''\n",
      "    Reads in gene by patient copy-number alteration matrix.  \n",
      "    Index is MultiIndex with ['Cytoband', 'Locus ID', 'Gene Symbol'] on the levels.\n",
      "    '''\n",
      "    gistic_ext = data_path + '/'.join(['analyses', cancer, 'CopyNumber_Gistic2', ''])\n",
      "    gistic = pd.read_table(gistic_ext + 'all_thresholded.by_genes.txt', index_col=[2,1,0]) \n",
      "    gistic = fix_barcode_columns(gistic, tissue_code=tissue_code)\n",
      "    return gistic"
     ],
     "language": "python",
     "metadata": {},
     "outputs": [],
     "prompt_number": 59
    },
    {
     "cell_type": "code",
     "collapsed": false,
     "input": [
      "def read_rppa(data_path, cancer, tissue_code='01'):\n",
      "    '''\n",
      "    Reads in antibody by patient reverse-phase protein array matrix. \n",
      "    Index is MultiIndex with ['protien','antibody'] on the levels. \n",
      "    '''\n",
      "    ext = '/'.join(['stddata', cancer,  'RPPA_AnnotateWithGene', cancer + '.rppa.txt'])\n",
      "    rppa = pd.read_table(data_path +  ext, index_col=0)\n",
      "    rppa['protien'] = rppa.index.map(lambda s: s.split('|')[0])\n",
      "    rppa['antibody'] = rppa.index.map(lambda s: s.split('|')[1])\n",
      "    rppa = rppa.set_index(['protien','antibody'])\n",
      "    rppa = fix_barcode_columns(rppa, tissue_code=tissue_code)\n",
      "    return rppa"
     ],
     "language": "python",
     "metadata": {},
     "outputs": [],
     "prompt_number": 74
    },
    {
     "cell_type": "code",
     "collapsed": false,
     "input": [
      "def get_dataset_path(data_path, cancer, data_type, ext):\n",
      "    stddata_path = data_path + 'stddata/' + cancer\n",
      "    if not os.path.isdir(stddata_path):\n",
      "        return\n",
      "    data_types = filter(lambda f: f.startswith(data_type), os.listdir(stddata_path))\n",
      "    if data_type in data_types: #get the paths\n",
      "        path = [f[0] for f in list(os.walk(stddata_path + '/' + data_type)) if \n",
      "                (ext + '/data') in f[0]][0]   \n",
      "    else:\n",
      "        return\n",
      "    f = [f for f in os.listdir(path) if 'data' in f][0] #pull the data file\n",
      "    return path + '/'+ f"
     ],
     "language": "python",
     "metadata": {},
     "outputs": [],
     "prompt_number": 375
    },
    {
     "cell_type": "code",
     "collapsed": false,
     "input": [
      "def read_rnaSeq(data_path, cancer, patients=None, average_on_genes=True,\n",
      "                tissue_code='01'):\n",
      "    '''\n",
      "    Reads in gene by patient rnaSeq mRNA expression matrix. \n",
      "    Data is log-transformed and a lower bound of -3 (1/8 read per million) is set.\n",
      "    '''\n",
      "    f = get_dataset_path(data_path, cancer, 'rnaseqv2', 'RSEM_genes_normalized')\n",
      "    if f is None:\n",
      "        return \n",
      "    rnaSeq = pd.read_table(f, index_col=0, skiprows=[1])\n",
      "    rnaSeq = np.log2(rnaSeq).replace(-np.inf, -3.) #close enough to 0\n",
      "    if average_on_genes:  #Pretty much all duplicates are unknown ('?')\n",
      "        rnaSeq = rnaSeq.groupby(by=lambda n: n.split('|')[0]).mean()\n",
      "    rnaSeq = fix_barcode_columns(rnaSeq, patients, tissue_code)\n",
      "    return rnaSeq"
     ],
     "language": "python",
     "metadata": {},
     "outputs": [],
     "prompt_number": 378
    },
    {
     "cell_type": "code",
     "collapsed": false,
     "input": [
      "gene_pos = pd.read_csv('/cellar/users/agross/Data/GeneSets/HGNC_chr_pos.txt')\n",
      "\n",
      "def map_splice_junction_to_gene(j):\n",
      "    '''\n",
      "    Takes a label from the Firehose junction_quantification file and maps to a gene. \n",
      "    Needs to be refactored for speed. \n",
      "    '''\n",
      "    parsed = j.split(':')\n",
      "    chromosome = parsed[0][3:]\n",
      "    start = int(parsed[1])\n",
      "    end = int(parsed[3])\n",
      "    strand = parsed[4]\n",
      "    \n",
      "    lu = gene_pos[((gene_pos['Chromosome Name'] == chromosome) * (gene_pos['Gene Start (bp)'] < start) * \n",
      "              (gene_pos['Gene End (bp)'] > end))].sort('Gene Start (bp)')\n",
      "    if len(lu) == 0:\n",
      "        return '?'\n",
      "    return lu.iloc[0].ix['HGNC symbol']"
     ],
     "language": "python",
     "metadata": {},
     "outputs": [],
     "prompt_number": 359
    },
    {
     "cell_type": "code",
     "collapsed": false,
     "input": [
      "def read_rnaSeq_splice_junctions(data_path, cancer, patients=None, average_on_genes=True,\n",
      "                tissue_code='01'):\n",
      "    '''\n",
      "    Reads in gene by patient rnaSeq mRNA splice junction matrix. \n",
      "    Values are raw counts. \n",
      "    '''\n",
      "    f = get_dataset_path(data_path, cancer, 'rnaseqv2', 'junction_quantification')\n",
      "    if f is None:\n",
      "        return \n",
      "    rnaSeq = pd.read_table(f, index_col=0, skiprows=[1])\n",
      "    rnaSeq = fix_barcode_columns(rnaSeq, patients, tissue_code)\n",
      "    return rnaSeq"
     ],
     "language": "python",
     "metadata": {},
     "outputs": [],
     "prompt_number": 383
    },
    {
     "cell_type": "code",
     "collapsed": false,
     "input": [
      "def read_mrna(data_path, cancer, patients=None, tissue_code='01'):\n",
      "    '''\n",
      "    Reads in gene by patient microarray gene expression.\n",
      "    '''\n",
      "    f = get_dataset_path(data_path, cancer, 'transcriptome', 'unc_lowess_normalization_gene_level')\n",
      "    mrna = pd.read_table(f,index_col=0, skiprows=[1], na_values=['null'])\n",
      "    mrna = fix_barcode_columns(mrna, patients, tissue_code)\n",
      "    return mrna"
     ],
     "language": "python",
     "metadata": {},
     "outputs": [],
     "prompt_number": 389
    },
    {
     "cell_type": "code",
     "collapsed": false,
     "input": [
      "def read_miRNASeq(data_path, cancer, patients=None, tissue_code='01'):\n",
      "    '''\n",
      "    Reads in miRNA by patient miRNASeq matrix.\n",
      "    Data is log-transformed and a lower bound of -3 (1/8 read per million) is set.\n",
      "    They often use both HiSeq and GA2 for this, so I'm merging the two,\n",
      "    not entirely sure if that's Kosher. \n",
      "    '''\n",
      "    stddata_path = data_path + 'stddata/' + cancer\n",
      "    paths = [f[0] for f in list(os.walk(stddata_path + '/mirnaseq')) if \n",
      "                    'miR_gene_expression/data' in f[0]]\n",
      "    data = []\n",
      "    for path in paths:\n",
      "        f = [f for f in os.listdir(path) if 'data' in f][0]\n",
      "        mirna = pd.read_table(path + '/' + f, index_col=0, header=None)\n",
      "        data.append(mirna)\n",
      "    mirna = pd.concat(data, axis=1)\n",
      "    mirna = mirna.T.set_index(['miRNA_ID', 'Hybridization REF'])\n",
      "    mirna = mirna.sortlevel(level=0).ix['reads_per_million_miRNA_mapped']\n",
      "    mirna = np.log2(mirna.astype(float)).replace(-np.inf, -3.) #close enough to 0\n",
      "    mirna = mirna.T\n",
      "    mirna = mirna.groupby(level=0, axis=1).last() #Lets use the HiSeq over the GA2\n",
      "    mirna = fix_barcode_columns(mirna, patients, tissue_code)\n",
      "    return mirna"
     ],
     "language": "python",
     "metadata": {},
     "outputs": [],
     "prompt_number": 409
    },
    {
     "cell_type": "code",
     "collapsed": false,
     "input": [
      "def get_gistic_lesions(data_path, cancer, patients=None, tissue_code='01'):\n",
      "    '''\n",
      "    Reads in lesion by patient CNA matrix.\n",
      "    Returns thresholded calls as made by GISTIC2 in the Firehose pipeline. \n",
      "    '''\n",
      "    gistic_ext = '{}/analyses/{}/CopyNumber_Gistic2/'.format(data_path, cancer)\n",
      "    gistic = pd.read_table(gistic_ext + 'all_lesions.conf_99.txt', index_col=[0,1])\n",
      "    lesions = gistic.select(lambda s: 'TCGA' in s, axis=1) \n",
      "    lesions = lesions.select(lambda s: 'values' not in s[0], axis=0) \n",
      "    from_tuples = pd.MultiIndex.from_tuples\n",
      "    lesions.index = from_tuples([(s[0].split(' ')[0], s[1].strip(), 'Lesion') \n",
      "                                 for s in lesions.index])\n",
      "    lesions = lesions.groupby(level=[0,1,2]).first()\n",
      "    lesions.T['Deletion'] = (lesions.T['Deletion']*-1).replace(-0,0)\n",
      "    lesions = fix_barcode_columns(lesions, patients, tissue_code)\n",
      "    return lesions"
     ],
     "language": "python",
     "metadata": {},
     "outputs": [],
     "prompt_number": 421
    },
    {
     "cell_type": "code",
     "collapsed": false,
     "input": [
      "def get_submaf(data_path, cancer, genes='All', fields='basic'):\n",
      "    '''\n",
      "    Pull a sub-section of the MAF file for analysis.  \n",
      "\n",
      "    genes: list of genes for which to return data\n",
      "    fields: ['basic', 'all']: if basic, returns a consise version of MAF without junk\n",
      "    '''\n",
      "    f = '{}/analyses/{}/MutSigNozzleReport2/{}-TP.final_analysis_set.maf'.format(data_path, cancer, cancer)\n",
      "    maf = pd.read_table(f)\n",
      "    maf = maf.dropna(how='all', axis=[0,1])\n",
      "    maf['Tissue_Type'] = maf.Tumor_Sample_Barcode.map(lambda s: s[13:15])\n",
      "    maf.Tumor_Sample_Barcode = maf.Tumor_Sample_Barcode.map(lambda s: s[:12])\n",
      "    if genes != 'All':\n",
      "        maf = maf[maf.Hugo_Symbol.isin(genes)]\n",
      "    get_allele = lambda s: [a for a in [s['Tumor_Seq_Allele1'], s['Tumor_Seq_Allele2']]\n",
      "                            if a != s['Reference_Allele']][0]\n",
      "    maf['Alt_Allele'] = maf.apply(get_allele, 1)\n",
      "    if fields == 'basic':\n",
      "        maf = maf[['Hugo_Symbol', 'Chromosome', 'Start_position', 'End_position', \n",
      "                   'Strand', 'Reference_Allele', 'Alt_Allele', \n",
      "                   'Tumor_Sample_Barcode']]\n",
      "    maf = maf.set_index('Hugo_Symbol', append=True)\n",
      "    maf.index = maf.index.swaplevel(0,1)\n",
      "    return maf "
     ],
     "language": "python",
     "metadata": {},
     "outputs": [],
     "prompt_number": 456
    },
    {
     "cell_type": "code",
     "collapsed": false,
     "input": [
      "def get_beta_values(data_path, cancer, patients=None, tissue_code='01'):\n",
      "    '''\n",
      "    Retrieve methylation beta-values from my pre-processed file.  \n",
      "    TCGA has a lot more columns that eat up memory, so I parse out the beta-values\n",
      "    in preprocess_methylation.py.  \n",
      "    This file still has all of the probes by pateints so it still eats my kill a \n",
      "    computer without a lot of memory (takes ~2GB for HNSC). \n",
      "    '''\n",
      "    t = pd.read_table('{}/ucsd_processing/{}/methylation450/beta_values.txt'.format(data_path, cancer), \n",
      "                      skiprows=[1], index_col=[0])\n",
      "    t = t.rename(columns=lambda s: s if s!=t.columns[0] else 'symbol')\n",
      "    t = t.set_index('symbol', append=True)\n",
      "    t = t.swaplevel(0,1)\n",
      "    t = fix_barcode_columns(t, patients, tissue_code)\n",
      "    return t"
     ],
     "language": "python",
     "metadata": {},
     "outputs": [],
     "prompt_number": 458
    },
    {
     "cell_type": "code",
     "collapsed": false,
     "input": [
      "def read_methylation(data_path, cancer, patients=None, tissue_code='01'):\n",
      "    '''\n",
      "    Reads in gene by patient methylation matrix.  \n",
      "    Here genes levels are pre-computed by taking the principal component of \n",
      "    the probes in the gene (see preprocess_methylation.py for details).  \n",
      "\n",
      "    tissue_code: ['01','11','All']  #if all returns MultiIndex\n",
      "    '''\n",
      "    processed_data_path = '{}/ucsd_processing/{}/'.format(data_path, cancer)\n",
      "    data_types = filter(lambda f: f[:11] == 'methylation', os.listdir(processed_data_path))\n",
      "    data_type = sorted([d for d in data_types if os.path.isfile(processed_data_path + d + \n",
      "                                                      '/meta_probes.csv')])[-1]\n",
      "    meth = pd.read_csv(processed_data_path +  data_type + '/meta_probes.csv', index_col=0)\n",
      "    meth.columns = pd.MultiIndex.from_tuples(map(lambda s: eval(s,{},{}), meth.columns))\n",
      "    \n",
      "    if patients is not None:\n",
      "        meth  = meth.ix[:, patients]\n",
      "    meth = meth.astype(np.float)\n",
      "    meth = meth.dropna(thresh=100)\n",
      "    if tissue_code != 'All':\n",
      "        meth = meth.T.xs(tissue_code, level=1).T #pandas bug\n",
      "    return meth"
     ],
     "language": "python",
     "metadata": {},
     "outputs": [],
     "prompt_number": 473
    },
    {
     "cell_type": "code",
     "collapsed": false,
     "input": [
      "df = read_methylation(data_path, 'HNSC', tissue_code='All')"
     ],
     "language": "python",
     "metadata": {},
     "outputs": [],
     "prompt_number": 474
    }
   ],
   "metadata": {}
  }
 ]
}