{
 "metadata": {
  "name": "pan_can"
 },
 "nbformat": 3,
 "nbformat_minor": 0,
 "worksheets": [
  {
   "cells": [
    {
     "cell_type": "code",
     "collapsed": false,
     "input": [
      "cd ../src"
     ],
     "language": "python",
     "metadata": {},
     "outputs": [
      {
       "output_type": "stream",
       "stream": "stdout",
       "text": [
        "/cellar/users/agross/TCGA_Code/TCGA/Pathway_Merge/src\n"
       ]
      }
     ],
     "prompt_number": 1
    },
    {
     "cell_type": "code",
     "collapsed": false,
     "input": [
      "import os as os\n",
      "import pickle as pickle\n",
      "import pandas as pd\n",
      "\n",
      "from Processing.Tests import run_feature_matrix, SurvivalTest\n",
      "\n",
      "pd.set_option('precision',3)"
     ],
     "language": "python",
     "metadata": {},
     "outputs": [],
     "prompt_number": 2
    },
    {
     "cell_type": "markdown",
     "metadata": {},
     "source": [
      "##Load Firehose Run"
     ]
    },
    {
     "cell_type": "code",
     "collapsed": false,
     "input": [
      "result_path = '/scratch/TCGA/Firehose__2012_01_16/ucsd_analyses'\n",
      "run = sorted(os.listdir(result_path))[0]\n",
      "run = pickle.load(open('/'.join([result_path, run, 'RunObject.p']), 'rb'))"
     ],
     "language": "python",
     "metadata": {},
     "outputs": [],
     "prompt_number": 4
    },
    {
     "cell_type": "code",
     "collapsed": false,
     "input": [
      "run.cancers"
     ],
     "language": "python",
     "metadata": {},
     "outputs": [
      {
       "output_type": "pyout",
       "prompt_number": 11,
       "text": [
        "array([BLCA, BRCA, CESC, COAD, COADREAD, DLBC, ESCA, GBM, HNSC, KICH, KIRC,\n",
        "       KIRP, LAML, LGG, LIHC, LUAD, LUSC, OV, PAAD, PANCAN12, PANCAN18,\n",
        "       PRAD, READ, SARC, SKCM, STAD, THCA, UCEC], dtype=object)"
       ]
      }
     ],
     "prompt_number": 11
    },
    {
     "cell_type": "code",
     "collapsed": false,
     "input": [
      "cancers = {c: run.load_cancer(c) for c in run.cancers}"
     ],
     "language": "python",
     "metadata": {},
     "outputs": [],
     "prompt_number": 30
    },
    {
     "cell_type": "code",
     "collapsed": false,
     "input": [
      "mut = {c.name: c.load_data('MAF') for c in cancers.values() \n",
      "                                  if os.path.isdir(c.path + '/MAF')}"
     ],
     "language": "python",
     "metadata": {},
     "outputs": [],
     "prompt_number": 31
    },
    {
     "cell_type": "code",
     "collapsed": false,
     "input": [
      "mut_genes = pd.concat([m.df for m in mut.values()], keys=mut)\n",
      "total_counts = mut_genes.groupby(level=[0,1]).size()"
     ],
     "language": "python",
     "metadata": {},
     "outputs": [],
     "prompt_number": 62
    },
    {
     "cell_type": "code",
     "collapsed": false,
     "input": [
      "total_counts.ix[:,'TP53'].order()"
     ],
     "language": "python",
     "metadata": {},
     "outputs": [
      {
       "output_type": "pyout",
       "prompt_number": 61,
       "text": [
        "CESC          1\n",
        "KIRP          2\n",
        "THCA          3\n",
        "PRAD          5\n",
        "KIRC          6\n",
        "BLCA         11\n",
        "PAAD         22\n",
        "READ         45\n",
        "STAD         52\n",
        "GBM          59\n",
        "UCEC         69\n",
        "COAD         75\n",
        "LGG          88\n",
        "LUAD        117\n",
        "COADREAD    120\n",
        "LUSC        140\n",
        "BRCA        184\n",
        "HNSC        207\n",
        "OV          276"
       ]
      }
     ],
     "prompt_number": 61
    },
    {
     "cell_type": "code",
     "collapsed": false,
     "input": [
      "cn = {c.name: c.load_data('CN_broad') for c in cancers.values() \n",
      "                                      if os.path.isdir(c.path + '/CN_broad')}"
     ],
     "language": "python",
     "metadata": {},
     "outputs": [],
     "prompt_number": 66
    },
    {
     "cell_type": "code",
     "collapsed": false,
     "input": [
      "cn_genes = pd.concat([m.df for m in cn.values()], keys=cn)\n",
      "cn_counts = cn_genes.groupby(level=[0,1,2]).size()"
     ],
     "language": "python",
     "metadata": {},
     "outputs": [],
     "prompt_number": 70
    },
    {
     "cell_type": "code",
     "collapsed": false,
     "input": [
      "cn_counts.ix[:,:,'3p14.2']"
     ],
     "language": "python",
     "metadata": {},
     "outputs": [
      {
       "output_type": "pyout",
       "prompt_number": 72,
       "text": [
        "COADREAD  Deletion    104\n",
        "KIRC      Deletion    408\n",
        "HNSC      Deletion    242\n",
        "COAD      Deletion     75\n",
        "UCEC      Deletion     69"
       ]
      }
     ],
     "prompt_number": 72
    },
    {
     "cell_type": "code",
     "collapsed": false,
     "input": [
      "cn_genes.ix['3p12."
     ],
     "language": "python",
     "metadata": {},
     "outputs": []
    }
   ],
   "metadata": {}
  }
 ]
}