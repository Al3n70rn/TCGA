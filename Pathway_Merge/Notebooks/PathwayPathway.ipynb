{
 "metadata": {
  "name": "PathwayPathway"
 },
 "nbformat": 3,
 "nbformat_minor": 0,
 "worksheets": [
  {
   "cells": [
    {
     "cell_type": "code",
     "collapsed": false,
     "input": [
      "cd ../src/"
     ],
     "language": "python",
     "metadata": {},
     "outputs": [
      {
       "output_type": "stream",
       "stream": "stdout",
       "text": [
        "/cellar/users/agross/TCGA_Code/TCGA/Pathway_Merge/src\n"
       ]
      }
     ],
     "prompt_number": 1
    },
    {
     "cell_type": "code",
     "collapsed": false,
     "input": [
      "import pandas as pandas\n",
      "from Data.Pathways import read_in_pathways\n",
      "from Processing.Clinical import ClinicalObject\n",
      "\n",
      "pandas.set_printoptions(max_columns=300)"
     ],
     "language": "python",
     "metadata": {},
     "outputs": [],
     "prompt_number": 2
    },
    {
     "cell_type": "code",
     "collapsed": false,
     "input": [
      "firehose_path = '/cellar/users/agross/Data/TCGA/'\n",
      "date = '20120825'\n",
      "date_ = '_'.join([date[:4], date[4:6], date[6:8]])\n",
      "pathway_file = '/cellar/users/agross/Data/GeneSets/c2.cp.v3.0.symbols_edit.csv'\n",
      "gene_sets, gene_lookup = read_in_pathways(pathway_file)"
     ],
     "language": "python",
     "metadata": {},
     "outputs": [],
     "prompt_number": 3
    },
    {
     "cell_type": "code",
     "collapsed": false,
     "input": [
      "def get_cancer(cancer, data_type):\n",
      "    try:\n",
      "        data_path = firehose_path + 'analyses__' + date_ + '/' + cancer + '/' + date + '/'\n",
      "        cancer_obj = ClinicalObject(cancer, data_path, gene_sets, data_type)\n",
      "        #cancer_obj.filter_bad_pathways(gene_lookup)\n",
      "        return (data_type, cancer_obj)\n",
      "    except:\n",
      "        return (data_type, data_type + ' is broken.')"
     ],
     "language": "python",
     "metadata": {},
     "outputs": [],
     "prompt_number": 4
    },
    {
     "cell_type": "code",
     "collapsed": false,
     "input": [
      "cancer = 'LAML'\n",
      "data_types = ['mutation','expression']"
     ],
     "language": "python",
     "metadata": {},
     "outputs": [],
     "prompt_number": 5
    },
    {
     "cell_type": "code",
     "collapsed": false,
     "input": [
      "r = [get_cancer(cancer, data_type) for data_type in data_types]\n",
      "clinical = dict(((k,v) for k,v in r if type(v) != str and len(v.q_pathways) > 0))"
     ],
     "language": "python",
     "metadata": {},
     "outputs": [],
     "prompt_number": 6
    },
    {
     "cell_type": "code",
     "collapsed": false,
     "input": [
      "exp = clinical['expression']\n",
      "mut = clinical['mutation']\n",
      "mut.filter_bad_pathways(gene_lookup)"
     ],
     "language": "python",
     "metadata": {},
     "outputs": [],
     "prompt_number": 7
    },
    {
     "cell_type": "code",
     "collapsed": false,
     "input": [
      "np.sort(exp.q_pathways.survival).head()"
     ],
     "language": "python",
     "metadata": {},
     "outputs": [
      {
       "output_type": "pyout",
       "prompt_number": 8,
       "text": [
        "BIOCARTA_FEEDER_PATHWAY                                 0.070787\n",
        "REACTOME_CHOLESTEROL_BIOSYNTHESIS                       0.083388\n",
        "REACTOME_UNFOLDED_PROTEIN_RESPONSE                      0.151452\n",
        "BIOCARTA_LAIR_PATHWAY                                   0.158464\n",
        "REACTOME_TRANSFORMATION_OF_LANOSTEROL_TO_CHOLESTEROL    0.158464\n",
        "Name: survival"
       ]
      }
     ],
     "prompt_number": 8
    },
    {
     "cell_type": "code",
     "collapsed": false,
     "input": [
      "exp_path = exp.q_pathways[exp.q_pathways.survival < .1].index\n",
      "mut_path = mut.q_pathways[mut.q_pathways.survival < 1].index\n",
      "len(exp_path), len(mut_path)"
     ],
     "language": "python",
     "metadata": {},
     "outputs": [
      {
       "output_type": "pyout",
       "prompt_number": 9,
       "text": [
        "(2, 396)"
       ]
      }
     ],
     "prompt_number": 9
    },
    {
     "cell_type": "code",
     "collapsed": false,
     "input": [
      "exp_df = exp.pc.ix[exp_path]\n",
      "mut_df = mut.meta_matrix.ix[mut_path]"
     ],
     "language": "python",
     "metadata": {},
     "outputs": [],
     "prompt_number": 10
    },
    {
     "cell_type": "code",
     "collapsed": false,
     "input": [
      "from scipy.stats import f_oneway\n",
      "def anova(hit_vec, response_vec):\n",
      "    hit_vec = hit_vec.reindex_like(response_vec)\n",
      "    return f_oneway(*[response_vec[hit_vec == num].dropna() \n",
      "                      for num in set(hit_vec.dropna())])[1]"
     ],
     "language": "python",
     "metadata": {},
     "outputs": [],
     "prompt_number": 12
    },
    {
     "cell_type": "code",
     "collapsed": false,
     "input": [
      "df =  pandas.DataFrame(dict((m,dict((p, anova(mut_vec, exp_vec)) for p,exp_vec in exp_df.iterrows()))\n",
      "                       for m, mut_vec in mut_df.iterrows()))"
     ],
     "language": "python",
     "metadata": {},
     "outputs": [],
     "prompt_number": 13
    },
    {
     "cell_type": "code",
     "collapsed": false,
     "input": [
      "from Processing.Helpers import match_series\n",
      "def split_a_by_b(a,b):\n",
      "    a, b = match_series(a, b)\n",
      "    groups = [a[b==num] for num in set(b)]\n",
      "    return groups"
     ],
     "language": "python",
     "metadata": {},
     "outputs": [],
     "prompt_number": 15
    },
    {
     "cell_type": "code",
     "collapsed": false,
     "input": [
      "from scipy import stats\n",
      "def histo_compare(hit_vec, response_vec):\n",
      "    kde1 = stats.gaussian_kde(response_vec)\n",
      "    x_eval = np.linspace(-4, 4, num=200)\n",
      "    plot(x_eval, kde1(x_eval), 'k-')\n",
      "    miss, hit = split_a_by_b(response_vec, hit_vec)\n",
      "    plt.hist(miss, bins=20, normed=True, alpha=.2, label='WT');\n",
      "    plt.hist(hit, bins=10, normed=True, alpha=.5, label='Mut');\n",
      "    plt.legend()"
     ],
     "language": "python",
     "metadata": {},
     "outputs": [],
     "prompt_number": 20
    },
    {
     "cell_type": "code",
     "collapsed": false,
     "input": [
      "histo_compare(mut.meta_matrix.ix['BIOCARTA_ATRBRCA_PATHWAY'],\n",
      "              exp.pc.ix['BIOCARTA_FEEDER_PATHWAY'])"
     ],
     "language": "python",
     "metadata": {},
     "outputs": [
      {
       "output_type": "display_data",
       "png": "[encoded data removed]"
      }
     ],
     "prompt_number": 22
    },
    {
     "cell_type": "code",
     "collapsed": false,
     "input": [
      "np.sort(df.ix['BIOCARTA_FEEDER_PATHWAY']).head()"
     ],
     "language": "python",
     "metadata": {},
     "outputs": [
      {
       "output_type": "pyout",
       "prompt_number": 23,
       "text": [
        "REACTOME_DNA_REPLICATION_PRE_INITIATION    0.000250\n",
        "SIG_PIP3_SIGNALING_IN_B_LYMPHOCYTES        0.001435\n",
        "REACTOME_G1_S_TRANSITION                   0.001936\n",
        "BIOCARTA_BAD_PATHWAY                       0.002911\n",
        "KEGG_CELL_CYCLE                            0.003270\n",
        "Name: BIOCARTA_FEEDER_PATHWAY"
       ]
      }
     ],
     "prompt_number": 23
    },
    {
     "cell_type": "code",
     "collapsed": false,
     "input": [],
     "language": "python",
     "metadata": {},
     "outputs": []
    }
   ],
   "metadata": {}
  }
 ]
}