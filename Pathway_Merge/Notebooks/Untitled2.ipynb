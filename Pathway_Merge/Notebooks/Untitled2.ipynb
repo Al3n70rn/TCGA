{
 "metadata": {
  "name": "Untitled2"
 },
 "nbformat": 3,
 "nbformat_minor": 0,
 "worksheets": [
  {
   "cells": [
    {
     "cell_type": "code",
     "collapsed": false,
     "input": [
      "import networkx as nx\n",
      "import pandas as pd\n",
      "from pandas import Series, DataFrame"
     ],
     "language": "python",
     "metadata": {},
     "outputs": [],
     "prompt_number": 80
    },
    {
     "cell_type": "code",
     "collapsed": false,
     "input": [
      "import pandas.rpy.common as com\n",
      "from rpy2.robjects.packages import importr\n",
      "\n",
      "from rpy2.rinterface import RRuntimeError\n",
      "igraph = importr('igraph')"
     ],
     "language": "python",
     "metadata": {},
     "outputs": [],
     "prompt_number": 81
    },
    {
     "cell_type": "code",
     "collapsed": false,
     "input": [
      "graph = '/cellar/users/agross/Data/Imprinting/BioGrid_mouse_human_intr1_2.tsv'\n",
      "annotations = '/cellar/users/agross/Data/Imprinting/annotations.csv'"
     ],
     "language": "python",
     "metadata": {},
     "outputs": [],
     "prompt_number": 82
    },
    {
     "cell_type": "code",
     "collapsed": false,
     "input": [
      "graph = pd.read_table(graph)\n",
      "annotations = pd.read_csv(annotations, index_col=1)"
     ],
     "language": "python",
     "metadata": {},
     "outputs": [],
     "prompt_number": 83
    },
    {
     "cell_type": "code",
     "collapsed": false,
     "input": [
      "conv = annotations.groupby('EntrezGene ID').first()['Associated Gene Name']\n",
      "g['Symbol 1'] = g['Entrez Gene ID 1'].map(conv)\n",
      "g['Symbol 2'] = g['Entrez Gene ID 2'].map(conv)\n",
      "graph = g.groupby(['Symbol 1','Symbol 2']).size().clip(upper=1)"
     ],
     "language": "python",
     "metadata": {},
     "outputs": [],
     "prompt_number": 84
    },
    {
     "cell_type": "code",
     "collapsed": false,
     "input": [
      "G = nx.Graph()\n",
      "G.add_edges_from(graph.index)"
     ],
     "language": "python",
     "metadata": {},
     "outputs": [],
     "prompt_number": 85
    },
    {
     "cell_type": "code",
     "collapsed": false,
     "input": [
      "comp = nx.connected_component_subgraphs(G)\n",
      "G  = comp[0]"
     ],
     "language": "python",
     "metadata": {},
     "outputs": [],
     "prompt_number": 86
    },
    {
     "cell_type": "code",
     "collapsed": false,
     "input": [
      "def nx_to_igraph(nx_graph):\n",
      "    '''\n",
      "    Helper to turn networkx graph into r iGraph object.\n",
      "    '''\n",
      "    try:\n",
      "        edges_iGraph = [{'source':edge[0],'target':edge[1],\n",
      "                         'weight':edge[2]['weight']} \n",
      "                         for edge in nx_graph.edges(data=True)]\n",
      "    except:\n",
      "        edges_iGraph = [{'source':edge[0],'target':edge[1]} \n",
      "                         for edge in nx_graph.edges()]\n",
      "        \n",
      "    graph_frame = DataFrame(edges_iGraph)\n",
      "    graph_frame_r = com.convert_to_r_dataframe(graph_frame)\n",
      "    r_graph = igraph.graph_data_frame(graph_frame_r, directed=False)\n",
      "    return r_graph\n",
      "\n",
      "def pre_cluster(Gr):\n",
      "    '''\n",
      "    Random walk-trap clustering. \n",
      "    '''     \n",
      "    g = nx_to_igraph(Gr)\n",
      "    wt = igraph.walktrap_community(g, modularity=False)\n",
      "    membership = Series(wt.rx2('membership'), wt.rx2('names'))\n",
      "    return membership"
     ],
     "language": "python",
     "metadata": {},
     "outputs": [],
     "prompt_number": 87
    },
    {
     "cell_type": "code",
     "collapsed": false,
     "input": [
      "iG = igraph.simplify(nx_to_igraph(G))"
     ],
     "language": "python",
     "metadata": {},
     "outputs": [],
     "prompt_number": 88
    },
    {
     "cell_type": "code",
     "collapsed": false,
     "input": [
      "c = pre_cluster(G)"
     ],
     "language": "python",
     "metadata": {},
     "outputs": [],
     "prompt_number": 89
    },
    {
     "cell_type": "code",
     "collapsed": false,
     "input": [
      "counts = c.value_counts()\n",
      "singles = c[c.isin(counts.index[counts == 1])].index"
     ],
     "language": "python",
     "metadata": {},
     "outputs": [],
     "prompt_number": 90
    },
    {
     "cell_type": "code",
     "collapsed": false,
     "input": [
      "len(singles)"
     ],
     "language": "python",
     "metadata": {},
     "outputs": [
      {
       "output_type": "pyout",
       "prompt_number": 91,
       "text": [
        "299"
       ]
      }
     ],
     "prompt_number": 91
    },
    {
     "cell_type": "code",
     "collapsed": false,
     "input": [
      "c[c==487]"
     ],
     "language": "python",
     "metadata": {},
     "outputs": [
      {
       "output_type": "pyout",
       "prompt_number": 92,
       "text": [
        "Mtap7    487"
       ]
      }
     ],
     "prompt_number": 92
    },
    {
     "cell_type": "code",
     "collapsed": false,
     "input": [
      "G.neighbors('Trpv4')"
     ],
     "language": "python",
     "metadata": {},
     "outputs": [
      {
       "output_type": "pyout",
       "prompt_number": 93,
       "text": [
        "['Os9', 'Src', 'Fyn', 'Ubc', 'Hck', 'Mtap7', 'Lck', 'Yes1']"
       ]
      }
     ],
     "prompt_number": 93
    },
    {
     "cell_type": "code",
     "collapsed": false,
     "input": [
      "wt = igraph.walktrap_community(iG, steps=20)"
     ],
     "language": "python",
     "metadata": {},
     "outputs": [],
     "prompt_number": 95
    },
    {
     "cell_type": "code",
     "collapsed": false,
     "input": [
      "membership = Series(wt.rx2('membership'), wt.rx2('names'))\n",
      "c = membership"
     ],
     "language": "python",
     "metadata": {},
     "outputs": [],
     "prompt_number": 96
    },
    {
     "cell_type": "code",
     "collapsed": false,
     "input": [
      "counts = c.value_counts()\n",
      "singles = c[c.isin(counts.index[counts == 1])].index"
     ],
     "language": "python",
     "metadata": {},
     "outputs": [],
     "prompt_number": 97
    },
    {
     "cell_type": "code",
     "collapsed": false,
     "input": [
      "counts"
     ],
     "language": "python",
     "metadata": {},
     "outputs": [
      {
       "output_type": "pyout",
       "prompt_number": 98,
       "text": [
        "4      1982\n",
        "2      1650\n",
        "23      767\n",
        "20      650\n",
        "24      595\n",
        "14      324\n",
        "46      171\n",
        "36      113\n",
        "1       107\n",
        "6        88\n",
        "92       60\n",
        "119      48\n",
        "134      43\n",
        "154      31\n",
        "241      27\n",
        "...\n",
        "279    1\n",
        "278    1\n",
        "277    1\n",
        "276    1\n",
        "275    1\n",
        "274    1\n",
        "273    1\n",
        "272    1\n",
        "271    1\n",
        "270    1\n",
        "269    1\n",
        "268    1\n",
        "267    1\n",
        "266    1\n",
        "265    1\n",
        "Length: 434"
       ]
      }
     ],
     "prompt_number": 98
    },
    {
     "cell_type": "code",
     "collapsed": false,
     "input": [
      "s = G.subgraph(membership[membership == 92].index)"
     ],
     "language": "python",
     "metadata": {},
     "outputs": [],
     "prompt_number": 99
    },
    {
     "cell_type": "code",
     "collapsed": false,
     "input": [
      "nx.draw(s)"
     ],
     "language": "python",
     "metadata": {},
     "outputs": [
      {
       "output_type": "display_data",
       "png": "[encoded data removed]",
       "text": [
        "<matplotlib.figure.Figure at 0x7c10390>"
       ]
      }
     ],
     "prompt_number": 100
    },
    {
     "cell_type": "code",
     "collapsed": false,
     "input": [
      "n = membership[membership == 92].index"
     ],
     "language": "python",
     "metadata": {},
     "outputs": [],
     "prompt_number": 102
    },
    {
     "cell_type": "code",
     "collapsed": false,
     "input": [
      "g = graph.ix[n].unstack().ix[:,n]"
     ],
     "language": "python",
     "metadata": {},
     "outputs": [],
     "prompt_number": 118
    },
    {
     "cell_type": "code",
     "collapsed": false,
     "input": [
      "G = s"
     ],
     "language": "python",
     "metadata": {},
     "outputs": [],
     "prompt_number": 124
    },
    {
     "cell_type": "code",
     "collapsed": false,
     "input": [
      "verts = G.nodes()\n",
      "degree = pd.Series(G.degree())\n"
     ],
     "language": "python",
     "metadata": {},
     "outputs": [],
     "prompt_number": 125
    },
    {
     "cell_type": "code",
     "collapsed": false,
     "input": [
      "c = igraph.label_propagation_community(nx_to_igraph(G))"
     ],
     "language": "python",
     "metadata": {},
     "outputs": [],
     "prompt_number": 127
    },
    {
     "cell_type": "code",
     "collapsed": false,
     "input": [
      "print c"
     ],
     "language": "python",
     "metadata": {},
     "outputs": [
      {
       "output_type": "stream",
       "stream": "stdout",
       "text": [
        "Graph community structure calculated with the label propagation algorithm\n",
        "Number of communities: 1 \n",
        "Modularity: 0 \n",
        "Membership vector:\n",
        "        Strn4        Hectd1         Strn3          Arl2        Ppp4r4 \n",
        "            1             1             1             1             1 \n",
        "      Ppp2r2c        Ppp4r1          Jph3         Smek1         Smek2 \n",
        "            1             1             1             1             1 \n",
        "         Tcp1          Mob4 2610018G03Rik         Igbp1      Fgfr1op2 \n",
        "            1             1             1             1             1 \n",
        "        Rfwd2          Theg       Cttnbp2         Stk25         Stk24 \n",
        "            1             1             1             1             1 \n",
        "        Tiprl      Aldh18a1        Fam40b        Fam40a       Ppp2r1a \n",
        "            1             1             1             1             1 \n",
        "      Ppp2r1b        Zranb1         Ccng2         Ppp4c          Strn \n",
        "            1             1             1             1             1 \n",
        "         Ccr6      Traf3ip3         Cct6a     Cttnbp2nl          Cct8 \n",
        "            1             1             1             1             1 \n",
        "        Sike1          Cct3        Ppp2cb          Cct7       Ppp2r5a \n",
        "            1             1             1             1             1 \n",
        "       Cldn12         Pi4ka          Mtg1          Nbea          Cct4 \n",
        "            1             1             1             1             1 \n",
        "         Cct5         Slmap          Cct2        Arl2bp       Ppp2r5d \n",
        "            1             1             1             1             1 \n",
        "         Tbcd     Kidins220         Ppp6c         Sipa1         Fabp5 \n",
        "            1             1             1             1             1 \n",
        "      Ppp2r5e       Ppp2r5c       Ppp2r5b         Cct6b       Fgfr1op \n",
        "            1             1             1             1             1 \n",
        "\n"
       ]
      }
     ],
     "prompt_number": 128
    },
    {
     "cell_type": "code",
     "collapsed": false,
     "input": [
      "g"
     ],
     "language": "python",
     "metadata": {},
     "outputs": [
      {
       "output_type": "pyout",
       "prompt_number": 119,
       "text": [
        "<class 'pandas.core.frame.DataFrame'>\n",
        "Index: 40 entries, Arl2 to Ccng2\n",
        "Data columns:\n",
        "Arl2             1  non-null values\n",
        "Strn             13  non-null values\n",
        "Theg             1  non-null values\n",
        "Cttnbp2          7  non-null values\n",
        "Zranb1           0  non-null values\n",
        "Fgfr1op          1  non-null values\n",
        "Traf3ip3         0  non-null values\n",
        "Fgfr1op2         10  non-null values\n",
        "Nbea             1  non-null values\n",
        "Tbcd             1  non-null values\n",
        "Sipa1            1  non-null values\n",
        "Arl2bp           1  non-null values\n",
        "Ppp2r5d          4  non-null values\n",
        "Ppp2r5e          1  non-null values\n",
        "Ppp2r5a          2  non-null values\n",
        "Ppp2r5b          1  non-null values\n",
        "Ppp2r5c          3  non-null values\n",
        "Fam40b           12  non-null values\n",
        "Jph3             1  non-null values\n",
        "Ppp2r1a          15  non-null values\n",
        "Ppp2r1b          13  non-null values\n",
        "Rfwd2            1  non-null values\n",
        "Mtg1             1  non-null values\n",
        "Kidins220        1  non-null values\n",
        "Smek1            1  non-null values\n",
        "Smek2            1  non-null values\n",
        "Ppp2cb           6  non-null values\n",
        "Fabp5            1  non-null values\n",
        "Strn4            14  non-null values\n",
        "Strn3            13  non-null values\n",
        "Sike1            8  non-null values\n",
        "Cct8             12  non-null values\n",
        "Cct2             13  non-null values\n",
        "Cct3             11  non-null values\n",
        "Cct7             10  non-null values\n",
        "Cct4             10  non-null values\n",
        "Cct5             14  non-null values\n",
        "Slmap            9  non-null values\n",
        "Cct6a            11  non-null values\n",
        "Fam40a           13  non-null values\n",
        "Ppp4r4           1  non-null values\n",
        "Cttnbp2nl        11  non-null values\n",
        "Ppp4r1           1  non-null values\n",
        "Igbp1            3  non-null values\n",
        "Tiprl            1  non-null values\n",
        "Stk25            2  non-null values\n",
        "Stk24            5  non-null values\n",
        "Ppp2r2c          1  non-null values\n",
        "Mob4             12  non-null values\n",
        "Ppp4c            5  non-null values\n",
        "Tcp1             14  non-null values\n",
        "2610018G03Rik    5  non-null values\n",
        "Cct6b            1  non-null values\n",
        "Ppp6c            2  non-null values\n",
        "Hectd1           1  non-null values\n",
        "Aldh18a1         1  non-null values\n",
        "Ccng2            0  non-null values\n",
        "Pi4ka            1  non-null values\n",
        "Ccr6             1  non-null values\n",
        "Cldn12           1  non-null values\n",
        "dtypes: float64(60)"
       ]
      }
     ],
     "prompt_number": 119
    },
    {
     "cell_type": "code",
     "collapsed": false,
     "input": [],
     "language": "python",
     "metadata": {},
     "outputs": []
    }
   ],
   "metadata": {}
  }
 ]
}