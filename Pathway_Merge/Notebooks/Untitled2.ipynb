{
 "metadata": {
  "name": "Untitled2"
 },
 "nbformat": 3,
 "nbformat_minor": 0,
 "worksheets": [
  {
   "cells": [
    {
     "cell_type": "code",
     "collapsed": false,
     "input": [
      "import os\n",
      "from pandas import DataFrame, read_table, notnull, MultiIndex, datetime"
     ],
     "language": "python",
     "metadata": {},
     "outputs": [],
     "prompt_number": 20
    },
    {
     "cell_type": "code",
     "collapsed": false,
     "input": [
      "firehose_path = '/cellar/users/agross/Data/TCGA/'\n",
      "date = '20120913'\n",
      "date_ = '_'.join([date[:4], date[4:6], date[6:8]])\n",
      "stddata_path = firehose_path + 'stddata__' + date_\n",
      "cancers = os.listdir(stddata_path)"
     ],
     "language": "python",
     "metadata": {},
     "outputs": [],
     "prompt_number": 15
    },
    {
     "cell_type": "code",
     "collapsed": false,
     "input": [
      "clin_file = lambda c: ('/'.join([stddata_path, c, date,'Clinical']) + \n",
      "                       '/FromDataPortal/clinical_patient_brca.csv') \n",
      "patient_data = read_table(clin_file('BRCA'), index_col=0)\n",
      "patient_data = patient_data.replace('[Not Available]', nan)\n",
      "patient_data = patient_data.dropna(how='all', axis=[0,1])"
     ],
     "language": "python",
     "metadata": {},
     "outputs": [],
     "prompt_number": 107
    },
    {
     "cell_type": "code",
     "collapsed": false,
     "input": [
      "clin_file = lambda c: ('/'.join([stddata_path, c, date,'Clinical']) + \n",
      "                       '/FromDataPortal/clinical_follow_up_v1.5_brca.txt') \n",
      "followup_data = read_table(clin_file('BRCA'), index_col=0)\n",
      "followup_data = followup_data.replace('[Not Available]', nan)\n",
      "followup_data = followup_data.dropna(how='all', axis=[0,1])"
     ],
     "language": "python",
     "metadata": {},
     "outputs": [],
     "prompt_number": 97
    },
    {
     "cell_type": "code",
     "collapsed": false,
     "input": [
      "timeline = [c for c in followup_data.columns if ('days' in c) or ('date' in c)]\n",
      "followup_data[timeline].ix[3]"
     ],
     "language": "python",
     "metadata": {},
     "outputs": [
      {
       "output_type": "pyout",
       "prompt_number": 120,
       "text": [
        "date_of_form_completion                              2011-3-21\n",
        "days_to_additional_surgery_locoregional_procedure          NaN\n",
        "days_to_additional_surgery_metastatic_procedure            NaN\n",
        "days_to_death                                              NaN\n",
        "days_to_last_followup                                     1275\n",
        "days_to_last_known_alive                                  2384\n",
        "days_to_new_tumor_event_after_initial_treatment            NaN\n",
        "Name: TCGA-A2-A04Q-F9329"
       ]
      }
     ],
     "prompt_number": 120
    },
    {
     "cell_type": "code",
     "collapsed": false,
     "input": [
      "dates.ix['TCGA-A2-A04Q']"
     ],
     "language": "python",
     "metadata": {},
     "outputs": [
      {
       "output_type": "pyout",
       "prompt_number": 131,
       "text": [
        "date_of_initial_pathologic_diagnosis    2004-00-00\n",
        "date_of_form_completion                  2010-8-10\n",
        "days_to_birth                               -17660\n",
        "days_to_death                                  NaN\n",
        "days_to_initial_pathologic_diagnosis             0\n",
        "days_to_last_followup                         1275\n",
        "days_to_last_known_alive                      2179\n",
        "age_at_initial_pathologic_diagnosis             48\n",
        "Name: TCGA-A2-A04Q"
       ]
      }
     ],
     "prompt_number": 131
    },
    {
     "cell_type": "code",
     "collapsed": false,
     "input": [
      "cols = [c for c, vals in patient_data.iteritems() if (sum(notnull(vals)) > len(vals)*.5)\n",
      "        and len(set(vals.dropna())) > 1]"
     ],
     "language": "python",
     "metadata": {},
     "outputs": [],
     "prompt_number": 116
    },
    {
     "cell_type": "code",
     "collapsed": false,
     "input": [
      "dates = patient_data[['date_of_initial_pathologic_diagnosis', 'date_of_form_completion',\n",
      "                      'days_to_birth', 'days_to_death', 'days_to_initial_pathologic_diagnosis',\n",
      "                      'days_to_last_followup', 'days_to_last_known_alive',\n",
      "                      'age_at_initial_pathologic_diagnosis']]\n"
     ],
     "language": "python",
     "metadata": {},
     "outputs": [],
     "prompt_number": 117
    },
    {
     "cell_type": "code",
     "collapsed": false,
     "input": [
      "25833/365."
     ],
     "language": "python",
     "metadata": {},
     "outputs": [
      {
       "output_type": "pyout",
       "prompt_number": 58,
       "text": [
        "70.77534246575343"
       ]
      }
     ],
     "prompt_number": 58
    },
    {
     "cell_type": "code",
     "collapsed": false,
     "input": [
      "dates.ix[0]"
     ],
     "language": "python",
     "metadata": {},
     "outputs": [
      {
       "output_type": "pyout",
       "prompt_number": 57,
       "text": [
        "date_of_initial_pathologic_diagnosis         2008-00-00\n",
        "date_of_form_completion                       2011-6-30\n",
        "days_to_birth                                    -25833\n",
        "days_to_death                           [Not Available]\n",
        "days_to_initial_pathologic_diagnosis                  0\n",
        "days_to_last_followup                               259\n",
        "days_to_last_known_alive                [Not Available]\n",
        "age_at_initial_pathologic_diagnosis                  70\n",
        "Name: TCGA-A1-A0SB"
       ]
      }
     ],
     "prompt_number": 57
    },
    {
     "cell_type": "code",
     "collapsed": false,
     "input": [
      "to_date(dates.ix[0,1])"
     ],
     "language": "python",
     "metadata": {},
     "outputs": [
      {
       "output_type": "stream",
       "stream": "stdout",
       "text": [
        "2011\n"
       ]
      },
      {
       "output_type": "pyout",
       "prompt_number": 50,
       "text": [
        "datetime.datetime(2011, 6, 30, 0, 0)"
       ]
      }
     ],
     "prompt_number": 50
    },
    {
     "cell_type": "code",
     "collapsed": false,
     "input": [
      "def to_date(s):\n",
      "    if type(s) != str:\n",
      "        return nan\n",
      "    y,m,d = map(int, s.split('-'))\n",
      "    return datetime(y,m,d)"
     ],
     "language": "python",
     "metadata": {},
     "outputs": [],
     "prompt_number": 51
    },
    {
     "cell_type": "code",
     "collapsed": false,
     "input": [
      "to"
     ],
     "language": "python",
     "metadata": {},
     "outputs": []
    },
    {
     "cell_type": "code",
     "collapsed": false,
     "input": [
      "[c for c in patient_data.columns if 'age' in c]"
     ],
     "language": "python",
     "metadata": {},
     "outputs": [
      {
       "output_type": "pyout",
       "prompt_number": 54,
       "text": [
        "['age_at_initial_pathologic_diagnosis',\n",
        " 'ajcc_cancer_metastasis_stage_code',\n",
        " 'ajcc_neoplasm_disease_lymph_node_stage',\n",
        " 'ajcc_neoplasm_disease_stage',\n",
        " 'ajcc_tumor_stage_code',\n",
        " 'axillary_lymph_node_stage_method_type',\n",
        " 'axillary_lymph_node_stage_other_method_descriptive_text',\n",
        " 'er_level_cell_percentage_category']"
       ]
      }
     ],
     "prompt_number": 54
    },
    {
     "cell_type": "code",
     "collapsed": false,
     "input": [],
     "language": "python",
     "metadata": {},
     "outputs": []
    }
   ],
   "metadata": {}
  }
 ]
}