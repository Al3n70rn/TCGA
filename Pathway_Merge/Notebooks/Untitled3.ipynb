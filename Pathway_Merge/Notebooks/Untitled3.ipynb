{
 "metadata": {
  "name": "Untitled3"
 },
 "nbformat": 3,
 "nbformat_minor": 0,
 "worksheets": [
  {
   "cells": [
    {
     "cell_type": "code",
     "collapsed": false,
     "input": [
      "import os"
     ],
     "language": "python",
     "metadata": {},
     "outputs": [],
     "prompt_number": 14
    },
    {
     "cell_type": "code",
     "collapsed": false,
     "input": [
      "root = '/cellar/data/TCGA/stddata__2012_10_24/'"
     ],
     "language": "python",
     "metadata": {},
     "outputs": [],
     "prompt_number": 17
    },
    {
     "cell_type": "code",
     "collapsed": false,
     "input": [
      "cancers = os.listdir(root)\n",
      "for cancer in cancers:\n",
      "    path = [root, cancer]\n",
      "    date_folder = os.listdir('/'.join(path))[0]\n",
      "    path += [date_folder]\n",
      "    for f in os.listdir('/'.join(path)):\n",
      "        os.renames('/'.join(path + [f]), '/'.join(path[:-1] + [f]))"
     ],
     "language": "python",
     "metadata": {},
     "outputs": [],
     "prompt_number": 18
    },
    {
     "cell_type": "code",
     "collapsed": false,
     "input": [
      "#create new folder Firehose__2012_10_24\n",
      "#create subfolders broad_analyses, stddata, ucsd_analyses, ucsd_processing"
     ],
     "language": "python",
     "metadata": {},
     "outputs": [],
     "prompt_number": 19
    },
    {
     "cell_type": "code",
     "collapsed": false,
     "input": [],
     "language": "python",
     "metadata": {},
     "outputs": []
    }
   ],
   "metadata": {}
  }
 ]
}