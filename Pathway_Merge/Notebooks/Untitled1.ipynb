{
 "metadata": {
  "name": "Untitled1"
 },
 "nbformat": 3,
 "nbformat_minor": 0,
 "worksheets": [
  {
   "cells": [
    {
     "cell_type": "code",
     "collapsed": false,
     "input": [
      "cd ../src"
     ],
     "language": "python",
     "metadata": {},
     "outputs": [
      {
       "output_type": "stream",
       "stream": "stdout",
       "text": [
        "/cellar/users/agross/TCGA_Code/TCGA/Pathway_Merge/src\n"
       ]
      }
     ],
     "prompt_number": 23
    },
    {
     "cell_type": "code",
     "collapsed": false,
     "input": [
      "import pandas as pandas\n",
      "from Data.Pathways import read_in_pathways\n",
      "from Processing.Clinical import ClinicalObject\n",
      "import pickle as pickle\n",
      "import os as os\n",
      "\n",
      "pandas.set_printoptions(max_columns=300)"
     ],
     "language": "python",
     "metadata": {},
     "outputs": [],
     "prompt_number": 24
    },
    {
     "cell_type": "code",
     "collapsed": false,
     "input": [
      "firehose_path = '/cellar/users/agross/Data/TCGA/'\n",
      "date = '20120913'\n",
      "date_ = '_'.join([date[:4], date[4:6], date[6:8]])\n",
      "pathway_file = '/cellar/users/agross/Data/GeneSets/c2.cp.v3.0.symbols_edit.csv'\n",
      "gene_sets, gene_lookup = read_in_pathways(pathway_file)\n",
      "cancers = os.listdir(firehose_path + 'analyses__' + date_)"
     ],
     "language": "python",
     "metadata": {},
     "outputs": [],
     "prompt_number": 25
    },
    {
     "cell_type": "code",
     "collapsed": false,
     "input": [
      "from Reports.Reports import *\n",
      "data_type = 'mutation'\n",
      "report_ext = '3'"
     ],
     "language": "python",
     "metadata": {},
     "outputs": [],
     "prompt_number": 26
    },
    {
     "cell_type": "code",
     "collapsed": false,
     "input": [
      "clinical = {}\n",
      "for cancer in cancers:\n",
      "    data_path = firehose_path + 'analyses__' + date_ + '/' + cancer + '/' + date + '/'\n",
      "    clinical_obj = data_path + data_type + '_' + report_ext + '/ClinicalObject.p'\n",
      "    if os.path.isfile(clinical_obj):\n",
      "        clinical[cancer] = clinical_obj"
     ],
     "language": "python",
     "metadata": {},
     "outputs": [],
     "prompt_number": 27
    },
    {
     "cell_type": "code",
     "collapsed": false,
     "input": [
      "cancer = pickle.load(open(clinical['OV'], 'rb'))"
     ],
     "language": "python",
     "metadata": {},
     "outputs": [],
     "prompt_number": 28
    },
    {
     "cell_type": "code",
     "collapsed": false,
     "input": [
      "from Processing.Clinical import *"
     ],
     "language": "python",
     "metadata": {},
     "outputs": [],
     "prompt_number": 29
    },
    {
     "cell_type": "code",
     "collapsed": false,
     "input": [
      "def get_cox_ph(clinical, hit_vec, covariates=[], time_var='days',\n",
      "               event_var='censored', return_val='p'):\n",
      "    '''\n",
      "    Fit a cox proportial hazzards model to the data.\n",
      "    Returns a p-value on the hit_vec coefficient. \n",
      "    ---------------------------------------------------\n",
      "    clinical: DataFrame of clinical variables\n",
      "    hit_vec: vector of labels to test against\n",
      "    covariates: names of covariates in the cox model,\n",
      "                (must be columns in clinical DataFrame)\n",
      "    '''\n",
      "    if not all([cov in clinical for cov in covariates]):\n",
      "        missing = [cov for cov in covariates if cov not in clinical]\n",
      "        covariates = [cov for cov in covariates if cov in clinical]\n",
      "        print ', '.join(missing) + ' not in clinical data... running anyway.'\n",
      "    hit_vec.name = 'pathway'\n",
      "    factors = ['pathway'] + covariates\n",
      "    df = clinical.join(hit_vec)\n",
      "    df = df[factors + [time_var, event_var]]\n",
      "    #df = df.ix[patients]\n",
      "    df[factors] = (df[factors] - df[factors].mean())\n",
      "    df = com.convert_to_r_dataframe(df) #@UndefinedVariable\n",
      "    fmla = 'Surv(' + time_var + ', ' + event_var + ') ~ '+ '+'.join(factors)\n",
      "    interactions = '+'.join(['pathway*' + c for c in covariates])\n",
      "    fmla = 'Surv(' + time_var + ', ' + event_var + ') ~ ' + interactions\n",
      "    fmla = robjects.Formula(fmla)\n",
      "    try:\n",
      "        s = survival.coxph(fmla, df)\n",
      "        results = com.convert_robj(dict(base.summary(s).iteritems())['coefficients'])\n",
      "    except robjects.rinterface.RRuntimeError:\n",
      "        return 1.23\n",
      "    if return_val == 'p':\n",
      "        return results.ix['pathway','Pr(>|z|)']\n",
      "    else:\n",
      "        print dict(base.summary(s).iteritems())['logtest']\n",
      "        return results"
     ],
     "language": "python",
     "metadata": {},
     "outputs": [],
     "prompt_number": 30
    },
    {
     "cell_type": "code",
     "collapsed": false,
     "input": [
      "clinical = cancer.clinical\n",
      "covariates = ['age','rate']\n",
      "time_var = 'event_free_survival'\n",
      "event_var = 'event'\n"
     ],
     "language": "python",
     "metadata": {},
     "outputs": [],
     "prompt_number": 31
    },
    {
     "cell_type": "code",
     "collapsed": false,
     "input": [
      "pandas.set_printoptions(notebook_repr_html=False)"
     ],
     "language": "python",
     "metadata": {},
     "outputs": [],
     "prompt_number": 32
    },
    {
     "cell_type": "code",
     "collapsed": false,
     "input": [
      "hit_vec = cancer.meta_matrix.ix['REACTOME_P53_INDEPENDENT_DNA_DAMAGE_RESPONSE'].clip_upper(1.)\n",
      "get_cox_ph(clinical, hit_vec, ['age','rate'], time_var, event_var, return_val='all')"
     ],
     "language": "python",
     "metadata": {},
     "outputs": [
      {
       "output_type": "stream",
       "stream": "stdout",
       "text": [
        "        test           df       pvalue \n",
        "17.927955086  5.000000000  0.003038065 \n",
        "\n"
       ]
      },
      {
       "output_type": "pyout",
       "prompt_number": 33,
       "text": [
        "                  coef  exp(coef)  se(coef)         z  Pr(>|z|)\n",
        "pathway       2.550486  12.813333  0.592176  4.306975  0.000017\n",
        "age          -0.003603   0.996404  0.008077 -0.446021  0.655582\n",
        "rate         -0.467815   0.626369  0.154484 -3.028242  0.002460\n",
        "pathway:age  -0.070264   0.932148  0.036190 -1.941530  0.052194\n",
        "pathway:rate -1.153001   0.315688  0.570644 -2.020526  0.043329"
       ]
      }
     ],
     "prompt_number": 33
    },
    {
     "cell_type": "code",
     "collapsed": false,
     "input": [
      "hit_vec = cancer.meta_matrix.ix[['REACTOME_P53_INDEPENDENT_DNA_DAMAGE_RESPONSE',\n",
      "                            'ST_ERK1_ERK2_MAPK_PATHWAY']].sum().clip_upper(1)"
     ],
     "language": "python",
     "metadata": {},
     "outputs": [],
     "prompt_number": 34
    },
    {
     "cell_type": "code",
     "collapsed": false,
     "input": [
      "clinical['p53'] = cancer.hit_matrix.ix['TP53'].clip_upper(1)"
     ],
     "language": "python",
     "metadata": {},
     "outputs": [],
     "prompt_number": 35
    },
    {
     "cell_type": "code",
     "collapsed": false,
     "input": [
      "from pandas import Panel"
     ],
     "language": "python",
     "metadata": {},
     "outputs": [],
     "prompt_number": 36
    },
    {
     "cell_type": "code",
     "collapsed": false,
     "input": [
      "vals = Panel(dict((p, get_cox_ph(clinical, cancer.meta_matrix.ix[p].clip_upper(1), \n",
      "                                 ['age','rate'], time_var, event_var, return_val='all')) \n",
      "              for p in cancer.meta_matrix.index))"
     ],
     "language": "python",
     "metadata": {},
     "outputs": [
      {
       "output_type": "stream",
       "stream": "stdout",
       "text": [
        "    test       df   pvalue \n",
        "9.020986 5.000000 0.108230 \n",
        "\n",
        "     test        df    pvalue \n",
        "8.7240349 5.0000000 0.1205908 \n",
        "\n",
        "     test        df    pvalue \n",
        "6.9444640 5.0000000 0.2248035 \n"
       ]
      },
      {
       "output_type": "stream",
       "stream": "stdout",
       "text": [
        "\n",
        "      test         df     pvalue \n",
        "9.25060309 5.00000000 0.09947635 \n",
        "\n",
        "      test         df     pvalue \n",
        "9.68212180 5.00000000 0.08475982 \n"
       ]
      },
      {
       "output_type": "stream",
       "stream": "stdout",
       "text": [
        "\n",
        "     test        df    pvalue \n",
        "7.2684555 5.0000000 0.2014282 \n",
        "\n",
        "      test         df     pvalue \n",
        "9.78411396 5.00000000 0.08158855 \n"
       ]
      },
      {
       "output_type": "stream",
       "stream": "stdout",
       "text": [
        "\n",
        "    test       df   pvalue \n",
        "7.610058 5.000000 0.179076 \n",
        "\n",
        "     test        df    pvalue \n",
        "6.7499760 5.0000000 0.2399088 \n"
       ]
      },
      {
       "output_type": "stream",
       "stream": "stdout",
       "text": [
        "\n",
        "      test         df     pvalue \n",
        "9.81626559 5.00000000 0.08061185 \n",
        "\n",
        "       test          df      pvalue \n",
        "11.20561219  5.00000000  0.04745231 \n"
       ]
      },
      {
       "output_type": "stream",
       "stream": "stdout",
       "text": [
        "\n",
        "    test       df   pvalue \n",
        "7.021368 5.000000 0.219056 \n",
        "\n",
        "     test        df    pvalue \n",
        "6.2831766 5.0000000 0.2796315 \n"
       ]
      },
      {
       "output_type": "stream",
       "stream": "stdout",
       "text": [
        "\n",
        "      test         df     pvalue \n",
        "9.53137987 5.00000000 0.08965592 \n",
        "\n",
        "       test          df      pvalue \n",
        "11.82413447  5.00000000  0.03727865 \n"
       ]
      },
      {
       "output_type": "stream",
       "stream": "stdout",
       "text": [
        "\n",
        "       test          df      pvalue \n",
        "14.27094026  5.00000000  0.01397695 \n",
        "\n",
        "       test          df      pvalue \n",
        "13.16460750  5.00000000  0.02188409 \n"
       ]
      },
      {
       "output_type": "stream",
       "stream": "stdout",
       "text": [
        "\n",
        "       test          df      pvalue \n",
        "11.79536327  5.00000000  0.03770195 \n",
        "\n",
        "     test        df    pvalue \n",
        "7.1572444 5.0000000 0.2092061 \n"
       ]
      },
      {
       "output_type": "stream",
       "stream": "stdout",
       "text": [
        "\n",
        "       test          df      pvalue \n",
        "10.03171540  5.00000000  0.07434158 \n",
        "\n",
        "      test         df     pvalue \n",
        "9.83750576 5.00000000 0.07997257 \n"
       ]
      },
      {
       "output_type": "stream",
       "stream": "stdout",
       "text": [
        "\n",
        "     test        df    pvalue \n",
        "9.0642977 5.0000000 0.1065269 \n",
        "\n",
        "     test        df    pvalue \n",
        "7.4092004 5.0000000 0.1919424 \n"
       ]
      },
      {
       "output_type": "stream",
       "stream": "stdout",
       "text": [
        "\n",
        "     test        df    pvalue \n",
        "6.7189676 5.0000000 0.2423939 \n",
        "\n",
        "     test        df    pvalue \n",
        "7.9348939 5.0000000 0.1598604 \n"
       ]
      },
      {
       "output_type": "stream",
       "stream": "stdout",
       "text": [
        "\n",
        "       test          df      pvalue \n",
        "12.54520647  5.00000000  0.02803463 \n",
        "\n",
        "     test        df    pvalue \n",
        "7.7252747 5.0000000 0.1720404 \n"
       ]
      },
      {
       "output_type": "stream",
       "stream": "stdout",
       "text": [
        "\n",
        "     test        df    pvalue \n",
        "6.5629585 5.0000000 0.2552242 \n",
        "\n",
        "     test        df    pvalue \n",
        "8.6932089 5.0000000 0.1219447 \n"
       ]
      },
      {
       "output_type": "stream",
       "stream": "stdout",
       "text": [
        "\n",
        "    test       df   pvalue \n",
        "9.612612 5.000000 0.086986 \n",
        "\n",
        "     test        df    pvalue \n",
        "6.2751576 5.0000000 0.2803581 \n"
       ]
      },
      {
       "output_type": "stream",
       "stream": "stdout",
       "text": [
        "\n",
        "     test        df    pvalue \n",
        "6.9053091 5.0000000 0.2277784 \n",
        "\n",
        "       test          df      pvalue \n",
        "12.17393796  5.00000000  0.03248061 \n"
       ]
      },
      {
       "output_type": "stream",
       "stream": "stdout",
       "text": [
        "\n",
        "    test       df   pvalue \n",
        "8.144741 5.000000 0.148437 \n",
        "\n",
        "       test          df      pvalue \n",
        "11.79477785  5.00000000  0.03771061 \n"
       ]
      },
      {
       "output_type": "stream",
       "stream": "stdout",
       "text": [
        "\n",
        "      test         df     pvalue \n",
        "13.1242634  5.0000000  0.0222417 \n",
        "\n",
        "     test        df    pvalue \n",
        "8.7153745 5.0000000 0.1209698 \n"
       ]
      },
      {
       "output_type": "stream",
       "stream": "stdout",
       "text": [
        "\n",
        "       test          df      pvalue \n",
        "10.30131853  5.00000000  0.06713407 \n",
        "\n",
        "     test        df    pvalue \n",
        "7.4649773 5.0000000 0.1882914 \n"
       ]
      },
      {
       "output_type": "stream",
       "stream": "stdout",
       "text": [
        "\n",
        "     test        df    pvalue \n",
        "7.0289146 5.0000000 0.2184988 \n",
        "\n",
        "     test        df    pvalue \n",
        "7.3605896 5.0000000 0.1951741 \n"
       ]
      },
      {
       "output_type": "stream",
       "stream": "stdout",
       "text": [
        "\n",
        "     test        df    pvalue \n",
        "8.3176112 5.0000000 0.1395784 \n",
        "\n",
        "      test         df     pvalue \n",
        "9.85616500 5.00000000 0.07941485 \n"
       ]
      },
      {
       "output_type": "stream",
       "stream": "stdout",
       "text": [
        "\n",
        "     test        df    pvalue \n",
        "8.2420107 5.0000000 0.1433927 \n",
        "\n",
        "     test        df    pvalue \n",
        "8.6669162 5.0000000 0.1231103 \n"
       ]
      },
      {
       "output_type": "stream",
       "stream": "stdout",
       "text": [
        "\n",
        "     test        df    pvalue \n",
        "9.4070106 5.0000000 0.0938903 \n",
        "\n",
        "    test       df   pvalue \n",
        "9.562933 5.000000 0.088610 \n"
       ]
      },
      {
       "output_type": "stream",
       "stream": "stdout",
       "text": [
        "\n",
        "     test        df    pvalue \n",
        "9.2326995 5.0000000 0.1001348 \n",
        "\n",
        "     test        df    pvalue \n",
        "7.7997971 5.0000000 0.1676198 \n"
       ]
      },
      {
       "output_type": "stream",
       "stream": "stdout",
       "text": [
        "\n",
        "       test          df      pvalue \n",
        "10.94273075  5.00000000  0.05252736 \n",
        "\n",
        "      test         df     pvalue \n",
        "9.59549082 5.00000000 0.08754255 \n"
       ]
      },
      {
       "output_type": "stream",
       "stream": "stdout",
       "text": [
        "\n",
        "       test          df      pvalue \n",
        "18.35594439  5.00000000  0.00253185 \n",
        "\n",
        "       test          df      pvalue \n",
        "11.20370336  5.00000000  0.04748743 \n"
       ]
      },
      {
       "output_type": "stream",
       "stream": "stdout",
       "text": [
        "\n",
        "     test        df    pvalue \n",
        "8.1192744 5.0000000 0.1497835 \n",
        "\n",
        "     test        df    pvalue \n",
        "6.7242392 5.0000000 0.2419699 \n"
       ]
      },
      {
       "output_type": "stream",
       "stream": "stdout",
       "text": [
        "\n",
        "       test          df      pvalue \n",
        "14.54079127  5.00000000  0.01251569 \n"
       ]
      },
      {
       "output_type": "stream",
       "stream": "stdout",
       "text": [
        "\n",
        "     test        df    pvalue \n",
        "8.5188236 5.0000000 0.1298656 \n",
        "\n",
        "     test        df    pvalue \n",
        "9.0177759 5.0000000 0.1083572 \n"
       ]
      },
      {
       "output_type": "stream",
       "stream": "stdout",
       "text": [
        "\n",
        "     test        df    pvalue \n",
        "6.9101005 5.0000000 0.2274126 \n",
        "\n",
        "    test       df   pvalue \n",
        "8.785124 5.000000 0.117948 \n"
       ]
      },
      {
       "output_type": "stream",
       "stream": "stdout",
       "text": [
        "\n",
        "       test          df      pvalue \n",
        "11.91167718  5.00000000  0.03601826 \n",
        "\n",
        "     test        df    pvalue \n",
        "8.9116841 5.0000000 0.1126391 \n"
       ]
      },
      {
       "output_type": "stream",
       "stream": "stdout",
       "text": [
        "\n",
        "       test          df      pvalue \n",
        "10.20067055  5.00000000  0.06974495 \n",
        "\n",
        "       test          df      pvalue \n",
        "10.75361950  5.00000000  0.05648984 \n"
       ]
      },
      {
       "output_type": "stream",
       "stream": "stdout",
       "text": [
        "\n",
        "     test        df    pvalue \n",
        "7.1919391 5.0000000 0.2067524 \n",
        "\n",
        "    test       df   pvalue \n",
        "7.983902 5.000000 0.157125 \n"
       ]
      },
      {
       "output_type": "stream",
       "stream": "stdout",
       "text": [
        "\n",
        "        test           df       pvalue \n",
        "15.550595271  5.000000000  0.008251441 \n",
        "\n",
        "       test          df      pvalue \n",
        "10.42069017  5.00000000  0.06415584 \n"
       ]
      },
      {
       "output_type": "stream",
       "stream": "stdout",
       "text": [
        "\n",
        "     test        df    pvalue \n",
        "8.1622621 5.0000000 0.1475169 \n",
        "\n",
        "       test          df      pvalue \n",
        "10.28085953  5.00000000  0.06765729 \n"
       ]
      },
      {
       "output_type": "stream",
       "stream": "stdout",
       "text": [
        "\n",
        "       test          df      pvalue \n",
        "12.14891349  5.00000000  0.03280332 \n",
        "\n",
        "    test       df   pvalue \n",
        "6.640654 5.000000 0.248766 \n"
       ]
      },
      {
       "output_type": "stream",
       "stream": "stdout",
       "text": [
        "\n",
        "     test        df    pvalue \n",
        "8.0783496 5.0000000 0.1519702 \n",
        "\n",
        "     test        df    pvalue \n",
        "7.9204721 5.0000000 0.1606734 \n"
       ]
      },
      {
       "output_type": "stream",
       "stream": "stdout",
       "text": [
        "\n",
        "     test        df    pvalue \n",
        "8.4542038 5.0000000 0.1329166 \n",
        "\n",
        "     test        df    pvalue \n",
        "8.2647774 5.0000000 0.1422343 \n"
       ]
      },
      {
       "output_type": "stream",
       "stream": "stdout",
       "text": [
        "\n",
        "     test        df    pvalue \n",
        "8.6195650 5.0000000 0.1252349 \n",
        "\n",
        "     test        df    pvalue \n",
        "6.4618213 5.0000000 0.2638375 \n"
       ]
      },
      {
       "output_type": "stream",
       "stream": "stdout",
       "text": [
        "\n",
        "     test        df    pvalue \n",
        "8.4209240 5.0000000 0.1345128 \n",
        "\n",
        "       test          df      pvalue \n",
        "10.74161063  5.00000000  0.05675072 \n"
       ]
      },
      {
       "output_type": "stream",
       "stream": "stdout",
       "text": [
        "\n",
        "       test          df      pvalue \n",
        "13.35274523  5.00000000  0.02028814 \n",
        "\n",
        "     test        df    pvalue \n",
        "7.6842074 5.0000000 0.1745198 \n"
       ]
      },
      {
       "output_type": "stream",
       "stream": "stdout",
       "text": [
        "\n",
        "     test        df    pvalue \n",
        "10.833451  5.000000  0.054784 \n",
        "\n",
        "       test          df      pvalue \n",
        "10.05290345  5.00000000  0.07375005 \n"
       ]
      },
      {
       "output_type": "stream",
       "stream": "stdout",
       "text": [
        "\n",
        "      test         df     pvalue \n",
        "12.0329255  5.0000000  0.0343394 \n",
        "\n",
        "     test        df    pvalue \n",
        "8.1712874 5.0000000 0.1470449 \n"
       ]
      },
      {
       "output_type": "stream",
       "stream": "stdout",
       "text": [
        "\n",
        "     test        df    pvalue \n",
        "6.9429975 5.0000000 0.2249143 \n",
        "\n",
        "     test        df    pvalue \n",
        "7.8300708 5.0000000 0.1658528 \n"
       ]
      },
      {
       "output_type": "stream",
       "stream": "stdout",
       "text": [
        "\n",
        "       test          df      pvalue \n",
        "10.11164062  5.00000000  0.07213306 \n",
        "\n",
        "     test        df    pvalue \n",
        "7.0492582 5.0000000 0.2170026 \n"
       ]
      },
      {
       "output_type": "stream",
       "stream": "stdout",
       "text": [
        "\n",
        "   test      df  pvalue \n",
        "6.86805 5.00000 0.23064 \n",
        "\n",
        "     test        df    pvalue \n",
        "6.8559595 5.0000000 0.2315751 \n"
       ]
      },
      {
       "output_type": "stream",
       "stream": "stdout",
       "text": [
        "\n",
        "       test          df      pvalue \n",
        "10.89524833  5.00000000  0.05349692 \n",
        "\n",
        "      test         df     pvalue \n",
        "9.71646095 5.00000000 0.08367959 \n"
       ]
      },
      {
       "output_type": "stream",
       "stream": "stdout",
       "text": [
        "\n",
        "     test        df    pvalue \n",
        "7.5727461 5.0000000 0.1814077 \n",
        "\n",
        "     test        df    pvalue \n",
        "9.1830262 5.0000000 0.1019828 \n"
       ]
      },
      {
       "output_type": "stream",
       "stream": "stdout",
       "text": [
        "\n",
        "     test        df    pvalue \n",
        "7.1385131 5.0000000 0.2105411 \n",
        "\n",
        "     test        df    pvalue \n",
        "7.9090488 5.0000000 0.1613199 \n"
       ]
      },
      {
       "output_type": "stream",
       "stream": "stdout",
       "text": [
        "\n",
        "     test        df    pvalue \n",
        "8.7137540 5.0000000 0.1210408 \n",
        "\n",
        "     test        df    pvalue \n",
        "6.8406643 5.0000000 0.2327626 \n"
       ]
      },
      {
       "output_type": "stream",
       "stream": "stdout",
       "text": [
        "\n",
        "       test          df      pvalue \n",
        "13.85028535  5.00000000  0.01658892 \n",
        "\n",
        "        test           df       pvalue \n",
        "15.206820255  5.000000000  0.009514233 \n"
       ]
      },
      {
       "output_type": "stream",
       "stream": "stdout",
       "text": [
        "\n",
        "      test         df     pvalue \n",
        "9.91684721 5.00000000 0.07762592 \n",
        "\n",
        "     test        df    pvalue \n",
        "8.3572415 5.0000000 0.1376154 \n"
       ]
      },
      {
       "output_type": "stream",
       "stream": "stdout",
       "text": [
        "\n",
        "     test        df    pvalue \n",
        "9.1207913 5.0000000 0.1043421 \n",
        "\n",
        "     test        df    pvalue \n",
        "8.2534571 5.0000000 0.1428092 \n"
       ]
      },
      {
       "output_type": "stream",
       "stream": "stdout",
       "text": [
        "\n",
        "    test       df   pvalue \n",
        "7.477285 5.000000 0.187494 \n",
        "\n",
        "       test          df      pvalue \n",
        "11.35286758  5.00000000  0.04481554 \n"
       ]
      },
      {
       "output_type": "stream",
       "stream": "stdout",
       "text": [
        "\n",
        "     test        df    pvalue \n",
        "6.7182497 5.0000000 0.2424517 \n",
        "\n",
        "      test         df     pvalue \n",
        "9.53932246 5.00000000 0.08939157 \n"
       ]
      },
      {
       "output_type": "stream",
       "stream": "stdout",
       "text": [
        "\n",
        "     test        df    pvalue \n",
        "6.9033272 5.0000000 0.2279298 \n",
        "\n",
        "    test       df   pvalue \n",
        "7.703072 5.000000 0.173377 \n"
       ]
      },
      {
       "output_type": "stream",
       "stream": "stdout",
       "text": [
        "\n",
        "      test         df     pvalue \n",
        "9.61025431 5.00000000 0.08706244 \n",
        "\n",
        "      test         df     pvalue \n",
        "13.6770570  5.0000000  0.0177963 \n"
       ]
      },
      {
       "output_type": "stream",
       "stream": "stdout",
       "text": [
        "\n",
        "      test         df     pvalue \n",
        "9.48007709 5.00000000 0.09138085 \n",
        "\n",
        "     test        df    pvalue \n",
        "6.8567633 5.0000000 0.2315128 \n"
       ]
      },
      {
       "output_type": "stream",
       "stream": "stdout",
       "text": [
        "\n",
        "     test        df    pvalue \n",
        "6.6623105 5.0000000 0.2469901 \n",
        "\n",
        "     test        df    pvalue \n",
        "8.2253210 5.0000000 0.1442472 \n"
       ]
      },
      {
       "output_type": "stream",
       "stream": "stdout",
       "text": [
        "\n",
        "    test       df   pvalue \n",
        "9.562933 5.000000 0.088610 \n",
        "\n",
        "      test         df     pvalue \n",
        "9.43174930 5.00000000 0.09303364 \n"
       ]
      },
      {
       "output_type": "stream",
       "stream": "stdout",
       "text": [
        "\n",
        "     test        df    pvalue \n",
        "6.9699768 5.0000000 0.2228828 \n",
        "\n",
        "       test          df      pvalue \n",
        "13.10822598  5.00000000  0.02238541 \n"
       ]
      },
      {
       "output_type": "stream",
       "stream": "stdout",
       "text": [
        "\n",
        "       test          df      pvalue \n",
        "11.83729401  5.00000000  0.03708654 \n",
        "\n",
        "      test         df     pvalue \n",
        "11.0934870  5.0000000  0.0495576 \n"
       ]
      },
      {
       "output_type": "stream",
       "stream": "stdout",
       "text": [
        "\n",
        "      test         df     pvalue \n",
        "9.52776746 5.00000000 0.08977639 \n",
        "\n",
        "    test       df   pvalue \n",
        "8.348079 5.000000 0.138067 \n"
       ]
      },
      {
       "output_type": "stream",
       "stream": "stdout",
       "text": [
        "\n",
        "     test        df    pvalue \n",
        "6.4377806 5.0000000 0.2659196 \n",
        "\n",
        "       test          df      pvalue \n",
        "11.80044320  5.00000000  0.03762688 \n"
       ]
      },
      {
       "output_type": "stream",
       "stream": "stdout",
       "text": [
        "\n",
        "     test        df    pvalue \n",
        "6.7258523 5.0000000 0.2418403 \n",
        "\n",
        "      test         df     pvalue \n",
        "9.68219233 5.00000000 0.08475759 \n"
       ]
      },
      {
       "output_type": "stream",
       "stream": "stdout",
       "text": [
        "\n",
        "     test        df    pvalue \n",
        "7.3062087 5.0000000 0.1988449 \n",
        "\n",
        "       test          df      pvalue \n",
        "10.23888590  5.00000000  0.06874266 \n"
       ]
      },
      {
       "output_type": "stream",
       "stream": "stdout",
       "text": [
        "\n",
        "    test       df   pvalue \n",
        "6.551718 5.000000 0.256170 \n",
        "\n",
        "     test        df    pvalue \n",
        "7.9632857 5.0000000 0.1582707 \n"
       ]
      },
      {
       "output_type": "stream",
       "stream": "stdout",
       "text": [
        "\n",
        "       test          df      pvalue \n",
        "10.68648549  5.00000000  0.05796285 \n",
        "\n",
        "     test        df    pvalue \n",
        "7.1918023 5.0000000 0.2067621 \n"
       ]
      },
      {
       "output_type": "stream",
       "stream": "stdout",
       "text": [
        "\n",
        "     test        df    pvalue \n",
        "8.7720564 5.0000000 0.1185088 \n",
        "\n",
        "      test         df     pvalue \n",
        "9.96187845 5.00000000 0.07632264 \n"
       ]
      },
      {
       "output_type": "stream",
       "stream": "stdout",
       "text": [
        "\n",
        "      test         df     pvalue \n",
        "10.7980447  5.0000000  0.0555345 \n",
        "\n",
        "     test        df    pvalue \n",
        "9.1696108 5.0000000 0.1024872 \n"
       ]
      },
      {
       "output_type": "stream",
       "stream": "stdout",
       "text": [
        "\n",
        "     test        df    pvalue \n",
        "6.6396361 5.0000000 0.2488497 \n",
        "\n",
        "      test         df     pvalue \n",
        "9.93257767 5.00000000 0.07716832 \n"
       ]
      },
      {
       "output_type": "stream",
       "stream": "stdout",
       "text": [
        "\n",
        "     test        df    pvalue \n",
        "6.7271022 5.0000000 0.2417399 \n",
        "\n",
        "       test          df      pvalue \n",
        "11.87418032  5.00000000  0.03655307 \n"
       ]
      },
      {
       "output_type": "stream",
       "stream": "stdout",
       "text": [
        "\n",
        "      test         df     pvalue \n",
        "9.97418157 5.00000000 0.07597011 \n",
        "\n",
        "     test        df    pvalue \n",
        "8.1090468 5.0000000 0.1503274 \n"
       ]
      },
      {
       "output_type": "stream",
       "stream": "stdout",
       "text": [
        "\n",
        "     test        df    pvalue \n",
        "8.7647009 5.0000000 0.1188256 \n",
        "\n",
        "       test          df      pvalue \n",
        "12.30914156  5.00000000  0.03078878 \n"
       ]
      },
      {
       "output_type": "stream",
       "stream": "stdout",
       "text": [
        "\n",
        "       test          df      pvalue \n",
        "12.91248264  5.00000000  0.02421285 \n",
        "\n",
        "      test         df     pvalue \n",
        "9.70578916 5.00000000 0.08401393 \n"
       ]
      },
      {
       "output_type": "stream",
       "stream": "stdout",
       "text": [
        "\n",
        "     test        df    pvalue \n",
        "8.9918864 5.0000000 0.1093882 \n"
       ]
      },
      {
       "output_type": "stream",
       "stream": "stdout",
       "text": [
        "\n",
        "     test        df    pvalue \n",
        "7.7297881 5.0000000 0.1717698 \n",
        "\n",
        "       test          df      pvalue \n",
        "10.92284109  5.00000000  0.05293146 \n"
       ]
      },
      {
       "output_type": "stream",
       "stream": "stdout",
       "text": [
        "\n",
        "     test        df    pvalue \n",
        "8.0335319 5.0000000 0.1543973 \n",
        "\n",
        "    test       df   pvalue \n",
        "8.098799 5.000000 0.150874 \n"
       ]
      },
      {
       "output_type": "stream",
       "stream": "stdout",
       "text": [
        "\n",
        "       test          df      pvalue \n",
        "12.66766496  5.00000000  0.02670034 \n",
        "\n",
        "     test        df    pvalue \n",
        "7.3750637 5.0000000 0.1942069 \n"
       ]
      },
      {
       "output_type": "stream",
       "stream": "stdout",
       "text": [
        "\n",
        "       test          df      pvalue \n",
        "11.11546332  5.00000000  0.04913814 \n",
        "\n",
        "       test          df      pvalue \n",
        "11.02905247  5.00000000  0.05080699 \n"
       ]
      },
      {
       "output_type": "stream",
       "stream": "stdout",
       "text": [
        "\n",
        "     test        df    pvalue \n",
        "7.9903578 5.0000000 0.1567678 \n",
        "\n",
        "    test       df   pvalue \n",
        "7.104526 5.000000 0.212982 \n"
       ]
      },
      {
       "output_type": "stream",
       "stream": "stdout",
       "text": [
        "\n",
        "       test          df      pvalue \n",
        "11.31029000  5.00000000  0.04556334 \n",
        "\n",
        "      test         df     pvalue \n",
        "9.91890197 5.00000000 0.07756601 \n"
       ]
      },
      {
       "output_type": "stream",
       "stream": "stdout",
       "text": [
        "\n",
        "     test        df    pvalue \n",
        "7.9508201 5.0000000 0.1589669 \n",
        "\n",
        "     test        df    pvalue \n",
        "7.5514783 5.0000000 0.1827485 \n"
       ]
      },
      {
       "output_type": "stream",
       "stream": "stdout",
       "text": [
        "\n",
        "    test       df   pvalue \n",
        "8.715872 5.000000 0.120948 \n",
        "\n",
        "       test          df      pvalue \n",
        "13.60521069  5.00000000  0.01832153 \n"
       ]
      },
      {
       "output_type": "stream",
       "stream": "stdout",
       "text": [
        "\n",
        "        test           df       pvalue \n",
        "2.412900e+01 5.000000e+00 2.050632e-04 \n",
        "\n",
        "     test        df    pvalue \n",
        "7.9617895 5.0000000 0.1583541 \n"
       ]
      },
      {
       "output_type": "stream",
       "stream": "stdout",
       "text": [
        "\n",
        "       test          df      pvalue \n",
        "12.92071065  5.00000000  0.02413323 \n",
        "\n",
        "       test          df      pvalue \n",
        "11.71141448  5.00000000  0.03896334 \n"
       ]
      },
      {
       "output_type": "stream",
       "stream": "stdout",
       "text": [
        "\n",
        "     test        df    pvalue \n",
        "8.3801872 5.0000000 0.1364902 \n",
        "\n",
        "       test          df      pvalue \n",
        "11.51623679  5.00000000  0.04205263 \n"
       ]
      },
      {
       "output_type": "stream",
       "stream": "stdout",
       "text": [
        "\n",
        "        test           df       pvalue \n",
        "20.371070310  5.000000000  0.001064371 \n",
        "\n",
        "        test           df       pvalue \n",
        "17.373581528  5.000000000  0.003843169 \n"
       ]
      },
      {
       "output_type": "stream",
       "stream": "stdout",
       "text": [
        "\n",
        "     test        df    pvalue \n",
        "7.1361897 5.0000000 0.2107072 \n",
        "\n",
        "     test        df    pvalue \n",
        "8.0399083 5.0000000 0.1540499 \n"
       ]
      },
      {
       "output_type": "stream",
       "stream": "stdout",
       "text": [
        "\n",
        "      test         df     pvalue \n",
        "14.7264108  5.0000000  0.0115976 \n",
        "\n",
        "       test          df      pvalue \n",
        "10.84718445  5.00000000  0.05449548 \n"
       ]
      },
      {
       "output_type": "stream",
       "stream": "stdout",
       "text": [
        "\n",
        "     test        df    pvalue \n",
        "8.6654391 5.0000000 0.1231761 \n",
        "\n",
        "      test         df     pvalue \n",
        "9.26006501 5.00000000 0.09912994 \n"
       ]
      },
      {
       "output_type": "stream",
       "stream": "stdout",
       "text": [
        "\n",
        "       test          df      pvalue \n",
        "10.86023881  5.00000000  0.05422254 \n",
        "\n",
        "     test        df    pvalue \n",
        "6.4387616 5.0000000 0.2658344 \n"
       ]
      },
      {
       "output_type": "stream",
       "stream": "stdout",
       "text": [
        "\n",
        "       test          df      pvalue \n",
        "11.54216099  5.00000000  0.04162932 \n",
        "\n",
        "     test        df    pvalue \n",
        "8.2836744 5.0000000 0.1412792 \n"
       ]
      },
      {
       "output_type": "stream",
       "stream": "stdout",
       "text": [
        "\n",
        "     test        df    pvalue \n",
        "6.7552065 5.0000000 0.2394917 \n",
        "\n",
        "     test        df    pvalue \n",
        "8.5061588 5.0000000 0.1304586 \n"
       ]
      },
      {
       "output_type": "stream",
       "stream": "stdout",
       "text": [
        "\n",
        "       test          df      pvalue \n",
        "12.02593242  5.00000000  0.03443417 \n",
        "\n",
        "       test          df      pvalue \n",
        "10.97575427  5.00000000  0.05186283 \n"
       ]
      },
      {
       "output_type": "stream",
       "stream": "stdout",
       "text": [
        "\n",
        "       test          df      pvalue \n",
        "14.12208258  5.00000000  0.01485225 \n",
        "\n",
        "       test          df      pvalue \n",
        "13.54466507  5.00000000  0.01877571 \n"
       ]
      },
      {
       "output_type": "stream",
       "stream": "stdout",
       "text": [
        "\n",
        "     test        df    pvalue \n",
        "7.7538613 5.0000000 0.1703327 \n",
        "\n",
        "       test          df      pvalue \n",
        "12.77649873  5.00000000  0.02556571 \n"
       ]
      },
      {
       "output_type": "stream",
       "stream": "stdout",
       "text": [
        "\n",
        "       test          df      pvalue \n",
        "13.78146005  5.00000000  0.01705885 \n",
        "\n",
        "     test        df    pvalue \n",
        "7.4920191 5.0000000 0.1865431 \n"
       ]
      },
      {
       "output_type": "stream",
       "stream": "stdout",
       "text": [
        "\n",
        "     test        df    pvalue \n",
        "6.9174915 5.0000000 0.2268493 \n",
        "\n",
        "     test        df    pvalue \n",
        "7.1228784 5.0000000 0.2116609 \n"
       ]
      },
      {
       "output_type": "stream",
       "stream": "stdout",
       "text": [
        "\n",
        "    test       df   pvalue \n",
        "8.919095 5.000000 0.112335 \n",
        "\n",
        "       test          df      pvalue \n",
        "10.52348014  5.00000000  0.06169078 \n"
       ]
      },
      {
       "output_type": "stream",
       "stream": "stdout",
       "text": [
        "\n",
        "       test          df      pvalue \n",
        "11.85567552  5.00000000  0.03681978 \n",
        "\n",
        "     test        df    pvalue \n",
        "7.1545273 5.0000000 0.2093993 \n"
       ]
      },
      {
       "output_type": "stream",
       "stream": "stdout",
       "text": [
        "\n",
        "     test        df    pvalue \n",
        "7.4467038 5.0000000 0.1894808 \n",
        "\n",
        "       test          df      pvalue \n",
        "12.10843820  5.00000000  0.03333176 \n"
       ]
      },
      {
       "output_type": "stream",
       "stream": "stdout",
       "text": [
        "\n",
        "      test         df     pvalue \n",
        "9.31450052 5.00000000 0.09715842 \n",
        "\n",
        "     test        df    pvalue \n",
        "6.6189987 5.0000000 0.2505522 \n"
       ]
      },
      {
       "output_type": "stream",
       "stream": "stdout",
       "text": [
        "\n",
        "       test          df      pvalue \n",
        "10.63403318  5.00000000  0.05913873 \n",
        "\n",
        "     test        df    pvalue \n",
        "8.4163786 5.0000000 0.1347322 \n"
       ]
      },
      {
       "output_type": "stream",
       "stream": "stdout",
       "text": [
        "\n",
        "      test         df     pvalue \n",
        "9.45807924 5.00000000 0.09212979 \n",
        "\n",
        "     test        df    pvalue \n",
        "7.9506182 5.0000000 0.1589782 \n"
       ]
      },
      {
       "output_type": "stream",
       "stream": "stdout",
       "text": [
        "\n",
        "     test        df    pvalue \n",
        "8.6252692 5.0000000 0.1249773 \n",
        "\n",
        "     test        df    pvalue \n",
        "7.8854153 5.0000000 0.1626647 \n"
       ]
      },
      {
       "output_type": "stream",
       "stream": "stdout",
       "text": [
        "\n",
        "     test        df    pvalue \n",
        "8.6788038 5.0000000 0.1225821 \n",
        "\n",
        "     test        df    pvalue \n",
        "7.8342143 5.0000000 0.1656122 \n"
       ]
      },
      {
       "output_type": "stream",
       "stream": "stdout",
       "text": [
        "\n",
        "     test        df    pvalue \n",
        "6.8646956 5.0000000 0.2308991 \n",
        "\n",
        "       test          df      pvalue \n",
        "13.19429955  5.00000000  0.02162444 \n"
       ]
      },
      {
       "output_type": "stream",
       "stream": "stdout",
       "text": [
        "\n",
        "       test          df      pvalue \n",
        "11.18068946  5.00000000  0.04791283 \n",
        "\n",
        "     test        df    pvalue \n",
        "8.9904656 5.0000000 0.1094451 \n"
       ]
      },
      {
       "output_type": "stream",
       "stream": "stdout",
       "text": [
        "\n",
        "     test        df    pvalue \n",
        "8.9583548 5.0000000 0.1107368 \n",
        "\n",
        "     test        df    pvalue \n",
        "7.3499925 5.0000000 0.1958848 \n"
       ]
      },
      {
       "output_type": "stream",
       "stream": "stdout",
       "text": [
        "\n",
        "     test        df    pvalue \n",
        "7.5778133 5.0000000 0.1810895 \n",
        "\n",
        "     test        df    pvalue \n",
        "7.7350083 5.0000000 0.1714572 \n"
       ]
      },
      {
       "output_type": "stream",
       "stream": "stdout",
       "text": [
        "\n",
        "     test        df    pvalue \n",
        "6.6735611 5.0000000 0.2460717 \n",
        "\n",
        "       test          df      pvalue \n",
        "14.26721672  5.00000000  0.01399822 \n"
       ]
      },
      {
       "output_type": "stream",
       "stream": "stdout",
       "text": [
        "\n",
        "      test         df     pvalue \n",
        "9.37134307 5.00000000 0.09513818 \n",
        "\n",
        "      test         df     pvalue \n",
        "9.69074067 5.00000000 0.08448749 \n"
       ]
      },
      {
       "output_type": "stream",
       "stream": "stdout",
       "text": [
        "\n",
        "     test        df    pvalue \n",
        "6.6036528 5.0000000 0.2518245 \n",
        "\n",
        "     test        df    pvalue \n",
        "7.1437075 5.0000000 0.2101701 \n"
       ]
      },
      {
       "output_type": "stream",
       "stream": "stdout",
       "text": [
        "\n",
        "      test         df     pvalue \n",
        "9.55070851 5.00000000 0.08901387 \n",
        "\n",
        "     test        df    pvalue \n",
        "8.1758922 5.0000000 0.1468046 \n"
       ]
      },
      {
       "output_type": "stream",
       "stream": "stdout",
       "text": [
        "\n",
        "       test          df      pvalue \n",
        "11.48323146  5.00000000  0.04259747 \n",
        "\n",
        "      test         df     pvalue \n",
        "10.1778673  5.0000000  0.0703495 \n"
       ]
      },
      {
       "output_type": "stream",
       "stream": "stdout",
       "text": [
        "\n",
        "       test          df      pvalue \n",
        "10.93381874  5.00000000  0.05270807 \n",
        "\n",
        "     test        df    pvalue \n",
        "7.6944682 5.0000000 0.1738974 \n"
       ]
      },
      {
       "output_type": "stream",
       "stream": "stdout",
       "text": [
        "\n",
        "    test       df   pvalue \n",
        "7.839772 5.000000 0.165290 \n",
        "\n",
        "     test        df    pvalue \n",
        "6.8491460 5.0000000 0.2321034 \n"
       ]
      },
      {
       "output_type": "stream",
       "stream": "stdout",
       "text": [
        "\n",
        "     test        df    pvalue \n",
        "7.4197615 5.0000000 0.1912464 \n",
        "\n",
        "     test        df    pvalue \n",
        "7.4481607 5.0000000 0.1893858 \n"
       ]
      },
      {
       "output_type": "stream",
       "stream": "stdout",
       "text": [
        "\n",
        "     test        df    pvalue \n",
        "7.5725223 5.0000000 0.1814217 \n",
        "\n",
        "     test        df    pvalue \n",
        "7.3414368 5.0000000 0.1964602 \n"
       ]
      },
      {
       "output_type": "stream",
       "stream": "stdout",
       "text": [
        "\n",
        "     test        df    pvalue \n",
        "8.8768805 5.0000000 0.1140769 \n",
        "\n",
        "     test        df    pvalue \n",
        "8.7222167 5.0000000 0.1206703 \n"
       ]
      },
      {
       "output_type": "stream",
       "stream": "stdout",
       "text": [
        "\n",
        "     test        df    pvalue \n",
        "7.6854957 5.0000000 0.1744416 \n",
        "\n",
        "       test          df      pvalue \n",
        "16.28272877  5.00000000  0.00608156 \n"
       ]
      },
      {
       "output_type": "stream",
       "stream": "stdout",
       "text": [
        "\n",
        "     test        df    pvalue \n",
        "6.9284763 5.0000000 0.2260142 \n",
        "\n",
        "       test          df      pvalue \n",
        "10.36768934  5.00000000  0.06546259 \n"
       ]
      },
      {
       "output_type": "stream",
       "stream": "stdout",
       "text": [
        "\n",
        "     test        df    pvalue \n",
        "6.8383127 5.0000000 0.2329456 \n",
        "\n",
        "      test         df     pvalue \n",
        "9.28525647 5.00000000 0.09821305 \n"
       ]
      },
      {
       "output_type": "stream",
       "stream": "stdout",
       "text": [
        "\n",
        "     test        df    pvalue \n",
        "8.6523479 5.0000000 0.1237605 \n",
        "\n",
        "     test        df    pvalue \n",
        "7.4269433 5.0000000 0.1907744 \n"
       ]
      },
      {
       "output_type": "stream",
       "stream": "stdout",
       "text": [
        "\n",
        "     test        df    pvalue \n",
        "7.0018273 5.0000000 0.2205044 \n",
        "\n",
        "     test        df    pvalue \n",
        "7.9080400 5.0000000 0.1613771 \n"
       ]
      },
      {
       "output_type": "stream",
       "stream": "stdout",
       "text": [
        "\n",
        "       test          df      pvalue \n",
        "10.41667349  5.00000000  0.06425401 \n",
        "\n",
        "     test        df    pvalue \n",
        "7.0211078 5.0000000 0.2190752 \n"
       ]
      },
      {
       "output_type": "stream",
       "stream": "stdout",
       "text": [
        "\n",
        "       test          df      pvalue \n",
        "13.24022623  5.00000000  0.02122863 \n",
        "\n",
        "       test          df      pvalue \n",
        "10.04158922  5.00000000  0.07406537 \n"
       ]
      },
      {
       "output_type": "stream",
       "stream": "stdout",
       "text": [
        "\n",
        "     test        df    pvalue \n",
        "6.9935797 5.0000000 0.2211182 \n",
        "\n",
        "     test        df    pvalue \n",
        "7.1230822 5.0000000 0.2116463 \n"
       ]
      },
      {
       "output_type": "stream",
       "stream": "stdout",
       "text": [
        "\n",
        "     test        df    pvalue \n",
        "6.7692776 5.0000000 0.2383727 \n",
        "\n",
        "       test          df      pvalue \n",
        "10.78745367  5.00000000  0.05576086 \n"
       ]
      },
      {
       "output_type": "stream",
       "stream": "stdout",
       "text": [
        "\n",
        "       test          df      pvalue \n",
        "11.71097675  5.00000000  0.03897002 \n",
        "\n",
        "     test        df    pvalue \n",
        "9.1698799 5.0000000 0.1024771 \n"
       ]
      },
      {
       "output_type": "stream",
       "stream": "stdout",
       "text": [
        "\n",
        "      test         df     pvalue \n",
        "9.30880114 5.00000000 0.09736314 \n",
        "\n",
        "      test         df     pvalue \n",
        "9.48431800 5.00000000 0.09123711 \n"
       ]
      },
      {
       "output_type": "stream",
       "stream": "stdout",
       "text": [
        "\n",
        "      test         df     pvalue \n",
        "9.37395071 5.00000000 0.09504643 \n",
        "\n",
        "       test          df      pvalue \n",
        "12.82044068  5.00000000  0.02512081 \n"
       ]
      },
      {
       "output_type": "stream",
       "stream": "stdout",
       "text": [
        "\n",
        "     test        df    pvalue \n",
        "8.0257862 5.0000000 0.1548202 \n",
        "\n",
        "      test         df     pvalue \n",
        "11.7469949  5.0000000  0.0384239 \n"
       ]
      },
      {
       "output_type": "stream",
       "stream": "stdout",
       "text": [
        "\n",
        "     test        df    pvalue \n",
        "7.3662478 5.0000000 0.1947955 \n",
        "\n",
        "     test        df    pvalue \n",
        "8.4057328 5.0000000 0.1352472 \n"
       ]
      },
      {
       "output_type": "stream",
       "stream": "stdout",
       "text": [
        "\n",
        "      test         df     pvalue \n",
        "9.76865705 5.00000000 0.08206199 \n",
        "\n",
        "     test        df    pvalue \n",
        "6.4249122 5.0000000 0.2670396 \n"
       ]
      },
      {
       "output_type": "stream",
       "stream": "stdout",
       "text": [
        "\n",
        "       test          df      pvalue \n",
        "10.79185118  5.00000000  0.05566677 \n",
        "\n",
        "       test          df      pvalue \n",
        "10.73486364  5.00000000  0.05689779 \n"
       ]
      },
      {
       "output_type": "stream",
       "stream": "stdout",
       "text": [
        "\n",
        "     test        df    pvalue \n",
        "8.0641103 5.0000000 0.1527376 \n",
        "\n",
        "     test        df    pvalue \n",
        "8.2019308 5.0000000 0.1454524 \n"
       ]
      },
      {
       "output_type": "stream",
       "stream": "stdout",
       "text": [
        "\n",
        "       test          df      pvalue \n",
        "13.44179513  5.00000000  0.01957235 \n",
        "\n",
        "     test        df    pvalue \n",
        "8.5826607 5.0000000 0.1269137 \n"
       ]
      },
      {
       "output_type": "stream",
       "stream": "stdout",
       "text": [
        "\n",
        "     test        df    pvalue \n",
        "7.7489730 5.0000000 0.1706237 \n",
        "\n",
        "        test           df       pvalue \n",
        "16.246432440  5.000000000  0.006174609 \n"
       ]
      },
      {
       "output_type": "stream",
       "stream": "stdout",
       "text": [
        "\n",
        "     test        df    pvalue \n",
        "8.3086277 5.0000000 0.1400268 \n",
        "\n",
        "     test        df    pvalue \n",
        "7.4764808 5.0000000 0.1875459 \n"
       ]
      },
      {
       "output_type": "stream",
       "stream": "stdout",
       "text": [
        "\n",
        "     test        df    pvalue \n",
        "9.1034714 5.0000000 0.1050075 \n",
        "\n",
        "    test       df   pvalue \n",
        "8.976877 5.000000 0.109990 \n"
       ]
      },
      {
       "output_type": "stream",
       "stream": "stdout",
       "text": [
        "\n",
        "     test        df    pvalue \n",
        "7.3523668 5.0000000 0.1957253 \n",
        "\n",
        "     test        df    pvalue \n",
        "8.0485868 5.0000000 0.1535782 \n"
       ]
      },
      {
       "output_type": "stream",
       "stream": "stdout",
       "text": [
        "\n",
        "        test           df       pvalue \n",
        "16.266431742  5.000000000  0.006123169 \n",
        "\n",
        "       test          df      pvalue \n",
        "13.40207844  5.00000000  0.01988854 \n"
       ]
      },
      {
       "output_type": "stream",
       "stream": "stdout",
       "text": [
        "\n",
        "    test       df   pvalue \n",
        "7.392385 5.000000 0.193055 \n",
        "\n",
        "     test        df    pvalue \n",
        "6.4161990 5.0000000 0.2678002 \n"
       ]
      },
      {
       "output_type": "stream",
       "stream": "stdout",
       "text": [
        "\n",
        "       test          df      pvalue \n",
        "13.33512117  5.00000000  0.02043276 \n",
        "\n",
        "       test          df      pvalue \n",
        "11.27047158  5.00000000  0.04627335 \n"
       ]
      },
      {
       "output_type": "stream",
       "stream": "stdout",
       "text": [
        "\n",
        "       test          df      pvalue \n",
        "16.67849095  5.00000000  0.00515169 \n",
        "\n",
        "       test          df      pvalue \n",
        "12.74353565  5.00000000  0.02590439 \n"
       ]
      },
      {
       "output_type": "stream",
       "stream": "stdout",
       "text": [
        "\n",
        "     test        df    pvalue \n",
        "8.6699741 5.0000000 0.1229742 \n",
        "\n",
        "      test         df     pvalue \n",
        "15.0086600  5.0000000  0.0103254 \n"
       ]
      },
      {
       "output_type": "stream",
       "stream": "stdout",
       "text": [
        "\n",
        "       test          df      pvalue \n",
        "12.77996818  5.00000000  0.02553031 \n",
        "\n",
        "       test          df      pvalue \n",
        "10.94445453  5.00000000  0.05249248 \n"
       ]
      },
      {
       "output_type": "stream",
       "stream": "stdout",
       "text": [
        "\n",
        "     test        df    pvalue \n",
        "7.2113113 5.0000000 0.2053932 \n",
        "\n",
        "     test        df    pvalue \n",
        "6.7658558 5.0000000 0.2386444 \n"
       ]
      },
      {
       "output_type": "stream",
       "stream": "stdout",
       "text": [
        "\n",
        "     test        df    pvalue \n",
        "7.2838747 5.0000000 0.2003697 \n",
        "\n",
        "      test         df     pvalue \n",
        "9.40776216 5.00000000 0.09386417 \n"
       ]
      },
      {
       "output_type": "stream",
       "stream": "stdout",
       "text": [
        "\n",
        "     test        df    pvalue \n",
        "7.2605578 5.0000000 0.2019723 \n",
        "\n",
        "     test        df    pvalue \n",
        "6.7761618 5.0000000 0.2378268 \n"
       ]
      },
      {
       "output_type": "stream",
       "stream": "stdout",
       "text": [
        "\n",
        "     test        df    pvalue \n",
        "8.0107280 5.0000000 0.1556454 \n",
        "\n",
        "       test          df      pvalue \n",
        "12.60154924  5.00000000  0.02741299 \n"
       ]
      },
      {
       "output_type": "stream",
       "stream": "stdout",
       "text": [
        "\n",
        "     test        df    pvalue \n",
        "7.3573232 5.0000000 0.1953929 \n",
        "\n",
        "     test        df    pvalue \n",
        "7.8376850 5.0000000 0.1654109 \n"
       ]
      },
      {
       "output_type": "stream",
       "stream": "stdout",
       "text": [
        "\n",
        "     test        df    pvalue \n",
        "6.9933995 5.0000000 0.2211317 \n",
        "\n",
        "     test        df    pvalue \n",
        "6.4813501 5.0000000 0.2621561 \n"
       ]
      },
      {
       "output_type": "stream",
       "stream": "stdout",
       "text": [
        "\n",
        "    test       df   pvalue \n",
        "6.722373 5.000000 0.242120 \n",
        "\n",
        "     test        df    pvalue \n",
        "6.7430714 5.0000000 0.2404603 \n"
       ]
      },
      {
       "output_type": "stream",
       "stream": "stdout",
       "text": [
        "\n",
        "     test        df    pvalue \n",
        "7.4349310 5.0000000 0.1902506 \n",
        "\n",
        "     test        df    pvalue \n",
        "7.2973699 5.0000000 0.1994472 \n"
       ]
      },
      {
       "output_type": "stream",
       "stream": "stdout",
       "text": [
        "\n",
        "       test          df      pvalue \n",
        "10.33500374  5.00000000  0.06628082 \n",
        "\n",
        "     test        df    pvalue \n",
        "7.6345403 5.0000000 0.1775603 \n"
       ]
      },
      {
       "output_type": "stream",
       "stream": "stdout",
       "text": [
        "\n",
        "     test        df    pvalue \n",
        "6.3802315 5.0000000 0.2709583 \n",
        "\n",
        "       test          df      pvalue \n",
        "11.02793468  5.00000000  0.05082893 \n"
       ]
      },
      {
       "output_type": "stream",
       "stream": "stdout",
       "text": [
        "\n",
        "      test         df     pvalue \n",
        "13.7045050  5.0000000  0.0175995 \n",
        "\n",
        "     test        df    pvalue \n",
        "8.4154976 5.0000000 0.1347747 \n"
       ]
      },
      {
       "output_type": "stream",
       "stream": "stdout",
       "text": [
        "\n",
        "     test        df    pvalue \n",
        "7.3035612 5.0000000 0.1990252 \n",
        "\n",
        "    test       df   pvalue \n",
        "6.777282 5.000000 0.237738 \n"
       ]
      },
      {
       "output_type": "stream",
       "stream": "stdout",
       "text": [
        "\n",
        "       test          df      pvalue \n",
        "14.95079175  5.00000000  0.01057468 \n",
        "\n",
        "    test       df   pvalue \n",
        "6.407845 5.000000 0.268531 \n"
       ]
      },
      {
       "output_type": "stream",
       "stream": "stdout",
       "text": [
        "\n",
        "       test          df      pvalue \n",
        "10.22264540  5.00000000  0.06916695 \n",
        "\n",
        "     test        df    pvalue \n",
        "9.0274587 5.0000000 0.1079739 \n"
       ]
      },
      {
       "output_type": "stream",
       "stream": "stdout",
       "text": [
        "\n",
        "     test        df    pvalue \n",
        "9.4675634 5.0000000 0.0918062 \n",
        "\n",
        "       test          df      pvalue \n",
        "10.27863849  5.00000000  0.06771432 \n"
       ]
      },
      {
       "output_type": "stream",
       "stream": "stdout",
       "text": [
        "\n",
        "     test        df    pvalue \n",
        "7.0717757 5.0000000 0.2153568 \n",
        "\n",
        "    test       df   pvalue \n",
        "7.290798 5.000000 0.199896 \n"
       ]
      },
      {
       "output_type": "stream",
       "stream": "stdout",
       "text": [
        "\n",
        "     test        df    pvalue \n",
        "9.7779451 5.0000000 0.0817772 \n",
        "\n",
        "       test          df      pvalue \n",
        "13.34335211  5.00000000  0.02036509 \n"
       ]
      },
      {
       "output_type": "stream",
       "stream": "stdout",
       "text": [
        "\n",
        "      test         df     pvalue \n",
        "9.28115277 5.00000000 0.09836188 \n",
        "\n",
        "     test        df    pvalue \n",
        "8.3090091 5.0000000 0.1400077 \n"
       ]
      },
      {
       "output_type": "stream",
       "stream": "stdout",
       "text": [
        "\n",
        "     test        df    pvalue \n",
        "7.4109622 5.0000000 0.1918261 \n",
        "\n",
        "       test          df      pvalue \n",
        "11.12667353  5.00000000  0.04892547 \n"
       ]
      },
      {
       "output_type": "stream",
       "stream": "stdout",
       "text": [
        "\n",
        "       test          df      pvalue \n",
        "10.31755272  5.00000000  0.06672158 \n"
       ]
      },
      {
       "output_type": "stream",
       "stream": "stdout",
       "text": [
        "\n",
        "     test        df    pvalue \n",
        "7.0680128 5.0000000 0.2156311 \n",
        "\n",
        "     test        df    pvalue \n",
        "8.0206145 5.0000000 0.1551032 \n"
       ]
      },
      {
       "output_type": "stream",
       "stream": "stdout",
       "text": [
        "\n",
        "      test         df     pvalue \n",
        "9.67896835 5.00000000 0.08485967 \n",
        "\n",
        "       test          df      pvalue \n",
        "13.54508961  5.00000000  0.01877249 \n"
       ]
      },
      {
       "output_type": "stream",
       "stream": "stdout",
       "text": [
        "\n",
        "       test          df      pvalue \n",
        "10.05373997  5.00000000  0.07372679 \n",
        "\n",
        "       test          df      pvalue \n",
        "11.40747314  5.00000000  0.04387347 \n"
       ]
      },
      {
       "output_type": "stream",
       "stream": "stdout",
       "text": [
        "\n",
        "     test        df    pvalue \n",
        "8.6322862 5.0000000 0.1246609 \n",
        "\n",
        "     test        df    pvalue \n",
        "8.5481132 5.0000000 0.1285036 \n"
       ]
      },
      {
       "output_type": "stream",
       "stream": "stdout",
       "text": [
        "\n",
        "       test          df      pvalue \n",
        "10.16156935  5.00000000  0.07078457 \n",
        "\n",
        "     test        df    pvalue \n",
        "8.8135445 5.0000000 0.1167364 \n"
       ]
      },
      {
       "output_type": "stream",
       "stream": "stdout",
       "text": [
        "\n",
        "      test         df     pvalue \n",
        "9.87935432 5.00000000 0.07872676 \n",
        "\n",
        "     test        df    pvalue \n",
        "7.5832263 5.0000000 0.1807501 \n"
       ]
      },
      {
       "output_type": "stream",
       "stream": "stdout",
       "text": [
        "\n",
        "      test         df     pvalue \n",
        "11.1784294  5.0000000  0.0479548 \n",
        "\n",
        "     test        df    pvalue \n",
        "6.3539547 5.0000000 0.2732847 \n"
       ]
      },
      {
       "output_type": "stream",
       "stream": "stdout",
       "text": [
        "\n",
        "     test        df    pvalue \n",
        "8.4831955 5.0000000 0.1315399 \n",
        "\n",
        "     test        df    pvalue \n",
        "8.3743716 5.0000000 0.1367746 \n"
       ]
      },
      {
       "output_type": "stream",
       "stream": "stdout",
       "text": [
        "\n",
        "       test          df      pvalue \n",
        "12.90291219  5.00000000  0.02430577 \n",
        "\n",
        "       test          df      pvalue \n",
        "12.26504826  5.00000000  0.03133107 \n"
       ]
      },
      {
       "output_type": "stream",
       "stream": "stdout",
       "text": [
        "\n",
        "     test        df    pvalue \n",
        "6.8162523 5.0000000 0.2346684 \n",
        "\n",
        "     test        df    pvalue \n",
        "9.1937132 5.0000000 0.1015826 \n"
       ]
      },
      {
       "output_type": "stream",
       "stream": "stdout",
       "text": [
        "\n",
        "       test          df      pvalue \n",
        "12.96690839  5.00000000  0.02369085 \n",
        "\n",
        "       test          df      pvalue \n",
        "12.09895310  5.00000000  0.03345677 \n"
       ]
      },
      {
       "output_type": "stream",
       "stream": "stdout",
       "text": [
        "\n",
        "     test        df    pvalue \n",
        "7.3568725 5.0000000 0.1954231 \n",
        "\n",
        "     test        df    pvalue \n",
        "8.7034055 5.0000000 0.1214953 \n"
       ]
      },
      {
       "output_type": "stream",
       "stream": "stdout",
       "text": [
        "\n",
        "     test        df    pvalue \n",
        "8.0531033 5.0000000 0.1533332 \n",
        "\n",
        "       test          df      pvalue \n",
        "13.45779131  5.00000000  0.01944637 \n"
       ]
      },
      {
       "output_type": "stream",
       "stream": "stdout",
       "text": [
        "\n",
        "     test        df    pvalue \n",
        "8.0459660 5.0000000 0.1537205 \n"
       ]
      },
      {
       "output_type": "stream",
       "stream": "stdout",
       "text": [
        "\n",
        "     test        df    pvalue \n",
        "7.3119614 5.0000000 0.1984538 \n",
        "\n",
        "     test        df    pvalue \n",
        "7.9616552 5.0000000 0.1583616 \n"
       ]
      },
      {
       "output_type": "stream",
       "stream": "stdout",
       "text": [
        "\n",
        "     test        df    pvalue \n",
        "6.7983825 5.0000000 0.2360719 \n",
        "\n",
        "    test       df   pvalue \n",
        "8.464799 5.000000 0.132412 \n"
       ]
      },
      {
       "output_type": "stream",
       "stream": "stdout",
       "text": [
        "\n",
        "       test          df      pvalue \n",
        "14.66717991  5.00000000  0.01188323 \n",
        "\n",
        "       test          df      pvalue \n",
        "11.43726132  5.00000000  0.04336749 \n"
       ]
      },
      {
       "output_type": "stream",
       "stream": "stdout",
       "text": [
        "\n",
        "     test        df    pvalue \n",
        "7.6635175 5.0000000 0.1757808 \n",
        "\n",
        "     test        df    pvalue \n",
        "8.0412996 5.0000000 0.1539742 \n"
       ]
      },
      {
       "output_type": "stream",
       "stream": "stdout",
       "text": [
        "\n",
        "      test         df     pvalue \n",
        "11.1050332  5.0000000  0.0493368 \n",
        "\n",
        "     test        df    pvalue \n",
        "8.4523579 5.0000000 0.1330046 \n"
       ]
      },
      {
       "output_type": "stream",
       "stream": "stdout",
       "text": [
        "\n",
        "     test        df    pvalue \n",
        "8.7140201 5.0000000 0.1210292 \n",
        "\n",
        "     test        df    pvalue \n",
        "8.1641856 5.0000000 0.1474162 \n"
       ]
      },
      {
       "output_type": "stream",
       "stream": "stdout",
       "text": [
        "\n",
        "     test        df    pvalue \n",
        "7.8664197 5.0000000 0.1637528 \n",
        "\n",
        "     test        df    pvalue \n",
        "7.3910904 5.0000000 0.1931409 \n"
       ]
      },
      {
       "output_type": "stream",
       "stream": "stdout",
       "text": [
        "\n",
        "       test          df      pvalue \n",
        "11.00896697  5.00000000  0.05120248 \n",
        "\n",
        "      test         df     pvalue \n",
        "10.6499481  5.0000000  0.0587796 \n"
       ]
      },
      {
       "output_type": "stream",
       "stream": "stdout",
       "text": [
        "\n",
        "     test        df    pvalue \n",
        "8.2292768 5.0000000 0.1440442 \n",
        "\n",
        "     test        df    pvalue \n",
        "7.9847245 5.0000000 0.1570795 \n"
       ]
      },
      {
       "output_type": "stream",
       "stream": "stdout",
       "text": [
        "\n",
        "     test        df    pvalue \n",
        "8.7774067 5.0000000 0.1182789 \n",
        "\n",
        "        test           df       pvalue \n",
        "17.510161121  5.000000000  0.003627312 \n"
       ]
      },
      {
       "output_type": "stream",
       "stream": "stdout",
       "text": [
        "\n",
        "       test          df      pvalue \n",
        "12.74200317  5.00000000  0.02592024 \n",
        "\n",
        "    test       df   pvalue \n",
        "7.246872 5.000000 0.202918 \n"
       ]
      },
      {
       "output_type": "stream",
       "stream": "stdout",
       "text": [
        "\n",
        "      test         df     pvalue \n",
        "9.44903133 5.00000000 0.09243947 \n",
        "\n",
        "     test        df    pvalue \n",
        "7.3022831 5.0000000 0.1991122 \n"
       ]
      },
      {
       "output_type": "stream",
       "stream": "stdout",
       "text": [
        "\n",
        "      test         df     pvalue \n",
        "9.62455844 5.00000000 0.08659959 \n",
        "\n",
        "     test        df    pvalue \n",
        "7.2101295 5.0000000 0.2054759 \n"
       ]
      },
      {
       "output_type": "stream",
       "stream": "stdout",
       "text": [
        "\n",
        "    test       df   pvalue \n",
        "8.464229 5.000000 0.132439 \n",
        "\n",
        "       test          df      pvalue \n",
        "13.93311268  5.00000000  0.01603992 \n"
       ]
      },
      {
       "output_type": "stream",
       "stream": "stdout",
       "text": [
        "\n",
        "     test        df    pvalue \n",
        "7.6083275 5.0000000 0.1791835 \n",
        "\n",
        "     test        df    pvalue \n",
        "7.7466591 5.0000000 0.1707615 \n"
       ]
      },
      {
       "output_type": "stream",
       "stream": "stdout",
       "text": [
        "\n",
        "     test        df    pvalue \n",
        "7.4634036 5.0000000 0.1883936 \n",
        "\n",
        "     test        df    pvalue \n",
        "7.5584633 5.0000000 0.1823072 \n"
       ]
      },
      {
       "output_type": "stream",
       "stream": "stdout",
       "text": [
        "\n",
        "       test          df      pvalue \n",
        "11.61386959  5.00000000  0.04047934 \n",
        "\n",
        "     test        df    pvalue \n",
        "7.1149938 5.0000000 0.2122276 \n"
       ]
      },
      {
       "output_type": "stream",
       "stream": "stdout",
       "text": [
        "\n",
        "    test       df   pvalue \n",
        "7.669606 5.000000 0.175409 \n",
        "\n",
        "     test        df    pvalue \n",
        "7.1547330 5.0000000 0.2093846 \n"
       ]
      },
      {
       "output_type": "stream",
       "stream": "stdout",
       "text": [
        "\n",
        "       test          df      pvalue \n",
        "12.04228483  5.00000000  0.03421295 \n",
        "\n",
        "        test           df       pvalue \n",
        "17.376078051  5.000000000  0.003839113 \n"
       ]
      },
      {
       "output_type": "stream",
       "stream": "stdout",
       "text": [
        "\n",
        "     test        df    pvalue \n",
        "8.7887327 5.0000000 0.1177935 \n",
        "\n",
        "        test           df       pvalue \n",
        "16.277816100  5.000000000  0.006094074 \n"
       ]
      },
      {
       "output_type": "stream",
       "stream": "stdout",
       "text": [
        "\n",
        "      test         df     pvalue \n",
        "11.4039721  5.0000000  0.0439333 \n",
        "\n",
        "     test        df    pvalue \n",
        "8.3914851 5.0000000 0.1359392 \n"
       ]
      },
      {
       "output_type": "stream",
       "stream": "stdout",
       "text": [
        "\n",
        "      test         df     pvalue \n",
        "9.28917116 5.00000000 0.09807127 \n",
        "\n",
        "       test          df      pvalue \n",
        "11.28299251  5.00000000  0.04604897 \n"
       ]
      },
      {
       "output_type": "stream",
       "stream": "stdout",
       "text": [
        "\n",
        "     test        df    pvalue \n",
        "6.9894822 5.0000000 0.2214237 \n",
        "\n",
        "       test          df      pvalue \n",
        "13.70968148  5.00000000  0.01756262 \n"
       ]
      },
      {
       "output_type": "stream",
       "stream": "stdout",
       "text": [
        "\n",
        "       test          df      pvalue \n",
        "14.89025829  5.00000000  0.01084168 \n",
        "\n",
        "       test          df      pvalue \n",
        "10.66386585  5.00000000  0.05846722 \n"
       ]
      },
      {
       "output_type": "stream",
       "stream": "stdout",
       "text": [
        "\n",
        "     test        df    pvalue \n",
        "8.0010315 5.0000000 0.1561788 \n",
        "\n",
        "     test        df    pvalue \n",
        "6.9906356 5.0000000 0.2213377 \n"
       ]
      },
      {
       "output_type": "stream",
       "stream": "stdout",
       "text": [
        "\n",
        "     test        df    pvalue \n",
        "6.8275165 5.0000000 0.2337874 \n",
        "\n",
        "       test          df      pvalue \n",
        "14.35924888  5.00000000  0.01348147 \n"
       ]
      },
      {
       "output_type": "stream",
       "stream": "stdout",
       "text": [
        "\n",
        "     test        df    pvalue \n",
        "7.1306842 5.0000000 0.2111012 \n",
        "\n",
        "     test        df    pvalue \n",
        "7.5886450 5.0000000 0.1804109 \n"
       ]
      },
      {
       "output_type": "stream",
       "stream": "stdout",
       "text": [
        "\n",
        "       test          df      pvalue \n",
        "10.13581634  5.00000000  0.07147715 \n",
        "\n",
        "    test       df   pvalue \n",
        "6.408074 5.000000 0.268511 \n"
       ]
      },
      {
       "output_type": "stream",
       "stream": "stdout",
       "text": [
        "\n",
        "     test        df    pvalue \n",
        "8.6013883 5.0000000 0.1260593 \n",
        "\n",
        "    test       df   pvalue \n",
        "9.562933 5.000000 0.088610 \n"
       ]
      },
      {
       "output_type": "stream",
       "stream": "stdout",
       "text": [
        "\n",
        "     test        df    pvalue \n",
        "6.3241905 5.0000000 0.2759393 \n",
        "\n",
        "     test        df    pvalue \n",
        "7.4145500 5.0000000 0.1915895 \n"
       ]
      },
      {
       "output_type": "stream",
       "stream": "stdout",
       "text": [
        "\n",
        "     test        df    pvalue \n",
        "8.1523823 5.0000000 0.1480351 \n",
        "\n",
        "     test        df    pvalue \n",
        "6.7356921 5.0000000 0.2410509 \n"
       ]
      },
      {
       "output_type": "stream",
       "stream": "stdout",
       "text": [
        "\n",
        "     test        df    pvalue \n",
        "6.9042219 5.0000000 0.2278615 \n",
        "\n",
        "    test       df   pvalue \n",
        "8.421811 5.000000 0.134470 \n"
       ]
      },
      {
       "output_type": "stream",
       "stream": "stdout",
       "text": [
        "\n",
        "       test          df      pvalue \n",
        "11.70912210  5.00000000  0.03899834 \n",
        "\n",
        "     test        df    pvalue \n",
        "8.7320556 5.0000000 0.1202408 \n"
       ]
      },
      {
       "output_type": "stream",
       "stream": "stdout",
       "text": [
        "\n",
        "       test          df      pvalue \n",
        "10.33029550  5.00000000  0.06639947 \n",
        "\n",
        "      test         df     pvalue \n",
        "9.34050696 5.00000000 0.09622929 \n"
       ]
      },
      {
       "output_type": "stream",
       "stream": "stdout",
       "text": [
        "\n",
        "       test          df      pvalue \n",
        "14.00989532  5.00000000  0.01554668 \n",
        "\n",
        "     test        df    pvalue \n",
        "8.4421681 5.0000000 0.1334919 \n"
       ]
      },
      {
       "output_type": "stream",
       "stream": "stdout",
       "text": [
        "\n",
        "     test        df    pvalue \n",
        "6.8511063 5.0000000 0.2319513 \n",
        "\n",
        "     test        df    pvalue \n",
        "7.9417918 5.0000000 0.1594729 \n"
       ]
      },
      {
       "output_type": "stream",
       "stream": "stdout",
       "text": [
        "\n",
        "       test          df      pvalue \n",
        "14.65523469  5.00000000  0.01194166 \n",
        "\n",
        "      test         df     pvalue \n",
        "12.0420444  5.0000000  0.0342162 \n"
       ]
      },
      {
       "output_type": "stream",
       "stream": "stdout",
       "text": [
        "\n",
        "     test        df    pvalue \n",
        "7.3653630 5.0000000 0.1948546 \n",
        "\n",
        "     test        df    pvalue \n",
        "7.9471813 5.0000000 0.1591707 \n"
       ]
      },
      {
       "output_type": "stream",
       "stream": "stdout",
       "text": [
        "\n",
        "     test        df    pvalue \n",
        "7.1106714 5.0000000 0.2125388 \n",
        "\n",
        "     test        df    pvalue \n",
        "8.9393867 5.0000000 0.1115064 \n"
       ]
      },
      {
       "output_type": "stream",
       "stream": "stdout",
       "text": [
        "\n",
        "       test          df      pvalue \n",
        "10.24449353  5.00000000  0.06859672 \n",
        "\n",
        "    test       df   pvalue \n",
        "7.061548 5.000000 0.216103 \n"
       ]
      },
      {
       "output_type": "stream",
       "stream": "stdout",
       "text": [
        "\n",
        "     test        df    pvalue \n",
        "8.8396059 5.0000000 0.1156353 \n"
       ]
      },
      {
       "output_type": "stream",
       "stream": "stdout",
       "text": [
        "\n",
        "     test        df    pvalue \n",
        "7.4383694 5.0000000 0.1900255 \n",
        "\n",
        "       test          df      pvalue \n",
        "10.92371101  5.00000000  0.05291373 \n"
       ]
      },
      {
       "output_type": "stream",
       "stream": "stdout",
       "text": [
        "\n",
        "     test        df    pvalue \n",
        "8.8071590 5.0000000 0.1170076 \n",
        "\n",
        "     test        df    pvalue \n",
        "8.6005666 5.0000000 0.1260967 \n"
       ]
      },
      {
       "output_type": "stream",
       "stream": "stdout",
       "text": [
        "\n",
        "     test        df    pvalue \n",
        "6.9916013 5.0000000 0.2212657 \n",
        "\n",
        "     test        df    pvalue \n",
        "7.2934666 5.0000000 0.1997136 \n"
       ]
      },
      {
       "output_type": "stream",
       "stream": "stdout",
       "text": [
        "\n",
        "     test        df    pvalue \n",
        "8.8002045 5.0000000 0.1173036 \n",
        "\n",
        "     test        df    pvalue \n",
        "8.6614950 5.0000000 0.1233519 \n"
       ]
      },
      {
       "output_type": "stream",
       "stream": "stdout",
       "text": [
        "\n",
        "       test          df      pvalue \n",
        "11.78447632  5.00000000  0.03786332 \n",
        "\n",
        "     test        df    pvalue \n",
        "8.2918520 5.0000000 0.1408677 \n"
       ]
      },
      {
       "output_type": "stream",
       "stream": "stdout",
       "text": [
        "\n",
        "       test          df      pvalue \n",
        "10.84097952  5.00000000  0.05462566 \n",
        "\n",
        "     test        df    pvalue \n",
        "6.8157146 5.0000000 0.2347106 \n"
       ]
      },
      {
       "output_type": "stream",
       "stream": "stdout",
       "text": [
        "\n",
        "     test        df    pvalue \n",
        "8.0736472 5.0000000 0.1522232 \n",
        "\n",
        "       test          df      pvalue \n",
        "10.61564306  5.00000000  0.05955628 \n"
       ]
      },
      {
       "output_type": "stream",
       "stream": "stdout",
       "text": [
        "\n",
        "       test          df      pvalue \n",
        "10.34176502  5.00000000  0.06611078 \n",
        "\n",
        "     test        df    pvalue \n",
        "7.9435621 5.0000000 0.1593736 \n"
       ]
      },
      {
       "output_type": "stream",
       "stream": "stdout",
       "text": [
        "\n",
        "     test        df    pvalue \n",
        "8.9801178 5.0000000 0.1098598 \n",
        "\n",
        "       test          df      pvalue \n",
        "10.48791756  5.00000000  0.06253342 \n"
       ]
      },
      {
       "output_type": "stream",
       "stream": "stdout",
       "text": [
        "\n",
        "     test        df    pvalue \n",
        "6.4479658 5.0000000 0.2650359 \n",
        "\n",
        "       test          df      pvalue \n",
        "10.87990649  5.00000000  0.05381377 \n"
       ]
      },
      {
       "output_type": "stream",
       "stream": "stdout",
       "text": [
        "\n",
        "       test          df      pvalue \n",
        "12.14424312  5.00000000  0.03286389 \n",
        "\n",
        "     test        df    pvalue \n",
        "7.4854407 5.0000000 0.1869671 \n"
       ]
      },
      {
       "output_type": "stream",
       "stream": "stdout",
       "text": [
        "\n",
        "     test        df    pvalue \n",
        "6.4544025 5.0000000 0.2644786 \n",
        "\n",
        "     test        df    pvalue \n",
        "7.1421444 5.0000000 0.2102817 \n"
       ]
      },
      {
       "output_type": "stream",
       "stream": "stdout",
       "text": [
        "\n",
        "     test        df    pvalue \n",
        "7.4145040 5.0000000 0.1915926 \n"
       ]
      },
      {
       "output_type": "stream",
       "stream": "stdout",
       "text": [
        "\n",
        "     test        df    pvalue \n",
        "7.5807653 5.0000000 0.1809043 \n",
        "\n",
        "     test        df    pvalue \n",
        "9.0380834 5.0000000 0.1075547 \n"
       ]
      },
      {
       "output_type": "stream",
       "stream": "stdout",
       "text": [
        "\n",
        "       test          df      pvalue \n",
        "10.64081225  5.00000000  0.05898551 \n",
        "\n",
        "     test        df    pvalue \n",
        "8.4422864 5.0000000 0.1334862 \n"
       ]
      },
      {
       "output_type": "stream",
       "stream": "stdout",
       "text": [
        "\n",
        "       test          df      pvalue \n",
        "10.35908508  5.00000000  0.06567706 \n",
        "\n",
        "     test        df    pvalue \n",
        "6.3088619 5.0000000 0.2773146 \n"
       ]
      },
      {
       "output_type": "stream",
       "stream": "stdout",
       "text": [
        "\n",
        "     test        df    pvalue \n",
        "7.7413500 5.0000000 0.1710782 \n",
        "\n",
        "       test          df      pvalue \n",
        "10.36628635  5.00000000  0.06549752 \n"
       ]
      },
      {
       "output_type": "stream",
       "stream": "stdout",
       "text": [
        "\n",
        "       test          df      pvalue \n",
        "14.66170568  5.00000000  0.01190998 \n",
        "\n",
        "     test        df    pvalue \n",
        "8.9797714 5.0000000 0.1098737 \n"
       ]
      },
      {
       "output_type": "stream",
       "stream": "stdout",
       "text": [
        "\n",
        "    test       df   pvalue \n",
        "6.740538 5.000000 0.240663 \n",
        "\n",
        "      test         df     pvalue \n",
        "9.34381926 5.00000000 0.09611153 \n"
       ]
      },
      {
       "output_type": "stream",
       "stream": "stdout",
       "text": [
        "\n",
        "     test        df    pvalue \n",
        "9.4490771 5.0000000 0.0924379 \n",
        "\n",
        "     test        df    pvalue \n",
        "9.0197968 5.0000000 0.1082771 \n"
       ]
      },
      {
       "output_type": "stream",
       "stream": "stdout",
       "text": [
        "\n",
        "     test        df    pvalue \n",
        "7.6826515 5.0000000 0.1746144 \n",
        "\n",
        "       test          df      pvalue \n",
        "12.26118184  5.00000000  0.03137905 \n"
       ]
      },
      {
       "output_type": "stream",
       "stream": "stdout",
       "text": [
        "\n",
        "     test        df    pvalue \n",
        "8.3256187 5.0000000 0.1391797 \n",
        "\n",
        "     test        df    pvalue \n",
        "7.8181794 5.0000000 0.1665449 \n"
       ]
      },
      {
       "output_type": "stream",
       "stream": "stdout",
       "text": [
        "\n",
        "       test          df      pvalue \n",
        "14.51704932  5.00000000  0.01263808 \n",
        "\n",
        "    test       df   pvalue \n",
        "8.861851 5.000000 0.114703 \n"
       ]
      },
      {
       "output_type": "stream",
       "stream": "stdout",
       "text": [
        "\n",
        "     test        df    pvalue \n",
        "7.0471719 5.0000000 0.2171556 \n",
        "\n",
        "     test        df    pvalue \n",
        "7.1330775 5.0000000 0.2109298 \n"
       ]
      },
      {
       "output_type": "stream",
       "stream": "stdout",
       "text": [
        "\n",
        "     test        df    pvalue \n",
        "8.3359350 5.0000000 0.1386676 \n",
        "\n",
        "      test         df     pvalue \n",
        "9.37115681 5.00000000 0.09514474 \n"
       ]
      },
      {
       "output_type": "stream",
       "stream": "stdout",
       "text": [
        "\n",
        "      test         df     pvalue \n",
        "9.31101741 5.00000000 0.09728348 \n",
        "\n",
        "      test         df     pvalue \n",
        "9.65023187 5.00000000 0.08577454 \n"
       ]
      },
      {
       "output_type": "stream",
       "stream": "stdout",
       "text": [
        "\n",
        "    test       df   pvalue \n",
        "7.489443 5.000000 0.186709 \n",
        "\n",
        "     test        df    pvalue \n",
        "7.4244188 5.0000000 0.1909402 \n"
       ]
      },
      {
       "output_type": "stream",
       "stream": "stdout",
       "text": [
        "\n",
        "     test        df    pvalue \n",
        "7.3953775 5.0000000 0.1928566 \n",
        "\n",
        "       test          df      pvalue \n",
        "12.74744313  5.00000000  0.02586402 \n"
       ]
      },
      {
       "output_type": "stream",
       "stream": "stdout",
       "text": [
        "\n",
        "     test        df    pvalue \n",
        "6.4669695 5.0000000 0.2633934 \n",
        "\n",
        "       test          df      pvalue \n",
        "10.13581634  5.00000000  0.07147715 \n"
       ]
      },
      {
       "output_type": "stream",
       "stream": "stdout",
       "text": [
        "\n",
        "        test           df       pvalue \n",
        "16.347683013  5.000000000  0.005918444 \n",
        "\n",
        "       test          df      pvalue \n",
        "10.65973495  5.00000000  0.05855978 \n"
       ]
      },
      {
       "output_type": "stream",
       "stream": "stdout",
       "text": [
        "\n",
        "        test           df       pvalue \n",
        "16.740696014  5.000000000  0.005018757 \n",
        "\n",
        "      test         df     pvalue \n",
        "9.25695145 5.00000000 0.09924381 \n"
       ]
      },
      {
       "output_type": "stream",
       "stream": "stdout",
       "text": [
        "\n",
        "      test         df     pvalue \n",
        "9.67531760 5.00000000 0.08497539 \n",
        "\n",
        "      test         df     pvalue \n",
        "9.99666434 5.00000000 0.07532982 \n"
       ]
      },
      {
       "output_type": "stream",
       "stream": "stdout",
       "text": [
        "\n",
        "     test        df    pvalue \n",
        "9.0579668 5.0000000 0.1067743 \n",
        "\n",
        "     test        df    pvalue \n",
        "9.1505123 5.0000000 0.1032092 \n"
       ]
      },
      {
       "output_type": "stream",
       "stream": "stdout",
       "text": [
        "\n",
        "     test        df    pvalue \n",
        "7.9019352 5.0000000 0.1617236 \n",
        "\n",
        "     test        df    pvalue \n",
        "8.7292476 5.0000000 0.1203632 \n"
       ]
      },
      {
       "output_type": "stream",
       "stream": "stdout",
       "text": [
        "\n",
        "     test        df    pvalue \n",
        "6.5971779 5.0000000 0.2523629 \n",
        "\n",
        "     test        df    pvalue \n",
        "8.9553904 5.0000000 0.1108568 \n"
       ]
      },
      {
       "output_type": "stream",
       "stream": "stdout",
       "text": [
        "\n",
        "       test          df      pvalue \n",
        "11.13830745  5.00000000  0.04870567 \n",
        "\n",
        "      test         df     pvalue \n",
        "9.57762374 5.00000000 0.08812686 \n"
       ]
      },
      {
       "output_type": "stream",
       "stream": "stdout",
       "text": [
        "\n",
        "        test           df       pvalue \n",
        "17.181612128  5.000000000  0.004167937 \n",
        "\n",
        "     test        df    pvalue \n",
        "6.6312358 5.0000000 0.2495415 \n"
       ]
      },
      {
       "output_type": "stream",
       "stream": "stdout",
       "text": [
        "\n",
        "     test        df    pvalue \n",
        "7.9397315 5.0000000 0.1595886 \n",
        "\n",
        "     test        df    pvalue \n",
        "9.0737177 5.0000000 0.1061597 \n"
       ]
      },
      {
       "output_type": "stream",
       "stream": "stdout",
       "text": [
        "\n",
        "       test          df      pvalue \n",
        "11.29473430  5.00000000  0.04583948 \n",
        "\n",
        "     test        df    pvalue \n",
        "7.6256866 5.0000000 0.1781071 \n"
       ]
      },
      {
       "output_type": "stream",
       "stream": "stdout",
       "text": [
        "\n",
        "     test        df    pvalue \n",
        "7.6729943 5.0000000 0.1752023 \n",
        "\n",
        "     test        df    pvalue \n",
        "7.0105959 5.0000000 0.2198535 \n"
       ]
      },
      {
       "output_type": "stream",
       "stream": "stdout",
       "text": [
        "\n",
        "    test       df   pvalue \n",
        "6.773332 5.000000 0.238051 \n",
        "\n",
        "     test        df    pvalue \n",
        "8.2317645 5.0000000 0.1439167 \n"
       ]
      },
      {
       "output_type": "stream",
       "stream": "stdout",
       "text": [
        "\n",
        "     test        df    pvalue \n",
        "7.3657931 5.0000000 0.1948259 \n",
        "\n",
        "     test        df    pvalue \n",
        "9.0778183 5.0000000 0.1060002 \n"
       ]
      },
      {
       "output_type": "stream",
       "stream": "stdout",
       "text": [
        "\n",
        "      test         df     pvalue \n",
        "9.62247319 5.00000000 0.08666692 \n",
        "\n",
        "       test          df      pvalue \n",
        "10.90990425  5.00000000  0.05319587 \n"
       ]
      },
      {
       "output_type": "stream",
       "stream": "stdout",
       "text": [
        "\n",
        "     test        df    pvalue \n",
        "7.4327706 5.0000000 0.1903921 \n",
        "\n",
        "     test        df    pvalue \n",
        "7.7392168 5.0000000 0.1712056 \n"
       ]
      },
      {
       "output_type": "stream",
       "stream": "stdout",
       "text": [
        "\n",
        "       test          df      pvalue \n",
        "12.15196434  5.00000000  0.03276382 \n",
        "\n",
        "       test          df      pvalue \n",
        "12.21067084  5.00000000  0.03201239 \n"
       ]
      },
      {
       "output_type": "stream",
       "stream": "stdout",
       "text": [
        "\n",
        "     test        df    pvalue \n",
        "7.1548483 5.0000000 0.2093764 \n",
        "\n",
        "     test        df    pvalue \n",
        "7.0469137 5.0000000 0.2171746 \n"
       ]
      },
      {
       "output_type": "stream",
       "stream": "stdout",
       "text": [
        "\n",
        "     test        df    pvalue \n",
        "6.2854391 5.0000000 0.2794268 \n",
        "\n",
        "     test        df    pvalue \n",
        "7.8487529 5.0000000 0.1647705 \n"
       ]
      },
      {
       "output_type": "stream",
       "stream": "stdout",
       "text": [
        "\n",
        "    test       df   pvalue \n",
        "8.377041 5.000000 0.136644 \n",
        "\n",
        "      test         df     pvalue \n",
        "9.48149060 5.00000000 0.09133291 \n"
       ]
      },
      {
       "output_type": "stream",
       "stream": "stdout",
       "text": [
        "\n",
        "     test        df    pvalue \n",
        "9.0735061 5.0000000 0.1061679 \n",
        "\n",
        "    test       df   pvalue \n",
        "9.373053 5.000000 0.095078 \n"
       ]
      },
      {
       "output_type": "stream",
       "stream": "stdout",
       "text": [
        "\n",
        "     test        df    pvalue \n",
        "6.7394829 5.0000000 0.2407474 \n",
        "\n",
        "       test          df      pvalue \n",
        "11.61842804  5.00000000  0.04040727 \n"
       ]
      },
      {
       "output_type": "stream",
       "stream": "stdout",
       "text": [
        "\n",
        "        test           df       pvalue \n",
        "15.328249807  5.000000000  0.009048105 \n",
        "\n",
        "    test       df   pvalue \n",
        "8.650929 5.000000 0.123824 \n"
       ]
      },
      {
       "output_type": "stream",
       "stream": "stdout",
       "text": [
        "\n",
        "       test          df      pvalue \n",
        "10.78193380  5.00000000  0.05587919 \n",
        "\n",
        "     test        df    pvalue \n",
        "7.2166673 5.0000000 0.2050187 \n"
       ]
      },
      {
       "output_type": "stream",
       "stream": "stdout",
       "text": [
        "\n",
        "     test        df    pvalue \n",
        "6.8570361 5.0000000 0.2314917 \n",
        "\n",
        "     test        df    pvalue \n",
        "9.1582120 5.0000000 0.1029176 \n"
       ]
      },
      {
       "output_type": "stream",
       "stream": "stdout",
       "text": [
        "\n",
        "     test        df    pvalue \n",
        "6.9365638 5.0000000 0.2254011 \n",
        "\n",
        "       test          df      pvalue \n",
        "10.52926487  5.00000000  0.06155473 \n"
       ]
      },
      {
       "output_type": "stream",
       "stream": "stdout",
       "text": [
        "\n",
        "     test        df    pvalue \n",
        "7.3855557 5.0000000 0.1935085 \n",
        "\n",
        "     test        df    pvalue \n",
        "7.5675544 5.0000000 0.1817342 \n"
       ]
      },
      {
       "output_type": "stream",
       "stream": "stdout",
       "text": [
        "\n",
        "     test        df    pvalue \n",
        "8.8450653 5.0000000 0.1154059 \n",
        "\n",
        "      test         df     pvalue \n",
        "10.0208188  5.0000000  0.0746475 \n"
       ]
      },
      {
       "output_type": "stream",
       "stream": "stdout",
       "text": [
        "\n",
        "       test          df      pvalue \n",
        "11.67664809  5.00000000  0.03949738 \n",
        "\n",
        "       test          df      pvalue \n",
        "11.49683339  5.00000000  0.04237213 \n"
       ]
      },
      {
       "output_type": "stream",
       "stream": "stdout",
       "text": [
        "\n",
        "     test        df    pvalue \n",
        "8.1648990 5.0000000 0.1473788 \n",
        "\n",
        "     test        df    pvalue \n",
        "7.8855224 5.0000000 0.1626586 \n"
       ]
      },
      {
       "output_type": "stream",
       "stream": "stdout",
       "text": [
        "\n",
        "     test        df    pvalue \n",
        "8.6449896 5.0000000 0.1240901 \n",
        "\n",
        "     test        df    pvalue \n",
        "6.6225526 5.0000000 0.2502584 \n"
       ]
      },
      {
       "output_type": "stream",
       "stream": "stdout",
       "text": [
        "\n",
        "     test        df    pvalue \n",
        "6.4955909 5.0000000 0.2609354 \n",
        "\n",
        "     test        df    pvalue \n",
        "6.2776671 5.0000000 0.2801306 \n"
       ]
      },
      {
       "output_type": "stream",
       "stream": "stdout",
       "text": [
        "\n",
        "      test         df     pvalue \n",
        "9.88643379 5.00000000 0.07851779 \n",
        "\n",
        "     test        df    pvalue \n",
        "7.2744385 5.0000000 0.2010169 \n"
       ]
      },
      {
       "output_type": "stream",
       "stream": "stdout",
       "text": [
        "\n",
        "      test         df     pvalue \n",
        "9.94238602 5.00000000 0.07688427 \n",
        "\n",
        "       test          df      pvalue \n",
        "10.26013745  5.00000000  0.06819111 \n"
       ]
      },
      {
       "output_type": "stream",
       "stream": "stdout",
       "text": [
        "\n",
        "        test           df       pvalue \n",
        "17.010565667  5.000000000  0.004479802 \n",
        "\n",
        "       test          df      pvalue \n",
        "11.15748868  5.00000000  0.04834533 \n"
       ]
      },
      {
       "output_type": "stream",
       "stream": "stdout",
       "text": [
        "\n",
        "     test        df    pvalue \n",
        "6.7120820 5.0000000 0.2429487 \n",
        "\n",
        "     test        df    pvalue \n",
        "6.8000694 5.0000000 0.2359391 \n"
       ]
      },
      {
       "output_type": "stream",
       "stream": "stdout",
       "text": [
        "\n",
        "     test        df    pvalue \n",
        "7.8545376 5.0000000 0.1644367 \n",
        "\n",
        "    test       df   pvalue \n",
        "6.704559 5.000000 0.243556 \n"
       ]
      },
      {
       "output_type": "stream",
       "stream": "stdout",
       "text": [
        "\n",
        "       test          df      pvalue \n",
        "11.51690470  5.00000000  0.04204167 \n"
       ]
      },
      {
       "output_type": "stream",
       "stream": "stdout",
       "text": [
        "\n",
        "       test          df      pvalue \n",
        "10.29253143  5.00000000  0.06735832 \n",
        "\n",
        "     test        df    pvalue \n",
        "8.3485912 5.0000000 0.1380417 \n"
       ]
      },
      {
       "output_type": "stream",
       "stream": "stdout",
       "text": [
        "\n",
        "    test       df   pvalue \n",
        "6.889161 5.000000 0.229015 \n",
        "\n",
        "      test         df     pvalue \n",
        "9.89686177 5.00000000 0.07821093 \n"
       ]
      },
      {
       "output_type": "stream",
       "stream": "stdout",
       "text": [
        "\n",
        "       test          df      pvalue \n",
        "10.33379536  5.00000000  0.06631125 \n",
        "\n",
        "       test          df      pvalue \n",
        "13.51284443  5.00000000  0.01901874 \n"
       ]
      },
      {
       "output_type": "stream",
       "stream": "stdout",
       "text": [
        "\n",
        "     test        df    pvalue \n",
        "9.0038848 5.0000000 0.1089093 \n",
        "\n",
        "       test          df      pvalue \n",
        "14.37248932  5.00000000  0.01340866 \n"
       ]
      },
      {
       "output_type": "stream",
       "stream": "stdout",
       "text": [
        "\n",
        "    test       df   pvalue \n",
        "8.003516 5.000000 0.156042 \n",
        "\n",
        "       test          df      pvalue \n",
        "10.98414850  5.00000000  0.05169518 \n"
       ]
      },
      {
       "output_type": "stream",
       "stream": "stdout",
       "text": [
        "\n",
        "       test          df      pvalue \n",
        "12.22839662  5.00000000  0.03178876 \n",
        "\n",
        "      test         df     pvalue \n",
        "9.89686177 5.00000000 0.07821093 \n"
       ]
      },
      {
       "output_type": "stream",
       "stream": "stdout",
       "text": [
        "\n",
        "       test          df      pvalue \n",
        "10.64242831  5.00000000  0.05894904 \n",
        "\n",
        "       test          df      pvalue \n",
        "10.13934153  5.00000000  0.07138198 \n"
       ]
      },
      {
       "output_type": "stream",
       "stream": "stdout",
       "text": [
        "\n",
        "       test          df      pvalue \n",
        "11.71249798  5.00000000  0.03894681 \n",
        "\n",
        "     test        df    pvalue \n",
        "6.9683409 5.0000000 0.2230055 \n"
       ]
      },
      {
       "output_type": "stream",
       "stream": "stdout",
       "text": [
        "\n",
        "     test        df    pvalue \n",
        "7.7935283 5.0000000 0.1679878 \n",
        "\n",
        "    test       df   pvalue \n",
        "6.495537 5.000000 0.260940 \n"
       ]
      },
      {
       "output_type": "stream",
       "stream": "stdout",
       "text": [
        "\n",
        "       test          df      pvalue \n",
        "12.21509451  5.00000000  0.03195644 \n",
        "\n",
        "     test        df    pvalue \n",
        "7.6743571 5.0000000 0.1751192 \n"
       ]
      },
      {
       "output_type": "stream",
       "stream": "stdout",
       "text": [
        "\n",
        "        test           df       pvalue \n",
        "19.353923193  5.000000000  0.001651094 \n",
        "\n",
        "     test        df    pvalue \n",
        "8.4428114 5.0000000 0.1334611 \n"
       ]
      },
      {
       "output_type": "stream",
       "stream": "stdout",
       "text": [
        "\n",
        "       test          df      pvalue \n",
        "14.18560018  5.00000000  0.01447246 \n",
        "\n",
        "        test           df       pvalue \n",
        "17.927955086  5.000000000  0.003038065 \n"
       ]
      },
      {
       "output_type": "stream",
       "stream": "stdout",
       "text": [
        "\n",
        "       test          df      pvalue \n",
        "10.13950489  5.00000000  0.07137757 \n",
        "\n",
        "      test         df     pvalue \n",
        "10.1871469  5.0000000  0.0701029 \n"
       ]
      },
      {
       "output_type": "stream",
       "stream": "stdout",
       "text": [
        "\n",
        "      test         df     pvalue \n",
        "11.6542304  5.0000000  0.0398454 \n",
        "\n",
        "       test          df      pvalue \n",
        "11.01879182  5.00000000  0.05100867 \n"
       ]
      },
      {
       "output_type": "stream",
       "stream": "stdout",
       "text": [
        "\n",
        "       test          df      pvalue \n",
        "10.71700149  5.00000000  0.05728887 \n",
        "\n",
        "     test        df    pvalue \n",
        "6.9377448 5.0000000 0.2253116 \n"
       ]
      },
      {
       "output_type": "stream",
       "stream": "stdout",
       "text": [
        "\n",
        "    test       df   pvalue \n",
        "7.530634 5.000000 0.184071 \n",
        "\n",
        "      test         df     pvalue \n",
        "9.80424177 5.00000000 0.08097584 \n"
       ]
      },
      {
       "output_type": "stream",
       "stream": "stdout",
       "text": [
        "\n",
        "    test       df   pvalue \n",
        "6.447214 5.000000 0.265101 \n",
        "\n",
        "     test        df    pvalue \n",
        "6.5257137 5.0000000 0.2583689 \n"
       ]
      },
      {
       "output_type": "stream",
       "stream": "stdout",
       "text": [
        "\n",
        "     test        df    pvalue \n",
        "8.9078329 5.0000000 0.1127974 \n",
        "\n",
        "     test        df    pvalue \n",
        "6.9326474 5.0000000 0.2256978 \n"
       ]
      },
      {
       "output_type": "stream",
       "stream": "stdout",
       "text": [
        "\n",
        "     test        df    pvalue \n",
        "8.5518911 5.0000000 0.1283289 \n",
        "\n",
        "     test        df    pvalue \n",
        "6.7926286 5.0000000 0.2365252 \n"
       ]
      },
      {
       "output_type": "stream",
       "stream": "stdout",
       "text": [
        "\n",
        "     test        df    pvalue \n",
        "8.5015944 5.0000000 0.1306729 \n",
        "\n",
        "     test        df    pvalue \n",
        "7.0687632 5.0000000 0.2155763 \n"
       ]
      },
      {
       "output_type": "stream",
       "stream": "stdout",
       "text": [
        "\n",
        "    test       df   pvalue \n",
        "6.732123 5.000000 0.241337 \n",
        "\n",
        "     test        df    pvalue \n",
        "7.6800394 5.0000000 0.1747732 \n"
       ]
      },
      {
       "output_type": "stream",
       "stream": "stdout",
       "text": [
        "\n",
        "     test        df    pvalue \n",
        "7.7423707 5.0000000 0.1710173 \n",
        "\n",
        "     test        df    pvalue \n",
        "7.5747911 5.0000000 0.1812792 \n"
       ]
      },
      {
       "output_type": "stream",
       "stream": "stdout",
       "text": [
        "\n",
        "     test        df    pvalue \n",
        "9.1526886 5.0000000 0.1031267 \n",
        "\n",
        "    test       df   pvalue \n",
        "7.363534 5.000000 0.194977 \n"
       ]
      },
      {
       "output_type": "stream",
       "stream": "stdout",
       "text": [
        "\n",
        "     test        df    pvalue \n",
        "8.7091810 5.0000000 0.1212415 \n",
        "\n",
        "     test        df    pvalue \n",
        "8.6822257 5.0000000 0.1224304 \n"
       ]
      },
      {
       "output_type": "stream",
       "stream": "stdout",
       "text": [
        "\n",
        "     test        df    pvalue \n",
        "6.4603706 5.0000000 0.2639628 \n",
        "\n",
        "       test          df      pvalue \n",
        "12.54280821  5.00000000  0.02806138 \n"
       ]
      },
      {
       "output_type": "stream",
       "stream": "stdout",
       "text": [
        "\n",
        "     test        df    pvalue \n",
        "8.0548312 5.0000000 0.1532396 \n",
        "\n",
        "     test        df    pvalue \n",
        "7.0117560 5.0000000 0.2197675 \n"
       ]
      },
      {
       "output_type": "stream",
       "stream": "stdout",
       "text": [
        "\n",
        "     test        df    pvalue \n",
        "6.5487625 5.0000000 0.2564191 \n",
        "\n",
        "       test          df      pvalue \n",
        "13.09209676  5.00000000  0.02253084 \n"
       ]
      },
      {
       "output_type": "stream",
       "stream": "stdout",
       "text": [
        "\n",
        "      test         df     pvalue \n",
        "9.27334840 5.00000000 0.09864549 \n",
        "\n",
        "      test         df     pvalue \n",
        "9.26119505 5.00000000 0.09908864 \n"
       ]
      },
      {
       "output_type": "stream",
       "stream": "stdout",
       "text": [
        "\n",
        "      test         df     pvalue \n",
        "9.65326121 5.00000000 0.08567766 \n",
        "\n",
        "     test        df    pvalue \n",
        "7.7466591 5.0000000 0.1707615 \n"
       ]
      },
      {
       "output_type": "stream",
       "stream": "stdout",
       "text": [
        "\n",
        "     test        df    pvalue \n",
        "6.8834195 5.0000000 0.2294559 \n",
        "\n",
        "    test       df   pvalue \n",
        "9.099698 5.000000 0.105153 \n"
       ]
      },
      {
       "output_type": "stream",
       "stream": "stdout",
       "text": [
        "\n",
        "    test       df   pvalue \n",
        "7.253638 5.000000 0.202450 \n",
        "\n",
        "        test           df       pvalue \n",
        "17.687439244  5.000000000  0.003364749 \n"
       ]
      },
      {
       "output_type": "stream",
       "stream": "stdout",
       "text": [
        "\n",
        "     test        df    pvalue \n",
        "7.6132333 5.0000000 0.1788788 \n",
        "\n",
        "       test          df      pvalue \n",
        "14.11760364  5.00000000  0.01487939 \n"
       ]
      },
      {
       "output_type": "stream",
       "stream": "stdout",
       "text": [
        "\n",
        "    test       df   pvalue \n",
        "6.569265 5.000000 0.254695 \n",
        "\n",
        "     test        df    pvalue \n",
        "6.6636396 5.0000000 0.2468814 \n"
       ]
      },
      {
       "output_type": "stream",
       "stream": "stdout",
       "text": [
        "\n",
        "     test        df    pvalue \n",
        "8.2165030 5.0000000 0.1447005 \n",
        "\n",
        "       test          df      pvalue \n",
        "10.03432561  5.00000000  0.07426847 \n"
       ]
      },
      {
       "output_type": "stream",
       "stream": "stdout",
       "text": [
        "\n",
        "       test          df      pvalue \n",
        "11.67530442  5.00000000  0.03951815 \n",
        "\n",
        "       test          df      pvalue \n",
        "13.82218233  5.00000000  0.01677928 \n"
       ]
      },
      {
       "output_type": "stream",
       "stream": "stdout",
       "text": [
        "\n",
        "      test         df     pvalue \n",
        "12.0662273  5.0000000  0.0338915 \n",
        "\n",
        "     test        df    pvalue \n",
        "9.2284401 5.0000000 0.1002921 \n"
       ]
      },
      {
       "output_type": "stream",
       "stream": "stdout",
       "text": [
        "\n",
        "       test          df      pvalue \n",
        "14.22090662  5.00000000  0.01426543 \n",
        "\n",
        "       test          df      pvalue \n",
        "10.01522003  5.00000000  0.07480514 \n"
       ]
      },
      {
       "output_type": "stream",
       "stream": "stdout",
       "text": [
        "\n",
        "     test        df    pvalue \n",
        "8.2221350 5.0000000 0.1444108 \n",
        "\n",
        "     test        df    pvalue \n",
        "7.7521154 5.0000000 0.1704366 \n"
       ]
      },
      {
       "output_type": "stream",
       "stream": "stdout",
       "text": [
        "\n",
        "     test        df    pvalue \n",
        "8.3295112 5.0000000 0.1389863 \n",
        "\n",
        "     test        df    pvalue \n",
        "7.5854196 5.0000000 0.1806127 \n"
       ]
      },
      {
       "output_type": "stream",
       "stream": "stdout",
       "text": [
        "\n",
        "      test         df     pvalue \n",
        "9.31425486 5.00000000 0.09716723 \n",
        "\n",
        "       test          df      pvalue \n",
        "11.73136662  5.00000000  0.03865996 \n"
       ]
      },
      {
       "output_type": "stream",
       "stream": "stdout",
       "text": [
        "\n",
        "       test          df      pvalue \n",
        "14.75085477  5.00000000  0.01148167 \n",
        "\n",
        "     test        df    pvalue \n",
        "8.5541908 5.0000000 0.1282226 \n"
       ]
      },
      {
       "output_type": "stream",
       "stream": "stdout",
       "text": [
        "\n",
        "      test         df     pvalue \n",
        "9.56799521 5.00000000 0.08844323 \n",
        "\n",
        "    test       df   pvalue \n",
        "7.585560 5.000000 0.180604 \n"
       ]
      },
      {
       "output_type": "stream",
       "stream": "stdout",
       "text": [
        "\n",
        "     test        df    pvalue \n",
        "8.7958914 5.0000000 0.1174876 \n",
        "\n",
        "      test         df     pvalue \n",
        "14.5517285  5.0000000  0.0124597 \n"
       ]
      },
      {
       "output_type": "stream",
       "stream": "stdout",
       "text": [
        "\n",
        "     test        df    pvalue \n",
        "7.0343415 5.0000000 0.2180988 \n",
        "\n",
        "       test          df      pvalue \n",
        "11.13474539  5.00000000  0.04877287 \n"
       ]
      },
      {
       "output_type": "stream",
       "stream": "stdout",
       "text": [
        "\n",
        "      test         df     pvalue \n",
        "9.90129576 5.00000000 0.07808079 \n"
       ]
      },
      {
       "output_type": "stream",
       "stream": "stdout",
       "text": [
        "\n",
        "     test        df    pvalue \n",
        "6.6388066 5.0000000 0.2489179 \n",
        "\n",
        "       test          df      pvalue \n",
        "11.59422199  5.00000000  0.04079139 \n"
       ]
      },
      {
       "output_type": "stream",
       "stream": "stdout",
       "text": [
        "\n",
        "       test          df      pvalue \n",
        "11.59422199  5.00000000  0.04079139 \n",
        "\n",
        "       test          df      pvalue \n",
        "11.55280732  5.00000000  0.04145665 \n"
       ]
      },
      {
       "output_type": "stream",
       "stream": "stdout",
       "text": [
        "\n",
        "       test          df      pvalue \n",
        "12.64273237  5.00000000  0.02696697 \n",
        "\n",
        "     test        df    pvalue \n",
        "8.1616426 5.0000000 0.1475493 \n"
       ]
      },
      {
       "output_type": "stream",
       "stream": "stdout",
       "text": [
        "\n",
        "     test        df    pvalue \n",
        "7.5047768 5.0000000 0.1857232 \n",
        "\n",
        "      test         df     pvalue \n",
        "9.25357805 5.00000000 0.09936731 \n"
       ]
      },
      {
       "output_type": "stream",
       "stream": "stdout",
       "text": [
        "\n",
        "    test       df   pvalue \n",
        "8.182661 5.000000 0.146452 \n",
        "\n",
        "        test           df       pvalue \n",
        "16.977973672  5.000000000  0.004541761 \n"
       ]
      },
      {
       "output_type": "stream",
       "stream": "stdout",
       "text": [
        "\n",
        "     test        df    pvalue \n",
        "7.4562692 5.0000000 0.1888574 \n",
        "\n",
        "     test        df    pvalue \n",
        "9.2817916 5.0000000 0.0983387 \n"
       ]
      },
      {
       "output_type": "stream",
       "stream": "stdout",
       "text": [
        "\n",
        "     test        df    pvalue \n",
        "9.5141278 5.0000000 0.0902326 \n",
        "\n",
        "    test       df   pvalue \n",
        "7.243624 5.000000 0.203143 \n"
       ]
      },
      {
       "output_type": "stream",
       "stream": "stdout",
       "text": [
        "\n",
        "       test          df      pvalue \n",
        "11.86898121  5.00000000  0.03662782 \n",
        "\n",
        "        test           df       pvalue \n",
        "16.466407304  5.000000000  0.005631254 \n"
       ]
      },
      {
       "output_type": "stream",
       "stream": "stdout",
       "text": [
        "\n",
        "     test        df    pvalue \n",
        "8.9399687 5.0000000 0.1114827 \n",
        "\n",
        "     test        df    pvalue \n",
        "7.3119909 5.0000000 0.1984518 \n"
       ]
      },
      {
       "output_type": "stream",
       "stream": "stdout",
       "text": [
        "\n",
        "     test        df    pvalue \n",
        "9.0873997 5.0000000 0.1056285 \n",
        "\n",
        "      test         df     pvalue \n",
        "9.52081062 5.00000000 0.09000881 \n"
       ]
      },
      {
       "output_type": "stream",
       "stream": "stdout",
       "text": [
        "\n",
        "     test        df    pvalue \n",
        "9.0865765 5.0000000 0.1056603 \n",
        "\n",
        "     test        df    pvalue \n",
        "8.9393867 5.0000000 0.1115064 \n"
       ]
      },
      {
       "output_type": "stream",
       "stream": "stdout",
       "text": [
        "\n",
        "     test        df    pvalue \n",
        "7.7708692 5.0000000 0.1693238 \n",
        "\n",
        "     test        df    pvalue \n",
        "8.4584070 5.0000000 0.1327162 \n"
       ]
      },
      {
       "output_type": "stream",
       "stream": "stdout",
       "text": [
        "\n",
        "       test          df      pvalue \n",
        "14.92299384  5.00000000  0.01069649 \n",
        "\n",
        "        test           df       pvalue \n",
        "15.584666654  5.000000000  0.008135551 \n"
       ]
      },
      {
       "output_type": "stream",
       "stream": "stdout",
       "text": [
        "\n",
        "      test         df     pvalue \n",
        "11.3954311  5.0000000  0.0440796 \n",
        "\n",
        "       test          df      pvalue \n",
        "13.18433562  5.00000000  0.02171124 \n"
       ]
      },
      {
       "output_type": "stream",
       "stream": "stdout",
       "text": [
        "\n",
        "       test          df      pvalue \n",
        "10.67719761  5.00000000  0.05816945 \n",
        "\n",
        "     test        df    pvalue \n",
        "6.8269443 5.0000000 0.2338321 \n"
       ]
      },
      {
       "output_type": "stream",
       "stream": "stdout",
       "text": [
        "\n",
        "        test           df       pvalue \n",
        "20.450690707  5.000000000  0.001028275 \n",
        "\n",
        "      test         df     pvalue \n",
        "9.44095105 5.00000000 0.09271684 \n"
       ]
      },
      {
       "output_type": "stream",
       "stream": "stdout",
       "text": [
        "\n",
        "     test        df    pvalue \n",
        "6.3866244 5.0000000 0.2703948 \n",
        "\n",
        "     test        df    pvalue \n",
        "8.6199523 5.0000000 0.1252174 \n"
       ]
      },
      {
       "output_type": "stream",
       "stream": "stdout",
       "text": [
        "\n",
        "     test        df    pvalue \n",
        "6.9378249 5.0000000 0.2253056 \n",
        "\n",
        "       test          df      pvalue \n",
        "12.41752969  5.00000000  0.02949357 \n"
       ]
      },
      {
       "output_type": "stream",
       "stream": "stdout",
       "text": [
        "\n",
        "       test          df      pvalue \n",
        "14.05161648  5.00000000  0.01528484 \n",
        "\n",
        "      test         df     pvalue \n",
        "9.89870566 5.00000000 0.07815678 \n"
       ]
      },
      {
       "output_type": "stream",
       "stream": "stdout",
       "text": [
        "\n",
        "       test          df      pvalue \n",
        "18.36999174  5.00000000  0.00251672 \n",
        "\n",
        "      test         df     pvalue \n",
        "11.0648423  5.0000000  0.0501094 \n"
       ]
      },
      {
       "output_type": "stream",
       "stream": "stdout",
       "text": [
        "\n",
        "       test          df      pvalue \n",
        "11.45681912  5.00000000  0.04303829 \n"
       ]
      },
      {
       "output_type": "stream",
       "stream": "stdout",
       "text": [
        "\n",
        "    test       df   pvalue \n",
        "8.292382 5.000000 0.140841 \n",
        "\n",
        "     test        df    pvalue \n",
        "8.7724556 5.0000000 0.1184916 \n"
       ]
      },
      {
       "output_type": "stream",
       "stream": "stdout",
       "text": [
        "\n",
        "       test          df      pvalue \n",
        "10.34037652  5.00000000  0.06614567 \n",
        "\n",
        "     test        df    pvalue \n",
        "8.7608985 5.0000000 0.1189897 \n"
       ]
      },
      {
       "output_type": "stream",
       "stream": "stdout",
       "text": [
        "\n",
        "     test        df    pvalue \n",
        "8.0099787 5.0000000 0.1556865 \n",
        "\n",
        "       test          df      pvalue \n",
        "12.36795684  5.00000000  0.03007936 \n"
       ]
      },
      {
       "output_type": "stream",
       "stream": "stdout",
       "text": [
        "\n",
        "     test        df    pvalue \n",
        "8.0934118 5.0000000 0.1511621 \n",
        "\n",
        "     test        df    pvalue \n",
        "6.7188116 5.0000000 0.2424065 \n"
       ]
      },
      {
       "output_type": "stream",
       "stream": "stdout",
       "text": [
        "\n",
        "    test       df   pvalue \n",
        "6.393248 5.000000 0.269812 \n",
        "\n",
        "     test        df    pvalue \n",
        "6.6662008 5.0000000 0.2466722 \n"
       ]
      },
      {
       "output_type": "stream",
       "stream": "stdout",
       "text": [
        "\n",
        "     test        df    pvalue \n",
        "7.1133749 5.0000000 0.2123441 \n",
        "\n",
        "     test        df    pvalue \n",
        "7.6103400 5.0000000 0.1790585 \n"
       ]
      },
      {
       "output_type": "stream",
       "stream": "stdout",
       "text": [
        "\n",
        "     test        df    pvalue \n",
        "8.4374996 5.0000000 0.1337156 \n",
        "\n",
        "       test          df      pvalue \n",
        "10.51586287  5.00000000  0.06187037 \n"
       ]
      },
      {
       "output_type": "stream",
       "stream": "stdout",
       "text": [
        "\n",
        "     test        df    pvalue \n",
        "7.8217778 5.0000000 0.1663352 \n",
        "\n",
        "     test        df    pvalue \n",
        "7.3295675 5.0000000 0.1972609 \n"
       ]
      },
      {
       "output_type": "stream",
       "stream": "stdout",
       "text": [
        "\n",
        "     test        df    pvalue \n",
        "7.3948796 5.0000000 0.1928896 \n",
        "\n",
        "     test        df    pvalue \n",
        "7.1590651 5.0000000 0.2090767 \n"
       ]
      },
      {
       "output_type": "stream",
       "stream": "stdout",
       "text": [
        "\n",
        "      test         df     pvalue \n",
        "11.0797452  5.0000000  0.0498216 \n",
        "\n",
        "     test        df    pvalue \n",
        "7.2443286 5.0000000 0.2030942 \n"
       ]
      },
      {
       "output_type": "stream",
       "stream": "stdout",
       "text": [
        "\n",
        "     test        df    pvalue \n",
        "8.0936430 5.0000000 0.1511497 \n",
        "\n",
        "     test        df    pvalue \n",
        "7.0066967 5.0000000 0.2201427 \n"
       ]
      },
      {
       "output_type": "stream",
       "stream": "stdout",
       "text": [
        "\n",
        "     test        df    pvalue \n",
        "6.6970338 5.0000000 0.2441647 \n",
        "\n",
        "       test          df      pvalue \n",
        "14.17367426  5.00000000  0.01454305 \n"
       ]
      },
      {
       "output_type": "stream",
       "stream": "stdout",
       "text": [
        "\n",
        "     test        df    pvalue \n",
        "8.9516495 5.0000000 0.1110083 \n",
        "\n",
        "     test        df    pvalue \n",
        "6.8729547 5.0000000 0.2302616 \n"
       ]
      },
      {
       "output_type": "stream",
       "stream": "stdout",
       "text": [
        "\n",
        "     test        df    pvalue \n",
        "9.6980076 5.0000000 0.0842585 \n",
        "\n",
        "       test          df      pvalue \n",
        "11.47242729  5.00000000  0.04277727 \n"
       ]
      },
      {
       "output_type": "stream",
       "stream": "stdout",
       "text": [
        "\n",
        "      test         df     pvalue \n",
        "9.74585324 5.00000000 0.08276511 \n",
        "\n",
        "     test        df    pvalue \n",
        "8.5712026 5.0000000 0.1274391 \n"
       ]
      },
      {
       "output_type": "stream",
       "stream": "stdout",
       "text": [
        "\n",
        "     test        df    pvalue \n",
        "7.3010494 5.0000000 0.1991963 \n",
        "\n",
        "     test        df    pvalue \n",
        "7.7975498 5.0000000 0.1677517 \n"
       ]
      },
      {
       "output_type": "stream",
       "stream": "stdout",
       "text": [
        "\n",
        "      test         df     pvalue \n",
        "9.42509694 5.00000000 0.09326329 \n",
        "\n",
        "      test         df     pvalue \n",
        "9.36039015 5.00000000 0.09552443 \n"
       ]
      },
      {
       "output_type": "stream",
       "stream": "stdout",
       "text": [
        "\n",
        "     test        df    pvalue \n",
        "8.5444875 5.0000000 0.1286715 \n",
        "\n",
        "     test        df    pvalue \n",
        "8.3407849 5.0000000 0.1384275 \n"
       ]
      },
      {
       "output_type": "stream",
       "stream": "stdout",
       "text": [
        "\n",
        "        test           df       pvalue \n",
        "17.073204547  5.000000000  0.004363035 \n",
        "\n",
        "       test          df      pvalue \n",
        "10.24421041  5.00000000  0.06860408 \n"
       ]
      },
      {
       "output_type": "stream",
       "stream": "stdout",
       "text": [
        "\n",
        "     test        df    pvalue \n",
        "8.2894778 5.0000000 0.1409871 \n",
        "\n",
        "       test          df      pvalue \n",
        "12.60975529  5.00000000  0.02732356 \n"
       ]
      },
      {
       "output_type": "stream",
       "stream": "stdout",
       "text": [
        "\n",
        "      test         df     pvalue \n",
        "9.89686177 5.00000000 0.07821093 \n",
        "\n",
        "      test         df     pvalue \n",
        "10.0620449  5.0000000  0.0734962 \n"
       ]
      },
      {
       "output_type": "stream",
       "stream": "stdout",
       "text": [
        "\n",
        "     test        df    pvalue \n",
        "8.9599459 5.0000000 0.1106725 \n",
        "\n",
        "      test         df     pvalue \n",
        "9.74674346 5.00000000 0.08273756 \n"
       ]
      },
      {
       "output_type": "stream",
       "stream": "stdout",
       "text": [
        "\n",
        "     test        df    pvalue \n",
        "6.7199337 5.0000000 0.2423162 \n",
        "\n",
        "      test         df     pvalue \n",
        "9.53427511 5.00000000 0.08955948 \n"
       ]
      },
      {
       "output_type": "stream",
       "stream": "stdout",
       "text": [
        "\n",
        "     test        df    pvalue \n",
        "7.9299116 5.0000000 0.1601409 \n",
        "\n",
        "        test           df       pvalue \n",
        "17.927955086  5.000000000  0.003038065 \n"
       ]
      },
      {
       "output_type": "stream",
       "stream": "stdout",
       "text": [
        "\n",
        "     test        df    pvalue \n",
        "7.1636605 5.0000000 0.2087504 \n",
        "\n",
        "     test        df    pvalue \n",
        "7.5224243 5.0000000 0.1845942 \n"
       ]
      },
      {
       "output_type": "stream",
       "stream": "stdout",
       "text": [
        "\n",
        "     test        df    pvalue \n",
        "7.4851146 5.0000000 0.1869881 \n",
        "\n",
        "      test         df     pvalue \n",
        "9.89686177 5.00000000 0.07821093 \n"
       ]
      },
      {
       "output_type": "stream",
       "stream": "stdout",
       "text": [
        "\n",
        "       test          df      pvalue \n",
        "13.78250639  5.00000000  0.01705161 \n",
        "\n",
        "     test        df    pvalue \n",
        "7.8311804 5.0000000 0.1657883 \n"
       ]
      },
      {
       "output_type": "stream",
       "stream": "stdout",
       "text": [
        "\n",
        "     test        df    pvalue \n",
        "8.3611920 5.0000000 0.1374211 \n",
        "\n",
        "     test        df    pvalue \n",
        "7.1138826 5.0000000 0.2123076 \n"
       ]
      },
      {
       "output_type": "stream",
       "stream": "stdout",
       "text": [
        "\n",
        "       test          df      pvalue \n",
        "12.38556330  5.00000000  0.02987005 \n",
        "\n",
        "    test       df   pvalue \n",
        "8.990766 5.000000 0.109433 \n"
       ]
      },
      {
       "output_type": "stream",
       "stream": "stdout",
       "text": [
        "\n",
        "     test        df    pvalue \n",
        "6.5147395 5.0000000 0.2593015 \n",
        "\n",
        "     test        df    pvalue \n",
        "8.4524112 5.0000000 0.1330021 \n"
       ]
      },
      {
       "output_type": "stream",
       "stream": "stdout",
       "text": [
        "\n",
        "     test        df    pvalue \n",
        "8.0255296 5.0000000 0.1548342 \n",
        "\n",
        "    test       df   pvalue \n",
        "7.542471 5.000000 0.183319 \n"
       ]
      },
      {
       "output_type": "stream",
       "stream": "stdout",
       "text": [
        "\n",
        "       test          df      pvalue \n",
        "11.15045771  5.00000000  0.04847712 \n",
        "\n",
        "     test        df    pvalue \n",
        "7.6294836 5.0000000 0.1778724 \n"
       ]
      },
      {
       "output_type": "stream",
       "stream": "stdout",
       "text": [
        "\n",
        "      test         df     pvalue \n",
        "9.95731218 5.00000000 0.07645386 \n",
        "\n",
        "       test          df      pvalue \n",
        "13.00769207  5.00000000  0.02330679 \n"
       ]
      },
      {
       "output_type": "stream",
       "stream": "stdout",
       "text": [
        "\n",
        "      test         df     pvalue \n",
        "9.31440140 5.00000000 0.09716197 \n",
        "\n",
        "     test        df    pvalue \n",
        "6.9998594 5.0000000 0.2206508 \n"
       ]
      },
      {
       "output_type": "stream",
       "stream": "stdout",
       "text": [
        "\n",
        "     test        df    pvalue \n",
        "8.2458572 5.0000000 0.1431964 \n",
        "\n",
        "     test        df    pvalue \n",
        "6.7191735 5.0000000 0.2423774 \n"
       ]
      },
      {
       "output_type": "stream",
       "stream": "stdout",
       "text": [
        "\n",
        "     test        df    pvalue \n",
        "7.6643244 5.0000000 0.1757315 \n",
        "\n",
        "     test        df    pvalue \n",
        "7.9820512 5.0000000 0.1572276 \n"
       ]
      },
      {
       "output_type": "stream",
       "stream": "stdout",
       "text": [
        "\n",
        "      test         df     pvalue \n",
        "9.59574174 5.00000000 0.08753437 \n",
        "\n",
        "       test          df      pvalue \n",
        "14.23804323  5.00000000  0.01416598 \n"
       ]
      },
      {
       "output_type": "stream",
       "stream": "stdout",
       "text": [
        "\n",
        "        test           df       pvalue \n",
        "2.091410e+01 5.000000e+00 8.408942e-04 \n",
        "\n",
        "       test          df      pvalue \n",
        "11.61233235  5.00000000  0.04050367 \n"
       ]
      },
      {
       "output_type": "stream",
       "stream": "stdout",
       "text": [
        "\n",
        "     test        df    pvalue \n",
        "8.2501361 5.0000000 0.1429783 \n",
        "\n",
        "       test          df      pvalue \n",
        "10.35514971  5.00000000  0.06577538 \n"
       ]
      },
      {
       "output_type": "stream",
       "stream": "stdout",
       "text": [
        "\n",
        "     test        df    pvalue \n",
        "8.1753422 5.0000000 0.1468333 \n",
        "\n",
        "      test         df     pvalue \n",
        "9.70012361 5.00000000 0.08419193 \n"
       ]
      },
      {
       "output_type": "stream",
       "stream": "stdout",
       "text": [
        "\n",
        "       test          df      pvalue \n",
        "15.04466436  5.00000000  0.01017319 \n",
        "\n",
        "       test          df      pvalue \n",
        "10.09111714  5.00000000  0.07269427 \n"
       ]
      },
      {
       "output_type": "stream",
       "stream": "stdout",
       "text": [
        "\n",
        "       test          df      pvalue \n",
        "13.99286955  5.00000000  0.01565477 \n",
        "\n",
        "       test          df      pvalue \n",
        "14.00878128  5.00000000  0.01555373 \n"
       ]
      },
      {
       "output_type": "stream",
       "stream": "stdout",
       "text": [
        "\n",
        "    test       df   pvalue \n",
        "6.190881 5.000000 0.288086 \n",
        "\n",
        "       test          df      pvalue \n",
        "13.99286955  5.00000000  0.01565477 \n"
       ]
      },
      {
       "output_type": "stream",
       "stream": "stdout",
       "text": [
        "\n",
        "       test          df      pvalue \n",
        "14.71063605  5.00000000  0.01167302 \n",
        "\n",
        "     test        df    pvalue \n",
        "7.2994524 5.0000000 0.1993051 \n"
       ]
      },
      {
       "output_type": "stream",
       "stream": "stdout",
       "text": [
        "\n",
        "       test          df      pvalue \n",
        "11.94209076  5.00000000  0.03558994 \n",
        "\n",
        "     test        df    pvalue \n",
        "7.6120592 5.0000000 0.1789517 \n"
       ]
      },
      {
       "output_type": "stream",
       "stream": "stdout",
       "text": [
        "\n",
        "       test          df      pvalue \n",
        "12.31674344  5.00000000  0.03069619 \n",
        "\n",
        "     test        df    pvalue \n",
        "9.0758365 5.0000000 0.1060773 \n"
       ]
      },
      {
       "output_type": "stream",
       "stream": "stdout",
       "text": [
        "\n",
        "    test       df   pvalue \n",
        "8.210068 5.000000 0.145032 \n",
        "\n",
        "       test          df      pvalue \n",
        "10.58752651  5.00000000  0.06020001 \n"
       ]
      },
      {
       "output_type": "stream",
       "stream": "stdout",
       "text": [
        "\n",
        "     test        df    pvalue \n",
        "6.6253559 5.0000000 0.2500268 \n",
        "\n",
        "     test        df    pvalue \n",
        "9.1996103 5.0000000 0.1013624 \n"
       ]
      },
      {
       "output_type": "stream",
       "stream": "stdout",
       "text": [
        "\n",
        "     test        df    pvalue \n",
        "8.4493094 5.0000000 0.1331502 \n",
        "\n",
        "     test        df    pvalue \n",
        "7.1332261 5.0000000 0.2109192 \n"
       ]
      },
      {
       "output_type": "stream",
       "stream": "stdout",
       "text": [
        "\n",
        "      test         df     pvalue \n",
        "9.24732213 5.00000000 0.09959672 \n",
        "\n",
        "     test        df    pvalue \n",
        "6.2086853 5.0000000 0.2864393 \n"
       ]
      },
      {
       "output_type": "stream",
       "stream": "stdout",
       "text": [
        "\n"
       ]
      }
     ],
     "prompt_number": 37
    },
    {
     "cell_type": "code",
     "collapsed": false,
     "input": [
      "p = 'REACTOME_SIGNALING_BY_ROBO_RECEPTOR'"
     ],
     "language": "python",
     "metadata": {},
     "outputs": [],
     "prompt_number": 45
    },
    {
     "cell_type": "code",
     "collapsed": false,
     "input": [
      "vals.ix[p]"
     ],
     "language": "python",
     "metadata": {},
     "outputs": [
      {
       "output_type": "pyout",
       "prompt_number": 46,
       "text": [
        "                  coef  exp(coef)  se(coef)         z  Pr(>|z|)\n",
        "pathway       0.515409   1.674322  0.311391  1.655181  0.097888\n",
        "age           0.007337   1.007364  0.008142  0.901128  0.367520\n",
        "rate         -0.700508   0.496333  0.189033 -3.705750  0.000211\n",
        "pathway:age   0.035445   1.036081  0.034009  1.042219  0.297310\n",
        "pathway:rate -3.929664   0.019650  1.102745 -3.563530  0.000366"
       ]
      }
     ],
     "prompt_number": 46
    },
    {
     "cell_type": "code",
     "collapsed": false,
     "input": [
      "idx = (cancer.meta_matrix.ix[p] > 0)\n",
      "idx = idx[idx==True].index"
     ],
     "language": "python",
     "metadata": {},
     "outputs": [],
     "prompt_number": 59
    },
    {
     "cell_type": "code",
     "collapsed": false,
     "input": [
      "c = clinical.ix[idx]"
     ],
     "language": "python",
     "metadata": {},
     "outputs": [],
     "prompt_number": 62
    },
    {
     "cell_type": "code",
     "collapsed": false,
     "input": [
      "cancer.q_pathways.ix[p]"
     ],
     "language": "python",
     "metadata": {},
     "outputs": [
      {
       "output_type": "pyout",
       "prompt_number": 67,
       "text": [
        "tumor_t1t2               1.000000\n",
        "new_tumor                1.000000\n",
        "event_free_survival      0.781423\n",
        "gender                   1.000000\n",
        "age                      0.987427\n",
        "rate                     0.006047\n",
        "metastatic_recurrence    1.000000\n",
        "histo_g1g2               1.000000\n",
        "karnofsky_performance    0.879076\n",
        "survival                 0.892405\n",
        "neo_status               1.000000\n",
        "Name: REACTOME_SIGNALING_BY_ROBO_RECEPTOR"
       ]
      }
     ],
     "prompt_number": 67
    },
    {
     "cell_type": "code",
     "collapsed": false,
     "input": [
      "c.rate.mean()"
     ],
     "language": "python",
     "metadata": {},
     "outputs": [
      {
       "output_type": "pyout",
       "prompt_number": 68,
       "text": [
        "3.9955583872797655"
       ]
      }
     ],
     "prompt_number": 68
    },
    {
     "cell_type": "code",
     "collapsed": false,
     "input": [
      "clinical.rate.mean()"
     ],
     "language": "python",
     "metadata": {},
     "outputs": [
      {
       "output_type": "pyout",
       "prompt_number": 69,
       "text": [
        "3.7242349698089843"
       ]
      }
     ],
     "prompt_number": 69
    },
    {
     "cell_type": "code",
     "collapsed": false,
     "input": [
      "c.groupby('event').median().T"
     ],
     "language": "python",
     "metadata": {},
     "outputs": [
      {
       "output_type": "pyout",
       "prompt_number": 80,
       "text": [
        "event                              0             1\n",
        "tissuesourcesite           21.500000     24.000000\n",
        "daystodeath               129.000000    749.000000\n",
        "daystolastfollowup        946.500000    749.000000\n",
        "daystotumorprogression           NaN    110.000000\n",
        "daystotumorrecurrence     870.000000    337.000000\n",
        "event_free_survival       638.000000    280.000000\n",
        "daystobirth            -22033.000000 -21265.000000\n",
        "karnofsky_performance      80.000000     70.000000\n",
        "new_tumor                   0.000000      0.000000\n",
        "age                        60.364384     58.260274\n",
        "days                      946.500000    749.000000\n",
        "deceased                    0.000000      1.000000\n",
        "rate                        4.048713      3.733686\n",
        "p53                         1.000000      1.000000"
       ]
      }
     ],
     "prompt_number": 80
    },
    {
     "cell_type": "code",
     "collapsed": false,
     "input": [
      "c[['rate','event','event_free_survival']].sort(columns=['event','event_free_survival'])"
     ],
     "language": "python",
     "metadata": {},
     "outputs": [
      {
       "output_type": "pyout",
       "prompt_number": 73,
       "text": [
        "                  rate  event  event_free_survival\n",
        "TCGA-23-1032  4.304065      0                   68\n",
        "TCGA-13-1496  3.871201      0                  129\n",
        "TCGA-23-1116  3.891820      0                  139\n",
        "TCGA-24-1427  3.806662      0                  146\n",
        "TCGA-24-1426  3.178054      0                  163\n",
        "TCGA-13-1408  4.700480      0                  180\n",
        "TCGA-24-1425  3.401197      0                  181\n",
        "TCGA-13-1404  3.806662      0                  201\n",
        "TCGA-24-1469  4.762174      0                  277\n",
        "TCGA-25-2042  4.276666      0                  396\n",
        "TCGA-24-2280  4.787492      0                  534\n",
        "TCGA-09-2051  4.394449      0                  583\n",
        "TCGA-13-1494  3.761200      0                  693\n",
        "TCGA-20-0990  4.174387      0                  789\n",
        "TCGA-13-0913  4.276666      0                  871\n",
        "TCGA-04-1361  3.912023      0                  926\n",
        "TCGA-13-0762  4.189655      0                  981\n",
        "TCGA-24-2281  3.891820      0                 1356\n",
        "TCGA-04-1336  3.970292      0                 1495\n",
        "TCGA-29-2427  3.891820      0                 1581\n",
        "TCGA-04-1347  4.553877      0                 1918\n",
        "TCGA-61-2094  3.784190      0                 2182\n",
        "TCGA-23-1118  4.127134      0                 2616\n",
        "TCGA-13-0885  4.844187      0                 2780\n",
        "TCGA-10-0934  3.135494      1                  110\n",
        "TCGA-13-0714  4.094345      1                  110\n",
        "TCGA-24-0980  3.367296      1                  145\n",
        "TCGA-24-1565  3.258097      1                  145\n",
        "TCGA-24-0982  3.526361      1                  152\n",
        "TCGA-04-1362  4.007333      1                  223\n",
        "TCGA-24-1434  3.555348      1                  337\n",
        "TCGA-25-1313  4.727388      1                  394\n",
        "TCGA-24-1616  3.912023      1                  405\n",
        "TCGA-13-0893  4.094345      1                  461\n",
        "TCGA-13-1491  3.526361      1                  508\n",
        "TCGA-25-2400  4.077537      1                  577"
       ]
      }
     ],
     "prompt_number": 73
    },
    {
     "cell_type": "code",
     "collapsed": false,
     "input": [
      "cancer.meta_matrix.ix['REACTOME_SIGNALING_BY_ROBO_RECEPTOR'].sum()"
     ],
     "language": "python",
     "metadata": {},
     "outputs": [
      {
       "output_type": "pyout",
       "prompt_number": 43,
       "text": [
        "36.0"
       ]
      }
     ],
     "prompt_number": 43
    },
    {
     "cell_type": "code",
     "collapsed": false,
     "input": [
      "vals.minor_xs('Pr(>|z|)').T.sort(columns='pathway:rate').head(20)"
     ],
     "language": "python",
     "metadata": {},
     "outputs": [
      {
       "output_type": "pyout",
       "prompt_number": 40,
       "text": [
        "                                                                       pathway       age      rate  pathway:age  pathway:rate\n",
        "REACTOME_SIGNALING_BY_ROBO_RECEPTOR                                   0.097888  0.367520  0.000211     0.297310      0.000366\n",
        "REACTOME_P130CAS_LINKAGE_TO_MAPK_SIGNALING_FOR_INTEGRINS              0.000460  0.427896  0.000489     0.106827      0.000806\n",
        "REACTOME_GRB2_SOS_PROVIDES_LINKAGE_TO_MAPK_SIGNALING_FOR_INTERGRINS_  0.002083  0.678072  0.002835     0.455355      0.004284\n",
        "REACTOME_PYRIMIDINE_CATABOLISM                                        0.838090  0.357189  0.004304     0.013802      0.005097\n",
        "KEGG_GLUTATHIONE_METABOLISM                                           0.082704  0.940335  0.003999     0.971105      0.011106\n",
        "BIOCARTA_CD40_PATHWAY                                                 0.301156  0.799278  0.003384     0.851834      0.013034\n",
        "REACTOME_CYTOSOLIC_SULFONATION_OF_SMALL_MOLECULES                     0.000642  0.070600  0.000547     0.038157      0.013660\n",
        "KEGG_VEGF_SIGNALING_PATHWAY                                           0.576253  0.670188  0.006377     0.764477      0.014013\n",
        "REACTOME_NOTCH_HLH_TRANSCRIPTION_PATHWAY                              0.003619  0.727998  0.003120     0.325876      0.016019\n",
        "KEGG_NITROGEN_METABOLISM                                              0.601821  0.725989  0.008564     0.822132      0.016698\n",
        "REACTOME_ADHERENS_JUNCTIONS_INTERACTIONS                              0.057881  0.530388  0.005289     0.492215      0.018628\n",
        "KEGG_GLYOXYLATE_AND_DICARBOXYLATE_METABOLISM                          0.793089  0.960521  0.003947     0.242516      0.018882\n",
        "REACTOME_CELL_CELL_ADHESION_SYSTEMS                                   0.011932  0.622113  0.003994     0.926468      0.020989\n",
        "KEGG_METABOLISM_OF_XENOBIOTICS_BY_CYTOCHROME_P450                     0.021697  0.979875  0.221381     0.112925      0.024834\n",
        "REACTOME_REGULATION_OF_ORNITHINE_DECARBOXYLASE                        0.001311  0.805896  0.002647     0.387162      0.025705\n",
        "REACTOME_INTEGRIN_ALPHAIIBBETA3_SIGNALING                             0.023254  0.852623  0.002503     0.566302      0.029004\n",
        "KEGG_GLYCOSAMINOGLYCAN_BIOSYNTHESIS_HEPARAN_SULFATE                   0.555824  0.765491  0.022118     0.475756      0.030035\n",
        "REACTOME_FGFR_LIGAND_BINDING_AND_ACTIVATION                           0.683479  0.923551  0.005369     0.678308      0.030410\n",
        "BIOCARTA_SET_PATHWAY                                                  0.671561  0.530511  0.001079     0.001182      0.032990\n",
        "REACTOME_FACILITATIVE_NA_INDEPENDENT_GLUCOSE_TRANSPORTERS             0.163366  0.496264  0.015483     0.142395      0.033604"
       ]
      }
     ],
     "prompt_number": 40
    },
    {
     "cell_type": "code",
     "collapsed": false,
     "input": [],
     "language": "python",
     "metadata": {},
     "outputs": []
    },
    {
     "cell_type": "code",
     "collapsed": false,
     "input": [
      "get_cox_ph(clinical, cancer.meta_matrix.ix[p].clip_upper(1), ['age','rate'], \n",
      "           time_var, event_var, return_val='all')"
     ],
     "language": "python",
     "metadata": {},
     "outputs": [
      {
       "output_type": "stream",
       "stream": "stdout",
       "text": [
        "      test         df     pvalue \n",
        "14.5439738  4.0000000  0.0057468 \n",
        "\n"
       ]
      },
      {
       "html": [
        "<div style=\"max-height:1000px;max-width:1500px;overflow:auto;\">\n",
        "<table border=\"1\" class=\"dataframe\">\n",
        "  <thead>\n",
        "    <tr style=\"text-align: right;\">\n",
        "      <th></th>\n",
        "      <th>coef</th>\n",
        "      <th>exp(coef)</th>\n",
        "      <th>se(coef)</th>\n",
        "      <th>z</th>\n",
        "      <th>Pr(>|z|)</th>\n",
        "    </tr>\n",
        "  </thead>\n",
        "  <tbody>\n",
        "    <tr>\n",
        "      <td><strong>pathway</strong></td>\n",
        "      <td> 1.543760</td>\n",
        "      <td> 4.682164</td>\n",
        "      <td> 0.445852</td>\n",
        "      <td> 3.462498</td>\n",
        "      <td> 0.000535</td>\n",
        "    </tr>\n",
        "    <tr>\n",
        "      <td><strong>rate</strong></td>\n",
        "      <td>-0.464416</td>\n",
        "      <td> 0.628502</td>\n",
        "      <td> 0.155096</td>\n",
        "      <td>-2.994380</td>\n",
        "      <td> 0.002750</td>\n",
        "    </tr>\n",
        "    <tr>\n",
        "      <td><strong>age</strong></td>\n",
        "      <td>-0.003382</td>\n",
        "      <td> 0.996624</td>\n",
        "      <td> 0.008157</td>\n",
        "      <td>-0.414572</td>\n",
        "      <td> 0.678455</td>\n",
        "    </tr>\n",
        "    <tr>\n",
        "      <td><strong>pathway:rate</strong></td>\n",
        "      <td>-1.060556</td>\n",
        "      <td> 0.346263</td>\n",
        "      <td> 0.634774</td>\n",
        "      <td>-1.670762</td>\n",
        "      <td> 0.094769</td>\n",
        "    </tr>\n",
        "  </tbody>\n",
        "</table>\n",
        "</div>"
       ],
       "output_type": "pyout",
       "prompt_number": 109,
       "text": [
        "                  coef  exp(coef)  se(coef)         z  Pr(>|z|)\n",
        "pathway       1.543760   4.682164  0.445852  3.462498  0.000535\n",
        "rate         -0.464416   0.628502  0.155096 -2.994380  0.002750\n",
        "age          -0.003382   0.996624  0.008157 -0.414572  0.678455\n",
        "pathway:rate -1.060556   0.346263  0.634774 -1.670762  0.094769"
       ]
      }
     ],
     "prompt_number": 109
    },
    {
     "cell_type": "code",
     "collapsed": false,
     "input": [
      "s = get_cox_ph(clinical, cancer.meta_matrix.ix[p].clip_upper(1), ['age','rate'], \n",
      "           time_var, event_var, return_val='all')\n",
      "dict(base.summary(s).iteritems())['logtest']"
     ],
     "language": "python",
     "metadata": {},
     "outputs": [],
     "prompt_number": 60
    },
    {
     "cell_type": "code",
     "collapsed": false,
     "input": [
      "get_cox_ph(clinical, cancer.meta_matrix.ix[p].clip_upper(1), ['age','rate'], \n",
      "           time_var, event_var, return_val='all')"
     ],
     "language": "python",
     "metadata": {},
     "outputs": [
      {
       "html": [
        "<div style=\"max-height:1000px;max-width:1500px;overflow:auto;\">\n",
        "<table border=\"1\" class=\"dataframe\">\n",
        "  <thead>\n",
        "    <tr style=\"text-align: right;\">\n",
        "      <th></th>\n",
        "      <th>coef</th>\n",
        "      <th>exp(coef)</th>\n",
        "      <th>se(coef)</th>\n",
        "      <th>z</th>\n",
        "      <th>Pr(>|z|)</th>\n",
        "    </tr>\n",
        "  </thead>\n",
        "  <tbody>\n",
        "    <tr>\n",
        "      <td><strong>pathway</strong></td>\n",
        "      <td> 1.020470</td>\n",
        "      <td> 2.774500</td>\n",
        "      <td> 0.391874</td>\n",
        "      <td> 2.604081</td>\n",
        "      <td> 0.009212</td>\n",
        "    </tr>\n",
        "    <tr>\n",
        "      <td><strong>age</strong></td>\n",
        "      <td>-0.002670</td>\n",
        "      <td> 0.997333</td>\n",
        "      <td> 0.008181</td>\n",
        "      <td>-0.326389</td>\n",
        "      <td> 0.744130</td>\n",
        "    </tr>\n",
        "    <tr>\n",
        "      <td><strong>rate</strong></td>\n",
        "      <td>-0.475542</td>\n",
        "      <td> 0.621548</td>\n",
        "      <td> 0.154454</td>\n",
        "      <td>-3.078864</td>\n",
        "      <td> 0.002078</td>\n",
        "    </tr>\n",
        "  </tbody>\n",
        "</table>\n",
        "</div>"
       ],
       "output_type": "pyout",
       "prompt_number": 47,
       "text": [
        "             coef  exp(coef)  se(coef)         z  Pr(>|z|)\n",
        "pathway  1.020470   2.774500  0.391874  2.604081  0.009212\n",
        "age     -0.002670   0.997333  0.008181 -0.326389  0.744130\n",
        "rate    -0.475542   0.621548  0.154454 -3.078864  0.002078"
       ]
      }
     ],
     "prompt_number": 47
    },
    {
     "cell_type": "code",
     "collapsed": false,
     "input": [
      "get_cox_ph(clinical, cancer.clinical.rate, ['age'], \n",
      "           time_var, event_var, return_val='all')"
     ],
     "language": "python",
     "metadata": {},
     "outputs": [
      {
       "html": [
        "<div style=\"max-height:1000px;max-width:1500px;overflow:auto;\">\n",
        "<table border=\"1\" class=\"dataframe\">\n",
        "  <thead>\n",
        "    <tr style=\"text-align: right;\">\n",
        "      <th></th>\n",
        "      <th>coef</th>\n",
        "      <th>exp(coef)</th>\n",
        "      <th>se(coef)</th>\n",
        "      <th>z</th>\n",
        "      <th>Pr(>|z|)</th>\n",
        "    </tr>\n",
        "  </thead>\n",
        "  <tbody>\n",
        "    <tr>\n",
        "      <td><strong>pathway</strong></td>\n",
        "      <td>-0.370947</td>\n",
        "      <td> 0.690081</td>\n",
        "      <td> 0.152158</td>\n",
        "      <td>-2.437909</td>\n",
        "      <td> 0.014773</td>\n",
        "    </tr>\n",
        "    <tr>\n",
        "      <td><strong>age</strong></td>\n",
        "      <td> 0.002615</td>\n",
        "      <td> 1.002619</td>\n",
        "      <td> 0.007833</td>\n",
        "      <td> 0.333894</td>\n",
        "      <td> 0.738460</td>\n",
        "    </tr>\n",
        "    <tr>\n",
        "      <td><strong>pathway:age</strong></td>\n",
        "      <td>-0.004675</td>\n",
        "      <td> 0.995336</td>\n",
        "      <td> 0.013818</td>\n",
        "      <td>-0.338312</td>\n",
        "      <td> 0.735128</td>\n",
        "    </tr>\n",
        "  </tbody>\n",
        "</table>\n",
        "</div>"
       ],
       "output_type": "pyout",
       "prompt_number": 44,
       "text": [
        "                 coef  exp(coef)  se(coef)         z  Pr(>|z|)\n",
        "pathway     -0.370947   0.690081  0.152158 -2.437909  0.014773\n",
        "age          0.002615   1.002619  0.007833  0.333894  0.738460\n",
        "pathway:age -0.004675   0.995336  0.013818 -0.338312  0.735128"
       ]
      }
     ],
     "prompt_number": 44
    },
    {
     "cell_type": "code",
     "collapsed": false,
     "input": [
      "a,b = match_series(cancer.clinical.rate.dropna(), cancer.clinical.event_free_survival)\n",
      "scatter(a,b, c=cancer.clinical.event.ix[a.index])\n",
      "yscale('log')"
     ],
     "language": "python",
     "metadata": {},
     "outputs": [
      {
       "output_type": "display_data",
       "png": "[encoded data removed]"
      }
     ],
     "prompt_number": 42
    },
    {
     "cell_type": "code",
     "collapsed": false,
     "input": [
      "cancer.q_pathways"
     ],
     "language": "python",
     "metadata": {},
     "outputs": [
      {
       "output_type": "pyout",
       "prompt_number": 9,
       "text": [
        "<class 'pandas.core.frame.DataFrame'>\n",
        "Index: 804 entries, BIOCARTA_41BB_PATHWAY to WNT_SIGNALING\n",
        "Data columns:\n",
        "tumor_t1t2               804  non-null values\n",
        "new_tumor                804  non-null values\n",
        "event_free_survival      784  non-null values\n",
        "gender                   804  non-null values\n",
        "age                      791  non-null values\n",
        "rate                     795  non-null values\n",
        "metastatic_recurrence    787  non-null values\n",
        "histo_g1g2               804  non-null values\n",
        "karnofsky_performance    768  non-null values\n",
        "survival                 788  non-null values\n",
        "neo_status               789  non-null values\n",
        "dtypes: float64(11)"
       ]
      }
     ],
     "prompt_number": 9
    },
    {
     "cell_type": "code",
     "collapsed": false,
     "input": [],
     "language": "python",
     "metadata": {},
     "outputs": []
    }
   ],
   "metadata": {}
  }
 ]
}