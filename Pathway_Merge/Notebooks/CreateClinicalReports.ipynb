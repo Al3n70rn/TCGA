{
 "metadata": {
  "name": "CreateClinicalReports"
 },
 "nbformat": 3,
 "nbformat_minor": 0,
 "worksheets": [
  {
   "cells": [
    {
     "cell_type": "code",
     "collapsed": false,
     "input": [
      "cd ../src/"
     ],
     "language": "python",
     "metadata": {},
     "outputs": [
      {
       "output_type": "stream",
       "stream": "stdout",
       "text": [
        "/cellar/users/agross/TCGA_Code/TCGA/Pathway_Merge/src\n"
       ]
      }
     ],
     "prompt_number": 1
    },
    {
     "cell_type": "code",
     "collapsed": false,
     "input": [
      "import pandas as pandas\n",
      "from Data.Pathways import read_in_pathways\n",
      "from Processing.Clinical import ClinicalObject\n",
      "\n",
      "pandas.set_printoptions(max_columns=300)"
     ],
     "language": "python",
     "metadata": {},
     "outputs": [],
     "prompt_number": 2
    },
    {
     "cell_type": "code",
     "collapsed": false,
     "input": [
      "firehose_path = '/cellar/users/agross/Data/TCGA/'\n",
      "date = '20120825'\n",
      "date_ = '_'.join([date[:4], date[4:6], date[6:8]])\n",
      "pathway_file = '/cellar/users/agross/Data/GeneSets/c2.cp.v3.0.symbols_edit.csv'\n",
      "gene_sets, gene_lookup = read_in_pathways(pathway_file)"
     ],
     "language": "python",
     "metadata": {},
     "outputs": [],
     "prompt_number": 3
    },
    {
     "cell_type": "code",
     "collapsed": false,
     "input": [
      "import os as os\n",
      "from joblib import Parallel, delayed\n",
      "from Processing.Clinical import ClinicalObject"
     ],
     "language": "python",
     "metadata": {},
     "outputs": [],
     "prompt_number": 4
    },
    {
     "cell_type": "code",
     "collapsed": false,
     "input": [
      "def get_cancer(cancer):\n",
      "    try:\n",
      "        data_path = firehose_path + 'analyses__' + date_ + '/' + cancer + '/' + date + '/'\n",
      "        cancer_obj = ClinicalObject(cancer, data_path, gene_sets, data_type='expression')\n",
      "        cancer_obj.filter_bad_pathways(gene_lookup)\n",
      "        return (cancer, cancer_obj)\n",
      "    except:\n",
      "        return (cancer, cancer + ' is broken.')"
     ],
     "language": "python",
     "metadata": {},
     "outputs": [],
     "prompt_number": 29
    },
    {
     "cell_type": "code",
     "collapsed": false,
     "input": [
      "r = Parallel(n_jobs=1, verbose=5)(delayed(get_cancer)(cancer) for cancer in \n",
      "                                   os.listdir(firehose_path + 'analyses__' + date_))"
     ],
     "language": "python",
     "metadata": {},
     "outputs": [],
     "prompt_number": "*"
    },
    {
     "cell_type": "code",
     "collapsed": false,
     "input": [
      "clinical = dict(((k,v) for k,v in r if type(v) != str and len(v.q_pathways) > 0))"
     ],
     "language": "python",
     "metadata": {},
     "outputs": [],
     "prompt_number": "*"
    },
    {
     "cell_type": "code",
     "collapsed": false,
     "input": [
      "from Reports.Reports import create_clinical_report\n",
      "for i,cancer in enumerate(clinical.values()):\n",
      "    cancer.patients = cancer.clinical[['days','censored']].dropna().index\n",
      "    create_clinical_report(cancer, clinical.values()[(i + 1) % len(clinical)], \n",
      "                           clinical.values()[(i - 1) % len(clinical)], gene_sets,\n",
      "                           cancer.data_type + '_cov_age_rate')"
     ],
     "language": "python",
     "metadata": {},
     "outputs": [],
     "prompt_number": "*"
    },
    {
     "cell_type": "code",
     "collapsed": false,
     "input": [],
     "language": "python",
     "metadata": {},
     "outputs": []
    }
   ],
   "metadata": {}
  }
 ]
}