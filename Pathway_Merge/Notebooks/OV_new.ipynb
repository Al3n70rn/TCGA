{
 "metadata": {
  "name": "OV_new"
 },
 "nbformat": 3,
 "nbformat_minor": 0,
 "worksheets": [
  {
   "cells": [
    {
     "cell_type": "code",
     "collapsed": false,
     "input": [
      "cd ../src"
     ],
     "language": "python",
     "metadata": {},
     "outputs": [
      {
       "output_type": "stream",
       "stream": "stdout",
       "text": [
        "/cellar/users/agross/TCGA_Code/TCGA/Pathway_Merge/src\n"
       ]
      }
     ],
     "prompt_number": 1
    },
    {
     "cell_type": "code",
     "collapsed": false,
     "input": [
      "import pandas as pd"
     ],
     "language": "python",
     "metadata": {},
     "outputs": [],
     "prompt_number": 2
    },
    {
     "cell_type": "code",
     "collapsed": false,
     "input": [
      "last_maf = pd.read_table('/cellar/users/agross/Desktop/latestmaf.txt', index_col=0)\n",
      "last_maf.index = pd.MultiIndex.from_tuples([s.split('_') for s in last_maf.index])"
     ],
     "language": "python",
     "metadata": {},
     "outputs": [],
     "prompt_number": 3
    },
    {
     "cell_type": "code",
     "collapsed": false,
     "input": [
      "ov = last_maf.select(lambda s: s[1].startswith('OV'))"
     ],
     "language": "python",
     "metadata": {},
     "outputs": [],
     "prompt_number": 5
    },
    {
     "cell_type": "code",
     "collapsed": false,
     "input": [
      "maf = {}\n",
      "for f,v in ov.iterrows():\n",
      "    if f[3] == 'Cont.Level':\n",
      "        continue\n",
      "    try:\n",
      "        maf[f] = pd.read_table(v['MAF_FILE_URL'], skiprows=[0], index_col=False)\n",
      "    except:\n",
      "        maf[f] = pd.read_table(v['MAF_FILE_URL'], skiprows=[0,1], index_col=False)\n",
      "maf_d = maf"
     ],
     "language": "python",
     "metadata": {},
     "outputs": [],
     "prompt_number": 6
    },
    {
     "cell_type": "code",
     "collapsed": false,
     "input": [
      "maf = pd.concat(maf)"
     ],
     "language": "python",
     "metadata": {},
     "outputs": [],
     "prompt_number": 7
    },
    {
     "cell_type": "code",
     "collapsed": false,
     "input": [
      "hit_mat = maf.set_index(['Tumor_Sample_Barcode', 'Hugo_Symbol'])['Variant_Classification']\n",
      "hit_mat = (hit_mat != 'Silent').groupby(level=[0,1]).sum().unstack()\n",
      "hit_mat = hit_mat.ix[:,hit_mat.sum() > 0]\n",
      "#del hit_mat['Unknown']\n",
      "hit_mat.index =  pd.MultiIndex.from_tuples([(i[:12], i[13:15]) for i in hit_mat.index])\n",
      "hit_mat = hit_mat.xs('01', level=1)\n",
      "hit_mat = hit_mat.fillna(0).T"
     ],
     "language": "python",
     "metadata": {},
     "outputs": [],
     "prompt_number": 8
    },
    {
     "cell_type": "code",
     "collapsed": false,
     "input": [
      "import os as os\n",
      "import pickle as pickle\n",
      "import pandas as pd\n",
      "\n",
      "from Reports.NotebookTools import *\n",
      "from Processing.Tests import *\n",
      "from Reports.Figures import *\n",
      "\n",
      "pd.set_option('precision',3)"
     ],
     "language": "python",
     "metadata": {},
     "outputs": [],
     "prompt_number": 10
    },
    {
     "cell_type": "code",
     "collapsed": false,
     "input": [
      "result_path = '/scratch/TCGA/Firehose__2012_01_16/ucsd_analyses'\n",
      "run = sorted(os.listdir(result_path))[0]\n",
      "run = pickle.load(open('/'.join([result_path, run, 'RunObject.p']), 'rb'))"
     ],
     "language": "python",
     "metadata": {},
     "outputs": [],
     "prompt_number": 11
    },
    {
     "cell_type": "code",
     "collapsed": false,
     "input": [
      "cancer = run.load_cancer('OV')\n",
      "clinical = cancer.load_clinical()"
     ],
     "language": "python",
     "metadata": {},
     "outputs": [],
     "prompt_number": 12
    },
    {
     "cell_type": "code",
     "collapsed": false,
     "input": [
      "dd = cancer.load_data('MAF')\n",
      "dd.uncompress()"
     ],
     "language": "python",
     "metadata": {},
     "outputs": [],
     "prompt_number": 13
    },
    {
     "cell_type": "code",
     "collapsed": false,
     "input": [
      "surv = clinical.survival.event_free_survival_5y"
     ],
     "language": "python",
     "metadata": {},
     "outputs": [],
     "prompt_number": 14
    },
    {
     "cell_type": "code",
     "collapsed": false,
     "input": [
      "from Data.Containers import Dataset\n",
      "mut = Dataset(cancer, run, 'MAF')\n",
      "mut.df = hit_mat\n",
      "hit_matrix = mut.df.fillna(0).clip_upper(1.)\n",
      "meta_matrix = DataFrame({p: mut.df.ix[g].sum() for p,g in \n",
      "                         run.gene_sets.iteritems()}).T\n",
      "meta_matrix = meta_matrix.fillna(0).clip_upper(1.)\n",
      "\n",
      "def size_filter(s):\n",
      "    '''Make sure features covers a minimum number of patients'''\n",
      "    min_p = run.parameters['min_patients']\n",
      "    return s.sum(1).isin(range(min_p, meta_matrix.shape[1] - min_p))\n",
      "\n",
      "def is_one_gene(p):\n",
      "    '''Test to see if most mutations are due to single gene'''\n",
      "    counts = hit_matrix.ix[run.gene_sets[p]].sum(1).dropna().order()\n",
      "    with_top = hit_matrix.ix[run.gene_sets[p]].sum().clip_upper(1).sum()\n",
      "    without = hit_matrix.ix[run.gene_sets[p] - \n",
      "                            {counts.idxmax()}].sum().clip_upper(1).sum()\n",
      "    return ((with_top - without) / without) > .5\n",
      "\n",
      "meta_matrix = meta_matrix[size_filter(meta_matrix)] \n",
      "s = Series({p: is_one_gene(p) for p in meta_matrix.index})\n",
      "meta_matrix = meta_matrix.ix[s==False]\n",
      "hit_matrix = hit_matrix[size_filter(hit_matrix)] \n",
      "\n",
      "'''Add passing features to the Data Object''' \n",
      "mut.features = meta_matrix.append(hit_matrix)"
     ],
     "language": "python",
     "metadata": {},
     "outputs": [],
     "prompt_number": 156
    },
    {
     "cell_type": "code",
     "collapsed": false,
     "input": [
      "pd.crosstab(mut.features.ix['BIOCARTA_RARRXR_PATHWAY'], hit_mat.ix['TP53']>0)"
     ],
     "language": "python",
     "metadata": {},
     "outputs": [
      {
       "html": [
        "<div style=\"max-height:1000px;max-width:1500px;overflow:auto;\">\n",
        "<table border=\"1\" class=\"dataframe\">\n",
        "  <thead>\n",
        "    <tr style=\"text-align: right;\">\n",
        "      <th>TP53</th>\n",
        "      <th>False</th>\n",
        "      <th>True</th>\n",
        "    </tr>\n",
        "    <tr>\n",
        "      <th>BIOCARTA_RARRXR_PATHWAY</th>\n",
        "      <th></th>\n",
        "      <th></th>\n",
        "    </tr>\n",
        "  </thead>\n",
        "  <tbody>\n",
        "    <tr>\n",
        "      <td><strong>0</strong></td>\n",
        "      <td> 79</td>\n",
        "      <td> 359</td>\n",
        "    </tr>\n",
        "    <tr>\n",
        "      <td><strong>1</strong></td>\n",
        "      <td>  0</td>\n",
        "      <td>  23</td>\n",
        "    </tr>\n",
        "  </tbody>\n",
        "</table>\n",
        "</div>"
       ],
       "output_type": "pyout",
       "prompt_number": 166,
       "text": [
        "TP53                     False  True \n",
        "BIOCARTA_RARRXR_PATHWAY              \n",
        "0                           79    359\n",
        "1                            0     23"
       ]
      }
     ],
     "prompt_number": 166
    },
    {
     "cell_type": "code",
     "collapsed": false,
     "input": [
      "draw_survival_curves(mut.features.ix['REACTOME_G2_M_TRANSITION'], surv, hit_mat.ix['TP53']>0, show=True, ann='p')"
     ],
     "language": "python",
     "metadata": {},
     "outputs": [
      {
       "html": [
        "<img src='data:image/png;base64,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'>"
       ],
       "output_type": "pyout",
       "prompt_number": 172,
       "text": [
        "<Reports.Figures.Show at 0xfec8990>"
       ]
      }
     ],
     "prompt_number": 172
    },
    {
     "cell_type": "code",
     "collapsed": false,
     "input": [
      "new = mut.features.columns.diff(dd.features.columns)"
     ],
     "language": "python",
     "metadata": {},
     "outputs": [],
     "prompt_number": 190
    },
    {
     "cell_type": "code",
     "collapsed": false,
     "input": [
      "pd.crosstab(clinical.clinical.tumor_stage, mut.features.ix['REACTOME_G2_M_TRANSITION'])"
     ],
     "language": "python",
     "metadata": {},
     "outputs": [
      {
       "html": [
        "<div style=\"max-height:1000px;max-width:1500px;overflow:auto;\">\n",
        "<table border=\"1\" class=\"dataframe\">\n",
        "  <thead>\n",
        "    <tr style=\"text-align: right;\">\n",
        "      <th>REACTOME_G2_M_TRANSITION</th>\n",
        "      <th>0.0</th>\n",
        "      <th>1.0</th>\n",
        "    </tr>\n",
        "    <tr>\n",
        "      <th>tumor_stage</th>\n",
        "      <th></th>\n",
        "      <th></th>\n",
        "    </tr>\n",
        "  </thead>\n",
        "  <tbody>\n",
        "    <tr>\n",
        "      <td><strong>i</strong></td>\n",
        "      <td>   4</td>\n",
        "      <td>  2</td>\n",
        "    </tr>\n",
        "    <tr>\n",
        "      <td><strong>ii</strong></td>\n",
        "      <td>  18</td>\n",
        "      <td>  4</td>\n",
        "    </tr>\n",
        "    <tr>\n",
        "      <td><strong>iii</strong></td>\n",
        "      <td> 277</td>\n",
        "      <td> 86</td>\n",
        "    </tr>\n",
        "    <tr>\n",
        "      <td><strong>iv</strong></td>\n",
        "      <td>  52</td>\n",
        "      <td> 15</td>\n",
        "    </tr>\n",
        "  </tbody>\n",
        "</table>\n",
        "</div>"
       ],
       "output_type": "pyout",
       "prompt_number": 221,
       "text": [
        "REACTOME_G2_M_TRANSITION    0   1\n",
        "tumor_stage                      \n",
        "i                           4   2\n",
        "ii                         18   4\n",
        "iii                       277  86\n",
        "iv                         52  15"
       ]
      }
     ],
     "prompt_number": 221
    },
    {
     "cell_type": "code",
     "collapsed": false,
     "input": [
      "draw_survival_curves(clinical.clinical.tumor_stage.dropna(), surv, show=True, show_legend=False)"
     ],
     "language": "python",
     "metadata": {},
     "outputs": [
      {
       "html": [
        "<img src='data:image/png;base64,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'>"
       ],
       "output_type": "pyout",
       "prompt_number": 226,
       "text": [
        "<Reports.Figures.Show at 0xd6292d0>"
       ]
      }
     ],
     "prompt_number": 226
    },
    {
     "cell_type": "code",
     "collapsed": false,
     "input": [
      "draw_survival_curves(mut.features.ix['REACTOME_G2_M_TRANSITION'], surv, clinical.clinical.tumor_stage.isin(['i','ii','iii']), show=True, ann='p')"
     ],
     "language": "python",
     "metadata": {},
     "outputs": [
      {
       "html": [
        "<img src='data:image/png;base64,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'>"
       ],
       "output_type": "pyout",
       "prompt_number": 220,
       "text": [
        "<Reports.Figures.Show at 0xdd72790>"
       ]
      }
     ],
     "prompt_number": 220
    },
    {
     "cell_type": "code",
     "collapsed": false,
     "input": [
      "mut.features.ix['BIOCARTA_TGFB_PATHWAY'].value_counts()"
     ],
     "language": "python",
     "metadata": {},
     "outputs": [
      {
       "output_type": "pyout",
       "prompt_number": 155,
       "text": [
        "0    292\n",
        "1     24"
       ]
      }
     ],
     "prompt_number": 155
    },
    {
     "cell_type": "code",
     "collapsed": false,
     "input": [
      "hit_mat.sum().order()"
     ],
     "language": "python",
     "metadata": {},
     "outputs": [
      {
       "output_type": "pyout",
       "prompt_number": 104,
       "text": [
        "2-Mar       1\n",
        "AADACL4     1\n",
        "AARS        1\n",
        "AASDHPPT    1\n",
        "ABCA11P     1\n",
        "ABCA7       1\n",
        "ABCB10      1\n",
        "ABCB7       1\n",
        "ABCC2       1\n",
        "ABCC3       1\n",
        "ABCC4       1\n",
        "ABCC6P1     1\n",
        "ABCD3       1\n",
        "ABCF2       1\n",
        "ABHD10      1\n",
        "...\n",
        "DNAH5     17\n",
        "FLG       18\n",
        "HYDIN     18\n",
        "MUC17     19\n",
        "BRCA1     20\n",
        "FAT3      21\n",
        "RYR2      21\n",
        "MUC16     22\n",
        "DST       24\n",
        "HMCN1     24\n",
        "NF1       25\n",
        "CSMD3     26\n",
        "USH2A     27\n",
        "TTN      105\n",
        "TP53     389\n",
        "Length: 10946"
       ]
      }
     ],
     "prompt_number": 104
    },
    {
     "cell_type": "code",
     "collapsed": false,
     "input": [],
     "language": "python",
     "metadata": {},
     "outputs": []
    }
   ],
   "metadata": {}
  }
 ]
}