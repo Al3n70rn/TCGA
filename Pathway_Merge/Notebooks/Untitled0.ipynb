{
 "metadata": {
  "name": "Untitled0"
 },
 "nbformat": 3,
 "nbformat_minor": 0,
 "worksheets": [
  {
   "cells": [
    {
     "cell_type": "code",
     "collapsed": false,
     "input": [
      "cd ../src/"
     ],
     "language": "python",
     "metadata": {},
     "outputs": [
      {
       "output_type": "stream",
       "stream": "stdout",
       "text": [
        "/cellar/users/agross/TCGA_Code/TCGA/Pathway_Merge/src\n"
       ]
      }
     ],
     "prompt_number": 1
    },
    {
     "cell_type": "code",
     "collapsed": false,
     "input": [
      "import pandas as pandas\n",
      "from Data.Pathways import read_in_pathways\n",
      "from Processing.Clinical import ClinicalObject\n",
      "import pickle as pickle\n",
      "import os as os\n",
      "\n",
      "pandas.set_printoptions(max_columns=300)"
     ],
     "language": "python",
     "metadata": {},
     "outputs": [],
     "prompt_number": 2
    },
    {
     "cell_type": "code",
     "collapsed": false,
     "input": [
      "firehose_path = '/cellar/users/agross/Data/TCGA/'\n",
      "date = '20120913'\n",
      "date_ = '_'.join([date[:4], date[4:6], date[6:8]])\n",
      "pathway_file = '/cellar/users/agross/Data/GeneSets/c2.cp.v3.0.symbols_edit.csv'\n",
      "gene_sets, gene_lookup = read_in_pathways(pathway_file)\n",
      "cancers = os.listdir(firehose_path + 'analyses__' + date_)"
     ],
     "language": "python",
     "metadata": {},
     "outputs": [],
     "prompt_number": 3
    },
    {
     "cell_type": "code",
     "collapsed": false,
     "input": [
      "data_type = 'mutation'\n",
      "report_ext = 'cov_age_rate'"
     ],
     "language": "python",
     "metadata": {},
     "outputs": [],
     "prompt_number": 4
    },
    {
     "cell_type": "code",
     "collapsed": false,
     "input": [
      "cancer = 'BRCA'\n",
      "data_path = firehose_path + 'analyses__' + date_ + '/' + cancer + '/' + date + '/'\n",
      "clinical_obj = data_path + data_type + '_' + report_ext + '/ClinicalObject.p'\n",
      "cancer = pickle.load(open(clinical_obj, 'rb'))"
     ],
     "language": "python",
     "metadata": {},
     "outputs": [],
     "prompt_number": 5
    },
    {
     "cell_type": "code",
     "collapsed": false,
     "input": [
      "from Processing.Clinical import *"
     ],
     "language": "python",
     "metadata": {},
     "outputs": [],
     "prompt_number": 6
    },
    {
     "cell_type": "code",
     "collapsed": false,
     "input": [
      "from pandas import read_csv, read_table"
     ],
     "language": "python",
     "metadata": {},
     "outputs": [],
     "prompt_number": 7
    },
    {
     "cell_type": "code",
     "collapsed": false,
     "input": [
      "surv_cov = ['age','rate']\n",
      "stddata_path = data_path.replace('analyses', 'stddata')"
     ],
     "language": "python",
     "metadata": {},
     "outputs": [],
     "prompt_number": 8
    },
    {
     "cell_type": "code",
     "collapsed": false,
     "input": [
      "clinical = read_csv(stddata_path + 'Clinical/compiled.csv', index_col=0)\n",
      "clinical = clinical.rename(index=str.upper)\n",
      "clinical['age']  = clinical['daystobirth'] / -365.\n",
      "clinical['days'] = clinical[['daystolastfollowup','daystodeath']].astype(float).max(1)\n",
      "clinical['censored'] = (clinical.vitalstatus == 'deceased').astype(int)\n",
      "clinical['new_tumor'] = (clinical['new_tumor'] == 'yes').astype(int)\n",
      "clinical['event'] = (clinical['censored'] + clinical['new_tumor']).clip_upper(1)\n",
      "clinical['triple_neg'] = (clinical[['ER','PR','her2']] == 'negative').sum(1) == 3\n",
      "clinical['triple_pos'] = (clinical[['ER','PR','her2']] == 'positive').sum(1) == 3\n",
      "clinical['her2_pos'] = clinical.her2 == 'positive'\n",
      "clinical['PR_pos'] = clinical.PR == 'positive'\n",
      "clinical['ER_pos'] = clinical.ER == 'positive'\n",
      "\n",
      "try:\n",
      "    meth_age, amar = get_age_signal(stddata_path, clinical)\n",
      "    clinical['meth_age'] = meth_age\n",
      "    clinical['AMAR'] = amar\n",
      "except:\n",
      "    pass  #Probably because there is not a 450k chip for the cancer"
     ],
     "language": "python",
     "metadata": {},
     "outputs": [],
     "prompt_number": 9
    },
    {
     "cell_type": "code",
     "collapsed": false,
     "input": [
      "patients = array(clinical[['days','censored']].dropna().index)\n",
      "stddata_path = data_path.replace('analyses', 'stddata')"
     ],
     "language": "python",
     "metadata": {},
     "outputs": [],
     "prompt_number": 10
    },
    {
     "cell_type": "code",
     "collapsed": false,
     "input": [],
     "language": "python",
     "metadata": {},
     "outputs": []
    }
   ],
   "metadata": {}
  }
 ]
}