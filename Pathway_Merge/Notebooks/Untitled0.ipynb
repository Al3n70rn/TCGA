{
 "metadata": {
  "name": "Untitled0"
 },
 "nbformat": 3,
 "nbformat_minor": 0,
 "worksheets": [
  {
   "cells": [
    {
     "cell_type": "code",
     "collapsed": false,
     "input": [
      "cd ../src"
     ],
     "language": "python",
     "metadata": {},
     "outputs": [
      {
       "output_type": "stream",
       "stream": "stdout",
       "text": [
        "/cellar/users/agross/TCGA_Code/TCGA/Pathway_Merge/src\n"
       ]
      }
     ],
     "prompt_number": 1
    },
    {
     "cell_type": "code",
     "collapsed": false,
     "input": [
      "import pandas as pandas\n",
      "from Data.Pathways import read_in_pathways\n",
      "from Processing.Clinical import ClinicalObject\n",
      "import pickle as pickle\n",
      "import os as os\n",
      "\n",
      "pandas.set_printoptions(max_columns=300)"
     ],
     "language": "python",
     "metadata": {},
     "outputs": [],
     "prompt_number": 2
    },
    {
     "cell_type": "code",
     "collapsed": false,
     "input": [
      "firehose_path = '/cellar/users/agross/Data/TCGA/'\n",
      "date = '20120825'\n",
      "date_ = '_'.join([date[:4], date[4:6], date[6:8]])\n",
      "pathway_file = '/cellar/users/agross/Data/GeneSets/c2.cp.v3.0.symbols_edit.csv'\n",
      "gene_sets, gene_lookup = read_in_pathways(pathway_file)\n",
      "cancers = os.listdir(firehose_path + 'analyses__' + date_)"
     ],
     "language": "python",
     "metadata": {},
     "outputs": [],
     "prompt_number": 3
    },
    {
     "cell_type": "code",
     "collapsed": false,
     "input": [
      "cancer = 'LAML'\n",
      "data_type = 'mutation'\n",
      "report_ext = 'cov_age_rate'\n",
      "data_path = firehose_path + 'analyses__' + date_ + '/' + cancer + '/' + date + '/'\n",
      "clinical_obj = data_path + data_type + '_' + report_ext + '/ClinicalObject.p'\n",
      "cancer = pickle.load(open(clinical_obj, 'rb'))"
     ],
     "language": "python",
     "metadata": {},
     "outputs": [],
     "prompt_number": 84
    },
    {
     "cell_type": "code",
     "collapsed": false,
     "input": [
      "from Reports.Reports import *"
     ],
     "language": "python",
     "metadata": {},
     "outputs": [],
     "prompt_number": 85
    },
    {
     "cell_type": "code",
     "collapsed": false,
     "input": [
      "report = nz.newReport('Report for ' + cancer.cancer)\n",
      "report = generic_header(report, cancer, cancer.cancer, cancer.cancer)\n",
      "hit_matrix = cancer.hit_matrix "
     ],
     "language": "python",
     "metadata": {},
     "outputs": [],
     "prompt_number": 86
    },
    {
     "cell_type": "code",
     "collapsed": false,
     "input": [
      "SORT_ORDER = ['survival','AMAR','age','gender','radiation','therapy']\n",
      "roll_df = lambda df, num: df.ix[:,roll(range(df.shape[1]),num)]"
     ],
     "language": "python",
     "metadata": {},
     "outputs": [],
     "prompt_number": 87
    },
    {
     "cell_type": "code",
     "collapsed": false,
     "input": [
      "class NozzleTable(object):\n",
      "    def __init__(self, table_to_show, path, table_file_name, caption, cutoff=.25,\n",
      "                 idx_name='', tests_run=[]):\n",
      "        self.path = path\n",
      "        self.cutoff = cutoff\n",
      "        index_series = Series(dict((i,i) for i in table_to_show.index), name=idx_name)\n",
      "        self.table = table_to_show.join(index_series)\n",
      "        self.table = roll_df(self.table,1)\n",
      "        self.tests_run = tests_run\n",
      "        self.row_pos = dict((g,i+1) for i,g in enumerate(self.table.index))\n",
      "        self.col_pos = dict((c,i+1) for i,c in enumerate(self.table.columns))\n",
      "        \n",
      "        r_table = self.table.copy()\n",
      "        r_table = com.convert_to_r_dataframe(r_table) #@UndefinedVariable\n",
      "        self.nozzle_table = nz.newTable(r_table, caption, file=table_file_name, \n",
      "                                        significantDigits=2)\n",
      "        \n",
      "    def add_to_table(self, fig_file, row, col, caption='', title='',\n",
      "                     isSignificant=True):\n",
      "        '''\n",
      "        Add a figure from a file to the Nozzle table.\n",
      "        This is just a wrapper to put a figure in a result section.\n",
      "        '''\n",
      "        fig = nz.newFigure(fig_file, caption)\n",
      "        result = nz.addTo(nz.newResult('', isSignificant=bool_[isSignificant]),\n",
      "                          nz.addTo(nz.newSubSection(title), fig))\n",
      "        self.nozzle_table = nz.addTo(self.nozzle_table, result, row=self.row_pos[row], \n",
      "                                     column=self.col_pos[col])\n",
      " \n",
      "class PathwayTable(NozzleTable):\n",
      "    def __init__(self, cancer, gene_sets, cutoff=.25):\n",
      "        path = cancer.report_folder + '/'\n",
      "        pathway_table = format_pathway_table(cancer, gene_sets)\n",
      "        caption = ('Association of pathway level ' + cancer.data_type + ' patterns' +\n",
      "                   ' with patient clinical features')\n",
      "        super(PathwayTable, self).__init__(pathway_table, path, 'pathway_table.csv',\n",
      "                                           caption, cutoff)\n",
      "        \n",
      "class HitTable(NozzleTable):\n",
      "    def __init__(self, cancer, gene_sets, cutoff=.25):\n",
      "        path = cancer.report_folder + '/'\n",
      "        marker = ('lession' if cancer.data_type in ['amplification','deletion']\n",
      "                   else 'gene')\n",
      "        caption = ('Association of single ' + marker + ' ' + cancer.data_type + \n",
      "                   ' with patient clinical features.')\n",
      "        \n",
      "        hit_matrix = cancer.hit_matrix\n",
      "        hit_matrix = hit_matrix.groupby(level=0).sum() #Make index unique\n",
      "        tests_run = list(cancer.q_genes.columns)\n",
      "        counts = Series((hit_matrix.ix[:,cancer.patients] > 0).sum(1), \n",
      "                        name='n_patients')\n",
      "        gene_table = cancer.q_genes.join(counts)\n",
      "        gene_table = roll_df(gene_table, 1)\n",
      "        col_order = [s for s in SORT_ORDER if s in gene_table]\n",
      "        gene_table = gene_table.sort(columns=col_order)\n",
      "        genes_to_show = gene_table[(gene_table.ix[:,1:] < cutoff).sum(1) > 0].index\n",
      "        gene_table = gene_table.ix[genes_to_show].head(20)\n",
      "        gene_table.to_csv(path + 'gene_table.csv')\n",
      "        \n",
      "        NozzleTable.__init__(self, gene_table, path, 'gene_table.csv', caption, \n",
      "                             cutoff, 'genes', tests_run)"
     ],
     "language": "python",
     "metadata": {},
     "outputs": [],
     "prompt_number": 88
    },
    {
     "cell_type": "code",
     "collapsed": false,
     "input": [
      "gene_table = HitTable(cancer, gene_sets)"
     ],
     "language": "python",
     "metadata": {},
     "outputs": [],
     "prompt_number": 89
    },
    {
     "cell_type": "code",
     "collapsed": false,
     "input": [
      "def create_figure(cancer, test, vec, file_name):\n",
      "    if test == 'survival':\n",
      "        draw_survival_curves(cancer.clinical, vec.clip_upper(1.), \n",
      "                             filename=fig_file, title=None)\n",
      "        "
     ],
     "language": "python",
     "metadata": {},
     "outputs": [],
     "prompt_number": 90
    },
    {
     "cell_type": "code",
     "collapsed": true,
     "input": [
      "data_frame = cancer.hit_matrix\n",
      "for test,vals in gene_table.table[gene_table.tests_run].iteritems():\n",
      "    for g in vals[vals < cutoff].index:\n",
      "        fig_file = gene_table.path + FIG_EXT + g + '_' + test + '.png'\n",
      "        create_figure(cancer, test, data_frame.ix[g], fig_file)\n",
      "        gene_table.add_to_table(fig_file, g, test)"
     ],
     "language": "python",
     "metadata": {},
     "outputs": [],
     "prompt_number": 91
    },
    {
     "cell_type": "code",
     "collapsed": false,
     "input": [
      "section = nz.addTo(nz.newSubSection('Gene Mutations'), gene_table.nozzle_table)"
     ],
     "language": "python",
     "metadata": {},
     "outputs": [],
     "prompt_number": 92
    },
    {
     "cell_type": "code",
     "collapsed": false,
     "input": [
      "report = nz.addToResults(report, section)\n",
      "nz.writeReport(report, filename=cancer.report_folder + '/index_1')"
     ],
     "language": "python",
     "metadata": {},
     "outputs": [
      {
       "output_type": "pyout",
       "prompt_number": 93,
       "text": [
        "rpy2.rinterface.NULL"
       ]
      }
     ],
     "prompt_number": 93
    },
    {
     "cell_type": "code",
     "collapsed": false,
     "input": [
      "gene_table.tests_run"
     ],
     "language": "python",
     "metadata": {},
     "outputs": [
      {
       "output_type": "pyout",
       "prompt_number": 36,
       "text": [
        "['gender', 'survival', 'age', 'AMAR']"
       ]
      }
     ],
     "prompt_number": 36
    },
    {
     "cell_type": "code",
     "collapsed": false,
     "input": [
      "gene_table.table"
     ],
     "language": "python",
     "metadata": {},
     "outputs": [
      {
       "html": [
        "<div style=\"max-height:1000px;max-width:1500px;overflow:auto;\">\n",
        "<table border=\"1\" class=\"dataframe\">\n",
        "  <thead>\n",
        "    <tr style=\"text-align: right;\">\n",
        "      <th></th>\n",
        "      <th>genes</th>\n",
        "      <th>n_patients</th>\n",
        "      <th>gender</th>\n",
        "      <th>survival</th>\n",
        "      <th>age</th>\n",
        "      <th>AMAR</th>\n",
        "    </tr>\n",
        "  </thead>\n",
        "  <tbody>\n",
        "    <tr>\n",
        "      <td><strong>MUC4</strong></td>\n",
        "      <td>   MUC4</td>\n",
        "      <td>  5</td>\n",
        "      <td> 1.000000</td>\n",
        "      <td> 0.024104</td>\n",
        "      <td> 0.575676</td>\n",
        "      <td> 0.031642</td>\n",
        "    </tr>\n",
        "    <tr>\n",
        "      <td><strong>DNMT3A</strong></td>\n",
        "      <td> DNMT3A</td>\n",
        "      <td> 46</td>\n",
        "      <td> 0.644959</td>\n",
        "      <td> 0.024104</td>\n",
        "      <td> 0.391533</td>\n",
        "      <td> 0.655428</td>\n",
        "    </tr>\n",
        "    <tr>\n",
        "      <td><strong>TP53</strong></td>\n",
        "      <td>   TP53</td>\n",
        "      <td> 10</td>\n",
        "      <td> 0.795679</td>\n",
        "      <td> 0.042605</td>\n",
        "      <td> 0.092676</td>\n",
        "      <td> 0.244315</td>\n",
        "    </tr>\n",
        "    <tr>\n",
        "      <td><strong>RUNX1</strong></td>\n",
        "      <td>  RUNX1</td>\n",
        "      <td> 15</td>\n",
        "      <td> 0.795679</td>\n",
        "      <td> 0.648050</td>\n",
        "      <td> 0.192764</td>\n",
        "      <td> 0.795406</td>\n",
        "    </tr>\n",
        "    <tr>\n",
        "      <td><strong>TTN</strong></td>\n",
        "      <td>    TTN</td>\n",
        "      <td>  7</td>\n",
        "      <td> 0.644959</td>\n",
        "      <td> 0.907112</td>\n",
        "      <td> 0.727675</td>\n",
        "      <td> 0.244315</td>\n",
        "    </tr>\n",
        "    <tr>\n",
        "      <td><strong>U2AF1</strong></td>\n",
        "      <td>  U2AF1</td>\n",
        "      <td>  9</td>\n",
        "      <td> 0.318836</td>\n",
        "      <td> 0.907112</td>\n",
        "      <td> 0.049973</td>\n",
        "      <td> 0.445868</td>\n",
        "    </tr>\n",
        "    <tr>\n",
        "      <td><strong>WT1</strong></td>\n",
        "      <td>    WT1</td>\n",
        "      <td> 12</td>\n",
        "      <td> 1.000000</td>\n",
        "      <td> 0.928160</td>\n",
        "      <td> 0.092676</td>\n",
        "      <td> 0.015003</td>\n",
        "    </tr>\n",
        "    <tr>\n",
        "      <td><strong>IDH2</strong></td>\n",
        "      <td>   IDH2</td>\n",
        "      <td> 18</td>\n",
        "      <td> 0.949447</td>\n",
        "      <td> 0.934880</td>\n",
        "      <td> 0.049973</td>\n",
        "      <td> 0.795406</td>\n",
        "    </tr>\n",
        "  </tbody>\n",
        "</table>\n",
        "</div>"
       ],
       "output_type": "pyout",
       "prompt_number": 35,
       "text": [
        "         genes  n_patients    gender  survival       age      AMAR\n",
        "MUC4      MUC4           5  1.000000  0.024104  0.575676  0.031642\n",
        "DNMT3A  DNMT3A          46  0.644959  0.024104  0.391533  0.655428\n",
        "TP53      TP53          10  0.795679  0.042605  0.092676  0.244315\n",
        "RUNX1    RUNX1          15  0.795679  0.648050  0.192764  0.795406\n",
        "TTN        TTN           7  0.644959  0.907112  0.727675  0.244315\n",
        "U2AF1    U2AF1           9  0.318836  0.907112  0.049973  0.445868\n",
        "WT1        WT1          12  1.000000  0.928160  0.092676  0.015003\n",
        "IDH2      IDH2          18  0.949447  0.934880  0.049973  0.795406"
       ]
      }
     ],
     "prompt_number": 35
    },
    {
     "cell_type": "code",
     "collapsed": false,
     "input": [
      "cutoff = .25"
     ],
     "language": "python",
     "metadata": {},
     "outputs": [],
     "prompt_number": 57
    },
    {
     "cell_type": "code",
     "collapsed": false,
     "input": [
      "[g for g,vec in gene_table.iterrows() if sum(vec[1:] < cutoff)]"
     ],
     "language": "python",
     "metadata": {},
     "outputs": [
      {
       "output_type": "pyout",
       "prompt_number": 66,
       "text": [
        "['MUC4', 'DNMT3A', 'TP53', 'RUNX1', 'TTN', 'U2AF1', 'WT1', 'IDH2']"
       ]
      }
     ],
     "prompt_number": 66
    },
    {
     "cell_type": "code",
     "collapsed": false,
     "input": [],
     "language": "python",
     "metadata": {},
     "outputs": [
      {
       "output_type": "pyout",
       "prompt_number": 64,
       "text": [
        "Index([MUC4, DNMT3A, TP53, RUNX1, TTN, U2AF1, WT1, IDH2], dtype=object)"
       ]
      }
     ],
     "prompt_number": 64
    },
    {
     "cell_type": "code",
     "collapsed": false,
     "input": [
      "hit_matrix = cancer.hit_matrix"
     ],
     "language": "python",
     "metadata": {},
     "outputs": [],
     "prompt_number": 15
    },
    {
     "cell_type": "code",
     "collapsed": false,
     "input": [
      "def add_to_table(fig_file, table, pos, caption='', title='', isSignificant=False):\n",
      "    '''\n",
      "    Add a figure from a file to the Nozzle table.\n",
      "    This is just a wrapper to put a figure in a result section.\n",
      "    '''\n",
      "    fig = nz.newFigure(fig_file, caption)\n",
      "    result = nz.addTo(nz.newResult('', isSignificant=bool_[isSignificant]),\n",
      "                      nz.addTo(nz.newSubSection(title), fig))\n",
      "    table = nz.addTo(table, result, row=pos[0], column=pos[1])\n",
      "    return table"
     ],
     "language": "python",
     "metadata": {},
     "outputs": [],
     "prompt_number": 3
    },
    {
     "cell_type": "code",
     "collapsed": false,
     "input": [
      "def add_violin_plot(vec, cancer, table1, pos, fig_path):\n",
      "    fig_file = fig_path + vec.name + '_age.png'\n",
      "    fig = violin_plot_pandas(vec > 0, cancer.clinical.age.astype(float))\n",
      "    try:\n",
      "        fig.savefig(fig_file)\n",
      "    except:\n",
      "        fig\n",
      "    age_fig1 = nz.newFigure(fig_file, 'Age of patients with or without ' + \n",
      "                                      'mutation to gene.')\n",
      "    result1 = nz.addTo(nz.newResult('', isSignificant='TRUE'),\n",
      "                       nz.addTo(nz.newSection(vec.name), age_fig1))\n",
      "    table1 = nz.addTo(table1, result1, row=pos[0], column=pos[1])   \n",
      "    return table1"
     ],
     "language": "python",
     "metadata": {},
     "outputs": []
    },
    {
     "cell_type": "code",
     "collapsed": false,
     "input": [
      "def add_violin_plot(vec, cancer, table, pos, fig_path):\n",
      "    fig_file = fig_path + vec.name + '_age.png'\n",
      "    fig = violin_plot_pandas(vec > 0, cancer.clinical.age.astype(float))\n",
      "    fig.savefig(fig_file)\n",
      "    capiton = 'Age of patients with or without mutation to gene.'"
     ],
     "language": "python",
     "metadata": {},
     "outputs": []
    }
   ],
   "metadata": {}
  }
 ]
}