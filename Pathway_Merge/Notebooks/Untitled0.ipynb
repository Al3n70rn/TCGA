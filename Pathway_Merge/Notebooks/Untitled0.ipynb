{
 "metadata": {
  "name": "Untitled0"
 },
 "nbformat": 3,
 "nbformat_minor": 0,
 "worksheets": [
  {
   "cells": [
    {
     "cell_type": "code",
     "collapsed": false,
     "input": [
      "cd ../src/"
     ],
     "language": "python",
     "metadata": {},
     "outputs": [
      {
       "output_type": "stream",
       "stream": "stdout",
       "text": [
        "/cellar/users/agross/TCGA_Code/TCGA/Pathway_Merge/src\n"
       ]
      }
     ],
     "prompt_number": 1
    },
    {
     "cell_type": "code",
     "collapsed": false,
     "input": [
      "import pandas as pandas\n",
      "from Data.Pathways import read_in_pathways\n",
      "from Processing.Clinical import ClinicalObject\n",
      "\n",
      "pandas.set_printoptions(max_columns=300)"
     ],
     "language": "python",
     "metadata": {},
     "outputs": [],
     "prompt_number": 2
    },
    {
     "cell_type": "code",
     "collapsed": false,
     "input": [
      "firehose_path = '/cellar/users/agross/Data/TCGA/'\n",
      "date = '20120825'\n",
      "date_ = '_'.join([date[:4], date[4:6], date[6:8]])\n",
      "pathway_file = '/cellar/users/agross/Data/GeneSets/c2.cp.v3.0.symbols_edit.csv'\n",
      "gene_sets, gene_lookup = read_in_pathways(pathway_file)"
     ],
     "language": "python",
     "metadata": {},
     "outputs": [],
     "prompt_number": 4
    },
    {
     "cell_type": "code",
     "collapsed": false,
     "input": [
      "import os as os\n",
      "from joblib import Parallel, delayed\n",
      "from Processing.Clinical import ClinicalObject"
     ],
     "language": "python",
     "metadata": {},
     "outputs": [],
     "prompt_number": 4
    },
    {
     "cell_type": "code",
     "collapsed": false,
     "input": [
      "def get_cancer(cancer):\n",
      "    try:\n",
      "        data_path = firehose_path + 'analyses__' + date_ + '/' + cancer + '/' + date + '/'\n",
      "        cancer_obj = ClinicalObject(cancer, data_path, gene_sets, data_type='mutation')\n",
      "        cancer_obj.filter_bad_pathways(gene_lookup)\n",
      "        return (cancer, cancer_obj)\n",
      "    except:\n",
      "        return (cancer, cancer + ' is broken.')"
     ],
     "language": "python",
     "metadata": {},
     "outputs": [],
     "prompt_number": 6
    },
    {
     "cell_type": "code",
     "collapsed": false,
     "input": [
      "cancer = get_cancer('LAML')"
     ],
     "language": "python",
     "metadata": {},
     "outputs": [],
     "prompt_number": 7
    },
    {
     "cell_type": "code",
     "collapsed": false,
     "input": [
      "cancer = cancer[1]"
     ],
     "language": "python",
     "metadata": {},
     "outputs": [],
     "prompt_number": 9
    },
    {
     "cell_type": "code",
     "collapsed": false,
     "input": [
      "cancer.q_pathways.head()"
     ],
     "language": "python",
     "metadata": {},
     "outputs": [
      {
       "html": [
        "<div style=\"max-height:1000px;max-width:1500px;overflow:auto;\">\n",
        "<table border=\"1\" class=\"dataframe\">\n",
        "  <thead>\n",
        "    <tr style=\"text-align: right;\">\n",
        "      <th></th>\n",
        "      <th>gender</th>\n",
        "      <th>survival</th>\n",
        "      <th>age</th>\n",
        "    </tr>\n",
        "  </thead>\n",
        "  <tbody>\n",
        "    <tr>\n",
        "      <td><strong>BIOCARTA_AGR_PATHWAY</strong></td>\n",
        "      <td> 1</td>\n",
        "      <td> 0.999459</td>\n",
        "      <td> 0.999998</td>\n",
        "    </tr>\n",
        "    <tr>\n",
        "      <td><strong>BIOCARTA_ALK_PATHWAY</strong></td>\n",
        "      <td> 1</td>\n",
        "      <td> 0.999459</td>\n",
        "      <td> 0.999998</td>\n",
        "    </tr>\n",
        "    <tr>\n",
        "      <td><strong>BIOCARTA_ARF_PATHWAY</strong></td>\n",
        "      <td> 1</td>\n",
        "      <td> 0.990838</td>\n",
        "      <td> 0.999998</td>\n",
        "    </tr>\n",
        "    <tr>\n",
        "      <td><strong>BIOCARTA_AT1R_PATHWAY</strong></td>\n",
        "      <td> 1</td>\n",
        "      <td> 0.999459</td>\n",
        "      <td> 0.999998</td>\n",
        "    </tr>\n",
        "    <tr>\n",
        "      <td><strong>BIOCARTA_ATM_PATHWAY</strong></td>\n",
        "      <td> 1</td>\n",
        "      <td> 0.999459</td>\n",
        "      <td> 0.999998</td>\n",
        "    </tr>\n",
        "  </tbody>\n",
        "</table>\n",
        "</div>"
       ],
       "output_type": "pyout",
       "prompt_number": 10,
       "text": [
        "                       gender  survival       age\n",
        "BIOCARTA_AGR_PATHWAY        1  0.999459  0.999998\n",
        "BIOCARTA_ALK_PATHWAY        1  0.999459  0.999998\n",
        "BIOCARTA_ARF_PATHWAY        1  0.990838  0.999998\n",
        "BIOCARTA_AT1R_PATHWAY       1  0.999459  0.999998\n",
        "BIOCARTA_ATM_PATHWAY        1  0.999459  0.999998"
       ]
      }
     ],
     "prompt_number": 10
    },
    {
     "cell_type": "code",
     "collapsed": false,
     "input": [],
     "language": "python",
     "metadata": {},
     "outputs": []
    }
   ],
   "metadata": {}
  }
 ]
}