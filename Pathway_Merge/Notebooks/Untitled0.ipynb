{
 "metadata": {
  "name": "Untitled0"
 },
 "nbformat": 3,
 "nbformat_minor": 0,
 "worksheets": [
  {
   "cells": [
    {
     "cell_type": "code",
     "collapsed": false,
     "input": [
      "cd ../src"
     ],
     "language": "python",
     "metadata": {},
     "outputs": [
      {
       "output_type": "stream",
       "stream": "stdout",
       "text": [
        "/cellar/users/agross/TCGA_Code/TCGA/Pathway_Merge/src\n"
       ]
      }
     ],
     "prompt_number": 1
    },
    {
     "cell_type": "code",
     "collapsed": false,
     "input": [
      "from Data.AgingData import run_all_cancers\n",
      "firehose_path = '/cellar/users/agross/Data/TCGA/'\n",
      "date = '20120913'"
     ],
     "language": "python",
     "metadata": {},
     "outputs": [],
     "prompt_number": 2
    },
    {
     "cell_type": "code",
     "collapsed": false,
     "input": [
      "run_all_cancers(firehose_path, date)"
     ],
     "language": "python",
     "metadata": {},
     "outputs": [
      {
       "output_type": "stream",
       "stream": "stdout",
       "text": [
        "Using precalculated data for BRCA.\n",
        "Using precalculated data for PRAD.\n",
        "Using precalculated data for BLCA.\n",
        "No data for LIHC.\n",
        "Using precalculated data for HNSC.\n",
        "Using precalculated data for LGG."
       ]
      },
      {
       "output_type": "stream",
       "stream": "stdout",
       "text": [
        "\n",
        "Using precalculated data for SKCM.\n",
        "Using precalculated data for UCEC.\n",
        "Using precalculated data for LUAD.\n",
        "No data for OV.\n",
        "Using precalculated data for LAML.\n",
        "Using precalculated data for KIRC.\n",
        "Using precalculated data for PAAD.\n",
        "No data for CESC.\n",
        "Using precalculated data for COADREAD.\n",
        "Using precalculated data for KIRP.\n",
        "Using precalculated data for STAD."
       ]
      },
      {
       "output_type": "stream",
       "stream": "stdout",
       "text": [
        "\n",
        "Using precalculated data for LUSC.\n",
        "Using precalculated data for THCA.\n",
        "No data for DLBC.\n",
        "Using precalculated data for GBM.\n"
       ]
      }
     ],
     "prompt_number": 3
    }
   ],
   "metadata": {}
  }
 ]
}