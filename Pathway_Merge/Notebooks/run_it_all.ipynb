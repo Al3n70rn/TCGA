{
 "metadata": {
  "name": "run_it_all"
 },
 "nbformat": 3,
 "nbformat_minor": 0,
 "worksheets": [
  {
   "cells": [
    {
     "cell_type": "code",
     "collapsed": false,
     "input": [
      "cd ../src/"
     ],
     "language": "python",
     "metadata": {},
     "outputs": [
      {
       "output_type": "stream",
       "stream": "stdout",
       "text": [
        "/cellar/users/agross/TCGA_Code/TCGA/Pathway_Merge/src\n"
       ]
      }
     ],
     "prompt_number": 3
    },
    {
     "cell_type": "code",
     "collapsed": false,
     "input": [
      "import os as os\n",
      "import pickle as pickle\n",
      "import subprocess\n",
      "import pandas as pd\n",
      "from Processing.Scheduler import initialize, survival, parallel_run"
     ],
     "language": "python",
     "metadata": {},
     "outputs": [],
     "prompt_number": 4
    },
    {
     "cell_type": "code",
     "collapsed": false,
     "input": [
      "result_path = '/scratch/TCGA/Firehose__2012_01_16/ucsd_analyses'\n",
      "run = sorted(os.listdir(result_path))[0]\n",
      "run = pickle.load(open('/'.join([result_path, run, 'RunObject.p']), 'rb'))"
     ],
     "language": "python",
     "metadata": {},
     "outputs": [],
     "prompt_number": 5
    },
    {
     "cell_type": "code",
     "collapsed": false,
     "input": [
      "cancers = ['BLCA', 'BRCA', 'CESC', 'COADREAD', 'DLBC', 'ESCA','HNSC', 'KICH', 'KIRC',\n",
      "            'KIRP', 'LAML', 'LIHC', 'OV', 'PAAD', 'PRAD', 'SARC', 'SKCM', 'STAD', 'THCA', 'UCEC']"
     ],
     "language": "python",
     "metadata": {},
     "outputs": [],
     "prompt_number": 23
    },
    {
     "cell_type": "code",
     "collapsed": false,
     "input": [
      "initialize(run, ['MAF','CN_broad','CN_deletion', 'CN_amplification', 'CN_amplification_low', 'RPPA',\n",
      "                     'Methylation', 'mRNASeq'], cancers=cancers, \n",
      "           init_cancer=True, dry_run=False)"
     ],
     "language": "python",
     "metadata": {},
     "outputs": [
      {
       "output_type": "stream",
       "stream": "stdout",
       "text": [
        "initialize_cancer\t/scratch/TCGA/Firehose__2012_01_16/ucsd_analyses/Run_0_1\tBLCA\n",
        "initialize_cancer\t/scratch/TCGA/Firehose__2012_01_16/ucsd_analyses/Run_0_1\tBRCA\n",
        "initialize_cancer\t/scratch/TCGA/Firehose__2012_01_16/ucsd_analyses/Run_0_1\tCESC"
       ]
      },
      {
       "output_type": "stream",
       "stream": "stdout",
       "text": [
        "\n",
        "initialize_cancer\t/scratch/TCGA/Firehose__2012_01_16/ucsd_analyses/Run_0_1\tCOADREAD\n",
        "initialize_cancer\t/scratch/TCGA/Firehose__2012_01_16/ucsd_analyses/Run_0_1\tDLBC"
       ]
      },
      {
       "output_type": "stream",
       "stream": "stdout",
       "text": [
        "\n",
        "initialize_cancer\t/scratch/TCGA/Firehose__2012_01_16/ucsd_analyses/Run_0_1\tESCA\n",
        "initialize_cancer\t/scratch/TCGA/Firehose__2012_01_16/ucsd_analyses/Run_0_1\tHNSC"
       ]
      },
      {
       "output_type": "stream",
       "stream": "stdout",
       "text": [
        "\n",
        "initialize_cancer\t/scratch/TCGA/Firehose__2012_01_16/ucsd_analyses/Run_0_1\tKICH\n",
        "initialize_cancer\t/scratch/TCGA/Firehose__2012_01_16/ucsd_analyses/Run_0_1\tKIRC"
       ]
      },
      {
       "output_type": "stream",
       "stream": "stdout",
       "text": [
        "\n",
        "initialize_cancer\t/scratch/TCGA/Firehose__2012_01_16/ucsd_analyses/Run_0_1\tKIRP\n",
        "initialize_cancer\t/scratch/TCGA/Firehose__2012_01_16/ucsd_analyses/Run_0_1\tLAML"
       ]
      },
      {
       "output_type": "stream",
       "stream": "stdout",
       "text": [
        "\n",
        "initialize_cancer\t/scratch/TCGA/Firehose__2012_01_16/ucsd_analyses/Run_0_1\tLIHC\n",
        "initialize_cancer\t/scratch/TCGA/Firehose__2012_01_16/ucsd_analyses/Run_0_1\tOV"
       ]
      },
      {
       "output_type": "stream",
       "stream": "stdout",
       "text": [
        "\n",
        "initialize_cancer\t/scratch/TCGA/Firehose__2012_01_16/ucsd_analyses/Run_0_1\tPAAD\n",
        "initialize_cancer\t/scratch/TCGA/Firehose__2012_01_16/ucsd_analyses/Run_0_1\tPRAD"
       ]
      },
      {
       "output_type": "stream",
       "stream": "stdout",
       "text": [
        "\n",
        "initialize_cancer\t/scratch/TCGA/Firehose__2012_01_16/ucsd_analyses/Run_0_1\tSARC\n",
        "initialize_cancer\t/scratch/TCGA/Firehose__2012_01_16/ucsd_analyses/Run_0_1\tSKCM"
       ]
      },
      {
       "output_type": "stream",
       "stream": "stdout",
       "text": [
        "\n",
        "initialize_cancer\t/scratch/TCGA/Firehose__2012_01_16/ucsd_analyses/Run_0_1\tSTAD"
       ]
      },
      {
       "output_type": "stream",
       "stream": "stdout",
       "text": [
        "\n",
        "initialize_cancer\t/scratch/TCGA/Firehose__2012_01_16/ucsd_analyses/Run_0_1\tTHCA"
       ]
      },
      {
       "output_type": "stream",
       "stream": "stdout",
       "text": [
        "\n",
        "initialize_cancer\t/scratch/TCGA/Firehose__2012_01_16/ucsd_analyses/Run_0_1\tUCEC"
       ]
      },
      {
       "output_type": "stream",
       "stream": "stdout",
       "text": [
        "\n",
        "initialize_data\t/scratch/TCGA/Firehose__2012_01_16/ucsd_analyses/Run_0_1\tBLCA\tMAF\n",
        "initialize_data\t/scratch/TCGA/Firehose__2012_01_16/ucsd_analyses/Run_0_1\tBLCA\tCN_broad"
       ]
      },
      {
       "output_type": "stream",
       "stream": "stdout",
       "text": [
        "\n",
        "initialize_data\t/scratch/TCGA/Firehose__2012_01_16/ucsd_analyses/Run_0_1\tBLCA\tCN_deletion"
       ]
      },
      {
       "output_type": "stream",
       "stream": "stdout",
       "text": [
        "\n",
        "initialize_data\t/scratch/TCGA/Firehose__2012_01_16/ucsd_analyses/Run_0_1\tBLCA\tCN_amplification"
       ]
      },
      {
       "output_type": "stream",
       "stream": "stdout",
       "text": [
        "\n",
        "initialize_data\t/scratch/TCGA/Firehose__2012_01_16/ucsd_analyses/Run_0_1\tBLCA\tCN_amplification_low"
       ]
      },
      {
       "output_type": "stream",
       "stream": "stdout",
       "text": [
        "\n",
        "initialize_data\t/scratch/TCGA/Firehose__2012_01_16/ucsd_analyses/Run_0_1\tBLCA\tRPPA"
       ]
      },
      {
       "output_type": "stream",
       "stream": "stdout",
       "text": [
        "\n",
        "initialize_data\t/scratch/TCGA/Firehose__2012_01_16/ucsd_analyses/Run_0_1\tBLCA\tMethylation"
       ]
      },
      {
       "output_type": "stream",
       "stream": "stdout",
       "text": [
        "\n",
        "initialize_data\t/scratch/TCGA/Firehose__2012_01_16/ucsd_analyses/Run_0_1\tBLCA\tmRNASeq"
       ]
      },
      {
       "output_type": "stream",
       "stream": "stdout",
       "text": [
        "\n",
        "initialize_data\t/scratch/TCGA/Firehose__2012_01_16/ucsd_analyses/Run_0_1\tBRCA\tMAF"
       ]
      },
      {
       "output_type": "stream",
       "stream": "stdout",
       "text": [
        "\n",
        "initialize_data\t/scratch/TCGA/Firehose__2012_01_16/ucsd_analyses/Run_0_1\tBRCA\tCN_broad"
       ]
      },
      {
       "output_type": "stream",
       "stream": "stdout",
       "text": [
        "\n",
        "initialize_data\t/scratch/TCGA/Firehose__2012_01_16/ucsd_analyses/Run_0_1\tBRCA\tCN_deletion"
       ]
      },
      {
       "output_type": "stream",
       "stream": "stdout",
       "text": [
        "\n",
        "initialize_data\t/scratch/TCGA/Firehose__2012_01_16/ucsd_analyses/Run_0_1\tBRCA\tCN_amplification"
       ]
      },
      {
       "output_type": "stream",
       "stream": "stdout",
       "text": [
        "\n",
        "initialize_data\t/scratch/TCGA/Firehose__2012_01_16/ucsd_analyses/Run_0_1\tBRCA\tCN_amplification_low"
       ]
      },
      {
       "output_type": "stream",
       "stream": "stdout",
       "text": [
        "\n",
        "initialize_data\t/scratch/TCGA/Firehose__2012_01_16/ucsd_analyses/Run_0_1\tBRCA\tRPPA"
       ]
      },
      {
       "output_type": "stream",
       "stream": "stdout",
       "text": [
        "\n",
        "initialize_data\t/scratch/TCGA/Firehose__2012_01_16/ucsd_analyses/Run_0_1\tBRCA\tMethylation"
       ]
      },
      {
       "output_type": "stream",
       "stream": "stdout",
       "text": [
        "\n",
        "initialize_data\t/scratch/TCGA/Firehose__2012_01_16/ucsd_analyses/Run_0_1\tBRCA\tmRNASeq"
       ]
      },
      {
       "output_type": "stream",
       "stream": "stdout",
       "text": [
        "\n",
        "initialize_data\t/scratch/TCGA/Firehose__2012_01_16/ucsd_analyses/Run_0_1\tCESC\tMAF"
       ]
      },
      {
       "output_type": "stream",
       "stream": "stdout",
       "text": [
        "\n",
        "initialize_data\t/scratch/TCGA/Firehose__2012_01_16/ucsd_analyses/Run_0_1\tCESC\tCN_broad"
       ]
      },
      {
       "output_type": "stream",
       "stream": "stdout",
       "text": [
        "\n",
        "initialize_data\t/scratch/TCGA/Firehose__2012_01_16/ucsd_analyses/Run_0_1\tCESC\tCN_deletion"
       ]
      },
      {
       "output_type": "stream",
       "stream": "stdout",
       "text": [
        "\n",
        "initialize_data\t/scratch/TCGA/Firehose__2012_01_16/ucsd_analyses/Run_0_1\tCESC\tCN_amplification"
       ]
      },
      {
       "output_type": "stream",
       "stream": "stdout",
       "text": [
        "\n",
        "initialize_data\t/scratch/TCGA/Firehose__2012_01_16/ucsd_analyses/Run_0_1\tCESC\tCN_amplification_low"
       ]
      },
      {
       "output_type": "stream",
       "stream": "stdout",
       "text": [
        "\n",
        "initialize_data\t/scratch/TCGA/Firehose__2012_01_16/ucsd_analyses/Run_0_1\tCESC\tRPPA"
       ]
      },
      {
       "output_type": "stream",
       "stream": "stdout",
       "text": [
        "\n",
        "initialize_data\t/scratch/TCGA/Firehose__2012_01_16/ucsd_analyses/Run_0_1\tCESC\tMethylation"
       ]
      },
      {
       "output_type": "stream",
       "stream": "stdout",
       "text": [
        "\n",
        "initialize_data\t/scratch/TCGA/Firehose__2012_01_16/ucsd_analyses/Run_0_1\tCESC\tmRNASeq"
       ]
      },
      {
       "output_type": "stream",
       "stream": "stdout",
       "text": [
        "\n",
        "initialize_data\t/scratch/TCGA/Firehose__2012_01_16/ucsd_analyses/Run_0_1\tCOADREAD\tMAF"
       ]
      },
      {
       "output_type": "stream",
       "stream": "stdout",
       "text": [
        "\n",
        "initialize_data\t/scratch/TCGA/Firehose__2012_01_16/ucsd_analyses/Run_0_1\tCOADREAD\tCN_broad"
       ]
      },
      {
       "output_type": "stream",
       "stream": "stdout",
       "text": [
        "\n",
        "initialize_data\t/scratch/TCGA/Firehose__2012_01_16/ucsd_analyses/Run_0_1\tCOADREAD\tCN_deletion"
       ]
      },
      {
       "output_type": "stream",
       "stream": "stdout",
       "text": [
        "\n",
        "initialize_data\t/scratch/TCGA/Firehose__2012_01_16/ucsd_analyses/Run_0_1\tCOADREAD\tCN_amplification"
       ]
      },
      {
       "output_type": "stream",
       "stream": "stdout",
       "text": [
        "\n",
        "initialize_data\t/scratch/TCGA/Firehose__2012_01_16/ucsd_analyses/Run_0_1\tCOADREAD\tCN_amplification_low"
       ]
      },
      {
       "output_type": "stream",
       "stream": "stdout",
       "text": [
        "\n",
        "initialize_data\t/scratch/TCGA/Firehose__2012_01_16/ucsd_analyses/Run_0_1\tCOADREAD\tRPPA"
       ]
      },
      {
       "output_type": "stream",
       "stream": "stdout",
       "text": [
        "\n",
        "initialize_data\t/scratch/TCGA/Firehose__2012_01_16/ucsd_analyses/Run_0_1\tCOADREAD\tMethylation"
       ]
      },
      {
       "output_type": "stream",
       "stream": "stdout",
       "text": [
        "\n",
        "initialize_data\t/scratch/TCGA/Firehose__2012_01_16/ucsd_analyses/Run_0_1\tCOADREAD\tmRNASeq"
       ]
      },
      {
       "output_type": "stream",
       "stream": "stdout",
       "text": [
        "\n",
        "initialize_data\t/scratch/TCGA/Firehose__2012_01_16/ucsd_analyses/Run_0_1\tDLBC\tMAF"
       ]
      },
      {
       "output_type": "stream",
       "stream": "stdout",
       "text": [
        "\n",
        "initialize_data\t/scratch/TCGA/Firehose__2012_01_16/ucsd_analyses/Run_0_1\tDLBC\tCN_broad"
       ]
      },
      {
       "output_type": "stream",
       "stream": "stdout",
       "text": [
        "\n",
        "initialize_data\t/scratch/TCGA/Firehose__2012_01_16/ucsd_analyses/Run_0_1\tDLBC\tCN_deletion"
       ]
      },
      {
       "output_type": "stream",
       "stream": "stdout",
       "text": [
        "\n",
        "initialize_data\t/scratch/TCGA/Firehose__2012_01_16/ucsd_analyses/Run_0_1\tDLBC\tCN_amplification"
       ]
      },
      {
       "output_type": "stream",
       "stream": "stdout",
       "text": [
        "\n",
        "initialize_data\t/scratch/TCGA/Firehose__2012_01_16/ucsd_analyses/Run_0_1\tDLBC\tCN_amplification_low"
       ]
      },
      {
       "output_type": "stream",
       "stream": "stdout",
       "text": [
        "\n",
        "initialize_data\t/scratch/TCGA/Firehose__2012_01_16/ucsd_analyses/Run_0_1\tDLBC\tRPPA"
       ]
      },
      {
       "output_type": "stream",
       "stream": "stdout",
       "text": [
        "\n",
        "initialize_data\t/scratch/TCGA/Firehose__2012_01_16/ucsd_analyses/Run_0_1\tDLBC\tMethylation"
       ]
      },
      {
       "output_type": "stream",
       "stream": "stdout",
       "text": [
        "\n",
        "initialize_data\t/scratch/TCGA/Firehose__2012_01_16/ucsd_analyses/Run_0_1\tDLBC\tmRNASeq"
       ]
      },
      {
       "output_type": "stream",
       "stream": "stdout",
       "text": [
        "\n",
        "initialize_data\t/scratch/TCGA/Firehose__2012_01_16/ucsd_analyses/Run_0_1\tESCA\tMAF"
       ]
      },
      {
       "output_type": "stream",
       "stream": "stdout",
       "text": [
        "\n",
        "initialize_data\t/scratch/TCGA/Firehose__2012_01_16/ucsd_analyses/Run_0_1\tESCA\tCN_broad"
       ]
      },
      {
       "output_type": "stream",
       "stream": "stdout",
       "text": [
        "\n",
        "initialize_data\t/scratch/TCGA/Firehose__2012_01_16/ucsd_analyses/Run_0_1\tESCA\tCN_deletion"
       ]
      },
      {
       "output_type": "stream",
       "stream": "stdout",
       "text": [
        "\n",
        "initialize_data\t/scratch/TCGA/Firehose__2012_01_16/ucsd_analyses/Run_0_1\tESCA\tCN_amplification"
       ]
      },
      {
       "output_type": "stream",
       "stream": "stdout",
       "text": [
        "\n",
        "initialize_data\t/scratch/TCGA/Firehose__2012_01_16/ucsd_analyses/Run_0_1\tESCA\tCN_amplification_low"
       ]
      },
      {
       "output_type": "stream",
       "stream": "stdout",
       "text": [
        "\n",
        "initialize_data\t/scratch/TCGA/Firehose__2012_01_16/ucsd_analyses/Run_0_1\tESCA\tRPPA"
       ]
      },
      {
       "output_type": "stream",
       "stream": "stdout",
       "text": [
        "\n",
        "initialize_data\t/scratch/TCGA/Firehose__2012_01_16/ucsd_analyses/Run_0_1\tESCA\tMethylation"
       ]
      },
      {
       "output_type": "stream",
       "stream": "stdout",
       "text": [
        "\n",
        "initialize_data\t/scratch/TCGA/Firehose__2012_01_16/ucsd_analyses/Run_0_1\tESCA\tmRNASeq"
       ]
      },
      {
       "output_type": "stream",
       "stream": "stdout",
       "text": [
        "\n",
        "initialize_data\t/scratch/TCGA/Firehose__2012_01_16/ucsd_analyses/Run_0_1\tHNSC\tMAF"
       ]
      },
      {
       "output_type": "stream",
       "stream": "stdout",
       "text": [
        "\n",
        "initialize_data\t/scratch/TCGA/Firehose__2012_01_16/ucsd_analyses/Run_0_1\tHNSC\tCN_broad"
       ]
      },
      {
       "output_type": "stream",
       "stream": "stdout",
       "text": [
        "\n",
        "initialize_data\t/scratch/TCGA/Firehose__2012_01_16/ucsd_analyses/Run_0_1\tHNSC\tCN_deletion"
       ]
      },
      {
       "output_type": "stream",
       "stream": "stdout",
       "text": [
        "\n",
        "initialize_data\t/scratch/TCGA/Firehose__2012_01_16/ucsd_analyses/Run_0_1\tHNSC\tCN_amplification"
       ]
      },
      {
       "output_type": "stream",
       "stream": "stdout",
       "text": [
        "\n",
        "initialize_data\t/scratch/TCGA/Firehose__2012_01_16/ucsd_analyses/Run_0_1\tHNSC\tCN_amplification_low"
       ]
      },
      {
       "output_type": "stream",
       "stream": "stdout",
       "text": [
        "\n",
        "initialize_data\t/scratch/TCGA/Firehose__2012_01_16/ucsd_analyses/Run_0_1\tHNSC\tRPPA"
       ]
      },
      {
       "output_type": "stream",
       "stream": "stdout",
       "text": [
        "\n",
        "initialize_data\t/scratch/TCGA/Firehose__2012_01_16/ucsd_analyses/Run_0_1\tHNSC\tMethylation"
       ]
      },
      {
       "output_type": "stream",
       "stream": "stdout",
       "text": [
        "\n",
        "initialize_data\t/scratch/TCGA/Firehose__2012_01_16/ucsd_analyses/Run_0_1\tHNSC\tmRNASeq"
       ]
      },
      {
       "output_type": "stream",
       "stream": "stdout",
       "text": [
        "\n",
        "initialize_data\t/scratch/TCGA/Firehose__2012_01_16/ucsd_analyses/Run_0_1\tKICH\tMAF"
       ]
      },
      {
       "output_type": "stream",
       "stream": "stdout",
       "text": [
        "\n",
        "initialize_data\t/scratch/TCGA/Firehose__2012_01_16/ucsd_analyses/Run_0_1\tKICH\tCN_broad"
       ]
      },
      {
       "output_type": "stream",
       "stream": "stdout",
       "text": [
        "\n",
        "initialize_data\t/scratch/TCGA/Firehose__2012_01_16/ucsd_analyses/Run_0_1\tKICH\tCN_deletion"
       ]
      },
      {
       "output_type": "stream",
       "stream": "stdout",
       "text": [
        "\n",
        "initialize_data\t/scratch/TCGA/Firehose__2012_01_16/ucsd_analyses/Run_0_1\tKICH\tCN_amplification"
       ]
      },
      {
       "output_type": "stream",
       "stream": "stdout",
       "text": [
        "\n",
        "initialize_data\t/scratch/TCGA/Firehose__2012_01_16/ucsd_analyses/Run_0_1\tKICH\tCN_amplification_low"
       ]
      },
      {
       "output_type": "stream",
       "stream": "stdout",
       "text": [
        "\n",
        "initialize_data\t/scratch/TCGA/Firehose__2012_01_16/ucsd_analyses/Run_0_1\tKICH\tRPPA"
       ]
      },
      {
       "output_type": "stream",
       "stream": "stdout",
       "text": [
        "\n",
        "initialize_data\t/scratch/TCGA/Firehose__2012_01_16/ucsd_analyses/Run_0_1\tKICH\tMethylation"
       ]
      },
      {
       "output_type": "stream",
       "stream": "stdout",
       "text": [
        "\n",
        "initialize_data\t/scratch/TCGA/Firehose__2012_01_16/ucsd_analyses/Run_0_1\tKICH\tmRNASeq"
       ]
      },
      {
       "output_type": "stream",
       "stream": "stdout",
       "text": [
        "\n",
        "initialize_data\t/scratch/TCGA/Firehose__2012_01_16/ucsd_analyses/Run_0_1\tKIRC\tMAF"
       ]
      },
      {
       "output_type": "stream",
       "stream": "stdout",
       "text": [
        "\n",
        "initialize_data\t/scratch/TCGA/Firehose__2012_01_16/ucsd_analyses/Run_0_1\tKIRC\tCN_broad"
       ]
      },
      {
       "output_type": "stream",
       "stream": "stdout",
       "text": [
        "\n",
        "initialize_data\t/scratch/TCGA/Firehose__2012_01_16/ucsd_analyses/Run_0_1\tKIRC\tCN_deletion"
       ]
      },
      {
       "output_type": "stream",
       "stream": "stdout",
       "text": [
        "\n",
        "initialize_data\t/scratch/TCGA/Firehose__2012_01_16/ucsd_analyses/Run_0_1\tKIRC\tCN_amplification"
       ]
      },
      {
       "output_type": "stream",
       "stream": "stdout",
       "text": [
        "\n",
        "initialize_data\t/scratch/TCGA/Firehose__2012_01_16/ucsd_analyses/Run_0_1\tKIRC\tCN_amplification_low"
       ]
      },
      {
       "output_type": "stream",
       "stream": "stdout",
       "text": [
        "\n",
        "initialize_data\t/scratch/TCGA/Firehose__2012_01_16/ucsd_analyses/Run_0_1\tKIRC\tRPPA"
       ]
      },
      {
       "output_type": "stream",
       "stream": "stdout",
       "text": [
        "\n",
        "initialize_data\t/scratch/TCGA/Firehose__2012_01_16/ucsd_analyses/Run_0_1\tKIRC\tMethylation"
       ]
      },
      {
       "output_type": "stream",
       "stream": "stdout",
       "text": [
        "\n",
        "initialize_data\t/scratch/TCGA/Firehose__2012_01_16/ucsd_analyses/Run_0_1\tKIRC\tmRNASeq"
       ]
      },
      {
       "output_type": "stream",
       "stream": "stdout",
       "text": [
        "\n",
        "initialize_data\t/scratch/TCGA/Firehose__2012_01_16/ucsd_analyses/Run_0_1\tKIRP\tMAF"
       ]
      },
      {
       "output_type": "stream",
       "stream": "stdout",
       "text": [
        "\n",
        "initialize_data\t/scratch/TCGA/Firehose__2012_01_16/ucsd_analyses/Run_0_1\tKIRP\tCN_broad"
       ]
      },
      {
       "output_type": "stream",
       "stream": "stdout",
       "text": [
        "\n",
        "initialize_data\t/scratch/TCGA/Firehose__2012_01_16/ucsd_analyses/Run_0_1\tKIRP\tCN_deletion"
       ]
      },
      {
       "output_type": "stream",
       "stream": "stdout",
       "text": [
        "\n",
        "initialize_data\t/scratch/TCGA/Firehose__2012_01_16/ucsd_analyses/Run_0_1\tKIRP\tCN_amplification"
       ]
      },
      {
       "output_type": "stream",
       "stream": "stdout",
       "text": [
        "\n",
        "initialize_data\t/scratch/TCGA/Firehose__2012_01_16/ucsd_analyses/Run_0_1\tKIRP\tCN_amplification_low"
       ]
      },
      {
       "output_type": "stream",
       "stream": "stdout",
       "text": [
        "\n",
        "initialize_data\t/scratch/TCGA/Firehose__2012_01_16/ucsd_analyses/Run_0_1\tKIRP\tRPPA"
       ]
      },
      {
       "output_type": "stream",
       "stream": "stdout",
       "text": [
        "\n",
        "initialize_data\t/scratch/TCGA/Firehose__2012_01_16/ucsd_analyses/Run_0_1\tKIRP\tMethylation"
       ]
      },
      {
       "output_type": "stream",
       "stream": "stdout",
       "text": [
        "\n",
        "initialize_data\t/scratch/TCGA/Firehose__2012_01_16/ucsd_analyses/Run_0_1\tKIRP\tmRNASeq"
       ]
      },
      {
       "output_type": "stream",
       "stream": "stdout",
       "text": [
        "\n",
        "initialize_data\t/scratch/TCGA/Firehose__2012_01_16/ucsd_analyses/Run_0_1\tLAML\tMAF"
       ]
      },
      {
       "output_type": "stream",
       "stream": "stdout",
       "text": [
        "\n",
        "initialize_data\t/scratch/TCGA/Firehose__2012_01_16/ucsd_analyses/Run_0_1\tLAML\tCN_broad"
       ]
      },
      {
       "output_type": "stream",
       "stream": "stdout",
       "text": [
        "\n",
        "initialize_data\t/scratch/TCGA/Firehose__2012_01_16/ucsd_analyses/Run_0_1\tLAML\tCN_deletion"
       ]
      },
      {
       "output_type": "stream",
       "stream": "stdout",
       "text": [
        "\n",
        "initialize_data\t/scratch/TCGA/Firehose__2012_01_16/ucsd_analyses/Run_0_1\tLAML\tCN_amplification"
       ]
      },
      {
       "output_type": "stream",
       "stream": "stdout",
       "text": [
        "\n",
        "initialize_data\t/scratch/TCGA/Firehose__2012_01_16/ucsd_analyses/Run_0_1\tLAML\tCN_amplification_low"
       ]
      },
      {
       "output_type": "stream",
       "stream": "stdout",
       "text": [
        "\n",
        "initialize_data\t/scratch/TCGA/Firehose__2012_01_16/ucsd_analyses/Run_0_1\tLAML\tRPPA"
       ]
      },
      {
       "output_type": "stream",
       "stream": "stdout",
       "text": [
        "\n",
        "initialize_data\t/scratch/TCGA/Firehose__2012_01_16/ucsd_analyses/Run_0_1\tLAML\tMethylation"
       ]
      },
      {
       "output_type": "stream",
       "stream": "stdout",
       "text": [
        "\n",
        "initialize_data\t/scratch/TCGA/Firehose__2012_01_16/ucsd_analyses/Run_0_1\tLAML\tmRNASeq"
       ]
      },
      {
       "output_type": "stream",
       "stream": "stdout",
       "text": [
        "\n",
        "initialize_data\t/scratch/TCGA/Firehose__2012_01_16/ucsd_analyses/Run_0_1\tLIHC\tMAF"
       ]
      },
      {
       "output_type": "stream",
       "stream": "stdout",
       "text": [
        "\n",
        "initialize_data\t/scratch/TCGA/Firehose__2012_01_16/ucsd_analyses/Run_0_1\tLIHC\tCN_broad"
       ]
      },
      {
       "output_type": "stream",
       "stream": "stdout",
       "text": [
        "\n",
        "initialize_data\t/scratch/TCGA/Firehose__2012_01_16/ucsd_analyses/Run_0_1\tLIHC\tCN_deletion"
       ]
      },
      {
       "output_type": "stream",
       "stream": "stdout",
       "text": [
        "\n",
        "initialize_data\t/scratch/TCGA/Firehose__2012_01_16/ucsd_analyses/Run_0_1\tLIHC\tCN_amplification\n",
        "initialize_data\t/scratch/TCGA/Firehose__2012_01_16/ucsd_analyses/Run_0_1\tLIHC\tCN_amplification_low"
       ]
      },
      {
       "output_type": "stream",
       "stream": "stdout",
       "text": [
        "\n",
        "initialize_data\t/scratch/TCGA/Firehose__2012_01_16/ucsd_analyses/Run_0_1\tLIHC\tRPPA"
       ]
      },
      {
       "output_type": "stream",
       "stream": "stdout",
       "text": [
        "\n",
        "initialize_data\t/scratch/TCGA/Firehose__2012_01_16/ucsd_analyses/Run_0_1\tLIHC\tMethylation"
       ]
      },
      {
       "output_type": "stream",
       "stream": "stdout",
       "text": [
        "\n",
        "initialize_data\t/scratch/TCGA/Firehose__2012_01_16/ucsd_analyses/Run_0_1\tLIHC\tmRNASeq"
       ]
      },
      {
       "output_type": "stream",
       "stream": "stdout",
       "text": [
        "\n",
        "initialize_data\t/scratch/TCGA/Firehose__2012_01_16/ucsd_analyses/Run_0_1\tOV\tMAF"
       ]
      },
      {
       "output_type": "stream",
       "stream": "stdout",
       "text": [
        "\n",
        "initialize_data\t/scratch/TCGA/Firehose__2012_01_16/ucsd_analyses/Run_0_1\tOV\tCN_broad"
       ]
      },
      {
       "output_type": "stream",
       "stream": "stdout",
       "text": [
        "\n",
        "initialize_data\t/scratch/TCGA/Firehose__2012_01_16/ucsd_analyses/Run_0_1\tOV\tCN_deletion"
       ]
      },
      {
       "output_type": "stream",
       "stream": "stdout",
       "text": [
        "\n",
        "initialize_data\t/scratch/TCGA/Firehose__2012_01_16/ucsd_analyses/Run_0_1\tOV\tCN_amplification"
       ]
      },
      {
       "output_type": "stream",
       "stream": "stdout",
       "text": [
        "\n",
        "initialize_data\t/scratch/TCGA/Firehose__2012_01_16/ucsd_analyses/Run_0_1\tOV\tCN_amplification_low"
       ]
      },
      {
       "output_type": "stream",
       "stream": "stdout",
       "text": [
        "\n",
        "initialize_data\t/scratch/TCGA/Firehose__2012_01_16/ucsd_analyses/Run_0_1\tOV\tRPPA"
       ]
      },
      {
       "output_type": "stream",
       "stream": "stdout",
       "text": [
        "\n",
        "initialize_data\t/scratch/TCGA/Firehose__2012_01_16/ucsd_analyses/Run_0_1\tOV\tMethylation"
       ]
      },
      {
       "output_type": "stream",
       "stream": "stdout",
       "text": [
        "\n",
        "initialize_data\t/scratch/TCGA/Firehose__2012_01_16/ucsd_analyses/Run_0_1\tOV\tmRNASeq"
       ]
      },
      {
       "output_type": "stream",
       "stream": "stdout",
       "text": [
        "\n",
        "initialize_data\t/scratch/TCGA/Firehose__2012_01_16/ucsd_analyses/Run_0_1\tPAAD\tMAF"
       ]
      },
      {
       "output_type": "stream",
       "stream": "stdout",
       "text": [
        "\n",
        "initialize_data\t/scratch/TCGA/Firehose__2012_01_16/ucsd_analyses/Run_0_1\tPAAD\tCN_broad"
       ]
      },
      {
       "output_type": "stream",
       "stream": "stdout",
       "text": [
        "\n",
        "initialize_data\t/scratch/TCGA/Firehose__2012_01_16/ucsd_analyses/Run_0_1\tPAAD\tCN_deletion"
       ]
      },
      {
       "output_type": "stream",
       "stream": "stdout",
       "text": [
        "\n",
        "initialize_data\t/scratch/TCGA/Firehose__2012_01_16/ucsd_analyses/Run_0_1\tPAAD\tCN_amplification"
       ]
      },
      {
       "output_type": "stream",
       "stream": "stdout",
       "text": [
        "\n",
        "initialize_data\t/scratch/TCGA/Firehose__2012_01_16/ucsd_analyses/Run_0_1\tPAAD\tCN_amplification_low"
       ]
      },
      {
       "output_type": "stream",
       "stream": "stdout",
       "text": [
        "\n",
        "initialize_data\t/scratch/TCGA/Firehose__2012_01_16/ucsd_analyses/Run_0_1\tPAAD\tRPPA"
       ]
      },
      {
       "output_type": "stream",
       "stream": "stdout",
       "text": [
        "\n",
        "initialize_data\t/scratch/TCGA/Firehose__2012_01_16/ucsd_analyses/Run_0_1\tPAAD\tMethylation"
       ]
      },
      {
       "output_type": "stream",
       "stream": "stdout",
       "text": [
        "\n",
        "initialize_data\t/scratch/TCGA/Firehose__2012_01_16/ucsd_analyses/Run_0_1\tPAAD\tmRNASeq"
       ]
      },
      {
       "output_type": "stream",
       "stream": "stdout",
       "text": [
        "\n",
        "initialize_data\t/scratch/TCGA/Firehose__2012_01_16/ucsd_analyses/Run_0_1\tPRAD\tMAF"
       ]
      },
      {
       "output_type": "stream",
       "stream": "stdout",
       "text": [
        "\n",
        "initialize_data\t/scratch/TCGA/Firehose__2012_01_16/ucsd_analyses/Run_0_1\tPRAD\tCN_broad"
       ]
      },
      {
       "output_type": "stream",
       "stream": "stdout",
       "text": [
        "\n",
        "initialize_data\t/scratch/TCGA/Firehose__2012_01_16/ucsd_analyses/Run_0_1\tPRAD\tCN_deletion"
       ]
      },
      {
       "output_type": "stream",
       "stream": "stdout",
       "text": [
        "\n",
        "initialize_data\t/scratch/TCGA/Firehose__2012_01_16/ucsd_analyses/Run_0_1\tPRAD\tCN_amplification"
       ]
      },
      {
       "output_type": "stream",
       "stream": "stdout",
       "text": [
        "\n",
        "initialize_data\t/scratch/TCGA/Firehose__2012_01_16/ucsd_analyses/Run_0_1\tPRAD\tCN_amplification_low"
       ]
      },
      {
       "output_type": "stream",
       "stream": "stdout",
       "text": [
        "\n",
        "initialize_data\t/scratch/TCGA/Firehose__2012_01_16/ucsd_analyses/Run_0_1\tPRAD\tRPPA"
       ]
      },
      {
       "output_type": "stream",
       "stream": "stdout",
       "text": [
        "\n",
        "initialize_data\t/scratch/TCGA/Firehose__2012_01_16/ucsd_analyses/Run_0_1\tPRAD\tMethylation"
       ]
      },
      {
       "output_type": "stream",
       "stream": "stdout",
       "text": [
        "\n",
        "initialize_data\t/scratch/TCGA/Firehose__2012_01_16/ucsd_analyses/Run_0_1\tPRAD\tmRNASeq"
       ]
      },
      {
       "output_type": "stream",
       "stream": "stdout",
       "text": [
        "\n",
        "initialize_data\t/scratch/TCGA/Firehose__2012_01_16/ucsd_analyses/Run_0_1\tSARC\tMAF"
       ]
      },
      {
       "output_type": "stream",
       "stream": "stdout",
       "text": [
        "\n",
        "initialize_data\t/scratch/TCGA/Firehose__2012_01_16/ucsd_analyses/Run_0_1\tSARC\tCN_broad"
       ]
      },
      {
       "output_type": "stream",
       "stream": "stdout",
       "text": [
        "\n",
        "initialize_data\t/scratch/TCGA/Firehose__2012_01_16/ucsd_analyses/Run_0_1\tSARC\tCN_deletion"
       ]
      },
      {
       "output_type": "stream",
       "stream": "stdout",
       "text": [
        "\n",
        "initialize_data\t/scratch/TCGA/Firehose__2012_01_16/ucsd_analyses/Run_0_1\tSARC\tCN_amplification"
       ]
      },
      {
       "output_type": "stream",
       "stream": "stdout",
       "text": [
        "\n",
        "initialize_data\t/scratch/TCGA/Firehose__2012_01_16/ucsd_analyses/Run_0_1\tSARC\tCN_amplification_low"
       ]
      },
      {
       "output_type": "stream",
       "stream": "stdout",
       "text": [
        "\n",
        "initialize_data\t/scratch/TCGA/Firehose__2012_01_16/ucsd_analyses/Run_0_1\tSARC\tRPPA"
       ]
      },
      {
       "output_type": "stream",
       "stream": "stdout",
       "text": [
        "\n",
        "initialize_data\t/scratch/TCGA/Firehose__2012_01_16/ucsd_analyses/Run_0_1\tSARC\tMethylation"
       ]
      },
      {
       "output_type": "stream",
       "stream": "stdout",
       "text": [
        "\n",
        "initialize_data\t/scratch/TCGA/Firehose__2012_01_16/ucsd_analyses/Run_0_1\tSARC\tmRNASeq"
       ]
      },
      {
       "output_type": "stream",
       "stream": "stdout",
       "text": [
        "\n",
        "initialize_data\t/scratch/TCGA/Firehose__2012_01_16/ucsd_analyses/Run_0_1\tSKCM\tMAF"
       ]
      },
      {
       "output_type": "stream",
       "stream": "stdout",
       "text": [
        "\n",
        "initialize_data\t/scratch/TCGA/Firehose__2012_01_16/ucsd_analyses/Run_0_1\tSKCM\tCN_broad"
       ]
      },
      {
       "output_type": "stream",
       "stream": "stdout",
       "text": [
        "\n",
        "initialize_data\t/scratch/TCGA/Firehose__2012_01_16/ucsd_analyses/Run_0_1\tSKCM\tCN_deletion"
       ]
      },
      {
       "output_type": "stream",
       "stream": "stdout",
       "text": [
        "\n",
        "initialize_data\t/scratch/TCGA/Firehose__2012_01_16/ucsd_analyses/Run_0_1\tSKCM\tCN_amplification"
       ]
      },
      {
       "output_type": "stream",
       "stream": "stdout",
       "text": [
        "\n",
        "initialize_data\t/scratch/TCGA/Firehose__2012_01_16/ucsd_analyses/Run_0_1\tSKCM\tCN_amplification_low"
       ]
      },
      {
       "output_type": "stream",
       "stream": "stdout",
       "text": [
        "\n",
        "initialize_data\t/scratch/TCGA/Firehose__2012_01_16/ucsd_analyses/Run_0_1\tSKCM\tRPPA"
       ]
      },
      {
       "output_type": "stream",
       "stream": "stdout",
       "text": [
        "\n",
        "initialize_data\t/scratch/TCGA/Firehose__2012_01_16/ucsd_analyses/Run_0_1\tSKCM\tMethylation"
       ]
      },
      {
       "output_type": "stream",
       "stream": "stdout",
       "text": [
        "\n",
        "initialize_data\t/scratch/TCGA/Firehose__2012_01_16/ucsd_analyses/Run_0_1\tSKCM\tmRNASeq"
       ]
      },
      {
       "output_type": "stream",
       "stream": "stdout",
       "text": [
        "\n",
        "initialize_data\t/scratch/TCGA/Firehose__2012_01_16/ucsd_analyses/Run_0_1\tSTAD\tMAF"
       ]
      },
      {
       "output_type": "stream",
       "stream": "stdout",
       "text": [
        "\n",
        "initialize_data\t/scratch/TCGA/Firehose__2012_01_16/ucsd_analyses/Run_0_1\tSTAD\tCN_broad"
       ]
      },
      {
       "output_type": "stream",
       "stream": "stdout",
       "text": [
        "\n",
        "initialize_data\t/scratch/TCGA/Firehose__2012_01_16/ucsd_analyses/Run_0_1\tSTAD\tCN_deletion"
       ]
      },
      {
       "output_type": "stream",
       "stream": "stdout",
       "text": [
        "\n",
        "initialize_data\t/scratch/TCGA/Firehose__2012_01_16/ucsd_analyses/Run_0_1\tSTAD\tCN_amplification"
       ]
      },
      {
       "output_type": "stream",
       "stream": "stdout",
       "text": [
        "\n",
        "initialize_data\t/scratch/TCGA/Firehose__2012_01_16/ucsd_analyses/Run_0_1\tSTAD\tCN_amplification_low"
       ]
      },
      {
       "output_type": "stream",
       "stream": "stdout",
       "text": [
        "\n",
        "initialize_data\t/scratch/TCGA/Firehose__2012_01_16/ucsd_analyses/Run_0_1\tSTAD\tRPPA"
       ]
      },
      {
       "output_type": "stream",
       "stream": "stdout",
       "text": [
        "\n",
        "initialize_data\t/scratch/TCGA/Firehose__2012_01_16/ucsd_analyses/Run_0_1\tSTAD\tMethylation"
       ]
      },
      {
       "output_type": "stream",
       "stream": "stdout",
       "text": [
        "\n",
        "initialize_data\t/scratch/TCGA/Firehose__2012_01_16/ucsd_analyses/Run_0_1\tSTAD\tmRNASeq"
       ]
      },
      {
       "output_type": "stream",
       "stream": "stdout",
       "text": [
        "\n",
        "initialize_data\t/scratch/TCGA/Firehose__2012_01_16/ucsd_analyses/Run_0_1\tTHCA\tMAF"
       ]
      },
      {
       "output_type": "stream",
       "stream": "stdout",
       "text": [
        "\n",
        "initialize_data\t/scratch/TCGA/Firehose__2012_01_16/ucsd_analyses/Run_0_1\tTHCA\tCN_broad"
       ]
      },
      {
       "output_type": "stream",
       "stream": "stdout",
       "text": [
        "\n",
        "initialize_data\t/scratch/TCGA/Firehose__2012_01_16/ucsd_analyses/Run_0_1\tTHCA\tCN_deletion"
       ]
      },
      {
       "output_type": "stream",
       "stream": "stdout",
       "text": [
        "\n",
        "initialize_data\t/scratch/TCGA/Firehose__2012_01_16/ucsd_analyses/Run_0_1\tTHCA\tCN_amplification"
       ]
      },
      {
       "output_type": "stream",
       "stream": "stdout",
       "text": [
        "\n",
        "initialize_data\t/scratch/TCGA/Firehose__2012_01_16/ucsd_analyses/Run_0_1\tTHCA\tCN_amplification_low"
       ]
      },
      {
       "output_type": "stream",
       "stream": "stdout",
       "text": [
        "\n",
        "initialize_data\t/scratch/TCGA/Firehose__2012_01_16/ucsd_analyses/Run_0_1\tTHCA\tRPPA"
       ]
      },
      {
       "output_type": "stream",
       "stream": "stdout",
       "text": [
        "\n",
        "initialize_data\t/scratch/TCGA/Firehose__2012_01_16/ucsd_analyses/Run_0_1\tTHCA\tMethylation"
       ]
      },
      {
       "output_type": "stream",
       "stream": "stdout",
       "text": [
        "\n",
        "initialize_data\t/scratch/TCGA/Firehose__2012_01_16/ucsd_analyses/Run_0_1\tTHCA\tmRNASeq"
       ]
      },
      {
       "output_type": "stream",
       "stream": "stdout",
       "text": [
        "\n",
        "initialize_data\t/scratch/TCGA/Firehose__2012_01_16/ucsd_analyses/Run_0_1\tUCEC\tMAF"
       ]
      },
      {
       "output_type": "stream",
       "stream": "stdout",
       "text": [
        "\n",
        "initialize_data\t/scratch/TCGA/Firehose__2012_01_16/ucsd_analyses/Run_0_1\tUCEC\tCN_broad"
       ]
      },
      {
       "output_type": "stream",
       "stream": "stdout",
       "text": [
        "\n",
        "initialize_data\t/scratch/TCGA/Firehose__2012_01_16/ucsd_analyses/Run_0_1\tUCEC\tCN_deletion"
       ]
      },
      {
       "output_type": "stream",
       "stream": "stdout",
       "text": [
        "\n",
        "initialize_data\t/scratch/TCGA/Firehose__2012_01_16/ucsd_analyses/Run_0_1\tUCEC\tCN_amplification"
       ]
      },
      {
       "output_type": "stream",
       "stream": "stdout",
       "text": [
        "\n",
        "initialize_data\t/scratch/TCGA/Firehose__2012_01_16/ucsd_analyses/Run_0_1\tUCEC\tCN_amplification_low"
       ]
      },
      {
       "output_type": "stream",
       "stream": "stdout",
       "text": [
        "\n",
        "initialize_data\t/scratch/TCGA/Firehose__2012_01_16/ucsd_analyses/Run_0_1\tUCEC\tRPPA"
       ]
      },
      {
       "output_type": "stream",
       "stream": "stdout",
       "text": [
        "\n",
        "initialize_data\t/scratch/TCGA/Firehose__2012_01_16/ucsd_analyses/Run_0_1\tUCEC\tMethylation"
       ]
      },
      {
       "output_type": "stream",
       "stream": "stdout",
       "text": [
        "\n",
        "initialize_data\t/scratch/TCGA/Firehose__2012_01_16/ucsd_analyses/Run_0_1\tUCEC\tmRNASeq"
       ]
      },
      {
       "output_type": "stream",
       "stream": "stdout",
       "text": [
        "\n"
       ]
      }
     ],
     "prompt_number": 24
    },
    {
     "cell_type": "code",
     "collapsed": false,
     "input": [
      "t_mut = survival(run, 'MAF', ['age', 'mutation__rate_non'], 'event_free_survival_5y', cancers=cancers, dry_run=True)\n",
      "t_cn_b = survival(run, 'CN_broad', ['age', 'cna__chrom_instability'], 'event_free_survival_5y', cancers=cancers, dry_run=True)\n",
      "t_cn_d = survival(run, 'CN_deletion', ['age', 'cna__lesion_del_homo'], 'event_free_survival_5y', cancers=cancers, dry_run=True)\n",
      "t_cn_a = survival(run, 'CN_amplification', ['age', 'cna__lesion_amp_high'], 'event_free_survival_5y', cancers=cancers, dry_run=True)\n",
      "t_cn_a_low = survival(run, 'CN_amplification_low', ['age', 'lesion_amp'], 'event_free_survival_5y', cancers=cancers, dry_run=True)\n",
      "t_rppa = survival(run, 'RPPA', ['age'], 'event_free_survival_5y', cancers=cancers, dry_run=True)\n",
      "t_meth = survival(run, 'Methylation', ['age', 'methylation__pc1'], 'event_free_survival_5y', cancers=cancers, dry_run=True)\n",
      "t_rna = survival(run, 'mRNASeq', ['age', 'mRNASeq__pc1'], 'event_free_survival_5y', cancers=cancers, dry_run=True)\n",
      "tests = [t for test in [t_mut, t_cn_b, t_cn_d, t_cn_a, t_cn_a_low, t_rppa, t_meth, t_rna] for t in test]\n",
      "parallel_run(tests)"
     ],
     "language": "python",
     "metadata": {},
     "outputs": [
      {
       "output_type": "stream",
       "stream": "stdout",
       "text": [
        "run_survival\t/scratch/TCGA/Firehose__2012_01_16/ucsd_analyses/Run_0_1\tBLCA\tMAF\t['age', 'mutation__rate_non']\tevent_free_survival_5y\n",
        "run_survival\t/scratch/TCGA/Firehose__2012_01_16/ucsd_analyses/Run_0_1\tBRCA\tMAF\t['age', 'mutation__rate_non']\tevent_free_survival_5y\n",
        "run_survival\t/scratch/TCGA/Firehose__2012_01_16/ucsd_analyses/Run_0_1\tCESC\tMAF\t['age', 'mutation__rate_non']\tevent_free_survival_5y"
       ]
      },
      {
       "output_type": "stream",
       "stream": "stdout",
       "text": [
        "\n",
        "run_survival\t/scratch/TCGA/Firehose__2012_01_16/ucsd_analyses/Run_0_1\tCOADREAD\tMAF\t['age', 'mutation__rate_non']\tevent_free_survival_5y\n",
        "run_survival\t/scratch/TCGA/Firehose__2012_01_16/ucsd_analyses/Run_0_1\tDLBC\tMAF\t['age', 'mutation__rate_non']\tevent_free_survival_5y"
       ]
      },
      {
       "output_type": "stream",
       "stream": "stdout",
       "text": [
        "\n",
        "run_survival\t/scratch/TCGA/Firehose__2012_01_16/ucsd_analyses/Run_0_1\tESCA\tMAF\t['age', 'mutation__rate_non']\tevent_free_survival_5y\n",
        "run_survival\t/scratch/TCGA/Firehose__2012_01_16/ucsd_analyses/Run_0_1\tHNSC\tMAF\t['age', 'mutation__rate_non']\tevent_free_survival_5y"
       ]
      },
      {
       "output_type": "stream",
       "stream": "stdout",
       "text": [
        "\n",
        "run_survival\t/scratch/TCGA/Firehose__2012_01_16/ucsd_analyses/Run_0_1\tKICH\tMAF\t['age', 'mutation__rate_non']\tevent_free_survival_5y\n",
        "run_survival\t/scratch/TCGA/Firehose__2012_01_16/ucsd_analyses/Run_0_1\tKIRC\tMAF\t['age', 'mutation__rate_non']\tevent_free_survival_5y"
       ]
      },
      {
       "output_type": "stream",
       "stream": "stdout",
       "text": [
        "\n",
        "run_survival\t/scratch/TCGA/Firehose__2012_01_16/ucsd_analyses/Run_0_1\tKIRP\tMAF\t['age', 'mutation__rate_non']\tevent_free_survival_5y\n",
        "run_survival\t/scratch/TCGA/Firehose__2012_01_16/ucsd_analyses/Run_0_1\tLAML\tMAF\t['age', 'mutation__rate_non']\tevent_free_survival_5y"
       ]
      },
      {
       "output_type": "stream",
       "stream": "stdout",
       "text": [
        "\n",
        "run_survival\t/scratch/TCGA/Firehose__2012_01_16/ucsd_analyses/Run_0_1\tLIHC\tMAF\t['age', 'mutation__rate_non']\tevent_free_survival_5y\n",
        "run_survival\t/scratch/TCGA/Firehose__2012_01_16/ucsd_analyses/Run_0_1\tOV\tMAF\t['age', 'mutation__rate_non']\tevent_free_survival_5y"
       ]
      },
      {
       "output_type": "stream",
       "stream": "stdout",
       "text": [
        "\n",
        "run_survival\t/scratch/TCGA/Firehose__2012_01_16/ucsd_analyses/Run_0_1\tPAAD\tMAF\t['age', 'mutation__rate_non']\tevent_free_survival_5y\n",
        "run_survival\t/scratch/TCGA/Firehose__2012_01_16/ucsd_analyses/Run_0_1\tPRAD\tMAF\t['age', 'mutation__rate_non']\tevent_free_survival_5y"
       ]
      },
      {
       "output_type": "stream",
       "stream": "stdout",
       "text": [
        "\n",
        "run_survival\t/scratch/TCGA/Firehose__2012_01_16/ucsd_analyses/Run_0_1\tSARC\tMAF\t['age', 'mutation__rate_non']\tevent_free_survival_5y\n",
        "run_survival\t/scratch/TCGA/Firehose__2012_01_16/ucsd_analyses/Run_0_1\tSKCM\tMAF\t['age', 'mutation__rate_non']\tevent_free_survival_5y"
       ]
      },
      {
       "output_type": "stream",
       "stream": "stdout",
       "text": [
        "\n",
        "run_survival\t/scratch/TCGA/Firehose__2012_01_16/ucsd_analyses/Run_0_1\tSTAD\tMAF\t['age', 'mutation__rate_non']\tevent_free_survival_5y\n",
        "run_survival\t/scratch/TCGA/Firehose__2012_01_16/ucsd_analyses/Run_0_1\tTHCA\tMAF\t['age', 'mutation__rate_non']\tevent_free_survival_5y"
       ]
      },
      {
       "output_type": "stream",
       "stream": "stdout",
       "text": [
        "\n",
        "run_survival\t/scratch/TCGA/Firehose__2012_01_16/ucsd_analyses/Run_0_1\tUCEC\tMAF\t['age', 'mutation__rate_non']\tevent_free_survival_5y\n",
        "run_survival\t/scratch/TCGA/Firehose__2012_01_16/ucsd_analyses/Run_0_1\tBLCA\tCN_broad\t['age', 'cna__chrom_instability']\tevent_free_survival_5y"
       ]
      },
      {
       "output_type": "stream",
       "stream": "stdout",
       "text": [
        "\n",
        "run_survival\t/scratch/TCGA/Firehose__2012_01_16/ucsd_analyses/Run_0_1\tBRCA\tCN_broad\t['age', 'cna__chrom_instability']\tevent_free_survival_5y"
       ]
      },
      {
       "output_type": "stream",
       "stream": "stdout",
       "text": [
        "\n",
        "run_survival\t/scratch/TCGA/Firehose__2012_01_16/ucsd_analyses/Run_0_1\tCESC\tCN_broad\t['age', 'cna__chrom_instability']\tevent_free_survival_5y\n",
        "run_survival\t/scratch/TCGA/Firehose__2012_01_16/ucsd_analyses/Run_0_1\tCOADREAD\tCN_broad\t['age', 'cna__chrom_instability']\tevent_free_survival_5y"
       ]
      },
      {
       "output_type": "stream",
       "stream": "stdout",
       "text": [
        "\n",
        "run_survival\t/scratch/TCGA/Firehose__2012_01_16/ucsd_analyses/Run_0_1\tDLBC\tCN_broad\t['age', 'cna__chrom_instability']\tevent_free_survival_5y\n",
        "run_survival\t/scratch/TCGA/Firehose__2012_01_16/ucsd_analyses/Run_0_1\tESCA\tCN_broad\t['age', 'cna__chrom_instability']\tevent_free_survival_5y"
       ]
      },
      {
       "output_type": "stream",
       "stream": "stdout",
       "text": [
        "\n",
        "run_survival\t/scratch/TCGA/Firehose__2012_01_16/ucsd_analyses/Run_0_1\tHNSC\tCN_broad\t['age', 'cna__chrom_instability']\tevent_free_survival_5y"
       ]
      },
      {
       "output_type": "stream",
       "stream": "stdout",
       "text": [
        "\n",
        "run_survival\t/scratch/TCGA/Firehose__2012_01_16/ucsd_analyses/Run_0_1\tKICH\tCN_broad\t['age', 'cna__chrom_instability']\tevent_free_survival_5y"
       ]
      },
      {
       "output_type": "stream",
       "stream": "stdout",
       "text": [
        "\n",
        "run_survival\t/scratch/TCGA/Firehose__2012_01_16/ucsd_analyses/Run_0_1\tKIRC\tCN_broad\t['age', 'cna__chrom_instability']\tevent_free_survival_5y"
       ]
      },
      {
       "output_type": "stream",
       "stream": "stdout",
       "text": [
        "\n",
        "run_survival\t/scratch/TCGA/Firehose__2012_01_16/ucsd_analyses/Run_0_1\tKIRP\tCN_broad\t['age', 'cna__chrom_instability']\tevent_free_survival_5y"
       ]
      },
      {
       "output_type": "stream",
       "stream": "stdout",
       "text": [
        "\n",
        "run_survival\t/scratch/TCGA/Firehose__2012_01_16/ucsd_analyses/Run_0_1\tLAML\tCN_broad\t['age', 'cna__chrom_instability']\tevent_free_survival_5y"
       ]
      },
      {
       "output_type": "stream",
       "stream": "stdout",
       "text": [
        "\n",
        "run_survival\t/scratch/TCGA/Firehose__2012_01_16/ucsd_analyses/Run_0_1\tLIHC\tCN_broad\t['age', 'cna__chrom_instability']\tevent_free_survival_5y"
       ]
      },
      {
       "output_type": "stream",
       "stream": "stdout",
       "text": [
        "\n",
        "run_survival\t/scratch/TCGA/Firehose__2012_01_16/ucsd_analyses/Run_0_1\tOV\tCN_broad\t['age', 'cna__chrom_instability']\tevent_free_survival_5y"
       ]
      },
      {
       "output_type": "stream",
       "stream": "stdout",
       "text": [
        "\n",
        "run_survival\t/scratch/TCGA/Firehose__2012_01_16/ucsd_analyses/Run_0_1\tPAAD\tCN_broad\t['age', 'cna__chrom_instability']\tevent_free_survival_5y"
       ]
      },
      {
       "output_type": "stream",
       "stream": "stdout",
       "text": [
        "\n",
        "run_survival\t/scratch/TCGA/Firehose__2012_01_16/ucsd_analyses/Run_0_1\tPRAD\tCN_broad\t['age', 'cna__chrom_instability']\tevent_free_survival_5y"
       ]
      },
      {
       "output_type": "stream",
       "stream": "stdout",
       "text": [
        "\n",
        "run_survival\t/scratch/TCGA/Firehose__2012_01_16/ucsd_analyses/Run_0_1\tSARC\tCN_broad\t['age', 'cna__chrom_instability']\tevent_free_survival_5y"
       ]
      },
      {
       "output_type": "stream",
       "stream": "stdout",
       "text": [
        "\n",
        "run_survival\t/scratch/TCGA/Firehose__2012_01_16/ucsd_analyses/Run_0_1\tSKCM\tCN_broad\t['age', 'cna__chrom_instability']\tevent_free_survival_5y"
       ]
      },
      {
       "output_type": "stream",
       "stream": "stdout",
       "text": [
        "\n",
        "run_survival\t/scratch/TCGA/Firehose__2012_01_16/ucsd_analyses/Run_0_1\tSTAD\tCN_broad\t['age', 'cna__chrom_instability']\tevent_free_survival_5y"
       ]
      },
      {
       "output_type": "stream",
       "stream": "stdout",
       "text": [
        "\n",
        "run_survival\t/scratch/TCGA/Firehose__2012_01_16/ucsd_analyses/Run_0_1\tTHCA\tCN_broad\t['age', 'cna__chrom_instability']\tevent_free_survival_5y"
       ]
      },
      {
       "output_type": "stream",
       "stream": "stdout",
       "text": [
        "\n",
        "run_survival\t/scratch/TCGA/Firehose__2012_01_16/ucsd_analyses/Run_0_1\tUCEC\tCN_broad\t['age', 'cna__chrom_instability']\tevent_free_survival_5y"
       ]
      },
      {
       "output_type": "stream",
       "stream": "stdout",
       "text": [
        "\n",
        "run_survival\t/scratch/TCGA/Firehose__2012_01_16/ucsd_analyses/Run_0_1\tBLCA\tCN_deletion\t['age', 'cna__lesion_del_homo']\tevent_free_survival_5y"
       ]
      },
      {
       "output_type": "stream",
       "stream": "stdout",
       "text": [
        "\n",
        "run_survival\t/scratch/TCGA/Firehose__2012_01_16/ucsd_analyses/Run_0_1\tBRCA\tCN_deletion\t['age', 'cna__lesion_del_homo']\tevent_free_survival_5y"
       ]
      },
      {
       "output_type": "stream",
       "stream": "stdout",
       "text": [
        "\n",
        "run_survival\t/scratch/TCGA/Firehose__2012_01_16/ucsd_analyses/Run_0_1\tCESC\tCN_deletion\t['age', 'cna__lesion_del_homo']\tevent_free_survival_5y"
       ]
      },
      {
       "output_type": "stream",
       "stream": "stdout",
       "text": [
        "\n",
        "run_survival\t/scratch/TCGA/Firehose__2012_01_16/ucsd_analyses/Run_0_1\tCOADREAD\tCN_deletion\t['age', 'cna__lesion_del_homo']\tevent_free_survival_5y"
       ]
      },
      {
       "output_type": "stream",
       "stream": "stdout",
       "text": [
        "\n",
        "run_survival\t/scratch/TCGA/Firehose__2012_01_16/ucsd_analyses/Run_0_1\tDLBC\tCN_deletion\t['age', 'cna__lesion_del_homo']\tevent_free_survival_5y"
       ]
      },
      {
       "output_type": "stream",
       "stream": "stdout",
       "text": [
        "\n",
        "run_survival\t/scratch/TCGA/Firehose__2012_01_16/ucsd_analyses/Run_0_1\tESCA\tCN_deletion\t['age', 'cna__lesion_del_homo']\tevent_free_survival_5y"
       ]
      },
      {
       "output_type": "stream",
       "stream": "stdout",
       "text": [
        "\n",
        "run_survival\t/scratch/TCGA/Firehose__2012_01_16/ucsd_analyses/Run_0_1\tHNSC\tCN_deletion\t['age', 'cna__lesion_del_homo']\tevent_free_survival_5y"
       ]
      },
      {
       "output_type": "stream",
       "stream": "stdout",
       "text": [
        "\n",
        "run_survival\t/scratch/TCGA/Firehose__2012_01_16/ucsd_analyses/Run_0_1\tKICH\tCN_deletion\t['age', 'cna__lesion_del_homo']\tevent_free_survival_5y"
       ]
      },
      {
       "output_type": "stream",
       "stream": "stdout",
       "text": [
        "\n",
        "run_survival\t/scratch/TCGA/Firehose__2012_01_16/ucsd_analyses/Run_0_1\tKIRC\tCN_deletion\t['age', 'cna__lesion_del_homo']\tevent_free_survival_5y"
       ]
      },
      {
       "output_type": "stream",
       "stream": "stdout",
       "text": [
        "\n",
        "run_survival\t/scratch/TCGA/Firehose__2012_01_16/ucsd_analyses/Run_0_1\tKIRP\tCN_deletion\t['age', 'cna__lesion_del_homo']\tevent_free_survival_5y"
       ]
      },
      {
       "output_type": "stream",
       "stream": "stdout",
       "text": [
        "\n",
        "run_survival\t/scratch/TCGA/Firehose__2012_01_16/ucsd_analyses/Run_0_1\tLAML\tCN_deletion\t['age', 'cna__lesion_del_homo']\tevent_free_survival_5y"
       ]
      },
      {
       "output_type": "stream",
       "stream": "stdout",
       "text": [
        "\n",
        "run_survival\t/scratch/TCGA/Firehose__2012_01_16/ucsd_analyses/Run_0_1\tLIHC\tCN_deletion\t['age', 'cna__lesion_del_homo']\tevent_free_survival_5y"
       ]
      },
      {
       "output_type": "stream",
       "stream": "stdout",
       "text": [
        "\n",
        "run_survival\t/scratch/TCGA/Firehose__2012_01_16/ucsd_analyses/Run_0_1\tOV\tCN_deletion\t['age', 'cna__lesion_del_homo']\tevent_free_survival_5y"
       ]
      },
      {
       "output_type": "stream",
       "stream": "stdout",
       "text": [
        "\n",
        "run_survival\t/scratch/TCGA/Firehose__2012_01_16/ucsd_analyses/Run_0_1\tPAAD\tCN_deletion\t['age', 'cna__lesion_del_homo']\tevent_free_survival_5y"
       ]
      },
      {
       "output_type": "stream",
       "stream": "stdout",
       "text": [
        "\n",
        "run_survival\t/scratch/TCGA/Firehose__2012_01_16/ucsd_analyses/Run_0_1\tPRAD\tCN_deletion\t['age', 'cna__lesion_del_homo']\tevent_free_survival_5y"
       ]
      },
      {
       "output_type": "stream",
       "stream": "stdout",
       "text": [
        "\n",
        "run_survival\t/scratch/TCGA/Firehose__2012_01_16/ucsd_analyses/Run_0_1\tSARC\tCN_deletion\t['age', 'cna__lesion_del_homo']\tevent_free_survival_5y"
       ]
      },
      {
       "output_type": "stream",
       "stream": "stdout",
       "text": [
        "\n",
        "run_survival\t/scratch/TCGA/Firehose__2012_01_16/ucsd_analyses/Run_0_1\tSKCM\tCN_deletion\t['age', 'cna__lesion_del_homo']\tevent_free_survival_5y"
       ]
      },
      {
       "output_type": "stream",
       "stream": "stdout",
       "text": [
        "\n",
        "run_survival\t/scratch/TCGA/Firehose__2012_01_16/ucsd_analyses/Run_0_1\tSTAD\tCN_deletion\t['age', 'cna__lesion_del_homo']\tevent_free_survival_5y"
       ]
      },
      {
       "output_type": "stream",
       "stream": "stdout",
       "text": [
        "\n",
        "run_survival\t/scratch/TCGA/Firehose__2012_01_16/ucsd_analyses/Run_0_1\tTHCA\tCN_deletion\t['age', 'cna__lesion_del_homo']\tevent_free_survival_5y"
       ]
      },
      {
       "output_type": "stream",
       "stream": "stdout",
       "text": [
        "\n",
        "run_survival\t/scratch/TCGA/Firehose__2012_01_16/ucsd_analyses/Run_0_1\tUCEC\tCN_deletion\t['age', 'cna__lesion_del_homo']\tevent_free_survival_5y"
       ]
      },
      {
       "output_type": "stream",
       "stream": "stdout",
       "text": [
        "\n",
        "run_survival\t/scratch/TCGA/Firehose__2012_01_16/ucsd_analyses/Run_0_1\tBLCA\tCN_amplification\t['age', 'cna__lesion_amp_high']\tevent_free_survival_5y"
       ]
      },
      {
       "output_type": "stream",
       "stream": "stdout",
       "text": [
        "\n",
        "run_survival\t/scratch/TCGA/Firehose__2012_01_16/ucsd_analyses/Run_0_1\tBRCA\tCN_amplification\t['age', 'cna__lesion_amp_high']\tevent_free_survival_5y"
       ]
      },
      {
       "output_type": "stream",
       "stream": "stdout",
       "text": [
        "\n",
        "run_survival\t/scratch/TCGA/Firehose__2012_01_16/ucsd_analyses/Run_0_1\tCESC\tCN_amplification\t['age', 'cna__lesion_amp_high']\tevent_free_survival_5y"
       ]
      },
      {
       "output_type": "stream",
       "stream": "stdout",
       "text": [
        "\n",
        "run_survival\t/scratch/TCGA/Firehose__2012_01_16/ucsd_analyses/Run_0_1\tCOADREAD\tCN_amplification\t['age', 'cna__lesion_amp_high']\tevent_free_survival_5y"
       ]
      },
      {
       "output_type": "stream",
       "stream": "stdout",
       "text": [
        "\n",
        "run_survival\t/scratch/TCGA/Firehose__2012_01_16/ucsd_analyses/Run_0_1\tDLBC\tCN_amplification\t['age', 'cna__lesion_amp_high']\tevent_free_survival_5y"
       ]
      },
      {
       "output_type": "stream",
       "stream": "stdout",
       "text": [
        "\n",
        "run_survival\t/scratch/TCGA/Firehose__2012_01_16/ucsd_analyses/Run_0_1\tESCA\tCN_amplification\t['age', 'cna__lesion_amp_high']\tevent_free_survival_5y"
       ]
      },
      {
       "output_type": "stream",
       "stream": "stdout",
       "text": [
        "\n",
        "run_survival\t/scratch/TCGA/Firehose__2012_01_16/ucsd_analyses/Run_0_1\tHNSC\tCN_amplification\t['age', 'cna__lesion_amp_high']\tevent_free_survival_5y"
       ]
      },
      {
       "output_type": "stream",
       "stream": "stdout",
       "text": [
        "\n",
        "run_survival\t/scratch/TCGA/Firehose__2012_01_16/ucsd_analyses/Run_0_1\tKICH\tCN_amplification\t['age', 'cna__lesion_amp_high']\tevent_free_survival_5y"
       ]
      },
      {
       "output_type": "stream",
       "stream": "stdout",
       "text": [
        "\n",
        "run_survival\t/scratch/TCGA/Firehose__2012_01_16/ucsd_analyses/Run_0_1\tKIRC\tCN_amplification\t['age', 'cna__lesion_amp_high']\tevent_free_survival_5y"
       ]
      },
      {
       "output_type": "stream",
       "stream": "stdout",
       "text": [
        "\n",
        "run_survival\t/scratch/TCGA/Firehose__2012_01_16/ucsd_analyses/Run_0_1\tKIRP\tCN_amplification\t['age', 'cna__lesion_amp_high']\tevent_free_survival_5y"
       ]
      },
      {
       "output_type": "stream",
       "stream": "stdout",
       "text": [
        "\n",
        "run_survival\t/scratch/TCGA/Firehose__2012_01_16/ucsd_analyses/Run_0_1\tLAML\tCN_amplification\t['age', 'cna__lesion_amp_high']\tevent_free_survival_5y"
       ]
      },
      {
       "output_type": "stream",
       "stream": "stdout",
       "text": [
        "\n",
        "run_survival\t/scratch/TCGA/Firehose__2012_01_16/ucsd_analyses/Run_0_1\tLIHC\tCN_amplification\t['age', 'cna__lesion_amp_high']\tevent_free_survival_5y"
       ]
      },
      {
       "output_type": "stream",
       "stream": "stdout",
       "text": [
        "\n",
        "run_survival\t/scratch/TCGA/Firehose__2012_01_16/ucsd_analyses/Run_0_1\tOV\tCN_amplification\t['age', 'cna__lesion_amp_high']\tevent_free_survival_5y"
       ]
      },
      {
       "output_type": "stream",
       "stream": "stdout",
       "text": [
        "\n",
        "run_survival\t/scratch/TCGA/Firehose__2012_01_16/ucsd_analyses/Run_0_1\tPAAD\tCN_amplification\t['age', 'cna__lesion_amp_high']\tevent_free_survival_5y"
       ]
      },
      {
       "output_type": "stream",
       "stream": "stdout",
       "text": [
        "\n",
        "run_survival\t/scratch/TCGA/Firehose__2012_01_16/ucsd_analyses/Run_0_1\tPRAD\tCN_amplification\t['age', 'cna__lesion_amp_high']\tevent_free_survival_5y"
       ]
      },
      {
       "output_type": "stream",
       "stream": "stdout",
       "text": [
        "\n",
        "run_survival\t/scratch/TCGA/Firehose__2012_01_16/ucsd_analyses/Run_0_1\tSARC\tCN_amplification\t['age', 'cna__lesion_amp_high']\tevent_free_survival_5y"
       ]
      },
      {
       "output_type": "stream",
       "stream": "stdout",
       "text": [
        "\n",
        "run_survival\t/scratch/TCGA/Firehose__2012_01_16/ucsd_analyses/Run_0_1\tSKCM\tCN_amplification\t['age', 'cna__lesion_amp_high']\tevent_free_survival_5y"
       ]
      },
      {
       "output_type": "stream",
       "stream": "stdout",
       "text": [
        "\n",
        "run_survival\t/scratch/TCGA/Firehose__2012_01_16/ucsd_analyses/Run_0_1\tSTAD\tCN_amplification\t['age', 'cna__lesion_amp_high']\tevent_free_survival_5y"
       ]
      },
      {
       "output_type": "stream",
       "stream": "stdout",
       "text": [
        "\n",
        "run_survival\t/scratch/TCGA/Firehose__2012_01_16/ucsd_analyses/Run_0_1\tTHCA\tCN_amplification\t['age', 'cna__lesion_amp_high']\tevent_free_survival_5y"
       ]
      },
      {
       "output_type": "stream",
       "stream": "stdout",
       "text": [
        "\n",
        "run_survival\t/scratch/TCGA/Firehose__2012_01_16/ucsd_analyses/Run_0_1\tUCEC\tCN_amplification\t['age', 'cna__lesion_amp_high']\tevent_free_survival_5y"
       ]
      },
      {
       "output_type": "stream",
       "stream": "stdout",
       "text": [
        "\n",
        "run_survival\t/scratch/TCGA/Firehose__2012_01_16/ucsd_analyses/Run_0_1\tBLCA\tCN_amplification_low\t['age', 'lesion_amp']\tevent_free_survival_5y"
       ]
      },
      {
       "output_type": "stream",
       "stream": "stdout",
       "text": [
        "\n",
        "run_survival\t/scratch/TCGA/Firehose__2012_01_16/ucsd_analyses/Run_0_1\tBRCA\tCN_amplification_low\t['age', 'lesion_amp']\tevent_free_survival_5y"
       ]
      },
      {
       "output_type": "stream",
       "stream": "stdout",
       "text": [
        "\n",
        "run_survival\t/scratch/TCGA/Firehose__2012_01_16/ucsd_analyses/Run_0_1\tCESC\tCN_amplification_low\t['age', 'lesion_amp']\tevent_free_survival_5y"
       ]
      },
      {
       "output_type": "stream",
       "stream": "stdout",
       "text": [
        "\n",
        "run_survival\t/scratch/TCGA/Firehose__2012_01_16/ucsd_analyses/Run_0_1\tCOADREAD\tCN_amplification_low\t['age', 'lesion_amp']\tevent_free_survival_5y"
       ]
      },
      {
       "output_type": "stream",
       "stream": "stdout",
       "text": [
        "\n",
        "run_survival\t/scratch/TCGA/Firehose__2012_01_16/ucsd_analyses/Run_0_1\tDLBC\tCN_amplification_low\t['age', 'lesion_amp']\tevent_free_survival_5y"
       ]
      },
      {
       "output_type": "stream",
       "stream": "stdout",
       "text": [
        "\n",
        "run_survival\t/scratch/TCGA/Firehose__2012_01_16/ucsd_analyses/Run_0_1\tESCA\tCN_amplification_low\t['age', 'lesion_amp']\tevent_free_survival_5y"
       ]
      },
      {
       "output_type": "stream",
       "stream": "stdout",
       "text": [
        "\n",
        "run_survival\t/scratch/TCGA/Firehose__2012_01_16/ucsd_analyses/Run_0_1\tHNSC\tCN_amplification_low\t['age', 'lesion_amp']\tevent_free_survival_5y"
       ]
      },
      {
       "output_type": "stream",
       "stream": "stdout",
       "text": [
        "\n",
        "run_survival\t/scratch/TCGA/Firehose__2012_01_16/ucsd_analyses/Run_0_1\tKICH\tCN_amplification_low\t['age', 'lesion_amp']\tevent_free_survival_5y"
       ]
      },
      {
       "output_type": "stream",
       "stream": "stdout",
       "text": [
        "\n",
        "run_survival\t/scratch/TCGA/Firehose__2012_01_16/ucsd_analyses/Run_0_1\tKIRC\tCN_amplification_low\t['age', 'lesion_amp']\tevent_free_survival_5y"
       ]
      },
      {
       "output_type": "stream",
       "stream": "stdout",
       "text": [
        "\n",
        "run_survival\t/scratch/TCGA/Firehose__2012_01_16/ucsd_analyses/Run_0_1\tKIRP\tCN_amplification_low\t['age', 'lesion_amp']\tevent_free_survival_5y"
       ]
      },
      {
       "output_type": "stream",
       "stream": "stdout",
       "text": [
        "\n",
        "run_survival\t/scratch/TCGA/Firehose__2012_01_16/ucsd_analyses/Run_0_1\tLAML\tCN_amplification_low\t['age', 'lesion_amp']\tevent_free_survival_5y"
       ]
      },
      {
       "output_type": "stream",
       "stream": "stdout",
       "text": [
        "\n",
        "run_survival\t/scratch/TCGA/Firehose__2012_01_16/ucsd_analyses/Run_0_1\tLIHC\tCN_amplification_low\t['age', 'lesion_amp']\tevent_free_survival_5y"
       ]
      },
      {
       "output_type": "stream",
       "stream": "stdout",
       "text": [
        "\n",
        "run_survival\t/scratch/TCGA/Firehose__2012_01_16/ucsd_analyses/Run_0_1\tOV\tCN_amplification_low\t['age', 'lesion_amp']\tevent_free_survival_5y"
       ]
      },
      {
       "output_type": "stream",
       "stream": "stdout",
       "text": [
        "\n",
        "run_survival\t/scratch/TCGA/Firehose__2012_01_16/ucsd_analyses/Run_0_1\tPAAD\tCN_amplification_low\t['age', 'lesion_amp']\tevent_free_survival_5y"
       ]
      },
      {
       "output_type": "stream",
       "stream": "stdout",
       "text": [
        "\n",
        "run_survival\t/scratch/TCGA/Firehose__2012_01_16/ucsd_analyses/Run_0_1\tPRAD\tCN_amplification_low\t['age', 'lesion_amp']\tevent_free_survival_5y"
       ]
      },
      {
       "output_type": "stream",
       "stream": "stdout",
       "text": [
        "\n",
        "run_survival\t/scratch/TCGA/Firehose__2012_01_16/ucsd_analyses/Run_0_1\tSARC\tCN_amplification_low\t['age', 'lesion_amp']\tevent_free_survival_5y"
       ]
      },
      {
       "output_type": "stream",
       "stream": "stdout",
       "text": [
        "\n",
        "run_survival\t/scratch/TCGA/Firehose__2012_01_16/ucsd_analyses/Run_0_1\tSKCM\tCN_amplification_low\t['age', 'lesion_amp']\tevent_free_survival_5y"
       ]
      },
      {
       "output_type": "stream",
       "stream": "stdout",
       "text": [
        "\n",
        "run_survival\t/scratch/TCGA/Firehose__2012_01_16/ucsd_analyses/Run_0_1\tSTAD\tCN_amplification_low\t['age', 'lesion_amp']\tevent_free_survival_5y"
       ]
      },
      {
       "output_type": "stream",
       "stream": "stdout",
       "text": [
        "\n",
        "run_survival\t/scratch/TCGA/Firehose__2012_01_16/ucsd_analyses/Run_0_1\tTHCA\tCN_amplification_low\t['age', 'lesion_amp']\tevent_free_survival_5y"
       ]
      },
      {
       "output_type": "stream",
       "stream": "stdout",
       "text": [
        "\n",
        "run_survival\t/scratch/TCGA/Firehose__2012_01_16/ucsd_analyses/Run_0_1\tUCEC\tCN_amplification_low\t['age', 'lesion_amp']\tevent_free_survival_5y"
       ]
      },
      {
       "output_type": "stream",
       "stream": "stdout",
       "text": [
        "\n",
        "run_survival\t/scratch/TCGA/Firehose__2012_01_16/ucsd_analyses/Run_0_1\tBLCA\tRPPA\t['age']\tevent_free_survival_5y"
       ]
      },
      {
       "output_type": "stream",
       "stream": "stdout",
       "text": [
        "\n",
        "run_survival\t/scratch/TCGA/Firehose__2012_01_16/ucsd_analyses/Run_0_1\tBRCA\tRPPA\t['age']\tevent_free_survival_5y"
       ]
      },
      {
       "output_type": "stream",
       "stream": "stdout",
       "text": [
        "\n",
        "run_survival\t/scratch/TCGA/Firehose__2012_01_16/ucsd_analyses/Run_0_1\tCESC\tRPPA\t['age']\tevent_free_survival_5y"
       ]
      },
      {
       "output_type": "stream",
       "stream": "stdout",
       "text": [
        "\n",
        "run_survival\t/scratch/TCGA/Firehose__2012_01_16/ucsd_analyses/Run_0_1\tCOADREAD\tRPPA\t['age']\tevent_free_survival_5y"
       ]
      },
      {
       "output_type": "stream",
       "stream": "stdout",
       "text": [
        "\n",
        "run_survival\t/scratch/TCGA/Firehose__2012_01_16/ucsd_analyses/Run_0_1\tDLBC\tRPPA\t['age']\tevent_free_survival_5y"
       ]
      },
      {
       "output_type": "stream",
       "stream": "stdout",
       "text": [
        "\n",
        "run_survival\t/scratch/TCGA/Firehose__2012_01_16/ucsd_analyses/Run_0_1\tESCA\tRPPA\t['age']\tevent_free_survival_5y"
       ]
      },
      {
       "output_type": "stream",
       "stream": "stdout",
       "text": [
        "\n",
        "run_survival\t/scratch/TCGA/Firehose__2012_01_16/ucsd_analyses/Run_0_1\tHNSC\tRPPA\t['age']\tevent_free_survival_5y"
       ]
      },
      {
       "output_type": "stream",
       "stream": "stdout",
       "text": [
        "\n",
        "run_survival\t/scratch/TCGA/Firehose__2012_01_16/ucsd_analyses/Run_0_1\tKICH\tRPPA\t['age']\tevent_free_survival_5y"
       ]
      },
      {
       "output_type": "stream",
       "stream": "stdout",
       "text": [
        "\n",
        "run_survival\t/scratch/TCGA/Firehose__2012_01_16/ucsd_analyses/Run_0_1\tKIRC\tRPPA\t['age']\tevent_free_survival_5y"
       ]
      },
      {
       "output_type": "stream",
       "stream": "stdout",
       "text": [
        "\n",
        "run_survival\t/scratch/TCGA/Firehose__2012_01_16/ucsd_analyses/Run_0_1\tKIRP\tRPPA\t['age']\tevent_free_survival_5y"
       ]
      },
      {
       "output_type": "stream",
       "stream": "stdout",
       "text": [
        "\n",
        "run_survival\t/scratch/TCGA/Firehose__2012_01_16/ucsd_analyses/Run_0_1\tLAML\tRPPA\t['age']\tevent_free_survival_5y"
       ]
      },
      {
       "output_type": "stream",
       "stream": "stdout",
       "text": [
        "\n",
        "run_survival\t/scratch/TCGA/Firehose__2012_01_16/ucsd_analyses/Run_0_1\tLIHC\tRPPA\t['age']\tevent_free_survival_5y"
       ]
      },
      {
       "output_type": "stream",
       "stream": "stdout",
       "text": [
        "\n",
        "run_survival\t/scratch/TCGA/Firehose__2012_01_16/ucsd_analyses/Run_0_1\tOV\tRPPA\t['age']\tevent_free_survival_5y"
       ]
      },
      {
       "output_type": "stream",
       "stream": "stdout",
       "text": [
        "\n",
        "run_survival\t/scratch/TCGA/Firehose__2012_01_16/ucsd_analyses/Run_0_1\tPAAD\tRPPA\t['age']\tevent_free_survival_5y"
       ]
      },
      {
       "output_type": "stream",
       "stream": "stdout",
       "text": [
        "\n",
        "run_survival\t/scratch/TCGA/Firehose__2012_01_16/ucsd_analyses/Run_0_1\tPRAD\tRPPA\t['age']\tevent_free_survival_5y"
       ]
      },
      {
       "output_type": "stream",
       "stream": "stdout",
       "text": [
        "\n",
        "run_survival\t/scratch/TCGA/Firehose__2012_01_16/ucsd_analyses/Run_0_1\tSARC\tRPPA\t['age']\tevent_free_survival_5y"
       ]
      },
      {
       "output_type": "stream",
       "stream": "stdout",
       "text": [
        "\n",
        "run_survival\t/scratch/TCGA/Firehose__2012_01_16/ucsd_analyses/Run_0_1\tSKCM\tRPPA\t['age']\tevent_free_survival_5y"
       ]
      },
      {
       "output_type": "stream",
       "stream": "stdout",
       "text": [
        "\n",
        "run_survival\t/scratch/TCGA/Firehose__2012_01_16/ucsd_analyses/Run_0_1\tSTAD\tRPPA\t['age']\tevent_free_survival_5y"
       ]
      },
      {
       "output_type": "stream",
       "stream": "stdout",
       "text": [
        "\n",
        "run_survival\t/scratch/TCGA/Firehose__2012_01_16/ucsd_analyses/Run_0_1\tTHCA\tRPPA\t['age']\tevent_free_survival_5y"
       ]
      },
      {
       "output_type": "stream",
       "stream": "stdout",
       "text": [
        "\n",
        "run_survival\t/scratch/TCGA/Firehose__2012_01_16/ucsd_analyses/Run_0_1\tUCEC\tRPPA\t['age']\tevent_free_survival_5y"
       ]
      },
      {
       "output_type": "stream",
       "stream": "stdout",
       "text": [
        "\n",
        "run_survival\t/scratch/TCGA/Firehose__2012_01_16/ucsd_analyses/Run_0_1\tBLCA\tMethylation\t['age', 'methylation__pc1']\tevent_free_survival_5y"
       ]
      },
      {
       "output_type": "stream",
       "stream": "stdout",
       "text": [
        "\n",
        "run_survival\t/scratch/TCGA/Firehose__2012_01_16/ucsd_analyses/Run_0_1\tBRCA\tMethylation\t['age', 'methylation__pc1']\tevent_free_survival_5y"
       ]
      },
      {
       "output_type": "stream",
       "stream": "stdout",
       "text": [
        "\n",
        "run_survival\t/scratch/TCGA/Firehose__2012_01_16/ucsd_analyses/Run_0_1\tCESC\tMethylation\t['age', 'methylation__pc1']\tevent_free_survival_5y"
       ]
      },
      {
       "output_type": "stream",
       "stream": "stdout",
       "text": [
        "\n",
        "run_survival\t/scratch/TCGA/Firehose__2012_01_16/ucsd_analyses/Run_0_1\tCOADREAD\tMethylation\t['age', 'methylation__pc1']\tevent_free_survival_5y"
       ]
      },
      {
       "output_type": "stream",
       "stream": "stdout",
       "text": [
        "\n",
        "run_survival\t/scratch/TCGA/Firehose__2012_01_16/ucsd_analyses/Run_0_1\tDLBC\tMethylation\t['age', 'methylation__pc1']\tevent_free_survival_5y"
       ]
      },
      {
       "output_type": "stream",
       "stream": "stdout",
       "text": [
        "\n",
        "run_survival\t/scratch/TCGA/Firehose__2012_01_16/ucsd_analyses/Run_0_1\tESCA\tMethylation\t['age', 'methylation__pc1']\tevent_free_survival_5y"
       ]
      },
      {
       "output_type": "stream",
       "stream": "stdout",
       "text": [
        "\n",
        "run_survival\t/scratch/TCGA/Firehose__2012_01_16/ucsd_analyses/Run_0_1\tHNSC\tMethylation\t['age', 'methylation__pc1']\tevent_free_survival_5y"
       ]
      },
      {
       "output_type": "stream",
       "stream": "stdout",
       "text": [
        "\n",
        "run_survival\t/scratch/TCGA/Firehose__2012_01_16/ucsd_analyses/Run_0_1\tKICH\tMethylation\t['age', 'methylation__pc1']\tevent_free_survival_5y"
       ]
      },
      {
       "output_type": "stream",
       "stream": "stdout",
       "text": [
        "\n",
        "run_survival\t/scratch/TCGA/Firehose__2012_01_16/ucsd_analyses/Run_0_1\tKIRC\tMethylation\t['age', 'methylation__pc1']\tevent_free_survival_5y"
       ]
      },
      {
       "output_type": "stream",
       "stream": "stdout",
       "text": [
        "\n",
        "run_survival\t/scratch/TCGA/Firehose__2012_01_16/ucsd_analyses/Run_0_1\tKIRP\tMethylation\t['age', 'methylation__pc1']\tevent_free_survival_5y"
       ]
      },
      {
       "output_type": "stream",
       "stream": "stdout",
       "text": [
        "\n",
        "run_survival\t/scratch/TCGA/Firehose__2012_01_16/ucsd_analyses/Run_0_1\tLAML\tMethylation\t['age', 'methylation__pc1']\tevent_free_survival_5y"
       ]
      },
      {
       "output_type": "stream",
       "stream": "stdout",
       "text": [
        "\n",
        "run_survival\t/scratch/TCGA/Firehose__2012_01_16/ucsd_analyses/Run_0_1\tLIHC\tMethylation\t['age', 'methylation__pc1']\tevent_free_survival_5y"
       ]
      },
      {
       "output_type": "stream",
       "stream": "stdout",
       "text": [
        "\n",
        "run_survival\t/scratch/TCGA/Firehose__2012_01_16/ucsd_analyses/Run_0_1\tOV\tMethylation\t['age', 'methylation__pc1']\tevent_free_survival_5y"
       ]
      },
      {
       "output_type": "stream",
       "stream": "stdout",
       "text": [
        "\n",
        "run_survival\t/scratch/TCGA/Firehose__2012_01_16/ucsd_analyses/Run_0_1\tPAAD\tMethylation\t['age', 'methylation__pc1']\tevent_free_survival_5y"
       ]
      },
      {
       "output_type": "stream",
       "stream": "stdout",
       "text": [
        "\n",
        "run_survival\t/scratch/TCGA/Firehose__2012_01_16/ucsd_analyses/Run_0_1\tPRAD\tMethylation\t['age', 'methylation__pc1']\tevent_free_survival_5y"
       ]
      },
      {
       "output_type": "stream",
       "stream": "stdout",
       "text": [
        "\n",
        "run_survival\t/scratch/TCGA/Firehose__2012_01_16/ucsd_analyses/Run_0_1\tSARC\tMethylation\t['age', 'methylation__pc1']\tevent_free_survival_5y"
       ]
      },
      {
       "output_type": "stream",
       "stream": "stdout",
       "text": [
        "\n",
        "run_survival\t/scratch/TCGA/Firehose__2012_01_16/ucsd_analyses/Run_0_1\tSKCM\tMethylation\t['age', 'methylation__pc1']\tevent_free_survival_5y"
       ]
      },
      {
       "output_type": "stream",
       "stream": "stdout",
       "text": [
        "\n",
        "run_survival\t/scratch/TCGA/Firehose__2012_01_16/ucsd_analyses/Run_0_1\tSTAD\tMethylation\t['age', 'methylation__pc1']\tevent_free_survival_5y"
       ]
      },
      {
       "output_type": "stream",
       "stream": "stdout",
       "text": [
        "\n",
        "run_survival\t/scratch/TCGA/Firehose__2012_01_16/ucsd_analyses/Run_0_1\tTHCA\tMethylation\t['age', 'methylation__pc1']\tevent_free_survival_5y"
       ]
      },
      {
       "output_type": "stream",
       "stream": "stdout",
       "text": [
        "\n",
        "run_survival\t/scratch/TCGA/Firehose__2012_01_16/ucsd_analyses/Run_0_1\tUCEC\tMethylation\t['age', 'methylation__pc1']\tevent_free_survival_5y"
       ]
      },
      {
       "output_type": "stream",
       "stream": "stdout",
       "text": [
        "\n",
        "run_survival\t/scratch/TCGA/Firehose__2012_01_16/ucsd_analyses/Run_0_1\tBLCA\tmRNASeq\t['age', 'mRNASeq__pc1']\tevent_free_survival_5y"
       ]
      },
      {
       "output_type": "stream",
       "stream": "stdout",
       "text": [
        "\n",
        "run_survival\t/scratch/TCGA/Firehose__2012_01_16/ucsd_analyses/Run_0_1\tBRCA\tmRNASeq\t['age', 'mRNASeq__pc1']\tevent_free_survival_5y"
       ]
      },
      {
       "output_type": "stream",
       "stream": "stdout",
       "text": [
        "\n",
        "run_survival\t/scratch/TCGA/Firehose__2012_01_16/ucsd_analyses/Run_0_1\tCESC\tmRNASeq\t['age', 'mRNASeq__pc1']\tevent_free_survival_5y"
       ]
      },
      {
       "output_type": "stream",
       "stream": "stdout",
       "text": [
        "\n",
        "run_survival\t/scratch/TCGA/Firehose__2012_01_16/ucsd_analyses/Run_0_1\tCOADREAD\tmRNASeq\t['age', 'mRNASeq__pc1']\tevent_free_survival_5y"
       ]
      },
      {
       "output_type": "stream",
       "stream": "stdout",
       "text": [
        "\n",
        "run_survival\t/scratch/TCGA/Firehose__2012_01_16/ucsd_analyses/Run_0_1\tDLBC\tmRNASeq\t['age', 'mRNASeq__pc1']\tevent_free_survival_5y"
       ]
      },
      {
       "output_type": "stream",
       "stream": "stdout",
       "text": [
        "\n",
        "run_survival\t/scratch/TCGA/Firehose__2012_01_16/ucsd_analyses/Run_0_1\tESCA\tmRNASeq\t['age', 'mRNASeq__pc1']\tevent_free_survival_5y"
       ]
      },
      {
       "output_type": "stream",
       "stream": "stdout",
       "text": [
        "\n",
        "run_survival\t/scratch/TCGA/Firehose__2012_01_16/ucsd_analyses/Run_0_1\tHNSC\tmRNASeq\t['age', 'mRNASeq__pc1']\tevent_free_survival_5y"
       ]
      },
      {
       "output_type": "stream",
       "stream": "stdout",
       "text": [
        "\n",
        "run_survival\t/scratch/TCGA/Firehose__2012_01_16/ucsd_analyses/Run_0_1\tKICH\tmRNASeq\t['age', 'mRNASeq__pc1']\tevent_free_survival_5y"
       ]
      },
      {
       "output_type": "stream",
       "stream": "stdout",
       "text": [
        "\n",
        "run_survival\t/scratch/TCGA/Firehose__2012_01_16/ucsd_analyses/Run_0_1\tKIRC\tmRNASeq\t['age', 'mRNASeq__pc1']\tevent_free_survival_5y"
       ]
      },
      {
       "output_type": "stream",
       "stream": "stdout",
       "text": [
        "\n",
        "run_survival\t/scratch/TCGA/Firehose__2012_01_16/ucsd_analyses/Run_0_1\tKIRP\tmRNASeq\t['age', 'mRNASeq__pc1']\tevent_free_survival_5y"
       ]
      },
      {
       "output_type": "stream",
       "stream": "stdout",
       "text": [
        "\n",
        "run_survival\t/scratch/TCGA/Firehose__2012_01_16/ucsd_analyses/Run_0_1\tLAML\tmRNASeq\t['age', 'mRNASeq__pc1']\tevent_free_survival_5y"
       ]
      },
      {
       "output_type": "stream",
       "stream": "stdout",
       "text": [
        "\n",
        "run_survival\t/scratch/TCGA/Firehose__2012_01_16/ucsd_analyses/Run_0_1\tLIHC\tmRNASeq\t['age', 'mRNASeq__pc1']\tevent_free_survival_5y"
       ]
      },
      {
       "output_type": "stream",
       "stream": "stdout",
       "text": [
        "\n",
        "run_survival\t/scratch/TCGA/Firehose__2012_01_16/ucsd_analyses/Run_0_1\tOV\tmRNASeq\t['age', 'mRNASeq__pc1']\tevent_free_survival_5y"
       ]
      },
      {
       "output_type": "stream",
       "stream": "stdout",
       "text": [
        "\n",
        "run_survival\t/scratch/TCGA/Firehose__2012_01_16/ucsd_analyses/Run_0_1\tPAAD\tmRNASeq\t['age', 'mRNASeq__pc1']\tevent_free_survival_5y"
       ]
      },
      {
       "output_type": "stream",
       "stream": "stdout",
       "text": [
        "\n",
        "run_survival\t/scratch/TCGA/Firehose__2012_01_16/ucsd_analyses/Run_0_1\tPRAD\tmRNASeq\t['age', 'mRNASeq__pc1']\tevent_free_survival_5y"
       ]
      },
      {
       "output_type": "stream",
       "stream": "stdout",
       "text": [
        "\n",
        "run_survival\t/scratch/TCGA/Firehose__2012_01_16/ucsd_analyses/Run_0_1\tSARC\tmRNASeq\t['age', 'mRNASeq__pc1']\tevent_free_survival_5y"
       ]
      },
      {
       "output_type": "stream",
       "stream": "stdout",
       "text": [
        "\n",
        "run_survival\t/scratch/TCGA/Firehose__2012_01_16/ucsd_analyses/Run_0_1\tSKCM\tmRNASeq\t['age', 'mRNASeq__pc1']\tevent_free_survival_5y"
       ]
      },
      {
       "output_type": "stream",
       "stream": "stdout",
       "text": [
        "\n",
        "run_survival\t/scratch/TCGA/Firehose__2012_01_16/ucsd_analyses/Run_0_1\tSTAD\tmRNASeq\t['age', 'mRNASeq__pc1']\tevent_free_survival_5y"
       ]
      },
      {
       "output_type": "stream",
       "stream": "stdout",
       "text": [
        "\n",
        "run_survival\t/scratch/TCGA/Firehose__2012_01_16/ucsd_analyses/Run_0_1\tTHCA\tmRNASeq\t['age', 'mRNASeq__pc1']\tevent_free_survival_5y"
       ]
      },
      {
       "output_type": "stream",
       "stream": "stdout",
       "text": [
        "\n",
        "run_survival\t/scratch/TCGA/Firehose__2012_01_16/ucsd_analyses/Run_0_1\tUCEC\tmRNASeq\t['age', 'mRNASeq__pc1']\tevent_free_survival_5y"
       ]
      },
      {
       "output_type": "stream",
       "stream": "stdout",
       "text": [
        "\n"
       ]
      }
     ],
     "prompt_number": 25
    },
    {
     "cell_type": "code",
     "collapsed": false,
     "input": [],
     "language": "python",
     "metadata": {},
     "outputs": []
    }
   ],
   "metadata": {}
  }
 ]
}