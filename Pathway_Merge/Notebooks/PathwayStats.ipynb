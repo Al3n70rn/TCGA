{
 "metadata": {
  "name": "PathwayStats"
 },
 "nbformat": 3,
 "nbformat_minor": 0,
 "worksheets": [
  {
   "cells": [
    {
     "cell_type": "code",
     "collapsed": false,
     "input": [
      "cd ../src/"
     ],
     "language": "python",
     "metadata": {},
     "outputs": [
      {
       "output_type": "stream",
       "stream": "stdout",
       "text": [
        "/cellar/users/agross/TCGA_Code/TCGA/Pathway_Merge/src\n"
       ]
      }
     ],
     "prompt_number": 1
    },
    {
     "cell_type": "code",
     "collapsed": false,
     "input": [
      "import os as os\n",
      "import pickle as pickle\n",
      "import pandas as pandas\n",
      "from Data.Pathways import read_in_pathways\n",
      "from Processing.Clinical import ClinicalObject\n",
      "\n",
      "pandas.set_printoptions(max_columns=300)"
     ],
     "language": "python",
     "metadata": {},
     "outputs": [],
     "prompt_number": 2
    },
    {
     "cell_type": "code",
     "collapsed": false,
     "input": [
      "firehose_path = '/cellar/data/TCGA/'\n",
      "date = '20121024'\n",
      "date_ = '_'.join([date[:4], date[4:6], date[6:8]])\n",
      "pathway_file = '/cellar/users/agross/Data/GeneSets/c2.cp.v3.0.symbols_edit.csv'\n",
      "gene_sets, gene_lookup = read_in_pathways(pathway_file)"
     ],
     "language": "python",
     "metadata": {},
     "outputs": [],
     "prompt_number": 3
    },
    {
     "cell_type": "code",
     "collapsed": false,
     "input": [
      "report_ext = {'mutation': 'cov_age_rate_4', 'amplification': 'cov_age_rate',\n",
      "              'deletion': 'cov_age_rate', 'expression': 'cov_age_drop_pc',\n",
      "              'methylation': 'cov_age_drop_pc'}"
     ],
     "language": "python",
     "metadata": {},
     "outputs": [],
     "prompt_number": 4
    },
    {
     "cell_type": "code",
     "collapsed": false,
     "input": [
      "def get_clinical_objects(cancer, data_types, test=False):\n",
      "    clinical = {}\n",
      "    for data_type in data_types:\n",
      "        data_path = firehose_path + 'analyses__' + date_ + '/' + cancer + '/' + date + '/'\n",
      "        clinical_obj = data_path + data_type + '_' + report_ext[data_type] + '/ClinicalObject.p'\n",
      "        if os.path.isfile(clinical_obj):\n",
      "            if test:\n",
      "                clinical[data_type] = clinical_obj\n",
      "            else:\n",
      "                clinical[data_type] = pickle.load(open(clinical_obj, 'rb'))\n",
      "    return clinical"
     ],
     "language": "python",
     "metadata": {},
     "outputs": [],
     "prompt_number": 5
    },
    {
     "cell_type": "code",
     "collapsed": false,
     "input": [
      "cancer=  'OV'\n",
      "data_type = 'amplification'\n",
      "data_path = firehose_path + 'analyses__' + date_ + '/' + cancer + '/' + date + '/'\n",
      "clinical_obj = data_path + data_type + '/ClinicalObject.p'\n",
      "cancer = pickle.load(open(clinical_obj,'rb'))"
     ],
     "language": "python",
     "metadata": {},
     "outputs": [
      {
       "ename": "IOError",
       "evalue": "[Errno 2] No such file or directory: '/cellar/data/TCGA/analyses__2012_10_24/OV/20121024/amplification/ClinicalObject.p'",
       "output_type": "pyerr",
       "traceback": [
        "\u001b[1;31m---------------------------------------------------------------------------\u001b[0m\n\u001b[1;31mIOError\u001b[0m                                   Traceback (most recent call last)",
        "\u001b[1;32m<ipython-input-12-438358f57cae>\u001b[0m in \u001b[0;36m<module>\u001b[1;34m()\u001b[0m\n\u001b[0;32m      3\u001b[0m \u001b[0mdata_path\u001b[0m \u001b[1;33m=\u001b[0m \u001b[0mfirehose_path\u001b[0m \u001b[1;33m+\u001b[0m \u001b[1;34m'analyses__'\u001b[0m \u001b[1;33m+\u001b[0m \u001b[0mdate_\u001b[0m \u001b[1;33m+\u001b[0m \u001b[1;34m'/'\u001b[0m \u001b[1;33m+\u001b[0m \u001b[0mcancer\u001b[0m \u001b[1;33m+\u001b[0m \u001b[1;34m'/'\u001b[0m \u001b[1;33m+\u001b[0m \u001b[0mdate\u001b[0m \u001b[1;33m+\u001b[0m \u001b[1;34m'/'\u001b[0m\u001b[1;33m\u001b[0m\u001b[0m\n\u001b[0;32m      4\u001b[0m \u001b[0mclinical_obj\u001b[0m \u001b[1;33m=\u001b[0m \u001b[0mdata_path\u001b[0m \u001b[1;33m+\u001b[0m \u001b[0mdata_type\u001b[0m \u001b[1;33m+\u001b[0m \u001b[1;34m'/ClinicalObject.p'\u001b[0m\u001b[1;33m\u001b[0m\u001b[0m\n\u001b[1;32m----> 5\u001b[1;33m \u001b[0mcancer\u001b[0m \u001b[1;33m=\u001b[0m \u001b[0mpickle\u001b[0m\u001b[1;33m.\u001b[0m\u001b[0mload\u001b[0m\u001b[1;33m(\u001b[0m\u001b[0mopen\u001b[0m\u001b[1;33m(\u001b[0m\u001b[0mclinical_obj\u001b[0m\u001b[1;33m,\u001b[0m\u001b[1;34m'rb'\u001b[0m\u001b[1;33m)\u001b[0m\u001b[1;33m)\u001b[0m\u001b[1;33m\u001b[0m\u001b[0m\n\u001b[0m",
        "\u001b[1;31mIOError\u001b[0m: [Errno 2] No such file or directory: '/cellar/data/TCGA/analyses__2012_10_24/OV/20121024/amplification/ClinicalObject.p'"
       ]
      }
     ],
     "prompt_number": 12
    },
    {
     "cell_type": "code",
     "collapsed": false,
     "input": [
      "pathways = np.sort(cancer.p_pathways.event_free_survival)"
     ],
     "language": "python",
     "metadata": {},
     "outputs": [],
     "prompt_number": 7
    },
    {
     "cell_type": "code",
     "collapsed": false,
     "input": [
      "res = [p for p in pathways.index[1:] if len(gene_sets[p].intersection(set.union(*map(lambda s: gene_sets[s], pathways[:p].index[:-1])))) == 0]\n",
      "res = res + [pathways.index[0]]\n",
      "non_redundant = cancer.q_pathways.ix[res].event_free_survival"
     ],
     "language": "python",
     "metadata": {},
     "outputs": [],
     "prompt_number": 8
    },
    {
     "cell_type": "code",
     "collapsed": false,
     "input": [
      "len(non_redundant)"
     ],
     "language": "python",
     "metadata": {},
     "outputs": [
      {
       "output_type": "pyout",
       "prompt_number": 9,
       "text": [
        "17"
       ]
      }
     ],
     "prompt_number": 9
    },
    {
     "cell_type": "code",
     "collapsed": false,
     "input": [
      "figsize(4,3)\n",
      "q = cancer.q_pathways.event_free_survival \n",
      "q = np.sort(q).dropna()\n",
      "#q = (np.log10(q))\n",
      "\n",
      "plot(*array([array((i,sum(q < i))) for i in arange(0, 1, .01) if sum(q < i) > 0]).T, lw=3, label='pathways')\n",
      "\n",
      "q = non_redundant\n",
      "plot(*array([array((i,sum(q < i))) for i in arange(0, 1, .01) if sum(q < i) > 0]).T, lw=3, color='purple', label='non-redundant')\n",
      "\n",
      "q = cancer.q_genes.event_free_survival\n",
      "q = np.sort(q).dropna()\n",
      "\n",
      "plot(*array([array((i,sum(q < i))) for i in arange(0, 1, .01) if sum(q < i) > 0]).T, lw=3, label='genes')\n",
      "\n",
      "\n",
      "\n",
      "axvline(.2, color='r', lw=3, ls='--', alpha=.5)\n",
      "#yscale('symlog')\n",
      "legend(fancybox=True)\n",
      "plt.xlim(0, 1)\n",
      "plt.ylim(0,50);"
     ],
     "language": "python",
     "metadata": {},
     "outputs": [
      {
       "output_type": "display_data",
       "png": "[encoded data removed]"
      }
     ],
     "prompt_number": 10
    },
    {
     "cell_type": "code",
     "collapsed": false,
     "input": [
      "def get_patients(sets):\n",
      "    counts = cancer.meta_matrix.ix[sets].sum()\n",
      "    patients = set(counts[counts > 0].index)\n",
      "    return patients"
     ],
     "language": "python",
     "metadata": {},
     "outputs": [],
     "prompt_number": 406
    },
    {
     "cell_type": "code",
     "collapsed": false,
     "input": [
      "res = [p for p in pathways.index[1:] if len(get_patients([p]).intersection(get_patients(pathways[:p].index[:-1]))) < 5]\n",
      "res = [pathways.index[0]] + res\n",
      "exclusive = cancer.p_pathways.ix[res].event_free_survival"
     ],
     "language": "python",
     "metadata": {},
     "outputs": [],
     "prompt_number": 407
    },
    {
     "cell_type": "code",
     "collapsed": false,
     "input": [
      "p = np.sort(cancer.q_pathways.survival)"
     ],
     "language": "python",
     "metadata": {},
     "outputs": [],
     "prompt_number": 408
    },
    {
     "cell_type": "code",
     "collapsed": false,
     "input": [
      "get_patients(['KEGG_WNT_SIGNALING_PATHWAY']).difference(get_patients(['KEGG_UBIQUITIN_MEDIATED_PROTEOLYSIS']))"
     ],
     "language": "python",
     "metadata": {},
     "outputs": [
      {
       "output_type": "pyout",
       "prompt_number": 391,
       "text": [
        "set(['TCGA-AB-2878',\n",
        "     'TCGA-AB-2868',\n",
        "     'TCGA-AB-2943',\n",
        "     'TCGA-AB-2908',\n",
        "     'TCGA-AB-2904',\n",
        "     'TCGA-AB-2829',\n",
        "     'TCGA-AB-2900',\n",
        "     'TCGA-AB-3009',\n",
        "     'TCGA-AB-2854',\n",
        "     'TCGA-AB-2823',\n",
        "     'TCGA-AB-2813',\n",
        "     'TCGA-AB-2827'])"
       ]
      }
     ],
     "prompt_number": 391
    },
    {
     "cell_type": "code",
     "collapsed": false,
     "input": [
      "m = (cancer.meta_matrix.ix[p.index[:10]] > 0).astype(int)\n",
      "o = np.sort(m.apply(lambda s: ''.join(map(str, s)))).index[::-1]"
     ],
     "language": "python",
     "metadata": {},
     "outputs": [],
     "prompt_number": 383
    },
    {
     "cell_type": "code",
     "collapsed": false,
     "input": [
      "fig, ax = subplots(figsize=(15,4))\n",
      "ax.imshow(m.ix[:,o[:60]].as_matrix(), aspect=1, interpolation='nearest')\n",
      "ax.set_yticks(range(10))\n",
      "ax.set_yticklabels(p.index[:10])"
     ],
     "language": "python",
     "metadata": {},
     "outputs": [
      {
       "output_type": "pyout",
       "prompt_number": 393,
       "text": [
        "[<matplotlib.text.Text at 0xcef0890>,\n",
        " <matplotlib.text.Text at 0xceeb5d0>,\n",
        " <matplotlib.text.Text at 0xd41e690>,\n",
        " <matplotlib.text.Text at 0xd41ed10>,\n",
        " <matplotlib.text.Text at 0xd41f3d0>,\n",
        " <matplotlib.text.Text at 0xd41fa50>,\n",
        " <matplotlib.text.Text at 0xd42b550>,\n",
        " <matplotlib.text.Text at 0xd42bbd0>,\n",
        " <matplotlib.text.Text at 0xd42c250>,\n",
        " <matplotlib.text.Text at 0xd42c8d0>]"
       ]
      },
      {
       "output_type": "display_data",
       "png": "[encoded data removed]"
      }
     ],
     "prompt_number": 393
    },
    {
     "cell_type": "code",
     "collapsed": false,
     "input": [
      "p = pathways.index[1]"
     ],
     "language": "python",
     "metadata": {},
     "outputs": [],
     "prompt_number": 255
    },
    {
     "cell_type": "code",
     "collapsed": false,
     "input": [
      "get_patients([p]).intersection(get_patients(pathways[:p].index[:-1]))"
     ],
     "language": "python",
     "metadata": {},
     "outputs": [
      {
       "output_type": "pyout",
       "prompt_number": 256,
       "text": [
        "set(['TCGA-25-2401', 'TCGA-24-1560'])"
       ]
      }
     ],
     "prompt_number": 256
    },
    {
     "cell_type": "code",
     "collapsed": false,
     "input": [],
     "language": "python",
     "metadata": {},
     "outputs": []
    }
   ],
   "metadata": {}
  }
 ]
}