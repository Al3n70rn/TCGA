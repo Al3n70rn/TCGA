{
 "metadata": {
  "name": "CreateClinicalFeed"
 },
 "nbformat": 3,
 "nbformat_minor": 0,
 "worksheets": [
  {
   "cells": [
    {
     "cell_type": "code",
     "collapsed": false,
     "input": [
      "cd ../src"
     ],
     "language": "python",
     "metadata": {},
     "outputs": [],
     "prompt_number": "*"
    },
    {
     "cell_type": "code",
     "collapsed": false,
     "input": [
      "import os\n",
      "import subprocess"
     ],
     "language": "python",
     "metadata": {},
     "outputs": [],
     "prompt_number": "*"
    },
    {
     "cell_type": "code",
     "collapsed": false,
     "input": [
      "firehose_path = '/cellar/users/agross/Data/TCGA/'\n",
      "date = '20120913'\n",
      "date_ = '_'.join([date[:4], date[4:6], date[6:8]])\n",
      "cancers = os.listdir(firehose_path + 'analyses__' + date_)"
     ],
     "language": "python",
     "metadata": {},
     "outputs": [],
     "prompt_number": "*"
    },
    {
     "cell_type": "code",
     "collapsed": false,
     "input": [],
     "language": "python",
     "metadata": {},
     "outputs": []
    },
    {
     "cell_type": "code",
     "collapsed": false,
     "input": [
      "data_type = 'expression'\n",
      "report_ext = 'cov_age_rate_drop_pc'"
     ],
     "language": "python",
     "metadata": {},
     "outputs": [],
     "prompt_number": 10
    },
    {
     "cell_type": "code",
     "collapsed": false,
     "input": [
      "def run_function(cancer, data_path): \n",
      "    r = subprocess.Popen(['nice', '-n', '5', './run_cancer.py', \n",
      "                         cancer, data_type, data_path, report_ext])\n",
      "    return r"
     ],
     "language": "python",
     "metadata": {},
     "outputs": [],
     "prompt_number": 11
    },
    {
     "cell_type": "code",
     "collapsed": false,
     "input": [
      "processes = set()\n",
      "max_processes = 7\n",
      "\n",
      "for cancer in cancers:\n",
      "    data_path = firehose_path + 'analyses__' + date_ + '/' + cancer + '/' + date + '/'\n",
      "    if not os.path.isdir(data_path + data_type + '_' + report_ext):\n",
      "        os.makedirs(data_path + data_type + '_' + report_ext)\n",
      "    processes.add(run_function(cancer, data_path))\n",
      "    if len(processes) >= max_processes:\n",
      "        os.wait()\n",
      "        processes.difference_update(\n",
      "            set([p for p in processes if p.poll() is not None]))\n"
     ],
     "language": "python",
     "metadata": {},
     "outputs": [],
     "prompt_number": 12
    },
    {
     "cell_type": "code",
     "collapsed": false,
     "input": [],
     "language": "python",
     "metadata": {},
     "outputs": []
    }
   ],
   "metadata": {}
  }
 ]
}