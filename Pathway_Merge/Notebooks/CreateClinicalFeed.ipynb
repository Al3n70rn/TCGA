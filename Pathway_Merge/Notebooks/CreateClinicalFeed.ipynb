{
 "metadata": {
  "name": "CreateClinicalFeed"
 },
 "nbformat": 3,
 "nbformat_minor": 0,
 "worksheets": [
  {
   "cells": [
    {
     "cell_type": "code",
     "collapsed": false,
     "input": [
      "cd ../src/"
     ],
     "language": "python",
     "metadata": {},
     "outputs": [
      {
       "output_type": "stream",
       "stream": "stdout",
       "text": [
        "/cellar/users/agross/TCGA_Code/TCGA/Pathway_Merge/src\n"
       ]
      }
     ],
     "prompt_number": 1
    },
    {
     "cell_type": "code",
     "collapsed": false,
     "input": [
      "import os\n",
      "import subprocess"
     ],
     "language": "python",
     "metadata": {},
     "outputs": [],
     "prompt_number": 2
    },
    {
     "cell_type": "code",
     "collapsed": false,
     "input": [
      "firehose_path = '/cellar/users/agross/Data/TCGA/'\n",
      "date = '20120825'\n",
      "date_ = '_'.join([date[:4], date[4:6], date[6:8]])\n",
      "cancers = os.listdir(firehose_path + 'analyses__' + date_)"
     ],
     "language": "python",
     "metadata": {},
     "outputs": [],
     "prompt_number": 3
    },
    {
     "cell_type": "code",
     "collapsed": false,
     "input": [
      "data_type = 'expression'\n",
      "report_ext = 'cov_age_drop_pc'"
     ],
     "language": "python",
     "metadata": {},
     "outputs": [],
     "prompt_number": 15
    },
    {
     "cell_type": "code",
     "collapsed": false,
     "input": [
      "def run_function(cancer, data_path): \n",
      "    r = subprocess.Popen(['nice', '-n', '5', './run_cancer.py', \n",
      "                         cancer, data_type, data_path, report_ext])\n",
      "    return r"
     ],
     "language": "python",
     "metadata": {},
     "outputs": [],
     "prompt_number": 16
    },
    {
     "cell_type": "code",
     "collapsed": false,
     "input": [
      "processes = set()\n",
      "max_processes = 7\n",
      "\n",
      "for cancer in cancers:\n",
      "    data_path = firehose_path + 'analyses__' + date_ + '/' + cancer + '/' + date + '/'\n",
      "    if not os.path.isdir(data_path + data_type + '_' + report_ext):\n",
      "        os.makedirs(data_path + data_type + '_' + report_ext)\n",
      "    processes.add(run_function(cancer, data_path))\n",
      "    if len(processes) >= max_processes:\n",
      "        os.wait()\n",
      "        processes.difference_update(\n",
      "            set([p for p in processes if p.poll() is not None]))\n"
     ],
     "language": "python",
     "metadata": {},
     "outputs": [],
     "prompt_number": 17
    },
    {
     "cell_type": "code",
     "collapsed": false,
     "input": [
      "from Data.Pathways import read_in_pathways\n",
      "from Processing.Clinical import ClinicalObject\n",
      "\n",
      "PATHWAY_FILE = '/cellar/users/agross/Data/GeneSets/c2.cp.v3.0.symbols_edit.csv'\n",
      "gene_sets, gene_lookup = read_in_pathways(PATHWAY_FILE)\n",
      "\n",
      "cancer = 'LAML'\n",
      "data_path = firehose_path + 'analyses__' + date_ + '/' + cancer + '/' + date + '/'\n",
      "drop_pc = True if 'drop_pc' in report_ext else False\n",
      "\n",
      "cancer_obj = ClinicalObject(cancer, data_path, gene_sets, data_type,\n",
      "                            drop_pc)\n",
      "if False and cancer_obj.data_type in ['mutation','amplification','deletion']:\n",
      "    cancer_obj.filter_bad_pathways(gene_lookup)\n",
      "cancer_obj.report_folder = cancer_obj.data_path + cancer_obj.data_type + '_' + report_ext\n",
      "del cancer_obj.tests #Can't pickle functions at module level, regenerate with Clinical.get_tests_x\n",
      "pickle.dump(cancer_obj, open(cancer_obj.report_folder + '/ClinicalObject.p', 'wb'))\n",
      "print cancer + ' sucess!'"
     ],
     "language": "python",
     "metadata": {},
     "outputs": [
      {
       "ename": "NameError",
       "evalue": "name 'pickle' is not defined",
       "output_type": "pyerr",
       "traceback": [
        "\u001b[1;31m---------------------------------------------------------------------------\u001b[0m\n\u001b[1;31mNameError\u001b[0m                                 Traceback (most recent call last)",
        "\u001b[1;32m<ipython-input-7-64e52ff08994>\u001b[0m in \u001b[0;36m<module>\u001b[1;34m()\u001b[0m\n\u001b[0;32m     15\u001b[0m \u001b[0mcancer_obj\u001b[0m\u001b[1;33m.\u001b[0m\u001b[0mreport_folder\u001b[0m \u001b[1;33m=\u001b[0m \u001b[0mcancer_obj\u001b[0m\u001b[1;33m.\u001b[0m\u001b[0mdata_path\u001b[0m \u001b[1;33m+\u001b[0m \u001b[0mcancer_obj\u001b[0m\u001b[1;33m.\u001b[0m\u001b[0mdata_type\u001b[0m \u001b[1;33m+\u001b[0m \u001b[1;34m'_'\u001b[0m \u001b[1;33m+\u001b[0m \u001b[0mreport_ext\u001b[0m\u001b[1;33m\u001b[0m\u001b[0m\n\u001b[0;32m     16\u001b[0m \u001b[1;32mdel\u001b[0m \u001b[0mcancer_obj\u001b[0m\u001b[1;33m.\u001b[0m\u001b[0mtests\u001b[0m \u001b[1;31m#Can't pickle functions at module level, regenerate with Clinical.get_tests_x\u001b[0m\u001b[1;33m\u001b[0m\u001b[0m\n\u001b[1;32m---> 17\u001b[1;33m \u001b[0mpickle\u001b[0m\u001b[1;33m.\u001b[0m\u001b[0mdump\u001b[0m\u001b[1;33m(\u001b[0m\u001b[0mcancer_obj\u001b[0m\u001b[1;33m,\u001b[0m \u001b[0mopen\u001b[0m\u001b[1;33m(\u001b[0m\u001b[0mcancer_obj\u001b[0m\u001b[1;33m.\u001b[0m\u001b[0mreport_folder\u001b[0m \u001b[1;33m+\u001b[0m \u001b[1;34m'/ClinicalObject.p'\u001b[0m\u001b[1;33m,\u001b[0m \u001b[1;34m'wb'\u001b[0m\u001b[1;33m)\u001b[0m\u001b[1;33m)\u001b[0m\u001b[1;33m\u001b[0m\u001b[0m\n\u001b[0m\u001b[0;32m     18\u001b[0m \u001b[1;32mprint\u001b[0m \u001b[0mcancer\u001b[0m \u001b[1;33m+\u001b[0m \u001b[1;34m' sucess!'\u001b[0m\u001b[1;33m\u001b[0m\u001b[0m\n",
        "\u001b[1;31mNameError\u001b[0m: name 'pickle' is not defined"
       ]
      }
     ],
     "prompt_number": 7
    },
    {
     "cell_type": "code",
     "collapsed": false,
     "input": [
      "np.sort(cancer_obj.q_pathways.survival).head()"
     ],
     "language": "python",
     "metadata": {},
     "outputs": [
      {
       "output_type": "pyout",
       "prompt_number": 12,
       "text": [
        "BIOCARTA_IL4_PATHWAY                                            0.463041\n",
        "BIOCARTA_SKP2E2F_PATHWAY                                        0.463041\n",
        "BIOCARTA_VDR_PATHWAY                                            0.463041\n",
        "REACTOME_CDC6_ASSOCIATION_WITH_THE_ORC:ORIGIN_COMPLEX           0.463041\n",
        "REACTOME_E2F_ENABLED_INHIBITION_OF_PRE_REPLICATION_COMPLEX_FORMATION    0.463041\n",
        "Name: survival"
       ]
      }
     ],
     "prompt_number": 12
    },
    {
     "cell_type": "code",
     "collapsed": false,
     "input": [
      "'BIOCARTA_SET_PATHWAY' in cancer_obj.q_pathways.index"
     ],
     "language": "python",
     "metadata": {},
     "outputs": [
      {
       "output_type": "pyout",
       "prompt_number": 13,
       "text": [
        "True"
       ]
      }
     ],
     "prompt_number": 13
    },
    {
     "cell_type": "code",
     "collapsed": false,
     "input": [
      "cancer_obj.q_pathways.ix['BIOCARTA_SET_PATHWAY']"
     ],
     "language": "python",
     "metadata": {},
     "outputs": [
      {
       "output_type": "pyout",
       "prompt_number": 14,
       "text": [
        "gender      0.780371\n",
        "survival    0.592071\n",
        "age         0.022855\n",
        "Name: BIOCARTA_SET_PATHWAY"
       ]
      }
     ],
     "prompt_number": 14
    },
    {
     "cell_type": "code",
     "collapsed": false,
     "input": [],
     "language": "python",
     "metadata": {},
     "outputs": []
    }
   ],
   "metadata": {}
  }
 ]
}