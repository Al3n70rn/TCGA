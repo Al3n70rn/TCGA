{
 "metadata": {
  "name": "Add_tests-Copy0"
 },
 "nbformat": 3,
 "nbformat_minor": 0,
 "worksheets": [
  {
   "cells": [
    {
     "cell_type": "code",
     "collapsed": false,
     "input": [
      "cd ../src/"
     ],
     "language": "python",
     "metadata": {},
     "outputs": [
      {
       "output_type": "stream",
       "stream": "stdout",
       "text": [
        "/cellar/users/agross/TCGA_Code/TCGA/Pathway_Merge/src\n"
       ]
      }
     ],
     "prompt_number": 9
    },
    {
     "cell_type": "code",
     "collapsed": false,
     "input": [
      "import pandas as pandas\n",
      "from Data.Pathways import read_in_pathways\n",
      "from Processing.Clinical import ClinicalObject\n",
      "import pickle as pickle\n",
      "import os as os\n",
      "\n",
      "pandas.set_printoptions(max_columns=300)"
     ],
     "language": "python",
     "metadata": {},
     "outputs": [],
     "prompt_number": 10
    },
    {
     "cell_type": "code",
     "collapsed": false,
     "input": [
      "firehose_path = '/cellar/users/agross/Data/TCGA/'\n",
      "date = '20120913'\n",
      "date_ = '_'.join([date[:4], date[4:6], date[6:8]])\n",
      "pathway_file = '/cellar/users/agross/Data/GeneSets/c2.cp.v3.0.symbols_edit.csv'\n",
      "gene_sets, gene_lookup = read_in_pathways(pathway_file)\n",
      "cancers = os.listdir(firehose_path + 'analyses__' + date_)"
     ],
     "language": "python",
     "metadata": {},
     "outputs": [],
     "prompt_number": 11
    },
    {
     "cell_type": "code",
     "collapsed": true,
     "input": [
      "cancer = 'OV'\n",
      "data_path = firehose_path + 'analyses__' + date_ + '/' + cancer + '/' + date + '/'\n",
      "cancer = ClinicalObject(cancer, data_path, gene_sets, data_type='expression', drop_pc=True)"
     ],
     "language": "python",
     "metadata": {},
     "outputs": [
      {
       "output_type": "stream",
       "stream": "stdout",
       "text": [
        "rate not in clinical data... running anyway.\n",
        "rate not in clinical data... running anyway.\n",
        "rate not in clinical data... running anyway."
       ]
      },
      {
       "output_type": "stream",
       "stream": "stdout",
       "text": [
        "\n",
        "rate not in clinical data... running anyway.\n",
        "rate not in clinical data... running anyway."
       ]
      },
      {
       "output_type": "stream",
       "stream": "stdout",
       "text": [
        "\n",
        "rate not in clinical data... running anyway.\n",
        "rate not in clinical data... running anyway."
       ]
      },
      {
       "output_type": "stream",
       "stream": "stdout",
       "text": [
        "\n",
        "rate not in clinical data... running anyway.\n",
        "rate not in clinical data... running anyway."
       ]
      },
      {
       "output_type": "stream",
       "stream": "stdout",
       "text": [
        "\n",
        "rate not in clinical data... running anyway.\n",
        "rate not in clinical data... running anyway."
       ]
      },
      {
       "output_type": "stream",
       "stream": "stdout",
       "text": [
        "\n",
        "rate not in clinical data... running anyway.\n",
        "rate not in clinical data... running anyway."
       ]
      },
      {
       "output_type": "stream",
       "stream": "stdout",
       "text": [
        "\n",
        "rate not in clinical data... running anyway.\n",
        "rate not in clinical data... running anyway."
       ]
      },
      {
       "output_type": "stream",
       "stream": "stdout",
       "text": [
        "\n",
        "rate not in clinical data... running anyway.\n",
        "rate not in clinical data... running anyway."
       ]
      },
      {
       "output_type": "stream",
       "stream": "stdout",
       "text": [
        "\n",
        "rate not in clinical data... running anyway.\n",
        "rate not in clinical data... running anyway."
       ]
      },
      {
       "output_type": "stream",
       "stream": "stdout",
       "text": [
        "\n",
        "rate not in clinical data... running anyway.\n",
        "rate not in clinical data... running anyway."
       ]
      },
      {
       "output_type": "stream",
       "stream": "stdout",
       "text": [
        "\n",
        "rate not in clinical data... running anyway.\n",
        "rate not in clinical data... running anyway."
       ]
      },
      {
       "output_type": "stream",
       "stream": "stdout",
       "text": [
        "\n",
        "rate not in clinical data... running anyway.\n",
        "rate not in clinical data... running anyway."
       ]
      },
      {
       "output_type": "stream",
       "stream": "stdout",
       "text": [
        "\n",
        "rate not in clinical data... running anyway.\n",
        "rate not in clinical data... running anyway."
       ]
      },
      {
       "output_type": "stream",
       "stream": "stdout",
       "text": [
        "\n",
        "rate not in clinical data... running anyway.\n",
        "rate not in clinical data... running anyway."
       ]
      },
      {
       "output_type": "stream",
       "stream": "stdout",
       "text": [
        "\n",
        "rate not in clinical data... running anyway.\n",
        "rate not in clinical data... running anyway."
       ]
      },
      {
       "output_type": "stream",
       "stream": "stdout",
       "text": [
        "\n",
        "rate not in clinical data... running anyway.\n",
        "rate not in clinical data... running anyway."
       ]
      },
      {
       "output_type": "stream",
       "stream": "stdout",
       "text": [
        "\n",
        "rate not in clinical data... running anyway.\n",
        "rate not in clinical data... running anyway."
       ]
      },
      {
       "output_type": "stream",
       "stream": "stdout",
       "text": [
        "\n",
        "rate not in clinical data... running anyway.\n",
        "rate not in clinical data... running anyway."
       ]
      },
      {
       "output_type": "stream",
       "stream": "stdout",
       "text": [
        "\n",
        "rate not in clinical data... running anyway.\n",
        "rate not in clinical data... running anyway."
       ]
      },
      {
       "output_type": "stream",
       "stream": "stdout",
       "text": [
        "\n",
        "rate not in clinical data... running anyway.\n",
        "rate not in clinical data... running anyway."
       ]
      },
      {
       "output_type": "stream",
       "stream": "stdout",
       "text": [
        "\n",
        "rate not in clinical data... running anyway.\n",
        "rate not in clinical data... running anyway."
       ]
      },
      {
       "output_type": "stream",
       "stream": "stdout",
       "text": [
        "\n",
        "rate not in clinical data... running anyway.\n",
        "rate not in clinical data... running anyway."
       ]
      },
      {
       "output_type": "stream",
       "stream": "stdout",
       "text": [
        "\n",
        "rate not in clinical data... running anyway.\n",
        "rate not in clinical data... running anyway."
       ]
      },
      {
       "output_type": "stream",
       "stream": "stdout",
       "text": [
        "\n",
        "rate not in clinical data... running anyway.\n",
        "rate not in clinical data... running anyway."
       ]
      },
      {
       "output_type": "stream",
       "stream": "stdout",
       "text": [
        "\n",
        "rate not in clinical data... running anyway.\n",
        "rate not in clinical data... running anyway."
       ]
      },
      {
       "output_type": "stream",
       "stream": "stdout",
       "text": [
        "\n",
        "rate not in clinical data... running anyway.\n",
        "rate not in clinical data... running anyway."
       ]
      },
      {
       "output_type": "stream",
       "stream": "stdout",
       "text": [
        "\n",
        "rate not in clinical data... running anyway.\n",
        "rate not in clinical data... running anyway."
       ]
      },
      {
       "output_type": "stream",
       "stream": "stdout",
       "text": [
        "\n",
        "rate not in clinical data... running anyway.\n",
        "rate not in clinical data... running anyway."
       ]
      },
      {
       "output_type": "stream",
       "stream": "stdout",
       "text": [
        "\n",
        "rate not in clinical data... running anyway.\n",
        "rate not in clinical data... running anyway."
       ]
      },
      {
       "output_type": "stream",
       "stream": "stdout",
       "text": [
        "\n",
        "rate not in clinical data... running anyway.\n",
        "rate not in clinical data... running anyway."
       ]
      },
      {
       "output_type": "stream",
       "stream": "stdout",
       "text": [
        "\n",
        "rate not in clinical data... running anyway.\n",
        "rate not in clinical data... running anyway."
       ]
      },
      {
       "output_type": "stream",
       "stream": "stdout",
       "text": [
        "\n",
        "rate not in clinical data... running anyway.\n",
        "rate not in clinical data... running anyway."
       ]
      },
      {
       "output_type": "stream",
       "stream": "stdout",
       "text": [
        "\n",
        "rate not in clinical data... running anyway.\n",
        "rate not in clinical data... running anyway."
       ]
      },
      {
       "output_type": "stream",
       "stream": "stdout",
       "text": [
        "\n",
        "rate not in clinical data... running anyway.\n",
        "rate not in clinical data... running anyway."
       ]
      },
      {
       "output_type": "stream",
       "stream": "stdout",
       "text": [
        "\n",
        "rate not in clinical data... running anyway.\n",
        "rate not in clinical data... running anyway."
       ]
      },
      {
       "output_type": "stream",
       "stream": "stdout",
       "text": [
        "\n",
        "rate not in clinical data... running anyway.\n",
        "rate not in clinical data... running anyway."
       ]
      },
      {
       "output_type": "stream",
       "stream": "stdout",
       "text": [
        "\n",
        "rate not in clinical data... running anyway.\n",
        "rate not in clinical data... running anyway."
       ]
      },
      {
       "output_type": "stream",
       "stream": "stdout",
       "text": [
        "\n",
        "rate not in clinical data... running anyway.\n",
        "rate not in clinical data... running anyway."
       ]
      },
      {
       "output_type": "stream",
       "stream": "stdout",
       "text": [
        "\n",
        "rate not in clinical data... running anyway.\n",
        "rate not in clinical data... running anyway."
       ]
      },
      {
       "output_type": "stream",
       "stream": "stdout",
       "text": [
        "\n",
        "rate not in clinical data... running anyway.\n",
        "rate not in clinical data... running anyway."
       ]
      },
      {
       "output_type": "stream",
       "stream": "stdout",
       "text": [
        "\n",
        "rate not in clinical data... running anyway."
       ]
      },
      {
       "output_type": "stream",
       "stream": "stdout",
       "text": [
        "\n",
        "rate not in clinical data... running anyway.\n",
        "rate not in clinical data... running anyway."
       ]
      },
      {
       "output_type": "stream",
       "stream": "stdout",
       "text": [
        "\n",
        "rate not in clinical data... running anyway.\n",
        "rate not in clinical data... running anyway."
       ]
      },
      {
       "output_type": "stream",
       "stream": "stdout",
       "text": [
        "\n",
        "rate not in clinical data... running anyway.\n",
        "rate not in clinical data... running anyway."
       ]
      },
      {
       "output_type": "stream",
       "stream": "stdout",
       "text": [
        "\n",
        "rate not in clinical data... running anyway.\n",
        "rate not in clinical data... running anyway."
       ]
      },
      {
       "output_type": "stream",
       "stream": "stdout",
       "text": [
        "\n",
        "rate not in clinical data... running anyway.\n",
        "rate not in clinical data... running anyway."
       ]
      },
      {
       "output_type": "stream",
       "stream": "stdout",
       "text": [
        "\n",
        "rate not in clinical data... running anyway.\n",
        "rate not in clinical data... running anyway."
       ]
      },
      {
       "output_type": "stream",
       "stream": "stdout",
       "text": [
        "\n",
        "rate not in clinical data... running anyway.\n",
        "rate not in clinical data... running anyway."
       ]
      },
      {
       "output_type": "stream",
       "stream": "stdout",
       "text": [
        "\n",
        "rate not in clinical data... running anyway.\n",
        "rate not in clinical data... running anyway."
       ]
      },
      {
       "output_type": "stream",
       "stream": "stdout",
       "text": [
        "\n",
        "rate not in clinical data... running anyway.\n",
        "rate not in clinical data... running anyway."
       ]
      },
      {
       "output_type": "stream",
       "stream": "stdout",
       "text": [
        "\n",
        "rate not in clinical data... running anyway.\n",
        "rate not in clinical data... running anyway."
       ]
      },
      {
       "output_type": "stream",
       "stream": "stdout",
       "text": [
        "\n",
        "rate not in clinical data... running anyway.\n",
        "rate not in clinical data... running anyway."
       ]
      },
      {
       "output_type": "stream",
       "stream": "stdout",
       "text": [
        "\n",
        "rate not in clinical data... running anyway.\n",
        "rate not in clinical data... running anyway."
       ]
      },
      {
       "output_type": "stream",
       "stream": "stdout",
       "text": [
        "\n",
        "rate not in clinical data... running anyway.\n",
        "rate not in clinical data... running anyway."
       ]
      },
      {
       "output_type": "stream",
       "stream": "stdout",
       "text": [
        "\n",
        "rate not in clinical data... running anyway.\n",
        "rate not in clinical data... running anyway."
       ]
      },
      {
       "output_type": "stream",
       "stream": "stdout",
       "text": [
        "\n",
        "rate not in clinical data... running anyway.\n",
        "rate not in clinical data... running anyway."
       ]
      },
      {
       "output_type": "stream",
       "stream": "stdout",
       "text": [
        "\n",
        "rate not in clinical data... running anyway.\n",
        "rate not in clinical data... running anyway."
       ]
      },
      {
       "output_type": "stream",
       "stream": "stdout",
       "text": [
        "\n",
        "rate not in clinical data... running anyway.\n",
        "rate not in clinical data... running anyway."
       ]
      },
      {
       "output_type": "stream",
       "stream": "stdout",
       "text": [
        "\n",
        "rate not in clinical data... running anyway.\n",
        "rate not in clinical data... running anyway."
       ]
      },
      {
       "output_type": "stream",
       "stream": "stdout",
       "text": [
        "\n",
        "rate not in clinical data... running anyway.\n",
        "rate not in clinical data... running anyway."
       ]
      },
      {
       "output_type": "stream",
       "stream": "stdout",
       "text": [
        "\n",
        "rate not in clinical data... running anyway.\n",
        "rate not in clinical data... running anyway."
       ]
      },
      {
       "output_type": "stream",
       "stream": "stdout",
       "text": [
        "\n",
        "rate not in clinical data... running anyway.\n",
        "rate not in clinical data... running anyway."
       ]
      },
      {
       "output_type": "stream",
       "stream": "stdout",
       "text": [
        "\n",
        "rate not in clinical data... running anyway.\n",
        "rate not in clinical data... running anyway."
       ]
      },
      {
       "output_type": "stream",
       "stream": "stdout",
       "text": [
        "\n",
        "rate not in clinical data... running anyway.\n",
        "rate not in clinical data... running anyway."
       ]
      },
      {
       "output_type": "stream",
       "stream": "stdout",
       "text": [
        "\n",
        "rate not in clinical data... running anyway.\n",
        "rate not in clinical data... running anyway."
       ]
      },
      {
       "output_type": "stream",
       "stream": "stdout",
       "text": [
        "\n",
        "rate not in clinical data... running anyway.\n",
        "rate not in clinical data... running anyway."
       ]
      },
      {
       "output_type": "stream",
       "stream": "stdout",
       "text": [
        "\n",
        "rate not in clinical data... running anyway.\n",
        "rate not in clinical data... running anyway."
       ]
      },
      {
       "output_type": "stream",
       "stream": "stdout",
       "text": [
        "\n",
        "rate not in clinical data... running anyway.\n",
        "rate not in clinical data... running anyway."
       ]
      },
      {
       "output_type": "stream",
       "stream": "stdout",
       "text": [
        "\n",
        "rate not in clinical data... running anyway.\n",
        "rate not in clinical data... running anyway."
       ]
      },
      {
       "output_type": "stream",
       "stream": "stdout",
       "text": [
        "\n",
        "rate not in clinical data... running anyway.\n",
        "rate not in clinical data... running anyway."
       ]
      },
      {
       "output_type": "stream",
       "stream": "stdout",
       "text": [
        "\n",
        "rate not in clinical data... running anyway.\n",
        "rate not in clinical data... running anyway."
       ]
      },
      {
       "output_type": "stream",
       "stream": "stdout",
       "text": [
        "\n",
        "rate not in clinical data... running anyway.\n",
        "rate not in clinical data... running anyway."
       ]
      },
      {
       "output_type": "stream",
       "stream": "stdout",
       "text": [
        "\n",
        "rate not in clinical data... running anyway.\n",
        "rate not in clinical data... running anyway."
       ]
      },
      {
       "output_type": "stream",
       "stream": "stdout",
       "text": [
        "\n",
        "rate not in clinical data... running anyway.\n",
        "rate not in clinical data... running anyway."
       ]
      },
      {
       "output_type": "stream",
       "stream": "stdout",
       "text": [
        "\n",
        "rate not in clinical data... running anyway.\n",
        "rate not in clinical data... running anyway."
       ]
      },
      {
       "output_type": "stream",
       "stream": "stdout",
       "text": [
        "\n",
        "rate not in clinical data... running anyway.\n",
        "rate not in clinical data... running anyway."
       ]
      },
      {
       "output_type": "stream",
       "stream": "stdout",
       "text": [
        "\n",
        "rate not in clinical data... running anyway.\n",
        "rate not in clinical data... running anyway."
       ]
      },
      {
       "output_type": "stream",
       "stream": "stdout",
       "text": [
        "\n",
        "rate not in clinical data... running anyway.\n",
        "rate not in clinical data... running anyway."
       ]
      },
      {
       "output_type": "stream",
       "stream": "stdout",
       "text": [
        "\n",
        "rate not in clinical data... running anyway.\n",
        "rate not in clinical data... running anyway."
       ]
      },
      {
       "output_type": "stream",
       "stream": "stdout",
       "text": [
        "\n",
        "rate not in clinical data... running anyway.\n",
        "rate not in clinical data... running anyway."
       ]
      },
      {
       "output_type": "stream",
       "stream": "stdout",
       "text": [
        "\n",
        "rate not in clinical data... running anyway.\n",
        "rate not in clinical data... running anyway."
       ]
      },
      {
       "output_type": "stream",
       "stream": "stdout",
       "text": [
        "\n",
        "rate not in clinical data... running anyway.\n",
        "rate not in clinical data... running anyway."
       ]
      },
      {
       "output_type": "stream",
       "stream": "stdout",
       "text": [
        "\n",
        "rate not in clinical data... running anyway.\n",
        "rate not in clinical data... running anyway."
       ]
      },
      {
       "output_type": "stream",
       "stream": "stdout",
       "text": [
        "\n",
        "rate not in clinical data... running anyway.\n",
        "rate not in clinical data... running anyway."
       ]
      },
      {
       "output_type": "stream",
       "stream": "stdout",
       "text": [
        "\n",
        "rate not in clinical data... running anyway.\n",
        "rate not in clinical data... running anyway."
       ]
      },
      {
       "output_type": "stream",
       "stream": "stdout",
       "text": [
        "\n",
        "rate not in clinical data... running anyway.\n",
        "rate not in clinical data... running anyway."
       ]
      },
      {
       "output_type": "stream",
       "stream": "stdout",
       "text": [
        "\n",
        "rate not in clinical data... running anyway.\n",
        "rate not in clinical data... running anyway."
       ]
      },
      {
       "output_type": "stream",
       "stream": "stdout",
       "text": [
        "\n",
        "rate not in clinical data... running anyway.\n",
        "rate not in clinical data... running anyway."
       ]
      },
      {
       "output_type": "stream",
       "stream": "stdout",
       "text": [
        "\n",
        "rate not in clinical data... running anyway.\n",
        "rate not in clinical data... running anyway."
       ]
      },
      {
       "output_type": "stream",
       "stream": "stdout",
       "text": [
        "\n",
        "rate not in clinical data... running anyway.\n",
        "rate not in clinical data... running anyway."
       ]
      },
      {
       "output_type": "stream",
       "stream": "stdout",
       "text": [
        "\n",
        "rate not in clinical data... running anyway.\n",
        "rate not in clinical data... running anyway."
       ]
      },
      {
       "output_type": "stream",
       "stream": "stdout",
       "text": [
        "\n",
        "rate not in clinical data... running anyway.\n",
        "rate not in clinical data... running anyway."
       ]
      },
      {
       "output_type": "stream",
       "stream": "stdout",
       "text": [
        "\n",
        "rate not in clinical data... running anyway.\n",
        "rate not in clinical data... running anyway."
       ]
      },
      {
       "output_type": "stream",
       "stream": "stdout",
       "text": [
        "\n",
        "rate not in clinical data... running anyway.\n",
        "rate not in clinical data... running anyway."
       ]
      },
      {
       "output_type": "stream",
       "stream": "stdout",
       "text": [
        "\n",
        "rate not in clinical data... running anyway.\n",
        "rate not in clinical data... running anyway."
       ]
      },
      {
       "output_type": "stream",
       "stream": "stdout",
       "text": [
        "\n",
        "rate not in clinical data... running anyway.\n",
        "rate not in clinical data... running anyway."
       ]
      },
      {
       "output_type": "stream",
       "stream": "stdout",
       "text": [
        "\n",
        "rate not in clinical data... running anyway.\n",
        "rate not in clinical data... running anyway."
       ]
      },
      {
       "output_type": "stream",
       "stream": "stdout",
       "text": [
        "\n",
        "rate not in clinical data... running anyway.\n",
        "rate not in clinical data... running anyway."
       ]
      },
      {
       "output_type": "stream",
       "stream": "stdout",
       "text": [
        "\n",
        "rate not in clinical data... running anyway.\n",
        "rate not in clinical data... running anyway."
       ]
      },
      {
       "output_type": "stream",
       "stream": "stdout",
       "text": [
        "\n",
        "rate not in clinical data... running anyway.\n",
        "rate not in clinical data... running anyway."
       ]
      },
      {
       "output_type": "stream",
       "stream": "stdout",
       "text": [
        "\n",
        "rate not in clinical data... running anyway.\n",
        "rate not in clinical data... running anyway."
       ]
      },
      {
       "output_type": "stream",
       "stream": "stdout",
       "text": [
        "\n",
        "rate not in clinical data... running anyway.\n",
        "rate not in clinical data... running anyway."
       ]
      },
      {
       "output_type": "stream",
       "stream": "stdout",
       "text": [
        "\n",
        "rate not in clinical data... running anyway.\n",
        "rate not in clinical data... running anyway."
       ]
      },
      {
       "output_type": "stream",
       "stream": "stdout",
       "text": [
        "\n",
        "rate not in clinical data... running anyway.\n",
        "rate not in clinical data... running anyway."
       ]
      },
      {
       "output_type": "stream",
       "stream": "stdout",
       "text": [
        "\n",
        "rate not in clinical data... running anyway.\n",
        "rate not in clinical data... running anyway."
       ]
      },
      {
       "output_type": "stream",
       "stream": "stdout",
       "text": [
        "\n",
        "rate not in clinical data... running anyway.\n",
        "rate not in clinical data... running anyway."
       ]
      },
      {
       "output_type": "stream",
       "stream": "stdout",
       "text": [
        "\n",
        "rate not in clinical data... running anyway.\n",
        "rate not in clinical data... running anyway."
       ]
      },
      {
       "output_type": "stream",
       "stream": "stdout",
       "text": [
        "\n",
        "rate not in clinical data... running anyway.\n",
        "rate not in clinical data... running anyway."
       ]
      },
      {
       "output_type": "stream",
       "stream": "stdout",
       "text": [
        "\n",
        "rate not in clinical data... running anyway.\n",
        "rate not in clinical data... running anyway."
       ]
      },
      {
       "output_type": "stream",
       "stream": "stdout",
       "text": [
        "\n",
        "rate not in clinical data... running anyway.\n",
        "rate not in clinical data... running anyway."
       ]
      },
      {
       "output_type": "stream",
       "stream": "stdout",
       "text": [
        "\n",
        "rate not in clinical data... running anyway.\n",
        "rate not in clinical data... running anyway."
       ]
      },
      {
       "output_type": "stream",
       "stream": "stdout",
       "text": [
        "\n",
        "rate not in clinical data... running anyway.\n",
        "rate not in clinical data... running anyway."
       ]
      },
      {
       "output_type": "stream",
       "stream": "stdout",
       "text": [
        "\n",
        "rate not in clinical data... running anyway.\n",
        "rate not in clinical data... running anyway."
       ]
      },
      {
       "output_type": "stream",
       "stream": "stdout",
       "text": [
        "\n",
        "rate not in clinical data... running anyway.\n",
        "rate not in clinical data... running anyway."
       ]
      },
      {
       "output_type": "stream",
       "stream": "stdout",
       "text": [
        "\n",
        "rate not in clinical data... running anyway.\n",
        "rate not in clinical data... running anyway."
       ]
      },
      {
       "output_type": "stream",
       "stream": "stdout",
       "text": [
        "\n",
        "rate not in clinical data... running anyway.\n",
        "rate not in clinical data... running anyway."
       ]
      },
      {
       "output_type": "stream",
       "stream": "stdout",
       "text": [
        "\n",
        "rate not in clinical data... running anyway.\n",
        "rate not in clinical data... running anyway."
       ]
      },
      {
       "output_type": "stream",
       "stream": "stdout",
       "text": [
        "\n",
        "rate not in clinical data... running anyway.\n",
        "rate not in clinical data... running anyway."
       ]
      },
      {
       "output_type": "stream",
       "stream": "stdout",
       "text": [
        "\n",
        "rate not in clinical data... running anyway.\n",
        "rate not in clinical data... running anyway."
       ]
      },
      {
       "output_type": "stream",
       "stream": "stdout",
       "text": [
        "\n",
        "rate not in clinical data... running anyway.\n",
        "rate not in clinical data... running anyway."
       ]
      },
      {
       "output_type": "stream",
       "stream": "stdout",
       "text": [
        "\n",
        "rate not in clinical data... running anyway.\n",
        "rate not in clinical data... running anyway."
       ]
      },
      {
       "output_type": "stream",
       "stream": "stdout",
       "text": [
        "\n",
        "rate not in clinical data... running anyway.\n",
        "rate not in clinical data... running anyway."
       ]
      },
      {
       "output_type": "stream",
       "stream": "stdout",
       "text": [
        "\n",
        "rate not in clinical data... running anyway.\n",
        "rate not in clinical data... running anyway."
       ]
      },
      {
       "output_type": "stream",
       "stream": "stdout",
       "text": [
        "\n",
        "rate not in clinical data... running anyway.\n",
        "rate not in clinical data... running anyway."
       ]
      },
      {
       "output_type": "stream",
       "stream": "stdout",
       "text": [
        "\n",
        "rate not in clinical data... running anyway.\n",
        "rate not in clinical data... running anyway."
       ]
      },
      {
       "output_type": "stream",
       "stream": "stdout",
       "text": [
        "\n",
        "rate not in clinical data... running anyway.\n",
        "rate not in clinical data... running anyway."
       ]
      },
      {
       "output_type": "stream",
       "stream": "stdout",
       "text": [
        "\n",
        "rate not in clinical data... running anyway.\n",
        "rate not in clinical data... running anyway."
       ]
      },
      {
       "output_type": "stream",
       "stream": "stdout",
       "text": [
        "\n",
        "rate not in clinical data... running anyway.\n",
        "rate not in clinical data... running anyway."
       ]
      },
      {
       "output_type": "stream",
       "stream": "stdout",
       "text": [
        "\n",
        "rate not in clinical data... running anyway.\n",
        "rate not in clinical data... running anyway."
       ]
      },
      {
       "output_type": "stream",
       "stream": "stdout",
       "text": [
        "\n",
        "rate not in clinical data... running anyway."
       ]
      },
      {
       "output_type": "stream",
       "stream": "stdout",
       "text": [
        "\n",
        "rate not in clinical data... running anyway.\n",
        "rate not in clinical data... running anyway."
       ]
      },
      {
       "output_type": "stream",
       "stream": "stdout",
       "text": [
        "\n",
        "rate not in clinical data... running anyway.\n",
        "rate not in clinical data... running anyway."
       ]
      },
      {
       "output_type": "stream",
       "stream": "stdout",
       "text": [
        "\n",
        "rate not in clinical data... running anyway.\n",
        "rate not in clinical data... running anyway."
       ]
      },
      {
       "output_type": "stream",
       "stream": "stdout",
       "text": [
        "\n",
        "rate not in clinical data... running anyway.\n",
        "rate not in clinical data... running anyway."
       ]
      },
      {
       "output_type": "stream",
       "stream": "stdout",
       "text": [
        "\n",
        "rate not in clinical data... running anyway.\n",
        "rate not in clinical data... running anyway."
       ]
      },
      {
       "output_type": "stream",
       "stream": "stdout",
       "text": [
        "\n",
        "rate not in clinical data... running anyway.\n",
        "rate not in clinical data... running anyway."
       ]
      },
      {
       "output_type": "stream",
       "stream": "stdout",
       "text": [
        "\n",
        "rate not in clinical data... running anyway.\n",
        "rate not in clinical data... running anyway."
       ]
      },
      {
       "output_type": "stream",
       "stream": "stdout",
       "text": [
        "\n",
        "rate not in clinical data... running anyway.\n",
        "rate not in clinical data... running anyway."
       ]
      },
      {
       "output_type": "stream",
       "stream": "stdout",
       "text": [
        "\n",
        "rate not in clinical data... running anyway.\n",
        "rate not in clinical data... running anyway."
       ]
      },
      {
       "output_type": "stream",
       "stream": "stdout",
       "text": [
        "\n",
        "rate not in clinical data... running anyway.\n",
        "rate not in clinical data... running anyway."
       ]
      },
      {
       "output_type": "stream",
       "stream": "stdout",
       "text": [
        "\n",
        "rate not in clinical data... running anyway.\n",
        "rate not in clinical data... running anyway."
       ]
      },
      {
       "output_type": "stream",
       "stream": "stdout",
       "text": [
        "\n",
        "rate not in clinical data... running anyway."
       ]
      },
      {
       "output_type": "stream",
       "stream": "stdout",
       "text": [
        "\n",
        "rate not in clinical data... running anyway.\n",
        "rate not in clinical data... running anyway."
       ]
      },
      {
       "output_type": "stream",
       "stream": "stdout",
       "text": [
        "\n",
        "rate not in clinical data... running anyway.\n",
        "rate not in clinical data... running anyway."
       ]
      },
      {
       "output_type": "stream",
       "stream": "stdout",
       "text": [
        "\n",
        "rate not in clinical data... running anyway.\n",
        "rate not in clinical data... running anyway."
       ]
      },
      {
       "output_type": "stream",
       "stream": "stdout",
       "text": [
        "\n",
        "rate not in clinical data... running anyway.\n",
        "rate not in clinical data... running anyway."
       ]
      },
      {
       "output_type": "stream",
       "stream": "stdout",
       "text": [
        "\n",
        "rate not in clinical data... running anyway.\n",
        "rate not in clinical data... running anyway."
       ]
      },
      {
       "output_type": "stream",
       "stream": "stdout",
       "text": [
        "\n",
        "rate not in clinical data... running anyway.\n",
        "rate not in clinical data... running anyway."
       ]
      },
      {
       "output_type": "stream",
       "stream": "stdout",
       "text": [
        "\n",
        "rate not in clinical data... running anyway.\n",
        "rate not in clinical data... running anyway."
       ]
      },
      {
       "output_type": "stream",
       "stream": "stdout",
       "text": [
        "\n",
        "rate not in clinical data... running anyway.\n",
        "rate not in clinical data... running anyway."
       ]
      },
      {
       "output_type": "stream",
       "stream": "stdout",
       "text": [
        "\n",
        "rate not in clinical data... running anyway.\n",
        "rate not in clinical data... running anyway."
       ]
      },
      {
       "output_type": "stream",
       "stream": "stdout",
       "text": [
        "\n",
        "rate not in clinical data... running anyway.\n",
        "rate not in clinical data... running anyway."
       ]
      },
      {
       "output_type": "stream",
       "stream": "stdout",
       "text": [
        "\n",
        "rate not in clinical data... running anyway.\n",
        "rate not in clinical data... running anyway."
       ]
      },
      {
       "output_type": "stream",
       "stream": "stdout",
       "text": [
        "\n",
        "rate not in clinical data... running anyway.\n",
        "rate not in clinical data... running anyway."
       ]
      },
      {
       "output_type": "stream",
       "stream": "stdout",
       "text": [
        "\n",
        "rate not in clinical data... running anyway.\n",
        "rate not in clinical data... running anyway."
       ]
      },
      {
       "output_type": "stream",
       "stream": "stdout",
       "text": [
        "\n",
        "rate not in clinical data... running anyway.\n",
        "rate not in clinical data... running anyway."
       ]
      },
      {
       "output_type": "stream",
       "stream": "stdout",
       "text": [
        "\n",
        "rate not in clinical data... running anyway.\n",
        "rate not in clinical data... running anyway."
       ]
      },
      {
       "output_type": "stream",
       "stream": "stdout",
       "text": [
        "\n",
        "rate not in clinical data... running anyway.\n",
        "rate not in clinical data... running anyway."
       ]
      },
      {
       "output_type": "stream",
       "stream": "stdout",
       "text": [
        "\n",
        "rate not in clinical data... running anyway.\n",
        "rate not in clinical data... running anyway."
       ]
      },
      {
       "output_type": "stream",
       "stream": "stdout",
       "text": [
        "\n",
        "rate not in clinical data... running anyway.\n",
        "rate not in clinical data... running anyway."
       ]
      },
      {
       "output_type": "stream",
       "stream": "stdout",
       "text": [
        "\n",
        "rate not in clinical data... running anyway.\n",
        "rate not in clinical data... running anyway."
       ]
      },
      {
       "output_type": "stream",
       "stream": "stdout",
       "text": [
        "\n",
        "rate not in clinical data... running anyway.\n",
        "rate not in clinical data... running anyway."
       ]
      },
      {
       "output_type": "stream",
       "stream": "stdout",
       "text": [
        "\n",
        "rate not in clinical data... running anyway.\n",
        "rate not in clinical data... running anyway."
       ]
      },
      {
       "output_type": "stream",
       "stream": "stdout",
       "text": [
        "\n",
        "rate not in clinical data... running anyway.\n",
        "rate not in clinical data... running anyway."
       ]
      },
      {
       "output_type": "stream",
       "stream": "stdout",
       "text": [
        "\n",
        "rate not in clinical data... running anyway.\n",
        "rate not in clinical data... running anyway."
       ]
      },
      {
       "output_type": "stream",
       "stream": "stdout",
       "text": [
        "\n",
        "rate not in clinical data... running anyway.\n",
        "rate not in clinical data... running anyway."
       ]
      },
      {
       "output_type": "stream",
       "stream": "stdout",
       "text": [
        "\n",
        "rate not in clinical data... running anyway.\n",
        "rate not in clinical data... running anyway."
       ]
      },
      {
       "output_type": "stream",
       "stream": "stdout",
       "text": [
        "\n",
        "rate not in clinical data... running anyway.\n",
        "rate not in clinical data... running anyway."
       ]
      },
      {
       "output_type": "stream",
       "stream": "stdout",
       "text": [
        "\n",
        "rate not in clinical data... running anyway.\n",
        "rate not in clinical data... running anyway."
       ]
      },
      {
       "output_type": "stream",
       "stream": "stdout",
       "text": [
        "\n",
        "rate not in clinical data... running anyway.\n",
        "rate not in clinical data... running anyway."
       ]
      },
      {
       "output_type": "stream",
       "stream": "stdout",
       "text": [
        "\n",
        "rate not in clinical data... running anyway.\n",
        "rate not in clinical data... running anyway."
       ]
      },
      {
       "output_type": "stream",
       "stream": "stdout",
       "text": [
        "\n",
        "rate not in clinical data... running anyway.\n",
        "rate not in clinical data... running anyway."
       ]
      },
      {
       "output_type": "stream",
       "stream": "stdout",
       "text": [
        "\n",
        "rate not in clinical data... running anyway.\n",
        "rate not in clinical data... running anyway."
       ]
      },
      {
       "output_type": "stream",
       "stream": "stdout",
       "text": [
        "\n",
        "rate not in clinical data... running anyway.\n",
        "rate not in clinical data... running anyway."
       ]
      },
      {
       "output_type": "stream",
       "stream": "stdout",
       "text": [
        "\n",
        "rate not in clinical data... running anyway.\n",
        "rate not in clinical data... running anyway."
       ]
      },
      {
       "output_type": "stream",
       "stream": "stdout",
       "text": [
        "\n",
        "rate not in clinical data... running anyway.\n",
        "rate not in clinical data... running anyway."
       ]
      },
      {
       "output_type": "stream",
       "stream": "stdout",
       "text": [
        "\n",
        "rate not in clinical data... running anyway.\n",
        "rate not in clinical data... running anyway."
       ]
      },
      {
       "output_type": "stream",
       "stream": "stdout",
       "text": [
        "\n",
        "rate not in clinical data... running anyway.\n",
        "rate not in clinical data... running anyway."
       ]
      },
      {
       "output_type": "stream",
       "stream": "stdout",
       "text": [
        "\n",
        "rate not in clinical data... running anyway.\n",
        "rate not in clinical data... running anyway."
       ]
      },
      {
       "output_type": "stream",
       "stream": "stdout",
       "text": [
        "\n",
        "rate not in clinical data... running anyway.\n",
        "rate not in clinical data... running anyway."
       ]
      },
      {
       "output_type": "stream",
       "stream": "stdout",
       "text": [
        "\n",
        "rate not in clinical data... running anyway.\n",
        "rate not in clinical data... running anyway."
       ]
      },
      {
       "output_type": "stream",
       "stream": "stdout",
       "text": [
        "\n",
        "rate not in clinical data... running anyway.\n",
        "rate not in clinical data... running anyway."
       ]
      },
      {
       "output_type": "stream",
       "stream": "stdout",
       "text": [
        "\n",
        "rate not in clinical data... running anyway.\n",
        "rate not in clinical data... running anyway."
       ]
      },
      {
       "output_type": "stream",
       "stream": "stdout",
       "text": [
        "\n",
        "rate not in clinical data... running anyway.\n",
        "rate not in clinical data... running anyway."
       ]
      },
      {
       "output_type": "stream",
       "stream": "stdout",
       "text": [
        "\n",
        "rate not in clinical data... running anyway.\n",
        "rate not in clinical data... running anyway."
       ]
      },
      {
       "output_type": "stream",
       "stream": "stdout",
       "text": [
        "\n",
        "rate not in clinical data... running anyway.\n",
        "rate not in clinical data... running anyway."
       ]
      },
      {
       "output_type": "stream",
       "stream": "stdout",
       "text": [
        "\n",
        "rate not in clinical data... running anyway.\n",
        "rate not in clinical data... running anyway."
       ]
      },
      {
       "output_type": "stream",
       "stream": "stdout",
       "text": [
        "\n",
        "rate not in clinical data... running anyway.\n",
        "rate not in clinical data... running anyway."
       ]
      },
      {
       "output_type": "stream",
       "stream": "stdout",
       "text": [
        "\n",
        "rate not in clinical data... running anyway.\n",
        "rate not in clinical data... running anyway."
       ]
      },
      {
       "output_type": "stream",
       "stream": "stdout",
       "text": [
        "\n",
        "rate not in clinical data... running anyway.\n",
        "rate not in clinical data... running anyway."
       ]
      },
      {
       "output_type": "stream",
       "stream": "stdout",
       "text": [
        "\n",
        "rate not in clinical data... running anyway.\n",
        "rate not in clinical data... running anyway."
       ]
      },
      {
       "output_type": "stream",
       "stream": "stdout",
       "text": [
        "\n",
        "rate not in clinical data... running anyway.\n",
        "rate not in clinical data... running anyway."
       ]
      },
      {
       "output_type": "stream",
       "stream": "stdout",
       "text": [
        "\n",
        "rate not in clinical data... running anyway.\n",
        "rate not in clinical data... running anyway."
       ]
      },
      {
       "output_type": "stream",
       "stream": "stdout",
       "text": [
        "\n",
        "rate not in clinical data... running anyway.\n",
        "rate not in clinical data... running anyway."
       ]
      },
      {
       "output_type": "stream",
       "stream": "stdout",
       "text": [
        "\n",
        "rate not in clinical data... running anyway.\n",
        "rate not in clinical data... running anyway."
       ]
      },
      {
       "output_type": "stream",
       "stream": "stdout",
       "text": [
        "\n",
        "rate not in clinical data... running anyway.\n",
        "rate not in clinical data... running anyway."
       ]
      },
      {
       "output_type": "stream",
       "stream": "stdout",
       "text": [
        "\n",
        "rate not in clinical data... running anyway.\n",
        "rate not in clinical data... running anyway."
       ]
      },
      {
       "output_type": "stream",
       "stream": "stdout",
       "text": [
        "\n",
        "rate not in clinical data... running anyway.\n",
        "rate not in clinical data... running anyway."
       ]
      },
      {
       "output_type": "stream",
       "stream": "stdout",
       "text": [
        "\n",
        "rate not in clinical data... running anyway.\n",
        "rate not in clinical data... running anyway."
       ]
      },
      {
       "output_type": "stream",
       "stream": "stdout",
       "text": [
        "\n",
        "rate not in clinical data... running anyway.\n",
        "rate not in clinical data... running anyway."
       ]
      },
      {
       "output_type": "stream",
       "stream": "stdout",
       "text": [
        "\n",
        "rate not in clinical data... running anyway.\n",
        "rate not in clinical data... running anyway."
       ]
      },
      {
       "output_type": "stream",
       "stream": "stdout",
       "text": [
        "\n",
        "rate not in clinical data... running anyway.\n",
        "rate not in clinical data... running anyway."
       ]
      },
      {
       "output_type": "stream",
       "stream": "stdout",
       "text": [
        "\n",
        "rate not in clinical data... running anyway.\n",
        "rate not in clinical data... running anyway."
       ]
      },
      {
       "output_type": "stream",
       "stream": "stdout",
       "text": [
        "\n",
        "rate not in clinical data... running anyway.\n",
        "rate not in clinical data... running anyway."
       ]
      },
      {
       "output_type": "stream",
       "stream": "stdout",
       "text": [
        "\n",
        "rate not in clinical data... running anyway.\n",
        "rate not in clinical data... running anyway."
       ]
      },
      {
       "output_type": "stream",
       "stream": "stdout",
       "text": [
        "\n",
        "rate not in clinical data... running anyway.\n",
        "rate not in clinical data... running anyway."
       ]
      },
      {
       "output_type": "stream",
       "stream": "stdout",
       "text": [
        "\n",
        "rate not in clinical data... running anyway.\n",
        "rate not in clinical data... running anyway."
       ]
      },
      {
       "output_type": "stream",
       "stream": "stdout",
       "text": [
        "\n",
        "rate not in clinical data... running anyway.\n",
        "rate not in clinical data... running anyway."
       ]
      },
      {
       "output_type": "stream",
       "stream": "stdout",
       "text": [
        "\n",
        "rate not in clinical data... running anyway.\n",
        "rate not in clinical data... running anyway."
       ]
      },
      {
       "output_type": "stream",
       "stream": "stdout",
       "text": [
        "\n",
        "rate not in clinical data... running anyway.\n",
        "rate not in clinical data... running anyway."
       ]
      },
      {
       "output_type": "stream",
       "stream": "stdout",
       "text": [
        "\n",
        "rate not in clinical data... running anyway.\n",
        "rate not in clinical data... running anyway."
       ]
      },
      {
       "output_type": "stream",
       "stream": "stdout",
       "text": [
        "\n",
        "rate not in clinical data... running anyway.\n",
        "rate not in clinical data... running anyway."
       ]
      },
      {
       "output_type": "stream",
       "stream": "stdout",
       "text": [
        "\n",
        "rate not in clinical data... running anyway.\n",
        "rate not in clinical data... running anyway."
       ]
      },
      {
       "output_type": "stream",
       "stream": "stdout",
       "text": [
        "\n",
        "rate not in clinical data... running anyway.\n",
        "rate not in clinical data... running anyway."
       ]
      },
      {
       "output_type": "stream",
       "stream": "stdout",
       "text": [
        "\n",
        "rate not in clinical data... running anyway.\n",
        "rate not in clinical data... running anyway."
       ]
      },
      {
       "output_type": "stream",
       "stream": "stdout",
       "text": [
        "\n",
        "rate not in clinical data... running anyway.\n",
        "rate not in clinical data... running anyway."
       ]
      },
      {
       "output_type": "stream",
       "stream": "stdout",
       "text": [
        "\n",
        "rate not in clinical data... running anyway."
       ]
      },
      {
       "output_type": "stream",
       "stream": "stdout",
       "text": [
        "\n",
        "rate not in clinical data... running anyway.\n",
        "rate not in clinical data... running anyway."
       ]
      },
      {
       "output_type": "stream",
       "stream": "stdout",
       "text": [
        "\n",
        "rate not in clinical data... running anyway.\n",
        "rate not in clinical data... running anyway."
       ]
      },
      {
       "output_type": "stream",
       "stream": "stdout",
       "text": [
        "\n",
        "rate not in clinical data... running anyway.\n",
        "rate not in clinical data... running anyway."
       ]
      },
      {
       "output_type": "stream",
       "stream": "stdout",
       "text": [
        "\n",
        "rate not in clinical data... running anyway.\n",
        "rate not in clinical data... running anyway."
       ]
      },
      {
       "output_type": "stream",
       "stream": "stdout",
       "text": [
        "\n",
        "rate not in clinical data... running anyway.\n",
        "rate not in clinical data... running anyway."
       ]
      },
      {
       "output_type": "stream",
       "stream": "stdout",
       "text": [
        "\n",
        "rate not in clinical data... running anyway.\n",
        "rate not in clinical data... running anyway."
       ]
      },
      {
       "output_type": "stream",
       "stream": "stdout",
       "text": [
        "\n",
        "rate not in clinical data... running anyway.\n",
        "rate not in clinical data... running anyway."
       ]
      },
      {
       "output_type": "stream",
       "stream": "stdout",
       "text": [
        "\n",
        "rate not in clinical data... running anyway.\n",
        "rate not in clinical data... running anyway."
       ]
      },
      {
       "output_type": "stream",
       "stream": "stdout",
       "text": [
        "\n",
        "rate not in clinical data... running anyway.\n",
        "rate not in clinical data... running anyway."
       ]
      },
      {
       "output_type": "stream",
       "stream": "stdout",
       "text": [
        "\n",
        "rate not in clinical data... running anyway.\n",
        "rate not in clinical data... running anyway."
       ]
      },
      {
       "output_type": "stream",
       "stream": "stdout",
       "text": [
        "\n",
        "rate not in clinical data... running anyway.\n",
        "rate not in clinical data... running anyway."
       ]
      },
      {
       "output_type": "stream",
       "stream": "stdout",
       "text": [
        "\n",
        "rate not in clinical data... running anyway.\n",
        "rate not in clinical data... running anyway."
       ]
      },
      {
       "output_type": "stream",
       "stream": "stdout",
       "text": [
        "\n",
        "rate not in clinical data... running anyway.\n",
        "rate not in clinical data... running anyway."
       ]
      },
      {
       "output_type": "stream",
       "stream": "stdout",
       "text": [
        "\n",
        "rate not in clinical data... running anyway.\n",
        "rate not in clinical data... running anyway."
       ]
      },
      {
       "output_type": "stream",
       "stream": "stdout",
       "text": [
        "\n",
        "rate not in clinical data... running anyway.\n",
        "rate not in clinical data... running anyway."
       ]
      },
      {
       "output_type": "stream",
       "stream": "stdout",
       "text": [
        "\n",
        "rate not in clinical data... running anyway.\n",
        "rate not in clinical data... running anyway."
       ]
      },
      {
       "output_type": "stream",
       "stream": "stdout",
       "text": [
        "\n",
        "rate not in clinical data... running anyway.\n",
        "rate not in clinical data... running anyway."
       ]
      },
      {
       "output_type": "stream",
       "stream": "stdout",
       "text": [
        "\n",
        "rate not in clinical data... running anyway.\n",
        "rate not in clinical data... running anyway."
       ]
      },
      {
       "output_type": "stream",
       "stream": "stdout",
       "text": [
        "\n",
        "rate not in clinical data... running anyway.\n",
        "rate not in clinical data... running anyway."
       ]
      },
      {
       "output_type": "stream",
       "stream": "stdout",
       "text": [
        "\n",
        "rate not in clinical data... running anyway.\n",
        "rate not in clinical data... running anyway."
       ]
      },
      {
       "output_type": "stream",
       "stream": "stdout",
       "text": [
        "\n",
        "rate not in clinical data... running anyway.\n",
        "rate not in clinical data... running anyway."
       ]
      },
      {
       "output_type": "stream",
       "stream": "stdout",
       "text": [
        "\n",
        "rate not in clinical data... running anyway.\n",
        "rate not in clinical data... running anyway."
       ]
      },
      {
       "output_type": "stream",
       "stream": "stdout",
       "text": [
        "\n",
        "rate not in clinical data... running anyway.\n",
        "rate not in clinical data... running anyway."
       ]
      },
      {
       "output_type": "stream",
       "stream": "stdout",
       "text": [
        "\n",
        "rate not in clinical data... running anyway.\n",
        "rate not in clinical data... running anyway."
       ]
      },
      {
       "output_type": "stream",
       "stream": "stdout",
       "text": [
        "\n",
        "rate not in clinical data... running anyway.\n",
        "rate not in clinical data... running anyway."
       ]
      },
      {
       "output_type": "stream",
       "stream": "stdout",
       "text": [
        "\n",
        "rate not in clinical data... running anyway.\n",
        "rate not in clinical data... running anyway."
       ]
      },
      {
       "output_type": "stream",
       "stream": "stdout",
       "text": [
        "\n",
        "rate not in clinical data... running anyway.\n",
        "rate not in clinical data... running anyway."
       ]
      },
      {
       "output_type": "stream",
       "stream": "stdout",
       "text": [
        "\n",
        "rate not in clinical data... running anyway.\n",
        "rate not in clinical data... running anyway."
       ]
      },
      {
       "output_type": "stream",
       "stream": "stdout",
       "text": [
        "\n",
        "rate not in clinical data... running anyway.\n",
        "rate not in clinical data... running anyway."
       ]
      },
      {
       "output_type": "stream",
       "stream": "stdout",
       "text": [
        "\n",
        "rate not in clinical data... running anyway.\n",
        "rate not in clinical data... running anyway."
       ]
      },
      {
       "output_type": "stream",
       "stream": "stdout",
       "text": [
        "\n",
        "rate not in clinical data... running anyway.\n",
        "rate not in clinical data... running anyway."
       ]
      },
      {
       "output_type": "stream",
       "stream": "stdout",
       "text": [
        "\n",
        "rate not in clinical data... running anyway.\n",
        "rate not in clinical data... running anyway."
       ]
      },
      {
       "output_type": "stream",
       "stream": "stdout",
       "text": [
        "\n",
        "rate not in clinical data... running anyway.\n",
        "rate not in clinical data... running anyway."
       ]
      },
      {
       "output_type": "stream",
       "stream": "stdout",
       "text": [
        "\n",
        "rate not in clinical data... running anyway.\n",
        "rate not in clinical data... running anyway."
       ]
      },
      {
       "output_type": "stream",
       "stream": "stdout",
       "text": [
        "\n",
        "rate not in clinical data... running anyway.\n",
        "rate not in clinical data... running anyway."
       ]
      },
      {
       "output_type": "stream",
       "stream": "stdout",
       "text": [
        "\n",
        "rate not in clinical data... running anyway.\n",
        "rate not in clinical data... running anyway."
       ]
      },
      {
       "output_type": "stream",
       "stream": "stdout",
       "text": [
        "\n",
        "rate not in clinical data... running anyway.\n",
        "rate not in clinical data... running anyway."
       ]
      },
      {
       "output_type": "stream",
       "stream": "stdout",
       "text": [
        "\n",
        "rate not in clinical data... running anyway.\n",
        "rate not in clinical data... running anyway."
       ]
      },
      {
       "output_type": "stream",
       "stream": "stdout",
       "text": [
        "\n",
        "rate not in clinical data... running anyway.\n",
        "rate not in clinical data... running anyway."
       ]
      },
      {
       "output_type": "stream",
       "stream": "stdout",
       "text": [
        "\n",
        "rate not in clinical data... running anyway.\n",
        "rate not in clinical data... running anyway."
       ]
      },
      {
       "output_type": "stream",
       "stream": "stdout",
       "text": [
        "\n",
        "rate not in clinical data... running anyway.\n",
        "rate not in clinical data... running anyway."
       ]
      },
      {
       "output_type": "stream",
       "stream": "stdout",
       "text": [
        "\n",
        "rate not in clinical data... running anyway.\n",
        "rate not in clinical data... running anyway."
       ]
      },
      {
       "output_type": "stream",
       "stream": "stdout",
       "text": [
        "\n",
        "rate not in clinical data... running anyway.\n",
        "rate not in clinical data... running anyway."
       ]
      },
      {
       "output_type": "stream",
       "stream": "stdout",
       "text": [
        "\n",
        "rate not in clinical data... running anyway.\n",
        "rate not in clinical data... running anyway."
       ]
      },
      {
       "output_type": "stream",
       "stream": "stdout",
       "text": [
        "\n",
        "rate not in clinical data... running anyway.\n",
        "rate not in clinical data... running anyway."
       ]
      },
      {
       "output_type": "stream",
       "stream": "stdout",
       "text": [
        "\n",
        "rate not in clinical data... running anyway.\n",
        "rate not in clinical data... running anyway."
       ]
      },
      {
       "output_type": "stream",
       "stream": "stdout",
       "text": [
        "\n",
        "rate not in clinical data... running anyway.\n",
        "rate not in clinical data... running anyway."
       ]
      },
      {
       "output_type": "stream",
       "stream": "stdout",
       "text": [
        "\n",
        "rate not in clinical data... running anyway.\n",
        "rate not in clinical data... running anyway."
       ]
      },
      {
       "output_type": "stream",
       "stream": "stdout",
       "text": [
        "\n",
        "rate not in clinical data... running anyway.\n",
        "rate not in clinical data... running anyway."
       ]
      },
      {
       "output_type": "stream",
       "stream": "stdout",
       "text": [
        "\n",
        "rate not in clinical data... running anyway.\n",
        "rate not in clinical data... running anyway."
       ]
      },
      {
       "output_type": "stream",
       "stream": "stdout",
       "text": [
        "\n",
        "rate not in clinical data... running anyway.\n",
        "rate not in clinical data... running anyway."
       ]
      },
      {
       "output_type": "stream",
       "stream": "stdout",
       "text": [
        "\n",
        "rate not in clinical data... running anyway.\n",
        "rate not in clinical data... running anyway."
       ]
      },
      {
       "output_type": "stream",
       "stream": "stdout",
       "text": [
        "\n",
        "rate not in clinical data... running anyway.\n",
        "rate not in clinical data... running anyway."
       ]
      },
      {
       "output_type": "stream",
       "stream": "stdout",
       "text": [
        "\n",
        "rate not in clinical data... running anyway.\n",
        "rate not in clinical data... running anyway."
       ]
      },
      {
       "output_type": "stream",
       "stream": "stdout",
       "text": [
        "\n",
        "rate not in clinical data... running anyway.\n",
        "rate not in clinical data... running anyway."
       ]
      },
      {
       "output_type": "stream",
       "stream": "stdout",
       "text": [
        "\n",
        "rate not in clinical data... running anyway.\n",
        "rate not in clinical data... running anyway."
       ]
      },
      {
       "output_type": "stream",
       "stream": "stdout",
       "text": [
        "\n",
        "rate not in clinical data... running anyway.\n",
        "rate not in clinical data... running anyway."
       ]
      },
      {
       "output_type": "stream",
       "stream": "stdout",
       "text": [
        "\n",
        "rate not in clinical data... running anyway.\n",
        "rate not in clinical data... running anyway."
       ]
      },
      {
       "output_type": "stream",
       "stream": "stdout",
       "text": [
        "\n",
        "rate not in clinical data... running anyway.\n",
        "rate not in clinical data... running anyway."
       ]
      },
      {
       "output_type": "stream",
       "stream": "stdout",
       "text": [
        "\n",
        "rate not in clinical data... running anyway.\n",
        "rate not in clinical data... running anyway."
       ]
      },
      {
       "output_type": "stream",
       "stream": "stdout",
       "text": [
        "\n",
        "rate not in clinical data... running anyway.\n",
        "rate not in clinical data... running anyway."
       ]
      },
      {
       "output_type": "stream",
       "stream": "stdout",
       "text": [
        "\n",
        "rate not in clinical data... running anyway.\n",
        "rate not in clinical data... running anyway."
       ]
      },
      {
       "output_type": "stream",
       "stream": "stdout",
       "text": [
        "\n",
        "rate not in clinical data... running anyway.\n",
        "rate not in clinical data... running anyway."
       ]
      },
      {
       "output_type": "stream",
       "stream": "stdout",
       "text": [
        "\n",
        "rate not in clinical data... running anyway.\n",
        "rate not in clinical data... running anyway."
       ]
      },
      {
       "output_type": "stream",
       "stream": "stdout",
       "text": [
        "\n",
        "rate not in clinical data... running anyway.\n",
        "rate not in clinical data... running anyway."
       ]
      },
      {
       "output_type": "stream",
       "stream": "stdout",
       "text": [
        "\n",
        "rate not in clinical data... running anyway.\n"
       ]
      }
     ],
     "prompt_number": 13
    },
    {
     "cell_type": "code",
     "collapsed": false,
     "input": [
      "from Processing.Clinical import *\n",
      "from Reports.Figures import *"
     ],
     "language": "python",
     "metadata": {},
     "outputs": [],
     "prompt_number": 36
    },
    {
     "cell_type": "code",
     "collapsed": false,
     "input": [
      "pc_1 = extract_pc(cancer.data_matrix, pc_threshold=0.)"
     ],
     "language": "python",
     "metadata": {},
     "outputs": [],
     "prompt_number": 18
    },
    {
     "cell_type": "code",
     "collapsed": false,
     "input": [
      "DataFrame(dict(pc_1=pc_1))"
     ],
     "language": "python",
     "metadata": {},
     "outputs": [
      {
       "output_type": "pyout",
       "prompt_number": 24,
       "text": [
        "<class 'pandas.core.frame.DataFrame'>\n",
        "Index: 546 entries, TCGA-A1-A0SB to TCGA-HN-A2NL\n",
        "Data columns:\n",
        "pc_1    546  non-null values\n",
        "dtypes: float64(1)"
       ]
      }
     ],
     "prompt_number": 24
    },
    {
     "cell_type": "code",
     "collapsed": false,
     "input": [
      "p,q = run_tests(cancer.tests, DataFrame(dict(pc_1=pc_1)).T)"
     ],
     "language": "python",
     "metadata": {},
     "outputs": [
      {
       "output_type": "stream",
       "stream": "stdout",
       "text": [
        "rate not in clinical data... running anyway.\n",
        "rate not in clinical data... running anyway."
       ]
      },
      {
       "output_type": "stream",
       "stream": "stdout",
       "text": [
        "\n"
       ]
      }
     ],
     "prompt_number": 26
    },
    {
     "cell_type": "code",
     "collapsed": false,
     "input": [
      "violin_plot_pandas(cancer.clinical.triple_neg, cancer.clinical.AMAR);"
     ],
     "language": "python",
     "metadata": {},
     "outputs": [
      {
       "output_type": "display_data",
       "png": "[encoded data removed]"
      }
     ],
     "prompt_number": 38
    },
    {
     "cell_type": "code",
     "collapsed": false,
     "input": [
      "scatter(*match_series(pc_1, cancer.clinical.AMAR))"
     ],
     "language": "python",
     "metadata": {},
     "outputs": [
      {
       "output_type": "pyout",
       "prompt_number": 40,
       "text": [
        "<matplotlib.collections.PathCollection at 0x7f537b72d510>"
       ]
      },
      {
       "output_type": "display_data",
       "png": "[encoded data removed]"
      }
     ],
     "prompt_number": 40
    },
    {
     "cell_type": "code",
     "collapsed": false,
     "input": [
      "q.T.sort(column='pc_1')"
     ],
     "language": "python",
     "metadata": {},
     "outputs": [
      {
       "html": [
        "<div style=\"max-height:1000px;max-width:1500px;overflow:auto;\">\n",
        "<table border=\"1\" class=\"dataframe\">\n",
        "  <thead>\n",
        "    <tr style=\"text-align: right;\">\n",
        "      <th></th>\n",
        "      <th>pc_1</th>\n",
        "    </tr>\n",
        "  </thead>\n",
        "  <tbody>\n",
        "    <tr>\n",
        "      <td><strong>triple_neg</strong></td>\n",
        "      <td> 1.742285e-37</td>\n",
        "    </tr>\n",
        "    <tr>\n",
        "      <td><strong>ER_pos</strong></td>\n",
        "      <td> 1.944486e-34</td>\n",
        "    </tr>\n",
        "    <tr>\n",
        "      <td><strong>AMAR</strong></td>\n",
        "      <td> 9.846906e-34</td>\n",
        "    </tr>\n",
        "    <tr>\n",
        "      <td><strong>PR_pos</strong></td>\n",
        "      <td> 5.303960e-21</td>\n",
        "    </tr>\n",
        "    <tr>\n",
        "      <td><strong>age</strong></td>\n",
        "      <td> 2.312982e-04</td>\n",
        "    </tr>\n",
        "    <tr>\n",
        "      <td><strong>post_menopause</strong></td>\n",
        "      <td> 3.827862e-02</td>\n",
        "    </tr>\n",
        "    <tr>\n",
        "      <td><strong>gender</strong></td>\n",
        "      <td> 6.589495e-02</td>\n",
        "    </tr>\n",
        "    <tr>\n",
        "      <td><strong>lymphnode_n0n1</strong></td>\n",
        "      <td> 8.062517e-02</td>\n",
        "    </tr>\n",
        "    <tr>\n",
        "      <td><strong>tumor_t1t2</strong></td>\n",
        "      <td> 1.361985e-01</td>\n",
        "    </tr>\n",
        "    <tr>\n",
        "      <td><strong>survival</strong></td>\n",
        "      <td> 2.459920e-01</td>\n",
        "    </tr>\n",
        "    <tr>\n",
        "      <td><strong>triple_pos</strong></td>\n",
        "      <td> 5.078958e-01</td>\n",
        "    </tr>\n",
        "    <tr>\n",
        "      <td><strong>event_free_survival</strong></td>\n",
        "      <td> 8.860633e-01</td>\n",
        "    </tr>\n",
        "    <tr>\n",
        "      <td><strong>her2_pos</strong></td>\n",
        "      <td> 9.519923e-01</td>\n",
        "    </tr>\n",
        "  </tbody>\n",
        "</table>\n",
        "</div>"
       ],
       "output_type": "pyout",
       "prompt_number": 35,
       "text": [
        "                             pc_1\n",
        "triple_neg           1.742285e-37\n",
        "ER_pos               1.944486e-34\n",
        "AMAR                 9.846906e-34\n",
        "PR_pos               5.303960e-21\n",
        "age                  2.312982e-04\n",
        "post_menopause       3.827862e-02\n",
        "gender               6.589495e-02\n",
        "lymphnode_n0n1       8.062517e-02\n",
        "tumor_t1t2           1.361985e-01\n",
        "survival             2.459920e-01\n",
        "triple_pos           5.078958e-01\n",
        "event_free_survival  8.860633e-01\n",
        "her2_pos             9.519923e-01"
       ]
      }
     ],
     "prompt_number": 35
    },
    {
     "cell_type": "code",
     "collapsed": false,
     "input": [
      "pc_1.hist()"
     ],
     "language": "python",
     "metadata": {},
     "outputs": [
      {
       "output_type": "pyout",
       "prompt_number": 20,
       "text": [
        "<matplotlib.axes.AxesSubplot at 0x7f5369bc3410>"
       ]
      },
      {
       "output_type": "display_data",
       "png": "[encoded data removed]"
      }
     ],
     "prompt_number": 20
    },
    {
     "cell_type": "code",
     "collapsed": false,
     "input": [
      "np.sort(cancer.q_pathways.triple_neg)"
     ],
     "language": "python",
     "metadata": {},
     "outputs": [
      {
       "output_type": "pyout",
       "prompt_number": 14,
       "text": [
        "REACTOME_GLUCURONIDATION                                        5.457784e-44\n",
        "BIOCARTA_MCM_PATHWAY                                            1.884449e-40\n",
        "REACTOME_CITRIC_ACID_CYCLE                                      1.552745e-38\n",
        "BIOCARTA_EGFR_SMRTE_PATHWAY                                     2.513317e-37\n",
        "BIOCARTA_SPPA_PATHWAY                                           1.202635e-36\n",
        "REACTOME_SIGNALING_BY_TGF_BETA                                  1.202635e-36\n",
        "KEGG_GLYOXYLATE_AND_DICARBOXYLATE_METABOLISM                    1.638692e-36\n",
        "REACTOME_FRS2_MEDIATED_ACTIVATION                               4.326746e-36\n",
        "REACTOME_APOPTOTIC_CLEAVAGE_OF_CELL_ADHESION_PROTEINS           4.380068e-36\n",
        "REACTOME_G1_PHASE                                               1.192664e-35\n",
        "BIOCARTA_RAB_PATHWAY                                            2.250576e-35\n",
        "BIOCARTA_SODD_PATHWAY                                           2.250576e-35\n",
        "REACTOME_REGULATION_OF_INSULIN_LIKE_GROWTH_FACTOR_ACTIVITY_BY_INSULIN_LIKE_GROWTH_FACTOR_BINDING_PROTEINS    4.948675e-35\n",
        "REACTOME_SYNTHESIS_AND_INTERCONVERSION_OF_NUCLEOTIDE_DI_AND_TRIPHOSPHATES    1.032892e-34\n",
        "KEGG_CIRCADIAN_RHYTHM_MAMMAL                                    4.231329e-34\n",
        "REACTOME_BASE_FREE_SUGAR_PHOSPHATE_REMOVAL_VIA_THE_SINGLE_NUCLEOTIDE_REPLACEMENT_PATHWAY    5.562373e-33\n",
        "REACTOME_METABOLISM_OF_BILE_ACIDS_AND_BILE_SALTS                1.005921e-32\n",
        "REACTOME_ACTIVATION_OF_CHAPERONES_BY_IRE1_ALPHA                 2.794715e-32\n",
        "REACTOME_CASPASE_MEDIATED_CLEAVAGE_OF_CYTOSKELETAL_PROTEINS     3.794556e-32\n",
        "REACTOME_RESOLUTION_OF_AP_SITES_VIA_THE_SINGLE_NUCLEOTIDE_REPLACEMENT_PATHWAY    1.240655e-31\n",
        "BIOCARTA_P35ALZHEIMERS_PATHWAY                                  2.359676e-31\n",
        "BIOCARTA_PITX2_PATHWAY                                          7.106870e-31\n",
        "REACTOME_ADENYLATE_CYCLASE_ACTIVATING_PATHWAY                   7.016256e-30\n",
        "KEGG_SULFUR_METABOLISM                                          7.952198e-30\n",
        "ST_STAT3_PATHWAY                                                3.497974e-29\n",
        "REACTOME_INTEGRIN_ALPHAIIBBETA3_SIGNALING                       3.879004e-29\n",
        "REACTOME_HORMONE_LIGAND_BINDING_RECEPTORS                       4.452584e-29\n",
        "BIOCARTA_MTA3_PATHWAY                                           5.586935e-29\n",
        "BIOCARTA_AMI_PATHWAY                                            7.626723e-29\n",
        "REACTOME_P38MAPK_EVENTS                                         8.227629e-29\n",
        "REACTOME_EICOSANOID_LIGAND_BINDING_RECEPTORS                    1.134613e-28\n",
        "REACTOME_INTRINSIC_PATHWAY                                      1.973413e-28\n",
        "BIOCARTA_SKP2E2F_PATHWAY                                        2.142473e-28\n",
        "BIOCARTA_ARAP_PATHWAY                                           5.493132e-28\n",
        "BIOCARTA_INTRINSIC_PATHWAY                                      8.276855e-28\n",
        "BIOCARTA_VITCB_PATHWAY                                          8.449335e-28\n",
        "BIOCARTA_ERYTH_PATHWAY                                          2.551233e-27\n",
        "REACTOME_UNWINDING_OF_DNA                                       4.221237e-27\n",
        "BIOCARTA_NUCLEARRS_PATHWAY                                      4.833026e-27\n",
        "BIOCARTA_AKAPCENTROSOME_PATHWAY                                 9.713136e-27\n",
        "REACTOME_G_ALPHA_Z_SIGNALLING_EVENTS                            3.818668e-26\n",
        "REACTOME_GAMMA_CARBOXYLATION_TRANSPORT_AND_AMINO_TERMINAL_CLEAVAGE_OF_PROTEINS    4.681408e-26\n",
        "KEGG_REGULATION_OF_AUTOPHAGY                                    5.313024e-26\n",
        "BIOCARTA_FIBRINOLYSIS_PATHWAY                                   1.399809e-25\n",
        "REACTOME_SIGNALING_BY_VEGF                                      2.009264e-25\n",
        "REACTOME_PHASE_1_FUNCTIONALIZATION                              2.874750e-25\n",
        "BIOCARTA_KREB_PATHWAY                                           3.116786e-25\n",
        "REACTOME_PLATELET_AGGREGATION_PLUG_FORMATION                    4.068788e-25\n",
        "BIOCARTA_PLATELETAPP_PATHWAY                                    4.731042e-25\n",
        "REACTOME_GRB2_SOS_PROVIDES_LINKAGE_TO_MAPK_SIGNALING_FOR_INTERGRINS_    4.843030e-25\n",
        "ST_G_ALPHA_S_PATHWAY                                            1.188292e-24\n",
        "REACTOME_HDL_MEDIATED_LIPID_TRANSPORT                           2.362826e-24\n",
        "BIOCARTA_P27_PATHWAY                                            2.790642e-24\n",
        "REACTOME_FORMATION_OF_FIBRIN_CLOT_CLOTTING_CASCADE              3.503759e-24\n",
        "REACTOME_E2F_ENABLED_INHIBITION_OF_PRE_REPLICATION_COMPLEX_FORMATION    7.064896e-24\n",
        "REACTOME_RECYCLING_OF_BILE_ACIDS_AND_SALTS                      1.153093e-23\n",
        "BIOCARTA_GLYCOLYSIS_PATHWAY                                     2.677715e-23\n",
        "BIOCARTA_EXTRINSIC_PATHWAY                                      7.724542e-23\n",
        "REACTOME_P130CAS_LINKAGE_TO_MAPK_SIGNALING_FOR_INTEGRINS        1.070133e-22\n",
        "REACTOME_SEMA4D_INDUCED_CELL_MIGRATION_AND_GROWTH_CONE_COLLAPSE    2.520161e-22\n",
        "REACTOME_EFFECTS_OF_PIP2_HYDROLYSIS                             2.979656e-22\n",
        "ST_INTERFERON_GAMMA_PATHWAY                                     6.934385e-22\n",
        "REACTOME_ENDOGENOUS_STEROLS                                     7.192101e-22\n",
        "REACTOME_ERKS_ARE_INACTIVATED                                   7.547791e-22\n",
        "BIOCARTA_MAL_PATHWAY                                            8.248079e-22\n",
        "BIOCARTA_STEM_PATHWAY                                           1.498389e-21\n",
        "BIOCARTA_TH1TH2_PATHWAY                                         2.954983e-21\n",
        "BIOCARTA_FEEDER_PATHWAY                                         5.910922e-21\n",
        "REACTOME_CYTOSOLIC_SULFONATION_OF_SMALL_MOLECULES               1.632853e-20\n",
        "REACTOME_SEMA4D_IN_SEMAPHORIN_SIGNALING                         2.457223e-20\n",
        "REACTOME_IONOTROPIC_ACTIVITY_OF_KAINATE_RECEPTORS               5.498799e-20\n",
        "REACTOME_PP2A_MEDIATED_DEPHOSPHORYLATION_OF_KEY_METABOLIC_FACTORS    8.201832e-20\n",
        "ST_JAK_STAT_PATHWAY                                             1.081806e-19\n",
        "REACTOME_SIGNAL_ATTENUATION                                     1.645070e-19\n",
        "BIOCARTA_MONOCYTE_PATHWAY                                       2.824512e-19\n",
        "REACTOME_COMMON_PATHWAY                                         8.251673e-19\n",
        "BIOCARTA_CBL_PATHWAY                                            1.629552e-18\n",
        "REACTOME_JNK_PHOSPHORYLATION_AND_ACTIVATION_MEDIATED_BY_ACTIVATED_HUMAN_TAK1    1.717586e-18\n",
        "REACTOME_AMINE_DERIVED_HORMONES                                 2.792224e-18\n",
        "BIOCARTA_CDK5_PATHWAY                                           3.274747e-18\n",
        "ST_PAC1_RECEPTOR_PATHWAY                                        4.483780e-18\n",
        "BIOCARTA_SRCRPTP_PATHWAY                                        4.495431e-18\n",
        "REACTOME_SEMA3A_PAK_DEPENDENT_AXON_REPULSION                    5.661677e-18\n",
        "BIOCARTA_NEUROTRANSMITTERS_PATHWAY                              5.699376e-18\n",
        "REACTOME_TIGHT_JUNCTION_INTERACTIONS                            1.429259e-17\n",
        "REACTOME_BETACATENIN_PHOSPHORYLATION_CASCADE                    2.332950e-17\n",
        "BIOCARTA_TRKA_PATHWAY                                           5.142288e-17\n",
        "REACTOME_IMMUNOREGULATORY_INTERACTIONS_BETWEEN_A_LYMPHOID_AND_A_NON_LYMPHOID_CELL    8.739423e-17\n",
        "REACTOME_BILE_SALT_AND_ORGANIC_ANION_SLC_TRANSPORTERS           8.864470e-17\n",
        "REACTOME_FRS2MEDIATED_CASCADE                                   1.429024e-16\n",
        "KEGG_TAURINE_AND_HYPOTAURINE_METABOLISM                         1.582909e-16\n",
        "BIOCARTA_TOB1_PATHWAY                                           1.833373e-16\n",
        "SA_FAS_SIGNALING                                                4.207476e-16\n",
        "SA_CASPASE_CASCADE                                              4.265960e-16\n",
        "ST_TYPE_I_INTERFERON_PATHWAY                                    4.619088e-16\n",
        "SA_MMP_CYTOKINE_CONNECTION                                      8.013360e-16\n",
        "BIOCARTA_AHSP_PATHWAY                                           8.776891e-16\n",
        "REACTOME_FGFR_LIGAND_BINDING_AND_ACTIVATION                     1.616189e-15\n",
        "REACTOME_NUCLEOTIDE_LIKE_PURINERGIC_RECEPTORS                   1.691752e-15\n",
        "SA_G2_AND_M_PHASES                                              2.669324e-15\n",
        "BIOCARTA_GABA_PATHWAY                                           3.957063e-15\n",
        "KEGG_INTESTINAL_IMMUNE_NETWORK_FOR_IGA_PRODUCTION               1.012181e-14\n",
        "BIOCARTA_CELL2CELL_PATHWAY                                      3.134157e-14\n",
        "REACTOME_MITOCHONDRIAL_FATTY_ACID_BETA_OXIDATION                3.382883e-14\n",
        "BIOCARTA_LAIR_PATHWAY                                           5.047040e-14\n",
        "REACTOME_PROSTANOID_HORMONES                                    1.678220e-13\n",
        "REACTOME_NOTCH_HLH_TRANSCRIPTION_PATHWAY                        1.816929e-13\n",
        "REACTOME_PHOSPHOLIPASE_CMEDIATED_CASCADE                        2.087658e-13\n",
        "BIOCARTA_EPHA4_PATHWAY                                          2.681834e-13\n",
        "REACTOME_CLASS_B2_SECRETIN_FAMILY_RECEPTORS                     2.681834e-13\n",
        "REACTOME_SEMA3A_PLEXIN_REPULSION_SIGNALING_BY_INHIBITING_INTEGRIN_ADHESION    3.221376e-13\n",
        "REACTOME_DEATH_RECEPTOR_SIGNALLING                              3.263448e-13\n",
        "BIOCARTA_ACE2_PATHWAY                                           4.764553e-13\n",
        "KEGG_LINOLEIC_ACID_METABOLISM                                   1.377298e-12\n",
        "BIOCARTA_UCALPAIN_PATHWAY                                       1.491039e-12\n",
        "KEGG_OLFACTORY_TRANSDUCTION                                     1.878842e-12\n",
        "BIOCARTA_LYM_PATHWAY                                            2.442126e-12\n",
        "REACTOME_AMINE_LIGAND_BINDING_RECEPTORS                         2.724844e-12\n",
        "BIOCARTA_IL5_PATHWAY                                            5.114654e-12\n",
        "REACTOME_OLFACTORY_SIGNALING_PATHWAY                            7.616596e-12\n",
        "BIOCARTA_DNAFRAGMENT_PATHWAY                                    1.022986e-11\n",
        "BIOCARTA_CFTR_PATHWAY                                           2.832249e-11\n",
        "BIOCARTA_IL17_PATHWAY                                           3.479639e-11\n",
        "KEGG_HEDGEHOG_SIGNALING_PATHWAY                                 4.275096e-11\n",
        "REACTOME_SHCMEDIATED_CASCADE                                    1.010099e-10\n",
        "REACTOME_PECAM1_INTERACTIONS                                    2.507886e-10\n",
        "REACTOME_STRIATED_MUSCLE_CONTRACTION                            2.511135e-10\n",
        "BIOCARTA_GRANULOCYTES_PATHWAY                                   3.067821e-10\n",
        "BIOCARTA_IL7_PATHWAY                                            3.325222e-10\n",
        "REACTOME_STEROID_HORMONE_BIOSYNTHESIS                           1.124800e-09\n",
        "BIOCARTA_PTC1_PATHWAY                                           1.513127e-09\n",
        "BIOCARTA_AKAP95_PATHWAY                                         1.812266e-09\n",
        "REACTOME_OPSINS                                                 4.357029e-09\n",
        "KEGG_FOLATE_BIOSYNTHESIS                                        4.469361e-09\n",
        "BIOCARTA_SARS_PATHWAY                                           6.013870e-09\n",
        "BIOCARTA_VDR_PATHWAY                                            1.917040e-08\n",
        "REACTOME_CELLEXTRACELLULAR_MATRIX_INTERACTIONS                  7.663988e-08\n",
        "BIOCARTA_LECTIN_PATHWAY                                         3.014501e-07\n",
        "REACTOME_XENOBIOTICS                                            3.754980e-07\n",
        "BIOCARTA_BARRESTIN_PATHWAY                                      5.631780e-07\n",
        "REACTOME_RECRUITMENT_OF_NUMA_TO_MITOTIC_CENTROSOMES             6.351066e-07\n",
        "REACTOME_APOPTOSIS_INDUCED_DNA_FRAGMENTATION                    1.908024e-06\n",
        "REACTOME_AMINE_COMPOUND_SLC_TRANSPORTERS                        2.016016e-06\n",
        "REACTOME_FORMATION_OF_ATP_BY_CHEMIOSMOTIC_COUPLING              2.629246e-06\n",
        "KEGG_VALINE_LEUCINE_AND_ISOLEUCINE_BIOSYNTHESIS                 5.210690e-06\n",
        "BIOCARTA_BLYMPHOCYTE_PATHWAY                                    8.892127e-06\n",
        "BIOCARTA_CYTOKINE_PATHWAY                                       9.078762e-06\n",
        "REACTOME_MTORC1_MEDIATED_SIGNALLING                             1.324873e-05\n",
        "REACTOME_PLATELET_ADHESION_TO_EXPOSED_COLLAGEN                  2.620044e-05\n",
        "REACTOME_ACTIVATED_TAK1_MEDIATES_P38_MAPK_ACTIVATION            6.993175e-05\n",
        "REACTOME_ETHANOL_OXIDATION                                      1.298320e-04\n",
        "REACTOME_CYCLIN_A1_ASSOCIATED_EVENTS_DURING_G2_M_TRANSITION     3.265567e-04\n",
        "BIOCARTA_COMP_PATHWAY                                           3.633932e-04\n",
        "REACTOME_TRANSLOCATION_OF_ZAP70_TO_IMMUNOLOGICAL_SYNAPSE        1.057259e-03\n",
        "REACTOME_CLASSICAL_ANTIBODY_MEDIATED_COMPLEMENT_ACTIVATION      1.558343e-03\n",
        "REACTOME_MRNA_DECAY_BY_3_TO_5_EXORIBONUCLEASE                   2.380263e-03\n",
        "REACTOME_P2Y_RECEPTORS                                          2.844111e-03\n",
        "REACTOME_CLASS_C3_METABOTROPIC_GLUTAMATE_PHEROMONE_RECEPTORS    4.490553e-03\n",
        "REACTOME_PHOSPHORYLATION_OF_CD3_AND_TCR_ZETA_CHAINS             4.675906e-03\n",
        "REACTOME_NA_CL_DEPENDENT_NEUROTRANSMITTER_TRANSPORTERS          7.051062e-03\n",
        "REACTOME_GENERATION_OF_SECOND_MESSENGER_MOLECULES               9.998990e-03\n",
        "BIOCARTA_SET_PATHWAY                                            1.319695e-02\n",
        "REACTOME_DEPOLARIZATION_OF_THE_PRESYNAPTIC_TERMINAL_TRIGGERS_THE_OPENING_OF_CALCIUM_CHANNELS    1.497427e-02\n",
        "BIOCARTA_TCAPOPTOSIS_PATHWAY                                    1.898760e-02\n",
        "BIOCARTA_TCYTOTOXIC_PATHWAY                                     3.500738e-02\n",
        "ST_IL_13_PATHWAY                                                3.814476e-02\n",
        "ST_INTERLEUKIN_13_PATHWAY                                       3.814476e-02\n",
        "BIOCARTA_CTL_PATHWAY                                            4.586979e-02\n",
        "REACTOME_PD1_SIGNALING                                          4.842367e-02\n",
        "BIOCARTA_CSK_PATHWAY                                            4.875025e-02\n",
        "BIOCARTA_THELPER_PATHWAY                                        6.254022e-02\n",
        "REACTOME_COMPLEMENT_CASCADE                                     8.053083e-02\n",
        "REACTOME_AKT_PHOSPHORYLATES_TARGETS_IN_THE_CYTOSOL              8.215498e-02\n",
        "REACTOME_RETROGRADE_NEUROTROPHIN_SIGNALLING                     1.034600e-01\n",
        "BIOCARTA_ASBCELL_PATHWAY                                        1.158717e-01\n",
        "REACTOME_CD28_DEPENDENT_VAV1_PATHWAY                            1.185102e-01\n",
        "REACTOME_GAP_JUNCTION_DEGRADATION                               2.519620e-01\n",
        "BIOCARTA_CTLA4_PATHWAY                                          3.413919e-01\n",
        "BIOCARTA_CLASSIC_PATHWAY                                        4.766995e-01\n",
        "REACTOME_GAP_JUNCTION_ASSEMBLY                                  5.051223e-01\n",
        "BIOCARTA_STATHMIN_PATHWAY                                       5.743039e-01\n",
        "REACTOME_COPI_MEDIATED_TRANSPORT                                5.811990e-01\n",
        "BIOCARTA_EIF2_PATHWAY                                           6.013386e-01\n",
        "REACTOME_SEROTONIN_RECEPTORS                                    6.169402e-01\n",
        "REACTOME_RNA_POLYMERASE_I_PROMOTER_OPENING                      6.707253e-01\n",
        "BIOCARTA_TCRA_PATHWAY                                           8.335621e-01\n",
        "REACTOME_CALCITONIN_LIKE_LIGAND_RECEPTORS                       8.650090e-01\n",
        "REACTOME_INITIAL_TRIGGERING_OF_COMPLEMENT                       8.650090e-01\n",
        "BIOCARTA_NO2IL12_PATHWAY                                        9.970909e-01\n",
        "Name: triple_neg, Length: 189"
       ]
      }
     ],
     "prompt_number": 14
    },
    {
     "cell_type": "code",
     "collapsed": false,
     "input": [
      "cancer.q_pathways.sort(columns='triple_neg').head().T"
     ],
     "language": "python",
     "metadata": {},
     "outputs": [
      {
       "html": [
        "<div style=\"max-height:1000px;max-width:1500px;overflow:auto;\">\n",
        "<table border=\"1\" class=\"dataframe\">\n",
        "  <thead>\n",
        "    <tr style=\"text-align: right;\">\n",
        "      <th></th>\n",
        "      <th>REACTOME_GLUCURONIDATION</th>\n",
        "      <th>BIOCARTA_MCM_PATHWAY</th>\n",
        "      <th>REACTOME_CITRIC_ACID_CYCLE</th>\n",
        "      <th>BIOCARTA_EGFR_SMRTE_PATHWAY</th>\n",
        "      <th>BIOCARTA_SPPA_PATHWAY</th>\n",
        "    </tr>\n",
        "  </thead>\n",
        "  <tbody>\n",
        "    <tr>\n",
        "      <td><strong>tumor_t1t2</strong></td>\n",
        "      <td> 5.990319e-01</td>\n",
        "      <td> 5.018689e-01</td>\n",
        "      <td> 4.413750e-01</td>\n",
        "      <td> 7.007354e-01</td>\n",
        "      <td> 4.251117e-01</td>\n",
        "    </tr>\n",
        "    <tr>\n",
        "      <td><strong>lymphnode_n0n1</strong></td>\n",
        "      <td> 4.858043e-01</td>\n",
        "      <td> 2.801163e-01</td>\n",
        "      <td> 3.427172e-01</td>\n",
        "      <td> 4.539556e-01</td>\n",
        "      <td> 2.706496e-01</td>\n",
        "    </tr>\n",
        "    <tr>\n",
        "      <td><strong>event_free_survival</strong></td>\n",
        "      <td> 9.961159e-01</td>\n",
        "      <td> 9.961159e-01</td>\n",
        "      <td> 9.961159e-01</td>\n",
        "      <td> 9.961159e-01</td>\n",
        "      <td> 9.961159e-01</td>\n",
        "    </tr>\n",
        "    <tr>\n",
        "      <td><strong>triple_neg</strong></td>\n",
        "      <td> 5.457784e-44</td>\n",
        "      <td> 1.884449e-40</td>\n",
        "      <td> 1.552745e-38</td>\n",
        "      <td> 2.513317e-37</td>\n",
        "      <td> 1.202635e-36</td>\n",
        "    </tr>\n",
        "    <tr>\n",
        "      <td><strong>gender</strong></td>\n",
        "      <td> 1.657734e-01</td>\n",
        "      <td> 1.657734e-01</td>\n",
        "      <td> 3.355244e-01</td>\n",
        "      <td> 4.642849e-01</td>\n",
        "      <td> 5.755366e-01</td>\n",
        "    </tr>\n",
        "    <tr>\n",
        "      <td><strong>age</strong></td>\n",
        "      <td> 5.375596e-03</td>\n",
        "      <td> 7.071061e-04</td>\n",
        "      <td> 4.445875e-02</td>\n",
        "      <td> 1.104151e-01</td>\n",
        "      <td> 2.869208e-03</td>\n",
        "    </tr>\n",
        "    <tr>\n",
        "      <td><strong>PR_pos</strong></td>\n",
        "      <td> 7.523498e-29</td>\n",
        "      <td> 6.513970e-27</td>\n",
        "      <td> 1.127225e-20</td>\n",
        "      <td> 1.103963e-33</td>\n",
        "      <td> 8.721224e-20</td>\n",
        "    </tr>\n",
        "    <tr>\n",
        "      <td><strong>ER_pos</strong></td>\n",
        "      <td> 1.052563e-36</td>\n",
        "      <td> 7.270028e-35</td>\n",
        "      <td> 2.960297e-37</td>\n",
        "      <td> 1.805584e-42</td>\n",
        "      <td> 1.183590e-30</td>\n",
        "    </tr>\n",
        "    <tr>\n",
        "      <td><strong>triple_pos</strong></td>\n",
        "      <td> 4.234524e-01</td>\n",
        "      <td> 7.084329e-01</td>\n",
        "      <td> 9.722263e-01</td>\n",
        "      <td> 7.084329e-01</td>\n",
        "      <td> 9.722263e-01</td>\n",
        "    </tr>\n",
        "    <tr>\n",
        "      <td><strong>post_menopause</strong></td>\n",
        "      <td> 2.630409e-01</td>\n",
        "      <td> 2.741324e-02</td>\n",
        "      <td> 9.748955e-01</td>\n",
        "      <td> 7.700845e-01</td>\n",
        "      <td> 1.005854e-01</td>\n",
        "    </tr>\n",
        "    <tr>\n",
        "      <td><strong>AMAR</strong></td>\n",
        "      <td> 2.347908e-19</td>\n",
        "      <td> 7.953446e-15</td>\n",
        "      <td> 1.105061e-23</td>\n",
        "      <td> 6.116959e-18</td>\n",
        "      <td> 2.123279e-20</td>\n",
        "    </tr>\n",
        "    <tr>\n",
        "      <td><strong>survival</strong></td>\n",
        "      <td> 7.344359e-01</td>\n",
        "      <td> 9.206950e-01</td>\n",
        "      <td> 7.283781e-01</td>\n",
        "      <td> 9.581270e-01</td>\n",
        "      <td> 3.403952e-01</td>\n",
        "    </tr>\n",
        "    <tr>\n",
        "      <td><strong>her2_pos</strong></td>\n",
        "      <td> 1.764556e-01</td>\n",
        "      <td> 9.952238e-01</td>\n",
        "      <td> 8.711336e-01</td>\n",
        "      <td> 4.164155e-01</td>\n",
        "      <td> 9.311792e-01</td>\n",
        "    </tr>\n",
        "  </tbody>\n",
        "</table>\n",
        "</div>"
       ],
       "output_type": "pyout",
       "prompt_number": 9,
       "text": [
        "                     REACTOME_GLUCURONIDATION  BIOCARTA_MCM_PATHWAY  REACTOME_CITRIC_ACID_CYCLE  BIOCARTA_EGFR_SMRTE_PATHWAY  BIOCARTA_SPPA_PATHWAY\n",
        "tumor_t1t2                       5.990319e-01          5.018689e-01                4.413750e-01                 7.007354e-01           4.251117e-01\n",
        "lymphnode_n0n1                   4.858043e-01          2.801163e-01                3.427172e-01                 4.539556e-01           2.706496e-01\n",
        "event_free_survival              9.961159e-01          9.961159e-01                9.961159e-01                 9.961159e-01           9.961159e-01\n",
        "triple_neg                       5.457784e-44          1.884449e-40                1.552745e-38                 2.513317e-37           1.202635e-36\n",
        "gender                           1.657734e-01          1.657734e-01                3.355244e-01                 4.642849e-01           5.755366e-01\n",
        "age                              5.375596e-03          7.071061e-04                4.445875e-02                 1.104151e-01           2.869208e-03\n",
        "PR_pos                           7.523498e-29          6.513970e-27                1.127225e-20                 1.103963e-33           8.721224e-20\n",
        "ER_pos                           1.052563e-36          7.270028e-35                2.960297e-37                 1.805584e-42           1.183590e-30\n",
        "triple_pos                       4.234524e-01          7.084329e-01                9.722263e-01                 7.084329e-01           9.722263e-01\n",
        "post_menopause                   2.630409e-01          2.741324e-02                9.748955e-01                 7.700845e-01           1.005854e-01\n",
        "AMAR                             2.347908e-19          7.953446e-15                1.105061e-23                 6.116959e-18           2.123279e-20\n",
        "survival                         7.344359e-01          9.206950e-01                7.283781e-01                 9.581270e-01           3.403952e-01\n",
        "her2_pos                         1.764556e-01          9.952238e-01                8.711336e-01                 4.164155e-01           9.311792e-01"
       ]
      }
     ],
     "prompt_number": 9
    },
    {
     "cell_type": "code",
     "collapsed": false,
     "input": [
      "REAL_VARIABLES = ['AMAR','rate','age']\n",
      "BINARY_VARIABLES = ['gender', 'therapy', 'radiation', 'triple_neg', 'triple_pos',\n",
      "                    'ER_pos','PR_pos','her2_pos', 'lymphnode_n0n1', 'tumor_t1t2',\n",
      "                    'post_menopause']\n",
      "SURVIVAL_TESTS = {'survival' : {'event_var' : 'deceased', 'time_var' : 'days', \n",
      "                                'covariates' : ['age', 'rate']},\n",
      "                  'event_free_survival' : {'event_var' : 'event', \n",
      "                                           'time_var' : 'event_free_survival', \n",
      "                                           'covariates' : ['age', 'rate']}\n",
      "                  }"
     ],
     "language": "python",
     "metadata": {},
     "outputs": []
    },
    {
     "cell_type": "code",
     "collapsed": false,
     "input": [
      "def run_clinical_bool(cancer, data_path, gene_sets, data_type='mutation'):\n",
      "    '''\n",
      "    Runs clinical tests for boolean type data (mutation, amplification, \n",
      "    or deletion).\n",
      "    '''\n",
      "    stddata_path = data_path.replace('analyses', 'stddata')\n",
      "    clinical = read_csv(stddata_path + 'Clinical/compiled.csv', index_col=0)\n",
      "    try:\n",
      "        meth_age, amar = get_age_signal(stddata_path, clinical)\n",
      "        clinical['meth_age'] = meth_age\n",
      "        clinical['AMAR'] = amar\n",
      "    except:\n",
      "        pass  #Probably because there is not a 450k chip for the cancer\n",
      "    patients = clinical[['days','deceased']].dropna().index\n",
      "    if data_type == 'mutation':\n",
      "        hit_matrix, _ = get_mutation_matrix(cancer, data_path)\n",
      "    elif data_type in ['amplification', 'deletion']:\n",
      "        hit_matrix, lesion_matrix = get_cna_matrix(data_path, data_type)\n",
      "    \n",
      "    single_matrix = lesion_matrix if data_type == 'amplification' else hit_matrix\n",
      "    single_matrix = single_matrix.clip_upper(1.)\n",
      "    clinical['rate'] = log(single_matrix.sum(0))\n",
      "    tests = get_tests_bool(clinical, SURVIVAL_TESTS, REAL_VARIABLES, \n",
      "                           BINARY_VARIABLES)\n",
      "    gene_counts = sort(single_matrix.sum(1))\n",
      "    good_genes = gene_counts[gene_counts > MIN_NUM_HITS].index[:500]\n",
      "    p_genes, q_genes = run_tests(tests, single_matrix.ix[good_genes])\n",
      "    \n",
      "    clinical['rate'] = log(hit_matrix.sum(0))\n",
      "    meta_matrix = build_meta_matrix(gene_sets, hit_matrix, \n",
      "                                    setFilter=lambda s: s.clip_upper(1))\n",
      "    tests = get_tests_bool(clinical, SURVIVAL_TESTS, REAL_VARIABLES, \n",
      "                           BINARY_VARIABLES)\n",
      "    p_pathways, q_pathways = run_tests(tests, meta_matrix.clip_upper(1.)) \n",
      "    return locals()\n"
     ],
     "language": "python",
     "metadata": {},
     "outputs": []
    },
    {
     "cell_type": "code",
     "collapsed": false,
     "input": [
      "SURVIVAL_TESTS = {'survival' : {'event_var' : 'deceased', 'time_var' : 'days', \n",
      "                                'covariates' : ['age']},\n",
      "                  'event_free_survival' : {'event_var' : 'event', \n",
      "                                           'time_var' : 'event_free_survival', \n",
      "                                           'covariates' : ['age']}\n",
      "                  }"
     ],
     "language": "python",
     "metadata": {},
     "outputs": [],
     "prompt_number": 50
    },
    {
     "cell_type": "code",
     "collapsed": false,
     "input": [
      "def anova(hit_vec, response_vec):\n",
      "    '''\n",
      "    Wrapper to do a one way anova on pandas Series\n",
      "    ------------------------------------------------\n",
      "    hit_vec: Series of labels\n",
      "    response_vec: Series of measurements\n",
      "    '''\n",
      "    hit_vec, response_vec = match_series(hit_vec, response_vec)\n",
      "    return f_oneway(*[hit_vec[response_vec == num].dropna() \n",
      "                      for num in set(response_vec.dropna())])[1]\n",
      "\n",
      "\n",
      "def get_tests(clinical, survival_tests, real_variables, binary_variables,\n",
      "              var_type='binary'):\n",
      "    '''\n",
      "    Gets clinical association tests for a boolean valued response variable.\n",
      "    (IE mutation, CNA, ...)\n",
      "    Does some quick checks to see if the data is sufficent for each test. \n",
      "    Note that clinical values are now hard coded into each test function.\n",
      "    ------------------------------------------------------------------------\n",
      "    clinical: DataFrame of clinical variables\n",
      "    covariates: names of covariates to be passed to the cox model,\n",
      "                (must be columns in clinical DataFrame)\n",
      "    '''\n",
      "    check_surv = lambda s: len(clinical[[s['event_var'], \n",
      "                                         s['time_var']]].dropna()) > 2\n",
      "    make_surv = lambda args: lambda vec: get_cox_ph(clinical, vec, **args)\n",
      "    surv_tests = dict((test, make_surv(args)) for test,args in \n",
      "                      survival_tests.iteritems() if check_surv(args))\n",
      "    \n",
      "    check_test = lambda t: (t in clinical) and (notnull(clinical[t]).sum() > 10)\n",
      "    make_anova = lambda test: lambda vec: anova(vec, clinical[test])\n",
      "    make_fisher = lambda test: lambda vec: fisher_exact_test(vec, clinical[test])\n",
      "    make_pcc = lambda test: lambda vec: pearson_p(vec, clinical[test])\n",
      "    \n",
      "    if var_type == 'binary':\n",
      "        real_test, bin_test = make_anova, make_fisher\n",
      "    elif var_type == 'real':\n",
      "         real_test, bin_test = make_pcc, make_anova\n",
      "            \n",
      "    real_tests = dict((test, real_test(test)) for test in real_variables\n",
      "                      if check_test(test))    \n",
      "    bin_tests = dict((test, bin_test(test)) for test in binary_variables\n",
      "                      if check_test(test))\n",
      "    \n",
      "    return dict(list(surv_tests.items()) + list(real_tests.items()) + \n",
      "                list(bin_tests.items()))"
     ],
     "language": "python",
     "metadata": {},
     "outputs": [],
     "prompt_number": 97
    },
    {
     "cell_type": "code",
     "collapsed": false,
     "input": [
      "from Processing.Clinical import *"
     ],
     "language": "python",
     "metadata": {},
     "outputs": [],
     "prompt_number": 9
    },
    {
     "cell_type": "code",
     "collapsed": false,
     "input": [
      "data_type = 'methylation'\n",
      "drop_pc = True"
     ],
     "language": "python",
     "metadata": {},
     "outputs": [],
     "prompt_number": 116
    },
    {
     "cell_type": "code",
     "collapsed": false,
     "input": [
      "stddata_path = data_path.replace('analyses', 'stddata')\n",
      "clinical = read_csv(stddata_path + 'Clinical/compiled.csv', index_col=0)\n",
      "try:\n",
      "    meth_age, amar = get_age_signal(stddata_path, clinical)\n",
      "    clinical['meth_age'] = meth_age\n",
      "    clinical['AMAR'] = amar\n",
      "except:\n",
      "    pass  #Probably because there is not a 450k chip for the cancer\n",
      "patients = clinical[['days','deceased']].dropna().index"
     ],
     "language": "python",
     "metadata": {},
     "outputs": [],
     "prompt_number": 117
    },
    {
     "cell_type": "code",
     "collapsed": false,
     "input": [
      "if data_type == 'expression':\n",
      "    data_matrix = read_rnaSeq(stddata_path)\n",
      "    data_matrix = data_matrix.groupby(by=lambda n: n.split('|')[0]).mean()\n",
      "elif data_type == 'methylation':\n",
      "    data_matrix = read_methylation(stddata_path)"
     ],
     "language": "python",
     "metadata": {},
     "outputs": [],
     "prompt_number": 189
    },
    {
     "cell_type": "code",
     "collapsed": false,
     "input": [
      "drop_pc = False"
     ],
     "language": "python",
     "metadata": {},
     "outputs": [],
     "prompt_number": 190
    },
    {
     "cell_type": "code",
     "collapsed": false,
     "input": [
      "if drop_pc:\n",
      "    data_matrix = drop_first_norm_pc(data_matrix)\n",
      "pc = dict((p, extract_pc(data_matrix.ix[g].dropna())) for p, g in \n",
      "          gene_sets.iteritems())\n",
      "pc = DataFrame(dict((p, (v - v.mean()) / v.std()) for p,v in pc.iteritems() if \n",
      "               type(v) != type(None))).T"
     ],
     "language": "python",
     "metadata": {},
     "outputs": [],
     "prompt_number": 191
    },
    {
     "cell_type": "code",
     "collapsed": false,
     "input": [
      "pc_1 = extract_pc(data_matrix.dropna(), pc_threshold=0.)\n",
      "pc_1 = (pc_1 - pc_1.mean()) / pc_1.std()\n",
      "pc_1.name = 'First PC'"
     ],
     "language": "python",
     "metadata": {},
     "outputs": [],
     "prompt_number": 192
    },
    {
     "cell_type": "code",
     "collapsed": false,
     "input": [
      "clinical = clinical.replace('True',True).replace('False',False)\n",
      "tests  = get_tests(clinical, SURVIVAL_TESTS, REAL_VARIABLES, \n",
      "                           BINARY_VARIABLES, var_type='real')"
     ],
     "language": "python",
     "metadata": {},
     "outputs": [],
     "prompt_number": 193
    },
    {
     "cell_type": "code",
     "collapsed": false,
     "input": [
      "from Reports.Figures import *"
     ],
     "language": "python",
     "metadata": {},
     "outputs": [],
     "prompt_number": 133
    },
    {
     "cell_type": "code",
     "collapsed": false,
     "input": [
      "p_pathways, q_pathways = run_tests(tests, pc)"
     ],
     "language": "python",
     "metadata": {},
     "outputs": [],
     "prompt_number": 197
    },
    {
     "cell_type": "code",
     "collapsed": false,
     "input": [
      "tests['triple_neg'](pc_1)"
     ],
     "language": "python",
     "metadata": {},
     "outputs": [
      {
       "output_type": "pyout",
       "prompt_number": 198,
       "text": [
        "0.020813320832752977"
       ]
      }
     ],
     "prompt_number": 198
    },
    {
     "cell_type": "code",
     "collapsed": false,
     "input": [
      "pc_1.corr(pc.ix['BIOCARTA_MCM_PATHWAY'])"
     ],
     "language": "python",
     "metadata": {},
     "outputs": [
      {
       "output_type": "pyout",
       "prompt_number": 195,
       "text": [
        "-0.77066656767929997"
       ]
      }
     ],
     "prompt_number": 195
    },
    {
     "cell_type": "code",
     "collapsed": false,
     "input": [
      "violin_plot_pandas(clinical.triple_neg, pc_1);"
     ],
     "language": "python",
     "metadata": {},
     "outputs": [
      {
       "output_type": "display_data",
       "png": "[encoded data removed]"
      }
     ],
     "prompt_number": 196
    },
    {
     "cell_type": "code",
     "collapsed": false,
     "input": [
      "gene_sets['BIOCARTA_MCM_PATHWAY']"
     ],
     "language": "python",
     "metadata": {},
     "outputs": [
      {
       "output_type": "pyout",
       "prompt_number": 150,
       "text": [
        "set(['ORC3L',\n",
        "     'ORC4L',\n",
        "     'ORC5L',\n",
        "     'ORC2L',\n",
        "     'ORC1L',\n",
        "     'CDKN1B',\n",
        "     'CCNE1',\n",
        "     'CDT1',\n",
        "     'CDK2',\n",
        "     'ORC6L',\n",
        "     'MCM7',\n",
        "     'MCM6',\n",
        "     'MCM5',\n",
        "     'MCM4',\n",
        "     'MCM3',\n",
        "     'MCM2',\n",
        "     'KITLG',\n",
        "     'CDC6'])"
       ]
      }
     ],
     "prompt_number": 150
    },
    {
     "cell_type": "code",
     "collapsed": false,
     "input": [
      "q_pathways.sort(columns='lymphnode_n0n1').head().T"
     ],
     "language": "python",
     "metadata": {},
     "outputs": [
      {
       "html": [
        "<div style=\"max-height:1000px;max-width:1500px;overflow:auto;\">\n",
        "<table border=\"1\" class=\"dataframe\">\n",
        "  <thead>\n",
        "    <tr style=\"text-align: right;\">\n",
        "      <th></th>\n",
        "      <th>REACTOME_CDC20_PHOSPHO_APC_MEDIATED_DEGRADATION_OF_CYCLIN_A</th>\n",
        "      <th>REACTOME_G2_M_CHECKPOINTS</th>\n",
        "      <th>REACTOME_G1_S_TRANSITION</th>\n",
        "      <th>REACTOME_G1_PHASE</th>\n",
        "      <th>REACTOME_FURTHER_PLATELET_RELEASATE</th>\n",
        "    </tr>\n",
        "  </thead>\n",
        "  <tbody>\n",
        "    <tr>\n",
        "      <td><strong>tumor_t1t2</strong></td>\n",
        "      <td> 0.999538</td>\n",
        "      <td> 0.999538</td>\n",
        "      <td> 0.999538</td>\n",
        "      <td> 9.995379e-01</td>\n",
        "      <td> 9.995379e-01</td>\n",
        "    </tr>\n",
        "    <tr>\n",
        "      <td><strong>lymphnode_n0n1</strong></td>\n",
        "      <td> 0.354962</td>\n",
        "      <td> 0.354962</td>\n",
        "      <td> 0.354962</td>\n",
        "      <td> 3.549616e-01</td>\n",
        "      <td> 3.549616e-01</td>\n",
        "    </tr>\n",
        "    <tr>\n",
        "      <td><strong>event_free_survival</strong></td>\n",
        "      <td> 0.330205</td>\n",
        "      <td> 0.330205</td>\n",
        "      <td> 0.330205</td>\n",
        "      <td> 3.302055e-01</td>\n",
        "      <td> 3.302055e-01</td>\n",
        "    </tr>\n",
        "    <tr>\n",
        "      <td><strong>triple_neg</strong></td>\n",
        "      <td> 0.465945</td>\n",
        "      <td> 0.000011</td>\n",
        "      <td> 0.000096</td>\n",
        "      <td> 4.909241e-09</td>\n",
        "      <td> 1.640474e-04</td>\n",
        "    </tr>\n",
        "    <tr>\n",
        "      <td><strong>gender</strong></td>\n",
        "      <td> 0.747040</td>\n",
        "      <td> 0.747040</td>\n",
        "      <td> 0.747040</td>\n",
        "      <td> 7.902865e-01</td>\n",
        "      <td> 9.187621e-01</td>\n",
        "    </tr>\n",
        "    <tr>\n",
        "      <td><strong>age</strong></td>\n",
        "      <td> 0.103946</td>\n",
        "      <td> 0.025578</td>\n",
        "      <td> 0.042583</td>\n",
        "      <td> 8.235029e-02</td>\n",
        "      <td> 1.544363e-01</td>\n",
        "    </tr>\n",
        "    <tr>\n",
        "      <td><strong>PR_pos</strong></td>\n",
        "      <td> 0.198787</td>\n",
        "      <td> 0.317572</td>\n",
        "      <td> 0.739159</td>\n",
        "      <td> 1.215985e-01</td>\n",
        "      <td> 8.195602e-01</td>\n",
        "    </tr>\n",
        "    <tr>\n",
        "      <td><strong>ER_pos</strong></td>\n",
        "      <td> 0.323189</td>\n",
        "      <td> 0.097624</td>\n",
        "      <td> 0.195614</td>\n",
        "      <td> 7.513323e-04</td>\n",
        "      <td> 1.422285e-01</td>\n",
        "    </tr>\n",
        "    <tr>\n",
        "      <td><strong>triple_pos</strong></td>\n",
        "      <td> 0.998794</td>\n",
        "      <td> 0.998794</td>\n",
        "      <td> 0.998794</td>\n",
        "      <td> 9.987940e-01</td>\n",
        "      <td> 9.987940e-01</td>\n",
        "    </tr>\n",
        "    <tr>\n",
        "      <td><strong>post_menopause</strong></td>\n",
        "      <td> 0.676442</td>\n",
        "      <td> 0.676442</td>\n",
        "      <td> 0.676442</td>\n",
        "      <td> 6.764421e-01</td>\n",
        "      <td> 7.281170e-01</td>\n",
        "    </tr>\n",
        "    <tr>\n",
        "      <td><strong>AMAR</strong></td>\n",
        "      <td> 0.117271</td>\n",
        "      <td> 0.000030</td>\n",
        "      <td> 0.000006</td>\n",
        "      <td> 9.921866e-17</td>\n",
        "      <td> 4.889798e-13</td>\n",
        "    </tr>\n",
        "    <tr>\n",
        "      <td><strong>survival</strong></td>\n",
        "      <td> 0.063459</td>\n",
        "      <td> 0.071667</td>\n",
        "      <td> 0.064309</td>\n",
        "      <td> 2.694267e-02</td>\n",
        "      <td> 2.725060e-02</td>\n",
        "    </tr>\n",
        "    <tr>\n",
        "      <td><strong>her2_pos</strong></td>\n",
        "      <td> 0.799187</td>\n",
        "      <td> 0.754879</td>\n",
        "      <td> 0.805758</td>\n",
        "      <td> 7.503630e-01</td>\n",
        "      <td> 7.122425e-01</td>\n",
        "    </tr>\n",
        "  </tbody>\n",
        "</table>\n",
        "</div>"
       ],
       "output_type": "pyout",
       "prompt_number": 205,
       "text": [
        "                     REACTOME_CDC20_PHOSPHO_APC_MEDIATED_DEGRADATION_OF_CYCLIN_A  REACTOME_G2_M_CHECKPOINTS  REACTOME_G1_S_TRANSITION  REACTOME_G1_PHASE  REACTOME_FURTHER_PLATELET_RELEASATE\n",
        "tumor_t1t2                                                    0.999538                             0.999538                  0.999538       9.995379e-01                         9.995379e-01\n",
        "lymphnode_n0n1                                                0.354962                             0.354962                  0.354962       3.549616e-01                         3.549616e-01\n",
        "event_free_survival                                           0.330205                             0.330205                  0.330205       3.302055e-01                         3.302055e-01\n",
        "triple_neg                                                    0.465945                             0.000011                  0.000096       4.909241e-09                         1.640474e-04\n",
        "gender                                                        0.747040                             0.747040                  0.747040       7.902865e-01                         9.187621e-01\n",
        "age                                                           0.103946                             0.025578                  0.042583       8.235029e-02                         1.544363e-01\n",
        "PR_pos                                                        0.198787                             0.317572                  0.739159       1.215985e-01                         8.195602e-01\n",
        "ER_pos                                                        0.323189                             0.097624                  0.195614       7.513323e-04                         1.422285e-01\n",
        "triple_pos                                                    0.998794                             0.998794                  0.998794       9.987940e-01                         9.987940e-01\n",
        "post_menopause                                                0.676442                             0.676442                  0.676442       6.764421e-01                         7.281170e-01\n",
        "AMAR                                                          0.117271                             0.000030                  0.000006       9.921866e-17                         4.889798e-13\n",
        "survival                                                      0.063459                             0.071667                  0.064309       2.694267e-02                         2.725060e-02\n",
        "her2_pos                                                      0.799187                             0.754879                  0.805758       7.503630e-01                         7.122425e-01"
       ]
      }
     ],
     "prompt_number": 205
    },
    {
     "cell_type": "code",
     "collapsed": false,
     "input": [
      "single_matrix = lesion_matrix if data_type == 'amplification' else hit_matrix\n",
      "single_matrix = single_matrix.clip_upper(1.)\n",
      "clinical['rate'] = log(single_matrix.sum(0))\n",
      "tests = get_tests_bool(clinical, SURVIVAL_TESTS, REAL_VARIABLES, \n",
      "                       BINARY_VARIABLES)\n",
      "gene_counts = sort(single_matrix.sum(1))\n",
      "good_genes = gene_counts[gene_counts > MIN_NUM_HITS].index[:500]\n",
      "p_genes, q_genes = run_tests(tests, single_matrix.ix[good_genes])\n",
      "\n",
      "clinical['rate'] = log(hit_matrix.sum(0))\n",
      "meta_matrix = build_meta_matrix(gene_sets, hit_matrix, \n",
      "                                setFilter=lambda s: s.clip_upper(1))\n",
      "tests = get_tests_bool(clinical, SURVIVAL_TESTS, REAL_VARIABLES, \n",
      "                       BINARY_VARIABLES)\n",
      "p_pathways, q_pathways = run_tests(tests, meta_matrix.clip_upper(1.)) "
     ],
     "language": "python",
     "metadata": {},
     "outputs": []
    }
   ],
   "metadata": {}
  }
 ]
}