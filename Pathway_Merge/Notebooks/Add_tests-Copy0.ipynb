{
 "metadata": {
  "name": "Add_tests-Copy0"
 },
 "nbformat": 3,
 "nbformat_minor": 0,
 "worksheets": [
  {
   "cells": [
    {
     "cell_type": "code",
     "collapsed": false,
     "input": [
      "cd ../src/"
     ],
     "language": "python",
     "metadata": {},
     "outputs": [
      {
       "output_type": "stream",
       "stream": "stdout",
       "text": [
        "/cellar/users/agross/TCGA_Code/TCGA/Pathway_Merge/src\n"
       ]
      }
     ],
     "prompt_number": 3
    },
    {
     "cell_type": "code",
     "collapsed": false,
     "input": [
      "import pandas as pandas\n",
      "from Data.Pathways import read_in_pathways\n",
      "from Processing.Clinical import ClinicalObject\n",
      "import pickle as pickle\n",
      "import os as os\n",
      "\n",
      "pandas.set_printoptions(max_columns=300)"
     ],
     "language": "python",
     "metadata": {},
     "outputs": [],
     "prompt_number": 4
    },
    {
     "cell_type": "code",
     "collapsed": false,
     "input": [
      "firehose_path = '/cellar/users/agross/Data/TCGA/'\n",
      "date = '20120913'\n",
      "date_ = '_'.join([date[:4], date[4:6], date[6:8]])\n",
      "pathway_file = '/cellar/users/agross/Data/GeneSets/c2.cp.v3.0.symbols_edit.csv'\n",
      "gene_sets, gene_lookup = read_in_pathways(pathway_file)\n",
      "cancers = os.listdir(firehose_path + 'analyses__' + date_)"
     ],
     "language": "python",
     "metadata": {},
     "outputs": [],
     "prompt_number": 5
    },
    {
     "cell_type": "code",
     "collapsed": false,
     "input": [
      "cancer = 'BRCA'\n",
      "data_path = firehose_path + 'analyses__' + date_ + '/' + cancer + '/' + date + '/'\n",
      "#cancer = ClinicalObject(cancer, data_path, gene_sets, data_type='amplification')\n",
      "#cancer.filter_bad_pathways(gene_lookup)"
     ],
     "language": "python",
     "metadata": {},
     "outputs": [],
     "prompt_number": 6
    },
    {
     "cell_type": "code",
     "collapsed": false,
     "input": [
      "REAL_VARIABLES = ['AMAR','rate','age']\n",
      "BINARY_VARIABLES = ['gender', 'therapy', 'radiation', 'triple_neg', 'triple_pos',\n",
      "                    'ER_pos','PR_pos','her2_pos', 'lymphnode_n0n1', 'tumor_t1t2',\n",
      "                    'post_menopause']\n",
      "SURVIVAL_TESTS = {'survival' : {'event_var' : 'deceased', 'time_var' : 'days', \n",
      "                                'covariates' : ['age', 'rate']},\n",
      "                  'event_free_survival' : {'event_var' : 'event', \n",
      "                                           'time_var' : 'event_free_survival', \n",
      "                                           'covariates' : ['age', 'rate']}\n",
      "                  }"
     ],
     "language": "python",
     "metadata": {},
     "outputs": [],
     "prompt_number": 7
    },
    {
     "cell_type": "code",
     "collapsed": false,
     "input": [
      "def run_clinical_bool(cancer, data_path, gene_sets, data_type='mutation'):\n",
      "    '''\n",
      "    Runs clinical tests for boolean type data (mutation, amplification, \n",
      "    or deletion).\n",
      "    '''\n",
      "    stddata_path = data_path.replace('analyses', 'stddata')\n",
      "    clinical = read_csv(stddata_path + 'Clinical/compiled.csv', index_col=0)\n",
      "    try:\n",
      "        meth_age, amar = get_age_signal(stddata_path, clinical)\n",
      "        clinical['meth_age'] = meth_age\n",
      "        clinical['AMAR'] = amar\n",
      "    except:\n",
      "        pass  #Probably because there is not a 450k chip for the cancer\n",
      "    patients = clinical[['days','deceased']].dropna().index\n",
      "    if data_type == 'mutation':\n",
      "        hit_matrix, _ = get_mutation_matrix(cancer, data_path)\n",
      "    elif data_type in ['amplification', 'deletion']:\n",
      "        hit_matrix, lesion_matrix = get_cna_matrix(data_path, data_type)\n",
      "    \n",
      "    single_matrix = lesion_matrix if data_type == 'amplification' else hit_matrix\n",
      "    single_matrix = single_matrix.clip_upper(1.)\n",
      "    clinical['rate'] = log(single_matrix.sum(0))\n",
      "    tests = get_tests_bool(clinical, SURVIVAL_TESTS, REAL_VARIABLES, \n",
      "                           BINARY_VARIABLES)\n",
      "    gene_counts = sort(single_matrix.sum(1))\n",
      "    good_genes = gene_counts[gene_counts > MIN_NUM_HITS].index[:500]\n",
      "    p_genes, q_genes = run_tests(tests, single_matrix.ix[good_genes])\n",
      "    \n",
      "    clinical['rate'] = log(hit_matrix.sum(0))\n",
      "    meta_matrix = build_meta_matrix(gene_sets, hit_matrix, \n",
      "                                    setFilter=lambda s: s.clip_upper(1))\n",
      "    tests = get_tests_bool(clinical, SURVIVAL_TESTS, REAL_VARIABLES, \n",
      "                           BINARY_VARIABLES)\n",
      "    p_pathways, q_pathways = run_tests(tests, meta_matrix.clip_upper(1.)) \n",
      "    return locals()\n"
     ],
     "language": "python",
     "metadata": {},
     "outputs": []
    },
    {
     "cell_type": "code",
     "collapsed": false,
     "input": [
      "SURVIVAL_TESTS = {'survival' : {'event_var' : 'deceased', 'time_var' : 'days', \n",
      "                                'covariates' : ['age']},\n",
      "                  'event_free_survival' : {'event_var' : 'event', \n",
      "                                           'time_var' : 'event_free_survival', \n",
      "                                           'covariates' : ['age']}\n",
      "                  }"
     ],
     "language": "python",
     "metadata": {},
     "outputs": [],
     "prompt_number": 50
    },
    {
     "cell_type": "code",
     "collapsed": false,
     "input": [
      "def anova(hit_vec, response_vec):\n",
      "    '''\n",
      "    Wrapper to do a one way anova on pandas Series\n",
      "    ------------------------------------------------\n",
      "    hit_vec: Series of labels\n",
      "    response_vec: Series of measurements\n",
      "    '''\n",
      "    hit_vec, response_vec = match_series(hit_vec, response_vec)\n",
      "    return f_oneway(*[hit_vec[response_vec == num].dropna() \n",
      "                      for num in set(response_vec.dropna())])[1]\n",
      "\n",
      "\n",
      "def get_tests(clinical, survival_tests, real_variables, binary_variables,\n",
      "              var_type='binary'):\n",
      "    '''\n",
      "    Gets clinical association tests for a boolean valued response variable.\n",
      "    (IE mutation, CNA, ...)\n",
      "    Does some quick checks to see if the data is sufficent for each test. \n",
      "    Note that clinical values are now hard coded into each test function.\n",
      "    ------------------------------------------------------------------------\n",
      "    clinical: DataFrame of clinical variables\n",
      "    covariates: names of covariates to be passed to the cox model,\n",
      "                (must be columns in clinical DataFrame)\n",
      "    '''\n",
      "    check_surv = lambda s: len(clinical[[s['event_var'], \n",
      "                                         s['time_var']]].dropna()) > 2\n",
      "    make_surv = lambda args: lambda vec: get_cox_ph(clinical, vec, **args)\n",
      "    surv_tests = dict((test, make_surv(args)) for test,args in \n",
      "                      survival_tests.iteritems() if check_surv(args))\n",
      "    \n",
      "    check_test = lambda t: (t in clinical) and (notnull(clinical[t]).sum() > 10)\n",
      "    make_anova = lambda test: lambda vec: anova(vec, clinical[test])\n",
      "    make_fisher = lambda test: lambda vec: fisher_exact_test(vec, clinical[test])\n",
      "    make_pcc = lambda test: lambda vec: pearson_p(vec, clinical[test])\n",
      "    \n",
      "    if var_type == 'binary':\n",
      "        real_test, bin_test = make_anova, make_fisher\n",
      "    elif var_type == 'real':\n",
      "         real_test, bin_test = make_pcc, make_anova\n",
      "            \n",
      "    real_tests = dict((test, real_test(test)) for test in real_variables\n",
      "                      if check_test(test))    \n",
      "    bin_tests = dict((test, bin_test(test)) for test in binary_variables\n",
      "                      if check_test(test))\n",
      "    \n",
      "    return dict(list(surv_tests.items()) + list(real_tests.items()) + \n",
      "                list(bin_tests.items()))"
     ],
     "language": "python",
     "metadata": {},
     "outputs": [],
     "prompt_number": 97
    },
    {
     "cell_type": "code",
     "collapsed": false,
     "input": [
      "from Processing.Clinical import *"
     ],
     "language": "python",
     "metadata": {},
     "outputs": [],
     "prompt_number": 9
    },
    {
     "cell_type": "code",
     "collapsed": false,
     "input": [
      "data_type = 'methylation'\n",
      "drop_pc = True"
     ],
     "language": "python",
     "metadata": {},
     "outputs": [],
     "prompt_number": 116
    },
    {
     "cell_type": "code",
     "collapsed": false,
     "input": [
      "stddata_path = data_path.replace('analyses', 'stddata')\n",
      "clinical = read_csv(stddata_path + 'Clinical/compiled.csv', index_col=0)\n",
      "try:\n",
      "    meth_age, amar = get_age_signal(stddata_path, clinical)\n",
      "    clinical['meth_age'] = meth_age\n",
      "    clinical['AMAR'] = amar\n",
      "except:\n",
      "    pass  #Probably because there is not a 450k chip for the cancer\n",
      "patients = clinical[['days','deceased']].dropna().index"
     ],
     "language": "python",
     "metadata": {},
     "outputs": [],
     "prompt_number": 117
    },
    {
     "cell_type": "code",
     "collapsed": false,
     "input": [
      "if data_type == 'expression':\n",
      "    data_matrix = read_rnaSeq(stddata_path)\n",
      "    data_matrix = data_matrix.groupby(by=lambda n: n.split('|')[0]).mean()\n",
      "elif data_type == 'methylation':\n",
      "    data_matrix = read_methylation(stddata_path)"
     ],
     "language": "python",
     "metadata": {},
     "outputs": [],
     "prompt_number": 189
    },
    {
     "cell_type": "code",
     "collapsed": false,
     "input": [
      "drop_pc = False"
     ],
     "language": "python",
     "metadata": {},
     "outputs": [],
     "prompt_number": 190
    },
    {
     "cell_type": "code",
     "collapsed": false,
     "input": [
      "if drop_pc:\n",
      "    data_matrix = drop_first_norm_pc(data_matrix)\n",
      "pc = dict((p, extract_pc(data_matrix.ix[g].dropna())) for p, g in \n",
      "          gene_sets.iteritems())\n",
      "pc = DataFrame(dict((p, (v - v.mean()) / v.std()) for p,v in pc.iteritems() if \n",
      "               type(v) != type(None))).T"
     ],
     "language": "python",
     "metadata": {},
     "outputs": [],
     "prompt_number": 191
    },
    {
     "cell_type": "code",
     "collapsed": false,
     "input": [
      "pc_1 = extract_pc(data_matrix.dropna(), pc_threshold=0.)\n",
      "pc_1 = (pc_1 - pc_1.mean()) / pc_1.std()\n",
      "pc_1.name = 'First PC'"
     ],
     "language": "python",
     "metadata": {},
     "outputs": [],
     "prompt_number": 192
    },
    {
     "cell_type": "code",
     "collapsed": false,
     "input": [
      "clinical = clinical.replace('True',True).replace('False',False)\n",
      "tests  = get_tests(clinical, SURVIVAL_TESTS, REAL_VARIABLES, \n",
      "                           BINARY_VARIABLES, var_type='real')"
     ],
     "language": "python",
     "metadata": {},
     "outputs": [],
     "prompt_number": 193
    },
    {
     "cell_type": "code",
     "collapsed": false,
     "input": [
      "from Reports.Figures import *"
     ],
     "language": "python",
     "metadata": {},
     "outputs": [],
     "prompt_number": 133
    },
    {
     "cell_type": "code",
     "collapsed": false,
     "input": [
      "p_pathways, q_pathways = run_tests(tests, pc)"
     ],
     "language": "python",
     "metadata": {},
     "outputs": [],
     "prompt_number": 197
    },
    {
     "cell_type": "code",
     "collapsed": false,
     "input": [
      "tests['triple_neg'](pc_1)"
     ],
     "language": "python",
     "metadata": {},
     "outputs": [
      {
       "output_type": "pyout",
       "prompt_number": 198,
       "text": [
        "0.020813320832752977"
       ]
      }
     ],
     "prompt_number": 198
    },
    {
     "cell_type": "code",
     "collapsed": false,
     "input": [
      "pc_1.corr(pc.ix['BIOCARTA_MCM_PATHWAY'])"
     ],
     "language": "python",
     "metadata": {},
     "outputs": [
      {
       "output_type": "pyout",
       "prompt_number": 195,
       "text": [
        "-0.77066656767929997"
       ]
      }
     ],
     "prompt_number": 195
    },
    {
     "cell_type": "code",
     "collapsed": false,
     "input": [
      "violin_plot_pandas(clinical.triple_neg, pc_1);"
     ],
     "language": "python",
     "metadata": {},
     "outputs": [
      {
       "output_type": "display_data",
       "png": "[encoded data removed]"
      }
     ],
     "prompt_number": 196
    },
    {
     "cell_type": "code",
     "collapsed": false,
     "input": [
      "gene_sets['BIOCARTA_MCM_PATHWAY']"
     ],
     "language": "python",
     "metadata": {},
     "outputs": [
      {
       "output_type": "pyout",
       "prompt_number": 150,
       "text": [
        "set(['ORC3L',\n",
        "     'ORC4L',\n",
        "     'ORC5L',\n",
        "     'ORC2L',\n",
        "     'ORC1L',\n",
        "     'CDKN1B',\n",
        "     'CCNE1',\n",
        "     'CDT1',\n",
        "     'CDK2',\n",
        "     'ORC6L',\n",
        "     'MCM7',\n",
        "     'MCM6',\n",
        "     'MCM5',\n",
        "     'MCM4',\n",
        "     'MCM3',\n",
        "     'MCM2',\n",
        "     'KITLG',\n",
        "     'CDC6'])"
       ]
      }
     ],
     "prompt_number": 150
    },
    {
     "cell_type": "code",
     "collapsed": false,
     "input": [
      "q_pathways.sort(columns='lymphnode_n0n1').head().T"
     ],
     "language": "python",
     "metadata": {},
     "outputs": [
      {
       "html": [
        "<div style=\"max-height:1000px;max-width:1500px;overflow:auto;\">\n",
        "<table border=\"1\" class=\"dataframe\">\n",
        "  <thead>\n",
        "    <tr style=\"text-align: right;\">\n",
        "      <th></th>\n",
        "      <th>REACTOME_CDC20_PHOSPHO_APC_MEDIATED_DEGRADATION_OF_CYCLIN_A</th>\n",
        "      <th>REACTOME_G2_M_CHECKPOINTS</th>\n",
        "      <th>REACTOME_G1_S_TRANSITION</th>\n",
        "      <th>REACTOME_G1_PHASE</th>\n",
        "      <th>REACTOME_FURTHER_PLATELET_RELEASATE</th>\n",
        "    </tr>\n",
        "  </thead>\n",
        "  <tbody>\n",
        "    <tr>\n",
        "      <td><strong>tumor_t1t2</strong></td>\n",
        "      <td> 0.999538</td>\n",
        "      <td> 0.999538</td>\n",
        "      <td> 0.999538</td>\n",
        "      <td> 9.995379e-01</td>\n",
        "      <td> 9.995379e-01</td>\n",
        "    </tr>\n",
        "    <tr>\n",
        "      <td><strong>lymphnode_n0n1</strong></td>\n",
        "      <td> 0.354962</td>\n",
        "      <td> 0.354962</td>\n",
        "      <td> 0.354962</td>\n",
        "      <td> 3.549616e-01</td>\n",
        "      <td> 3.549616e-01</td>\n",
        "    </tr>\n",
        "    <tr>\n",
        "      <td><strong>event_free_survival</strong></td>\n",
        "      <td> 0.330205</td>\n",
        "      <td> 0.330205</td>\n",
        "      <td> 0.330205</td>\n",
        "      <td> 3.302055e-01</td>\n",
        "      <td> 3.302055e-01</td>\n",
        "    </tr>\n",
        "    <tr>\n",
        "      <td><strong>triple_neg</strong></td>\n",
        "      <td> 0.465945</td>\n",
        "      <td> 0.000011</td>\n",
        "      <td> 0.000096</td>\n",
        "      <td> 4.909241e-09</td>\n",
        "      <td> 1.640474e-04</td>\n",
        "    </tr>\n",
        "    <tr>\n",
        "      <td><strong>gender</strong></td>\n",
        "      <td> 0.747040</td>\n",
        "      <td> 0.747040</td>\n",
        "      <td> 0.747040</td>\n",
        "      <td> 7.902865e-01</td>\n",
        "      <td> 9.187621e-01</td>\n",
        "    </tr>\n",
        "    <tr>\n",
        "      <td><strong>age</strong></td>\n",
        "      <td> 0.103946</td>\n",
        "      <td> 0.025578</td>\n",
        "      <td> 0.042583</td>\n",
        "      <td> 8.235029e-02</td>\n",
        "      <td> 1.544363e-01</td>\n",
        "    </tr>\n",
        "    <tr>\n",
        "      <td><strong>PR_pos</strong></td>\n",
        "      <td> 0.198787</td>\n",
        "      <td> 0.317572</td>\n",
        "      <td> 0.739159</td>\n",
        "      <td> 1.215985e-01</td>\n",
        "      <td> 8.195602e-01</td>\n",
        "    </tr>\n",
        "    <tr>\n",
        "      <td><strong>ER_pos</strong></td>\n",
        "      <td> 0.323189</td>\n",
        "      <td> 0.097624</td>\n",
        "      <td> 0.195614</td>\n",
        "      <td> 7.513323e-04</td>\n",
        "      <td> 1.422285e-01</td>\n",
        "    </tr>\n",
        "    <tr>\n",
        "      <td><strong>triple_pos</strong></td>\n",
        "      <td> 0.998794</td>\n",
        "      <td> 0.998794</td>\n",
        "      <td> 0.998794</td>\n",
        "      <td> 9.987940e-01</td>\n",
        "      <td> 9.987940e-01</td>\n",
        "    </tr>\n",
        "    <tr>\n",
        "      <td><strong>post_menopause</strong></td>\n",
        "      <td> 0.676442</td>\n",
        "      <td> 0.676442</td>\n",
        "      <td> 0.676442</td>\n",
        "      <td> 6.764421e-01</td>\n",
        "      <td> 7.281170e-01</td>\n",
        "    </tr>\n",
        "    <tr>\n",
        "      <td><strong>AMAR</strong></td>\n",
        "      <td> 0.117271</td>\n",
        "      <td> 0.000030</td>\n",
        "      <td> 0.000006</td>\n",
        "      <td> 9.921866e-17</td>\n",
        "      <td> 4.889798e-13</td>\n",
        "    </tr>\n",
        "    <tr>\n",
        "      <td><strong>survival</strong></td>\n",
        "      <td> 0.063459</td>\n",
        "      <td> 0.071667</td>\n",
        "      <td> 0.064309</td>\n",
        "      <td> 2.694267e-02</td>\n",
        "      <td> 2.725060e-02</td>\n",
        "    </tr>\n",
        "    <tr>\n",
        "      <td><strong>her2_pos</strong></td>\n",
        "      <td> 0.799187</td>\n",
        "      <td> 0.754879</td>\n",
        "      <td> 0.805758</td>\n",
        "      <td> 7.503630e-01</td>\n",
        "      <td> 7.122425e-01</td>\n",
        "    </tr>\n",
        "  </tbody>\n",
        "</table>\n",
        "</div>"
       ],
       "output_type": "pyout",
       "prompt_number": 205,
       "text": [
        "                     REACTOME_CDC20_PHOSPHO_APC_MEDIATED_DEGRADATION_OF_CYCLIN_A  REACTOME_G2_M_CHECKPOINTS  REACTOME_G1_S_TRANSITION  REACTOME_G1_PHASE  REACTOME_FURTHER_PLATELET_RELEASATE\n",
        "tumor_t1t2                                                    0.999538                             0.999538                  0.999538       9.995379e-01                         9.995379e-01\n",
        "lymphnode_n0n1                                                0.354962                             0.354962                  0.354962       3.549616e-01                         3.549616e-01\n",
        "event_free_survival                                           0.330205                             0.330205                  0.330205       3.302055e-01                         3.302055e-01\n",
        "triple_neg                                                    0.465945                             0.000011                  0.000096       4.909241e-09                         1.640474e-04\n",
        "gender                                                        0.747040                             0.747040                  0.747040       7.902865e-01                         9.187621e-01\n",
        "age                                                           0.103946                             0.025578                  0.042583       8.235029e-02                         1.544363e-01\n",
        "PR_pos                                                        0.198787                             0.317572                  0.739159       1.215985e-01                         8.195602e-01\n",
        "ER_pos                                                        0.323189                             0.097624                  0.195614       7.513323e-04                         1.422285e-01\n",
        "triple_pos                                                    0.998794                             0.998794                  0.998794       9.987940e-01                         9.987940e-01\n",
        "post_menopause                                                0.676442                             0.676442                  0.676442       6.764421e-01                         7.281170e-01\n",
        "AMAR                                                          0.117271                             0.000030                  0.000006       9.921866e-17                         4.889798e-13\n",
        "survival                                                      0.063459                             0.071667                  0.064309       2.694267e-02                         2.725060e-02\n",
        "her2_pos                                                      0.799187                             0.754879                  0.805758       7.503630e-01                         7.122425e-01"
       ]
      }
     ],
     "prompt_number": 205
    },
    {
     "cell_type": "code",
     "collapsed": false,
     "input": [
      "single_matrix = lesion_matrix if data_type == 'amplification' else hit_matrix\n",
      "single_matrix = single_matrix.clip_upper(1.)\n",
      "clinical['rate'] = log(single_matrix.sum(0))\n",
      "tests = get_tests_bool(clinical, SURVIVAL_TESTS, REAL_VARIABLES, \n",
      "                       BINARY_VARIABLES)\n",
      "gene_counts = sort(single_matrix.sum(1))\n",
      "good_genes = gene_counts[gene_counts > MIN_NUM_HITS].index[:500]\n",
      "p_genes, q_genes = run_tests(tests, single_matrix.ix[good_genes])\n",
      "\n",
      "clinical['rate'] = log(hit_matrix.sum(0))\n",
      "meta_matrix = build_meta_matrix(gene_sets, hit_matrix, \n",
      "                                setFilter=lambda s: s.clip_upper(1))\n",
      "tests = get_tests_bool(clinical, SURVIVAL_TESTS, REAL_VARIABLES, \n",
      "                       BINARY_VARIABLES)\n",
      "p_pathways, q_pathways = run_tests(tests, meta_matrix.clip_upper(1.)) "
     ],
     "language": "python",
     "metadata": {},
     "outputs": []
    }
   ],
   "metadata": {}
  }
 ]
}