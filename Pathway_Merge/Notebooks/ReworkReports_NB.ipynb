{
 "metadata": {
  "name": "ReworkReports_NB"
 },
 "nbformat": 3,
 "nbformat_minor": 0,
 "worksheets": [
  {
   "cells": [
    {
     "cell_type": "code",
     "collapsed": false,
     "input": [
      "cd ../src"
     ],
     "language": "python",
     "metadata": {},
     "outputs": [
      {
       "output_type": "stream",
       "stream": "stdout",
       "text": [
        "/cellar/users/agross/TCGA_Code/TCGA/Pathway_Merge/src\n"
       ]
      }
     ],
     "prompt_number": 9
    },
    {
     "cell_type": "code",
     "collapsed": false,
     "input": [
      "import pandas as pandas\n",
      "from Data.Pathways import read_in_pathways\n",
      "from Processing.Clinical import ClinicalObject\n",
      "import pickle as pickle\n",
      "import os as os\n",
      "\n",
      "pandas.set_printoptions(max_columns=300)"
     ],
     "language": "python",
     "metadata": {},
     "outputs": [],
     "prompt_number": 10
    },
    {
     "cell_type": "code",
     "collapsed": false,
     "input": [
      "firehose_path = '/cellar/users/agross/Data/TCGA/'\n",
      "date = '20120913'\n",
      "date_ = '_'.join([date[:4], date[4:6], date[6:8]])\n",
      "pathway_file = '/cellar/users/agross/Data/GeneSets/c2.cp.v3.0.symbols_edit.csv'\n",
      "gene_sets, gene_lookup = read_in_pathways(pathway_file)\n",
      "cancers = os.listdir(firehose_path + 'analyses__' + date_)"
     ],
     "language": "python",
     "metadata": {},
     "outputs": [],
     "prompt_number": 11
    },
    {
     "cell_type": "code",
     "collapsed": false,
     "input": [
      "from Reports.Reports import *\n",
      "data_type = 'mutation'\n",
      "report_ext = 'cov_age_rate_2'\n",
      "\n",
      "REAL_VARIABLES = ['AMAR','rate','age','karnofsky_performance']\n",
      "BINARY_VARIABLES = ['gender', 'therapy', 'radiation', 'triple_neg', 'triple_pos',\n",
      "                    'ER_pos','PR_pos','her2_pos', 'lymphnode_n0n1', 'tumor_t1t2',\n",
      "                    'post_menopause', 'histo_g1g2', 'neo_status', 'organ_subdivision'\n",
      "                    'complete_response', 'metastatic_recurrence']\n",
      "SURVIVAL_TESTS = {'survival' : {'event_var' : 'deceased', 'time_var' : 'days', \n",
      "                                'covariates' : ['age', 'rate']},\n",
      "                  'event_free_survival' : {'event_var' : 'event', \n",
      "                                           'time_var' : 'event_free_survival', \n",
      "                                           'covariates' : ['age', 'rate']}\n",
      "                  }"
     ],
     "language": "python",
     "metadata": {},
     "outputs": [],
     "prompt_number": 45
    },
    {
     "cell_type": "code",
     "collapsed": false,
     "input": [
      "def create_clinical_report(cancer, next_cancer, prev_cancer):\n",
      "    if not os.path.isdir(cancer.report_folder + '/' + FIG_EXT):\n",
      "        os.makedirs(cancer.report_folder + '/' + FIG_EXT)\n",
      "    report = nz.newReport('Report for ' + cancer.cancer)\n",
      "    report = generic_header(report, cancer, next_cancer, prev_cancer)\n",
      "    \n",
      "    if cancer.data_type not in ['expression', 'methylation']:\n",
      "        gene_table = HitTable(cancer)\n",
      "        df = cancer.hit_matrix if gene_table.marker == 'gene' else cancer.lesion_matrix\n",
      "        df = df.groupby(level=0).first()\n",
      "        gene_table.fill_in_table(cancer, df)\n",
      "        if len(gene_table.table) > 0:\n",
      "            section = nz.addTo(nz.newSubSection(gene_table.marker.capitalize() + ' ' + \n",
      "                               cancer.data_type), gene_table.nozzle_table)\n",
      "            report = nz.addToResults(report, section)\n",
      "    \n",
      "        pathway_table = PathwayTable(cancer)\n",
      "        pathway_table.fill_in_table(cancer, cancer.meta_matrix)\n",
      "        if len(pathway_table.table) > 0:\n",
      "            section = nz.addTo(nz.newSubSection('Pathway ' + cancer.data_type), \n",
      "                               pathway_table.nozzle_table)\n",
      "            report = nz.addToResults(report, section)\n",
      "        \n",
      "    nz.writeReport(report, filename=cancer.report_folder + '/index')"
     ],
     "language": "python",
     "metadata": {},
     "outputs": [],
     "prompt_number": 46
    },
    {
     "cell_type": "code",
     "collapsed": false,
     "input": [
      "clinical = {}\n",
      "for cancer in cancers:\n",
      "    data_path = firehose_path + 'analyses__' + date_ + '/' + cancer + '/' + date + '/'\n",
      "    clinical_obj = data_path + data_type + '_' + report_ext + '/ClinicalObject.p'\n",
      "    if os.path.isfile(clinical_obj):\n",
      "        clinical[cancer] = clinical_obj"
     ],
     "language": "python",
     "metadata": {},
     "outputs": [],
     "prompt_number": 49
    },
    {
     "cell_type": "code",
     "collapsed": false,
     "input": [
      "clinical"
     ],
     "language": "python",
     "metadata": {},
     "outputs": [
      {
       "output_type": "pyout",
       "prompt_number": 58,
       "text": [
        "{'BRCA': '/cellar/users/agross/Data/TCGA/analyses__2012_09_13/BRCA/20120913/mutation_cov_age_rate_2/ClinicalObject.p',\n",
        " 'GBM': '/cellar/users/agross/Data/TCGA/analyses__2012_09_13/GBM/20120913/mutation_cov_age_rate_2/ClinicalObject.p',\n",
        " 'OV': '/cellar/users/agross/Data/TCGA/analyses__2012_09_13/OV/20120913/mutation_cov_age_rate_2/ClinicalObject.p'}"
       ]
      }
     ],
     "prompt_number": 58
    },
    {
     "cell_type": "code",
     "collapsed": true,
     "input": [
      "get_next = lambda i: clinical.keys()[(i + 1) % len(clinical)]\n",
      "get_prev = lambda i: clinical.keys()[(i - 1) % len(clinical)]\n",
      "for i,clinical_obj in enumerate(clinical.values()):\n",
      "    if i == 0: continue\n",
      "    cancer = pickle.load(open(clinical_obj, 'rb'))\n",
      "    cancer.filter_bad_pathways(gene_lookup)\n",
      "    cancer.q_pathways = cancer.q_pathways.fillna(1.)\n",
      "    cancer.patients = cancer.clinical[['age', 'deceased']].dropna().index\n",
      "    create_clinical_report(cancer, get_next(i), get_prev(i))"
     ],
     "language": "python",
     "metadata": {},
     "outputs": [
      {
       "ename": "KeyboardInterrupt",
       "evalue": "",
       "output_type": "pyerr",
       "traceback": [
        "\u001b[1;31m---------------------------------------------------------------------------\u001b[0m\n\u001b[1;31mKeyboardInterrupt\u001b[0m                         Traceback (most recent call last)",
        "\u001b[1;32m<ipython-input-59-8bc998a3e950>\u001b[0m in \u001b[0;36m<module>\u001b[1;34m()\u001b[0m\n\u001b[0;32m      7\u001b[0m     \u001b[0mcancer\u001b[0m\u001b[1;33m.\u001b[0m\u001b[0mq_pathways\u001b[0m \u001b[1;33m=\u001b[0m \u001b[0mcancer\u001b[0m\u001b[1;33m.\u001b[0m\u001b[0mq_pathways\u001b[0m\u001b[1;33m.\u001b[0m\u001b[0mfillna\u001b[0m\u001b[1;33m(\u001b[0m\u001b[1;36m1.\u001b[0m\u001b[1;33m)\u001b[0m\u001b[1;33m\u001b[0m\u001b[0m\n\u001b[0;32m      8\u001b[0m     \u001b[0mcancer\u001b[0m\u001b[1;33m.\u001b[0m\u001b[0mpatients\u001b[0m \u001b[1;33m=\u001b[0m \u001b[0mcancer\u001b[0m\u001b[1;33m.\u001b[0m\u001b[0mclinical\u001b[0m\u001b[1;33m[\u001b[0m\u001b[1;33m[\u001b[0m\u001b[1;34m'age'\u001b[0m\u001b[1;33m,\u001b[0m \u001b[1;34m'deceased'\u001b[0m\u001b[1;33m]\u001b[0m\u001b[1;33m]\u001b[0m\u001b[1;33m.\u001b[0m\u001b[0mdropna\u001b[0m\u001b[1;33m(\u001b[0m\u001b[1;33m)\u001b[0m\u001b[1;33m.\u001b[0m\u001b[0mindex\u001b[0m\u001b[1;33m\u001b[0m\u001b[0m\n\u001b[1;32m----> 9\u001b[1;33m     \u001b[0mcreate_clinical_report\u001b[0m\u001b[1;33m(\u001b[0m\u001b[0mcancer\u001b[0m\u001b[1;33m,\u001b[0m \u001b[0mget_next\u001b[0m\u001b[1;33m(\u001b[0m\u001b[0mi\u001b[0m\u001b[1;33m)\u001b[0m\u001b[1;33m,\u001b[0m \u001b[0mget_prev\u001b[0m\u001b[1;33m(\u001b[0m\u001b[0mi\u001b[0m\u001b[1;33m)\u001b[0m\u001b[1;33m)\u001b[0m\u001b[1;33m\u001b[0m\u001b[0m\n\u001b[0m",
        "\u001b[1;32m<ipython-input-46-1a6631958b9b>\u001b[0m in \u001b[0;36mcreate_clinical_report\u001b[1;34m(cancer, next_cancer, prev_cancer)\u001b[0m\n\u001b[0;32m     15\u001b[0m             \u001b[0mreport\u001b[0m \u001b[1;33m=\u001b[0m \u001b[0mnz\u001b[0m\u001b[1;33m.\u001b[0m\u001b[0maddToResults\u001b[0m\u001b[1;33m(\u001b[0m\u001b[0mreport\u001b[0m\u001b[1;33m,\u001b[0m \u001b[0msection\u001b[0m\u001b[1;33m)\u001b[0m\u001b[1;33m\u001b[0m\u001b[0m\n\u001b[0;32m     16\u001b[0m \u001b[1;33m\u001b[0m\u001b[0m\n\u001b[1;32m---> 17\u001b[1;33m         \u001b[0mpathway_table\u001b[0m \u001b[1;33m=\u001b[0m \u001b[0mPathwayTable\u001b[0m\u001b[1;33m(\u001b[0m\u001b[0mcancer\u001b[0m\u001b[1;33m)\u001b[0m\u001b[1;33m\u001b[0m\u001b[0m\n\u001b[0m\u001b[0;32m     18\u001b[0m         \u001b[0mpathway_table\u001b[0m\u001b[1;33m.\u001b[0m\u001b[0mfill_in_table\u001b[0m\u001b[1;33m(\u001b[0m\u001b[0mcancer\u001b[0m\u001b[1;33m,\u001b[0m \u001b[0mcancer\u001b[0m\u001b[1;33m.\u001b[0m\u001b[0mmeta_matrix\u001b[0m\u001b[1;33m)\u001b[0m\u001b[1;33m\u001b[0m\u001b[0m\n\u001b[0;32m     19\u001b[0m         \u001b[1;32mif\u001b[0m \u001b[0mlen\u001b[0m\u001b[1;33m(\u001b[0m\u001b[0mpathway_table\u001b[0m\u001b[1;33m.\u001b[0m\u001b[0mtable\u001b[0m\u001b[1;33m)\u001b[0m \u001b[1;33m>\u001b[0m \u001b[1;36m0\u001b[0m\u001b[1;33m:\u001b[0m\u001b[1;33m\u001b[0m\u001b[0m\n",
        "\u001b[1;32m/cellar/users/agross/TCGA_Code/TCGA/Pathway_Merge/src/Reports/Reports.pyc\u001b[0m in \u001b[0;36m__init__\u001b[1;34m(self, cancer, cutoff)\u001b[0m\n\u001b[0;32m     87\u001b[0m \u001b[1;33m\u001b[0m\u001b[0m\n\u001b[0;32m     88\u001b[0m         annotation = DataFrame(dict((p,get_pathway_annotation_vec(p, cancer)) \n\u001b[1;32m---> 89\u001b[1;33m                        for p in cancer.q_pathways.index)).T\n\u001b[0m\u001b[0;32m     90\u001b[0m         \u001b[0mpathway_table\u001b[0m \u001b[1;33m=\u001b[0m \u001b[0mannotation\u001b[0m\u001b[1;33m.\u001b[0m\u001b[0mjoin\u001b[0m\u001b[1;33m(\u001b[0m\u001b[0mcancer\u001b[0m\u001b[1;33m.\u001b[0m\u001b[0mq_pathways\u001b[0m\u001b[1;33m)\u001b[0m\u001b[1;33m\u001b[0m\u001b[0m\n\u001b[0;32m     91\u001b[0m         \u001b[0mpathway_table\u001b[0m \u001b[1;33m=\u001b[0m \u001b[0mpathway_table\u001b[0m\u001b[1;33m[\u001b[0m\u001b[0mpathway_table\u001b[0m\u001b[1;33m[\u001b[0m\u001b[1;34m'n mut pat'\u001b[0m\u001b[1;33m]\u001b[0m \u001b[1;33m>\u001b[0m \u001b[1;36m3\u001b[0m\u001b[1;33m]\u001b[0m\u001b[1;33m\u001b[0m\u001b[0m\n",
        "\u001b[1;32m/cellar/users/agross/TCGA_Code/TCGA/Pathway_Merge/src/Reports/Reports.pyc\u001b[0m in \u001b[0;36m<genexpr>\u001b[1;34m((p,))\u001b[0m\n\u001b[0;32m     87\u001b[0m \u001b[1;33m\u001b[0m\u001b[0m\n\u001b[0;32m     88\u001b[0m         annotation = DataFrame(dict((p,get_pathway_annotation_vec(p, cancer)) \n\u001b[1;32m---> 89\u001b[1;33m                        for p in cancer.q_pathways.index)).T\n\u001b[0m\u001b[0;32m     90\u001b[0m         \u001b[0mpathway_table\u001b[0m \u001b[1;33m=\u001b[0m \u001b[0mannotation\u001b[0m\u001b[1;33m.\u001b[0m\u001b[0mjoin\u001b[0m\u001b[1;33m(\u001b[0m\u001b[0mcancer\u001b[0m\u001b[1;33m.\u001b[0m\u001b[0mq_pathways\u001b[0m\u001b[1;33m)\u001b[0m\u001b[1;33m\u001b[0m\u001b[0m\n\u001b[0;32m     91\u001b[0m         \u001b[0mpathway_table\u001b[0m \u001b[1;33m=\u001b[0m \u001b[0mpathway_table\u001b[0m\u001b[1;33m[\u001b[0m\u001b[0mpathway_table\u001b[0m\u001b[1;33m[\u001b[0m\u001b[1;34m'n mut pat'\u001b[0m\u001b[1;33m]\u001b[0m \u001b[1;33m>\u001b[0m \u001b[1;36m3\u001b[0m\u001b[1;33m]\u001b[0m\u001b[1;33m\u001b[0m\u001b[0m\n",
        "\u001b[1;32m/cellar/users/agross/TCGA_Code/TCGA/Pathway_Merge/src/Reports/Reports.pyc\u001b[0m in \u001b[0;36mget_pathway_annotation_vec\u001b[1;34m(p, cancer)\u001b[0m\n\u001b[0;32m    147\u001b[0m \u001b[1;32mdef\u001b[0m \u001b[0mget_pathway_annotation_vec\u001b[0m\u001b[1;33m(\u001b[0m\u001b[0mp\u001b[0m\u001b[1;33m,\u001b[0m \u001b[0mcancer\u001b[0m\u001b[1;33m)\u001b[0m\u001b[1;33m:\u001b[0m\u001b[1;33m\u001b[0m\u001b[0m\n\u001b[0;32m    148\u001b[0m     \u001b[0mgenes\u001b[0m \u001b[1;33m=\u001b[0m \u001b[0mcancer\u001b[0m\u001b[1;33m.\u001b[0m\u001b[0mgene_sets\u001b[0m\u001b[1;33m[\u001b[0m\u001b[0mp\u001b[0m\u001b[1;33m]\u001b[0m\u001b[1;33m.\u001b[0m\u001b[0mintersection\u001b[0m\u001b[1;33m(\u001b[0m\u001b[0mset\u001b[0m\u001b[1;33m(\u001b[0m\u001b[0mcancer\u001b[0m\u001b[1;33m.\u001b[0m\u001b[0mhit_matrix\u001b[0m\u001b[1;33m.\u001b[0m\u001b[0mindex\u001b[0m\u001b[1;33m)\u001b[0m\u001b[1;33m)\u001b[0m\u001b[1;33m\u001b[0m\u001b[0m\n\u001b[1;32m--> 149\u001b[1;33m     \u001b[0msub_matrix\u001b[0m \u001b[1;33m=\u001b[0m \u001b[0mcancer\u001b[0m\u001b[1;33m.\u001b[0m\u001b[0mhit_matrix\u001b[0m\u001b[1;33m.\u001b[0m\u001b[0mix\u001b[0m\u001b[1;33m[\u001b[0m\u001b[0mgenes\u001b[0m\u001b[1;33m,\u001b[0m \u001b[0mcancer\u001b[0m\u001b[1;33m.\u001b[0m\u001b[0mpatients\u001b[0m\u001b[1;33m]\u001b[0m \u001b[1;33m>\u001b[0m \u001b[1;36m0\u001b[0m\u001b[1;33m\u001b[0m\u001b[0m\n\u001b[0m\u001b[0;32m    150\u001b[0m     annot_vec = Series({'n mut genes' :  (sub_matrix.sum(1) > 0).sum(),\n\u001b[0;32m    151\u001b[0m                         \u001b[1;34m'n mut pat'\u001b[0m \u001b[1;33m:\u001b[0m \u001b[1;33m(\u001b[0m\u001b[0msub_matrix\u001b[0m\u001b[1;33m.\u001b[0m\u001b[0msum\u001b[0m\u001b[1;33m(\u001b[0m\u001b[1;33m)\u001b[0m \u001b[1;33m>\u001b[0m \u001b[1;36m0\u001b[0m\u001b[1;33m)\u001b[0m\u001b[1;33m.\u001b[0m\u001b[0msum\u001b[0m\u001b[1;33m(\u001b[0m\u001b[1;33m)\u001b[0m\u001b[1;33m,\u001b[0m\u001b[1;33m\u001b[0m\u001b[0m\n",
        "\u001b[1;32m/cellar/users/agross/semillon/epd/lib/python2.7/site-packages/pandas-0.9.0-py2.7-linux-x86_64.egg/pandas/core/indexing.pyc\u001b[0m in \u001b[0;36m__getitem__\u001b[1;34m(self, key)\u001b[0m\n\u001b[0;32m     39\u001b[0m                 \u001b[1;32mpass\u001b[0m\u001b[1;33m\u001b[0m\u001b[0m\n\u001b[0;32m     40\u001b[0m \u001b[1;33m\u001b[0m\u001b[0m\n\u001b[1;32m---> 41\u001b[1;33m             \u001b[1;32mreturn\u001b[0m \u001b[0mself\u001b[0m\u001b[1;33m.\u001b[0m\u001b[0m_getitem_tuple\u001b[0m\u001b[1;33m(\u001b[0m\u001b[0mkey\u001b[0m\u001b[1;33m)\u001b[0m\u001b[1;33m\u001b[0m\u001b[0m\n\u001b[0m\u001b[0;32m     42\u001b[0m         \u001b[1;32melse\u001b[0m\u001b[1;33m:\u001b[0m\u001b[1;33m\u001b[0m\u001b[0m\n\u001b[0;32m     43\u001b[0m             \u001b[1;32mreturn\u001b[0m \u001b[0mself\u001b[0m\u001b[1;33m.\u001b[0m\u001b[0m_getitem_axis\u001b[0m\u001b[1;33m(\u001b[0m\u001b[0mkey\u001b[0m\u001b[1;33m,\u001b[0m \u001b[0maxis\u001b[0m\u001b[1;33m=\u001b[0m\u001b[1;36m0\u001b[0m\u001b[1;33m)\u001b[0m\u001b[1;33m\u001b[0m\u001b[0m\n",
        "\u001b[1;32m/cellar/users/agross/semillon/epd/lib/python2.7/site-packages/pandas-0.9.0-py2.7-linux-x86_64.egg/pandas/core/indexing.pyc\u001b[0m in \u001b[0;36m_getitem_tuple\u001b[1;34m(self, tup)\u001b[0m\n\u001b[0;32m    208\u001b[0m         \u001b[1;31m# ugly hack for GH #836\u001b[0m\u001b[1;33m\u001b[0m\u001b[1;33m\u001b[0m\u001b[0m\n\u001b[0;32m    209\u001b[0m         \u001b[1;32mif\u001b[0m \u001b[0mself\u001b[0m\u001b[1;33m.\u001b[0m\u001b[0m_multi_take_opportunity\u001b[0m\u001b[1;33m(\u001b[0m\u001b[0mtup\u001b[0m\u001b[1;33m)\u001b[0m\u001b[1;33m:\u001b[0m\u001b[1;33m\u001b[0m\u001b[0m\n\u001b[1;32m--> 210\u001b[1;33m             \u001b[1;32mreturn\u001b[0m \u001b[0mself\u001b[0m\u001b[1;33m.\u001b[0m\u001b[0m_multi_take\u001b[0m\u001b[1;33m(\u001b[0m\u001b[0mtup\u001b[0m\u001b[1;33m)\u001b[0m\u001b[1;33m\u001b[0m\u001b[0m\n\u001b[0m\u001b[0;32m    211\u001b[0m \u001b[1;33m\u001b[0m\u001b[0m\n\u001b[0;32m    212\u001b[0m         \u001b[1;31m# no shortcut needed\u001b[0m\u001b[1;33m\u001b[0m\u001b[1;33m\u001b[0m\u001b[0m\n",
        "\u001b[1;32m/cellar/users/agross/semillon/epd/lib/python2.7/site-packages/pandas-0.9.0-py2.7-linux-x86_64.egg/pandas/core/indexing.pyc\u001b[0m in \u001b[0;36m_multi_take\u001b[1;34m(self, tup)\u001b[0m\n\u001b[0;32m    247\u001b[0m             \u001b[0mindex\u001b[0m \u001b[1;33m=\u001b[0m \u001b[0mself\u001b[0m\u001b[1;33m.\u001b[0m\u001b[0m_convert_for_reindex\u001b[0m\u001b[1;33m(\u001b[0m\u001b[0mtup\u001b[0m\u001b[1;33m[\u001b[0m\u001b[1;36m0\u001b[0m\u001b[1;33m]\u001b[0m\u001b[1;33m,\u001b[0m \u001b[0maxis\u001b[0m\u001b[1;33m=\u001b[0m\u001b[1;36m0\u001b[0m\u001b[1;33m)\u001b[0m\u001b[1;33m\u001b[0m\u001b[0m\n\u001b[0;32m    248\u001b[0m             \u001b[0mcolumns\u001b[0m \u001b[1;33m=\u001b[0m \u001b[0mself\u001b[0m\u001b[1;33m.\u001b[0m\u001b[0m_convert_for_reindex\u001b[0m\u001b[1;33m(\u001b[0m\u001b[0mtup\u001b[0m\u001b[1;33m[\u001b[0m\u001b[1;36m1\u001b[0m\u001b[1;33m]\u001b[0m\u001b[1;33m,\u001b[0m \u001b[0maxis\u001b[0m\u001b[1;33m=\u001b[0m\u001b[1;36m1\u001b[0m\u001b[1;33m)\u001b[0m\u001b[1;33m\u001b[0m\u001b[0m\n\u001b[1;32m--> 249\u001b[1;33m             \u001b[1;32mreturn\u001b[0m \u001b[0mself\u001b[0m\u001b[1;33m.\u001b[0m\u001b[0mobj\u001b[0m\u001b[1;33m.\u001b[0m\u001b[0mreindex\u001b[0m\u001b[1;33m(\u001b[0m\u001b[0mindex\u001b[0m\u001b[1;33m=\u001b[0m\u001b[0mindex\u001b[0m\u001b[1;33m,\u001b[0m \u001b[0mcolumns\u001b[0m\u001b[1;33m=\u001b[0m\u001b[0mcolumns\u001b[0m\u001b[1;33m)\u001b[0m\u001b[1;33m\u001b[0m\u001b[0m\n\u001b[0m\u001b[0;32m    250\u001b[0m         \u001b[1;32melif\u001b[0m \u001b[0misinstance\u001b[0m\u001b[1;33m(\u001b[0m\u001b[0mself\u001b[0m\u001b[1;33m.\u001b[0m\u001b[0mobj\u001b[0m\u001b[1;33m,\u001b[0m \u001b[0mPanel\u001b[0m\u001b[1;33m)\u001b[0m\u001b[1;33m:\u001b[0m\u001b[1;33m\u001b[0m\u001b[0m\n\u001b[0;32m    251\u001b[0m             conv = [self._convert_for_reindex(x, axis=i)\n",
        "\u001b[1;32m/cellar/users/agross/semillon/epd/lib/python2.7/site-packages/pandas-0.9.0-py2.7-linux-x86_64.egg/pandas/core/frame.pyc\u001b[0m in \u001b[0;36mreindex\u001b[1;34m(self, index, columns, method, level, fill_value, limit, copy)\u001b[0m\n\u001b[0;32m   2236\u001b[0m             \u001b[1;32mand\u001b[0m \u001b[0mmethod\u001b[0m \u001b[1;32mis\u001b[0m \u001b[0mNone\u001b[0m \u001b[1;32mand\u001b[0m \u001b[0mlevel\u001b[0m \u001b[1;32mis\u001b[0m \u001b[0mNone\u001b[0m\u001b[1;33m\u001b[0m\u001b[0m\n\u001b[0;32m   2237\u001b[0m             and not self._is_mixed_type):\n\u001b[1;32m-> 2238\u001b[1;33m             \u001b[1;32mreturn\u001b[0m \u001b[0mself\u001b[0m\u001b[1;33m.\u001b[0m\u001b[0m_reindex_multi\u001b[0m\u001b[1;33m(\u001b[0m\u001b[0mindex\u001b[0m\u001b[1;33m,\u001b[0m \u001b[0mcolumns\u001b[0m\u001b[1;33m,\u001b[0m \u001b[0mcopy\u001b[0m\u001b[1;33m,\u001b[0m \u001b[0mfill_value\u001b[0m\u001b[1;33m)\u001b[0m\u001b[1;33m\u001b[0m\u001b[0m\n\u001b[0m\u001b[0;32m   2239\u001b[0m \u001b[1;33m\u001b[0m\u001b[0m\n\u001b[0;32m   2240\u001b[0m         \u001b[1;32mif\u001b[0m \u001b[0mcolumns\u001b[0m \u001b[1;32mis\u001b[0m \u001b[1;32mnot\u001b[0m \u001b[0mNone\u001b[0m\u001b[1;33m:\u001b[0m\u001b[1;33m\u001b[0m\u001b[0m\n",
        "\u001b[1;32m/cellar/users/agross/semillon/epd/lib/python2.7/site-packages/pandas-0.9.0-py2.7-linux-x86_64.egg/pandas/core/frame.pyc\u001b[0m in \u001b[0;36m_reindex_multi\u001b[1;34m(self, new_index, new_columns, copy, fill_value)\u001b[0m\n\u001b[0;32m   2305\u001b[0m         \u001b[1;32mif\u001b[0m \u001b[0mrow_indexer\u001b[0m \u001b[1;32mis\u001b[0m \u001b[1;32mnot\u001b[0m \u001b[0mNone\u001b[0m \u001b[1;32mand\u001b[0m \u001b[0mcol_indexer\u001b[0m \u001b[1;32mis\u001b[0m \u001b[1;32mnot\u001b[0m \u001b[0mNone\u001b[0m\u001b[1;33m:\u001b[0m\u001b[1;33m\u001b[0m\u001b[0m\n\u001b[0;32m   2306\u001b[0m             new_values = com.take_2d_multi(self.values, row_indexer,\n\u001b[1;32m-> 2307\u001b[1;33m                                            col_indexer, fill_value=fill_value)\n\u001b[0m\u001b[0;32m   2308\u001b[0m             \u001b[1;32mreturn\u001b[0m \u001b[0mDataFrame\u001b[0m\u001b[1;33m(\u001b[0m\u001b[0mnew_values\u001b[0m\u001b[1;33m,\u001b[0m \u001b[0mindex\u001b[0m\u001b[1;33m=\u001b[0m\u001b[0mnew_index\u001b[0m\u001b[1;33m,\u001b[0m \u001b[0mcolumns\u001b[0m\u001b[1;33m=\u001b[0m\u001b[0mnew_columns\u001b[0m\u001b[1;33m)\u001b[0m\u001b[1;33m\u001b[0m\u001b[0m\n\u001b[0;32m   2309\u001b[0m         \u001b[1;32melif\u001b[0m \u001b[0mrow_indexer\u001b[0m \u001b[1;32mis\u001b[0m \u001b[1;32mnot\u001b[0m \u001b[0mNone\u001b[0m\u001b[1;33m:\u001b[0m\u001b[1;33m\u001b[0m\u001b[0m\n",
        "\u001b[1;32m/cellar/users/agross/semillon/epd/lib/python2.7/site-packages/pandas-0.9.0-py2.7-linux-x86_64.egg/pandas/core/common.pyc\u001b[0m in \u001b[0;36mtake_2d_multi\u001b[1;34m(arr, row_idx, col_idx, fill_value, out)\u001b[0m\n\u001b[0;32m    272\u001b[0m         \u001b[1;32mif\u001b[0m \u001b[0mneeds_masking\u001b[0m\u001b[1;33m:\u001b[0m\u001b[1;33m\u001b[0m\u001b[0m\n\u001b[0;32m    273\u001b[0m             return take_2d_multi(_maybe_upcast(arr), row_idx, col_idx,\n\u001b[1;32m--> 274\u001b[1;33m                                  fill_value=fill_value, out=out)\n\u001b[0m\u001b[0;32m    275\u001b[0m         \u001b[1;32melse\u001b[0m\u001b[1;33m:\u001b[0m\u001b[1;33m\u001b[0m\u001b[0m\n\u001b[0;32m    276\u001b[0m             \u001b[1;32mif\u001b[0m \u001b[0mout\u001b[0m \u001b[1;32mis\u001b[0m \u001b[0mNone\u001b[0m\u001b[1;33m:\u001b[0m\u001b[1;33m\u001b[0m\u001b[0m\n",
        "\u001b[1;31mKeyboardInterrupt\u001b[0m: "
       ]
      }
     ],
     "prompt_number": 59
    },
    {
     "cell_type": "code",
     "collapsed": false,
     "input": [
      "cancer.p_pathways"
     ],
     "language": "python",
     "metadata": {},
     "outputs": [
      {
       "output_type": "pyout",
       "prompt_number": 18,
       "text": [
        "<class 'pandas.core.frame.DataFrame'>\n",
        "Index: 826 entries, BIOCARTA_41BB_PATHWAY to WNT_SIGNALING\n",
        "Data columns:\n",
        "tumor_t1t2             784  non-null values\n",
        "lymphnode_n0n1         737  non-null values\n",
        "event_free_survival    761  non-null values\n",
        "triple_neg             693  non-null values\n",
        "gender                 813  non-null values\n",
        "age                    785  non-null values\n",
        "PR_pos                 675  non-null values\n",
        "ER_pos                 698  non-null values\n",
        "triple_pos             818  non-null values\n",
        "rate                   698  non-null values\n",
        "post_menopause         748  non-null values\n",
        "AMAR                   0  non-null values\n",
        "survival               745  non-null values\n",
        "her2_pos               706  non-null values\n",
        "dtypes: float64(14)"
       ]
      }
     ],
     "prompt_number": 18
    },
    {
     "cell_type": "code",
     "collapsed": false,
     "input": [
      "cancer.p_pathways.AMAR.dropna()"
     ],
     "language": "python",
     "metadata": {},
     "outputs": [
      {
       "output_type": "pyout",
       "prompt_number": 16,
       "text": [
        "Series([], dtype=float64)"
       ]
      }
     ],
     "prompt_number": 16
    },
    {
     "cell_type": "code",
     "collapsed": false,
     "input": [
      "from Processing.Clinical import *"
     ],
     "language": "python",
     "metadata": {},
     "outputs": [],
     "prompt_number": 16
    },
    {
     "cell_type": "code",
     "collapsed": false,
     "input": [
      "tests = get_tests(cancer.clinical, {}, ['AMAR'],[])"
     ],
     "language": "python",
     "metadata": {},
     "outputs": [],
     "prompt_number": 17
    },
    {
     "cell_type": "code",
     "collapsed": false,
     "input": [
      "amar = tests['AMAR']"
     ],
     "language": "python",
     "metadata": {},
     "outputs": [],
     "prompt_number": 19
    },
    {
     "cell_type": "code",
     "collapsed": false,
     "input": [
      "amar(cancer.hit_matrix.ix['TP53'] > 0)"
     ],
     "language": "python",
     "metadata": {},
     "outputs": [
      {
       "output_type": "pyout",
       "prompt_number": 21,
       "text": [
        "2.4178254563367494e-06"
       ]
      }
     ],
     "prompt_number": 21
    },
    {
     "cell_type": "code",
     "collapsed": false,
     "input": [
      "cancer.q_genes.ix['TP53']"
     ],
     "language": "python",
     "metadata": {},
     "outputs": [
      {
       "output_type": "pyout",
       "prompt_number": 23,
       "text": [
        "tumor_t1t2             1.000000e+00\n",
        "lymphnode_n0n1         9.229548e-01\n",
        "event_free_survival    1.000000e+00\n",
        "triple_neg             2.682362e-12\n",
        "gender                 9.889328e-01\n",
        "age                    1.000000e+00\n",
        "PR_pos                 1.356243e-15\n",
        "ER_pos                 2.764078e-23\n",
        "triple_pos             1.000000e+00\n",
        "rate                   1.961024e-06\n",
        "post_menopause         1.000000e+00\n",
        "AMAR                            NaN\n",
        "survival               1.000000e+00\n",
        "her2_pos               4.802363e-01\n",
        "Name: TP53"
       ]
      }
     ],
     "prompt_number": 23
    },
    {
     "cell_type": "code",
     "collapsed": false,
     "input": [
      "res = run_tests(tests, cancer.hit_matrix.ix[cancer.good_genes])"
     ],
     "language": "python",
     "metadata": {},
     "outputs": [],
     "prompt_number": 24
    },
    {
     "cell_type": "code",
     "collapsed": false,
     "input": [
      "res"
     ],
     "language": "python",
     "metadata": {},
     "outputs": [
      {
       "output_type": "pyout",
       "prompt_number": 25,
       "text": [
        "(               AMAR\n",
        "ABCA13     0.090675\n",
        "AFF2       0.439014\n",
        "AHNAK2     0.084360\n",
        "AKAP9      0.276469\n",
        "AKT1       0.555814\n",
        "ANK3       0.753686\n",
        "APOB       0.766528\n",
        "ARID1A     0.062015\n",
        "ARID1B     0.115354\n",
        "ASXL3      0.306583\n",
        "ATM        0.105568\n",
        "ATP10B     0.428568\n",
        "ATP1A4     0.622996\n",
        "ATRX       0.534490\n",
        "BAHCC1     0.180071\n",
        "BRCA2      0.010546\n",
        "CACNA1E    0.404322\n",
        "CBLB       0.598538\n",
        "CDH1       0.337129\n",
        "CENPE      0.426437\n",
        "CIT        0.192553\n",
        "CNTLN      0.411199\n",
        "COL12A1    0.142138\n",
        "CSMD1      0.023322\n",
        "CSMD2      0.927047\n",
        "CSMD3      0.538104\n",
        "CTCF       0.597621\n",
        "DMD        0.378590\n",
        "DNAH11     0.216792\n",
        "DNAH17     0.324220\n",
        "DNAH2      0.708920\n",
        "DNAH3      0.313841\n",
        "DNAH6      0.899572\n",
        "DNAH7      0.321921\n",
        "DNAH9      0.080105\n",
        "DOCK11     0.581195\n",
        "DST        0.270590\n",
        "ERBB3      0.348731\n",
        "EYS        0.828977\n",
        "F5         0.400957\n",
        "FAM47C     0.524381\n",
        "FAT3       0.450650\n",
        "FER1L5     0.565820\n",
        "FLG        0.473440\n",
        "FLNC       0.481030\n",
        "GATA3      0.012567\n",
        "GPR98      0.947926\n",
        "GRIN2A     0.442947\n",
        "HECW1      0.216616\n",
        "HMCN1      0.805489\n",
        "HRNR       0.194584\n",
        "HSPG2      0.080616\n",
        "HUWE1      0.807920\n",
        "HYDIN      0.306258\n",
        "KCNT2      0.740276\n",
        "KIAA1109   0.481301\n",
        "KIAA1210   0.331148\n",
        "KIAA2022   0.556395\n",
        "LAMA2      0.428891\n",
        "LOC643677  0.688635\n",
        "LRBA       0.974841\n",
        "LRP1       0.987465\n",
        "LRP2       0.466362\n",
        "MACF1      0.166998\n",
        "MAP1A      0.854671\n",
        "MAP2K4     0.034587\n",
        "MAP3K1     0.560502\n",
        "MDN1       0.785764\n",
        "MLL3       0.721719\n",
        "MLLT4      0.521244\n",
        "MUC16      0.537793\n",
        "MUC17      0.012727\n",
        "MUC2       0.968319\n",
        "MUC4       0.980761\n",
        "MUC5B      0.163230\n",
        "MYH7       0.324700\n",
        "MYT1L      0.166335\n",
        "NCOR1      0.190975\n",
        "NEB        0.514899\n",
        "NF1        0.369560\n",
        "OBSCN      0.411069\n",
        "ODZ1       0.677688\n",
        "ODZ4       0.960664\n",
        "PCDH19     0.158623\n",
        "PCNXL2     0.503037\n",
        "PIK3CA     0.533336\n",
        "PIK3R1     0.750184\n",
        "PKHD1      0.761395\n",
        "PKHD1L1    0.562176\n",
        "PREX2      0.262852\n",
        "PTEN       0.874769\n",
        "PTPRD      0.239142\n",
        "RB1        0.646717\n",
        "RELN       0.955241\n",
        "RPGR       0.173185\n",
        "RUNX1      0.340286\n",
        "RYR1       0.360794\n",
        "RYR2       0.646498\n",
        "RYR3       0.123942\n",
        "SF3B1      0.973713\n",
        "SPEG       0.957524\n",
        "SPEN       0.308079\n",
        "SPTA1      0.224428\n",
        "SRCAP      0.515276\n",
        "SSPO       0.192810\n",
        "SVEP1      0.639236\n",
        "SYNE1      0.691519\n",
        "SYNE2      0.618959\n",
        "TBX3       0.391362\n",
        "TEP1       0.401362\n",
        "TEX15      0.534395\n",
        "TG         0.429327\n",
        "TLN1       0.990161\n",
        "TP53       0.000012\n",
        "TTN        0.503459\n",
        "UBR4       0.487815\n",
        "UNC5D      0.005458\n",
        "USH2A      0.308912\n",
        "UTRN       0.443862\n",
        "VCAN       0.934485\n",
        "WDFY3      0.252361\n",
        "XIRP2      0.790892\n",
        "ZFHX3      0.076276\n",
        "ZFHX4      0.700160\n",
        "ZFPM2      0.277221,\n",
        "                AMAR\n",
        "ABCA13     0.822412\n",
        "AFF2       0.822412\n",
        "AHNAK2     0.822412\n",
        "AKAP9      0.822412\n",
        "AKT1       0.822412\n",
        "ANK3       0.912534\n",
        "APOB       0.912534\n",
        "ARID1A     0.822412\n",
        "ARID1B     0.822412\n",
        "ASXL3      0.822412\n",
        "ATM        0.822412\n",
        "ATP10B     0.822412\n",
        "ATP1A4     0.855764\n",
        "ATRX       0.822412\n",
        "BAHCC1     0.822412\n",
        "BRCA2      0.318178\n",
        "CACNA1E    0.822412\n",
        "CBLB       0.840643\n",
        "CDH1       0.822412\n",
        "CENPE      0.822412\n",
        "CIT        0.822412\n",
        "CNTLN      0.822412\n",
        "COL12A1    0.822412\n",
        "CSMD1      0.485872\n",
        "CSMD2      0.990161\n",
        "CSMD3      0.822412\n",
        "CTCF       0.840643\n",
        "DMD        0.822412\n",
        "DNAH11     0.822412\n",
        "DNAH17     0.822412\n",
        "DNAH2      0.895101\n",
        "DNAH3      0.822412\n",
        "DNAH6      0.990161\n",
        "DNAH7      0.822412\n",
        "DNAH9      0.822412\n",
        "DOCK11     0.835050\n",
        "DST        0.822412\n",
        "ERBB3      0.822412\n",
        "EYS        0.942020\n",
        "F5         0.822412\n",
        "FAM47C     0.822412\n",
        "FAT3       0.822412\n",
        "FER1L5     0.822412\n",
        "FLG        0.822412\n",
        "FLNC       0.822412\n",
        "GATA3      0.318178\n",
        "GPR98      0.990161\n",
        "GRIN2A     0.822412\n",
        "HECW1      0.822412\n",
        "HMCN1      0.926514\n",
        "HRNR       0.822412\n",
        "HSPG2      0.822412\n",
        "HUWE1      0.926514\n",
        "HYDIN      0.822412\n",
        "KCNT2      0.912534\n",
        "KIAA1109   0.822412\n",
        "KIAA1210   0.822412\n",
        "KIAA2022   0.822412\n",
        "LAMA2      0.822412\n",
        "LOC643677  0.891133\n",
        "LRBA       0.990161\n",
        "LRP1       0.990161\n",
        "LRP2       0.822412\n",
        "MACF1      0.822412\n",
        "MAP1A      0.962468\n",
        "MAP2K4     0.617630\n",
        "MAP3K1     0.822412\n",
        "MDN1       0.923939\n",
        "MLL3       0.902148\n",
        "MLLT4      0.822412\n",
        "MUC16      0.822412\n",
        "MUC17      0.318178\n",
        "MUC2       0.990161\n",
        "MUC4       0.990161\n",
        "MUC5B      0.822412\n",
        "MYH7       0.822412\n",
        "MYT1L      0.822412\n",
        "NCOR1      0.822412\n",
        "NEB        0.822412\n",
        "NF1        0.822412\n",
        "OBSCN      0.822412\n",
        "ODZ1       0.891133\n",
        "ODZ4       0.990161\n",
        "PCDH19     0.822412\n",
        "PCNXL2     0.822412\n",
        "PIK3CA     0.822412\n",
        "PIK3R1     0.912534\n",
        "PKHD1      0.912534\n",
        "PKHD1L1    0.822412\n",
        "PREX2      0.822412\n",
        "PTEN       0.976304\n",
        "PTPRD      0.822412\n",
        "RB1        0.859997\n",
        "RELN       0.990161\n",
        "RPGR       0.822412\n",
        "RUNX1      0.822412\n",
        "RYR1       0.822412\n",
        "RYR2       0.859997\n",
        "RYR3       0.822412\n",
        "SF3B1      0.990161\n",
        "SPEG       0.990161\n",
        "SPEN       0.822412\n",
        "SPTA1      0.822412\n",
        "SRCAP      0.822412\n",
        "SSPO       0.822412\n",
        "SVEP1      0.859997\n",
        "SYNE1      0.891133\n",
        "SYNE2      0.855764\n",
        "TBX3       0.822412\n",
        "TEP1       0.822412\n",
        "TEX15      0.822412\n",
        "TG         0.822412\n",
        "TLN1       0.990161\n",
        "TP53       0.001461\n",
        "TTN        0.822412\n",
        "UBR4       0.822412\n",
        "UNC5D      0.318178\n",
        "USH2A      0.822412\n",
        "UTRN       0.822412\n",
        "VCAN       0.990161\n",
        "WDFY3      0.822412\n",
        "XIRP2      0.923939\n",
        "ZFHX3      0.822412\n",
        "ZFHX4      0.893061\n",
        "ZFPM2      0.822412)"
       ]
      }
     ],
     "prompt_number": 25
    },
    {
     "cell_type": "code",
     "collapsed": false,
     "input": [],
     "language": "python",
     "metadata": {},
     "outputs": []
    }
   ],
   "metadata": {}
  }
 ]
}