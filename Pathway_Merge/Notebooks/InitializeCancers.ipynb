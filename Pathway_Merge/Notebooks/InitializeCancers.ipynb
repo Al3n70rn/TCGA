{
 "metadata": {
  "name": "InitializeCancers"
 },
 "nbformat": 3,
 "nbformat_minor": 0,
 "worksheets": [
  {
   "cells": [
    {
     "cell_type": "code",
     "collapsed": false,
     "input": [
      "cd ../src"
     ],
     "language": "python",
     "metadata": {},
     "outputs": [
      {
       "output_type": "stream",
       "stream": "stdout",
       "text": [
        "/cellar/users/agross/TCGA_Code/TCGA/Pathway_Merge/src\n"
       ]
      }
     ],
     "prompt_number": 7
    },
    {
     "cell_type": "code",
     "collapsed": false,
     "input": [
      "import os as os\n",
      "import pickle as pickle\n",
      "\n",
      "from Data.Containers import Run, Cancer, Clinical, Dataset\n",
      "from Processing.GlobalFeatures import get_global_vars\n",
      "from pandas import Series, DataFrame"
     ],
     "language": "python",
     "metadata": {},
     "outputs": [],
     "prompt_number": 8
    },
    {
     "cell_type": "code",
     "collapsed": false,
     "input": [
      "result_path = '/scratch/TCGA/Firehose__2012_12_21/ucsd_analyses'\n",
      "run = sorted(os.listdir(result_path))[1]\n",
      "run = pickle.load(open('/'.join([result_path, run, 'RunObject.p']), 'rb'))"
     ],
     "language": "python",
     "metadata": {},
     "outputs": [],
     "prompt_number": 10
    },
    {
     "cell_type": "code",
     "collapsed": false,
     "input": [
      "def make_path_dump(obj, file_path):\n",
      "    dir_path = '/'.join(file_path.split('/')[:-1])\n",
      "    if not os.path.isdir(dir_path):\n",
      "        os.makedirs(dir_path)\n",
      "    pickle.dump(obj, open(file_path, 'wb'))"
     ],
     "language": "python",
     "metadata": {},
     "outputs": [],
     "prompt_number": 4
    },
    {
     "cell_type": "code",
     "collapsed": false,
     "input": [
      "def initialize_cancer(name, run):\n",
      "    cancer = Cancer(name, run)\n",
      "    cancer.path = '/'.join([run.report_path, cancer.name])\n",
      "    make_path_dump(cancer, cancer.path + '/CancerObject.p')\n",
      "    \n",
      "    clinical = Clinical(cancer, run)\n",
      "    clinical.artificially_censor(5)\n",
      "    make_path_dump(clinical, cancer.path + '/Clinical/ClinicalObject.p')\n",
      "    if type(clinical.drugs) != type(None):\n",
      "        clinical.drugs.to_csv(cancer.path + '/Clinical/drugs.csv')\n",
      "    if type(clinical.survival) != type(None):\n",
      "        clinical.survival.to_csv(cancer.path + '/Clinical/survival.csv')\n",
      "    clinical.timeline.to_csv(cancer.path + '/Clinical/timeline.csv')\n",
      "    clinical.clinical.to_csv(cancer.path + '/Clinical/clinical.csv')\n",
      "    \n",
      "    global_vars = get_global_vars(cancer.name, run.data_path)\n",
      "    global_vars = global_vars.groupby(level=0).first()\n",
      "    global_vars.to_csv(cancer.path + '/Global_Vars.csv')"
     ],
     "language": "python",
     "metadata": {},
     "outputs": [],
     "prompt_number": 5
    },
    {
     "cell_type": "code",
     "collapsed": false,
     "input": [
      "for cancer in run.cancers:\n",
      "    try:\n",
      "        initialize_cancer(cancer, run)\n",
      "    except:\n",
      "        print cancer"
     ],
     "language": "python",
     "metadata": {},
     "outputs": [
      {
       "output_type": "stream",
       "stream": "stderr",
       "text": [
        "/cellar/users/agross/saperavi/epd/lib/python2.7/site-packages/pandas-0.10.1-py2.7-linux-x86_64.egg/pandas/core/series.py:2479: FutureWarning: Series.fillna with inplace=True  will return None from pandas 0.11 onward\n",
        "  \" from pandas 0.11 onward\", FutureWarning)\n",
        "/cellar/users/agross/saperavi/epd/lib/python2.7/site-packages/pandas-0.10.1-py2.7-linux-x86_64.egg/pandas/core/frame.py:3369: FutureWarning: fillna with inplace=True  will return None from pandas 0.11 onward\n",
        "  \" from pandas 0.11 onward\", FutureWarning)\n"
       ]
      },
      {
       "output_type": "stream",
       "stream": "stdout",
       "text": [
        "BRCA\n",
        "DLBC"
       ]
      },
      {
       "output_type": "stream",
       "stream": "stdout",
       "text": [
        "\n",
        "ESCA\n",
        "KICH"
       ]
      },
      {
       "output_type": "stream",
       "stream": "stdout",
       "text": [
        "\n",
        "LIHC"
       ]
      },
      {
       "output_type": "stream",
       "stream": "stdout",
       "text": [
        "\n",
        "PAAD"
       ]
      },
      {
       "output_type": "stream",
       "stream": "stdout",
       "text": [
        "\n",
        "SARC"
       ]
      },
      {
       "output_type": "stream",
       "stream": "stdout",
       "text": [
        "\n"
       ]
      }
     ],
     "prompt_number": 6
    },
    {
     "cell_type": "code",
     "collapsed": false,
     "input": [],
     "language": "python",
     "metadata": {},
     "outputs": []
    }
   ],
   "metadata": {}
  }
 ]
}