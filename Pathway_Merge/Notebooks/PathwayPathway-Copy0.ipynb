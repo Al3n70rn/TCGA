{
 "metadata": {
  "name": "PathwayPathway-Copy0"
 },
 "nbformat": 3,
 "nbformat_minor": 0,
 "worksheets": [
  {
   "cells": [
    {
     "cell_type": "code",
     "collapsed": false,
     "input": [
      "cd ../src/"
     ],
     "language": "python",
     "metadata": {},
     "outputs": [
      {
       "output_type": "stream",
       "stream": "stdout",
       "text": [
        "/cellar/users/agross/TCGA_Code/TCGA/Pathway_Merge/src\n"
       ]
      }
     ],
     "prompt_number": 1
    },
    {
     "cell_type": "code",
     "collapsed": false,
     "input": [
      "import os as os\n",
      "import pickle as pickle\n",
      "import pandas as pandas\n",
      "from Data.Pathways import read_in_pathways\n",
      "from Processing.Clinical import ClinicalObject\n",
      "\n",
      "pandas.set_printoptions(max_columns=300)"
     ],
     "language": "python",
     "metadata": {},
     "outputs": [],
     "prompt_number": 2
    },
    {
     "cell_type": "code",
     "collapsed": false,
     "input": [
      "firehose_path = '/cellar/users/agross/Data/TCGA/'\n",
      "date = '20120825'\n",
      "date_ = '_'.join([date[:4], date[4:6], date[6:8]])\n",
      "pathway_file = '/cellar/users/agross/Data/GeneSets/c2.cp.v3.0.symbols_edit.csv'\n",
      "gene_sets, gene_lookup = read_in_pathways(pathway_file)"
     ],
     "language": "python",
     "metadata": {},
     "outputs": [],
     "prompt_number": 3
    },
    {
     "cell_type": "code",
     "collapsed": false,
     "input": [
      "import Reports.Reports as RE\n",
      "reload(RE)\n",
      "from Reports.Reports import *\n",
      "from Processing.Clinical import anova"
     ],
     "language": "python",
     "metadata": {},
     "outputs": [],
     "prompt_number": 279
    },
    {
     "cell_type": "code",
     "collapsed": false,
     "input": [
      "report_ext = {'mutation': 'cov_age_rate', 'amplification': 'cov_age_rate',\n",
      "              'deletion': 'cov_age_rate', 'expression': 'cov_age',\n",
      "              'methylation': 'cov_age'}"
     ],
     "language": "python",
     "metadata": {},
     "outputs": [],
     "prompt_number": 296
    },
    {
     "cell_type": "code",
     "collapsed": false,
     "input": [
      "def get_clinical_objects(cancer, data_types):\n",
      "    clinical = {}\n",
      "    for data_type in data_types:\n",
      "        data_path = firehose_path + 'analyses__' + date_ + '/' + cancer + '/' + date + '/'\n",
      "        clinical_obj = data_path + data_type + '_' + report_ext[data_type] + '/ClinicalObject.p'\n",
      "        if os.path.isfile(clinical_obj):\n",
      "            clinical[data_type] = pickle.load(open(clinical_obj, 'rb'))\n",
      "    return clinical"
     ],
     "language": "python",
     "metadata": {},
     "outputs": [],
     "prompt_number": 298
    },
    {
     "cell_type": "code",
     "collapsed": false,
     "input": [
      "cancers = os.listdir(firehose_path + 'analyses__' + date_)"
     ],
     "language": "python",
     "metadata": {},
     "outputs": [],
     "prompt_number": 299
    },
    {
     "cell_type": "code",
     "collapsed": false,
     "input": [
      "def generate_report(mut, exp, prev_cancer, next_cancer):\n",
      "    exp_path = np.sort(exp.p_pathways.survival).index[0]\n",
      "    exp_vec = exp.pc.ix[exp_path]\n",
      "    mut_df = mut.meta_matrix\n",
      "    \n",
      "    p_vals =  pandas.Series(dict((m, anova(mut_vec, exp_vec)) for m, mut_vec in mut_df.iterrows()))\n",
      "    q_vals = bhCorrection(np.sort(p_vals))\n",
      "    \n",
      "    path = exp.data_path + 'test'\n",
      "    if not os.path.isdir(path + '/' + FIG_EXT):\n",
      "            os.makedirs(path + '/' + FIG_EXT)\n",
      "    report = nz.newReport('Report for ' + exp.cancer + ': ' + exp_vec.name.replace('_',' '))\n",
      "    folder = exp.report_folder\n",
      "    exp.report_folder = path\n",
      "    report = generic_header(report, exp, prev_cancer, next_cancer)\n",
      "    exp.report_folder = folder\n",
      "    \n",
      "    histo_file = exp.report_folder + '/clinical_figures/' + exp_vec.name + '.svg'\n",
      "    histo_fig1 = nz.newFigure(histo_file, 'Eigen-patient for pathway.')\n",
      "    curves_file = exp.report_folder + '/clinical_figures/' + exp_vec.name + '_survival.png'\n",
      "    curves_fig2 = nz.newFigure(curves_file, 'Cox regression for pathway. (Hi and Low are +- 1 std).')\n",
      "    report = nz.addToSummary(report, histo_fig1, curves_fig2)\n",
      "    \n",
      "    table_rows = dict(pathway=p_vals.index, p_val=p_vals, q_val=q_vals, age_p=mut.p_pathways.age)\n",
      "    if 'survival' in mut.p_pathways:\n",
      "        table_rows['survival_p'] = survival_p=mut.p_pathways.survival\n",
      "    table = pandas.DataFrame(table_rows).sort('p_val')\n",
      "    table = format_interaction_table(path, table, mut, exp_vec)\n",
      "    report = nz.addToResults(report, table)\n",
      "    nz.writeReport(report, filename=path + '/index')"
     ],
     "language": "python",
     "metadata": {},
     "outputs": [],
     "prompt_number": 300
    },
    {
     "cell_type": "code",
     "collapsed": false,
     "input": [
      "data_types = ['expression', 'mutation']"
     ],
     "language": "python",
     "metadata": {},
     "outputs": [],
     "prompt_number": 308
    },
    {
     "cell_type": "code",
     "collapsed": true,
     "input": [
      "good = []\n",
      "for cancer in cancers:\n",
      "    try:\n",
      "        clinical = get_clinical_objects(cancer, data_types)\n",
      "        exp = clinical['expression']\n",
      "        mut = clinical['mutation']\n",
      "        mut.filter_bad_pathways(gene_lookup)\n",
      "        generate_report(mut, exp, cancer, cancer)\n",
      "        good.append(cancer)\n",
      "    except:\n",
      "        print cancer + ' is no good.'"
     ],
     "language": "python",
     "metadata": {},
     "outputs": [
      {
       "output_type": "stream",
       "stream": "stdout",
       "text": [
        "BLCA is no good.\n",
        "PRAD is no good."
       ]
      },
      {
       "output_type": "stream",
       "stream": "stdout",
       "text": [
        "\n",
        "PANCANCER is no good."
       ]
      },
      {
       "output_type": "stream",
       "stream": "stdout",
       "text": [
        "\n",
        "GBM is no good."
       ]
      },
      {
       "output_type": "stream",
       "stream": "stdout",
       "text": [
        "\n",
        "SKCM is no good."
       ]
      },
      {
       "output_type": "stream",
       "stream": "stdout",
       "text": [
        "\n",
        "robots.txt is no good.\n",
        "LIHC is no good."
       ]
      },
      {
       "output_type": "stream",
       "stream": "stdout",
       "text": [
        "\n",
        "HNSC is no good."
       ]
      },
      {
       "output_type": "stream",
       "stream": "stdout",
       "text": [
        "\n",
        "KIRP is no good."
       ]
      },
      {
       "output_type": "stream",
       "stream": "stdout",
       "text": [
        "\n",
        "STAD is no good."
       ]
      },
      {
       "output_type": "stream",
       "stream": "stdout",
       "text": [
        "\n",
        "CESC is no good."
       ]
      },
      {
       "output_type": "stream",
       "stream": "stdout",
       "text": [
        "\n",
        "PAAD is no good.\n",
        "COADREAD is no good."
       ]
      },
      {
       "output_type": "stream",
       "stream": "stdout",
       "text": [
        "\n",
        "DLBC is no good.\n",
        "LGG is no good."
       ]
      },
      {
       "output_type": "stream",
       "stream": "stdout",
       "text": [
        "\n",
        "THCA is no good."
       ]
      },
      {
       "output_type": "stream",
       "stream": "stdout",
       "text": [
        "\n"
       ]
      }
     ],
     "prompt_number": 309
    },
    {
     "cell_type": "code",
     "collapsed": false,
     "input": [
      "for i,cancer in enumerate(good):\n",
      "    try:\n",
      "        clinical = get_clinical_objects(cancer, data_types)\n",
      "        exp = clinical['expression']\n",
      "        mut = clinical['mutation']\n",
      "        #mut.filter_bad_pathways(gene_lookup)\n",
      "        generate_report(mut, exp, good[(i-1) % len(good)], good[(i+1) % len(good)])\n",
      "    except:\n",
      "        print cancer + ' is no good.'"
     ],
     "language": "python",
     "metadata": {},
     "outputs": [],
     "prompt_number": 311
    },
    {
     "cell_type": "code",
     "collapsed": false,
     "input": [
      "clinical = get_clinical_objects('LAML', data_types)\n",
      "exp = clinical['expression']\n",
      "mut = clinical['mutation']"
     ],
     "language": "python",
     "metadata": {},
     "outputs": [],
     "prompt_number": 312
    },
    {
     "cell_type": "code",
     "collapsed": false,
     "input": [
      "mut.p_pathways.ix['BIOCARTA_ATRBRCA_PATHWAY']"
     ],
     "language": "python",
     "metadata": {},
     "outputs": [
      {
       "output_type": "pyout",
       "prompt_number": 315,
       "text": [
        "gender      0.147885\n",
        "survival         NaN\n",
        "age              NaN\n",
        "Name: BIOCARTA_ATRBRCA_PATHWAY"
       ]
      }
     ],
     "prompt_number": 315
    },
    {
     "cell_type": "code",
     "collapsed": false,
     "input": [
      "from Processing.Clinical import get_cox_ph"
     ],
     "language": "python",
     "metadata": {},
     "outputs": [],
     "prompt_number": 322
    },
    {
     "cell_type": "code",
     "collapsed": false,
     "input": [],
     "language": "python",
     "metadata": {},
     "outputs": []
    },
    {
     "cell_type": "code",
     "collapsed": false,
     "input": [
      "p = mut.meta_matrix.ix['BIOCARTA_ATRBRCA_PATHWAY']\n",
      "mut.clinical.ix[p[p==1].index]"
     ],
     "language": "python",
     "metadata": {},
     "outputs": [
      {
       "html": [
        "<div style=\"max-height:1000px;max-width:1500px;overflow:auto;\">\n",
        "<table border=\"1\" class=\"dataframe\">\n",
        "  <thead>\n",
        "    <tr style=\"text-align: right;\">\n",
        "      <th></th>\n",
        "      <th>age</th>\n",
        "      <th>censored</th>\n",
        "      <th>days</th>\n",
        "      <th>gender</th>\n",
        "      <th>radiation</th>\n",
        "      <th>therapy</th>\n",
        "      <th>rate</th>\n",
        "    </tr>\n",
        "  </thead>\n",
        "  <tbody>\n",
        "    <tr>\n",
        "      <td><strong>TCGA-AB-2813</strong></td>\n",
        "      <td> 78</td>\n",
        "      <td> 1</td>\n",
        "      <td>  31</td>\n",
        "      <td>  True</td>\n",
        "      <td>NaN</td>\n",
        "      <td>NaN</td>\n",
        "      <td> 2.833213</td>\n",
        "    </tr>\n",
        "    <tr>\n",
        "      <td><strong>TCGA-AB-2829</strong></td>\n",
        "      <td> 50</td>\n",
        "      <td> 1</td>\n",
        "      <td> 273</td>\n",
        "      <td>  True</td>\n",
        "      <td>NaN</td>\n",
        "      <td>NaN</td>\n",
        "      <td> 2.397895</td>\n",
        "    </tr>\n",
        "    <tr>\n",
        "      <td><strong>TCGA-AB-2868</strong></td>\n",
        "      <td> 77</td>\n",
        "      <td> 1</td>\n",
        "      <td> 151</td>\n",
        "      <td>  True</td>\n",
        "      <td>NaN</td>\n",
        "      <td>NaN</td>\n",
        "      <td> 2.995732</td>\n",
        "    </tr>\n",
        "    <tr>\n",
        "      <td><strong>TCGA-AB-2878</strong></td>\n",
        "      <td> 47</td>\n",
        "      <td> 1</td>\n",
        "      <td> 365</td>\n",
        "      <td> False</td>\n",
        "      <td>NaN</td>\n",
        "      <td>NaN</td>\n",
        "      <td> 3.433987</td>\n",
        "    </tr>\n",
        "    <tr>\n",
        "      <td><strong>TCGA-AB-2885</strong></td>\n",
        "      <td> 71</td>\n",
        "      <td> 1</td>\n",
        "      <td> 214</td>\n",
        "      <td>  True</td>\n",
        "      <td>NaN</td>\n",
        "      <td>NaN</td>\n",
        "      <td> 3.178054</td>\n",
        "    </tr>\n",
        "    <tr>\n",
        "      <td><strong>TCGA-AB-2891</strong></td>\n",
        "      <td> 42</td>\n",
        "      <td> 1</td>\n",
        "      <td> NaN</td>\n",
        "      <td>  True</td>\n",
        "      <td>NaN</td>\n",
        "      <td>NaN</td>\n",
        "      <td> 2.944439</td>\n",
        "    </tr>\n",
        "    <tr>\n",
        "      <td><strong>TCGA-AB-2904</strong></td>\n",
        "      <td> 65</td>\n",
        "      <td> 1</td>\n",
        "      <td> 516</td>\n",
        "      <td>  True</td>\n",
        "      <td>NaN</td>\n",
        "      <td>NaN</td>\n",
        "      <td> 2.890372</td>\n",
        "    </tr>\n",
        "    <tr>\n",
        "      <td><strong>TCGA-AB-2908</strong></td>\n",
        "      <td> 81</td>\n",
        "      <td> 1</td>\n",
        "      <td>  31</td>\n",
        "      <td>  True</td>\n",
        "      <td>NaN</td>\n",
        "      <td>NaN</td>\n",
        "      <td> 2.890372</td>\n",
        "    </tr>\n",
        "    <tr>\n",
        "      <td><strong>TCGA-AB-2935</strong></td>\n",
        "      <td> 66</td>\n",
        "      <td> 1</td>\n",
        "      <td>  60</td>\n",
        "      <td>  True</td>\n",
        "      <td>NaN</td>\n",
        "      <td>NaN</td>\n",
        "      <td> 2.995732</td>\n",
        "    </tr>\n",
        "    <tr>\n",
        "      <td><strong>TCGA-AB-2938</strong></td>\n",
        "      <td> 76</td>\n",
        "      <td> 1</td>\n",
        "      <td> 303</td>\n",
        "      <td>  True</td>\n",
        "      <td>NaN</td>\n",
        "      <td>NaN</td>\n",
        "      <td> 3.135494</td>\n",
        "    </tr>\n",
        "    <tr>\n",
        "      <td><strong>TCGA-AB-2943</strong></td>\n",
        "      <td> 70</td>\n",
        "      <td> 1</td>\n",
        "      <td> NaN</td>\n",
        "      <td> False</td>\n",
        "      <td>NaN</td>\n",
        "      <td>NaN</td>\n",
        "      <td> 2.772589</td>\n",
        "    </tr>\n",
        "    <tr>\n",
        "      <td><strong>TCGA-AB-2952</strong></td>\n",
        "      <td> 60</td>\n",
        "      <td> 1</td>\n",
        "      <td>  31</td>\n",
        "      <td> False</td>\n",
        "      <td>NaN</td>\n",
        "      <td>NaN</td>\n",
        "      <td> 2.708050</td>\n",
        "    </tr>\n",
        "    <tr>\n",
        "      <td><strong>TCGA-AB-2956</strong></td>\n",
        "      <td> 61</td>\n",
        "      <td> 1</td>\n",
        "      <td> 183</td>\n",
        "      <td>  True</td>\n",
        "      <td>NaN</td>\n",
        "      <td>NaN</td>\n",
        "      <td> 2.302585</td>\n",
        "    </tr>\n",
        "  </tbody>\n",
        "</table>\n",
        "</div>"
       ],
       "output_type": "pyout",
       "prompt_number": 320,
       "text": [
        "              age  censored  days gender  radiation  therapy      rate\n",
        "TCGA-AB-2813   78         1    31   True        NaN      NaN  2.833213\n",
        "TCGA-AB-2829   50         1   273   True        NaN      NaN  2.397895\n",
        "TCGA-AB-2868   77         1   151   True        NaN      NaN  2.995732\n",
        "TCGA-AB-2878   47         1   365  False        NaN      NaN  3.433987\n",
        "TCGA-AB-2885   71         1   214   True        NaN      NaN  3.178054\n",
        "TCGA-AB-2891   42         1   NaN   True        NaN      NaN  2.944439\n",
        "TCGA-AB-2904   65         1   516   True        NaN      NaN  2.890372\n",
        "TCGA-AB-2908   81         1    31   True        NaN      NaN  2.890372\n",
        "TCGA-AB-2935   66         1    60   True        NaN      NaN  2.995732\n",
        "TCGA-AB-2938   76         1   303   True        NaN      NaN  3.135494\n",
        "TCGA-AB-2943   70         1   NaN  False        NaN      NaN  2.772589\n",
        "TCGA-AB-2952   60         1    31  False        NaN      NaN  2.708050\n",
        "TCGA-AB-2956   61         1   183   True        NaN      NaN  2.302585"
       ]
      }
     ],
     "prompt_number": 320
    },
    {
     "cell_type": "code",
     "collapsed": false,
     "input": [],
     "language": "python",
     "metadata": {},
     "outputs": []
    }
   ],
   "metadata": {}
  }
 ]
}