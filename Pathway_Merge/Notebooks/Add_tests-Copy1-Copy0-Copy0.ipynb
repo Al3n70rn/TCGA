{
 "metadata": {
  "name": "Add_tests-Copy1-Copy0-Copy0"
 },
 "nbformat": 3,
 "nbformat_minor": 0,
 "worksheets": [
  {
   "cells": [
    {
     "cell_type": "code",
     "collapsed": false,
     "input": [
      "cd ../src/"
     ],
     "language": "python",
     "metadata": {},
     "outputs": [
      {
       "output_type": "stream",
       "stream": "stdout",
       "text": [
        "/cellar/users/agross/TCGA_Code/TCGA/Pathway_Merge/src\n"
       ]
      }
     ],
     "prompt_number": 1
    },
    {
     "cell_type": "code",
     "collapsed": false,
     "input": [
      "import pandas as pandas\n",
      "from Data.Pathways import read_in_pathways\n",
      "from Processing.Clinical import ClinicalObject\n",
      "import pickle as pickle\n",
      "import os as os\n",
      "\n",
      "pandas.set_printoptions(max_columns=300)"
     ],
     "language": "python",
     "metadata": {},
     "outputs": [],
     "prompt_number": 2
    },
    {
     "cell_type": "code",
     "collapsed": false,
     "input": [
      "firehose_path = '/cellar/users/agross/Data/TCGA/'\n",
      "date = '20120913'\n",
      "date_ = '_'.join([date[:4], date[4:6], date[6:8]])\n",
      "pathway_file = '/cellar/users/agross/Data/GeneSets/c2.cp.v3.0.symbols_edit.csv'\n",
      "gene_sets, gene_lookup = read_in_pathways(pathway_file)\n",
      "cancers = os.listdir(firehose_path + 'analyses__' + date_)"
     ],
     "language": "python",
     "metadata": {},
     "outputs": [],
     "prompt_number": 3
    },
    {
     "cell_type": "code",
     "collapsed": false,
     "input": [
      "report_ext = 'cov_age_rate_2'\n",
      "\n",
      "REAL_VARIABLES = ['AMAR','rate','age','karnofsky_performance', 'pack_years']\n",
      "BINARY_VARIABLES = ['gender', 'therapy', 'radiation', 'triple_neg', 'triple_pos',\n",
      "                    'ER_pos','PR_pos','her2_pos', 'lymphnode_n0n1', 'tumor_t1t2',\n",
      "                    'post_menopause', 'histo_g1g2', 'neo_status', 'chemo', 'hormones'\n",
      "                    'complete_response', 'metastatic_recurrence','new_tumor','smoker',\n",
      "                    'drinker']\n",
      "SURVIVAL_TESTS = {'survival' : {'event_var' : 'deceased', 'time_var' : 'days', \n",
      "                                'covariates' : ['age', 'rate']},\n",
      "                  'event_free_survival' : {'event_var' : 'event', \n",
      "                                           'time_var' : 'event_free_survival', \n",
      "                                           'covariates' : ['age', 'rate']}\n",
      "                  }"
     ],
     "language": "python",
     "metadata": {},
     "outputs": [],
     "prompt_number": 4
    },
    {
     "cell_type": "code",
     "collapsed": false,
     "input": [
      "cancer = 'COADREAD'\n",
      "data_path = firehose_path + 'analyses__' + date_ + '/' + cancer + '/' + date + '/'\n",
      "cancer = ClinicalObject(cancer, data_path, gene_sets, data_type='mutation',\n",
      "                        survival_tests=SURVIVAL_TESTS, real_variables=REAL_VARIABLES,\n",
      "                        binary_variables=BINARY_VARIABLES)"
     ],
     "language": "python",
     "metadata": {},
     "outputs": [],
     "prompt_number": 376
    },
    {
     "cell_type": "code",
     "collapsed": false,
     "input": [
      "cancer.filter_bad_pathways(gene_lookup)\n",
      "if hasattr(cancer, 'tests'): del cancer.tests\n",
      "cancer.report_folder = cancer.data_path + cancer.data_type + '_' + report_ext\n",
      "if not os.path.isdir(cancer.report_folder):\n",
      "    os.makedirs(cancer.report_folder)\n",
      "pickle.dump(cancer, open(cancer.report_folder + '/ClinicalObject.p', 'wb'))"
     ],
     "language": "python",
     "metadata": {},
     "outputs": [],
     "prompt_number": 377
    },
    {
     "cell_type": "code",
     "collapsed": false,
     "input": [
      "hugo_info = pandas.read_csv('/cellar/users/agross/Data/GeneSets/hugo_info.csv', \n",
      "                            index_col=0)\n",
      "def get_length(s):\n",
      "    starts = array(map(int, s['exon_starts'].split(',')[:-1]))\n",
      "    ends = array(map(int, s['exon_ends'].split(',')[:-1]))\n",
      "    gene_len = sum(ends - starts)\n",
      "    return gene_len\n",
      "\n",
      "lengths = hugo_info.apply(get_length, 1)\n",
      "lengths = lengths.groupby(level=0).max()\n",
      "lengths = lengths.ix[cancer.hit_matrix.index].dropna()"
     ],
     "language": "python",
     "metadata": {},
     "outputs": [],
     "prompt_number": 378
    },
    {
     "cell_type": "code",
     "collapsed": false,
     "input": [
      "def get_random_genes(bp, lengths):\n",
      "    s = 0\n",
      "    genes = []\n",
      "    while s < bp:\n",
      "        i = random_integers(0, len(lengths)-1)\n",
      "        genes.append(i)\n",
      "        s += lengths.ix[i]\n",
      "    genes = lengths.index[genes]\n",
      "    return genes\n",
      "\n",
      "def do_perm(f, vec, bp, iterations):\n",
      "    real_val = f(vec > 0)\n",
      "    results = []\n",
      "    for i in range(iterations):\n",
      "        perm = cancer.hit_matrix.ix[get_random_genes(bp, lengths)].sum() > 0\n",
      "        results.append(f(perm))\n",
      "    return sum(array(results) <  real_val) / float(len(results))"
     ],
     "language": "python",
     "metadata": {},
     "outputs": [],
     "prompt_number": 379
    },
    {
     "cell_type": "code",
     "collapsed": false,
     "input": [
      "cancer = pickle.load(open(cancer.report_folder.replace('COADREAD','GBM') + '/ClinicalObject.p', 'rb'))"
     ],
     "language": "python",
     "metadata": {},
     "outputs": [],
     "prompt_number": 405
    },
    {
     "cell_type": "code",
     "collapsed": false,
     "input": [
      "f = get_tests(cancer.clinical, {}, ['rate'], [])['rate']"
     ],
     "language": "python",
     "metadata": {},
     "outputs": [],
     "prompt_number": 406
    },
    {
     "cell_type": "code",
     "collapsed": false,
     "input": [
      "res = {}\n",
      "for p,genes in list(gene_sets.iteritems()):\n",
      "    if p not in cancer.meta_matrix.index:\n",
      "        continue\n",
      "    bp = lengths[lengths.index.isin(genes)].sum()\n",
      "    iterations = 10\n",
      "    res[p] = do_perm(f, cancer.meta_matrix.ix[p], bp, iterations)\n",
      "    while (res[p] == 0) and (iterations < 1000):\n",
      "        res[p] = do_perm(f, cancer.meta_matrix.ix[p], bp, iterations)\n",
      "        iterations = iterations * 5"
     ],
     "language": "python",
     "metadata": {},
     "outputs": [],
     "prompt_number": 409
    },
    {
     "cell_type": "code",
     "collapsed": false,
     "input": [
      "res = np.sort(Series(res))"
     ],
     "language": "python",
     "metadata": {},
     "outputs": [],
     "prompt_number": 410
    },
    {
     "cell_type": "code",
     "collapsed": false,
     "input": [
      "res.head(50)"
     ],
     "language": "python",
     "metadata": {},
     "outputs": [
      {
       "output_type": "pyout",
       "prompt_number": 411,
       "text": [
        "BIOCARTA_MITOCHONDRIA_PATHWAY                                   0.000\n",
        "KEGG_ADIPOCYTOKINE_SIGNALING_PATHWAY                            0.000\n",
        "REACTOME_CDT1_ASSOCIATION_WITH_THE_CDC6_ORC_ORIGIN_COMPLEX      0.004\n",
        "REACTOME_RECRUITMENT_OF_NUMA_TO_MITOTIC_CENTROSOMES             0.004\n",
        "REACTOME_APOPTOSIS_INDUCED_DNA_FRAGMENTATION                    0.012\n",
        "REACTOME_CELL_CYCLE_MITOTIC                                     0.016\n",
        "REACTOME_NEP_NS2_INTERACTS_WITH_THE_CELLULAR_EXPORT_MACHINERY    0.016\n",
        "REACTOME_RNA_POLYMERASE_III_TRANSCRIPTION_INITIATION            0.016\n",
        "SA_CASPASE_CASCADE                                              0.016\n",
        "BIOCARTA_CACAM_PATHWAY                                          0.020\n",
        "BIOCARTA_CASPASE_PATHWAY                                        0.020\n",
        "KEGG_GLYCOSAMINOGLYCAN_BIOSYNTHESIS_HEPARAN_SULFATE             0.020\n",
        "KEGG_GLYCOSYLPHOSPHATIDYLINOSITOL_GPI_ANCHOR_BIOSYNTHESIS       0.020\n",
        "KEGG_O_GLYCAN_BIOSYNTHESIS                                      0.020\n",
        "REACTOME_AUTODEGRADATION_OF_CDH1_BY_CDH1_APC                    0.020\n",
        "REACTOME_CDC20_PHOSPHO_APC_MEDIATED_DEGRADATION_OF_CYCLIN_A     0.020\n",
        "REACTOME_CHAPERONIN_MEDIATED_PROTEIN_FOLDING                    0.020\n",
        "REACTOME_LYSOSOME_VESICLE_BIOGENESIS                            0.020\n",
        "REACTOME_PP2A_MEDIATED_DEPHOSPHORYLATION_OF_KEY_METABOLIC_FACTORS    0.020\n",
        "REACTOME_SIGNALING_BY_ROBO_RECEPTOR                             0.020\n",
        "REACTOME_SMOOTH_MUSCLE_CONTRACTION                              0.020\n",
        "REACTOME_TRANSCRIPTION                                          0.020\n",
        "ST_GA13_PATHWAY                                                 0.020\n",
        "REACTOME_LOSS_OF_NLP_FROM_MITOTIC_CENTROSOMES                   0.024\n",
        "REACTOME_RNA_POLYMERASE_I_III_AND_MITOCHONDRIAL_TRANSCRIPTION    0.024\n",
        "BIOCARTA_BIOPEPTIDES_PATHWAY                                    0.040\n",
        "BIOCARTA_MTA3_PATHWAY                                           0.040\n",
        "KEGG_FRUCTOSE_AND_MANNOSE_METABOLISM                            0.040\n",
        "REACTOME_ACTIVATION_OF_RAC                                      0.040\n",
        "REACTOME_ASSOCIATION_OF_TRIC_CCT_WITH_TARGET_PROTEINS_DURING_BIOSYNTHESIS    0.040\n",
        "REACTOME_G2_M_CHECKPOINTS                                       0.040\n",
        "REACTOME_G2_M_TRANSITION                                        0.040\n",
        "REACTOME_P53_INDEPENDENT_DNA_DAMAGE_RESPONSE                    0.040\n",
        "ST_T_CELL_SIGNAL_TRANSDUCTION                                   0.040\n",
        "BIOCARTA_HIVNEF_PATHWAY                                         0.060\n",
        "REACTOME_METABOLISM_OF_PROTEINS                                 0.060\n",
        "REACTOME_MRNA_3_END_PROCESSING                                  0.060\n",
        "REACTOME_APOPTOSIS                                              0.080\n",
        "REACTOME_DEATH_RECEPTOR_SIGNALLING                              0.080\n",
        "REACTOME_RECYCLING_OF_BILE_ACIDS_AND_SALTS                      0.080\n",
        "BIOCARTA_ACTINY_PATHWAY                                         0.100\n",
        "BIOCARTA_AKAPCENTROSOME_PATHWAY                                 0.100\n",
        "BIOCARTA_ARAP_PATHWAY                                           0.100\n",
        "BIOCARTA_BARRESTIN_PATHWAY                                      0.100\n",
        "BIOCARTA_CARM_ER_PATHWAY                                        0.100\n",
        "BIOCARTA_CK1_PATHWAY                                            0.100\n",
        "BIOCARTA_CSK_PATHWAY                                            0.100\n",
        "BIOCARTA_D4GDI_PATHWAY                                          0.100\n",
        "BIOCARTA_DEATH_PATHWAY                                          0.100\n",
        "BIOCARTA_GATA3_PATHWAY                                          0.100"
       ]
      }
     ],
     "prompt_number": 411
    },
    {
     "cell_type": "code",
     "collapsed": false,
     "input": [
      "p = 'KEGG_PEROXISOME'\n",
      "\n",
      "real_val = f(cancer.meta_matrix.ix[p] > 0)"
     ],
     "language": "python",
     "metadata": {},
     "outputs": [],
     "prompt_number": 311
    },
    {
     "cell_type": "code",
     "collapsed": false,
     "input": [
      "real_val, bp"
     ],
     "language": "python",
     "metadata": {},
     "outputs": [
      {
       "output_type": "pyout",
       "prompt_number": 312,
       "text": [
        "(2.0265681026121828e-28, 217608.0)"
       ]
      }
     ],
     "prompt_number": 312
    },
    {
     "cell_type": "code",
     "collapsed": false,
     "input": [
      "g = 'KRAS'\n",
      "bp = lengths[g]\n",
      "real_val = f(cancer.hit_matrix.ix[g] > 0)"
     ],
     "language": "python",
     "metadata": {},
     "outputs": [],
     "prompt_number": 300
    },
    {
     "cell_type": "code",
     "collapsed": false,
     "input": [],
     "language": "python",
     "metadata": {},
     "outputs": [],
     "prompt_number": 320
    },
    {
     "cell_type": "code",
     "collapsed": false,
     "input": [
      "do_perm(f, cancer.meta_matrix.ix[p], bp)"
     ],
     "language": "python",
     "metadata": {},
     "outputs": [
      {
       "output_type": "pyout",
       "prompt_number": 323,
       "text": [
        "0.56999999999999995"
       ]
      }
     ],
     "prompt_number": 323
    },
    {
     "cell_type": "code",
     "collapsed": false,
     "input": [
      "genes = cancer.hit_matrix.index.isin(gene_sets['REACTOME_EGFR_DOWNREGULATION'])\n",
      "#genes = Series(genes, index=cancer.hit_matrix.index, name='in_pathway')\n",
      "patients = cancer.meta_matrix.ix['REACTOME_EGFR_DOWNREGULATION']\n",
      "patients = patients > 0"
     ],
     "language": "python",
     "metadata": {},
     "outputs": [],
     "prompt_number": 139
    },
    {
     "cell_type": "code",
     "collapsed": false,
     "input": [
      "in_path_all = cancer.hit_matrix.ix[:,patients].sum().sum()\n",
      "not_path_all = cancer.hit_matrix.ix[:,patients==False].sum().sum()"
     ],
     "language": "python",
     "metadata": {},
     "outputs": [],
     "prompt_number": 151
    },
    {
     "cell_type": "code",
     "collapsed": false,
     "input": [
      "in_path_len = float(lengths.ix[genes].sum())\n",
      "not_path_len = lengths.sum() - in_path_len"
     ],
     "language": "python",
     "metadata": {},
     "outputs": [],
     "prompt_number": 161
    },
    {
     "cell_type": "code",
     "collapsed": false,
     "input": [
      "in_path_len"
     ],
     "language": "python",
     "metadata": {},
     "outputs": [
      {
       "output_type": "pyout",
       "prompt_number": 183,
       "text": [
        "70775.0"
       ]
      }
     ],
     "prompt_number": 183
    },
    {
     "cell_type": "code",
     "collapsed": false,
     "input": [
      "cancer.hit_matrix.ix"
     ],
     "language": "python",
     "metadata": {},
     "outputs": []
    },
    {
     "cell_type": "code",
     "collapsed": false,
     "input": [
      "cancer.hit_matrix.ix[genes, patients==False].sum().sum()"
     ],
     "language": "python",
     "metadata": {},
     "outputs": [
      {
       "output_type": "pyout",
       "prompt_number": 185,
       "text": [
        "0"
       ]
      }
     ],
     "prompt_number": 185
    },
    {
     "cell_type": "code",
     "collapsed": false,
     "input": [
      "g_p = cancer.hit_matrix.ix[genes, patients].sum().sum() / in_path_len\n",
      "g_np = cancer.hit_matrix.ix[genes, patients==False].sum().sum() / in_path_len\n",
      "ng_p = cancer.hit_matrix.ix[genes==False, patients].sum().sum() / not_path_len\n",
      "ng_np = cancer.hit_matrix.ix[genes==False, patients==False].sum().sum() / not_path_len"
     ],
     "language": "python",
     "metadata": {},
     "outputs": [],
     "prompt_number": 186
    },
    {
     "cell_type": "code",
     "collapsed": false,
     "input": [
      "table = [[g_p, g_np], [ng_p, ng_np]]"
     ],
     "language": "python",
     "metadata": {},
     "outputs": [],
     "prompt_number": 187
    },
    {
     "cell_type": "code",
     "collapsed": false,
     "input": [
      "table"
     ],
     "language": "python",
     "metadata": {},
     "outputs": [
      {
       "output_type": "pyout",
       "prompt_number": 188,
       "text": [
        "[[0.0025997880607559168, 0.0], [0.0016455724619314572, 0.00026647861003072955]]"
       ]
      }
     ],
     "prompt_number": 188
    },
    {
     "cell_type": "code",
     "collapsed": false,
     "input": [
      "from scipy.stats import fisher_exact"
     ],
     "language": "python",
     "metadata": {},
     "outputs": [],
     "prompt_number": 189
    },
    {
     "cell_type": "code",
     "collapsed": false,
     "input": [
      "chi2_contingency(table)"
     ],
     "language": "python",
     "metadata": {},
     "outputs": [
      {
       "output_type": "pyout",
       "prompt_number": 181,
       "text": [
        "(4080.5591845917547,\n",
        " 0.0,\n",
        " 1,\n",
        " array([[ 0.00244624,  0.00015355],\n",
        "       [ 0.00179912,  0.00011293]]))"
       ]
      }
     ],
     "prompt_number": 181
    },
    {
     "cell_type": "code",
     "collapsed": false,
     "input": [
      "hits_all = cancer.hit_matrix.sum().sum()\n",
      "bases_all = lengths.reindex_like(cancer.hit_matrix).sum().sum()"
     ],
     "language": "python",
     "metadata": {},
     "outputs": [],
     "prompt_number": 104
    },
    {
     "cell_type": "code",
     "collapsed": false,
     "input": [
      "hits_p = cancer.hit_matrix.select(lambda s: s in p).sum().sum()\n",
      "bases_p = lengths.ix[p].sum()"
     ],
     "language": "python",
     "metadata": {},
     "outputs": [],
     "prompt_number": 105
    },
    {
     "cell_type": "code",
     "collapsed": false,
     "input": [
      "hits_all"
     ],
     "language": "python",
     "metadata": {},
     "outputs": [
      {
       "output_type": "pyout",
       "prompt_number": 106,
       "text": [
        "132797"
       ]
      }
     ],
     "prompt_number": 106
    },
    {
     "cell_type": "code",
     "collapsed": false,
     "input": [
      "p = cancer.meta_matrix.ix['REACTOME_EGFR_DOWNREGULATION'] > 0\n",
      "p = p[p].index\n",
      "hits_p = cancer.hit_matrix[p].sum().sum()"
     ],
     "language": "python",
     "metadata": {},
     "outputs": []
    },
    {
     "cell_type": "code",
     "collapsed": false,
     "input": [
      "hits_all, hits_p"
     ],
     "language": "python",
     "metadata": {},
     "outputs": [
      {
       "output_type": "pyout",
       "prompt_number": 99,
       "text": [
        "(132797, 184)"
       ]
      }
     ],
     "prompt_number": 99
    },
    {
     "cell_type": "code",
     "collapsed": false,
     "input": [
      "hits_all / bases_all"
     ],
     "language": "python",
     "metadata": {},
     "outputs": [
      {
       "output_type": "pyout",
       "prompt_number": 91,
       "text": [
        "0.0022528019857676698"
       ]
      }
     ],
     "prompt_number": 91
    },
    {
     "cell_type": "code",
     "collapsed": false,
     "input": [
      "cancer.meta_matrix.ix['REACTOME_EGFR_DOWNREGULATION'] > 0"
     ],
     "language": "python",
     "metadata": {},
     "outputs": [
      {
       "output_type": "pyout",
       "prompt_number": 70,
       "text": [
        "TCGA-A5-A0G3    False\n",
        "TCGA-A5-A0G5     True\n",
        "TCGA-A5-A0G9    False\n",
        "TCGA-A5-A0GA     True\n",
        "TCGA-A5-A0GB    False\n",
        "TCGA-A5-A0GD    False\n",
        "TCGA-A5-A0GE    False\n",
        "TCGA-A5-A0GH    False\n",
        "TCGA-A5-A0GI     True\n",
        "TCGA-A5-A0GJ    False\n",
        "TCGA-A5-A0GM    False\n",
        "TCGA-A5-A0GN    False\n",
        "TCGA-A5-A0GP     True\n",
        "TCGA-A5-A0GQ    False\n",
        "TCGA-A5-A0GU    False\n",
        "...\n",
        "TCGA-D1-A17T    False\n",
        "TCGA-D1-A17U     True\n",
        "TCGA-D1-A1NU    False\n",
        "TCGA-D1-A1NX    False\n",
        "TCGA-DI-A0WH     True\n",
        "TCGA-DI-A1NN    False\n",
        "TCGA-E6-A1LZ    False\n",
        "TCGA-EO-A1Y5    False\n",
        "TCGA-EO-A1Y8    False\n",
        "TCGA-EY-A1GS    False\n",
        "TCGA-EY-A212    False\n",
        "TCGA-FI-A2D2    False\n",
        "TCGA-FI-A2EW    False\n",
        "TCGA-FI-A2EX    False\n",
        "TCGA-FI-A2F8    False\n",
        "Name: REACTOME_EGFR_DOWNREGULATION, Length: 248"
       ]
      }
     ],
     "prompt_number": 70
    },
    {
     "cell_type": "code",
     "collapsed": false,
     "input": [
      "hit_vec = cancer.meta_matrix.ix['REACTOME_EGFR_DOWNREGULATION']\n",
      "covariates = "
     ],
     "language": "python",
     "metadata": {},
     "outputs": [],
     "prompt_number": 27
    },
    {
     "cell_type": "code",
     "collapsed": false,
     "input": [
      "np.sort(cancer.q_pathways.rate).head()"
     ],
     "language": "python",
     "metadata": {},
     "outputs": [
      {
       "output_type": "pyout",
       "prompt_number": 26,
       "text": [
        "REACTOME_EGFR_DOWNREGULATION                      2.169325e-39\n",
        "ST_INTERFERON_GAMMA_PATHWAY                       1.368453e-37\n",
        "KEGG_SNARE_INTERACTIONS_IN_VESICULAR_TRANSPORT    6.745359e-37\n",
        "REACTOME_DOUBLE_STRAND_BREAK_REPAIR               6.745359e-37\n",
        "REACTOME_HOMOLOGOUS_RECOMBINATION_REPAIR          1.919206e-36\n",
        "Name: rate"
       ]
      }
     ],
     "prompt_number": 26
    },
    {
     "cell_type": "code",
     "collapsed": false,
     "input": [
      "from Reports.Figures import *\n",
      "from IPython.display import Image"
     ],
     "language": "python",
     "metadata": {},
     "outputs": [],
     "prompt_number": 23
    },
    {
     "cell_type": "code",
     "collapsed": false,
     "input": [
      "a,b = match_series(cancer.clinical.pack_years.fillna(0), cancer.clinical.)\n",
      "scatter(a,b)"
     ],
     "language": "python",
     "metadata": {},
     "outputs": [
      {
       "output_type": "pyout",
       "prompt_number": 35,
       "text": [
        "<matplotlib.collections.PathCollection at 0x7f3f62fb7c90>"
       ]
      },
      {
       "output_type": "display_data",
       "png": "[encoded data removed]"
      }
     ],
     "prompt_number": 35
    },
    {
     "cell_type": "code",
     "collapsed": false,
     "input": [
      "np.sort(cancer.p_genes.event_free_survival).dropna().head()"
     ],
     "language": "python",
     "metadata": {},
     "outputs": [
      {
       "output_type": "pyout",
       "prompt_number": 30,
       "text": [
        "BAI2       0.004698\n",
        "COL21A1    0.006884\n",
        "EMR1       0.031053\n",
        "OR4S2      0.064584\n",
        "ANKRD44    0.068938\n",
        "Name: event_free_survival"
       ]
      }
     ],
     "prompt_number": 30
    },
    {
     "cell_type": "code",
     "collapsed": false,
     "input": [
      "cancer.meta_matrix.ix['KEGG_LYSINE_DEGRADATION'].sum()"
     ],
     "language": "python",
     "metadata": {},
     "outputs": [
      {
       "output_type": "pyout",
       "prompt_number": 18,
       "text": [
        "61.0"
       ]
      }
     ],
     "prompt_number": 18
    },
    {
     "cell_type": "code",
     "collapsed": false,
     "input": [
      "cancer.report_folder"
     ],
     "language": "python",
     "metadata": {},
     "outputs": [
      {
       "output_type": "pyout",
       "prompt_number": 8,
       "text": [
        "'/cellar/users/agross/Data/TCGA/stddata__2012_09_13/BRCA/20120913/mutation_cov_age_rate_2'"
       ]
      }
     ],
     "prompt_number": 8
    },
    {
     "cell_type": "code",
     "collapsed": false,
     "input": [
      "np.sort(cancer.q_pathways.event_free_survival).head(10)"
     ],
     "language": "python",
     "metadata": {},
     "outputs": [],
     "prompt_number": "*"
    },
    {
     "cell_type": "code",
     "collapsed": false,
     "input": [
      "event_var='event'\n",
      "time_var='event_free_survival'\n",
      "covariates=['rate', 'age']\n",
      "clinical = cancer.clinical\n",
      "hit_vec = cancer.meta_matrix.ix['REACTOME_P53_INDEPENDENT_DNA_DAMAGE_RESPONSE'].clip_upper(1.)"
     ],
     "language": "python",
     "metadata": {},
     "outputs": [],
     "prompt_number": "*"
    },
    {
     "cell_type": "code",
     "collapsed": false,
     "input": [
      "s = draw_survival_curves(clinical, hit_vec, covariates, time_var,\n",
      "                         event_var, filename='tmp.png')\n",
      "Image(filename='tmp.png')"
     ],
     "language": "python",
     "metadata": {},
     "outputs": [],
     "prompt_number": "*"
    },
    {
     "cell_type": "code",
     "collapsed": false,
     "input": [
      "from Reports.Figures import *\n",
      "from Processing.Clinical import *"
     ],
     "language": "python",
     "metadata": {},
     "outputs": [],
     "prompt_number": "*"
    },
    {
     "cell_type": "code",
     "collapsed": false,
     "input": [
      "p53 = cancer.hit_matrix.ix['BIOCARTA_NEUROTRANSMITTERS_PATHWAY']>0\n",
      "p53_vec = (cancer.clinical.triple_neg[p53[p53].index]).astype(float)\n",
      "get_cox_ph(cancer.clinical, p53_vec, event_var='deceased', covariates=['age','rate'])"
     ],
     "language": "python",
     "metadata": {},
     "outputs": [],
     "prompt_number": "*"
    },
    {
     "cell_type": "code",
     "collapsed": false,
     "input": [
      "cancer.lesion_matrix.ix['17q12   '].value_counts()"
     ],
     "language": "python",
     "metadata": {},
     "outputs": [],
     "prompt_number": "*"
    },
    {
     "cell_type": "code",
     "collapsed": false,
     "input": [
      "cancer.clinical.her2_pos = cancer.clinical.her2_pos == 'True'"
     ],
     "language": "python",
     "metadata": {},
     "outputs": [],
     "prompt_number": "*"
    },
    {
     "cell_type": "code",
     "collapsed": true,
     "input": [
      "p53 = cancer.meta_matrix.ix['SIG_CHEMOTAXIS']>0\n",
      "p53_vec = (cancer.clinical.triple_neg[p53[p53].index]).astype(float)\n",
      "get_cox_ph(cancer.clinical, p53_vec, event_var='deceased', covariates=['age','rate'])"
     ],
     "language": "python",
     "metadata": {},
     "outputs": [],
     "prompt_number": "*"
    },
    {
     "cell_type": "code",
     "collapsed": false,
     "input": [
      "def draw_survival_curves(clinical, hit_vec, ime_var='days', event_var='censored',\n",
      "                         filename='tmp.png', show=False, \n",
      "                         ax=None, title=True, labels=['No Mutation', 'Mutation']):\n",
      "    hit_vec.name = 'pathway'\n",
      "    df = clinical.join(hit_vec)\n",
      "    df = com.convert_to_r_dataframe(df) #@UndefinedVariable\n",
      "    fmla = robjects.Formula('Surv(days, censored) ~ ' + hit_vec.name)\n",
      "    fit = survival.survfit(fmla, df)\n",
      "    r('png')(filename=filename)\n",
      "    ls = r('2:' + str(len(set(hit_vec))+1)) #R line styles\n",
      "    r('plot')(fit, lty=ls, col=ls, xlab='Days to Death', ylab= 'Survival')\n",
      "    if title:\n",
      "        r('title')(hit_vec.name)\n",
      "    r('legend')(nanmax(clinical.days) * .7,.9, labels, lty=ls, col=ls)\n",
      "    r('dev.off()')\n",
      "    if ax or show:\n",
      "        img = plt.imread(filename)\n",
      "        if ax is None:\n",
      "            fig,ax = plt.subplots(1,1, figsize=(7,7), frameon=False)\n",
      "        ax.imshow(img)\n",
      "        ax.set_axis_off()\n",
      "        ax.get_figure().tight_layout()"
     ],
     "language": "python",
     "metadata": {},
     "outputs": [],
     "prompt_number": "*"
    },
    {
     "cell_type": "code",
     "collapsed": true,
     "input": [
      "fischer_bar_chart(cancer.meta_matrix.ix['SIG_CHEMOTAXIS']>0, cancer.clinical.triple_neg);"
     ],
     "language": "python",
     "metadata": {},
     "outputs": [],
     "prompt_number": "*"
    },
    {
     "cell_type": "code",
     "collapsed": false,
     "input": [
      "gene_sets['REACTOME_ETHANOL_OXIDATION']"
     ],
     "language": "python",
     "metadata": {},
     "outputs": [],
     "prompt_number": "*"
    },
    {
     "cell_type": "code",
     "collapsed": false,
     "input": [
      "np.sort(cancer.q_pathways.event_free_survival)"
     ],
     "language": "python",
     "metadata": {},
     "outputs": [],
     "prompt_number": "*"
    },
    {
     "cell_type": "code",
     "collapsed": false,
     "input": [
      "cancer.q_genes.describe()"
     ],
     "language": "python",
     "metadata": {},
     "outputs": [],
     "prompt_number": "*"
    },
    {
     "cell_type": "code",
     "collapsed": false,
     "input": [
      "cancer.q_pathways.describe()"
     ],
     "language": "python",
     "metadata": {},
     "outputs": [],
     "prompt_number": "*"
    },
    {
     "cell_type": "code",
     "collapsed": false,
     "input": [
      "np.sort(cancer.q_pathways.triple_neg)"
     ],
     "language": "python",
     "metadata": {},
     "outputs": [],
     "prompt_number": "*"
    },
    {
     "cell_type": "code",
     "collapsed": false,
     "input": [
      "from Processing.Clinical import *"
     ],
     "language": "python",
     "metadata": {},
     "outputs": [],
     "prompt_number": "*"
    },
    {
     "cell_type": "code",
     "collapsed": false,
     "input": [
      "REAL_VARIABLES = ['AMAR','rate','age']\n",
      "BINARY_VARIABLES = ['gender', 'therapy', 'radiation', 'triple_neg', 'triple_pos',\n",
      "                    'ER_pos','PR_pos','her2_pos', 'lymphnode_n0n1', 'tumor_t1t2',\n",
      "                    'post_menopause']\n",
      "SURVIVAL_TESTS = {'survival' : {'event_var' : 'deceased', 'time_var' : 'days', \n",
      "                                'covariates' : ['age', 'rate']},\n",
      "                  'event_free_survival' : {'event_var' : 'event', \n",
      "                                           'time_var' : 'event_free_survival', \n",
      "                                           'covariates' : ['age', 'rate']}\n",
      "                  }"
     ],
     "language": "python",
     "metadata": {},
     "outputs": [],
     "prompt_number": "*"
    },
    {
     "cell_type": "code",
     "collapsed": false,
     "input": [
      "def run_clinical_bool(cancer, data_path, gene_sets, data_type='mutation'):\n",
      "    '''\n",
      "    Runs clinical tests for boolean type data (mutation, amplification, \n",
      "    or deletion).\n",
      "    '''\n",
      "    stddata_path = data_path.replace('analyses', 'stddata')\n",
      "    clinical = read_csv(stddata_path + 'Clinical/compiled.csv', index_col=0)\n",
      "    try:\n",
      "        meth_age, amar = get_age_signal(stddata_path, clinical)\n",
      "        clinical['meth_age'] = meth_age\n",
      "        clinical['AMAR'] = amar\n",
      "    except:\n",
      "        pass  #Probably because there is not a 450k chip for the cancer\n",
      "    patients = clinical[['days','deceased']].dropna().index\n",
      "    if data_type == 'mutation':\n",
      "        hit_matrix, _ = get_mutation_matrix(cancer, data_path)\n",
      "    elif data_type in ['amplification', 'deletion']:\n",
      "        hit_matrix, lesion_matrix = get_cna_matrix(data_path, data_type)\n",
      "    \n",
      "    single_matrix = lesion_matrix if data_type == 'amplification' else hit_matrix\n",
      "    single_matrix = single_matrix.clip_upper(1.)\n",
      "    clinical['rate'] = log(single_matrix.sum(0))\n",
      "    tests = get_tests_bool(clinical, SURVIVAL_TESTS, REAL_VARIABLES, BINARY_VARIABLES)\n",
      "    gene_counts = sort(single_matrix.sum(1))\n",
      "    good_genes = gene_counts[gene_counts > MIN_NUM_HITS].index[:500]\n",
      "    p_genes, q_genes = run_tests(tests, single_matrix.ix[good_genes])\n",
      "    \n",
      "    clinical['rate'] = log(hit_matrix.sum(0))\n",
      "    meta_matrix = build_meta_matrix(gene_sets, hit_matrix, \n",
      "                                    setFilter=lambda s: s.clip_upper(1))\n",
      "    tests = get_tests_bool(clinical, SURVIVAL_TESTS, REAL_VARIABLES, BINARY_VARIABLES)\n",
      "    p_pathways, q_pathways = run_tests(tests, meta_matrix.clip_upper(1.)) \n",
      "    return locals()\n"
     ],
     "language": "python",
     "metadata": {},
     "outputs": [],
     "prompt_number": "*"
    },
    {
     "cell_type": "code",
     "collapsed": false,
     "input": [
      "d = run_clinical_bool('BRCA', data_path, gene_sets, data_type='mutation')"
     ],
     "language": "python",
     "metadata": {},
     "outputs": [],
     "prompt_number": "*"
    },
    {
     "cell_type": "code",
     "collapsed": false,
     "input": [
      "from pandas import read_csv, read_table"
     ],
     "language": "python",
     "metadata": {},
     "outputs": [],
     "prompt_number": "*"
    },
    {
     "cell_type": "code",
     "collapsed": false,
     "input": [
      "clinical = read_csv(stddata_path + 'Clinical/compiled.csv', index_col=0)\n",
      "try:\n",
      "    meth_age, amar = get_age_signal(stddata_path, clinical)\n",
      "    clinical['meth_age'] = meth_age\n",
      "    clinical['AMAR'] = amar\n",
      "except:\n",
      "    pass  #Probably because there is not a 450k chip for the cancer"
     ],
     "language": "python",
     "metadata": {},
     "outputs": [],
     "prompt_number": "*"
    },
    {
     "cell_type": "code",
     "collapsed": false,
     "input": [
      "#patients = array(clinical[['days','deceased']].dropna().index)\n",
      "stddata_path = data_path.replace('analyses', 'stddata')"
     ],
     "language": "python",
     "metadata": {},
     "outputs": [],
     "prompt_number": "*"
    },
    {
     "cell_type": "code",
     "collapsed": false,
     "input": [
      "hit_matrix, _ = get_mutation_matrix('BRCA', data_path)\n",
      "clinical['rate'] = log(hit_matrix.sum(0))\n",
      "tests = get_tests_bool(clinical, SURVIVAL_TESTS, REAL_VARIABLES, BINARY_VARIABLES)"
     ],
     "language": "python",
     "metadata": {},
     "outputs": [],
     "prompt_number": "*"
    },
    {
     "cell_type": "code",
     "collapsed": false,
     "input": [
      "gene_counts = sort(hit_matrix.sum(1))\n",
      "good_genes = gene_counts[gene_counts > MIN_NUM_HITS].index[:500]\n",
      "p_genes, q_genes = run_tests(tests, hit_matrix.ix[good_genes].clip_upper(1.))"
     ],
     "language": "python",
     "metadata": {},
     "outputs": [],
     "prompt_number": "*"
    },
    {
     "cell_type": "code",
     "collapsed": false,
     "input": [
      "q_genes.sort(columns='event_free_survival').head(10)"
     ],
     "language": "python",
     "metadata": {},
     "outputs": [],
     "prompt_number": "*"
    },
    {
     "cell_type": "code",
     "collapsed": false,
     "input": [
      "clinical['rate'] = log(hit_matrix.sum(0))\n",
      "meta_matrix = build_meta_matrix(gene_sets, hit_matrix, \n",
      "                                   setFilter=lambda s: s.clip_upper(1))\n",
      "tests = get_tests_bool(clinical, SURVIVAL_TESTS, REAL_VARIABLES, BINARY_VARIABLES)\n",
      "p_pathways, q_pathways = run_tests(tests, meta_matrix) "
     ],
     "language": "python",
     "metadata": {},
     "outputs": [],
     "prompt_number": "*"
    },
    {
     "cell_type": "code",
     "collapsed": false,
     "input": [
      "no_p53 = [n for n,s in gene_sets.iteritems() if 'TP53' not in s]"
     ],
     "language": "python",
     "metadata": {},
     "outputs": [],
     "prompt_number": "*"
    },
    {
     "cell_type": "code",
     "collapsed": false,
     "input": [
      "q_pathways.ix[no_p53].sort(columns='rate').head(10)"
     ],
     "language": "python",
     "metadata": {},
     "outputs": [],
     "prompt_number": "*"
    },
    {
     "cell_type": "code",
     "collapsed": false,
     "input": [
      "scatter(*clinical[['days','event_free_survival']].as_matrix().T)"
     ],
     "language": "python",
     "metadata": {},
     "outputs": [],
     "prompt_number": "*"
    },
    {
     "cell_type": "code",
     "collapsed": false,
     "input": [],
     "language": "python",
     "metadata": {},
     "outputs": [],
     "prompt_number": "*"
    }
   ],
   "metadata": {}
  }
 ]
}