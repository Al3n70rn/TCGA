{
 "metadata": {
  "name": "Untitled5"
 },
 "nbformat": 3,
 "nbformat_minor": 0,
 "worksheets": [
  {
   "cells": [
    {
     "cell_type": "code",
     "collapsed": false,
     "input": [
      "cd ../src"
     ],
     "language": "python",
     "metadata": {},
     "outputs": [
      {
       "output_type": "stream",
       "stream": "stdout",
       "text": [
        "/cellar/users/agross/TCGA_Code/TCGA/Pathway_Merge/src\n"
       ]
      }
     ],
     "prompt_number": 1
    },
    {
     "cell_type": "code",
     "collapsed": false,
     "input": [
      "#! /cellar/users/agross/semillon/epd/bin/python\n",
      "\n",
      "import sys\n",
      "import pickle as pickle\n",
      "\n",
      "from Data.Pathways import read_in_pathways\n",
      "from Processing.Clinical import ClinicalObject\n",
      "\n",
      "PATHWAY_FILE = '/cellar/users/agross/Data/GeneSets/c2.cp.v3.0.symbols_edit.csv'\n",
      "gene_sets, gene_lookup = read_in_pathways(PATHWAY_FILE)\n",
      "\n",
      "REAL_VARIABLES = ['AMAR','rate','age','karnofsky_performance', 'pack_years',\n",
      "                  'pct_tumor_invasion', 'height', 'weight', 'neo_area']\n",
      "BINARY_VARIABLES = ['gender', 'therapy', 'radiation', 'triple_neg', 'triple_pos',\n",
      "                    'ER_pos','PR_pos','her2_pos', 'lymphnode_n0n1', 'tumor_t1t2',\n",
      "                    'post_menopause', 'histo_g1g2', 'neo_status', 'chemo', \n",
      "                    'hormones''complete_response', 'metastatic_recurrence',\n",
      "                    'new_tumor','smoker', 'drinker', 'aml_cyto_risk_favorable',\n",
      "                    'morphology_m1m2', 'normal_cyto', 'abnormallymphocyte', \n",
      "                    'bonemarrowbandcell', 'bonemarrowbasophil', 'bonemarrowblastcell',\n",
      "                    'bonemarrowcellularity', 'bonemarrowlabeosinophil', \n",
      "                    'bonemarrowlymphocyte', 'bonemarrowmyelocyte', 'bonemarrowneutrophil', \n",
      "                    'bonemarrowprolymphocyte', 'bonemarrowpromonocytecount', \n",
      "                    'bonemarrowpromyelocyte', 'monocyte', 'venous_invasion',\n",
      "                    'lymphatic_invasion', 'calcium_level', 'white_cell_count',\n",
      "                    'tumor_focality']\n",
      "SURVIVAL_TESTS = {'survival' : {'event_var' : 'deceased', 'time_var' : 'days', \n",
      "                                'covariates' : ['age', 'rate']},\n",
      "                  'event_free_survival' : {'event_var' : 'event', \n",
      "                                           'time_var' : 'event_free_survival', \n",
      "                                           'covariates' : ['age', 'rate']}\n",
      "                  }"
     ],
     "language": "python",
     "metadata": {},
     "outputs": [],
     "prompt_number": 2
    },
    {
     "cell_type": "code",
     "collapsed": false,
     "input": [
      "cancer = 'LAML'\n",
      "data_type = 'mutation'\n",
      "data_path = '/cellar/data/TCGA/Firehose__2012_10_24/'\n",
      "report_ext = 'tmp'\n",
      "drop_pc = True\n",
      "\n",
      "cancer_obj = ClinicalObject(cancer, data_path, gene_sets, data_type,\n",
      "                            survival_tests=SURVIVAL_TESTS, \n",
      "                            real_variables=REAL_VARIABLES,\n",
      "                            binary_variables=BINARY_VARIABLES,\n",
      "                            drop_pc=drop_pc)"
     ],
     "language": "python",
     "metadata": {},
     "outputs": [],
     "prompt_number": "*"
    },
    {
     "cell_type": "code",
     "collapsed": false,
     "input": [
      "def pickle_cancer_obj(c):\n",
      "    '''\n",
      "    Make the cancer object picklable, and drop the file size\n",
      "    by getting rid of genes with no mutations (note these are\n",
      "    still stored in the gene_counts attribute). \n",
      "    '''\n",
      "    mutated_genes = c.gene_counts[c.gene_counts > 0].index\n",
      "    c.hit_matrix = c.hit_matrix.ix[mutated_genes]\n",
      "    c.single_matrix = c.single_matrix.ix[mutated_genes]\n",
      "    del c.tests\n",
      "    pickle.dump(c, open(c.data_path + c.report_folder + 'ClinicalObject.p', 'wb'))\n",
      "    return c"
     ],
     "language": "python",
     "metadata": {},
     "outputs": [],
     "prompt_number": "*"
    },
    {
     "cell_type": "code",
     "collapsed": false,
     "input": [
      "import os"
     ],
     "language": "python",
     "metadata": {},
     "outputs": [],
     "prompt_number": 148
    },
    {
     "cell_type": "code",
     "collapsed": false,
     "input": [
      "report_folder = '/'.join(['ucsd_analyses', c.cancer, 'Clinical', c.data_type + '_' + report_ext,''])\n",
      "if not os.path.isdir(c.data_path + report_folder):\n",
      "    os.makedirs(c.data_path + report_folder)"
     ],
     "language": "python",
     "metadata": {},
     "outputs": [],
     "prompt_number": 164
    },
    {
     "cell_type": "code",
     "collapsed": false,
     "input": [
      "c = pickle_cancer_obj(cancer_obj, report_folder)"
     ],
     "language": "python",
     "metadata": {},
     "outputs": [],
     "prompt_number": 165
    },
    {
     "cell_type": "code",
     "collapsed": false,
     "input": [
      "if cancer_obj.data_type in ['mutation','amplification','deletion']:\n",
      "    cancer_obj.filter_bad_pathways(gene_lookup)\n",
      "cancer_obj.report_folder = (cancer_obj.data_path + cancer_obj.data_type + \n",
      "                            '_' + report_ext)\n",
      "del cancer_obj.tests #Can't pickle functions at module level, regenerate with Clinical.get_tests_x\n",
      "pickle.dump(cancer_obj, open(cancer_obj.report_folder + '/ClinicalObject.p', \n",
      "                            'wb'))\n",
      "print cancer + ' sucess!'"
     ],
     "language": "python",
     "metadata": {},
     "outputs": []
    },
    {
     "cell_type": "code",
     "collapsed": false,
     "input": [
      "c.data_path"
     ],
     "language": "python",
     "metadata": {},
     "outputs": [
      {
       "output_type": "pyout",
       "prompt_number": 134,
       "text": [
        "'/cellar/data/TCGA/Firehose__2012_10_24/'"
       ]
      }
     ],
     "prompt_number": 134
    },
    {
     "cell_type": "code",
     "collapsed": false,
     "input": [],
     "language": "python",
     "metadata": {},
     "outputs": [
      {
       "output_type": "pyout",
       "prompt_number": 137,
       "text": [
        "'ucsd_analyses/LAML/mutation'"
       ]
      }
     ],
     "prompt_number": 137
    },
    {
     "cell_type": "code",
     "collapsed": false,
     "input": [
      "c.data_type"
     ],
     "language": "python",
     "metadata": {},
     "outputs": [
      {
       "output_type": "pyout",
       "prompt_number": 136,
       "text": [
        "'mutation'"
       ]
      }
     ],
     "prompt_number": 136
    },
    {
     "cell_type": "code",
     "collapsed": false,
     "input": [
      "c.re"
     ],
     "language": "python",
     "metadata": {},
     "outputs": []
    }
   ],
   "metadata": {}
  }
 ]
}