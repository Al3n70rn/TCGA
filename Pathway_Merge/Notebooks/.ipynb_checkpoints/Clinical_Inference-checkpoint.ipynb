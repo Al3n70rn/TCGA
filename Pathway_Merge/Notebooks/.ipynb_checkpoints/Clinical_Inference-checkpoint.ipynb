{
 "metadata": {
  "name": ""
 },
 "nbformat": 3,
 "nbformat_minor": 0,
 "worksheets": [
  {
   "cells": [
    {
     "cell_type": "markdown",
     "metadata": {},
     "source": [
      "#Predicting Clinical Variables"
     ]
    },
    {
     "cell_type": "code",
     "collapsed": false,
     "input": [
      "cd ../src"
     ],
     "language": "python",
     "metadata": {},
     "outputs": [
      {
       "output_type": "stream",
       "stream": "stdout",
       "text": [
        "/cellar/users/agross/TCGA_Code/TCGA/Pathway_Merge/src\n"
       ]
      }
     ],
     "prompt_number": 1
    },
    {
     "cell_type": "code",
     "collapsed": false,
     "input": [
      "import warnings\n",
      "warnings.filterwarnings('ignore')"
     ],
     "language": "python",
     "metadata": {},
     "outputs": [],
     "prompt_number": 2
    },
    {
     "cell_type": "code",
     "collapsed": false,
     "input": [
      "from Processing.Imports import *\n",
      "from Figures.Survival import survival_stat_plot\n",
      "from Stats.Survival import log_rank\n",
      "from Figures.Survival import survival_and_stats"
     ],
     "language": "python",
     "metadata": {},
     "outputs": [],
     "prompt_number": 3
    },
    {
     "cell_type": "markdown",
     "metadata": {},
     "source": [
      "##Read in Pre-processed Data"
     ]
    },
    {
     "cell_type": "code",
     "collapsed": false,
     "input": [
      "run = get_run('/cellar/data/TCGA/Firehose__2013_05_23/', 'Run_all')\n",
      "cancer = run.load_cancer('HNSC')\n",
      "clinical = cancer.load_clinical()\n",
      "global_vars = cancer.load_global_vars()\n",
      "\n",
      "mut = cancer.load_data('Mutation')\n",
      "mut.uncompress()\n",
      "meth = cancer.load_data('Methylation')\n",
      "cn = cancer.load_data('CN_broad')\n",
      "cn.uncompress()\n",
      "rna = cancer.load_data('mRNASeq')\n",
      "rppa  = cancer.load_data('RPPA')\n",
      "mirna = cancer.load_data('miRNASeq')"
     ],
     "language": "python",
     "metadata": {},
     "outputs": [],
     "prompt_number": 4
    },
    {
     "cell_type": "markdown",
     "metadata": {},
     "source": [
      "###Update patient followup based on most recent data obtained from TCGA Data-Portal \n",
      "* Downloaded from [here](https://tcga-data.nci.nih.gov/tcgafiles/ftp_auth/distro_ftpusers/anonymous/tumor/hnsc/bcr/biotab/clin/) \n",
      "* Contains updated followup on patient outcomes"
     ]
    },
    {
     "cell_type": "code",
     "collapsed": false,
     "input": [
      "from Data.ProcessClinical import format_survival_from_data_portal\n",
      "path  = '/cellar/users/agross/Data/TCGA/HNSC_Followup/'\n",
      "survival, timeline = format_survival_from_data_portal(path, cancer.name)\n",
      "clinical.survival = survival\n",
      "clinical.artificially_censor(5)\n",
      "age = timeline.age"
     ],
     "language": "python",
     "metadata": {},
     "outputs": [],
     "prompt_number": 5
    },
    {
     "cell_type": "code",
     "collapsed": false,
     "input": [
      "surv = clinical.survival.survival_5y"
     ],
     "language": "python",
     "metadata": {},
     "outputs": [],
     "prompt_number": 11
    },
    {
     "cell_type": "markdown",
     "metadata": {},
     "source": [
      "##Clinical/Molecular HPV Status "
     ]
    },
    {
     "cell_type": "markdown",
     "metadata": {},
     "source": [
      "####This file contains the HPV calls from analysis of the sequencing reads \n",
      "* This was obtained from Neil Hayes in March \n",
      "* This should probably be made public with the TCGA marker paper, if not I need to obtain permission to publish it"
     ]
    },
    {
     "cell_type": "code",
     "collapsed": false,
     "input": [
      "hpv_all = pd.read_csv('/cellar/users/agross/hpv_summary_3_20_13_distribute.csv', index_col=0)\n",
      "hpv = hpv_all.Molecular_HPV.map({0:'HPV-', 1:'HPV+'})\n",
      "hpv.name = 'HPV'"
     ],
     "language": "python",
     "metadata": {},
     "outputs": [],
     "prompt_number": 6
    },
    {
     "cell_type": "markdown",
     "metadata": {},
     "source": [
      "####Here I process the clinical HPV marker tests \n",
      "* If either the p15 or the ish testing is positive I call the patient HPV+ \n",
      "* I first use the molecular testing and then fill in the patient with their clinical biomarkers if they do not have sequencing data available"
     ]
    },
    {
     "cell_type": "code",
     "collapsed": false,
     "input": [
      "clin = pd.read_table(path + 'clinical_patient_hnsc.txt', index_col=0, \n",
      "                     na_values=['[Not Available]','[Not Evaluated]'])\n",
      "status = clin[['hpv_status_by_ish_testing','hpv_status_by_p16_testing']]\n",
      "hpv_clin = (status.dropna(how='all') == 'Positive').sum(1) > 0\n",
      "hpv = hpv.ix[true_index(hpv_clin).union(hpv.index)].fillna('HPV+')\n",
      "\n",
      "neg = (status.dropna(how='all') != 'Positive').sum(1) == 2\n",
      "neg = true_index(combine(neg, hpv.ix[neg.index].isnull()) == 'both')\n",
      "for i in neg:\n",
      "    hpv = hpv.set_value(i, 'HPV-')"
     ],
     "language": "python",
     "metadata": {},
     "outputs": [],
     "prompt_number": 7
    },
    {
     "cell_type": "code",
     "collapsed": false,
     "input": [
      "hpv.value_counts()"
     ],
     "language": "python",
     "metadata": {},
     "outputs": [
      {
       "metadata": {},
       "output_type": "pyout",
       "prompt_number": 8,
       "text": [
        "HPV-    257\n",
        "HPV+     45\n",
        "dtype: int64"
       ]
      }
     ],
     "prompt_number": 8
    },
    {
     "cell_type": "markdown",
     "metadata": {},
     "source": [
      "##Support Vector Inference \n",
      "* Using [SVC](http://scikit-learn.org/stable/modules/generated/sklearn.svm.SVC.html) function from [Scikit Learn Package](http://scikit-learn.org/stable/) \n",
      "* Features are the binarized differential expression vectors  \n",
      "  * Have high change in expression from tumor to normal \n",
      "  * Thresholded at 1 standard deviation over the mean to reduce overfitting\n",
      "* Parameters are fit using cross validation, optimizing for AUC score \n",
      "  * I try linear, RBF, and polynomial kernels under a variety of parameters \n",
      "  * The best model in cross validation is fit on the entire dataset \n",
      "* Missing values are filled in based on the model prediction"
     ]
    },
    {
     "cell_type": "code",
     "collapsed": false,
     "input": [
      "from sklearn.cross_validation import train_test_split\n",
      "from sklearn.grid_search import GridSearchCV\n",
      "from sklearn.metrics import auc_score\n",
      "from sklearn.svm import SVC\n",
      "\n",
      "def SVC_fill(feature, df):\n",
      "    gg = df.apply(lambda s: to_quants(s, std=1) > 0, axis=1)\n",
      "    mat = gg\n",
      "    \n",
      "    pats = gg.columns.intersection(feature.index)\n",
      "    X = mat.ix[:, pats].T.as_matrix()\n",
      "    Y = (feature)\n",
      "    Y = np.array(Y.ix[pats])\n",
      "    \n",
      "    X_train, X_test, y_train, y_test = train_test_split(\n",
      "        X, Y, test_size=0.35, random_state=5796543)\n",
      "    \n",
      "    tuned_parameters = [{'kernel': ['rbf'], 'gamma': [0, .1, .05, .01, 1e-3, 1e-4, 1e-5],\n",
      "                         'C': [.1, 1, 10, 100, 1000], 'class_weight': ['auto']},\n",
      "                        {'kernel': ['linear'], 'C': [1, 10, 100, 1000], 'class_weight': ['auto']},\n",
      "                        {'kernel': ['poly'],  'C': [1, 10, 100, 1000], 'class_weight': ['auto']}]\n",
      "    \n",
      "    clf = GridSearchCV(SVC(C=1), tuned_parameters, score_func=auc_score)\n",
      "    clf.fit(X_train, y_train, cv=5);\n",
      "    best = clf.best_estimator_\n",
      "    auc = clf.score(X, Y)\n",
      "    \n",
      "    mat_all = gg.ix[mat.index].T.as_matrix()\n",
      "    inferred = best.predict(mat_all)\n",
      "    inferred = pd.Series(inferred, index=gg.columns)\n",
      "    fun = pd.Series(best.decision_function(mat_all)[:,0], mat.columns)\n",
      "    f = feature.copy()\n",
      "    f = f.ix[inferred.index]\n",
      "    f[f.isnull()] = inferred[f.isnull()]\n",
      "    filled_feature = f.astype(float)\n",
      "    return {'auc': auc, 'model': best, 'decision_function': fun,\n",
      "            'inferred_values': inferred, 'filled_feature': filled_feature} "
     ],
     "language": "python",
     "metadata": {},
     "outputs": [],
     "prompt_number": 13
    },
    {
     "cell_type": "markdown",
     "metadata": {},
     "source": [
      "##HPV \n",
      "* There are 14 patients with expression data but no HPV calls \n",
      "* Here we fit our model to predict the status of those 14 patietns"
     ]
    },
    {
     "cell_type": "code",
     "collapsed": false,
     "input": [
      "ret = SVC_fill(hpv=='HPV+', rna.features.ix['real'])\n",
      "ret['auc']"
     ],
     "language": "python",
     "metadata": {},
     "outputs": [
      {
       "metadata": {},
       "output_type": "pyout",
       "prompt_number": 15,
       "text": [
        "0.97231833910034604"
       ]
      }
     ],
     "prompt_number": 15
    },
    {
     "cell_type": "code",
     "collapsed": false,
     "input": [
      "fun = ret['decision_function']\n",
      "violin_plot_pandas(hpv, fun)"
     ],
     "language": "python",
     "metadata": {},
     "outputs": [
      {
       "metadata": {},
       "output_type": "display_data",
       "png": "[encoded data removed]",
       "text": [
        "<matplotlib.figure.Figure at 0x8c54790>"
       ]
      }
     ],
     "prompt_number": 16
    },
    {
     "cell_type": "markdown",
     "metadata": {},
     "source": [
      "* It looks like we have two patient mis-classified as HPV-\n",
      "* CR-6467\n",
      "  * 40 reads mapping to HPV33, and high expression of p16\n",
      "  * WGS is pending, will probably find more reads \n",
      "* BB-4224 \n",
      "  * Only 1 read mapping to HPV from RNA-seq \n",
      "  * Possibly other type of virus?"
     ]
    },
    {
     "cell_type": "code",
     "collapsed": false,
     "input": [
      "m = true_index(combine(hpv.dropna()=='HPV-', ret['decision_function'] > 0) == 'both')\n",
      "hpv_all.ix[m].dropna(how='all', axis=1).T"
     ],
     "language": "python",
     "metadata": {},
     "outputs": [
      {
       "html": [
        "<div style=\"max-height:1000px;max-width:1500px;overflow:auto;\">\n",
        "<table border=\"1\" class=\"dataframe\">\n",
        "  <thead>\n",
        "    <tr style=\"text-align: right;\">\n",
        "      <th></th>\n",
        "      <th>TCGA-BB-4224</th>\n",
        "      <th>TCGA-CR-6467</th>\n",
        "    </tr>\n",
        "  </thead>\n",
        "  <tbody>\n",
        "    <tr>\n",
        "      <th>Tumor_Site</th>\n",
        "      <td> Oral Tongue</td>\n",
        "      <td>            Tonsil</td>\n",
        "    </tr>\n",
        "    <tr>\n",
        "      <th>Clinical_HPVSite_Indicator</th>\n",
        "      <td>           0</td>\n",
        "      <td>                 1</td>\n",
        "    </tr>\n",
        "    <tr>\n",
        "      <th>Clinical_HPV_Interpretation</th>\n",
        "      <td>    negative</td>\n",
        "      <td>           Missing</td>\n",
        "    </tr>\n",
        "    <tr>\n",
        "      <th>Molecular_HPV</th>\n",
        "      <td>           0</td>\n",
        "      <td>                 0</td>\n",
        "    </tr>\n",
        "    <tr>\n",
        "      <th>Clinical_Staining</th>\n",
        "      <td>     Missing</td>\n",
        "      <td>           Missing</td>\n",
        "    </tr>\n",
        "    <tr>\n",
        "      <th>Harvard_HPV.LowPass.Done</th>\n",
        "      <td>           0</td>\n",
        "      <td>               NaN</td>\n",
        "    </tr>\n",
        "    <tr>\n",
        "      <th>WGS_Baylor</th>\n",
        "      <td>         NaN</td>\n",
        "      <td>        1, pending</td>\n",
        "    </tr>\n",
        "    <tr>\n",
        "      <th>Broad.Exome</th>\n",
        "      <td>           0</td>\n",
        "      <td>                 1</td>\n",
        "    </tr>\n",
        "    <tr>\n",
        "      <th>Broad.Exome.HPV16</th>\n",
        "      <td>           0</td>\n",
        "      <td>                 0</td>\n",
        "    </tr>\n",
        "    <tr>\n",
        "      <th>Broad.Exome.HPV33</th>\n",
        "      <td>           0</td>\n",
        "      <td>                40</td>\n",
        "    </tr>\n",
        "    <tr>\n",
        "      <th>Broad.Exome.HPV35</th>\n",
        "      <td>           0</td>\n",
        "      <td>                 0</td>\n",
        "    </tr>\n",
        "    <tr>\n",
        "      <th>RNA_type_16</th>\n",
        "      <td>           1</td>\n",
        "      <td>                 0</td>\n",
        "    </tr>\n",
        "    <tr>\n",
        "      <th>RNA_type_18</th>\n",
        "      <td>           0</td>\n",
        "      <td>                 0</td>\n",
        "    </tr>\n",
        "    <tr>\n",
        "      <th>RNA_type_2</th>\n",
        "      <td>           0</td>\n",
        "      <td>                 0</td>\n",
        "    </tr>\n",
        "    <tr>\n",
        "      <th>RNA_type_33</th>\n",
        "      <td>           0</td>\n",
        "      <td>                 0</td>\n",
        "    </tr>\n",
        "    <tr>\n",
        "      <th>RNA_type_35</th>\n",
        "      <td>           0</td>\n",
        "      <td>                 0</td>\n",
        "    </tr>\n",
        "    <tr>\n",
        "      <th>maxSequencingSource</th>\n",
        "      <td> RNA_type_16</td>\n",
        "      <td> Broad.Exome.HPV33</td>\n",
        "    </tr>\n",
        "    <tr>\n",
        "      <th>maxSequencingCount</th>\n",
        "      <td>           1</td>\n",
        "      <td>                40</td>\n",
        "    </tr>\n",
        "  </tbody>\n",
        "</table>\n",
        "</div>"
       ],
       "metadata": {},
       "output_type": "pyout",
       "prompt_number": 27,
       "text": [
        "                            TCGA-BB-4224       TCGA-CR-6467\n",
        "Tumor_Site                   Oral Tongue             Tonsil\n",
        "Clinical_HPVSite_Indicator             0                  1\n",
        "Clinical_HPV_Interpretation     negative            Missing\n",
        "Molecular_HPV                          0                  0\n",
        "Clinical_Staining                Missing            Missing\n",
        "Harvard_HPV.LowPass.Done               0                NaN\n",
        "WGS_Baylor                           NaN         1, pending\n",
        "Broad.Exome                            0                  1\n",
        "Broad.Exome.HPV16                      0                  0\n",
        "Broad.Exome.HPV33                      0                 40\n",
        "Broad.Exome.HPV35                      0                  0\n",
        "RNA_type_16                            1                  0\n",
        "RNA_type_18                            0                  0\n",
        "RNA_type_2                             0                  0\n",
        "RNA_type_33                            0                  0\n",
        "RNA_type_35                            0                  0\n",
        "maxSequencingSource          RNA_type_16  Broad.Exome.HPV33\n",
        "maxSequencingCount                     1                 40"
       ]
      }
     ],
     "prompt_number": 27
    },
    {
     "cell_type": "markdown",
     "metadata": {},
     "source": [
      "* We have 6 patients that seem to be mis-classified as HPV+ \n",
      "* 5/6 have had sequencing and have viral reads \n",
      "* Could these be viral infected patients with an aggresive disease? "
     ]
    },
    {
     "cell_type": "code",
     "collapsed": false,
     "input": [
      "m = true_index(combine(hpv.dropna()=='HPV+', ret['decision_function'] < 0) == 'both')\n",
      "hpv_all.ix[m].dropna(how='all', axis=1).T"
     ],
     "language": "python",
     "metadata": {},
     "outputs": [
      {
       "html": [
        "<div style=\"max-height:1000px;max-width:1500px;overflow:auto;\">\n",
        "<table border=\"1\" class=\"dataframe\">\n",
        "  <thead>\n",
        "    <tr style=\"text-align: right;\">\n",
        "      <th></th>\n",
        "      <th>TCGA-BA-4077</th>\n",
        "      <th>TCGA-BB-7872</th>\n",
        "      <th>TCGA-CR-7369</th>\n",
        "      <th>TCGA-CV-5971</th>\n",
        "      <th>TCGA-CV-6961</th>\n",
        "      <th>TCGA-CV-7100</th>\n",
        "    </tr>\n",
        "  </thead>\n",
        "  <tbody>\n",
        "    <tr>\n",
        "      <th>Tumor_Site</th>\n",
        "      <td> Base of Tongue</td>\n",
        "      <td> NaN</td>\n",
        "      <td> Oral Cavity</td>\n",
        "      <td> Oral Tongue</td>\n",
        "      <td> Oral Tongue</td>\n",
        "      <td> Oral Cavity</td>\n",
        "    </tr>\n",
        "    <tr>\n",
        "      <th>Clinical_HPVSite_Indicator</th>\n",
        "      <td>              1</td>\n",
        "      <td> NaN</td>\n",
        "      <td>           0</td>\n",
        "      <td>           0</td>\n",
        "      <td>           0</td>\n",
        "      <td>           0</td>\n",
        "    </tr>\n",
        "    <tr>\n",
        "      <th>Clinical_HPV_Interpretation</th>\n",
        "      <td>       positive</td>\n",
        "      <td> NaN</td>\n",
        "      <td>    negative</td>\n",
        "      <td>    negative</td>\n",
        "      <td>    negative</td>\n",
        "      <td>    negative</td>\n",
        "    </tr>\n",
        "    <tr>\n",
        "      <th>Molecular_HPV</th>\n",
        "      <td>              1</td>\n",
        "      <td> NaN</td>\n",
        "      <td>           1</td>\n",
        "      <td>           1</td>\n",
        "      <td>           1</td>\n",
        "      <td>           1</td>\n",
        "    </tr>\n",
        "    <tr>\n",
        "      <th>Clinical_Staining</th>\n",
        "      <td>              1</td>\n",
        "      <td> NaN</td>\n",
        "      <td>     Missing</td>\n",
        "      <td>           1</td>\n",
        "      <td>           1</td>\n",
        "      <td>           1</td>\n",
        "    </tr>\n",
        "    <tr>\n",
        "      <th>p16_OUTSIDE_BCR_Update</th>\n",
        "      <td>              1</td>\n",
        "      <td> NaN</td>\n",
        "      <td>         NaN</td>\n",
        "      <td>           1</td>\n",
        "      <td>           1</td>\n",
        "      <td>           1</td>\n",
        "    </tr>\n",
        "    <tr>\n",
        "      <th>Harvard_HPV.LowPass.Done</th>\n",
        "      <td>              1</td>\n",
        "      <td> NaN</td>\n",
        "      <td>         NaN</td>\n",
        "      <td>           1</td>\n",
        "      <td>         NaN</td>\n",
        "      <td>         NaN</td>\n",
        "    </tr>\n",
        "    <tr>\n",
        "      <th>LowPassHarvard.Strain</th>\n",
        "      <td>          hpv16</td>\n",
        "      <td> NaN</td>\n",
        "      <td>         NaN</td>\n",
        "      <td>       hpv16</td>\n",
        "      <td>         NaN</td>\n",
        "      <td>         NaN</td>\n",
        "    </tr>\n",
        "    <tr>\n",
        "      <th>LowPassHarvard.Call</th>\n",
        "      <td>       definite</td>\n",
        "      <td> NaN</td>\n",
        "      <td>         NaN</td>\n",
        "      <td>    definite</td>\n",
        "      <td>         NaN</td>\n",
        "      <td>         NaN</td>\n",
        "    </tr>\n",
        "    <tr>\n",
        "      <th>WGS_Broad</th>\n",
        "      <td>              1</td>\n",
        "      <td> NaN</td>\n",
        "      <td>         NaN</td>\n",
        "      <td>         NaN</td>\n",
        "      <td>           1</td>\n",
        "      <td>           1</td>\n",
        "    </tr>\n",
        "    <tr>\n",
        "      <th>WGS_HPV16</th>\n",
        "      <td>       1.69e+04</td>\n",
        "      <td> NaN</td>\n",
        "      <td>         NaN</td>\n",
        "      <td>         NaN</td>\n",
        "      <td>    8.81e+03</td>\n",
        "      <td>           0</td>\n",
        "    </tr>\n",
        "    <tr>\n",
        "      <th>WGS_HPV33</th>\n",
        "      <td>              0</td>\n",
        "      <td> NaN</td>\n",
        "      <td>         NaN</td>\n",
        "      <td>         NaN</td>\n",
        "      <td>           0</td>\n",
        "      <td>    2.25e+04</td>\n",
        "    </tr>\n",
        "    <tr>\n",
        "      <th>Broad.Exome</th>\n",
        "      <td>              1</td>\n",
        "      <td> NaN</td>\n",
        "      <td>           0</td>\n",
        "      <td>           1</td>\n",
        "      <td>           1</td>\n",
        "      <td>           1</td>\n",
        "    </tr>\n",
        "    <tr>\n",
        "      <th>Broad.Exome.HPV16</th>\n",
        "      <td>             26</td>\n",
        "      <td> NaN</td>\n",
        "      <td>           0</td>\n",
        "      <td>           3</td>\n",
        "      <td>          13</td>\n",
        "      <td>           0</td>\n",
        "    </tr>\n",
        "    <tr>\n",
        "      <th>Broad.Exome.HPV33</th>\n",
        "      <td>              0</td>\n",
        "      <td> NaN</td>\n",
        "      <td>           0</td>\n",
        "      <td>           0</td>\n",
        "      <td>           0</td>\n",
        "      <td>          64</td>\n",
        "    </tr>\n",
        "    <tr>\n",
        "      <th>Broad.Exome.HPV35</th>\n",
        "      <td>              0</td>\n",
        "      <td> NaN</td>\n",
        "      <td>           0</td>\n",
        "      <td>           0</td>\n",
        "      <td>           0</td>\n",
        "      <td>           0</td>\n",
        "    </tr>\n",
        "    <tr>\n",
        "      <th>RNA_type_16</th>\n",
        "      <td>       1.13e+04</td>\n",
        "      <td> NaN</td>\n",
        "      <td>     6.9e+03</td>\n",
        "      <td>    1.99e+03</td>\n",
        "      <td>    1.45e+04</td>\n",
        "      <td>           0</td>\n",
        "    </tr>\n",
        "    <tr>\n",
        "      <th>RNA_type_18</th>\n",
        "      <td>              0</td>\n",
        "      <td> NaN</td>\n",
        "      <td>           0</td>\n",
        "      <td>           0</td>\n",
        "      <td>           0</td>\n",
        "      <td>           0</td>\n",
        "    </tr>\n",
        "    <tr>\n",
        "      <th>RNA_type_2</th>\n",
        "      <td>              0</td>\n",
        "      <td> NaN</td>\n",
        "      <td>           0</td>\n",
        "      <td>           0</td>\n",
        "      <td>           0</td>\n",
        "      <td>           0</td>\n",
        "    </tr>\n",
        "    <tr>\n",
        "      <th>RNA_type_33</th>\n",
        "      <td>              0</td>\n",
        "      <td> NaN</td>\n",
        "      <td>           0</td>\n",
        "      <td>           0</td>\n",
        "      <td>           0</td>\n",
        "      <td>    1.48e+04</td>\n",
        "    </tr>\n",
        "    <tr>\n",
        "      <th>RNA_type_35</th>\n",
        "      <td>              0</td>\n",
        "      <td> NaN</td>\n",
        "      <td>           0</td>\n",
        "      <td>           0</td>\n",
        "      <td>           0</td>\n",
        "      <td>           0</td>\n",
        "    </tr>\n",
        "    <tr>\n",
        "      <th>maxSequencingSource</th>\n",
        "      <td>      WGS_HPV16</td>\n",
        "      <td> NaN</td>\n",
        "      <td> RNA_type_16</td>\n",
        "      <td> RNA_type_16</td>\n",
        "      <td> RNA_type_16</td>\n",
        "      <td>   WGS_HPV33</td>\n",
        "    </tr>\n",
        "    <tr>\n",
        "      <th>maxSequencingCount</th>\n",
        "      <td>       1.69e+04</td>\n",
        "      <td> NaN</td>\n",
        "      <td>     6.9e+03</td>\n",
        "      <td>    1.99e+03</td>\n",
        "      <td>    1.45e+04</td>\n",
        "      <td>    2.25e+04</td>\n",
        "    </tr>\n",
        "  </tbody>\n",
        "</table>\n",
        "</div>"
       ],
       "metadata": {},
       "output_type": "pyout",
       "prompt_number": 16,
       "text": [
        "                               TCGA-BA-4077 TCGA-BB-7872 TCGA-CR-7369 TCGA-CV-5971 TCGA-CV-6961 TCGA-CV-7100\n",
        "Tumor_Site                   Base of Tongue          NaN  Oral Cavity  Oral Tongue  Oral Tongue  Oral Cavity\n",
        "Clinical_HPVSite_Indicator                1          NaN            0            0            0            0\n",
        "Clinical_HPV_Interpretation        positive          NaN     negative     negative     negative     negative\n",
        "Molecular_HPV                             1          NaN            1            1            1            1\n",
        "Clinical_Staining                         1          NaN      Missing            1            1            1\n",
        "p16_OUTSIDE_BCR_Update                    1          NaN          NaN            1            1            1\n",
        "Harvard_HPV.LowPass.Done                  1          NaN          NaN            1          NaN          NaN\n",
        "LowPassHarvard.Strain                 hpv16          NaN          NaN        hpv16          NaN          NaN\n",
        "LowPassHarvard.Call                definite          NaN          NaN     definite          NaN          NaN\n",
        "WGS_Broad                                 1          NaN          NaN          NaN            1            1\n",
        "WGS_HPV16                          1.69e+04          NaN          NaN          NaN     8.81e+03            0\n",
        "WGS_HPV33                                 0          NaN          NaN          NaN            0     2.25e+04\n",
        "Broad.Exome                               1          NaN            0            1            1            1\n",
        "Broad.Exome.HPV16                        26          NaN            0            3           13            0\n",
        "Broad.Exome.HPV33                         0          NaN            0            0            0           64\n",
        "Broad.Exome.HPV35                         0          NaN            0            0            0            0\n",
        "RNA_type_16                        1.13e+04          NaN      6.9e+03     1.99e+03     1.45e+04            0\n",
        "RNA_type_18                               0          NaN            0            0            0            0\n",
        "RNA_type_2                                0          NaN            0            0            0            0\n",
        "RNA_type_33                               0          NaN            0            0            0     1.48e+04\n",
        "RNA_type_35                               0          NaN            0            0            0            0\n",
        "maxSequencingSource               WGS_HPV16          NaN  RNA_type_16  RNA_type_16  RNA_type_16    WGS_HPV33\n",
        "maxSequencingCount                 1.69e+04          NaN      6.9e+03     1.99e+03     1.45e+04     2.25e+04"
       ]
      }
     ],
     "prompt_number": 16
    },
    {
     "cell_type": "markdown",
     "metadata": {},
     "source": [
      "* These mis-classifications seem to behave more like the expression classifier than the Clinical/Sequencing classifier.  \n",
      "* We really can't say whether this is due to diffences among HPV infected cancers, or if its just due to mis-classification"
     ]
    },
    {
     "cell_type": "code",
     "collapsed": false,
     "input": [
      "draw_survival_curves(combine(hpv.dropna()=='HPV+', ret['decision_function'] < 0), surv, show=True)"
     ],
     "language": "python",
     "metadata": {},
     "outputs": [
      {
       "html": [
        "<img src='data:image/png;base64,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'>"
       ],
       "metadata": {},
       "output_type": "pyout",
       "prompt_number": 30,
       "text": [
        "<Reports.NotebookTools.Show at 0x8a68610>"
       ]
      }
     ],
     "prompt_number": 30
    },
    {
     "cell_type": "markdown",
     "metadata": {},
     "source": [
      "* For now, we'll use the Clinical/Sequencing calls and only infer HPV calls with no data"
     ]
    },
    {
     "cell_type": "code",
     "collapsed": false,
     "input": [
      "hpv_inferred = ret['filled_feature']\n",
      "hpv_inferred = (hpv_inferred == 1).combine_first(hpv=='HPV+')"
     ],
     "language": "python",
     "metadata": {},
     "outputs": [],
     "prompt_number": 51
    },
    {
     "cell_type": "code",
     "collapsed": false,
     "input": [
      "get_surv_fit_lr(surv, hpv_inferred)"
     ],
     "language": "python",
     "metadata": {},
     "outputs": [
      {
       "html": [
        "<div style=\"max-height:1000px;max-width:1500px;overflow:auto;\">\n",
        "<table border=\"1\" class=\"dataframe\">\n",
        "  <thead>\n",
        "    <tr>\n",
        "      <th></th>\n",
        "      <th colspan=\"2\" halign=\"left\">Stats</th>\n",
        "      <th colspan=\"3\" halign=\"left\">Median Survival</th>\n",
        "      <th colspan=\"3\" halign=\"left\">5y Survival</th>\n",
        "      <th colspan=\"2\" halign=\"left\">Log-Rank</th>\n",
        "    </tr>\n",
        "    <tr>\n",
        "      <th></th>\n",
        "      <th># Patients</th>\n",
        "      <th># Events</th>\n",
        "      <th>Median</th>\n",
        "      <th>Lower</th>\n",
        "      <th>Upper</th>\n",
        "      <th>Surv</th>\n",
        "      <th>Lower</th>\n",
        "      <th>Upper</th>\n",
        "      <th>chi2</th>\n",
        "      <th>p</th>\n",
        "    </tr>\n",
        "  </thead>\n",
        "  <tbody>\n",
        "    <tr>\n",
        "      <th></th>\n",
        "      <td>    </td>\n",
        "      <td>    </td>\n",
        "      <td>     </td>\n",
        "      <td>     </td>\n",
        "      <td>     </td>\n",
        "      <td>      </td>\n",
        "      <td>      </td>\n",
        "      <td>      </td>\n",
        "      <td> 11.1</td>\n",
        "      <td> 0.000853</td>\n",
        "    </tr>\n",
        "    <tr>\n",
        "      <th>0</th>\n",
        "      <td> 268</td>\n",
        "      <td> 111</td>\n",
        "      <td> 2.58</td>\n",
        "      <td>  1.9</td>\n",
        "      <td> 4.58</td>\n",
        "      <td> 0.399</td>\n",
        "      <td> 0.321</td>\n",
        "      <td> 0.494</td>\n",
        "      <td>     </td>\n",
        "      <td>         </td>\n",
        "    </tr>\n",
        "    <tr>\n",
        "      <th>1</th>\n",
        "      <td>  48</td>\n",
        "      <td>   8</td>\n",
        "      <td>  NaN</td>\n",
        "      <td> 4.79</td>\n",
        "      <td>  NaN</td>\n",
        "      <td> 0.501</td>\n",
        "      <td>  0.27</td>\n",
        "      <td>  0.93</td>\n",
        "      <td>     </td>\n",
        "      <td>         </td>\n",
        "    </tr>\n",
        "  </tbody>\n",
        "</table>\n",
        "</div>"
       ],
       "metadata": {},
       "output_type": "pyout",
       "prompt_number": 52,
       "text": [
        "       Stats          Median Survival             5y Survival               Log-Rank          \n",
        "  # Patients # Events          Median Lower Upper        Surv  Lower  Upper     chi2         p\n",
        "                                                                                11.1  0.000853\n",
        "0        268      111            2.58   1.9  4.58       0.399  0.321  0.494                   \n",
        "1         48        8             NaN  4.79   NaN       0.501   0.27   0.93                   "
       ]
      }
     ],
     "prompt_number": 52
    },
    {
     "cell_type": "code",
     "collapsed": false,
     "input": [
      "survival_and_stats(hpv_inferred, surv)"
     ],
     "language": "python",
     "metadata": {},
     "outputs": [
      {
       "metadata": {},
       "output_type": "display_data",
       "png": "[encoded data removed]",
       "text": [
        "<matplotlib.figure.Figure at 0x8a21c50>"
       ]
      }
     ],
     "prompt_number": 53
    },
    {
     "cell_type": "markdown",
     "metadata": {},
     "source": [
      "##Get rid of HPV for expression correlations"
     ]
    },
    {
     "cell_type": "code",
     "collapsed": false,
     "input": [
      "filters = pd.concat([age>=100, hpv_inferred], axis=1)\n",
      "clinical_filter = filters.sum(1) == 0\n",
      "keepers_o = true_index(clinical_filter)"
     ],
     "language": "python",
     "metadata": {},
     "outputs": [],
     "prompt_number": 60
    },
    {
     "cell_type": "markdown",
     "metadata": {},
     "source": [
      "##Create and save new phenotype data objects \n",
      "* These contain meta-features that are sensative to the background patient set\n",
      "* The mutation and copy number data-sets don't need to be regenerated \n",
      "* These are saved in a seperate directory"
     ]
    },
    {
     "cell_type": "code",
     "collapsed": false,
     "input": [
      "from Initialization.InitializeReal import RealDataset\n",
      "from Processing.Helpers import make_path_dump\n",
      "rna = RealDataset(run, cancer, 'mRNASeq', keepers_o)\n",
      "meth = RealDataset(run, cancer, 'Methylation', keepers_o)\n",
      "mirna = RealDataset(run, cancer, 'miRNASeq', keepers_o, create_meta_features=False)\n",
      "\n",
      "make_path_dump(rna, rna.path + '/store/no_hpv.p')\n",
      "make_path_dump(meth, meth.path + '/store/no_hpv.p')\n",
      "make_path_dump(mirna, mirna.path + '/store/no_hpv.p')"
     ],
     "language": "python",
     "metadata": {},
     "outputs": [],
     "prompt_number": 61
    },
    {
     "cell_type": "markdown",
     "metadata": {},
     "source": [
      "##Clinical variables \n",
      "* Need to do some scrubbing to make them interpretable \n",
      "* Tumor subdivision are larger sub-groups to make comparative analysis more feasable"
     ]
    },
    {
     "cell_type": "code",
     "collapsed": false,
     "input": [
      "stage = clinical.stage.pathologicstage.ix[keepers_o].fillna('nx')\n",
      "stage = stage.dropna().map(lambda s: s.replace('a','').replace('b',''))\n",
      "\n",
      "lymph_stage = clinical.stage.pathologicn.ix[keepers_o]\n",
      "lymph_stage = lymph_stage.replace('nx', nan).dropna().map(lambda s: s[:2])\n",
      "\n",
      "old_age = (age >= 75).map({True: 'Age > 75', False: 'Age < 75'})\n",
      "pack_years = py = clinical.clinical.numberpackyearssmoked.dropna().astype(float)\n",
      "\n",
      "group = [['oral tongue','oral cavity','floor of mouth','buccal mucosa','alveolar ridge','hard palate','lip'],\n",
      "         ['oropharynx','tonsil','base of tongue'],\n",
      "         #['hypopharynx'],\n",
      "         ['larynx']]\n",
      "groups = ['oral cavity','oropharynx','larynx']\n",
      "tumor_subdivision = pd.Series({idx: groups[i] for i,g in enumerate(group) for idx,j in \n",
      "                               clinical.clinical.anatomicneoplasmsubdivision.iteritems() if j in g})\n",
      "\n",
      "invasion = clinical.clinical.perineuralinvasionpresent.replace('nan', nan)\n",
      "invasion = invasion.fillna('Missing')\n",
      "\n",
      "spread = clinical.clinical.presenceofpathologicalnodalextracapsularspread\n",
      "spread = spread.map({'no extranodal extension': 'no', 'microscopic extension':'yes', \n",
      "                     'gross extension':'yes'}).dropna()\n",
      "\n",
      "year = clinical.clinical.yearofinitialpathologicdiagnosis\n",
      "year = year.replace('[Discrepancy]', nan).astype(float)\n",
      "\n",
      "lymph = lymph_stage.ix[keepers_o] != 'n0'\n",
      "lymph_status = combine(lymph, spread.ix[keepers_o]=='yes')\n",
      "lymph_status = lymph_status.map({'neither': 'n0', lymph.name: 'lymph_node', 'both': 'extra_capsular_spread'})\n",
      "lymph_status = (lymph_status == 'extra_capsular_spread').astype(float)"
     ],
     "language": "python",
     "metadata": {},
     "outputs": [],
     "prompt_number": 63
    },
    {
     "cell_type": "markdown",
     "metadata": {},
     "source": [
      "##Smoking \n",
      "* I'm fitting the model on non-smokers verses current smokers and filling in the rest \n",
      "* I use the background genes here because this should not be a cancer specific event \n",
      "* Much of the variation in the background is tissue specific so I drop the genes that expression changes across tissues"
     ]
    },
    {
     "cell_type": "code",
     "collapsed": false,
     "input": [
      "smoker = clinical.clinical.tobaccosmokinghistory\n",
      "smoker = smoker[smoker.isin(['current smoker','lifelong non-smoker'])] == 'lifelong non-smoker'"
     ],
     "language": "python",
     "metadata": {},
     "outputs": [],
     "prompt_number": 64
    },
    {
     "cell_type": "code",
     "collapsed": false,
     "input": [
      "clinical.clinical.tobaccosmokinghistory.value_counts()"
     ],
     "language": "python",
     "metadata": {},
     "outputs": [
      {
       "metadata": {},
       "output_type": "pyout",
       "prompt_number": 65,
       "text": [
        "current smoker                                 112\n",
        "current reformed smoker for < or = 15 years     91\n",
        "lifelong non-smoker                             62\n",
        "current reformed smoker for > 15 years          56\n",
        "dtype: int64"
       ]
      }
     ],
     "prompt_number": 65
    },
    {
     "cell_type": "code",
     "collapsed": false,
     "input": [
      "from Initialization.InitializeReal import exp_change"
     ],
     "language": "python",
     "metadata": {},
     "outputs": [],
     "prompt_number": 73
    },
    {
     "cell_type": "code",
     "collapsed": false,
     "input": [
      "bg_genes = rna.global_loadings.background.dropna().index\n",
      "background = rna.df.ix[bg_genes, keepers_o].xs('01', axis=1, level=1)"
     ],
     "language": "python",
     "metadata": {},
     "outputs": [],
     "prompt_number": 66
    },
    {
     "cell_type": "code",
     "collapsed": false,
     "input": [
      "ts = screen_feature(tumor_subdivision, kruskal_pandas, background)\n",
      "bg = background.ix[true_index(ts.p > .1)]"
     ],
     "language": "python",
     "metadata": {},
     "outputs": [],
     "prompt_number": 115
    },
    {
     "cell_type": "code",
     "collapsed": false,
     "input": [
      "ret = SVC_fill(smoker, bg)\n",
      "ret['auc']"
     ],
     "language": "python",
     "metadata": {},
     "outputs": [
      {
       "metadata": {},
       "output_type": "pyout",
       "prompt_number": 121,
       "text": [
        "0.9147286821705426"
       ]
      }
     ],
     "prompt_number": 121
    },
    {
     "cell_type": "code",
     "collapsed": false,
     "input": [
      "figsize(10,6)\n",
      "fun = ret['decision_function']\n",
      "violin_plot_pandas(clinical.clinical.tobaccosmokinghistory, fun)"
     ],
     "language": "python",
     "metadata": {},
     "outputs": [
      {
       "metadata": {},
       "output_type": "display_data",
       "png": "[encoded data removed]",
       "text": [
        "<matplotlib.figure.Figure at 0xc461f10>"
       ]
      }
     ],
     "prompt_number": 128
    },
    {
     "cell_type": "code",
     "collapsed": false,
     "input": [
      "get_surv_fit_lr(surv, clinical.clinical.tobaccosmokinghistory)"
     ],
     "language": "python",
     "metadata": {},
     "outputs": [
      {
       "html": [
        "<div style=\"max-height:1000px;max-width:1500px;overflow:auto;\">\n",
        "<table border=\"1\" class=\"dataframe\">\n",
        "  <thead>\n",
        "    <tr>\n",
        "      <th></th>\n",
        "      <th colspan=\"2\" halign=\"left\">Stats</th>\n",
        "      <th colspan=\"3\" halign=\"left\">Median Survival</th>\n",
        "      <th colspan=\"3\" halign=\"left\">5y Survival</th>\n",
        "      <th colspan=\"2\" halign=\"left\">Log-Rank</th>\n",
        "    </tr>\n",
        "    <tr>\n",
        "      <th></th>\n",
        "      <th># Patients</th>\n",
        "      <th># Events</th>\n",
        "      <th>Median</th>\n",
        "      <th>Lower</th>\n",
        "      <th>Upper</th>\n",
        "      <th>Surv</th>\n",
        "      <th>Lower</th>\n",
        "      <th>Upper</th>\n",
        "      <th>chi2</th>\n",
        "      <th>p</th>\n",
        "    </tr>\n",
        "  </thead>\n",
        "  <tbody>\n",
        "    <tr>\n",
        "      <th></th>\n",
        "      <td>    </td>\n",
        "      <td>   </td>\n",
        "      <td>     </td>\n",
        "      <td>     </td>\n",
        "      <td>     </td>\n",
        "      <td>      </td>\n",
        "      <td>      </td>\n",
        "      <td>      </td>\n",
        "      <td> 16.5</td>\n",
        "      <td> 0.00237</td>\n",
        "    </tr>\n",
        "    <tr>\n",
        "      <th>current smoker</th>\n",
        "      <td> 112</td>\n",
        "      <td> 45</td>\n",
        "      <td>  2.2</td>\n",
        "      <td> 1.43</td>\n",
        "      <td> 4.36</td>\n",
        "      <td> 0.239</td>\n",
        "      <td> 0.123</td>\n",
        "      <td> 0.464</td>\n",
        "      <td>     </td>\n",
        "      <td>        </td>\n",
        "    </tr>\n",
        "    <tr>\n",
        "      <th>current reformed smoker for &lt; or </th>\n",
        "      <td>  91</td>\n",
        "      <td> 40</td>\n",
        "      <td> 2.58</td>\n",
        "      <td> 2.16</td>\n",
        "      <td>  NaN</td>\n",
        "      <td>   NaN</td>\n",
        "      <td>   NaN</td>\n",
        "      <td>   NaN</td>\n",
        "      <td>     </td>\n",
        "      <td>        </td>\n",
        "    </tr>\n",
        "    <tr>\n",
        "      <th>lifelong non-smoker</th>\n",
        "      <td>  62</td>\n",
        "      <td> 17</td>\n",
        "      <td> 4.82</td>\n",
        "      <td> 4.49</td>\n",
        "      <td>  NaN</td>\n",
        "      <td> 0.433</td>\n",
        "      <td>  0.24</td>\n",
        "      <td>  0.78</td>\n",
        "      <td>     </td>\n",
        "      <td>        </td>\n",
        "    </tr>\n",
        "    <tr>\n",
        "      <th>current reformed smoker for &gt; 15 years</th>\n",
        "      <td>  56</td>\n",
        "      <td> 13</td>\n",
        "      <td>  NaN</td>\n",
        "      <td>  NaN</td>\n",
        "      <td>  NaN</td>\n",
        "      <td> 0.734</td>\n",
        "      <td> 0.619</td>\n",
        "      <td>  0.87</td>\n",
        "      <td>     </td>\n",
        "      <td>        </td>\n",
        "    </tr>\n",
        "  </tbody>\n",
        "</table>\n",
        "</div>"
       ],
       "metadata": {},
       "output_type": "pyout",
       "prompt_number": 129,
       "text": [
        "                                            Stats          Median Survival             5y Survival               Log-Rank         \n",
        "                                       # Patients # Events          Median Lower Upper        Surv  Lower  Upper     chi2        p\n",
        "                                                                                                                     16.5  0.00237\n",
        "current smoker                                112       45             2.2  1.43  4.36       0.239  0.123  0.464                  \n",
        "current reformed smoker for < or               91       40            2.58  2.16   NaN         NaN    NaN    NaN                  \n",
        "lifelong non-smoker                            62       17            4.82  4.49   NaN       0.433   0.24   0.78                  \n",
        "current reformed smoker for > 15 years         56       13             NaN   NaN   NaN       0.734  0.619   0.87                  "
       ]
      }
     ],
     "prompt_number": 129
    },
    {
     "cell_type": "code",
     "collapsed": false,
     "input": [
      "smoker_inferred = 1.*(ret['filled_feature']==False)"
     ],
     "language": "python",
     "metadata": {},
     "outputs": [],
     "prompt_number": 130
    },
    {
     "cell_type": "code",
     "collapsed": false,
     "input": [
      "get_surv_fit_lr(surv, smoker_inferred)"
     ],
     "language": "python",
     "metadata": {},
     "outputs": [
      {
       "html": [
        "<div style=\"max-height:1000px;max-width:1500px;overflow:auto;\">\n",
        "<table border=\"1\" class=\"dataframe\">\n",
        "  <thead>\n",
        "    <tr>\n",
        "      <th></th>\n",
        "      <th colspan=\"2\" halign=\"left\">Stats</th>\n",
        "      <th colspan=\"3\" halign=\"left\">Median Survival</th>\n",
        "      <th colspan=\"3\" halign=\"left\">5y Survival</th>\n",
        "      <th colspan=\"2\" halign=\"left\">Log-Rank</th>\n",
        "    </tr>\n",
        "    <tr>\n",
        "      <th></th>\n",
        "      <th># Patients</th>\n",
        "      <th># Events</th>\n",
        "      <th>Median</th>\n",
        "      <th>Lower</th>\n",
        "      <th>Upper</th>\n",
        "      <th>Surv</th>\n",
        "      <th>Lower</th>\n",
        "      <th>Upper</th>\n",
        "      <th>chi2</th>\n",
        "      <th>p</th>\n",
        "    </tr>\n",
        "  </thead>\n",
        "  <tbody>\n",
        "    <tr>\n",
        "      <th></th>\n",
        "      <td>    </td>\n",
        "      <td>   </td>\n",
        "      <td>     </td>\n",
        "      <td>     </td>\n",
        "      <td>     </td>\n",
        "      <td>      </td>\n",
        "      <td>      </td>\n",
        "      <td>      </td>\n",
        "      <td> 4.49</td>\n",
        "      <td> 0.034</td>\n",
        "    </tr>\n",
        "    <tr>\n",
        "      <th>1</th>\n",
        "      <td> 202</td>\n",
        "      <td> 93</td>\n",
        "      <td> 2.21</td>\n",
        "      <td> 1.57</td>\n",
        "      <td> 4.36</td>\n",
        "      <td> 0.371</td>\n",
        "      <td>  0.29</td>\n",
        "      <td> 0.476</td>\n",
        "      <td>     </td>\n",
        "      <td>      </td>\n",
        "    </tr>\n",
        "    <tr>\n",
        "      <th>0</th>\n",
        "      <td>  56</td>\n",
        "      <td> 18</td>\n",
        "      <td> 4.49</td>\n",
        "      <td>  2.7</td>\n",
        "      <td>  NaN</td>\n",
        "      <td> 0.479</td>\n",
        "      <td> 0.301</td>\n",
        "      <td> 0.762</td>\n",
        "      <td>     </td>\n",
        "      <td>      </td>\n",
        "    </tr>\n",
        "  </tbody>\n",
        "</table>\n",
        "</div>"
       ],
       "metadata": {},
       "output_type": "pyout",
       "prompt_number": 131,
       "text": [
        "       Stats          Median Survival             5y Survival               Log-Rank       \n",
        "  # Patients # Events          Median Lower Upper        Surv  Lower  Upper     chi2      p\n",
        "                                                                                4.49  0.034\n",
        "1        202       93            2.21  1.57  4.36       0.371   0.29  0.476                \n",
        "0         56       18            4.49   2.7   NaN       0.479  0.301  0.762                "
       ]
      }
     ],
     "prompt_number": 131
    },
    {
     "cell_type": "code",
     "collapsed": false,
     "input": [
      "survival_and_stats(smoker, surv)"
     ],
     "language": "python",
     "metadata": {},
     "outputs": [
      {
       "metadata": {},
       "output_type": "display_data",
       "png": "[encoded data removed]",
       "text": [
        "<matplotlib.figure.Figure at 0xc3d8050>"
       ]
      }
     ],
     "prompt_number": 136
    },
    {
     "cell_type": "code",
     "collapsed": false,
     "input": [
      "survival_and_stats(smoker_inferred, surv)"
     ],
     "language": "python",
     "metadata": {},
     "outputs": [
      {
       "metadata": {},
       "output_type": "display_data",
       "png": "[encoded data removed]",
       "text": [
        "<matplotlib.figure.Figure at 0x97e24d0>"
       ]
      }
     ],
     "prompt_number": 133
    },
    {
     "cell_type": "markdown",
     "metadata": {},
     "source": [
      "##Drinking \n",
      "* This is a tough one to split but for now I'm fitting on patients that:\n",
      "  * Had less than 7 drinks per week\n",
      "  * Had more than 20 drinks per week\n",
      "* I fit the model on background genes, for these two classes\n",
      "* I infer values for <b>all</b> patients and use that as my feature"
     ]
    },
    {
     "cell_type": "code",
     "collapsed": false,
     "input": [
      "figsize(6,4)\n",
      "clinical.clinical.amountofalcoholconsumptionperday.astype(float).hist()"
     ],
     "language": "python",
     "metadata": {},
     "outputs": [
      {
       "metadata": {},
       "output_type": "pyout",
       "prompt_number": 141,
       "text": [
        "<matplotlib.axes.AxesSubplot at 0x8e4ad10>"
       ]
      },
      {
       "metadata": {},
       "output_type": "display_data",
       "png": "[encoded data removed]",
       "text": [
        "<matplotlib.figure.Figure at 0x1328b550>"
       ]
      }
     ],
     "prompt_number": 141
    },
    {
     "cell_type": "code",
     "collapsed": false,
     "input": [
      "clinical.clinical.alcoholhistorydocumented.value_counts()"
     ],
     "language": "python",
     "metadata": {},
     "outputs": [
      {
       "metadata": {},
       "output_type": "pyout",
       "prompt_number": 142,
       "text": [
        "yes    223\n",
        "no     102\n",
        "dtype: int64"
       ]
      }
     ],
     "prompt_number": 142
    },
    {
     "cell_type": "code",
     "collapsed": false,
     "input": [
      "freq = clinical.clinical.frequencyofalcoholconsumption.astype(float)\n",
      "count = clinical.clinical.amountofalcoholconsumptionperday.astype(float)\n",
      "drinker = (freq * count).dropna()\n",
      "drinker = drinker[(drinker < 7) + (drinker > 20)]\n",
      "drinker = drinker > 10"
     ],
     "language": "python",
     "metadata": {},
     "outputs": [],
     "prompt_number": 202
    },
    {
     "cell_type": "code",
     "collapsed": false,
     "input": [
      "drinker.value_counts()"
     ],
     "language": "python",
     "metadata": {},
     "outputs": [
      {
       "metadata": {},
       "output_type": "pyout",
       "prompt_number": 203,
       "text": [
        "True     56\n",
        "False    45\n",
        "dtype: int64"
       ]
      }
     ],
     "prompt_number": 203
    },
    {
     "cell_type": "code",
     "collapsed": true,
     "input": [
      "ret = SVC_fill(drinker, bg)\n",
      "ret['auc']"
     ],
     "language": "python",
     "metadata": {},
     "outputs": [
      {
       "metadata": {},
       "output_type": "pyout",
       "prompt_number": 204,
       "text": [
        "0.86111111111111116"
       ]
      }
     ],
     "prompt_number": 204
    },
    {
     "cell_type": "code",
     "collapsed": false,
     "input": [
      "fun = ret['decision_function']\n",
      "violin_plot_pandas(drinker, fun)"
     ],
     "language": "python",
     "metadata": {},
     "outputs": [
      {
       "metadata": {},
       "output_type": "display_data",
       "png": "[encoded data removed]",
       "text": [
        "<matplotlib.figure.Figure at 0xa228510>"
       ]
      }
     ],
     "prompt_number": 205
    },
    {
     "cell_type": "code",
     "collapsed": false,
     "input": [
      "series_scatter((freq * count).dropna(), fun)"
     ],
     "language": "python",
     "metadata": {},
     "outputs": [
      {
       "metadata": {},
       "output_type": "display_data",
       "png": "[encoded data removed]",
       "text": [
        "<matplotlib.figure.Figure at 0x8c29950>"
       ]
      }
     ],
     "prompt_number": 206
    },
    {
     "cell_type": "code",
     "collapsed": false,
     "input": [
      "get_surv_fit_lr(surv, drinker*1.)"
     ],
     "language": "python",
     "metadata": {},
     "outputs": [
      {
       "html": [
        "<div style=\"max-height:1000px;max-width:1500px;overflow:auto;\">\n",
        "<table border=\"1\" class=\"dataframe\">\n",
        "  <thead>\n",
        "    <tr>\n",
        "      <th></th>\n",
        "      <th colspan=\"2\" halign=\"left\">Stats</th>\n",
        "      <th colspan=\"3\" halign=\"left\">Median Survival</th>\n",
        "      <th colspan=\"3\" halign=\"left\">5y Survival</th>\n",
        "      <th colspan=\"2\" halign=\"left\">Log-Rank</th>\n",
        "    </tr>\n",
        "    <tr>\n",
        "      <th></th>\n",
        "      <th># Patients</th>\n",
        "      <th># Events</th>\n",
        "      <th>Median</th>\n",
        "      <th>Lower</th>\n",
        "      <th>Upper</th>\n",
        "      <th>Surv</th>\n",
        "      <th>Lower</th>\n",
        "      <th>Upper</th>\n",
        "      <th>chi2</th>\n",
        "      <th>p</th>\n",
        "    </tr>\n",
        "  </thead>\n",
        "  <tbody>\n",
        "    <tr>\n",
        "      <th></th>\n",
        "      <td>   </td>\n",
        "      <td>   </td>\n",
        "      <td>     </td>\n",
        "      <td>     </td>\n",
        "      <td>    </td>\n",
        "      <td>      </td>\n",
        "      <td>      </td>\n",
        "      <td>      </td>\n",
        "      <td> 6.12</td>\n",
        "      <td> 0.0134</td>\n",
        "    </tr>\n",
        "    <tr>\n",
        "      <th>1</th>\n",
        "      <td> 56</td>\n",
        "      <td> 19</td>\n",
        "      <td> 4.36</td>\n",
        "      <td> 2.16</td>\n",
        "      <td> NaN</td>\n",
        "      <td> 0.268</td>\n",
        "      <td> 0.117</td>\n",
        "      <td> 0.618</td>\n",
        "      <td>     </td>\n",
        "      <td>       </td>\n",
        "    </tr>\n",
        "    <tr>\n",
        "      <th>0</th>\n",
        "      <td> 45</td>\n",
        "      <td>  7</td>\n",
        "      <td>  NaN</td>\n",
        "      <td> 4.82</td>\n",
        "      <td> NaN</td>\n",
        "      <td> 0.628</td>\n",
        "      <td> 0.408</td>\n",
        "      <td> 0.968</td>\n",
        "      <td>     </td>\n",
        "      <td>       </td>\n",
        "    </tr>\n",
        "  </tbody>\n",
        "</table>\n",
        "</div>"
       ],
       "metadata": {},
       "output_type": "pyout",
       "prompt_number": 207,
       "text": [
        "       Stats          Median Survival             5y Survival               Log-Rank        \n",
        "  # Patients # Events          Median Lower Upper        Surv  Lower  Upper     chi2       p\n",
        "                                                                                6.12  0.0134\n",
        "1         56       19            4.36  2.16   NaN       0.268  0.117  0.618                 \n",
        "0         45        7             NaN  4.82   NaN       0.628  0.408  0.968                 "
       ]
      }
     ],
     "prompt_number": 207
    },
    {
     "cell_type": "code",
     "collapsed": false,
     "input": [
      "drinker_inferred = 1.*ret['inferred_values'] #ret['filled_feature']"
     ],
     "language": "python",
     "metadata": {},
     "outputs": [],
     "prompt_number": 208
    },
    {
     "cell_type": "code",
     "collapsed": false,
     "input": [
      "get_surv_fit_lr(surv, drinker_inferred)"
     ],
     "language": "python",
     "metadata": {},
     "outputs": [
      {
       "html": [
        "<div style=\"max-height:1000px;max-width:1500px;overflow:auto;\">\n",
        "<table border=\"1\" class=\"dataframe\">\n",
        "  <thead>\n",
        "    <tr>\n",
        "      <th></th>\n",
        "      <th colspan=\"2\" halign=\"left\">Stats</th>\n",
        "      <th colspan=\"3\" halign=\"left\">Median Survival</th>\n",
        "      <th colspan=\"3\" halign=\"left\">5y Survival</th>\n",
        "      <th colspan=\"2\" halign=\"left\">Log-Rank</th>\n",
        "    </tr>\n",
        "    <tr>\n",
        "      <th></th>\n",
        "      <th># Patients</th>\n",
        "      <th># Events</th>\n",
        "      <th>Median</th>\n",
        "      <th>Lower</th>\n",
        "      <th>Upper</th>\n",
        "      <th>Surv</th>\n",
        "      <th>Lower</th>\n",
        "      <th>Upper</th>\n",
        "      <th>chi2</th>\n",
        "      <th>p</th>\n",
        "    </tr>\n",
        "  </thead>\n",
        "  <tbody>\n",
        "    <tr>\n",
        "      <th></th>\n",
        "      <td>    </td>\n",
        "      <td>   </td>\n",
        "      <td>     </td>\n",
        "      <td>     </td>\n",
        "      <td>    </td>\n",
        "      <td>      </td>\n",
        "      <td>      </td>\n",
        "      <td>      </td>\n",
        "      <td> 8.38</td>\n",
        "      <td> 0.00379</td>\n",
        "    </tr>\n",
        "    <tr>\n",
        "      <th>1</th>\n",
        "      <td> 183</td>\n",
        "      <td> 90</td>\n",
        "      <td> 2.08</td>\n",
        "      <td> 1.49</td>\n",
        "      <td>   4</td>\n",
        "      <td> 0.339</td>\n",
        "      <td> 0.253</td>\n",
        "      <td> 0.454</td>\n",
        "      <td>     </td>\n",
        "      <td>        </td>\n",
        "    </tr>\n",
        "    <tr>\n",
        "      <th>0</th>\n",
        "      <td>  75</td>\n",
        "      <td> 21</td>\n",
        "      <td>  NaN</td>\n",
        "      <td> 2.96</td>\n",
        "      <td> NaN</td>\n",
        "      <td> 0.543</td>\n",
        "      <td> 0.398</td>\n",
        "      <td>  0.74</td>\n",
        "      <td>     </td>\n",
        "      <td>        </td>\n",
        "    </tr>\n",
        "  </tbody>\n",
        "</table>\n",
        "</div>"
       ],
       "metadata": {},
       "output_type": "pyout",
       "prompt_number": 209,
       "text": [
        "       Stats          Median Survival             5y Survival               Log-Rank         \n",
        "  # Patients # Events          Median Lower Upper        Surv  Lower  Upper     chi2        p\n",
        "                                                                                8.38  0.00379\n",
        "1        183       90            2.08  1.49     4       0.339  0.253  0.454                  \n",
        "0         75       21             NaN  2.96   NaN       0.543  0.398   0.74                  "
       ]
      }
     ],
     "prompt_number": 209
    },
    {
     "cell_type": "code",
     "collapsed": false,
     "input": [
      "draw_survival_curves(drinker_inferred, surv, show=True)"
     ],
     "language": "python",
     "metadata": {},
     "outputs": [
      {
       "html": [
        "<img src='data:image/png;base64,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'>"
       ],
       "metadata": {},
       "output_type": "pyout",
       "prompt_number": 210,
       "text": [
        "<Reports.NotebookTools.Show at 0xe6b4f90>"
       ]
      }
     ],
     "prompt_number": 210
    },
    {
     "cell_type": "markdown",
     "metadata": {},
     "source": [
      "##Perineural Invasion \n",
      "* This is part of the pathological evaluation, we are missing these for about 100 patients \n",
      "* We expect this to effect tumor specific signatures, so we use differentially expressed genes"
     ]
    },
    {
     "cell_type": "code",
     "collapsed": false,
     "input": [
      "ret = SVC_fill(invasion[invasion.isin(['yes','no'])]=='yes', rna.features.ix['real', keepers_o])\n",
      "ret['auc']"
     ],
     "language": "python",
     "metadata": {},
     "outputs": [
      {
       "metadata": {},
       "output_type": "pyout",
       "prompt_number": 211,
       "text": [
        "0.82547169811320753"
       ]
      }
     ],
     "prompt_number": 211
    },
    {
     "cell_type": "code",
     "collapsed": false,
     "input": [
      "invasion_inferred = ret['filled_feature']"
     ],
     "language": "python",
     "metadata": {},
     "outputs": [],
     "prompt_number": 212
    },
    {
     "cell_type": "code",
     "collapsed": false,
     "input": [
      "get_surv_fit_lr(surv, invasion)"
     ],
     "language": "python",
     "metadata": {},
     "outputs": [
      {
       "html": [
        "<div style=\"max-height:1000px;max-width:1500px;overflow:auto;\">\n",
        "<table border=\"1\" class=\"dataframe\">\n",
        "  <thead>\n",
        "    <tr>\n",
        "      <th></th>\n",
        "      <th colspan=\"2\" halign=\"left\">Stats</th>\n",
        "      <th colspan=\"3\" halign=\"left\">Median Survival</th>\n",
        "      <th colspan=\"3\" halign=\"left\">5y Survival</th>\n",
        "      <th colspan=\"2\" halign=\"left\">Log-Rank</th>\n",
        "    </tr>\n",
        "    <tr>\n",
        "      <th></th>\n",
        "      <th># Patients</th>\n",
        "      <th># Events</th>\n",
        "      <th>Median</th>\n",
        "      <th>Lower</th>\n",
        "      <th>Upper</th>\n",
        "      <th>Surv</th>\n",
        "      <th>Lower</th>\n",
        "      <th>Upper</th>\n",
        "      <th>chi2</th>\n",
        "      <th>p</th>\n",
        "    </tr>\n",
        "  </thead>\n",
        "  <tbody>\n",
        "    <tr>\n",
        "      <th></th>\n",
        "      <td>    </td>\n",
        "      <td>   </td>\n",
        "      <td>     </td>\n",
        "      <td>     </td>\n",
        "      <td>    </td>\n",
        "      <td>      </td>\n",
        "      <td>      </td>\n",
        "      <td>      </td>\n",
        "      <td> 6.95</td>\n",
        "      <td> 0.0309</td>\n",
        "    </tr>\n",
        "    <tr>\n",
        "      <th>yes</th>\n",
        "      <td> 115</td>\n",
        "      <td> 52</td>\n",
        "      <td> 2.58</td>\n",
        "      <td> 1.42</td>\n",
        "      <td> NaN</td>\n",
        "      <td> 0.376</td>\n",
        "      <td> 0.271</td>\n",
        "      <td>  0.52</td>\n",
        "      <td>     </td>\n",
        "      <td>       </td>\n",
        "    </tr>\n",
        "    <tr>\n",
        "      <th>no</th>\n",
        "      <td> 113</td>\n",
        "      <td> 31</td>\n",
        "      <td> 4.82</td>\n",
        "      <td>    4</td>\n",
        "      <td> NaN</td>\n",
        "      <td> 0.492</td>\n",
        "      <td> 0.333</td>\n",
        "      <td> 0.729</td>\n",
        "      <td>     </td>\n",
        "      <td>       </td>\n",
        "    </tr>\n",
        "    <tr>\n",
        "      <th>Missing</th>\n",
        "      <td> 103</td>\n",
        "      <td> 40</td>\n",
        "      <td> 3.53</td>\n",
        "      <td> 2.16</td>\n",
        "      <td> NaN</td>\n",
        "      <td> 0.377</td>\n",
        "      <td> 0.262</td>\n",
        "      <td> 0.544</td>\n",
        "      <td>     </td>\n",
        "      <td>       </td>\n",
        "    </tr>\n",
        "  </tbody>\n",
        "</table>\n",
        "</div>"
       ],
       "metadata": {},
       "output_type": "pyout",
       "prompt_number": 213,
       "text": [
        "             Stats          Median Survival             5y Survival               Log-Rank        \n",
        "        # Patients # Events          Median Lower Upper        Surv  Lower  Upper     chi2       p\n",
        "                                                                                      6.95  0.0309\n",
        "yes            115       52            2.58  1.42   NaN       0.376  0.271   0.52                 \n",
        "no             113       31            4.82     4   NaN       0.492  0.333  0.729                 \n",
        "Missing        103       40            3.53  2.16   NaN       0.377  0.262  0.544                 "
       ]
      }
     ],
     "prompt_number": 213
    },
    {
     "cell_type": "code",
     "collapsed": false,
     "input": [
      "get_surv_fit_lr(surv, invasion_inferred)"
     ],
     "language": "python",
     "metadata": {},
     "outputs": [
      {
       "html": [
        "<div style=\"max-height:1000px;max-width:1500px;overflow:auto;\">\n",
        "<table border=\"1\" class=\"dataframe\">\n",
        "  <thead>\n",
        "    <tr>\n",
        "      <th></th>\n",
        "      <th colspan=\"2\" halign=\"left\">Stats</th>\n",
        "      <th colspan=\"3\" halign=\"left\">Median Survival</th>\n",
        "      <th colspan=\"3\" halign=\"left\">5y Survival</th>\n",
        "      <th colspan=\"2\" halign=\"left\">Log-Rank</th>\n",
        "    </tr>\n",
        "    <tr>\n",
        "      <th></th>\n",
        "      <th># Patients</th>\n",
        "      <th># Events</th>\n",
        "      <th>Median</th>\n",
        "      <th>Lower</th>\n",
        "      <th>Upper</th>\n",
        "      <th>Surv</th>\n",
        "      <th>Lower</th>\n",
        "      <th>Upper</th>\n",
        "      <th>chi2</th>\n",
        "      <th>p</th>\n",
        "    </tr>\n",
        "  </thead>\n",
        "  <tbody>\n",
        "    <tr>\n",
        "      <th></th>\n",
        "      <td>    </td>\n",
        "      <td>   </td>\n",
        "      <td>     </td>\n",
        "      <td>     </td>\n",
        "      <td>     </td>\n",
        "      <td>      </td>\n",
        "      <td>      </td>\n",
        "      <td>      </td>\n",
        "      <td> 10.3</td>\n",
        "      <td> 0.00131</td>\n",
        "    </tr>\n",
        "    <tr>\n",
        "      <th>0</th>\n",
        "      <td> 162</td>\n",
        "      <td> 47</td>\n",
        "      <td> 4.71</td>\n",
        "      <td> 2.84</td>\n",
        "      <td>  NaN</td>\n",
        "      <td> 0.492</td>\n",
        "      <td> 0.377</td>\n",
        "      <td> 0.643</td>\n",
        "      <td>     </td>\n",
        "      <td>        </td>\n",
        "    </tr>\n",
        "    <tr>\n",
        "      <th>1</th>\n",
        "      <td> 139</td>\n",
        "      <td> 70</td>\n",
        "      <td> 1.71</td>\n",
        "      <td> 1.38</td>\n",
        "      <td> 2.96</td>\n",
        "      <td> 0.306</td>\n",
        "      <td> 0.217</td>\n",
        "      <td> 0.433</td>\n",
        "      <td>     </td>\n",
        "      <td>        </td>\n",
        "    </tr>\n",
        "  </tbody>\n",
        "</table>\n",
        "</div>"
       ],
       "metadata": {},
       "output_type": "pyout",
       "prompt_number": 214,
       "text": [
        "       Stats          Median Survival             5y Survival               Log-Rank         \n",
        "  # Patients # Events          Median Lower Upper        Surv  Lower  Upper     chi2        p\n",
        "                                                                                10.3  0.00131\n",
        "0        162       47            4.71  2.84   NaN       0.492  0.377  0.643                  \n",
        "1        139       70            1.71  1.38  2.96       0.306  0.217  0.433                  "
       ]
      }
     ],
     "prompt_number": 214
    },
    {
     "cell_type": "code",
     "collapsed": false,
     "input": [
      "survival_and_stats(invasion_inferred, surv)"
     ],
     "language": "python",
     "metadata": {},
     "outputs": [
      {
       "metadata": {},
       "output_type": "display_data",
       "png": "[encoded data removed]",
       "text": [
        "<matplotlib.figure.Figure at 0xa21e1d0>"
       ]
      }
     ],
     "prompt_number": 215
    },
    {
     "cell_type": "markdown",
     "metadata": {},
     "source": [
      "##Extra-Capsular Spread \n",
      "* Similar to perineural invasion"
     ]
    },
    {
     "cell_type": "code",
     "collapsed": false,
     "input": [
      "ret = SVC_fill(spread=='yes', rna.features.ix['real', keepers_o])\n",
      "ret['auc']"
     ],
     "language": "python",
     "metadata": {},
     "outputs": [
      {
       "metadata": {},
       "output_type": "pyout",
       "prompt_number": 216,
       "text": [
        "0.85492227979274615"
       ]
      }
     ],
     "prompt_number": 216
    },
    {
     "cell_type": "code",
     "collapsed": false,
     "input": [
      "fun = ret['decision_function']\n",
      "violin_plot_pandas(spread, fun)"
     ],
     "language": "python",
     "metadata": {},
     "outputs": [
      {
       "metadata": {},
       "output_type": "display_data",
       "png": "[encoded data removed]",
       "text": [
        "<matplotlib.figure.Figure at 0xe250650>"
       ]
      }
     ],
     "prompt_number": 217
    },
    {
     "cell_type": "code",
     "collapsed": false,
     "input": [
      "spread_inferred = ret['filled_feature']"
     ],
     "language": "python",
     "metadata": {},
     "outputs": [],
     "prompt_number": 218
    },
    {
     "cell_type": "code",
     "collapsed": false,
     "input": [
      "get_surv_fit_lr(surv, spread)"
     ],
     "language": "python",
     "metadata": {},
     "outputs": [
      {
       "html": [
        "<div style=\"max-height:1000px;max-width:1500px;overflow:auto;\">\n",
        "<table border=\"1\" class=\"dataframe\">\n",
        "  <thead>\n",
        "    <tr>\n",
        "      <th></th>\n",
        "      <th colspan=\"2\" halign=\"left\">Stats</th>\n",
        "      <th colspan=\"3\" halign=\"left\">Median Survival</th>\n",
        "      <th colspan=\"3\" halign=\"left\">5y Survival</th>\n",
        "      <th colspan=\"2\" halign=\"left\">Log-Rank</th>\n",
        "    </tr>\n",
        "    <tr>\n",
        "      <th></th>\n",
        "      <th># Patients</th>\n",
        "      <th># Events</th>\n",
        "      <th>Median</th>\n",
        "      <th>Lower</th>\n",
        "      <th>Upper</th>\n",
        "      <th>Surv</th>\n",
        "      <th>Lower</th>\n",
        "      <th>Upper</th>\n",
        "      <th>chi2</th>\n",
        "      <th>p</th>\n",
        "    </tr>\n",
        "  </thead>\n",
        "  <tbody>\n",
        "    <tr>\n",
        "      <th></th>\n",
        "      <td>    </td>\n",
        "      <td>   </td>\n",
        "      <td>     </td>\n",
        "      <td>     </td>\n",
        "      <td>     </td>\n",
        "      <td>      </td>\n",
        "      <td>      </td>\n",
        "      <td>      </td>\n",
        "      <td> 12.3</td>\n",
        "      <td> 0.000463</td>\n",
        "    </tr>\n",
        "    <tr>\n",
        "      <th>no</th>\n",
        "      <td> 149</td>\n",
        "      <td> 49</td>\n",
        "      <td> 4.49</td>\n",
        "      <td> 2.96</td>\n",
        "      <td>  NaN</td>\n",
        "      <td> 0.487</td>\n",
        "      <td> 0.377</td>\n",
        "      <td> 0.628</td>\n",
        "      <td>     </td>\n",
        "      <td>         </td>\n",
        "    </tr>\n",
        "    <tr>\n",
        "      <th>yes</th>\n",
        "      <td>  58</td>\n",
        "      <td> 31</td>\n",
        "      <td> 1.35</td>\n",
        "      <td> 1.24</td>\n",
        "      <td> 2.08</td>\n",
        "      <td> 0.267</td>\n",
        "      <td> 0.156</td>\n",
        "      <td> 0.456</td>\n",
        "      <td>     </td>\n",
        "      <td>         </td>\n",
        "    </tr>\n",
        "  </tbody>\n",
        "</table>\n",
        "</div>"
       ],
       "metadata": {},
       "output_type": "pyout",
       "prompt_number": 219,
       "text": [
        "         Stats          Median Survival             5y Survival               Log-Rank          \n",
        "    # Patients # Events          Median Lower Upper        Surv  Lower  Upper     chi2         p\n",
        "                                                                                  12.3  0.000463\n",
        "no         149       49            4.49  2.96   NaN       0.487  0.377  0.628                   \n",
        "yes         58       31            1.35  1.24  2.08       0.267  0.156  0.456                   "
       ]
      }
     ],
     "prompt_number": 219
    },
    {
     "cell_type": "code",
     "collapsed": false,
     "input": [
      "get_surv_fit_lr(surv, spread_inferred)"
     ],
     "language": "python",
     "metadata": {},
     "outputs": [
      {
       "html": [
        "<div style=\"max-height:1000px;max-width:1500px;overflow:auto;\">\n",
        "<table border=\"1\" class=\"dataframe\">\n",
        "  <thead>\n",
        "    <tr>\n",
        "      <th></th>\n",
        "      <th colspan=\"2\" halign=\"left\">Stats</th>\n",
        "      <th colspan=\"3\" halign=\"left\">Median Survival</th>\n",
        "      <th colspan=\"3\" halign=\"left\">5y Survival</th>\n",
        "      <th colspan=\"2\" halign=\"left\">Log-Rank</th>\n",
        "    </tr>\n",
        "    <tr>\n",
        "      <th></th>\n",
        "      <th># Patients</th>\n",
        "      <th># Events</th>\n",
        "      <th>Median</th>\n",
        "      <th>Lower</th>\n",
        "      <th>Upper</th>\n",
        "      <th>Surv</th>\n",
        "      <th>Lower</th>\n",
        "      <th>Upper</th>\n",
        "      <th>chi2</th>\n",
        "      <th>p</th>\n",
        "    </tr>\n",
        "  </thead>\n",
        "  <tbody>\n",
        "    <tr>\n",
        "      <th></th>\n",
        "      <td>    </td>\n",
        "      <td>   </td>\n",
        "      <td>     </td>\n",
        "      <td>     </td>\n",
        "      <td>     </td>\n",
        "      <td>      </td>\n",
        "      <td>      </td>\n",
        "      <td>      </td>\n",
        "      <td> 17.7</td>\n",
        "      <td> 2.53e-05</td>\n",
        "    </tr>\n",
        "    <tr>\n",
        "      <th>0</th>\n",
        "      <td> 226</td>\n",
        "      <td> 74</td>\n",
        "      <td> 4.49</td>\n",
        "      <td> 2.96</td>\n",
        "      <td>  NaN</td>\n",
        "      <td> 0.454</td>\n",
        "      <td>  0.36</td>\n",
        "      <td> 0.574</td>\n",
        "      <td>     </td>\n",
        "      <td>         </td>\n",
        "    </tr>\n",
        "    <tr>\n",
        "      <th>1</th>\n",
        "      <td>  75</td>\n",
        "      <td> 43</td>\n",
        "      <td> 1.42</td>\n",
        "      <td> 1.25</td>\n",
        "      <td> 1.71</td>\n",
        "      <td> 0.232</td>\n",
        "      <td> 0.137</td>\n",
        "      <td> 0.391</td>\n",
        "      <td>     </td>\n",
        "      <td>         </td>\n",
        "    </tr>\n",
        "  </tbody>\n",
        "</table>\n",
        "</div>"
       ],
       "metadata": {},
       "output_type": "pyout",
       "prompt_number": 220,
       "text": [
        "       Stats          Median Survival             5y Survival               Log-Rank          \n",
        "  # Patients # Events          Median Lower Upper        Surv  Lower  Upper     chi2         p\n",
        "                                                                                17.7  2.53e-05\n",
        "0        226       74            4.49  2.96   NaN       0.454   0.36  0.574                   \n",
        "1         75       43            1.42  1.25  1.71       0.232  0.137  0.391                   "
       ]
      }
     ],
     "prompt_number": 220
    },
    {
     "cell_type": "code",
     "collapsed": false,
     "input": [
      "get_surv_fit_lr(surv, ret['inferred_values']*1.)"
     ],
     "language": "python",
     "metadata": {},
     "outputs": [
      {
       "html": [
        "<div style=\"max-height:1000px;max-width:1500px;overflow:auto;\">\n",
        "<table border=\"1\" class=\"dataframe\">\n",
        "  <thead>\n",
        "    <tr>\n",
        "      <th></th>\n",
        "      <th colspan=\"2\" halign=\"left\">Stats</th>\n",
        "      <th colspan=\"3\" halign=\"left\">Median Survival</th>\n",
        "      <th colspan=\"3\" halign=\"left\">5y Survival</th>\n",
        "      <th colspan=\"2\" halign=\"left\">Log-Rank</th>\n",
        "    </tr>\n",
        "    <tr>\n",
        "      <th></th>\n",
        "      <th># Patients</th>\n",
        "      <th># Events</th>\n",
        "      <th>Median</th>\n",
        "      <th>Lower</th>\n",
        "      <th>Upper</th>\n",
        "      <th>Surv</th>\n",
        "      <th>Lower</th>\n",
        "      <th>Upper</th>\n",
        "      <th>chi2</th>\n",
        "      <th>p</th>\n",
        "    </tr>\n",
        "  </thead>\n",
        "  <tbody>\n",
        "    <tr>\n",
        "      <th></th>\n",
        "      <td>    </td>\n",
        "      <td>   </td>\n",
        "      <td>     </td>\n",
        "      <td>     </td>\n",
        "      <td>    </td>\n",
        "      <td>      </td>\n",
        "      <td>      </td>\n",
        "      <td>      </td>\n",
        "      <td> 12.5</td>\n",
        "      <td> 0.00041</td>\n",
        "    </tr>\n",
        "    <tr>\n",
        "      <th>0</th>\n",
        "      <td> 228</td>\n",
        "      <td> 75</td>\n",
        "      <td> 4.49</td>\n",
        "      <td>  2.7</td>\n",
        "      <td> NaN</td>\n",
        "      <td> 0.446</td>\n",
        "      <td> 0.353</td>\n",
        "      <td> 0.562</td>\n",
        "      <td>     </td>\n",
        "      <td>        </td>\n",
        "    </tr>\n",
        "    <tr>\n",
        "      <th>1</th>\n",
        "      <td>  73</td>\n",
        "      <td> 42</td>\n",
        "      <td>  1.5</td>\n",
        "      <td> 1.29</td>\n",
        "      <td> 1.9</td>\n",
        "      <td>  0.28</td>\n",
        "      <td> 0.176</td>\n",
        "      <td> 0.446</td>\n",
        "      <td>     </td>\n",
        "      <td>        </td>\n",
        "    </tr>\n",
        "  </tbody>\n",
        "</table>\n",
        "</div>"
       ],
       "metadata": {},
       "output_type": "pyout",
       "prompt_number": 221,
       "text": [
        "       Stats          Median Survival             5y Survival               Log-Rank         \n",
        "  # Patients # Events          Median Lower Upper        Surv  Lower  Upper     chi2        p\n",
        "                                                                                12.5  0.00041\n",
        "0        228       75            4.49   2.7   NaN       0.446  0.353  0.562                  \n",
        "1         73       42             1.5  1.29   1.9        0.28  0.176  0.446                  "
       ]
      }
     ],
     "prompt_number": 221
    },
    {
     "cell_type": "code",
     "collapsed": false,
     "input": [
      "survival_and_stats(spread, surv)"
     ],
     "language": "python",
     "metadata": {},
     "outputs": [
      {
       "metadata": {},
       "output_type": "display_data",
       "png": "[encoded data removed]",
       "text": [
        "<matplotlib.figure.Figure at 0x132a1310>"
       ]
      }
     ],
     "prompt_number": 222
    },
    {
     "cell_type": "code",
     "collapsed": false,
     "input": [
      "survival_and_stats(spread_inferred, surv)"
     ],
     "language": "python",
     "metadata": {},
     "outputs": [
      {
       "metadata": {},
       "output_type": "display_data",
       "png": "[encoded data removed]",
       "text": [
        "<matplotlib.figure.Figure at 0x11e15510>"
       ]
      }
     ],
     "prompt_number": 223
    },
    {
     "cell_type": "code",
     "collapsed": false,
     "input": [
      "clinical_processed = pd.concat({'spread': spread, 'spread_inferred': spread_inferred,\n",
      "                                'invasion': invasion, 'invasion_inferred': invasion_inferred,\n",
      "                                'hpv': hpv, 'hpv_inferred': hpv_inferred,\n",
      "                                'smoker': smoker, 'smoker_inferred': smoker_inferred,\n",
      "                                'drinker': drinker, 'drinker_inferred': drinker_inferred,\n",
      "                                'stage': stage,\n",
      "                                'lymph_stage': lymph_stage,\n",
      "                                'age': age, 'old_age': old_age,\n",
      "                                'pack_years': pack_years,\n",
      "                                'year': year,\n",
      "                                'pre_2000': (year < 2000).map({True: 'pre_2000', False: 'post_2000'}),\n",
      "                                'lymph_status': lymph_status,\n",
      "                                'tumor_subdivision': tumor_subdivision}, axis=1)"
     ],
     "language": "python",
     "metadata": {},
     "outputs": [],
     "prompt_number": 224
    },
    {
     "cell_type": "code",
     "collapsed": false,
     "input": [
      "clinical_processed.to_csv(cancer.path + '/Clinical/clinical_processed.csv')"
     ],
     "language": "python",
     "metadata": {},
     "outputs": [],
     "prompt_number": 225
    }
   ],
   "metadata": {}
  }
 ]
}