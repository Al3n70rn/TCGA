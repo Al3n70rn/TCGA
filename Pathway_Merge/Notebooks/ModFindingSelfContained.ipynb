{
 "metadata": {
  "name": "ModFindingSelfContained"
 },
 "nbformat": 3,
 "nbformat_minor": 0,
 "worksheets": [
  {
   "cells": [
    {
     "cell_type": "code",
     "collapsed": false,
     "input": [
      "cd ../src"
     ],
     "language": "python",
     "metadata": {},
     "outputs": [
      {
       "output_type": "stream",
       "stream": "stdout",
       "text": [
        "/cellar/users/agross/TCGA_Code/TCGA/Pathway_Merge/src\n"
       ]
      }
     ],
     "prompt_number": 1
    },
    {
     "cell_type": "code",
     "collapsed": false,
     "input": [
      "import os as os\n",
      "from Data.Firehose import get_mutation_matrix"
     ],
     "language": "python",
     "metadata": {},
     "outputs": [],
     "prompt_number": 2
    },
    {
     "cell_type": "code",
     "collapsed": false,
     "input": [
      "from pandas import read_table, read_csv\n",
      "from pandas import Series, DataFrame"
     ],
     "language": "python",
     "metadata": {},
     "outputs": [],
     "prompt_number": 3
    },
    {
     "cell_type": "code",
     "collapsed": false,
     "input": [
      "firehose_path = '/cellar/users/agross/Data/TCGA/'\n",
      "date = '20120913'\n",
      "date_ = '_'.join([date[:4], date[4:6], date[6:8]])\n",
      "cancers = os.listdir(firehose_path + 'analyses__' + date_)"
     ],
     "language": "python",
     "metadata": {},
     "outputs": [],
     "prompt_number": 4
    },
    {
     "cell_type": "code",
     "collapsed": false,
     "input": [
      "cancer = 'OV'\n",
      "data_type = 'mutation'\n",
      "data_path = firehose_path + 'analyses__' + date_ + '/' + cancer + '/' + date + '/'"
     ],
     "language": "python",
     "metadata": {},
     "outputs": [],
     "prompt_number": 5
    },
    {
     "cell_type": "code",
     "collapsed": false,
     "input": [
      "def get_mutation_matrix(cancer, data_path, q_cutoff=.25):\n",
      "    f = data_path + 'MutSigRun2/'\n",
      "    if os.path.isdir(f):\n",
      "        mutation_matrix = read_table(f + cancer + '.per_gene.mutation_counts.txt', \n",
      "                                     index_col=0)\n",
      "        mutation_matrix = mutation_matrix.select(lambda s: s.count('_') == 2, axis=1)\n",
      "        adjust_barcodes = lambda s: '-'.join(['TCGA'] + s.split('_')[1:])\n",
      "        mutation_matrix = mutation_matrix.rename(columns=adjust_barcodes)\n",
      "        mutsig = read_table(f + cancer +  '.sig_genes.txt', index_col=1)\n",
      "        if mutsig.q.dtype != type(.1):\n",
      "            mutsig.q = mutsig.q.map(lambda s: float(s.replace('<','')))\n",
      "        sig_genes = np.array(mutsig[mutsig.q < .25].index)\n",
      "    else:\n",
      "        mutation_matrix = read_csv(data_path + 'From_Stddata/mutation_matrix.csv', \n",
      "                                   index_col=0)\n",
      "        mutation_matrix = mutation_matrix.apply(np.nan_to_num)\n",
      "        sig_genes = np.array(mutation_matrix[mutation_matrix.sum(1) > 3].index)\n",
      "    return mutation_matrix, mutsig"
     ],
     "language": "python",
     "metadata": {},
     "outputs": [],
     "prompt_number": 6
    },
    {
     "cell_type": "code",
     "collapsed": false,
     "input": [
      "mutation_matrix, mut_sig = get_mutation_matrix(cancer, data_path)\n",
      "\n",
      "scores = mut_sig.p.apply(lambda s: 1e-15 if (s.startswith('<') or (float(s)<1e-15)) else float(s))\n",
      "scores = -np.log(scores.astype(float))\n",
      "mutation_scores = scores[scores > 0]"
     ],
     "language": "python",
     "metadata": {},
     "outputs": [],
     "prompt_number": 7
    },
    {
     "cell_type": "code",
     "collapsed": false,
     "input": [
      "graphEdgeFile = '/cellar/users/agross/Data/networks/HumanNet.v1.join.txt'\n",
      "edgeTypes = ['gene1','gene2','CE-CC','CE-CX','CE-GT','CE-LC','CE-YH','DM-PI','HS-CC','HS-CX',\n",
      "             'HS-DC','HS-GN','HS-LC','HS-MS','HS-PG','HS-YH','SC-CC','SC-CX',\n",
      "             'SC-GT','SC-LC','SC-MS','SC-TS','SC-YH','IntNet']\n",
      "tab = read_table(graphEdgeFile, names=edgeTypes)\n",
      "\n",
      "entrez = read_csv('/cellar/users/agross/Data/networks/entrezIDs.txt')\n",
      "entrez = entrez[entrez['Entrez Gene ID'].notnull()]\n",
      "#entrez = Series(entrez['Approved Symbol'], \n",
      "#              index=array(entrez['Entrez Gene ID'], dtype=numpy.int64))"
     ],
     "language": "python",
     "metadata": {},
     "outputs": [],
     "prompt_number": 8
    },
    {
     "cell_type": "code",
     "collapsed": false,
     "input": [
      "import networkx as nx"
     ],
     "language": "python",
     "metadata": {},
     "outputs": [],
     "prompt_number": 9
    },
    {
     "cell_type": "code",
     "collapsed": false,
     "input": [
      "get_sym = lambda s: s[s['Approved Symbol'].isin(mutation_scores.index)].ix[0]"
     ],
     "language": "python",
     "metadata": {},
     "outputs": [],
     "prompt_number": 10
    },
    {
     "cell_type": "code",
     "collapsed": false,
     "input": [
      "lo = entrez.groupby('Approved Symbol').first()\n",
      "lo = lo['Entrez Gene ID']\n",
      "lo = lo[mutation_scores.index]\n",
      "lo = Series(lo.index, lo)"
     ],
     "language": "python",
     "metadata": {},
     "outputs": [],
     "prompt_number": 11
    },
    {
     "cell_type": "code",
     "collapsed": false,
     "input": [
      "graph = DataFrame(dict(gene1=tab['gene1'].map(lo), \n",
      "                       gene2=tab['gene2'].map(lo),\n",
      "                       weight=tab['IntNet']))\n",
      "graph = graph.dropna(how='any')\n",
      "\n",
      "G = nx.Graph()\n",
      "G.add_weighted_edges_from(graph.as_matrix())"
     ],
     "language": "python",
     "metadata": {},
     "outputs": [],
     "prompt_number": 12
    },
    {
     "cell_type": "code",
     "collapsed": false,
     "input": [
      "similarity = nx.adj_matrix(G)\n",
      "similarityMatrix = DataFrame(similarity, index=G.nodes(), columns=G.nodes())"
     ],
     "language": "python",
     "metadata": {},
     "outputs": [],
     "prompt_number": 13
    },
    {
     "cell_type": "code",
     "collapsed": false,
     "input": [
      "import numpy as np\n",
      "import rpy2.robjects as robjects\n",
      "from rpy2.robjects.packages import importr\n",
      "import rpy2.rlike.container as rlc\n",
      "import pandas.rpy.common as com\n",
      "base = importr(\"base\")\n",
      "igraph = importr('igraph')\n",
      "dynamicTreecut = importr('dynamicTreeCut')"
     ],
     "language": "python",
     "metadata": {},
     "outputs": [],
     "prompt_number": 14
    },
    {
     "cell_type": "code",
     "collapsed": false,
     "input": [
      "averageDegree = 2.0\n",
      "sparsity  = 2*averageDegree/len(mutation_scores)\n",
      "weightMethod='EnhancedGeo'"
     ],
     "language": "python",
     "metadata": {},
     "outputs": [],
     "prompt_number": 45
    },
    {
     "cell_type": "code",
     "collapsed": false,
     "input": [
      "geoMean.ix['TP53'].hist()"
     ],
     "language": "python",
     "metadata": {},
     "outputs": [
      {
       "output_type": "pyout",
       "prompt_number": 54,
       "text": [
        "<matplotlib.axes.AxesSubplot at 0x7f5ba3b213d0>"
       ]
      },
      {
       "output_type": "display_data",
       "png": "[encoded data removed]"
      }
     ],
     "prompt_number": 54
    },
    {
     "cell_type": "code",
     "collapsed": false,
     "input": [
      "mutation_scores = (mutation_scores * 0) + 1"
     ],
     "language": "python",
     "metadata": {},
     "outputs": [],
     "prompt_number": 55
    },
    {
     "cell_type": "code",
     "collapsed": false,
     "input": [
      "weight = sqrt(multiply.outer(array(mutation_scores), array(mutation_scores)))\n",
      "geoMean = DataFrame(weight, index=mutation_scores.index, columns=mutation_scores.index)\n",
      "#geoMean = geoMean.replace(geoMean.min().min(), 0)\n",
      "idx = geoMean.index\n",
      "geoMean = DataFrame(np.triu(geoMean.ix[idx,idx], k=1), index=idx, columns=idx)"
     ],
     "language": "python",
     "metadata": {},
     "outputs": [],
     "prompt_number": 66
    },
    {
     "cell_type": "code",
     "collapsed": false,
     "input": [
      "def triuFrame(df):\n",
      "    from pandas import DataFrame\n",
      "    from numpy import triu\n",
      "    return DataFrame(triu(df, k=1),index=df.index, columns=df.columns)\n",
      "\n",
      "from scipy.stats import scoreatpercentile"
     ],
     "language": "python",
     "metadata": {},
     "outputs": [],
     "prompt_number": 68
    },
    {
     "cell_type": "code",
     "collapsed": false,
     "input": [
      "graphGenes = list(similarityMatrix.index)\n",
      "weightFromAlteredGenes  = triuFrame(geoMean.ix[graphGenes, graphGenes])\n",
      "weightedSimilarity = weightFromAlteredGenes.mul(similarityMatrix)\n",
      "del weightFromAlteredGenes\n",
      "weightedSimilarity = weightedSimilarity.fillna(0.)"
     ],
     "language": "python",
     "metadata": {},
     "outputs": [],
     "prompt_number": 69
    },
    {
     "cell_type": "code",
     "collapsed": false,
     "input": [
      "delta = scoreatpercentile(weightedSimilarity.as_matrix().flat, (1-sparsity)*100)\n",
      "wsSparse = triu((weightedSimilarity > delta)*weightedSimilarity, k=1)"
     ],
     "language": "python",
     "metadata": {},
     "outputs": [],
     "prompt_number": 70
    },
    {
     "cell_type": "code",
     "collapsed": false,
     "input": [
      "Gr = nx.Graph(wsSparse)\n",
      "del wsSparse\n",
      "degrees = Gr.degree()\n",
      "Gr = Gr.subgraph([node for node in Gr.nodes() if degrees[node] > 0]) "
     ],
     "language": "python",
     "metadata": {},
     "outputs": [],
     "prompt_number": 71
    },
    {
     "cell_type": "code",
     "collapsed": false,
     "input": [
      "def preCluster(Gr):\n",
      "    from numpy import array\n",
      "    from pandas import DataFrame, Series\n",
      "    \n",
      "    \n",
      "    readGraph = robjects.r('graph.data.frame')\n",
      "    \n",
      "    edges_iGraph = [{'source':edge[0],'target':edge[1],\n",
      "                     'weight':edge[2]['weight']} \n",
      "                    for edge in Gr.edges(data=True)]\n",
      "    graphFrame = DataFrame(edges_iGraph)\n",
      "    \n",
      "    df = com.convert_to_r_dataframe(graphFrame) #@UndefinedVariable\n",
      "    g = readGraph(df, directed=False)\n",
      "    wt = igraph.walktrap_community(g, modularity=True)\n",
      "    labels = array(wt.rx('names'), dtype=int)[0]\n",
      "    membership = array(wt.rx('membership'), dtype=int)[0]\n",
      "    return membership, labels"
     ],
     "language": "python",
     "metadata": {},
     "outputs": [],
     "prompt_number": 72
    },
    {
     "cell_type": "code",
     "collapsed": false,
     "input": [
      "membership, labels = preCluster(Gr) "
     ],
     "language": "python",
     "metadata": {},
     "outputs": [],
     "prompt_number": 73
    },
    {
     "cell_type": "code",
     "collapsed": false,
     "input": [
      "mem = DataFrame({'membership' : membership, 'gene' : weightedSimilarity.index[labels]})\n",
      "mem = mem.groupby('membership').apply(lambda s: list(s['gene']))"
     ],
     "language": "python",
     "metadata": {},
     "outputs": [],
     "prompt_number": 74
    },
    {
     "cell_type": "code",
     "collapsed": false,
     "input": [
      "bigModules = mem[mem.map(len) >= 30]"
     ],
     "language": "python",
     "metadata": {},
     "outputs": [],
     "prompt_number": 75
    },
    {
     "cell_type": "code",
     "collapsed": false,
     "input": [
      "def reclusterGenes(geneset, Gr):\n",
      "    from numpy import array\n",
      "    from pandas import DataFrame\n",
      "\n",
      "    readGraph = robjects.r('graph.data.frame')\n",
      "    asD = robjects.r('as.dendrogram')\n",
      "    asHC = robjects.r('as.hclust')\n",
      "    \n",
      "    edges_iGraph = [{'source':edge[0],'target':edge[1],\n",
      "                     'weight':edge[2]['weight']} \n",
      "                     for edge in Gr.subgraph(geneset).edges(data=True)]\n",
      "    graphFrame = DataFrame(edges_iGraph)\n",
      "    \n",
      "    df = com.convert_to_r_dataframe(graphFrame) #@UndefinedVariable\n",
      "    g = readGraph(df, directed=False)\n",
      "    wt = igraph.walktrap_community(g, modularity=True)\n",
      "    labels = array(wt.rx('names'), dtype=int)[0]\n",
      "    \n",
      "    dend = asD(wt, use_modularity=True)\n",
      "    hc = asHC(dend)\n",
      "    cut = dynamicTreecut.cutreeDynamicTree(hc, maxTreeHeight=1000, \n",
      "                                           minModuleSize=6)\n",
      "    membership = array(cut, dtype=int)\n",
      "    return membership, labels\n",
      "\n",
      "def getCandidates(membership, labels, Gr):\n",
      "    from numpy import where, bincount, array\n",
      "    from rpy2.rinterface import RRuntimeError\n",
      "    \n",
      "    candidates = []\n",
      "    assigned = array(membership)\n",
      "    assigned = assigned.take(where(assigned >= 0)[0])\n",
      "    recluster = where(bincount(assigned) > 30)[0]\n",
      "    for i in list(set(membership).difference([-1])):\n",
      "        geneset = labels[membership==i]\n",
      "        if i in recluster:\n",
      "            try:\n",
      "                membershipSub, labelsSub = reclusterGenes(geneset,Gr)\n",
      "                subCandidates = getCandidates(membershipSub, labelsSub, \n",
      "                                          Gr.subgraph(geneset))\n",
      "                candidates.extend(subCandidates)\n",
      "            except RRuntimeError: \n",
      "                print 'R could not find a module'\n",
      "                \n",
      "        elif len(geneset) > 2:\n",
      "            candidates.append(geneset)\n",
      "    return candidates"
     ],
     "language": "python",
     "metadata": {},
     "outputs": [],
     "prompt_number": 76
    },
    {
     "cell_type": "code",
     "collapsed": false,
     "input": [
      "candidateGeneSets = getCandidates(membership, labels, Gr)\n",
      "candidates = [array(weightedSimilarity.index[list(can)]) for can in \n",
      "                  candidateGeneSets]"
     ],
     "language": "python",
     "metadata": {},
     "outputs": [],
     "prompt_number": 77
    },
    {
     "cell_type": "code",
     "collapsed": false,
     "input": [
      "from Data.Pathways import read_in_pathways\n",
      "from Processing.Clinical import ClinicalObject\n",
      "\n",
      "PATHWAY_FILE = '/cellar/users/agross/Data/GeneSets/c2.cp.v3.0.symbols_edit.csv'\n",
      "gene_sets, gene_lookup = read_in_pathways(PATHWAY_FILE)\n",
      "\n",
      "REAL_VARIABLES = ['AMAR','rate','age','karnofsky_performance', 'pack_years']\n",
      "BINARY_VARIABLES = ['gender', 'therapy', 'radiation', 'triple_neg', 'triple_pos',\n",
      "                    'ER_pos','PR_pos','her2_pos', 'lymphnode_n0n1', 'tumor_t1t2',\n",
      "                    'post_menopause', 'histo_g1g2', 'neo_status', 'chemo', \n",
      "                    'hormones''complete_response', 'metastatic_recurrence',\n",
      "                    'new_tumor','smoker', 'drinker']\n",
      "SURVIVAL_TESTS = {'survival' : {'event_var' : 'deceased', 'time_var' : 'days', \n",
      "                                'covariates' : ['age', 'rate']},\n",
      "                  'event_free_survival' : {'event_var' : 'event', \n",
      "                                           'time_var' : 'event_free_survival', \n",
      "                                           'covariates' : ['age', 'rate']}\n",
      "                  }"
     ],
     "language": "python",
     "metadata": {},
     "outputs": [],
     "prompt_number": 78
    },
    {
     "cell_type": "code",
     "collapsed": false,
     "input": [
      "cancer = 'OV'"
     ],
     "language": "python",
     "metadata": {},
     "outputs": [],
     "prompt_number": 82
    },
    {
     "cell_type": "code",
     "collapsed": false,
     "input": [
      "cancer_obj = ClinicalObject(cancer, data_path, dict(enumerate((candidates))), data_type,\n",
      "\t\t\t\t\t\t\t\tsurvival_tests=SURVIVAL_TESTS, \n",
      "\t\t\t\t\t\t\t\treal_variables=REAL_VARIABLES,\n",
      "                        \t\tbinary_variables=BINARY_VARIABLES,\n",
      "                        \t\tdrop_pc=False)\n",
      "cancer = cancer_obj"
     ],
     "language": "python",
     "metadata": {},
     "outputs": [],
     "prompt_number": 83
    },
    {
     "cell_type": "code",
     "collapsed": false,
     "input": [
      "cancer.meta_matrix.sum().hist()"
     ],
     "language": "python",
     "metadata": {},
     "outputs": [
      {
       "output_type": "pyout",
       "prompt_number": 86,
       "text": [
        "<matplotlib.axes.AxesSubplot at 0x2f0d3450>"
       ]
      },
      {
       "output_type": "display_data",
       "png": "[encoded data removed]"
      }
     ],
     "prompt_number": 86
    },
    {
     "cell_type": "code",
     "collapsed": false,
     "input": [
      "cancer.q_pathways.min()"
     ],
     "language": "python",
     "metadata": {},
     "outputs": [
      {
       "output_type": "pyout",
       "prompt_number": 88,
       "text": [
        "tumor_t1t2               1.000000\n",
        "new_tumor                1.000000\n",
        "event_free_survival      0.007841\n",
        "gender                   1.000000\n",
        "age                      0.893791\n",
        "rate                     0.000800\n",
        "metastatic_recurrence    1.000000\n",
        "histo_g1g2               1.000000\n",
        "karnofsky_performance    0.210228\n",
        "survival                 0.003018\n",
        "neo_status               0.988293"
       ]
      }
     ],
     "prompt_number": 88
    },
    {
     "cell_type": "code",
     "collapsed": false,
     "input": [
      "np.sort(cancer.q_pathways.event_free_survival).head()"
     ],
     "language": "python",
     "metadata": {},
     "outputs": [
      {
       "output_type": "pyout",
       "prompt_number": 91,
       "text": [
        "213    0.007841\n",
        "235    0.025717\n",
        "224    0.031851\n",
        "144    0.164963\n",
        "330    0.221454\n",
        "Name: event_free_survival"
       ]
      }
     ],
     "prompt_number": 91
    },
    {
     "cell_type": "code",
     "collapsed": false,
     "input": [
      "cancer.meta_matrix.ix[144].sum()"
     ],
     "language": "python",
     "metadata": {},
     "outputs": [
      {
       "output_type": "pyout",
       "prompt_number": 98,
       "text": [
        "24"
       ]
      }
     ],
     "prompt_number": 98
    },
    {
     "cell_type": "code",
     "collapsed": false,
     "input": [
      "class DisplayParams:\n",
      "    def __init__(self, **entries): \n",
      "        self.__dict__.update(entries)\n",
      "\n",
      "\n",
      "def getDisplayDict(mod, similarityMatrix, geneWeights):\n",
      "    import networkx as nx\n",
      "    import numpy as np \n",
      "    \n",
      "    s = similarityMatrix.ix[mod,mod]\n",
      "    keepers = s.index[(s + s.T).sum() / (s + s.T).sum().sum() > .001]\n",
      "    #outliers = set(mod).difference(keepers)\n",
      "    s = s.ix[keepers, keepers]\n",
      "    \n",
      "    edges = np.array(np.where(s > 1e-5)).T\n",
      "    edges = [(mod[edge[0]], mod[edge[1]], s.ix[edge[0]][edge[1]]) \n",
      "             for edge in edges]\n",
      "    graph = nx.Graph()\n",
      "    graph.add_weighted_edges_from(edges)\n",
      "    \n",
      "    bestScore = 1e6\n",
      "    for i in range(5):\n",
      "        pos = nx.layout.spring_layout(graph, weight='weight', iterations=1000)\n",
      "        for node in pos:\n",
      "            pos[node] = (pos[node] * 2) - 1\n",
      "            radius = np.sqrt(pow(pos[node][0],2) + pow(pos[node][1],2))\n",
      "            if radius > 1:\n",
      "                pos[node][0] = pos[node][0]/(radius*1.3)\n",
      "                pos[node][1] = pos[node][1]/(radius*1.3)\n",
      "        #score = sum(numpy.sqrt(numpy.abs(pos.values())))\n",
      "        score = np.sum(pow(np.sum(pos.values(), axis=0),2))\n",
      "        #score = sum(pow(np.sum(pos.values(), axis=0),2))\n",
      "        if score < bestScore:\n",
      "            bestScore = score\n",
      "            goodPos = pos\n",
      "\n",
      "    weights = [g[2]['weight'] for g in graph.edges(data=True)]\n",
      "    if len(weights)>0:\n",
      "        weights = 2*(weights/max(weights))\n",
      "    #sizes = np.nan_to_num(np.abs(alteredGenes).ix[graph.nodes()].sum(axis=1))\n",
      "    sizes = geneWeights.ix[graph.nodes()]\n",
      "    sizes = 2000*(sizes/(sum(sizes)+.1))\n",
      "    cover = geneWeights.ix[list(mod)].sum()\n",
      "    #cover = alteredGenes.ix[list(mod)].sum().sum()\n",
      " \n",
      "    return dict(graph=graph, pos=goodPos, weights=weights, sizes=sizes,\n",
      "                cover=cover)\n",
      "    \n",
      "    \n",
      "def drawMod(genes=None, similarityMatrix=None, geneWeights=None,\n",
      "            ax=None, displayParams=None, center=(0,0)):\n",
      "    import networkx as nx\n",
      "    \n",
      "    import matplotlib.pyplot as plt\n",
      "    import matplotlib.patches as mpatches\n",
      "    if displayParams is None:\n",
      "        if (similarityMatrix is None) or (geneWeights is None):\n",
      "            print 'Need to compute module display parameters.'\n",
      "            print 'Function needs similarityMatrix and alteredGene matrix.'\n",
      "            return\n",
      "        else:\n",
      "            dP = DisplayParams(**getDisplayDict(genes, similarityMatrix, \n",
      "                                                  geneWeights))\n",
      "    elif type(displayParams) == dict:\n",
      "        dP = DisplayParams(**displayParams)\n",
      "    else:\n",
      "        dP = displayParams\n",
      "        \n",
      "    adjPos = dict([(gene, center + dP.pos[gene]) for gene in dP.pos])\n",
      "    \n",
      "    if ax is None: \n",
      "        fig,ax = plt.subplots(1,1, figsize=(5,5))\n",
      "    ax.set_frame_on(False)\n",
      "    ax.set_xticks([])\n",
      "    ax.set_yticks([])\n",
      "    \n",
      "    nx.draw_networkx_nodes(dP.graph, adjPos, ax=ax, node_size=dP.sizes, \n",
      "                           node_color=dP.sizes, alpha=.5, linewidths=1)\n",
      "    nx.draw_networkx_edges(dP.graph, adjPos, ax=ax, node_size=dP.sizes, \n",
      "                           node_color='grey', alpha=.2, width=dP.weights);\n",
      "    \n",
      "    labelPos = dict([(key, adjPos[key]+(0,0)) for key in adjPos])\n",
      "    nodesToLabel = list(dP.sizes[dP.sizes > 100].index)\n",
      "    nx.draw_networkx_labels(dP.graph.subgraph(nodesToLabel), labelPos, ax=ax);\n",
      "    \n",
      "    art = mpatches.Circle(center, 1, color='black', alpha=.05, fill=False, lw=5)\n",
      "    ax.add_patch(art)\n",
      "    \n",
      "    ax.set_xbound(-1,1)\n",
      "    ax.set_ybound(-1,1)\n",
      "    #ax.annotate(int(dP.cover), (center[0]+.75, center[1]+.75))\n",
      "    \n",
      "    return dP"
     ],
     "language": "python",
     "metadata": {},
     "outputs": [],
     "prompt_number": 130
    },
    {
     "cell_type": "code",
     "collapsed": false,
     "input": [
      "drawMod(candidates[144], similarityMatrix, geneWeights=scores)\n",
      "savefig('mod.pdf')"
     ],
     "language": "python",
     "metadata": {},
     "outputs": [
      {
       "output_type": "display_data",
       "png": "[encoded data removed]"
      }
     ],
     "prompt_number": 136
    },
    {
     "cell_type": "code",
     "collapsed": false,
     "input": [
      "from Reports.Figures import *"
     ],
     "language": "python",
     "metadata": {},
     "outputs": [],
     "prompt_number": 104
    },
    {
     "cell_type": "code",
     "collapsed": false,
     "input": [
      "from Reports.Figures import *\n",
      "def draw_survival_curves_KM(clinical, hit_vec, time_var='days', event_var='deceased',\n",
      "                            filename='tmp.png', show=False, ax=None, title=True, \n",
      "                            labels=['No Mutation', 'Mutation'], ann=None):\n",
      "    if not hasattr(hit_vec, 'name'):\n",
      "        hit_vec.name = 'pathway'\n",
      "    df = clinical[[time_var, event_var]].join(hit_vec)\n",
      "    df = df.dropna()\n",
      "    df_r = com.convert_to_r_dataframe(df) #@UndefinedVariable\n",
      "    fmla = robjects.Formula('Surv(' + time_var + ', ' + event_var + ') ~ ' + hit_vec.name)\n",
      "    fit = survival.survfit(fmla, df_r)\n",
      "    ls = r('2:' + str(len(set(hit_vec))+1)) #R line styles\n",
      "    if filename.endswith('.png'):\n",
      "        r.png(filename=filename, width=300, height=250, res=100, pointsize=8)\n",
      "    else:\n",
      "        r.pdf(filename, width=4.5, height=3.75)\n",
      "    s = survival.survdiff(fmla, df_r)\n",
      "    p = str(s).split('\\n\\n')[-1].strip().split(', ')[-1]\n",
      "    ls = r.c('blue','purple','red')\n",
      "    r.plot(survival.survfit(fmla, df_r), lty=1, col=ls, lwd=3, cex=1.5, \n",
      "                            xlab='Days to Event', ylab= 'Survival');\n",
      "    if title:\n",
      "        r('title')(hit_vec.name)\n",
      "    r('legend')(nanmax(df[time_var]) * .5,.9, labels, lty=1, col=ls, lwd=3)\n",
      "    if ann=='p':\n",
      "        r.text(0, labels='logrank ' + p, pos=4)\n",
      "    elif ann != None:\n",
      "        r.text(0, labels=ann, pos=4)\n",
      "    r('dev.off()')"
     ],
     "language": "python",
     "metadata": {},
     "outputs": [],
     "prompt_number": 116
    },
    {
     "cell_type": "code",
     "collapsed": false,
     "input": [
      "from IPython.display import Image"
     ],
     "language": "python",
     "metadata": {},
     "outputs": [],
     "prompt_number": 117
    },
    {
     "cell_type": "code",
     "collapsed": false,
     "input": [
      "covariates = ['age','rate']\n",
      "time_var = 'event_free_survival'\n",
      "event_var = 'event'\n",
      "\n",
      "clinical = cancer.clinical[[time_var, event_var] + covariates].dropna()"
     ],
     "language": "python",
     "metadata": {},
     "outputs": [],
     "prompt_number": 121
    },
    {
     "cell_type": "code",
     "collapsed": false,
     "input": [
      "clinical.sort(columns='event_free_survival').tail()"
     ],
     "language": "python",
     "metadata": {},
     "outputs": [
      {
       "html": [
        "<div style=\"max-height:1000px;max-width:1500px;overflow:auto;\">\n",
        "<table border=\"1\" class=\"dataframe\">\n",
        "  <thead>\n",
        "    <tr style=\"text-align: right;\">\n",
        "      <th></th>\n",
        "      <th>event_free_survival</th>\n",
        "      <th>event</th>\n",
        "      <th>age</th>\n",
        "      <th>rate</th>\n",
        "    </tr>\n",
        "  </thead>\n",
        "  <tbody>\n",
        "    <tr>\n",
        "      <td><strong>TCGA-23-1118</strong></td>\n",
        "      <td> 2616</td>\n",
        "      <td> 0</td>\n",
        "      <td> 45.123288</td>\n",
        "      <td> 4.127134</td>\n",
        "    </tr>\n",
        "    <tr>\n",
        "      <td><strong>TCGA-13-1481</strong></td>\n",
        "      <td> 2648</td>\n",
        "      <td> 1</td>\n",
        "      <td> 76.432877</td>\n",
        "      <td> 4.499810</td>\n",
        "    </tr>\n",
        "    <tr>\n",
        "      <td><strong>TCGA-23-2078</strong></td>\n",
        "      <td> 2661</td>\n",
        "      <td> 0</td>\n",
        "      <td> 66.361644</td>\n",
        "      <td> 4.488636</td>\n",
        "    </tr>\n",
        "    <tr>\n",
        "      <td><strong>TCGA-24-1604</strong></td>\n",
        "      <td> 2687</td>\n",
        "      <td> 1</td>\n",
        "      <td> 67.043836</td>\n",
        "      <td> 3.931826</td>\n",
        "    </tr>\n",
        "    <tr>\n",
        "      <td><strong>TCGA-13-0885</strong></td>\n",
        "      <td> 2780</td>\n",
        "      <td> 0</td>\n",
        "      <td> 70.580822</td>\n",
        "      <td> 4.844187</td>\n",
        "    </tr>\n",
        "  </tbody>\n",
        "</table>\n",
        "</div>"
       ],
       "output_type": "pyout",
       "prompt_number": 127,
       "text": [
        "              event_free_survival  event        age      rate\n",
        "TCGA-23-1118                 2616      0  45.123288  4.127134\n",
        "TCGA-13-1481                 2648      1  76.432877  4.499810\n",
        "TCGA-23-2078                 2661      0  66.361644  4.488636\n",
        "TCGA-24-1604                 2687      1  67.043836  3.931826\n",
        "TCGA-13-0885                 2780      0  70.580822  4.844187"
       ]
      }
     ],
     "prompt_number": 127
    },
    {
     "cell_type": "code",
     "collapsed": false,
     "input": [
      "hit_vec = cancer.meta_matrix.ix[144].clip_upper(1.)\n",
      "hit_vec.name = 'Module'\n",
      "draw_survival_curves_KM(clinical, hit_vec, 'event_free_survival', 'event',\n",
      "                        filename='mod_surv.pdf')\n",
      "Image(filename='tmp.png')"
     ],
     "language": "python",
     "metadata": {},
     "outputs": [
      {
       "output_type": "pyout",
       "png": "[encoded data removed]",
       "prompt_number": 138,
       "text": [
        "<IPython.core.display.Image at 0x2dbd7050>"
       ]
      }
     ],
     "prompt_number": 138
    },
    {
     "cell_type": "code",
     "collapsed": false,
     "input": [],
     "language": "python",
     "metadata": {},
     "outputs": []
    }
   ],
   "metadata": {}
  }
 ]
}