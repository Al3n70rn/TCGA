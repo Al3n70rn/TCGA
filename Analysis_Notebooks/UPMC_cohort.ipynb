{
 "metadata": {
  "name": "",
  "signature": "sha256:2dba4451db5057dc98951b644d4cc2bce87d5242241f8af9824c59235b817389"
 },
 "nbformat": 3,
 "nbformat_minor": 0,
 "worksheets": [
  {
   "cells": [
    {
     "cell_type": "markdown",
     "metadata": {},
     "source": [
      "<h1 class=\"alert alert-info\">UPMC HNSCC Cohort <small> <i class=\"icon-globe\"></i> Validation of Primary Findings in UPMC Cohort</small></h1>"
     ]
    },
    {
     "cell_type": "markdown",
     "metadata": {},
     "source": [
      "####Import Data and Packages  \n",
      "For full list of data and packages imported see the [Imports](../Analysis_Notebooks/Imports.ipynb) notebook."
     ]
    },
    {
     "cell_type": "code",
     "collapsed": false,
     "input": [
      "import NotebookImport\n",
      "from Imports import *"
     ],
     "language": "python",
     "metadata": {},
     "outputs": [
      {
       "output_type": "stream",
       "stream": "stdout",
       "text": [
        "importing IPython notebook from Imports.ipynb\n",
        "Populating the interactive namespace from numpy and matplotlib"
       ]
      },
      {
       "output_type": "stream",
       "stream": "stdout",
       "text": [
        "\n",
        "changing to source dirctory"
       ]
      },
      {
       "output_type": "stream",
       "stream": "stdout",
       "text": [
        "\n",
        "populating namespace with data"
       ]
      },
      {
       "output_type": "stream",
       "stream": "stdout",
       "text": [
        "\n"
       ]
      }
     ],
     "prompt_number": 1
    },
    {
     "cell_type": "heading",
     "level": 2,
     "metadata": {},
     "source": [
      "Read in UPMC Data"
     ]
    },
    {
     "cell_type": "code",
     "collapsed": false,
     "input": [
      "meta = pd.read_csv('../Extra_Data/UPMC_cohort/meta.csv', index_col=0)\n",
      "meta.index = pd.MultiIndex.from_tuples([('-'.join(i.split('-')[:-1]), i.split('-')[-1]) \n",
      "                                        for i in meta.index])"
     ],
     "language": "python",
     "metadata": {},
     "outputs": [],
     "prompt_number": 2
    },
    {
     "cell_type": "code",
     "collapsed": false,
     "input": [
      "clin = pd.read_csv('../Extra_Data/UPMC_cohort/pitt_broad_data.csv', index_col=0)\n",
      "clin.Tumor_type = clin.Tumor_type.map(str.strip)\n",
      "surv = pd.concat([clin.os_5yr, clin.os_5yr_mons*30.5], keys=['event','days'], axis=1).stack()\n",
      "clin2 = pd.read_csv('../Extra_Data/UPMC_cohort/pitt_broad_data_update.csv', index_col=0)\n",
      "surv2 = pd.concat([clin2.os_5yr, clin2.os_5yr_mons*30.5], keys=['event','days'], axis=1).stack()\n",
      "surv = surv2.combine_first(surv)"
     ],
     "language": "python",
     "metadata": {},
     "outputs": [],
     "prompt_number": 3
    },
    {
     "cell_type": "heading",
     "level": 2,
     "metadata": {},
     "source": [
      "Explore Clinical Features of UPMC Cohort"
     ]
    },
    {
     "cell_type": "code",
     "collapsed": false,
     "input": [
      "keepers = ti(clin.HPV == 'Negative')"
     ],
     "language": "python",
     "metadata": {},
     "outputs": [],
     "prompt_number": 4
    },
    {
     "cell_type": "code",
     "collapsed": false,
     "input": [
      "cc = clin.ix[true_index(meta.Final_74_exome_analysis[:,'Tumor']>0)]\n",
      "cc = cc.ix[:,cc.apply(pd.value_counts).count().isin([2,3,4])]\n",
      "cc = cc.dropna(1)"
     ],
     "language": "python",
     "metadata": {},
     "outputs": [],
     "prompt_number": 5
    },
    {
     "cell_type": "code",
     "collapsed": false,
     "input": [
      "cox_screen(cc.T, surv)[7:].head(10)"
     ],
     "language": "python",
     "metadata": {},
     "outputs": [
      {
       "html": [
        "<div style=\"max-height:1000px;max-width:1500px;overflow:auto;\">\n",
        "<table border=\"1\" class=\"dataframe\">\n",
        "  <thead>\n",
        "    <tr>\n",
        "      <th></th>\n",
        "      <th colspan=\"4\" halign=\"left\">hazard</th>\n",
        "      <th colspan=\"4\" halign=\"left\">LR</th>\n",
        "      <th colspan=\"2\" halign=\"left\">concordance</th>\n",
        "    </tr>\n",
        "    <tr>\n",
        "      <th></th>\n",
        "      <th>exp(-coef)</th>\n",
        "      <th>exp(coef)</th>\n",
        "      <th>lower .95</th>\n",
        "      <th>upper .95</th>\n",
        "      <th>df</th>\n",
        "      <th>p</th>\n",
        "      <th>stat</th>\n",
        "      <th>q</th>\n",
        "      <th>se</th>\n",
        "      <th>stat</th>\n",
        "    </tr>\n",
        "  </thead>\n",
        "  <tbody>\n",
        "    <tr>\n",
        "      <th>Neoadj_tx</th>\n",
        "      <td> 0.01</td>\n",
        "      <td> 115.91</td>\n",
        "      <td> 10.25</td>\n",
        "      <td> 1311.28</td>\n",
        "      <td> 1</td>\n",
        "      <td> 4.32e-04</td>\n",
        "      <td> 12.39</td>\n",
        "      <td> 0.00</td>\n",
        "      <td> 0.00</td>\n",
        "      <td> 0.53</td>\n",
        "    </tr>\n",
        "    <tr>\n",
        "      <th>Chemo </th>\n",
        "      <td> 0.04</td>\n",
        "      <td>  27.59</td>\n",
        "      <td>  5.33</td>\n",
        "      <td>  142.93</td>\n",
        "      <td> 2</td>\n",
        "      <td> 1.54e-03</td>\n",
        "      <td> 12.95</td>\n",
        "      <td> 0.00</td>\n",
        "      <td> 0.04</td>\n",
        "      <td> 0.62</td>\n",
        "    </tr>\n",
        "    <tr>\n",
        "      <th>Adj_chemo</th>\n",
        "      <td> 0.04</td>\n",
        "      <td>  27.59</td>\n",
        "      <td>  5.33</td>\n",
        "      <td>  142.93</td>\n",
        "      <td> 2</td>\n",
        "      <td> 1.54e-03</td>\n",
        "      <td> 12.95</td>\n",
        "      <td> 0.00</td>\n",
        "      <td> 0.04</td>\n",
        "      <td> 0.62</td>\n",
        "    </tr>\n",
        "    <tr>\n",
        "      <th>Recurrence</th>\n",
        "      <td> 0.45</td>\n",
        "      <td>   2.21</td>\n",
        "      <td>  1.18</td>\n",
        "      <td>    4.12</td>\n",
        "      <td> 1</td>\n",
        "      <td> 1.41e-02</td>\n",
        "      <td>  6.02</td>\n",
        "      <td> 0.04</td>\n",
        "      <td> 0.04</td>\n",
        "      <td> 0.57</td>\n",
        "    </tr>\n",
        "    <tr>\n",
        "      <th>PNI</th>\n",
        "      <td> 0.42</td>\n",
        "      <td>   2.36</td>\n",
        "      <td>  0.86</td>\n",
        "      <td>    6.50</td>\n",
        "      <td> 2</td>\n",
        "      <td> 1.49e-02</td>\n",
        "      <td>  8.41</td>\n",
        "      <td> 0.04</td>\n",
        "      <td> 0.04</td>\n",
        "      <td> 0.62</td>\n",
        "    </tr>\n",
        "    <tr>\n",
        "      <th>DistMets</th>\n",
        "      <td> 0.35</td>\n",
        "      <td>   2.82</td>\n",
        "      <td>  1.33</td>\n",
        "      <td>    6.01</td>\n",
        "      <td> 1</td>\n",
        "      <td> 1.44e-02</td>\n",
        "      <td>  5.98</td>\n",
        "      <td> 0.04</td>\n",
        "      <td> 0.03</td>\n",
        "      <td> 0.55</td>\n",
        "    </tr>\n",
        "    <tr>\n",
        "      <th>EPS</th>\n",
        "      <td> 1.45</td>\n",
        "      <td>   0.69</td>\n",
        "      <td>  0.30</td>\n",
        "      <td>    1.58</td>\n",
        "      <td> 2</td>\n",
        "      <td> 2.14e-02</td>\n",
        "      <td>  7.69</td>\n",
        "      <td> 0.05</td>\n",
        "      <td> 0.04</td>\n",
        "      <td> 0.62</td>\n",
        "    </tr>\n",
        "    <tr>\n",
        "      <th>Dif</th>\n",
        "      <td> 0.90</td>\n",
        "      <td>   1.11</td>\n",
        "      <td>  0.58</td>\n",
        "      <td>    2.13</td>\n",
        "      <td> 3</td>\n",
        "      <td> 6.69e-02</td>\n",
        "      <td>  7.16</td>\n",
        "      <td> 0.14</td>\n",
        "      <td> 0.04</td>\n",
        "      <td> 0.54</td>\n",
        "    </tr>\n",
        "    <tr>\n",
        "      <th>Ethnicity</th>\n",
        "      <td> 6.71</td>\n",
        "      <td>   0.15</td>\n",
        "      <td>  0.02</td>\n",
        "      <td>    1.16</td>\n",
        "      <td> 1</td>\n",
        "      <td> 1.54e-01</td>\n",
        "      <td>  2.04</td>\n",
        "      <td> 0.28</td>\n",
        "      <td> 0.01</td>\n",
        "      <td> 0.51</td>\n",
        "    </tr>\n",
        "    <tr>\n",
        "      <th>Local_recurr</th>\n",
        "      <td> 0.55</td>\n",
        "      <td>   1.83</td>\n",
        "      <td>  0.84</td>\n",
        "      <td>    3.98</td>\n",
        "      <td> 1</td>\n",
        "      <td> 1.53e-01</td>\n",
        "      <td>  2.04</td>\n",
        "      <td> 0.28</td>\n",
        "      <td> 0.03</td>\n",
        "      <td> 0.53</td>\n",
        "    </tr>\n",
        "  </tbody>\n",
        "</table>\n",
        "</div>"
       ],
       "metadata": {},
       "output_type": "pyout",
       "prompt_number": 6,
       "text": [
        "                  hazard                                   LR                         concordance      \n",
        "              exp(-coef)  exp(coef)  lower .95  upper .95  df         p   stat     q           se  stat\n",
        "Neoadj_tx           0.01     115.91      10.25    1311.28   1  4.32e-04  12.39  0.00         0.00  0.53\n",
        "Chemo               0.04      27.59       5.33     142.93   2  1.54e-03  12.95  0.00         0.04  0.62\n",
        "Adj_chemo           0.04      27.59       5.33     142.93   2  1.54e-03  12.95  0.00         0.04  0.62\n",
        "Recurrence          0.45       2.21       1.18       4.12   1  1.41e-02   6.02  0.04         0.04  0.57\n",
        "PNI                 0.42       2.36       0.86       6.50   2  1.49e-02   8.41  0.04         0.04  0.62\n",
        "DistMets            0.35       2.82       1.33       6.01   1  1.44e-02   5.98  0.04         0.03  0.55\n",
        "EPS                 1.45       0.69       0.30       1.58   2  2.14e-02   7.69  0.05         0.04  0.62\n",
        "Dif                 0.90       1.11       0.58       2.13   3  6.69e-02   7.16  0.14         0.04  0.54\n",
        "Ethnicity           6.71       0.15       0.02       1.16   1  1.54e-01   2.04  0.28         0.01  0.51\n",
        "Local_recurr        0.55       1.83       0.84       3.98   1  1.53e-01   2.04  0.28         0.03  0.53"
       ]
      }
     ],
     "prompt_number": 6
    },
    {
     "cell_type": "code",
     "collapsed": false,
     "input": [
      "f = clin.Primary_site.ix[keepers]\n",
      "f = f.replace('Hypopharynx','Other').replace('Sinonasal','Other')\n",
      "get_surv_fit_lr(surv, f)"
     ],
     "language": "python",
     "metadata": {},
     "outputs": [
      {
       "html": [
        "<div style=\"max-height:1000px;max-width:1500px;overflow:auto;\">\n",
        "<table border=\"1\" class=\"dataframe\">\n",
        "  <thead>\n",
        "    <tr>\n",
        "      <th></th>\n",
        "      <th colspan=\"2\" halign=\"left\">Stats</th>\n",
        "      <th colspan=\"3\" halign=\"left\">Median Survival</th>\n",
        "      <th colspan=\"3\" halign=\"left\">5y Survival</th>\n",
        "      <th colspan=\"2\" halign=\"left\">Log-Rank</th>\n",
        "    </tr>\n",
        "    <tr>\n",
        "      <th></th>\n",
        "      <th># Patients</th>\n",
        "      <th># Events</th>\n",
        "      <th>Median</th>\n",
        "      <th>Lower</th>\n",
        "      <th>Upper</th>\n",
        "      <th>Surv</th>\n",
        "      <th>Lower</th>\n",
        "      <th>Upper</th>\n",
        "      <th>chi2</th>\n",
        "      <th>p</th>\n",
        "    </tr>\n",
        "  </thead>\n",
        "  <tbody>\n",
        "    <tr>\n",
        "      <th></th>\n",
        "      <td>   </td>\n",
        "      <td>   </td>\n",
        "      <td>      </td>\n",
        "      <td>      </td>\n",
        "      <td>    </td>\n",
        "      <td>      </td>\n",
        "      <td>      </td>\n",
        "      <td>      </td>\n",
        "      <td> 4.02</td>\n",
        "      <td> 0.259</td>\n",
        "    </tr>\n",
        "    <tr>\n",
        "      <th>Oral cavity</th>\n",
        "      <td> 36</td>\n",
        "      <td> 22</td>\n",
        "      <td>  2.99</td>\n",
        "      <td>   1.3</td>\n",
        "      <td> NaN</td>\n",
        "      <td> 0.411</td>\n",
        "      <td> 0.277</td>\n",
        "      <td>  0.61</td>\n",
        "      <td>     </td>\n",
        "      <td>      </td>\n",
        "    </tr>\n",
        "    <tr>\n",
        "      <th>Larynx</th>\n",
        "      <td> 15</td>\n",
        "      <td>  6</td>\n",
        "      <td>   NaN</td>\n",
        "      <td>   1.5</td>\n",
        "      <td> NaN</td>\n",
        "      <td> 0.574</td>\n",
        "      <td> 0.366</td>\n",
        "      <td> 0.901</td>\n",
        "      <td>     </td>\n",
        "      <td>      </td>\n",
        "    </tr>\n",
        "    <tr>\n",
        "      <th>Other</th>\n",
        "      <td>  8</td>\n",
        "      <td>  4</td>\n",
        "      <td>   3.7</td>\n",
        "      <td>   1.8</td>\n",
        "      <td> NaN</td>\n",
        "      <td>   0.5</td>\n",
        "      <td>  0.25</td>\n",
        "      <td>     1</td>\n",
        "      <td>     </td>\n",
        "      <td>      </td>\n",
        "    </tr>\n",
        "    <tr>\n",
        "      <th>Oropharynx</th>\n",
        "      <td>  4</td>\n",
        "      <td>  3</td>\n",
        "      <td> 0.844</td>\n",
        "      <td> 0.535</td>\n",
        "      <td> NaN</td>\n",
        "      <td>   NaN</td>\n",
        "      <td>   NaN</td>\n",
        "      <td>   NaN</td>\n",
        "      <td>     </td>\n",
        "      <td>      </td>\n",
        "    </tr>\n",
        "  </tbody>\n",
        "</table>\n",
        "</div>"
       ],
       "metadata": {},
       "output_type": "pyout",
       "prompt_number": 7,
       "text": [
        "                 Stats          Median Survival              5y Survival               Log-Rank       \n",
        "            # Patients # Events          Median  Lower Upper        Surv  Lower  Upper     chi2      p\n",
        "                                                                                           4.02  0.259\n",
        "Oral cavity         36       22            2.99    1.3   NaN       0.411  0.277   0.61                \n",
        "Larynx              15        6             NaN    1.5   NaN       0.574  0.366  0.901                \n",
        "Other                8        4             3.7    1.8   NaN         0.5   0.25      1                \n",
        "Oropharynx           4        3           0.844  0.535   NaN         NaN    NaN    NaN                "
       ]
      }
     ],
     "prompt_number": 7
    },
    {
     "cell_type": "code",
     "collapsed": false,
     "input": [
      "f = clin.Nodal_stage.ix[keepers].fillna('.')\n",
      "f = f.replace('N2A','N2').replace('N2B','N2').replace('N2C','N2')\n",
      "get_surv_fit_lr(surv, f)"
     ],
     "language": "python",
     "metadata": {},
     "outputs": [
      {
       "html": [
        "<div style=\"max-height:1000px;max-width:1500px;overflow:auto;\">\n",
        "<table border=\"1\" class=\"dataframe\">\n",
        "  <thead>\n",
        "    <tr>\n",
        "      <th></th>\n",
        "      <th colspan=\"2\" halign=\"left\">Stats</th>\n",
        "      <th colspan=\"3\" halign=\"left\">Median Survival</th>\n",
        "      <th colspan=\"3\" halign=\"left\">5y Survival</th>\n",
        "      <th colspan=\"2\" halign=\"left\">Log-Rank</th>\n",
        "    </tr>\n",
        "    <tr>\n",
        "      <th></th>\n",
        "      <th># Patients</th>\n",
        "      <th># Events</th>\n",
        "      <th>Median</th>\n",
        "      <th>Lower</th>\n",
        "      <th>Upper</th>\n",
        "      <th>Surv</th>\n",
        "      <th>Lower</th>\n",
        "      <th>Upper</th>\n",
        "      <th>chi2</th>\n",
        "      <th>p</th>\n",
        "    </tr>\n",
        "  </thead>\n",
        "  <tbody>\n",
        "    <tr>\n",
        "      <th></th>\n",
        "      <td>   </td>\n",
        "      <td>   </td>\n",
        "      <td>      </td>\n",
        "      <td>      </td>\n",
        "      <td>    </td>\n",
        "      <td>      </td>\n",
        "      <td>      </td>\n",
        "      <td>      </td>\n",
        "      <td> 22.1</td>\n",
        "      <td> 0.000192</td>\n",
        "    </tr>\n",
        "    <tr>\n",
        "      <th>N2</th>\n",
        "      <td> 28</td>\n",
        "      <td> 20</td>\n",
        "      <td>  1.15</td>\n",
        "      <td> 0.978</td>\n",
        "      <td> NaN</td>\n",
        "      <td> 0.298</td>\n",
        "      <td> 0.167</td>\n",
        "      <td> 0.532</td>\n",
        "      <td>     </td>\n",
        "      <td>         </td>\n",
        "    </tr>\n",
        "    <tr>\n",
        "      <th>N0</th>\n",
        "      <td> 19</td>\n",
        "      <td>  6</td>\n",
        "      <td>   NaN</td>\n",
        "      <td>  3.98</td>\n",
        "      <td> NaN</td>\n",
        "      <td> 0.672</td>\n",
        "      <td> 0.487</td>\n",
        "      <td> 0.928</td>\n",
        "      <td>     </td>\n",
        "      <td>         </td>\n",
        "    </tr>\n",
        "    <tr>\n",
        "      <th>N1</th>\n",
        "      <td>  8</td>\n",
        "      <td>  4</td>\n",
        "      <td>   3.7</td>\n",
        "      <td>  2.11</td>\n",
        "      <td> NaN</td>\n",
        "      <td>   0.5</td>\n",
        "      <td>  0.25</td>\n",
        "      <td>     1</td>\n",
        "      <td>     </td>\n",
        "      <td>         </td>\n",
        "    </tr>\n",
        "    <tr>\n",
        "      <th>.</th>\n",
        "      <td>  5</td>\n",
        "      <td>  2</td>\n",
        "      <td>   NaN</td>\n",
        "      <td>  1.55</td>\n",
        "      <td> NaN</td>\n",
        "      <td>   0.6</td>\n",
        "      <td> 0.293</td>\n",
        "      <td>     1</td>\n",
        "      <td>     </td>\n",
        "      <td>         </td>\n",
        "    </tr>\n",
        "    <tr>\n",
        "      <th>N3</th>\n",
        "      <td>  3</td>\n",
        "      <td>  3</td>\n",
        "      <td> 0.894</td>\n",
        "      <td> 0.535</td>\n",
        "      <td> NaN</td>\n",
        "      <td>   NaN</td>\n",
        "      <td>   NaN</td>\n",
        "      <td>   NaN</td>\n",
        "      <td>     </td>\n",
        "      <td>         </td>\n",
        "    </tr>\n",
        "  </tbody>\n",
        "</table>\n",
        "</div>"
       ],
       "metadata": {},
       "output_type": "pyout",
       "prompt_number": 8,
       "text": [
        "        Stats          Median Survival              5y Survival               Log-Rank          \n",
        "   # Patients # Events          Median  Lower Upper        Surv  Lower  Upper     chi2         p\n",
        "                                                                                  22.1  0.000192\n",
        "N2         28       20            1.15  0.978   NaN       0.298  0.167  0.532                   \n",
        "N0         19        6             NaN   3.98   NaN       0.672  0.487  0.928                   \n",
        "N1          8        4             3.7   2.11   NaN         0.5   0.25      1                   \n",
        ".           5        2             NaN   1.55   NaN         0.6  0.293      1                   \n",
        "N3          3        3           0.894  0.535   NaN         NaN    NaN    NaN                   "
       ]
      }
     ],
     "prompt_number": 8
    },
    {
     "cell_type": "code",
     "collapsed": false,
     "input": [
      "survival_and_stats(f.isin(['N2','N3']), surv)"
     ],
     "language": "python",
     "metadata": {},
     "outputs": [
      {
       "metadata": {},
       "output_type": "display_data",
       "png": "[encoded data removed]",
       "text": [
        "<matplotlib.figure.Figure at 0x7b82710>"
       ]
      }
     ],
     "prompt_number": 9
    },
    {
     "cell_type": "code",
     "collapsed": false,
     "input": [
      "f = clin.clinical_stage.ix[keepers]\n",
      "f = f.replace('IVa','IV').replace('IVb','IV').replace('.', 'Unstaged').fillna('Unstaged')\n",
      "get_surv_fit_lr(surv, f)"
     ],
     "language": "python",
     "metadata": {},
     "outputs": [
      {
       "html": [
        "<div style=\"max-height:1000px;max-width:1500px;overflow:auto;\">\n",
        "<table border=\"1\" class=\"dataframe\">\n",
        "  <thead>\n",
        "    <tr>\n",
        "      <th></th>\n",
        "      <th colspan=\"2\" halign=\"left\">Stats</th>\n",
        "      <th colspan=\"3\" halign=\"left\">Median Survival</th>\n",
        "      <th colspan=\"3\" halign=\"left\">5y Survival</th>\n",
        "      <th colspan=\"2\" halign=\"left\">Log-Rank</th>\n",
        "    </tr>\n",
        "    <tr>\n",
        "      <th></th>\n",
        "      <th># Patients</th>\n",
        "      <th># Events</th>\n",
        "      <th>Median</th>\n",
        "      <th>Lower</th>\n",
        "      <th>Upper</th>\n",
        "      <th>Surv</th>\n",
        "      <th>Lower</th>\n",
        "      <th>Upper</th>\n",
        "      <th>chi2</th>\n",
        "      <th>p</th>\n",
        "    </tr>\n",
        "  </thead>\n",
        "  <tbody>\n",
        "    <tr>\n",
        "      <th></th>\n",
        "      <td>   </td>\n",
        "      <td>   </td>\n",
        "      <td>    </td>\n",
        "      <td>     </td>\n",
        "      <td>    </td>\n",
        "      <td>      </td>\n",
        "      <td>      </td>\n",
        "      <td>      </td>\n",
        "      <td> 4.3</td>\n",
        "      <td> 0.231</td>\n",
        "    </tr>\n",
        "    <tr>\n",
        "      <th>IV</th>\n",
        "      <td> 43</td>\n",
        "      <td> 27</td>\n",
        "      <td> 1.6</td>\n",
        "      <td>  1.1</td>\n",
        "      <td> NaN</td>\n",
        "      <td>  0.38</td>\n",
        "      <td> 0.258</td>\n",
        "      <td>  0.56</td>\n",
        "      <td>    </td>\n",
        "      <td>      </td>\n",
        "    </tr>\n",
        "    <tr>\n",
        "      <th>III</th>\n",
        "      <td> 12</td>\n",
        "      <td>  5</td>\n",
        "      <td> NaN</td>\n",
        "      <td> 2.11</td>\n",
        "      <td> NaN</td>\n",
        "      <td> 0.583</td>\n",
        "      <td> 0.362</td>\n",
        "      <td> 0.941</td>\n",
        "      <td>    </td>\n",
        "      <td>      </td>\n",
        "    </tr>\n",
        "    <tr>\n",
        "      <th>Unstaged</th>\n",
        "      <td>  5</td>\n",
        "      <td>  2</td>\n",
        "      <td> NaN</td>\n",
        "      <td> 1.55</td>\n",
        "      <td> NaN</td>\n",
        "      <td>   0.6</td>\n",
        "      <td> 0.293</td>\n",
        "      <td>     1</td>\n",
        "      <td>    </td>\n",
        "      <td>      </td>\n",
        "    </tr>\n",
        "    <tr>\n",
        "      <th>II</th>\n",
        "      <td>  3</td>\n",
        "      <td>  1</td>\n",
        "      <td> NaN</td>\n",
        "      <td> 3.98</td>\n",
        "      <td> NaN</td>\n",
        "      <td> 0.667</td>\n",
        "      <td>   0.3</td>\n",
        "      <td>     1</td>\n",
        "      <td>    </td>\n",
        "      <td>      </td>\n",
        "    </tr>\n",
        "  </tbody>\n",
        "</table>\n",
        "</div>"
       ],
       "metadata": {},
       "output_type": "pyout",
       "prompt_number": 10,
       "text": [
        "              Stats          Median Survival             5y Survival               Log-Rank       \n",
        "         # Patients # Events          Median Lower Upper        Surv  Lower  Upper     chi2      p\n",
        "                                                                                        4.3  0.231\n",
        "IV               43       27             1.6   1.1   NaN        0.38  0.258   0.56                \n",
        "III              12        5             NaN  2.11   NaN       0.583  0.362  0.941                \n",
        "Unstaged          5        2             NaN  1.55   NaN         0.6  0.293      1                \n",
        "II                3        1             NaN  3.98   NaN       0.667    0.3      1                "
       ]
      }
     ],
     "prompt_number": 10
    },
    {
     "cell_type": "code",
     "collapsed": false,
     "input": [
      "f = clin.Alcohol_amt.fillna(0).ix[keepers].replace('.', 0).astype(float) > 13\n",
      "f2 = clin.Alcohol_amt.fillna(0).ix[keepers].replace('.', 0).astype(float) < 7\n",
      "get_surv_fit_lr(surv, 1.*f - 1.*f2)"
     ],
     "language": "python",
     "metadata": {},
     "outputs": [
      {
       "html": [
        "<div style=\"max-height:1000px;max-width:1500px;overflow:auto;\">\n",
        "<table border=\"1\" class=\"dataframe\">\n",
        "  <thead>\n",
        "    <tr>\n",
        "      <th></th>\n",
        "      <th colspan=\"2\" halign=\"left\">Stats</th>\n",
        "      <th colspan=\"3\" halign=\"left\">Median Survival</th>\n",
        "      <th colspan=\"3\" halign=\"left\">5y Survival</th>\n",
        "      <th colspan=\"2\" halign=\"left\">Log-Rank</th>\n",
        "    </tr>\n",
        "    <tr>\n",
        "      <th></th>\n",
        "      <th># Patients</th>\n",
        "      <th># Events</th>\n",
        "      <th>Median</th>\n",
        "      <th>Lower</th>\n",
        "      <th>Upper</th>\n",
        "      <th>Surv</th>\n",
        "      <th>Lower</th>\n",
        "      <th>Upper</th>\n",
        "      <th>chi2</th>\n",
        "      <th>p</th>\n",
        "    </tr>\n",
        "  </thead>\n",
        "  <tbody>\n",
        "    <tr>\n",
        "      <th></th>\n",
        "      <td>   </td>\n",
        "      <td>   </td>\n",
        "      <td>     </td>\n",
        "      <td>      </td>\n",
        "      <td>    </td>\n",
        "      <td>      </td>\n",
        "      <td>       </td>\n",
        "      <td>      </td>\n",
        "      <td> 3.25</td>\n",
        "      <td> 0.197</td>\n",
        "    </tr>\n",
        "    <tr>\n",
        "      <th>-1</th>\n",
        "      <td> 36</td>\n",
        "      <td> 19</td>\n",
        "      <td> 3.98</td>\n",
        "      <td>   1.8</td>\n",
        "      <td> NaN</td>\n",
        "      <td> 0.497</td>\n",
        "      <td>  0.357</td>\n",
        "      <td> 0.692</td>\n",
        "      <td>     </td>\n",
        "      <td>      </td>\n",
        "    </tr>\n",
        "    <tr>\n",
        "      <th>0</th>\n",
        "      <td> 18</td>\n",
        "      <td>  9</td>\n",
        "      <td> 3.65</td>\n",
        "      <td>  1.29</td>\n",
        "      <td> NaN</td>\n",
        "      <td> 0.463</td>\n",
        "      <td>  0.276</td>\n",
        "      <td> 0.778</td>\n",
        "      <td>     </td>\n",
        "      <td>      </td>\n",
        "    </tr>\n",
        "    <tr>\n",
        "      <th>1</th>\n",
        "      <td>  9</td>\n",
        "      <td>  7</td>\n",
        "      <td>  1.1</td>\n",
        "      <td> 0.953</td>\n",
        "      <td> NaN</td>\n",
        "      <td> 0.222</td>\n",
        "      <td> 0.0655</td>\n",
        "      <td> 0.754</td>\n",
        "      <td>     </td>\n",
        "      <td>      </td>\n",
        "    </tr>\n",
        "  </tbody>\n",
        "</table>\n",
        "</div>"
       ],
       "metadata": {},
       "output_type": "pyout",
       "prompt_number": 11,
       "text": [
        "        Stats          Median Survival              5y Survival                Log-Rank       \n",
        "   # Patients # Events          Median  Lower Upper        Surv   Lower  Upper     chi2      p\n",
        "                                                                                   3.25  0.197\n",
        "-1         36       19            3.98    1.8   NaN       0.497   0.357  0.692                \n",
        "0          18        9            3.65   1.29   NaN       0.463   0.276  0.778                \n",
        "1           9        7             1.1  0.953   NaN       0.222  0.0655  0.754                "
       ]
      }
     ],
     "prompt_number": 11
    },
    {
     "cell_type": "code",
     "collapsed": false,
     "input": [
      "get_surv_fit_lr(surv, clin.Tob_history.ix[keepers])"
     ],
     "language": "python",
     "metadata": {},
     "outputs": [
      {
       "html": [
        "<div style=\"max-height:1000px;max-width:1500px;overflow:auto;\">\n",
        "<table border=\"1\" class=\"dataframe\">\n",
        "  <thead>\n",
        "    <tr>\n",
        "      <th></th>\n",
        "      <th colspan=\"2\" halign=\"left\">Stats</th>\n",
        "      <th colspan=\"3\" halign=\"left\">Median Survival</th>\n",
        "      <th colspan=\"3\" halign=\"left\">5y Survival</th>\n",
        "      <th colspan=\"2\" halign=\"left\">Log-Rank</th>\n",
        "    </tr>\n",
        "    <tr>\n",
        "      <th></th>\n",
        "      <th># Patients</th>\n",
        "      <th># Events</th>\n",
        "      <th>Median</th>\n",
        "      <th>Lower</th>\n",
        "      <th>Upper</th>\n",
        "      <th>Surv</th>\n",
        "      <th>Lower</th>\n",
        "      <th>Upper</th>\n",
        "      <th>chi2</th>\n",
        "      <th>p</th>\n",
        "    </tr>\n",
        "  </thead>\n",
        "  <tbody>\n",
        "    <tr>\n",
        "      <th></th>\n",
        "      <td>   </td>\n",
        "      <td>   </td>\n",
        "      <td>     </td>\n",
        "      <td>     </td>\n",
        "      <td>    </td>\n",
        "      <td>     </td>\n",
        "      <td>      </td>\n",
        "      <td>      </td>\n",
        "      <td> 0.0913</td>\n",
        "      <td> 0.763</td>\n",
        "    </tr>\n",
        "    <tr>\n",
        "      <th>yes</th>\n",
        "      <td> 55</td>\n",
        "      <td> 31</td>\n",
        "      <td> 3.65</td>\n",
        "      <td> 1.55</td>\n",
        "      <td> NaN</td>\n",
        "      <td> 0.44</td>\n",
        "      <td> 0.324</td>\n",
        "      <td> 0.596</td>\n",
        "      <td>       </td>\n",
        "      <td>      </td>\n",
        "    </tr>\n",
        "    <tr>\n",
        "      <th>no</th>\n",
        "      <td>  8</td>\n",
        "      <td>  4</td>\n",
        "      <td> 1.43</td>\n",
        "      <td>  1.3</td>\n",
        "      <td> NaN</td>\n",
        "      <td>  0.5</td>\n",
        "      <td>  0.25</td>\n",
        "      <td>     1</td>\n",
        "      <td>       </td>\n",
        "      <td>      </td>\n",
        "    </tr>\n",
        "  </tbody>\n",
        "</table>\n",
        "</div>"
       ],
       "metadata": {},
       "output_type": "pyout",
       "prompt_number": 12,
       "text": [
        "         Stats          Median Survival             5y Survival               Log-Rank       \n",
        "    # Patients # Events          Median Lower Upper        Surv  Lower  Upper     chi2      p\n",
        "                                                                                0.0913  0.763\n",
        "yes         55       31            3.65  1.55   NaN        0.44  0.324  0.596                \n",
        "no           8        4            1.43   1.3   NaN         0.5   0.25      1                "
       ]
      }
     ],
     "prompt_number": 12
    },
    {
     "cell_type": "code",
     "collapsed": false,
     "input": [
      "get_surv_fit_lr(surv, clin.PNI.ix[keepers])"
     ],
     "language": "python",
     "metadata": {},
     "outputs": [
      {
       "html": [
        "<div style=\"max-height:1000px;max-width:1500px;overflow:auto;\">\n",
        "<table border=\"1\" class=\"dataframe\">\n",
        "  <thead>\n",
        "    <tr>\n",
        "      <th></th>\n",
        "      <th colspan=\"2\" halign=\"left\">Stats</th>\n",
        "      <th colspan=\"3\" halign=\"left\">Median Survival</th>\n",
        "      <th colspan=\"3\" halign=\"left\">5y Survival</th>\n",
        "      <th colspan=\"2\" halign=\"left\">Log-Rank</th>\n",
        "    </tr>\n",
        "    <tr>\n",
        "      <th></th>\n",
        "      <th># Patients</th>\n",
        "      <th># Events</th>\n",
        "      <th>Median</th>\n",
        "      <th>Lower</th>\n",
        "      <th>Upper</th>\n",
        "      <th>Surv</th>\n",
        "      <th>Lower</th>\n",
        "      <th>Upper</th>\n",
        "      <th>chi2</th>\n",
        "      <th>p</th>\n",
        "    </tr>\n",
        "  </thead>\n",
        "  <tbody>\n",
        "    <tr>\n",
        "      <th></th>\n",
        "      <td>   </td>\n",
        "      <td>   </td>\n",
        "      <td>     </td>\n",
        "      <td>     </td>\n",
        "      <td>    </td>\n",
        "      <td>      </td>\n",
        "      <td>      </td>\n",
        "      <td>      </td>\n",
        "      <td> 6.78</td>\n",
        "      <td> 0.0338</td>\n",
        "    </tr>\n",
        "    <tr>\n",
        "      <th>yes</th>\n",
        "      <td> 31</td>\n",
        "      <td> 22</td>\n",
        "      <td> 1.55</td>\n",
        "      <td>    1</td>\n",
        "      <td> NaN</td>\n",
        "      <td> 0.323</td>\n",
        "      <td> 0.194</td>\n",
        "      <td> 0.537</td>\n",
        "      <td>     </td>\n",
        "      <td>       </td>\n",
        "    </tr>\n",
        "    <tr>\n",
        "      <th>no</th>\n",
        "      <td> 26</td>\n",
        "      <td>  9</td>\n",
        "      <td>  NaN</td>\n",
        "      <td> 3.98</td>\n",
        "      <td> NaN</td>\n",
        "      <td> 0.636</td>\n",
        "      <td> 0.471</td>\n",
        "      <td> 0.858</td>\n",
        "      <td>     </td>\n",
        "      <td>       </td>\n",
        "    </tr>\n",
        "    <tr>\n",
        "      <th>unknown</th>\n",
        "      <td>  6</td>\n",
        "      <td>  4</td>\n",
        "      <td> 3.25</td>\n",
        "      <td>  1.1</td>\n",
        "      <td> NaN</td>\n",
        "      <td>   NaN</td>\n",
        "      <td>   NaN</td>\n",
        "      <td>   NaN</td>\n",
        "      <td>     </td>\n",
        "      <td>       </td>\n",
        "    </tr>\n",
        "  </tbody>\n",
        "</table>\n",
        "</div>"
       ],
       "metadata": {},
       "output_type": "pyout",
       "prompt_number": 13,
       "text": [
        "             Stats          Median Survival             5y Survival               Log-Rank        \n",
        "        # Patients # Events          Median Lower Upper        Surv  Lower  Upper     chi2       p\n",
        "                                                                                      6.78  0.0338\n",
        "yes             31       22            1.55     1   NaN       0.323  0.194  0.537                 \n",
        "no              26        9             NaN  3.98   NaN       0.636  0.471  0.858                 \n",
        "unknown          6        4            3.25   1.1   NaN         NaN    NaN    NaN                 "
       ]
      }
     ],
     "prompt_number": 13
    },
    {
     "cell_type": "code",
     "collapsed": false,
     "input": [
      "survival_and_stats(clin['Chemo '], surv, figsize=(5,4), title='Chemo')"
     ],
     "language": "python",
     "metadata": {},
     "outputs": [
      {
       "metadata": {},
       "output_type": "display_data",
       "png": "[encoded data removed]",
       "text": [
        "<matplotlib.figure.Figure at 0x7ca1990>"
       ]
      }
     ],
     "prompt_number": 14
    },
    {
     "cell_type": "code",
     "collapsed": false,
     "input": [
      "get_surv_fit_lr(surv, clin.Date_Dx.map(lambda s: s[-2:]).ix[keepers].astype(int)>10)"
     ],
     "language": "python",
     "metadata": {},
     "outputs": [
      {
       "html": [
        "<div style=\"max-height:1000px;max-width:1500px;overflow:auto;\">\n",
        "<table border=\"1\" class=\"dataframe\">\n",
        "  <thead>\n",
        "    <tr>\n",
        "      <th></th>\n",
        "      <th colspan=\"2\" halign=\"left\">Stats</th>\n",
        "      <th colspan=\"3\" halign=\"left\">Median Survival</th>\n",
        "      <th colspan=\"3\" halign=\"left\">5y Survival</th>\n",
        "      <th colspan=\"2\" halign=\"left\">Log-Rank</th>\n",
        "    </tr>\n",
        "    <tr>\n",
        "      <th></th>\n",
        "      <th># Patients</th>\n",
        "      <th># Events</th>\n",
        "      <th>Median</th>\n",
        "      <th>Lower</th>\n",
        "      <th>Upper</th>\n",
        "      <th>Surv</th>\n",
        "      <th>Lower</th>\n",
        "      <th>Upper</th>\n",
        "      <th>chi2</th>\n",
        "      <th>p</th>\n",
        "    </tr>\n",
        "  </thead>\n",
        "  <tbody>\n",
        "    <tr>\n",
        "      <th></th>\n",
        "      <td>   </td>\n",
        "      <td>   </td>\n",
        "      <td>     </td>\n",
        "      <td>    </td>\n",
        "      <td>    </td>\n",
        "      <td>      </td>\n",
        "      <td>      </td>\n",
        "      <td>      </td>\n",
        "      <td> 0.0558</td>\n",
        "      <td> 0.813</td>\n",
        "    </tr>\n",
        "    <tr>\n",
        "      <th>0</th>\n",
        "      <td> 62</td>\n",
        "      <td> 34</td>\n",
        "      <td> 3.17</td>\n",
        "      <td> 1.5</td>\n",
        "      <td> NaN</td>\n",
        "      <td> 0.457</td>\n",
        "      <td> 0.347</td>\n",
        "      <td> 0.602</td>\n",
        "      <td>       </td>\n",
        "      <td>      </td>\n",
        "    </tr>\n",
        "    <tr>\n",
        "      <th>1</th>\n",
        "      <td>  1</td>\n",
        "      <td>  1</td>\n",
        "      <td> 3.98</td>\n",
        "      <td> NaN</td>\n",
        "      <td> NaN</td>\n",
        "      <td>   NaN</td>\n",
        "      <td>   NaN</td>\n",
        "      <td>   NaN</td>\n",
        "      <td>       </td>\n",
        "      <td>      </td>\n",
        "    </tr>\n",
        "  </tbody>\n",
        "</table>\n",
        "</div>"
       ],
       "metadata": {},
       "output_type": "pyout",
       "prompt_number": 15,
       "text": [
        "       Stats          Median Survival             5y Survival               Log-Rank       \n",
        "  # Patients # Events          Median Lower Upper        Surv  Lower  Upper     chi2      p\n",
        "                                                                              0.0558  0.813\n",
        "0         62       34            3.17   1.5   NaN       0.457  0.347  0.602                \n",
        "1          1        1            3.98   NaN   NaN         NaN    NaN    NaN                "
       ]
      }
     ],
     "prompt_number": 15
    },
    {
     "cell_type": "code",
     "collapsed": false,
     "input": [
      "survival_and_stats(clin.EPS, surv, figsize=(5,4), title='EPS')"
     ],
     "language": "python",
     "metadata": {},
     "outputs": [
      {
       "metadata": {},
       "output_type": "display_data",
       "png": "[encoded data removed]",
       "text": [
        "<matplotlib.figure.Figure at 0xa282f50>"
       ]
      }
     ],
     "prompt_number": 16
    },
    {
     "cell_type": "code",
     "collapsed": false,
     "input": [
      "survival_and_stats(clin.HPV, surv, figsize=(5,4), title='HPV')"
     ],
     "language": "python",
     "metadata": {},
     "outputs": [
      {
       "metadata": {},
       "output_type": "display_data",
       "png": "[encoded data removed]",
       "text": [
        "<matplotlib.figure.Figure at 0x7d16c10>"
       ]
      }
     ],
     "prompt_number": 17
    },
    {
     "cell_type": "code",
     "collapsed": false,
     "input": [
      "survival_and_stats(to_quants(clin.Age_Dx, q=.33, labels=True), surv, figsize=(5,4), title='Age')"
     ],
     "language": "python",
     "metadata": {},
     "outputs": [
      {
       "metadata": {},
       "output_type": "display_data",
       "png": "[encoded data removed]",
       "text": [
        "<matplotlib.figure.Figure at 0xa1601d0>"
       ]
      }
     ],
     "prompt_number": 18
    },
    {
     "cell_type": "heading",
     "level": 2,
     "metadata": {},
     "source": [
      "Process Mutation Data"
     ]
    },
    {
     "cell_type": "code",
     "collapsed": false,
     "input": [
      "maf = pd.read_csv('../Extra_Data/UPMC_cohort/maf.csv')\n",
      "maf = maf.dropna(how='all', axis=[0,1])\n",
      "maf['Tumor_Sample_Barcode'] = maf['Tumor_Sample_Barcode'].str.replace('-Tumor','').copy()\n",
      "maf = maf.set_index(['Hugo_Symbol','Tumor_Sample_Barcode'])\n",
      "maf = maf[maf.Validation_Status != 'Wildtype']\n",
      "non_silent = maf[maf.Variant_Classification != 'Synonymous']\n",
      "non_silent['counter'] = 1\n",
      "hit_matrix = non_silent.counter.groupby(level=[0,1]).sum().unstack()\n",
      "hit_matrix.columns = map(lambda s: s.replace('-Tumor',''), hit_matrix.columns)\n",
      "hit_matrix = hit_matrix.fillna(0)"
     ],
     "language": "python",
     "metadata": {},
     "outputs": [],
     "prompt_number": 19
    },
    {
     "cell_type": "markdown",
     "metadata": {},
     "source": [
      "The TCGA has a much higher mutation rate as compared to this data.  This could be due to differences in sample prep, sequencing depth, or bioinformatic processing.  The two cohorts are fairly well matched clinically, so we expect that this difference can be contributed to technical factors as compared to biological ones."
     ]
    },
    {
     "cell_type": "code",
     "collapsed": false,
     "input": [
      "fig, axs = subplots(1,3, figsize=(8,3), sharey=True)\n",
      "c = pd.concat([(mut.df > 0).sum(), (hit_matrix > 0).sum(0)], keys=['TCGA','UPMC'], axis=1).stack()\n",
      "violin_plot_series(c.clip_upper(500), ax=axs[0])\n",
      "\n",
      "hh = hit_matrix.ix[:, true_index(clin.HPV == 'Negative')].sum()\n",
      "yy = mut.df.ix[:, true_index(clinical.hpv.dropna() == False)].sum()\n",
      "c = pd.concat([yy,hh], keys=['TCGA','UPMC'], axis=1).stack()\n",
      "violin_plot_series(c.clip_upper(500), ax=axs[1])\n",
      "\n",
      "hh = hit_matrix.ix[:, true_index(clin.HPV == 'Positive')].sum()\n",
      "yy = mut.df.ix[:, true_index(clinical.hpv.dropna())].sum()\n",
      "c = pd.concat([yy,hh], keys=['TCGA','UPMC'], axis=1).stack()\n",
      "violin_plot_series(c.clip_upper(500), ax=axs[2])\n",
      "\n",
      "for ax in axs:\n",
      "    prettify_ax(ax)\n",
      "    ax.set_ylabel('')\n",
      "    ax.set_xlabel('Study')\n",
      "axs[0].set_ylabel('# of Mutations')\n",
      "fig.tight_layout()\n",
      "fig.savefig(FIGDIR +  'mutation_rate_comparison.pdf')"
     ],
     "language": "python",
     "metadata": {},
     "outputs": [
      {
       "metadata": {},
       "output_type": "display_data",
       "png": "[encoded data removed]",
       "text": [
        "<matplotlib.figure.Figure at 0x7c5c050>"
       ]
      }
     ],
     "prompt_number": 20
    },
    {
     "cell_type": "code",
     "collapsed": false,
     "input": [
      "hh = hit_matrix.ix[:, true_index(clin.HPV == 'Negative')].sum()\n",
      "yy = mut.df.ix[:, true_index(clinical.hpv.dropna() == False)].sum()\n",
      "c = pd.concat([yy,hh], keys=['TCGA','UPMC'], axis=1).stack()"
     ],
     "language": "python",
     "metadata": {},
     "outputs": [],
     "prompt_number": 21
    },
    {
     "cell_type": "code",
     "collapsed": false,
     "input": [
      "stats.mannwhitneyu(hh.dropna(), yy.dropna())"
     ],
     "language": "python",
     "metadata": {},
     "outputs": [
      {
       "metadata": {},
       "output_type": "pyout",
       "prompt_number": 22,
       "text": [
        "(5909.0, 0.0002041546634473598)"
       ]
      }
     ],
     "prompt_number": 22
    },
    {
     "cell_type": "markdown",
     "metadata": {},
     "source": [
      "The median mutation rate of TCGA HPV- samples is 104 verses 74 in the UPMC cohort."
     ]
    },
    {
     "cell_type": "code",
     "collapsed": false,
     "input": [
      "yy = mut.df.ix[:, true_index(clinical.hpv.dropna() == False)].sum()\n",
      "yy.median()"
     ],
     "language": "python",
     "metadata": {},
     "outputs": [
      {
       "metadata": {},
       "output_type": "pyout",
       "prompt_number": 23,
       "text": [
        "104.0"
       ]
      }
     ],
     "prompt_number": 23
    },
    {
     "cell_type": "code",
     "collapsed": false,
     "input": [
      "hh = hit_matrix.ix[:, true_index(clin.HPV == 'Negative')].sum()\n",
      "hh.median()"
     ],
     "language": "python",
     "metadata": {},
     "outputs": [
      {
       "metadata": {},
       "output_type": "pyout",
       "prompt_number": 24,
       "text": [
        "73.0"
       ]
      }
     ],
     "prompt_number": 24
    },
    {
     "cell_type": "heading",
     "level": 3,
     "metadata": {},
     "source": [
      "TP53 Mutation"
     ]
    },
    {
     "cell_type": "code",
     "collapsed": false,
     "input": [
      "p53_mut = hit_matrix.ix['TP53'].ix[true_index(clin.HPV=='Negative')] > 0\n",
      "survival_and_stats(p53_mut, surv)"
     ],
     "language": "python",
     "metadata": {},
     "outputs": [
      {
       "metadata": {},
       "output_type": "display_data",
       "png": "[encoded data removed]",
       "text": [
        "<matplotlib.figure.Figure at 0x7e3ded0>"
       ]
      }
     ],
     "prompt_number": 25
    },
    {
     "cell_type": "markdown",
     "metadata": {},
     "source": [
      "Broken down by functional type."
     ]
    },
    {
     "cell_type": "code",
     "collapsed": false,
     "input": [
      "import re as re\n",
      "get_nums = lambda s: re.findall(r'\\d+', s)\n",
      "\n",
      "def is_disruptive(v):\n",
      "    c = v.Variant_Classification\n",
      "    if c != 'Missense':\n",
      "        if 'Ins' in c or 'Del' in c:\n",
      "            return 'InDel'\n",
      "        else:\n",
      "            return v.Variant_Classification.split('_')[0]\n",
      "    else:\n",
      "        s = v.Protein_Change\n",
      "        aa = int(get_nums(s)[0])\n",
      "        if int(aa) in range(163,196):\n",
      "            return 'L2'\n",
      "        if int(aa) in range(236, 252):\n",
      "            return 'L3'\n",
      "    return 'other'"
     ],
     "language": "python",
     "metadata": {},
     "outputs": [],
     "prompt_number": 26
    },
    {
     "cell_type": "code",
     "collapsed": false,
     "input": [
      "p53 = maf.ix['TP53'].reset_index()\n",
      "dd = p53.apply(is_disruptive, 1)\n",
      "dd = dd.replace('Synonymous',nan).dropna()\n",
      "others = hit_matrix.columns.diff(p53.Tumor_Sample_Barcode.ix[dd.index])\n",
      "dd.index = p53.Tumor_Sample_Barcode.ix[dd.index]\n",
      "dd = pd.concat([pd.Series('WT', others), dd])\n",
      "dd = dd.ix[keepers]"
     ],
     "language": "python",
     "metadata": {},
     "outputs": [],
     "prompt_number": 27
    },
    {
     "cell_type": "code",
     "collapsed": false,
     "input": [
      "s2 = surv.unstack().ix[dd.index]\n",
      "s2.index = range(len(dd))\n",
      "s2 = s2.stack()\n",
      "dd.index = range(len(dd))"
     ],
     "language": "python",
     "metadata": {},
     "outputs": [],
     "prompt_number": 28
    },
    {
     "cell_type": "code",
     "collapsed": false,
     "input": [
      "survival_and_stats(dd, s2, colors=colors[:6] + ['grey'] + colors[6:], figsize=(7,6))"
     ],
     "language": "python",
     "metadata": {},
     "outputs": [
      {
       "metadata": {},
       "output_type": "display_data",
       "png": "[encoded data removed]",
       "text": [
        "<matplotlib.figure.Figure at 0x7b82fd0>"
       ]
      }
     ],
     "prompt_number": 29
    },
    {
     "cell_type": "markdown",
     "metadata": {},
     "source": [
      "By Validation Status.  Validated mutations do seem to have worse prognosis, leading us to think there could be a number of false positives in the mix."
     ]
    },
    {
     "cell_type": "code",
     "collapsed": false,
     "input": [
      "v = maf.ix['TP53'].Validation_Status == 'Valid'\n",
      "v = v.groupby(level=0).sum() > 0\n",
      "v.name = 'valid'\n",
      "v = v.ix[hit_matrix.columns]\n",
      "v = v.fillna('WT')"
     ],
     "language": "python",
     "metadata": {},
     "outputs": [],
     "prompt_number": 30
    },
    {
     "cell_type": "code",
     "collapsed": false,
     "input": [
      "v.value_counts()"
     ],
     "language": "python",
     "metadata": {},
     "outputs": [
      {
       "metadata": {},
       "output_type": "pyout",
       "prompt_number": 31,
       "text": [
        "False    37\n",
        "WT       28\n",
        "True      9\n",
        "dtype: int64"
       ]
      }
     ],
     "prompt_number": 31
    },
    {
     "cell_type": "code",
     "collapsed": false,
     "input": [
      "draw_survival_curve(v.ix[true_index(clin.HPV=='Negative')], surv)"
     ],
     "language": "python",
     "metadata": {},
     "outputs": [
      {
       "metadata": {},
       "output_type": "display_data",
       "png": "[encoded data removed]",
       "text": [
        "<matplotlib.figure.Figure at 0x7d5b650>"
       ]
      }
     ],
     "prompt_number": 32
    },
    {
     "cell_type": "markdown",
     "metadata": {},
     "source": [
      "MUC5B mutation status.  Can't really say much here."
     ]
    },
    {
     "cell_type": "code",
     "collapsed": false,
     "input": [
      "survival_and_stats(hit_matrix.ix['MUC5B'].ix[true_index(clin.HPV=='Negative')]>0, surv)"
     ],
     "language": "python",
     "metadata": {},
     "outputs": [
      {
       "metadata": {},
       "output_type": "display_data",
       "png": "[encoded data removed]",
       "text": [
        "<matplotlib.figure.Figure at 0x7e3d610>"
       ]
      }
     ],
     "prompt_number": 33
    },
    {
     "cell_type": "heading",
     "level": 2,
     "metadata": {},
     "source": [
      "Copy Number Data"
     ]
    },
    {
     "cell_type": "code",
     "collapsed": false,
     "input": [
      "cn_tumor = meta.xs('Tumor', level=1)['SNP array ID'].dropna()\n",
      "lu = pd.Series({v:i for i,v in cn_tumor.iteritems()})"
     ],
     "language": "python",
     "metadata": {},
     "outputs": [],
     "prompt_number": 34
    },
    {
     "cell_type": "markdown",
     "metadata": {},
     "source": [
      "I am loading the GISTIC2 processed data for this cohort.  The data was processed together with the TCGA samples."
     ]
    },
    {
     "cell_type": "code",
     "collapsed": false,
     "input": [
      "path = '../Extra_Data/UPMC_cohort/'\n",
      "gistic = pd.read_table(path + 'all_thresholded.by_genes.txt', index_col=[0,1, 2])\n",
      "gistic.index = gistic.index.droplevel(1)\n",
      "cn_upmc = pd.DataFrame({i: gistic[t] for i,t in cn_tumor.iteritems() if t in gistic})"
     ],
     "language": "python",
     "metadata": {},
     "outputs": [],
     "prompt_number": 35
    },
    {
     "cell_type": "code",
     "collapsed": false,
     "input": [
      "pct_del = (cn_upmc < 0).sum() / (1.*len(cn_upmc))\n",
      "pct_amp = (cn_upmc > 0).sum() / (1.*len(cn_upmc))\n",
      "pct_altered = pct_amp + pct_del\n",
      "pct_altered.name = 'CIN_pct_altered'"
     ],
     "language": "python",
     "metadata": {},
     "outputs": [],
     "prompt_number": 36
    },
    {
     "cell_type": "markdown",
     "metadata": {},
     "source": [
      "Chromosomal instability in the UPMC cohort."
     ]
    },
    {
     "cell_type": "code",
     "collapsed": false,
     "input": [
      "survival_and_stats(to_quants(pct_altered, q=.33, labels=True), surv)"
     ],
     "language": "python",
     "metadata": {},
     "outputs": [
      {
       "metadata": {},
       "output_type": "display_data",
       "png": "[encoded data removed]",
       "text": [
        "<matplotlib.figure.Figure at 0x7b828d0>"
       ]
      }
     ],
     "prompt_number": 37
    },
    {
     "cell_type": "markdown",
     "metadata": {},
     "source": [
      "Taking a look at 3p deletion."
     ]
    },
    {
     "cell_type": "code",
     "collapsed": false,
     "input": [
      "del_3p = cn_upmc.xs('3p14.2',0,1).median().ix[true_index(clin.HPV=='Negative')].dropna() < 0"
     ],
     "language": "python",
     "metadata": {},
     "outputs": [],
     "prompt_number": 38
    },
    {
     "cell_type": "code",
     "collapsed": false,
     "input": [
      "b = combine(p53_mut, del_3p).index"
     ],
     "language": "python",
     "metadata": {},
     "outputs": [],
     "prompt_number": 39
    },
    {
     "cell_type": "code",
     "collapsed": false,
     "input": [
      "keepers = meta['SNP array ID'].notnull() & (meta['Final_74_exome_analysis'] == 1)\n",
      "keepers = keepers.groupby(level=0).sum() \n",
      "keepers = (keepers > 0) & (clin.HPV == 'Negative')\n",
      "keepers = keepers.ix[surv.index.get_level_values(0)].dropna()\n",
      "keepers = keepers.groupby(level=0).last()\n",
      "keepers.value_counts()"
     ],
     "language": "python",
     "metadata": {},
     "outputs": [
      {
       "metadata": {},
       "output_type": "pyout",
       "prompt_number": 40,
       "text": [
        "True     49\n",
        "False    25\n",
        "dtype: int64"
       ]
      }
     ],
     "prompt_number": 40
    },
    {
     "cell_type": "code",
     "collapsed": false,
     "input": [
      "survival_and_stats(del_3p, surv)"
     ],
     "language": "python",
     "metadata": {},
     "outputs": [
      {
       "metadata": {},
       "output_type": "display_data",
       "png": "[encoded data removed]",
       "text": [
        "<matplotlib.figure.Figure at 0x7b89510>"
       ]
      }
     ],
     "prompt_number": 41
    },
    {
     "cell_type": "markdown",
     "metadata": {},
     "source": [
      "Association of TP53 mutation with 3p deletion"
     ]
    },
    {
     "cell_type": "markdown",
     "metadata": {},
     "source": [
      "len(combine(p53_mut, del_3p))"
     ]
    },
    {
     "cell_type": "code",
     "collapsed": false,
     "input": [
      "fisher_exact_test(p53_mut, del_3p, alternative='greater')"
     ],
     "language": "python",
     "metadata": {},
     "outputs": [
      {
       "metadata": {},
       "output_type": "pyout",
       "prompt_number": 42,
       "text": [
        "odds_ratio    2.50\n",
        "p             0.17\n",
        "dtype: float64"
       ]
      }
     ],
     "prompt_number": 42
    },
    {
     "cell_type": "markdown",
     "metadata": {},
     "source": [
      "Survival association"
     ]
    },
    {
     "cell_type": "code",
     "collapsed": false,
     "input": [
      "combo = combine(p53_mut, del_3p)\n",
      "survival_and_stats(combo, surv, figsize=(5,4), title='PITT')"
     ],
     "language": "python",
     "metadata": {},
     "outputs": [
      {
       "metadata": {},
       "output_type": "display_data",
       "png": "[encoded data removed]",
       "text": [
        "<matplotlib.figure.Figure at 0x7d5bdd0>"
       ]
      }
     ],
     "prompt_number": 43
    },
    {
     "cell_type": "code",
     "collapsed": false,
     "input": [
      "pd.crosstab(clin.Alcohol, clin.Alcohol_amt.fillna(0))"
     ],
     "language": "python",
     "metadata": {},
     "outputs": [
      {
       "html": [
        "<div style=\"max-height:1000px;max-width:1500px;overflow:auto;\">\n",
        "<table border=\"1\" class=\"dataframe\">\n",
        "  <thead>\n",
        "    <tr style=\"text-align: right;\">\n",
        "      <th>Alcohol_amt</th>\n",
        "      <th>0</th>\n",
        "      <th>.</th>\n",
        "      <th>1</th>\n",
        "      <th>10</th>\n",
        "      <th>12</th>\n",
        "      <th>15</th>\n",
        "      <th>16</th>\n",
        "      <th>2</th>\n",
        "      <th>20</th>\n",
        "      <th>24</th>\n",
        "      <th>27</th>\n",
        "      <th>3</th>\n",
        "      <th>5</th>\n",
        "      <th>6</th>\n",
        "      <th>7</th>\n",
        "      <th>8</th>\n",
        "    </tr>\n",
        "    <tr>\n",
        "      <th>Alcohol</th>\n",
        "      <th></th>\n",
        "      <th></th>\n",
        "      <th></th>\n",
        "      <th></th>\n",
        "      <th></th>\n",
        "      <th></th>\n",
        "      <th></th>\n",
        "      <th></th>\n",
        "      <th></th>\n",
        "      <th></th>\n",
        "      <th></th>\n",
        "      <th></th>\n",
        "      <th></th>\n",
        "      <th></th>\n",
        "      <th></th>\n",
        "      <th></th>\n",
        "    </tr>\n",
        "  </thead>\n",
        "  <tbody>\n",
        "    <tr>\n",
        "      <th>.</th>\n",
        "      <td>  1</td>\n",
        "      <td> 0</td>\n",
        "      <td> 0</td>\n",
        "      <td> 0</td>\n",
        "      <td> 0</td>\n",
        "      <td> 0</td>\n",
        "      <td> 0</td>\n",
        "      <td> 0</td>\n",
        "      <td> 0</td>\n",
        "      <td> 0</td>\n",
        "      <td> 0</td>\n",
        "      <td> 0</td>\n",
        "      <td> 0</td>\n",
        "      <td>  0</td>\n",
        "      <td> 0</td>\n",
        "      <td> 0</td>\n",
        "    </tr>\n",
        "    <tr>\n",
        "      <th>no</th>\n",
        "      <td> 15</td>\n",
        "      <td> 0</td>\n",
        "      <td> 0</td>\n",
        "      <td> 0</td>\n",
        "      <td> 0</td>\n",
        "      <td> 0</td>\n",
        "      <td> 0</td>\n",
        "      <td> 0</td>\n",
        "      <td> 0</td>\n",
        "      <td> 0</td>\n",
        "      <td> 0</td>\n",
        "      <td> 0</td>\n",
        "      <td> 0</td>\n",
        "      <td>  0</td>\n",
        "      <td> 0</td>\n",
        "      <td> 0</td>\n",
        "    </tr>\n",
        "    <tr>\n",
        "      <th>yes</th>\n",
        "      <td>  0</td>\n",
        "      <td> 1</td>\n",
        "      <td> 1</td>\n",
        "      <td> 8</td>\n",
        "      <td> 4</td>\n",
        "      <td> 3</td>\n",
        "      <td> 1</td>\n",
        "      <td> 3</td>\n",
        "      <td> 2</td>\n",
        "      <td> 3</td>\n",
        "      <td> 1</td>\n",
        "      <td> 4</td>\n",
        "      <td> 4</td>\n",
        "      <td> 11</td>\n",
        "      <td> 3</td>\n",
        "      <td> 9</td>\n",
        "    </tr>\n",
        "  </tbody>\n",
        "</table>\n",
        "</div>"
       ],
       "metadata": {},
       "output_type": "pyout",
       "prompt_number": 44,
       "text": [
        "Alcohol_amt   0  .  1  10  12  15  16  2  20  24  27  3  5   6  7  8\n",
        "Alcohol                                                             \n",
        ".             1  0  0   0   0   0   0  0   0   0   0  0  0   0  0  0\n",
        "no           15  0  0   0   0   0   0  0   0   0   0  0  0   0  0  0\n",
        "yes           0  1  1   8   4   3   1  3   2   3   1  4  4  11  3  9"
       ]
      }
     ],
     "prompt_number": 44
    },
    {
     "cell_type": "code",
     "collapsed": false,
     "input": [
      "alch = clin.Alcohol_amt.fillna(0).replace('.', nan).astype(float)"
     ],
     "language": "python",
     "metadata": {},
     "outputs": [],
     "prompt_number": 45
    },
    {
     "cell_type": "code",
     "collapsed": false,
     "input": [
      "alch.hist()"
     ],
     "language": "python",
     "metadata": {},
     "outputs": [
      {
       "metadata": {},
       "output_type": "pyout",
       "prompt_number": 46,
       "text": [
        "<matplotlib.axes.AxesSubplot at 0x970b550>"
       ]
      },
      {
       "metadata": {},
       "output_type": "display_data",
       "png": "[encoded data removed]",
       "text": [
        "<matplotlib.figure.Figure at 0x7ad7090>"
       ]
      }
     ],
     "prompt_number": 46
    },
    {
     "cell_type": "code",
     "collapsed": false,
     "input": [
      "get_surv_fit_lr(surv, (alch.ix[combo.index].dropna() > 10).fillna('M'))"
     ],
     "language": "python",
     "metadata": {},
     "outputs": [
      {
       "html": [
        "<div style=\"max-height:1000px;max-width:1500px;overflow:auto;\">\n",
        "<table border=\"1\" class=\"dataframe\">\n",
        "  <thead>\n",
        "    <tr>\n",
        "      <th></th>\n",
        "      <th colspan=\"2\" halign=\"left\">Stats</th>\n",
        "      <th colspan=\"3\" halign=\"left\">Median Survival</th>\n",
        "      <th colspan=\"3\" halign=\"left\">5y Survival</th>\n",
        "      <th colspan=\"2\" halign=\"left\">Log-Rank</th>\n",
        "    </tr>\n",
        "    <tr>\n",
        "      <th></th>\n",
        "      <th># Patients</th>\n",
        "      <th># Events</th>\n",
        "      <th>Median</th>\n",
        "      <th>Lower</th>\n",
        "      <th>Upper</th>\n",
        "      <th>Surv</th>\n",
        "      <th>Lower</th>\n",
        "      <th>Upper</th>\n",
        "      <th>chi2</th>\n",
        "      <th>p</th>\n",
        "    </tr>\n",
        "  </thead>\n",
        "  <tbody>\n",
        "    <tr>\n",
        "      <th></th>\n",
        "      <td>   </td>\n",
        "      <td>   </td>\n",
        "      <td>     </td>\n",
        "      <td>      </td>\n",
        "      <td>    </td>\n",
        "      <td>      </td>\n",
        "      <td>       </td>\n",
        "      <td>      </td>\n",
        "      <td> 6.83</td>\n",
        "      <td> 0.00898</td>\n",
        "    </tr>\n",
        "    <tr>\n",
        "      <th>0</th>\n",
        "      <td> 39</td>\n",
        "      <td> 19</td>\n",
        "      <td> 5.01</td>\n",
        "      <td>   1.8</td>\n",
        "      <td> NaN</td>\n",
        "      <td> 0.526</td>\n",
        "      <td>  0.389</td>\n",
        "      <td> 0.712</td>\n",
        "      <td>     </td>\n",
        "      <td>        </td>\n",
        "    </tr>\n",
        "    <tr>\n",
        "      <th>1</th>\n",
        "      <td>  9</td>\n",
        "      <td>  8</td>\n",
        "      <td>  1.1</td>\n",
        "      <td> 0.953</td>\n",
        "      <td> NaN</td>\n",
        "      <td> 0.111</td>\n",
        "      <td> 0.0175</td>\n",
        "      <td> 0.705</td>\n",
        "      <td>     </td>\n",
        "      <td>        </td>\n",
        "    </tr>\n",
        "  </tbody>\n",
        "</table>\n",
        "</div>"
       ],
       "metadata": {},
       "output_type": "pyout",
       "prompt_number": 47,
       "text": [
        "       Stats          Median Survival              5y Survival                Log-Rank         \n",
        "  # Patients # Events          Median  Lower Upper        Surv   Lower  Upper     chi2        p\n",
        "                                                                                  6.83  0.00898\n",
        "0         39       19            5.01    1.8   NaN       0.526   0.389  0.712                  \n",
        "1          9        8             1.1  0.953   NaN       0.111  0.0175  0.705                  "
       ]
      }
     ],
     "prompt_number": 47
    },
    {
     "cell_type": "code",
     "collapsed": false,
     "input": [
      "get_surv_fit_lr(surv, clin.Smoking_history.ix[combo.index])"
     ],
     "language": "python",
     "metadata": {},
     "outputs": [
      {
       "html": [
        "<div style=\"max-height:1000px;max-width:1500px;overflow:auto;\">\n",
        "<table border=\"1\" class=\"dataframe\">\n",
        "  <thead>\n",
        "    <tr>\n",
        "      <th></th>\n",
        "      <th colspan=\"2\" halign=\"left\">Stats</th>\n",
        "      <th colspan=\"3\" halign=\"left\">Median Survival</th>\n",
        "      <th colspan=\"3\" halign=\"left\">5y Survival</th>\n",
        "      <th colspan=\"2\" halign=\"left\">Log-Rank</th>\n",
        "    </tr>\n",
        "    <tr>\n",
        "      <th></th>\n",
        "      <th># Patients</th>\n",
        "      <th># Events</th>\n",
        "      <th>Median</th>\n",
        "      <th>Lower</th>\n",
        "      <th>Upper</th>\n",
        "      <th>Surv</th>\n",
        "      <th>Lower</th>\n",
        "      <th>Upper</th>\n",
        "      <th>chi2</th>\n",
        "      <th>p</th>\n",
        "    </tr>\n",
        "  </thead>\n",
        "  <tbody>\n",
        "    <tr>\n",
        "      <th></th>\n",
        "      <td>   </td>\n",
        "      <td>   </td>\n",
        "      <td>     </td>\n",
        "      <td>     </td>\n",
        "      <td>    </td>\n",
        "      <td>      </td>\n",
        "      <td>      </td>\n",
        "      <td>      </td>\n",
        "      <td> 1.14</td>\n",
        "      <td> 0.285</td>\n",
        "    </tr>\n",
        "    <tr>\n",
        "      <th>yes</th>\n",
        "      <td> 41</td>\n",
        "      <td> 24</td>\n",
        "      <td> 1.85</td>\n",
        "      <td> 1.15</td>\n",
        "      <td> NaN</td>\n",
        "      <td> 0.399</td>\n",
        "      <td> 0.273</td>\n",
        "      <td> 0.585</td>\n",
        "      <td>     </td>\n",
        "      <td>      </td>\n",
        "    </tr>\n",
        "    <tr>\n",
        "      <th>no</th>\n",
        "      <td>  7</td>\n",
        "      <td>  3</td>\n",
        "      <td> 5.01</td>\n",
        "      <td> 1.43</td>\n",
        "      <td> NaN</td>\n",
        "      <td> 0.714</td>\n",
        "      <td> 0.447</td>\n",
        "      <td>     1</td>\n",
        "      <td>     </td>\n",
        "      <td>      </td>\n",
        "    </tr>\n",
        "  </tbody>\n",
        "</table>\n",
        "</div>"
       ],
       "metadata": {},
       "output_type": "pyout",
       "prompt_number": 48,
       "text": [
        "         Stats          Median Survival             5y Survival               Log-Rank       \n",
        "    # Patients # Events          Median Lower Upper        Surv  Lower  Upper     chi2      p\n",
        "                                                                                  1.14  0.285\n",
        "yes         41       24            1.85  1.15   NaN       0.399  0.273  0.585                \n",
        "no           7        3            5.01  1.43   NaN       0.714  0.447      1                "
       ]
      }
     ],
     "prompt_number": 48
    },
    {
     "cell_type": "code",
     "collapsed": false,
     "input": [
      "p2 = p53_mut\n",
      "p2.name = 'TP53'\n",
      "p2 = p2.map({True:'Mut.',False:'WT'})"
     ],
     "language": "python",
     "metadata": {},
     "outputs": [],
     "prompt_number": 49
    },
    {
     "cell_type": "code",
     "collapsed": false,
     "input": [
      "draw_survival_curves(del_3p.map({0:'3p +/+', 1:'3p +/-'}), surv, p2, legend=True)"
     ],
     "language": "python",
     "metadata": {},
     "outputs": [
      {
       "metadata": {},
       "output_type": "display_data",
       "png": "[encoded data removed]",
       "text": [
        "<matplotlib.figure.Figure at 0x13d4f890>"
       ]
      }
     ],
     "prompt_number": 50
    },
    {
     "cell_type": "markdown",
     "metadata": {},
     "source": [
      "<div id='p53/3p'>This UPMC cohort confirmed that patients with the TP53 / 3p aggregate event have worse prognosis than patients with TP53 mutation alone.</div>"
     ]
    },
    {
     "cell_type": "code",
     "collapsed": false,
     "input": [
      "get_cox_ph(surv, del_3p.ix[true_index(p53_mut)], print_desc=True, interactions=False);"
     ],
     "language": "python",
     "metadata": {},
     "outputs": [
      {
       "output_type": "stream",
       "stream": "stdout",
       "text": [
        "\n",
        "        coef exp(coef) se(coef)    z     p\n",
        "feature 1.92      6.84     1.03 1.87 0.061\n",
        "\n",
        "Likelihood ratio test=6.37  on 1 df, p=0.0116  n= 35, number of events= 20 \n",
        "   (11 observations deleted due to missingness)\n",
        "\n"
       ]
      }
     ],
     "prompt_number": 51
    },
    {
     "cell_type": "code",
     "collapsed": false,
     "input": [
      "exp(1.92), exp(1.92) -  exp(1.92 - 1.03)"
     ],
     "language": "python",
     "metadata": {},
     "outputs": [
      {
       "metadata": {},
       "output_type": "pyout",
       "prompt_number": 52,
       "text": [
        "(6.8209584692907494, 4.3858288180008751)"
       ]
      }
     ],
     "prompt_number": 52
    },
    {
     "cell_type": "code",
     "collapsed": false,
     "input": [
      "pd.crosstab(p53_mut, del_3p.ix[p53_mut.index].fillna('M'))"
     ],
     "language": "python",
     "metadata": {},
     "outputs": [
      {
       "html": [
        "<div style=\"max-height:1000px;max-width:1500px;overflow:auto;\">\n",
        "<table border=\"1\" class=\"dataframe\">\n",
        "  <thead>\n",
        "    <tr style=\"text-align: right;\">\n",
        "      <th>d</th>\n",
        "      <th>False</th>\n",
        "      <th>True</th>\n",
        "      <th>M</th>\n",
        "    </tr>\n",
        "    <tr>\n",
        "      <th>TP53</th>\n",
        "      <th></th>\n",
        "      <th></th>\n",
        "      <th></th>\n",
        "    </tr>\n",
        "  </thead>\n",
        "  <tbody>\n",
        "    <tr>\n",
        "      <th>False</th>\n",
        "      <td> 5</td>\n",
        "      <td>  8</td>\n",
        "      <td>  4</td>\n",
        "    </tr>\n",
        "    <tr>\n",
        "      <th>True </th>\n",
        "      <td> 7</td>\n",
        "      <td> 28</td>\n",
        "      <td> 11</td>\n",
        "    </tr>\n",
        "  </tbody>\n",
        "</table>\n",
        "</div>"
       ],
       "metadata": {},
       "output_type": "pyout",
       "prompt_number": 53,
       "text": [
        "d      False  True   M\n",
        "TP53                  \n",
        "False      5     8   4\n",
        "True       7    28  11"
       ]
      }
     ],
     "prompt_number": 53
    },
    {
     "cell_type": "code",
     "collapsed": false,
     "input": [
      "two_hit_both = combine(p53_mut>0, del_3p) == 'both'\n",
      "no_cna = true_index(del_3p.ix[true_index(p53_mut==False)].isnull())\n",
      "no_cna = pd.Series(False, index=no_cna)\n",
      "two_hit = two_hit_both.append(no_cna).ix[keepers].dropna()"
     ],
     "language": "python",
     "metadata": {},
     "outputs": [],
     "prompt_number": 54
    },
    {
     "cell_type": "code",
     "collapsed": false,
     "input": [
      "survival_and_stats(two_hit.ix[keepers].dropna(), surv)"
     ],
     "language": "python",
     "metadata": {},
     "outputs": [
      {
       "metadata": {},
       "output_type": "display_data",
       "png": "[encoded data removed]",
       "text": [
        "<matplotlib.figure.Figure at 0xb583450>"
       ]
      }
     ],
     "prompt_number": 55
    },
    {
     "cell_type": "heading",
     "level": 3,
     "metadata": {},
     "source": [
      "Coin Tests"
     ]
    },
    {
     "cell_type": "markdown",
     "metadata": {},
     "source": [
      "This was a suggestion from a review.  The R [coin](http://cran.r-project.org/web/packages/coin/index.html) package allows for exact permutation tests for log-rank statistics."
     ]
    },
    {
     "cell_type": "code",
     "collapsed": false,
     "input": [
      "%load_ext rmagic\n",
      "coin = robjects.packages.importr('coin')"
     ],
     "language": "python",
     "metadata": {},
     "outputs": [],
     "prompt_number": 56
    },
    {
     "cell_type": "heading",
     "level": 4,
     "metadata": {},
     "source": [
      "Test 1: p53/3p Worse Survival than wt"
     ]
    },
    {
     "cell_type": "code",
     "collapsed": false,
     "input": [
      "th2 = two_hit[true_index(clin.Age_Dx < 75)].dropna()\n",
      "time = robjects.r.c(*list(surv.unstack().days.ix[th2.index]))\n",
      "event = robjects.r.c(*list(surv.unstack().event.ix[th2.index]))\n",
      "g = robjects.r.c(*list(th2*1.))"
     ],
     "language": "python",
     "metadata": {},
     "outputs": [],
     "prompt_number": 57
    },
    {
     "cell_type": "code",
     "collapsed": false,
     "input": [
      "%%R -i time,event,g\n",
      "\n",
      "exdata <- data.frame(time = time,\n",
      "                     event = event,\n",
      "                     group = factor(g))\n",
      "surv_test(Surv(time, event) ~ group, data=exdata, \n",
      "          distribution=exact(), alternative='less')"
     ],
     "language": "python",
     "metadata": {},
     "outputs": [
      {
       "metadata": {},
       "output_type": "display_data",
       "text": [
        "\n",
        "\tExact Logrank Test\n",
        "\n",
        "data:  Surv(time, event) by group (0, 1)\n",
        "Z = -1.5691, p-value = 0.05894\n",
        "alternative hypothesis: less\n",
        "\n"
       ]
      }
     ],
     "prompt_number": 58
    },
    {
     "cell_type": "heading",
     "level": 4,
     "metadata": {},
     "source": [
      "Test 2: p53/3p Worse Survival than p53"
     ]
    },
    {
     "cell_type": "code",
     "collapsed": false,
     "input": [
      "f = del_3p.ix[true_index(p53_mut)].dropna()*1.\n",
      "f = f.ix[clin.Age_Dx < 77]\n",
      "g = robjects.r.c(*list(f))\n",
      "time = robjects.r.c(*list(surv.unstack().days.ix[f.index]))\n",
      "event = robjects.r.c(*list(surv.unstack().event.ix[f.index]))"
     ],
     "language": "python",
     "metadata": {},
     "outputs": [],
     "prompt_number": 59
    },
    {
     "cell_type": "code",
     "collapsed": false,
     "input": [
      "cox(f, surv)"
     ],
     "language": "python",
     "metadata": {},
     "outputs": [
      {
       "metadata": {},
       "output_type": "pyout",
       "prompt_number": 60,
       "text": [
        "hazard       exp(coef)      6.84\n",
        "             exp(-coef)     0.15\n",
        "             lower .95      0.91\n",
        "             upper .95     51.20\n",
        "LR           stat           6.37\n",
        "             df             1.00\n",
        "             p              0.01\n",
        "concordance  stat           0.61\n",
        "             se             0.05\n",
        "dtype: float64"
       ]
      }
     ],
     "prompt_number": 60
    },
    {
     "cell_type": "code",
     "collapsed": false,
     "input": [
      "%%R -i time,event,g\n",
      "\n",
      "exdata <- data.frame(time = time,\n",
      "                     event = event,\n",
      "                     group = factor(g))\n",
      "surv_test(Surv(time, event) ~ group, data=exdata, \n",
      "          distribution=exact(), alternative='less')"
     ],
     "language": "python",
     "metadata": {},
     "outputs": [
      {
       "metadata": {},
       "output_type": "display_data",
       "text": [
        "\n",
        "\tExact Logrank Test\n",
        "\n",
        "data:  Surv(time, event) by group (0, 1)\n",
        "Z = -2.4025, p-value = 0.009194\n",
        "alternative hypothesis: less\n",
        "\n"
       ]
      }
     ],
     "prompt_number": 61
    },
    {
     "cell_type": "heading",
     "level": 4,
     "metadata": {},
     "source": [
      "Test p53/3p Worst Survival than 3p"
     ]
    },
    {
     "cell_type": "code",
     "collapsed": false,
     "input": [
      "f = p53_mut.ix[true_index(del_3p)].dropna()*1.\n",
      "g = robjects.r.c(*list(f))\n",
      "time = robjects.r.c(*list(surv.unstack().days.ix[f.index]))\n",
      "event = robjects.r.c(*list(surv.unstack().event.ix[f.index]))"
     ],
     "language": "python",
     "metadata": {},
     "outputs": [],
     "prompt_number": 62
    },
    {
     "cell_type": "code",
     "collapsed": false,
     "input": [
      "%%R -i time,event,g\n",
      "\n",
      "exdata <- data.frame(time = time,\n",
      "                     event = event,\n",
      "                     group = factor(g))\n",
      "surv_test(Surv(time, event) ~ group, data=exdata, \n",
      "          distribution=exact(), alternative='less')"
     ],
     "language": "python",
     "metadata": {},
     "outputs": [
      {
       "metadata": {},
       "output_type": "display_data",
       "text": [
        "\n",
        "\tExact Logrank Test\n",
        "\n",
        "data:  Surv(time, event) by group (0, 1)\n",
        "Z = 0.0197, p-value = 0.5014\n",
        "alternative hypothesis: less\n",
        "\n"
       ]
      }
     ],
     "prompt_number": 63
    },
    {
     "cell_type": "heading",
     "level": 3,
     "metadata": {},
     "source": [
      "MIR548K Copy Number"
     ]
    },
    {
     "cell_type": "markdown",
     "metadata": {},
     "source": [
      "We do not have expression data for this cohort so we use copy number.  The trend seems to hold here but we do not report this in the manuscript. "
     ]
    },
    {
     "cell_type": "code",
     "collapsed": false,
     "input": [
      "cn_upmc = cn_upmc.ix[:, two_hit.index]"
     ],
     "language": "python",
     "metadata": {},
     "outputs": [],
     "prompt_number": 64
    },
    {
     "cell_type": "code",
     "collapsed": false,
     "input": [
      "survival_and_stats(cn_upmc.ix['MIR548K'].ix[0].dropna()>0, surv)"
     ],
     "language": "python",
     "metadata": {},
     "outputs": [
      {
       "metadata": {},
       "output_type": "display_data",
       "png": "[encoded data removed]",
       "text": [
        "<matplotlib.figure.Figure at 0x83faf90>"
       ]
      }
     ],
     "prompt_number": 65
    },
    {
     "cell_type": "code",
     "collapsed": false,
     "input": [
      "st = (two_hit + 1).add(2*(cn_upmc.ix['MIR548K'].ix[0] > 0)).replace(3,0).replace(4,3)\n",
      "st = st.dropna()"
     ],
     "language": "python",
     "metadata": {},
     "outputs": [],
     "prompt_number": 66
    },
    {
     "cell_type": "code",
     "collapsed": false,
     "input": [
      "mir = cn_upmc.ix['MIR548K'].ix[0].ix[two_hit.index]"
     ],
     "language": "python",
     "metadata": {},
     "outputs": [],
     "prompt_number": 67
    },
    {
     "cell_type": "code",
     "collapsed": false,
     "input": [
      "eq = cn_upmc.ix['MIR548K'].ix[0].ix[two_hit.index]\n",
      "#eq = cn_upmc.xs('11q13.3',0,1).median()"
     ],
     "language": "python",
     "metadata": {},
     "outputs": [],
     "prompt_number": 68
    },
    {
     "cell_type": "code",
     "collapsed": false,
     "input": [
      "st = (two_hit + 1).add(2*(eq > 1)).replace(3,1).replace(4,3)\n",
      "st = st.dropna()"
     ],
     "language": "python",
     "metadata": {},
     "outputs": [],
     "prompt_number": 69
    },
    {
     "cell_type": "code",
     "collapsed": false,
     "input": [
      "survival_and_stats(st, surv)"
     ],
     "language": "python",
     "metadata": {},
     "outputs": [
      {
       "metadata": {},
       "output_type": "display_data",
       "png": "[encoded data removed]",
       "text": [
        "<matplotlib.figure.Figure at 0x9736d90>"
       ]
      }
     ],
     "prompt_number": 70
    },
    {
     "cell_type": "code",
     "collapsed": false,
     "input": [
      "get_cox_ph(surv, st, print_desc=True, interactions=False);"
     ],
     "language": "python",
     "metadata": {},
     "outputs": [
      {
       "output_type": "stream",
       "stream": "stdout",
       "text": [
        "\n",
        "         coef exp(coef) se(coef)    z     p\n",
        "feature 0.433      1.54    0.243 1.78 0.074\n",
        "\n",
        "Likelihood ratio test=3.14  on 1 df, p=0.0763  n= 48, number of events= 27 \n",
        "\n"
       ]
      }
     ],
     "prompt_number": 71
    },
    {
     "cell_type": "heading",
     "level": 1,
     "metadata": {},
     "source": [
      "HPV+ Combined Patients"
     ]
    },
    {
     "cell_type": "code",
     "collapsed": false,
     "input": [
      "cn_upmc = pd.DataFrame({i: gistic[t] for i,t in cn_tumor.iteritems() if t in gistic})"
     ],
     "language": "python",
     "metadata": {},
     "outputs": [],
     "prompt_number": 72
    },
    {
     "cell_type": "code",
     "collapsed": false,
     "input": [
      "cn_upmc = pd.DataFrame({i: gistic[t] for i,t in cn_tumor.iteritems() if t in gistic})\n",
      "del_3p_upmc = cn_upmc.xs('3p14.2',0,1).median().ix[true_index(clin.HPV=='Positive')].dropna()"
     ],
     "language": "python",
     "metadata": {},
     "outputs": [],
     "prompt_number": 73
    },
    {
     "cell_type": "code",
     "collapsed": false,
     "input": [
      "surv_combined = pd.concat([surv, clinical.survival.survival_5y])"
     ],
     "language": "python",
     "metadata": {},
     "outputs": [],
     "prompt_number": 74
    },
    {
     "cell_type": "code",
     "collapsed": false,
     "input": [
      "cn_2 = cn_upmc.groupby(level=1).median().ix[:, true_index(clin.HPV=='Positive')].dropna(1, how='all')\n",
      "cn_3 = cn.features.copy().ix[:, ti(clinical.hpv)]\n",
      "cn_3.index = cn_3.index.get_level_values(1)"
     ],
     "language": "python",
     "metadata": {},
     "outputs": [],
     "prompt_number": 75
    },
    {
     "cell_type": "code",
     "collapsed": false,
     "input": [
      "cn_4 = cn_2.join(cn_3)\n",
      "cn_4 = cn_4.dropna(1, how='all').dropna(how='any')\n",
      "cn_d = (cn_4 < 0)\n",
      "cn_d = cn_d[cn_d.sum(1) > 0]\n",
      "\n",
      "cn_a = (cn_4 > 0)\n",
      "cn_a = cn_a[cn_a.sum(1) > 0]\n",
      "\n",
      "cn_all = pd.concat([cn_a, cn_d], keys=['Amplification','Deletion'])"
     ],
     "language": "python",
     "metadata": {},
     "outputs": [],
     "prompt_number": 76
    },
    {
     "cell_type": "code",
     "collapsed": false,
     "input": [
      "cox_screen(cn_all, surv_combined).sort([('LR','p')]).head()"
     ],
     "language": "python",
     "metadata": {},
     "outputs": [
      {
       "html": [
        "<div style=\"max-height:1000px;max-width:1500px;overflow:auto;\">\n",
        "<table border=\"1\" class=\"dataframe\">\n",
        "  <thead>\n",
        "    <tr>\n",
        "      <th></th>\n",
        "      <th></th>\n",
        "      <th colspan=\"4\" halign=\"left\">hazard</th>\n",
        "      <th colspan=\"4\" halign=\"left\">LR</th>\n",
        "      <th colspan=\"2\" halign=\"left\">concordance</th>\n",
        "    </tr>\n",
        "    <tr>\n",
        "      <th></th>\n",
        "      <th></th>\n",
        "      <th>exp(-coef)</th>\n",
        "      <th>exp(coef)</th>\n",
        "      <th>lower .95</th>\n",
        "      <th>upper .95</th>\n",
        "      <th>df</th>\n",
        "      <th>p</th>\n",
        "      <th>stat</th>\n",
        "      <th>q</th>\n",
        "      <th>se</th>\n",
        "      <th>stat</th>\n",
        "    </tr>\n",
        "  </thead>\n",
        "  <tbody>\n",
        "    <tr>\n",
        "      <th>Deletion</th>\n",
        "      <th>3p14.2</th>\n",
        "      <td> 0.18</td>\n",
        "      <td> 5.54</td>\n",
        "      <td> 1.51</td>\n",
        "      <td> 20.33</td>\n",
        "      <td> 1</td>\n",
        "      <td> 0.00</td>\n",
        "      <td> 8.21</td>\n",
        "      <td> 0.23</td>\n",
        "      <td> 0.08</td>\n",
        "      <td> 0.75</td>\n",
        "    </tr>\n",
        "    <tr>\n",
        "      <th rowspan=\"4\" valign=\"top\">Amplification</th>\n",
        "      <th>8q24.21</th>\n",
        "      <td> 6.06</td>\n",
        "      <td> 0.17</td>\n",
        "      <td> 0.04</td>\n",
        "      <td>  0.76</td>\n",
        "      <td> 1</td>\n",
        "      <td> 0.01</td>\n",
        "      <td> 7.44</td>\n",
        "      <td> 0.23</td>\n",
        "      <td> 0.08</td>\n",
        "      <td> 0.68</td>\n",
        "    </tr>\n",
        "    <tr>\n",
        "      <th>13q22.1</th>\n",
        "      <td> 0.16</td>\n",
        "      <td> 6.25</td>\n",
        "      <td> 1.82</td>\n",
        "      <td> 21.46</td>\n",
        "      <td> 1</td>\n",
        "      <td> 0.01</td>\n",
        "      <td> 7.38</td>\n",
        "      <td> 0.23</td>\n",
        "      <td> 0.06</td>\n",
        "      <td> 0.69</td>\n",
        "    </tr>\n",
        "    <tr>\n",
        "      <th>20q11.22</th>\n",
        "      <td> 7.82</td>\n",
        "      <td> 0.13</td>\n",
        "      <td> 0.02</td>\n",
        "      <td>  0.99</td>\n",
        "      <td> 1</td>\n",
        "      <td> 0.01</td>\n",
        "      <td> 6.69</td>\n",
        "      <td> 0.23</td>\n",
        "      <td> 0.08</td>\n",
        "      <td> 0.64</td>\n",
        "    </tr>\n",
        "    <tr>\n",
        "      <th>8p11.23</th>\n",
        "      <td> 7.71</td>\n",
        "      <td> 0.13</td>\n",
        "      <td> 0.02</td>\n",
        "      <td>  1.02</td>\n",
        "      <td> 1</td>\n",
        "      <td> 0.01</td>\n",
        "      <td> 6.44</td>\n",
        "      <td> 0.23</td>\n",
        "      <td> 0.08</td>\n",
        "      <td> 0.60</td>\n",
        "    </tr>\n",
        "  </tbody>\n",
        "</table>\n",
        "</div>"
       ],
       "metadata": {},
       "output_type": "pyout",
       "prompt_number": 77,
       "text": [
        "                            hazard                                   LR                    concordance      \n",
        "                        exp(-coef)  exp(coef)  lower .95  upper .95  df     p  stat     q           se  stat\n",
        "Deletion      3p14.2          0.18       5.54       1.51      20.33   1  0.00  8.21  0.23         0.08  0.75\n",
        "Amplification 8q24.21         6.06       0.17       0.04       0.76   1  0.01  7.44  0.23         0.08  0.68\n",
        "              13q22.1         0.16       6.25       1.82      21.46   1  0.01  7.38  0.23         0.06  0.69\n",
        "              20q11.22        7.82       0.13       0.02       0.99   1  0.01  6.69  0.23         0.08  0.64\n",
        "              8p11.23         7.71       0.13       0.02       1.02   1  0.01  6.44  0.23         0.08  0.60"
       ]
      }
     ],
     "prompt_number": 77
    },
    {
     "cell_type": "code",
     "collapsed": false,
     "input": [
      "del_3p_all = cn_all.ix['Deletion'].ix['3p14.2']"
     ],
     "language": "python",
     "metadata": {},
     "outputs": [],
     "prompt_number": 78
    },
    {
     "cell_type": "code",
     "collapsed": false,
     "input": [
      "p53_upmc = hit_matrix.ix['TP53', true_index(clin.HPV=='Positive')].dropna()\n",
      "p53_tcga = mut.features.ix['TP53', true_index(clinical.hpv==True)]"
     ],
     "language": "python",
     "metadata": {},
     "outputs": [],
     "prompt_number": 79
    },
    {
     "cell_type": "markdown",
     "metadata": {},
     "source": [
      "<div id='3p_hpv_OR'>We noted that TP53 mutation is very rare in HPV+ patients, consistent with the idea that mutation confers little selective advantage once TP53 is inactivated by HPV.</div>"
     ]
    },
    {
     "cell_type": "code",
     "collapsed": false,
     "input": [
      "p53_all = (mut.features.ix['TP53'].append(hit_matrix.ix['TP53']>0)).map({True:'mut',False:'wt'})\n",
      "hpv_all = clinical.hpv.append(clin.HPV=='Positive')\n",
      "pd.crosstab(hpv_all, p53_all)"
     ],
     "language": "python",
     "metadata": {},
     "outputs": [
      {
       "html": [
        "<div style=\"max-height:1000px;max-width:1500px;overflow:auto;\">\n",
        "<table border=\"1\" class=\"dataframe\">\n",
        "  <thead>\n",
        "    <tr style=\"text-align: right;\">\n",
        "      <th>TP53</th>\n",
        "      <th>mut</th>\n",
        "      <th>wt</th>\n",
        "    </tr>\n",
        "    <tr>\n",
        "      <th>HPV</th>\n",
        "      <th></th>\n",
        "      <th></th>\n",
        "    </tr>\n",
        "  </thead>\n",
        "  <tbody>\n",
        "    <tr>\n",
        "      <th>False</th>\n",
        "      <td> 257</td>\n",
        "      <td> 69</td>\n",
        "    </tr>\n",
        "    <tr>\n",
        "      <th>True </th>\n",
        "      <td>   2</td>\n",
        "      <td> 52</td>\n",
        "    </tr>\n",
        "  </tbody>\n",
        "</table>\n",
        "</div>"
       ],
       "metadata": {},
       "output_type": "pyout",
       "prompt_number": 80,
       "text": [
        "TP53   mut  wt\n",
        "HPV           \n",
        "False  257  69\n",
        "True     2  52"
       ]
      }
     ],
     "prompt_number": 80
    },
    {
     "cell_type": "code",
     "collapsed": false,
     "input": [
      "1 / fisher_exact_test(hpv_all, p53_all)['odds_ratio']"
     ],
     "language": "python",
     "metadata": {},
     "outputs": [
      {
       "metadata": {},
       "output_type": "pyout",
       "prompt_number": 81,
       "text": [
        "0.010326249625860521"
       ]
      }
     ],
     "prompt_number": 81
    },
    {
     "cell_type": "code",
     "collapsed": false,
     "input": [
      "fisher_exact_test(hit_matrix.ix['TP53']>0, clin.HPV=='Positive')"
     ],
     "language": "python",
     "metadata": {},
     "outputs": [
      {
       "metadata": {},
       "output_type": "pyout",
       "prompt_number": 82,
       "text": [
        "odds_ratio    0.00e+00\n",
        "p             5.14e-06\n",
        "dtype: float64"
       ]
      }
     ],
     "prompt_number": 82
    },
    {
     "cell_type": "code",
     "collapsed": false,
     "input": [
      "print len(combine(hit_matrix.ix['TP53']>0, clin.HPV=='Positive'))\n",
      "pd.crosstab(hit_matrix.ix['TP53']>0, clin.HPV)"
     ],
     "language": "python",
     "metadata": {},
     "outputs": [
      {
       "output_type": "stream",
       "stream": "stdout",
       "text": [
        "74\n"
       ]
      },
      {
       "html": [
        "<div style=\"max-height:1000px;max-width:1500px;overflow:auto;\">\n",
        "<table border=\"1\" class=\"dataframe\">\n",
        "  <thead>\n",
        "    <tr style=\"text-align: right;\">\n",
        "      <th>HPV</th>\n",
        "      <th>Negative</th>\n",
        "      <th>Positive</th>\n",
        "    </tr>\n",
        "    <tr>\n",
        "      <th>TP53</th>\n",
        "      <th></th>\n",
        "      <th></th>\n",
        "    </tr>\n",
        "  </thead>\n",
        "  <tbody>\n",
        "    <tr>\n",
        "      <th>False</th>\n",
        "      <td> 17</td>\n",
        "      <td> 11</td>\n",
        "    </tr>\n",
        "    <tr>\n",
        "      <th>True </th>\n",
        "      <td> 46</td>\n",
        "      <td>  0</td>\n",
        "    </tr>\n",
        "  </tbody>\n",
        "</table>\n",
        "</div>"
       ],
       "metadata": {},
       "output_type": "pyout",
       "prompt_number": 83,
       "text": [
        "HPV    Negative  Positive\n",
        "TP53                     \n",
        "False        17        11\n",
        "True         46         0"
       ]
      }
     ],
     "prompt_number": 83
    },
    {
     "cell_type": "code",
     "collapsed": false,
     "input": [
      "fisher_exact_test(hpv_all, p53_all)"
     ],
     "language": "python",
     "metadata": {},
     "outputs": [
      {
       "metadata": {},
       "output_type": "pyout",
       "prompt_number": 84,
       "text": [
        "odds_ratio    9.68e+01\n",
        "p             1.17e-27\n",
        "dtype: float64"
       ]
      }
     ],
     "prompt_number": 84
    },
    {
     "cell_type": "markdown",
     "metadata": {},
     "source": [
      "<div id='3p_hpv_surv'>Moreover, the 25 HPV+ patients harboring a 3p deletion had significantly worse prognosis than the 34 HPV+ patients without the 3p event.</div>"
     ]
    },
    {
     "cell_type": "code",
     "collapsed": false,
     "input": [
      "survival_and_stats(del_3p_all, surv_combined)"
     ],
     "language": "python",
     "metadata": {},
     "outputs": [
      {
       "metadata": {},
       "output_type": "display_data",
       "png": "[encoded data removed]",
       "text": [
        "<matplotlib.figure.Figure at 0x9628cd0>"
       ]
      }
     ],
     "prompt_number": 85
    },
    {
     "cell_type": "code",
     "collapsed": false,
     "input": [
      "log_rank(del_3p_all, surv_combined).ix['p']"
     ],
     "language": "python",
     "metadata": {},
     "outputs": [
      {
       "metadata": {},
       "output_type": "pyout",
       "prompt_number": 86,
       "text": [
        "0.0038336554312233214"
       ]
      }
     ],
     "prompt_number": 86
    },
    {
     "cell_type": "code",
     "collapsed": false,
     "input": [
      "get_cox_ph(surv_combined, del_3p_all, print_desc=True);"
     ],
     "language": "python",
     "metadata": {},
     "outputs": [
      {
       "output_type": "stream",
       "stream": "stdout",
       "text": [
        "\n",
        "        coef exp(coef) se(coef)    z      p\n",
        "feature 1.71      5.54    0.663 2.58 0.0098\n",
        "\n",
        "Likelihood ratio test=8.21  on 1 df, p=0.00417  n= 59, number of events= 13 \n",
        "\n"
       ]
      }
     ],
     "prompt_number": 87
    },
    {
     "cell_type": "code",
     "collapsed": false,
     "input": [
      "exp(1.71), exp(1.71) -  exp(1.71 - .663)"
     ],
     "language": "python",
     "metadata": {},
     "outputs": [
      {
       "metadata": {},
       "output_type": "pyout",
       "prompt_number": 88,
       "text": [
        "(5.5289614776240041, 2.6798704663347901)"
       ]
      }
     ],
     "prompt_number": 88
    },
    {
     "cell_type": "heading",
     "level": 1,
     "metadata": {},
     "source": [
      "UPMC Validation Cohort Figures"
     ]
    },
    {
     "cell_type": "heading",
     "level": 3,
     "metadata": {},
     "source": [
      "Figure 3a"
     ]
    },
    {
     "cell_type": "code",
     "collapsed": false,
     "input": [
      "p53_mut.name = 'TP53'\n",
      "del_3p.name = '3p'\n",
      "combo = combine(p53_mut, del_3p)"
     ],
     "language": "python",
     "metadata": {},
     "outputs": [],
     "prompt_number": 89
    },
    {
     "cell_type": "code",
     "collapsed": false,
     "input": [
      "fig, ax = subplots(figsize=(3,2.5))\n",
      "c = {'TP53': colors_th[1], 'both': colors_th[0]}\n",
      "draw_survival_curve(combo[combo.isin(['both','TP53'])], surv, colors=c, ax=ax)\n",
      "ax.legend(loc='lower left', frameon=False)\n",
      "prettify_ax(ax)\n",
      "fig.tight_layout()\n",
      "fig.savefig(FIGDIR + 'fig3a.pdf')"
     ],
     "language": "python",
     "metadata": {},
     "outputs": [
      {
       "metadata": {},
       "output_type": "display_data",
       "png": "[encoded data removed]",
       "text": [
        "<matplotlib.figure.Figure at 0x13d44910>"
       ]
      }
     ],
     "prompt_number": 90
    },
    {
     "cell_type": "code",
     "collapsed": false,
     "input": [
      "c = combo[combo.isin(['both','TP53'])]\n",
      "c = c.replace({'both': 'TP53 and 3p'})\n",
      "df = pd.concat([c, surv[:,'days'], surv[:,'event']],\n",
      "                keys=['Molecular Status', 'Days to Death/Censoring', 'Death Indicator'],\n",
      "                axis=1).dropna()\n",
      "df.to_csv(FIGDIR + 'fig3a.csv')"
     ],
     "language": "python",
     "metadata": {},
     "outputs": [],
     "prompt_number": 91
    },
    {
     "cell_type": "code",
     "collapsed": false,
     "input": [
      "fig, ax = subplots(figsize=(3,2.5))\n",
      "surv_fit = get_surv_fit(surv, combo)\n",
      "tt = surv_fit['5y Survival']\n",
      "b = (tt['Surv']).plot(kind='bar', ax=ax, color=[colors_th[2], colors_th[0], \n",
      "                                                colors_th[3], colors_th[1]],\n",
      "         yerr=[tt.Surv-tt.Lower, tt.Upper-tt.Surv], ecolor='black')\n",
      "ax.set_ylabel('5Y Survival')\n",
      "ax.set_yticks([0, .5, 1.0])\n",
      "bar_labels = ['{}\\n\\n{}'.format(j,int(v)) for j,v in \n",
      "              surv_fit['Stats']['# Patients'].iteritems()]\n",
      "ax.set_xticklabels(bar_labels, rotation=0);\n",
      "prettify_ax(ax)\n",
      "fig.tight_layout()"
     ],
     "language": "python",
     "metadata": {},
     "outputs": [
      {
       "metadata": {},
       "output_type": "display_data",
       "png": "[encoded data removed]",
       "text": [
        "<matplotlib.figure.Figure at 0x13d564d0>"
       ]
      }
     ],
     "prompt_number": 92
    },
    {
     "cell_type": "heading",
     "level": 3,
     "metadata": {},
     "source": [
      "Figure 3b"
     ]
    },
    {
     "cell_type": "code",
     "collapsed": false,
     "input": [
      "fig, ax = subplots(figsize=(3,2.5))\n",
      "draw_survival_curve(del_3p_all.astype(int), surv_combined, ax=ax, \n",
      "                    colors=[colors_th[3], colors_th[2]])\n",
      "ax.legend().set_visible(False)\n",
      "prettify_ax(ax)\n",
      "fig.tight_layout()\n",
      "fig.savefig(FIGDIR + 'fig3d.pdf')"
     ],
     "language": "python",
     "metadata": {},
     "outputs": [
      {
       "metadata": {},
       "output_type": "display_data",
       "png": "[encoded data removed]",
       "text": [
        "<matplotlib.figure.Figure at 0xd036690>"
       ]
      }
     ],
     "prompt_number": 103
    },
    {
     "cell_type": "code",
     "collapsed": false,
     "input": [
      "df = pd.concat([del_3p_all, surv_combined[:,'days'], surv_combined[:,'event']],\n",
      "                keys=['3p Deletion', 'Days to Death/Censoring', 'Death Indicator'],\n",
      "                axis=1).dropna()\n",
      "df.to_csv(FIGDIR + 'fig3ba.csv')"
     ],
     "language": "python",
     "metadata": {},
     "outputs": [],
     "prompt_number": 101
    }
   ],
   "metadata": {}
  }
 ]
}