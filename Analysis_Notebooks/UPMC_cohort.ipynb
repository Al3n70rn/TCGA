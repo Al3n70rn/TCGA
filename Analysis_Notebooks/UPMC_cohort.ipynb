{
 "metadata": {
  "name": ""
 },
 "nbformat": 3,
 "nbformat_minor": 0,
 "worksheets": [
  {
   "cells": [
    {
     "cell_type": "markdown",
     "metadata": {},
     "source": [
      "<h1 class=\"alert alert-info\">UPMC HNSCC Cohort <small> <i class=\"icon-globe\"></i> Validation of Primary Findings in UPMC Cohort</small></h1>"
     ]
    },
    {
     "cell_type": "heading",
     "level": 1,
     "metadata": {},
     "source": [
      "Setup"
     ]
    },
    {
     "cell_type": "markdown",
     "metadata": {},
     "source": [
      "Style Sheet\n",
      "\n",
      "<style>\n",
      "    @font-face {\n",
      "        font-family: \"Computer Modern\";\n",
      "        src: url('http://mirrors.ctan.org/fonts/cm-unicode/fonts/otf/cmunss.otf');\n",
      "    }\n",
      "    div.cell{\n",
      "        width:900px;\n",
      "        margin-left:auto;\n",
      "        margin-right:auto;\n",
      "    }\n",
      "    h1, h2, h3, h4 {\n",
      "        font-family: Helvetica, serif;\n",
      "        color: #000000;\n",
      "    }\n",
      "    div.text_cell_render{\n",
      "        font-family: Computer Modern, \"Helvetica Neue\", Arial, Helvetica, Geneva, sans-serif;\n",
      "        line-height: 125%;\n",
      "        font-size: 115%;\n",
      "        color: #4d4d4d;\n",
      "        width:800px;\n",
      "        margin-left:0px;\n",
      "        margin-right:auto;\n",
      "    }\n",
      "    \n",
      "    .warning{\n",
      "        color: rgb( 240, 20, 20 )\n",
      "        }  \n",
      "</style>"
     ]
    },
    {
     "cell_type": "code",
     "collapsed": false,
     "input": [
      "%pylab inline"
     ],
     "language": "python",
     "metadata": {},
     "outputs": [
      {
       "output_type": "stream",
       "stream": "stdout",
       "text": [
        "Populating the interactive namespace from numpy and matplotlib\n"
       ]
      }
     ],
     "prompt_number": 2
    },
    {
     "cell_type": "code",
     "collapsed": false,
     "input": [
      "%load_ext nbtoc\n",
      "%nbtoc"
     ],
     "language": "python",
     "metadata": {},
     "outputs": [
      {
       "html": [
        "<!-- extracted from https://gist.github.com/magican/5574556 -->\n",
        "<div id=\"toc-wrapper\">\n",
        "    <div class=\"header\">Contents <a href=\"#\" class=\"hide-btn\">[hide]</a></div>\n",
        "    <div id=\"toc\"></div>\n",
        "</div>\n",
        " \n",
        "<style>\n",
        "  #toc {\n",
        "    overflow-y: scroll;\n",
        "    max-height: 300px;\n",
        "  }\n",
        "  #toc-wrapper {\n",
        "    position: fixed; top: 120px; max-width:430px; right: 20px;\n",
        "    border: thin solid rgba(0, 0, 0, 0.38); opacity: .8;\n",
        "    border-radius: 5px; background-color: #fff; padding:10px;\n",
        "    z-index: 100;\n",
        "  }\n",
        "  #toc-wrapper.closed {\n",
        "      min-width: 100px;\n",
        "      width: auto;\n",
        "      transition: width;\n",
        "  }\n",
        "  #toc-wrapper:hover{\n",
        "      opacity:1;\n",
        "  }\n",
        "  #toc-wrapper .header {\n",
        "      font-size:18px; font-weight: bold;\n",
        "  }\n",
        "  #toc-wrapper .hide-btn {\n",
        "      font-size: 14px;\n",
        "  }\n",
        " \n",
        "</style>\n",
        "\n",
        "<style>\n",
        "  ol.nested {\n",
        "    counter-reset: item;\n",
        "    list-style: none;\n",
        "  }\n",
        "  li.nested {\n",
        "        display: block;\n",
        "    }\n",
        "  li.nested:before {\n",
        "        counter-increment: item;\n",
        "        content: counters(item, \".\")\" \";\n",
        "    }\n",
        "</style>\n"
       ],
       "metadata": {},
       "output_type": "display_data"
      },
      {
       "javascript": [
        "// adapted from https://gist.github.com/magican/5574556\n",
        "\n",
        "function clone_anchor(element) {\n",
        "  // clone link\n",
        "  var h = element.find(\"div.text_cell_render\").find(':header').first();\n",
        "  var a = h.find('a').clone();\n",
        "  var new_a = $(\"<a>\");\n",
        "  new_a.attr(\"href\", a.attr(\"href\"));\n",
        "  // get the text *excluding* the link text, whatever it may be\n",
        "  var hclone = h.clone();\n",
        "  hclone.children().remove();\n",
        "  new_a.text(hclone.text());\n",
        "  return new_a;\n",
        "}\n",
        "\n",
        "function ol_depth(element) {\n",
        "  // get depth of nested ol\n",
        "  var d = 0;\n",
        "  while (element.prop(\"tagName\").toLowerCase() == 'ol') {\n",
        "    d += 1;\n",
        "    element = element.parent();\n",
        "  }\n",
        "  return d;\n",
        "}\n",
        "\n",
        "function table_of_contents(threshold) {\n",
        "  if (threshold === undefined) {\n",
        "    threshold = 4;\n",
        "  }\n",
        "  var cells = IPython.notebook.get_cells();\n",
        "  \n",
        "  var ol = $(\"<ol/>\");\n",
        "  $(\"#toc\").empty().append(ol);\n",
        "  \n",
        "  for (var i=0; i < cells.length; i++) {\n",
        "    var cell = cells[i];\n",
        "    \n",
        "    if (cell.cell_type !== 'heading') continue;\n",
        "    \n",
        "    var level = cell.level;\n",
        "    if (level > threshold) continue;\n",
        "    \n",
        "    var depth = ol_depth(ol);\n",
        "\n",
        "    // walk down levels\n",
        "    for (; depth < level; depth++) {\n",
        "      var new_ol = $(\"<ol/>\");\n",
        "      ol.append(new_ol);\n",
        "      ol = new_ol;\n",
        "    }\n",
        "    // walk up levels\n",
        "    for (; depth > level; depth--) {\n",
        "      ol = ol.parent();\n",
        "    }\n",
        "    //\n",
        "    ol.append(\n",
        "      $(\"<li/>\").append(clone_anchor(cell.element))\n",
        "    );\n",
        "  }\n",
        "\n",
        "  $('#toc-wrapper .header').click(function(){\n",
        "    $('#toc').slideToggle();\n",
        "    $('#toc-wrapper').toggleClass('closed');\n",
        "    if ($('#toc-wrapper').hasClass('closed')){\n",
        "      $('#toc-wrapper .hide-btn').text('[show]');\n",
        "    } else {\n",
        "      $('#toc-wrapper .hide-btn').text('[hide]');\n",
        "    }\n",
        "    return false;\n",
        "  })\n",
        "\n",
        "  $(window).resize(function(){\n",
        "    $('#toc').css({maxHeight: $(window).height() - 200})\n",
        "  })\n",
        "\n",
        "  $(window).trigger('resize')\n",
        "}\n",
        "\n",
        "table_of_contents();\n",
        "\n",
        "\n"
       ],
       "metadata": {},
       "output_type": "display_data"
      }
     ],
     "prompt_number": 3
    },
    {
     "cell_type": "code",
     "collapsed": false,
     "input": [
      "cd ../src/"
     ],
     "language": "python",
     "metadata": {},
     "outputs": [
      {
       "output_type": "stream",
       "stream": "stdout",
       "text": [
        "/cellar/users/agross/TCGA_Code/TCGA/src\n"
       ]
      }
     ],
     "prompt_number": 4
    },
    {
     "cell_type": "code",
     "collapsed": false,
     "input": [
      "from Processing.Imports import *\n",
      "from Figures.Survival import survival_and_stats\n",
      "from Figures.Helpers import prettify_ax"
     ],
     "language": "python",
     "metadata": {},
     "outputs": [],
     "prompt_number": 5
    },
    {
     "cell_type": "heading",
     "level": 2,
     "metadata": {},
     "source": [
      "Read in Preprocessed Data"
     ]
    },
    {
     "cell_type": "code",
     "collapsed": false,
     "input": [
      "params = pd.read_table('../global_params.txt', header=None, squeeze=True, \n",
      "                       index_col=0)"
     ],
     "language": "python",
     "metadata": {},
     "outputs": [],
     "prompt_number": 6
    },
    {
     "cell_type": "code",
     "collapsed": false,
     "input": [
      "run_path  = '{}/Firehose__{}/'.format(params.ix['OUT_PATH'], params.ix['RUN_DATE'])\n",
      "run = get_run(run_path, 'Run_' + params.ix['VERSION'])\n",
      "cancer = run.load_cancer(params.ix['CANCER'])\n",
      "clinical = cancer.load_clinical()\n",
      "\n",
      "mut = cancer.load_data('Mutation')\n",
      "mut.uncompress()\n",
      "cn = cancer.load_data('CN_broad')\n",
      "cn.uncompress()"
     ],
     "language": "python",
     "metadata": {},
     "outputs": [],
     "prompt_number": 7
    },
    {
     "cell_type": "heading",
     "level": 2,
     "metadata": {},
     "source": [
      "Read in UPMC Data"
     ]
    },
    {
     "cell_type": "code",
     "collapsed": false,
     "input": [
      "meta = pd.read_csv('../Extra_Data/UPMC_cohort/meta.csv', index_col=0)\n",
      "meta.index = pd.MultiIndex.from_tuples([('-'.join(i.split('-')[:-1]), i.split('-')[-1]) \n",
      "                                        for i in meta.index])"
     ],
     "language": "python",
     "metadata": {},
     "outputs": [],
     "prompt_number": 8
    },
    {
     "cell_type": "code",
     "collapsed": false,
     "input": [
      "clin = pd.read_csv('../Extra_Data/UPMC_cohort/pitt_broad_data.csv', index_col=0)\n",
      "clin.Tumor_type = clin.Tumor_type.map(str.strip)\n",
      "surv = pd.concat([clin.os_5yr, clin.os_5yr_mons*30.5], keys=['event','days'], axis=1).stack()\n",
      "clin2 = pd.read_csv('../Extra_Data/UPMC_cohort/pitt_broad_data_update.csv', index_col=0)\n",
      "surv2 = pd.concat([clin2.os_5yr, clin2.os_5yr_mons*30.5], keys=['event','days'], axis=1).stack()\n",
      "surv = surv2.combine_first(surv)"
     ],
     "language": "python",
     "metadata": {},
     "outputs": [],
     "prompt_number": 9
    },
    {
     "cell_type": "heading",
     "level": 2,
     "metadata": {},
     "source": [
      "Explore Clinical Features of Cohort"
     ]
    },
    {
     "cell_type": "code",
     "collapsed": false,
     "input": [
      "keepers = ti(clin.HPV == 'Negative')"
     ],
     "language": "python",
     "metadata": {},
     "outputs": [],
     "prompt_number": 10
    },
    {
     "cell_type": "code",
     "collapsed": false,
     "input": [
      "cc = clin.ix[true_index(meta.Final_74_exome_analysis[:,'Tumor']>0)]\n",
      "cc = cc.ix[:,cc.apply(pd.value_counts).count().isin([2,3,4])]\n",
      "cc = cc.dropna(1)"
     ],
     "language": "python",
     "metadata": {},
     "outputs": [],
     "prompt_number": 11
    },
    {
     "cell_type": "code",
     "collapsed": false,
     "input": [
      "cox_screen(cc.T, surv)[7:].head(10)"
     ],
     "language": "python",
     "metadata": {},
     "outputs": [
      {
       "html": [
        "<div style=\"max-height:1000px;max-width:1500px;overflow:auto;\">\n",
        "<table border=\"1\" class=\"dataframe\">\n",
        "  <thead>\n",
        "    <tr>\n",
        "      <th></th>\n",
        "      <th colspan=\"4\" halign=\"left\">hazard</th>\n",
        "      <th colspan=\"4\" halign=\"left\">LR</th>\n",
        "      <th colspan=\"2\" halign=\"left\">concordance</th>\n",
        "    </tr>\n",
        "    <tr>\n",
        "      <th></th>\n",
        "      <th>exp(-coef)</th>\n",
        "      <th>exp(coef)</th>\n",
        "      <th>lower .95</th>\n",
        "      <th>upper .95</th>\n",
        "      <th>df</th>\n",
        "      <th>p</th>\n",
        "      <th>stat</th>\n",
        "      <th>q</th>\n",
        "      <th>se</th>\n",
        "      <th>stat</th>\n",
        "    </tr>\n",
        "  </thead>\n",
        "  <tbody>\n",
        "    <tr>\n",
        "      <th>Neoadj_tx</th>\n",
        "      <td> 0.01</td>\n",
        "      <td> 115.91</td>\n",
        "      <td> 10.25</td>\n",
        "      <td> 1311.28</td>\n",
        "      <td> 1</td>\n",
        "      <td> 4.32e-04</td>\n",
        "      <td> 12.39</td>\n",
        "      <td> 0.00</td>\n",
        "      <td> 0.00</td>\n",
        "      <td> 0.53</td>\n",
        "    </tr>\n",
        "    <tr>\n",
        "      <th>Chemo </th>\n",
        "      <td> 0.04</td>\n",
        "      <td>  27.59</td>\n",
        "      <td>  5.33</td>\n",
        "      <td>  142.93</td>\n",
        "      <td> 2</td>\n",
        "      <td> 1.54e-03</td>\n",
        "      <td> 12.95</td>\n",
        "      <td> 0.00</td>\n",
        "      <td> 0.04</td>\n",
        "      <td> 0.62</td>\n",
        "    </tr>\n",
        "    <tr>\n",
        "      <th>Adj_chemo</th>\n",
        "      <td> 0.04</td>\n",
        "      <td>  27.59</td>\n",
        "      <td>  5.33</td>\n",
        "      <td>  142.93</td>\n",
        "      <td> 2</td>\n",
        "      <td> 1.54e-03</td>\n",
        "      <td> 12.95</td>\n",
        "      <td> 0.00</td>\n",
        "      <td> 0.04</td>\n",
        "      <td> 0.62</td>\n",
        "    </tr>\n",
        "    <tr>\n",
        "      <th>Recurrence</th>\n",
        "      <td> 0.45</td>\n",
        "      <td>   2.21</td>\n",
        "      <td>  1.18</td>\n",
        "      <td>    4.12</td>\n",
        "      <td> 1</td>\n",
        "      <td> 1.41e-02</td>\n",
        "      <td>  6.02</td>\n",
        "      <td> 0.04</td>\n",
        "      <td> 0.04</td>\n",
        "      <td> 0.57</td>\n",
        "    </tr>\n",
        "    <tr>\n",
        "      <th>PNI</th>\n",
        "      <td> 0.42</td>\n",
        "      <td>   2.36</td>\n",
        "      <td>  0.86</td>\n",
        "      <td>    6.50</td>\n",
        "      <td> 2</td>\n",
        "      <td> 1.49e-02</td>\n",
        "      <td>  8.41</td>\n",
        "      <td> 0.04</td>\n",
        "      <td> 0.04</td>\n",
        "      <td> 0.62</td>\n",
        "    </tr>\n",
        "    <tr>\n",
        "      <th>DistMets</th>\n",
        "      <td> 0.35</td>\n",
        "      <td>   2.82</td>\n",
        "      <td>  1.33</td>\n",
        "      <td>    6.01</td>\n",
        "      <td> 1</td>\n",
        "      <td> 1.44e-02</td>\n",
        "      <td>  5.98</td>\n",
        "      <td> 0.04</td>\n",
        "      <td> 0.03</td>\n",
        "      <td> 0.55</td>\n",
        "    </tr>\n",
        "    <tr>\n",
        "      <th>EPS</th>\n",
        "      <td> 1.45</td>\n",
        "      <td>   0.69</td>\n",
        "      <td>  0.30</td>\n",
        "      <td>    1.58</td>\n",
        "      <td> 2</td>\n",
        "      <td> 2.14e-02</td>\n",
        "      <td>  7.69</td>\n",
        "      <td> 0.05</td>\n",
        "      <td> 0.04</td>\n",
        "      <td> 0.62</td>\n",
        "    </tr>\n",
        "    <tr>\n",
        "      <th>Dif</th>\n",
        "      <td> 0.90</td>\n",
        "      <td>   1.11</td>\n",
        "      <td>  0.58</td>\n",
        "      <td>    2.13</td>\n",
        "      <td> 3</td>\n",
        "      <td> 6.69e-02</td>\n",
        "      <td>  7.16</td>\n",
        "      <td> 0.14</td>\n",
        "      <td> 0.04</td>\n",
        "      <td> 0.54</td>\n",
        "    </tr>\n",
        "    <tr>\n",
        "      <th>Ethnicity</th>\n",
        "      <td> 6.71</td>\n",
        "      <td>   0.15</td>\n",
        "      <td>  0.02</td>\n",
        "      <td>    1.16</td>\n",
        "      <td> 1</td>\n",
        "      <td> 1.54e-01</td>\n",
        "      <td>  2.04</td>\n",
        "      <td> 0.28</td>\n",
        "      <td> 0.01</td>\n",
        "      <td> 0.51</td>\n",
        "    </tr>\n",
        "    <tr>\n",
        "      <th>Local_recurr</th>\n",
        "      <td> 0.55</td>\n",
        "      <td>   1.83</td>\n",
        "      <td>  0.84</td>\n",
        "      <td>    3.98</td>\n",
        "      <td> 1</td>\n",
        "      <td> 1.53e-01</td>\n",
        "      <td>  2.04</td>\n",
        "      <td> 0.28</td>\n",
        "      <td> 0.03</td>\n",
        "      <td> 0.53</td>\n",
        "    </tr>\n",
        "  </tbody>\n",
        "</table>\n",
        "<p>10 rows \u00d7 10 columns</p>\n",
        "</div>"
       ],
       "metadata": {},
       "output_type": "pyout",
       "prompt_number": 12,
       "text": [
        "                  hazard                                   LR                         concordance      \n",
        "              exp(-coef)  exp(coef)  lower .95  upper .95  df         p   stat     q           se  stat\n",
        "Neoadj_tx           0.01     115.91      10.25    1311.28   1  4.32e-04  12.39  0.00         0.00  0.53\n",
        "Chemo               0.04      27.59       5.33     142.93   2  1.54e-03  12.95  0.00         0.04  0.62\n",
        "Adj_chemo           0.04      27.59       5.33     142.93   2  1.54e-03  12.95  0.00         0.04  0.62\n",
        "Recurrence          0.45       2.21       1.18       4.12   1  1.41e-02   6.02  0.04         0.04  0.57\n",
        "PNI                 0.42       2.36       0.86       6.50   2  1.49e-02   8.41  0.04         0.04  0.62\n",
        "DistMets            0.35       2.82       1.33       6.01   1  1.44e-02   5.98  0.04         0.03  0.55\n",
        "EPS                 1.45       0.69       0.30       1.58   2  2.14e-02   7.69  0.05         0.04  0.62\n",
        "Dif                 0.90       1.11       0.58       2.13   3  6.69e-02   7.16  0.14         0.04  0.54\n",
        "Ethnicity           6.71       0.15       0.02       1.16   1  1.54e-01   2.04  0.28         0.01  0.51\n",
        "Local_recurr        0.55       1.83       0.84       3.98   1  1.53e-01   2.04  0.28         0.03  0.53\n",
        "\n",
        "[10 rows x 10 columns]"
       ]
      }
     ],
     "prompt_number": 12
    },
    {
     "cell_type": "code",
     "collapsed": false,
     "input": [
      "f = clin.Primary_site.ix[keepers]\n",
      "f = f.replace('Hypopharynx','Other').replace('Sinonasal','Other')\n",
      "get_surv_fit_lr(surv, f)"
     ],
     "language": "python",
     "metadata": {},
     "outputs": [
      {
       "html": [
        "<div style=\"max-height:1000px;max-width:1500px;overflow:auto;\">\n",
        "<table border=\"1\" class=\"dataframe\">\n",
        "  <thead>\n",
        "    <tr>\n",
        "      <th></th>\n",
        "      <th colspan=\"2\" halign=\"left\">Stats</th>\n",
        "      <th colspan=\"3\" halign=\"left\">Median Survival</th>\n",
        "      <th colspan=\"3\" halign=\"left\">5y Survival</th>\n",
        "      <th colspan=\"2\" halign=\"left\">Log-Rank</th>\n",
        "    </tr>\n",
        "    <tr>\n",
        "      <th></th>\n",
        "      <th># Patients</th>\n",
        "      <th># Events</th>\n",
        "      <th>Median</th>\n",
        "      <th>Lower</th>\n",
        "      <th>Upper</th>\n",
        "      <th>Surv</th>\n",
        "      <th>Lower</th>\n",
        "      <th>Upper</th>\n",
        "      <th>chi2</th>\n",
        "      <th>p</th>\n",
        "    </tr>\n",
        "  </thead>\n",
        "  <tbody>\n",
        "    <tr>\n",
        "      <th></th>\n",
        "      <td>   </td>\n",
        "      <td>   </td>\n",
        "      <td>      </td>\n",
        "      <td>      </td>\n",
        "      <td>    </td>\n",
        "      <td>      </td>\n",
        "      <td>      </td>\n",
        "      <td>      </td>\n",
        "      <td> 4.02</td>\n",
        "      <td> 0.259</td>\n",
        "    </tr>\n",
        "    <tr>\n",
        "      <th>Oral cavity</th>\n",
        "      <td> 36</td>\n",
        "      <td> 22</td>\n",
        "      <td>  2.99</td>\n",
        "      <td>   1.3</td>\n",
        "      <td> NaN</td>\n",
        "      <td> 0.411</td>\n",
        "      <td> 0.277</td>\n",
        "      <td>  0.61</td>\n",
        "      <td>     </td>\n",
        "      <td>      </td>\n",
        "    </tr>\n",
        "    <tr>\n",
        "      <th>Larynx</th>\n",
        "      <td> 15</td>\n",
        "      <td>  6</td>\n",
        "      <td>   NaN</td>\n",
        "      <td>   1.5</td>\n",
        "      <td> NaN</td>\n",
        "      <td> 0.574</td>\n",
        "      <td> 0.366</td>\n",
        "      <td> 0.901</td>\n",
        "      <td>     </td>\n",
        "      <td>      </td>\n",
        "    </tr>\n",
        "    <tr>\n",
        "      <th>Other</th>\n",
        "      <td>  8</td>\n",
        "      <td>  4</td>\n",
        "      <td>   3.7</td>\n",
        "      <td>   1.8</td>\n",
        "      <td> NaN</td>\n",
        "      <td>   0.5</td>\n",
        "      <td>  0.25</td>\n",
        "      <td>     1</td>\n",
        "      <td>     </td>\n",
        "      <td>      </td>\n",
        "    </tr>\n",
        "    <tr>\n",
        "      <th>Oropharynx</th>\n",
        "      <td>  4</td>\n",
        "      <td>  3</td>\n",
        "      <td> 0.844</td>\n",
        "      <td> 0.535</td>\n",
        "      <td> NaN</td>\n",
        "      <td>   NaN</td>\n",
        "      <td>   NaN</td>\n",
        "      <td>   NaN</td>\n",
        "      <td>     </td>\n",
        "      <td>      </td>\n",
        "    </tr>\n",
        "  </tbody>\n",
        "</table>\n",
        "<p>5 rows \u00d7 10 columns</p>\n",
        "</div>"
       ],
       "metadata": {},
       "output_type": "pyout",
       "prompt_number": 13,
       "text": [
        "                 Stats          Median Survival              5y Survival               Log-Rank       \n",
        "            # Patients # Events          Median  Lower Upper        Surv  Lower  Upper     chi2      p\n",
        "                                                                                           4.02  0.259\n",
        "Oral cavity         36       22            2.99    1.3   NaN       0.411  0.277   0.61                \n",
        "Larynx              15        6             NaN    1.5   NaN       0.574  0.366  0.901                \n",
        "Other                8        4             3.7    1.8   NaN         0.5   0.25      1                \n",
        "Oropharynx           4        3           0.844  0.535   NaN         NaN    NaN    NaN                \n",
        "\n",
        "[5 rows x 10 columns]"
       ]
      }
     ],
     "prompt_number": 13
    },
    {
     "cell_type": "code",
     "collapsed": false,
     "input": [
      "f = clin.Nodal_stage.ix[keepers].fillna('.')\n",
      "f = f.replace('N2A','N2').replace('N2B','N2').replace('N2C','N2')\n",
      "get_surv_fit_lr(surv, f)"
     ],
     "language": "python",
     "metadata": {},
     "outputs": [
      {
       "html": [
        "<div style=\"max-height:1000px;max-width:1500px;overflow:auto;\">\n",
        "<table border=\"1\" class=\"dataframe\">\n",
        "  <thead>\n",
        "    <tr>\n",
        "      <th></th>\n",
        "      <th colspan=\"2\" halign=\"left\">Stats</th>\n",
        "      <th colspan=\"3\" halign=\"left\">Median Survival</th>\n",
        "      <th colspan=\"3\" halign=\"left\">5y Survival</th>\n",
        "      <th colspan=\"2\" halign=\"left\">Log-Rank</th>\n",
        "    </tr>\n",
        "    <tr>\n",
        "      <th></th>\n",
        "      <th># Patients</th>\n",
        "      <th># Events</th>\n",
        "      <th>Median</th>\n",
        "      <th>Lower</th>\n",
        "      <th>Upper</th>\n",
        "      <th>Surv</th>\n",
        "      <th>Lower</th>\n",
        "      <th>Upper</th>\n",
        "      <th>chi2</th>\n",
        "      <th>p</th>\n",
        "    </tr>\n",
        "  </thead>\n",
        "  <tbody>\n",
        "    <tr>\n",
        "      <th></th>\n",
        "      <td>   </td>\n",
        "      <td>   </td>\n",
        "      <td>      </td>\n",
        "      <td>      </td>\n",
        "      <td>    </td>\n",
        "      <td>      </td>\n",
        "      <td>      </td>\n",
        "      <td>      </td>\n",
        "      <td> 22.1</td>\n",
        "      <td> 0.000192</td>\n",
        "    </tr>\n",
        "    <tr>\n",
        "      <th>N2</th>\n",
        "      <td> 28</td>\n",
        "      <td> 20</td>\n",
        "      <td>  1.15</td>\n",
        "      <td> 0.978</td>\n",
        "      <td> NaN</td>\n",
        "      <td> 0.298</td>\n",
        "      <td> 0.167</td>\n",
        "      <td> 0.532</td>\n",
        "      <td>     </td>\n",
        "      <td>         </td>\n",
        "    </tr>\n",
        "    <tr>\n",
        "      <th>N0</th>\n",
        "      <td> 19</td>\n",
        "      <td>  6</td>\n",
        "      <td>   NaN</td>\n",
        "      <td>  3.98</td>\n",
        "      <td> NaN</td>\n",
        "      <td> 0.672</td>\n",
        "      <td> 0.487</td>\n",
        "      <td> 0.928</td>\n",
        "      <td>     </td>\n",
        "      <td>         </td>\n",
        "    </tr>\n",
        "    <tr>\n",
        "      <th>N1</th>\n",
        "      <td>  8</td>\n",
        "      <td>  4</td>\n",
        "      <td>   3.7</td>\n",
        "      <td>  2.11</td>\n",
        "      <td> NaN</td>\n",
        "      <td>   0.5</td>\n",
        "      <td>  0.25</td>\n",
        "      <td>     1</td>\n",
        "      <td>     </td>\n",
        "      <td>         </td>\n",
        "    </tr>\n",
        "    <tr>\n",
        "      <th>.</th>\n",
        "      <td>  5</td>\n",
        "      <td>  2</td>\n",
        "      <td>   NaN</td>\n",
        "      <td>  1.55</td>\n",
        "      <td> NaN</td>\n",
        "      <td>   0.6</td>\n",
        "      <td> 0.293</td>\n",
        "      <td>     1</td>\n",
        "      <td>     </td>\n",
        "      <td>         </td>\n",
        "    </tr>\n",
        "    <tr>\n",
        "      <th>N3</th>\n",
        "      <td>  3</td>\n",
        "      <td>  3</td>\n",
        "      <td> 0.894</td>\n",
        "      <td> 0.535</td>\n",
        "      <td> NaN</td>\n",
        "      <td>   NaN</td>\n",
        "      <td>   NaN</td>\n",
        "      <td>   NaN</td>\n",
        "      <td>     </td>\n",
        "      <td>         </td>\n",
        "    </tr>\n",
        "  </tbody>\n",
        "</table>\n",
        "<p>6 rows \u00d7 10 columns</p>\n",
        "</div>"
       ],
       "metadata": {},
       "output_type": "pyout",
       "prompt_number": 14,
       "text": [
        "        Stats          Median Survival              5y Survival               Log-Rank          \n",
        "   # Patients # Events          Median  Lower Upper        Surv  Lower  Upper     chi2         p\n",
        "                                                                                  22.1  0.000192\n",
        "N2         28       20            1.15  0.978   NaN       0.298  0.167  0.532                   \n",
        "N0         19        6             NaN   3.98   NaN       0.672  0.487  0.928                   \n",
        "N1          8        4             3.7   2.11   NaN         0.5   0.25      1                   \n",
        ".           5        2             NaN   1.55   NaN         0.6  0.293      1                   \n",
        "N3          3        3           0.894  0.535   NaN         NaN    NaN    NaN                   \n",
        "\n",
        "[6 rows x 10 columns]"
       ]
      }
     ],
     "prompt_number": 14
    },
    {
     "cell_type": "code",
     "collapsed": false,
     "input": [
      "survival_and_stats(f.isin(['N2','N3']), surv)"
     ],
     "language": "python",
     "metadata": {},
     "outputs": [
      {
       "output_type": "stream",
       "stream": "stderr",
       "text": [
        "/cellar/users/agross/anaconda2/lib/python2.7/site-packages/pandas-0.13.0_247_g82bcbb8-py2.7-linux-x86_64.egg/pandas/core/series.py:810: SettingWithCopyWarning: A value is trying to be set on a copy of a slice from a DataFrame\n",
        "  self.loc[label] = value\n"
       ]
      },
      {
       "metadata": {},
       "output_type": "display_data",
       "png": "[encoded data removed]",
       "text": [
        "<matplotlib.figure.Figure at 0x982c610>"
       ]
      }
     ],
     "prompt_number": 15
    },
    {
     "cell_type": "code",
     "collapsed": false,
     "input": [
      "f = clin.clinical_stage.ix[keepers]\n",
      "f = f.replace('IVa','IV').replace('IVb','IV').replace('.', 'Unstaged').fillna('Unstaged')\n",
      "get_surv_fit_lr(surv, f)"
     ],
     "language": "python",
     "metadata": {},
     "outputs": [
      {
       "html": [
        "<div style=\"max-height:1000px;max-width:1500px;overflow:auto;\">\n",
        "<table border=\"1\" class=\"dataframe\">\n",
        "  <thead>\n",
        "    <tr>\n",
        "      <th></th>\n",
        "      <th colspan=\"2\" halign=\"left\">Stats</th>\n",
        "      <th colspan=\"3\" halign=\"left\">Median Survival</th>\n",
        "      <th colspan=\"3\" halign=\"left\">5y Survival</th>\n",
        "      <th colspan=\"2\" halign=\"left\">Log-Rank</th>\n",
        "    </tr>\n",
        "    <tr>\n",
        "      <th></th>\n",
        "      <th># Patients</th>\n",
        "      <th># Events</th>\n",
        "      <th>Median</th>\n",
        "      <th>Lower</th>\n",
        "      <th>Upper</th>\n",
        "      <th>Surv</th>\n",
        "      <th>Lower</th>\n",
        "      <th>Upper</th>\n",
        "      <th>chi2</th>\n",
        "      <th>p</th>\n",
        "    </tr>\n",
        "  </thead>\n",
        "  <tbody>\n",
        "    <tr>\n",
        "      <th></th>\n",
        "      <td>   </td>\n",
        "      <td>   </td>\n",
        "      <td>    </td>\n",
        "      <td>     </td>\n",
        "      <td>    </td>\n",
        "      <td>      </td>\n",
        "      <td>      </td>\n",
        "      <td>      </td>\n",
        "      <td> 4.3</td>\n",
        "      <td> 0.231</td>\n",
        "    </tr>\n",
        "    <tr>\n",
        "      <th>IV</th>\n",
        "      <td> 43</td>\n",
        "      <td> 27</td>\n",
        "      <td> 1.6</td>\n",
        "      <td>  1.1</td>\n",
        "      <td> NaN</td>\n",
        "      <td>  0.38</td>\n",
        "      <td> 0.258</td>\n",
        "      <td>  0.56</td>\n",
        "      <td>    </td>\n",
        "      <td>      </td>\n",
        "    </tr>\n",
        "    <tr>\n",
        "      <th>III</th>\n",
        "      <td> 12</td>\n",
        "      <td>  5</td>\n",
        "      <td> NaN</td>\n",
        "      <td> 2.11</td>\n",
        "      <td> NaN</td>\n",
        "      <td> 0.583</td>\n",
        "      <td> 0.362</td>\n",
        "      <td> 0.941</td>\n",
        "      <td>    </td>\n",
        "      <td>      </td>\n",
        "    </tr>\n",
        "    <tr>\n",
        "      <th>Unstaged</th>\n",
        "      <td>  5</td>\n",
        "      <td>  2</td>\n",
        "      <td> NaN</td>\n",
        "      <td> 1.55</td>\n",
        "      <td> NaN</td>\n",
        "      <td>   0.6</td>\n",
        "      <td> 0.293</td>\n",
        "      <td>     1</td>\n",
        "      <td>    </td>\n",
        "      <td>      </td>\n",
        "    </tr>\n",
        "    <tr>\n",
        "      <th>II</th>\n",
        "      <td>  3</td>\n",
        "      <td>  1</td>\n",
        "      <td> NaN</td>\n",
        "      <td> 3.98</td>\n",
        "      <td> NaN</td>\n",
        "      <td> 0.667</td>\n",
        "      <td>   0.3</td>\n",
        "      <td>     1</td>\n",
        "      <td>    </td>\n",
        "      <td>      </td>\n",
        "    </tr>\n",
        "  </tbody>\n",
        "</table>\n",
        "<p>5 rows \u00d7 10 columns</p>\n",
        "</div>"
       ],
       "metadata": {},
       "output_type": "pyout",
       "prompt_number": 16,
       "text": [
        "              Stats          Median Survival             5y Survival               Log-Rank       \n",
        "         # Patients # Events          Median Lower Upper        Surv  Lower  Upper     chi2      p\n",
        "                                                                                        4.3  0.231\n",
        "IV               43       27             1.6   1.1   NaN        0.38  0.258   0.56                \n",
        "III              12        5             NaN  2.11   NaN       0.583  0.362  0.941                \n",
        "Unstaged          5        2             NaN  1.55   NaN         0.6  0.293      1                \n",
        "II                3        1             NaN  3.98   NaN       0.667    0.3      1                \n",
        "\n",
        "[5 rows x 10 columns]"
       ]
      }
     ],
     "prompt_number": 16
    },
    {
     "cell_type": "code",
     "collapsed": false,
     "input": [
      "f = clin.Alcohol_amt.fillna(0).ix[keepers].replace('.', 0).astype(float) > 13\n",
      "f2 = clin.Alcohol_amt.fillna(0).ix[keepers].replace('.', 0).astype(float) < 7\n",
      "get_surv_fit_lr(surv, 1.*f - 1.*f2)"
     ],
     "language": "python",
     "metadata": {},
     "outputs": [
      {
       "html": [
        "<div style=\"max-height:1000px;max-width:1500px;overflow:auto;\">\n",
        "<table border=\"1\" class=\"dataframe\">\n",
        "  <thead>\n",
        "    <tr>\n",
        "      <th></th>\n",
        "      <th colspan=\"2\" halign=\"left\">Stats</th>\n",
        "      <th colspan=\"3\" halign=\"left\">Median Survival</th>\n",
        "      <th colspan=\"3\" halign=\"left\">5y Survival</th>\n",
        "      <th colspan=\"2\" halign=\"left\">Log-Rank</th>\n",
        "    </tr>\n",
        "    <tr>\n",
        "      <th></th>\n",
        "      <th># Patients</th>\n",
        "      <th># Events</th>\n",
        "      <th>Median</th>\n",
        "      <th>Lower</th>\n",
        "      <th>Upper</th>\n",
        "      <th>Surv</th>\n",
        "      <th>Lower</th>\n",
        "      <th>Upper</th>\n",
        "      <th>chi2</th>\n",
        "      <th>p</th>\n",
        "    </tr>\n",
        "  </thead>\n",
        "  <tbody>\n",
        "    <tr>\n",
        "      <th></th>\n",
        "      <td>   </td>\n",
        "      <td>   </td>\n",
        "      <td>     </td>\n",
        "      <td>      </td>\n",
        "      <td>    </td>\n",
        "      <td>      </td>\n",
        "      <td>       </td>\n",
        "      <td>      </td>\n",
        "      <td> 3.25</td>\n",
        "      <td> 0.197</td>\n",
        "    </tr>\n",
        "    <tr>\n",
        "      <th>-1</th>\n",
        "      <td> 36</td>\n",
        "      <td> 19</td>\n",
        "      <td> 3.98</td>\n",
        "      <td>   1.8</td>\n",
        "      <td> NaN</td>\n",
        "      <td> 0.497</td>\n",
        "      <td>  0.357</td>\n",
        "      <td> 0.692</td>\n",
        "      <td>     </td>\n",
        "      <td>      </td>\n",
        "    </tr>\n",
        "    <tr>\n",
        "      <th>0</th>\n",
        "      <td> 18</td>\n",
        "      <td>  9</td>\n",
        "      <td> 3.65</td>\n",
        "      <td>  1.29</td>\n",
        "      <td> NaN</td>\n",
        "      <td> 0.463</td>\n",
        "      <td>  0.276</td>\n",
        "      <td> 0.778</td>\n",
        "      <td>     </td>\n",
        "      <td>      </td>\n",
        "    </tr>\n",
        "    <tr>\n",
        "      <th>1</th>\n",
        "      <td>  9</td>\n",
        "      <td>  7</td>\n",
        "      <td>  1.1</td>\n",
        "      <td> 0.953</td>\n",
        "      <td> NaN</td>\n",
        "      <td> 0.222</td>\n",
        "      <td> 0.0655</td>\n",
        "      <td> 0.754</td>\n",
        "      <td>     </td>\n",
        "      <td>      </td>\n",
        "    </tr>\n",
        "  </tbody>\n",
        "</table>\n",
        "<p>4 rows \u00d7 10 columns</p>\n",
        "</div>"
       ],
       "metadata": {},
       "output_type": "pyout",
       "prompt_number": 17,
       "text": [
        "        Stats          Median Survival              5y Survival                Log-Rank       \n",
        "   # Patients # Events          Median  Lower Upper        Surv   Lower  Upper     chi2      p\n",
        "                                                                                   3.25  0.197\n",
        "-1         36       19            3.98    1.8   NaN       0.497   0.357  0.692                \n",
        "0          18        9            3.65   1.29   NaN       0.463   0.276  0.778                \n",
        "1           9        7             1.1  0.953   NaN       0.222  0.0655  0.754                \n",
        "\n",
        "[4 rows x 10 columns]"
       ]
      }
     ],
     "prompt_number": 17
    },
    {
     "cell_type": "code",
     "collapsed": false,
     "input": [
      "get_surv_fit_lr(surv, clin.Tob_history.ix[keepers])"
     ],
     "language": "python",
     "metadata": {},
     "outputs": [
      {
       "html": [
        "<div style=\"max-height:1000px;max-width:1500px;overflow:auto;\">\n",
        "<table border=\"1\" class=\"dataframe\">\n",
        "  <thead>\n",
        "    <tr>\n",
        "      <th></th>\n",
        "      <th colspan=\"2\" halign=\"left\">Stats</th>\n",
        "      <th colspan=\"3\" halign=\"left\">Median Survival</th>\n",
        "      <th colspan=\"3\" halign=\"left\">5y Survival</th>\n",
        "      <th colspan=\"2\" halign=\"left\">Log-Rank</th>\n",
        "    </tr>\n",
        "    <tr>\n",
        "      <th></th>\n",
        "      <th># Patients</th>\n",
        "      <th># Events</th>\n",
        "      <th>Median</th>\n",
        "      <th>Lower</th>\n",
        "      <th>Upper</th>\n",
        "      <th>Surv</th>\n",
        "      <th>Lower</th>\n",
        "      <th>Upper</th>\n",
        "      <th>chi2</th>\n",
        "      <th>p</th>\n",
        "    </tr>\n",
        "  </thead>\n",
        "  <tbody>\n",
        "    <tr>\n",
        "      <th></th>\n",
        "      <td>   </td>\n",
        "      <td>   </td>\n",
        "      <td>     </td>\n",
        "      <td>     </td>\n",
        "      <td>    </td>\n",
        "      <td>     </td>\n",
        "      <td>      </td>\n",
        "      <td>      </td>\n",
        "      <td> 0.0913</td>\n",
        "      <td> 0.763</td>\n",
        "    </tr>\n",
        "    <tr>\n",
        "      <th>yes</th>\n",
        "      <td> 55</td>\n",
        "      <td> 31</td>\n",
        "      <td> 3.65</td>\n",
        "      <td> 1.55</td>\n",
        "      <td> NaN</td>\n",
        "      <td> 0.44</td>\n",
        "      <td> 0.324</td>\n",
        "      <td> 0.596</td>\n",
        "      <td>       </td>\n",
        "      <td>      </td>\n",
        "    </tr>\n",
        "    <tr>\n",
        "      <th>no</th>\n",
        "      <td>  8</td>\n",
        "      <td>  4</td>\n",
        "      <td> 1.43</td>\n",
        "      <td>  1.3</td>\n",
        "      <td> NaN</td>\n",
        "      <td>  0.5</td>\n",
        "      <td>  0.25</td>\n",
        "      <td>     1</td>\n",
        "      <td>       </td>\n",
        "      <td>      </td>\n",
        "    </tr>\n",
        "  </tbody>\n",
        "</table>\n",
        "<p>3 rows \u00d7 10 columns</p>\n",
        "</div>"
       ],
       "metadata": {},
       "output_type": "pyout",
       "prompt_number": 18,
       "text": [
        "         Stats          Median Survival             5y Survival               Log-Rank       \n",
        "    # Patients # Events          Median Lower Upper        Surv  Lower  Upper     chi2      p\n",
        "                                                                                0.0913  0.763\n",
        "yes         55       31            3.65  1.55   NaN        0.44  0.324  0.596                \n",
        "no           8        4            1.43   1.3   NaN         0.5   0.25      1                \n",
        "\n",
        "[3 rows x 10 columns]"
       ]
      }
     ],
     "prompt_number": 18
    },
    {
     "cell_type": "code",
     "collapsed": false,
     "input": [
      "get_surv_fit_lr(surv, clin.PNI.ix[keepers])"
     ],
     "language": "python",
     "metadata": {},
     "outputs": [
      {
       "html": [
        "<div style=\"max-height:1000px;max-width:1500px;overflow:auto;\">\n",
        "<table border=\"1\" class=\"dataframe\">\n",
        "  <thead>\n",
        "    <tr>\n",
        "      <th></th>\n",
        "      <th colspan=\"2\" halign=\"left\">Stats</th>\n",
        "      <th colspan=\"3\" halign=\"left\">Median Survival</th>\n",
        "      <th colspan=\"3\" halign=\"left\">5y Survival</th>\n",
        "      <th colspan=\"2\" halign=\"left\">Log-Rank</th>\n",
        "    </tr>\n",
        "    <tr>\n",
        "      <th></th>\n",
        "      <th># Patients</th>\n",
        "      <th># Events</th>\n",
        "      <th>Median</th>\n",
        "      <th>Lower</th>\n",
        "      <th>Upper</th>\n",
        "      <th>Surv</th>\n",
        "      <th>Lower</th>\n",
        "      <th>Upper</th>\n",
        "      <th>chi2</th>\n",
        "      <th>p</th>\n",
        "    </tr>\n",
        "  </thead>\n",
        "  <tbody>\n",
        "    <tr>\n",
        "      <th></th>\n",
        "      <td>   </td>\n",
        "      <td>   </td>\n",
        "      <td>     </td>\n",
        "      <td>     </td>\n",
        "      <td>    </td>\n",
        "      <td>      </td>\n",
        "      <td>      </td>\n",
        "      <td>      </td>\n",
        "      <td> 6.78</td>\n",
        "      <td> 0.0338</td>\n",
        "    </tr>\n",
        "    <tr>\n",
        "      <th>yes</th>\n",
        "      <td> 31</td>\n",
        "      <td> 22</td>\n",
        "      <td> 1.55</td>\n",
        "      <td>    1</td>\n",
        "      <td> NaN</td>\n",
        "      <td> 0.323</td>\n",
        "      <td> 0.194</td>\n",
        "      <td> 0.537</td>\n",
        "      <td>     </td>\n",
        "      <td>       </td>\n",
        "    </tr>\n",
        "    <tr>\n",
        "      <th>no</th>\n",
        "      <td> 26</td>\n",
        "      <td>  9</td>\n",
        "      <td>  NaN</td>\n",
        "      <td> 3.98</td>\n",
        "      <td> NaN</td>\n",
        "      <td> 0.636</td>\n",
        "      <td> 0.471</td>\n",
        "      <td> 0.858</td>\n",
        "      <td>     </td>\n",
        "      <td>       </td>\n",
        "    </tr>\n",
        "    <tr>\n",
        "      <th>unknown</th>\n",
        "      <td>  6</td>\n",
        "      <td>  4</td>\n",
        "      <td> 3.25</td>\n",
        "      <td>  1.1</td>\n",
        "      <td> NaN</td>\n",
        "      <td>   NaN</td>\n",
        "      <td>   NaN</td>\n",
        "      <td>   NaN</td>\n",
        "      <td>     </td>\n",
        "      <td>       </td>\n",
        "    </tr>\n",
        "  </tbody>\n",
        "</table>\n",
        "<p>4 rows \u00d7 10 columns</p>\n",
        "</div>"
       ],
       "metadata": {},
       "output_type": "pyout",
       "prompt_number": 19,
       "text": [
        "             Stats          Median Survival             5y Survival               Log-Rank        \n",
        "        # Patients # Events          Median Lower Upper        Surv  Lower  Upper     chi2       p\n",
        "                                                                                      6.78  0.0338\n",
        "yes             31       22            1.55     1   NaN       0.323  0.194  0.537                 \n",
        "no              26        9             NaN  3.98   NaN       0.636  0.471  0.858                 \n",
        "unknown          6        4            3.25   1.1   NaN         NaN    NaN    NaN                 \n",
        "\n",
        "[4 rows x 10 columns]"
       ]
      }
     ],
     "prompt_number": 19
    },
    {
     "cell_type": "code",
     "collapsed": false,
     "input": [
      "survival_and_stats(clin['Chemo '], surv, figsize=(5,4), title='Chemo')"
     ],
     "language": "python",
     "metadata": {},
     "outputs": [
      {
       "metadata": {},
       "output_type": "display_data",
       "png": "[encoded data removed]",
       "text": [
        "<matplotlib.figure.Figure at 0x9152c10>"
       ]
      }
     ],
     "prompt_number": 20
    },
    {
     "cell_type": "code",
     "collapsed": false,
     "input": [
      "get_surv_fit_lr(surv, clin.Date_Dx.map(lambda s: s[-2:]).ix[keepers].astype(int)>10)"
     ],
     "language": "python",
     "metadata": {},
     "outputs": [
      {
       "html": [
        "<div style=\"max-height:1000px;max-width:1500px;overflow:auto;\">\n",
        "<table border=\"1\" class=\"dataframe\">\n",
        "  <thead>\n",
        "    <tr>\n",
        "      <th></th>\n",
        "      <th colspan=\"2\" halign=\"left\">Stats</th>\n",
        "      <th colspan=\"3\" halign=\"left\">Median Survival</th>\n",
        "      <th colspan=\"3\" halign=\"left\">5y Survival</th>\n",
        "      <th colspan=\"2\" halign=\"left\">Log-Rank</th>\n",
        "    </tr>\n",
        "    <tr>\n",
        "      <th></th>\n",
        "      <th># Patients</th>\n",
        "      <th># Events</th>\n",
        "      <th>Median</th>\n",
        "      <th>Lower</th>\n",
        "      <th>Upper</th>\n",
        "      <th>Surv</th>\n",
        "      <th>Lower</th>\n",
        "      <th>Upper</th>\n",
        "      <th>chi2</th>\n",
        "      <th>p</th>\n",
        "    </tr>\n",
        "  </thead>\n",
        "  <tbody>\n",
        "    <tr>\n",
        "      <th></th>\n",
        "      <td>   </td>\n",
        "      <td>   </td>\n",
        "      <td>     </td>\n",
        "      <td>    </td>\n",
        "      <td>    </td>\n",
        "      <td>      </td>\n",
        "      <td>      </td>\n",
        "      <td>      </td>\n",
        "      <td> 0.0558</td>\n",
        "      <td> 0.813</td>\n",
        "    </tr>\n",
        "    <tr>\n",
        "      <th>0</th>\n",
        "      <td> 62</td>\n",
        "      <td> 34</td>\n",
        "      <td> 3.17</td>\n",
        "      <td> 1.5</td>\n",
        "      <td> NaN</td>\n",
        "      <td> 0.457</td>\n",
        "      <td> 0.347</td>\n",
        "      <td> 0.602</td>\n",
        "      <td>       </td>\n",
        "      <td>      </td>\n",
        "    </tr>\n",
        "    <tr>\n",
        "      <th>1</th>\n",
        "      <td>  1</td>\n",
        "      <td>  1</td>\n",
        "      <td> 3.98</td>\n",
        "      <td> NaN</td>\n",
        "      <td> NaN</td>\n",
        "      <td>   NaN</td>\n",
        "      <td>   NaN</td>\n",
        "      <td>   NaN</td>\n",
        "      <td>       </td>\n",
        "      <td>      </td>\n",
        "    </tr>\n",
        "  </tbody>\n",
        "</table>\n",
        "<p>3 rows \u00d7 10 columns</p>\n",
        "</div>"
       ],
       "metadata": {},
       "output_type": "pyout",
       "prompt_number": 21,
       "text": [
        "       Stats          Median Survival             5y Survival               Log-Rank       \n",
        "  # Patients # Events          Median Lower Upper        Surv  Lower  Upper     chi2      p\n",
        "                                                                              0.0558  0.813\n",
        "0         62       34            3.17   1.5   NaN       0.457  0.347  0.602                \n",
        "1          1        1            3.98   NaN   NaN         NaN    NaN    NaN                \n",
        "\n",
        "[3 rows x 10 columns]"
       ]
      }
     ],
     "prompt_number": 21
    },
    {
     "cell_type": "code",
     "collapsed": false,
     "input": [
      "survival_and_stats(clin.EPS, surv, figsize=(5,4), title='EPS')"
     ],
     "language": "python",
     "metadata": {},
     "outputs": [
      {
       "metadata": {},
       "output_type": "display_data",
       "png": "[encoded data removed]",
       "text": [
        "<matplotlib.figure.Figure at 0x956c1d0>"
       ]
      }
     ],
     "prompt_number": 22
    },
    {
     "cell_type": "code",
     "collapsed": false,
     "input": [
      "survival_and_stats(clin.HPV, surv, figsize=(5,4), title='HPV')"
     ],
     "language": "python",
     "metadata": {},
     "outputs": [
      {
       "metadata": {},
       "output_type": "display_data",
       "png": "[encoded data removed]",
       "text": [
        "<matplotlib.figure.Figure at 0x928c410>"
       ]
      }
     ],
     "prompt_number": 23
    },
    {
     "cell_type": "code",
     "collapsed": false,
     "input": [
      "survival_and_stats(to_quants(clin.Age_Dx, q=.33, labels=True), surv, figsize=(5,4), title='Age')"
     ],
     "language": "python",
     "metadata": {},
     "outputs": [
      {
       "metadata": {},
       "output_type": "display_data",
       "png": "[encoded data removed]",
       "text": [
        "<matplotlib.figure.Figure at 0xb0a8890>"
       ]
      }
     ],
     "prompt_number": 24
    },
    {
     "cell_type": "heading",
     "level": 2,
     "metadata": {},
     "source": [
      "Process Mutation Data"
     ]
    },
    {
     "cell_type": "code",
     "collapsed": false,
     "input": [
      "maf = pd.read_csv('../Extra_Data/UPMC_cohort/maf.csv')\n",
      "maf = maf.dropna(how='all', axis=[0,1])\n",
      "maf['Tumor_Sample_Barcode'] = map(lambda s: s.replace('-Tumor',''), maf['Tumor_Sample_Barcode'])\n",
      "maf = maf.set_index(['Hugo_Symbol','Tumor_Sample_Barcode'])\n",
      "maf = maf[maf.Validation_Status != 'Wildtype']\n",
      "non_silent = maf[maf.Variant_Classification != 'Synonymous']\n",
      "non_silent['counter'] = 1\n",
      "hit_matrix = non_silent.counter.groupby(level=[0,1]).sum().unstack()\n",
      "hit_matrix.columns = map(lambda s: s.replace('-Tumor',''), hit_matrix.columns)\n",
      "hit_matrix = hit_matrix.fillna(0)"
     ],
     "language": "python",
     "metadata": {},
     "outputs": [
      {
       "output_type": "stream",
       "stream": "stderr",
       "text": [
        "-c:3: SettingWithCopyWarning: A value is trying to be set on a copy of a slice from a DataFrame.\n",
        "Try using .loc[row_index,col_indexer] = value instead\n"
       ]
      }
     ],
     "prompt_number": 25
    },
    {
     "cell_type": "code",
     "collapsed": false,
     "input": [
      "fig, axs = subplots(1,3, figsize=(8,3), sharey=True)\n",
      "c = pd.concat([(mut.df > 0).sum(), (hit_matrix > 0).sum(0)], keys=['TCGA','UPMC'], axis=1).stack()\n",
      "violin_plot_series(c.clip_upper(500), ax=axs[0])\n",
      "\n",
      "hh = hit_matrix.ix[:, true_index(clin.HPV == 'Negative')].sum()\n",
      "yy = mut.df.ix[:, true_index(clinical.processed.hpv_inferred.dropna() == False)].sum()\n",
      "c = pd.concat([yy,hh], keys=['TCGA','UPMC'], axis=1).stack()\n",
      "violin_plot_series(c.clip_upper(500), ax=axs[1])\n",
      "\n",
      "hh = hit_matrix.ix[:, true_index(clin.HPV == 'Positive')].sum()\n",
      "yy = mut.df.ix[:, true_index(clinical.processed.hpv_inferred.dropna())].sum()\n",
      "c = pd.concat([yy,hh], keys=['TCGA','UPMC'], axis=1).stack()\n",
      "violin_plot_series(c.clip_upper(500), ax=axs[2])\n",
      "\n",
      "for ax in axs:\n",
      "    prettify_ax(ax)\n",
      "    ax.set_ylabel('')\n",
      "    ax.set_xlabel('Study')\n",
      "fig.tight_layout()"
     ],
     "language": "python",
     "metadata": {},
     "outputs": [
      {
       "metadata": {},
       "output_type": "display_data",
       "png": "[encoded data removed]",
       "text": [
        "<matplotlib.figure.Figure at 0xf3a6f90>"
       ]
      }
     ],
     "prompt_number": 354
    },
    {
     "cell_type": "code",
     "collapsed": false,
     "input": [
      "yy = mut.df.ix[:, true_index(clinical.processed.hpv_inferred.dropna() == False)].sum()\n",
      "yy.median()"
     ],
     "language": "python",
     "metadata": {},
     "outputs": [
      {
       "metadata": {},
       "output_type": "pyout",
       "prompt_number": 357,
       "text": [
        "104.0"
       ]
      }
     ],
     "prompt_number": 357
    },
    {
     "cell_type": "code",
     "collapsed": false,
     "input": [
      "hh = hit_matrix.ix[:, true_index(clin.HPV == 'Negative')].sum()\n",
      "hh.median()"
     ],
     "language": "python",
     "metadata": {},
     "outputs": [
      {
       "metadata": {},
       "output_type": "pyout",
       "prompt_number": 356,
       "text": [
        "73.0"
       ]
      }
     ],
     "prompt_number": 356
    },
    {
     "cell_type": "code",
     "collapsed": false,
     "input": [
      "import re as re\n",
      "get_nums = lambda s: re.findall(r'\\d+', s)\n",
      "\n",
      "def is_disruptive(v):\n",
      "    c = v.Variant_Classification\n",
      "    if c != 'Missense':\n",
      "        if 'Ins' in c or 'Del' in c:\n",
      "            return 'InDel'\n",
      "        else:\n",
      "            return v.Variant_Classification.split('_')[0]\n",
      "    else:\n",
      "        s = v.Protein_Change\n",
      "        aa = int(get_nums(s)[0])\n",
      "        try:\n",
      "            if int(aa) in range(163,196):\n",
      "                return 'L2'\n",
      "            if int(aa) in range(236, 252):\n",
      "                return 'L3'\n",
      "        except:\n",
      "            print s\n",
      "    return 'other'"
     ],
     "language": "python",
     "metadata": {},
     "outputs": [],
     "prompt_number": 27
    },
    {
     "cell_type": "code",
     "collapsed": false,
     "input": [
      "p53 = maf.ix['TP53'].reset_index()\n",
      "dd = p53.apply(is_disruptive, 1)\n",
      "dd = dd.replace('Silent',nan).dropna()\n",
      "others = hit_matrix.columns.diff(p53.Tumor_Sample_Barcode.ix[dd.index])\n",
      "dd.index = p53.Tumor_Sample_Barcode.ix[dd.index]\n",
      "dd = pd.concat([pd.Series('WT', others), dd])"
     ],
     "language": "python",
     "metadata": {},
     "outputs": [],
     "prompt_number": 28
    },
    {
     "cell_type": "code",
     "collapsed": false,
     "input": [
      "s2 = surv.unstack().ix[dd.index]\n",
      "s2.index = range(len(dd))\n",
      "s2 = s2.stack()\n",
      "dd.index = range(len(dd))"
     ],
     "language": "python",
     "metadata": {},
     "outputs": [],
     "prompt_number": 29
    },
    {
     "cell_type": "code",
     "collapsed": false,
     "input": [
      "survival_and_stats(dd, s2, colors=colors[:6] + ['grey'] + colors[6:], figsize=(7,6))"
     ],
     "language": "python",
     "metadata": {},
     "outputs": [
      {
       "metadata": {},
       "output_type": "display_data",
       "png": "[encoded data removed]",
       "text": [
        "<matplotlib.figure.Figure at 0x9311ed0>"
       ]
      }
     ],
     "prompt_number": 30
    },
    {
     "cell_type": "code",
     "collapsed": false,
     "input": [
      "p53_mut = hit_matrix.ix['TP53'].ix[true_index(clin.HPV=='Negative')] > 0"
     ],
     "language": "python",
     "metadata": {},
     "outputs": [],
     "prompt_number": 31
    },
    {
     "cell_type": "code",
     "collapsed": false,
     "input": [
      "survival_and_stats(p53_mut, surv)"
     ],
     "language": "python",
     "metadata": {},
     "outputs": [
      {
       "metadata": {},
       "output_type": "display_data",
       "png": "[encoded data removed]",
       "text": [
        "<matplotlib.figure.Figure at 0x945bc50>"
       ]
      }
     ],
     "prompt_number": 32
    },
    {
     "cell_type": "code",
     "collapsed": false,
     "input": [
      "v = maf.ix['TP53'].Validation_Status == 'Valid'\n",
      "v = v.groupby(level=0).sum() > 0\n",
      "v.name = 'valid'\n",
      "v = v.ix[hit_matrix.columns]\n",
      "v = v.fillna('WT')"
     ],
     "language": "python",
     "metadata": {},
     "outputs": [],
     "prompt_number": 33
    },
    {
     "cell_type": "code",
     "collapsed": false,
     "input": [
      "v.value_counts()"
     ],
     "language": "python",
     "metadata": {},
     "outputs": [
      {
       "metadata": {},
       "output_type": "pyout",
       "prompt_number": 34,
       "text": [
        "False    37\n",
        "WT       28\n",
        "True      9\n",
        "dtype: int64"
       ]
      }
     ],
     "prompt_number": 34
    },
    {
     "cell_type": "code",
     "collapsed": false,
     "input": [
      "p  = true_index(maf.Validation_Status == 'Valid').get_level_values(1)"
     ],
     "language": "python",
     "metadata": {},
     "outputs": [],
     "prompt_number": 35
    },
    {
     "cell_type": "code",
     "collapsed": false,
     "input": [
      "draw_survival_curve(v.ix[true_index(clin.HPV=='Negative')], surv)"
     ],
     "language": "python",
     "metadata": {},
     "outputs": [
      {
       "metadata": {},
       "output_type": "display_data",
       "png": "[encoded data removed]",
       "text": [
        "<matplotlib.figure.Figure at 0xb2e3950>"
       ]
      }
     ],
     "prompt_number": 36
    },
    {
     "cell_type": "code",
     "collapsed": false,
     "input": [
      "survival_and_stats(hit_matrix.ix['MUC5B'].ix[true_index(clin.HPV=='Negative')]>0, surv)"
     ],
     "language": "python",
     "metadata": {},
     "outputs": [
      {
       "metadata": {},
       "output_type": "display_data",
       "png": "[encoded data removed]",
       "text": [
        "<matplotlib.figure.Figure at 0xb2eea50>"
       ]
      }
     ],
     "prompt_number": 37
    },
    {
     "cell_type": "heading",
     "level": 2,
     "metadata": {},
     "source": [
      "Copy Number Data"
     ]
    },
    {
     "cell_type": "code",
     "collapsed": false,
     "input": [
      "cn_tumor = meta.xs('Tumor', level=1)['SNP array ID'].dropna()\n",
      "lu = pd.Series({v:i for i,v in cn_tumor.iteritems()})"
     ],
     "language": "python",
     "metadata": {},
     "outputs": [],
     "prompt_number": 38
    },
    {
     "cell_type": "markdown",
     "metadata": {},
     "source": [
      "I am loading the GISTIC2 processed data for this cohort.  The data was processed together with the TCGA samples."
     ]
    },
    {
     "cell_type": "code",
     "collapsed": false,
     "input": [
      "path = '../Extra_Data/UPMC_cohort/'\n",
      "gistic = pd.read_table(path + 'all_thresholded.by_genes.txt', index_col=[0,1, 2])\n",
      "gistic.index = gistic.index.droplevel(1)\n",
      "cn_upmc = pd.DataFrame({i: gistic[t] for i,t in cn_tumor.iteritems() if t in gistic})"
     ],
     "language": "python",
     "metadata": {},
     "outputs": [],
     "prompt_number": 39
    },
    {
     "cell_type": "code",
     "collapsed": false,
     "input": [
      "pct_del = (cn_upmc < 0).sum() / (1.*len(cn_upmc))\n",
      "pct_amp = (cn_upmc > 0).sum() / (1.*len(cn_upmc))\n",
      "pct_altered = pct_amp + pct_del\n",
      "pct_altered.name = 'CIN_pct_altered'"
     ],
     "language": "python",
     "metadata": {},
     "outputs": [],
     "prompt_number": 78
    },
    {
     "cell_type": "code",
     "collapsed": false,
     "input": [
      "draw_survival_curves(to_quants(pct_altered, q=.5), surv)"
     ],
     "language": "python",
     "metadata": {},
     "outputs": [
      {
       "metadata": {},
       "output_type": "display_data",
       "png": "[encoded data removed]",
       "text": [
        "<matplotlib.figure.Figure at 0xaffd350>"
       ]
      }
     ],
     "prompt_number": 80
    },
    {
     "cell_type": "code",
     "collapsed": false,
     "input": [
      "del_3p = cn_upmc.xs('3p14.2',0,1).median().ix[true_index(clin.HPV=='Negative')].dropna() < 0"
     ],
     "language": "python",
     "metadata": {},
     "outputs": [],
     "prompt_number": 41
    },
    {
     "cell_type": "code",
     "collapsed": false,
     "input": [
      "s = {u'HN_0-046', u'HN_0-064', u'HN_00076', u'HN_00122', u'HN_00133', u'HN_00176', u'HN_00190', u'HN_00313', u'HN_00338', u'HN_00361', u'HN_00378', u'HN_00443', u'HN_00466', u'HN_00750', u'HN_00761', u'HN_01000', u'HN_62237', u'HN_62273', u'HN_62275', u'HN_62276', u'HN_62298', u'HN_62300', u'HN_62302', u'HN_62315', u'HN_62318', u'HN_62332', u'HN_62338', u'HN_62374', u'HN_62376', u'HN_62397', u'HN_62415', u'HN_62417', u'HN_62421', u'HN_62426', u'HN_62427', u'HN_62432', u'HN_62469', u'HN_62481', u'HN_62493', u'HN_62505', u'HN_62506', u'HN_62512', u'HN_62515', u'HN_62521', u'HN_62532', u'HN_62539', u'HN_62561', u'HN_62601', u'HN_62602', u'HN_62621', u'HN_62624', u'HN_62646', u'HN_62652', u'HN_62671', u'HN_62672', u'HN_62686', u'HN_62699', u'HN_62728', u'HN_62739', u'HN_62740', u'HN_62741', u'HN_62755', u'HN_62756', u'HN_62807', u'HN_62810', u'HN_62814', u'HN_62825', u'HN_62832', u'HN_62847', u'HN_62854', u'HN_62857_2', u'HN_62860', u'HN_62861', u'HN_62863', u'HN_62884', u'HN_62897', u'HN_62921', u'HN_62926', u'HN_62984', u'HN_62995', u'HN_62996', u'HN_63007', u'HN_63021', u'HN_63027', u'HN_63039', u'HN_63048', u'HN_63058', u'HN_63080', u'HN_63081', u'HN_63095', u'HN_63114', u'HN_63115'}"
     ],
     "language": "python",
     "metadata": {},
     "outputs": [],
     "prompt_number": 325
    },
    {
     "cell_type": "code",
     "collapsed": false,
     "input": [
      "b = combine(p53_mut, del_3p).index"
     ],
     "language": "python",
     "metadata": {},
     "outputs": [],
     "prompt_number": 329
    },
    {
     "cell_type": "code",
     "collapsed": false,
     "input": [
      "keepers = meta['SNP array ID'].notnull() & (meta['Final_74_exome_analysis'] == 1)\n",
      "keepers = keepers.groupby(level=0).sum() \n",
      "keepers = (keepers > 0) & (clin.HPV == 'Negative')\n",
      "keepers = keepers.ix[surv.index.get_level_values(0)].dropna()\n",
      "keepers = keepers.groupby(level=0).last()\n",
      "keepers.value_counts()"
     ],
     "language": "python",
     "metadata": {},
     "outputs": [
      {
       "metadata": {},
       "output_type": "pyout",
       "prompt_number": 332,
       "text": [
        "True     49\n",
        "False    25\n",
        "dtype: int64"
       ]
      }
     ],
     "prompt_number": 332
    },
    {
     "cell_type": "code",
     "collapsed": false,
     "input": [
      "list(ti(keepers).diff(del_3p.index))"
     ],
     "language": "python",
     "metadata": {},
     "outputs": [
      {
       "metadata": {},
       "output_type": "pyout",
       "prompt_number": 337,
       "text": [
        "['HN_62539']"
       ]
      }
     ],
     "prompt_number": 337
    },
    {
     "cell_type": "code",
     "collapsed": false,
     "input": [
      "survival_and_stats(del_3p, surv)"
     ],
     "language": "python",
     "metadata": {},
     "outputs": [
      {
       "metadata": {},
       "output_type": "display_data",
       "png": "[encoded data removed]",
       "text": [
        "<matplotlib.figure.Figure at 0x95cb610>"
       ]
      }
     ],
     "prompt_number": 42
    },
    {
     "cell_type": "code",
     "collapsed": false,
     "input": [
      "len(combine(p53_mut, del_3p))"
     ],
     "language": "python",
     "metadata": {},
     "outputs": [
      {
       "metadata": {},
       "output_type": "pyout",
       "prompt_number": 43,
       "text": [
        "48"
       ]
      }
     ],
     "prompt_number": 43
    },
    {
     "cell_type": "code",
     "collapsed": false,
     "input": [
      "fisher_exact_test(p53_mut, del_3p, alternative='greater')"
     ],
     "language": "python",
     "metadata": {},
     "outputs": [
      {
       "metadata": {},
       "output_type": "pyout",
       "prompt_number": 285,
       "text": [
        "odds_ratio    2.50\n",
        "p             0.17\n",
        "dtype: float64"
       ]
      }
     ],
     "prompt_number": 285
    },
    {
     "cell_type": "code",
     "collapsed": false,
     "input": [
      "combo = combine(p53_mut, del_3p)\n",
      "survival_and_stats(combo, surv, figsize=(5,4), title='PITT')"
     ],
     "language": "python",
     "metadata": {},
     "outputs": [
      {
       "metadata": {},
       "output_type": "display_data",
       "png": "[encoded data removed]",
       "text": [
        "<matplotlib.figure.Figure at 0x9a76a90>"
       ]
      }
     ],
     "prompt_number": 45
    },
    {
     "cell_type": "code",
     "collapsed": false,
     "input": [
      "draw_survival_curves(del_3p, surv, p53_mut)"
     ],
     "language": "python",
     "metadata": {},
     "outputs": [
      {
       "metadata": {},
       "output_type": "display_data",
       "png": "[encoded data removed]",
       "text": [
        "<matplotlib.figure.Figure at 0x982c190>"
       ]
      }
     ],
     "prompt_number": 46
    },
    {
     "cell_type": "code",
     "collapsed": false,
     "input": [
      "get_surv_fit_lr(surv, combo)"
     ],
     "language": "python",
     "metadata": {},
     "outputs": [
      {
       "html": [
        "<div style=\"max-height:1000px;max-width:1500px;overflow:auto;\">\n",
        "<table border=\"1\" class=\"dataframe\">\n",
        "  <thead>\n",
        "    <tr>\n",
        "      <th></th>\n",
        "      <th colspan=\"2\" halign=\"left\">Stats</th>\n",
        "      <th colspan=\"3\" halign=\"left\">Median Survival</th>\n",
        "      <th colspan=\"3\" halign=\"left\">5y Survival</th>\n",
        "      <th colspan=\"2\" halign=\"left\">Log-Rank</th>\n",
        "    </tr>\n",
        "    <tr>\n",
        "      <th></th>\n",
        "      <th># Patients</th>\n",
        "      <th># Events</th>\n",
        "      <th>Median</th>\n",
        "      <th>Lower</th>\n",
        "      <th>Upper</th>\n",
        "      <th>Surv</th>\n",
        "      <th>Lower</th>\n",
        "      <th>Upper</th>\n",
        "      <th>chi2</th>\n",
        "      <th>p</th>\n",
        "    </tr>\n",
        "  </thead>\n",
        "  <tbody>\n",
        "    <tr>\n",
        "      <th></th>\n",
        "      <td>   </td>\n",
        "      <td>   </td>\n",
        "      <td>     </td>\n",
        "      <td>      </td>\n",
        "      <td>    </td>\n",
        "      <td>      </td>\n",
        "      <td>       </td>\n",
        "      <td>      </td>\n",
        "      <td> 5.78</td>\n",
        "      <td> 0.123</td>\n",
        "    </tr>\n",
        "    <tr>\n",
        "      <th>both</th>\n",
        "      <td> 28</td>\n",
        "      <td> 19</td>\n",
        "      <td> 1.52</td>\n",
        "      <td>     1</td>\n",
        "      <td> NaN</td>\n",
        "      <td> 0.357</td>\n",
        "      <td>  0.217</td>\n",
        "      <td> 0.587</td>\n",
        "      <td>     </td>\n",
        "      <td>      </td>\n",
        "    </tr>\n",
        "    <tr>\n",
        "      <th>d</th>\n",
        "      <td>  8</td>\n",
        "      <td>  5</td>\n",
        "      <td> 1.85</td>\n",
        "      <td> 0.652</td>\n",
        "      <td> NaN</td>\n",
        "      <td> 0.292</td>\n",
        "      <td> 0.0913</td>\n",
        "      <td> 0.932</td>\n",
        "      <td>     </td>\n",
        "      <td>      </td>\n",
        "    </tr>\n",
        "    <tr>\n",
        "      <th>h</th>\n",
        "      <td>  7</td>\n",
        "      <td>  1</td>\n",
        "      <td>  NaN</td>\n",
        "      <td>   NaN</td>\n",
        "      <td> NaN</td>\n",
        "      <td> 0.857</td>\n",
        "      <td>  0.633</td>\n",
        "      <td>     1</td>\n",
        "      <td>     </td>\n",
        "      <td>      </td>\n",
        "    </tr>\n",
        "    <tr>\n",
        "      <th>neither</th>\n",
        "      <td>  5</td>\n",
        "      <td>  2</td>\n",
        "      <td>  NaN</td>\n",
        "      <td>  1.43</td>\n",
        "      <td> NaN</td>\n",
        "      <td>   0.6</td>\n",
        "      <td>  0.293</td>\n",
        "      <td>     1</td>\n",
        "      <td>     </td>\n",
        "      <td>      </td>\n",
        "    </tr>\n",
        "  </tbody>\n",
        "</table>\n",
        "<p>5 rows \u00d7 10 columns</p>\n",
        "</div>"
       ],
       "metadata": {},
       "output_type": "pyout",
       "prompt_number": 47,
       "text": [
        "             Stats          Median Survival              5y Survival                Log-Rank       \n",
        "        # Patients # Events          Median  Lower Upper        Surv   Lower  Upper     chi2      p\n",
        "                                                                                        5.78  0.123\n",
        "both            28       19            1.52      1   NaN       0.357   0.217  0.587                \n",
        "d                8        5            1.85  0.652   NaN       0.292  0.0913  0.932                \n",
        "h                7        1             NaN    NaN   NaN       0.857   0.633      1                \n",
        "neither          5        2             NaN   1.43   NaN         0.6   0.293      1                \n",
        "\n",
        "[5 rows x 10 columns]"
       ]
      }
     ],
     "prompt_number": 47
    },
    {
     "cell_type": "markdown",
     "metadata": {},
     "source": [
      "<div id='p53/3p'>This UPMC cohort confirmed that patients with the TP53 / 3p aggregate event have worse prognosis than patients with TP53 mutation alone.</div>"
     ]
    },
    {
     "cell_type": "code",
     "collapsed": false,
     "input": [
      "get_cox_ph(surv, del_3p.ix[true_index(p53_mut)], print_desc=True, interactions=False);"
     ],
     "language": "python",
     "metadata": {},
     "outputs": [
      {
       "output_type": "stream",
       "stream": "stdout",
       "text": [
        "\n",
        "        coef exp(coef) se(coef)    z     p\n",
        "feature 1.92      6.84     1.03 1.87 0.061\n",
        "\n",
        "Likelihood ratio test=6.37  on 1 df, p=0.0116  n= 35, number of events= 20 \n",
        "   (11 observations deleted due to missingness)\n",
        "\n"
       ]
      }
     ],
     "prompt_number": 48
    },
    {
     "cell_type": "code",
     "collapsed": false,
     "input": [
      "exp(1.92), exp(1.92) -  exp(1.92 - 1.03)"
     ],
     "language": "python",
     "metadata": {},
     "outputs": [
      {
       "metadata": {},
       "output_type": "pyout",
       "prompt_number": 49,
       "text": [
        "(6.8209584692907494, 4.3858288180008751)"
       ]
      }
     ],
     "prompt_number": 49
    },
    {
     "cell_type": "code",
     "collapsed": false,
     "input": [
      "pd.crosstab(p53_mut, del_3p.ix[p53_mut.index].fillna('M'))"
     ],
     "language": "python",
     "metadata": {},
     "outputs": [
      {
       "html": [
        "<div style=\"max-height:1000px;max-width:1500px;overflow:auto;\">\n",
        "<table border=\"1\" class=\"dataframe\">\n",
        "  <thead>\n",
        "    <tr style=\"text-align: right;\">\n",
        "      <th>d</th>\n",
        "      <th>False</th>\n",
        "      <th>True</th>\n",
        "      <th>M</th>\n",
        "    </tr>\n",
        "    <tr>\n",
        "      <th>h</th>\n",
        "      <th></th>\n",
        "      <th></th>\n",
        "      <th></th>\n",
        "    </tr>\n",
        "  </thead>\n",
        "  <tbody>\n",
        "    <tr>\n",
        "      <th>False</th>\n",
        "      <td> 5</td>\n",
        "      <td>  8</td>\n",
        "      <td>  4</td>\n",
        "    </tr>\n",
        "    <tr>\n",
        "      <th>True </th>\n",
        "      <td> 7</td>\n",
        "      <td> 28</td>\n",
        "      <td> 11</td>\n",
        "    </tr>\n",
        "  </tbody>\n",
        "</table>\n",
        "<p>2 rows \u00d7 3 columns</p>\n",
        "</div>"
       ],
       "metadata": {},
       "output_type": "pyout",
       "prompt_number": 50,
       "text": [
        "d      False  True   M\n",
        "h                     \n",
        "False      5     8   4\n",
        "True       7    28  11\n",
        "\n",
        "[2 rows x 3 columns]"
       ]
      }
     ],
     "prompt_number": 50
    },
    {
     "cell_type": "code",
     "collapsed": false,
     "input": [
      "two_hit_both = combine(p53_mut>0, del_3p) == 'both'\n",
      "no_cna = true_index(del_3p.ix[true_index(p53_mut==False)].isnull())\n",
      "no_cna = pd.Series(False, index=no_cna)\n",
      "two_hit = two_hit_both.append(no_cna).ix[keepers].dropna()"
     ],
     "language": "python",
     "metadata": {},
     "outputs": [],
     "prompt_number": 51
    },
    {
     "cell_type": "code",
     "collapsed": false,
     "input": [
      "survival_and_stats(two_hit.ix[keepers].dropna(), surv)"
     ],
     "language": "python",
     "metadata": {},
     "outputs": [
      {
       "metadata": {},
       "output_type": "display_data",
       "png": "[encoded data removed]",
       "text": [
        "<matplotlib.figure.Figure at 0xc0f0050>"
       ]
      }
     ],
     "prompt_number": 52
    },
    {
     "cell_type": "code",
     "collapsed": false,
     "input": [
      "f = clin.Nodal_stage.ix[keepers].fillna('.')\n",
      "f = f.replace('N2A','N2').replace('N2B','N2').replace('N2C','N2')\n",
      "f = f.isin(['N2','N3'])\n",
      "draw_survival_curves(two_hit, surv, f)"
     ],
     "language": "python",
     "metadata": {},
     "outputs": [
      {
       "metadata": {},
       "output_type": "display_data",
       "png": "[encoded data removed]",
       "text": [
        "<matplotlib.figure.Figure at 0xb788710>"
       ]
      }
     ],
     "prompt_number": 53
    },
    {
     "cell_type": "code",
     "collapsed": false,
     "input": [
      "get_surv_fit_lr(surv, two_hit)"
     ],
     "language": "python",
     "metadata": {},
     "outputs": [
      {
       "html": [
        "<div style=\"max-height:1000px;max-width:1500px;overflow:auto;\">\n",
        "<table border=\"1\" class=\"dataframe\">\n",
        "  <thead>\n",
        "    <tr>\n",
        "      <th></th>\n",
        "      <th colspan=\"2\" halign=\"left\">Stats</th>\n",
        "      <th colspan=\"3\" halign=\"left\">Median Survival</th>\n",
        "      <th colspan=\"3\" halign=\"left\">5y Survival</th>\n",
        "      <th colspan=\"2\" halign=\"left\">Log-Rank</th>\n",
        "    </tr>\n",
        "    <tr>\n",
        "      <th></th>\n",
        "      <th># Patients</th>\n",
        "      <th># Events</th>\n",
        "      <th>Median</th>\n",
        "      <th>Lower</th>\n",
        "      <th>Upper</th>\n",
        "      <th>Surv</th>\n",
        "      <th>Lower</th>\n",
        "      <th>Upper</th>\n",
        "      <th>chi2</th>\n",
        "      <th>p</th>\n",
        "    </tr>\n",
        "  </thead>\n",
        "  <tbody>\n",
        "    <tr>\n",
        "      <th></th>\n",
        "      <td>   </td>\n",
        "      <td>   </td>\n",
        "      <td>     </td>\n",
        "      <td>     </td>\n",
        "      <td>    </td>\n",
        "      <td>      </td>\n",
        "      <td>      </td>\n",
        "      <td>      </td>\n",
        "      <td> 4.27</td>\n",
        "      <td> 0.0387</td>\n",
        "    </tr>\n",
        "    <tr>\n",
        "      <th>1</th>\n",
        "      <td> 28</td>\n",
        "      <td> 19</td>\n",
        "      <td> 1.52</td>\n",
        "      <td>    1</td>\n",
        "      <td> NaN</td>\n",
        "      <td> 0.357</td>\n",
        "      <td> 0.217</td>\n",
        "      <td> 0.587</td>\n",
        "      <td>     </td>\n",
        "      <td>       </td>\n",
        "    </tr>\n",
        "    <tr>\n",
        "      <th>0</th>\n",
        "      <td> 24</td>\n",
        "      <td>  9</td>\n",
        "      <td>  NaN</td>\n",
        "      <td> 1.85</td>\n",
        "      <td> NaN</td>\n",
        "      <td>  0.61</td>\n",
        "      <td>  0.44</td>\n",
        "      <td> 0.845</td>\n",
        "      <td>     </td>\n",
        "      <td>       </td>\n",
        "    </tr>\n",
        "  </tbody>\n",
        "</table>\n",
        "<p>3 rows \u00d7 10 columns</p>\n",
        "</div>"
       ],
       "metadata": {},
       "output_type": "pyout",
       "prompt_number": 54,
       "text": [
        "       Stats          Median Survival             5y Survival               Log-Rank        \n",
        "  # Patients # Events          Median Lower Upper        Surv  Lower  Upper     chi2       p\n",
        "                                                                                4.27  0.0387\n",
        "1         28       19            1.52     1   NaN       0.357  0.217  0.587                 \n",
        "0         24        9             NaN  1.85   NaN        0.61   0.44  0.845                 \n",
        "\n",
        "[3 rows x 10 columns]"
       ]
      }
     ],
     "prompt_number": 54
    },
    {
     "cell_type": "heading",
     "level": 3,
     "metadata": {},
     "source": [
      "Coin Tests"
     ]
    },
    {
     "cell_type": "markdown",
     "metadata": {},
     "source": [
      "This was a suggestion from a review.  The R [coin](http://cran.r-project.org/web/packages/coin/index.html) package allows for exact permutation tests for log-rank statistics."
     ]
    },
    {
     "cell_type": "code",
     "collapsed": false,
     "input": [
      "%load_ext rmagic\n",
      "coin = robjects.packages.importr('coin')"
     ],
     "language": "python",
     "metadata": {},
     "outputs": [],
     "prompt_number": 55
    },
    {
     "cell_type": "heading",
     "level": 4,
     "metadata": {},
     "source": [
      "Test 1: p53/3p Worse Survival than wt"
     ]
    },
    {
     "cell_type": "code",
     "collapsed": false,
     "input": [
      "th2 = two_hit[true_index(clin.Age_Dx < 75)].dropna()\n",
      "time = robjects.r.c(*list(surv.unstack().days.ix[th2.index]))\n",
      "event = robjects.r.c(*list(surv.unstack().event.ix[th2.index]))\n",
      "g = robjects.r.c(*list(th2*1.))"
     ],
     "language": "python",
     "metadata": {},
     "outputs": [],
     "prompt_number": 181
    },
    {
     "cell_type": "code",
     "collapsed": false,
     "input": [
      "old = clin.Age_Dx < 75\n",
      "old.name = 'old'"
     ],
     "language": "python",
     "metadata": {},
     "outputs": [],
     "prompt_number": 190
    },
    {
     "cell_type": "code",
     "collapsed": false,
     "input": [
      "stage = clin.clinical_stage.ix[keepers]\n",
      "stage = stage.replace('IVa','IV').replace('IVb','IV').replace('.', 'Unstaged').fillna('Unstaged')\n",
      "stage = stage == 'IV'"
     ],
     "language": "python",
     "metadata": {},
     "outputs": [],
     "prompt_number": 202
    },
    {
     "cell_type": "code",
     "collapsed": false,
     "input": [
      "get_cox_ph_ms(surv, two_hit, [old, clin.Age_Dx, stage], interactions=False)"
     ],
     "language": "python",
     "metadata": {},
     "outputs": [
      {
       "metadata": {},
       "output_type": "pyout",
       "prompt_number": 203,
       "text": [
        "LR                                                      0.0761\n",
        "feature_p                                               0.0856\n",
        "fmla         Surv(days, event) ~ feature + Age_Dx + clinica...\n",
        "hazzard                                                   2.02\n",
        "dtype: object"
       ]
      }
     ],
     "prompt_number": 203
    },
    {
     "cell_type": "code",
     "collapsed": false,
     "input": [
      "%%R -i time,event,g\n",
      "\n",
      "exdata <- data.frame(time = time,\n",
      "                     event = event,\n",
      "                     group = factor(g))\n",
      "surv_test(Surv(time, event) ~ group, data=exdata, \n",
      "          distribution=exact(), alternative='less')"
     ],
     "language": "python",
     "metadata": {},
     "outputs": [
      {
       "metadata": {},
       "output_type": "display_data",
       "text": [
        "\n",
        "\tExact Logrank Test\n",
        "\n",
        "data:  Surv(time, event) by group (0, 1)\n",
        "Z = -1.9569, p-value = 0.02507\n",
        "alternative hypothesis: less\n",
        "\n"
       ]
      }
     ],
     "prompt_number": 183
    },
    {
     "cell_type": "heading",
     "level": 4,
     "metadata": {},
     "source": [
      "Test 2: p53/3p Worse Survival than p53"
     ]
    },
    {
     "cell_type": "code",
     "collapsed": false,
     "input": [
      "f = del_3p.ix[true_index(p53_mut)].dropna()*1.\n",
      "f = f.ix[clin.Age_Dx < 77]\n",
      "g = robjects.r.c(*list(f))\n",
      "time = robjects.r.c(*list(surv.unstack().days.ix[f.index]))\n",
      "event = robjects.r.c(*list(surv.unstack().event.ix[f.index]))"
     ],
     "language": "python",
     "metadata": {},
     "outputs": [],
     "prompt_number": 298
    },
    {
     "cell_type": "code",
     "collapsed": false,
     "input": [
      "cox(f, surv)"
     ],
     "language": "python",
     "metadata": {},
     "outputs": [
      {
       "metadata": {},
       "output_type": "pyout",
       "prompt_number": 299,
       "text": [
        "hazard       exp(coef)      6.84\n",
        "             exp(-coef)     0.15\n",
        "             lower .95      0.91\n",
        "             upper .95     51.20\n",
        "LR           stat           6.37\n",
        "             df             1.00\n",
        "             p              0.01\n",
        "concordance  stat           0.61\n",
        "             se             0.05\n",
        "dtype: float64"
       ]
      }
     ],
     "prompt_number": 299
    },
    {
     "cell_type": "code",
     "collapsed": false,
     "input": [
      "%%R -i time,event,g\n",
      "\n",
      "exdata <- data.frame(time = time,\n",
      "                     event = event,\n",
      "                     group = factor(g))\n",
      "surv_test(Surv(time, event) ~ group, data=exdata, \n",
      "          distribution=exact(), alternative='less')"
     ],
     "language": "python",
     "metadata": {},
     "outputs": [
      {
       "metadata": {},
       "output_type": "display_data",
       "text": [
        "\n",
        "\tExact Logrank Test\n",
        "\n",
        "data:  Surv(time, event) by group (0, 1)\n",
        "Z = -2.4025, p-value = 0.009194\n",
        "alternative hypothesis: less\n",
        "\n"
       ]
      }
     ],
     "prompt_number": 300
    },
    {
     "cell_type": "heading",
     "level": 4,
     "metadata": {},
     "source": [
      "Test p53/3p Worst Survival than 3p"
     ]
    },
    {
     "cell_type": "code",
     "collapsed": false,
     "input": [
      "f = p53_mut.ix[true_index(del_3p)].dropna()*1.\n",
      "g = robjects.r.c(*list(f))\n",
      "time = robjects.r.c(*list(surv.unstack().days.ix[f.index]))\n",
      "event = robjects.r.c(*list(surv.unstack().event.ix[f.index]))"
     ],
     "language": "python",
     "metadata": {},
     "outputs": [],
     "prompt_number": 87
    },
    {
     "cell_type": "code",
     "collapsed": false,
     "input": [
      "%%R -i time,event,g\n",
      "\n",
      "exdata <- data.frame(time = time,\n",
      "                     event = event,\n",
      "                     group = factor(g))\n",
      "surv_test(Surv(time, event) ~ group, data=exdata, \n",
      "          distribution=exact(), alternative='less')"
     ],
     "language": "python",
     "metadata": {},
     "outputs": [
      {
       "metadata": {},
       "output_type": "display_data",
       "text": [
        "\n",
        "\tExact Logrank Test\n",
        "\n",
        "data:  Surv(time, event) by group (0, 1)\n",
        "Z = 0.0197, p-value = 0.5014\n",
        "alternative hypothesis: less\n",
        "\n"
       ]
      }
     ],
     "prompt_number": 88
    },
    {
     "cell_type": "code",
     "collapsed": false,
     "input": [
      "cn_upmc = cn_upmc.ix[:, two_hit.index]"
     ],
     "language": "python",
     "metadata": {},
     "outputs": [],
     "prompt_number": 90
    },
    {
     "cell_type": "code",
     "collapsed": false,
     "input": [
      "survival_and_stats(cn_upmc.ix['MIR548K'].ix[0].dropna()>0, surv)"
     ],
     "language": "python",
     "metadata": {},
     "outputs": [
      {
       "metadata": {},
       "output_type": "display_data",
       "png": "[encoded data removed]",
       "text": [
        "<matplotlib.figure.Figure at 0xa267bd0>"
       ]
      }
     ],
     "prompt_number": 91
    },
    {
     "cell_type": "code",
     "collapsed": false,
     "input": [
      "st = (two_hit + 1).add(2*(cn_upmc.ix['MIR548K'].ix[0] > 0)).replace(3,0).replace(4,3)\n",
      "st = st.dropna()"
     ],
     "language": "python",
     "metadata": {},
     "outputs": [],
     "prompt_number": 92
    },
    {
     "cell_type": "code",
     "collapsed": false,
     "input": [
      "mir = cn_upmc.ix['MIR548K'].ix[0].ix[two_hit.index]"
     ],
     "language": "python",
     "metadata": {},
     "outputs": [],
     "prompt_number": 93
    },
    {
     "cell_type": "code",
     "collapsed": false,
     "input": [
      "eq = cn_upmc.ix['MIR548K'].ix[0].ix[two_hit.index]\n",
      "#eq = cn_upmc.xs('11q13.3',0,1).median()"
     ],
     "language": "python",
     "metadata": {},
     "outputs": [],
     "prompt_number": 94
    },
    {
     "cell_type": "code",
     "collapsed": false,
     "input": [
      "st = (two_hit + 1).add(2*(eq > 1)).replace(3,1).replace(4,3)\n",
      "st = st.dropna()"
     ],
     "language": "python",
     "metadata": {},
     "outputs": [],
     "prompt_number": 95
    },
    {
     "cell_type": "code",
     "collapsed": false,
     "input": [
      "survival_and_stats(st, surv)"
     ],
     "language": "python",
     "metadata": {},
     "outputs": [
      {
       "metadata": {},
       "output_type": "display_data",
       "png": "[encoded data removed]",
       "text": [
        "<matplotlib.figure.Figure at 0xa3f7110>"
       ]
      }
     ],
     "prompt_number": 96
    },
    {
     "cell_type": "code",
     "collapsed": false,
     "input": [
      "get_cox_ph(surv, st, print_desc=True, interactions=False);"
     ],
     "language": "python",
     "metadata": {},
     "outputs": [
      {
       "output_type": "stream",
       "stream": "stdout",
       "text": [
        "\n",
        "         coef exp(coef) se(coef)   z     p\n",
        "feature 0.491      1.63    0.234 2.1 0.036\n",
        "\n",
        "Likelihood ratio test=4.28  on 1 df, p=0.0385  n= 52, number of events= 28 \n",
        "\n"
       ]
      }
     ],
     "prompt_number": 97
    },
    {
     "cell_type": "heading",
     "level": 1,
     "metadata": {},
     "source": [
      "HPV+ Combined Patients"
     ]
    },
    {
     "cell_type": "code",
     "collapsed": false,
     "input": [
      "cn_upmc = pd.DataFrame({i: gistic[t] for i,t in cn_tumor.iteritems() if t in gistic})\n",
      "del_3p_upmc = cn_upmc.xs('3p14.2',0,1).median().ix[true_index(clin.HPV=='Positive')].dropna() < 0"
     ],
     "language": "python",
     "metadata": {},
     "outputs": [],
     "prompt_number": 253
    },
    {
     "cell_type": "code",
     "collapsed": false,
     "input": [
      "del_3p_tcga = cn.features.ix[('Deletion','3p14.2','Lesion')]\n",
      "del_3p_tcga = del_3p_tcga.ix[true_index(clinical.processed.hpv_inferred==True)].dropna() < 0\n",
      "del_3p_all = del_3p_upmc.append(del_3p_tcga)\n",
      "surv_combined = pd.concat([surv, clinical.survival.survival_5y])"
     ],
     "language": "python",
     "metadata": {},
     "outputs": [],
     "prompt_number": 254
    },
    {
     "cell_type": "code",
     "collapsed": false,
     "input": [
      "p53_upmc = hit_matrix.ix['TP53', true_index(clin.HPV=='Positive')].dropna()\n",
      "p53_tcga = mut.features.ix['TP53', true_index(clinical.processed.hpv_inferred==True)]"
     ],
     "language": "python",
     "metadata": {},
     "outputs": [],
     "prompt_number": 255
    },
    {
     "cell_type": "markdown",
     "metadata": {},
     "source": [
      "<div id='3p_hpv_OR'>We noted that TP53 mutation is very rare in HPV+ patients, consistent with the idea that mutation confers little selective advantage once TP53 is inactivated by HPV.</div>"
     ]
    },
    {
     "cell_type": "code",
     "collapsed": false,
     "input": [
      "p53_all = (mut.features.ix['TP53'].append(hit_matrix.ix['TP53']>0)).map({True:'mut',False:'wt'})\n",
      "hpv_all = clinical.processed.hpv_inferred.append(clin.HPV=='Positive')\n",
      "pd.crosstab(hpv_all, p53_all)"
     ],
     "language": "python",
     "metadata": {},
     "outputs": [
      {
       "html": [
        "<div style=\"max-height:1000px;max-width:1500px;overflow:auto;\">\n",
        "<table border=\"1\" class=\"dataframe\">\n",
        "  <thead>\n",
        "    <tr style=\"text-align: right;\">\n",
        "      <th>TP53</th>\n",
        "      <th>mut</th>\n",
        "      <th>wt</th>\n",
        "    </tr>\n",
        "    <tr>\n",
        "      <th>row_0</th>\n",
        "      <th></th>\n",
        "      <th></th>\n",
        "    </tr>\n",
        "  </thead>\n",
        "  <tbody>\n",
        "    <tr>\n",
        "      <th>False</th>\n",
        "      <td> 258</td>\n",
        "      <td> 70</td>\n",
        "    </tr>\n",
        "    <tr>\n",
        "      <th>True </th>\n",
        "      <td>   1</td>\n",
        "      <td> 51</td>\n",
        "    </tr>\n",
        "  </tbody>\n",
        "</table>\n",
        "<p>2 rows \u00d7 2 columns</p>\n",
        "</div>"
       ],
       "metadata": {},
       "output_type": "pyout",
       "prompt_number": 57,
       "text": [
        "TP53   mut  wt\n",
        "row_0         \n",
        "False  258  70\n",
        "True     1  51\n",
        "\n",
        "[2 rows x 2 columns]"
       ]
      }
     ],
     "prompt_number": 57
    },
    {
     "cell_type": "code",
     "collapsed": false,
     "input": [
      "fisher_exact_test(hit_matrix.ix['TP53']>0, clin.HPV=='Positive')"
     ],
     "language": "python",
     "metadata": {},
     "outputs": [
      {
       "metadata": {},
       "output_type": "pyout",
       "prompt_number": 58,
       "text": [
        "odds_ratio    0.00e+00\n",
        "p             5.14e-06\n",
        "dtype: float64"
       ]
      }
     ],
     "prompt_number": 58
    },
    {
     "cell_type": "code",
     "collapsed": false,
     "input": [
      "print len(combine(hit_matrix.ix['TP53']>0, clin.HPV=='Positive'))\n",
      "pd.crosstab(hit_matrix.ix['TP53']>0, clin.HPV)"
     ],
     "language": "python",
     "metadata": {},
     "outputs": [
      {
       "output_type": "stream",
       "stream": "stdout",
       "text": [
        "74\n"
       ]
      },
      {
       "html": [
        "<div style=\"max-height:1000px;max-width:1500px;overflow:auto;\">\n",
        "<table border=\"1\" class=\"dataframe\">\n",
        "  <thead>\n",
        "    <tr style=\"text-align: right;\">\n",
        "      <th>HPV</th>\n",
        "      <th>Negative</th>\n",
        "      <th>Positive</th>\n",
        "    </tr>\n",
        "    <tr>\n",
        "      <th>TP53</th>\n",
        "      <th></th>\n",
        "      <th></th>\n",
        "    </tr>\n",
        "  </thead>\n",
        "  <tbody>\n",
        "    <tr>\n",
        "      <th>False</th>\n",
        "      <td> 17</td>\n",
        "      <td> 11</td>\n",
        "    </tr>\n",
        "    <tr>\n",
        "      <th>True </th>\n",
        "      <td> 46</td>\n",
        "      <td>  0</td>\n",
        "    </tr>\n",
        "  </tbody>\n",
        "</table>\n",
        "<p>2 rows \u00d7 2 columns</p>\n",
        "</div>"
       ],
       "metadata": {},
       "output_type": "pyout",
       "prompt_number": 59,
       "text": [
        "HPV    Negative  Positive\n",
        "TP53                     \n",
        "False        17        11\n",
        "True         46         0\n",
        "\n",
        "[2 rows x 2 columns]"
       ]
      }
     ],
     "prompt_number": 59
    },
    {
     "cell_type": "code",
     "collapsed": false,
     "input": [
      "fisher_exact_test(hpv_all, p53_all)"
     ],
     "language": "python",
     "metadata": {},
     "outputs": [
      {
       "metadata": {},
       "output_type": "pyout",
       "prompt_number": 60,
       "text": [
        "odds_ratio    1.88e+02\n",
        "p             2.52e-28\n",
        "dtype: float64"
       ]
      }
     ],
     "prompt_number": 60
    },
    {
     "cell_type": "markdown",
     "metadata": {},
     "source": [
      "<div id='3p_hpv_surv'>Moreover, the 24 HPV+ patients harboring a 3p deletion had significantly worse prognosis than the 34 HPV+ patients without the 3p event.</div>"
     ]
    },
    {
     "cell_type": "code",
     "collapsed": false,
     "input": [],
     "language": "python",
     "metadata": {},
     "outputs": []
    },
    {
     "cell_type": "code",
     "collapsed": false,
     "input": [
      "cn_hpv_1 = pd.DataFrame({i: gistic[t] for i,t in cn_tumor.iteritems() \n",
      "                       if (i in true_index(clin.HPV == 'Positive'))})\n",
      "cn_hpv_2 = pd.DataFrame({i[:12]: gistic[i] for i in gistic\n",
      "                       if (i[:12] in true_index(clinical.processed.hpv_inferred))})"
     ],
     "language": "python",
     "metadata": {},
     "outputs": [],
     "prompt_number": 237
    },
    {
     "cell_type": "code",
     "collapsed": false,
     "input": [
      "cn_hpv_1.shape"
     ],
     "language": "python",
     "metadata": {},
     "outputs": [
      {
       "metadata": {},
       "output_type": "pyout",
       "prompt_number": 247,
       "text": [
        "(24174, 7)"
       ]
      }
     ],
     "prompt_number": 247
    },
    {
     "cell_type": "code",
     "collapsed": false,
     "input": [
      "cn_hpv_2.shape"
     ],
     "language": "python",
     "metadata": {},
     "outputs": [
      {
       "metadata": {},
       "output_type": "pyout",
       "prompt_number": 246,
       "text": [
        "(24174, 47)"
       ]
      }
     ],
     "prompt_number": 246
    },
    {
     "cell_type": "code",
     "collapsed": false,
     "input": [
      "cnn = pd.concat([cn_hpv_2, cn_hpv_1], axis=1)\n",
      "cnn = cnn.groupby(level=1).median()"
     ],
     "language": "python",
     "metadata": {},
     "outputs": [],
     "prompt_number": 267
    },
    {
     "cell_type": "code",
     "collapsed": false,
     "input": [
      "survival_and_stats(del_3p_all, surv_combined)"
     ],
     "language": "python",
     "metadata": {},
     "outputs": [
      {
       "metadata": {},
       "output_type": "display_data",
       "png": "[encoded data removed]",
       "text": [
        "<matplotlib.figure.Figure at 0x4b557310>"
       ]
      }
     ],
     "prompt_number": 275
    },
    {
     "cell_type": "code",
     "collapsed": false,
     "input": [
      "log_rank(del_3p_all, surv_combined).ix['p']"
     ],
     "language": "python",
     "metadata": {},
     "outputs": [
      {
       "metadata": {},
       "output_type": "pyout",
       "prompt_number": 276,
       "text": [
        "0.0035994846975386575"
       ]
      }
     ],
     "prompt_number": 276
    },
    {
     "cell_type": "code",
     "collapsed": false,
     "input": [
      "get_cox_ph(surv_combined, del_3p_all, print_desc=True);"
     ],
     "language": "python",
     "metadata": {},
     "outputs": [
      {
       "output_type": "stream",
       "stream": "stdout",
       "text": [
        "\n",
        "        coef exp(coef) se(coef)   z      p\n",
        "feature 1.72      5.59    0.663 2.6 0.0094\n",
        "\n",
        "Likelihood ratio test=8.3  on 1 df, p=0.00396  n= 58, number of events= 13 \n",
        "\n"
       ]
      }
     ],
     "prompt_number": 252
    },
    {
     "cell_type": "code",
     "collapsed": false,
     "input": [
      "exp(1.72), exp(1.72) -  exp(1.62 - .663)"
     ],
     "language": "python",
     "metadata": {},
     "outputs": [
      {
       "metadata": {},
       "output_type": "pyout",
       "prompt_number": 63,
       "text": [
        "(5.5845284642760538, 2.9806553393828996)"
       ]
      }
     ],
     "prompt_number": 63
    },
    {
     "cell_type": "heading",
     "level": 1,
     "metadata": {},
     "source": [
      "UPMC Validation Cohort Figures"
     ]
    },
    {
     "cell_type": "code",
     "collapsed": false,
     "input": [
      "p53_mut.name = 'TP53'\n",
      "del_3p.name = '3p'\n",
      "combo = combine(p53_mut, del_3p)\n",
      "#combo = combo.map({'TP53':'c','neither':' a','3p':'b','both':'d'})"
     ],
     "language": "python",
     "metadata": {},
     "outputs": [],
     "prompt_number": 303
    },
    {
     "cell_type": "code",
     "collapsed": false,
     "input": [
      "fig, ax = subplots(figsize=(3,2.5))\n",
      "c = {'TP53': colors_th[1], 'both': colors_th[0]}\n",
      "draw_survival_curve(combo[combo.isin(['both','TP53'])], surv, colors=c, ax=ax)\n",
      "ax.legend(loc='lower left', frameon=False)\n",
      "prettify_ax(ax)\n",
      "fig.tight_layout()\n",
      "fig.savefig('/cellar/users/agross/figures/fig3a.pdf')"
     ],
     "language": "python",
     "metadata": {},
     "outputs": [
      {
       "metadata": {},
       "output_type": "display_data",
       "png": "[encoded data removed]",
       "text": [
        "<matplotlib.figure.Figure at 0xf38be50>"
       ]
      }
     ],
     "prompt_number": 317
    },
    {
     "cell_type": "code",
     "collapsed": false,
     "input": [
      "fig, ax = subplots(figsize=(3,2.5))\n",
      "surv_fit = get_surv_fit(surv, combo)\n",
      "tt = surv_fit['5y Survival']\n",
      "b = (tt['Surv']).plot(kind='bar', ax=ax, color=colors_th[::-1],\n",
      "         yerr=[tt.Surv-tt.Lower, tt.Upper-tt.Surv], ecolor='black')\n",
      "ax.set_ylabel('5Y Survival')\n",
      "ax.set_yticks([0, .5, 1.0])\n",
      "bar_labels = ['{}\\n\\n{}'.format(j,int(v)) for j,v in \n",
      "              surv_fit['Stats']['# Patients'].iteritems()]\n",
      "ax.set_xticklabels(bar_labels, rotation=0);\n",
      "prettify_ax(ax)\n",
      "fig.tight_layout()\n",
      "fig.savefig('/cellar/users/agross/figures/fig3b.pdf')"
     ],
     "language": "python",
     "metadata": {},
     "outputs": [
      {
       "metadata": {},
       "output_type": "display_data",
       "png": "[encoded data removed]",
       "text": [
        "<matplotlib.figure.Figure at 0xee00790>"
       ]
      }
     ],
     "prompt_number": 128
    },
    {
     "cell_type": "code",
     "collapsed": false,
     "input": [
      "fig, ax = subplots(figsize=(3,2.5))\n",
      "draw_survival_curve(del_3p_all, surv_combined, ax=ax, colors=[cc[3], cc[2]])\n",
      "ax.legend().set_visible(False)\n",
      "prettify_ax(ax)\n",
      "fig.tight_layout()\n",
      "fig.savefig('/cellar/users/agross/figures/fig3d.pdf')"
     ],
     "language": "python",
     "metadata": {},
     "outputs": [
      {
       "metadata": {},
       "output_type": "display_data",
       "png": "[encoded data removed]",
       "text": [
        "<matplotlib.figure.Figure at 0xedf2910>"
       ]
      }
     ],
     "prompt_number": 129
    }
   ],
   "metadata": {}
  }
 ]
}