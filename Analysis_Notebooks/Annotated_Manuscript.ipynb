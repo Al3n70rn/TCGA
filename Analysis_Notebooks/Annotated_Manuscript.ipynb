{
 "metadata": {
  "name": "",
  "signature": "sha256:525b29af1686f96e84ed105d3fcd5454826c7f4f0b7880e3239d0a49e1964200"
 },
 "nbformat": 3,
 "nbformat_minor": 0,
 "worksheets": [
  {
   "cells": [
    {
     "cell_type": "heading",
     "level": 1,
     "metadata": {},
     "source": [
      "A prognostic model of head and neck cancer ties TP53 mutation to 3p loss"
     ]
    },
    {
     "cell_type": "markdown",
     "metadata": {},
     "source": [
      "Andrew M Gross<sup>1</sup>, Ryan K Orosco<sup>2</sup>, John P Shen<sup>3</sup>, Ann Marie Egloff<sup>4</sup>, Hannah Carter<sup>3</sup>, Matan Hofree<sup>5</sup>, Michel Choueiri<sup>3</sup>, Charles S Coffey<sup>2</sup>, Scott M. Lippman<sup>6</sup>, D. Neil Hayes<sup>7</sup>, Ezra E Cohen<sup>8</sup>, Jennifer R Grandis<sup>4</sup>, Quyen T Nguyen<sup>2,6</sup>, Trey Ideker<sup>1,3,5,6</sup>\n",
      "\n",
      "<sup>1</sup>Bioinformatics and Systems Biology Program, University of California San Diego, La Jolla, CA 92093, USA\n",
      "\n",
      "<sup>2</sup>Division of Head and Neck Surgery, University of California San Diego, La Jolla, CA 92093, USA\n",
      "\n",
      "<sup>3</sup>Department of Medicine, University of California, San Diego, La Jolla, CA 92093, USA\n",
      "\n",
      "<sup>4</sup>Department of Otolaryngology, University of Pittsburgh, Pittsburgh, PA 15213, USA\n",
      "\n",
      "<sup>5</sup>Department of Computer Science and Engineering, University of California San Diego, La Jolla, CA 92093, USA\n",
      "\n",
      "<sup>6</sup>Moores Cancer Center, University of California, San Diego, La Jolla, CA 92093, USA\t\n",
      "\n",
      "<sup>7</sup>Lineberger Comprehensive Cancer Center, University of North Carolina at Chapel Hill, Chapel Hill, NC 27599, USA\n",
      "\n",
      "<sup>8</sup>Department of Medicine, University of Chicago, Chicago, IL 60637, USA"
     ]
    },
    {
     "cell_type": "markdown",
     "metadata": {},
     "source": [
      "<b>Head and neck squamous cell carcinoma (HNSCC) is frequently characterized by aggressive clinical behavior with a propensity for metastasis and recurrence. Current understanding of HNSCC pathogenesis remains limited, and there are few biomarkers that reliably predict either patient outcome or response to therapy. Here we report a comprehensive analysis of the molecular and clinical features of HNSCC that define patient survival. Building on data and infrastructure established by The Cancer Genome Atlas (TCGA), we develop an approach to define molecular events across multiple tiers of \u2018omics data and factor patients into subgroups with differing prognosis. We show that in HPV negative (HPV-) patients, the detrimental impact of TP53 mutation occurs only in combination with loss of chromosome 3p, leading to a marked decrease in median survival from >5 years for TP53 mutation only to 1.7 years for both events. This finding is replicated in an independent HNSCC cohort as well as a pan-cancer TCGA cohort of over 4500 patients.  We also show in HNSCC HPV positive (HPV+) patients that HPV-mediated inactivation of TP53 acts in synergy with 3p deletion.  We then show that within HNSCC, the TP53/3p event defines molecularly district subgroups.  In the presence of TP53/3p we stratify the cohort by a hierarchy of events incorporating MUC5B mutation and mir-548k expression, while in the absence of the TP53/3p event RAS signaling is an important driver. Together, the identified markers enable a new multi-tiered molecular classification of HNSCC.</b>"
     ]
    },
    {
     "cell_type": "heading",
     "level": 2,
     "metadata": {},
     "source": [
      "INTRODUCTION"
     ]
    },
    {
     "cell_type": "markdown",
     "metadata": {},
     "source": [
      "It is increasingly appreciated that the diversity of clinical outcomes in HNSCC is likely a reflection of molecular heterogeneity of the tumor population<sup>1,2,3</sup>. Previous studies have led to the identification of a variety of genes and other molecular features for stratifying HNSCC tumors, such as efforts to cluster gene expression profiles to define subtypes<sup>4,5,6,7,8,9</sup>. To more comprehensively explore the heterogeneity of HNSCC, The Cancer Genome Atlas project has recently made available molecular profiles for over 300 patient tumors including full-exome somatic mutations, copy-number alterations, and mRNA and microRNA abundance profiles<sup>10</sup>.  The breadth and depth of these data provide an unprecedented opportunity to study the complex interrelations among multiple tiers of molecular events and clinical outcomes such as patient survival. "
     ]
    },
    {
     "cell_type": "heading",
     "level": 2,
     "metadata": {},
     "source": [
      "RESULTS"
     ]
    },
    {
     "cell_type": "heading",
     "level": 3,
     "metadata": {},
     "source": [
      "Construction of Candidate Biomarkers"
     ]
    },
    {
     "cell_type": "markdown",
     "metadata": {},
     "source": [
      "To systematically unravel these complex relationships, [we obtained all available molecular and clinical data from TCGA](download_data.ipynb)<sup>11</sup> as of January 15, 2013 (Fig. 1a). These data were [processed](download_data.ipynb#Create-Run-Object-for-Firehose-Download) to identify a pool of informative events, as follows. Individual somatic mutation and mRNA expression events were integrated with knowledge of human molecular pathways to define \u2018pathway-level events\u2019 which summarize all events occurring in a pathway as a single marker (Fig. 1b-e). Pathway-level markers have been repeatedly shown to increase statistical power by aggregation of sparse or noisy data on individual genes<sup>12,13</sup>. To limit the number of markers that must be considered, we limited analysis to the mRNA and microRNA events (both single gene and pathway) that were most differentially expressed between tumor and normal tissues (Fig. 1a). We found that most clinical variables in TCGA, such as smoking status of the patient and whether the tumor has spread beyond the lymph node (extra-capsular spread), were incompletely reported across the cohort. To nonetheless include these variables in our study, we used supervised learning<sup>14</sup> to impute unreported clinical values for patients based on mRNA expression profiles, a procedure which generally had high predictive accuracy (Methods, Extended Data Table 1). In [preliminary analysis](HPV_characterization.ipynb), we found very poor outcomes for patients 85 years and older and large differences associated with HPV infection status across all types of molecular data (Extended Data Fig. 1). To limit confounding from these factors, we focused our initial analysis on HPV-  patients under the age of 85."
     ]
    },
    {
     "cell_type": "heading",
     "level": 3,
     "metadata": {},
     "source": [
      "Survival Associated Biomarkers in HPV- HNSCC"
     ]
    },
    {
     "cell_type": "markdown",
     "metadata": {},
     "source": [
      "To analyze the resulting [pool of 861 events](HNSC_biomarkers.ipynb#pool_size), we [screened](HNSC_subtypes.ipynb) for their ability to stratify the 251 HPV- patients with full molecular profiles into subgroups with differing rates of survival. According to this approach, we first discritize continuous variables such as expression (Methods, Fig. 1e) and screen for single events that are strongly predictive of survival in each data type, identifying [64](HNSC_biomarkers.ipynb#hit_count) events that were each independently associated with patient survival (Supplementary Table 1). \n",
      "\n",
      "Among mutation events, TP53 had the highest survival association overall (Fig. 2b, [P<sub>bh</sub> = 0.01](HNSC_biomarkers.ipynb#mut_ranking)). Differing survival rates were observed depending on the TP53 protein domain affected by the mutation or its [predicted functional status](TP53_exploration.ipynb#Classification-by-functional-domains)<sup>16</sup> ([log-rank P = .04](TP53_exploration.ipynb#fx_statistic), Extended Data Fig. 2). Notably, patients with mutations [predicted as non-disruptive of function](TP53_exploration.ipynb#Classification-of-Mutations-via-Poeta-et.-al.) nonetheless had worse prognosis than patients with wild-type TP53 ([Hazard Ratio 2.3  +/- .8, P = .01](TP53_exploration.ipynb#stat_non_disruptive)).  \n",
      "\n",
      "Among copy-number alterations, the most significant survival association was observed with heterozygous chromosomal deletions on the 3p arm ([P<sub>bh</sub> = .002](HNSC_biomarkers.ipynb#cn_hits), Fig. 2b). Further analysis of chromosome 3p revealed that many patients have a deletion spanning a [large fraction of the arm](copy_number_exploration.ipynb#Extended-Data-Figure-3a:-HPV--Patients) with increasing frequency of deletion approaching a fragile site in the 3p14.2 region<sup>17</sup> (Extended Data Fig. 3). While the deletion event tracked with chromosomal instability as a whole, in multivariate modeling we found that this event was responsible for the majority of the prognostic impact ([Likelihood ratio test P = .0001](copy_number_exploration.ipynb#Is-the-3p-deletion-an-artifact-of-chromosomal-instablity?)).  Among expression events, [the most significant](HNSC_biomarkers.ipynb#other_hits) were the microRNA mir-3170 and P4HA1 gene expression.  Finally, the clinical event with [greatest prognostic ability](HNSC_biomarkers.ipynb#clin_hits) was extra-capsular spread."
     ]
    },
    {
     "cell_type": "heading",
     "level": 3,
     "metadata": {},
     "source": [
      "TP53 Mutation and 3p Deletion Co-Occurrence Predicts Poor Outcome Across Diverse Patient Cohorts"
     ]
    },
    {
     "cell_type": "markdown",
     "metadata": {},
     "source": [
      "It has previously been shown that genetic alterations often act in redundant or synergistic mechanisms to confer a growth advantage in the tumor.  Under the hypothesis that such prognostic biomarkers might act in concert, we next examined the 64 primary events for pairwise association, revealing a of number of co-occurring or mutually exclusive pairs of events (Supplement, Methods).  Interestingly the mutation of TP53 and deletion of the 3p chromosomal arm co-occur in 179 of 251 HPV- patients (Fig. 2c, [Odds Ratio 6.3, FET, P<sub>bh</sub> = .0002](HNSC_biomarkers.ipynb#p53_3p)). \n",
      "\n",
      "While mutation of TP53 has previously been associated with chromosomal instability<sup>1</sup>, we find that TP53 associates with 3p chromosomal loss [far more frequently](copy_number_exploration.ipynb#segs_p53) than it does with deletions in other chromosomal regions with similar fragile sites, suggesting a selective advantage of this combination of events for tumor cells (Extended Data Fig. 4).  Although the prognostic effect of TP53 mutation in HNSCC has been well characterized, this aggregate event was significantly more predictive of survival than TP53 mutation alone ([P = .002](HNSC_biomarkers.ipynb#prog_interaction), likelihood ratio test for model including age).  Furthermore while 3p deletion is predictive of survival in TP53 mutated patients, it has no effect in their wild-type counterparts ([P = .002](copy_number_exploration.ipynb#3p_cin_p53_mutated_pts), [P = .8](copy_number_exploration.ipynb#3p_cin_p53_wt_pts), likelihood ratio test for model including age and chromosomal instability). Thus while each event by itself has a significant association with survival, these marginal effects seem to be driven by the large number of patients who have both events together (Fig. 2c-d). \n",
      "\n",
      "Together, the identified molecular events define a stratification of HNSCC patients (Fig. 2e) into two molecular subtypes (Fig. 2f, log-rank P < 10<sup>-8</sup>).  Of immediate interest is the potential clinical impact of such stratification on patient management.  We found this model to explain variation in patient survival that could not be explained by clinical and pathologically derived variables alone (Methods, Extended Data Fig. 7, likelihood ratio test, P < 10<sup>-6</sup>).  To this effect, in clinical stages I and II, a majority of patients are assigned to the aggressive subtype based on molecular events (59% in TP53-3p positive) and may benefit from accelerated therapy.  \n",
      "\n",
      "We next sought to [replicate](UPMC_cohort.ipynb) these findings. We first an analyzed 111 recent TCGA HNSCC HPV- samples not included in primary analysis.  While clinical followup was not sufficient for survival analysis, we indeed found the same high co-occurance between TP53 mutation and 3p deletion as in the primary cohort (Odds Ratio 7.9, P < 10<sup>-4</sup>).  We then collected clinical follow-up data for 52 HPV- tumors for which the exome sequencing and copy number profiles had been previously collected after surgery at University of Pittsburgh Medical Center<sup>3</sup> (UPMC cohort, Extended Data Table 1). This UPMC cohort confirmed that patients with the TP53 / 3p aggregate event have worse prognosis than patients with TP53 mutation alone (Fig. 3a, [HR 6.8+/-4.4](UPMC_cohort.ipynb#p53/3p), [log-rank P = 0.01](UPMC_cohort.ipynb#Test-2:-p53/3p-Worse-Survival-than-p53)). \n",
      "\n",
      "We also [assessed](UPMC_cohort.ipynb#HPV+-Combined-Patients) the effect of 3p deletion in 58 HPV+ patients pooled from TCGA and UPMC cohorts, under the hypothesis that HPV-mediated inactivation of TP53<sup>20,21</sup> acts in synergy with this deletion. We noted that TP53 mutation is very rare in HPV+ patients, consistent with the idea that mutation confers little selective advantage once TP53 is inactivated by HPV ([odds ratio 188, P < 10<sup>-27</sup>](UPMC_cohort.ipynb#3p_hpv_OR)). Moreover, the 24 HPV+ patients harboring a 3p deletion had significantly worse prognosis than the 34 HPV+ patients without the 3p event ([HR 5.6 +/- 3.0, P < 0.01](UPMC_cohort.ipynb#3p_hpv_surv), Fig. 3c). This finding lends further support for the synergistic interaction between TP53 and 3p and also provides prognostic insight into the HPV+ population (Fig. 2a).\n",
      "\n",
      "A key question is whether this prognostic event found for HNSCC (Fig. 2c) is specific to this tissue type or has broader support across diverse cancers. For this purpose, we pursued a [pan-cancer analysis](PANCAN_cohort.ipynb) based on all available molecular data in TCGA (excluding HNSCC patients), covering 4774 patients over an additional 16 cancer types<sup>22</sup> (Methods).  Indeed as in HNSCC, we found a significant overlap of these two events ([Odds Ratio 2.1, P < 10<sup>-28</sup>](PANCAN_cohort.ipynb#TP53-Mutation-3p14.2-Deletion-Interaction)).  Although these tissues are molecularly heterogeneous and present with different patient outcomes (Extended Data Fig. 8a-c), we nonetheless found compelling evidence for adverse outcomes in patients whos tumors contained this combination of TP53 mutation and 3p deletion as compared to TP53 alone, even when tissue type, patient age, and staging were accounted for (Fig. 3e-f, Extended Data Fig. 8, [univariate P < .0005, full model P = .001](PANCAN_cohort.ipynb#Does-this-interaction-explain-survival?)). One reason why this interaction may not have been discovered previously is that the effect size is smaller for other cancers than for HNSCC (hazard ratio of 2.5 for HNSCC versus 1.6 for all others combined). "
     ]
    },
    {
     "cell_type": "heading",
     "level": 3,
     "metadata": {},
     "source": [
      "Stratification of Patients in the TP53 Mutation 3p Deletion Defines a Hierarchical Model of Overall Survival"
     ]
    },
    {
     "cell_type": "markdown",
     "metadata": {},
     "source": [
      "We then sought to further characterize the TCGA HNSCC cohort.  Within the 183 patients with the TP53-3p aggregate event, we repeated our feature construction and screening pipeline (Fig. 2e). We found that patients with the TP53-3p event were well-stratified by a number of molecular features including mutation to the MUC5B gene as well as presence of the microRNA mir-548k, both of which we found to be associated with worse prognosis (HR x, Pbh = 0.01, Hazard Ratio 2.2 +/- .5, P<sub>bh</sub> = 0.01). Mir-548k is near CCND1 and FADD on 11q13.3, which is commonly amplified in HNSCC<sup>19</sup> (Extended Data Fig. 6a).  While we found that 11q13.3 amplification is associated with survival to a lesser degree than mir-548k expression, it seems as though the microRNA, which has very low baseline expression levels in matched normal patients, may be a good marker for the expression of this locus as a whole (Extended Data Fig. 6b-f)."
     ]
    },
    {
     "cell_type": "markdown",
     "metadata": {},
     "source": [
      "Finally, we investigated whether the HNSCC subtypes (Fig. 2e) could be subdivided further. Although the significance of further stratification was limited due to small sample size, we identified additional mutation events that had high exclusivity to specific subtypes in our clinical discovery cohort and validated these associations in the molecular cohort of recent TCGA patients. Notably, subtype TP53-3p negative was enriched for 18 of 24 Caspase 8 mutations (FET, P<sub>bonf</sub>  = .01), as well 20 of 27 mutations to the \u2018SOS1 mediated Ras signaling pathway\u2019 (Fig. 1b, Reactome 524, P<sub>bonf</sub> < 10<sup>-3</sup>). We also found that 14 of 19 mutations in the ASPM gene fall into subtype TP53-3p positive/mir-548k positive (Fig. 4a, P<sub>bonf</sub> = .06).  ASPM has been shown to be encode a mitotic spindle protein and have increased expression in proliferating cells<sup>23</sup>; knockdown of this gene decreases tumor proliferation in U87 glioblastoma cells<sup>24</sup>.  We found widespread increases in ASPM expression in tumor versus normal tissue in both the HNSCC and pan-cancer cohorts (Fig. 4b, paired t-test P < 10<sup>-13</sup>, P < 10<sup>-136</sup>). Moreover, patients in subtype TP53-3p positive/mir-548k positive have higher expression levels of ASPM than other subtypes (Fig. 4c, P = 0.004), and, strikingly, patients with ASPM mutation have better prognosis (P = 0.02, Fig. 4d). Although more study is required to fully understand these findings, one hypothesis is that ASPM mutation is a subtype-specific driver early in tumor progression that has protective effects at later stages. "
     ]
    },
    {
     "cell_type": "heading",
     "level": 3,
     "metadata": {},
     "source": [
      "Discussion"
     ]
    },
    {
     "cell_type": "markdown",
     "metadata": {},
     "source": [
      "While many studies have reported associations of a variety of molecular biomarkers with rates of patient survival, global, multi-layered molecular characterizations, such as TCGA, allow for unbiased observation of these complex dynamics within the tumor cell. A progressive, hierarchical analysis using the breadth and comprehensiveness of available data reveals interdependencies among molecular events, leading to robust and accurate prognostic stratification. For patients with HNSCC this is especially critical, since the great majority is treated with curative intent that could be modified to coincide with the more specific molecular classification of this disease."
     ]
    }
   ],
   "metadata": {}
  }
 ]
}