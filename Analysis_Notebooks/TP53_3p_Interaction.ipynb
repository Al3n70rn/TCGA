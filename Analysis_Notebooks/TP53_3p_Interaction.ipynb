{
 "metadata": {
  "name": "",
  "signature": "sha256:63965211d1a2df80a4fb8ffb05e3cf6da1c698eff5c94ad6309549c5f2fdc730"
 },
 "nbformat": 3,
 "nbformat_minor": 0,
 "worksheets": [
  {
   "cells": [
    {
     "cell_type": "markdown",
     "metadata": {},
     "source": [
      "<h1 class=\"alert alert-info\">HNSCC HPV- Cohort <small> <i class=\"icon-globe\"></i> Statistical Analysis of TP53-3p Interaction</small></h1>"
     ]
    },
    {
     "cell_type": "markdown",
     "metadata": {},
     "source": [
      "####Import Data and Packages  \n",
      "For full list of data and packages imported see the [Imports](../Analysis_Notebooks/Imports.ipynb) notebook."
     ]
    },
    {
     "cell_type": "code",
     "collapsed": false,
     "input": [
      "import NotebookImport\n",
      "from Imports import *"
     ],
     "language": "python",
     "metadata": {},
     "outputs": [
      {
       "output_type": "stream",
       "stream": "stdout",
       "text": [
        "importing IPython notebook from Imports.ipynb\n",
        "Populating the interactive namespace from numpy and matplotlib"
       ]
      },
      {
       "output_type": "stream",
       "stream": "stdout",
       "text": [
        "\n",
        "changing to source dirctory"
       ]
      },
      {
       "output_type": "stream",
       "stream": "stdout",
       "text": [
        "\n",
        "populating namespace with data"
       ]
      },
      {
       "output_type": "stream",
       "stream": "stdout",
       "text": [
        "\n"
       ]
      }
     ],
     "prompt_number": 1
    },
    {
     "cell_type": "markdown",
     "metadata": {},
     "source": [
      "Extract genomic variables of interest"
     ]
    },
    {
     "cell_type": "code",
     "collapsed": false,
     "input": [
      "p53_mut = mut.features.ix['TP53'].ix[keepers_o].dropna() > 0\n",
      "del_3p = cn.features.ix['Deletion'].ix['3p14.2'].ix[0].ix[keepers_o].dropna()\n",
      "p53_mut.name = 'TP53'\n",
      "del_3p.name = 'del_3p'\n",
      "\n",
      "combo = combine(p53_mut==1, del_3p==-1)\n",
      "two_hit = combo=='both'\n",
      "two_hit.name = 'two_hit'\n",
      "\n",
      "old = age > 75\n",
      "old.name = 'old'"
     ],
     "language": "python",
     "metadata": {},
     "outputs": [],
     "prompt_number": 2
    },
    {
     "cell_type": "markdown",
     "metadata": {},
     "source": [
      "Calculate deletion and amplification rates"
     ]
    },
    {
     "cell_type": "code",
     "collapsed": false,
     "input": [
      "cn_by_gene = FH.get_gistic_gene_matrix(run.data_path, cancer.name)\n",
      "cn_by_gene = cn_by_gene.ix[[i for i in cn_by_gene.index if i[2] in rna.df.index]]\n",
      "pct_del = (cn_by_gene < 0).sum() / (1.*len(cn_by_gene))\n",
      "pct_amp = (cn_by_gene > 0).sum() / (1.*len(cn_by_gene))\n",
      "pct_altered = pct_amp + pct_del\n",
      "pct_altered.name = 'CIN'\n",
      "\n",
      "pct_del.name = 'pct_del'\n",
      "pct_altered.name = 'pct_altered'"
     ],
     "language": "python",
     "metadata": {},
     "outputs": [],
     "prompt_number": 3
    },
    {
     "cell_type": "markdown",
     "metadata": {},
     "source": [
      "Define competing models"
     ]
    },
    {
     "cell_type": "code",
     "collapsed": false,
     "input": [
      "f0 = robjects.Formula('event ~ old')\n",
      "f1 = robjects.Formula('event ~ TP53 + old')\n",
      "f2 = robjects.Formula('event ~ del_3p + old')\n",
      "f3 = robjects.Formula('event ~ TP53 + del_3p + old')\n",
      "f8 = robjects.Formula('event ~ TP53 + del_3p + pct_del + old')\n",
      "f4 = robjects.Formula('event ~ TP53 + del_3p + two_hit + old')\n",
      "f5 = robjects.Formula('event ~ two_hit + old')\n",
      "f6 = robjects.Formula('event ~ TP53 + del_3p + pct_del + TP53:pct_del + old')\n",
      "f7 = robjects.Formula('event ~ TP53 + del_3p + pct_del + two_hit + TP53:pct_del + old')\n",
      "\n",
      "formulas = [f0, f1, f2, f3, f8, f7]"
     ],
     "language": "python",
     "metadata": {},
     "outputs": [],
     "prompt_number": 4
    },
    {
     "cell_type": "heading",
     "level": 3,
     "metadata": {},
     "source": [
      "Preform Leave on out cross-validation on various logistic models to test for the TP53-3p interaction."
     ]
    },
    {
     "cell_type": "markdown",
     "metadata": {},
     "source": [
      "To convert the survival data into a binary classification problem, we organized patients into two classes depending on whether they were surviving or deceased at T years after surgery. In this analysis, the ratio of deceased to surviving patients is artificially high due to the ability to observe a death in a shorter followup than the full time interval required to annotate a patient as surviving (i.e. the basis of the Cox censorship problem). To reduce this bias, we removed patients with an observed death but a time of surgery after a set year (2013 \u2013 (T \u2013 1))."
     ]
    },
    {
     "cell_type": "code",
     "collapsed": false,
     "input": [
      "year = clinical.clinical.yearofinitialpathologicdiagnosis.astype(float)\n",
      "year.max()"
     ],
     "language": "python",
     "metadata": {},
     "outputs": [
      {
       "metadata": {},
       "output_type": "pyout",
       "prompt_number": 5,
       "text": [
        "2013.0"
       ]
      }
     ],
     "prompt_number": 5
    },
    {
     "cell_type": "code",
     "collapsed": false,
     "input": [
      "def surv_to_binary(surv, t, year):\n",
      "    last_collection = year.max()\n",
      "    ss = surv.unstack()\n",
      "    ss = ss[(ss.days >= (365*t)) | (ss.event == 1)]\n",
      "    ss = ss.ix[ti(year < (last_collection - (t-1)))]\n",
      "    event = ss.ix[ss.index.intersection(keepers_o)].dropna().days >= (365*t)\n",
      "    event = event.astype(float)\n",
      "    event.name = 'event'\n",
      "    return event"
     ],
     "language": "python",
     "metadata": {},
     "outputs": [],
     "prompt_number": 6
    },
    {
     "cell_type": "markdown",
     "metadata": {},
     "source": [
      "Sample size for each time point"
     ]
    },
    {
     "cell_type": "code",
     "collapsed": false,
     "input": [
      "e2 = pd.concat({t: surv_to_binary(clinical.survival.survival, t, year).value_counts() \n",
      "                for t in range(1,6)}, axis=1)\n",
      "e2.index = ['Deceased', 'Alive']"
     ],
     "language": "python",
     "metadata": {},
     "outputs": [],
     "prompt_number": 7
    },
    {
     "cell_type": "code",
     "collapsed": false,
     "input": [
      "fig, ax = subplots(figsize=(3,2))\n",
      "e2.T.plot(kind='bar', stacked=True, ax=ax, rot=0, fontsize=11)\n",
      "ax.legend(frameon=False)\n",
      "prettify_ax(ax)\n",
      "ax.set_ylabel('# of Patients')\n",
      "ax.set_xlabel('Time Cutoff (Years)')\n",
      "fig.tight_layout()\n",
      "fig.savefig(FIGDIR + '/CV_sample_size.pdf')"
     ],
     "language": "python",
     "metadata": {},
     "outputs": [
      {
       "metadata": {},
       "output_type": "display_data",
       "png": "[encoded data removed]",
       "text": [
        "<matplotlib.figure.Figure at 0x78ce590>"
       ]
      }
     ],
     "prompt_number": 8
    },
    {
     "cell_type": "code",
     "collapsed": false,
     "input": [
      "from sklearn.metrics import roc_curve, auc, precision_recall_curve\n",
      "\n",
      "def as_FV(s):\n",
      "    '''\n",
      "    Convert a Series to R FloatVector object.\n",
      "    '''\n",
      "    fv = robjects.FloatVector(s)\n",
      "    fv.names = list(s.index)\n",
      "    return fv"
     ],
     "language": "python",
     "metadata": {},
     "outputs": [],
     "prompt_number": 9
    },
    {
     "cell_type": "code",
     "collapsed": false,
     "input": [
      "accuracy = {}\n",
      "predictions = {}\n",
      "error = {}\n",
      "roc_area = {}\n",
      "aupur = {}\n",
      "\n",
      "for t in [1,2,3,4,5]:\n",
      "    event = surv_to_binary(clinical.survival.survival, t, year)\n",
      "\n",
      "    df = pd.concat([p53_mut, del_3p<0, event, old, two_hit, pct_del, age], axis=1).dropna()\n",
      "    df_r = convert_to_r_dataframe(df)\n",
      "\n",
      "    outcome = event.map(len(event) - event.value_counts())\n",
      "    outcome = outcome / sum(outcome)\n",
      "\n",
      "    prediction = {}\n",
      "    for i,p in enumerate(df.index):\n",
      "        pt = df.index[[i]]\n",
      "        df_r = convert_to_r_dataframe(df.ix[df.index.diff(pt)])\n",
      "        o2 = outcome.ix[outcome.index.diff(pt)]\n",
      "        models = [robjects.r.glm(f, family='binomial', weights=as_FV(o2), \n",
      "                                 data=df_r) \n",
      "                  for f in formulas]\n",
      "        df_p = convert_to_r_dataframe(df.ix[pt])\n",
      "        prediction[p] = [robjects.r.predict(m, df_p, type='response')[0] for m \n",
      "                         in models]\n",
      "    prediction = pd.DataFrame(prediction).T\n",
      "    prediction.columns = ['1','TP53','3p',\n",
      "                          'TP53 + 3p',\n",
      "                          'TP53 + 3p + TP53:3p',\n",
      "                          'TP53 + 3p + pct_del + TP53:3p + TP53:pct_del']\n",
      "    \n",
      "    accuracy[t] = ((((prediction.T >= .5)) == (df.event == 1)) * outcome).sum(1)\n",
      "    predictions[t] = prediction\n",
      "\n",
      "    error[t] = ((prediction.T - df.event).abs() * outcome).sum(1)\n",
      "    \n",
      "    fpr = {}\n",
      "    tpr = {}\n",
      "    roc_auc = {}\n",
      "    aupur_auc = {}\n",
      "    for m,v in prediction.iteritems():\n",
      "        a,b = match_series(v, df.event)\n",
      "        fpr, tpr, thresh = roc_curve(b, a)\n",
      "        roc_auc[m] = auc(fpr, tpr)\n",
      "        precision, recall, thresh = precision_recall_curve(b, a)\n",
      "        aupur_auc[m] = auc(recall, precision)\n",
      "    roc_area[t] = roc_auc\n",
      "    aupur[t] = aupur_auc\n",
      "roc_area = pd.DataFrame(roc_area).T\n",
      "aupur = pd.DataFrame(aupur).T"
     ],
     "language": "python",
     "metadata": {},
     "outputs": [],
     "prompt_number": 10
    },
    {
     "cell_type": "code",
     "collapsed": false,
     "input": [
      "fig, axs = subplots(1,2, figsize=(10,3.5))\n",
      "ax = axs[0]\n",
      "roc_area.columns = ['m0','m1','m2','m3','m4','m5']\n",
      "roc_area.plot(kind='bar', legend=False, ax=ax)\n",
      "ax.legend(loc='lower left')\n",
      "ax.set_xticklabels([1,2,3,4,5], rotation=0)\n",
      "#ax.set_ylim(0.35,0.52)\n",
      "ax.set_ylabel('AUROC')\n",
      "ax.set_xlabel('Time (years)')\n",
      "prettify_ax(ax)\n",
      "\n",
      "ax = axs[1]\n",
      "aupur.columns = ['m0','m1','m2','m3','m4','m5']\n",
      "aupur.plot(kind='bar', legend=False, ax=ax)\n",
      "#ax.legend(loc='lower right')\n",
      "ax.set_xticklabels([1,2,3,4,5], rotation=0)\n",
      "#ax.set_ylim(0.5,0.72)\n",
      "ax.set_ylabel('AUPUR')\n",
      "ax.set_xlabel('Time (years)')\n",
      "prettify_ax(ax)\n",
      "fig.tight_layout()\n",
      "fig.savefig(FIGDIR + 'CV_supp_AUC.pdf')"
     ],
     "language": "python",
     "metadata": {},
     "outputs": [
      {
       "metadata": {},
       "output_type": "display_data",
       "png": "[encoded data removed]",
       "text": [
        "<matplotlib.figure.Figure at 0xb2312d0>"
       ]
      }
     ],
     "prompt_number": 11
    },
    {
     "cell_type": "code",
     "collapsed": false,
     "input": [
      "pd.concat([roc_area, aupur], axis=0, keys=['AUROC','AUPUR'])"
     ],
     "language": "python",
     "metadata": {},
     "outputs": [
      {
       "html": [
        "<div style=\"max-height:1000px;max-width:1500px;overflow:auto;\">\n",
        "<table border=\"1\" class=\"dataframe\">\n",
        "  <thead>\n",
        "    <tr style=\"text-align: right;\">\n",
        "      <th></th>\n",
        "      <th></th>\n",
        "      <th>m0</th>\n",
        "      <th>m1</th>\n",
        "      <th>m2</th>\n",
        "      <th>m3</th>\n",
        "      <th>m4</th>\n",
        "      <th>m5</th>\n",
        "    </tr>\n",
        "  </thead>\n",
        "  <tbody>\n",
        "    <tr>\n",
        "      <th rowspan=\"5\" valign=\"top\">AUROC</th>\n",
        "      <th>1</th>\n",
        "      <td> 0.19</td>\n",
        "      <td> 0.36</td>\n",
        "      <td> 0.32</td>\n",
        "      <td> 0.43</td>\n",
        "      <td> 0.43</td>\n",
        "      <td> 0.66</td>\n",
        "    </tr>\n",
        "    <tr>\n",
        "      <th>2</th>\n",
        "      <td> 0.13</td>\n",
        "      <td> 0.34</td>\n",
        "      <td> 0.34</td>\n",
        "      <td> 0.43</td>\n",
        "      <td> 0.49</td>\n",
        "      <td> 0.62</td>\n",
        "    </tr>\n",
        "    <tr>\n",
        "      <th>3</th>\n",
        "      <td> 0.14</td>\n",
        "      <td> 0.39</td>\n",
        "      <td> 0.36</td>\n",
        "      <td> 0.49</td>\n",
        "      <td> 0.68</td>\n",
        "      <td> 0.69</td>\n",
        "    </tr>\n",
        "    <tr>\n",
        "      <th>4</th>\n",
        "      <td> 0.16</td>\n",
        "      <td> 0.42</td>\n",
        "      <td> 0.40</td>\n",
        "      <td> 0.52</td>\n",
        "      <td> 0.69</td>\n",
        "      <td> 0.70</td>\n",
        "    </tr>\n",
        "    <tr>\n",
        "      <th>5</th>\n",
        "      <td> 0.19</td>\n",
        "      <td> 0.41</td>\n",
        "      <td> 0.41</td>\n",
        "      <td> 0.51</td>\n",
        "      <td> 0.71</td>\n",
        "      <td> 0.73</td>\n",
        "    </tr>\n",
        "    <tr>\n",
        "      <th rowspan=\"5\" valign=\"top\">AUPUR</th>\n",
        "      <th>1</th>\n",
        "      <td> 0.59</td>\n",
        "      <td> 0.74</td>\n",
        "      <td> 0.72</td>\n",
        "      <td> 0.78</td>\n",
        "      <td> 0.79</td>\n",
        "      <td> 0.86</td>\n",
        "    </tr>\n",
        "    <tr>\n",
        "      <th>2</th>\n",
        "      <td> 0.29</td>\n",
        "      <td> 0.48</td>\n",
        "      <td> 0.46</td>\n",
        "      <td> 0.55</td>\n",
        "      <td> 0.57</td>\n",
        "      <td> 0.66</td>\n",
        "    </tr>\n",
        "    <tr>\n",
        "      <th>3</th>\n",
        "      <td> 0.20</td>\n",
        "      <td> 0.39</td>\n",
        "      <td> 0.34</td>\n",
        "      <td> 0.47</td>\n",
        "      <td> 0.56</td>\n",
        "      <td> 0.61</td>\n",
        "    </tr>\n",
        "    <tr>\n",
        "      <th>4</th>\n",
        "      <td> 0.17</td>\n",
        "      <td> 0.34</td>\n",
        "      <td> 0.30</td>\n",
        "      <td> 0.43</td>\n",
        "      <td> 0.50</td>\n",
        "      <td> 0.54</td>\n",
        "    </tr>\n",
        "    <tr>\n",
        "      <th>5</th>\n",
        "      <td> 0.16</td>\n",
        "      <td> 0.28</td>\n",
        "      <td> 0.26</td>\n",
        "      <td> 0.34</td>\n",
        "      <td> 0.43</td>\n",
        "      <td> 0.52</td>\n",
        "    </tr>\n",
        "  </tbody>\n",
        "</table>\n",
        "</div>"
       ],
       "metadata": {},
       "output_type": "pyout",
       "prompt_number": 12,
       "text": [
        "           m0    m1    m2    m3    m4    m5\n",
        "AUROC 1  0.19  0.36  0.32  0.43  0.43  0.66\n",
        "      2  0.13  0.34  0.34  0.43  0.49  0.62\n",
        "      3  0.14  0.39  0.36  0.49  0.68  0.69\n",
        "      4  0.16  0.42  0.40  0.52  0.69  0.70\n",
        "      5  0.19  0.41  0.41  0.51  0.71  0.73\n",
        "AUPUR 1  0.59  0.74  0.72  0.78  0.79  0.86\n",
        "      2  0.29  0.48  0.46  0.55  0.57  0.66\n",
        "      3  0.20  0.39  0.34  0.47  0.56  0.61\n",
        "      4  0.17  0.34  0.30  0.43  0.50  0.54\n",
        "      5  0.16  0.28  0.26  0.34  0.43  0.52"
       ]
      }
     ],
     "prompt_number": 12
    },
    {
     "cell_type": "code",
     "collapsed": false,
     "input": [
      "fig, axs = subplots(1,2, figsize=(10,3.5))\n",
      "ax = axs[0]\n",
      "ct = pd.concat(error, axis=1).T\n",
      "ct.columns = ['m0','m1','m2','m3','m4','m5']\n",
      "ct.plot(kind='bar', legend=False, ax=ax)\n",
      "ax.legend(loc='lower left')\n",
      "ax.set_xticklabels([1,2,3,4,5], rotation=0)\n",
      "ax.set_ylim(0.35,0.52)\n",
      "ax.set_ylabel('Linear Prediction Error')\n",
      "ax.set_xlabel('Time (years)')\n",
      "prettify_ax(ax)\n",
      "\n",
      "ax = axs[1]\n",
      "ct = pd.concat(accuracy, axis=1).T\n",
      "ct.columns = ['m0','m1','m2','m3','m4','m5']\n",
      "ct.plot(kind='bar', legend=False, ax=ax)\n",
      "#ax.legend(loc='lower right')\n",
      "ax.set_xticklabels([1,2,3,4,5], rotation=0)\n",
      "ax.set_ylim(0.5,0.72)\n",
      "ax.set_ylabel('Weighted Accuracy')\n",
      "ax.set_xlabel('Time (years)')\n",
      "prettify_ax(ax)\n",
      "fig.tight_layout()\n",
      "fig.savefig(FIGDIR + 'CV_supp.pdf')"
     ],
     "language": "python",
     "metadata": {},
     "outputs": [
      {
       "metadata": {},
       "output_type": "display_data",
       "png": "[encoded data removed]",
       "text": [
        "<matplotlib.figure.Figure at 0xb28ea50>"
       ]
      }
     ],
     "prompt_number": 13
    },
    {
     "cell_type": "code",
     "collapsed": false,
     "input": [
      "ct1= pd.concat(accuracy, axis=1)\n",
      "ct2 = pd.concat(error, axis=1)\n",
      "ct = pd.concat([ct1, ct2], keys=['Weighted Accuracy', 'Linear Prediction Error'], axis=0)\n",
      "ct.columns = ['1y','2y','3y','4y','5y']\n",
      "ct.columns.name = 'Time Cutoff'\n",
      "ct"
     ],
     "language": "python",
     "metadata": {},
     "outputs": [
      {
       "html": [
        "<div style=\"max-height:1000px;max-width:1500px;overflow:auto;\">\n",
        "<table border=\"1\" class=\"dataframe\">\n",
        "  <thead>\n",
        "    <tr style=\"text-align: right;\">\n",
        "      <th></th>\n",
        "      <th>Time Cutoff</th>\n",
        "      <th>1y</th>\n",
        "      <th>2y</th>\n",
        "      <th>3y</th>\n",
        "      <th>4y</th>\n",
        "      <th>5y</th>\n",
        "    </tr>\n",
        "  </thead>\n",
        "  <tbody>\n",
        "    <tr>\n",
        "      <th rowspan=\"6\" valign=\"top\">Weighted Accuracy</th>\n",
        "      <th>1</th>\n",
        "      <td> 0.56</td>\n",
        "      <td> 0.52</td>\n",
        "      <td> 0.53</td>\n",
        "      <td> 0.54</td>\n",
        "      <td> 0.58</td>\n",
        "    </tr>\n",
        "    <tr>\n",
        "      <th>TP53</th>\n",
        "      <td> 0.20</td>\n",
        "      <td> 0.60</td>\n",
        "      <td> 0.60</td>\n",
        "      <td> 0.62</td>\n",
        "      <td> 0.63</td>\n",
        "    </tr>\n",
        "    <tr>\n",
        "      <th>3p</th>\n",
        "      <td> 0.58</td>\n",
        "      <td> 0.60</td>\n",
        "      <td> 0.63</td>\n",
        "      <td> 0.64</td>\n",
        "      <td> 0.62</td>\n",
        "    </tr>\n",
        "    <tr>\n",
        "      <th>TP53 + 3p</th>\n",
        "      <td> 0.61</td>\n",
        "      <td> 0.63</td>\n",
        "      <td> 0.67</td>\n",
        "      <td> 0.68</td>\n",
        "      <td> 0.67</td>\n",
        "    </tr>\n",
        "    <tr>\n",
        "      <th>TP53 + 3p + TP53:3p</th>\n",
        "      <td> 0.56</td>\n",
        "      <td> 0.63</td>\n",
        "      <td> 0.66</td>\n",
        "      <td> 0.64</td>\n",
        "      <td> 0.66</td>\n",
        "    </tr>\n",
        "    <tr>\n",
        "      <th>TP53 + 3p + pct_del + TP53:3p + TP53:pct_del</th>\n",
        "      <td> 0.63</td>\n",
        "      <td> 0.62</td>\n",
        "      <td> 0.69</td>\n",
        "      <td> 0.68</td>\n",
        "      <td> 0.71</td>\n",
        "    </tr>\n",
        "    <tr>\n",
        "      <th rowspan=\"6\" valign=\"top\">Linear Prediction Error</th>\n",
        "      <th>1</th>\n",
        "      <td> 0.49</td>\n",
        "      <td> 0.50</td>\n",
        "      <td> 0.50</td>\n",
        "      <td> 0.50</td>\n",
        "      <td> 0.48</td>\n",
        "    </tr>\n",
        "    <tr>\n",
        "      <th>TP53</th>\n",
        "      <td> 0.49</td>\n",
        "      <td> 0.48</td>\n",
        "      <td> 0.47</td>\n",
        "      <td> 0.46</td>\n",
        "      <td> 0.45</td>\n",
        "    </tr>\n",
        "    <tr>\n",
        "      <th>3p</th>\n",
        "      <td> 0.46</td>\n",
        "      <td> 0.47</td>\n",
        "      <td> 0.44</td>\n",
        "      <td> 0.44</td>\n",
        "      <td> 0.45</td>\n",
        "    </tr>\n",
        "    <tr>\n",
        "      <th>TP53 + 3p</th>\n",
        "      <td> 0.46</td>\n",
        "      <td> 0.46</td>\n",
        "      <td> 0.43</td>\n",
        "      <td> 0.42</td>\n",
        "      <td> 0.44</td>\n",
        "    </tr>\n",
        "    <tr>\n",
        "      <th>TP53 + 3p + TP53:3p</th>\n",
        "      <td> 0.47</td>\n",
        "      <td> 0.46</td>\n",
        "      <td> 0.43</td>\n",
        "      <td> 0.42</td>\n",
        "      <td> 0.43</td>\n",
        "    </tr>\n",
        "    <tr>\n",
        "      <th>TP53 + 3p + pct_del + TP53:3p + TP53:pct_del</th>\n",
        "      <td> 0.45</td>\n",
        "      <td> 0.45</td>\n",
        "      <td> 0.42</td>\n",
        "      <td> 0.41</td>\n",
        "      <td> 0.40</td>\n",
        "    </tr>\n",
        "  </tbody>\n",
        "</table>\n",
        "</div>"
       ],
       "metadata": {},
       "output_type": "pyout",
       "prompt_number": 14,
       "text": [
        "Time Cutoff                                                             1y    2y    3y    4y    5y\n",
        "Weighted Accuracy       1                                             0.56  0.52  0.53  0.54  0.58\n",
        "                        TP53                                          0.20  0.60  0.60  0.62  0.63\n",
        "                        3p                                            0.58  0.60  0.63  0.64  0.62\n",
        "                        TP53 + 3p                                     0.61  0.63  0.67  0.68  0.67\n",
        "                        TP53 + 3p + TP53:3p                           0.56  0.63  0.66  0.64  0.66\n",
        "                        TP53 + 3p + pct_del + TP53:3p + TP53:pct_del  0.63  0.62  0.69  0.68  0.71\n",
        "Linear Prediction Error 1                                             0.49  0.50  0.50  0.50  0.48\n",
        "                        TP53                                          0.49  0.48  0.47  0.46  0.45\n",
        "                        3p                                            0.46  0.47  0.44  0.44  0.45\n",
        "                        TP53 + 3p                                     0.46  0.46  0.43  0.42  0.44\n",
        "                        TP53 + 3p + TP53:3p                           0.47  0.46  0.43  0.42  0.43\n",
        "                        TP53 + 3p + pct_del + TP53:3p + TP53:pct_del  0.45  0.45  0.42  0.41  0.40"
       ]
      }
     ],
     "prompt_number": 14
    },
    {
     "cell_type": "heading",
     "level": 3,
     "metadata": {},
     "source": [
      "Analysis of top model with full censored data "
     ]
    },
    {
     "cell_type": "markdown",
     "metadata": {},
     "source": [
      "First we test two hypotheses:  \n",
      "* Does the model imporove on an additive model of TP53, 3p and age (we would include deletion rate as well but this was dropped in model selection)  \n",
      "* Does the addition of the TP53-3p interaction term improve the fit of the model (drop-1 test)"
     ]
    },
    {
     "cell_type": "code",
     "collapsed": false,
     "input": [
      "fmla0 = 'Surv(days, event) ~ TP53 + del_3p + old'\n",
      "fmla1 = 'Surv(days, event) ~ TP53 + del_3p + pct_del + TP53:pct_del + old'\n",
      "fmla2 = 'Surv(days, event) ~ TP53 + del_3p + pct_del + two_hit + TP53:pct_del + old'\n",
      "\n",
      "m0 = get_cox_ph(surv, covariates=[p53_mut, del_3p < 0, two_hit, old, age, pct_del], formula=fmla0)\n",
      "m1 = get_cox_ph(surv, covariates=[p53_mut, del_3p < 0, two_hit, old, age, pct_del], formula=fmla1)\n",
      "m2 = get_cox_ph(surv, covariates=[p53_mut, del_3p < 0, two_hit, old, age, pct_del], formula=fmla2)\n",
      "LR_test(m2,m0), LR_test(m2, m1)"
     ],
     "language": "python",
     "metadata": {},
     "outputs": [
      {
       "metadata": {},
       "output_type": "pyout",
       "prompt_number": 15,
       "text": [
        "(0.016999296949315183, 0.022793238361218802)"
       ]
      }
     ],
     "prompt_number": 15
    },
    {
     "cell_type": "markdown",
     "metadata": {},
     "source": [
      "Here is the full model"
     ]
    },
    {
     "cell_type": "code",
     "collapsed": false,
     "input": [
      "get_cox_ph(surv, covariates=[p53_mut, del_3p < 0, two_hit, old, age, pct_del], \n",
      "           formula=fmla2, print_desc=True);"
     ],
     "language": "python",
     "metadata": {},
     "outputs": [
      {
       "output_type": "stream",
       "stream": "stdout",
       "text": [
        "\n",
        "               coef exp(coef) se(coef)     z      p\n",
        "TP53         -0.568     0.567   0.3940 -1.44 0.1500\n",
        "del_3p       -0.693     0.500   0.5359 -1.29 0.2000\n",
        "pct_del       0.222     1.249   0.1434  1.55 0.1200\n",
        "two_hit       1.411     4.100   0.6665  2.12 0.0340\n",
        "old           0.281     1.325   0.0868  3.24 0.0012\n",
        "TP53:pct_del -0.631     0.532   0.2130 -2.96 0.0030\n",
        "\n",
        "Likelihood ratio test=41.3  on 6 df, p=2.48e-07  n= 250, number of events= 102 \n",
        "\n"
       ]
      }
     ],
     "prompt_number": 16
    },
    {
     "cell_type": "markdown",
     "metadata": {},
     "source": [
      "Forest plots of the models"
     ]
    },
    {
     "cell_type": "code",
     "collapsed": false,
     "input": [
      "fig, axs = subplots(3,1, figsize=(6,5), sharex=True)\n",
      "\n",
      "ax = axs[0]\n",
      "ci = convert_robj(robjects.r.summary(m0)[7])\n",
      "haz = ci['exp(coef)']\n",
      "for j,h in enumerate(haz):\n",
      "    ax.scatter(h, j, marker='s', s=100, color='grey', \n",
      "               edgecolors=['black'], zorder=10)\n",
      "    ax.plot(*zip(*((ci.iloc[j]['lower .95'],j), (ci.iloc[j]['upper .95'],j))), \n",
      "            lw=3, ls='-', marker='o', dash_joinstyle='bevel', color='grey')\n",
      "ax.axvline(1, ls='--', color='black')\n",
      "ax.set_xbound(.5,3.5)\n",
      "ax.set_ybound(-.5,len(ci.index) - .5)\n",
      "\n",
      "ax.set_yticks(range(len(ci.index)))\n",
      "ax.set_yticklabels(ci.index)\n",
      "\n",
      "ax = axs[1]\n",
      "ci = convert_robj(robjects.r.summary(m1)[7])\n",
      "ci = ci.ix[['TP53','del_3p','pct_del','TP53:pct_del']][::-1]\n",
      "haz = ci['exp(coef)']\n",
      "for j,h in enumerate(haz):\n",
      "    ax.scatter(h, j, marker='s', s=100, color='grey', \n",
      "               edgecolors=['black'], zorder=10)\n",
      "    ax.plot(*zip(*((ci.iloc[j]['lower .95'],j), (ci.iloc[j]['upper .95'],j))), \n",
      "            lw=3, ls='-', marker='o', dash_joinstyle='bevel', color='grey')\n",
      "ax.axvline(1, ls='--', color='black')\n",
      "ax.set_xbound(.5,3.5)\n",
      "ax.set_ybound(-.5,len(ci.index) - .5)\n",
      "ax.set_yticks(range(len(ci.index)))\n",
      "ax.set_yticklabels(ci.index)\n",
      "\n",
      "ax = axs[2]\n",
      "ci = convert_robj(robjects.r.summary(m2)[7])\n",
      "ci = ci.ix[['TP53','del_3p','pct_del','TP53:pct_del','two_hit']][::-1]\n",
      "haz = ci['exp(coef)']\n",
      "for j,h in enumerate(haz):\n",
      "    ax.scatter(h, j, marker='s', s=100, color='grey', \n",
      "               edgecolors=['black'], zorder=10)\n",
      "    ax.plot(*zip(*((ci.iloc[j]['lower .95'],j), (ci.iloc[j]['upper .95'],j))), \n",
      "            lw=3, ls='-', marker='o', dash_joinstyle='bevel', color='grey')\n",
      "ax.axvline(1, ls='--', color='black')\n",
      "ax.set_xbound(.5,3.5)\n",
      "ax.set_ybound(-.5,len(ci.index) - .5)\n",
      "\n",
      "ax.set_yticks(range(len(ci.index)))\n",
      "ax.set_yticklabels(ci.index)\n",
      "\n",
      "for ax in axs:\n",
      "    prettify_ax(ax)\n",
      "    ax.set_xscale('log')\n",
      "    ax.set_xticks([.25, .5, 1, 1.5, 2, 4,8,16])\n",
      "    ax.set_xticklabels([.25, .5, 1, 1.5, 2, 4,8,16])\n",
      "ax.set_xlabel('Hazard Ratio')\n",
      "ax.set_xbound(.15, 17)    \n",
      "fig.tight_layout()"
     ],
     "language": "python",
     "metadata": {},
     "outputs": [
      {
       "metadata": {},
       "output_type": "display_data",
       "png": "[encoded data removed]",
       "text": [
        "<matplotlib.figure.Figure at 0x81ae0d0>"
       ]
      }
     ],
     "prompt_number": 17
    }
   ],
   "metadata": {}
  }
 ]
}