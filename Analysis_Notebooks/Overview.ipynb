{
 "metadata": {
  "name": "",
  "signature": "sha256:a49708d43d0b847d91e6243c734663cfb7b6b640d56b234c93d9134896cc5907"
 },
 "nbformat": 3,
 "nbformat_minor": 0,
 "worksheets": [
  {
   "cells": [
    {
     "cell_type": "markdown",
     "metadata": {},
     "source": [
      "<h1 class=\"alert alert-info\">Source Code Overview </h1>"
     ]
    },
    {
     "cell_type": "markdown",
     "metadata": {},
     "source": [
      "<html>\n",
      "<style>\n",
      "@font-face {\n",
      "    font-family: \"Computer Modern\";\n",
      "    src: url('http://mirrors.ctan.org/fonts/cm-unicode/fonts/otf/cmunss.otf');\n",
      "}\n",
      "div.cell{\n",
      "    width:900px;\n",
      "    margin-left:auto;\n",
      "    margin-right:auto;\n",
      "}\n",
      "h1, h2, h3, h4 {\n",
      "    font-family: Helvetica, serif;\n",
      "    color: #000000;\n",
      "}\n",
      "div.text_cell_render {\n",
      "    font-family: Computer Modern, \"Helvetica Neue\", Arial, Helvetica, Geneva, sans-serif;\n",
      "    line-height: 125%;\n",
      "    font-size: 115%;\n",
      "    color: #4d4d4d;\n",
      "    width:800px;\n",
      "    margin-left:0px;\n",
      "    margin-right:auto;\n",
      "}\n",
      "\n",
      ".warning{\n",
      "    color: rgb( 240, 20, 20 )\n",
      "    }  \n",
      "</style>\n",
      "</html>"
     ]
    },
    {
     "cell_type": "markdown",
     "metadata": {},
     "source": [
      "In the aim of transparency, we have attempted to make the full data processing and analysis pipeline available along with the manuscript.  \n",
      "\n",
      "All data-retrieval and processing steps are documented in a series of IPython notebooks available along with source code online at (https://github.com/theandygross/TCGA).  These notebooks provide fully executable instructions for reproduction of the analyses and generation of figures and statistics for this study.  \n",
      "\n",
      "In addition, we have included notebook printouts of the high level analyses to allow for basic inspection of the data analysis pipeline.  These include the API calls as well as comments, tables, and figures for the production of all analyses in this manuscript. While these are HTML pages, and thus not executable, we encourage downloading the full software repository to allow for full repoduction of our results.\n",
      "\n",
      "For an overview of the various notebooks contained in the printouts folder please see the README.html files. "
     ]
    }
   ],
   "metadata": {}
  }
 ]
}