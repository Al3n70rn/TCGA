{
 "metadata": {
  "name": "",
  "signature": "sha256:ebad8fd0aa49592218bdb22ca6b31031dc0e16b2f86bf13322e5b7971b9b430f"
 },
 "nbformat": 3,
 "nbformat_minor": 0,
 "worksheets": [
  {
   "cells": [
    {
     "cell_type": "heading",
     "level": 1,
     "metadata": {},
     "source": [
      "TCGA HNSCC Molecular Validation Cohort"
     ]
    },
    {
     "cell_type": "markdown",
     "metadata": {},
     "source": [
      "Here we analyze the TCGA HNSCC molecular validation cohort.  This depends on data generated in the [new_data_process_HNSCC](./new_data_process_HNSCC.ipynb) analysis notebook. "
     ]
    },
    {
     "cell_type": "code",
     "collapsed": false,
     "input": [
      "%pylab inline"
     ],
     "language": "python",
     "metadata": {},
     "outputs": [
      {
       "output_type": "stream",
       "stream": "stdout",
       "text": [
        "Populating the interactive namespace from numpy and matplotlib\n"
       ]
      }
     ],
     "prompt_number": 1
    },
    {
     "cell_type": "code",
     "collapsed": false,
     "input": [
      "cd ../src/"
     ],
     "language": "python",
     "metadata": {},
     "outputs": [
      {
       "output_type": "stream",
       "stream": "stdout",
       "text": [
        "/cellar/users/agross/TCGA_Code/TCGA/src\n"
       ]
      }
     ],
     "prompt_number": 2
    },
    {
     "cell_type": "code",
     "collapsed": false,
     "input": [
      "from Processing.Imports import *"
     ],
     "language": "python",
     "metadata": {},
     "outputs": [],
     "prompt_number": 3
    },
    {
     "cell_type": "markdown",
     "metadata": {},
     "source": [
      "Read in TCGA Clinical Cohort Data"
     ]
    },
    {
     "cell_type": "code",
     "collapsed": false,
     "input": [
      "params = pd.read_table('../global_params.txt', header=None, squeeze=True, \n",
      "                       index_col=0)\n",
      "\n",
      "run_path  = '{}/Firehose__{}/'.format(params.ix['OUT_PATH'], params.ix['RUN_DATE'])\n",
      "run = get_run(run_path, 'Run_' + params.ix['VERSION'])\n",
      "cancer = run.load_cancer(params.ix['CANCER'])\n",
      "clinical = cancer.load_clinical()\n",
      "\n",
      "cn = cancer.load_data('CN_broad')\n",
      "cn.uncompress()\n",
      "mut = cancer.load_data('Mutation')\n",
      "mut.uncompress()\n",
      "\n",
      "rna = pickle.load(open(cancer.path + '/mRNASeq/store/no_hpv.p', 'rb'))\n",
      "mirna = pickle.load(open(cancer.path + '/miRNASeq/store/no_hpv.p', 'rb'))"
     ],
     "language": "python",
     "metadata": {},
     "outputs": [],
     "prompt_number": 4
    },
    {
     "cell_type": "code",
     "collapsed": false,
     "input": [
      "clinical_processed = clinical.processed\n",
      "clinical_processed['year'] = clinical_processed.year == 'post_2000'\n",
      "hpv_inferred = clinical_processed.hpv_inferred.astype(int)\n",
      "surv = clinical.survival.survival_5y\n",
      "age = clinical.clinical.age.astype(float)\n",
      "old = pd.Series(1.*(age>=75), name='old')"
     ],
     "language": "python",
     "metadata": {},
     "outputs": [],
     "prompt_number": 5
    },
    {
     "cell_type": "code",
     "collapsed": false,
     "input": [
      "pats = [true_index(hpv_inferred == 0), mut.features.columns, cn.features.columns,\n",
      "        surv.unstack().index, rna.features.columns, mirna.features.columns,\n",
      "        true_index(age < 85)]\n",
      "keepers_o = reduce(set.intersection, map(set, pats))\n",
      "keepers_o = pd.Index(keepers_o)\n",
      "len(keepers_o)"
     ],
     "language": "python",
     "metadata": {},
     "outputs": [
      {
       "metadata": {},
       "output_type": "pyout",
       "prompt_number": 6,
       "text": [
        "251"
       ]
      }
     ],
     "prompt_number": 6
    },
    {
     "cell_type": "code",
     "collapsed": false,
     "input": [
      "del_3p = cn.features.ix['Deletion'].ix['3p14.2'].iloc[0]\n",
      "del_3p.name = '3p_deletion'"
     ],
     "language": "python",
     "metadata": {},
     "outputs": [],
     "prompt_number": 7
    },
    {
     "cell_type": "markdown",
     "metadata": {},
     "source": [
      "Read in TCGA HNSCCC Molecular Validation Calls"
     ]
    },
    {
     "cell_type": "code",
     "collapsed": false,
     "input": [
      "mut_new = pd.read_csv('../Extra_Data/HNSCC_molecular_validation_matrix.csv', index_col=0)"
     ],
     "language": "python",
     "metadata": {},
     "outputs": [],
     "prompt_number": 8
    },
    {
     "cell_type": "code",
     "collapsed": false,
     "input": [
      "mut_old = mut.df.ix[mut_new.index, mut_new.columns].dropna([0,1], how='all')\n",
      "ct = pd.crosstab(mut_new.stack()>0, mut_old.stack()>0)\n",
      "ct.index.name, ct.columns.name = 'new','old'\n",
      "ct"
     ],
     "language": "python",
     "metadata": {},
     "outputs": [
      {
       "html": [
        "<div style=\"max-height:1000px;max-width:1500px;overflow:auto;\">\n",
        "<table border=\"1\" class=\"dataframe\">\n",
        "  <thead>\n",
        "    <tr style=\"text-align: right;\">\n",
        "      <th>old</th>\n",
        "      <th>False</th>\n",
        "      <th>True</th>\n",
        "    </tr>\n",
        "    <tr>\n",
        "      <th>new</th>\n",
        "      <th></th>\n",
        "      <th></th>\n",
        "    </tr>\n",
        "  </thead>\n",
        "  <tbody>\n",
        "    <tr>\n",
        "      <th>False</th>\n",
        "      <td> 4033</td>\n",
        "      <td>  33</td>\n",
        "    </tr>\n",
        "    <tr>\n",
        "      <th>True </th>\n",
        "      <td>   26</td>\n",
        "      <td> 276</td>\n",
        "    </tr>\n",
        "  </tbody>\n",
        "</table>\n",
        "<p>2 rows \u00d7 2 columns</p>\n",
        "</div>"
       ],
       "metadata": {},
       "output_type": "pyout",
       "prompt_number": 9,
       "text": [
        "old    False  True \n",
        "new                \n",
        "False   4033     33\n",
        "True      26    276\n",
        "\n",
        "[2 rows x 2 columns]"
       ]
      }
     ],
     "prompt_number": 9
    },
    {
     "cell_type": "heading",
     "level": 3,
     "metadata": {},
     "source": [
      "Benchmarking Against TCGA Calls"
     ]
    },
    {
     "cell_type": "markdown",
     "metadata": {},
     "source": [
      "We get 89% sensitivity."
     ]
    },
    {
     "cell_type": "code",
     "collapsed": false,
     "input": [
      "1.*ct.ix[True, True]  / (ct[True].sum())"
     ],
     "language": "python",
     "metadata": {},
     "outputs": [
      {
       "metadata": {},
       "output_type": "pyout",
       "prompt_number": 10,
       "text": [
        "0.89320388349514568"
       ]
      }
     ],
     "prompt_number": 10
    },
    {
     "cell_type": "markdown",
     "metadata": {},
     "source": [
      "We get 99.4% specificity."
     ]
    },
    {
     "cell_type": "code",
     "collapsed": false,
     "input": [
      "1.*ct.ix[False, False]  / (ct[False].sum())"
     ],
     "language": "python",
     "metadata": {},
     "outputs": [
      {
       "metadata": {},
       "output_type": "pyout",
       "prompt_number": 11,
       "text": [
        "0.99359448139935946"
       ]
      }
     ],
     "prompt_number": 11
    },
    {
     "cell_type": "markdown",
     "metadata": {},
     "source": [
      "Interestingly, when we look at the TP53-3p aggregate event, patients with TP53 called in both the working group variant calls and my re-analysis do worse than those called by either analysis alone. "
     ]
    },
    {
     "cell_type": "code",
     "collapsed": false,
     "input": [
      "c_new = combine(del_3p < 0, mut_new.ix['TP53']>0).ix[keepers_o].dropna()\n",
      "c_old = combine(del_3p < 0, mut_old.ix['TP53']>0).ix[keepers_o].dropna()\n",
      "survival_and_stats(combine(c_new=='both', c_old=='both'), \n",
      "                   surv)"
     ],
     "language": "python",
     "metadata": {},
     "outputs": [
      {
       "metadata": {},
       "output_type": "display_data",
       "png": "[encoded data removed]",
       "text": [
        "<matplotlib.figure.Figure at 0x92a84d0>"
       ]
      }
     ],
     "prompt_number": 12
    },
    {
     "cell_type": "heading",
     "level": 2,
     "metadata": {},
     "source": [
      "Validation of Molecular Associations in Recent TCGA Patients"
     ]
    },
    {
     "cell_type": "code",
     "collapsed": false,
     "input": [
      "mut_all = mut.df.combine_first(mut_new)\n",
      "\n",
      "clinical_cohort = mut.df.columns\n",
      "molecular_cohort = mut_new.columns.diff(mut.features.columns)\n",
      "hpv_neg_cohort = mut_all.columns.intersection(true_index(hpv_inferred == 0))\n",
      "molecular_cohort_n = molecular_cohort.intersection(hpv_neg_cohort)"
     ],
     "language": "python",
     "metadata": {},
     "outputs": [],
     "prompt_number": 13
    },
    {
     "cell_type": "heading",
     "level": 3,
     "metadata": {},
     "source": [
      "TP53 is mutually exclusive with HPV status"
     ]
    },
    {
     "cell_type": "markdown",
     "metadata": {},
     "source": [
      "This association is very significnat but weaking in the validation data.  This could be because of less acurate mutation calls, or less accurate HPV status assignment as most of these patients' HPV statuses were inferred from the expression data."
     ]
    },
    {
     "cell_type": "code",
     "collapsed": false,
     "input": [
      "cohorts = {'Discovery': clinical_cohort, 'Validation': molecular_cohort, 'All': mut_all.columns}"
     ],
     "language": "python",
     "metadata": {},
     "outputs": [],
     "prompt_number": 14
    },
    {
     "cell_type": "code",
     "collapsed": false,
     "input": [
      "ct = pd.concat({c: combine(clinical.hpv_inferred, mut_all.ix['TP53'].ix[s]>0).value_counts()\n",
      "                for c,s in cohorts.iteritems()}, axis=1)\n",
      "ct.ix[['neither','HPV','TP53','both'],['Discovery','Validation','All']]"
     ],
     "language": "python",
     "metadata": {},
     "outputs": [
      {
       "html": [
        "<div style=\"max-height:1000px;max-width:1500px;overflow:auto;\">\n",
        "<table border=\"1\" class=\"dataframe\">\n",
        "  <thead>\n",
        "    <tr style=\"text-align: right;\">\n",
        "      <th></th>\n",
        "      <th>Discovery</th>\n",
        "      <th>Validation</th>\n",
        "      <th>All</th>\n",
        "    </tr>\n",
        "  </thead>\n",
        "  <tbody>\n",
        "    <tr>\n",
        "      <th>neither</th>\n",
        "      <td>  53</td>\n",
        "      <td> 28</td>\n",
        "      <td>  81</td>\n",
        "    </tr>\n",
        "    <tr>\n",
        "      <th>HPV</th>\n",
        "      <td>  40</td>\n",
        "      <td> 14</td>\n",
        "      <td>  54</td>\n",
        "    </tr>\n",
        "    <tr>\n",
        "      <th>TP53</th>\n",
        "      <td> 212</td>\n",
        "      <td> 85</td>\n",
        "      <td> 297</td>\n",
        "    </tr>\n",
        "    <tr>\n",
        "      <th>both</th>\n",
        "      <td>   1</td>\n",
        "      <td>  3</td>\n",
        "      <td>   4</td>\n",
        "    </tr>\n",
        "  </tbody>\n",
        "</table>\n",
        "<p>4 rows \u00d7 3 columns</p>\n",
        "</div>"
       ],
       "metadata": {},
       "output_type": "pyout",
       "prompt_number": 15,
       "text": [
        "         Discovery  Validation  All\n",
        "neither         53          28   81\n",
        "HPV             40          14   54\n",
        "TP53           212          85  297\n",
        "both             1           3    4\n",
        "\n",
        "[4 rows x 3 columns]"
       ]
      }
     ],
     "prompt_number": 15
    },
    {
     "cell_type": "code",
     "collapsed": false,
     "input": [
      "stats = pd.concat({c: fisher_exact_test(clinical.hpv_inferred, mut_all.ix['TP53'].ix[s]>0)\n",
      "                  for c,s in cohorts.iteritems()}, axis=1)\n",
      "stats[['Discovery','Validation','All']]"
     ],
     "language": "python",
     "metadata": {},
     "outputs": [
      {
       "html": [
        "<div style=\"max-height:1000px;max-width:1500px;overflow:auto;\">\n",
        "<table border=\"1\" class=\"dataframe\">\n",
        "  <thead>\n",
        "    <tr style=\"text-align: right;\">\n",
        "      <th></th>\n",
        "      <th>Discovery</th>\n",
        "      <th>Validation</th>\n",
        "      <th>All</th>\n",
        "    </tr>\n",
        "  </thead>\n",
        "  <tbody>\n",
        "    <tr>\n",
        "      <th>odds_ratio</th>\n",
        "      <td> 6.25e-03</td>\n",
        "      <td> 7.06e-02</td>\n",
        "      <td> 2.02e-02</td>\n",
        "    </tr>\n",
        "    <tr>\n",
        "      <th>p</th>\n",
        "      <td> 4.79e-23</td>\n",
        "      <td> 7.60e-06</td>\n",
        "      <td> 6.96e-27</td>\n",
        "    </tr>\n",
        "  </tbody>\n",
        "</table>\n",
        "<p>2 rows \u00d7 3 columns</p>\n",
        "</div>"
       ],
       "metadata": {},
       "output_type": "pyout",
       "prompt_number": 16,
       "text": [
        "            Discovery  Validation       All\n",
        "odds_ratio   6.25e-03    7.06e-02  2.02e-02\n",
        "p            4.79e-23    7.60e-06  6.96e-27\n",
        "\n",
        "[2 rows x 3 columns]"
       ]
      }
     ],
     "prompt_number": 16
    },
    {
     "cell_type": "heading",
     "level": 3,
     "metadata": {},
     "source": [
      "TP53 mutation and 3p deletion have high co-occurance"
     ]
    },
    {
     "cell_type": "markdown",
     "metadata": {},
     "source": [
      "Note that the HPV- cohort contains a couple of the patients in original TCGA analysis set that were filtered out due to missing data or old age.  "
     ]
    },
    {
     "cell_type": "code",
     "collapsed": false,
     "input": [
      "cohorts = {'Discovery': keepers_o, 'Validation': molecular_cohort_n, 'HPV-': hpv_neg_cohort}"
     ],
     "language": "python",
     "metadata": {},
     "outputs": [],
     "prompt_number": 17
    },
    {
     "cell_type": "code",
     "collapsed": false,
     "input": [
      "ct = pd.concat({c: combine(mut_all.ix['TP53'].ix[s]>0, del_3p<0).value_counts()\n",
      "                for c,s in cohorts.iteritems()}, axis=1)\n",
      "ct.ix[['neither','3p_deletion','TP53','both'],['Discovery','Validation','HPV-']]"
     ],
     "language": "python",
     "metadata": {},
     "outputs": [
      {
       "html": [
        "<div style=\"max-height:1000px;max-width:1500px;overflow:auto;\">\n",
        "<table border=\"1\" class=\"dataframe\">\n",
        "  <thead>\n",
        "    <tr style=\"text-align: right;\">\n",
        "      <th></th>\n",
        "      <th>Discovery</th>\n",
        "      <th>Validation</th>\n",
        "      <th>HPV-</th>\n",
        "    </tr>\n",
        "  </thead>\n",
        "  <tbody>\n",
        "    <tr>\n",
        "      <th>neither</th>\n",
        "      <td>  22</td>\n",
        "      <td> 18</td>\n",
        "      <td>  42</td>\n",
        "    </tr>\n",
        "    <tr>\n",
        "      <th>3p_deletion</th>\n",
        "      <td>  27</td>\n",
        "      <td> 10</td>\n",
        "      <td>  37</td>\n",
        "    </tr>\n",
        "    <tr>\n",
        "      <th>TP53</th>\n",
        "      <td>  23</td>\n",
        "      <td> 17</td>\n",
        "      <td>  42</td>\n",
        "    </tr>\n",
        "    <tr>\n",
        "      <th>both</th>\n",
        "      <td> 179</td>\n",
        "      <td> 66</td>\n",
        "      <td> 251</td>\n",
        "    </tr>\n",
        "  </tbody>\n",
        "</table>\n",
        "<p>4 rows \u00d7 3 columns</p>\n",
        "</div>"
       ],
       "metadata": {},
       "output_type": "pyout",
       "prompt_number": 18,
       "text": [
        "             Discovery  Validation  HPV-\n",
        "neither             22          18    42\n",
        "3p_deletion         27          10    37\n",
        "TP53                23          17    42\n",
        "both               179          66   251\n",
        "\n",
        "[4 rows x 3 columns]"
       ]
      }
     ],
     "prompt_number": 18
    },
    {
     "cell_type": "code",
     "collapsed": false,
     "input": [
      "stats = pd.concat({c: fisher_exact_test(mut_all.ix['TP53'].ix[s]>0, del_3p<0)\n",
      "                  for c,s in cohorts.iteritems()}, axis=1)\n",
      "stats[['Discovery','Validation','HPV-']]"
     ],
     "language": "python",
     "metadata": {},
     "outputs": [
      {
       "html": [
        "<div style=\"max-height:1000px;max-width:1500px;overflow:auto;\">\n",
        "<table border=\"1\" class=\"dataframe\">\n",
        "  <thead>\n",
        "    <tr style=\"text-align: right;\">\n",
        "      <th></th>\n",
        "      <th>Discovery</th>\n",
        "      <th>Validation</th>\n",
        "      <th>HPV-</th>\n",
        "    </tr>\n",
        "  </thead>\n",
        "  <tbody>\n",
        "    <tr>\n",
        "      <th>odds_ratio</th>\n",
        "      <td> 6.34e+00</td>\n",
        "      <td> 6.99e+00</td>\n",
        "      <td> 6.78e+00</td>\n",
        "    </tr>\n",
        "    <tr>\n",
        "      <th>p</th>\n",
        "      <td> 5.34e-07</td>\n",
        "      <td> 3.74e-05</td>\n",
        "      <td> 7.24e-12</td>\n",
        "    </tr>\n",
        "  </tbody>\n",
        "</table>\n",
        "<p>2 rows \u00d7 3 columns</p>\n",
        "</div>"
       ],
       "metadata": {},
       "output_type": "pyout",
       "prompt_number": 19,
       "text": [
        "            Discovery  Validation      HPV-\n",
        "odds_ratio   6.34e+00    6.99e+00  6.78e+00\n",
        "p            5.34e-07    3.74e-05  7.24e-12\n",
        "\n",
        "[2 rows x 3 columns]"
       ]
      }
     ],
     "prompt_number": 19
    },
    {
     "cell_type": "markdown",
     "metadata": {},
     "source": [
      "Here we show that 3p is has the highest association of any chromosomal segment with TP53 mutation in both training and discovery cohorts. "
     ]
    },
    {
     "cell_type": "code",
     "collapsed": false,
     "input": [
      "cn.features.index = cn.features.index.droplevel(2)\n",
      "r1 = screen_feature(mut_all.ix['TP53'].ix[molecular_cohort_n] > 0, fisher_exact_test, \n",
      "                    cn.features.ix['Deletion'] < 0)\n",
      "r2 = screen_feature(mut_all.ix['TP53'].ix[molecular_cohort_n] > 0, fisher_exact_test, \n",
      "                    cn.features.ix['Amplification'] > 0)\n",
      "\n",
      "r3 = screen_feature(mut_all.ix['TP53'].ix[keepers_o] > 0, fisher_exact_test, \n",
      "                    cn.features.ix['Deletion'] < 0)\n",
      "r4 = screen_feature(mut_all.ix['TP53'].ix[keepers_o] > 0, fisher_exact_test, \n",
      "                    cn.features.ix['Amplification'] > 0)"
     ],
     "language": "python",
     "metadata": {},
     "outputs": [],
     "prompt_number": 20
    },
    {
     "cell_type": "code",
     "collapsed": false,
     "input": [
      "v1 = pd.concat([r3, r1], keys=['Discovery','Validation'], axis=1).sort([('Discovery','p')])\n",
      "v2 = pd.concat([r4, r2], keys=['Discovery','Validation'], axis=1).sort([('Discovery','p')])\n",
      "v3 = pd.concat([v1.head(6), v2.head(6)], keys=['Deletion','Amplification'])\n",
      "v3.columns = v3.columns.swaplevel(0,1)\n",
      "v3 = v3.sort_index(axis=1)\n",
      "del v3['q']\n",
      "v3[('q','bonf')] = pd.concat([v3.p.Discovery['Deletion'] * len(r3), \n",
      "                              v3.p.Discovery['Amplification'] * len(r4)],\n",
      "                             keys=['Deletion','Amplification'])\n",
      "v3"
     ],
     "language": "python",
     "metadata": {},
     "outputs": [
      {
       "html": [
        "<div style=\"max-height:1000px;max-width:1500px;overflow:auto;\">\n",
        "<table border=\"1\" class=\"dataframe\">\n",
        "  <thead>\n",
        "    <tr>\n",
        "      <th></th>\n",
        "      <th></th>\n",
        "      <th colspan=\"2\" halign=\"left\">odds_ratio</th>\n",
        "      <th colspan=\"2\" halign=\"left\">p</th>\n",
        "      <th>q</th>\n",
        "    </tr>\n",
        "    <tr>\n",
        "      <th></th>\n",
        "      <th></th>\n",
        "      <th>Discovery</th>\n",
        "      <th>Validation</th>\n",
        "      <th>Discovery</th>\n",
        "      <th>Validation</th>\n",
        "      <th>bonf</th>\n",
        "    </tr>\n",
        "  </thead>\n",
        "  <tbody>\n",
        "    <tr>\n",
        "      <th rowspan=\"6\" valign=\"top\">Deletion</th>\n",
        "      <th>3p14.3</th>\n",
        "      <td> 6.34</td>\n",
        "      <td> 6.99</td>\n",
        "      <td> 5.34e-07</td>\n",
        "      <td> 3.74e-05</td>\n",
        "      <td> 2.56e-05</td>\n",
        "    </tr>\n",
        "    <tr>\n",
        "      <th>3p14.2</th>\n",
        "      <td> 6.34</td>\n",
        "      <td> 6.99</td>\n",
        "      <td> 5.34e-07</td>\n",
        "      <td> 3.74e-05</td>\n",
        "      <td> 2.56e-05</td>\n",
        "    </tr>\n",
        "    <tr>\n",
        "      <th>3p25.3</th>\n",
        "      <td> 5.73</td>\n",
        "      <td> 5.21</td>\n",
        "      <td> 7.73e-07</td>\n",
        "      <td> 3.94e-04</td>\n",
        "      <td> 3.71e-05</td>\n",
        "    </tr>\n",
        "    <tr>\n",
        "      <th>3p12.2</th>\n",
        "      <td> 4.88</td>\n",
        "      <td> 5.67</td>\n",
        "      <td> 7.98e-06</td>\n",
        "      <td> 1.89e-04</td>\n",
        "      <td> 3.83e-04</td>\n",
        "    </tr>\n",
        "    <tr>\n",
        "      <th>10p15.3</th>\n",
        "      <td> 4.10</td>\n",
        "      <td> 4.48</td>\n",
        "      <td> 4.17e-04</td>\n",
        "      <td> 1.57e-02</td>\n",
        "      <td> 2.00e-02</td>\n",
        "    </tr>\n",
        "    <tr>\n",
        "      <th>11q14.2</th>\n",
        "      <td> 3.93</td>\n",
        "      <td> 1.21</td>\n",
        "      <td> 7.13e-04</td>\n",
        "      <td> 8.16e-01</td>\n",
        "      <td> 3.42e-02</td>\n",
        "    </tr>\n",
        "    <tr>\n",
        "      <th rowspan=\"6\" valign=\"top\">Amplification</th>\n",
        "      <th>3q26.33</th>\n",
        "      <td> 6.06</td>\n",
        "      <td> 4.99</td>\n",
        "      <td> 1.53e-07</td>\n",
        "      <td> 5.37e-04</td>\n",
        "      <td> 3.98e-06</td>\n",
        "    </tr>\n",
        "    <tr>\n",
        "      <th>8q24.21</th>\n",
        "      <td> 4.08</td>\n",
        "      <td> 3.64</td>\n",
        "      <td> 5.14e-05</td>\n",
        "      <td> 1.29e-02</td>\n",
        "      <td> 1.34e-03</td>\n",
        "    </tr>\n",
        "    <tr>\n",
        "      <th>12p13.33</th>\n",
        "      <td> 3.30</td>\n",
        "      <td> 2.16</td>\n",
        "      <td> 1.68e-03</td>\n",
        "      <td> 3.01e-01</td>\n",
        "      <td> 4.36e-02</td>\n",
        "    </tr>\n",
        "    <tr>\n",
        "      <th>18p11.31</th>\n",
        "      <td> 2.68</td>\n",
        "      <td> 3.19</td>\n",
        "      <td> 1.14e-02</td>\n",
        "      <td> 7.56e-02</td>\n",
        "      <td> 2.96e-01</td>\n",
        "    </tr>\n",
        "    <tr>\n",
        "      <th>9p24.1</th>\n",
        "      <td> 0.41</td>\n",
        "      <td> 0.79</td>\n",
        "      <td> 1.48e-02</td>\n",
        "      <td> 6.24e-01</td>\n",
        "      <td> 3.84e-01</td>\n",
        "    </tr>\n",
        "    <tr>\n",
        "      <th>8q11.21</th>\n",
        "      <td> 2.04</td>\n",
        "      <td> 3.15</td>\n",
        "      <td> 3.33e-02</td>\n",
        "      <td> 1.67e-02</td>\n",
        "      <td> 8.66e-01</td>\n",
        "    </tr>\n",
        "  </tbody>\n",
        "</table>\n",
        "<p>12 rows \u00d7 5 columns</p>\n",
        "</div>"
       ],
       "metadata": {},
       "output_type": "pyout",
       "prompt_number": 21,
       "text": [
        "                        odds_ratio                      p                     q\n",
        "                         Discovery  Validation  Discovery  Validation      bonf\n",
        "Deletion      3p14.3          6.34        6.99   5.34e-07    3.74e-05  2.56e-05\n",
        "              3p14.2          6.34        6.99   5.34e-07    3.74e-05  2.56e-05\n",
        "              3p25.3          5.73        5.21   7.73e-07    3.94e-04  3.71e-05\n",
        "              3p12.2          4.88        5.67   7.98e-06    1.89e-04  3.83e-04\n",
        "              10p15.3         4.10        4.48   4.17e-04    1.57e-02  2.00e-02\n",
        "              11q14.2         3.93        1.21   7.13e-04    8.16e-01  3.42e-02\n",
        "Amplification 3q26.33         6.06        4.99   1.53e-07    5.37e-04  3.98e-06\n",
        "              8q24.21         4.08        3.64   5.14e-05    1.29e-02  1.34e-03\n",
        "              12p13.33        3.30        2.16   1.68e-03    3.01e-01  4.36e-02\n",
        "              18p11.31        2.68        3.19   1.14e-02    7.56e-02  2.96e-01\n",
        "              9p24.1          0.41        0.79   1.48e-02    6.24e-01  3.84e-01\n",
        "              8q11.21         2.04        3.15   3.33e-02    1.67e-02  8.66e-01\n",
        "\n",
        "[12 rows x 5 columns]"
       ]
      }
     ],
     "prompt_number": 21
    },
    {
     "cell_type": "heading",
     "level": 3,
     "metadata": {},
     "source": [
      "TP53-3p and CASP8 are Mutually Exclusive"
     ]
    },
    {
     "cell_type": "code",
     "collapsed": false,
     "input": [
      "combo_all = combine(mut_all.ix['TP53']>0, del_3p<0)\n",
      "two_hit = combo_all == 'both'\n",
      "two_hit.name = 'TP53-3p'"
     ],
     "language": "python",
     "metadata": {},
     "outputs": [],
     "prompt_number": 22
    },
    {
     "cell_type": "code",
     "collapsed": false,
     "input": [
      "ct = pd.concat({c: combine(two_hit, mut_all.ix['CASP8']).ix[s].value_counts()\n",
      "                for c,s in cohorts.iteritems()}, axis=1)\n",
      "ct.ix[['neither','CASP8','TP53-3p','both'],['Discovery','Validation','HPV-']]"
     ],
     "language": "python",
     "metadata": {},
     "outputs": [
      {
       "html": [
        "<div style=\"max-height:1000px;max-width:1500px;overflow:auto;\">\n",
        "<table border=\"1\" class=\"dataframe\">\n",
        "  <thead>\n",
        "    <tr style=\"text-align: right;\">\n",
        "      <th></th>\n",
        "      <th>Discovery</th>\n",
        "      <th>Validation</th>\n",
        "      <th>HPV-</th>\n",
        "    </tr>\n",
        "  </thead>\n",
        "  <tbody>\n",
        "    <tr>\n",
        "      <th>neither</th>\n",
        "      <td>  57</td>\n",
        "      <td> 28</td>\n",
        "      <td>  86</td>\n",
        "    </tr>\n",
        "    <tr>\n",
        "      <th>CASP8</th>\n",
        "      <td>  15</td>\n",
        "      <td> 13</td>\n",
        "      <td>  31</td>\n",
        "    </tr>\n",
        "    <tr>\n",
        "      <th>TP53-3p</th>\n",
        "      <td> 173</td>\n",
        "      <td> 64</td>\n",
        "      <td> 241</td>\n",
        "    </tr>\n",
        "    <tr>\n",
        "      <th>both</th>\n",
        "      <td>   6</td>\n",
        "      <td>  1</td>\n",
        "      <td>   9</td>\n",
        "    </tr>\n",
        "  </tbody>\n",
        "</table>\n",
        "<p>4 rows \u00d7 3 columns</p>\n",
        "</div>"
       ],
       "metadata": {},
       "output_type": "pyout",
       "prompt_number": 23,
       "text": [
        "         Discovery  Validation  HPV-\n",
        "neither         57          28    86\n",
        "CASP8           15          13    31\n",
        "TP53-3p        173          64   241\n",
        "both             6           1     9\n",
        "\n",
        "[4 rows x 3 columns]"
       ]
      }
     ],
     "prompt_number": 23
    },
    {
     "cell_type": "code",
     "collapsed": false,
     "input": [
      "stats = pd.concat({c: fisher_exact_test(two_hit.ix[s], mut_all.ix['CASP8']>0)\n",
      "                  for c,s in cohorts.iteritems()}, axis=1)\n",
      "stats[['Discovery','Validation','HPV-']]"
     ],
     "language": "python",
     "metadata": {},
     "outputs": [
      {
       "html": [
        "<div style=\"max-height:1000px;max-width:1500px;overflow:auto;\">\n",
        "<table border=\"1\" class=\"dataframe\">\n",
        "  <thead>\n",
        "    <tr style=\"text-align: right;\">\n",
        "      <th></th>\n",
        "      <th>Discovery</th>\n",
        "      <th>Validation</th>\n",
        "      <th>HPV-</th>\n",
        "    </tr>\n",
        "  </thead>\n",
        "  <tbody>\n",
        "    <tr>\n",
        "      <th>odds_ratio</th>\n",
        "      <td> 1.32e-01</td>\n",
        "      <td> 5.15e-02</td>\n",
        "      <td> 1.02e-01</td>\n",
        "    </tr>\n",
        "    <tr>\n",
        "      <th>p</th>\n",
        "      <td> 2.69e-05</td>\n",
        "      <td> 2.13e-06</td>\n",
        "      <td> 3.31e-11</td>\n",
        "    </tr>\n",
        "  </tbody>\n",
        "</table>\n",
        "<p>2 rows \u00d7 3 columns</p>\n",
        "</div>"
       ],
       "metadata": {},
       "output_type": "pyout",
       "prompt_number": 24,
       "text": [
        "            Discovery  Validation      HPV-\n",
        "odds_ratio   1.32e-01    5.15e-02  1.02e-01\n",
        "p            2.69e-05    2.13e-06  3.31e-11\n",
        "\n",
        "[2 rows x 3 columns]"
       ]
      }
     ],
     "prompt_number": 24
    },
    {
     "cell_type": "heading",
     "level": 3,
     "metadata": {},
     "source": [
      "TP53-3p and RAS/SOS1 Pathway are Mutually Exclusive"
     ]
    },
    {
     "cell_type": "code",
     "collapsed": false,
     "input": [
      "combo_all = combine(mut_all.ix['TP53']>0, del_3p<0)\n",
      "two_hit = combo_all == 'both'\n",
      "two_hit.name = 'TP53-3p'"
     ],
     "language": "python",
     "metadata": {},
     "outputs": [],
     "prompt_number": 25
    },
    {
     "cell_type": "code",
     "collapsed": false,
     "input": [
      "gs = run.gene_sets['REACTOME_SOS_MEDIATED_SIGNALLING']\n",
      "sos1_pathway = mut_new.ix[gs].sum()>0\n",
      "sos1_pathway.name = 'SOS1 Pathway'"
     ],
     "language": "python",
     "metadata": {},
     "outputs": [],
     "prompt_number": 26
    },
    {
     "cell_type": "code",
     "collapsed": false,
     "input": [
      "ct = pd.concat({c: combine(two_hit, sos1_pathway).ix[s].value_counts()\n",
      "                for c,s in cohorts.iteritems()}, axis=1)\n",
      "ct.ix[['neither','SOS1 Pathway','TP53-3p','both'],['Discovery','Validation','HPV-']]"
     ],
     "language": "python",
     "metadata": {},
     "outputs": [
      {
       "html": [
        "<div style=\"max-height:1000px;max-width:1500px;overflow:auto;\">\n",
        "<table border=\"1\" class=\"dataframe\">\n",
        "  <thead>\n",
        "    <tr style=\"text-align: right;\">\n",
        "      <th></th>\n",
        "      <th>Discovery</th>\n",
        "      <th>Validation</th>\n",
        "      <th>HPV-</th>\n",
        "    </tr>\n",
        "  </thead>\n",
        "  <tbody>\n",
        "    <tr>\n",
        "      <th>neither</th>\n",
        "      <td>  48</td>\n",
        "      <td> 27</td>\n",
        "      <td>  76</td>\n",
        "    </tr>\n",
        "    <tr>\n",
        "      <th>SOS1 Pathway</th>\n",
        "      <td>  17</td>\n",
        "      <td> 18</td>\n",
        "      <td>  38</td>\n",
        "    </tr>\n",
        "    <tr>\n",
        "      <th>TP53-3p</th>\n",
        "      <td> 151</td>\n",
        "      <td> 63</td>\n",
        "      <td> 219</td>\n",
        "    </tr>\n",
        "    <tr>\n",
        "      <th>both</th>\n",
        "      <td>  11</td>\n",
        "      <td>  3</td>\n",
        "      <td>  15</td>\n",
        "    </tr>\n",
        "  </tbody>\n",
        "</table>\n",
        "<p>4 rows \u00d7 3 columns</p>\n",
        "</div>"
       ],
       "metadata": {},
       "output_type": "pyout",
       "prompt_number": 27,
       "text": [
        "              Discovery  Validation  HPV-\n",
        "neither              48          27    76\n",
        "SOS1 Pathway         17          18    38\n",
        "TP53-3p             151          63   219\n",
        "both                 11           3    15\n",
        "\n",
        "[4 rows x 3 columns]"
       ]
      }
     ],
     "prompt_number": 27
    },
    {
     "cell_type": "code",
     "collapsed": false,
     "input": [
      "stats = pd.concat({c: fisher_exact_test(two_hit.ix[s],  sos1_pathway)\n",
      "                  for c,s in cohorts.iteritems()}, axis=1)\n",
      "stats[['Discovery','Validation','HPV-']]"
     ],
     "language": "python",
     "metadata": {},
     "outputs": [
      {
       "html": [
        "<div style=\"max-height:1000px;max-width:1500px;overflow:auto;\">\n",
        "<table border=\"1\" class=\"dataframe\">\n",
        "  <thead>\n",
        "    <tr style=\"text-align: right;\">\n",
        "      <th></th>\n",
        "      <th>Discovery</th>\n",
        "      <th>Validation</th>\n",
        "      <th>HPV-</th>\n",
        "    </tr>\n",
        "  </thead>\n",
        "  <tbody>\n",
        "    <tr>\n",
        "      <th>odds_ratio</th>\n",
        "      <td> 2.06e-01</td>\n",
        "      <td> 7.14e-02</td>\n",
        "      <td> 1.37e-01</td>\n",
        "    </tr>\n",
        "    <tr>\n",
        "      <th>p</th>\n",
        "      <td> 1.90e-04</td>\n",
        "      <td> 3.62e-06</td>\n",
        "      <td> 3.53e-10</td>\n",
        "    </tr>\n",
        "  </tbody>\n",
        "</table>\n",
        "<p>2 rows \u00d7 3 columns</p>\n",
        "</div>"
       ],
       "metadata": {},
       "output_type": "pyout",
       "prompt_number": 28,
       "text": [
        "            Discovery  Validation      HPV-\n",
        "odds_ratio   2.06e-01    7.14e-02  1.37e-01\n",
        "p            1.90e-04    3.62e-06  3.53e-10\n",
        "\n",
        "[2 rows x 3 columns]"
       ]
      }
     ],
     "prompt_number": 28
    }
   ],
   "metadata": {}
  }
 ]
}