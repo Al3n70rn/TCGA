{
 "metadata": {
  "name": ""
 },
 "nbformat": 3,
 "nbformat_minor": 0,
 "worksheets": [
  {
   "cells": [
    {
     "cell_type": "markdown",
     "metadata": {},
     "source": [
      "<h1 class=\"alert alert-info\">HNSCC HPV- Cohort <small> <i class=\"icon-repeat\"></i> Integrative Prognositic Screen</small></h1>"
     ]
    },
    {
     "cell_type": "markdown",
     "metadata": {},
     "source": [
      "#Contents\n",
      "\n",
      "<div id=\"toc\" style=\"max-height: 939px;\"><ol><li><a href=\"#Setup\">Setup</a></li><ol><li><a href=\"#Read-in-Preprocessed-Data\">Read in Preprocessed Data</a></li><li><a href=\"#Setup-Survival-Screen-Functions\">Setup Survival Screen Functions</a></li></ol><li><a href=\"#Run-Survival-Screen\">Run Survival Screen</a></li><ol><li><a href=\"#Decision-1:-TP53-Mutation-/-3p-Deletion-Aggregate-Event\">Decision 1: TP53 Mutation / 3p Deletion Aggregate Event</a></li><li><a href=\"#Decision-2:-MUC5B-Mutation\">Decision 2: MUC5B Mutation</a></li><li><a href=\"#Add-covaratiate:-Year-of-Diagnosis\">Add covaratiate: Year of Diagnosis</a></li><li><a href=\"#Decision-3:-mir-548k-Presence\">Decision 3: mir-548k Presence</a></li></ol><li><a href=\"#Final-Model\">Final Model</a></li></ol></div>"
     ]
    },
    {
     "cell_type": "heading",
     "level": 1,
     "metadata": {},
     "source": [
      "Setup"
     ]
    },
    {
     "cell_type": "code",
     "collapsed": false,
     "input": [
      "cd ../src"
     ],
     "language": "python",
     "metadata": {},
     "outputs": [
      {
       "output_type": "stream",
       "stream": "stdout",
       "text": [
        "/cellar/users/agross/TCGA_Code/TCGA/src\n"
       ]
      }
     ],
     "prompt_number": 45
    },
    {
     "cell_type": "code",
     "collapsed": false,
     "input": [
      "from Processing.Imports import *\n",
      "from Figures.Survival import survival_and_stats"
     ],
     "language": "python",
     "metadata": {},
     "outputs": [],
     "prompt_number": 46
    },
    {
     "cell_type": "code",
     "collapsed": false,
     "input": [
      "from Processing.Screen import *"
     ],
     "language": "python",
     "metadata": {},
     "outputs": [],
     "prompt_number": 47
    },
    {
     "cell_type": "heading",
     "level": 2,
     "metadata": {},
     "source": [
      "Read in Preprocessed Data"
     ]
    },
    {
     "cell_type": "code",
     "collapsed": false,
     "input": [
      "params = pd.read_table('../global_params.txt', header=None, squeeze=True, \n",
      "                       index_col=0)"
     ],
     "language": "python",
     "metadata": {},
     "outputs": [],
     "prompt_number": 48
    },
    {
     "cell_type": "code",
     "collapsed": false,
     "input": [
      "run_path  = '{}/Firehose__{}/'.format(params.ix['OUT_PATH'], params.ix['RUN_DATE'])\n",
      "run = get_run(run_path, 'Run_' + params.ix['VERSION'])\n",
      "cancer = run.load_cancer(params.ix['CANCER'])\n",
      "clinical = cancer.load_clinical()\n",
      "\n",
      "mut = cancer.load_data('Mutation')\n",
      "mut.uncompress()\n",
      "cn = cancer.load_data('CN_broad')\n",
      "cn.uncompress()\n",
      "\n",
      "rppa = cancer.load_data('RPPA')\n",
      "rna = pickle.load(open(cancer.path + '/mRNASeq/store/no_hpv.p', 'rb'))\n",
      "mirna = pickle.load(open(cancer.path + '/miRNASeq/store/no_hpv.p', 'rb'))\n",
      "#meth = cancer.load_data('Methylation')"
     ],
     "language": "python",
     "metadata": {},
     "outputs": [],
     "prompt_number": 49
    },
    {
     "cell_type": "code",
     "collapsed": false,
     "input": [
      "clinical_processed = clinical.processed\n",
      "clinical_processed = clinical_processed.replace('yes', 1.).replace('no', 0.)\n",
      "clinical_processed['year'] = clinical_processed.year == 'post_2000'\n",
      "hpv_inferred = clinical_processed.hpv_inferred\n",
      "surv = clinical.survival.survival_5y\n",
      "age = clinical.timeline.age.astype(float)\n",
      "old = pd.Series(1.*(age>=75), name='old')"
     ],
     "language": "python",
     "metadata": {},
     "outputs": [],
     "prompt_number": 50
    },
    {
     "cell_type": "markdown",
     "metadata": {},
     "source": [
      "####Clean up clinical variables and binarize"
     ]
    },
    {
     "cell_type": "code",
     "collapsed": false,
     "input": [
      "n0 = clinical_processed.lymph_stage == 'N0'\n",
      "n0.name = 'lymph_n0'\n",
      "s4 = clinical_processed.stage == 'Stage IV'\n",
      "s4.name = 'Stage_IV'\n",
      "oc = clinical_processed.tumor_subdivision == 'oral cavity'\n",
      "oc.name = 'oral_cavity'\n",
      "lx = clinical_processed.tumor_subdivision == 'larynx'\n",
      "lx.name = 'larynx'\n",
      "ox = clinical_processed.tumor_subdivision == 'oropharynx'\n",
      "ox.name = 'oropharynx'\n",
      "year = clinical_processed.year\n",
      "white = clinical.clinical.race == 'WHITE'\n",
      "white.name = 'race_white'\n",
      "gender = clinical.clinical.gender\n",
      "gender.name = 'gender_male'\n",
      "\n",
      "inferred = clinical_processed[['drinker_inferred','invasion_inferred',\n",
      "                               'smoker_inferred','spread_inferred']]\n",
      "\n",
      "clinical_df = pd.concat([n0, s4, oc, lx, ox, year, white, gender], 1)\n",
      "clinical_df = pd.concat([clinical_df, inferred], 1)"
     ],
     "language": "python",
     "metadata": {},
     "outputs": [],
     "prompt_number": 51
    },
    {
     "cell_type": "heading",
     "level": 2,
     "metadata": {},
     "source": [
      "Setup Survival Screen Functions"
     ]
    },
    {
     "cell_type": "code",
     "collapsed": false,
     "input": [
      "from Processing.Screen import *"
     ],
     "language": "python",
     "metadata": {},
     "outputs": [],
     "prompt_number": 52
    },
    {
     "cell_type": "code",
     "collapsed": false,
     "input": [
      "def test(s, surv, cov_df):\n",
      "    s = s.dropna()\n",
      "    try:\n",
      "        return get_cox_ph_ms(surv, s, cov_df, return_val='LR', interactions='just_feature')\n",
      "    except:\n",
      "        return pd.Series(index=['LR','feature_p', 'fmla', 'hazzard'])\n",
      "\n",
      "\n",
      "def run_screen(screen, filters, covariates, save=True):\n",
      "    cov_df = pd.concat(covariates, axis=1)\n",
      "    keepers_o = screen.get_patient_set(filters)\n",
      "    cutoff = max(np.ceil(len(keepers_o) * .05), 10)\n",
      "    df = screen.get_data(keepers_o, cutoff)\n",
      "\n",
      "    univariate = cox_screen(df, surv)\n",
      "    vec = univariate.LR.p.sort_index()\n",
      "    univariate = pd.concat([univariate['hazard'], corrections(vec)], \n",
      "                           keys=['hazard', 'p'], axis=1)\n",
      "    #hits = univariate[univariate['q_bh'] < .2].index\n",
      "    hits = univariate.index\n",
      "    \n",
      "    full = df.ix[hits].apply(test, args=(surv, cov_df,), axis=1)\n",
      "    vec = full.LR.ix[univariate.index].sort_index()\n",
      "    full = pd.concat([full[['fmla']], corrections(vec)],\n",
      "                            keys=['fmla','p'], axis=1)\n",
      "    hits = true_index(full.p.bh_all.order() < .1)\n",
      "\n",
      "    try:\n",
      "        pairs, interactions = get_interactions(df.ix[hits], cov_df, \n",
      "                                               surv, test)\n",
      "        ii = interactions[['LR','fmla']]\n",
      "        ii.columns = pd.MultiIndex.from_tuples([('p','uncorrected'), ('fmla','fmla')])\n",
      "        ii.index = pd.MultiIndex.from_tuples([('aggregate', i) for i in ii.index])\n",
      "        res = full.append(ii).sort([('p','uncorrected')])\n",
      "    except:\n",
      "        res = full.sort([('p','uncorrected')]).head()\n",
      "        pairs = []\n",
      "    return res, pairs, full, univariate, keepers_o, df"
     ],
     "language": "python",
     "metadata": {},
     "outputs": [],
     "prompt_number": 53
    },
    {
     "cell_type": "heading",
     "level": 1,
     "metadata": {},
     "source": [
      "Run Survival Screen"
     ]
    },
    {
     "cell_type": "code",
     "collapsed": false,
     "input": [
      "screen = Screen(mut, cn, rna, mirna, clinical_df)"
     ],
     "language": "python",
     "metadata": {},
     "outputs": [],
     "prompt_number": 54
    },
    {
     "cell_type": "heading",
     "level": 2,
     "metadata": {},
     "source": [
      "Decision 1: TP53 Mutation / 3p Deletion Aggregate Event"
     ]
    },
    {
     "cell_type": "code",
     "collapsed": true,
     "input": [
      "res, pairs, full, univariate, keepers_o, df = run_screen(screen, [hpv_inferred==1], [old, age])\n",
      "r = ScreenResult(res, pairs, full, univariate, keepers_o, df)\n",
      "r"
     ],
     "language": "python",
     "metadata": {},
     "outputs": [
      {
       "metadata": {},
       "output_type": "pyout",
       "prompt_number": 55,
       "text": [
        "Screen Result: \n",
        "    842 events tested across 258 patients\n",
        "    79 events were significant above .1 FDR.\n",
        "    18 pairs of events were significantly overlapping.\n",
        "    ('aggregate', (('cna', 'del_3p14.2'), ('mutation', 'TP53'))) was the top association with a q value of nan.\n"
       ]
      }
     ],
     "prompt_number": 55
    },
    {
     "cell_type": "code",
     "collapsed": false,
     "input": [
      "r1 = r"
     ],
     "language": "python",
     "metadata": {},
     "outputs": [],
     "prompt_number": 56
    },
    {
     "cell_type": "markdown",
     "metadata": {},
     "source": [
      "Our primary screen identified 79 events that were each independently associated with patient survival (Extended Data Fig. 3). "
     ]
    },
    {
     "cell_type": "code",
     "collapsed": false,
     "input": [
      "df.groupby(level=0).size()"
     ],
     "language": "python",
     "metadata": {},
     "outputs": [
      {
       "metadata": {},
       "output_type": "pyout",
       "prompt_number": 58,
       "text": [
        "clinical     11\n",
        "cna          70\n",
        "mirna       222\n",
        "mutation    114\n",
        "rna         425\n",
        "dtype: int64"
       ]
      }
     ],
     "prompt_number": 58
    },
    {
     "cell_type": "code",
     "collapsed": false,
     "input": [
      "r.full[r.full.p.bh_all < .1].groupby(level=0).size()"
     ],
     "language": "python",
     "metadata": {},
     "outputs": [
      {
       "metadata": {},
       "output_type": "pyout",
       "prompt_number": 59,
       "text": [
        "clinical     5\n",
        "cna          9\n",
        "mirna       14\n",
        "mutation     4\n",
        "rna         47\n",
        "dtype: int64"
       ]
      }
     ],
     "prompt_number": 59
    },
    {
     "cell_type": "code",
     "collapsed": false,
     "input": [
      "combo = combine(df.ix['mutation'].ix['TP53'], df.ix['cna'].ix['del_3p14.2'])\n",
      "survival_and_stats(combo, surv, figsize=(6,4))"
     ],
     "language": "python",
     "metadata": {},
     "outputs": [
      {
       "metadata": {},
       "output_type": "display_data",
       "png": "[encoded data removed]",
       "text": [
        "<matplotlib.figure.Figure at 0x75dced0>"
       ]
      }
     ],
     "prompt_number": 60
    },
    {
     "cell_type": "markdown",
     "metadata": {},
     "source": [
      "We show that in HPV negative (HPV\uf02d) patients, the detrimental impact of TP53 mutation occurs only in combination with loss of chromosome 3p, leading to a marked decrease in median survival from >5 years for TP53 mutation only to 1.7 years for both events."
     ]
    },
    {
     "cell_type": "code",
     "collapsed": false,
     "input": [
      "get_surv_fit_lr(clinical.survival.survival, combo)"
     ],
     "language": "python",
     "metadata": {},
     "outputs": [
      {
       "html": [
        "<div style=\"max-height:1000px;max-width:1500px;overflow:auto;\">\n",
        "<table border=\"1\" class=\"dataframe\">\n",
        "  <thead>\n",
        "    <tr>\n",
        "      <th></th>\n",
        "      <th colspan=\"2\" halign=\"left\">Stats</th>\n",
        "      <th colspan=\"3\" halign=\"left\">Median Survival</th>\n",
        "      <th colspan=\"3\" halign=\"left\">5y Survival</th>\n",
        "      <th colspan=\"2\" halign=\"left\">Log-Rank</th>\n",
        "    </tr>\n",
        "    <tr>\n",
        "      <th></th>\n",
        "      <th># Patients</th>\n",
        "      <th># Events</th>\n",
        "      <th>Median</th>\n",
        "      <th>Lower</th>\n",
        "      <th>Upper</th>\n",
        "      <th>Surv</th>\n",
        "      <th>Lower</th>\n",
        "      <th>Upper</th>\n",
        "      <th>chi2</th>\n",
        "      <th>p</th>\n",
        "    </tr>\n",
        "  </thead>\n",
        "  <tbody>\n",
        "    <tr>\n",
        "      <th></th>\n",
        "      <td>    </td>\n",
        "      <td>   </td>\n",
        "      <td>     </td>\n",
        "      <td>     </td>\n",
        "      <td>     </td>\n",
        "      <td>      </td>\n",
        "      <td>      </td>\n",
        "      <td>      </td>\n",
        "      <td> 14.6</td>\n",
        "      <td> 0.00214</td>\n",
        "    </tr>\n",
        "    <tr>\n",
        "      <th>both</th>\n",
        "      <td> 185</td>\n",
        "      <td> 97</td>\n",
        "      <td> 1.71</td>\n",
        "      <td>  1.5</td>\n",
        "      <td> 2.58</td>\n",
        "      <td> 0.321</td>\n",
        "      <td> 0.239</td>\n",
        "      <td> 0.432</td>\n",
        "      <td>     </td>\n",
        "      <td>        </td>\n",
        "    </tr>\n",
        "    <tr>\n",
        "      <th>TP53</th>\n",
        "      <td>  25</td>\n",
        "      <td>  7</td>\n",
        "      <td>  NaN</td>\n",
        "      <td> 4.49</td>\n",
        "      <td>  NaN</td>\n",
        "      <td> 0.528</td>\n",
        "      <td> 0.281</td>\n",
        "      <td> 0.996</td>\n",
        "      <td>     </td>\n",
        "      <td>        </td>\n",
        "    </tr>\n",
        "    <tr>\n",
        "      <th>neither</th>\n",
        "      <td>  24</td>\n",
        "      <td>  9</td>\n",
        "      <td> 7.44</td>\n",
        "      <td> 4.71</td>\n",
        "      <td>  NaN</td>\n",
        "      <td> 0.615</td>\n",
        "      <td> 0.374</td>\n",
        "      <td>     1</td>\n",
        "      <td>     </td>\n",
        "      <td>        </td>\n",
        "    </tr>\n",
        "    <tr>\n",
        "      <th>del_3p14.2</th>\n",
        "      <td>  24</td>\n",
        "      <td>  9</td>\n",
        "      <td> 5.48</td>\n",
        "      <td> 2.96</td>\n",
        "      <td>  NaN</td>\n",
        "      <td> 0.642</td>\n",
        "      <td> 0.436</td>\n",
        "      <td> 0.948</td>\n",
        "      <td>     </td>\n",
        "      <td>        </td>\n",
        "    </tr>\n",
        "  </tbody>\n",
        "</table>\n",
        "</div>"
       ],
       "metadata": {},
       "output_type": "pyout",
       "prompt_number": 61,
       "text": [
        "                Stats          Median Survival             5y Survival               Log-Rank         \n",
        "           # Patients # Events          Median Lower Upper        Surv  Lower  Upper     chi2        p\n",
        "                                                                                         14.6  0.00214\n",
        "both              185       97            1.71   1.5  2.58       0.321  0.239  0.432                  \n",
        "TP53               25        7             NaN  4.49   NaN       0.528  0.281  0.996                  \n",
        "neither            24        9            7.44  4.71   NaN       0.615  0.374      1                  \n",
        "del_3p14.2         24        9            5.48  2.96   NaN       0.642  0.436  0.948                  "
       ]
      }
     ],
     "prompt_number": 61
    },
    {
     "cell_type": "code",
     "collapsed": false,
     "input": [
      "two_hit = combo == 'both'\n",
      "survival_and_stats(two_hit, surv, figsize=(6,4))"
     ],
     "language": "python",
     "metadata": {},
     "outputs": [
      {
       "metadata": {},
       "output_type": "display_data",
       "png": "[encoded data removed]",
       "text": [
        "<matplotlib.figure.Figure at 0xad7fe90>"
       ]
      }
     ],
     "prompt_number": 62
    },
    {
     "cell_type": "markdown",
     "metadata": {},
     "source": [
      "The most significant association with survival was the aggregate of TP53 mutation and 3p deletion (Fig. 2c-d, HR 2.5 +/- .5). "
     ]
    },
    {
     "cell_type": "code",
     "collapsed": false,
     "input": [
      "get_cox_ph(surv, two_hit, print_desc=True);"
     ],
     "language": "python",
     "metadata": {},
     "outputs": [
      {
       "output_type": "stream",
       "stream": "stdout",
       "text": [
        "\n",
        "         coef exp(coef) se(coef)    z       p\n",
        "feature 0.931      2.54    0.253 3.68 0.00024\n",
        "\n",
        "Likelihood ratio test=16.2  on 1 df, p=5.55e-05  n= 258, number of events= 110 \n",
        "\n"
       ]
      }
     ],
     "prompt_number": 63
    },
    {
     "cell_type": "code",
     "collapsed": false,
     "input": [
      "(exp(0.931)), exp(0.931) -  exp(0.931 - 0.253)"
     ],
     "language": "python",
     "metadata": {},
     "outputs": [
      {
       "metadata": {},
       "output_type": "pyout",
       "prompt_number": 64,
       "text": [
        "(2.5370449544725853, 0.56711103258165552)"
       ]
      }
     ],
     "prompt_number": 64
    },
    {
     "cell_type": "markdown",
     "metadata": {},
     "source": [
      "These events co-occur in 185 of 258 HPV\uf02d patients (Fig. 2c, Fisher\u2019s Exact Test, P < 10^7)"
     ]
    },
    {
     "cell_type": "code",
     "collapsed": false,
     "input": [
      "fisher_exact_test(df.ix['mutation'].ix['TP53'], df.ix['cna'].ix['del_3p14.2'])"
     ],
     "language": "python",
     "metadata": {},
     "outputs": [
      {
       "metadata": {},
       "output_type": "pyout",
       "prompt_number": 65,
       "text": [
        "odds_ratio    7.40e+00\n",
        "p             3.29e-08\n",
        "dtype: float64"
       ]
      }
     ],
     "prompt_number": 65
    },
    {
     "cell_type": "markdown",
     "metadata": {},
     "source": [
      "while each event by itself has a significant association with survival, these marginal effects are driven by the large number of patients who have both events together (Fig. 2d, Extended Data Fig. 4, Permutation Test P < .006, Bonferroni Corrected P < .2). "
     ]
    },
    {
     "cell_type": "code",
     "collapsed": true,
     "input": [
      "interaction_empirical_p(df.ix['mutation'].ix['TP53'], df.ix['cna'].ix['del_3p14.2'], surv, num_perm=5001)"
     ],
     "language": "python",
     "metadata": {},
     "outputs": [
      {
       "metadata": {},
       "output_type": "pyout",
       "prompt_number": 66,
       "text": [
        "interaction      both\n",
        "p              0.0066\n",
        "dtype: object"
       ]
      }
     ],
     "prompt_number": 66
    },
    {
     "cell_type": "code",
     "collapsed": false,
     "input": [
      ".0058*18"
     ],
     "language": "python",
     "metadata": {},
     "outputs": [
      {
       "metadata": {},
       "output_type": "pyout",
       "prompt_number": 67,
       "text": [
        "0.10439999999999999"
       ]
      }
     ],
     "prompt_number": 67
    },
    {
     "cell_type": "heading",
     "level": 2,
     "metadata": {},
     "source": [
      "Decision 2: MUC5B Mutation "
     ]
    },
    {
     "cell_type": "code",
     "collapsed": false,
     "input": [
      "res, pairs, full, univariate, keepers_o, df = run_screen(screen, [hpv_inferred==1, two_hit==0], [old, age])\n",
      "r = ScreenResult(res, pairs, full, univariate, keepers_o, df)\n",
      "r"
     ],
     "language": "python",
     "metadata": {},
     "outputs": [
      {
       "metadata": {},
       "output_type": "pyout",
       "prompt_number": 68,
       "text": [
        "Screen Result: \n",
        "    945 events tested across 185 patients\n",
        "    3 events were significant above .1 FDR.\n",
        "    0 pairs of events were significantly overlapping.\n",
        "    ('mutation', 'MUC5B') was the top association with a q value of 0.0528224039327.\n"
       ]
      }
     ],
     "prompt_number": 68
    },
    {
     "cell_type": "code",
     "collapsed": false,
     "input": [
      "r2 = r"
     ],
     "language": "python",
     "metadata": {},
     "outputs": [],
     "prompt_number": 69
    },
    {
     "cell_type": "code",
     "collapsed": false,
     "input": [
      "r.results.head()"
     ],
     "language": "python",
     "metadata": {},
     "outputs": [
      {
       "html": [
        "<div style=\"max-height:1000px;max-width:1500px;overflow:auto;\">\n",
        "<table border=\"1\" class=\"dataframe\">\n",
        "  <thead>\n",
        "    <tr>\n",
        "      <th></th>\n",
        "      <th></th>\n",
        "      <th>fmla</th>\n",
        "      <th colspan=\"6\" halign=\"left\">p</th>\n",
        "    </tr>\n",
        "    <tr>\n",
        "      <th></th>\n",
        "      <th></th>\n",
        "      <th>fmla</th>\n",
        "      <th>uncorrected</th>\n",
        "      <th>bh_within</th>\n",
        "      <th>bh_all</th>\n",
        "      <th>bonf_all</th>\n",
        "      <th>bonf_within</th>\n",
        "      <th>two_step</th>\n",
        "    </tr>\n",
        "  </thead>\n",
        "  <tbody>\n",
        "    <tr>\n",
        "      <th>mutation</th>\n",
        "      <th>MUC5B</th>\n",
        "      <td>               Surv(days, event) ~ feature + old\\n</td>\n",
        "      <td> 1.15e-04</td>\n",
        "      <td> 0.03</td>\n",
        "      <td> 0.05</td>\n",
        "      <td> 0.11</td>\n",
        "      <td> 0.03</td>\n",
        "      <td> 0.13</td>\n",
        "    </tr>\n",
        "    <tr>\n",
        "      <th rowspan=\"2\" valign=\"top\">rna</th>\n",
        "      <th>KEGG_DORSO_VENTRAL_AXIS_FORMATION</th>\n",
        "      <td> Surv(days, event) ~ feature + old + feature:old\\n</td>\n",
        "      <td> 1.61e-04</td>\n",
        "      <td> 0.04</td>\n",
        "      <td> 0.05</td>\n",
        "      <td> 0.15</td>\n",
        "      <td> 0.07</td>\n",
        "      <td> 0.18</td>\n",
        "    </tr>\n",
        "    <tr>\n",
        "      <th>REACTOME_PHOSPHORYLATION_OF_THE_APC</th>\n",
        "      <td>               Surv(days, event) ~ feature + old\\n</td>\n",
        "      <td> 1.68e-04</td>\n",
        "      <td> 0.04</td>\n",
        "      <td> 0.05</td>\n",
        "      <td> 0.16</td>\n",
        "      <td> 0.07</td>\n",
        "      <td> 0.18</td>\n",
        "    </tr>\n",
        "    <tr>\n",
        "      <th>mutation</th>\n",
        "      <th>FCGBP</th>\n",
        "      <td> Surv(days, event) ~ feature + old + feature:old\\n</td>\n",
        "      <td> 6.06e-04</td>\n",
        "      <td> 0.07</td>\n",
        "      <td> 0.13</td>\n",
        "      <td> 0.57</td>\n",
        "      <td> 0.14</td>\n",
        "      <td> 0.34</td>\n",
        "    </tr>\n",
        "    <tr>\n",
        "      <th>rna</th>\n",
        "      <th>NT5C2</th>\n",
        "      <td> Surv(days, event) ~ feature + old + feature:old\\n</td>\n",
        "      <td> 7.81e-04</td>\n",
        "      <td> 0.10</td>\n",
        "      <td> 0.13</td>\n",
        "      <td> 0.74</td>\n",
        "      <td> 0.33</td>\n",
        "      <td> 0.50</td>\n",
        "    </tr>\n",
        "  </tbody>\n",
        "</table>\n",
        "</div>"
       ],
       "metadata": {},
       "output_type": "pyout",
       "prompt_number": 70,
       "text": [
        "                                                                                           fmla            p                                                    \n",
        "                                                                                           fmla  uncorrected  bh_within  bh_all  bonf_all  bonf_within  two_step\n",
        "mutation MUC5B                                              Surv(days, event) ~ feature + old\\n     1.15e-04       0.03    0.05      0.11         0.03      0.13\n",
        "rna      KEGG_DORSO_VENTRAL_AXIS_FORMATION    Surv(days, event) ~ feature + old + feature:old\\n     1.61e-04       0.04    0.05      0.15         0.07      0.18\n",
        "         REACTOME_PHOSPHORYLATION_OF_THE_APC                Surv(days, event) ~ feature + old\\n     1.68e-04       0.04    0.05      0.16         0.07      0.18\n",
        "mutation FCGBP                                Surv(days, event) ~ feature + old + feature:old\\n     6.06e-04       0.07    0.13      0.57         0.14      0.34\n",
        "rna      NT5C2                                Surv(days, event) ~ feature + old + feature:old\\n     7.81e-04       0.10    0.13      0.74         0.33      0.50"
       ]
      }
     ],
     "prompt_number": 70
    },
    {
     "cell_type": "code",
     "collapsed": false,
     "input": [
      "muc5b = df.ix['mutation'].ix['MUC5B'].ix[keepers_o].dropna()\n",
      "survival_and_stats(muc5b, surv, figsize=(6,4)) "
     ],
     "language": "python",
     "metadata": {},
     "outputs": [
      {
       "metadata": {},
       "output_type": "display_data",
       "png": "[encoded data removed]",
       "text": [
        "<matplotlib.figure.Figure at 0x91e0210>"
       ]
      }
     ],
     "prompt_number": 71
    },
    {
     "cell_type": "code",
     "collapsed": false,
     "input": [
      "get_cox_ph(surv, muc5b, print_desc=True);"
     ],
     "language": "python",
     "metadata": {},
     "outputs": [
      {
       "output_type": "stream",
       "stream": "stdout",
       "text": [
        "\n",
        "        coef exp(coef) se(coef)   z       p\n",
        "feature 1.35      3.86    0.314 4.3 1.7e-05\n",
        "\n",
        "Likelihood ratio test=14  on 1 df, p=0.000179  n= 185, number of events= 91 \n",
        "\n"
       ]
      }
     ],
     "prompt_number": 72
    },
    {
     "cell_type": "code",
     "collapsed": false,
     "input": [
      "exp(1.35), exp(1.35) -  exp(1.35 - 0.314)"
     ],
     "language": "python",
     "metadata": {},
     "outputs": [
      {
       "metadata": {},
       "output_type": "pyout",
       "prompt_number": 73,
       "text": [
        "(3.8574255306969745, 1.0395027808148671)"
       ]
      }
     ],
     "prompt_number": 73
    },
    {
     "cell_type": "heading",
     "level": 2,
     "metadata": {},
     "source": [
      "Add covaratiate: Year of Diagnosis"
     ]
    },
    {
     "cell_type": "code",
     "collapsed": false,
     "input": [
      "res, pairs, full, univariate, keepers_o, df = run_screen(screen, [hpv_inferred==1, two_hit==0,  muc5b==1], [old, age])\n",
      "r = ScreenResult(res, pairs, full, univariate, keepers_o, df)\n",
      "r"
     ],
     "language": "python",
     "metadata": {},
     "outputs": [
      {
       "metadata": {},
       "output_type": "pyout",
       "prompt_number": 74,
       "text": [
        "Screen Result: \n",
        "    930 events tested across 168 patients\n",
        "    0 events were significant above .1 FDR.\n",
        "    0 pairs of events were significantly overlapping.\n",
        "    ('rna', 'HOXC5') was the top association with a q value of 0.231701013117.\n"
       ]
      }
     ],
     "prompt_number": 74
    },
    {
     "cell_type": "code",
     "collapsed": false,
     "input": [
      "r.univariate.ix['clinical'].sort([('p','bonf_within')])"
     ],
     "language": "python",
     "metadata": {},
     "outputs": [
      {
       "html": [
        "<div style=\"max-height:1000px;max-width:1500px;overflow:auto;\">\n",
        "<table border=\"1\" class=\"dataframe\">\n",
        "  <thead>\n",
        "    <tr>\n",
        "      <th></th>\n",
        "      <th colspan=\"4\" halign=\"left\">hazard</th>\n",
        "      <th colspan=\"6\" halign=\"left\">p</th>\n",
        "    </tr>\n",
        "    <tr>\n",
        "      <th></th>\n",
        "      <th>exp(-coef)</th>\n",
        "      <th>exp(coef)</th>\n",
        "      <th>lower .95</th>\n",
        "      <th>upper .95</th>\n",
        "      <th>uncorrected</th>\n",
        "      <th>bh_within</th>\n",
        "      <th>bh_all</th>\n",
        "      <th>bonf_all</th>\n",
        "      <th>bonf_within</th>\n",
        "      <th>two_step</th>\n",
        "    </tr>\n",
        "  </thead>\n",
        "  <tbody>\n",
        "    <tr>\n",
        "      <th>year</th>\n",
        "      <td> 2.36</td>\n",
        "      <td> 0.42</td>\n",
        "      <td> 0.27</td>\n",
        "      <td> 0.67</td>\n",
        "      <td> 5.54e-04</td>\n",
        "      <td> 0.01</td>\n",
        "      <td> 0.17</td>\n",
        "      <td>   0.51</td>\n",
        "      <td>  0.01</td>\n",
        "      <td> 0.03</td>\n",
        "    </tr>\n",
        "    <tr>\n",
        "      <th>smoker_inferred</th>\n",
        "      <td> 0.44</td>\n",
        "      <td> 2.30</td>\n",
        "      <td> 1.26</td>\n",
        "      <td> 4.17</td>\n",
        "      <td> 2.91e-03</td>\n",
        "      <td> 0.02</td>\n",
        "      <td> 0.32</td>\n",
        "      <td>   2.71</td>\n",
        "      <td>  0.03</td>\n",
        "      <td> 0.08</td>\n",
        "    </tr>\n",
        "    <tr>\n",
        "      <th>drinker_inferred</th>\n",
        "      <td> 0.46</td>\n",
        "      <td> 2.17</td>\n",
        "      <td> 1.20</td>\n",
        "      <td> 3.94</td>\n",
        "      <td> 5.63e-03</td>\n",
        "      <td> 0.02</td>\n",
        "      <td> 0.41</td>\n",
        "      <td>   5.23</td>\n",
        "      <td>  0.06</td>\n",
        "      <td> 0.10</td>\n",
        "    </tr>\n",
        "    <tr>\n",
        "      <th>spread_inferred</th>\n",
        "      <td> 0.59</td>\n",
        "      <td> 1.68</td>\n",
        "      <td> 1.07</td>\n",
        "      <td> 2.64</td>\n",
        "      <td> 2.63e-02</td>\n",
        "      <td> 0.07</td>\n",
        "      <td> 0.65</td>\n",
        "      <td>  24.45</td>\n",
        "      <td>  0.29</td>\n",
        "      <td> 0.36</td>\n",
        "    </tr>\n",
        "    <tr>\n",
        "      <th>lymph_n0</th>\n",
        "      <td> 1.47</td>\n",
        "      <td> 0.68</td>\n",
        "      <td> 0.41</td>\n",
        "      <td> 1.14</td>\n",
        "      <td> 1.32e-01</td>\n",
        "      <td> 0.28</td>\n",
        "      <td> 0.87</td>\n",
        "      <td> 123.07</td>\n",
        "      <td>  1.46</td>\n",
        "      <td> 1.39</td>\n",
        "    </tr>\n",
        "    <tr>\n",
        "      <th>race_white</th>\n",
        "      <td> 1.54</td>\n",
        "      <td> 0.65</td>\n",
        "      <td> 0.37</td>\n",
        "      <td> 1.14</td>\n",
        "      <td> 1.52e-01</td>\n",
        "      <td> 0.28</td>\n",
        "      <td> 0.87</td>\n",
        "      <td> 140.92</td>\n",
        "      <td>  1.67</td>\n",
        "      <td> 1.39</td>\n",
        "    </tr>\n",
        "    <tr>\n",
        "      <th>gender_male</th>\n",
        "      <td> 1.26</td>\n",
        "      <td> 0.79</td>\n",
        "      <td> 0.49</td>\n",
        "      <td> 1.27</td>\n",
        "      <td> 3.40e-01</td>\n",
        "      <td> 0.53</td>\n",
        "      <td> 0.88</td>\n",
        "      <td> 316.37</td>\n",
        "      <td>  3.74</td>\n",
        "      <td> 2.67</td>\n",
        "    </tr>\n",
        "    <tr>\n",
        "      <th>Stage_IV</th>\n",
        "      <td> 0.87</td>\n",
        "      <td> 1.16</td>\n",
        "      <td> 0.74</td>\n",
        "      <td> 1.81</td>\n",
        "      <td> 5.27e-01</td>\n",
        "      <td> 0.61</td>\n",
        "      <td> 0.94</td>\n",
        "      <td> 489.86</td>\n",
        "      <td>  5.79</td>\n",
        "      <td> 3.03</td>\n",
        "    </tr>\n",
        "    <tr>\n",
        "      <th>invasion_inferred</th>\n",
        "      <td> 0.87</td>\n",
        "      <td> 1.15</td>\n",
        "      <td> 0.74</td>\n",
        "      <td> 1.79</td>\n",
        "      <td> 5.40e-01</td>\n",
        "      <td> 0.61</td>\n",
        "      <td> 0.94</td>\n",
        "      <td> 501.75</td>\n",
        "      <td>  5.93</td>\n",
        "      <td> 3.03</td>\n",
        "    </tr>\n",
        "    <tr>\n",
        "      <th>larynx</th>\n",
        "      <td> 1.16</td>\n",
        "      <td> 0.86</td>\n",
        "      <td> 0.53</td>\n",
        "      <td> 1.40</td>\n",
        "      <td> 5.50e-01</td>\n",
        "      <td> 0.61</td>\n",
        "      <td> 0.94</td>\n",
        "      <td> 511.68</td>\n",
        "      <td>  6.05</td>\n",
        "      <td> 3.03</td>\n",
        "    </tr>\n",
        "    <tr>\n",
        "      <th>oral_cavity</th>\n",
        "      <td> 1.02</td>\n",
        "      <td> 0.98</td>\n",
        "      <td> 0.62</td>\n",
        "      <td> 1.54</td>\n",
        "      <td> 9.22e-01</td>\n",
        "      <td> 0.92</td>\n",
        "      <td> 0.98</td>\n",
        "      <td> 857.61</td>\n",
        "      <td> 10.14</td>\n",
        "      <td> 4.61</td>\n",
        "    </tr>\n",
        "  </tbody>\n",
        "</table>\n",
        "</div>"
       ],
       "metadata": {},
       "output_type": "pyout",
       "prompt_number": 75,
       "text": [
        "                       hazard                                             p                                                    \n",
        "                   exp(-coef)  exp(coef)  lower .95  upper .95  uncorrected  bh_within  bh_all  bonf_all  bonf_within  two_step\n",
        "year                     2.36       0.42       0.27       0.67     5.54e-04       0.01    0.17      0.51         0.01      0.03\n",
        "smoker_inferred          0.44       2.30       1.26       4.17     2.91e-03       0.02    0.32      2.71         0.03      0.08\n",
        "drinker_inferred         0.46       2.17       1.20       3.94     5.63e-03       0.02    0.41      5.23         0.06      0.10\n",
        "spread_inferred          0.59       1.68       1.07       2.64     2.63e-02       0.07    0.65     24.45         0.29      0.36\n",
        "lymph_n0                 1.47       0.68       0.41       1.14     1.32e-01       0.28    0.87    123.07         1.46      1.39\n",
        "race_white               1.54       0.65       0.37       1.14     1.52e-01       0.28    0.87    140.92         1.67      1.39\n",
        "gender_male              1.26       0.79       0.49       1.27     3.40e-01       0.53    0.88    316.37         3.74      2.67\n",
        "Stage_IV                 0.87       1.16       0.74       1.81     5.27e-01       0.61    0.94    489.86         5.79      3.03\n",
        "invasion_inferred        0.87       1.15       0.74       1.79     5.40e-01       0.61    0.94    501.75         5.93      3.03\n",
        "larynx                   1.16       0.86       0.53       1.40     5.50e-01       0.61    0.94    511.68         6.05      3.03\n",
        "oral_cavity              1.02       0.98       0.62       1.54     9.22e-01       0.92    0.98    857.61        10.14      4.61"
       ]
      }
     ],
     "prompt_number": 75
    },
    {
     "cell_type": "code",
     "collapsed": false,
     "input": [
      "pre_2k = df.ix['clinical'].ix['year'].ix[keepers_o].dropna()\n",
      "survival_and_stats(pre_2k, surv, figsize=(6,4))"
     ],
     "language": "python",
     "metadata": {},
     "outputs": [
      {
       "metadata": {},
       "output_type": "display_data",
       "png": "[encoded data removed]",
       "text": [
        "<matplotlib.figure.Figure at 0x7b74b50>"
       ]
      }
     ],
     "prompt_number": 76
    },
    {
     "cell_type": "heading",
     "level": 2,
     "metadata": {},
     "source": [
      "Decision 3: mir-548k Presence"
     ]
    },
    {
     "cell_type": "code",
     "collapsed": false,
     "input": [
      "res, pairs, full, univariate, keepers_o, df = run_screen(screen, [hpv_inferred==1, two_hit==0,  muc5b==1], \n",
      "                                                         [old, age, year])\n",
      "r = ScreenResult(res, pairs, full, univariate, keepers_o, df)\n",
      "r"
     ],
     "language": "python",
     "metadata": {},
     "outputs": [
      {
       "metadata": {},
       "output_type": "pyout",
       "prompt_number": 77,
       "text": [
        "Screen Result: \n",
        "    930 events tested across 168 patients\n",
        "    4 events were significant above .1 FDR.\n",
        "    0 pairs of events were significantly overlapping.\n",
        "    ('mirna', 'hsa-mir-548k') was the top association with a q value of 0.014365820664.\n"
       ]
      }
     ],
     "prompt_number": 77
    },
    {
     "cell_type": "code",
     "collapsed": false,
     "input": [
      "r3 = r"
     ],
     "language": "python",
     "metadata": {},
     "outputs": [],
     "prompt_number": 78
    },
    {
     "cell_type": "code",
     "collapsed": false,
     "input": [
      "res.head()"
     ],
     "language": "python",
     "metadata": {},
     "outputs": [
      {
       "html": [
        "<div style=\"max-height:1000px;max-width:1500px;overflow:auto;\">\n",
        "<table border=\"1\" class=\"dataframe\">\n",
        "  <thead>\n",
        "    <tr>\n",
        "      <th></th>\n",
        "      <th></th>\n",
        "      <th>fmla</th>\n",
        "      <th colspan=\"6\" halign=\"left\">p</th>\n",
        "    </tr>\n",
        "    <tr>\n",
        "      <th></th>\n",
        "      <th></th>\n",
        "      <th>fmla</th>\n",
        "      <th>uncorrected</th>\n",
        "      <th>bh_within</th>\n",
        "      <th>bh_all</th>\n",
        "      <th>bonf_all</th>\n",
        "      <th>bonf_within</th>\n",
        "      <th>two_step</th>\n",
        "    </tr>\n",
        "  </thead>\n",
        "  <tbody>\n",
        "    <tr>\n",
        "      <th>mirna</th>\n",
        "      <th>hsa-mir-548k</th>\n",
        "      <td> Surv(days, event) ~ feature + year + feature:y...</td>\n",
        "      <td> 1.54e-05</td>\n",
        "      <td> 0.00</td>\n",
        "      <td> 0.01</td>\n",
        "      <td> 0.01</td>\n",
        "      <td> 0.00</td>\n",
        "      <td> 0.02</td>\n",
        "    </tr>\n",
        "    <tr>\n",
        "      <th>rna</th>\n",
        "      <th>LIMK1</th>\n",
        "      <td> Surv(days, event) ~ feature + old + year + fea...</td>\n",
        "      <td> 8.35e-05</td>\n",
        "      <td> 0.04</td>\n",
        "      <td> 0.04</td>\n",
        "      <td> 0.08</td>\n",
        "      <td> 0.04</td>\n",
        "      <td> 0.18</td>\n",
        "    </tr>\n",
        "    <tr>\n",
        "      <th>mutation</th>\n",
        "      <th>BIOCARTA_IL3_PATHWAY</th>\n",
        "      <td> Surv(days, event) ~ feature + age + year + fea...</td>\n",
        "      <td> 1.22e-04</td>\n",
        "      <td> 0.03</td>\n",
        "      <td> 0.04</td>\n",
        "      <td> 0.11</td>\n",
        "      <td> 0.03</td>\n",
        "      <td> 0.13</td>\n",
        "    </tr>\n",
        "    <tr>\n",
        "      <th rowspan=\"2\" valign=\"top\">rna</th>\n",
        "      <th>REACTOME_PHOSPHORYLATION_OF_THE_APC</th>\n",
        "      <td> Surv(days, event) ~ feature + year + feature:y...</td>\n",
        "      <td> 4.02e-04</td>\n",
        "      <td> 0.08</td>\n",
        "      <td> 0.09</td>\n",
        "      <td> 0.37</td>\n",
        "      <td> 0.17</td>\n",
        "      <td> 0.42</td>\n",
        "    </tr>\n",
        "    <tr>\n",
        "      <th>HOXC5</th>\n",
        "      <td> Surv(days, event) ~ feature + age + year + fea...</td>\n",
        "      <td> 9.56e-04</td>\n",
        "      <td> 0.11</td>\n",
        "      <td> 0.12</td>\n",
        "      <td> 0.89</td>\n",
        "      <td> 0.40</td>\n",
        "      <td> 0.57</td>\n",
        "    </tr>\n",
        "  </tbody>\n",
        "</table>\n",
        "</div>"
       ],
       "metadata": {},
       "output_type": "pyout",
       "prompt_number": 79,
       "text": [
        "                                                                                           fmla            p                                                    \n",
        "                                                                                           fmla  uncorrected  bh_within  bh_all  bonf_all  bonf_within  two_step\n",
        "mirna    hsa-mir-548k                         Surv(days, event) ~ feature + year + feature:y...     1.54e-05       0.00    0.01      0.01         0.00      0.02\n",
        "rna      LIMK1                                Surv(days, event) ~ feature + old + year + fea...     8.35e-05       0.04    0.04      0.08         0.04      0.18\n",
        "mutation BIOCARTA_IL3_PATHWAY                 Surv(days, event) ~ feature + age + year + fea...     1.22e-04       0.03    0.04      0.11         0.03      0.13\n",
        "rna      REACTOME_PHOSPHORYLATION_OF_THE_APC  Surv(days, event) ~ feature + year + feature:y...     4.02e-04       0.08    0.09      0.37         0.17      0.42\n",
        "         HOXC5                                Surv(days, event) ~ feature + age + year + fea...     9.56e-04       0.11    0.12      0.89         0.40      0.57"
       ]
      }
     ],
     "prompt_number": 79
    },
    {
     "cell_type": "code",
     "collapsed": false,
     "input": [
      "mir548 = df.ix['mirna'].ix['hsa-mir-548k'].ix[keepers_o].dropna()\n",
      "survival_and_stats(mir548, surv, figsize=(6,4))"
     ],
     "language": "python",
     "metadata": {},
     "outputs": [
      {
       "metadata": {},
       "output_type": "display_data",
       "png": "[encoded data removed]",
       "text": [
        "<matplotlib.figure.Figure at 0xad59250>"
       ]
      }
     ],
     "prompt_number": 80
    },
    {
     "cell_type": "code",
     "collapsed": false,
     "input": [
      "get_cox_ph(surv, mir548, print_desc=True);"
     ],
     "language": "python",
     "metadata": {},
     "outputs": [
      {
       "output_type": "stream",
       "stream": "stdout",
       "text": [
        "\n",
        "         coef exp(coef) se(coef)   z       p\n",
        "feature 0.809      2.24    0.231 3.5 0.00047\n",
        "\n",
        "Likelihood ratio test=12.3  on 1 df, p=0.000451  n= 167, number of events= 77 \n",
        "\n"
       ]
      }
     ],
     "prompt_number": 81
    },
    {
     "cell_type": "code",
     "collapsed": false,
     "input": [
      "exp(.803), exp(.803) -  exp(.803 - 0.231)"
     ],
     "language": "python",
     "metadata": {},
     "outputs": [
      {
       "metadata": {},
       "output_type": "pyout",
       "prompt_number": 82,
       "text": [
        "(2.2322275762345734, 0.46042045180499902)"
       ]
      }
     ],
     "prompt_number": 82
    },
    {
     "cell_type": "code",
     "collapsed": false,
     "input": [
      "survival_and_stats(mir548.ix[true_index(year)].dropna(), surv, figsize=(6,4))"
     ],
     "language": "python",
     "metadata": {},
     "outputs": [
      {
       "metadata": {},
       "output_type": "display_data",
       "png": "[encoded data removed]",
       "text": [
        "<matplotlib.figure.Figure at 0x7672850>"
       ]
      }
     ],
     "prompt_number": 83
    },
    {
     "cell_type": "heading",
     "level": 1,
     "metadata": {},
     "source": [
      "Final Model"
     ]
    },
    {
     "cell_type": "code",
     "collapsed": false,
     "input": [
      "st = (two_hit*1.).copy() + 1\n",
      "st.ix[true_index(st==2).intersection(true_index(muc5b==1))] = 4\n",
      "st.ix[true_index(st==2).intersection(true_index(mir548==1))] = 3"
     ],
     "language": "python",
     "metadata": {},
     "outputs": [],
     "prompt_number": 84
    },
    {
     "cell_type": "code",
     "collapsed": false,
     "input": [
      "survival_and_stats(st.dropna(), surv, order=[4,3,2,1])"
     ],
     "language": "python",
     "metadata": {},
     "outputs": [
      {
       "metadata": {},
       "output_type": "display_data",
       "png": "[encoded data removed]",
       "text": [
        "<matplotlib.figure.Figure at 0xb0e43d0>"
       ]
      }
     ],
     "prompt_number": 85
    },
    {
     "cell_type": "code",
     "collapsed": false,
     "input": [
      "get_cox_ph(surv, '_' + st.astype(str), print_desc=True, interactions=False);"
     ],
     "language": "python",
     "metadata": {},
     "outputs": [
      {
       "output_type": "stream",
       "stream": "stdout",
       "text": [
        "\n",
        "             coef exp(coef) se(coef)    z       p\n",
        "feature_2.0 0.483      1.62    0.285 1.69 9.0e-02\n",
        "feature_3.0 1.263      3.54    0.277 4.56 5.2e-06\n",
        "feature_4.0 2.173      8.79    0.374 5.80 6.4e-09\n",
        "\n",
        "Likelihood ratio test=41.3  on 3 df, p=5.58e-09  n= 258, number of events= 110 \n",
        "\n"
       ]
      }
     ],
     "prompt_number": 86
    },
    {
     "cell_type": "code",
     "collapsed": false,
     "input": [
      "t = pd.concat([r1.univariate, r1.results], \n",
      "              keys=['univariate','full'], axis=1).sort([('full','p','uncorrected')])"
     ],
     "language": "python",
     "metadata": {},
     "outputs": [],
     "prompt_number": 87
    },
    {
     "cell_type": "code",
     "collapsed": false,
     "input": [
      "tm = t.as_matrix()\n",
      "t2 = array(map(lambda s: array(pd.core.format.format_array(s, None)), tm.T)).T\n",
      "t3 = pd.DataFrame(t2, t.index, t.columns)\n",
      "t3[('full','fmla','fmla')] = t[('full','fmla','fmla')].apply(lambda s: s.strip().replace('\\\\n',''))"
     ],
     "language": "python",
     "metadata": {},
     "outputs": [],
     "prompt_number": 88
    },
    {
     "cell_type": "code",
     "collapsed": false,
     "input": [
      "t3.groupby(level=0).size()"
     ],
     "language": "python",
     "metadata": {},
     "outputs": [
      {
       "metadata": {},
       "output_type": "pyout",
       "prompt_number": 89,
       "text": [
        "aggregate      1\n",
        "clinical      11\n",
        "cna           70\n",
        "mirna        222\n",
        "mutation     114\n",
        "rna          425\n",
        "dtype: int64"
       ]
      }
     ],
     "prompt_number": 89
    },
    {
     "cell_type": "code",
     "collapsed": false,
     "input": [
      "interaction_empirical_p(r1.df.ix['mutation'].ix['TP53'], r1.df.ix['cna'].ix['del_3p14.2'], surv, num_perm=100001)"
     ],
     "language": "python",
     "metadata": {},
     "outputs": [
      {
       "metadata": {},
       "output_type": "pyout",
       "prompt_number": 90,
       "text": [
        "interaction     both\n",
        "p              0.008\n",
        "dtype: object"
       ]
      }
     ],
     "prompt_number": 90
    },
    {
     "cell_type": "code",
     "collapsed": false,
     "input": [
      "Out[90]['p']"
     ],
     "language": "python",
     "metadata": {},
     "outputs": [
      {
       "metadata": {},
       "output_type": "pyout",
       "prompt_number": 94,
       "text": [
        "0.0079999200007999927"
       ]
      }
     ],
     "prompt_number": 94
    },
    {
     "cell_type": "code",
     "collapsed": false,
     "input": [
      ".008*18"
     ],
     "language": "python",
     "metadata": {},
     "outputs": [
      {
       "metadata": {},
       "output_type": "pyout",
       "prompt_number": 96,
       "text": [
        "0.14400000000000002"
       ]
      }
     ],
     "prompt_number": 96
    }
   ],
   "metadata": {}
  }
 ]
}