{
 "metadata": {
  "name": ""
 },
 "nbformat": 3,
 "nbformat_minor": 0,
 "worksheets": [
  {
   "cells": [
    {
     "cell_type": "markdown",
     "metadata": {},
     "source": [
      "css\n",
      "<style>\n",
      "    @font-face {\n",
      "        font-family: \"Computer Modern\";\n",
      "        src: url('http://mirrors.ctan.org/fonts/cm-unicode/fonts/otf/cmunss.otf');\n",
      "    }\n",
      "    div.cell{\n",
      "        width:900px;\n",
      "        margin-left:auto;\n",
      "        margin-right:auto;\n",
      "    }\n",
      "    h1, h2, h3, h4 {\n",
      "        font-family: Helvetica, serif;\n",
      "        color: #000000;\n",
      "    }\n",
      "    div.text_cell_render{\n",
      "        font-family: Computer Modern, \"Helvetica Neue\", Arial, Helvetica, Geneva, sans-serif;\n",
      "        line-height: 125%;\n",
      "        font-size: 115%;\n",
      "        color: #4d4d4d;\n",
      "        width:800px;\n",
      "        margin-left:0px;\n",
      "        margin-right:auto;\n",
      "    }\n",
      "    \n",
      "    .warning{\n",
      "        color: rgb( 240, 20, 20 )\n",
      "        }  \n",
      "</style>"
     ]
    },
    {
     "cell_type": "heading",
     "level": 1,
     "metadata": {},
     "source": [
      "Process HNSCC Targeted Mutation Calls"
     ]
    },
    {
     "cell_type": "markdown",
     "metadata": {},
     "source": [
      "Here we are reading in variant calls for our molecular validation cohort. This script is still a little dirty... aka hard paths and the like.  The rest of the analysis can be picked up from the MAF file that we generate here, but if you are actually trying to run this part of the analysis please contact me.  "
     ]
    },
    {
     "cell_type": "code",
     "collapsed": false,
     "input": [
      "cd ../src/"
     ],
     "language": "python",
     "metadata": {},
     "outputs": [
      {
       "output_type": "stream",
       "stream": "stdout",
       "text": [
        "/cellar/users/agross/TCGA_Code/TCGA/src\n"
       ]
      }
     ],
     "prompt_number": 2
    },
    {
     "cell_type": "code",
     "collapsed": false,
     "input": [
      "%pylab inline"
     ],
     "language": "python",
     "metadata": {},
     "outputs": [
      {
       "output_type": "stream",
       "stream": "stdout",
       "text": [
        "Populating the interactive namespace from numpy and matplotlib\n"
       ]
      }
     ],
     "prompt_number": 3
    },
    {
     "cell_type": "code",
     "collapsed": false,
     "input": [
      "from Processing.Imports import *"
     ],
     "language": "python",
     "metadata": {},
     "outputs": [],
     "prompt_number": 4
    },
    {
     "cell_type": "code",
     "collapsed": false,
     "input": [
      "PATH = '/cellar/data/TCGA/protected/exome_andy/hnsc_targeted/'"
     ],
     "language": "python",
     "metadata": {},
     "outputs": [],
     "prompt_number": 5
    },
    {
     "cell_type": "heading",
     "level": 3,
     "metadata": {},
     "source": [
      "Read in Variant Calls"
     ]
    },
    {
     "cell_type": "markdown",
     "metadata": {},
     "source": [
      "Read in all of the VCF files and pull out the SNVs."
     ]
    },
    {
     "cell_type": "code",
     "collapsed": false,
     "input": [
      "pts_snv = [f[:12] for f in os.listdir(PATH) if 'call_stats' in f and '~' not in f]\n",
      "vcf = pd.concat({p: pd.read_table(PATH + '{}_call_stats.txt'.format(p), skiprows=[0]) \n",
      "                 for p in pts_snv})\n",
      "vcf = vcf.reset_index()\n",
      "vcf = vcf.rename(columns={'level_0':'barcode'})\n",
      "vcf['barcode'] = vcf['barcode'].map(lambda s: s.replace('_','-'))\n",
      "pts_snv = map(lambda p: p.replace('_','-'), pts_snv)"
     ],
     "language": "python",
     "metadata": {},
     "outputs": [],
     "prompt_number": 19
    },
    {
     "cell_type": "markdown",
     "metadata": {},
     "source": [
      "pts_snv = [f[:12] for f in os.listdir(path) if 'call_stats' in f and '~' not in f]\n",
      "vcf = pd.concat([pd.read_table(path + '{}_call_stats.txt'.format(p), skiprows=[0]) \n",
      "                 for p in pts_snv])\n",
      "vcf['barcode'] = vcf.tumor_name.map(lambda s: s[:12])\n",
      "pts_snv = map(lambda p: p.replace('_','-'), pts_snv)\n",
      "tab = vcf.groupby(['tumor_name','contig']).size().unstack()"
     ]
    },
    {
     "cell_type": "markdown",
     "metadata": {},
     "source": [
      "MuTect sometimes likes to fail ungracefully.  We can tell this when we see no variants in the last few genes.  Here I check for this and filter out those patients."
     ]
    },
    {
     "cell_type": "code",
     "collapsed": false,
     "input": [
      "tab = vcf.groupby(['tumor_name','contig']).size().unstack()\n",
      "drop = tab[[19,20,22]].isnull().sum(1).order() == 3\n",
      "drop = [p[:12] for p,v in drop.iteritems() if v == True]\n",
      "pts_snv = [p for p in pts_snv if p not in drop]\n",
      "vcf = vcf[vcf.judgement == 'KEEP']"
     ],
     "language": "python",
     "metadata": {},
     "outputs": [],
     "prompt_number": 23
    },
    {
     "cell_type": "markdown",
     "metadata": {},
     "source": [
      "Read in all of the indel calls.  I have this funky try catch because some of the files have the VCF header but no actual calls, Pandas does not like this.  For this reason I keep track of the patients with the pts_indels dict and the indel calls with the indels dict, and then put it all together."
     ]
    },
    {
     "cell_type": "code",
     "collapsed": false,
     "input": [
      "indels = {}\n",
      "pts_indels = {}\n",
      "for f in os.listdir(PATH):\n",
      "    if not f.endswith('indels.txt'):\n",
      "        continue\n",
      "    pts_indels[f] = '-'.join(f.split('_')[:3])\n",
      "    try:\n",
      "        indels[pts_indels[f]] = pd.read_table(PATH + f, skiprows=102, header=None)\n",
      "    except:\n",
      "        pass\n",
      "pts_indels = pd.Series(pts_indels)\n",
      "indels = pd.concat(indels)\n",
      "indels.index.names = ['barcode','num']\n",
      "indels.columns = ['chromosome','pos','id','ref','alt','qual','filter','info',\n",
      "                  'format','tumor','normal']\n",
      "indels = indels.reset_index(0)\n",
      "indels = indels[indels['info'] == 'SOMATIC']"
     ],
     "language": "python",
     "metadata": {},
     "outputs": [],
     "prompt_number": 16
    },
    {
     "cell_type": "markdown",
     "metadata": {},
     "source": [
      "Not all variant calling runs were sucessfull.  Here we are only using patients with a sucessfull SomaticIndelDetector run and a sucessfull MuTect run."
     ]
    },
    {
     "cell_type": "code",
     "collapsed": false,
     "input": [
      "pts = list(set(pts_indels).intersection(set(pts_snv)))\n",
      "len(pts), len(pts_indels), len(pts_snv)"
     ],
     "language": "python",
     "metadata": {},
     "outputs": [
      {
       "metadata": {},
       "output_type": "pyout",
       "prompt_number": 25,
       "text": [
        "(462, 463, 462)"
       ]
      }
     ],
     "prompt_number": 25
    },
    {
     "cell_type": "code",
     "collapsed": false,
     "input": [
      "def format_indels_for_oncotator(s):\n",
      "    r = {}\n",
      "    r['Chromosome'] = s['chromosome']\n",
      "    r['Start_Position'] = s['pos']\n",
      "    r['End_Position'] = int(s['pos']) + len(s['ref']) - 1\n",
      "    #if r['Start_Position'] > r['End_Position']:\n",
      "    #    r['Start_Position'] = r['End_Position']\n",
      "    #    r['End_Position'] = r['Start_Position']\n",
      "    r['Reference_Allele'] = s['ref']\n",
      "    r['Tumor_Seq_Allele1'] = s['alt']\n",
      "    r['Tumor_Seq_Allele2'] = s['alt']\n",
      "    r['NCBI_Build'] = '37'\n",
      "    return pd.Series(r)\n",
      "\n",
      "def format_snvs_for_oncotator(s):\n",
      "    r = {}\n",
      "    r['Chromosome'] = s['contig']\n",
      "    r['Start_Position'] = s['position']\n",
      "    r['End_Position'] = s['position']\n",
      "    r['Reference_Allele'] = s['ref_allele']\n",
      "    r['Tumor_Seq_Allele1'] = s['alt_allele']\n",
      "    r['Tumor_Seq_Allele2'] = s['alt_allele']\n",
      "    r['NCBI_Build'] = '37'\n",
      "    return pd.Series(r)"
     ],
     "language": "python",
     "metadata": {},
     "outputs": [],
     "prompt_number": 12
    },
    {
     "cell_type": "markdown",
     "metadata": {},
     "source": [
      "    onc_indel = indels.set_index('barcode').apply(format_indels_for_oncotator,1)\n",
      "    onc_vcf = vcf.set_index('barcode').apply(format_snvs_for_oncotator, 1)\n",
      "    onc = pd.concat([onc_indel, onc_vcf])\n",
      "    onc = onc.reset_index('barcode')\n",
      "    onc.to_csv('tmp.txt', sep=' ', index=False)\n",
      "    \n",
      "    !java -Xmx1524M -jar /cellar/users/agross/sources/oncotator/oncotator.jar -nocache tmp.maf tmp1.maf\n",
      "    \n",
      "    maf = pd.read_table('tmp1.maf')\n",
      "    maf = maf.set_index(['barcode','ONCOTATOR_GENE_SYMBOL'])\n",
      "    classification = maf['ONCOTATOR_VARIANT_CLASSIFICATION_BEST_EFFECT']"
     ]
    },
    {
     "cell_type": "code",
     "collapsed": false,
     "input": [
      "def format_indels_for_oncotator(s):\n",
      "    r = {}\n",
      "    r['chr'] = s['chromosome']\n",
      "    r['start'] = s['pos']\n",
      "    r['end'] = int(s['pos']) + len(s['ref']) - 1\n",
      "    r['reference_allele'] = s['ref']\n",
      "    r['observed_allele'] = s['alt']\n",
      "    return pd.Series(r)\n",
      "\n",
      "def format_snvs_for_oncotator(s):\n",
      "    r = {}\n",
      "    r['chr'] = s['contig']\n",
      "    r['start'] = s['position']\n",
      "    r['end'] = s['position']\n",
      "    r['reference_allele'] = s['ref_allele']\n",
      "    r['observed_allele'] = s['alt_allele']\n",
      "    r = pd.Series(r)\n",
      "    return r"
     ],
     "language": "python",
     "metadata": {},
     "outputs": [],
     "prompt_number": 16
    },
    {
     "cell_type": "code",
     "collapsed": false,
     "input": [
      "onc_indel = indels.set_index('barcode').apply(format_indels_for_oncotator,1)\n",
      "onc_vcf = vcf.set_index('barcode').apply(format_snvs_for_oncotator, 1)\n",
      "onc = pd.concat([onc_indel, onc_vcf])\n",
      "onc = onc.reset_index('barcode')\n",
      "onc = onc[['chr', 'start', 'end', 'reference_allele', 'observed_allele']]\n",
      "onc.to_csv('tmp.txt', sep=' ', index=False, header=False)"
     ],
     "language": "python",
     "metadata": {},
     "outputs": [],
     "prompt_number": 14
    },
    {
     "cell_type": "code",
     "collapsed": false,
     "input": [
      "onc.shape"
     ],
     "language": "python",
     "metadata": {},
     "outputs": [
      {
       "metadata": {},
       "output_type": "pyout",
       "prompt_number": 15,
       "text": [
        "(819, 5)"
       ]
      }
     ],
     "prompt_number": 15
    },
    {
     "cell_type": "markdown",
     "metadata": {},
     "source": [
      "Best way is to paste variants into the [Oncotator web site](http://www.broadinstitute.org/oncotator/)... need to find a better way."
     ]
    },
    {
     "cell_type": "code",
     "collapsed": false,
     "input": [
      "tab = pd.read_table('/cellar/users/agross/Downloads/oncotator_output (5).txt', skiprows=[0])"
     ],
     "language": "python",
     "metadata": {},
     "outputs": [],
     "prompt_number": 18
    },
    {
     "cell_type": "code",
     "collapsed": false,
     "input": [
      "tt = tab[['Chromosome','Start_position','End_position','Reference_Allele', 'Tumor_Seq_Allele1']]\n",
      "tt = bpd.Series({i: tuple(v) for i,v in tt.iterrows()})"
     ],
     "language": "python",
     "metadata": {},
     "outputs": [],
     "prompt_number": 19
    },
    {
     "cell_type": "code",
     "collapsed": false,
     "input": [
      "onc_indel = indels.set_index('barcode').apply(format_indels_for_oncotator,1)\n",
      "onc_vcf = vcf.set_index('barcode').apply(format_snvs_for_oncotator, 1)\n",
      "onc = pd.concat([onc_indel, onc_vcf])\n",
      "oo = onc[['chr','start','end','reference_allele','observed_allele']]\n",
      "oo = [tuple(v) for i,v in oo.iterrows()]\n",
      "maf = pd.DataFrame(tab.ix[tt[tt == s].index[0]] for s in oo)\n",
      "maf.index = onc.index\n",
      "maf = maf.set_index('Hugo_Symbol', append=True)"
     ],
     "language": "python",
     "metadata": {},
     "outputs": [],
     "prompt_number": 20
    },
    {
     "cell_type": "code",
     "collapsed": false,
     "input": [
      "m = maf.dropna(axis=1, how='all')\n",
      "m['Included in Analysis'] = maf.Variant_Classification.isin(['Silent', 'Intron', \"3'UTR\", \"5'UTR\"])==False\n",
      "m = m.iloc[[i[0] not in mut.features.columns for i in m.index]]\n",
      "m.to_csv('/cellar/users/agross/figures/supplemental_table3.csv')"
     ],
     "language": "python",
     "metadata": {},
     "outputs": [],
     "prompt_number": 285
    },
    {
     "cell_type": "code",
     "collapsed": false,
     "input": [
      "print '\\n'.join(list((set(pts) - set(m.index.get_level_values(0).unique()) - set(mut.features.columns))))"
     ],
     "language": "python",
     "metadata": {},
     "outputs": [
      {
       "output_type": "stream",
       "stream": "stdout",
       "text": [
        "TCGA-UP-A6WW\n",
        "TCGA-BB-A6UM\n",
        "TCGA-CQ-A4CH\n",
        "TCGA-CV-A6K0\n",
        "TCGA-CN-A49C\n",
        "TCGA-DQ-7593\n",
        "TCGA-MZ-A6I9\n",
        "TCGA-CN-A640\n",
        "TCGA-P3-A6SW\n",
        "TCGA-BA-A6DF\n",
        "TCGA-UF-A7JJ\n",
        "TCGA-CN-A6V7\n",
        "TCGA-RS-A6TP\n",
        "TCGA-KU-A6H8\n",
        "TCGA-CQ-7069\n",
        "TCGA-TN-A7HJ\n",
        "TCGA-TN-A7HI\n",
        "TCGA-T2-A6X0\n",
        "TCGA-KU-A6H7\n",
        "TCGA-MT-A67G\n",
        "TCGA-CV-A45T\n",
        "TCGA-UF-A7JV\n",
        "TCGA-CN-A6UY\n",
        "TCGA-DQ-7596\n",
        "TCGA-MZ-A5BI\n",
        "TCGA-QK-A6IF\n",
        "TCGA-CV-A45Y\n"
       ]
      }
     ],
     "prompt_number": 297
    },
    {
     "cell_type": "code",
     "collapsed": false,
     "input": [
      "maf.Variant_Classification.value_counts()"
     ],
     "language": "python",
     "metadata": {},
     "outputs": [
      {
       "metadata": {},
       "output_type": "pyout",
       "prompt_number": 21,
       "text": [
        "Missense_Mutation    415\n",
        "Intron               146\n",
        "Nonsense_Mutation     91\n",
        "Silent                66\n",
        "Splice_Site           35\n",
        "Frame_Shift_Del       33\n",
        "Frame_Shift_Ins       17\n",
        "3'UTR                  7\n",
        "In_Frame_Del           5\n",
        "5'UTR                  3\n",
        "In_Frame_Ins           1\n",
        "dtype: int64"
       ]
      }
     ],
     "prompt_number": 21
    },
    {
     "cell_type": "code",
     "collapsed": false,
     "input": [
      "mut_new = (maf.Variant_Classification.isin(['Silent', 'Intron', \"3'UTR\", \"5'UTR\"])==False).groupby(level=[0,1]).sum()\n",
      "mut_new = mut_new.unstack().ix[pts].fillna(0).T"
     ],
     "language": "python",
     "metadata": {},
     "outputs": [],
     "prompt_number": 22
    },
    {
     "cell_type": "code",
     "collapsed": false,
     "input": [
      "(mut_new > 0).sum(1).order()"
     ],
     "language": "python",
     "metadata": {},
     "outputs": [
      {
       "metadata": {},
       "output_type": "pyout",
       "prompt_number": 23,
       "text": [
        "Hugo_Symbol\n",
        "GRB2             0\n",
        "MAPK3            0\n",
        "SNAPC5           0\n",
        "KRAS             1\n",
        "NRAS             1\n",
        "YWHAB            2\n",
        "RAF1             3\n",
        "IRS1             4\n",
        "MAP2K1           6\n",
        "MAP2K2           6\n",
        "MAPK1            7\n",
        "SOS1             8\n",
        "IRS2             9\n",
        "EGFR            14\n",
        "HRAS            28\n",
        "ASPM            29\n",
        "CASP8           47\n",
        "MUC5B           48\n",
        "TP53           307\n",
        "dtype: int64"
       ]
      }
     ],
     "prompt_number": 23
    },
    {
     "cell_type": "code",
     "collapsed": false,
     "input": [
      "len(pts) - 306"
     ],
     "language": "python",
     "metadata": {},
     "outputs": [
      {
       "metadata": {},
       "output_type": "pyout",
       "prompt_number": 24,
       "text": [
        "156"
       ]
      }
     ],
     "prompt_number": 24
    },
    {
     "cell_type": "code",
     "collapsed": false,
     "input": [
      "maf.xs('HRAS', level=1).Protein_Change.value_counts()"
     ],
     "language": "python",
     "metadata": {},
     "outputs": [
      {
       "metadata": {},
       "output_type": "pyout",
       "prompt_number": 25,
       "text": [
        "p.G13V     8\n",
        "p.G12S     6\n",
        "p.G13R     3\n",
        "p.Q61L     3\n",
        "p.G12C     2\n",
        "p.G12D     2\n",
        "p.K117N    1\n",
        "p.H27H     1\n",
        "p.E76*     1\n",
        "p.Q61H     1\n",
        "p.A11D     1\n",
        "p.G12V     1\n",
        "p.G12A     1\n",
        "p.G13C     1\n",
        "dtype: int64"
       ]
      }
     ],
     "prompt_number": 25
    },
    {
     "cell_type": "code",
     "collapsed": false,
     "input": [
      "params = pd.read_table('../global_params.txt', header=None, squeeze=True, \n",
      "                       index_col=0)\n",
      "\n",
      "run_path  = '{}/Firehose__{}/'.format(params.ix['OUT_PATH'], params.ix['RUN_DATE'])\n",
      "run = get_run(run_path, 'Run_' + params.ix['VERSION'])\n",
      "cancer = run.load_cancer(params.ix['CANCER'])\n",
      "clinical = cancer.load_clinical()\n",
      "\n",
      "cn = cancer.load_data('CN_broad')\n",
      "cn.uncompress()\n",
      "mut = cancer.load_data('Mutation')\n",
      "mut.uncompress()\n",
      "\n",
      "del_3p = cn.features.ix['Deletion'].ix['3p14.2'].ix[0]\n",
      "del_3p = del_3p.ix[del_3p.index.diff(ti(clinical.hpv_inferred==1))]\n",
      "\n",
      "rna = pickle.load(open(cancer.path + '/mRNASeq/store/no_hpv.p', 'rb'))\n",
      "mirna = pickle.load(open(cancer.path + '/miRNASeq/store/no_hpv.p', 'rb'))"
     ],
     "language": "python",
     "metadata": {},
     "outputs": [],
     "prompt_number": 26
    },
    {
     "cell_type": "code",
     "collapsed": false,
     "input": [
      "surv = clinical.survival.survival_5y\n",
      "hpv_inferred = clinical.processed.hpv_inferred\n",
      "keepers_o = true_index(hpv_inferred == 0)\n",
      "keepers_o = keepers_o.intersection(mut.features.columns)\n",
      "keepers_o = keepers_o.intersection(cn.features.columns)\n",
      "keepers_o = keepers_o.intersection(surv.unstack().index)\n",
      "keepers_o = keepers_o.intersection(rna.features.columns)\n",
      "keepers_o = keepers_o.intersection(mirna.features.columns)\n",
      "keepers_o = keepers_o.intersection(ti(clinical.clinical.age < 85))\n",
      "len(keepers_o)"
     ],
     "language": "python",
     "metadata": {},
     "outputs": [
      {
       "metadata": {},
       "output_type": "pyout",
       "prompt_number": 225,
       "text": [
        "251"
       ]
      }
     ],
     "prompt_number": 225
    },
    {
     "cell_type": "code",
     "collapsed": false,
     "input": [
      "survival_and_stats(combine(mut_new.ix['TP53']>0, mut.features.ix['TP53']), surv)"
     ],
     "language": "python",
     "metadata": {},
     "outputs": [
      {
       "metadata": {},
       "output_type": "display_data",
       "png": "[encoded data removed]",
       "text": [
        "<matplotlib.figure.Figure at 0xa310ed0>"
       ]
      }
     ],
     "prompt_number": 208
    },
    {
     "cell_type": "code",
     "collapsed": false,
     "input": [
      "pd.crosstab(mut.features.ix['TP53'], pd.Series(mut_new.ix['TP53']>0, name='new'))"
     ],
     "language": "python",
     "metadata": {},
     "outputs": [
      {
       "html": [
        "<div style=\"max-height:1000px;max-width:1500px;overflow:auto;\">\n",
        "<table border=\"1\" class=\"dataframe\">\n",
        "  <thead>\n",
        "    <tr style=\"text-align: right;\">\n",
        "      <th>new</th>\n",
        "      <th>False</th>\n",
        "      <th>True</th>\n",
        "    </tr>\n",
        "    <tr>\n",
        "      <th>TP53</th>\n",
        "      <th></th>\n",
        "      <th></th>\n",
        "    </tr>\n",
        "  </thead>\n",
        "  <tbody>\n",
        "    <tr>\n",
        "      <th>0</th>\n",
        "      <td> 74</td>\n",
        "      <td>   4</td>\n",
        "    </tr>\n",
        "    <tr>\n",
        "      <th>1</th>\n",
        "      <td> 14</td>\n",
        "      <td> 181</td>\n",
        "    </tr>\n",
        "  </tbody>\n",
        "</table>\n",
        "<p>2 rows \u00d7 2 columns</p>\n",
        "</div>"
       ],
       "metadata": {},
       "output_type": "pyout",
       "prompt_number": 209,
       "text": [
        "new   False  True \n",
        "TP53              \n",
        "0        74      4\n",
        "1        14    181\n",
        "\n",
        "[2 rows x 2 columns]"
       ]
      }
     ],
     "prompt_number": 209
    },
    {
     "cell_type": "code",
     "collapsed": false,
     "input": [
      "import Data.Firehose as FH"
     ],
     "language": "python",
     "metadata": {},
     "outputs": [],
     "prompt_number": 210
    },
    {
     "cell_type": "code",
     "collapsed": false,
     "input": [
      "mmm = FH.get_submaf(run.data_path, 'HNSC', genes=['TP53'])"
     ],
     "language": "python",
     "metadata": {},
     "outputs": [],
     "prompt_number": 211
    },
    {
     "cell_type": "code",
     "collapsed": false,
     "input": [
      "cc = combine(mut_new.ix['TP53']>0, mut.features.ix['TP53'])"
     ],
     "language": "python",
     "metadata": {},
     "outputs": [],
     "prompt_number": 197
    },
    {
     "cell_type": "code",
     "collapsed": false,
     "input": [
      "mmm.set_index('Tumor_Sample_Barcode').ix[ti(cc=='second')].sort(axis=0)"
     ],
     "language": "python",
     "metadata": {},
     "outputs": [
      {
       "html": [
        "<div style=\"max-height:1000px;max-width:1500px;overflow:auto;\">\n",
        "<table border=\"1\" class=\"dataframe\">\n",
        "  <thead>\n",
        "    <tr style=\"text-align: right;\">\n",
        "      <th></th>\n",
        "      <th>NCBI_Build</th>\n",
        "      <th>Chromosome</th>\n",
        "      <th>Start_position</th>\n",
        "      <th>End_position</th>\n",
        "      <th>Strand</th>\n",
        "      <th>Reference_Allele</th>\n",
        "      <th>Alt_Allele</th>\n",
        "    </tr>\n",
        "    <tr>\n",
        "      <th>Tumor_Sample_Barcode</th>\n",
        "      <th></th>\n",
        "      <th></th>\n",
        "      <th></th>\n",
        "      <th></th>\n",
        "      <th></th>\n",
        "      <th></th>\n",
        "      <th></th>\n",
        "    </tr>\n",
        "  </thead>\n",
        "  <tbody>\n",
        "    <tr>\n",
        "      <th>TCGA-BA-7269</th>\n",
        "      <td> 37</td>\n",
        "      <td> 17</td>\n",
        "      <td> 7578180</td>\n",
        "      <td> 7578181</td>\n",
        "      <td> +</td>\n",
        "      <td>                     -</td>\n",
        "      <td>  T</td>\n",
        "    </tr>\n",
        "    <tr>\n",
        "      <th>TCGA-BB-4217</th>\n",
        "      <td> 37</td>\n",
        "      <td> 17</td>\n",
        "      <td> 7578457</td>\n",
        "      <td> 7578457</td>\n",
        "      <td> +</td>\n",
        "      <td>                     C</td>\n",
        "      <td>  A</td>\n",
        "    </tr>\n",
        "    <tr>\n",
        "      <th>TCGA-CN-5358</th>\n",
        "      <td> 37</td>\n",
        "      <td> 17</td>\n",
        "      <td> 7578222</td>\n",
        "      <td> 7578223</td>\n",
        "      <td> +</td>\n",
        "      <td>                    TC</td>\n",
        "      <td>  -</td>\n",
        "    </tr>\n",
        "    <tr>\n",
        "      <th>TCGA-CN-5360</th>\n",
        "      <td> 37</td>\n",
        "      <td> 17</td>\n",
        "      <td> 7578474</td>\n",
        "      <td> 7578474</td>\n",
        "      <td> +</td>\n",
        "      <td>                     C</td>\n",
        "      <td>  -</td>\n",
        "    </tr>\n",
        "    <tr>\n",
        "      <th>TCGA-CN-6017</th>\n",
        "      <td> 37</td>\n",
        "      <td> 17</td>\n",
        "      <td> 7579441</td>\n",
        "      <td> 7579453</td>\n",
        "      <td> +</td>\n",
        "      <td>         CGGTGTAGGAGCT</td>\n",
        "      <td>  -</td>\n",
        "    </tr>\n",
        "    <tr>\n",
        "      <th>TCGA-CR-7386</th>\n",
        "      <td> 37</td>\n",
        "      <td> 17</td>\n",
        "      <td> 7578217</td>\n",
        "      <td> 7578218</td>\n",
        "      <td> +</td>\n",
        "      <td>                    GT</td>\n",
        "      <td>  -</td>\n",
        "    </tr>\n",
        "    <tr>\n",
        "      <th>TCGA-CR-7393</th>\n",
        "      <td> 37</td>\n",
        "      <td> 17</td>\n",
        "      <td> 7579566</td>\n",
        "      <td> 7579566</td>\n",
        "      <td> +</td>\n",
        "      <td>                     C</td>\n",
        "      <td>  -</td>\n",
        "    </tr>\n",
        "    <tr>\n",
        "      <th>TCGA-CV-5970</th>\n",
        "      <td> 37</td>\n",
        "      <td> 17</td>\n",
        "      <td> 7577538</td>\n",
        "      <td> 7577538</td>\n",
        "      <td> +</td>\n",
        "      <td>                     C</td>\n",
        "      <td>  T</td>\n",
        "    </tr>\n",
        "    <tr>\n",
        "      <th>TCGA-CV-6960</th>\n",
        "      <td> 37</td>\n",
        "      <td> 17</td>\n",
        "      <td> 7577142</td>\n",
        "      <td> 7577143</td>\n",
        "      <td> +</td>\n",
        "      <td>                    CC</td>\n",
        "      <td> AA</td>\n",
        "    </tr>\n",
        "    <tr>\n",
        "      <th>TCGA-CV-7097</th>\n",
        "      <td> 37</td>\n",
        "      <td> 17</td>\n",
        "      <td> 7576840</td>\n",
        "      <td> 7576851</td>\n",
        "      <td> +</td>\n",
        "      <td>          CAAGACTTAGTA</td>\n",
        "      <td>  -</td>\n",
        "    </tr>\n",
        "    <tr>\n",
        "      <th>TCGA-CV-7178</th>\n",
        "      <td> 37</td>\n",
        "      <td> 17</td>\n",
        "      <td> 7577120</td>\n",
        "      <td> 7577137</td>\n",
        "      <td> +</td>\n",
        "      <td>    CGCACCTCAAAGCTGTTC</td>\n",
        "      <td>  -</td>\n",
        "    </tr>\n",
        "    <tr>\n",
        "      <th>TCGA-CV-7243</th>\n",
        "      <td> 37</td>\n",
        "      <td> 17</td>\n",
        "      <td> 7578446</td>\n",
        "      <td> 7578466</td>\n",
        "      <td> +</td>\n",
        "      <td> TGGCCATGGCGCGGACGCGGG</td>\n",
        "      <td>  -</td>\n",
        "    </tr>\n",
        "    <tr>\n",
        "      <th>TCGA-CV-7432</th>\n",
        "      <td> 37</td>\n",
        "      <td> 17</td>\n",
        "      <td> 7577554</td>\n",
        "      <td> 7577564</td>\n",
        "      <td> +</td>\n",
        "      <td>           TGCAGGAACTG</td>\n",
        "      <td>  -</td>\n",
        "    </tr>\n",
        "    <tr>\n",
        "      <th>TCGA-CV-7432</th>\n",
        "      <td> 37</td>\n",
        "      <td> 17</td>\n",
        "      <td> 7579312</td>\n",
        "      <td> 7579312</td>\n",
        "      <td> +</td>\n",
        "      <td>                     C</td>\n",
        "      <td>  A</td>\n",
        "    </tr>\n",
        "    <tr>\n",
        "      <th>TCGA-DQ-5630</th>\n",
        "      <td> 37</td>\n",
        "      <td> 17</td>\n",
        "      <td> 7576868</td>\n",
        "      <td> 7576886</td>\n",
        "      <td> +</td>\n",
        "      <td>   TTCTCCATCCAGTGGTTTC</td>\n",
        "      <td>  -</td>\n",
        "    </tr>\n",
        "  </tbody>\n",
        "</table>\n",
        "<p>15 rows \u00d7 7 columns</p>\n",
        "</div>"
       ],
       "metadata": {},
       "output_type": "pyout",
       "prompt_number": 198,
       "text": [
        "                      NCBI_Build Chromosome  Start_position  End_position Strand       Reference_Allele Alt_Allele\n",
        "Tumor_Sample_Barcode                                                                                              \n",
        "TCGA-BA-7269                  37         17         7578180       7578181      +                      -          T\n",
        "TCGA-BB-4217                  37         17         7578457       7578457      +                      C          A\n",
        "TCGA-CN-5358                  37         17         7578222       7578223      +                     TC          -\n",
        "TCGA-CN-5360                  37         17         7578474       7578474      +                      C          -\n",
        "TCGA-CN-6017                  37         17         7579441       7579453      +          CGGTGTAGGAGCT          -\n",
        "TCGA-CR-7386                  37         17         7578217       7578218      +                     GT          -\n",
        "TCGA-CR-7393                  37         17         7579566       7579566      +                      C          -\n",
        "TCGA-CV-5970                  37         17         7577538       7577538      +                      C          T\n",
        "TCGA-CV-6960                  37         17         7577142       7577143      +                     CC         AA\n",
        "TCGA-CV-7097                  37         17         7576840       7576851      +           CAAGACTTAGTA          -\n",
        "TCGA-CV-7178                  37         17         7577120       7577137      +     CGCACCTCAAAGCTGTTC          -\n",
        "TCGA-CV-7243                  37         17         7578446       7578466      +  TGGCCATGGCGCGGACGCGGG          -\n",
        "TCGA-CV-7432                  37         17         7577554       7577564      +            TGCAGGAACTG          -\n",
        "TCGA-CV-7432                  37         17         7579312       7579312      +                      C          A\n",
        "TCGA-DQ-5630                  37         17         7576868       7576886      +    TTCTCCATCCAGTGGTTTC          -\n",
        "\n",
        "[15 rows x 7 columns]"
       ]
      }
     ],
     "prompt_number": 198
    },
    {
     "cell_type": "code",
     "collapsed": false,
     "input": [
      "fisher_exact_test(clinical.hpv_inferred,\n",
      "                  mut_new.ix['TP53'].ix[mut_new.columns.diff(mut.features.columns)]>0)"
     ],
     "language": "python",
     "metadata": {},
     "outputs": [
      {
       "metadata": {},
       "output_type": "pyout",
       "prompt_number": 199,
       "text": [
        "odds_ratio    7.06e-02\n",
        "p             7.60e-06\n",
        "dtype: float64"
       ]
      }
     ],
     "prompt_number": 199
    },
    {
     "cell_type": "code",
     "collapsed": false,
     "input": [
      "(combo_new == 'both').value_counts()"
     ],
     "language": "python",
     "metadata": {},
     "outputs": [
      {
       "metadata": {},
       "output_type": "pyout",
       "prompt_number": 242,
       "text": [
        "True     66\n",
        "False    45\n",
        "dtype: int64"
       ]
      }
     ],
     "prompt_number": 242
    },
    {
     "cell_type": "code",
     "collapsed": false,
     "input": [
      "print len(combine(mut_new.ix['TP53'].ix[mut_new.columns.diff(mut.features.columns)]>0, \n",
      "                 clinical.hpv_inferred))\n",
      "pd.crosstab(mut_new.ix['TP53'].ix[mut_new.columns.diff(mut.features.columns)]>0, \n",
      "            clinical.hpv_inferred)"
     ],
     "language": "python",
     "metadata": {},
     "outputs": [
      {
       "output_type": "stream",
       "stream": "stdout",
       "text": [
        "130\n"
       ]
      },
      {
       "html": [
        "<div style=\"max-height:1000px;max-width:1500px;overflow:auto;\">\n",
        "<table border=\"1\" class=\"dataframe\">\n",
        "  <thead>\n",
        "    <tr style=\"text-align: right;\">\n",
        "      <th>h</th>\n",
        "      <th>False</th>\n",
        "      <th>True</th>\n",
        "    </tr>\n",
        "    <tr>\n",
        "      <th>TP53</th>\n",
        "      <th></th>\n",
        "      <th></th>\n",
        "    </tr>\n",
        "  </thead>\n",
        "  <tbody>\n",
        "    <tr>\n",
        "      <th>False</th>\n",
        "      <td> 28</td>\n",
        "      <td> 14</td>\n",
        "    </tr>\n",
        "    <tr>\n",
        "      <th>True </th>\n",
        "      <td> 85</td>\n",
        "      <td>  3</td>\n",
        "    </tr>\n",
        "  </tbody>\n",
        "</table>\n",
        "<p>2 rows \u00d7 2 columns</p>\n",
        "</div>"
       ],
       "metadata": {},
       "output_type": "pyout",
       "prompt_number": 200,
       "text": [
        "h      False  True \n",
        "TP53               \n",
        "False     28     14\n",
        "True      85      3\n",
        "\n",
        "[2 rows x 2 columns]"
       ]
      }
     ],
     "prompt_number": 200
    },
    {
     "cell_type": "code",
     "collapsed": false,
     "input": [
      "fisher_exact_test(mut.features.ix['TP53'], clinical.hpv_inferred)"
     ],
     "language": "python",
     "metadata": {},
     "outputs": [
      {
       "metadata": {},
       "output_type": "pyout",
       "prompt_number": 201,
       "text": [
        "odds_ratio    6.25e-03\n",
        "p             4.79e-23\n",
        "dtype: float64"
       ]
      }
     ],
     "prompt_number": 201
    },
    {
     "cell_type": "code",
     "collapsed": false,
     "input": [
      "print len(combine(mut.features.ix['TP53'], clinical.hpv_inferred))\n",
      "pd.crosstab(mut.features.ix['TP53'], clinical.hpv_inferred)"
     ],
     "language": "python",
     "metadata": {},
     "outputs": [
      {
       "output_type": "stream",
       "stream": "stdout",
       "text": [
        "306\n"
       ]
      },
      {
       "html": [
        "<div style=\"max-height:1000px;max-width:1500px;overflow:auto;\">\n",
        "<table border=\"1\" class=\"dataframe\">\n",
        "  <thead>\n",
        "    <tr style=\"text-align: right;\">\n",
        "      <th>d</th>\n",
        "      <th>False</th>\n",
        "      <th>True</th>\n",
        "    </tr>\n",
        "    <tr>\n",
        "      <th>TP53</th>\n",
        "      <th></th>\n",
        "      <th></th>\n",
        "    </tr>\n",
        "  </thead>\n",
        "  <tbody>\n",
        "    <tr>\n",
        "      <th>0</th>\n",
        "      <td>  53</td>\n",
        "      <td> 40</td>\n",
        "    </tr>\n",
        "    <tr>\n",
        "      <th>1</th>\n",
        "      <td> 212</td>\n",
        "      <td>  1</td>\n",
        "    </tr>\n",
        "  </tbody>\n",
        "</table>\n",
        "<p>2 rows \u00d7 2 columns</p>\n",
        "</div>"
       ],
       "metadata": {},
       "output_type": "pyout",
       "prompt_number": 202,
       "text": [
        "d     False  True \n",
        "TP53              \n",
        "0        53     40\n",
        "1       212      1\n",
        "\n",
        "[2 rows x 2 columns]"
       ]
      }
     ],
     "prompt_number": 202
    },
    {
     "cell_type": "code",
     "collapsed": false,
     "input": [
      "pd.crosstab(del_3p<0, mut_new.ix['TP53']>0)"
     ],
     "language": "python",
     "metadata": {},
     "outputs": [
      {
       "html": [
        "<div style=\"max-height:1000px;max-width:1500px;overflow:auto;\">\n",
        "<table border=\"1\" class=\"dataframe\">\n",
        "  <thead>\n",
        "    <tr style=\"text-align: right;\">\n",
        "      <th>TP53</th>\n",
        "      <th>False</th>\n",
        "      <th>True</th>\n",
        "    </tr>\n",
        "    <tr>\n",
        "      <th>Lesion</th>\n",
        "      <th></th>\n",
        "      <th></th>\n",
        "    </tr>\n",
        "  </thead>\n",
        "  <tbody>\n",
        "    <tr>\n",
        "      <th>False</th>\n",
        "      <td> 44</td>\n",
        "      <td>  38</td>\n",
        "    </tr>\n",
        "    <tr>\n",
        "      <th>True </th>\n",
        "      <td> 39</td>\n",
        "      <td> 227</td>\n",
        "    </tr>\n",
        "  </tbody>\n",
        "</table>\n",
        "<p>2 rows \u00d7 2 columns</p>\n",
        "</div>"
       ],
       "metadata": {},
       "output_type": "pyout",
       "prompt_number": 203,
       "text": [
        "TP53    False  True \n",
        "Lesion              \n",
        "False      44     38\n",
        "True       39    227\n",
        "\n",
        "[2 rows x 2 columns]"
       ]
      }
     ],
     "prompt_number": 203
    },
    {
     "cell_type": "code",
     "collapsed": false,
     "input": [
      "fisher_exact_test(del_3p<0, mut_new.ix['TP53']>0)"
     ],
     "language": "python",
     "metadata": {},
     "outputs": [
      {
       "metadata": {},
       "output_type": "pyout",
       "prompt_number": 204,
       "text": [
        "odds_ratio    6.74e+00\n",
        "p             1.23e-11\n",
        "dtype: float64"
       ]
      }
     ],
     "prompt_number": 204
    },
    {
     "cell_type": "code",
     "collapsed": false,
     "input": [
      "new = pd.Series(1, index=mut_new.columns.intersection(ti(hpv_inferred==False)).diff(mut.features.columns))\n",
      "new = new.ix[keepers_o.union(new.index)].fillna(0)\n",
      "new.value_counts()"
     ],
     "language": "python",
     "metadata": {},
     "outputs": [
      {
       "metadata": {},
       "output_type": "pyout",
       "prompt_number": 226,
       "text": [
        "0    251\n",
        "1    113\n",
        "dtype: int64"
       ]
      }
     ],
     "prompt_number": 226
    },
    {
     "cell_type": "code",
     "collapsed": false,
     "input": [
      "p53 = mut_new.ix['TP53']>0\n",
      "combo = combine(p53, del_3p.dropna()<0)\n",
      "combo_new = combo.ix[ti(new>0)].dropna()"
     ],
     "language": "python",
     "metadata": {},
     "outputs": [],
     "prompt_number": 243
    },
    {
     "cell_type": "code",
     "collapsed": false,
     "input": [
      "fisher_exact_test(p53.ix[ti(new>0)], del_3p<0)"
     ],
     "language": "python",
     "metadata": {},
     "outputs": [
      {
       "metadata": {},
       "output_type": "pyout",
       "prompt_number": 228,
       "text": [
        "odds_ratio    6.99e+00\n",
        "p             3.74e-05\n",
        "dtype: float64"
       ]
      }
     ],
     "prompt_number": 228
    },
    {
     "cell_type": "code",
     "collapsed": false,
     "input": [
      "r1 = screen_feature(p53.ix[ti(new>0)], fisher_exact_test, cn.features.ix['Deletion'] < 0)\n",
      "del r1['q']\n",
      "r1['p_bonf'] = r1.p * len(r1)\n",
      "r1.index = [i[0] for i in r1.index]\n",
      "r2 = screen_feature(p53.ix[ti(new>0)], fisher_exact_test, cn.features.ix['Amplification'] > 0)\n",
      "del r2['q']\n",
      "r2['p_bonf'] = r2.p * len(r2)\n",
      "r2.index = [i[0] for i in r2.index]"
     ],
     "language": "python",
     "metadata": {},
     "outputs": [],
     "prompt_number": 229
    },
    {
     "cell_type": "code",
     "collapsed": false,
     "input": [
      "r3 = screen_feature(mut.features.ix['TP53'].ix[keepers_o], fisher_exact_test, \n",
      "                    cn.features.ix['Deletion'] < 0)\n",
      "del r3['q']\n",
      "r3['p_bonf'] = r3.p * len(r3)\n",
      "r3.index = [i[0] for i in r3.index]\n",
      "r4 = screen_feature(mut.features.ix['TP53'].ix[keepers_o], fisher_exact_test, \n",
      "                    cn.features.ix['Amplification'] > 0)\n",
      "del r4['q']\n",
      "r4['p_bonf'] = r4.p * len(r4)\n",
      "r4.index = [i[0] for i in r4.index]"
     ],
     "language": "python",
     "metadata": {},
     "outputs": [],
     "prompt_number": 230
    },
    {
     "cell_type": "code",
     "collapsed": false,
     "input": [
      "r3['odds_ratio_validation'] = r1.odds_ratio\n",
      "r4['odds_ratio_validation'] = r2.odds_ratio\n",
      "r3['p_validation'] = r1.p\n",
      "r4['p_validation'] = r2.p"
     ],
     "language": "python",
     "metadata": {},
     "outputs": [],
     "prompt_number": 231
    },
    {
     "cell_type": "code",
     "collapsed": false,
     "input": [
      "tab = pd.concat([r3.head(6), r4.head(6)], keys=['Deletion','Amplification'])\n",
      "cols = [('odds ratio','test'),('p','test'),('q','bonf'), ('odds ratio','validation'), ('p', 'validation')]\n",
      "tab.columns = pd.MultiIndex.from_tuples(cols)\n",
      "tab.sort_index(axis=1)"
     ],
     "language": "python",
     "metadata": {},
     "outputs": [
      {
       "html": [
        "<div style=\"max-height:1000px;max-width:1500px;overflow:auto;\">\n",
        "<table border=\"1\" class=\"dataframe\">\n",
        "  <thead>\n",
        "    <tr>\n",
        "      <th></th>\n",
        "      <th></th>\n",
        "      <th colspan=\"2\" halign=\"left\">odds ratio</th>\n",
        "      <th colspan=\"2\" halign=\"left\">p</th>\n",
        "      <th>q</th>\n",
        "    </tr>\n",
        "    <tr>\n",
        "      <th></th>\n",
        "      <th></th>\n",
        "      <th>test</th>\n",
        "      <th>validation</th>\n",
        "      <th>test</th>\n",
        "      <th>validation</th>\n",
        "      <th>bonf</th>\n",
        "    </tr>\n",
        "  </thead>\n",
        "  <tbody>\n",
        "    <tr>\n",
        "      <th rowspan=\"6\" valign=\"top\">Deletion</th>\n",
        "      <th>3p14.3</th>\n",
        "      <td> 6.34</td>\n",
        "      <td> 6.99</td>\n",
        "      <td> 5.34e-07</td>\n",
        "      <td> 3.74e-05</td>\n",
        "      <td> 2.56e-05</td>\n",
        "    </tr>\n",
        "    <tr>\n",
        "      <th>3p14.2</th>\n",
        "      <td> 6.34</td>\n",
        "      <td> 6.99</td>\n",
        "      <td> 5.34e-07</td>\n",
        "      <td> 3.74e-05</td>\n",
        "      <td> 2.56e-05</td>\n",
        "    </tr>\n",
        "    <tr>\n",
        "      <th>3p25.3</th>\n",
        "      <td> 5.73</td>\n",
        "      <td> 5.21</td>\n",
        "      <td> 7.73e-07</td>\n",
        "      <td> 3.94e-04</td>\n",
        "      <td> 3.71e-05</td>\n",
        "    </tr>\n",
        "    <tr>\n",
        "      <th>3p12.2</th>\n",
        "      <td> 4.88</td>\n",
        "      <td> 5.67</td>\n",
        "      <td> 7.98e-06</td>\n",
        "      <td> 1.89e-04</td>\n",
        "      <td> 3.83e-04</td>\n",
        "    </tr>\n",
        "    <tr>\n",
        "      <th>10p15.3</th>\n",
        "      <td> 4.10</td>\n",
        "      <td> 4.48</td>\n",
        "      <td> 4.17e-04</td>\n",
        "      <td> 1.57e-02</td>\n",
        "      <td> 2.00e-02</td>\n",
        "    </tr>\n",
        "    <tr>\n",
        "      <th>11q14.2</th>\n",
        "      <td> 3.93</td>\n",
        "      <td> 1.21</td>\n",
        "      <td> 7.13e-04</td>\n",
        "      <td> 8.16e-01</td>\n",
        "      <td> 3.42e-02</td>\n",
        "    </tr>\n",
        "    <tr>\n",
        "      <th rowspan=\"6\" valign=\"top\">Amplification</th>\n",
        "      <th>3q26.33</th>\n",
        "      <td> 6.06</td>\n",
        "      <td> 4.99</td>\n",
        "      <td> 1.53e-07</td>\n",
        "      <td> 5.37e-04</td>\n",
        "      <td> 3.98e-06</td>\n",
        "    </tr>\n",
        "    <tr>\n",
        "      <th>8q24.21</th>\n",
        "      <td> 4.08</td>\n",
        "      <td> 3.64</td>\n",
        "      <td> 5.14e-05</td>\n",
        "      <td> 1.29e-02</td>\n",
        "      <td> 1.34e-03</td>\n",
        "    </tr>\n",
        "    <tr>\n",
        "      <th>12p13.33</th>\n",
        "      <td> 3.30</td>\n",
        "      <td> 2.16</td>\n",
        "      <td> 1.68e-03</td>\n",
        "      <td> 3.01e-01</td>\n",
        "      <td> 4.36e-02</td>\n",
        "    </tr>\n",
        "    <tr>\n",
        "      <th>18p11.31</th>\n",
        "      <td> 2.68</td>\n",
        "      <td> 3.19</td>\n",
        "      <td> 1.14e-02</td>\n",
        "      <td> 7.56e-02</td>\n",
        "      <td> 2.96e-01</td>\n",
        "    </tr>\n",
        "    <tr>\n",
        "      <th>9p24.1</th>\n",
        "      <td> 0.41</td>\n",
        "      <td> 0.79</td>\n",
        "      <td> 1.48e-02</td>\n",
        "      <td> 6.24e-01</td>\n",
        "      <td> 3.84e-01</td>\n",
        "    </tr>\n",
        "    <tr>\n",
        "      <th>8q11.21</th>\n",
        "      <td> 2.04</td>\n",
        "      <td> 3.15</td>\n",
        "      <td> 3.33e-02</td>\n",
        "      <td> 1.67e-02</td>\n",
        "      <td> 8.66e-01</td>\n",
        "    </tr>\n",
        "  </tbody>\n",
        "</table>\n",
        "<p>12 rows \u00d7 5 columns</p>\n",
        "</div>"
       ],
       "metadata": {},
       "output_type": "pyout",
       "prompt_number": 232,
       "text": [
        "                        odds ratio                     p                     q\n",
        "                              test  validation      test  validation      bonf\n",
        "Deletion      3p14.3          6.34        6.99  5.34e-07    3.74e-05  2.56e-05\n",
        "              3p14.2          6.34        6.99  5.34e-07    3.74e-05  2.56e-05\n",
        "              3p25.3          5.73        5.21  7.73e-07    3.94e-04  3.71e-05\n",
        "              3p12.2          4.88        5.67  7.98e-06    1.89e-04  3.83e-04\n",
        "              10p15.3         4.10        4.48  4.17e-04    1.57e-02  2.00e-02\n",
        "              11q14.2         3.93        1.21  7.13e-04    8.16e-01  3.42e-02\n",
        "Amplification 3q26.33         6.06        4.99  1.53e-07    5.37e-04  3.98e-06\n",
        "              8q24.21         4.08        3.64  5.14e-05    1.29e-02  1.34e-03\n",
        "              12p13.33        3.30        2.16  1.68e-03    3.01e-01  4.36e-02\n",
        "              18p11.31        2.68        3.19  1.14e-02    7.56e-02  2.96e-01\n",
        "              9p24.1          0.41        0.79  1.48e-02    6.24e-01  3.84e-01\n",
        "              8q11.21         2.04        3.15  3.33e-02    1.67e-02  8.66e-01\n",
        "\n",
        "[12 rows x 5 columns]"
       ]
      }
     ],
     "prompt_number": 232
    },
    {
     "cell_type": "code",
     "collapsed": false,
     "input": [
      "print len(combine(p53.ix[ti(new>0)], del_3p<0))\n",
      "pd.crosstab(p53.ix[ti(new>0)], del_3p<0)"
     ],
     "language": "python",
     "metadata": {},
     "outputs": [
      {
       "output_type": "stream",
       "stream": "stdout",
       "text": [
        "111\n"
       ]
      },
      {
       "html": [
        "<div style=\"max-height:1000px;max-width:1500px;overflow:auto;\">\n",
        "<table border=\"1\" class=\"dataframe\">\n",
        "  <thead>\n",
        "    <tr style=\"text-align: right;\">\n",
        "      <th>Lesion</th>\n",
        "      <th>False</th>\n",
        "      <th>True</th>\n",
        "    </tr>\n",
        "    <tr>\n",
        "      <th>TP53</th>\n",
        "      <th></th>\n",
        "      <th></th>\n",
        "    </tr>\n",
        "  </thead>\n",
        "  <tbody>\n",
        "    <tr>\n",
        "      <th>False</th>\n",
        "      <td> 18</td>\n",
        "      <td> 10</td>\n",
        "    </tr>\n",
        "    <tr>\n",
        "      <th>True </th>\n",
        "      <td> 17</td>\n",
        "      <td> 66</td>\n",
        "    </tr>\n",
        "  </tbody>\n",
        "</table>\n",
        "<p>2 rows \u00d7 2 columns</p>\n",
        "</div>"
       ],
       "metadata": {},
       "output_type": "pyout",
       "prompt_number": 233,
       "text": [
        "Lesion  False  True \n",
        "TP53                \n",
        "False      18     10\n",
        "True       17     66\n",
        "\n",
        "[2 rows x 2 columns]"
       ]
      }
     ],
     "prompt_number": 233
    },
    {
     "cell_type": "code",
     "collapsed": false,
     "input": [
      "combo_old = combine(mut.features.ix['TP53'] > 0, cn.features.ix['Deletion'].ix['3p14.2'].ix[0] < 0)\n",
      "combo_old = combo_old.ix[keepers_o]"
     ],
     "language": "python",
     "metadata": {},
     "outputs": [],
     "prompt_number": 240
    },
    {
     "cell_type": "code",
     "collapsed": false,
     "input": [
      "combo_old.ix[keepers_o].value_counts()"
     ],
     "language": "python",
     "metadata": {},
     "outputs": [
      {
       "metadata": {},
       "output_type": "pyout",
       "prompt_number": 239,
       "text": [
        "both       179\n",
        "Lesion      27\n",
        "TP53        23\n",
        "neither     22\n",
        "dtype: int64"
       ]
      }
     ],
     "prompt_number": 239
    },
    {
     "cell_type": "code",
     "collapsed": false,
     "input": [
      "fisher_exact_test(combo_new=='both',  mut_new.ix['CASP8']>0)"
     ],
     "language": "python",
     "metadata": {},
     "outputs": [
      {
       "metadata": {},
       "output_type": "pyout",
       "prompt_number": 246,
       "text": [
        "odds_ratio    5.15e-02\n",
        "p             2.13e-06\n",
        "dtype: float64"
       ]
      }
     ],
     "prompt_number": 246
    },
    {
     "cell_type": "code",
     "collapsed": false,
     "input": [
      "pd.crosstab(combo_new=='both',  mut_new.ix['CASP8']>0)"
     ],
     "language": "python",
     "metadata": {},
     "outputs": [
      {
       "html": [
        "<div style=\"max-height:1000px;max-width:1500px;overflow:auto;\">\n",
        "<table border=\"1\" class=\"dataframe\">\n",
        "  <thead>\n",
        "    <tr style=\"text-align: right;\">\n",
        "      <th>CASP8</th>\n",
        "      <th>False</th>\n",
        "      <th>True</th>\n",
        "    </tr>\n",
        "    <tr>\n",
        "      <th>TP53</th>\n",
        "      <th></th>\n",
        "      <th></th>\n",
        "    </tr>\n",
        "  </thead>\n",
        "  <tbody>\n",
        "    <tr>\n",
        "      <th>False</th>\n",
        "      <td> 28</td>\n",
        "      <td> 17</td>\n",
        "    </tr>\n",
        "    <tr>\n",
        "      <th>True </th>\n",
        "      <td> 64</td>\n",
        "      <td>  2</td>\n",
        "    </tr>\n",
        "  </tbody>\n",
        "</table>\n",
        "<p>2 rows \u00d7 2 columns</p>\n",
        "</div>"
       ],
       "metadata": {},
       "output_type": "pyout",
       "prompt_number": 185,
       "text": [
        "CASP8  False  True \n",
        "TP53               \n",
        "False     28     17\n",
        "True      64      2\n",
        "\n",
        "[2 rows x 2 columns]"
       ]
      }
     ],
     "prompt_number": 185
    },
    {
     "cell_type": "code",
     "collapsed": false,
     "input": [
      "v = mut_new.ix[run.gene_sets['REACTOME_SOS_MEDIATED_SIGNALLING']].sum()>0\n",
      "fisher_exact_test(combo_new=='both',  v)"
     ],
     "language": "python",
     "metadata": {},
     "outputs": [
      {
       "metadata": {},
       "output_type": "pyout",
       "prompt_number": 247,
       "text": [
        "odds_ratio    7.14e-02\n",
        "p             3.62e-06\n",
        "dtype: float64"
       ]
      }
     ],
     "prompt_number": 247
    },
    {
     "cell_type": "code",
     "collapsed": false,
     "input": [
      "pd.crosstab(combo_new=='both', v)"
     ],
     "language": "python",
     "metadata": {},
     "outputs": [
      {
       "html": [
        "<div style=\"max-height:1000px;max-width:1500px;overflow:auto;\">\n",
        "<table border=\"1\" class=\"dataframe\">\n",
        "  <thead>\n",
        "    <tr style=\"text-align: right;\">\n",
        "      <th>d</th>\n",
        "      <th>False</th>\n",
        "      <th>True</th>\n",
        "    </tr>\n",
        "    <tr>\n",
        "      <th>TP53</th>\n",
        "      <th></th>\n",
        "      <th></th>\n",
        "    </tr>\n",
        "  </thead>\n",
        "  <tbody>\n",
        "    <tr>\n",
        "      <th>False</th>\n",
        "      <td> 27</td>\n",
        "      <td> 18</td>\n",
        "    </tr>\n",
        "    <tr>\n",
        "      <th>True </th>\n",
        "      <td> 63</td>\n",
        "      <td>  3</td>\n",
        "    </tr>\n",
        "  </tbody>\n",
        "</table>\n",
        "<p>2 rows \u00d7 2 columns</p>\n",
        "</div>"
       ],
       "metadata": {},
       "output_type": "pyout",
       "prompt_number": 248,
       "text": [
        "d      False  True \n",
        "TP53               \n",
        "False     27     18\n",
        "True      63      3\n",
        "\n",
        "[2 rows x 2 columns]"
       ]
      }
     ],
     "prompt_number": 248
    },
    {
     "cell_type": "code",
     "collapsed": false,
     "input": [
      "ras_p = mut.features.ix['REACTOME_SOS_MEDIATED_SIGNALLING'].combine_first(v) > 0\n",
      "fisher_exact_test(combo=='both',  ras_p)"
     ],
     "language": "python",
     "metadata": {},
     "outputs": [
      {
       "metadata": {},
       "output_type": "pyout",
       "prompt_number": 182,
       "text": [
        "odds_ratio    1.05e-01\n",
        "p             3.80e-11\n",
        "dtype: float64"
       ]
      }
     ],
     "prompt_number": 182
    },
    {
     "cell_type": "code",
     "collapsed": false,
     "input": [
      "from Figures.MemoPlot import pathway_plot"
     ],
     "language": "python",
     "metadata": {},
     "outputs": [],
     "prompt_number": 107
    },
    {
     "cell_type": "code",
     "collapsed": false,
     "input": [
      "combo_t.value_counts()"
     ],
     "language": "python",
     "metadata": {},
     "outputs": [
      {
       "metadata": {},
       "output_type": "pyout",
       "prompt_number": 116,
       "text": [
        "both       251\n",
        "neither     42\n",
        "TP53        42\n",
        "Lesion      37\n",
        "dtype: int64"
       ]
      }
     ],
     "prompt_number": 116
    },
    {
     "cell_type": "code",
     "collapsed": false,
     "input": [
      "len(ti(combo_t != 'both'))"
     ],
     "language": "python",
     "metadata": {},
     "outputs": [
      {
       "metadata": {},
       "output_type": "pyout",
       "prompt_number": 124,
       "text": [
        "121"
       ]
      }
     ],
     "prompt_number": 124
    },
    {
     "cell_type": "code",
     "collapsed": false,
     "input": [
      "combo_t.value_counts()"
     ],
     "language": "python",
     "metadata": {},
     "outputs": [
      {
       "metadata": {},
       "output_type": "pyout",
       "prompt_number": 128,
       "text": [
        "both       251\n",
        "neither     42\n",
        "TP53        42\n",
        "Lesion      37\n",
        "dtype: int64"
       ]
      }
     ],
     "prompt_number": 128
    },
    {
     "cell_type": "code",
     "collapsed": false,
     "input": [
      "df"
     ],
     "language": "python",
     "metadata": {},
     "outputs": [
      {
       "html": [
        "<div style=\"max-height:1000px;max-width:1500px;overflow:auto;\">\n",
        "<table border=\"1\" class=\"dataframe\">\n",
        "  <thead>\n",
        "    <tr style=\"text-align: right;\">\n",
        "      <th></th>\n",
        "      <th>TCGA-BA-4074</th>\n",
        "      <th>TCGA-BA-4075</th>\n",
        "      <th>TCGA-BA-4076</th>\n",
        "      <th>TCGA-BA-4077</th>\n",
        "      <th>TCGA-BA-4078</th>\n",
        "      <th>TCGA-BA-5149</th>\n",
        "      <th>TCGA-BA-5151</th>\n",
        "      <th>TCGA-BA-5152</th>\n",
        "      <th>TCGA-BA-5153</th>\n",
        "      <th>TCGA-BA-5555</th>\n",
        "      <th>TCGA-BA-5556</th>\n",
        "      <th>TCGA-BA-5557</th>\n",
        "      <th>TCGA-BA-5558</th>\n",
        "      <th>TCGA-BA-5559</th>\n",
        "      <th>TCGA-BA-6868</th>\n",
        "      <th>TCGA-BA-6869</th>\n",
        "      <th>TCGA-BA-6870</th>\n",
        "      <th>TCGA-BA-6871</th>\n",
        "      <th>TCGA-BA-6872</th>\n",
        "      <th>TCGA-BA-6873</th>\n",
        "      <th></th>\n",
        "    </tr>\n",
        "  </thead>\n",
        "  <tbody>\n",
        "    <tr>\n",
        "      <th>SOS1</th>\n",
        "      <td> 0</td>\n",
        "      <td> 0</td>\n",
        "      <td> 0</td>\n",
        "      <td> 0</td>\n",
        "      <td> 0</td>\n",
        "      <td> 0</td>\n",
        "      <td> 0</td>\n",
        "      <td> 0</td>\n",
        "      <td> 0</td>\n",
        "      <td> 0</td>\n",
        "      <td> 0</td>\n",
        "      <td> 0</td>\n",
        "      <td> 0</td>\n",
        "      <td> 0</td>\n",
        "      <td> 0</td>\n",
        "      <td> 0</td>\n",
        "      <td> 0</td>\n",
        "      <td> 0</td>\n",
        "      <td> 0</td>\n",
        "      <td> 0</td>\n",
        "      <td>...</td>\n",
        "    </tr>\n",
        "    <tr>\n",
        "      <th>MAP2K2</th>\n",
        "      <td> 0</td>\n",
        "      <td> 0</td>\n",
        "      <td> 0</td>\n",
        "      <td> 0</td>\n",
        "      <td> 0</td>\n",
        "      <td> 0</td>\n",
        "      <td> 0</td>\n",
        "      <td> 1</td>\n",
        "      <td> 0</td>\n",
        "      <td> 0</td>\n",
        "      <td> 0</td>\n",
        "      <td> 0</td>\n",
        "      <td> 0</td>\n",
        "      <td> 0</td>\n",
        "      <td> 0</td>\n",
        "      <td> 0</td>\n",
        "      <td> 0</td>\n",
        "      <td> 0</td>\n",
        "      <td> 0</td>\n",
        "      <td> 0</td>\n",
        "      <td>...</td>\n",
        "    </tr>\n",
        "    <tr>\n",
        "      <th>HRAS</th>\n",
        "      <td> 0</td>\n",
        "      <td> 0</td>\n",
        "      <td> 0</td>\n",
        "      <td> 0</td>\n",
        "      <td> 0</td>\n",
        "      <td> 0</td>\n",
        "      <td> 0</td>\n",
        "      <td> 0</td>\n",
        "      <td> 0</td>\n",
        "      <td> 0</td>\n",
        "      <td> 1</td>\n",
        "      <td> 0</td>\n",
        "      <td> 0</td>\n",
        "      <td> 0</td>\n",
        "      <td> 0</td>\n",
        "      <td> 0</td>\n",
        "      <td> 0</td>\n",
        "      <td> 0</td>\n",
        "      <td> 0</td>\n",
        "      <td> 0</td>\n",
        "      <td>...</td>\n",
        "    </tr>\n",
        "    <tr>\n",
        "      <th>NRAS</th>\n",
        "      <td> 0</td>\n",
        "      <td> 0</td>\n",
        "      <td> 0</td>\n",
        "      <td> 0</td>\n",
        "      <td> 0</td>\n",
        "      <td> 0</td>\n",
        "      <td> 0</td>\n",
        "      <td> 0</td>\n",
        "      <td> 0</td>\n",
        "      <td> 0</td>\n",
        "      <td> 0</td>\n",
        "      <td> 0</td>\n",
        "      <td> 0</td>\n",
        "      <td> 0</td>\n",
        "      <td> 0</td>\n",
        "      <td> 0</td>\n",
        "      <td> 0</td>\n",
        "      <td> 0</td>\n",
        "      <td> 0</td>\n",
        "      <td> 0</td>\n",
        "      <td>...</td>\n",
        "    </tr>\n",
        "    <tr>\n",
        "      <th>IRS1</th>\n",
        "      <td> 0</td>\n",
        "      <td> 0</td>\n",
        "      <td> 0</td>\n",
        "      <td> 0</td>\n",
        "      <td> 0</td>\n",
        "      <td> 0</td>\n",
        "      <td> 0</td>\n",
        "      <td> 0</td>\n",
        "      <td> 0</td>\n",
        "      <td> 0</td>\n",
        "      <td> 0</td>\n",
        "      <td> 0</td>\n",
        "      <td> 0</td>\n",
        "      <td> 0</td>\n",
        "      <td> 0</td>\n",
        "      <td> 0</td>\n",
        "      <td> 0</td>\n",
        "      <td> 0</td>\n",
        "      <td> 0</td>\n",
        "      <td> 0</td>\n",
        "      <td>...</td>\n",
        "    </tr>\n",
        "    <tr>\n",
        "      <th>IRS2</th>\n",
        "      <td> 0</td>\n",
        "      <td> 0</td>\n",
        "      <td> 0</td>\n",
        "      <td> 0</td>\n",
        "      <td> 0</td>\n",
        "      <td> 0</td>\n",
        "      <td> 0</td>\n",
        "      <td> 0</td>\n",
        "      <td> 0</td>\n",
        "      <td> 0</td>\n",
        "      <td> 0</td>\n",
        "      <td> 0</td>\n",
        "      <td> 0</td>\n",
        "      <td> 0</td>\n",
        "      <td> 0</td>\n",
        "      <td> 0</td>\n",
        "      <td> 0</td>\n",
        "      <td> 0</td>\n",
        "      <td> 0</td>\n",
        "      <td> 0</td>\n",
        "      <td>...</td>\n",
        "    </tr>\n",
        "    <tr>\n",
        "      <th>MAPK3</th>\n",
        "      <td> 0</td>\n",
        "      <td> 0</td>\n",
        "      <td> 0</td>\n",
        "      <td> 0</td>\n",
        "      <td> 0</td>\n",
        "      <td> 0</td>\n",
        "      <td> 0</td>\n",
        "      <td> 0</td>\n",
        "      <td> 0</td>\n",
        "      <td> 0</td>\n",
        "      <td> 0</td>\n",
        "      <td> 0</td>\n",
        "      <td> 0</td>\n",
        "      <td> 0</td>\n",
        "      <td> 0</td>\n",
        "      <td> 0</td>\n",
        "      <td> 0</td>\n",
        "      <td> 0</td>\n",
        "      <td> 0</td>\n",
        "      <td> 0</td>\n",
        "      <td>...</td>\n",
        "    </tr>\n",
        "    <tr>\n",
        "      <th>MAP2K1</th>\n",
        "      <td> 0</td>\n",
        "      <td> 0</td>\n",
        "      <td> 0</td>\n",
        "      <td> 0</td>\n",
        "      <td> 0</td>\n",
        "      <td> 0</td>\n",
        "      <td> 1</td>\n",
        "      <td> 1</td>\n",
        "      <td> 0</td>\n",
        "      <td> 0</td>\n",
        "      <td> 0</td>\n",
        "      <td> 0</td>\n",
        "      <td> 0</td>\n",
        "      <td> 0</td>\n",
        "      <td> 0</td>\n",
        "      <td> 0</td>\n",
        "      <td> 0</td>\n",
        "      <td> 0</td>\n",
        "      <td> 0</td>\n",
        "      <td> 0</td>\n",
        "      <td>...</td>\n",
        "    </tr>\n",
        "    <tr>\n",
        "      <th>GRB2</th>\n",
        "      <td> 0</td>\n",
        "      <td> 0</td>\n",
        "      <td> 0</td>\n",
        "      <td> 0</td>\n",
        "      <td> 0</td>\n",
        "      <td> 0</td>\n",
        "      <td> 0</td>\n",
        "      <td> 0</td>\n",
        "      <td> 0</td>\n",
        "      <td> 0</td>\n",
        "      <td> 0</td>\n",
        "      <td> 0</td>\n",
        "      <td> 0</td>\n",
        "      <td> 0</td>\n",
        "      <td> 0</td>\n",
        "      <td> 0</td>\n",
        "      <td> 0</td>\n",
        "      <td> 0</td>\n",
        "      <td> 0</td>\n",
        "      <td> 0</td>\n",
        "      <td>...</td>\n",
        "    </tr>\n",
        "    <tr>\n",
        "      <th>YWHAB</th>\n",
        "      <td> 0</td>\n",
        "      <td> 0</td>\n",
        "      <td> 0</td>\n",
        "      <td> 0</td>\n",
        "      <td> 0</td>\n",
        "      <td> 0</td>\n",
        "      <td> 0</td>\n",
        "      <td> 0</td>\n",
        "      <td> 0</td>\n",
        "      <td> 0</td>\n",
        "      <td> 0</td>\n",
        "      <td> 0</td>\n",
        "      <td> 0</td>\n",
        "      <td> 0</td>\n",
        "      <td> 0</td>\n",
        "      <td> 0</td>\n",
        "      <td> 0</td>\n",
        "      <td> 0</td>\n",
        "      <td> 0</td>\n",
        "      <td> 0</td>\n",
        "      <td>...</td>\n",
        "    </tr>\n",
        "    <tr>\n",
        "      <th>MAPK1</th>\n",
        "      <td> 0</td>\n",
        "      <td> 0</td>\n",
        "      <td> 0</td>\n",
        "      <td> 0</td>\n",
        "      <td> 0</td>\n",
        "      <td> 0</td>\n",
        "      <td> 0</td>\n",
        "      <td> 0</td>\n",
        "      <td> 0</td>\n",
        "      <td> 0</td>\n",
        "      <td> 0</td>\n",
        "      <td> 0</td>\n",
        "      <td> 0</td>\n",
        "      <td> 0</td>\n",
        "      <td> 0</td>\n",
        "      <td> 0</td>\n",
        "      <td> 0</td>\n",
        "      <td> 0</td>\n",
        "      <td> 0</td>\n",
        "      <td> 0</td>\n",
        "      <td>...</td>\n",
        "    </tr>\n",
        "    <tr>\n",
        "      <th>RAF1</th>\n",
        "      <td> 0</td>\n",
        "      <td> 0</td>\n",
        "      <td> 0</td>\n",
        "      <td> 0</td>\n",
        "      <td> 0</td>\n",
        "      <td> 0</td>\n",
        "      <td> 0</td>\n",
        "      <td> 0</td>\n",
        "      <td> 0</td>\n",
        "      <td> 0</td>\n",
        "      <td> 0</td>\n",
        "      <td> 0</td>\n",
        "      <td> 0</td>\n",
        "      <td> 0</td>\n",
        "      <td> 0</td>\n",
        "      <td> 0</td>\n",
        "      <td> 0</td>\n",
        "      <td> 0</td>\n",
        "      <td> 0</td>\n",
        "      <td> 0</td>\n",
        "      <td>...</td>\n",
        "    </tr>\n",
        "    <tr>\n",
        "      <th>KRAS</th>\n",
        "      <td> 0</td>\n",
        "      <td> 0</td>\n",
        "      <td> 0</td>\n",
        "      <td> 0</td>\n",
        "      <td> 0</td>\n",
        "      <td> 0</td>\n",
        "      <td> 0</td>\n",
        "      <td> 0</td>\n",
        "      <td> 0</td>\n",
        "      <td> 0</td>\n",
        "      <td> 0</td>\n",
        "      <td> 0</td>\n",
        "      <td> 0</td>\n",
        "      <td> 0</td>\n",
        "      <td> 0</td>\n",
        "      <td> 0</td>\n",
        "      <td> 0</td>\n",
        "      <td> 0</td>\n",
        "      <td> 0</td>\n",
        "      <td> 0</td>\n",
        "      <td>...</td>\n",
        "    </tr>\n",
        "  </tbody>\n",
        "</table>\n",
        "<p>13 rows \u00d7 495 columns</p>\n",
        "</div>"
       ],
       "metadata": {},
       "output_type": "pyout",
       "prompt_number": 136,
       "text": [
        "        TCGA-BA-4074  TCGA-BA-4075  TCGA-BA-4076  TCGA-BA-4077  TCGA-BA-4078  TCGA-BA-5149  TCGA-BA-5151  TCGA-BA-5152  TCGA-BA-5153  TCGA-BA-5555  TCGA-BA-5556  TCGA-BA-5557  TCGA-BA-5558  TCGA-BA-5559  TCGA-BA-6868  TCGA-BA-6869  TCGA-BA-6870  TCGA-BA-6871  TCGA-BA-6872  TCGA-BA-6873    \n",
        "SOS1               0             0             0             0             0             0             0             0             0             0             0             0             0             0             0             0             0             0             0             0 ...\n",
        "MAP2K2             0             0             0             0             0             0             0             1             0             0             0             0             0             0             0             0             0             0             0             0 ...\n",
        "HRAS               0             0             0             0             0             0             0             0             0             0             1             0             0             0             0             0             0             0             0             0 ...\n",
        "NRAS               0             0             0             0             0             0             0             0             0             0             0             0             0             0             0             0             0             0             0             0 ...\n",
        "IRS1               0             0             0             0             0             0             0             0             0             0             0             0             0             0             0             0             0             0             0             0 ...\n",
        "IRS2               0             0             0             0             0             0             0             0             0             0             0             0             0             0             0             0             0             0             0             0 ...\n",
        "MAPK3              0             0             0             0             0             0             0             0             0             0             0             0             0             0             0             0             0             0             0             0 ...\n",
        "MAP2K1             0             0             0             0             0             0             1             1             0             0             0             0             0             0             0             0             0             0             0             0 ...\n",
        "GRB2               0             0             0             0             0             0             0             0             0             0             0             0             0             0             0             0             0             0             0             0 ...\n",
        "YWHAB              0             0             0             0             0             0             0             0             0             0             0             0             0             0             0             0             0             0             0             0 ...\n",
        "MAPK1              0             0             0             0             0             0             0             0             0             0             0             0             0             0             0             0             0             0             0             0 ...\n",
        "RAF1               0             0             0             0             0             0             0             0             0             0             0             0             0             0             0             0             0             0             0             0 ...\n",
        "KRAS               0             0             0             0             0             0             0             0             0             0             0             0             0             0             0             0             0             0             0             0 ...\n",
        "\n",
        "[13 rows x 495 columns]"
       ]
      }
     ],
     "prompt_number": 136
    },
    {
     "cell_type": "code",
     "collapsed": false,
     "input": [
      "p = 'REACTOME_SOS_MEDIATED_SIGNALLING'\n",
      "gs = {'HRAS','CASP8','TP53'}\n",
      "p53_t = mut.features.ix['TP53'].combine_first(mut_new.ix['TP53'])\n",
      "combo_t = combine(p53_t>0, del_3p<0).ix[ti(hpv_inferred == False)].dropna()\n",
      "combo_t.name = 'two_hit'\n",
      "df = mut.df.ix[gs].combine_first(mut_new.ix[gs])\n",
      "#df = mut.df.ix[gs]\n",
      "df = df.append(combo_t=='both').append(del_3p<0)"
     ],
     "language": "python",
     "metadata": {},
     "outputs": [],
     "prompt_number": 178
    },
    {
     "cell_type": "code",
     "collapsed": false,
     "input": [
      "pathway_plot((df > 0).ix[:, ti(hpv_inferred == False)], bar=None);"
     ],
     "language": "python",
     "metadata": {},
     "outputs": [
      {
       "metadata": {},
       "output_type": "display_data",
       "png": "[encoded data removed]",
       "text": [
        "<matplotlib.figure.Figure at 0xc0d9a50>"
       ]
      }
     ],
     "prompt_number": 179
    },
    {
     "cell_type": "code",
     "collapsed": false,
     "input": [
      "pathway_plot((df > 0).ix[:, ti(combo_t == 'both')]);"
     ],
     "language": "python",
     "metadata": {},
     "outputs": [
      {
       "metadata": {},
       "output_type": "display_data",
       "png": "[encoded data removed]",
       "text": [
        "<matplotlib.figure.Figure at 0xc4f3690>"
       ]
      }
     ],
     "prompt_number": 140
    },
    {
     "cell_type": "code",
     "collapsed": false,
     "input": [
      "c = combine(mut.df.ix['MUC5B']>0, mut_new.ix['MUC5B'] > 0)\n",
      "survival_and_stats(c.ix[ti(combo=='both')].dropna() =='neither', surv)"
     ],
     "language": "python",
     "metadata": {},
     "outputs": [
      {
       "metadata": {},
       "output_type": "display_data",
       "png": "[encoded data removed]",
       "text": [
        "<matplotlib.figure.Figure at 0x9ec1350>"
       ]
      }
     ],
     "prompt_number": 143
    }
   ],
   "metadata": {}
  }
 ]
}