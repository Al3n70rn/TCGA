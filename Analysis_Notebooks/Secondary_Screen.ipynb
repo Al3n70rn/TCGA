{
 "metadata": {
  "name": "",
  "signature": "sha256:40521c73c2387a61da6a6137dcf8bdc6e3f45a5c88ac19ba9d4f3203b252ee40"
 },
 "nbformat": 3,
 "nbformat_minor": 0,
 "worksheets": [
  {
   "cells": [
    {
     "cell_type": "markdown",
     "metadata": {},
     "source": [
      "<h1 class=\"alert alert-info\">HNSCC HPV- Cohort <small> <i class=\"icon-repeat\"></i> Integrative Prognositic Screen</small></h1>"
     ]
    },
    {
     "cell_type": "markdown",
     "metadata": {},
     "source": [
      "####Import Data and Packages  \n",
      "For full list of data and packages imported see the [Imports](../Analysis_Notebooks/Imports.ipynb) notebook."
     ]
    },
    {
     "cell_type": "code",
     "collapsed": false,
     "input": [
      "import NotebookImport\n",
      "from Imports import *"
     ],
     "language": "python",
     "metadata": {},
     "outputs": [
      {
       "output_type": "stream",
       "stream": "stdout",
       "text": [
        "importing IPython notebook from Imports.ipynb\n",
        "Populating the interactive namespace from numpy and matplotlib"
       ]
      },
      {
       "output_type": "stream",
       "stream": "stdout",
       "text": [
        "\n",
        "changing to source dirctory"
       ]
      },
      {
       "output_type": "stream",
       "stream": "stdout",
       "text": [
        "\n",
        "populating namespace with data"
       ]
      },
      {
       "output_type": "stream",
       "stream": "stdout",
       "text": [
        "\n"
       ]
      }
     ],
     "prompt_number": 1
    },
    {
     "cell_type": "code",
     "collapsed": false,
     "input": [
      "from Processing.Screen import *"
     ],
     "language": "python",
     "metadata": {},
     "outputs": [],
     "prompt_number": 2
    },
    {
     "cell_type": "heading",
     "level": 2,
     "metadata": {},
     "source": [
      "Setup Survival Screen Functions"
     ]
    },
    {
     "cell_type": "code",
     "collapsed": false,
     "input": [
      "def surv_test(s, surv, cov_df):\n",
      "    s = s.dropna()\n",
      "    try:\n",
      "        return get_cox_ph_ms(surv, s, cov_df, return_val='LR', interactions='just_feature')\n",
      "    except:\n",
      "        return pd.Series(index=['LR','feature_p', 'fmla', 'hazzard'])\n",
      "\n",
      "\n",
      "def run_screen(screen, filters, covariates):\n",
      "    cov_df = pd.concat(covariates, axis=1)\n",
      "    keepers_o = screen.get_patient_set(filters)\n",
      "    cutoff = max(np.ceil(len(keepers_o) * .05), 10)\n",
      "    df = screen.get_data(keepers_o, cutoff)\n",
      "\n",
      "    univariate = cox_screen(df, surv)\n",
      "    vec = univariate.LR.p.sort_index()\n",
      "    univariate = pd.concat([univariate['hazard'], corrections(vec)], \n",
      "                           keys=['hazard', 'p'], axis=1)\n",
      "    #hits = univariate[univariate['q_bh'] < .2].index\n",
      "    hits = univariate.index\n",
      "    \n",
      "    full = df.ix[hits].apply(surv_test, args=(surv, cov_df,), axis=1)\n",
      "    vec = full.LR.ix[univariate.index].sort_index()\n",
      "    full = pd.concat([full[['fmla']], corrections(vec)],\n",
      "                            keys=['fmla','p'], axis=1)\n",
      "    hits = true_index(full.p.bh_all.order() < .1)\n",
      "    res = full.sort([('p','uncorrected')]).head()\n",
      "\n",
      "    return res, full, univariate, keepers_o, df"
     ],
     "language": "python",
     "metadata": {},
     "outputs": [],
     "prompt_number": 3
    },
    {
     "cell_type": "heading",
     "level": 1,
     "metadata": {},
     "source": [
      "Screen for Hierarchical Model of Survival"
     ]
    },
    {
     "cell_type": "code",
     "collapsed": false,
     "input": [
      "p53_mut = mut.features.ix['TP53'].ix[keepers_o]\n",
      "del_3p = cn.features.ix[('Deletion', '3p14.2', 'Lesion')].ix[keepers_o]\n",
      "two_hit = combine(p53_mut > 0, del_3p < 0) == 'both'"
     ],
     "language": "python",
     "metadata": {},
     "outputs": [],
     "prompt_number": 4
    },
    {
     "cell_type": "code",
     "collapsed": false,
     "input": [
      "screen = Screen(mut, cn, rna, mirna, clinical.binary_df, surv, keepers_o.intersection(ti(two_hit)))"
     ],
     "language": "python",
     "metadata": {},
     "outputs": [],
     "prompt_number": 6
    },
    {
     "cell_type": "code",
     "collapsed": false,
     "input": [
      "res, full, univariate, keepers_o, df = run_screen(screen, filters=[hpv==1, two_hit==0, age>=85], \n",
      "                                                  covariates=[old, age])"
     ],
     "language": "python",
     "metadata": {},
     "outputs": [],
     "prompt_number": 7
    },
    {
     "cell_type": "code",
     "collapsed": false,
     "input": [
      "(full.p.bh_all < .1).groupby(level=0).apply(pd.value_counts).unstack()"
     ],
     "language": "python",
     "metadata": {},
     "outputs": [
      {
       "html": [
        "<div style=\"max-height:1000px;max-width:1500px;overflow:auto;\">\n",
        "<table border=\"1\" class=\"dataframe\">\n",
        "  <thead>\n",
        "    <tr style=\"text-align: right;\">\n",
        "      <th></th>\n",
        "      <th>False</th>\n",
        "      <th>True</th>\n",
        "    </tr>\n",
        "  </thead>\n",
        "  <tbody>\n",
        "    <tr>\n",
        "      <th>clinical</th>\n",
        "      <td>  11</td>\n",
        "      <td>  2</td>\n",
        "    </tr>\n",
        "    <tr>\n",
        "      <th>cna</th>\n",
        "      <td>  71</td>\n",
        "      <td>NaN</td>\n",
        "    </tr>\n",
        "    <tr>\n",
        "      <th>mirna</th>\n",
        "      <td> 237</td>\n",
        "      <td>NaN</td>\n",
        "    </tr>\n",
        "    <tr>\n",
        "      <th>mutation</th>\n",
        "      <td> 220</td>\n",
        "      <td>  5</td>\n",
        "    </tr>\n",
        "    <tr>\n",
        "      <th>rna</th>\n",
        "      <td> 455</td>\n",
        "      <td>  7</td>\n",
        "    </tr>\n",
        "  </tbody>\n",
        "</table>\n",
        "<p>5 rows \u00d7 2 columns</p>\n",
        "</div>"
       ],
       "metadata": {},
       "output_type": "pyout",
       "prompt_number": 8,
       "text": [
        "          False  True \n",
        "clinical     11      2\n",
        "cna          71    NaN\n",
        "mirna       237    NaN\n",
        "mutation    220      5\n",
        "rna         455      7\n",
        "\n",
        "[5 rows x 2 columns]"
       ]
      }
     ],
     "prompt_number": 8
    },
    {
     "cell_type": "code",
     "collapsed": false,
     "input": [
      "(full.p.bh_all < .1).value_counts()"
     ],
     "language": "python",
     "metadata": {},
     "outputs": [
      {
       "metadata": {},
       "output_type": "pyout",
       "prompt_number": 9,
       "text": [
        "False    994\n",
        "True      14\n",
        "dtype: int64"
       ]
      }
     ],
     "prompt_number": 9
    },
    {
     "cell_type": "code",
     "collapsed": false,
     "input": [
      "muc5b = df.ix['mutation'].ix['MUC5B']>0"
     ],
     "language": "python",
     "metadata": {},
     "outputs": [],
     "prompt_number": 10
    },
    {
     "cell_type": "code",
     "collapsed": false,
     "input": [
      "survival_and_stats(df.ix['mutation'].ix['MUC5B']>0, surv)"
     ],
     "language": "python",
     "metadata": {},
     "outputs": [
      {
       "metadata": {},
       "output_type": "display_data",
       "png": "[encoded data removed]",
       "text": [
        "<matplotlib.figure.Figure at 0xbf78a10>"
       ]
      }
     ],
     "prompt_number": 11
    },
    {
     "cell_type": "code",
     "collapsed": false,
     "input": [
      "rr = cox_screen(df.ix[full.p.bh_all < .1], surv)\n",
      "hits = full.ix[true_index(rr.LR.p < .05)]\n",
      "hits = hits.sort([('p','uncorrected')])\n",
      "len(hits)"
     ],
     "language": "python",
     "metadata": {},
     "outputs": [
      {
       "metadata": {},
       "output_type": "pyout",
       "prompt_number": 12,
       "text": [
        "6"
       ]
      }
     ],
     "prompt_number": 12
    },
    {
     "cell_type": "code",
     "collapsed": false,
     "input": [
      "hits"
     ],
     "language": "python",
     "metadata": {},
     "outputs": [
      {
       "html": [
        "<div style=\"max-height:1000px;max-width:1500px;overflow:auto;\">\n",
        "<table border=\"1\" class=\"dataframe\">\n",
        "  <thead>\n",
        "    <tr>\n",
        "      <th></th>\n",
        "      <th></th>\n",
        "      <th>fmla</th>\n",
        "      <th colspan=\"6\" halign=\"left\">p</th>\n",
        "    </tr>\n",
        "    <tr>\n",
        "      <th></th>\n",
        "      <th></th>\n",
        "      <th>fmla</th>\n",
        "      <th>uncorrected</th>\n",
        "      <th>bh_within</th>\n",
        "      <th>bh_all</th>\n",
        "      <th>bonf_all</th>\n",
        "      <th>bonf_within</th>\n",
        "      <th>two_step</th>\n",
        "    </tr>\n",
        "  </thead>\n",
        "  <tbody>\n",
        "    <tr>\n",
        "      <th>mutation</th>\n",
        "      <th>MUC5B</th>\n",
        "      <td>               Surv(days, event) ~ feature + old\\n</td>\n",
        "      <td> 7.73e-05</td>\n",
        "      <td> 0.01</td>\n",
        "      <td> 0.02</td>\n",
        "      <td> 0.08</td>\n",
        "      <td> 0.02</td>\n",
        "      <td> 0.03</td>\n",
        "    </tr>\n",
        "    <tr>\n",
        "      <th>rna</th>\n",
        "      <th>BIOCARTA_PYK2_PATHWAY</th>\n",
        "      <td> Surv(days, event) ~ feature + old + feature:old\\n</td>\n",
        "      <td> 1.68e-04</td>\n",
        "      <td> 0.03</td>\n",
        "      <td> 0.03</td>\n",
        "      <td> 0.17</td>\n",
        "      <td> 0.08</td>\n",
        "      <td> 0.13</td>\n",
        "    </tr>\n",
        "    <tr>\n",
        "      <th rowspan=\"2\" valign=\"top\">clinical</th>\n",
        "      <th>recent_smoker</th>\n",
        "      <td>               Surv(days, event) ~ feature + old\\n</td>\n",
        "      <td> 6.81e-04</td>\n",
        "      <td> 0.00</td>\n",
        "      <td> 0.06</td>\n",
        "      <td> 0.69</td>\n",
        "      <td> 0.01</td>\n",
        "      <td> 0.02</td>\n",
        "    </tr>\n",
        "    <tr>\n",
        "      <th>pre_2000</th>\n",
        "      <td>                     Surv(days, event) ~ feature\\n</td>\n",
        "      <td> 6.98e-04</td>\n",
        "      <td> 0.00</td>\n",
        "      <td> 0.06</td>\n",
        "      <td> 0.70</td>\n",
        "      <td> 0.01</td>\n",
        "      <td> 0.02</td>\n",
        "    </tr>\n",
        "    <tr>\n",
        "      <th>mutation</th>\n",
        "      <th>BIOCARTA_PGC1A_PATHWAY</th>\n",
        "      <td> Surv(days, event) ~ feature + old + feature:old\\n</td>\n",
        "      <td> 8.71e-04</td>\n",
        "      <td> 0.04</td>\n",
        "      <td> 0.07</td>\n",
        "      <td> 0.88</td>\n",
        "      <td> 0.20</td>\n",
        "      <td> 0.20</td>\n",
        "    </tr>\n",
        "    <tr>\n",
        "      <th>rna</th>\n",
        "      <th>RAD51</th>\n",
        "      <td> Surv(days, event) ~ feature + old + age + feat...</td>\n",
        "      <td> 1.29e-03</td>\n",
        "      <td> 0.09</td>\n",
        "      <td> 0.09</td>\n",
        "      <td> 1.30</td>\n",
        "      <td> 0.60</td>\n",
        "      <td> 0.43</td>\n",
        "    </tr>\n",
        "  </tbody>\n",
        "</table>\n",
        "<p>6 rows \u00d7 7 columns</p>\n",
        "</div>"
       ],
       "metadata": {},
       "output_type": "pyout",
       "prompt_number": 13,
       "text": [
        "                                                                              fmla            p                                                    \n",
        "                                                                              fmla  uncorrected  bh_within  bh_all  bonf_all  bonf_within  two_step\n",
        "mutation MUC5B                                 Surv(days, event) ~ feature + old\\n     7.73e-05       0.01    0.02      0.08         0.02      0.03\n",
        "rna      BIOCARTA_PYK2_PATHWAY   Surv(days, event) ~ feature + old + feature:old\\n     1.68e-04       0.03    0.03      0.17         0.08      0.13\n",
        "clinical recent_smoker                         Surv(days, event) ~ feature + old\\n     6.81e-04       0.00    0.06      0.69         0.01      0.02\n",
        "         pre_2000                                    Surv(days, event) ~ feature\\n     6.98e-04       0.00    0.06      0.70         0.01      0.02\n",
        "mutation BIOCARTA_PGC1A_PATHWAY  Surv(days, event) ~ feature + old + feature:old\\n     8.71e-04       0.04    0.07      0.88         0.20      0.20\n",
        "rna      RAD51                   Surv(days, event) ~ feature + old + age + feat...     1.29e-03       0.09    0.09      1.30         0.60      0.43\n",
        "\n",
        "[6 rows x 7 columns]"
       ]
      }
     ],
     "prompt_number": 13
    },
    {
     "cell_type": "heading",
     "level": 3,
     "metadata": {},
     "source": [
      "Step 2- Add year of diagnosis covariate into the mix"
     ]
    },
    {
     "cell_type": "code",
     "collapsed": false,
     "input": [
      "res, full, univariate, keepers_o, df = run_screen(screen, filters=[hpv==1, two_hit==0], \n",
      "                                                  covariates=[old, age, clinical.binary_df.ix['pre_2000']])"
     ],
     "language": "python",
     "metadata": {},
     "outputs": [],
     "prompt_number": 15
    },
    {
     "cell_type": "code",
     "collapsed": false,
     "input": [
      "df.shape"
     ],
     "language": "python",
     "metadata": {},
     "outputs": [
      {
       "metadata": {},
       "output_type": "pyout",
       "prompt_number": 30,
       "text": [
        "(1008, 179)"
       ]
      }
     ],
     "prompt_number": 30
    },
    {
     "cell_type": "code",
     "collapsed": false,
     "input": [
      "df.groupby(level=0).size()"
     ],
     "language": "python",
     "metadata": {},
     "outputs": [
      {
       "metadata": {},
       "output_type": "pyout",
       "prompt_number": 33,
       "text": [
        "clinical     13\n",
        "cna          71\n",
        "mirna       237\n",
        "mutation    225\n",
        "rna         462\n",
        "dtype: int64"
       ]
      }
     ],
     "prompt_number": 33
    },
    {
     "cell_type": "code",
     "collapsed": false,
     "input": [
      "rr = cox_screen(df.ix[full.p.bh_all < .1], surv)\n",
      "hits = full.ix[true_index(rr.LR.p < .05)]\n",
      "hits = hits.sort([('p','uncorrected')])\n",
      "len(hits)"
     ],
     "language": "python",
     "metadata": {},
     "outputs": [
      {
       "metadata": {},
       "output_type": "pyout",
       "prompt_number": 17,
       "text": [
        "6"
       ]
      }
     ],
     "prompt_number": 17
    },
    {
     "cell_type": "code",
     "collapsed": false,
     "input": [
      "hits.p.head(4)"
     ],
     "language": "python",
     "metadata": {},
     "outputs": [
      {
       "html": [
        "<div style=\"max-height:1000px;max-width:1500px;overflow:auto;\">\n",
        "<table border=\"1\" class=\"dataframe\">\n",
        "  <thead>\n",
        "    <tr style=\"text-align: right;\">\n",
        "      <th></th>\n",
        "      <th></th>\n",
        "      <th>uncorrected</th>\n",
        "      <th>bh_within</th>\n",
        "      <th>bh_all</th>\n",
        "      <th>bonf_all</th>\n",
        "      <th>bonf_within</th>\n",
        "      <th>two_step</th>\n",
        "    </tr>\n",
        "  </thead>\n",
        "  <tbody>\n",
        "    <tr>\n",
        "      <th>clinical</th>\n",
        "      <th>recent_smoker</th>\n",
        "      <td> 1.79e-05</td>\n",
        "      <td> 2.33e-04</td>\n",
        "      <td> 0.01</td>\n",
        "      <td> 0.02</td>\n",
        "      <td> 2.33e-04</td>\n",
        "      <td> 0.00</td>\n",
        "    </tr>\n",
        "    <tr>\n",
        "      <th>mirna</th>\n",
        "      <th>hsa-mir-548k</th>\n",
        "      <td> 3.40e-05</td>\n",
        "      <td> 8.05e-03</td>\n",
        "      <td> 0.01</td>\n",
        "      <td> 0.03</td>\n",
        "      <td> 8.05e-03</td>\n",
        "      <td> 0.04</td>\n",
        "    </tr>\n",
        "    <tr>\n",
        "      <th>rna</th>\n",
        "      <th>BIOCARTA_PYK2_PATHWAY</th>\n",
        "      <td> 3.15e-04</td>\n",
        "      <td> 3.30e-02</td>\n",
        "      <td> 0.04</td>\n",
        "      <td> 0.32</td>\n",
        "      <td> 1.46e-01</td>\n",
        "      <td> 0.17</td>\n",
        "    </tr>\n",
        "    <tr>\n",
        "      <th>mutation</th>\n",
        "      <th>MUC5B</th>\n",
        "      <td> 3.71e-04</td>\n",
        "      <td> 2.78e-02</td>\n",
        "      <td> 0.04</td>\n",
        "      <td> 0.37</td>\n",
        "      <td> 8.34e-02</td>\n",
        "      <td> 0.14</td>\n",
        "    </tr>\n",
        "  </tbody>\n",
        "</table>\n",
        "<p>4 rows \u00d7 6 columns</p>\n",
        "</div>"
       ],
       "metadata": {},
       "output_type": "pyout",
       "prompt_number": 18,
       "text": [
        "                                uncorrected  bh_within  bh_all  bonf_all  bonf_within  two_step\n",
        "clinical recent_smoker             1.79e-05   2.33e-04    0.01      0.02     2.33e-04      0.00\n",
        "mirna    hsa-mir-548k              3.40e-05   8.05e-03    0.01      0.03     8.05e-03      0.04\n",
        "rna      BIOCARTA_PYK2_PATHWAY     3.15e-04   3.30e-02    0.04      0.32     1.46e-01      0.17\n",
        "mutation MUC5B                     3.71e-04   2.78e-02    0.04      0.37     8.34e-02      0.14\n",
        "\n",
        "[4 rows x 6 columns]"
       ]
      }
     ],
     "prompt_number": 18
    },
    {
     "cell_type": "code",
     "collapsed": false,
     "input": [
      "survival_and_stats(df.ix['clinical'].ix['recent_smoker'].dropna(), surv)"
     ],
     "language": "python",
     "metadata": {},
     "outputs": [
      {
       "metadata": {},
       "output_type": "display_data",
       "png": "[encoded data removed]",
       "text": [
        "<matplotlib.figure.Figure at 0x8bddd90>"
       ]
      }
     ],
     "prompt_number": 19
    },
    {
     "cell_type": "code",
     "collapsed": false,
     "input": [
      "hits.p.iloc[1]"
     ],
     "language": "python",
     "metadata": {},
     "outputs": [
      {
       "metadata": {},
       "output_type": "pyout",
       "prompt_number": 28,
       "text": [
        "uncorrected    3.40e-05\n",
        "bh_within      8.05e-03\n",
        "bh_all         1.14e-02\n",
        "bonf_all       3.42e-02\n",
        "bonf_within    8.05e-03\n",
        "two_step       4.03e-02\n",
        "Name: (mirna, hsa-mir-548k), dtype: float64"
       ]
      }
     ],
     "prompt_number": 28
    },
    {
     "cell_type": "code",
     "collapsed": false,
     "input": [
      "mir548k = df.ix['mirna'].ix['hsa-mir-548k']"
     ],
     "language": "python",
     "metadata": {},
     "outputs": [],
     "prompt_number": 21
    },
    {
     "cell_type": "code",
     "collapsed": false,
     "input": [
      "survival_and_stats(mir548k, surv)"
     ],
     "language": "python",
     "metadata": {},
     "outputs": [
      {
       "metadata": {},
       "output_type": "display_data",
       "png": "[encoded data removed]",
       "text": [
        "<matplotlib.figure.Figure at 0x8b76e90>"
       ]
      }
     ],
     "prompt_number": 22
    },
    {
     "cell_type": "code",
     "collapsed": false,
     "input": [
      "survival_and_stats(df.ix['mutation'].ix['MUC5B'], surv)"
     ],
     "language": "python",
     "metadata": {},
     "outputs": [
      {
       "metadata": {},
       "output_type": "display_data",
       "png": "[encoded data removed]",
       "text": [
        "<matplotlib.figure.Figure at 0xc02b890>"
       ]
      }
     ],
     "prompt_number": 23
    },
    {
     "cell_type": "code",
     "collapsed": false,
     "input": [
      "rr = cox_screen(df, surv)\n",
      "haz = rr['hazard'][['exp(coef)','lower .95','upper .95']]\n",
      "p = rr.LR.p\n",
      "uni = haz.join(p)\n",
      "uni['PASS'] = uni.p < .05"
     ],
     "language": "python",
     "metadata": {},
     "outputs": [],
     "prompt_number": 24
    },
    {
     "cell_type": "code",
     "collapsed": false,
     "input": [
      "multi = full.reset_index().sort(['level_0',('p','uncorrected')]).set_index(['level_0','level_1'])\n",
      "multi.index.names = ['data_type','event']\n",
      "multi['p'] = multi['p'].clip_upper(1.)\n",
      "multi.columns = multi.columns.droplevel(0)\n",
      "multi['PASS'] = multi.bh_all < .1\n",
      "f = pd.concat([uni, multi], keys=['Univariate','Multivariate'], axis=1)\n",
      "f[('BOTH','PASS')] = f.Univariate.PASS & f.Multivariate.PASS\n",
      "f = f.sort([('BOTH','PASS'),('Multivariate','uncorrected')], ascending=[False, True])"
     ],
     "language": "python",
     "metadata": {},
     "outputs": [],
     "prompt_number": 25
    },
    {
     "cell_type": "code",
     "collapsed": false,
     "input": [
      "f.to_csv(FIGDIR + 'supplemental_table2.csv', float_format='%.2e')"
     ],
     "language": "python",
     "metadata": {},
     "outputs": [],
     "prompt_number": 26
    }
   ],
   "metadata": {}
  }
 ]
}