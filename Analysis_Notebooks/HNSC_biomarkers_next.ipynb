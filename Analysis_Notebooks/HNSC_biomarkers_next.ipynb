{
 "metadata": {
  "name": "",
  "signature": "sha256:4cd337a1b876be2fb84579256202c3e4d719e31638b0f075a1c11db9adad1548"
 },
 "nbformat": 3,
 "nbformat_minor": 0,
 "worksheets": [
  {
   "cells": [
    {
     "cell_type": "markdown",
     "metadata": {},
     "source": [
      "<h1 class=\"alert alert-info\">HNSCC HPV- Cohort <small> <i class=\"icon-repeat\"></i> Integrative Prognositic Screen</small></h1>"
     ]
    },
    {
     "cell_type": "heading",
     "level": 1,
     "metadata": {},
     "source": [
      "Setup"
     ]
    },
    {
     "cell_type": "code",
     "collapsed": false,
     "input": [
      "%pylab inline"
     ],
     "language": "python",
     "metadata": {},
     "outputs": [
      {
       "output_type": "stream",
       "stream": "stdout",
       "text": [
        "Populating the interactive namespace from numpy and matplotlib\n"
       ]
      }
     ],
     "prompt_number": 1
    },
    {
     "cell_type": "code",
     "collapsed": false,
     "input": [
      "cd ../src"
     ],
     "language": "python",
     "metadata": {},
     "outputs": [
      {
       "output_type": "stream",
       "stream": "stdout",
       "text": [
        "/cellar/users/agross/TCGA_Code/TCGA/src\n"
       ]
      }
     ],
     "prompt_number": 2
    },
    {
     "cell_type": "code",
     "collapsed": false,
     "input": [
      "from Processing.Imports import *\n",
      "from Figures.Survival import survival_and_stats"
     ],
     "language": "python",
     "metadata": {},
     "outputs": [],
     "prompt_number": 3
    },
    {
     "cell_type": "code",
     "collapsed": false,
     "input": [
      "from Processing.Screen import *"
     ],
     "language": "python",
     "metadata": {},
     "outputs": [],
     "prompt_number": 4
    },
    {
     "cell_type": "heading",
     "level": 2,
     "metadata": {},
     "source": [
      "Read in Preprocessed Data"
     ]
    },
    {
     "cell_type": "code",
     "collapsed": false,
     "input": [
      "params = pd.read_table('../global_params.txt', header=None, squeeze=True, \n",
      "                       index_col=0)"
     ],
     "language": "python",
     "metadata": {},
     "outputs": [],
     "prompt_number": 5
    },
    {
     "cell_type": "code",
     "collapsed": false,
     "input": [
      "run_path  = '{}/Firehose__{}/'.format(params.ix['OUT_PATH'], params.ix['RUN_DATE'])\n",
      "run = get_run(run_path, 'Run_' + params.ix['VERSION'])\n",
      "cancer = run.load_cancer(params.ix['CANCER'])\n",
      "clinical = cancer.load_clinical()\n",
      "\n",
      "mut = cancer.load_data('Mutation')\n",
      "mut.uncompress()\n",
      "cn = cancer.load_data('CN_broad')\n",
      "cn.uncompress()\n",
      "\n",
      "rppa = cancer.load_data('RPPA')\n",
      "rna = pickle.load(open(cancer.path + '/mRNASeq/store/no_hpv.p', 'rb'))\n",
      "mirna = pickle.load(open(cancer.path + '/miRNASeq/store/no_hpv.p', 'rb'))\n",
      "#meth = cancer.load_data('Methylation')"
     ],
     "language": "python",
     "metadata": {},
     "outputs": [],
     "prompt_number": 6
    },
    {
     "cell_type": "code",
     "collapsed": false,
     "input": [
      "clinical_processed = clinical.processed\n",
      "#clinical_processed = clinical_processed.replace('yes', 1.).replace('no', 0.)\n",
      "clinical_processed['year'] = clinical_processed.year == 'post_2000'\n",
      "hpv_inferred = clinical_processed.hpv_inferred.astype(int)\n",
      "surv = clinical.survival.survival_5y\n",
      "age = clinical.clinical.age.astype(float)\n",
      "old = pd.Series(1.*(age>=75), name='old')"
     ],
     "language": "python",
     "metadata": {},
     "outputs": [],
     "prompt_number": 7
    },
    {
     "cell_type": "code",
     "collapsed": false,
     "input": [
      "keepers_o = true_index(hpv_inferred == 0)\n",
      "keepers_o = keepers_o.intersection(mut.features.columns)\n",
      "keepers_o = keepers_o.intersection(cn.features.columns)\n",
      "keepers_o = keepers_o.intersection(surv.unstack().index)\n",
      "keepers_o = keepers_o.intersection(rna.features.columns)\n",
      "keepers_o = keepers_o.intersection(mirna.features.columns)\n",
      "keepers_o = keepers_o.intersection(true_index(age < 85))"
     ],
     "language": "python",
     "metadata": {},
     "outputs": [],
     "prompt_number": 8
    },
    {
     "cell_type": "markdown",
     "metadata": {},
     "source": [
      "####Clean up clinical variables and binarize"
     ]
    },
    {
     "cell_type": "code",
     "collapsed": false,
     "input": [
      "n0 = clinical_processed.lymph_stage == 'n0'\n",
      "n0.name = 'lymph_n0'\n",
      "s4 = clinical_processed.stage == 'stge iv'\n",
      "s4.name = 'Stage_IV'\n",
      "oc = clinical_processed.tumor_subdivision == 'oral cavity'\n",
      "oc.name = 'oral_cavity'\n",
      "lx = clinical_processed.tumor_subdivision == 'larynx'\n",
      "lx.name = 'larynx'\n",
      "ox = clinical_processed.tumor_subdivision == 'oropharynx'\n",
      "ox.name = 'oropharynx'\n",
      "year = clinical_processed.year\n",
      "white = clinical.clinical.race == 'white'\n",
      "white.name = 'race_white'\n",
      "gender = clinical.clinical.gender == 'male'\n",
      "gender.name = 'gender_male'\n",
      "\n",
      "inferred = clinical_processed[['drinker_inferred','invasion_inferred',\n",
      "                               'smoker_inferred','spread_inferred']]\n",
      "\n",
      "clinical_df = pd.concat([n0, s4, oc, lx, ox, year, white, gender], 1)\n",
      "clinical_df = pd.concat([clinical_df, inferred], 1)"
     ],
     "language": "python",
     "metadata": {},
     "outputs": [],
     "prompt_number": 9
    },
    {
     "cell_type": "heading",
     "level": 2,
     "metadata": {},
     "source": [
      "Setup Survival Screen Functions"
     ]
    },
    {
     "cell_type": "code",
     "collapsed": false,
     "input": [
      "from Processing.Screen import *"
     ],
     "language": "python",
     "metadata": {},
     "outputs": [],
     "prompt_number": 10
    },
    {
     "cell_type": "code",
     "collapsed": false,
     "input": [
      "def test(s, surv, cov_df):\n",
      "    s = s.dropna()\n",
      "    try:\n",
      "        return get_cox_ph_ms(surv, s, cov_df, return_val='LR', interactions='just_feature')\n",
      "    except:\n",
      "        return pd.Series(index=['LR','feature_p', 'fmla', 'hazzard'])\n",
      "\n",
      "\n",
      "def run_screen(screen, filters, covariates, save=True):\n",
      "    cov_df = pd.concat(covariates, axis=1)\n",
      "    keepers_o = screen.get_patient_set(filters)\n",
      "    cutoff = max(np.ceil(len(keepers_o) * .05), 12)\n",
      "    df = screen.get_data(keepers_o, cutoff)\n",
      "\n",
      "    univariate = cox_screen(df, surv)\n",
      "    vec = univariate.LR.p.sort_index()\n",
      "    univariate = pd.concat([univariate['hazard'], corrections(vec)], \n",
      "                           keys=['hazard', 'p'], axis=1)\n",
      "    #hits = univariate[univariate['q_bh'] < .2].index\n",
      "    hits = univariate.index\n",
      "    \n",
      "    full = df.ix[hits].apply(test, args=(surv, cov_df,), axis=1)\n",
      "    vec = full.LR.ix[univariate.index].sort_index()\n",
      "    full = pd.concat([full[['fmla']], corrections(vec)],\n",
      "                            keys=['fmla','p'], axis=1)\n",
      "    hits = true_index(full.p.bh_all.order() < .1)\n",
      "    res = full.sort([('p','uncorrected')]).head()\n",
      "\n",
      "    return res, full, univariate, keepers_o, df"
     ],
     "language": "python",
     "metadata": {},
     "outputs": [],
     "prompt_number": 11
    },
    {
     "cell_type": "heading",
     "level": 1,
     "metadata": {},
     "source": [
      "Screen for Hierarchical Model of Survival"
     ]
    },
    {
     "cell_type": "code",
     "collapsed": false,
     "input": [
      "rna"
     ],
     "language": "python",
     "metadata": {},
     "outputs": [
      {
       "metadata": {},
       "output_type": "pyout",
       "prompt_number": 12,
       "text": [
        "mRNASeq dataset"
       ]
      }
     ],
     "prompt_number": 12
    },
    {
     "cell_type": "code",
     "collapsed": false,
     "input": [
      "screen = Screen(mut, cn, rna, mirna, clinical_df, surv)"
     ],
     "language": "python",
     "metadata": {},
     "outputs": [],
     "prompt_number": 13
    },
    {
     "cell_type": "code",
     "collapsed": false,
     "input": [
      "p53_mut = mut.features.ix['TP53'].ix[keepers_o]\n",
      "del_3p = cn.features.ix[('Deletion', '3p14.2', 'Lesion')].ix[keepers_o]\n",
      "two_hit = combine(p53_mut > 0, del_3p < 0) == 'both'"
     ],
     "language": "python",
     "metadata": {},
     "outputs": [],
     "prompt_number": 14
    },
    {
     "cell_type": "code",
     "collapsed": false,
     "input": [
      "res, full, univariate, keepers_o, df = run_screen(screen, filters=[hpv_inferred==1, two_hit==0, age>=85], \n",
      "                                                  covariates=[old, age])"
     ],
     "language": "python",
     "metadata": {},
     "outputs": [],
     "prompt_number": 15
    },
    {
     "cell_type": "code",
     "collapsed": false,
     "input": [
      "(full.p.bh_all < .1).groupby(level=0).apply(pd.value_counts).unstack()"
     ],
     "language": "python",
     "metadata": {},
     "outputs": [
      {
       "html": [
        "<div style=\"max-height:1000px;max-width:1500px;overflow:auto;\">\n",
        "<table border=\"1\" class=\"dataframe\">\n",
        "  <thead>\n",
        "    <tr style=\"text-align: right;\">\n",
        "      <th></th>\n",
        "      <th>False</th>\n",
        "      <th>True</th>\n",
        "    </tr>\n",
        "  </thead>\n",
        "  <tbody>\n",
        "    <tr>\n",
        "      <th>clinical</th>\n",
        "      <td>   9</td>\n",
        "      <td>  1</td>\n",
        "    </tr>\n",
        "    <tr>\n",
        "      <th>cna</th>\n",
        "      <td>  70</td>\n",
        "      <td>NaN</td>\n",
        "    </tr>\n",
        "    <tr>\n",
        "      <th>mirna</th>\n",
        "      <td> 227</td>\n",
        "      <td>  1</td>\n",
        "    </tr>\n",
        "    <tr>\n",
        "      <th>mutation</th>\n",
        "      <td> 175</td>\n",
        "      <td>  4</td>\n",
        "    </tr>\n",
        "    <tr>\n",
        "      <th>rna</th>\n",
        "      <td> 423</td>\n",
        "      <td>  2</td>\n",
        "    </tr>\n",
        "  </tbody>\n",
        "</table>\n",
        "<p>5 rows \u00d7 2 columns</p>\n",
        "</div>"
       ],
       "metadata": {},
       "output_type": "pyout",
       "prompt_number": 16,
       "text": [
        "          False  True \n",
        "clinical      9      1\n",
        "cna          70    NaN\n",
        "mirna       227      1\n",
        "mutation    175      4\n",
        "rna         423      2\n",
        "\n",
        "[5 rows x 2 columns]"
       ]
      }
     ],
     "prompt_number": 16
    },
    {
     "cell_type": "code",
     "collapsed": false,
     "input": [
      "(full.p.bh_all < .1).value_counts()"
     ],
     "language": "python",
     "metadata": {},
     "outputs": [
      {
       "metadata": {},
       "output_type": "pyout",
       "prompt_number": 17,
       "text": [
        "False    904\n",
        "True       8\n",
        "dtype: int64"
       ]
      }
     ],
     "prompt_number": 17
    },
    {
     "cell_type": "code",
     "collapsed": false,
     "input": [
      "muc5b = df.ix['mutation'].ix['MUC5B']>0"
     ],
     "language": "python",
     "metadata": {},
     "outputs": [],
     "prompt_number": 18
    },
    {
     "cell_type": "code",
     "collapsed": false,
     "input": [
      "survival_and_stats(df.ix['mutation'].ix['MUC5B']>0, surv)"
     ],
     "language": "python",
     "metadata": {},
     "outputs": [
      {
       "metadata": {},
       "output_type": "display_data",
       "png": "[encoded data removed]",
       "text": [
        "<matplotlib.figure.Figure at 0xc199110>"
       ]
      }
     ],
     "prompt_number": 19
    },
    {
     "cell_type": "heading",
     "level": 3,
     "metadata": {},
     "source": [
      "Step 2- Add year of diagnosis covariate into the mix"
     ]
    },
    {
     "cell_type": "code",
     "collapsed": false,
     "input": [
      "res, full, univariate, keepers_o, df = run_screen(screen, filters=[hpv_inferred==1, two_hit==0], \n",
      "                                                  covariates=[old, age, year])"
     ],
     "language": "python",
     "metadata": {},
     "outputs": [],
     "prompt_number": 20
    },
    {
     "cell_type": "code",
     "collapsed": false,
     "input": [
      "df.shape"
     ],
     "language": "python",
     "metadata": {},
     "outputs": [
      {
       "metadata": {},
       "output_type": "pyout",
       "prompt_number": 21,
       "text": [
        "(912, 179)"
       ]
      }
     ],
     "prompt_number": 21
    },
    {
     "cell_type": "code",
     "collapsed": false,
     "input": [
      "rr = cox_screen(df.ix[full.p.bh_all < .1], surv)\n",
      "hits = full.ix[true_index(rr.LR.p < .05)]\n",
      "hits = hits.sort([('p','uncorrected')])\n",
      "len(hits)"
     ],
     "language": "python",
     "metadata": {},
     "outputs": [
      {
       "metadata": {},
       "output_type": "pyout",
       "prompt_number": 22,
       "text": [
        "7"
       ]
      }
     ],
     "prompt_number": 22
    },
    {
     "cell_type": "code",
     "collapsed": false,
     "input": [
      "hits.p.head(4)"
     ],
     "language": "python",
     "metadata": {},
     "outputs": [
      {
       "html": [
        "<div style=\"max-height:1000px;max-width:1500px;overflow:auto;\">\n",
        "<table border=\"1\" class=\"dataframe\">\n",
        "  <thead>\n",
        "    <tr style=\"text-align: right;\">\n",
        "      <th></th>\n",
        "      <th></th>\n",
        "      <th>uncorrected</th>\n",
        "      <th>bh_within</th>\n",
        "      <th>bh_all</th>\n",
        "      <th>bonf_all</th>\n",
        "      <th>bonf_within</th>\n",
        "      <th>two_step</th>\n",
        "    </tr>\n",
        "  </thead>\n",
        "  <tbody>\n",
        "    <tr>\n",
        "      <th rowspan=\"2\" valign=\"top\">mirna</th>\n",
        "      <th>hsa-mir-548k</th>\n",
        "      <td> 3.40e-05</td>\n",
        "      <td> 0.01</td>\n",
        "      <td> 0.02</td>\n",
        "      <td> 0.03</td>\n",
        "      <td> 0.01</td>\n",
        "      <td> 0.03</td>\n",
        "    </tr>\n",
        "    <tr>\n",
        "      <th>hsa-mir-629</th>\n",
        "      <td> 5.23e-05</td>\n",
        "      <td> 0.01</td>\n",
        "      <td> 0.02</td>\n",
        "      <td> 0.05</td>\n",
        "      <td> 0.01</td>\n",
        "      <td> 0.03</td>\n",
        "    </tr>\n",
        "    <tr>\n",
        "      <th>mutation</th>\n",
        "      <th>MUC5B</th>\n",
        "      <td> 3.71e-04</td>\n",
        "      <td> 0.02</td>\n",
        "      <td> 0.05</td>\n",
        "      <td> 0.34</td>\n",
        "      <td> 0.07</td>\n",
        "      <td> 0.11</td>\n",
        "    </tr>\n",
        "    <tr>\n",
        "      <th>clinical</th>\n",
        "      <th>smoker_inferred</th>\n",
        "      <td> 5.69e-04</td>\n",
        "      <td> 0.01</td>\n",
        "      <td> 0.06</td>\n",
        "      <td> 0.52</td>\n",
        "      <td> 0.01</td>\n",
        "      <td> 0.03</td>\n",
        "    </tr>\n",
        "  </tbody>\n",
        "</table>\n",
        "<p>4 rows \u00d7 6 columns</p>\n",
        "</div>"
       ],
       "metadata": {},
       "output_type": "pyout",
       "prompt_number": 23,
       "text": [
        "                          uncorrected  bh_within  bh_all  bonf_all  bonf_within  two_step\n",
        "mirna    hsa-mir-548k        3.40e-05       0.01    0.02      0.03         0.01      0.03\n",
        "         hsa-mir-629         5.23e-05       0.01    0.02      0.05         0.01      0.03\n",
        "mutation MUC5B               3.71e-04       0.02    0.05      0.34         0.07      0.11\n",
        "clinical smoker_inferred     5.69e-04       0.01    0.06      0.52         0.01      0.03\n",
        "\n",
        "[4 rows x 6 columns]"
       ]
      }
     ],
     "prompt_number": 23
    },
    {
     "cell_type": "code",
     "collapsed": false,
     "input": [
      "mir548k = df.ix['mirna'].ix['hsa-mir-548k']"
     ],
     "language": "python",
     "metadata": {},
     "outputs": [],
     "prompt_number": 24
    },
    {
     "cell_type": "code",
     "collapsed": false,
     "input": [
      "survival_and_stats(mir548k, surv)"
     ],
     "language": "python",
     "metadata": {},
     "outputs": [
      {
       "metadata": {},
       "output_type": "display_data",
       "png": "[encoded data removed]",
       "text": [
        "<matplotlib.figure.Figure at 0x7ba1190>"
       ]
      }
     ],
     "prompt_number": 25
    },
    {
     "cell_type": "code",
     "collapsed": false,
     "input": [
      "survival_and_stats(df.ix['mutation'].ix['MUC5B'], surv)"
     ],
     "language": "python",
     "metadata": {},
     "outputs": [
      {
       "metadata": {},
       "output_type": "display_data",
       "png": "[encoded data removed]",
       "text": [
        "<matplotlib.figure.Figure at 0x7896ad0>"
       ]
      }
     ],
     "prompt_number": 26
    },
    {
     "cell_type": "code",
     "collapsed": false,
     "input": [
      "rr = cox_screen(df, surv)\n",
      "haz = rr['hazard'][['exp(coef)','lower .95','upper .95']]\n",
      "p = rr.LR.p\n",
      "uni = haz.join(p)\n",
      "uni['PASS'] = uni.p < .05"
     ],
     "language": "python",
     "metadata": {},
     "outputs": [],
     "prompt_number": 27
    },
    {
     "cell_type": "code",
     "collapsed": false,
     "input": [
      "multi = full.reset_index().sort(['level_0',('p','uncorrected')]).set_index(['level_0','level_1'])\n",
      "multi.index.names = ['data_type','event']\n",
      "multi['p'] = multi['p'].clip_upper(1.)\n",
      "multi.columns = multi.columns.droplevel(0)\n",
      "multi['PASS'] = multi.bh_all < .1\n",
      "f = pd.concat([uni, multi], keys=['Univariate','Multivariate'], axis=1)\n",
      "f[('BOTH','PASS')] = f.Univariate.PASS & f.Multivariate.PASS\n",
      "f = f.sort([('BOTH','PASS'),('Multivariate','uncorrected')], ascending=[False, True])"
     ],
     "language": "python",
     "metadata": {},
     "outputs": [],
     "prompt_number": 28
    },
    {
     "cell_type": "code",
     "collapsed": false,
     "input": [
      "f.to_csv('/cellar/users/agross/figures/supplemental_table2.csv', float_format='%.2e')"
     ],
     "language": "python",
     "metadata": {},
     "outputs": [],
     "prompt_number": 29
    }
   ],
   "metadata": {}
  }
 ]
}