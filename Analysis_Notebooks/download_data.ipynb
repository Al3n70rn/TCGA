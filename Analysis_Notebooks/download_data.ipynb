{
 "metadata": {
  "name": ""
 },
 "nbformat": 3,
 "nbformat_minor": 0,
 "worksheets": [
  {
   "cells": [
    {
     "cell_type": "markdown",
     "metadata": {},
     "source": [
      "<h1 class=\"alert alert-info\">Initialization <small>  <i class=\"icon-download\"></i>  Download and process all of the data fom Firehose</small></h1> "
     ]
    },
    {
     "cell_type": "markdown",
     "metadata": {},
     "source": [
      "Style-Sheet\n",
      "\n",
      "<style>\n",
      "    @font-face {\n",
      "        font-family: \"Computer Modern\";\n",
      "        src: url('http://mirrors.ctan.org/fonts/cm-unicode/fonts/otf/cmunss.otf');\n",
      "    }\n",
      "    div.cell{\n",
      "        width:900px;\n",
      "        margin-left:auto;\n",
      "        margin-right:auto;\n",
      "    }\n",
      "    h1, h2, h3, h4 {\n",
      "        font-family: Helvetica, serif;\n",
      "        color: #000000;\n",
      "    }\n",
      "    div.text_cell_render{\n",
      "        font-family: Computer Modern, \"Helvetica Neue\", Arial, Helvetica, Geneva, sans-serif;\n",
      "        line-height: 125%;\n",
      "        font-size: 115%;\n",
      "        color: #4d4d4d;\n",
      "        width:800px;\n",
      "        margin-left:0px;\n",
      "        margin-right:auto;\n",
      "    }\n",
      "    \n",
      "    .warning{\n",
      "        color: rgb( 240, 20, 20 )\n",
      "        }  \n",
      "</style>"
     ]
    },
    {
     "cell_type": "markdown",
     "metadata": {},
     "source": [
      "####Notebook Summary\n",
      "\n",
      "Here we are downloading and processing most of the necissary data to run this analysis pipeline. I have set up a series of scripts to do this in an automated fashon in order to allow for reproduction of this study by others as well as for updating the results obtained here as more TCGA data is collected and reseased.  \n",
      "\n",
      "Downloading this data can take a considerable amount of time (~5 hours) and disk space (~45GB), be prepared.  \n",
      "\n",
      "We use the firehose_get script provided by the Broad to download the data, please see the [firehose_get documentation](ttps://confluence.broadinstitute.org/display/GDAC/Download) for troubleshooting.  As we are making using the Broad's initial processing pipeline and data formats we can not promise this initial code will not break upon future update that they make.  "
     ]
    },
    {
     "cell_type": "code",
     "collapsed": false,
     "input": [
      "cd ../src/"
     ],
     "language": "python",
     "metadata": {},
     "outputs": [
      {
       "output_type": "stream",
       "stream": "stdout",
       "text": [
        "/cellar/users/agross/TCGA_Code/TCGA/src\n"
       ]
      }
     ],
     "prompt_number": 1
    },
    {
     "cell_type": "heading",
     "level": 1,
     "metadata": {},
     "source": [
      "Parameters"
     ]
    },
    {
     "cell_type": "markdown",
     "metadata": {},
     "source": [
      "<span class='altert alert-success' style='font-size:120%'>Change __OUT_PATH__ to directory on your machine where you want to store the data</span>"
     ]
    },
    {
     "cell_type": "code",
     "collapsed": false,
     "input": [
      "OUT_PATH = '../Data'"
     ],
     "language": "python",
     "metadata": {},
     "outputs": [],
     "prompt_number": 2
    },
    {
     "cell_type": "code",
     "collapsed": false,
     "input": [
      "RUN_DATE = '2014_01_15'\n",
      "CANCER = 'HNSC'\n",
      "VERSION = 'all'\n",
      "DESCRIPTION = '''Updating analysis for updated dataset.'''\n",
      "\n",
      "PARAMETERS = {'min_patients' : 12,\n",
      "              'pathway_file' : '../Extra_Data/c2.cp.v3.0.symbols_edit.csv'\n",
      "              }"
     ],
     "language": "python",
     "metadata": {},
     "outputs": [],
     "prompt_number": 3
    },
    {
     "cell_type": "code",
     "collapsed": false,
     "input": [
      "global_params = 'OUT_PATH\\t{}\\n'.format(OUT_PATH)\n",
      "global_params += 'RUN_DATE\\t{}\\n'.format(RUN_DATE)\n",
      "global_params += 'VERSION\\t{}\\n'.format(VERSION)\n",
      "global_params += 'CANCER\\t{}'.format(CANCER)\n",
      "f = open('../global_params.txt', 'wb')\n",
      "f.write(global_params)\n",
      "f.close()"
     ],
     "language": "python",
     "metadata": {},
     "outputs": [],
     "prompt_number": 4
    },
    {
     "cell_type": "heading",
     "level": 1,
     "metadata": {},
     "source": [
      "Initialization"
     ]
    },
    {
     "cell_type": "code",
     "collapsed": false,
     "input": [
      "import pickle as pickle\n",
      "import pandas as pd\n",
      "import os as os \n",
      "\n",
      "from Data.Containers import Run\n",
      "\n",
      "from Data.Containers import get_run\n",
      "from Data.Containers import Cancer\n",
      "from Initialization.InitializeCN import initialize_cn\n",
      "from Initialization.InitializeReal import initialize_real\n",
      "from Initialization.InitializeMut import initialize_mut\n",
      "from Initialization.PreprocessMethylation import process_meth"
     ],
     "language": "python",
     "metadata": {},
     "outputs": [],
     "prompt_number": 5
    },
    {
     "cell_type": "code",
     "collapsed": false,
     "input": [
      "!curl http://gdac.broadinstitute.org/runs/code/firehose_get_latest.zip -o fh_get.zip\n",
      "!unzip fh_get.zip"
     ],
     "language": "python",
     "metadata": {},
     "outputs": [
      {
       "output_type": "stream",
       "stream": "stdout",
       "text": [
        "  % Total    % Received % Xferd  Average Speed   Time    Time     Time  Current\r\n",
        "                                 Dload  Upload   Total   Spent    Left  Speed\r\n",
        "\r",
        "  0     0    0     0    0     0      0      0 --:--:-- --:--:-- --:--:--     0"
       ]
      },
      {
       "output_type": "stream",
       "stream": "stdout",
       "text": [
        "\r",
        "100  6542  100  6542    0     0  23217      0 --:--:-- --:--:-- --:--:-- 23281\r\n"
       ]
      },
      {
       "output_type": "stream",
       "stream": "stdout",
       "text": [
        "Archive:  fh_get.zip\r\n",
        "  inflating: firehose_get            \r\n"
       ]
      }
     ],
     "prompt_number": 6
    },
    {
     "cell_type": "heading",
     "level": 1,
     "metadata": {},
     "source": [
      "Download data"
     ]
    },
    {
     "cell_type": "code",
     "collapsed": false,
     "input": [
      "d = 'http://gdac.broadinstitute.org/runs/analyses__{}/ingested_data.tsv'.format(RUN_DATE)\n",
      "tab = pd.read_table(d, sep='\\n', header=None)\n",
      "skip = tab[0].dropna().apply(lambda s: s.startswith('#'))\n",
      "skip = list(skip[skip==True].index)\n",
      "tab = pd.read_table(d, skiprows=skip, index_col=0).dropna()"
     ],
     "language": "python",
     "metadata": {},
     "outputs": [],
     "prompt_number": 7
    },
    {
     "cell_type": "code",
     "collapsed": false,
     "input": [
      "cancers = tab[tab.Clinical>0].index[:-1]"
     ],
     "language": "python",
     "metadata": {},
     "outputs": [],
     "prompt_number": 8
    },
    {
     "cell_type": "markdown",
     "metadata": {},
     "source": [
      "<span class='alert alert-warning'>Takes about 5 min to download data.</span>"
     ]
    },
    {
     "cell_type": "code",
     "collapsed": false,
     "input": [
      "cancer_string = ' '.join(cancers)"
     ],
     "language": "python",
     "metadata": {},
     "outputs": [],
     "prompt_number": 9
    },
    {
     "cell_type": "code",
     "collapsed": false,
     "input": [
      "!firehose_get -b analyses $RUN_DATE $cancer_string > tmp"
     ],
     "language": "python",
     "metadata": {},
     "outputs": [],
     "prompt_number": 10
    },
    {
     "cell_type": "code",
     "collapsed": false,
     "input": [
      "!firehose_get -b -o miR_gene_expression stddata $RUN_DATE $cancer_string > tmp"
     ],
     "language": "python",
     "metadata": {},
     "outputs": [],
     "prompt_number": 11
    },
    {
     "cell_type": "code",
     "collapsed": false,
     "input": [
      "!firehose_get -b -o RSEM_genes_normalized stddata $RUN_DATE $cancer_string > tmp"
     ],
     "language": "python",
     "metadata": {},
     "outputs": [],
     "prompt_number": 12
    },
    {
     "cell_type": "code",
     "collapsed": false,
     "input": [
      "!firehose_get -b -o rppa stddata $RUN_DATE $cancer_string > tmp"
     ],
     "language": "python",
     "metadata": {},
     "outputs": [],
     "prompt_number": 13
    },
    {
     "cell_type": "code",
     "collapsed": false,
     "input": [
      "!firehose_get -b -o clinical stddata $RUN_DATE $cancer_string > tmp"
     ],
     "language": "python",
     "metadata": {},
     "outputs": [],
     "prompt_number": 14
    },
    {
     "cell_type": "markdown",
     "metadata": {},
     "source": [
      "<span class='alert alert-warning'>Takes about 25 min to download methylation data.</span>"
     ]
    },
    {
     "cell_type": "code",
     "collapsed": false,
     "input": [
      "!firehose_get -b -o humanmethylation450 stddata $RUN_DATE HNSC"
     ],
     "language": "python",
     "metadata": {},
     "outputs": [
      {
       "output_type": "stream",
       "stream": "stdout",
       "text": [
        "Validating run selection against Broad Institute website ...\r\n"
       ]
      },
      {
       "output_type": "stream",
       "stream": "stdout",
       "text": [
        "You've asked to download archives for the following tasks\r\n",
        "\r\n",
        "     humanmethylation450\r\n",
        "\r\n",
        "run against the disease cohorts\r\n",
        "\r\n",
        "      HNSC\r\n",
        "\r\n",
        "from the stddata__2014_01_15 Firehose run. \r\n",
        "Attempting to retrieve data for Broad GDAC run stddata__2014_01_15 ...\r\n",
        "--2014-02-12 19:57:42--  http://gdac.broadinstitute.org/runs/stddata__2014_01_15/data/HNSC/\r\n"
       ]
      },
      {
       "output_type": "stream",
       "stream": "stdout",
       "text": [
        "     0K                                                      100% 28.2M=0s\r\n"
       ]
      },
      {
       "output_type": "stream",
       "stream": "stdout",
       "text": [
        "2014-02-12 19:57:42 ERROR 404: Not Found.\r\n",
        "--2014-02-12 19:57:42--  http://gdac.broadinstitute.org/runs/stddata__2014_01_15/data/HNSC/20140115/\r\n"
       ]
      },
      {
       "output_type": "stream",
       "stream": "stdout",
       "text": [
        "     0K                                                        101K=0.4s\r\n",
        "--2014-02-12 19:57:42--  http://gdac.broadinstitute.org/runs/stddata__2014_01_15/data/HNSC/20140115/gdac.broadinstitute.org_HNSC.Merge_methylation__humanmethylation450__jhu_usc_edu__Level_3__within_bioassay_data_set_function__data.Level_3.2014011500.0.0.tar.gz\r\n"
       ]
      },
      {
       "output_type": "stream",
       "stream": "stdout",
       "text": [
        "Saving to: `stddata__2014_01_15/HNSC/20140115/gdac.broadinstitute.org_HNSC.Merge_methylation__humanmethylation450__jhu_usc_edu__Level_3__within_bioassay_data_set_function__data.Level_3.2014011500.0.0.tar.gz'\r\n"
       ]
      },
      {
       "output_type": "stream",
       "stream": "stdout",
       "text": [
        "     0K ........ ........ ........ ........ ........ ........  0%  858K 38m12s\r\n"
       ]
      },
      {
       "output_type": "stream",
       "stream": "stdout",
       "text": [
        "  3072K ........ ........ ........ ........ ........ ........  0%  994K 35m31s\r\n"
       ]
      },
      {
       "output_type": "stream",
       "stream": "stdout",
       "text": [
        "  6144K ........ ........ ........ ........ ........ ........  0% 1011K 34m25s\r\n"
       ]
      },
      {
       "output_type": "stream",
       "stream": "stdout",
       "text": [
        "  9216K ........ ........ ........ ........ ........ ........  0% 1023K 33m44s\r\n"
       ]
      },
      {
       "output_type": "stream",
       "stream": "stdout",
       "text": [
        " 12288K ........ ........ ........ ........ ........ ........  0% 1022K 33m19s\r\n"
       ]
      },
      {
       "output_type": "stream",
       "stream": "stdout",
       "text": [
        " 15360K ........ ........ ........ ........ ........ ........  0%  994K 33m10s\r\n"
       ]
      },
      {
       "output_type": "stream",
       "stream": "stdout",
       "text": [
        " 18432K ........ ........ ........ ........ ........ ........  1% 1001K 33m1s\r\n"
       ]
      },
      {
       "output_type": "stream",
       "stream": "stdout",
       "text": [
        " 21504K ........ ........ ........ ........ ........ ........  1%  996K 32m55s\r\n"
       ]
      },
      {
       "output_type": "stream",
       "stream": "stdout",
       "text": [
        " 24576K ........ ........ ........ ........ ........ ........  1%  996K 32m49s\r\n"
       ]
      },
      {
       "output_type": "stream",
       "stream": "stdout",
       "text": [
        " 27648K ........ ........ ........ ........ ........ ........  1%  965K 32m50s\r\n"
       ]
      },
      {
       "output_type": "stream",
       "stream": "stdout",
       "text": [
        " 30720K ........ ........ ........ ........ ........ ........  1%  994K 32m45s\r\n"
       ]
      },
      {
       "output_type": "stream",
       "stream": "stdout",
       "text": [
        " 33792K ........ ........ ........ ........ ........ ........  1%  996K 32m40s\r\n"
       ]
      },
      {
       "output_type": "stream",
       "stream": "stdout",
       "text": [
        " 36864K ........ ........ ........ ........ ........ ........  2%  996K 32m36s\r\n"
       ]
      },
      {
       "output_type": "stream",
       "stream": "stdout",
       "text": [
        " 39936K ........ ........ ........ ........ ........ ........  2%  972K 32m35s\r\n"
       ]
      },
      {
       "output_type": "stream",
       "stream": "stdout",
       "text": [
        " 43008K ........ ........ ........ ........ ........ ........  2%  996K 32m30s\r\n"
       ]
      },
      {
       "output_type": "stream",
       "stream": "stdout",
       "text": [
        " 46080K ........ ........ ........ ........ ........ ........  2% 1.00M 32m23s\r\n"
       ]
      },
      {
       "output_type": "stream",
       "stream": "stdout",
       "text": [
        " 49152K ........ ........ ........ ........ ........ ........  2%  997K 32m19s\r\n"
       ]
      },
      {
       "output_type": "stream",
       "stream": "stdout",
       "text": [
        " 52224K ........ ........ ........ ........ ........ ........  2% 1024K 32m12s\r\n"
       ]
      },
      {
       "output_type": "stream",
       "stream": "stdout",
       "text": [
        " 55296K ........ ........ ........ ........ ........ ........  2%  997K 32m8s\r\n"
       ]
      },
      {
       "output_type": "stream",
       "stream": "stdout",
       "text": [
        " 58368K ........ ........ ........ ........ ........ ........  3%  996K 32m5s\r\n"
       ]
      },
      {
       "output_type": "stream",
       "stream": "stdout",
       "text": [
        " 61440K ........ ........ ........ ........ ........ ........  3%  997K 32m1s\r\n"
       ]
      },
      {
       "output_type": "stream",
       "stream": "stdout",
       "text": [
        " 64512K ........ ........ ........ ........ ........ ........  3%  984K 31m58s\r\n"
       ]
      },
      {
       "output_type": "stream",
       "stream": "stdout",
       "text": [
        " 67584K ........ ........ ........ ........ ........ ........  3%  971K 31m57s\r\n"
       ]
      },
      {
       "output_type": "stream",
       "stream": "stdout",
       "text": [
        " 70656K ........ ........ ........ ........ ........ ........  3%  996K 31m54s\r\n"
       ]
      },
      {
       "output_type": "stream",
       "stream": "stdout",
       "text": [
        " 73728K ........ ........ ........ ........ ........ ........  3%  972K 31m52s\r\n"
       ]
      },
      {
       "output_type": "stream",
       "stream": "stdout",
       "text": [
        " 76800K ........ ........ ........ ........ ........ ........  4%  784K 32m8s\r\n"
       ]
      },
      {
       "output_type": "stream",
       "stream": "stdout",
       "text": [
        " 79872K ........ ........ ........ ........ ........ ........  4%  925K 32m9s\r\n"
       ]
      },
      {
       "output_type": "stream",
       "stream": "stdout",
       "text": [
        " 82944K ........ ........ ........ ........ ........ ........  4%  998K 32m5s\r\n"
       ]
      },
      {
       "output_type": "stream",
       "stream": "stdout",
       "text": [
        " 86016K ........ ........ ........ ........ ........ ........  4%  995K 32m0s\r\n"
       ]
      },
      {
       "output_type": "stream",
       "stream": "stdout",
       "text": [
        " 89088K ........ ........ ........ ........ ........ ........  4% 1000K 31m56s\r\n"
       ]
      },
      {
       "output_type": "stream",
       "stream": "stdout",
       "text": [
        " 92160K ........ ........ ........ ........ ........ ........  4% 1018K 31m50s\r\n"
       ]
      },
      {
       "output_type": "stream",
       "stream": "stdout",
       "text": [
        " 95232K ........ ........ ........ ........ ........ ........  4% 1004K 31m46s\r\n"
       ]
      },
      {
       "output_type": "stream",
       "stream": "stdout",
       "text": [
        " 98304K ........ ........ ........ ........ ........ ........  5%  992K 31m42s\r\n"
       ]
      },
      {
       "output_type": "stream",
       "stream": "stdout",
       "text": [
        "101376K ........ ........ ........ ........ ........ ........  5%  997K 31m38s\r\n"
       ]
      },
      {
       "output_type": "stream",
       "stream": "stdout",
       "text": [
        "104448K ........ ........ ........ ........ ........ ........  5%  994K 31m34s\r\n"
       ]
      },
      {
       "output_type": "stream",
       "stream": "stdout",
       "text": [
        "107520K ........ ........ ........ ........ ........ ........  5%  996K 31m31s\r\n"
       ]
      },
      {
       "output_type": "stream",
       "stream": "stdout",
       "text": [
        "110592K ........ ........ ........ ........ ........ ........  5%  996K 31m27s\r\n"
       ]
      },
      {
       "output_type": "stream",
       "stream": "stdout",
       "text": [
        "113664K ........ ........ ........ ........ ........ ........  5%  997K 31m23s\r\n"
       ]
      },
      {
       "output_type": "stream",
       "stream": "stdout",
       "text": [
        "116736K ........ ........ ........ ........ ........ ........  6% 1007K 31m19s\r\n"
       ]
      },
      {
       "output_type": "stream",
       "stream": "stdout",
       "text": [
        "119808K ........ ........ ........ ........ ........ ........  6%  997K 31m15s\r\n"
       ]
      },
      {
       "output_type": "stream",
       "stream": "stdout",
       "text": [
        "122880K ........ ........ ........ ........ ........ ........  6%  996K 31m11s\r\n"
       ]
      },
      {
       "output_type": "stream",
       "stream": "stdout",
       "text": [
        "125952K ........ ........ ........ ........ ........ ........  6%  997K 31m8s\r\n"
       ]
      },
      {
       "output_type": "stream",
       "stream": "stdout",
       "text": [
        "129024K ........ ........ ........ ........ ........ ........  6%  994K 31m4s\r\n"
       ]
      },
      {
       "output_type": "stream",
       "stream": "stdout",
       "text": [
        "132096K ........ ........ ........ ........ ........ ........  6%  973K 31m2s\r\n"
       ]
      },
      {
       "output_type": "stream",
       "stream": "stdout",
       "text": [
        "135168K ........ ........ ........ ........ ........ ........  7%  995K 30m58s\r\n"
       ]
      },
      {
       "output_type": "stream",
       "stream": "stdout",
       "text": [
        "138240K ........ ........ ........ ........ ........ ........  7% 1022K 30m54s\r\n"
       ]
      },
      {
       "output_type": "stream",
       "stream": "stdout",
       "text": [
        "141312K ........ ........ ........ ........ ........ ........  7% 1022K 30m49s\r\n"
       ]
      },
      {
       "output_type": "stream",
       "stream": "stdout",
       "text": [
        "144384K ........ ........ ........ ........ ........ ........  7% 1001K 30m46s\r\n"
       ]
      },
      {
       "output_type": "stream",
       "stream": "stdout",
       "text": [
        "147456K ........ ........ ........ ........ ........ ........  7%  997K 30m42s\r\n"
       ]
      },
      {
       "output_type": "stream",
       "stream": "stdout",
       "text": [
        "150528K ........ ........ ........ ........ ........ ........  7%  997K 30m39s\r\n"
       ]
      },
      {
       "output_type": "stream",
       "stream": "stdout",
       "text": [
        "153600K ........ ........ ........ ........ ........ ........  7% 1023K 30m34s\r\n"
       ]
      },
      {
       "output_type": "stream",
       "stream": "stdout",
       "text": [
        "156672K ........ ........ ........ ........ ........ ........  8%  967K 30m32s\r\n"
       ]
      },
      {
       "output_type": "stream",
       "stream": "stdout",
       "text": [
        "159744K ........ ........ ........ ........ ........ ........  8%  985K 30m29s\r\n"
       ]
      },
      {
       "output_type": "stream",
       "stream": "stdout",
       "text": [
        "162816K ........ ........ ........ ........ ........ ........  8% 1020K 30m25s\r\n"
       ]
      },
      {
       "output_type": "stream",
       "stream": "stdout",
       "text": [
        "165888K ........ ........ ........ ........ ........ ........  8% 1014K 30m21s\r\n"
       ]
      },
      {
       "output_type": "stream",
       "stream": "stdout",
       "text": [
        "168960K ........ ........ ........ ........ ........ ........  8% 1023K 30m17s\r\n"
       ]
      },
      {
       "output_type": "stream",
       "stream": "stdout",
       "text": [
        "172032K ........ ........ ........ ........ ........ ........  8%  979K 30m14s\r\n"
       ]
      },
      {
       "output_type": "stream",
       "stream": "stdout",
       "text": [
        "175104K ........ ........ ........ ........ ........ ........  9% 1023K 30m10s\r\n"
       ]
      },
      {
       "output_type": "stream",
       "stream": "stdout",
       "text": [
        "178176K ........ ........ ........ ........ ........ ........  9%  997K 30m6s\r\n"
       ]
      },
      {
       "output_type": "stream",
       "stream": "stdout",
       "text": [
        "181248K ........ ........ ........ ........ ........ ........  9% 1.01M 30m2s\r\n"
       ]
      },
      {
       "output_type": "stream",
       "stream": "stdout",
       "text": [
        "184320K ........ ........ ........ ........ ........ ........  9% 1011K 29m58s\r\n"
       ]
      },
      {
       "output_type": "stream",
       "stream": "stdout",
       "text": [
        "187392K ........ ........ ........ ........ ........ ........  9%  996K 29m55s\r\n"
       ]
      },
      {
       "output_type": "stream",
       "stream": "stdout",
       "text": [
        "190464K ........ ........ ........ ........ ........ ........  9% 1024K 29m51s\r\n"
       ]
      },
      {
       "output_type": "stream",
       "stream": "stdout",
       "text": [
        "193536K ........ ........ ........ ........ ........ ........  9%  996K 29m48s\r\n"
       ]
      },
      {
       "output_type": "stream",
       "stream": "stdout",
       "text": [
        "196608K ........ ........ ........ ........ ........ ........ 10% 1023K 29m44s\r\n"
       ]
      },
      {
       "output_type": "stream",
       "stream": "stdout",
       "text": [
        "199680K ........ ........ ........ ........ ........ ........ 10% 1022K 29m40s\r\n"
       ]
      },
      {
       "output_type": "stream",
       "stream": "stdout",
       "text": [
        "202752K ........ ........ ........ ........ ........ ........ 10%  971K 29m37s\r\n"
       ]
      },
      {
       "output_type": "stream",
       "stream": "stdout",
       "text": [
        "205824K ........ ........ ........ ........ ........ ........ 10%  972K 29m35s\r\n"
       ]
      },
      {
       "output_type": "stream",
       "stream": "stdout",
       "text": [
        "208896K ........ ........ ........ ........ ........ ........ 10%  996K 29m32s\r\n"
       ]
      },
      {
       "output_type": "stream",
       "stream": "stdout",
       "text": [
        "211968K ........ ........ ........ ........ ........ ........ 10%  997K 29m28s\r\n"
       ]
      },
      {
       "output_type": "stream",
       "stream": "stdout",
       "text": [
        "215040K ........ ........ ........ ........ ........ ........ 11%  998K 29m25s\r\n"
       ]
      },
      {
       "output_type": "stream",
       "stream": "stdout",
       "text": [
        "218112K ........ ........ ........ ........ ........ ........ 11%  971K 29m22s\r\n"
       ]
      },
      {
       "output_type": "stream",
       "stream": "stdout",
       "text": [
        "221184K ........ ........ ........ ........ ........ ........ 11%  942K 29m21s\r\n"
       ]
      },
      {
       "output_type": "stream",
       "stream": "stdout",
       "text": [
        "224256K ........ ........ ........ ........ ........ ........ 11% 1.03M 29m16s\r\n"
       ]
      },
      {
       "output_type": "stream",
       "stream": "stdout",
       "text": [
        "227328K ........ ........ ........ ........ ........ ........ 11%  995K 29m13s\r\n"
       ]
      },
      {
       "output_type": "stream",
       "stream": "stdout",
       "text": [
        "230400K ........ ........ ........ ........ ........ ........ 11%  972K 29m10s\r\n"
       ]
      },
      {
       "output_type": "stream",
       "stream": "stdout",
       "text": [
        "233472K ........ ........ ........ ........ ........ ........ 12%  998K 29m7s\r\n"
       ]
      },
      {
       "output_type": "stream",
       "stream": "stdout",
       "text": [
        "236544K ........ ........ ........ ........ ........ ........ 12% 1021K 29m3s\r\n"
       ]
      },
      {
       "output_type": "stream",
       "stream": "stdout",
       "text": [
        "239616K ........ ........ ........ ........ ........ ........ 12%  997K 29m0s\r\n"
       ]
      },
      {
       "output_type": "stream",
       "stream": "stdout",
       "text": [
        "242688K ........ ........ ........ ........ ........ ........ 12%  996K 28m57s\r\n"
       ]
      },
      {
       "output_type": "stream",
       "stream": "stdout",
       "text": [
        "245760K ........ ........ ........ ........ ........ ........ 12% 1.00M 28m53s\r\n"
       ]
      },
      {
       "output_type": "stream",
       "stream": "stdout",
       "text": [
        "248832K ........ ........ ........ ........ ........ ........ 12% 1.00M 28m49s\r\n"
       ]
      },
      {
       "output_type": "stream",
       "stream": "stdout",
       "text": [
        "251904K ........ ........ ........ ........ ........ ........ 12%  991K 28m46s\r\n"
       ]
      },
      {
       "output_type": "stream",
       "stream": "stdout",
       "text": [
        "254976K ........ ........ ........ ........ ........ ........ 13%  994K 28m43s\r\n"
       ]
      },
      {
       "output_type": "stream",
       "stream": "stdout",
       "text": [
        "258048K ........ ........ ........ ........ ........ ........ 13%  995K 28m40s\r\n"
       ]
      },
      {
       "output_type": "stream",
       "stream": "stdout",
       "text": [
        "261120K ........ ........ ........ ........ ........ ........ 13%  995K 28m37s\r\n"
       ]
      },
      {
       "output_type": "stream",
       "stream": "stdout",
       "text": [
        "264192K ........ ........ ........ ........ ........ ........ 13% 1.02M 28m33s\r\n"
       ]
      },
      {
       "output_type": "stream",
       "stream": "stdout",
       "text": [
        "267264K ........ ........ ........ ........ ........ ........ 13%  995K 28m30s\r\n"
       ]
      },
      {
       "output_type": "stream",
       "stream": "stdout",
       "text": [
        "270336K ........ ........ ........ ........ ........ ........ 13% 1021K 28m26s\r\n"
       ]
      },
      {
       "output_type": "stream",
       "stream": "stdout",
       "text": [
        "273408K ........ ........ ........ ........ ........ ........ 14% 1021K 28m23s\r\n"
       ]
      },
      {
       "output_type": "stream",
       "stream": "stdout",
       "text": [
        "276480K ........ ........ ........ ........ ........ ........ 14%  969K 28m20s\r\n"
       ]
      },
      {
       "output_type": "stream",
       "stream": "stdout",
       "text": [
        "279552K ........ ........ ........ ........ ........ ........ 14% 1023K 28m16s\r\n"
       ]
      },
      {
       "output_type": "stream",
       "stream": "stdout",
       "text": [
        "282624K ........ ........ ........ ........ ........ ........ 14%  990K 28m13s\r\n"
       ]
      },
      {
       "output_type": "stream",
       "stream": "stdout",
       "text": [
        "285696K ........ ........ ........ ........ ........ ........ 14% 1020K 28m10s\r\n"
       ]
      },
      {
       "output_type": "stream",
       "stream": "stdout",
       "text": [
        "288768K ........ ........ ........ ........ ........ ........ 14% 1022K 28m6s\r\n"
       ]
      },
      {
       "output_type": "stream",
       "stream": "stdout",
       "text": [
        "291840K ........ ........ ........ ........ ........ ........ 14%  998K 28m3s\r\n"
       ]
      },
      {
       "output_type": "stream",
       "stream": "stdout",
       "text": [
        "294912K ........ ........ ........ ........ ........ ........ 15% 1.00M 27m59s\r\n"
       ]
      },
      {
       "output_type": "stream",
       "stream": "stdout",
       "text": [
        "297984K ........ ........ ........ ........ ........ ........ 15% 1019K 27m56s\r\n"
       ]
      },
      {
       "output_type": "stream",
       "stream": "stdout",
       "text": [
        "301056K ........ ........ ........ ........ ........ ........ 15%  995K 27m53s\r\n"
       ]
      },
      {
       "output_type": "stream",
       "stream": "stdout",
       "text": [
        "304128K ........ ........ ........ ........ ........ ........ 15% 1.00M 27m49s\r\n"
       ]
      },
      {
       "output_type": "stream",
       "stream": "stdout",
       "text": [
        "307200K ........ ........ ........ ........ ........ ........ 15% 1019K 27m46s\r\n"
       ]
      },
      {
       "output_type": "stream",
       "stream": "stdout",
       "text": [
        "310272K ........ ........ ........ ........ ........ ........ 15%  996K 27m43s\r\n"
       ]
      },
      {
       "output_type": "stream",
       "stream": "stdout",
       "text": [
        "313344K ........ ........ ........ ........ ........ ........ 16%  963K 27m40s\r\n"
       ]
      },
      {
       "output_type": "stream",
       "stream": "stdout",
       "text": [
        "316416K ........ ........ ........ ........ ........ ........ 16%  993K 27m37s\r\n"
       ]
      },
      {
       "output_type": "stream",
       "stream": "stdout",
       "text": [
        "319488K ........ ........ ........ ........ ........ ........ 16% 1015K 27m34s\r\n"
       ]
      },
      {
       "output_type": "stream",
       "stream": "stdout",
       "text": [
        "322560K ........ ........ ........ ........ ........ ........ 16%  996K 27m31s\r\n"
       ]
      },
      {
       "output_type": "stream",
       "stream": "stdout",
       "text": [
        "325632K ........ ........ ........ ........ ........ ........ 16%  997K 27m28s\r\n"
       ]
      },
      {
       "output_type": "stream",
       "stream": "stdout",
       "text": [
        "328704K ........ ........ ........ ........ ........ ........ 16% 1023K 27m24s\r\n"
       ]
      },
      {
       "output_type": "stream",
       "stream": "stdout",
       "text": [
        "331776K ........ ........ ........ ........ ........ ........ 17% 1022K 27m21s\r\n"
       ]
      },
      {
       "output_type": "stream",
       "stream": "stdout",
       "text": [
        "334848K ........ ........ ........ ........ ........ ........ 17%  995K 27m18s\r\n"
       ]
      },
      {
       "output_type": "stream",
       "stream": "stdout",
       "text": [
        "337920K ........ ........ ........ ........ ........ ........ 17% 1023K 27m14s\r\n"
       ]
      },
      {
       "output_type": "stream",
       "stream": "stdout",
       "text": [
        "340992K ........ ........ ........ ........ ........ ........ 17% 1023K 27m11s\r\n"
       ]
      },
      {
       "output_type": "stream",
       "stream": "stdout",
       "text": [
        "344064K ........ ........ ........ ........ ........ ........ 17% 1022K 27m7s\r\n"
       ]
      },
      {
       "output_type": "stream",
       "stream": "stdout",
       "text": [
        "347136K ........ ........ ........ ........ ........ ........ 17%  979K 27m4s\r\n"
       ]
      },
      {
       "output_type": "stream",
       "stream": "stdout",
       "text": [
        "350208K ........ ........ ........ ........ ........ ........ 17%  971K 27m2s\r\n"
       ]
      },
      {
       "output_type": "stream",
       "stream": "stdout",
       "text": [
        "353280K ........ ........ ........ ........ ........ ........ 18% 1015K 26m58s\r\n"
       ]
      },
      {
       "output_type": "stream",
       "stream": "stdout",
       "text": [
        "356352K ........ ........ ........ ........ ........ ........ 18%  997K 26m55s\r\n"
       ]
      },
      {
       "output_type": "stream",
       "stream": "stdout",
       "text": [
        "359424K ........ ........ ........ ........ ........ ........ 18% 1.00M 26m52s\r\n"
       ]
      },
      {
       "output_type": "stream",
       "stream": "stdout",
       "text": [
        "362496K ........ ........ ........ ........ ........ ........ 18% 1009K 26m49s\r\n"
       ]
      },
      {
       "output_type": "stream",
       "stream": "stdout",
       "text": [
        "365568K ........ ........ ........ ........ ........ ........ 18% 1023K 26m45s\r\n"
       ]
      },
      {
       "output_type": "stream",
       "stream": "stdout",
       "text": [
        "368640K ........ ........ ........ ........ ........ ........ 18% 1023K 26m42s\r\n"
       ]
      },
      {
       "output_type": "stream",
       "stream": "stdout",
       "text": [
        "371712K ........ ........ ........ ........ ........ ........ 19%  954K 26m39s\r\n"
       ]
      },
      {
       "output_type": "stream",
       "stream": "stdout",
       "text": [
        "374784K ........ ........ ........ ........ ........ ........ 19% 1020K 26m36s\r\n"
       ]
      },
      {
       "output_type": "stream",
       "stream": "stdout",
       "text": [
        "377856K ........ ........ ........ ........ ........ ........ 19% 1021K 26m32s\r\n"
       ]
      },
      {
       "output_type": "stream",
       "stream": "stdout",
       "text": [
        "380928K ........ ........ ........ ........ ........ ........ 19%  995K 26m29s\r\n"
       ]
      },
      {
       "output_type": "stream",
       "stream": "stdout",
       "text": [
        "384000K ........ ........ ........ ........ ........ ........ 19%  991K 26m26s\r\n"
       ]
      },
      {
       "output_type": "stream",
       "stream": "stdout",
       "text": [
        "387072K ........ ........ ........ ........ ........ ........ 19% 1008K 26m23s\r\n"
       ]
      },
      {
       "output_type": "stream",
       "stream": "stdout",
       "text": [
        "390144K ........ ........ ........ ........ ........ ........ 19%  996K 26m20s\r\n"
       ]
      },
      {
       "output_type": "stream",
       "stream": "stdout",
       "text": [
        "393216K ........ ........ ........ ........ ........ ........ 20% 1022K 26m17s\r\n"
       ]
      },
      {
       "output_type": "stream",
       "stream": "stdout",
       "text": [
        "396288K ........ ........ ........ ........ ........ ........ 20%  995K 26m14s\r\n"
       ]
      },
      {
       "output_type": "stream",
       "stream": "stdout",
       "text": [
        "399360K ........ ........ ........ ........ ........ ........ 20%  996K 26m11s\r\n"
       ]
      },
      {
       "output_type": "stream",
       "stream": "stdout",
       "text": [
        "402432K ........ ........ ........ ........ ........ ........ 20%  994K 26m8s\r\n"
       ]
      },
      {
       "output_type": "stream",
       "stream": "stdout",
       "text": [
        "405504K ........ ........ ........ ........ ........ ........ 20% 1020K 26m4s\r\n"
       ]
      },
      {
       "output_type": "stream",
       "stream": "stdout",
       "text": [
        "408576K ........ ........ ........ ........ ........ ........ 20%  997K 26m1s\r\n"
       ]
      },
      {
       "output_type": "stream",
       "stream": "stdout",
       "text": [
        "411648K ........ ........ ........ ........ ........ ........ 21% 1022K 25m58s\r\n"
       ]
      },
      {
       "output_type": "stream",
       "stream": "stdout",
       "text": [
        "414720K ........ ........ ........ ........ ........ ........ 21% 1022K 25m54s\r\n"
       ]
      },
      {
       "output_type": "stream",
       "stream": "stdout",
       "text": [
        "417792K ........ ........ ........ ........ ........ ........ 21% 1020K 25m51s\r\n"
       ]
      },
      {
       "output_type": "stream",
       "stream": "stdout",
       "text": [
        "420864K ........ ........ ........ ........ ........ ........ 21%  994K 25m48s\r\n"
       ]
      },
      {
       "output_type": "stream",
       "stream": "stdout",
       "text": [
        "423936K ........ ........ ........ ........ ........ ........ 21%  981K 25m45s\r\n"
       ]
      },
      {
       "output_type": "stream",
       "stream": "stdout",
       "text": [
        "427008K ........ ........ ........ ........ ........ ........ 21% 1.03M 25m42s\r\n"
       ]
      },
      {
       "output_type": "stream",
       "stream": "stdout",
       "text": [
        "430080K ........ ........ ........ ........ ........ ........ 21%  997K 25m39s\r\n"
       ]
      },
      {
       "output_type": "stream",
       "stream": "stdout",
       "text": [
        "433152K ........ ........ ........ ........ ........ ........ 22% 1023K 25m35s\r\n"
       ]
      },
      {
       "output_type": "stream",
       "stream": "stdout",
       "text": [
        "436224K ........ ........ ........ ........ ........ ........ 22%  998K 25m32s\r\n"
       ]
      },
      {
       "output_type": "stream",
       "stream": "stdout",
       "text": [
        "439296K ........ ........ ........ ........ ........ ........ 22%  997K 25m29s\r\n"
       ]
      },
      {
       "output_type": "stream",
       "stream": "stdout",
       "text": [
        "442368K ........ ........ ........ ........ ........ ........ 22% 1024K 25m26s\r\n"
       ]
      },
      {
       "output_type": "stream",
       "stream": "stdout",
       "text": [
        "445440K ........ ........ ........ ........ ........ ........ 22%  995K 25m23s\r\n"
       ]
      },
      {
       "output_type": "stream",
       "stream": "stdout",
       "text": [
        "448512K ........ ........ ........ ........ ........ ........ 22% 1021K 25m19s\r\n"
       ]
      },
      {
       "output_type": "stream",
       "stream": "stdout",
       "text": [
        "451584K ........ ........ ........ ........ ........ ........ 23%  995K 25m16s\r\n"
       ]
      },
      {
       "output_type": "stream",
       "stream": "stdout",
       "text": [
        "454656K ........ ........ ........ ........ ........ ........ 23%  968K 25m14s\r\n"
       ]
      },
      {
       "output_type": "stream",
       "stream": "stdout",
       "text": [
        "457728K ........ ........ ........ ........ ........ ........ 23% 1009K 25m10s\r\n"
       ]
      },
      {
       "output_type": "stream",
       "stream": "stdout",
       "text": [
        "460800K ........ ........ ........ ........ ........ ........ 23% 1006K 25m7s\r\n"
       ]
      },
      {
       "output_type": "stream",
       "stream": "stdout",
       "text": [
        "463872K ........ ........ ........ ........ ........ ........ 23% 1015K 25m4s\r\n"
       ]
      },
      {
       "output_type": "stream",
       "stream": "stdout",
       "text": [
        "466944K ........ ........ ........ ........ ........ ........ 23% 1021K 25m1s\r\n"
       ]
      },
      {
       "output_type": "stream",
       "stream": "stdout",
       "text": [
        "470016K ........ ........ ........ ........ ........ ........ 24% 1007K 24m58s\r\n"
       ]
      },
      {
       "output_type": "stream",
       "stream": "stdout",
       "text": [
        "473088K ........ ........ ........ ........ ........ ........ 24% 1013K 24m54s\r\n"
       ]
      },
      {
       "output_type": "stream",
       "stream": "stdout",
       "text": [
        "476160K ........ ........ ........ ........ ........ ........ 24% 1002K 24m51s\r\n"
       ]
      },
      {
       "output_type": "stream",
       "stream": "stdout",
       "text": [
        "479232K ........ ........ ........ ........ ........ ........ 24% 1017K 24m48s\r\n"
       ]
      },
      {
       "output_type": "stream",
       "stream": "stdout",
       "text": [
        "482304K ........ ........ ........ ........ ........ ........ 24% 1001K 24m45s\r\n"
       ]
      },
      {
       "output_type": "stream",
       "stream": "stdout",
       "text": [
        "485376K ........ ........ ........ ........ ........ ........ 24% 1.02M 24m41s\r\n"
       ]
      },
      {
       "output_type": "stream",
       "stream": "stdout",
       "text": [
        "488448K ........ ........ ........ ........ ........ ........ 24%  989K 24m38s\r\n"
       ]
      },
      {
       "output_type": "stream",
       "stream": "stdout",
       "text": [
        "491520K ........ ........ ........ ........ ........ ........ 25%  971K 24m36s\r\n"
       ]
      },
      {
       "output_type": "stream",
       "stream": "stdout",
       "text": [
        "494592K ........ ........ ........ ........ ........ ........ 25% 1021K 24m32s\r\n"
       ]
      },
      {
       "output_type": "stream",
       "stream": "stdout",
       "text": [
        "497664K ........ ........ ........ ........ ........ ........ 25%  957K 24m30s\r\n"
       ]
      },
      {
       "output_type": "stream",
       "stream": "stdout",
       "text": [
        "500736K ........ ........ ........ ........ ........ ........ 25%  997K 24m27s\r\n"
       ]
      },
      {
       "output_type": "stream",
       "stream": "stdout",
       "text": [
        "503808K ........ ........ ........ ........ ........ ........ 25%  992K 24m24s\r\n"
       ]
      },
      {
       "output_type": "stream",
       "stream": "stdout",
       "text": [
        "506880K ........ ........ ........ ........ ........ ........ 25% 1023K 24m20s\r\n"
       ]
      },
      {
       "output_type": "stream",
       "stream": "stdout",
       "text": [
        "509952K ........ ........ ........ ........ ........ ........ 26% 1022K 24m17s\r\n"
       ]
      },
      {
       "output_type": "stream",
       "stream": "stdout",
       "text": [
        "513024K ........ ........ ........ ........ ........ ........ 26% 1022K 24m14s\r\n"
       ]
      },
      {
       "output_type": "stream",
       "stream": "stdout",
       "text": [
        "516096K ........ ........ ........ ........ ........ ........ 26% 1021K 24m11s\r\n"
       ]
      },
      {
       "output_type": "stream",
       "stream": "stdout",
       "text": [
        "519168K ........ ........ ........ ........ ........ ........ 26%  996K 24m8s\r\n"
       ]
      },
      {
       "output_type": "stream",
       "stream": "stdout",
       "text": [
        "522240K ........ ........ ........ ........ ........ ........ 26% 1023K 24m4s\r\n"
       ]
      },
      {
       "output_type": "stream",
       "stream": "stdout",
       "text": [
        "525312K ........ ........ ........ ........ ........ ........ 26% 1021K 24m1s\r\n"
       ]
      },
      {
       "output_type": "stream",
       "stream": "stdout",
       "text": [
        "528384K ........ ........ ........ ........ ........ ........ 26%  988K 23m58s\r\n"
       ]
      },
      {
       "output_type": "stream",
       "stream": "stdout",
       "text": [
        "531456K ........ ........ ........ ........ ........ ........ 27% 1.00M 23m55s\r\n"
       ]
      },
      {
       "output_type": "stream",
       "stream": "stdout",
       "text": [
        "534528K ........ ........ ........ ........ ........ ........ 27% 1013K 23m52s\r\n"
       ]
      },
      {
       "output_type": "stream",
       "stream": "stdout",
       "text": [
        "537600K ........ ........ ........ ........ ........ ........ 27%  995K 23m49s\r\n"
       ]
      },
      {
       "output_type": "stream",
       "stream": "stdout",
       "text": [
        "540672K ........ ........ ........ ........ ........ ........ 27% 1016K 23m45s\r\n"
       ]
      },
      {
       "output_type": "stream",
       "stream": "stdout",
       "text": [
        "543744K ........ ........ ........ ........ ........ ........ 27%  997K 23m42s\r\n"
       ]
      },
      {
       "output_type": "stream",
       "stream": "stdout",
       "text": [
        "546816K ........ ........ ........ ........ ........ ........ 27% 1003K 23m39s\r\n"
       ]
      },
      {
       "output_type": "stream",
       "stream": "stdout",
       "text": [
        "549888K ........ ........ ........ ........ ........ ........ 28%  993K 23m36s\r\n"
       ]
      },
      {
       "output_type": "stream",
       "stream": "stdout",
       "text": [
        "552960K ........ ........ ........ ........ ........ ........ 28%  974K 23m33s\r\n"
       ]
      },
      {
       "output_type": "stream",
       "stream": "stdout",
       "text": [
        "556032K ........ ........ ........ ........ ........ ........ 28%  994K 23m30s\r\n"
       ]
      },
      {
       "output_type": "stream",
       "stream": "stdout",
       "text": [
        "559104K ........ ........ ........ ........ ........ ........ 28%  997K 23m27s\r\n"
       ]
      },
      {
       "output_type": "stream",
       "stream": "stdout",
       "text": [
        "562176K ........ ........ ........ ........ ........ ........ 28%  993K 23m24s\r\n"
       ]
      },
      {
       "output_type": "stream",
       "stream": "stdout",
       "text": [
        "565248K ........ ........ ........ ........ ........ ........ 28% 1024K 23m21s\r\n"
       ]
      },
      {
       "output_type": "stream",
       "stream": "stdout",
       "text": [
        "568320K ........ ........ ........ ........ ........ ........ 29%  996K 23m18s\r\n"
       ]
      },
      {
       "output_type": "stream",
       "stream": "stdout",
       "text": [
        "571392K ........ ........ ........ ........ ........ ........ 29% 1.00M 23m15s\r\n"
       ]
      },
      {
       "output_type": "stream",
       "stream": "stdout",
       "text": [
        "574464K ........ ........ ........ ........ ........ ........ 29%  998K 23m12s\r\n"
       ]
      },
      {
       "output_type": "stream",
       "stream": "stdout",
       "text": [
        "577536K ........ ........ ........ ........ ........ ........ 29% 1018K 23m8s\r\n"
       ]
      },
      {
       "output_type": "stream",
       "stream": "stdout",
       "text": [
        "580608K ........ ........ ........ ........ ........ ........ 29%  968K 23m6s\r\n"
       ]
      },
      {
       "output_type": "stream",
       "stream": "stdout",
       "text": [
        "583680K ........ ........ ........ ........ ........ ........ 29% 1023K 23m2s\r\n"
       ]
      },
      {
       "output_type": "stream",
       "stream": "stdout",
       "text": [
        "586752K ........ ........ ........ ........ ........ ........ 29%  999K 22m59s\r\n"
       ]
      },
      {
       "output_type": "stream",
       "stream": "stdout",
       "text": [
        "589824K ........ ........ ........ ........ ........ ........ 30% 1.02M 22m56s\r\n"
       ]
      },
      {
       "output_type": "stream",
       "stream": "stdout",
       "text": [
        "592896K ........ ........ ........ ........ ........ ........ 30%  996K 22m53s\r\n"
       ]
      },
      {
       "output_type": "stream",
       "stream": "stdout",
       "text": [
        "595968K ........ ........ ........ ........ ........ ........ 30% 1001K 22m50s\r\n"
       ]
      },
      {
       "output_type": "stream",
       "stream": "stdout",
       "text": [
        "599040K ........ ........ ........ ........ ........ ........ 30%  990K 22m47s\r\n"
       ]
      },
      {
       "output_type": "stream",
       "stream": "stdout",
       "text": [
        "602112K ........ ........ ........ ........ ........ ........ 30%  995K 22m44s\r\n"
       ]
      },
      {
       "output_type": "stream",
       "stream": "stdout",
       "text": [
        "605184K ........ ........ ........ ........ ........ ........ 30%  997K 22m41s\r\n"
       ]
      },
      {
       "output_type": "stream",
       "stream": "stdout",
       "text": [
        "608256K ........ ........ ........ ........ ........ ........ 31%  918K 22m38s\r\n"
       ]
      },
      {
       "output_type": "stream",
       "stream": "stdout",
       "text": [
        "611328K ........ ........ ........ ........ ........ ........ 31% 1.03M 22m35s\r\n"
       ]
      },
      {
       "output_type": "stream",
       "stream": "stdout",
       "text": [
        "614400K ........ ........ ........ ........ ........ ........ 31% 1.00M 22m32s\r\n"
       ]
      },
      {
       "output_type": "stream",
       "stream": "stdout",
       "text": [
        "617472K ........ ........ ........ ........ ........ ........ 31%  997K 22m29s\r\n"
       ]
      },
      {
       "output_type": "stream",
       "stream": "stdout",
       "text": [
        "620544K ........ ........ ........ ........ ........ ........ 31%  978K 22m26s\r\n"
       ]
      },
      {
       "output_type": "stream",
       "stream": "stdout",
       "text": [
        "623616K ........ ........ ........ ........ ........ ........ 31% 1018K 22m22s\r\n"
       ]
      },
      {
       "output_type": "stream",
       "stream": "stdout",
       "text": [
        "626688K ........ ........ ........ ........ ........ ........ 31%  970K 22m20s\r\n"
       ]
      },
      {
       "output_type": "stream",
       "stream": "stdout",
       "text": [
        "629760K ........ ........ ........ ........ ........ ........ 32% 1.01M 22m16s\r\n"
       ]
      },
      {
       "output_type": "stream",
       "stream": "stdout",
       "text": [
        "632832K ........ ........ ........ ........ ........ ........ 32% 1.00M 22m13s\r\n"
       ]
      },
      {
       "output_type": "stream",
       "stream": "stdout",
       "text": [
        "635904K ........ ........ ........ ........ ........ ........ 32% 1008K 22m10s\r\n"
       ]
      },
      {
       "output_type": "stream",
       "stream": "stdout",
       "text": [
        "638976K ........ ........ ........ ........ ........ ........ 32% 1013K 22m7s\r\n"
       ]
      },
      {
       "output_type": "stream",
       "stream": "stdout",
       "text": [
        "642048K ........ ........ ........ ........ ........ ........ 32% 1008K 22m4s\r\n"
       ]
      },
      {
       "output_type": "stream",
       "stream": "stdout",
       "text": [
        "645120K ........ ........ ........ ........ ........ ........ 32% 1011K 22m1s\r\n"
       ]
      },
      {
       "output_type": "stream",
       "stream": "stdout",
       "text": [
        "648192K ........ ........ ........ ........ ........ ........ 33%  970K 21m58s\r\n"
       ]
      },
      {
       "output_type": "stream",
       "stream": "stdout",
       "text": [
        "651264K ........ ........ ........ ........ ........ ........ 33% 1015K 21m54s\r\n"
       ]
      },
      {
       "output_type": "stream",
       "stream": "stdout",
       "text": [
        "654336K ........ ........ ........ ........ ........ ........ 33% 1012K 21m51s\r\n"
       ]
      },
      {
       "output_type": "stream",
       "stream": "stdout",
       "text": [
        "657408K ........ ........ ........ ........ ........ ........ 33%  984K 21m48s\r\n"
       ]
      },
      {
       "output_type": "stream",
       "stream": "stdout",
       "text": [
        "660480K ........ ........ ........ ........ ........ ........ 33% 1010K 21m45s\r\n"
       ]
      },
      {
       "output_type": "stream",
       "stream": "stdout",
       "text": [
        "663552K ........ ........ ........ ........ ........ ........ 33% 1009K 21m42s\r\n"
       ]
      },
      {
       "output_type": "stream",
       "stream": "stdout",
       "text": [
        "666624K ........ ........ ........ ........ ........ ........ 34%  998K 21m39s\r\n"
       ]
      },
      {
       "output_type": "stream",
       "stream": "stdout",
       "text": [
        "669696K ........ ........ ........ ........ ........ ........ 34%  971K 21m36s\r\n"
       ]
      },
      {
       "output_type": "stream",
       "stream": "stdout",
       "text": [
        "672768K ........ ........ ........ ........ ........ ........ 34%  996K 21m33s\r\n"
       ]
      },
      {
       "output_type": "stream",
       "stream": "stdout",
       "text": [
        "675840K ........ ........ ........ ........ ........ ........ 34%  972K 21m30s\r\n"
       ]
      },
      {
       "output_type": "stream",
       "stream": "stdout",
       "text": [
        "678912K ........ ........ ........ ........ ........ ........ 34%  990K 21m27s\r\n"
       ]
      },
      {
       "output_type": "stream",
       "stream": "stdout",
       "text": [
        "681984K ........ ........ ........ ........ ........ ........ 34% 1023K 21m24s\r\n"
       ]
      },
      {
       "output_type": "stream",
       "stream": "stdout",
       "text": [
        "685056K ........ ........ ........ ........ ........ ........ 34% 1014K 21m21s\r\n"
       ]
      },
      {
       "output_type": "stream",
       "stream": "stdout",
       "text": [
        "688128K ........ ........ ........ ........ ........ ........ 35%  996K 21m18s\r\n"
       ]
      },
      {
       "output_type": "stream",
       "stream": "stdout",
       "text": [
        "691200K ........ ........ ........ ........ ........ ........ 35%  992K 21m15s\r\n"
       ]
      },
      {
       "output_type": "stream",
       "stream": "stdout",
       "text": [
        "694272K ........ ........ ........ ........ ........ ........ 35%  995K 21m12s\r\n"
       ]
      },
      {
       "output_type": "stream",
       "stream": "stdout",
       "text": [
        "697344K ........ ........ ........ ........ ........ ........ 35%  996K 21m9s\r\n"
       ]
      },
      {
       "output_type": "stream",
       "stream": "stdout",
       "text": [
        "700416K ........ ........ ........ ........ ........ ........ 35%  996K 21m6s\r\n"
       ]
      },
      {
       "output_type": "stream",
       "stream": "stdout",
       "text": [
        "703488K ........ ........ ........ ........ ........ ........ 35% 1023K 21m2s\r\n"
       ]
      },
      {
       "output_type": "stream",
       "stream": "stdout",
       "text": [
        "706560K ........ ........ ........ ........ ........ ........ 36%  985K 20m59s\r\n"
       ]
      },
      {
       "output_type": "stream",
       "stream": "stdout",
       "text": [
        "709632K ........ ........ ........ ........ ........ ........ 36% 1.00M 20m56s\r\n"
       ]
      },
      {
       "output_type": "stream",
       "stream": "stdout",
       "text": [
        "712704K ........ ........ ........ ........ ........ ........ 36%  985K 20m53s\r\n"
       ]
      },
      {
       "output_type": "stream",
       "stream": "stdout",
       "text": [
        "715776K ........ ........ ........ ........ ........ ........ 36%  968K 20m50s\r\n"
       ]
      },
      {
       "output_type": "stream",
       "stream": "stdout",
       "text": [
        "718848K ........ ........ ........ ........ ........ ........ 36%  995K 20m47s\r\n"
       ]
      },
      {
       "output_type": "stream",
       "stream": "stdout",
       "text": [
        "721920K ........ ........ ........ ........ ........ ........ 36% 1007K 20m44s\r\n"
       ]
      },
      {
       "output_type": "stream",
       "stream": "stdout",
       "text": [
        "724992K ........ ........ ........ ........ ........ ........ 36%  986K 20m41s\r\n"
       ]
      },
      {
       "output_type": "stream",
       "stream": "stdout",
       "text": [
        "728064K ........ ........ ........ ........ ........ ........ 37% 1.01M 20m38s\r\n"
       ]
      },
      {
       "output_type": "stream",
       "stream": "stdout",
       "text": [
        "731136K ........ ........ ........ ........ ........ ........ 37%  996K 20m35s\r\n"
       ]
      },
      {
       "output_type": "stream",
       "stream": "stdout",
       "text": [
        "734208K ........ ........ ........ ........ ........ ........ 37% 1.00M 20m32s\r\n"
       ]
      },
      {
       "output_type": "stream",
       "stream": "stdout",
       "text": [
        "737280K ........ ........ ........ ........ ........ ........ 37%  984K 20m29s\r\n"
       ]
      },
      {
       "output_type": "stream",
       "stream": "stdout",
       "text": [
        "740352K ........ ........ ........ ........ ........ ........ 37% 1010K 20m26s\r\n"
       ]
      },
      {
       "output_type": "stream",
       "stream": "stdout",
       "text": [
        "743424K ........ ........ ........ ........ ........ ........ 37% 1023K 20m22s\r\n"
       ]
      },
      {
       "output_type": "stream",
       "stream": "stdout",
       "text": [
        "746496K ........ ........ ........ ........ ........ ........ 38% 1011K 20m19s\r\n"
       ]
      },
      {
       "output_type": "stream",
       "stream": "stdout",
       "text": [
        "749568K ........ ........ ........ ........ ........ ........ 38%  998K 20m16s\r\n"
       ]
      },
      {
       "output_type": "stream",
       "stream": "stdout",
       "text": [
        "752640K ........ ........ ........ ........ ........ ........ 38% 1023K 20m13s\r\n"
       ]
      },
      {
       "output_type": "stream",
       "stream": "stdout",
       "text": [
        "755712K ........ ........ ........ ........ ........ ........ 38%  991K 20m10s\r\n"
       ]
      },
      {
       "output_type": "stream",
       "stream": "stdout",
       "text": [
        "758784K ........ ........ ........ ........ ........ ........ 38% 1009K 20m7s\r\n"
       ]
      },
      {
       "output_type": "stream",
       "stream": "stdout",
       "text": [
        "761856K ........ ........ ........ ........ ........ ........ 38%  981K 20m4s\r\n"
       ]
      },
      {
       "output_type": "stream",
       "stream": "stdout",
       "text": [
        "764928K ........ ........ ........ ........ ........ ........ 39%  996K 20m1s\r\n"
       ]
      },
      {
       "output_type": "stream",
       "stream": "stdout",
       "text": [
        "768000K ........ ........ ........ ........ ........ ........ 39% 1011K 19m58s\r\n"
       ]
      },
      {
       "output_type": "stream",
       "stream": "stdout",
       "text": [
        "771072K ........ ........ ........ ........ ........ ........ 39% 1005K 19m55s\r\n"
       ]
      },
      {
       "output_type": "stream",
       "stream": "stdout",
       "text": [
        "774144K ........ ........ ........ ........ ........ ........ 39% 1.00M 19m51s\r\n"
       ]
      },
      {
       "output_type": "stream",
       "stream": "stdout",
       "text": [
        "777216K ........ ........ ........ ........ ........ ........ 39%  970K 19m49s\r\n"
       ]
      },
      {
       "output_type": "stream",
       "stream": "stdout",
       "text": [
        "780288K ........ ........ ........ ........ ........ ........ 39% 1012K 19m45s\r\n"
       ]
      },
      {
       "output_type": "stream",
       "stream": "stdout",
       "text": [
        "783360K ........ ........ ........ ........ ........ ........ 39% 1021K 19m42s\r\n"
       ]
      },
      {
       "output_type": "stream",
       "stream": "stdout",
       "text": [
        "786432K ........ ........ ........ ........ ........ ........ 40%  954K 19m39s\r\n"
       ]
      },
      {
       "output_type": "stream",
       "stream": "stdout",
       "text": [
        "789504K ........ ........ ........ ........ ........ ........ 40%  969K 19m36s\r\n"
       ]
      },
      {
       "output_type": "stream",
       "stream": "stdout",
       "text": [
        "792576K ........ ........ ........ ........ ........ ........ 40%  998K 19m33s\r\n"
       ]
      },
      {
       "output_type": "stream",
       "stream": "stdout",
       "text": [
        "795648K ........ ........ ........ ........ ........ ........ 40%  996K 19m30s\r\n"
       ]
      },
      {
       "output_type": "stream",
       "stream": "stdout",
       "text": [
        "798720K ........ ........ ........ ........ ........ ........ 40% 1019K 19m27s\r\n"
       ]
      },
      {
       "output_type": "stream",
       "stream": "stdout",
       "text": [
        "801792K ........ ........ ........ ........ ........ ........ 40%  978K 19m24s\r\n"
       ]
      },
      {
       "output_type": "stream",
       "stream": "stdout",
       "text": [
        "804864K ........ ........ ........ ........ ........ ........ 41% 1000K 19m21s\r\n"
       ]
      },
      {
       "output_type": "stream",
       "stream": "stdout",
       "text": [
        "807936K ........ ........ ........ ........ ........ ........ 41% 1009K 19m18s\r\n"
       ]
      },
      {
       "output_type": "stream",
       "stream": "stdout",
       "text": [
        "811008K ........ ........ ........ ........ ........ ........ 41%  972K 19m15s\r\n"
       ]
      },
      {
       "output_type": "stream",
       "stream": "stdout",
       "text": [
        "814080K ........ ........ ........ ........ ........ ........ 41%  957K 19m12s\r\n"
       ]
      },
      {
       "output_type": "stream",
       "stream": "stdout",
       "text": [
        "817152K ........ ........ ........ ........ ........ ........ 41%  985K 19m9s\r\n"
       ]
      },
      {
       "output_type": "stream",
       "stream": "stdout",
       "text": [
        "820224K ........ ........ ........ ........ ........ ........ 41% 1008K 19m6s\r\n"
       ]
      },
      {
       "output_type": "stream",
       "stream": "stdout",
       "text": [
        "823296K ........ ........ ........ ........ ........ ........ 41%  989K 19m3s\r\n"
       ]
      },
      {
       "output_type": "stream",
       "stream": "stdout",
       "text": [
        "826368K ........ ........ ........ ........ ........ ........ 42%  998K 19m0s\r\n"
       ]
      },
      {
       "output_type": "stream",
       "stream": "stdout",
       "text": [
        "829440K ........ ........ ........ ........ ........ ........ 42% 1021K 18m57s\r\n"
       ]
      },
      {
       "output_type": "stream",
       "stream": "stdout",
       "text": [
        "832512K ........ ........ ........ ........ ........ ........ 42%  999K 18m54s\r\n"
       ]
      },
      {
       "output_type": "stream",
       "stream": "stdout",
       "text": [
        "835584K ........ ........ ........ ........ ........ ........ 42%  989K 18m51s\r\n"
       ]
      },
      {
       "output_type": "stream",
       "stream": "stdout",
       "text": [
        "838656K ........ ........ ........ ........ ........ ........ 42% 1012K 18m48s\r\n"
       ]
      },
      {
       "output_type": "stream",
       "stream": "stdout",
       "text": [
        "841728K ........ ........ ........ ........ ........ ........ 42% 1006K 18m45s\r\n"
       ]
      },
      {
       "output_type": "stream",
       "stream": "stdout",
       "text": [
        "844800K ........ ........ ........ ........ ........ ........ 43%  979K 18m42s\r\n"
       ]
      },
      {
       "output_type": "stream",
       "stream": "stdout",
       "text": [
        "847872K ........ ........ ........ ........ ........ ........ 43% 1012K 18m38s\r\n"
       ]
      },
      {
       "output_type": "stream",
       "stream": "stdout",
       "text": [
        "850944K ........ ........ ........ ........ ........ ........ 43% 1010K 18m35s\r\n"
       ]
      },
      {
       "output_type": "stream",
       "stream": "stdout",
       "text": [
        "854016K ........ ........ ........ ........ ........ ........ 43%  998K 18m32s\r\n"
       ]
      },
      {
       "output_type": "stream",
       "stream": "stdout",
       "text": [
        "857088K ........ ........ ........ ........ ........ ........ 43%  998K 18m29s\r\n"
       ]
      },
      {
       "output_type": "stream",
       "stream": "stdout",
       "text": [
        "860160K ........ ........ ........ ........ ........ ........ 43% 1008K 18m26s\r\n"
       ]
      },
      {
       "output_type": "stream",
       "stream": "stdout",
       "text": [
        "863232K ........ ........ ........ ........ ........ ........ 43% 1012K 18m23s\r\n"
       ]
      },
      {
       "output_type": "stream",
       "stream": "stdout",
       "text": [
        "866304K ........ ........ ........ ........ ........ ........ 44% 1008K 18m20s\r\n"
       ]
      },
      {
       "output_type": "stream",
       "stream": "stdout",
       "text": [
        "869376K ........ ........ ........ ........ ........ ........ 44% 1.02M 18m17s\r\n"
       ]
      },
      {
       "output_type": "stream",
       "stream": "stdout",
       "text": [
        "872448K ........ ........ ........ ........ ........ ........ 44% 1023K 18m14s\r\n"
       ]
      },
      {
       "output_type": "stream",
       "stream": "stdout",
       "text": [
        "875520K ........ ........ ........ ........ ........ ........ 44% 1006K 18m10s\r\n"
       ]
      },
      {
       "output_type": "stream",
       "stream": "stdout",
       "text": [
        "878592K ........ ........ ........ ........ ........ ........ 44% 1009K 18m7s\r\n"
       ]
      },
      {
       "output_type": "stream",
       "stream": "stdout",
       "text": [
        "881664K ........ ........ ........ ........ ........ ........ 44%  997K 18m4s\r\n"
       ]
      },
      {
       "output_type": "stream",
       "stream": "stdout",
       "text": [
        "884736K ........ ........ ........ ........ ........ ........ 45% 1008K 18m1s\r\n"
       ]
      },
      {
       "output_type": "stream",
       "stream": "stdout",
       "text": [
        "887808K ........ ........ ........ ........ ........ ........ 45%  971K 17m58s\r\n"
       ]
      },
      {
       "output_type": "stream",
       "stream": "stdout",
       "text": [
        "890880K ........ ........ ........ ........ ........ ........ 45% 1021K 17m55s\r\n"
       ]
      },
      {
       "output_type": "stream",
       "stream": "stdout",
       "text": [
        "893952K ........ ........ ........ ........ ........ ........ 45% 1000K 17m52s\r\n"
       ]
      },
      {
       "output_type": "stream",
       "stream": "stdout",
       "text": [
        "897024K ........ ........ ........ ........ ........ ........ 45% 1023K 17m49s\r\n"
       ]
      },
      {
       "output_type": "stream",
       "stream": "stdout",
       "text": [
        "900096K ........ ........ ........ ........ ........ ........ 45%  999K 17m46s\r\n"
       ]
      },
      {
       "output_type": "stream",
       "stream": "stdout",
       "text": [
        "903168K ........ ........ ........ ........ ........ ........ 46% 1023K 17m43s\r\n"
       ]
      },
      {
       "output_type": "stream",
       "stream": "stdout",
       "text": [
        "906240K ........ ........ ........ ........ ........ ........ 46%  960K 17m40s\r\n"
       ]
      },
      {
       "output_type": "stream",
       "stream": "stdout",
       "text": [
        "909312K ........ ........ ........ ........ ........ ........ 46%  997K 17m37s\r\n"
       ]
      },
      {
       "output_type": "stream",
       "stream": "stdout",
       "text": [
        "912384K ........ ........ ........ ........ ........ ........ 46% 1.01M 17m33s\r\n"
       ]
      },
      {
       "output_type": "stream",
       "stream": "stdout",
       "text": [
        "915456K ........ ........ ........ ........ ........ ........ 46%  997K 17m30s\r\n"
       ]
      },
      {
       "output_type": "stream",
       "stream": "stdout",
       "text": [
        "918528K ........ ........ ........ ........ ........ ........ 46% 1009K 17m27s\r\n"
       ]
      },
      {
       "output_type": "stream",
       "stream": "stdout",
       "text": [
        "921600K ........ ........ ........ ........ ........ ........ 46%  999K 17m24s\r\n"
       ]
      },
      {
       "output_type": "stream",
       "stream": "stdout",
       "text": [
        "924672K ........ ........ ........ ........ ........ ........ 47% 1009K 17m21s\r\n"
       ]
      },
      {
       "output_type": "stream",
       "stream": "stdout",
       "text": [
        "927744K ........ ........ ........ ........ ........ ........ 47%  995K 17m18s\r\n"
       ]
      },
      {
       "output_type": "stream",
       "stream": "stdout",
       "text": [
        "930816K ........ ........ ........ ........ ........ ........ 47% 1021K 17m15s\r\n"
       ]
      },
      {
       "output_type": "stream",
       "stream": "stdout",
       "text": [
        "933888K ........ ........ ........ ........ ........ ........ 47%  953K 17m12s\r\n"
       ]
      },
      {
       "output_type": "stream",
       "stream": "stdout",
       "text": [
        "936960K ........ ........ ........ ........ ........ ........ 47% 1000K 17m9s\r\n"
       ]
      },
      {
       "output_type": "stream",
       "stream": "stdout",
       "text": [
        "940032K ........ ........ ........ ........ ........ ........ 47% 1024K 17m6s\r\n"
       ]
      },
      {
       "output_type": "stream",
       "stream": "stdout",
       "text": [
        "943104K ........ ........ ........ ........ ........ ........ 48%  995K 17m3s\r\n"
       ]
      },
      {
       "output_type": "stream",
       "stream": "stdout",
       "text": [
        "946176K ........ ........ ........ ........ ........ ........ 48%  997K 17m0s\r\n"
       ]
      },
      {
       "output_type": "stream",
       "stream": "stdout",
       "text": [
        "949248K ........ ........ ........ ........ ........ ........ 48% 1021K 16m57s\r\n"
       ]
      },
      {
       "output_type": "stream",
       "stream": "stdout",
       "text": [
        "952320K ........ ........ ........ ........ ........ ........ 48%  998K 16m53s\r\n"
       ]
      },
      {
       "output_type": "stream",
       "stream": "stdout",
       "text": [
        "955392K ........ ........ ........ ........ ........ ........ 48%  992K 16m50s\r\n"
       ]
      },
      {
       "output_type": "stream",
       "stream": "stdout",
       "text": [
        "958464K ........ ........ ........ ........ ........ ........ 48% 1022K 16m47s\r\n"
       ]
      },
      {
       "output_type": "stream",
       "stream": "stdout",
       "text": [
        "961536K ........ ........ ........ ........ ........ ........ 48% 1024K 16m44s\r\n"
       ]
      },
      {
       "output_type": "stream",
       "stream": "stdout",
       "text": [
        "964608K ........ ........ ........ ........ ........ ........ 49%  979K 16m41s\r\n"
       ]
      },
      {
       "output_type": "stream",
       "stream": "stdout",
       "text": [
        "967680K ........ ........ ........ ........ ........ ........ 49%  996K 16m38s\r\n"
       ]
      },
      {
       "output_type": "stream",
       "stream": "stdout",
       "text": [
        "970752K ........ ........ ........ ........ ........ ........ 49%  995K 16m35s\r\n"
       ]
      },
      {
       "output_type": "stream",
       "stream": "stdout",
       "text": [
        "973824K ........ ........ ........ ........ ........ ........ 49% 1.00M 16m32s\r\n"
       ]
      },
      {
       "output_type": "stream",
       "stream": "stdout",
       "text": [
        "976896K ........ ........ ........ ........ ........ ........ 49% 1023K 16m29s\r\n"
       ]
      },
      {
       "output_type": "stream",
       "stream": "stdout",
       "text": [
        "979968K ........ ........ ........ ........ ........ ........ 49%  994K 16m26s\r\n"
       ]
      },
      {
       "output_type": "stream",
       "stream": "stdout",
       "text": [
        "983040K ........ ........ ........ ........ ........ ........ 50%  972K 16m23s\r\n"
       ]
      },
      {
       "output_type": "stream",
       "stream": "stdout",
       "text": [
        "986112K ........ ........ ........ ........ ........ ........ 50%  997K 16m20s\r\n"
       ]
      },
      {
       "output_type": "stream",
       "stream": "stdout",
       "text": [
        "989184K ........ ........ ........ ........ ........ ........ 50%  970K 16m17s\r\n"
       ]
      },
      {
       "output_type": "stream",
       "stream": "stdout",
       "text": [
        "992256K ........ ........ ........ ........ ........ ........ 50% 1.03M 16m13s\r\n"
       ]
      },
      {
       "output_type": "stream",
       "stream": "stdout",
       "text": [
        "995328K ........ ........ ........ ........ ........ ........ 50%  997K 16m10s\r\n"
       ]
      },
      {
       "output_type": "stream",
       "stream": "stdout",
       "text": [
        "998400K ........ ........ ........ ........ ........ ........ 50%  996K 16m7s\r\n"
       ]
      },
      {
       "output_type": "stream",
       "stream": "stdout",
       "text": [
        "1001472K ........ ........ ........ ........ ........ ........ 51%  945K 16m4s\r\n"
       ]
      },
      {
       "output_type": "stream",
       "stream": "stdout",
       "text": [
        "1004544K ........ ........ ........ ........ ........ ........ 51%  985K 16m1s\r\n"
       ]
      },
      {
       "output_type": "stream",
       "stream": "stdout",
       "text": [
        "1007616K ........ ........ ........ ........ ........ ........ 51%  996K 15m58s\r\n"
       ]
      },
      {
       "output_type": "stream",
       "stream": "stdout",
       "text": [
        "1010688K ........ ........ ........ ........ ........ ........ 51% 1010K 15m55s\r\n"
       ]
      },
      {
       "output_type": "stream",
       "stream": "stdout",
       "text": [
        "1013760K ........ ........ ........ ........ ........ ........ 51% 1008K 15m52s\r\n"
       ]
      },
      {
       "output_type": "stream",
       "stream": "stdout",
       "text": [
        "1016832K ........ ........ ........ ........ ........ ........ 51%  973K 15m49s\r\n"
       ]
      },
      {
       "output_type": "stream",
       "stream": "stdout",
       "text": [
        "1019904K ........ ........ ........ ........ ........ ........ 51% 1023K 15m46s\r\n"
       ]
      },
      {
       "output_type": "stream",
       "stream": "stdout",
       "text": [
        "1022976K ........ ........ ........ ........ ........ ........ 52%  972K 15m43s\r\n"
       ]
      },
      {
       "output_type": "stream",
       "stream": "stdout",
       "text": [
        "1026048K ........ ........ ........ ........ ........ ........ 52% 1020K 15m40s\r\n"
       ]
      },
      {
       "output_type": "stream",
       "stream": "stdout",
       "text": [
        "1029120K ........ ........ ........ ........ ........ ........ 52% 1000K 15m37s\r\n"
       ]
      },
      {
       "output_type": "stream",
       "stream": "stdout",
       "text": [
        "1032192K ........ ........ ........ ........ ........ ........ 52%  992K 15m34s\r\n"
       ]
      },
      {
       "output_type": "stream",
       "stream": "stdout",
       "text": [
        "1035264K ........ ........ ........ ........ ........ ........ 52%  996K 15m31s\r\n"
       ]
      },
      {
       "output_type": "stream",
       "stream": "stdout",
       "text": [
        "1038336K ........ ........ ........ ........ ........ ........ 52% 1021K 15m28s\r\n"
       ]
      },
      {
       "output_type": "stream",
       "stream": "stdout",
       "text": [
        "1041408K ........ ........ ........ ........ ........ ........ 53% 1018K 15m25s\r\n"
       ]
      },
      {
       "output_type": "stream",
       "stream": "stdout",
       "text": [
        "1044480K ........ ........ ........ ........ ........ ........ 53% 1.00M 15m21s\r\n"
       ]
      },
      {
       "output_type": "stream",
       "stream": "stdout",
       "text": [
        "1047552K ........ ........ ........ ........ ........ ........ 53%  997K 15m18s\r\n"
       ]
      },
      {
       "output_type": "stream",
       "stream": "stdout",
       "text": [
        "1050624K ........ ........ ........ ........ ........ ........ 53% 1.02M 15m15s\r\n"
       ]
      },
      {
       "output_type": "stream",
       "stream": "stdout",
       "text": [
        "1053696K ........ ........ ........ ........ ........ ........ 53% 1.00M 15m12s\r\n"
       ]
      },
      {
       "output_type": "stream",
       "stream": "stdout",
       "text": [
        "1056768K ........ ........ ........ ........ ........ ........ 53% 1013K 15m9s\r\n"
       ]
      },
      {
       "output_type": "stream",
       "stream": "stdout",
       "text": [
        "1059840K ........ ........ ........ ........ ........ ........ 53% 1.01M 15m6s\r\n"
       ]
      },
      {
       "output_type": "stream",
       "stream": "stdout",
       "text": [
        "1062912K ........ ........ ........ ........ ........ ........ 54% 1.00M 15m3s\r\n"
       ]
      },
      {
       "output_type": "stream",
       "stream": "stdout",
       "text": [
        "1065984K ........ ........ ........ ........ ........ ........ 54% 1012K 14m59s\r\n"
       ]
      },
      {
       "output_type": "stream",
       "stream": "stdout",
       "text": [
        "1069056K ........ ........ ........ ........ ........ ........ 54% 1022K 14m56s\r\n"
       ]
      },
      {
       "output_type": "stream",
       "stream": "stdout",
       "text": [
        "1072128K ........ ........ ........ ........ ........ ........ 54%  990K 14m53s\r\n"
       ]
      },
      {
       "output_type": "stream",
       "stream": "stdout",
       "text": [
        "1075200K ........ ........ ........ ........ ........ ........ 54% 1000K 14m50s\r\n"
       ]
      },
      {
       "output_type": "stream",
       "stream": "stdout",
       "text": [
        "1078272K ........ ........ ........ ........ ........ ........ 54% 1017K 14m47s\r\n"
       ]
      },
      {
       "output_type": "stream",
       "stream": "stdout",
       "text": [
        "1081344K ........ ........ ........ ........ ........ ........ 55%  993K 14m44s\r\n"
       ]
      },
      {
       "output_type": "stream",
       "stream": "stdout",
       "text": [
        "1084416K ........ ........ ........ ........ ........ ........ 55% 1022K 14m41s\r\n"
       ]
      },
      {
       "output_type": "stream",
       "stream": "stdout",
       "text": [
        "1087488K ........ ........ ........ ........ ........ ........ 55%  996K 14m38s\r\n"
       ]
      },
      {
       "output_type": "stream",
       "stream": "stdout",
       "text": [
        "1090560K ........ ........ ........ ........ ........ ........ 55% 1.02M 14m35s\r\n"
       ]
      },
      {
       "output_type": "stream",
       "stream": "stdout",
       "text": [
        "1093632K ........ ........ ........ ........ ........ ........ 55%  997K 14m32s\r\n"
       ]
      },
      {
       "output_type": "stream",
       "stream": "stdout",
       "text": [
        "1096704K ........ ........ ........ ........ ........ ........ 55%  996K 14m29s\r\n"
       ]
      },
      {
       "output_type": "stream",
       "stream": "stdout",
       "text": [
        "1099776K ........ ........ ........ ........ ........ ........ 56%  995K 14m26s\r\n"
       ]
      },
      {
       "output_type": "stream",
       "stream": "stdout",
       "text": [
        "1102848K ........ ........ ........ ........ ........ ........ 56%  994K 14m23s\r\n"
       ]
      },
      {
       "output_type": "stream",
       "stream": "stdout",
       "text": [
        "1105920K ........ ........ ........ ........ ........ ........ 56% 1021K 14m19s\r\n"
       ]
      },
      {
       "output_type": "stream",
       "stream": "stdout",
       "text": [
        "1108992K ........ ........ ........ ........ ........ ........ 56%  998K 14m16s\r\n"
       ]
      },
      {
       "output_type": "stream",
       "stream": "stdout",
       "text": [
        "1112064K ........ ........ ........ ........ ........ ........ 56% 1021K 14m13s\r\n"
       ]
      },
      {
       "output_type": "stream",
       "stream": "stdout",
       "text": [
        "1115136K ........ ........ ........ ........ ........ ........ 56%  996K 14m10s\r\n"
       ]
      },
      {
       "output_type": "stream",
       "stream": "stdout",
       "text": [
        "1118208K ........ ........ ........ ........ ........ ........ 56% 1022K 14m7s\r\n"
       ]
      },
      {
       "output_type": "stream",
       "stream": "stdout",
       "text": [
        "1121280K ........ ........ ........ ........ ........ ........ 57%  994K 14m4s\r\n"
       ]
      },
      {
       "output_type": "stream",
       "stream": "stdout",
       "text": [
        "1124352K ........ ........ ........ ........ ........ ........ 57% 1023K 14m1s\r\n"
       ]
      },
      {
       "output_type": "stream",
       "stream": "stdout",
       "text": [
        "1127424K ........ ........ ........ ........ ........ ........ 57%  996K 13m58s\r\n"
       ]
      },
      {
       "output_type": "stream",
       "stream": "stdout",
       "text": [
        "1130496K ........ ........ ........ ........ ........ ........ 57%  991K 13m55s\r\n"
       ]
      },
      {
       "output_type": "stream",
       "stream": "stdout",
       "text": [
        "1133568K ........ ........ ........ ........ ........ ........ 57%  994K 13m52s\r\n"
       ]
      },
      {
       "output_type": "stream",
       "stream": "stdout",
       "text": [
        "1136640K ........ ........ ........ ........ ........ ........ 57% 1022K 13m49s\r\n"
       ]
      },
      {
       "output_type": "stream",
       "stream": "stdout",
       "text": [
        "1139712K ........ ........ ........ ........ ........ ........ 58% 1022K 13m45s\r\n"
       ]
      },
      {
       "output_type": "stream",
       "stream": "stdout",
       "text": [
        "1142784K ........ ........ ........ ........ ........ ........ 58% 1022K 13m42s\r\n"
       ]
      },
      {
       "output_type": "stream",
       "stream": "stdout",
       "text": [
        "1145856K ........ ........ ........ ........ ........ ........ 58% 1006K 13m39s\r\n"
       ]
      },
      {
       "output_type": "stream",
       "stream": "stdout",
       "text": [
        "1148928K ........ ........ ........ ........ ........ ........ 58% 1.02M 13m36s\r\n"
       ]
      },
      {
       "output_type": "stream",
       "stream": "stdout",
       "text": [
        "1152000K ........ ........ ........ ........ ........ ........ 58% 1023K 13m33s\r\n"
       ]
      },
      {
       "output_type": "stream",
       "stream": "stdout",
       "text": [
        "1155072K ........ ........ ........ ........ ........ ........ 58% 1002K 13m30s\r\n"
       ]
      },
      {
       "output_type": "stream",
       "stream": "stdout",
       "text": [
        "1158144K ........ ........ ........ ........ ........ ........ 58% 1018K 13m27s\r\n"
       ]
      },
      {
       "output_type": "stream",
       "stream": "stdout",
       "text": [
        "1161216K ........ ........ ........ ........ ........ ........ 59%  997K 13m24s\r\n"
       ]
      },
      {
       "output_type": "stream",
       "stream": "stdout",
       "text": [
        "1164288K ........ ........ ........ ........ ........ ........ 59% 1004K 13m21s\r\n"
       ]
      },
      {
       "output_type": "stream",
       "stream": "stdout",
       "text": [
        "1167360K ........ ........ ........ ........ ........ ........ 59% 1015K 13m18s\r\n"
       ]
      },
      {
       "output_type": "stream",
       "stream": "stdout",
       "text": [
        "1170432K ........ ........ ........ ........ ........ ........ 59%  983K 13m15s\r\n"
       ]
      },
      {
       "output_type": "stream",
       "stream": "stdout",
       "text": [
        "1173504K ........ ........ ........ ........ ........ ........ 59% 1008K 13m12s\r\n"
       ]
      },
      {
       "output_type": "stream",
       "stream": "stdout",
       "text": [
        "1176576K ........ ........ ........ ........ ........ ........ 59% 1022K 13m8s\r\n"
       ]
      },
      {
       "output_type": "stream",
       "stream": "stdout",
       "text": [
        "1179648K ........ ........ ........ ........ ........ ........ 60% 1023K 13m5s\r\n"
       ]
      },
      {
       "output_type": "stream",
       "stream": "stdout",
       "text": [
        "1182720K ........ ........ ........ ........ ........ ........ 60% 1021K 13m2s\r\n"
       ]
      },
      {
       "output_type": "stream",
       "stream": "stdout",
       "text": [
        "1185792K ........ ........ ........ ........ ........ ........ 60% 1.01M 12m59s\r\n"
       ]
      },
      {
       "output_type": "stream",
       "stream": "stdout",
       "text": [
        "1188864K ........ ........ ........ ........ ........ ........ 60% 1007K 12m56s\r\n"
       ]
      },
      {
       "output_type": "stream",
       "stream": "stdout",
       "text": [
        "1191936K ........ ........ ........ ........ ........ ........ 60%  980K 12m53s\r\n"
       ]
      },
      {
       "output_type": "stream",
       "stream": "stdout",
       "text": [
        "1195008K ........ ........ ........ ........ ........ ........ 60%  990K 12m50s\r\n"
       ]
      },
      {
       "output_type": "stream",
       "stream": "stdout",
       "text": [
        "1198080K ........ ........ ........ ........ ........ ........ 60% 1019K 12m47s\r\n"
       ]
      },
      {
       "output_type": "stream",
       "stream": "stdout",
       "text": [
        "1201152K ........ ........ ........ ........ ........ ........ 61% 1005K 12m44s\r\n"
       ]
      },
      {
       "output_type": "stream",
       "stream": "stdout",
       "text": [
        "1204224K ........ ........ ........ ........ ........ ........ 61% 1.01M 12m41s\r\n"
       ]
      },
      {
       "output_type": "stream",
       "stream": "stdout",
       "text": [
        "1207296K ........ ........ ........ ........ ........ ........ 61% 1009K 12m38s\r\n"
       ]
      },
      {
       "output_type": "stream",
       "stream": "stdout",
       "text": [
        "1210368K ........ ........ ........ ........ ........ ........ 61% 1010K 12m34s\r\n"
       ]
      },
      {
       "output_type": "stream",
       "stream": "stdout",
       "text": [
        "1213440K ........ ........ ........ ........ ........ ........ 61%  994K 12m31s\r\n"
       ]
      },
      {
       "output_type": "stream",
       "stream": "stdout",
       "text": [
        "1216512K ........ ........ ........ ........ ........ ........ 61% 1.00M 12m28s\r\n"
       ]
      },
      {
       "output_type": "stream",
       "stream": "stdout",
       "text": [
        "1219584K ........ ........ ........ ........ ........ ........ 62% 1023K 12m25s\r\n"
       ]
      },
      {
       "output_type": "stream",
       "stream": "stdout",
       "text": [
        "1222656K ........ ........ ........ ........ ........ ........ 62% 1021K 12m22s\r\n"
       ]
      },
      {
       "output_type": "stream",
       "stream": "stdout",
       "text": [
        "1225728K ........ ........ ........ ........ ........ ........ 62%  998K 12m19s\r\n"
       ]
      },
      {
       "output_type": "stream",
       "stream": "stdout",
       "text": [
        "1228800K ........ ........ ........ ........ ........ ........ 62% 1022K 12m16s\r\n"
       ]
      },
      {
       "output_type": "stream",
       "stream": "stdout",
       "text": [
        "1231872K ........ ........ ........ ........ ........ ........ 62%  999K 12m13s\r\n"
       ]
      },
      {
       "output_type": "stream",
       "stream": "stdout",
       "text": [
        "1234944K ........ ........ ........ ........ ........ ........ 62%  968K 12m10s\r\n"
       ]
      },
      {
       "output_type": "stream",
       "stream": "stdout",
       "text": [
        "1238016K ........ ........ ........ ........ ........ ........ 63%  991K 12m7s\r\n"
       ]
      },
      {
       "output_type": "stream",
       "stream": "stdout",
       "text": [
        "1241088K ........ ........ ........ ........ ........ ........ 63% 1011K 12m4s\r\n"
       ]
      },
      {
       "output_type": "stream",
       "stream": "stdout",
       "text": [
        "1244160K ........ ........ ........ ........ ........ ........ 63%  975K 12m1s\r\n"
       ]
      },
      {
       "output_type": "stream",
       "stream": "stdout",
       "text": [
        "1247232K ........ ........ ........ ........ ........ ........ 63% 1023K 11m58s\r\n"
       ]
      },
      {
       "output_type": "stream",
       "stream": "stdout",
       "text": [
        "1250304K ........ ........ ........ ........ ........ ........ 63% 1023K 11m55s\r\n"
       ]
      },
      {
       "output_type": "stream",
       "stream": "stdout",
       "text": [
        "1253376K ........ ........ ........ ........ ........ ........ 63% 1022K 11m51s\r\n"
       ]
      },
      {
       "output_type": "stream",
       "stream": "stdout",
       "text": [
        "1256448K ........ ........ ........ ........ ........ ........ 63%  964K 11m48s\r\n"
       ]
      },
      {
       "output_type": "stream",
       "stream": "stdout",
       "text": [
        "1259520K ........ ........ ........ ........ ........ ........ 64%  995K 11m45s\r\n"
       ]
      },
      {
       "output_type": "stream",
       "stream": "stdout",
       "text": [
        "1262592K ........ ........ ........ ........ ........ ........ 64% 1020K 11m42s\r\n"
       ]
      },
      {
       "output_type": "stream",
       "stream": "stdout",
       "text": [
        "1265664K ........ ........ ........ ........ ........ ........ 64%  993K 11m39s\r\n"
       ]
      },
      {
       "output_type": "stream",
       "stream": "stdout",
       "text": [
        "1268736K ........ ........ ........ ........ ........ ........ 64%  970K 11m36s\r\n"
       ]
      },
      {
       "output_type": "stream",
       "stream": "stdout",
       "text": [
        "1271808K ........ ........ ........ ........ ........ ........ 64%  995K 11m33s\r\n"
       ]
      },
      {
       "output_type": "stream",
       "stream": "stdout",
       "text": [
        "1274880K ........ ........ ........ ........ ........ ........ 64% 1.02M 11m30s\r\n"
       ]
      },
      {
       "output_type": "stream",
       "stream": "stdout",
       "text": [
        "1277952K ........ ........ ........ ........ ........ ........ 65%  977K 11m27s\r\n"
       ]
      },
      {
       "output_type": "stream",
       "stream": "stdout",
       "text": [
        "1281024K ........ ........ ........ ........ ........ ........ 65% 1014K 11m24s\r\n"
       ]
      },
      {
       "output_type": "stream",
       "stream": "stdout",
       "text": [
        "1284096K ........ ........ ........ ........ ........ ........ 65% 1022K 11m21s\r\n"
       ]
      },
      {
       "output_type": "stream",
       "stream": "stdout",
       "text": [
        "1287168K ........ ........ ........ ........ ........ ........ 65% 1007K 11m18s\r\n"
       ]
      },
      {
       "output_type": "stream",
       "stream": "stdout",
       "text": [
        "1290240K ........ ........ ........ ........ ........ ........ 65%  985K 11m15s\r\n"
       ]
      },
      {
       "output_type": "stream",
       "stream": "stdout",
       "text": [
        "1293312K ........ ........ ........ ........ ........ ........ 65% 1.03M 11m12s\r\n"
       ]
      },
      {
       "output_type": "stream",
       "stream": "stdout",
       "text": [
        "1296384K ........ ........ ........ ........ ........ ........ 65% 1008K 11m8s\r\n"
       ]
      },
      {
       "output_type": "stream",
       "stream": "stdout",
       "text": [
        "1299456K ........ ........ ........ ........ ........ ........ 66% 1013K 11m5s\r\n"
       ]
      },
      {
       "output_type": "stream",
       "stream": "stdout",
       "text": [
        "1302528K ........ ........ ........ ........ ........ ........ 66%  977K 11m2s\r\n"
       ]
      },
      {
       "output_type": "stream",
       "stream": "stdout",
       "text": [
        "1305600K ........ ........ ........ ........ ........ ........ 66%  971K 10m59s\r\n"
       ]
      },
      {
       "output_type": "stream",
       "stream": "stdout",
       "text": [
        "1308672K ........ ........ ........ ........ ........ ........ 66% 1013K 10m56s\r\n"
       ]
      },
      {
       "output_type": "stream",
       "stream": "stdout",
       "text": [
        "1311744K ........ ........ ........ ........ ........ ........ 66% 1022K 10m53s\r\n"
       ]
      },
      {
       "output_type": "stream",
       "stream": "stdout",
       "text": [
        "1314816K ........ ........ ........ ........ ........ ........ 66% 1021K 10m50s\r\n"
       ]
      },
      {
       "output_type": "stream",
       "stream": "stdout",
       "text": [
        "1317888K ........ ........ ........ ........ ........ ........ 67%  971K 10m47s\r\n"
       ]
      },
      {
       "output_type": "stream",
       "stream": "stdout",
       "text": [
        "1320960K ........ ........ ........ ........ ........ ........ 67% 1009K 10m44s\r\n"
       ]
      },
      {
       "output_type": "stream",
       "stream": "stdout",
       "text": [
        "1324032K ........ ........ ........ ........ ........ ........ 67% 1024K 10m41s\r\n"
       ]
      },
      {
       "output_type": "stream",
       "stream": "stdout",
       "text": [
        "1327104K ........ ........ ........ ........ ........ ........ 67% 1007K 10m38s\r\n"
       ]
      },
      {
       "output_type": "stream",
       "stream": "stdout",
       "text": [
        "1330176K ........ ........ ........ ........ ........ ........ 67% 1010K 10m35s\r\n"
       ]
      },
      {
       "output_type": "stream",
       "stream": "stdout",
       "text": [
        "1333248K ........ ........ ........ ........ ........ ........ 67%  995K 10m32s\r\n"
       ]
      },
      {
       "output_type": "stream",
       "stream": "stdout",
       "text": [
        "1336320K ........ ........ ........ ........ ........ ........ 68%  968K 10m29s\r\n"
       ]
      },
      {
       "output_type": "stream",
       "stream": "stdout",
       "text": [
        "1339392K ........ ........ ........ ........ ........ ........ 68% 1022K 10m26s\r\n"
       ]
      },
      {
       "output_type": "stream",
       "stream": "stdout",
       "text": [
        "1342464K ........ ........ ........ ........ ........ ........ 68% 1019K 10m22s\r\n"
       ]
      },
      {
       "output_type": "stream",
       "stream": "stdout",
       "text": [
        "1345536K ........ ........ ........ ........ ........ ........ 68%  996K 10m19s\r\n"
       ]
      },
      {
       "output_type": "stream",
       "stream": "stdout",
       "text": [
        "1348608K ........ ........ ........ ........ ........ ........ 68% 1017K 10m16s\r\n"
       ]
      },
      {
       "output_type": "stream",
       "stream": "stdout",
       "text": [
        "1351680K ........ ........ ........ ........ ........ ........ 68% 1020K 10m13s\r\n"
       ]
      },
      {
       "output_type": "stream",
       "stream": "stdout",
       "text": [
        "1354752K ........ ........ ........ ........ ........ ........ 68%  995K 10m10s\r\n"
       ]
      },
      {
       "output_type": "stream",
       "stream": "stdout",
       "text": [
        "1357824K ........ ........ ........ ........ ........ ........ 69%  967K 10m7s\r\n"
       ]
      },
      {
       "output_type": "stream",
       "stream": "stdout",
       "text": [
        "1360896K ........ ........ ........ ........ ........ ........ 69% 1018K 10m4s\r\n"
       ]
      },
      {
       "output_type": "stream",
       "stream": "stdout",
       "text": [
        "1363968K ........ ........ ........ ........ ........ ........ 69%  994K 10m1s\r\n"
       ]
      },
      {
       "output_type": "stream",
       "stream": "stdout",
       "text": [
        "1367040K ........ ........ ........ ........ ........ ........ 69%  972K 9m58s\r\n"
       ]
      },
      {
       "output_type": "stream",
       "stream": "stdout",
       "text": [
        "1370112K ........ ........ ........ ........ ........ ........ 69% 1021K 9m55s\r\n"
       ]
      },
      {
       "output_type": "stream",
       "stream": "stdout",
       "text": [
        "1373184K ........ ........ ........ ........ ........ ........ 69%  964K 9m52s\r\n"
       ]
      },
      {
       "output_type": "stream",
       "stream": "stdout",
       "text": [
        "1376256K ........ ........ ........ ........ ........ ........ 70%  996K 9m49s\r\n"
       ]
      },
      {
       "output_type": "stream",
       "stream": "stdout",
       "text": [
        "1379328K ........ ........ ........ ........ ........ ........ 70% 1022K 9m46s\r\n"
       ]
      },
      {
       "output_type": "stream",
       "stream": "stdout",
       "text": [
        "1382400K ........ ........ ........ ........ ........ ........ 70%  996K 9m43s\r\n"
       ]
      },
      {
       "output_type": "stream",
       "stream": "stdout",
       "text": [
        "1385472K ........ ........ ........ ........ ........ ........ 70%  991K 9m40s\r\n"
       ]
      },
      {
       "output_type": "stream",
       "stream": "stdout",
       "text": [
        "1388544K ........ ........ ........ ........ ........ ........ 70%  997K 9m37s\r\n"
       ]
      },
      {
       "output_type": "stream",
       "stream": "stdout",
       "text": [
        "1391616K ........ ........ ........ ........ ........ ........ 70%  995K 9m33s\r\n"
       ]
      },
      {
       "output_type": "stream",
       "stream": "stdout",
       "text": [
        "1394688K ........ ........ ........ ........ ........ ........ 70% 1022K 9m30s\r\n"
       ]
      },
      {
       "output_type": "stream",
       "stream": "stdout",
       "text": [
        "1397760K ........ ........ ........ ........ ........ ........ 71% 1021K 9m27s\r\n"
       ]
      },
      {
       "output_type": "stream",
       "stream": "stdout",
       "text": [
        "1400832K ........ ........ ........ ........ ........ ........ 71%  994K 9m24s\r\n"
       ]
      },
      {
       "output_type": "stream",
       "stream": "stdout",
       "text": [
        "1403904K ........ ........ ........ ........ ........ ........ 71% 1020K 9m21s\r\n"
       ]
      },
      {
       "output_type": "stream",
       "stream": "stdout",
       "text": [
        "1406976K ........ ........ ........ ........ ........ ........ 71%  970K 9m18s\r\n"
       ]
      },
      {
       "output_type": "stream",
       "stream": "stdout",
       "text": [
        "1410048K ........ ........ ........ ........ ........ ........ 71%  971K 9m15s\r\n"
       ]
      },
      {
       "output_type": "stream",
       "stream": "stdout",
       "text": [
        "1413120K ........ ........ ........ ........ ........ ........ 71% 1009K 9m12s\r\n"
       ]
      },
      {
       "output_type": "stream",
       "stream": "stdout",
       "text": [
        "1416192K ........ ........ ........ ........ ........ ........ 72%  968K 9m9s\r\n"
       ]
      },
      {
       "output_type": "stream",
       "stream": "stdout",
       "text": [
        "1419264K ........ ........ ........ ........ ........ ........ 72% 1021K 9m6s\r\n"
       ]
      },
      {
       "output_type": "stream",
       "stream": "stdout",
       "text": [
        "1422336K ........ ........ ........ ........ ........ ........ 72%  993K 9m3s\r\n"
       ]
      },
      {
       "output_type": "stream",
       "stream": "stdout",
       "text": [
        "1425408K ........ ........ ........ ........ ........ ........ 72%  985K 9m0s\r\n"
       ]
      },
      {
       "output_type": "stream",
       "stream": "stdout",
       "text": [
        "1428480K ........ ........ ........ ........ ........ ........ 72%  984K 8m57s\r\n"
       ]
      },
      {
       "output_type": "stream",
       "stream": "stdout",
       "text": [
        "1431552K ........ ........ ........ ........ ........ ........ 72%  994K 8m54s\r\n"
       ]
      },
      {
       "output_type": "stream",
       "stream": "stdout",
       "text": [
        "1434624K ........ ........ ........ ........ ........ ........ 73%  968K 8m51s\r\n"
       ]
      },
      {
       "output_type": "stream",
       "stream": "stdout",
       "text": [
        "1437696K ........ ........ ........ ........ ........ ........ 73%  997K 8m48s\r\n"
       ]
      },
      {
       "output_type": "stream",
       "stream": "stdout",
       "text": [
        "1440768K ........ ........ ........ ........ ........ ........ 73%  993K 8m45s\r\n"
       ]
      },
      {
       "output_type": "stream",
       "stream": "stdout",
       "text": [
        "1443840K ........ ........ ........ ........ ........ ........ 73%  995K 8m42s\r\n"
       ]
      },
      {
       "output_type": "stream",
       "stream": "stdout",
       "text": [
        "1446912K ........ ........ ........ ........ ........ ........ 73% 1021K 8m38s\r\n"
       ]
      },
      {
       "output_type": "stream",
       "stream": "stdout",
       "text": [
        "1449984K ........ ........ ........ ........ ........ ........ 73%  995K 8m35s\r\n"
       ]
      },
      {
       "output_type": "stream",
       "stream": "stdout",
       "text": [
        "1453056K ........ ........ ........ ........ ........ ........ 73%  972K 8m32s\r\n"
       ]
      },
      {
       "output_type": "stream",
       "stream": "stdout",
       "text": [
        "1456128K ........ ........ ........ ........ ........ ........ 74% 1021K 8m29s\r\n"
       ]
      },
      {
       "output_type": "stream",
       "stream": "stdout",
       "text": [
        "1459200K ........ ........ ........ ........ ........ ........ 74% 1022K 8m26s\r\n"
       ]
      },
      {
       "output_type": "stream",
       "stream": "stdout",
       "text": [
        "1462272K ........ ........ ........ ........ ........ ........ 74%  980K 8m23s\r\n"
       ]
      },
      {
       "output_type": "stream",
       "stream": "stdout",
       "text": [
        "1465344K ........ ........ ........ ........ ........ ........ 74% 1010K 8m20s\r\n"
       ]
      },
      {
       "output_type": "stream",
       "stream": "stdout",
       "text": [
        "1468416K ........ ........ ........ ........ ........ ........ 74%  970K 8m17s\r\n"
       ]
      },
      {
       "output_type": "stream",
       "stream": "stdout",
       "text": [
        "1471488K ........ ........ ........ ........ ........ ........ 74%  997K 8m14s\r\n"
       ]
      },
      {
       "output_type": "stream",
       "stream": "stdout",
       "text": [
        "1474560K ........ ........ ........ ........ ........ ........ 75%  971K 8m11s\r\n"
       ]
      },
      {
       "output_type": "stream",
       "stream": "stdout",
       "text": [
        "1477632K ........ ........ ........ ........ ........ ........ 75% 1010K 8m8s\r\n"
       ]
      },
      {
       "output_type": "stream",
       "stream": "stdout",
       "text": [
        "1480704K ........ ........ ........ ........ ........ ........ 75%  997K 8m5s\r\n"
       ]
      },
      {
       "output_type": "stream",
       "stream": "stdout",
       "text": [
        "1483776K ........ ........ ........ ........ ........ ........ 75% 1007K 8m2s\r\n"
       ]
      },
      {
       "output_type": "stream",
       "stream": "stdout",
       "text": [
        "1486848K ........ ........ ........ ........ ........ ........ 75% 1022K 7m59s\r\n"
       ]
      },
      {
       "output_type": "stream",
       "stream": "stdout",
       "text": [
        "1489920K ........ ........ ........ ........ ........ ........ 75%  971K 7m56s\r\n"
       ]
      },
      {
       "output_type": "stream",
       "stream": "stdout",
       "text": [
        "1492992K ........ ........ ........ ........ ........ ........ 75%  997K 7m52s\r\n"
       ]
      },
      {
       "output_type": "stream",
       "stream": "stdout",
       "text": [
        "1496064K ........ ........ ........ ........ ........ ........ 76%  921K 7m50s\r\n"
       ]
      },
      {
       "output_type": "stream",
       "stream": "stdout",
       "text": [
        "1499136K ........ ........ ........ ........ ........ ........ 76%  972K 7m46s\r\n"
       ]
      },
      {
       "output_type": "stream",
       "stream": "stdout",
       "text": [
        "1502208K ........ ........ ........ ........ ........ ........ 76% 1019K 7m43s\r\n"
       ]
      },
      {
       "output_type": "stream",
       "stream": "stdout",
       "text": [
        "1505280K ........ ........ ........ ........ ........ ........ 76%  997K 7m40s\r\n"
       ]
      },
      {
       "output_type": "stream",
       "stream": "stdout",
       "text": [
        "1508352K ........ ........ ........ ........ ........ ........ 76%  996K 7m37s\r\n"
       ]
      },
      {
       "output_type": "stream",
       "stream": "stdout",
       "text": [
        "1511424K ........ ........ ........ ........ ........ ........ 76%  996K 7m34s\r\n"
       ]
      },
      {
       "output_type": "stream",
       "stream": "stdout",
       "text": [
        "1514496K ........ ........ ........ ........ ........ ........ 77%  969K 7m31s\r\n"
       ]
      },
      {
       "output_type": "stream",
       "stream": "stdout",
       "text": [
        "1517568K ........ ........ ........ ........ ........ ........ 77% 1022K 7m28s\r\n"
       ]
      },
      {
       "output_type": "stream",
       "stream": "stdout",
       "text": [
        "1520640K ........ ........ ........ ........ ........ ........ 77%  969K 7m25s\r\n"
       ]
      },
      {
       "output_type": "stream",
       "stream": "stdout",
       "text": [
        "1523712K ........ ........ ........ ........ ........ ........ 77%  971K 7m22s\r\n"
       ]
      },
      {
       "output_type": "stream",
       "stream": "stdout",
       "text": [
        "1526784K ........ ........ ........ ........ ........ ........ 77%  996K 7m19s\r\n"
       ]
      },
      {
       "output_type": "stream",
       "stream": "stdout",
       "text": [
        "1529856K ........ ........ ........ ........ ........ ........ 77%  997K 7m16s\r\n"
       ]
      },
      {
       "output_type": "stream",
       "stream": "stdout",
       "text": [
        "1532928K ........ ........ ........ ........ ........ ........ 78%  980K 7m13s\r\n"
       ]
      },
      {
       "output_type": "stream",
       "stream": "stdout",
       "text": [
        "1536000K ........ ........ ........ ........ ........ ........ 78%  984K 7m10s\r\n"
       ]
      },
      {
       "output_type": "stream",
       "stream": "stdout",
       "text": [
        "1539072K ........ ........ ........ ........ ........ ........ 78% 1001K 7m7s\r\n"
       ]
      },
      {
       "output_type": "stream",
       "stream": "stdout",
       "text": [
        "1542144K ........ ........ ........ ........ ........ ........ 78%  993K 7m4s\r\n"
       ]
      },
      {
       "output_type": "stream",
       "stream": "stdout",
       "text": [
        "1545216K ........ ........ ........ ........ ........ ........ 78%  998K 7m1s\r\n"
       ]
      },
      {
       "output_type": "stream",
       "stream": "stdout",
       "text": [
        "1548288K ........ ........ ........ ........ ........ ........ 78%  972K 6m58s\r\n"
       ]
      },
      {
       "output_type": "stream",
       "stream": "stdout",
       "text": [
        "1551360K ........ ........ ........ ........ ........ ........ 78% 1.00M 6m54s\r\n"
       ]
      },
      {
       "output_type": "stream",
       "stream": "stdout",
       "text": [
        "1554432K ........ ........ ........ ........ ........ ........ 79%  996K 6m51s\r\n"
       ]
      },
      {
       "output_type": "stream",
       "stream": "stdout",
       "text": [
        "1557504K ........ ........ ........ ........ ........ ........ 79%  998K 6m48s\r\n"
       ]
      },
      {
       "output_type": "stream",
       "stream": "stdout",
       "text": [
        "1560576K ........ ........ ........ ........ ........ ........ 79%  979K 6m45s\r\n"
       ]
      },
      {
       "output_type": "stream",
       "stream": "stdout",
       "text": [
        "1563648K ........ ........ ........ ........ ........ ........ 79%  989K 6m42s\r\n"
       ]
      },
      {
       "output_type": "stream",
       "stream": "stdout",
       "text": [
        "1566720K ........ ........ ........ ........ ........ ........ 79%  708K 6m39s\r\n"
       ]
      },
      {
       "output_type": "stream",
       "stream": "stdout",
       "text": [
        "1569792K ........ ........ ........ ........ ........ ........ 79%  919K 6m36s\r\n"
       ]
      },
      {
       "output_type": "stream",
       "stream": "stdout",
       "text": [
        "1572864K ........ ........ ........ ........ ........ ........ 80%  998K 6m33s\r\n"
       ]
      },
      {
       "output_type": "stream",
       "stream": "stdout",
       "text": [
        "1575936K ........ ........ ........ ........ ........ ........ 80%  994K 6m30s\r\n"
       ]
      },
      {
       "output_type": "stream",
       "stream": "stdout",
       "text": [
        "1579008K ........ ........ ........ ........ ........ ........ 80%  997K 6m27s\r\n"
       ]
      },
      {
       "output_type": "stream",
       "stream": "stdout",
       "text": [
        "1582080K ........ ........ ........ ........ ........ ........ 80%  997K 6m24s\r\n"
       ]
      },
      {
       "output_type": "stream",
       "stream": "stdout",
       "text": [
        "1585152K ........ ........ ........ ........ ........ ........ 80% 1.00M 6m21s\r\n"
       ]
      },
      {
       "output_type": "stream",
       "stream": "stdout",
       "text": [
        "1588224K ........ ........ ........ ........ ........ ........ 80% 1023K 6m18s\r\n"
       ]
      },
      {
       "output_type": "stream",
       "stream": "stdout",
       "text": [
        "1591296K ........ ........ ........ ........ ........ ........ 80%  994K 6m15s\r\n"
       ]
      },
      {
       "output_type": "stream",
       "stream": "stdout",
       "text": [
        "1594368K ........ ........ ........ ........ ........ ........ 81%  995K 6m12s\r\n"
       ]
      },
      {
       "output_type": "stream",
       "stream": "stdout",
       "text": [
        "1597440K ........ ........ ........ ........ ........ ........ 81% 1014K 6m9s\r\n"
       ]
      },
      {
       "output_type": "stream",
       "stream": "stdout",
       "text": [
        "1600512K ........ ........ ........ ........ ........ ........ 81%  971K 6m6s\r\n"
       ]
      },
      {
       "output_type": "stream",
       "stream": "stdout",
       "text": [
        "1603584K ........ ........ ........ ........ ........ ........ 81%  985K 6m3s\r\n"
       ]
      },
      {
       "output_type": "stream",
       "stream": "stdout",
       "text": [
        "1606656K ........ ........ ........ ........ ........ ........ 81% 1000K 6m0s\r\n"
       ]
      },
      {
       "output_type": "stream",
       "stream": "stdout",
       "text": [
        "1609728K ........ ........ ........ ........ ........ ........ 81% 1012K 5m56s\r\n"
       ]
      },
      {
       "output_type": "stream",
       "stream": "stdout",
       "text": [
        "1612800K ........ ........ ........ ........ ........ ........ 82%  994K 5m53s\r\n"
       ]
      },
      {
       "output_type": "stream",
       "stream": "stdout",
       "text": [
        "1615872K ........ ........ ........ ........ ........ ........ 82%  971K 5m50s\r\n"
       ]
      },
      {
       "output_type": "stream",
       "stream": "stdout",
       "text": [
        "1618944K ........ ........ ........ ........ ........ ........ 82% 1013K 5m47s\r\n"
       ]
      },
      {
       "output_type": "stream",
       "stream": "stdout",
       "text": [
        "1622016K ........ ........ ........ ........ ........ ........ 82% 1015K 5m44s\r\n"
       ]
      },
      {
       "output_type": "stream",
       "stream": "stdout",
       "text": [
        "1625088K ........ ........ ........ ........ ........ ........ 82% 1008K 5m41s\r\n"
       ]
      },
      {
       "output_type": "stream",
       "stream": "stdout",
       "text": [
        "1628160K ........ ........ ........ ........ ........ ........ 82%  994K 5m38s\r\n"
       ]
      },
      {
       "output_type": "stream",
       "stream": "stdout",
       "text": [
        "1631232K ........ ........ ........ ........ ........ ........ 82% 1013K 5m35s\r\n"
       ]
      },
      {
       "output_type": "stream",
       "stream": "stdout",
       "text": [
        "1634304K ........ ........ ........ ........ ........ ........ 83%  967K 5m32s\r\n"
       ]
      },
      {
       "output_type": "stream",
       "stream": "stdout",
       "text": [
        "1637376K ........ ........ ........ ........ ........ ........ 83% 1020K 5m29s\r\n"
       ]
      },
      {
       "output_type": "stream",
       "stream": "stdout",
       "text": [
        "1640448K ........ ........ ........ ........ ........ ........ 83% 1024K 5m26s\r\n"
       ]
      },
      {
       "output_type": "stream",
       "stream": "stdout",
       "text": [
        "1643520K ........ ........ ........ ........ ........ ........ 83%  997K 5m23s\r\n"
       ]
      },
      {
       "output_type": "stream",
       "stream": "stdout",
       "text": [
        "1646592K ........ ........ ........ ........ ........ ........ 83%  998K 5m20s\r\n"
       ]
      },
      {
       "output_type": "stream",
       "stream": "stdout",
       "text": [
        "1649664K ........ ........ ........ ........ ........ ........ 83%  982K 5m17s\r\n"
       ]
      },
      {
       "output_type": "stream",
       "stream": "stdout",
       "text": [
        "1652736K ........ ........ ........ ........ ........ ........ 84%  993K 5m13s\r\n"
       ]
      },
      {
       "output_type": "stream",
       "stream": "stdout",
       "text": [
        "1655808K ........ ........ ........ ........ ........ ........ 84%  997K 5m10s\r\n"
       ]
      },
      {
       "output_type": "stream",
       "stream": "stdout",
       "text": [
        "1658880K ........ ........ ........ ........ ........ ........ 84% 1015K 5m7s\r\n"
       ]
      },
      {
       "output_type": "stream",
       "stream": "stdout",
       "text": [
        "1661952K ........ ........ ........ ........ ........ ........ 84% 1006K 5m4s\r\n"
       ]
      },
      {
       "output_type": "stream",
       "stream": "stdout",
       "text": [
        "1665024K ........ ........ ........ ........ ........ ........ 84%  972K 5m1s\r\n"
       ]
      },
      {
       "output_type": "stream",
       "stream": "stdout",
       "text": [
        "1668096K ........ ........ ........ ........ ........ ........ 84% 1016K 4m58s\r\n"
       ]
      },
      {
       "output_type": "stream",
       "stream": "stdout",
       "text": [
        "1671168K ........ ........ ........ ........ ........ ........ 85%  986K 4m55s\r\n"
       ]
      },
      {
       "output_type": "stream",
       "stream": "stdout",
       "text": [
        "1674240K ........ ........ ........ ........ ........ ........ 85%  997K 4m52s\r\n"
       ]
      },
      {
       "output_type": "stream",
       "stream": "stdout",
       "text": [
        "1677312K ........ ........ ........ ........ ........ ........ 85%  997K 4m49s\r\n"
       ]
      },
      {
       "output_type": "stream",
       "stream": "stdout",
       "text": [
        "1680384K ........ ........ ........ ........ ........ ........ 85%  997K 4m46s\r\n"
       ]
      },
      {
       "output_type": "stream",
       "stream": "stdout",
       "text": [
        "1683456K ........ ........ ........ ........ ........ ........ 85% 1015K 4m43s\r\n"
       ]
      },
      {
       "output_type": "stream",
       "stream": "stdout",
       "text": [
        "1686528K ........ ........ ........ ........ ........ ........ 85%  999K 4m40s\r\n"
       ]
      },
      {
       "output_type": "stream",
       "stream": "stdout",
       "text": [
        "1689600K ........ ........ ........ ........ ........ ........ 85%  996K 4m37s\r\n"
       ]
      },
      {
       "output_type": "stream",
       "stream": "stdout",
       "text": [
        "1692672K ........ ........ ........ ........ ........ ........ 86% 1014K 4m34s\r\n"
       ]
      },
      {
       "output_type": "stream",
       "stream": "stdout",
       "text": [
        "1695744K ........ ........ ........ ........ ........ ........ 86% 1004K 4m30s\r\n"
       ]
      },
      {
       "output_type": "stream",
       "stream": "stdout",
       "text": [
        "1698816K ........ ........ ........ ........ ........ ........ 86%  986K 4m27s\r\n"
       ]
      },
      {
       "output_type": "stream",
       "stream": "stdout",
       "text": [
        "1701888K ........ ........ ........ ........ ........ ........ 86%  971K 4m24s\r\n"
       ]
      },
      {
       "output_type": "stream",
       "stream": "stdout",
       "text": [
        "1704960K ........ ........ ........ ........ ........ ........ 86%  995K 4m21s\r\n"
       ]
      },
      {
       "output_type": "stream",
       "stream": "stdout",
       "text": [
        "1708032K ........ ........ ........ ........ ........ ........ 86% 1024K 4m18s\r\n"
       ]
      },
      {
       "output_type": "stream",
       "stream": "stdout",
       "text": [
        "1711104K ........ ........ ........ ........ ........ ........ 87% 1014K 4m15s\r\n"
       ]
      },
      {
       "output_type": "stream",
       "stream": "stdout",
       "text": [
        "1714176K ........ ........ ........ ........ ........ ........ 87%  997K 4m12s\r\n"
       ]
      },
      {
       "output_type": "stream",
       "stream": "stdout",
       "text": [
        "1717248K ........ ........ ........ ........ ........ ........ 87% 1020K 4m9s\r\n"
       ]
      },
      {
       "output_type": "stream",
       "stream": "stdout",
       "text": [
        "1720320K ........ ........ ........ ........ ........ ........ 87%  995K 4m6s\r\n"
       ]
      },
      {
       "output_type": "stream",
       "stream": "stdout",
       "text": [
        "1723392K ........ ........ ........ ........ ........ ........ 87% 1.00M 4m3s\r\n"
       ]
      },
      {
       "output_type": "stream",
       "stream": "stdout",
       "text": [
        "1726464K ........ ........ ........ ........ ........ ........ 87%  997K 4m0s\r\n"
       ]
      },
      {
       "output_type": "stream",
       "stream": "stdout",
       "text": [
        "1729536K ........ ........ ........ ........ ........ ........ 87%  988K 3m57s\r\n"
       ]
      },
      {
       "output_type": "stream",
       "stream": "stdout",
       "text": [
        "1732608K ........ ........ ........ ........ ........ ........ 88% 1018K 3m54s\r\n"
       ]
      },
      {
       "output_type": "stream",
       "stream": "stdout",
       "text": [
        "1735680K ........ ........ ........ ........ ........ ........ 88% 1010K 3m50s\r\n"
       ]
      },
      {
       "output_type": "stream",
       "stream": "stdout",
       "text": [
        "1738752K ........ ........ ........ ........ ........ ........ 88%  992K 3m47s\r\n"
       ]
      },
      {
       "output_type": "stream",
       "stream": "stdout",
       "text": [
        "1741824K ........ ........ ........ ........ ........ ........ 88% 1012K 3m44s\r\n"
       ]
      },
      {
       "output_type": "stream",
       "stream": "stdout",
       "text": [
        "1744896K ........ ........ ........ ........ ........ ........ 88%  990K 3m41s\r\n"
       ]
      },
      {
       "output_type": "stream",
       "stream": "stdout",
       "text": [
        "1747968K ........ ........ ........ ........ ........ ........ 88% 1005K 3m38s\r\n"
       ]
      },
      {
       "output_type": "stream",
       "stream": "stdout",
       "text": [
        "1751040K ........ ........ ........ ........ ........ ........ 89%  999K 3m35s\r\n"
       ]
      },
      {
       "output_type": "stream",
       "stream": "stdout",
       "text": [
        "1754112K ........ ........ ........ ........ ........ ........ 89% 1021K 3m32s\r\n"
       ]
      },
      {
       "output_type": "stream",
       "stream": "stdout",
       "text": [
        "1757184K ........ ........ ........ ........ ........ ........ 89%  994K 3m29s\r\n"
       ]
      },
      {
       "output_type": "stream",
       "stream": "stdout",
       "text": [
        "1760256K ........ ........ ........ ........ ........ ........ 89%  966K 3m26s\r\n"
       ]
      },
      {
       "output_type": "stream",
       "stream": "stdout",
       "text": [
        "1763328K ........ ........ ........ ........ ........ ........ 89%  990K 3m23s\r\n"
       ]
      },
      {
       "output_type": "stream",
       "stream": "stdout",
       "text": [
        "1766400K ........ ........ ........ ........ ........ ........ 89%  996K 3m20s\r\n"
       ]
      },
      {
       "output_type": "stream",
       "stream": "stdout",
       "text": [
        "1769472K ........ ........ ........ ........ ........ ........ 90%  998K 3m17s\r\n"
       ]
      },
      {
       "output_type": "stream",
       "stream": "stdout",
       "text": [
        "1772544K ........ ........ ........ ........ ........ ........ 90%  996K 3m14s\r\n"
       ]
      },
      {
       "output_type": "stream",
       "stream": "stdout",
       "text": [
        "1775616K ........ ........ ........ ........ ........ ........ 90%  971K 3m11s\r\n"
       ]
      },
      {
       "output_type": "stream",
       "stream": "stdout",
       "text": [
        "1778688K ........ ........ ........ ........ ........ ........ 90% 1024K 3m7s\r\n"
       ]
      },
      {
       "output_type": "stream",
       "stream": "stdout",
       "text": [
        "1781760K ........ ........ ........ ........ ........ ........ 90%  972K 3m4s\r\n"
       ]
      },
      {
       "output_type": "stream",
       "stream": "stdout",
       "text": [
        "1784832K ........ ........ ........ ........ ........ ........ 90%  970K 3m1s\r\n"
       ]
      },
      {
       "output_type": "stream",
       "stream": "stdout",
       "text": [
        "1787904K ........ ........ ........ ........ ........ ........ 90%  971K 2m58s\r\n"
       ]
      },
      {
       "output_type": "stream",
       "stream": "stdout",
       "text": [
        "1790976K ........ ........ ........ ........ ........ ........ 91%  966K 2m55s\r\n"
       ]
      },
      {
       "output_type": "stream",
       "stream": "stdout",
       "text": [
        "1794048K ........ ........ ........ ........ ........ ........ 91%  996K 2m52s\r\n"
       ]
      },
      {
       "output_type": "stream",
       "stream": "stdout",
       "text": [
        "1797120K ........ ........ ........ ........ ........ ........ 91%  996K 2m49s\r\n"
       ]
      },
      {
       "output_type": "stream",
       "stream": "stdout",
       "text": [
        "1800192K ........ ........ ........ ........ ........ ........ 91%  995K 2m46s\r\n"
       ]
      },
      {
       "output_type": "stream",
       "stream": "stdout",
       "text": [
        "1803264K ........ ........ ........ ........ ........ ........ 91%  997K 2m43s\r\n"
       ]
      },
      {
       "output_type": "stream",
       "stream": "stdout",
       "text": [
        "1806336K ........ ........ ........ ........ ........ ........ 91%  998K 2m40s\r\n"
       ]
      },
      {
       "output_type": "stream",
       "stream": "stdout",
       "text": [
        "1809408K ........ ........ ........ ........ ........ ........ 92%  997K 2m37s\r\n"
       ]
      },
      {
       "output_type": "stream",
       "stream": "stdout",
       "text": [
        "1812480K ........ ........ ........ ........ ........ ........ 92% 1023K 2m34s\r\n"
       ]
      },
      {
       "output_type": "stream",
       "stream": "stdout",
       "text": [
        "1815552K ........ ........ ........ ........ ........ ........ 92%  998K 2m31s\r\n"
       ]
      },
      {
       "output_type": "stream",
       "stream": "stdout",
       "text": [
        "1818624K ........ ........ ........ ........ ........ ........ 92%  995K 2m28s\r\n"
       ]
      },
      {
       "output_type": "stream",
       "stream": "stdout",
       "text": [
        "1821696K ........ ........ ........ ........ ........ ........ 92%  997K 2m24s\r\n"
       ]
      },
      {
       "output_type": "stream",
       "stream": "stdout",
       "text": [
        "1824768K ........ ........ ........ ........ ........ ........ 92%  975K 2m21s\r\n"
       ]
      },
      {
       "output_type": "stream",
       "stream": "stdout",
       "text": [
        "1827840K ........ ........ ........ ........ ........ ........ 92%  997K 2m18s\r\n"
       ]
      },
      {
       "output_type": "stream",
       "stream": "stdout",
       "text": [
        "1830912K ........ ........ ........ ........ ........ ........ 93%  995K 2m15s\r\n"
       ]
      },
      {
       "output_type": "stream",
       "stream": "stdout",
       "text": [
        "1833984K ........ ........ ........ ........ ........ ........ 93%  996K 2m12s\r\n"
       ]
      },
      {
       "output_type": "stream",
       "stream": "stdout",
       "text": [
        "1837056K ........ ........ ........ ........ ........ ........ 93% 1001K 2m9s\r\n"
       ]
      },
      {
       "output_type": "stream",
       "stream": "stdout",
       "text": [
        "1840128K ........ ........ ........ ........ ........ ........ 93% 1023K 2m6s\r\n"
       ]
      },
      {
       "output_type": "stream",
       "stream": "stdout",
       "text": [
        "1843200K ........ ........ ........ ........ ........ ........ 93% 1.00M 2m3s\r\n"
       ]
      },
      {
       "output_type": "stream",
       "stream": "stdout",
       "text": [
        "1846272K ........ ........ ........ ........ ........ ........ 93% 1020K 2m0s\r\n"
       ]
      },
      {
       "output_type": "stream",
       "stream": "stdout",
       "text": [
        "1849344K ........ ........ ........ ........ ........ ........ 94% 1.00M 1m57s\r\n"
       ]
      },
      {
       "output_type": "stream",
       "stream": "stdout",
       "text": [
        "1852416K ........ ........ ........ ........ ........ ........ 94% 1001K 1m54s\r\n"
       ]
      },
      {
       "output_type": "stream",
       "stream": "stdout",
       "text": [
        "1855488K ........ ........ ........ ........ ........ ........ 94%  964K 1m51s\r\n"
       ]
      },
      {
       "output_type": "stream",
       "stream": "stdout",
       "text": [
        "1858560K ........ ........ ........ ........ ........ ........ 94% 1018K 1m48s\r\n"
       ]
      },
      {
       "output_type": "stream",
       "stream": "stdout",
       "text": [
        "1861632K ........ ........ ........ ........ ........ ........ 94% 1.00M 1m45s\r\n"
       ]
      },
      {
       "output_type": "stream",
       "stream": "stdout",
       "text": [
        "1864704K ........ ........ ........ ........ ........ ........ 94% 1020K 1m41s\r\n"
       ]
      },
      {
       "output_type": "stream",
       "stream": "stdout",
       "text": [
        "1867776K ........ ........ ........ ........ ........ ........ 95% 1023K 98s\r\n"
       ]
      },
      {
       "output_type": "stream",
       "stream": "stdout",
       "text": [
        "1870848K ........ ........ ........ ........ ........ ........ 95%  996K 95s\r\n"
       ]
      },
      {
       "output_type": "stream",
       "stream": "stdout",
       "text": [
        "1873920K ........ ........ ........ ........ ........ ........ 95% 1019K 92s\r\n"
       ]
      },
      {
       "output_type": "stream",
       "stream": "stdout",
       "text": [
        "1876992K ........ ........ ........ ........ ........ ........ 95% 1001K 89s\r\n"
       ]
      },
      {
       "output_type": "stream",
       "stream": "stdout",
       "text": [
        "1880064K ........ ........ ........ ........ ........ ........ 95% 1020K 86s\r\n"
       ]
      },
      {
       "output_type": "stream",
       "stream": "stdout",
       "text": [
        "1883136K ........ ........ ........ ........ ........ ........ 95%  997K 83s\r\n"
       ]
      },
      {
       "output_type": "stream",
       "stream": "stdout",
       "text": [
        "1886208K ........ ........ ........ ........ ........ ........ 95%  974K 80s\r\n"
       ]
      },
      {
       "output_type": "stream",
       "stream": "stdout",
       "text": [
        "1889280K ........ ........ ........ ........ ........ ........ 96%  973K 77s\r\n"
       ]
      },
      {
       "output_type": "stream",
       "stream": "stdout",
       "text": [
        "1892352K ........ ........ ........ ........ ........ ........ 96%  998K 74s\r\n"
       ]
      },
      {
       "output_type": "stream",
       "stream": "stdout",
       "text": [
        "1895424K ........ ........ ........ ........ ........ ........ 96%  987K 71s\r\n"
       ]
      },
      {
       "output_type": "stream",
       "stream": "stdout",
       "text": [
        "1898496K ........ ........ ........ ........ ........ ........ 96% 1021K 68s\r\n"
       ]
      },
      {
       "output_type": "stream",
       "stream": "stdout",
       "text": [
        "1901568K ........ ........ ........ ........ ........ ........ 96%  973K 65s\r\n"
       ]
      },
      {
       "output_type": "stream",
       "stream": "stdout",
       "text": [
        "1904640K ........ ........ ........ ........ ........ ........ 96% 1.00M 61s\r\n"
       ]
      },
      {
       "output_type": "stream",
       "stream": "stdout",
       "text": [
        "1907712K ........ ........ ........ ........ ........ ........ 97% 1.03M 58s\r\n"
       ]
      },
      {
       "output_type": "stream",
       "stream": "stdout",
       "text": [
        "1910784K ........ ........ ........ ........ ........ ........ 97%  947K 55s\r\n"
       ]
      },
      {
       "output_type": "stream",
       "stream": "stdout",
       "text": [
        "1913856K ........ ........ ........ ........ ........ ........ 97%  710K 52s\r\n"
       ]
      },
      {
       "output_type": "stream",
       "stream": "stdout",
       "text": [
        "1916928K ........ ........ ........ ........ ........ ........ 97%  987K 49s\r\n"
       ]
      },
      {
       "output_type": "stream",
       "stream": "stdout",
       "text": [
        "1920000K ........ ........ ........ ........ ........ ........ 97% 1019K 46s\r\n"
       ]
      },
      {
       "output_type": "stream",
       "stream": "stdout",
       "text": [
        "1923072K ........ ........ ........ ........ ........ ........ 97%  969K 43s\r\n"
       ]
      },
      {
       "output_type": "stream",
       "stream": "stdout",
       "text": [
        "1926144K ........ ........ ........ ........ ........ ........ 97%  996K 40s\r\n"
       ]
      },
      {
       "output_type": "stream",
       "stream": "stdout",
       "text": [
        "1929216K ........ ........ ........ ........ ........ ........ 98%  986K 37s\r\n"
       ]
      },
      {
       "output_type": "stream",
       "stream": "stdout",
       "text": [
        "1932288K ........ ........ ........ ........ ........ ........ 98%  996K 34s\r\n"
       ]
      },
      {
       "output_type": "stream",
       "stream": "stdout",
       "text": [
        "1935360K ........ ........ ........ ........ ........ ........ 98% 1.01M 31s\r\n"
       ]
      },
      {
       "output_type": "stream",
       "stream": "stdout",
       "text": [
        "1938432K ........ ........ ........ ........ ........ ........ 98%  997K 28s\r\n"
       ]
      },
      {
       "output_type": "stream",
       "stream": "stdout",
       "text": [
        "1941504K ........ ........ ........ ........ ........ ........ 98%  998K 25s\r\n"
       ]
      },
      {
       "output_type": "stream",
       "stream": "stdout",
       "text": [
        "1944576K ........ ........ ........ ........ ........ ........ 98% 1019K 22s\r\n"
       ]
      },
      {
       "output_type": "stream",
       "stream": "stdout",
       "text": [
        "1947648K ........ ........ ........ ........ ........ ........ 99%  999K 18s\r\n"
       ]
      },
      {
       "output_type": "stream",
       "stream": "stdout",
       "text": [
        "1950720K ........ ........ ........ ........ ........ ........ 99%  971K 15s\r\n"
       ]
      },
      {
       "output_type": "stream",
       "stream": "stdout",
       "text": [
        "1953792K ........ ........ ........ ........ ........ ........ 99% 1004K 12s\r\n"
       ]
      },
      {
       "output_type": "stream",
       "stream": "stdout",
       "text": [
        "1956864K ........ ........ ........ ........ ........ ........ 99%  995K 9s\r\n"
       ]
      },
      {
       "output_type": "stream",
       "stream": "stdout",
       "text": [
        "1959936K ........ ........ ........ ........ ........ ........ 99%  994K 6s\r\n"
       ]
      },
      {
       "output_type": "stream",
       "stream": "stdout",
       "text": [
        "1963008K ........ ........ ........ ........ ........ ........ 99%  997K 3s\r\n"
       ]
      },
      {
       "output_type": "stream",
       "stream": "stdout",
       "text": [
        "1966080K ........ ........ ........ ........ ........ ........ 99%  997K 0s\r\n",
        "1969152K                                                      100% 7.69M=32m51s\r\n"
       ]
      },
      {
       "output_type": "stream",
       "stream": "stdout",
       "text": [
        "--2014-02-12 20:30:34--  http://gdac.broadinstitute.org/runs/stddata__2014_01_15/data/HNSC/20140115/gdac.broadinstitute.org_HNSC.Merge_methylation__humanmethylation450__jhu_usc_edu__Level_3__within_bioassay_data_set_function__data.Level_3.2014011500.0.0.tar.gz.md5\r\n"
       ]
      },
      {
       "output_type": "stream",
       "stream": "stdout",
       "text": [
        "Saving to: `stddata__2014_01_15/HNSC/20140115/gdac.broadinstitute.org_HNSC.Merge_methylation__humanmethylation450__jhu_usc_edu__Level_3__within_bioassay_data_set_function__data.Level_3.2014011500.0.0.tar.gz.md5'\r\n",
        "     0K                                                      100% 18.8M=0s\r\n",
        "--2014-02-12 20:30:34--  http://gdac.broadinstitute.org/runs/stddata__2014_01_15/data/HNSC/20140115/gdac.broadinstitute.org_HNSC.Merge_methylation__humanmethylation450__jhu_usc_edu__Level_3__within_bioassay_data_set_function__data.aux.2014011500.0.0.tar.gz\r\n"
       ]
      },
      {
       "output_type": "stream",
       "stream": "stdout",
       "text": [
        "Saving to: `stddata__2014_01_15/HNSC/20140115/gdac.broadinstitute.org_HNSC.Merge_methylation__humanmethylation450__jhu_usc_edu__Level_3__within_bioassay_data_set_function__data.aux.2014011500.0.0.tar.gz'\r\n",
        "     0K                                                      100%  131M=0s\r\n",
        "--2014-02-12 20:30:34--  http://gdac.broadinstitute.org/runs/stddata__2014_01_15/data/HNSC/20140115/gdac.broadinstitute.org_HNSC.Merge_methylation__humanmethylation450__jhu_usc_edu__Level_3__within_bioassay_data_set_function__data.aux.2014011500.0.0.tar.gz.md5\r\n"
       ]
      },
      {
       "output_type": "stream",
       "stream": "stdout",
       "text": [
        "Saving to: `stddata__2014_01_15/HNSC/20140115/gdac.broadinstitute.org_HNSC.Merge_methylation__humanmethylation450__jhu_usc_edu__Level_3__within_bioassay_data_set_function__data.aux.2014011500.0.0.tar.gz.md5'\r\n",
        "     0K                                                      100% 28.0M=0s\r\n",
        "--2014-02-12 20:30:34--  http://gdac.broadinstitute.org/runs/stddata__2014_01_15/data/HNSC/20140115/gdac.broadinstitute.org_HNSC.Merge_methylation__humanmethylation450__jhu_usc_edu__Level_3__within_bioassay_data_set_function__data.mage-tab.2014011500.0.0.tar.gz\r\n"
       ]
      },
      {
       "output_type": "stream",
       "stream": "stdout",
       "text": [
        "Saving to: `stddata__2014_01_15/HNSC/20140115/gdac.broadinstitute.org_HNSC.Merge_methylation__humanmethylation450__jhu_usc_edu__Level_3__within_bioassay_data_set_function__data.mage-tab.2014011500.0.0.tar.gz'\r\n",
        "     0K                                                      100%  548M=0s\r\n",
        "--2014-02-12 20:30:34--  http://gdac.broadinstitute.org/runs/stddata__2014_01_15/data/HNSC/20140115/gdac.broadinstitute.org_HNSC.Merge_methylation__humanmethylation450__jhu_usc_edu__Level_3__within_bioassay_data_set_function__data.mage-tab.2014011500.0.0.tar.gz.md5\r\n"
       ]
      },
      {
       "output_type": "stream",
       "stream": "stdout",
       "text": [
        "Saving to: `stddata__2014_01_15/HNSC/20140115/gdac.broadinstitute.org_HNSC.Merge_methylation__humanmethylation450__jhu_usc_edu__Level_3__within_bioassay_data_set_function__data.mage-tab.2014011500.0.0.tar.gz.md5'\r\n",
        "     0K                                                      100% 15.5M=0s\r\n",
        "FINISHED --2014-02-12 20:30:34--\r\n",
        "Total wall clock time: 32m 53s\r\n",
        "Downloaded: 8 files, 1.9G in 32m 52s (999 KB/s)\r\n",
        "\r\n",
        "\r\n",
        "Now performing post-processing on retrieved files ...\r\n"
       ]
      }
     ],
     "prompt_number": 15
    },
    {
     "cell_type": "heading",
     "level": 1,
     "metadata": {},
     "source": [
      "Clean Up Downloads"
     ]
    },
    {
     "cell_type": "markdown",
     "metadata": {},
     "source": [
      "No going back from here, so I would check your data to make sure everything got downloaded correctly."
     ]
    },
    {
     "cell_type": "code",
     "collapsed": false,
     "input": [
      "!rm fh_get.zip\n",
      "!rm firehose_get"
     ],
     "language": "python",
     "metadata": {},
     "outputs": [],
     "prompt_number": 16
    },
    {
     "cell_type": "code",
     "collapsed": false,
     "input": [
      "if not os.path.isdir(OUT_PATH):\n",
      "    os.makedirs(OUT_PATH)"
     ],
     "language": "python",
     "metadata": {},
     "outputs": [],
     "prompt_number": 17
    },
    {
     "cell_type": "code",
     "collapsed": false,
     "input": [
      "analyses_folder = 'analyses__' + RUN_DATE\n",
      "!mv $analyses_folder {OUT_PATH + '/' + analyses_folder}"
     ],
     "language": "python",
     "metadata": {},
     "outputs": [],
     "prompt_number": 18
    },
    {
     "cell_type": "code",
     "collapsed": false,
     "input": [
      "stddata_folder = 'stddata__' + RUN_DATE\n",
      "!mv $stddata_folder {OUT_PATH + '/' + stddata_folder}"
     ],
     "language": "python",
     "metadata": {},
     "outputs": [],
     "prompt_number": 19
    },
    {
     "cell_type": "heading",
     "level": 1,
     "metadata": {},
     "source": [
      "Exctract data and set up file hierarchy for downstream analysis"
     ]
    },
    {
     "cell_type": "code",
     "collapsed": true,
     "input": [
      "from Initialization.ProcessFirehose import process_all_cancers\n",
      "\n",
      "process_all_cancers(OUT_PATH, RUN_DATE)"
     ],
     "language": "python",
     "metadata": {},
     "outputs": [],
     "prompt_number": 20
    },
    {
     "cell_type": "markdown",
     "metadata": {},
     "source": [
      "Get rid of all of the downloaded zip files that we processed"
     ]
    },
    {
     "cell_type": "code",
     "collapsed": false,
     "input": [
      "!rm -rf {OUT_PATH + '/' + stddata_folder}\n",
      "!rm -rf {OUT_PATH + '/' + analyses_folder}"
     ],
     "language": "python",
     "metadata": {},
     "outputs": [],
     "prompt_number": 22
    },
    {
     "cell_type": "code",
     "collapsed": false,
     "input": [
      "ls"
     ],
     "language": "python",
     "metadata": {},
     "outputs": [
      {
       "output_type": "stream",
       "stream": "stdout",
       "text": [
        "\u001b[0m\u001b[01;34mData\u001b[0m/  \u001b[01;34mFigures\u001b[0m/  \u001b[01;34mInitialization\u001b[0m/  \u001b[01;34mProcessing\u001b[0m/  \u001b[01;34mStats\u001b[0m/  tmp\r\n"
       ]
      }
     ],
     "prompt_number": 21
    },
    {
     "cell_type": "heading",
     "level": 1,
     "metadata": {},
     "source": [
      "Create Run Object for Firehose Download"
     ]
    },
    {
     "cell_type": "code",
     "collapsed": false,
     "input": [
      "data_path = '{}/Firehose__{}/'.format(OUT_PATH, RUN_DATE)\n",
      "result_path = data_path + 'ucsd_analyses/'"
     ],
     "language": "python",
     "metadata": {},
     "outputs": [],
     "prompt_number": 23
    },
    {
     "cell_type": "code",
     "collapsed": false,
     "input": [
      "cancer_codes = pd.read_table('../Extra_Data/diseaseStudy.txt',\n",
      "                             index_col=0, squeeze=True)\n",
      "run_dir = 'http://gdac.broadinstitute.org/runs'\n",
      "f = '{}/analyses__{}/ingested_data.tsv'.format(run_dir, RUN_DATE)\n",
      "sample_matrix = pd.read_table(f, skiprows=4, index_col=0).dropna()"
     ],
     "language": "python",
     "metadata": {},
     "outputs": [],
     "prompt_number": 24
    },
    {
     "cell_type": "code",
     "collapsed": false,
     "input": [
      "run = Run(RUN_DATE, VERSION, data_path, result_path, PARAMETERS, \n",
      "          cancer_codes, sample_matrix, DESCRIPTION)\n",
      "run.save()\n",
      "run"
     ],
     "language": "python",
     "metadata": {},
     "outputs": [
      {
       "metadata": {},
       "output_type": "pyout",
       "prompt_number": 25,
       "text": [
        "Run object for TCGA Analysis\n",
        "Firehose run date: 2014_01_15\n",
        "Code version: all\n",
        "Comment: Updating analysis for updated dataset."
       ]
      }
     ],
     "prompt_number": 25
    },
    {
     "cell_type": "heading",
     "level": 1,
     "metadata": {},
     "source": [
      "Initialize Data Objects into the File Hierarchy"
     ]
    },
    {
     "cell_type": "code",
     "collapsed": false,
     "input": [
      "def init(c, run):\n",
      "    try:\n",
      "        cancer_obj = Cancer(c, run)   \n",
      "        cancer_obj.initialize_data(run, save=True)\n",
      "    except:\n",
      "        print c + '\\t' + 'all'\n",
      "    try:\n",
      "        initialize_real(c, run.report_path, 'mRNASeq', \n",
      "                        create_meta_features=True)\n",
      "    except:\n",
      "        print c + '\\t' + 'mRNASeq'\n",
      "    try:\n",
      "        initialize_real(c, run.report_path, 'RPPA', \n",
      "                        create_meta_features=True, create_real_features=False)\n",
      "    except:\n",
      "        print c + '\\t' + 'RPPA'\n",
      "    try:\n",
      "        initialize_real(c, run.report_path, 'miRNASeq', \n",
      "                        create_meta_features=False)\n",
      "    except:\n",
      "        print c + '\\t' + 'miRNASeq'\n",
      "    try:\n",
      "        initialize_cn(c, run.report_path, 'CN_broad')\n",
      "    except:\n",
      "        print c + '\\t' + 'CN' \n",
      "    try:\n",
      "        initialize_mut(c, run.report_path, create_meta_features=True);\n",
      "    except:\n",
      "        print c + '\\t' + 'mut' "
     ],
     "language": "python",
     "metadata": {},
     "outputs": [],
     "prompt_number": 26
    },
    {
     "cell_type": "code",
     "collapsed": true,
     "input": [
      "for cancer in run.cancers:\n",
      "    init(cancer, run)"
     ],
     "language": "python",
     "metadata": {},
     "outputs": [
      {
       "output_type": "stream",
       "stream": "stdout",
       "text": [
        "COADREAD\tmRNASeq\n",
        "DLBC\tmRNASeq"
       ]
      },
      {
       "output_type": "stream",
       "stream": "stdout",
       "text": [
        "\n",
        "DLBC\tRPPA"
       ]
      },
      {
       "output_type": "stream",
       "stream": "stdout",
       "text": [
        "\n",
        "DLBC\tmiRNASeq"
       ]
      },
      {
       "output_type": "stream",
       "stream": "stdout",
       "text": [
        "\n",
        "DLBC\tmut"
       ]
      },
      {
       "output_type": "stream",
       "stream": "stdout",
       "text": [
        "\n",
        "ESCA\tall\n",
        "ESCA\tmRNASeq"
       ]
      },
      {
       "output_type": "stream",
       "stream": "stdout",
       "text": [
        "\n",
        "ESCA\tRPPA"
       ]
      },
      {
       "output_type": "stream",
       "stream": "stdout",
       "text": [
        "\n",
        "ESCA\tmiRNASeq"
       ]
      },
      {
       "output_type": "stream",
       "stream": "stdout",
       "text": [
        "\n",
        "ESCA\tCN"
       ]
      },
      {
       "output_type": "stream",
       "stream": "stdout",
       "text": [
        "\n",
        "ESCA\tmut"
       ]
      },
      {
       "output_type": "stream",
       "stream": "stdout",
       "text": [
        "\n",
        "GBM\tmiRNASeq"
       ]
      },
      {
       "output_type": "stream",
       "stream": "stderr",
       "text": [
        "/cellar/users/agross/anaconda2/lib/python2.7/site-packages/pandas-0.13.0_247_g82bcbb8-py2.7-linux-x86_64.egg/pandas/io/parsers.py:1059: DtypeWarning: Columns (29,30) have mixed types. Specify dtype option on import or set low_memory=False.\n",
        "  data = self._reader.read(nrows)\n",
        "/cellar/users/agross/anaconda2/lib/python2.7/site-packages/pandas-0.13.0_247_g82bcbb8-py2.7-linux-x86_64.egg/pandas/io/parsers.py:1059: DtypeWarning: Columns (1,2,4,5,7,8,10,11,13,14,16,17,19,20,22,23,25,26,28,29,31,32,34,35,37,38,40,41,43,44,46,47,49,50,52,53,55,56,58,59,61,62,64,65,67,68,70,71,73,74,76,77,79,80,82,83,85,86,88,89,91,92,94,95,97,98,100,101,103,104,106,107,109,110,112,113,115,116,118,119,121,122,124,125,127,128,130,131,133,134,136,137,139,140,142,143,145,146,148,149,151,152,154,155,157,158,160,161,163,164,166,167,169,170,172,173,175,176,178,179,181,182,184,185,187,188,190,191,193,194,196,197,199,200,202,203,205,206,208,209,211,212,214,215,217,218,220,221,223,224,226,227,229,230,232,233,235,236,238,239,241,242,244,245,247,248,250,251,253,254,256,257,259,260,262,263,265,266,268,269,271,272,274,275,277,278,280,281,283,284,286,287,289,290,292,293,295,296,298,299,301,302,304,305,307,308,310,311,313,314,316,317,319,320,322,323,325,326,328,329,331,332,334,335,337,338,340,341,343,344,346,347,349,350,352,353,355,356,358,359,361,362,364,365,367,368,370,371,373,374,376,377,379,380,382,383,385,386,388,389,391,392,394,395,397,398,400,401,403,404,406,407,409,410,412,413,415,416,418,419,421,422,424,425,427,428,430,431,433,434,436,437,439,440,442,443,445,446,448,449,451,452,454,455,457,458,460,461,463,464,466,467,469,470,472,473,475,476,478,479,481,482,484,485,487,488,490,491,493,494,496,497,499,500,502,503,505,506,508,509,511,512,514,515,517,518,520,521,523,524,526,527,529,530,532,533,535,536,538,539,541,542,544,545,547,548,550,551,553,554,556,557,559,560,562,563,565,566,568,569,571,572,574,575,577,578,580,581,583,584,586,587,589,590,592,593,595,596,598,599,601,602,604,605,607,608,610,611,613,614,616,617,619,620,622,623,625,626,628,629,631,632,634,635,637,638,640,641,643,644,646,647,649,650,652,653,655,656,658,659,661,662,664,665,667,668,670,671,673,674,676,677,679,680,682,683,685,686,688,689,691,692,694,695,697,698,700,701,703,704,706,707,709,710,712,713,715,716,718,719,721,722,724,725,727,728,730,731,733,734,736,737,739,740,742,743,745,746,748,749,751,752,754,755,757,758,760,761,763,764,766,767,769,770,772,773,775,776,778,779,781,782,784,785,787,788,790,791,793,794,796,797,799,800,802,803,805,806,808,809,811,812,814,815,817,818,820,821,823,824,826,827,829,830,832,833,835,836,838,839,841,842,844,845,847,848,850,851,853,854,856,857,859,860,862,863,865,866,868,869,871,872,874,875,877,878,880,881,883,884,886,887,889,890,892,893,895,896,898,899,901,902,904,905,907,908,910,911,913,914,916,917,919,920,922,923,925,926,928,929,931,932,934,935,937,938,940,941,943,944,946,947,949,950,952,953,955,956,958,959,961,962,964,965,967,968,970,971,973,974,976,977,979,980,982,983,985,986,988,989,991,992,994,995,997,998,1000,1001,1003,1004,1006,1007,1009,1010,1012,1013,1015,1016,1018,1019,1021,1022,1024,1025,1027,1028,1030,1031,1033,1034,1036,1037,1039,1040,1042,1043,1045,1046,1048,1049,1051,1052,1054,1055,1057,1058,1060,1061,1063,1064,1066,1067,1069,1070,1072,1073,1075,1076,1078,1079,1081,1082,1084,1085,1087,1088,1090,1091,1093,1094,1096,1097,1099,1100,1102,1103,1105,1106,1108,1109,1111,1112,1114,1115,1117,1118,1120,1121,1123,1124,1126,1127,1129,1130,1132,1133,1135,1136,1138,1139,1141,1142,1144,1145,1147,1148,1150,1151,1153,1154,1156,1157,1159,1160,1162,1163,1165,1166,1168,1169,1171,1172,1174,1175,1177,1178,1180,1181,1183,1184,1186,1187,1189,1190,1192,1193,1195,1196,1198,1199,1201,1202,1204,1205,1207,1208,1210,1211,1213,1214,1216,1217,1219,1220,1222,1223,1225,1226,1228,1229,1231,1232,1234,1235,1237,1238,1240,1241,1243,1244,1246,1247,1249,1250,1252,1253,1255,1256,1258,1259,1261,1262,1264,1265,1267,1268,1270,1271,1273,1274,1276,1277,1279,1280,1282,1283,1285,1286,1288,1289,1291,1292,1294,1295,1297,1298,1300,1301,1303,1304,1306,1307,1309,1310,1312,1313,1315,1316,1318,1319,1321,1322,1324,1325,1327,1328,1330,1331,1333,1334,1336,1337,1339,1340,1342,1343,1345,1346,1348,1349,1351,1352,1354,1355,1357,1358,1360,1361,1363,1364,1366,1367,1369,1370,1372,1373,1375,1376,1378,1379,1381,1382,1384,1385,1387,1388) have mixed types. Specify dtype option on import or set low_memory=False.\n",
        "  data = self._reader.read(nrows)\n"
       ]
      },
      {
       "output_type": "stream",
       "stream": "stdout",
       "text": [
        "\n",
        "KICH\tRPPA"
       ]
      },
      {
       "output_type": "stream",
       "stream": "stdout",
       "text": [
        "\n",
        "KICH\tCN"
       ]
      },
      {
       "output_type": "stream",
       "stream": "stderr",
       "text": [
        "/cellar/users/agross/anaconda2/lib/python2.7/site-packages/pandas-0.13.0_247_g82bcbb8-py2.7-linux-x86_64.egg/pandas/io/parsers.py:1059: DtypeWarning: Columns (1,2,4,5,7,8,10,11,13,14,16,17,19,20,22,23,25,26,28,29,31,32,34,35,37,38,40,41,43,44,46,47,49,50,52,53,55,56,58,59,61,62,64,65,67,68,70,71,73,74,76,77,79,80,82,83,85,86,88,89,91,92,94,95,97,98,100,101,103,104,106,107,109,110,112,113,115,116,118,119,121,122,124,125,127,128,130,131,133,134,136,137,139,140,142,143,145,146,148,149,151,152,154,155,157,158,160,161,163,164,166,167,169,170,172,173,175,176,178,179,181,182,184,185,187,188,190,191,193,194,196,197,199,200,202,203,205,206,208,209,211,212,214,215,217,218,220,221,223,224,226,227,229,230,232,233,235,236,238,239,241,242,244,245,247,248,250,251,253,254,256,257,259,260,262,263,265,266,268,269,271,272,274,275,277,278,280,281,283,284,286,287,289,290,292,293,295,296,298,299,301,302,304,305,307,308,310,311,313,314,316,317,319,320,322,323,325,326,328,329,331,332,334,335,337,338,340,341,343,344,346,347,349,350,352,353,355,356,358,359,361,362,364,365,367,368,370,371,373,374,376,377,379,380,382,383,385,386,388,389,391,392,394,395,397,398,400,401,403,404,406,407,409,410,412,413,415,416,418,419,421,422,424,425,427,428,430,431,433,434,436,437,439,440,442,443,445,446,448,449,451,452,454,455,457,458,460,461,463,464,466,467,469,470,472,473,475,476,478,479,481,482,484,485,487,488,490,491,493,494,496,497,499,500,502,503,505,506,508,509,511,512,514,515,517,518,520,521,523,524,526,527,529,530,532,533,535,536,538,539,541,542,544,545,547,548,550,551,553,554,556,557,559,560,562,563,565,566,568,569,571,572,574,575,577,578,580,581,583,584,586,587,589,590,592,593,595,596,598,599,601,602,604,605,607,608,610,611,613,614,616,617,619,620,622,623,625,626,628,629,631,632,634,635,637,638,640,641,643,644,646,647,649,650,652,653,655,656,658,659,661,662,664,665,667,668,670,671,673,674,676,677,679,680,682,683,685,686,688,689,691,692,694,695,697,698,700,701,703,704,706,707,709,710,712,713,715,716,718,719,721,722,724,725,727,728,730,731,733,734,736,737,739,740,742,743,745,746,748,749,751,752,754,755,757,758,760,761,763,764,766,767,769,770,772,773,775,776,778,779,781,782,784,785,787,788,790,791,793,794,796,797,799,800) have mixed types. Specify dtype option on import or set low_memory=False.\n",
        "  data = self._reader.read(nrows)\n",
        "/cellar/users/agross/anaconda2/lib/python2.7/site-packages/pandas-0.13.0_247_g82bcbb8-py2.7-linux-x86_64.egg/pandas/io/parsers.py:1059: DtypeWarning: Columns (1,2,4,5,7,8,10,11,13,14,16,17,19,20,22,23,25,26,28,29,31,32,34,35,37,38,40,41,43,44,46,47,49,50,52,53,55,56,58,59,61,62,64,65,67,68,70,71,73,74,76,77,79,80,82,83,85,86,88,89,91,92,94,95,97,98,100,101,103,104,106,107,109,110,112,113,115,116,118,119,121,122,124,125,127,128,130,131,133,134,136,137,139,140,142,143,145,146,148,149,151,152,154,155,157,158,160,161,163,164,166,167,169,170,172,173,175,176,178,179,181,182,184,185,187,188,190,191,193,194,196,197,199,200,202,203,205,206,208,209,211,212,214,215,217,218,220,221,223,224,226,227,229,230,232,233,235,236,238,239,241,242,244,245,247,248,250,251,253,254,256,257,259,260,262,263,265,266,268,269,271,272,274,275,277,278,280,281,283,284,286,287,289,290,292,293,295,296,298,299,301,302,304,305,307,308,310,311,313,314,316,317,319,320,322,323,325,326,328,329,331,332,334,335,337,338,340,341,343,344,346,347,349,350,352,353,355,356,358,359,361,362,364,365,367,368,370,371,373,374,376,377,379,380,382,383,385,386,388,389,391,392,394,395,397,398,400,401,403,404,406,407,409,410,412,413,415,416,418,419,421,422,424,425,427,428,430,431,433,434,436,437,439,440,442,443,445,446,448,449,451,452,454,455,457,458,460,461,463,464,466,467,469,470,472,473,475,476,478,479,481,482,484,485,487,488,490,491,493,494,496,497,499,500,502,503,505,506,508,509,511,512,514,515,517,518,520,521,523,524,526,527,529,530,532,533,535,536,538,539,541,542,544,545,547,548,550,551,553,554,556,557,559,560,562,563,565,566,568,569,571,572,574,575,577,578,580,581,583,584,586,587,589,590,592,593,595,596,598,599,601,602,604,605,607,608,610,611,613,614,616,617,619,620,622,623,625,626,628,629,631,632,634,635,637,638,640,641,643,644,646,647,649,650,652,653,655,656,658,659,661,662,664,665,667,668,670,671,673,674,676,677,679,680,682,683,685,686,688,689,691,692,694,695,697,698,700,701,703,704,706,707,709,710,712,713,715,716,718,719,721,722,724,725,727,728,730,731,733,734,736,737,739,740,742,743,745,746,748,749,751,752,754,755,757,758,760,761,763,764,766,767,769,770,772,773,775,776,778,779,781,782,784,785,787,788,790,791,793,794,796,797,799,800,802,803,805,806,808,809,811,812,814,815,817,818,820,821,823,824,826,827,829,830,832,833,835,836,838,839,841,842,844,845,847,848,850,851,853,854,856,857,859,860,862,863,865,866,868,869,871,872,874,875,877,878,880,881,883,884,886,887,889,890,892,893,895,896,898,899,901,902,904,905) have mixed types. Specify dtype option on import or set low_memory=False.\n",
        "  data = self._reader.read(nrows)\n"
       ]
      },
      {
       "output_type": "stream",
       "stream": "stdout",
       "text": [
        "\n",
        "KIRP\tRPPA"
       ]
      },
      {
       "output_type": "stream",
       "stream": "stdout",
       "text": [
        "\n",
        "LAML\tmRNASeq"
       ]
      },
      {
       "output_type": "stream",
       "stream": "stdout",
       "text": [
        "\n",
        "LAML\tRPPA"
       ]
      },
      {
       "output_type": "stream",
       "stream": "stdout",
       "text": [
        "\n",
        "LAML\tmiRNASeq"
       ]
      },
      {
       "output_type": "stream",
       "stream": "stdout",
       "text": [
        "\n",
        "LAML\tmut"
       ]
      },
      {
       "output_type": "stream",
       "stream": "stderr",
       "text": [
        "/cellar/users/agross/anaconda2/lib/python2.7/site-packages/pandas-0.13.0_247_g82bcbb8-py2.7-linux-x86_64.egg/pandas/io/parsers.py:1059: DtypeWarning: Columns (1,2,4,5,7,8,10,11,13,14,16,17,19,20,22,23,25,26,28,29,31,32,34,35,37,38,40,41,43,44,46,47,49,50,52,53,55,56,58,59,61,62,64,65,67,68,70,71,73,74,76,77,79,80,82,83,85,86,88,89,91,92,94,95,97,98,100,101,103,104,106,107,109,110,112,113,115,116,118,119,121,122,124,125,127,128,130,131,133,134,136,137,139,140,142,143,145,146,148,149,151,152,154,155,157,158,160,161,163,164,166,167,169,170,172,173,175,176,178,179,181,182,184,185,187,188,190,191,193,194,196,197,199,200,202,203,205,206,208,209,211,212,214,215,217,218,220,221,223,224,226,227,229,230,232,233,235,236,238,239,241,242,244,245,247,248,250,251,253,254,256,257,259,260,262,263,265,266,268,269,271,272,274,275,277,278,280,281,283,284,286,287,289,290,292,293,295,296,298,299,301,302,304,305,307,308,310,311,313,314,316,317,319,320,322,323,325,326,328,329,331,332,334,335,337,338,340,341,343,344,346,347,349,350,352,353,355,356,358,359,361,362,364,365,367,368,370,371,373,374,376,377,379,380,382,383,385,386,388,389,391,392,394,395,397,398,400,401,403,404,406,407,409,410,412,413,415,416,418,419,421,422,424,425,427,428,430,431,433,434,436,437,439,440,442,443,445,446,448,449,451,452,454,455,457,458,460,461,463,464,466,467,469,470,472,473,475,476,478,479,481,482,484,485,487,488,490,491,493,494,496,497,499,500,502,503,505,506,508,509,511,512,514,515,517,518,520,521,523,524,526,527,529,530,532,533,535,536,538,539,541,542,544,545,547,548,550,551,553,554,556,557,559,560,562,563,565,566,568,569,571,572,574,575,577,578,580,581,583,584,586,587,589,590,592,593,595,596,598,599,601,602,604,605,607,608,610,611) have mixed types. Specify dtype option on import or set low_memory=False.\n",
        "  data = self._reader.read(nrows)\n",
        "/cellar/users/agross/anaconda2/lib/python2.7/site-packages/pandas-0.13.0_247_g82bcbb8-py2.7-linux-x86_64.egg/pandas/io/parsers.py:1059: DtypeWarning: Columns (1,2,4,5,7,8,10,11,13,14,16,17,19,20,22,23,25,26,28,29,31,32,34,35,37,38,40,41,43,44,46,47,49,50,52,53,55,56,58,59,61,62,64,65,67,68,70,71,73,74,76,77,79,80,82,83,85,86,88,89,91,92,94,95,97,98,100,101,103,104,106,107,109,110,112,113,115,116,118,119,121,122,124,125,127,128,130,131,133,134,136,137,139,140,142,143,145,146,148,149,151,152,154,155,157,158,160,161,163,164,166,167,169,170,172,173,175,176,178,179,181,182,184,185,187,188,190,191,193,194,196,197,199,200,202,203,205,206,208,209,211,212,214,215,217,218,220,221,223,224,226,227,229,230,232,233,235,236,238,239,241,242,244,245,247,248,250,251,253,254,256,257,259,260,262,263,265,266,268,269,271,272,274,275,277,278,280,281,283,284,286,287,289,290,292,293,295,296,298,299,301,302,304,305,307,308,310,311,313,314,316,317,319,320,322,323,325,326,328,329,331,332,334,335,337,338,340,341,343,344,346,347,349,350,352,353,355,356,358,359,361,362,364,365,367,368,370,371,373,374,376,377,379,380,382,383,385,386,388,389,391,392,394,395,397,398,400,401,403,404,406,407,409,410,412,413,415,416,418,419,421,422,424,425,427,428,430,431,433,434,436,437,439,440,442,443,445,446,448,449,451,452,454,455,457,458,460,461,463,464,466,467,469,470,472,473,475,476,478,479,481,482,484,485,487,488,490,491,493,494,496,497,499,500,502,503,505,506,508,509,511,512,514,515,517,518,520,521,523,524,526,527,529,530,532,533,535,536,538,539,541,542,544,545,547,548,550,551,553,554,556,557,559,560,562,563,565,566,568,569,571,572,574,575,577,578,580,581,583,584,586,587,589,590,592,593,595,596,598,599,601,602,604,605,607,608,610,611,613,614,616,617,619,620,622,623,625,626,628,629,631,632,634,635,637,638,640,641,643,644,646,647,649,650,652,653,655,656,658,659,661,662,664,665,667,668,670,671,673,674,676,677,679,680,682,683,685,686,688,689,691,692,694,695,697,698,700,701,703,704,706,707,709,710,712,713,715,716,718,719,721,722,724,725,727,728,730,731,733,734,736,737,739,740,742,743,745,746,748,749,751,752,754,755,757,758,760,761,763,764,766,767,769,770,772,773,775,776,778,779,781,782,784,785,787,788,790,791,793,794,796,797,799,800,802,803,805,806,808,809,811,812,814,815,817,818,820,821,823,824,826,827,829,830,832,833,835,836,838,839,841,842,844,845,847,848,850,851,853,854,856,857,859,860,862,863,865,866,868,869,871,872,874,875,877,878,880,881,883,884,886,887,889,890,892,893,895,896,898,899,901,902,904,905,907,908,910,911,913,914,916,917,919,920,922,923,925,926,928,929) have mixed types. Specify dtype option on import or set low_memory=False.\n",
        "  data = self._reader.read(nrows)\n"
       ]
      },
      {
       "output_type": "stream",
       "stream": "stdout",
       "text": [
        "\n",
        "LIHC\tRPPA"
       ]
      },
      {
       "output_type": "stream",
       "stream": "stdout",
       "text": [
        "\n",
        "LIHC\tmut"
       ]
      },
      {
       "output_type": "stream",
       "stream": "stderr",
       "text": [
        "/cellar/users/agross/anaconda2/lib/python2.7/site-packages/pandas-0.13.0_247_g82bcbb8-py2.7-linux-x86_64.egg/pandas/io/parsers.py:1059: DtypeWarning: Columns (1,2,4,5,7,8,10,11,13,14,16,17,19,20,22,23,25,26,28,29,31,32,34,35,37,38,40,41,43,44,46,47,49,50,52,53,55,56,58,59,61,62,64,65,67,68,70,71,73,74,76,77,79,80,82,83,85,86,88,89,91,92,94,95,97,98,100,101,103,104,106,107,109,110,112,113,115,116,118,119,121,122,124,125,127,128,130,131,133,134,136,137,139,140,142,143,145,146,148,149,151,152,154,155,157,158,160,161,163,164,166,167,169,170,172,173,175,176,178,179,181,182,184,185,187,188,190,191,193,194,196,197,199,200,202,203,205,206,208,209,211,212,214,215,217,218,220,221,223,224,226,227,229,230,232,233,235,236,238,239,241,242,244,245,247,248,250,251,253,254,256,257,259,260,262,263,265,266,268,269,271,272,274,275,277,278,280,281,283,284,286,287,289,290,292,293,295,296,298,299,301,302,304,305,307,308,310,311,313,314,316,317,319,320,322,323,325,326,328,329,331,332,334,335,337,338,340,341,343,344,346,347,349,350,352,353,355,356,358,359,361,362,364,365,367,368,370,371,373,374,376,377,379,380,382,383,385,386,388,389,391,392,394,395,397,398,400,401,403,404,406,407,409,410,412,413,415,416,418,419,421,422,424,425,427,428,430,431,433,434,436,437,439,440,442,443,445,446,448,449,451,452,454,455,457,458,460,461,463,464,466,467,469,470,472,473,475,476,478,479,481,482,484,485,487,488,490,491,493,494,496,497,499,500,502,503,505,506,508,509,511,512,514,515,517,518,520,521,523,524,526,527,529,530,532,533,535,536,538,539,541,542,544,545,547,548,550,551,553,554,556,557,559,560,562,563,565,566,568,569,571,572,574,575,577,578,580,581,583,584,586,587,589,590) have mixed types. Specify dtype option on import or set low_memory=False.\n",
        "  data = self._reader.read(nrows)\n",
        "/cellar/users/agross/anaconda2/lib/python2.7/site-packages/pandas-0.13.0_247_g82bcbb8-py2.7-linux-x86_64.egg/pandas/io/parsers.py:1059: DtypeWarning: Columns (1,2,4,5,7,8,10,11,13,14,16,17,19,20,22,23,25,26,28,29,31,32,34,35,37,38,40,41,43,44,46,47,49,50,52,53,55,56,58,59,61,62,64,65,67,68,70,71,73,74,76,77,79,80,82,83,85,86,88,89,91,92,94,95,97,98,100,101,103,104,106,107,109,110,112,113,115,116,118,119,121,122,124,125,127,128,130,131,133,134,136,137,139,140,142,143,145,146,148,149,151,152,154,155,157,158,160,161,163,164,166,167,169,170,172,173,175,176,178,179,181,182,184,185,187,188,190,191,193,194,196,197,199,200,202,203,205,206,208,209,211,212,214,215,217,218,220,221,223,224,226,227,229,230,232,233,235,236,238,239,241,242,244,245,247,248,250,251,253,254,256,257,259,260,262,263,265,266,268,269,271,272,274,275,277,278,280,281,283,284,286,287,289,290,292,293,295,296,298,299,301,302,304,305,307,308,310,311,313,314,316,317,319,320,322,323,325,326,328,329,331,332,334,335,337,338,340,341,343,344,346,347,349,350,352,353,355,356,358,359,361,362,364,365,367,368,370,371,373,374,376,377,379,380,382,383,385,386,388,389,391,392,394,395,397,398,400,401,403,404,406,407,409,410,412,413,415,416,418,419,421,422,424,425,427,428,430,431,433,434,436,437,439,440,442,443,445,446,448,449,451,452,454,455,457,458,460,461,463,464,466,467,469,470,472,473,475,476,478,479,481,482,484,485,487,488,490,491,493,494,496,497,499,500,502,503,505,506,508,509,511,512,514,515,517,518,520,521,523,524,526,527,529,530,532,533,535,536,538,539,541,542,544,545,547,548,550,551,553,554,556,557,559,560,562,563,565,566,568,569,571,572,574,575,577,578,580,581,583,584,586,587,589,590,592,593,595,596,598,599,601,602,604,605,607,608,610,611,613,614,616,617,619,620,622,623,625,626,628,629,631,632,634,635,637,638,640,641,643,644,646,647,649,650,652,653,655,656,658,659,661,662,664,665,667,668,670,671,673,674,676,677,679,680,682,683,685,686,688,689,691,692,694,695,697,698,700,701,703,704,706,707,709,710,712,713,715,716,718,719,721,722,724,725,727,728,730,731,733,734,736,737,739,740,742,743,745,746,748,749,751,752,754,755,757,758,760,761,763,764,766,767,769,770,772,773,775,776,778,779,781,782,784,785,787,788,790,791,793,794,796,797,799,800,802,803,805,806,808,809,811,812,814,815,817,818,820,821,823,824,826,827,829,830,832,833,835,836,838,839,841,842,844,845,847,848,850,851,853,854,856,857,859,860,862,863,865,866,868,869,871,872,874,875,877,878,880,881,883,884,886,887,889,890,892,893,895,896,898,899,901,902,904,905,907,908,910,911,913,914,916,917,919,920,922,923,925,926,928,929,931,932,934,935,937,938,940,941,943,944,946,947,949,950,952,953,955,956,958,959,961,962,964,965,967,968,970,971,973,974,976,977,979,980,982,983,985,986,988,989,991,992,994,995,997,998,1000,1001,1003,1004,1006,1007,1009,1010,1012,1013,1015,1016,1018,1019,1021,1022,1024,1025,1027,1028,1030,1031,1033,1034,1036,1037,1039,1040,1042,1043,1045,1046,1048,1049,1051,1052,1054,1055,1057,1058,1060,1061,1063,1064,1066,1067,1069,1070,1072,1073,1075,1076,1078,1079,1081,1082,1084,1085,1087,1088,1090,1091,1093,1094,1096,1097,1099,1100,1102,1103,1105,1106,1108,1109,1111,1112,1114,1115,1117,1118,1120,1121,1123,1124,1126,1127,1129,1130,1132,1133,1135,1136,1138,1139,1141,1142,1144,1145,1147,1148,1150,1151,1153,1154,1156,1157,1159,1160,1162,1163,1165,1166,1168,1169,1171,1172,1174,1175,1177,1178,1180,1181,1183,1184,1186,1187,1189,1190,1192,1193,1195,1196,1198,1199,1201,1202,1204,1205,1207,1208,1210,1211,1213,1214,1216,1217,1219,1220,1222,1223,1225,1226,1228,1229,1231,1232,1234,1235,1237,1238,1240,1241,1243,1244,1246,1247,1249,1250,1252,1253,1255,1256,1258,1259,1261,1262,1264,1265,1267,1268,1270,1271,1273,1274,1276,1277,1279,1280,1282,1283,1285,1286,1288,1289,1291,1292,1294,1295,1297,1298,1300,1301,1303,1304,1306,1307,1309,1310,1312,1313,1315,1316,1318,1319,1321,1322,1324,1325,1327,1328,1330,1331,1333,1334,1336,1337,1339,1340,1342,1343,1345,1346,1348,1349,1351,1352,1354,1355,1357,1358,1360,1361,1363,1364,1366,1367,1369,1370,1372,1373,1375,1376,1378,1379,1381,1382,1384,1385,1387,1388,1390,1391,1393,1394,1396,1397,1399,1400,1402,1403,1405,1406,1408,1409,1411,1412,1414,1415,1417,1418,1420,1421,1423,1424,1426,1427) have mixed types. Specify dtype option on import or set low_memory=False.\n",
        "  data = self._reader.read(nrows)\n"
       ]
      },
      {
       "output_type": "stream",
       "stream": "stderr",
       "text": [
        "/cellar/users/agross/anaconda2/lib/python2.7/site-packages/pandas-0.13.0_247_g82bcbb8-py2.7-linux-x86_64.egg/pandas/io/parsers.py:1059: DtypeWarning: Columns (1,2,4,5,7,8,10,11,13,14,16,17,19,20,22,23,25,26,28,29,31,32,34,35,37,38,40,41,43,44,46,47,49,50,52,53,55,56,58,59,61,62,64,65,67,68,70,71,73,74,76,77,79,80,82,83,85,86,88,89,91,92,94,95,97,98,100,101,103,104,106,107,109,110,112,113,115,116,118,119,121,122,124,125,127,128,130,131,133,134,136,137,139,140,142,143,145,146,148,149,151,152,154,155,157,158,160,161,163,164,166,167,169,170,172,173,175,176,178,179,181,182,184,185,187,188,190,191,193,194,196,197,199,200,202,203,205,206,208,209,211,212,214,215,217,218,220,221,223,224,226,227,229,230,232,233,235,236,238,239,241,242,244,245,247,248,250,251,253,254,256,257,259,260,262,263,265,266,268,269,271,272,274,275,277,278,280,281,283,284,286,287,289,290,292,293,295,296,298,299,301,302,304,305,307,308,310,311,313,314,316,317,319,320,322,323,325,326,328,329,331,332,334,335,337,338,340,341,343,344,346,347,349,350,352,353,355,356,358,359,361,362,364,365,367,368,370,371,373,374,376,377,379,380,382,383,385,386,388,389,391,392,394,395,397,398,400,401,403,404,406,407,409,410,412,413,415,416,418,419,421,422,424,425,427,428,430,431,433,434,436,437,439,440,442,443,445,446,448,449,451,452,454,455,457,458,460,461,463,464,466,467,469,470,472,473,475,476,478,479,481,482,484,485,487,488,490,491,493,494,496,497,499,500,502,503,505,506,508,509,511,512,514,515,517,518,520,521,523,524,526,527,529,530,532,533,535,536,538,539,541,542,544,545,547,548,550,551,553,554,556,557,559,560,562,563,565,566,568,569,571,572,574,575,577,578,580,581,583,584,586,587,589,590,592,593,595,596,598,599,601,602,604,605,607,608,610,611,613,614,616,617,619,620,622,623,625,626,628,629,631,632,634,635,637,638,640,641,643,644,646,647,649,650,652,653,655,656,658,659,661,662,664,665,667,668,670,671,673,674,676,677,679,680,682,683,685,686,688,689,691,692,694,695,697,698,700,701,703,704,706,707,709,710,712,713,715,716,718,719,721,722,724,725,727,728,730,731,733,734,736,737,739,740,742,743,745,746,748,749,751,752,754,755,757,758,760,761,763,764,766,767,769,770,772,773,775,776,778,779,781,782,784,785,787,788,790,791,793,794,796,797,799,800,802,803,805,806,808,809,811,812,814,815,817,818,820,821,823,824,826,827,829,830,832,833,835,836,838,839,841,842,844,845,847,848,850,851,853,854,856,857,859,860,862,863,865,866,868,869,871,872,874,875,877,878,880,881,883,884,886,887,889,890,892,893,895,896,898,899,901,902,904,905,907,908,910,911,913,914,916,917,919,920,922,923,925,926,928,929,931,932,934,935,937,938,940,941,943,944,946,947,949,950,952,953,955,956,958,959,961,962,964,965,967,968,970,971,973,974,976,977,979,980,982,983,985,986,988,989,991,992,994,995,997,998,1000,1001,1003,1004,1006,1007,1009,1010,1012,1013,1015,1016,1018,1019,1021,1022,1024,1025,1027,1028,1030,1031,1033,1034,1036,1037,1039,1040,1042,1043,1045,1046,1048,1049,1051,1052,1054,1055,1057,1058,1060,1061,1063,1064,1066,1067,1069,1070,1072,1073,1075,1076,1078,1079,1081,1082,1084,1085,1087,1088,1090,1091,1093,1094,1096,1097,1099,1100,1102,1103,1105,1106,1108,1109,1111,1112,1114,1115,1117,1118,1120,1121,1123,1124,1126,1127) have mixed types. Specify dtype option on import or set low_memory=False.\n",
        "  data = self._reader.read(nrows)\n",
        "/cellar/users/agross/anaconda2/lib/python2.7/site-packages/pandas-0.13.0_247_g82bcbb8-py2.7-linux-x86_64.egg/pandas/io/parsers.py:1059: DtypeWarning: Columns (1,2,4,5,7,8,10,11,13,14,16,17,19,20,22,23,25,26,28,29,31,32,34,35,37,38,40,41,43,44,46,47,49,50,52,53,55,56,58,59,61,62,64,65,67,68,70,71,73,74,76,77,79,80,82,83,85,86,88,89,91,92,94,95,97,98,100,101,103,104,106,107,109,110,112,113,115,116,118,119,121,122,124,125,127,128,130,131,133,134,136,137,139,140,142,143,145,146,148,149,151,152,154,155,157,158,160,161,163,164,166,167,169,170,172,173,175,176,178,179,181,182,184,185,187,188,190,191,193,194,196,197,199,200,202,203,205,206,208,209,211,212,214,215,217,218,220,221,223,224,226,227,229,230,232,233,235,236,238,239,241,242,244,245,247,248,250,251,253,254,256,257,259,260,262,263,265,266,268,269,271,272,274,275,277,278,280,281,283,284,286,287,289,290,292,293,295,296,298,299,301,302,304,305,307,308,310,311,313,314,316,317,319,320,322,323,325,326,328,329,331,332,334,335,337,338,340,341,343,344,346,347,349,350,352,353,355,356,358,359,361,362,364,365,367,368,370,371,373,374,376,377,379,380,382,383,385,386,388,389,391,392,394,395,397,398,400,401,403,404,406,407,409,410,412,413,415,416,418,419,421,422,424,425,427,428,430,431,433,434,436,437,439,440,442,443,445,446,448,449,451,452,454,455,457,458,460,461,463,464,466,467,469,470,472,473,475,476,478,479,481,482,484,485,487,488,490,491,493,494,496,497,499,500,502,503,505,506,508,509,511,512,514,515,517,518,520,521,523,524,526,527,529,530,532,533,535,536,538,539,541,542,544,545,547,548,550,551,553,554,556,557,559,560,562,563,565,566,568,569,571,572,574,575,577,578,580,581,583,584,586,587,589,590,592,593,595,596,598,599,601,602,604,605,607,608,610,611,613,614,616,617,619,620,622,623,625,626,628,629,631,632,634,635,637,638,640,641,643,644,646,647,649,650,652,653,655,656,658,659,661,662,664,665,667,668,670,671,673,674,676,677,679,680,682,683,685,686,688,689,691,692,694,695,697,698,700,701,703,704,706,707,709,710,712,713,715,716,718,719,721,722,724,725,727,728,730,731,733,734,736,737,739,740,742,743,745,746,748,749,751,752,754,755,757,758,760,761,763,764,766,767,769,770,772,773,775,776,778,779,781,782,784,785,787,788,790,791,793,794,796,797,799,800,802,803,805,806,808,809,811,812,814,815,817,818,820,821,823,824,826,827,829,830,832,833,835,836,838,839,841,842,844,845,847,848,850,851,853,854,856,857,859,860,862,863,865,866,868,869,871,872,874,875,877,878,880,881,883,884,886,887,889,890,892,893,895,896,898,899,901,902,904,905,907,908,910,911,913,914,916,917,919,920,922,923,925,926,928,929,931,932,934,935,937,938,940,941,943,944,946,947,949,950,952,953,955,956,958,959,961,962,964,965,967,968,970,971,973,974,976,977,979,980,982,983,985,986,988,989,991,992,994,995,997,998,1000,1001,1003,1004,1006,1007,1009,1010,1012,1013,1015,1016,1018,1019,1021,1022,1024,1025,1027,1028,1030,1031,1033,1034,1036,1037,1039,1040,1042,1043,1045,1046,1048,1049,1051,1052,1054,1055,1057,1058,1060,1061,1063,1064,1066,1067,1069,1070,1072,1073,1075,1076,1078,1079,1081,1082,1084,1085,1087,1088,1090,1091,1093,1094,1096,1097,1099,1100,1102,1103,1105,1106,1108,1109,1111,1112,1114,1115,1117,1118,1120,1121,1123,1124,1126,1127,1129,1130,1132,1133,1135,1136,1138,1139,1141,1142,1144,1145,1147,1148,1150,1151,1153,1154,1156,1157,1159,1160,1162,1163,1165,1166,1168,1169,1171,1172,1174,1175,1177,1178,1180,1181,1183,1184,1186,1187,1189,1190,1192,1193,1195,1196,1198,1199,1201,1202,1204,1205,1207,1208,1210,1211,1213,1214,1216,1217,1219,1220,1222,1223,1225,1226,1228,1229,1231,1232,1234,1235,1237,1238,1240,1241,1243,1244,1246,1247,1249,1250,1252,1253,1255,1256,1258,1259,1261,1262,1264,1265,1267,1268,1270,1271,1273,1274,1276,1277,1279,1280,1282,1283,1285,1286,1288,1289,1291,1292,1294,1295,1297,1298,1300,1301,1303,1304,1306,1307,1309,1310,1312,1313,1315,1316,1318,1319,1321,1322,1324,1325,1327,1328,1330,1331,1333,1334,1336,1337,1339,1340,1342,1343,1345,1346,1348,1349,1351,1352,1354,1355,1357,1358,1360,1361,1363,1364,1366,1367,1369,1370,1372,1373,1375,1376,1378,1379,1381,1382) have mixed types. Specify dtype option on import or set low_memory=False.\n",
        "  data = self._reader.read(nrows)\n"
       ]
      },
      {
       "output_type": "stream",
       "stream": "stdout",
       "text": [
        "\n",
        "PAAD\tRPPA"
       ]
      },
      {
       "output_type": "stream",
       "stream": "stderr",
       "text": [
        "/cellar/users/agross/anaconda2/lib/python2.7/site-packages/pandas-0.13.0_247_g82bcbb8-py2.7-linux-x86_64.egg/pandas/io/parsers.py:1059: DtypeWarning: Columns (38,67,79,81,82,84) have mixed types. Specify dtype option on import or set low_memory=False.\n",
        "  data = self._reader.read(nrows)\n",
        "/cellar/users/agross/anaconda2/lib/python2.7/site-packages/pandas-0.13.0_247_g82bcbb8-py2.7-linux-x86_64.egg/pandas/io/parsers.py:1059: DtypeWarning: Columns (1,2,3,4,5,6,7,8,9,10,11,12,13,14,15,16,17,18,19,20,21,22,23,24,25,26,27,28,29,30,31,32,33,34,35,36,37,38,39,40,41,42,43,44,45,46,47,48,49,50,51,52,53,54,55,56,57,58,59,60,61,62,63,64,65,66,67,68,69,70,71,72,73,74,75,76,77,78,79,80,81,82,83,84,85,86,87,88,89,90,91,92,93,94,95,96,97,98,99,100,101,102,103,104,105,106,107,108,109,110,111,112,113,114,115,116,117,118,119,120,121,122,123,124,125,126,127,128,129,130,131,132,133,134,135,136,137,138,139,140,141,142,143,144,145,146,147,148,149,150,151,152,153,154,155,156,157,158,159,160,161,162,163,164,165,166,167,168,169,170,171,172,173,174,175,176,177,178,179,180,181,182,183,184,185,186,187,188,189,190,191,192,193,194,195,196,197,198,199,200,201,202,203,204,205,206,207,208,209,210,211,212,213,214,215,216,217,218,219,220,221,222,223,224,225,226,227,228,229,230,231,232,233,234,235,236,237,238,239,240,241,242,243,244,245,246,247,248,249,250,251,252,253,254,255,256,257,258,259,260,261,262,263,264,265,266,267,268,269,270,271,272,273,274,275,276,277,278,279,280,281,282,283,284,285,286,287,288,289,290,291,292,293,294,295,296,297,298,299,300,301,302,303,304,305,306,307,308,309,310,311,312,313,314,315,316,317,318,319,320,321,322,323,324,325,326,327,328,329,330,331,332,333,334,335,336,337,338,339,340,341,342,343,344,345,346,347,348,349,350,351,352,353,354,355,356,357,358,359,360,361,362,363,364,365,366,367,368,369,370,371,372,373,374,375,376,377,378,379,380,381,382,383,384,385,386,387,388,389,390,391,392,393,394,395,396,397,398,399,400,401,402,403,404,405,406,407,408,409,410,411,412,413,414,415,416,417,418,419,420,421,422,423,424,425,426,427,428,429,430,431,432,433,434,435,436,437,438,439,440,441,442,443,444,445,446,447,448,449,450,451,452,453,454,455,456,457,458,459,460,461,462,463,464,465,466,467,468,469,470,471,472,473,474,475,476,477,478,479,480,481,482,483,484,485,486,487,488,489,490,491,492,493,494,495,496,497,498,499,500,501,502,503,504,505,506,507,508,509,510,511,512,513,514,515,516,517,518,519,520,521,522,523,524,525,526,527,528,529,530,531,532,533,534,535,536,537,538,539,540,541,542,543,544,545,546,547,548,549,550,551,552,553,554,555,556,557,558,559,560,561,562,563,564,565,566,567,568,569,570,571,572,573,574,575,576,577,578,579,580,581,582,583,584,585,586,587,588,589,590,591,592,593,594,595,596,597,598,599,600,601,602,603,604,605,606,607,608,609,610,611,612,613,614,615,616,617,618,619,620,621,622,623,624,625,626,627,628,629,630,631,632,633,634,635,636,637,638,639,640,641,642,643,644,645,646,647,648,649,650,651,652,653,654,655,656,657,658,659,660,661,662,663,664,665,666,667,668,669,670,671,672,673,674,675,676,677,678,679,680,681,682,683,684,685,686,687,688,689,690,691,692,693,694,695,696,697,698,699,700,701,702,703,704,705,706,707,708,709,710,711,712,713,714,715,716,717,718,719,720,721,722,723,724,725,726,727,728,729,730,731,732,733,734,735,736,737,738,739,740,741,742,743,744,745,746,747,748,749,750,751,752,753,754,755,756,757,758,759,760,761,762,763,764,765,766,767,768,769,770,771,772,773,774,775,776,777,778,779,780,781,782,783,784,785,786,787,788,789,790,791,792,793,794,795,796,797,798,799,800,801,802,803,804,805,806,807,808,809,810,811,812,813,814,815,816,817,818,819,820,821,822,823,824,825,826,827,828,829,830,831,832,833,834,835,836,837,838,839,840,841,842,843,844,845,846,847,848,849,850,851,852,853,854,855,856,857,858,859,860,861,862,863,864,865,866,867,868,869,870,871,872,873,874,875,876,877,878,879,880,881,882,883,884,885,886,887,888,889,890,891,892,893,894,895,896,897,898,899,900,901,902,903,904,905,906,907,908,909,910,911,912,913,914,915,916,917,918,919,920,921,922,923,924,925,926,927,928,929,930,931,932,933,934,935,936,937,938,939,940,941,942,943,944,945,946,947,948,949,950,951,952,953,954,955,956,957,958,959,960,961,962,963,964,965,966,967,968,969,970,971,972,973,974,975,976,977,978,979,980,981,982,983,984,985,986,987,988,989,990,991,992,993,994,995,996,997,998,999,1000,1001,1002,1003,1004,1005,1006,1007,1008,1009,1010,1011,1012,1013,1014,1015,1016,1017,1018,1019,1020,1021,1022,1023,1024,1025,1026,1027,1028,1029,1030,1031,1032,1033,1034,1035,1036,1037,1038,1039,1040,1041,1042,1043,1044,1045,1046,1047,1048,1049,1050,1051,1052,1053,1054,1055,1056,1057,1058,1059,1060,1061,1062,1063,1064,1065,1066,1067,1068,1069,1070,1071,1072,1073,1074,1075,1076,1077,1078,1079,1080,1081,1082,1083,1084,1085,1086,1087,1088,1089,1090,1091,1092,1093,1094,1095,1096,1097,1098,1099,1100,1101,1102,1103,1104,1105,1106,1107,1108,1109,1110,1111,1112,1113,1114,1115,1116,1117,1118,1119,1120,1121,1122,1123,1124,1125,1126,1127,1128,1129,1130,1131,1132,1133,1134,1135,1136,1137,1138,1139,1140,1141,1142,1143,1144,1145,1146,1147,1148,1149,1150,1151,1152,1153,1154,1155,1156,1157,1158,1159,1160,1161,1162,1163,1164,1165,1166,1167,1168,1169,1170,1171,1172,1173,1174,1175,1176,1177,1178,1179,1180,1181,1182,1183,1184,1185,1186,1187,1188,1189,1190,1191,1192,1193,1194,1195,1196,1197,1198,1199,1200,1201,1202,1203,1204,1205,1206,1207,1208,1209,1210,1211,1212,1213,1214,1215,1216,1217,1218,1219,1220,1221,1222,1223,1224,1225,1226,1227,1228,1229,1230,1231,1232,1233,1234,1235,1236,1237,1238,1239,1240,1241,1242,1243,1244,1245,1246,1247,1248,1249,1250,1251,1252,1253,1254,1255,1256,1257,1258,1259,1260,1261,1262,1263,1264,1265,1266,1267,1268,1269,1270,1271,1272,1273,1274,1275,1276,1277,1278,1279,1280,1281,1282,1283,1284,1285,1286,1287,1288,1289,1290,1291,1292,1293,1294,1295,1296,1297,1298,1299,1300,1301,1302,1303,1304,1305,1306,1307,1308,1309,1310,1311,1312,1313,1314,1315,1316,1317,1318,1319,1320,1321,1322,1323,1324,1325,1326,1327,1328,1329,1330,1331,1332,1333,1334,1335,1336,1337,1338,1339,1340,1341,1342,1343,1344,1345,1346,1347,1348,1349,1350,1351,1352,1353,1354,1355,1356,1357,1358,1359,1360,1361,1362,1363,1364,1365,1366,1367,1368,1369,1370,1371,1372,1373,1374,1375,1376,1377,1378,1379,1380,1381,1382,1383,1384,1385,1386,1387,1388,1389,1390,1391,1392,1393,1394,1395,1396,1397,1398,1399,1400,1401,1402,1403,1404,1405,1406,1407,1408,1409,1410,1411,1412,1413,1414,1415,1416,1417,1418,1419,1420,1421,1422,1423,1424,1425,1426,1427,1428,1429,1430,1431,1432,1433,1434,1435,1436,1437,1438,1439,1440,1441,1442,1443,1444,1445,1446,1447,1448,1449,1450,1451,1452,1453,1454,1455,1456,1457,1458,1459,1460,1461,1462,1463,1464,1465,1466,1467,1468,1469,1470,1471,1472,1473,1474,1475,1476,1477,1478,1479,1480,1481,1482,1483,1484,1485,1486,1487,1488,1489,1490,1491,1492,1493,1494,1495,1496,1497,1498,1499,1500,1501,1502,1503,1504,1505,1506,1507,1508,1509,1510,1511,1512,1513,1514,1515,1516,1517,1518,1519,1520,1521,1522,1523,1524,1525,1526,1527,1528,1529,1530,1531,1532,1533,1534,1535,1536,1537,1538,1539,1540,1541,1542,1543,1544,1545,1546,1547,1548,1549,1550,1551,1552,1553,1554,1555,1556,1557,1558,1559,1560,1561,1562,1563,1564,1565,1566,1567,1568,1569,1570,1571,1572,1573,1574,1575,1576,1577,1578,1579,1580,1581,1582,1583,1584,1585,1586,1587,1588,1589,1590,1591,1592,1593,1594,1595,1596,1597,1598,1599,1600,1601,1602,1603,1604,1605,1606,1607,1608,1609,1610,1611,1612,1613,1614,1615,1616,1617,1618,1619,1620,1621,1622,1623,1624,1625,1626,1627,1628,1629,1630,1631,1632,1633,1634,1635,1636,1637,1638,1639,1640,1641,1642,1643,1644,1645,1646,1647,1648,1649,1650,1651,1652,1653,1654,1655,1656,1657,1658,1659,1660,1661,1662,1663,1664,1665,1666,1667,1668,1669,1670,1671,1672,1673,1674,1675,1676,1677,1678,1679,1680,1681,1682,1683,1684,1685,1686,1687,1688,1689,1690,1691,1692,1693,1694,1695,1696,1697,1698,1699,1700,1701,1702,1703,1704,1705,1706,1707,1708,1709,1710,1711,1712,1713,1714,1715,1716,1717,1718,1719,1720,1721,1722,1723,1724,1725,1726,1727,1728,1729,1730,1731,1732,1733,1734,1735,1736,1737,1738,1739,1740,1741,1742,1743,1744,1745,1746,1747,1748,1749,1750,1751,1752,1753,1754,1755,1756,1757,1758,1759,1760,1761,1762,1763,1764,1765,1766,1767,1768,1769,1770,1771,1772,1773,1774,1775,1776,1777,1778,1779,1780,1781,1782,1783,1784,1785,1786,1787,1788,1789,1790,1791,1792,1793,1794,1795,1796,1797,1798,1799,1800,1801,1802,1803,1804,1805,1806,1807,1808,1809,1810,1811,1812,1813,1814,1815,1816,1817,1818,1819,1820,1821,1822,1823,1824,1825,1826,1827,1828,1829,1830,1831,1832,1833,1834,1835,1836,1837,1838,1839,1840,1841,1842,1843,1844,1845,1846,1847,1848,1849,1850,1851,1852,1853,1854,1855,1856,1857,1858,1859,1860,1861,1862,1863,1864,1865,1866,1867,1868,1869,1870,1871,1872,1873,1874,1875,1876,1877,1878,1879,1880,1881,1882,1883,1884,1885,1886,1887,1888,1889,1890,1891,1892,1893,1894,1895,1896,1897,1898,1899,1900,1901,1902,1903,1904,1905,1906,1907,1908,1909,1910,1911,1912,1913,1914,1915,1916,1917,1918,1919,1920,1921,1922,1923,1924,1925,1926,1927,1928,1929,1930,1931,1932,1933,1934,1935,1936,1937,1938,1939,1940,1941,1942,1943,1944,1945,1946,1947,1948,1949,1950,1951,1952,1953,1954,1955,1956,1957,1958,1959,1960,1961,1962,1963,1964,1965,1966,1967,1968,1969,1970,1971,1972,1973,1974,1975,1976,1977,1978,1979,1980,1981,1982,1983,1984,1985,1986,1987,1988,1989,1990,1991,1992,1993,1994,1995,1996,1997,1998,1999,2000,2001,2002,2003,2004,2005,2006,2007,2008,2009,2010,2011,2012,2013,2014,2015,2016,2017,2018,2019,2020,2021,2022,2023,2024,2025,2026,2027,2028,2029,2030,2031,2032,2033,2034,2035,2036,2037,2038,2039,2040,2041,2042,2043,2044,2045,2046,2047,2048,2049,2050,2051,2052,2053,2054,2055,2056,2057,2058,2059,2060,2061,2062,2063,2064,2065,2066,2067,2068,2069,2070,2071,2072,2073,2074,2075,2076,2077,2078,2079,2080,2081,2082,2083,2084,2085,2086,2087,2088,2089,2090,2091,2092,2093,2094,2095,2096,2097,2098,2099,2100,2101,2102,2103,2104,2105,2106,2107,2108,2109,2110,2111,2112,2113,2114,2115,2116,2117,2118,2119,2120,2121,2122,2123,2124,2125,2126,2127,2128,2129,2130,2131,2132,2133,2134,2135,2136,2137,2138,2139,2140,2141,2142,2143,2144,2145,2146,2147,2148,2149,2150,2151,2152,2153,2154,2155,2156,2157,2158,2159,2160,2161,2162,2163,2164,2165,2166,2167,2168,2169,2170,2171,2172,2173,2174,2175,2176,2177,2178,2179,2180,2181,2182,2183,2184,2185,2186,2187,2188,2189,2190,2191,2192,2193,2194,2195,2196,2197,2198,2199,2200,2201,2202,2203,2204,2205,2206,2207,2208,2209,2210,2211,2212,2213,2214,2215,2216,2217,2218,2219,2220,2221,2222,2223,2224,2225,2226,2227,2228,2229,2230,2231,2232,2233,2234,2235,2236,2237,2238,2239,2240,2241,2242,2243,2244,2245,2246,2247,2248,2249,2250,2251,2252,2253,2254,2255,2256,2257,2258,2259,2260,2261,2262,2263,2264,2265,2266,2267,2268,2269,2270,2271,2272,2273,2274,2275,2276,2277,2278,2279,2280,2281,2282,2283,2284,2285,2286,2287,2288,2289,2290,2291,2292,2293,2294,2295,2296,2297,2298,2299,2300,2301,2302,2303,2304,2305,2306,2307,2308,2309,2310,2311,2312,2313,2314,2315,2316,2317,2318,2319,2320,2321,2322,2323,2324,2325,2326,2327,2328,2329,2330,2331,2332,2333,2334,2335,2336,2337,2338,2339,2340,2341,2342,2343,2344,2345,2346,2347,2348,2349,2350,2351,2352,2353,2354,2355,2356,2357,2358,2359,2360,2361,2362,2363,2364,2365,2366,2367,2368,2369,2370,2371,2372,2373,2374,2375,2376,2377,2378,2379,2380,2381,2382,2383,2384,2385,2386,2387,2388,2389,2390,2391,2392,2393,2394,2395,2396,2397,2398,2399,2400,2401,2402,2403,2404,2405,2406,2407,2408,2409,2410,2411,2412,2413,2414,2415,2416,2417,2418,2419,2420,2421,2422,2423,2424,2425,2426,2427,2428,2429,2430,2431,2432,2433,2434,2435,2436,2437,2438,2439,2440,2441,2442,2443,2444,2445,2446,2447,2448,2449,2450,2451,2452,2453,2454,2455,2456,2457,2458,2459,2460,2461,2462,2463,2464,2465,2466,2467,2468,2469,2470,2471,2472,2473,2474,2475,2476,2477,2478,2479,2480,2481,2482,2483,2484,2485,2486,2487,2488,2489,2490,2491,2492,2493,2494,2495,2496,2497,2498,2499,2500,2501,2502,2503,2504,2505,2506,2507,2508,2509,2510,2511,2512,2513,2514,2515,2516,2517,2518,2519,2520,2521,2522,2523,2524,2525,2526,2527,2528,2529,2530,2531,2532,2533,2534,2535,2536,2537,2538,2539,2540,2541,2542,2543,2544,2545,2546,2547,2548,2549,2550,2551,2552,2553,2554,2555,2556,2557,2558,2559,2560,2561,2562,2563,2564,2565,2566,2567,2568,2569,2570,2571,2572,2573,2574,2575,2576,2577,2578,2579,2580,2581,2582,2583,2584,2585,2586,2587,2588,2589,2590,2591,2592,2593,2594,2595,2596,2597,2598,2599,2600,2601,2602,2603,2604,2605,2606,2607,2608,2609,2610,2611,2612,2613,2614,2615,2616,2617,2618,2619,2620,2621,2622,2623,2624,2625,2626,2627,2628,2629,2630,2631,2632,2633,2634,2635,2636,2637,2638,2639,2640,2641,2642,2643,2644,2645,2646,2647,2648,2649,2650,2651,2652,2653,2654,2655,2656,2657,2658,2659,2660,2661,2662,2663,2664,2665,2666,2667,2668,2669,2670,2671,2672,2673,2674,2675,2676,2677,2678,2679,2680,2681,2682,2683,2684,2685,2686,2687,2688,2689,2690,2691,2692,2693,2694,2695,2696,2697,2698,2699,2700,2701,2702,2703,2704,2705,2706,2707,2708,2709,2710,2711,2712,2713,2714,2715,2716,2717,2718,2719,2720,2721,2722,2723,2724,2725,2726,2727,2728,2729,2730,2731,2732,2733,2734,2735,2736,2737,2738,2739,2740,2741,2742,2743,2744,2745,2746,2747,2748,2749,2750,2751,2752,2753,2754,2755,2756,2757,2758,2759,2760,2761,2762,2763,2764,2765,2766,2767,2768,2769,2770,2771,2772,2773,2774,2775,2776,2777,2778,2779,2780,2781,2782,2783,2784,2785,2786,2787,2788,2789,2790,2791,2792,2793,2794,2795,2796,2797,2798,2799,2800,2801,2802,2803,2804,2805,2806,2807,2808,2809,2810,2811,2812,2813,2814,2815,2816,2817,2818,2819,2820,2821,2822,2823,2824,2825,2826,2827,2828,2829,2830,2831,2832,2833,2834,2835,2836,2837,2838,2839,2840,2841,2842,2843,2844,2845,2846,2847,2848,2849,2850,2851,2852,2853,2854,2855,2856,2857,2858,2859,2860,2861,2862,2863,2864,2865,2866,2867,2868,2869,2870,2871,2872,2873,2874,2875,2876,2877,2878,2879,2880,2881,2882,2883,2884,2885,2886,2887,2888,2889,2890,2891,2892,2893,2894,2895,2896,2897,2898,2899,2900,2901,2902,2903,2904,2905,2906,2907,2908,2909,2910,2911,2912,2913,2914,2915,2916,2917,2918,2919,2920,2921,2922,2923,2924,2925,2926,2927,2928,2929,2930,2931,2932,2933,2934,2935,2936,2937,2938,2939,2940,2941,2942,2943,2944,2945,2946,2947,2948,2949,2950,2951,2952,2953,2954,2955,2956,2957,2958,2959,2960,2961,2962,2963,2964,2965,2966,2967,2968,2969,2970,2971,2972,2973,2974,2975,2976,2977,2978,2979,2980,2981,2982,2983,2984,2985,2986,2987,2988,2989,2990,2991,2992,2993,2994,2995,2996,2997,2998,2999,3000,3001,3002,3003,3004,3005,3006,3007,3008,3009,3010,3011,3012,3013,3014,3015,3016,3017,3018,3019,3020,3021,3022,3023,3024,3025,3026,3027,3028,3029,3030,3031,3032,3033,3034,3035,3036,3037,3038,3039,3040,3041,3042,3043,3044,3045,3046,3047,3048,3049,3050,3051,3052,3053,3054,3055,3056,3057,3058,3059,3060,3061,3062,3063,3064,3065,3066,3067,3068,3069,3070,3071,3072,3073,3074,3075,3076,3077,3078,3079,3080,3081,3082,3083,3084,3085,3086,3087,3088,3089,3090,3091,3092,3093,3094,3095,3096,3097,3098,3099,3100,3101,3102,3103,3104,3105,3106,3107,3108,3109,3110,3111,3112,3113,3114,3115,3116,3117,3118,3119,3120,3121,3122,3123,3124,3125,3126,3127,3128,3129,3130,3131,3132,3133,3134,3135,3136,3137,3138,3139,3140,3141,3142,3143,3144,3145,3146,3147,3148,3149,3150,3151,3152,3153,3154,3155,3156,3157,3158,3159,3160,3161,3162,3163,3164,3165,3166,3167,3168,3169,3170,3171,3172,3173,3174,3175,3176,3177,3178,3179,3180,3181,3182,3183,3184,3185,3186,3187,3188,3189,3190,3191,3192,3193,3194,3195,3196,3197,3198,3199,3200,3201,3202,3203,3204,3205,3206,3207,3208,3209,3210,3211,3212,3213,3214,3215,3216,3217,3218,3219,3220,3221,3222,3223,3224,3225,3226,3227,3228,3229,3230,3231,3232,3233,3234,3235,3236,3237,3238,3239,3240,3241,3242,3243,3244,3245,3246,3247,3248,3249,3250,3251,3252,3253,3254,3255,3256,3257,3258,3259,3260,3261,3262,3263,3264,3265,3266,3267,3268,3269,3270,3271,3272,3273,3274,3275,3276,3277,3278,3279,3280,3281,3282,3283,3284,3285,3286,3287,3288,3289,3290,3291,3292,3293,3294,3295,3296,3297,3298,3299,3300,3301,3302,3303,3304,3305,3306,3307,3308,3309,3310,3311,3312,3313,3314,3315,3316,3317,3318,3319,3320,3321,3322,3323,3324,3325,3326,3327,3328,3329,3330,3331,3332,3333,3334,3335,3336,3337,3338,3339,3340,3341,3342,3343,3344,3345,3346,3347,3348,3349,3350,3351,3352,3353,3354,3355,3356,3357,3358,3359,3360,3361,3362,3363,3364,3365,3366,3367,3368,3369,3370,3371,3372,3373,3374,3375,3376,3377,3378,3379,3380,3381,3382,3383,3384,3385,3386,3387,3388,3389,3390,3391,3392,3393,3394,3395,3396,3397,3398,3399,3400,3401,3402,3403,3404,3405,3406,3407,3408,3409,3410,3411,3412,3413,3414,3415,3416,3417,3418,3419,3420,3421,3422,3423,3424,3425,3426,3427,3428,3429,3430,3431,3432,3433,3434,3435,3436,3437,3438,3439,3440,3441,3442,3443,3444,3445,3446,3447,3448,3449,3450,3451,3452,3453,3454,3455,3456,3457,3458,3459,3460,3461,3462,3463,3464,3465,3466,3467,3468,3469,3470,3471,3472,3473,3474,3475,3476,3477,3478,3479,3480,3481,3482,3483,3484,3485,3486,3487,3488,3489,3490,3491,3492,3493,3494,3495,3496,3497,3498,3499,3500,3501,3502,3503,3504,3505,3506,3507,3508,3509,3510,3511,3512,3513,3514,3515,3516,3517,3518,3519,3520,3521,3522,3523,3524,3525,3526,3527,3528,3529,3530,3531,3532,3533,3534,3535,3536,3537,3538,3539,3540,3541,3542,3543,3544,3545,3546,3547,3548,3549,3550,3551,3552,3553,3554,3555,3556,3557,3558,3559,3560,3561,3562,3563,3564,3565,3566,3567,3568,3569,3570,3571,3572,3573,3574,3575,3576,3577,3578,3579,3580,3581,3582,3583,3584,3585,3586,3587,3588,3589,3590,3591,3592,3593,3594,3595,3596,3597,3598,3599,3600,3601,3602,3603,3604,3605,3606,3607,3608,3609,3610,3611,3612,3613,3614,3615,3616,3617,3618,3619,3620,3621,3622,3623,3624,3625,3626,3627,3628,3629,3630,3631,3632,3633,3634,3635,3636,3637,3638,3639,3640,3641,3642,3643,3644,3645,3646,3647,3648,3649,3650,3651,3652,3653,3654,3655,3656,3657,3658,3659,3660,3661,3662,3663,3664,3665,3666,3667,3668,3669,3670,3671,3672,3673,3674,3675,3676,3677,3678,3679,3680,3681,3682,3683,3684,3685,3686,3687,3688,3689,3690,3691,3692,3693,3694,3695,3696,3697,3698,3699,3700,3701,3702,3703,3704,3705,3706,3707,3708,3709,3710,3711,3712,3713,3714,3715,3716,3717,3718,3719,3720,3721,3722,3723,3724,3725,3726,3727,3728,3729,3730,3731,3732,3733,3734,3735,3736,3737,3738,3739,3740,3741,3742,3743,3744,3745,3746,3747,3748,3749,3750,3751,3752,3753,3754,3755,3756,3757,3758,3759,3760,3761,3762,3763,3764,3765,3766,3767,3768,3769,3770,3771,3772,3773,3774,3775,3776,3777,3778,3779,3780,3781,3782,3783,3784,3785,3786,3787,3788,3789,3790,3791,3792,3793,3794,3795,3796,3797,3798,3799,3800,3801,3802,3803,3804,3805,3806,3807,3808,3809,3810,3811,3812,3813,3814,3815,3816,3817,3818,3819,3820,3821,3822,3823,3824,3825,3826,3827,3828,3829,3830,3831,3832,3833,3834,3835,3836,3837,3838,3839,3840,3841,3842,3843,3844,3845,3846,3847,3848,3849,3850,3851,3852,3853,3854,3855,3856,3857,3858,3859,3860,3861,3862,3863,3864,3865,3866,3867,3868,3869,3870,3871,3872,3873,3874,3875,3876,3877,3878,3879,3880,3881,3882,3883,3884,3885,3886,3887,3888,3889,3890,3891,3892,3893,3894,3895,3896,3897,3898,3899,3900,3901,3902,3903,3904,3905,3906,3907,3908,3909,3910,3911,3912,3913,3914,3915,3916,3917,3918,3919,3920,3921,3922,3923,3924,3925,3926,3927,3928,3929,3930,3931,3932,3933,3934,3935,3936,3937,3938,3939,3940,3941,3942,3943,3944,3945,3946,3947,3948,3949,3950,3951,3952,3953,3954,3955,3956,3957,3958,3959,3960,3961,3962,3963,3964,3965,3966,3967,3968,3969,3970,3971,3972,3973,3974,3975,3976,3977,3978,3979,3980,3981,3982,3983,3984,3985,3986,3987,3988,3989,3990,3991,3992,3993,3994,3995,3996,3997,3998,3999,4000,4001,4002,4003,4004,4005,4006,4007,4008,4009,4010,4011,4012,4013,4014,4015,4016,4017,4018,4019,4020,4021,4022,4023,4024,4025,4026,4027,4028,4029,4030,4031,4032,4033,4034,4035,4036,4037,4038,4039,4040,4041,4042,4043,4044,4045,4046,4047,4048,4049,4050,4051,4052,4053,4054,4055,4056,4057,4058,4059,4060,4061,4062,4063,4064,4065,4066,4067,4068,4069,4070,4071,4072,4073,4074,4075,4076,4077,4078,4079,4080,4081,4082,4083,4084,4085,4086,4087,4088,4089,4090,4091,4092,4093,4094,4095,4096,4097,4098,4099,4100,4101,4102,4103,4104,4105,4106,4107,4108,4109,4110,4111,4112,4113,4114,4115,4116,4117,4118,4119,4120,4121,4122,4123,4124,4125,4126,4127,4128,4129,4130,4131,4132,4133,4134,4135,4136,4137,4138,4139,4140,4141,4142,4143,4144,4145,4146,4147,4148,4149,4150,4151,4152,4153,4154,4155,4156,4157,4158,4159,4160,4161,4162,4163,4164,4165,4166,4167,4168,4169,4170,4171,4172,4173,4174,4175,4176,4177,4178,4179,4180,4181,4182,4183,4184,4185,4186,4187,4188,4189,4190,4191,4192,4193,4194,4195,4196,4197,4198,4199,4200,4201,4202,4203,4204,4205,4206,4207,4208,4209,4210,4211,4212,4213,4214,4215,4216,4217,4218,4219,4220,4221,4222,4223,4224,4225,4226,4227,4228,4229,4230,4231,4232,4233,4234,4235,4236,4237,4238,4239,4240,4241,4242,4243,4244,4245,4246,4247,4248,4249,4250,4251,4252,4253,4254,4255,4256,4257,4258,4259,4260,4261,4262,4263,4264,4265,4266,4267,4268,4269,4270,4271,4272,4273,4274,4275,4276,4277,4278,4279,4280,4281,4282,4283,4284,4285,4286,4287,4288,4289,4290,4291,4292,4293,4294,4295,4296,4297,4298,4299,4300,4301,4302,4303,4304,4305,4306,4307,4308,4309,4310,4311,4312,4313,4314,4315,4316,4317,4318,4319,4320,4321,4322,4323,4324,4325,4326,4327,4328,4329,4330,4331,4332,4333,4334,4335,4336,4337,4338,4339,4340,4341,4342,4343,4344,4345,4346,4347,4348,4349,4350,4351,4352,4353,4354,4355,4356,4357,4358,4359,4360,4361,4362,4363,4364,4365,4366,4367,4368,4369,4370,4371,4372,4373,4374,4375,4376,4377,4378,4379,4380,4381,4382,4383,4384,4385,4386,4387,4388,4389,4390,4391,4392,4393,4394,4395,4396,4397,4398,4399,4400,4401,4402,4403,4404,4405,4406,4407,4408,4409,4410,4411,4412,4413,4414,4415,4416,4417,4418,4419,4420,4421,4422,4423,4424,4425,4426,4427,4428,4429,4430,4431,4432,4433,4434,4435,4436,4437,4438,4439,4440,4441,4442,4443,4444,4445,4446,4447,4448,4449,4450,4451,4452,4453,4454,4455,4456,4457,4458,4459,4460,4461,4462,4463,4464,4465,4466,4467,4468,4469,4470,4471,4472,4473,4474,4475,4476,4477,4478,4479,4480,4481,4482,4483,4484,4485,4486,4487,4488,4489,4490,4491,4492,4493,4494,4495,4496,4497,4498,4499,4500,4501,4502,4503,4504,4505,4506,4507,4508,4509,4510,4511,4512,4513,4514,4515,4516,4517,4518,4519,4520,4521,4522,4523,4524,4525,4526,4527,4528,4529,4530,4531,4532,4533,4534,4535,4536,4537,4538,4539,4540,4541,4542,4543,4544,4545,4546,4547,4548,4549,4550,4551,4552,4553,4554,4555,4556,4557,4558,4559,4560,4561,4562,4563,4564,4565,4566,4567,4568,4569,4570,4571,4572,4573,4574,4575,4576,4577,4578,4579,4580,4581,4582,4583,4584,4585,4586,4587,4588,4589,4590,4591,4592,4593,4594,4595,4596,4597,4598,4599,4600,4601,4602,4603,4604,4605,4606,4607,4608,4609,4610,4611,4612,4613,4614,4615,4616,4617,4618,4619,4620,4621,4622,4623,4624,4625,4626,4627,4628,4629,4630,4631,4632,4633,4634,4635,4636,4637,4638,4639,4640,4641,4642,4643,4644,4645,4646,4647,4648,4649,4650,4651,4652,4653,4654,4655,4656,4657,4658,4659,4660,4661,4662,4663,4664,4665,4666,4667,4668,4669,4670,4671,4672,4673,4674,4675,4676,4677,4678,4679,4680,4681,4682,4683,4684,4685,4686,4687,4688,4689,4690,4691,4692,4693,4694,4695,4696,4697,4698,4699,4700,4701,4702,4703,4704,4705,4706,4707,4708,4709,4710,4711,4712,4713,4714,4715,4716,4717,4718,4719,4720,4721,4722,4723,4724,4725,4726,4727,4728,4729,4730,4731,4732,4733,4734,4735,4736,4737,4738,4739,4740,4741,4742,4743,4744,4745,4746,4747,4748,4749,4750,4751,4752,4753,4754,4755,4756,4757,4758,4759,4760,4761,4762,4763,4764,4765,4766,4767,4768,4769,4770,4771,4772,4773,4774,4775,4776,4777,4778,4779,4780,4781,4782,4783,4784,4785,4786,4787,4788,4789,4790,4791,4792,4793,4794,4795,4796,4797,4798,4799,4800,4801,4802,4803,4804,4805,4806,4807,4808,4809,4810,4811,4812,4813,4814,4815,4816,4817,4818,4819,4820,4821,4822,4823,4824,4825,4826,4827,4828,4829,4830,4831,4832,4833,4834,4835,4836,4837,4838,4839,4840,4841,4842,4843,4844,4845,4846,4847,4848,4849,4850,4851,4852,4853,4854,4855,4856,4857,4858,4859,4860,4861,4862,4863,4864,4865,4866,4867,4868,4869,4870,4871,4872,4873,4874,4875,4876,4877,4878,4879,4880,4881,4882,4883,4884,4885,4886,4887,4888,4889,4890,4891,4892,4893,4894,4895,4896,4897,4898,4899,4900,4901,4902,4903,4904,4905,4906,4907,4908,4909,4910,4911,4912,4913,4914,4915,4916,4917,4918,4919,4920,4921,4922,4923,4924,4925,4926,4927,4928,4929,4930,4931,4932,4933,4934,4935,4936,4937,4938,4939,4940,4941,4942,4943,4944,4945,4946,4947,4948,4949,4950,4951,4952,4953,4954,4955,4956,4957,4958,4959,4960,4961,4962,4963,4964,4965,4966,4967,4968,4969,4970,4971,4972,4973,4974,4975,4976,4977,4978,4979,4980,4981,4982,4983,4984,4985,4986,4987,4988,4989,4990,4991,4992,4993,4994,4995,4996,4997,4998,4999,5000,5001,5002,5003,5004,5005,5006,5007,5008,5009,5010,5011,5012,5013,5014,5015,5016,5017,5018,5019,5020,5021,5022,5023,5024,5025,5026,5027,5028,5029,5030,5031,5032,5033,5034,5035,5036,5037,5038,5039,5040,5041,5042,5043,5044,5045,5046,5047,5048,5049,5050,5051,5052,5053,5054,5055,5056,5057,5058,5059,5060,5061,5062,5063,5064,5065,5066,5067,5068,5069,5070,5071,5072,5073,5074,5075,5076,5077,5078,5079,5080,5081,5082,5083,5084,5085,5086,5087,5088,5089,5090,5091,5092,5093,5094,5095,5096,5097,5098,5099,5100,5101,5102,5103,5104,5105,5106,5107,5108,5109,5110,5111,5112,5113,5114,5115,5116,5117,5118,5119,5120,5121,5122,5123,5124,5125,5126,5127,5128,5129,5130,5131,5132,5133,5134,5135,5136,5137,5138,5139,5140,5141,5142,5143,5144,5145,5146,5147,5148,5149,5150,5151,5152,5153,5154,5155,5156,5157,5158,5159,5160,5161,5162,5163,5164,5165,5166,5167,5168,5169,5170,5171,5172,5173,5174,5175,5176,5177,5178,5179,5180,5181,5182,5183,5184,5185,5186,5187,5188,5189,5190,5191,5192,5193,5194,5195,5196,5197,5198,5199,5200,5201,5202,5203,5204,5205,5206,5207,5208,5209,5210,5211,5212,5213,5214,5215,5216,5217,5218,5219,5220,5221,5222,5223,5224,5225,5226,5227,5228,5229,5230,5231,5232,5233,5234,5235,5236,5237,5238,5239,5240,5241,5242,5243,5244,5245,5246,5247,5248,5249,5250,5251,5252,5253,5254,5255,5256,5257,5258,5259,5260,5261,5262,5263,5264,5265,5266,5267,5268,5269,5270,5271,5272,5273,5274,5275,5276,5277,5278,5279,5280,5281,5282,5283,5284,5285,5286,5287,5288,5289,5290,5291,5292,5293,5294,5295,5296,5297,5298,5299,5300,5301,5302,5303,5304,5305,5306,5307,5308,5309,5310,5311,5312,5313,5314,5315,5316,5317,5318,5319,5320,5321,5322,5323,5324,5325,5326,5327,5328,5329,5330,5331,5332,5333,5334,5335,5336,5337,5338,5339,5340,5341,5342,5343,5344,5345,5346,5347,5348,5349,5350,5351,5352,5353) have mixed types. Specify dtype option on import or set low_memory=False.\n",
        "  data = self._reader.read(nrows)\n"
       ]
      },
      {
       "output_type": "stream",
       "stream": "stdout",
       "text": [
        "\n",
        "PANCAN12\tRPPA"
       ]
      },
      {
       "output_type": "stream",
       "stream": "stdout",
       "text": [
        "\n",
        "PANCAN12\tmiRNASeq"
       ]
      },
      {
       "output_type": "stream",
       "stream": "stdout",
       "text": [
        "\n",
        "PANCAN12\tCN"
       ]
      },
      {
       "output_type": "stream",
       "stream": "stdout",
       "text": [
        "\n",
        "PANCAN12\tmut"
       ]
      },
      {
       "output_type": "stream",
       "stream": "stderr",
       "text": [
        "/cellar/users/agross/anaconda2/lib/python2.7/site-packages/pandas-0.13.0_247_g82bcbb8-py2.7-linux-x86_64.egg/pandas/io/parsers.py:1059: DtypeWarning: Columns (1,2,4,5,7,8,10,11,13,14,16,17,19,20,22,23,25,26,28,29,31,32,34,35,37,38,40,41,43,44,46,47,49,50,52,53,55,56,58,59,61,62,64,65,67,68,70,71,73,74,76,77,79,80,82,83,85,86,88,89,91,92,94,95,97,98,100,101,103,104,106,107,109,110,112,113,115,116,118,119,121,122,124,125,127,128,130,131,133,134,136,137,139,140,142,143,145,146,148,149,151,152,154,155,157,158,160,161,163,164,166,167,169,170,172,173,175,176,178,179,181,182,184,185,187,188,190,191,193,194,196,197,199,200,202,203,205,206,208,209,211,212,214,215,217,218,220,221,223,224,226,227,229,230,232,233,235,236,238,239,241,242,244,245,247,248,250,251,253,254,256,257,259,260,262,263,265,266,268,269,271,272,274,275,277,278,280,281,283,284,286,287,289,290,292,293,295,296,298,299,301,302,304,305,307,308,310,311,313,314,316,317,319,320,322,323,325,326,328,329,331,332,334,335,337,338,340,341,343,344,346,347,349,350,352,353,355,356,358,359,361,362,364,365,367,368,370,371,373,374,376,377,379,380,382,383,385,386,388,389,391,392,394,395,397,398,400,401,403,404,406,407,409,410,412,413,415,416,418,419,421,422,424,425,427,428,430,431,433,434,436,437,439,440,442,443,445,446,448,449,451,452,454,455,457,458,460,461,463,464,466,467,469,470,472,473,475,476,478,479,481,482,484,485,487,488,490,491,493,494,496,497,499,500,502,503,505,506,508,509,511,512,514,515,517,518,520,521,523,524,526,527,529,530,532,533,535,536,538,539,541,542,544,545,547,548,550,551,553,554,556,557,559,560,562,563,565,566,568,569,571,572,574,575,577,578,580,581,583,584,586,587,589,590,592,593,595,596,598,599,601,602,604,605,607,608,610,611,613,614,616,617,619,620,622,623,625,626,628,629,631,632,634,635,637,638,640,641,643,644,646,647,649,650,652,653,655,656,658,659,661,662,664,665,667,668,670,671,673,674,676,677,679,680,682,683,685,686,688,689,691,692,694,695,697,698,700,701,703,704,706,707,709,710,712,713,715,716,718,719,721,722,724,725,727,728,730,731,733,734,736,737,739,740,742,743,745,746,748,749,751,752,754,755,757,758,760,761,763,764,766,767,769,770,772,773,775,776,778,779,781,782,784,785,787,788,790,791,793,794,796,797,799,800,802,803,805,806,808,809,811,812,814,815,817,818,820,821,823,824,826,827,829,830,832,833,835,836,838,839,841,842,844,845,847,848,850,851,853,854,856,857,859,860,862,863,865,866,868,869,871,872,874,875,877,878,880,881,883,884,886,887,889,890,892,893,895,896,898,899,901,902,904,905,907,908,910,911,913,914,916,917,919,920,922,923,925,926) have mixed types. Specify dtype option on import or set low_memory=False.\n",
        "  data = self._reader.read(nrows)\n",
        "/cellar/users/agross/anaconda2/lib/python2.7/site-packages/pandas-0.13.0_247_g82bcbb8-py2.7-linux-x86_64.egg/pandas/io/parsers.py:1059: DtypeWarning: Columns (50) have mixed types. Specify dtype option on import or set low_memory=False.\n",
        "  data = self._reader.read(nrows)\n"
       ]
      },
      {
       "output_type": "stream",
       "stream": "stdout",
       "text": [
        "\n",
        "SARC\tall"
       ]
      },
      {
       "output_type": "stream",
       "stream": "stdout",
       "text": [
        "\n",
        "SARC\tmRNASeq"
       ]
      },
      {
       "output_type": "stream",
       "stream": "stdout",
       "text": [
        "\n",
        "SARC\tRPPA"
       ]
      },
      {
       "output_type": "stream",
       "stream": "stdout",
       "text": [
        "\n",
        "SARC\tmiRNASeq"
       ]
      },
      {
       "output_type": "stream",
       "stream": "stdout",
       "text": [
        "\n",
        "SARC\tCN"
       ]
      },
      {
       "output_type": "stream",
       "stream": "stdout",
       "text": [
        "\n",
        "SARC\tmut"
       ]
      },
      {
       "output_type": "stream",
       "stream": "stdout",
       "text": [
        "\n",
        "SKCM\tmut"
       ]
      },
      {
       "output_type": "stream",
       "stream": "stdout",
       "text": [
        "\n",
        "STAD\tmRNASeq"
       ]
      },
      {
       "output_type": "stream",
       "stream": "stdout",
       "text": [
        "\n",
        "STAD\tRPPA"
       ]
      },
      {
       "output_type": "stream",
       "stream": "stderr",
       "text": [
        "/cellar/users/agross/anaconda2/lib/python2.7/site-packages/pandas-0.13.0_247_g82bcbb8-py2.7-linux-x86_64.egg/pandas/io/parsers.py:1059: DtypeWarning: Columns (1,2,4,5,7,8,10,11,13,14,16,17,19,20,22,23,25,26,28,29,31,32,34,35,37,38,40,41,43,44,46,47,49,50,52,53,55,56,58,59,61,62,64,65,67,68,70,71,73,74,76,77,79,80,82,83,85,86,88,89,91,92,94,95,97,98,100,101,103,104,106,107,109,110,112,113,115,116,118,119,121,122,124,125,127,128,130,131,133,134,136,137,139,140,142,143,145,146,148,149,151,152,154,155,157,158,160,161,163,164,166,167,169,170,172,173,175,176,178,179,181,182,184,185,187,188,190,191,193,194,196,197,199,200,202,203,205,206,208,209,211,212,214,215,217,218,220,221,223,224,226,227,229,230,232,233,235,236,238,239,241,242,244,245,247,248,250,251,253,254,256,257,259,260,262,263,265,266,268,269,271,272,274,275,277,278,280,281,283,284,286,287,289,290,292,293,295,296,298,299,301,302,304,305,307,308,310,311,313,314,316,317,319,320,322,323,325,326,328,329,331,332,334,335,337,338,340,341,343,344,346,347,349,350,352,353,355,356,358,359,361,362,364,365,367,368,370,371,373,374,376,377,379,380,382,383,385,386,388,389,391,392,394,395,397,398,400,401,403,404,406,407,409,410,412,413,415,416,418,419,421,422,424,425,427,428,430,431,433,434,436,437,439,440,442,443,445,446,448,449,451,452,454,455,457,458,460,461,463,464,466,467,469,470,472,473,475,476,478,479,481,482,484,485,487,488,490,491,493,494,496,497,499,500,502,503,505,506,508,509,511,512,514,515,517,518,520,521,523,524,526,527,529,530,532,533,535,536,538,539,541,542,544,545,547,548,550,551,553,554,556,557,559,560,562,563,565,566,568,569,571,572,574,575,577,578,580,581,583,584,586,587,589,590,592,593,595,596,598,599,601,602,604,605,607,608,610,611,613,614,616,617,619,620,622,623,625,626,628,629,631,632,634,635,637,638,640,641,643,644,646,647,649,650,652,653,655,656,658,659,661,662,664,665,667,668,670,671,673,674,676,677,679,680,682,683,685,686,688,689,691,692,694,695,697,698,700,701,703,704,706,707,709,710,712,713,715,716,718,719,721,722,724,725,727,728,730,731,733,734,736,737,739,740,742,743,745,746,748,749,751,752,754,755,757,758,760,761,763,764,766,767,769,770,772,773,775,776,778,779,781,782,784,785,787,788,790,791,793,794,796,797,799,800,802,803,805,806,808,809,811,812,814,815,817,818,820,821,823,824,826,827,829,830,832,833,835,836,838,839,841,842,844,845,847,848,850,851,853,854,856,857,859,860,862,863,865,866,868,869,871,872,874,875,877,878,880,881,883,884,886,887,889,890,892,893,895,896,898,899,901,902,904,905,907,908,910,911,913,914,916,917,919,920,922,923,925,926,928,929,931,932,934,935,937,938,940,941,943,944,946,947,949,950,952,953,955,956,958,959,961,962,964,965,967,968,970,971,973,974,976,977,979,980,982,983,985,986,988,989,991,992,994,995,997,998,1000,1001,1003,1004,1006,1007,1009,1010,1012,1013,1015,1016,1018,1019,1021,1022,1024,1025,1027,1028,1030,1031,1033,1034) have mixed types. Specify dtype option on import or set low_memory=False.\n",
        "  data = self._reader.read(nrows)\n",
        "/cellar/users/agross/anaconda2/lib/python2.7/site-packages/pandas-0.13.0_247_g82bcbb8-py2.7-linux-x86_64.egg/pandas/io/parsers.py:1059: DtypeWarning: Columns (1,2,4,5,7,8,10,11,13,14,16,17,19,20,22,23,25,26,28,29,31,32,34,35,37,38,40,41,43,44,46,47,49,50,52,53,55,56,58,59,61,62,64,65,67,68,70,71,73,74,76,77,79,80,82,83,85,86,88,89,91,92,94,95,97,98,100,101,103,104,106,107,109,110,112,113,115,116,118,119,121,122,124,125,127,128,130,131,133,134,136,137,139,140,142,143,145,146,148,149,151,152,154,155,157,158,160,161,163,164,166,167,169,170,172,173,175,176,178,179,181,182,184,185,187,188,190,191,193,194,196,197,199,200,202,203,205,206,208,209,211,212,214,215,217,218,220,221,223,224,226,227,229,230,232,233,235,236,238,239,241,242,244,245,247,248,250,251,253,254,256,257,259,260,262,263,265,266,268,269,271,272,274,275,277,278,280,281,283,284,286,287,289,290,292,293,295,296,298,299,301,302,304,305,307,308,310,311,313,314,316,317,319,320,322,323,325,326,328,329,331,332,334,335,337,338,340,341,343,344,346,347,349,350,352,353,355,356,358,359,361,362,364,365,367,368,370,371,373,374,376,377,379,380,382,383,385,386,388,389,391,392,394,395,397,398,400,401,403,404,406,407,409,410,412,413,415,416,418,419,421,422,424,425,427,428,430,431,433,434,436,437,439,440,442,443,445,446,448,449,451,452,454,455,457,458,460,461,463,464,466,467,469,470,472,473,475,476,478,479,481,482,484,485,487,488,490,491,493,494,496,497,499,500,502,503,505,506,508,509,511,512,514,515,517,518,520,521,523,524,526,527,529,530,532,533,535,536,538,539,541,542,544,545,547,548,550,551,553,554,556,557,559,560,562,563,565,566,568,569,571,572,574,575,577,578,580,581,583,584,586,587,589,590,592,593,595,596,598,599,601,602,604,605,607,608,610,611,613,614,616,617,619,620,622,623,625,626,628,629,631,632,634,635,637,638,640,641,643,644,646,647,649,650,652,653,655,656,658,659,661,662,664,665,667,668,670,671,673,674,676,677,679,680,682,683,685,686,688,689,691,692,694,695,697,698,700,701,703,704,706,707,709,710,712,713,715,716,718,719,721,722,724,725,727,728,730,731,733,734,736,737,739,740,742,743,745,746,748,749,751,752,754,755,757,758,760,761,763,764,766,767,769,770,772,773,775,776,778,779,781,782,784,785,787,788,790,791,793,794,796,797,799,800,802,803,805,806,808,809,811,812,814,815,817,818,820,821,823,824,826,827,829,830,832,833,835,836,838,839,841,842,844,845,847,848,850,851,853,854,856,857,859,860,862,863,865,866,868,869,871,872,874,875,877,878,880,881,883,884,886,887,889,890,892,893,895,896,898,899,901,902,904,905,907,908,910,911,913,914,916,917,919,920,922,923,925,926,928,929,931,932,934,935,937,938,940,941) have mixed types. Specify dtype option on import or set low_memory=False.\n",
        "  data = self._reader.read(nrows)\n"
       ]
      },
      {
       "output_type": "stream",
       "stream": "stderr",
       "text": [
        "/cellar/users/agross/anaconda2/lib/python2.7/site-packages/pandas-0.13.0_247_g82bcbb8-py2.7-linux-x86_64.egg/pandas/io/parsers.py:1059: DtypeWarning: Columns (73) have mixed types. Specify dtype option on import or set low_memory=False.\n",
        "  data = self._reader.read(nrows)\n",
        "/cellar/users/agross/anaconda2/lib/python2.7/site-packages/pandas-0.13.0_247_g82bcbb8-py2.7-linux-x86_64.egg/pandas/io/parsers.py:1059: DtypeWarning: Columns (1,2,4,5,7,8,10,11,13,14,16,17,19,20,22,23,25,26,28,29,31,32,34,35,37,38,40,41,43,44,46,47,49,50,52,53,55,56,58,59,61,62,64,65,67,68,70,71,73,74,76,77,79,80,82,83,85,86,88,89,91,92,94,95,97,98,100,101,103,104,106,107,109,110,112,113,115,116,118,119,121,122,124,125,127,128,130,131,133,134,136,137,139,140,142,143,145,146,148,149,151,152,154,155,157,158,160,161,163,164,166,167,169,170,172,173,175,176,178,179,181,182,184,185,187,188,190,191,193,194,196,197,199,200,202,203,205,206,208,209,211,212,214,215,217,218,220,221,223,224,226,227,229,230,232,233,235,236,238,239,241,242,244,245,247,248,250,251,253,254,256,257,259,260,262,263,265,266,268,269,271,272,274,275,277,278,280,281,283,284,286,287,289,290,292,293,295,296,298,299,301,302,304,305,307,308,310,311,313,314,316,317,319,320,322,323,325,326,328,329,331,332,334,335,337,338,340,341,343,344,346,347,349,350,352,353,355,356,358,359,361,362,364,365,367,368,370,371,373,374,376,377,379,380,382,383,385,386,388,389,391,392,394,395,397,398,400,401,403,404,406,407,409,410,412,413,415,416,418,419,421,422,424,425,427,428,430,431,433,434,436,437,439,440,442,443,445,446,448,449,451,452,454,455,457,458,460,461,463,464,466,467,469,470,472,473,475,476,478,479,481,482,484,485,487,488,490,491,493,494,496,497,499,500,502,503,505,506,508,509,511,512,514,515,517,518,520,521,523,524,526,527,529,530,532,533,535,536,538,539,541,542,544,545,547,548,550,551,553,554,556,557,559,560,562,563,565,566,568,569,571,572,574,575,577,578,580,581,583,584,586,587,589,590,592,593,595,596,598,599,601,602,604,605,607,608,610,611,613,614,616,617,619,620,622,623,625,626,628,629,631,632,634,635,637,638,640,641,643,644,646,647,649,650,652,653,655,656,658,659,661,662,664,665,667,668,670,671,673,674,676,677,679,680,682,683,685,686,688,689,691,692,694,695,697,698,700,701,703,704,706,707,709,710,712,713,715,716,718,719,721,722,724,725,727,728,730,731,733,734,736,737,739,740,742,743,745,746,748,749,751,752,754,755,757,758,760,761,763,764,766,767,769,770,772,773,775,776,778,779,781,782,784,785,787,788,790,791,793,794,796,797,799,800,802,803,805,806,808,809,811,812,814,815,817,818,820,821,823,824,826,827,829,830,832,833,835,836,838,839,841,842,844,845,847,848,850,851,853,854,856,857,859,860,862,863,865,866,868,869,871,872,874,875,877,878,880,881,883,884,886,887,889,890,892,893,895,896,898,899,901,902,904,905,907,908,910,911,913,914,916,917,919,920,922,923,925,926,928,929,931,932,934,935,937,938,940,941,943,944,946,947,949,950,952,953,955,956,958,959,961,962,964,965,967,968,970,971,973,974,976,977,979,980,982,983,985,986,988,989,991,992,994,995,997,998,1000,1001,1003,1004,1006,1007,1009,1010,1012,1013,1015,1016,1018,1019,1021,1022,1024,1025,1027,1028,1030,1031,1033,1034,1036,1037,1039,1040,1042,1043,1045,1046,1048,1049,1051,1052,1054,1055,1057,1058,1060,1061,1063,1064,1066,1067,1069,1070,1072,1073,1075,1076,1078,1079,1081,1082,1084,1085,1087,1088,1090,1091,1093,1094,1096,1097,1099,1100,1102,1103,1105,1106,1108,1109,1111,1112,1114,1115,1117,1118,1120,1121,1123,1124,1126,1127,1129,1130,1132,1133,1135,1136,1138,1139,1141,1142,1144,1145,1147,1148,1150,1151,1153,1154,1156,1157,1159,1160,1162,1163,1165,1166,1168,1169,1171,1172,1174,1175,1177,1178,1180,1181,1183,1184,1186,1187,1189,1190,1192,1193,1195,1196,1198,1199,1201,1202,1204,1205,1207,1208,1210,1211,1213,1214,1216,1217,1219,1220,1222,1223,1225,1226,1228,1229,1231,1232,1234,1235,1237,1238,1240,1241,1243,1244,1246,1247,1249,1250,1252,1253,1255,1256,1258,1259,1261,1262,1264,1265,1267,1268,1270,1271,1273,1274,1276,1277,1279,1280,1282,1283,1285,1286,1288,1289,1291,1292,1294,1295,1297,1298,1300,1301,1303,1304,1306,1307,1309,1310,1312,1313,1315,1316,1318,1319,1321,1322,1324,1325,1327,1328,1330,1331,1333,1334,1336,1337,1339,1340,1342,1343,1345,1346,1348,1349,1351,1352,1354,1355,1357,1358,1360,1361,1363,1364,1366,1367,1369,1370,1372,1373,1375,1376,1378,1379,1381,1382,1384,1385,1387,1388,1390,1391,1393,1394,1396,1397,1399,1400,1402,1403,1405,1406,1408,1409,1411,1412,1414,1415,1417,1418,1420,1421,1423,1424,1426,1427,1429,1430,1432,1433,1435,1436,1438,1439,1441,1442,1444,1445,1447,1448,1450,1451,1453,1454,1456,1457,1459,1460,1462,1463,1465,1466,1468,1469,1471,1472,1474,1475,1477,1478,1480,1481,1483,1484,1486,1487,1489,1490,1492,1493,1495,1496,1498,1499,1501,1502,1504,1505,1507,1508,1510,1511,1513,1514,1516,1517,1519,1520,1522,1523,1525,1526,1528,1529,1531,1532,1534,1535,1537,1538,1540,1541,1543,1544,1546,1547,1549,1550,1552,1553,1555,1556,1558,1559,1561,1562,1564,1565,1567,1568,1570,1571,1573,1574,1576,1577,1579,1580,1582,1583,1585,1586,1588,1589,1591,1592,1594,1595,1597,1598,1600,1601,1603,1604,1606,1607,1609,1610,1612,1613,1615,1616,1618,1619,1621,1622,1624,1625,1627,1628,1630,1631,1633,1634,1636,1637,1639,1640,1642,1643,1645,1646,1648,1649,1651,1652,1654,1655,1657,1658,1660,1661,1663,1664,1666,1667,1669,1670,1672,1673,1675,1676,1678,1679,1681,1682,1684,1685) have mixed types. Specify dtype option on import or set low_memory=False.\n",
        "  data = self._reader.read(nrows)\n"
       ]
      },
      {
       "output_type": "stream",
       "stream": "stderr",
       "text": [
        "/cellar/users/agross/anaconda2/lib/python2.7/site-packages/pandas-0.13.0_247_g82bcbb8-py2.7-linux-x86_64.egg/pandas/io/parsers.py:1059: DtypeWarning: Columns (1,2,4,5,7,8,10,11,13,14,16,17,19,20,22,23,25,26,28,29,31,32,34,35,37,38,40,41,43,44,46,47,49,50,52,53,55,56,58,59,61,62,64,65,67,68,70,71,73,74,76,77,79,80,82,83,85,86,88,89,91,92,94,95,97,98,100,101,103,104,106,107,109,110,112,113,115,116,118,119,121,122,124,125,127,128,130,131,133,134,136,137,139,140,142,143,145,146,148,149,151,152,154,155,157,158,160,161,163,164,166,167,169,170,172,173,175,176,178,179,181,182,184,185,187,188,190,191,193,194,196,197,199,200,202,203,205,206,208,209,211,212,214,215,217,218,220,221,223,224,226,227,229,230,232,233,235,236,238,239,241,242,244,245,247,248,250,251,253,254,256,257,259,260,262,263,265,266,268,269,271,272,274,275,277,278,280,281,283,284,286,287,289,290,292,293,295,296,298,299,301,302,304,305,307,308,310,311,313,314,316,317,319,320,322,323,325,326,328,329,331,332,334,335,337,338,340,341,343,344,346,347,349,350,352,353,355,356,358,359,361,362,364,365,367,368,370,371,373,374,376,377,379,380,382,383,385,386,388,389,391,392,394,395,397,398,400,401,403,404,406,407,409,410,412,413,415,416,418,419,421,422,424,425,427,428,430,431,433,434,436,437,439,440,442,443,445,446,448,449,451,452,454,455,457,458,460,461,463,464,466,467,469,470,472,473,475,476,478,479,481,482,484,485,487,488,490,491,493,494,496,497,499,500,502,503,505,506,508,509,511,512,514,515,517,518,520,521,523,524,526,527,529,530,532,533,535,536,538,539,541,542,544,545,547,548,550,551,553,554,556,557,559,560,562,563,565,566,568,569,571,572,574,575,577,578,580,581,583,584,586,587,589,590,592,593,595,596,598,599,601,602,604,605,607,608,610,611,613,614,616,617,619,620,622,623,625,626,628,629,631,632,634,635,637,638,640,641,643,644,646,647,649,650,652,653,655,656,658,659,661,662,664,665,667,668,670,671,673,674,676,677,679,680,682,683,685,686,688,689,691,692,694,695,697,698,700,701,703,704,706,707,709,710,712,713,715,716,718,719,721,722,724,725,727,728,730,731,733,734,736,737,739,740,742,743,745,746,748,749,751,752,754,755,757,758,760,761,763,764,766,767,769,770,772,773,775,776,778,779,781,782,784,785,787,788,790,791,793,794,796,797,799,800,802,803,805,806,808,809,811,812,814,815,817,818,820,821,823,824,826,827,829,830,832,833,835,836,838,839,841,842,844,845,847,848,850,851,853,854,856,857,859,860,862,863,865,866,868,869,871,872,874,875,877,878,880,881,883,884,886,887,889,890,892,893,895,896,898,899,901,902,904,905,907,908,910,911,913,914,916,917,919,920,922,923,925,926,928,929,931,932,934,935,937,938,940,941,943,944,946,947,949,950,952,953,955,956,958,959,961,962,964,965,967,968,970,971,973,974,976,977,979,980,982,983,985,986,988,989,991,992,994,995,997,998,1000,1001,1003,1004,1006,1007,1009,1010,1012,1013,1015,1016,1018,1019,1021,1022,1024,1025,1027,1028,1030,1031,1033,1034,1036,1037,1039,1040,1042,1043,1045,1046,1048,1049,1051,1052,1054,1055,1057,1058,1060,1061,1063,1064,1066,1067,1069,1070,1072,1073,1075,1076,1078,1079,1081,1082,1084,1085,1087,1088,1090,1091,1093,1094,1096,1097,1099,1100,1102,1103,1105,1106,1108,1109,1111,1112,1114,1115,1117,1118,1120,1121,1123,1124,1126,1127,1129,1130,1132,1133,1135,1136,1138,1139,1141,1142,1144,1145,1147,1148,1150,1151,1153,1154,1156,1157,1159,1160,1162,1163,1165,1166,1168,1169,1171,1172,1174,1175,1177,1178,1180,1181,1183,1184,1186,1187,1189,1190,1192,1193,1195,1196,1198,1199,1201,1202,1204,1205,1207,1208,1210,1211,1213,1214,1216,1217,1219,1220,1222,1223,1225,1226,1228,1229,1231,1232,1234,1235,1237,1238,1240,1241,1243,1244,1246,1247,1249,1250,1252,1253,1255,1256) have mixed types. Specify dtype option on import or set low_memory=False.\n",
        "  data = self._reader.read(nrows)\n",
        "/cellar/users/agross/anaconda2/lib/python2.7/site-packages/pandas-0.13.0_247_g82bcbb8-py2.7-linux-x86_64.egg/pandas/io/parsers.py:1059: DtypeWarning: Columns (4,38) have mixed types. Specify dtype option on import or set low_memory=False.\n",
        "  data = self._reader.read(nrows)\n"
       ]
      },
      {
       "output_type": "stream",
       "stream": "stdout",
       "text": [
        "\n",
        "UCS\tall"
       ]
      },
      {
       "output_type": "stream",
       "stream": "stdout",
       "text": [
        "\n",
        "UCS\tmRNASeq"
       ]
      },
      {
       "output_type": "stream",
       "stream": "stdout",
       "text": [
        "\n",
        "UCS\tRPPA"
       ]
      },
      {
       "output_type": "stream",
       "stream": "stdout",
       "text": [
        "\n",
        "UCS\tmiRNASeq"
       ]
      },
      {
       "output_type": "stream",
       "stream": "stdout",
       "text": [
        "\n",
        "UCS\tCN"
       ]
      },
      {
       "output_type": "stream",
       "stream": "stdout",
       "text": [
        "\n",
        "UCS\tmut"
       ]
      },
      {
       "output_type": "stream",
       "stream": "stdout",
       "text": [
        "\n"
       ]
      }
     ],
     "prompt_number": 27
    },
    {
     "cell_type": "code",
     "collapsed": false,
     "input": [],
     "language": "python",
     "metadata": {},
     "outputs": []
    }
   ],
   "metadata": {}
  }
 ]
}