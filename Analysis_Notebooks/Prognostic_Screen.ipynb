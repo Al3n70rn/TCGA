{
 "metadata": {
  "name": "",
  "signature": "sha256:21429c6aead58929315131c9c863e3e78595ef0b8ed17710f4be2d3b2c57ea09"
 },
 "nbformat": 3,
 "nbformat_minor": 0,
 "worksheets": [
  {
   "cells": [
    {
     "cell_type": "markdown",
     "metadata": {},
     "source": [
      "<h1 class=\"alert alert-info\">HNSCC HPV- Cohort <small> <i class=\"icon-repeat\"></i> Integrative Prognositic Screen</small></h1>"
     ]
    },
    {
     "cell_type": "markdown",
     "metadata": {},
     "source": [
      "####Import Data and Packages  \n",
      "For full list of data and packages imported see the [Imports](../Analysis_Notebooks/Imports.ipynb) notebook."
     ]
    },
    {
     "cell_type": "code",
     "collapsed": false,
     "input": [
      "import NotebookImport\n",
      "from Imports import *"
     ],
     "language": "python",
     "metadata": {},
     "outputs": [
      {
       "output_type": "stream",
       "stream": "stdout",
       "text": [
        "importing IPython notebook from Imports.ipynb\n",
        "Populating the interactive namespace from numpy and matplotlib"
       ]
      },
      {
       "output_type": "stream",
       "stream": "stdout",
       "text": [
        "\n",
        "changing to source dirctory"
       ]
      },
      {
       "output_type": "stream",
       "stream": "stdout",
       "text": [
        "\n",
        "populating namespace with data"
       ]
      },
      {
       "output_type": "stream",
       "stream": "stdout",
       "text": [
        "\n"
       ]
      }
     ],
     "prompt_number": 2
    },
    {
     "cell_type": "code",
     "collapsed": false,
     "input": [
      "from Processing.Screen import *"
     ],
     "language": "python",
     "metadata": {},
     "outputs": [],
     "prompt_number": 6
    },
    {
     "cell_type": "markdown",
     "metadata": {},
     "source": [
      "####Clean up clinical variables and binarize"
     ]
    },
    {
     "cell_type": "code",
     "collapsed": false,
     "input": [
      "n0 = clinical_processed.lymph_stage == 'n0'\n",
      "n0.name = 'lymph_n0'\n",
      "s4 = clinical_processed.stage == 'stge iv'\n",
      "s4.name = 'Stage_IV'\n",
      "oc = clinical_processed.tumor_subdivision == 'oral cavity'\n",
      "oc.name = 'oral_cavity'\n",
      "lx = clinical_processed.tumor_subdivision == 'larynx'\n",
      "lx.name = 'larynx'\n",
      "ox = clinical_processed.tumor_subdivision == 'oropharynx'\n",
      "ox.name = 'oropharynx'\n",
      "year = clinical_processed.post_2000\n",
      "white = clinical.clinical.race == 'white'\n",
      "white.name = 'race_white'\n",
      "gender = clinical.clinical.gender == 'male'\n",
      "gender.name = 'gender_male'\n",
      "\n",
      "inferred = clinical_processed[['drinker_inferred','invasion_inferred',\n",
      "                               'smoker_inferred','spread_inferred']]\n",
      "\n",
      "clinical_df = pd.concat([n0, s4, oc, lx, ox, year, white, gender], 1)\n",
      "clinical_df = pd.concat([clinical_df, inferred], 1)"
     ],
     "language": "python",
     "metadata": {},
     "outputs": [],
     "prompt_number": 33
    },
    {
     "cell_type": "heading",
     "level": 2,
     "metadata": {},
     "source": [
      "Setup Survival Screen Functions"
     ]
    },
    {
     "cell_type": "code",
     "collapsed": false,
     "input": [
      "def test(s, surv, cov_df):\n",
      "    s = s.dropna()\n",
      "    try:\n",
      "        return get_cox_ph_ms(surv, s, cov_df, return_val='LR', interactions='just_feature')\n",
      "    except:\n",
      "        return pd.Series(index=['LR','feature_p', 'fmla', 'hazzard'])\n",
      "\n",
      "\n",
      "def run_screen(screen, filters, covariates, save=True):\n",
      "    cov_df = pd.concat(covariates, axis=1)\n",
      "    keepers_o = screen.get_patient_set(filters)\n",
      "    cutoff = max(np.ceil(len(keepers_o) * .05), 10)\n",
      "    df = screen.get_data(keepers_o, cutoff)\n",
      "\n",
      "    univariate = cox_screen(df, surv)\n",
      "    vec = univariate.LR.p.sort_index()\n",
      "    univariate = pd.concat([univariate['hazard'], corrections(vec)], \n",
      "                           keys=['hazard', 'p'], axis=1)\n",
      "    #hits = univariate[univariate['q_bh'] < .2].index\n",
      "    hits = univariate.index\n",
      "    \n",
      "    full = df.ix[hits].apply(test, args=(surv, cov_df,), axis=1)\n",
      "    vec = full.LR.ix[univariate.index].sort_index()\n",
      "    full = pd.concat([full[['fmla']], corrections(vec)],\n",
      "                            keys=['fmla','p'], axis=1)\n",
      "    hits = true_index(full.p.bh_all.order() < .1)\n",
      "    res = full.sort([('p','uncorrected')]).head()\n",
      "\n",
      "    return res, full, univariate, keepers_o, df"
     ],
     "language": "python",
     "metadata": {},
     "outputs": [],
     "prompt_number": 5
    },
    {
     "cell_type": "heading",
     "level": 1,
     "metadata": {},
     "source": [
      "Screen for Univariate Markers of Survival"
     ]
    },
    {
     "cell_type": "code",
     "collapsed": false,
     "input": [
      "screen = Screen(mut, cn, rna, mirna, clinical_df, surv)"
     ],
     "language": "python",
     "metadata": {},
     "outputs": [],
     "prompt_number": 7
    },
    {
     "cell_type": "code",
     "collapsed": false,
     "input": [
      "res, full, univariate, keepers_o, df = run_screen(screen, filters=[hpv, age>=85], \n",
      "                                                  covariates=[old, age])"
     ],
     "language": "python",
     "metadata": {},
     "outputs": [],
     "prompt_number": 8
    },
    {
     "cell_type": "markdown",
     "metadata": {},
     "source": [
      "<div id='pool_size'>To analyze the resulting pool of 865 events...</div>"
     ]
    },
    {
     "cell_type": "code",
     "collapsed": false,
     "input": [
      "df.groupby(level=0).size()"
     ],
     "language": "python",
     "metadata": {},
     "outputs": [
      {
       "metadata": {},
       "output_type": "pyout",
       "prompt_number": 9,
       "text": [
        "clinical     10\n",
        "cna          74\n",
        "mirna       238\n",
        "mutation    121\n",
        "rna         436\n",
        "dtype: int64"
       ]
      }
     ],
     "prompt_number": 9
    },
    {
     "cell_type": "code",
     "collapsed": false,
     "input": [
      "len([i for i in df.ix['rna'].index if i not in run.gene_sets])"
     ],
     "language": "python",
     "metadata": {},
     "outputs": [
      {
       "metadata": {},
       "output_type": "pyout",
       "prompt_number": 10,
       "text": [
        "294"
       ]
      }
     ],
     "prompt_number": 10
    },
    {
     "cell_type": "code",
     "collapsed": false,
     "input": [
      "len([i for i in df.ix['rna'].index if i in run.gene_sets])"
     ],
     "language": "python",
     "metadata": {},
     "outputs": [
      {
       "metadata": {},
       "output_type": "pyout",
       "prompt_number": 11,
       "text": [
        "142"
       ]
      }
     ],
     "prompt_number": 11
    },
    {
     "cell_type": "markdown",
     "metadata": {},
     "source": [
      "<div id='hit_count'>...identifying 64 events that were each independently associated with patient survival.</div>"
     ]
    },
    {
     "cell_type": "code",
     "collapsed": false,
     "input": [
      "(full.p.bh_all < .1).groupby(level=0).apply(pd.value_counts).unstack()"
     ],
     "language": "python",
     "metadata": {},
     "outputs": [
      {
       "html": [
        "<div style=\"max-height:1000px;max-width:1500px;overflow:auto;\">\n",
        "<table border=\"1\" class=\"dataframe\">\n",
        "  <thead>\n",
        "    <tr style=\"text-align: right;\">\n",
        "      <th></th>\n",
        "      <th>False</th>\n",
        "      <th>True</th>\n",
        "    </tr>\n",
        "  </thead>\n",
        "  <tbody>\n",
        "    <tr>\n",
        "      <th>clinical</th>\n",
        "      <td>   6</td>\n",
        "      <td>  4</td>\n",
        "    </tr>\n",
        "    <tr>\n",
        "      <th>cna</th>\n",
        "      <td>  65</td>\n",
        "      <td>  9</td>\n",
        "    </tr>\n",
        "    <tr>\n",
        "      <th>mirna</th>\n",
        "      <td> 229</td>\n",
        "      <td>  9</td>\n",
        "    </tr>\n",
        "    <tr>\n",
        "      <th>mutation</th>\n",
        "      <td> 108</td>\n",
        "      <td> 13</td>\n",
        "    </tr>\n",
        "    <tr>\n",
        "      <th>rna</th>\n",
        "      <td> 395</td>\n",
        "      <td> 41</td>\n",
        "    </tr>\n",
        "  </tbody>\n",
        "</table>\n",
        "<p>5 rows \u00d7 2 columns</p>\n",
        "</div>"
       ],
       "metadata": {},
       "output_type": "pyout",
       "prompt_number": 12,
       "text": [
        "          False  True \n",
        "clinical      6      4\n",
        "cna          65      9\n",
        "mirna       229      9\n",
        "mutation    108     13\n",
        "rna         395     41\n",
        "\n",
        "[5 rows x 2 columns]"
       ]
      }
     ],
     "prompt_number": 12
    },
    {
     "cell_type": "code",
     "collapsed": false,
     "input": [
      "(full.p.bh_all < .1).value_counts()"
     ],
     "language": "python",
     "metadata": {},
     "outputs": [
      {
       "metadata": {},
       "output_type": "pyout",
       "prompt_number": 13,
       "text": [
        "False    803\n",
        "True      76\n",
        "dtype: int64"
       ]
      }
     ],
     "prompt_number": 13
    },
    {
     "cell_type": "code",
     "collapsed": false,
     "input": [
      "rr = cox_screen(df, surv)\n",
      "haz = rr['hazard'][['exp(coef)','lower .95','upper .95']]\n",
      "p = rr.LR.p\n",
      "uni = haz.join(p)\n",
      "uni['PASS'] = uni.p < .05"
     ],
     "language": "python",
     "metadata": {},
     "outputs": [],
     "prompt_number": 14
    },
    {
     "cell_type": "code",
     "collapsed": false,
     "input": [
      "multi = full.reset_index().sort(['level_0',('p','uncorrected')]).set_index(['level_0','level_1'])\n",
      "multi.index.names = ['data_type','event']\n",
      "multi['p'] = multi['p'].clip_upper(1.)\n",
      "multi.columns = multi.columns.droplevel(0)\n",
      "multi['PASS'] = multi.bh_all < .1\n",
      "f = pd.concat([uni, multi], keys=['Univariate','Multivariate'], axis=1)\n",
      "f[('BOTH','PASS')] = f.Univariate.PASS & f.Multivariate.PASS\n",
      "f = f.sort([('BOTH','PASS'),('Multivariate','uncorrected')], ascending=[False, True])"
     ],
     "language": "python",
     "metadata": {},
     "outputs": [],
     "prompt_number": 15
    },
    {
     "cell_type": "code",
     "collapsed": false,
     "input": [
      "fd = f.copy()\n",
      "fd.index = pd.MultiIndex.from_tuples([(i[0], i[1].replace('_',' ')) for i in fd.index])"
     ],
     "language": "python",
     "metadata": {},
     "outputs": [],
     "prompt_number": 16
    },
    {
     "cell_type": "code",
     "collapsed": false,
     "input": [
      "f.to_csv('/cellar/users/agross/figures/supplemental_table1.csv', float_format='%.2e')"
     ],
     "language": "python",
     "metadata": {},
     "outputs": [],
     "prompt_number": 17
    },
    {
     "cell_type": "code",
     "collapsed": false,
     "input": [
      "rr = cox_screen(df.ix[full.p.bh_all < .1], surv)\n",
      "hits = full.ix[true_index(rr.LR.p < .05)]\n",
      "hits = hits.sort([('p','uncorrected')])\n",
      "len(hits)"
     ],
     "language": "python",
     "metadata": {},
     "outputs": [
      {
       "metadata": {},
       "output_type": "pyout",
       "prompt_number": 18,
       "text": [
        "61"
       ]
      }
     ],
     "prompt_number": 18
    },
    {
     "cell_type": "markdown",
     "metadata": {},
     "source": [
      "<div id='mut_ranking'>Among mutation events, TP53 had the highest survival association overall.</div>"
     ]
    },
    {
     "cell_type": "code",
     "collapsed": false,
     "input": [
      "get_cox_ph(surv, df.ix['mutation'].ix['TP53'], print_desc=True);"
     ],
     "language": "python",
     "metadata": {},
     "outputs": [
      {
       "output_type": "stream",
       "stream": "stdout",
       "text": [
        "\n",
        "        coef exp(coef) se(coef)   z      p\n",
        "feature 1.07      2.91    0.333 3.2 0.0014\n",
        "\n",
        "Likelihood ratio test=13.6  on 1 df, p=0.000228  n= 250, number of events= 102 \n",
        "\n"
       ]
      }
     ],
     "prompt_number": 19
    },
    {
     "cell_type": "code",
     "collapsed": false,
     "input": [
      "exp(1.09), exp(1.09) - exp(1.09 - .333)"
     ],
     "language": "python",
     "metadata": {},
     "outputs": [
      {
       "metadata": {},
       "output_type": "pyout",
       "prompt_number": 20,
       "text": [
        "(2.9742740725630656, 0.84240306809977561)"
       ]
      }
     ],
     "prompt_number": 20
    },
    {
     "cell_type": "code",
     "collapsed": false,
     "input": [
      "hits.ix['mutation']['p'].sort('uncorrected').head(4)"
     ],
     "language": "python",
     "metadata": {},
     "outputs": [
      {
       "html": [
        "<div style=\"max-height:1000px;max-width:1500px;overflow:auto;\">\n",
        "<table border=\"1\" class=\"dataframe\">\n",
        "  <thead>\n",
        "    <tr style=\"text-align: right;\">\n",
        "      <th></th>\n",
        "      <th>uncorrected</th>\n",
        "      <th>bh_within</th>\n",
        "      <th>bh_all</th>\n",
        "      <th>bonf_all</th>\n",
        "      <th>bonf_within</th>\n",
        "      <th>two_step</th>\n",
        "    </tr>\n",
        "  </thead>\n",
        "  <tbody>\n",
        "    <tr>\n",
        "      <th>TP53</th>\n",
        "      <td> 1.70e-04</td>\n",
        "      <td> 0.01</td>\n",
        "      <td> 0.01</td>\n",
        "      <td> 0.15</td>\n",
        "      <td> 0.02</td>\n",
        "      <td> 0.05</td>\n",
        "    </tr>\n",
        "    <tr>\n",
        "      <th>MUC5B</th>\n",
        "      <td> 6.34e-04</td>\n",
        "      <td> 0.02</td>\n",
        "      <td> 0.02</td>\n",
        "      <td> 0.56</td>\n",
        "      <td> 0.08</td>\n",
        "      <td> 0.12</td>\n",
        "    </tr>\n",
        "    <tr>\n",
        "      <th>KEGG_CELL_CYCLE</th>\n",
        "      <td> 8.16e-04</td>\n",
        "      <td> 0.02</td>\n",
        "      <td> 0.03</td>\n",
        "      <td> 0.72</td>\n",
        "      <td> 0.10</td>\n",
        "      <td> 0.12</td>\n",
        "    </tr>\n",
        "    <tr>\n",
        "      <th>REACTOME_SIGNALLING_TO_RAS</th>\n",
        "      <td> 2.62e-03</td>\n",
        "      <td> 0.06</td>\n",
        "      <td> 0.05</td>\n",
        "      <td> 2.30</td>\n",
        "      <td> 0.32</td>\n",
        "      <td> 0.30</td>\n",
        "    </tr>\n",
        "  </tbody>\n",
        "</table>\n",
        "<p>4 rows \u00d7 6 columns</p>\n",
        "</div>"
       ],
       "metadata": {},
       "output_type": "pyout",
       "prompt_number": 21,
       "text": [
        "                            uncorrected  bh_within  bh_all  bonf_all  bonf_within  two_step\n",
        "TP53                           1.70e-04       0.01    0.01      0.15         0.02      0.05\n",
        "MUC5B                          6.34e-04       0.02    0.02      0.56         0.08      0.12\n",
        "KEGG_CELL_CYCLE                8.16e-04       0.02    0.03      0.72         0.10      0.12\n",
        "REACTOME_SIGNALLING_TO_RAS     2.62e-03       0.06    0.05      2.30         0.32      0.30\n",
        "\n",
        "[4 rows x 6 columns]"
       ]
      }
     ],
     "prompt_number": 21
    },
    {
     "cell_type": "markdown",
     "metadata": {},
     "source": [
      "<div id='cn_hits'>Among copy-number alterations, the most significant survival association was observed with heterozygous chromosomal deletions on the 3p arm.</div>"
     ]
    },
    {
     "cell_type": "code",
     "collapsed": false,
     "input": [
      "get_cox_ph(surv, df.ix['cna'].ix['del_3p14.2'], print_desc=True);"
     ],
     "language": "python",
     "metadata": {},
     "outputs": [
      {
       "output_type": "stream",
       "stream": "stdout",
       "text": [
        "\n",
        "        coef exp(coef) se(coef)    z       p\n",
        "feature 1.26      3.54    0.369 3.43 0.00061\n",
        "\n",
        "Likelihood ratio test=16.7  on 1 df, p=4.32e-05  n= 250, number of events= 102 \n",
        "\n"
       ]
      }
     ],
     "prompt_number": 22
    },
    {
     "cell_type": "code",
     "collapsed": false,
     "input": [
      "exp(1.26), exp(1.26) - exp(1.26 - .369)"
     ],
     "language": "python",
     "metadata": {},
     "outputs": [
      {
       "metadata": {},
       "output_type": "pyout",
       "prompt_number": 23,
       "text": [
        "(3.5254214873653824, 1.0878554884534357)"
       ]
      }
     ],
     "prompt_number": 23
    },
    {
     "cell_type": "code",
     "collapsed": true,
     "input": [
      "hits.ix['cna']['p'].sort('uncorrected').head(4)"
     ],
     "language": "python",
     "metadata": {},
     "outputs": [
      {
       "html": [
        "<div style=\"max-height:1000px;max-width:1500px;overflow:auto;\">\n",
        "<table border=\"1\" class=\"dataframe\">\n",
        "  <thead>\n",
        "    <tr style=\"text-align: right;\">\n",
        "      <th></th>\n",
        "      <th>uncorrected</th>\n",
        "      <th>bh_within</th>\n",
        "      <th>bh_all</th>\n",
        "      <th>bonf_all</th>\n",
        "      <th>bonf_within</th>\n",
        "      <th>two_step</th>\n",
        "    </tr>\n",
        "  </thead>\n",
        "  <tbody>\n",
        "    <tr>\n",
        "      <th>del_3p14.2</th>\n",
        "      <td> 5.74e-06</td>\n",
        "      <td> 3.28e-04</td>\n",
        "      <td> 0</td>\n",
        "      <td> 0.01</td>\n",
        "      <td> 4.25e-04</td>\n",
        "      <td> 0</td>\n",
        "    </tr>\n",
        "    <tr>\n",
        "      <th>del_3p25.3</th>\n",
        "      <td> 8.86e-06</td>\n",
        "      <td> 3.28e-04</td>\n",
        "      <td> 0</td>\n",
        "      <td> 0.01</td>\n",
        "      <td> 6.56e-04</td>\n",
        "      <td> 0</td>\n",
        "    </tr>\n",
        "    <tr>\n",
        "      <th>del_3p14.3</th>\n",
        "      <td> 3.05e-05</td>\n",
        "      <td> 6.10e-04</td>\n",
        "      <td> 0</td>\n",
        "      <td> 0.03</td>\n",
        "      <td> 2.26e-03</td>\n",
        "      <td> 0</td>\n",
        "    </tr>\n",
        "    <tr>\n",
        "      <th>del_3p12.2</th>\n",
        "      <td> 3.30e-05</td>\n",
        "      <td> 6.10e-04</td>\n",
        "      <td> 0</td>\n",
        "      <td> 0.03</td>\n",
        "      <td> 2.44e-03</td>\n",
        "      <td> 0</td>\n",
        "    </tr>\n",
        "  </tbody>\n",
        "</table>\n",
        "<p>4 rows \u00d7 6 columns</p>\n",
        "</div>"
       ],
       "metadata": {},
       "output_type": "pyout",
       "prompt_number": 24,
       "text": [
        "            uncorrected  bh_within  bh_all  bonf_all  bonf_within  two_step\n",
        "del_3p14.2     5.74e-06   3.28e-04       0      0.01     4.25e-04         0\n",
        "del_3p25.3     8.86e-06   3.28e-04       0      0.01     6.56e-04         0\n",
        "del_3p14.3     3.05e-05   6.10e-04       0      0.03     2.26e-03         0\n",
        "del_3p12.2     3.30e-05   6.10e-04       0      0.03     2.44e-03         0\n",
        "\n",
        "[4 rows x 6 columns]"
       ]
      }
     ],
     "prompt_number": 24
    },
    {
     "cell_type": "code",
     "collapsed": false,
     "input": [
      "hits.ix['cna']['p'].iloc[0]"
     ],
     "language": "python",
     "metadata": {},
     "outputs": [
      {
       "metadata": {},
       "output_type": "pyout",
       "prompt_number": 25,
       "text": [
        "uncorrected    5.74e-06\n",
        "bh_within      3.28e-04\n",
        "bh_all         2.52e-03\n",
        "bonf_all       5.05e-03\n",
        "bonf_within    4.25e-04\n",
        "two_step       1.64e-03\n",
        "Name: del_3p14.2, dtype: float64"
       ]
      }
     ],
     "prompt_number": 25
    },
    {
     "cell_type": "code",
     "collapsed": false,
     "input": [
      "survival_and_stats(df.ix['cna'].ix['del_3p14.2'], surv, figsize=(6,4))"
     ],
     "language": "python",
     "metadata": {},
     "outputs": [
      {
       "metadata": {},
       "output_type": "display_data",
       "png": "[encoded data removed]",
       "text": [
        "<matplotlib.figure.Figure at 0x9563c90>"
       ]
      }
     ],
     "prompt_number": 26
    },
    {
     "cell_type": "markdown",
     "metadata": {},
     "source": [
      "<div id='other_hits'>Among expression events, the most significant were the microRNA mir-3170 and the P4HA1 gene expression.</div>"
     ]
    },
    {
     "cell_type": "code",
     "collapsed": false,
     "input": [
      "hits.ix['rna']['p'].sort('uncorrected').head(3)"
     ],
     "language": "python",
     "metadata": {},
     "outputs": [
      {
       "html": [
        "<div style=\"max-height:1000px;max-width:1500px;overflow:auto;\">\n",
        "<table border=\"1\" class=\"dataframe\">\n",
        "  <thead>\n",
        "    <tr style=\"text-align: right;\">\n",
        "      <th></th>\n",
        "      <th>uncorrected</th>\n",
        "      <th>bh_within</th>\n",
        "      <th>bh_all</th>\n",
        "      <th>bonf_all</th>\n",
        "      <th>bonf_within</th>\n",
        "      <th>two_step</th>\n",
        "    </tr>\n",
        "  </thead>\n",
        "  <tbody>\n",
        "    <tr>\n",
        "      <th>SIG_PIP3_SIGNALING_IN_B_LYMPHOCYTES</th>\n",
        "      <td> 2.15e-06</td>\n",
        "      <td> 9.39e-04</td>\n",
        "      <td> 0</td>\n",
        "      <td> 0.00</td>\n",
        "      <td> 9.39e-04</td>\n",
        "      <td> 0.00</td>\n",
        "    </tr>\n",
        "    <tr>\n",
        "      <th>P4HA1</th>\n",
        "      <td> 1.79e-05</td>\n",
        "      <td> 3.90e-03</td>\n",
        "      <td> 0</td>\n",
        "      <td> 0.02</td>\n",
        "      <td> 7.80e-03</td>\n",
        "      <td> 0.02</td>\n",
        "    </tr>\n",
        "    <tr>\n",
        "      <th>REACTOME_TRAF6_MEDIATED_INDUCTION_OF_THE_ANTIVIRAL_CYTOKINE_IFN_ALPHA_BETA_CASCADE</th>\n",
        "      <td> 2.69e-05</td>\n",
        "      <td> 3.91e-03</td>\n",
        "      <td> 0</td>\n",
        "      <td> 0.02</td>\n",
        "      <td> 1.17e-02</td>\n",
        "      <td> 0.02</td>\n",
        "    </tr>\n",
        "  </tbody>\n",
        "</table>\n",
        "<p>3 rows \u00d7 6 columns</p>\n",
        "</div>"
       ],
       "metadata": {},
       "output_type": "pyout",
       "prompt_number": 27,
       "text": [
        "                                                                                    uncorrected  bh_within  bh_all  bonf_all  bonf_within  two_step\n",
        "SIG_PIP3_SIGNALING_IN_B_LYMPHOCYTES                                                    2.15e-06   9.39e-04       0      0.00     9.39e-04      0.00\n",
        "P4HA1                                                                                  1.79e-05   3.90e-03       0      0.02     7.80e-03      0.02\n",
        "REACTOME_TRAF6_MEDIATED_INDUCTION_OF_THE_ANTIVIRAL_CYTOKINE_IFN_ALPHA_BETA_CASCADE     2.69e-05   3.91e-03       0      0.02     1.17e-02      0.02\n",
        "\n",
        "[3 rows x 6 columns]"
       ]
      }
     ],
     "prompt_number": 27
    },
    {
     "cell_type": "code",
     "collapsed": false,
     "input": [
      "survival_and_stats(df.ix['rna'].ix['SIG_PIP3_SIGNALING_IN_B_LYMPHOCYTES'], surv)"
     ],
     "language": "python",
     "metadata": {},
     "outputs": [
      {
       "metadata": {},
       "output_type": "display_data",
       "png": "[encoded data removed]",
       "text": [
        "<matplotlib.figure.Figure at 0x8ebeb90>"
       ]
      }
     ],
     "prompt_number": 28
    },
    {
     "cell_type": "code",
     "collapsed": false,
     "input": [
      "hits.ix['mirna']['p'].sort('uncorrected').head(4)"
     ],
     "language": "python",
     "metadata": {},
     "outputs": [
      {
       "html": [
        "<div style=\"max-height:1000px;max-width:1500px;overflow:auto;\">\n",
        "<table border=\"1\" class=\"dataframe\">\n",
        "  <thead>\n",
        "    <tr style=\"text-align: right;\">\n",
        "      <th></th>\n",
        "      <th>uncorrected</th>\n",
        "      <th>bh_within</th>\n",
        "      <th>bh_all</th>\n",
        "      <th>bonf_all</th>\n",
        "      <th>bonf_within</th>\n",
        "      <th>two_step</th>\n",
        "    </tr>\n",
        "  </thead>\n",
        "  <tbody>\n",
        "    <tr>\n",
        "      <th>hsa-mir-3170</th>\n",
        "      <td> 3.24e-05</td>\n",
        "      <td> 0.01</td>\n",
        "      <td> 0.00</td>\n",
        "      <td> 0.03</td>\n",
        "      <td> 0.01</td>\n",
        "      <td> 0.04</td>\n",
        "    </tr>\n",
        "    <tr>\n",
        "      <th>hsa-mir-411</th>\n",
        "      <td> 2.04e-04</td>\n",
        "      <td> 0.02</td>\n",
        "      <td> 0.01</td>\n",
        "      <td> 0.18</td>\n",
        "      <td> 0.05</td>\n",
        "      <td> 0.12</td>\n",
        "    </tr>\n",
        "    <tr>\n",
        "      <th>hsa-mir-100</th>\n",
        "      <td> 3.30e-04</td>\n",
        "      <td> 0.03</td>\n",
        "      <td> 0.02</td>\n",
        "      <td> 0.29</td>\n",
        "      <td> 0.08</td>\n",
        "      <td> 0.13</td>\n",
        "    </tr>\n",
        "    <tr>\n",
        "      <th>hsa-mir-629</th>\n",
        "      <td> 9.24e-04</td>\n",
        "      <td> 0.05</td>\n",
        "      <td> 0.03</td>\n",
        "      <td> 0.81</td>\n",
        "      <td> 0.22</td>\n",
        "      <td> 0.27</td>\n",
        "    </tr>\n",
        "  </tbody>\n",
        "</table>\n",
        "<p>4 rows \u00d7 6 columns</p>\n",
        "</div>"
       ],
       "metadata": {},
       "output_type": "pyout",
       "prompt_number": 29,
       "text": [
        "              uncorrected  bh_within  bh_all  bonf_all  bonf_within  two_step\n",
        "hsa-mir-3170     3.24e-05       0.01    0.00      0.03         0.01      0.04\n",
        "hsa-mir-411      2.04e-04       0.02    0.01      0.18         0.05      0.12\n",
        "hsa-mir-100      3.30e-04       0.03    0.02      0.29         0.08      0.13\n",
        "hsa-mir-629      9.24e-04       0.05    0.03      0.81         0.22      0.27\n",
        "\n",
        "[4 rows x 6 columns]"
       ]
      }
     ],
     "prompt_number": 29
    },
    {
     "cell_type": "code",
     "collapsed": false,
     "input": [
      "survival_and_stats(df.ix['mirna'].ix['hsa-mir-3170'].dropna(), surv, figsize=(6,4))"
     ],
     "language": "python",
     "metadata": {},
     "outputs": [
      {
       "metadata": {},
       "output_type": "display_data",
       "png": "[encoded data removed]",
       "text": [
        "<matplotlib.figure.Figure at 0x8e3cb10>"
       ]
      }
     ],
     "prompt_number": 30
    },
    {
     "cell_type": "markdown",
     "metadata": {},
     "source": [
      "<div id='clin_hits'>Finally, the clinical event with greatest prognostic ability was extra-capsular spread.</div>"
     ]
    },
    {
     "cell_type": "code",
     "collapsed": false,
     "input": [
      "hits.ix['clinical']['p'].sort('uncorrected').head(4)"
     ],
     "language": "python",
     "metadata": {},
     "outputs": [
      {
       "html": [
        "<div style=\"max-height:1000px;max-width:1500px;overflow:auto;\">\n",
        "<table border=\"1\" class=\"dataframe\">\n",
        "  <thead>\n",
        "    <tr style=\"text-align: right;\">\n",
        "      <th></th>\n",
        "      <th>uncorrected</th>\n",
        "      <th>bh_within</th>\n",
        "      <th>bh_all</th>\n",
        "      <th>bonf_all</th>\n",
        "      <th>bonf_within</th>\n",
        "      <th>two_step</th>\n",
        "    </tr>\n",
        "  </thead>\n",
        "  <tbody>\n",
        "    <tr>\n",
        "      <th>year</th>\n",
        "      <td> 7.78e-05</td>\n",
        "      <td> 4.87e-04</td>\n",
        "      <td> 0.01</td>\n",
        "      <td> 0.07</td>\n",
        "      <td> 7.78e-04</td>\n",
        "      <td> 0.00</td>\n",
        "    </tr>\n",
        "    <tr>\n",
        "      <th>spread_inferred</th>\n",
        "      <td> 9.73e-05</td>\n",
        "      <td> 4.87e-04</td>\n",
        "      <td> 0.01</td>\n",
        "      <td> 0.09</td>\n",
        "      <td> 9.73e-04</td>\n",
        "      <td> 0.00</td>\n",
        "    </tr>\n",
        "    <tr>\n",
        "      <th>smoker_inferred</th>\n",
        "      <td> 5.22e-04</td>\n",
        "      <td> 1.74e-03</td>\n",
        "      <td> 0.02</td>\n",
        "      <td> 0.46</td>\n",
        "      <td> 5.22e-03</td>\n",
        "      <td> 0.01</td>\n",
        "    </tr>\n",
        "    <tr>\n",
        "      <th>lymph_n0</th>\n",
        "      <td> 1.41e-03</td>\n",
        "      <td> 3.51e-03</td>\n",
        "      <td> 0.03</td>\n",
        "      <td> 1.24</td>\n",
        "      <td> 1.41e-02</td>\n",
        "      <td> 0.02</td>\n",
        "    </tr>\n",
        "  </tbody>\n",
        "</table>\n",
        "<p>4 rows \u00d7 6 columns</p>\n",
        "</div>"
       ],
       "metadata": {},
       "output_type": "pyout",
       "prompt_number": 31,
       "text": [
        "                 uncorrected  bh_within  bh_all  bonf_all  bonf_within  two_step\n",
        "year                7.78e-05   4.87e-04    0.01      0.07     7.78e-04      0.00\n",
        "spread_inferred     9.73e-05   4.87e-04    0.01      0.09     9.73e-04      0.00\n",
        "smoker_inferred     5.22e-04   1.74e-03    0.02      0.46     5.22e-03      0.01\n",
        "lymph_n0            1.41e-03   3.51e-03    0.03      1.24     1.41e-02      0.02\n",
        "\n",
        "[4 rows x 6 columns]"
       ]
      }
     ],
     "prompt_number": 31
    },
    {
     "cell_type": "heading",
     "level": 1,
     "metadata": {},
     "source": [
      "Searching for Association Among Prognostic Biomarkers"
     ]
    },
    {
     "cell_type": "markdown",
     "metadata": {},
     "source": [
      "It has previously been shown that genetic alterations often act in redundant or synergistic mechanisms to confer a growth advantage in the tumor.  Under the hypothesis that such prognostic biomarkers might act in concert, we next examined the 78 primary events for pairwise association. \n",
      "\n",
      "* We are only testing across different data-layers\n",
      "* We test each combination once \n",
      "* We limit redundant tests by filtering \n",
      "* We isolate biologically interesting cases for followup"
     ]
    },
    {
     "cell_type": "code",
     "collapsed": false,
     "input": [
      "hit_df = df.ix[hits.index].astype(float)"
     ],
     "language": "python",
     "metadata": {},
     "outputs": [],
     "prompt_number": 39
    },
    {
     "cell_type": "heading",
     "level": 2,
     "metadata": {},
     "source": [
      "Looking for associations within data types"
     ]
    },
    {
     "cell_type": "markdown",
     "metadata": {},
     "source": [
      "* For association testing we filter down features that are highly redundant within a datatype\n",
      "* This is done mainly to ease interpretation as well as for power purposes.  We only look at associations that would beat the entire test space anyway. \n",
      "* Its easy to see that the redundant things we are filtering here are relatively trivial"
     ]
    },
    {
     "cell_type": "code",
     "collapsed": false,
     "input": [
      "fet_within = pd.DataFrame({(a, b): fisher_exact_test(v1, v2)\n",
      "                           for a, v1 in hit_df.iterrows()\n",
      "                           for b, v2 in hit_df.iterrows()\n",
      "                           if a[0] == b[0]\n",
      "                           and a[1] > b[1]}).T"
     ],
     "language": "python",
     "metadata": {},
     "outputs": [],
     "prompt_number": 40
    },
    {
     "cell_type": "code",
     "collapsed": false,
     "input": [
      "fet_within.sort('p').head()"
     ],
     "language": "python",
     "metadata": {},
     "outputs": [
      {
       "html": [
        "<div style=\"max-height:1000px;max-width:1500px;overflow:auto;\">\n",
        "<table border=\"1\" class=\"dataframe\">\n",
        "  <thead>\n",
        "    <tr style=\"text-align: right;\">\n",
        "      <th></th>\n",
        "      <th>odds_ratio</th>\n",
        "      <th>p</th>\n",
        "    </tr>\n",
        "  </thead>\n",
        "  <tbody>\n",
        "    <tr>\n",
        "      <th>((cna, del_3p14.3), (cna, del_3p14.2))</th>\n",
        "      <td> 8976.00</td>\n",
        "      <td> 9.28e-47</td>\n",
        "    </tr>\n",
        "    <tr>\n",
        "      <th>((cna, del_11q23.1), (cna, del_11q14.2))</th>\n",
        "      <td>  147.54</td>\n",
        "      <td> 7.00e-39</td>\n",
        "    </tr>\n",
        "    <tr>\n",
        "      <th>((cna, del_3p25.3), (cna, del_3p14.3))</th>\n",
        "      <td>  468.22</td>\n",
        "      <td> 7.23e-37</td>\n",
        "    </tr>\n",
        "    <tr>\n",
        "      <th>((cna, del_3p25.3), (cna, del_3p14.2))</th>\n",
        "      <td>  273.00</td>\n",
        "      <td> 2.03e-34</td>\n",
        "    </tr>\n",
        "    <tr>\n",
        "      <th>((cna, del_3p14.2), (cna, del_3p12.2))</th>\n",
        "      <td>  225.17</td>\n",
        "      <td> 4.28e-33</td>\n",
        "    </tr>\n",
        "  </tbody>\n",
        "</table>\n",
        "<p>5 rows \u00d7 2 columns</p>\n",
        "</div>"
       ],
       "metadata": {},
       "output_type": "pyout",
       "prompt_number": 41,
       "text": [
        "                                          odds_ratio         p\n",
        "((cna, del_3p14.3), (cna, del_3p14.2))       8976.00  9.28e-47\n",
        "((cna, del_11q23.1), (cna, del_11q14.2))      147.54  7.00e-39\n",
        "((cna, del_3p25.3), (cna, del_3p14.3))        468.22  7.23e-37\n",
        "((cna, del_3p25.3), (cna, del_3p14.2))        273.00  2.03e-34\n",
        "((cna, del_3p14.2), (cna, del_3p12.2))        225.17  4.28e-33\n",
        "\n",
        "[5 rows x 2 columns]"
       ]
      }
     ],
     "prompt_number": 41
    },
    {
     "cell_type": "markdown",
     "metadata": {},
     "source": [
      "Here we tag these redundant features and remove them from the test space. "
     ]
    },
    {
     "cell_type": "code",
     "collapsed": false,
     "input": [
      "s = {b for i, (a, v1) in enumerate(hit_df.iterrows())\n",
      "       for j, (b, v2) in enumerate(hit_df.iterrows())\n",
      "       if (i < j)\n",
      "       and a[0] == b[0]\n",
      "       and np.log2(fisher_exact_test(v1, v2)['odds_ratio']) > 4}\n",
      "hit_df = hit_df.ix[[i for i in hit_df.index if i not in s]] #to keep sorted order"
     ],
     "language": "python",
     "metadata": {},
     "outputs": [],
     "prompt_number": 42
    },
    {
     "cell_type": "heading",
     "level": 2,
     "metadata": {},
     "source": [
      "Looking for associations across data types"
     ]
    },
    {
     "cell_type": "markdown",
     "metadata": {},
     "source": [
      "There are 5 choose 2 = 10 different combinations of data-types.  We are looking for associations which can not be explained trivially, for example a copy number event associated with expression  of a nearby gene or mirna isn't very interesting. "
     ]
    },
    {
     "cell_type": "code",
     "collapsed": false,
     "input": [
      "hit_df.groupby(level=0).size()"
     ],
     "language": "python",
     "metadata": {},
     "outputs": [
      {
       "metadata": {},
       "output_type": "pyout",
       "prompt_number": 43,
       "text": [
        "clinical     4\n",
        "cna          4\n",
        "mirna        7\n",
        "mutation     4\n",
        "rna         28\n",
        "dtype: int64"
       ]
      }
     ],
     "prompt_number": 43
    },
    {
     "cell_type": "code",
     "collapsed": false,
     "input": [
      "import itertools as itertools"
     ],
     "language": "python",
     "metadata": {},
     "outputs": [],
     "prompt_number": 44
    },
    {
     "cell_type": "code",
     "collapsed": false,
     "input": [
      "fet= {}\n",
      "for dtypes in itertools.combinations(hit_df.index.levels[0], 2):\n",
      "    fet[dtypes] = pd.DataFrame({(a[1], b[1]): fisher_exact_test(v1, v2)\n",
      "                                for a, v1 in hit_df.iterrows()\n",
      "                                for b, v2 in hit_df.iterrows()\n",
      "                                if a[0] != b[0]\n",
      "                                if a[0] == dtypes[0]\n",
      "                                if b[0] == dtypes[1]}).T\n",
      "fet = pd.concat(fet)\n",
      "fet.index = pd.MultiIndex.from_tuples([(i[0], i[2][0], i[1], i[2][1]) for i in fet.index])\n",
      "fet['p bonf.'] = fet['p'] * len(fet)\n",
      "fet['PASS'] = (fet['p bonf.'] < .01)\n",
      "fet = fet.sort(['PASS','p'], ascending=[0,1])"
     ],
     "language": "python",
     "metadata": {},
     "outputs": [],
     "prompt_number": 45
    },
    {
     "cell_type": "code",
     "collapsed": false,
     "input": [
      "fet.to_csv('/cellar/users/agross/figures/supplemental_table2.csv', float_format='%.2e')"
     ],
     "language": "python",
     "metadata": {},
     "outputs": [],
     "prompt_number": 46
    },
    {
     "cell_type": "heading",
     "level": 3,
     "metadata": {},
     "source": [
      "Top hits across each data-type combination."
     ]
    },
    {
     "cell_type": "code",
     "collapsed": false,
     "input": [
      "f3 = fet.groupby(level=[0,2]).apply(lambda s: s.sort('p').head(1))\n",
      "f3.index = f3.index.droplevel([0,1])\n",
      "f3['p_corrected'] = f3['p'] * len(fet)\n",
      "f3.index = pd.MultiIndex.from_tuples([tuple((i.replace('_',' ') for i in s))\n",
      "                                      for s in f3.index])\n",
      "f3.sort('p')"
     ],
     "language": "python",
     "metadata": {},
     "outputs": [
      {
       "html": [
        "<div style=\"max-height:1000px;max-width:1500px;overflow:auto;\">\n",
        "<table border=\"1\" class=\"dataframe\">\n",
        "  <thead>\n",
        "    <tr style=\"text-align: right;\">\n",
        "      <th></th>\n",
        "      <th></th>\n",
        "      <th></th>\n",
        "      <th></th>\n",
        "      <th>odds_ratio</th>\n",
        "      <th>p</th>\n",
        "      <th>p bonf.</th>\n",
        "      <th>PASS</th>\n",
        "      <th>p_corrected</th>\n",
        "    </tr>\n",
        "  </thead>\n",
        "  <tbody>\n",
        "    <tr>\n",
        "      <th>cna</th>\n",
        "      <th>del 3p14.2</th>\n",
        "      <th>rna</th>\n",
        "      <th>BIOCARTA AKAP13 PATHWAY</th>\n",
        "      <td> 15.94</td>\n",
        "      <td> 4.53e-14</td>\n",
        "      <td> 3.01e-11</td>\n",
        "      <td>  True</td>\n",
        "      <td> 3.01e-11</td>\n",
        "    </tr>\n",
        "    <tr>\n",
        "      <th rowspan=\"2\" valign=\"top\">clinical</th>\n",
        "      <th rowspan=\"2\" valign=\"top\">smoker inferred</th>\n",
        "      <th>rna</th>\n",
        "      <th>SIG PIP3 SIGNALING IN B LYMPHOCYTES</th>\n",
        "      <td>  0.11</td>\n",
        "      <td> 3.32e-13</td>\n",
        "      <td> 2.21e-10</td>\n",
        "      <td>  True</td>\n",
        "      <td> 2.21e-10</td>\n",
        "    </tr>\n",
        "    <tr>\n",
        "      <th>cna</th>\n",
        "      <th>amp 7q21.3</th>\n",
        "      <td>  6.45</td>\n",
        "      <td> 4.71e-10</td>\n",
        "      <td> 3.13e-07</td>\n",
        "      <td>  True</td>\n",
        "      <td> 3.13e-07</td>\n",
        "    </tr>\n",
        "    <tr>\n",
        "      <th>mirna</th>\n",
        "      <th>hsa-mir-548k</th>\n",
        "      <th>rna</th>\n",
        "      <th>REACTOME PHOSPHOLIPASE CMEDIATED CASCADE</th>\n",
        "      <td>  0.15</td>\n",
        "      <td> 3.13e-08</td>\n",
        "      <td> 2.08e-05</td>\n",
        "      <td>  True</td>\n",
        "      <td> 2.08e-05</td>\n",
        "    </tr>\n",
        "    <tr>\n",
        "      <th>cna</th>\n",
        "      <th>del 3p14.2</th>\n",
        "      <th>mutation</th>\n",
        "      <th>TP53</th>\n",
        "      <td>  6.59</td>\n",
        "      <td> 3.56e-07</td>\n",
        "      <td> 2.36e-04</td>\n",
        "      <td>  True</td>\n",
        "      <td> 2.36e-04</td>\n",
        "    </tr>\n",
        "    <tr>\n",
        "      <th>mutation</th>\n",
        "      <th>TP53</th>\n",
        "      <th>rna</th>\n",
        "      <th>QARS</th>\n",
        "      <td>  0.17</td>\n",
        "      <td> 7.12e-07</td>\n",
        "      <td> 4.73e-04</td>\n",
        "      <td>  True</td>\n",
        "      <td> 4.73e-04</td>\n",
        "    </tr>\n",
        "    <tr>\n",
        "      <th>clinical</th>\n",
        "      <th>smoker inferred</th>\n",
        "      <th>mirna</th>\n",
        "      <th>hsa-mir-3170</th>\n",
        "      <td>  3.84</td>\n",
        "      <td> 1.01e-06</td>\n",
        "      <td> 6.72e-04</td>\n",
        "      <td>  True</td>\n",
        "      <td> 6.72e-04</td>\n",
        "    </tr>\n",
        "    <tr>\n",
        "      <th>cna</th>\n",
        "      <th>del 3p14.2</th>\n",
        "      <th>mirna</th>\n",
        "      <th>hsa-mir-3170</th>\n",
        "      <td>  5.43</td>\n",
        "      <td> 5.15e-06</td>\n",
        "      <td> 3.42e-03</td>\n",
        "      <td>  True</td>\n",
        "      <td> 3.42e-03</td>\n",
        "    </tr>\n",
        "    <tr>\n",
        "      <th>mirna</th>\n",
        "      <th>hsa-mir-3664</th>\n",
        "      <th>mutation</th>\n",
        "      <th>TP53</th>\n",
        "      <td>  4.42</td>\n",
        "      <td> 8.08e-03</td>\n",
        "      <td> 5.36e+00</td>\n",
        "      <td> False</td>\n",
        "      <td> 5.36e+00</td>\n",
        "    </tr>\n",
        "    <tr>\n",
        "      <th>clinical</th>\n",
        "      <th>year</th>\n",
        "      <th>mutation</th>\n",
        "      <th>BIOCARTA MAL PATHWAY</th>\n",
        "      <td>  4.18</td>\n",
        "      <td> 1.28e-02</td>\n",
        "      <td> 8.51e+00</td>\n",
        "      <td> False</td>\n",
        "      <td> 8.51e+00</td>\n",
        "    </tr>\n",
        "  </tbody>\n",
        "</table>\n",
        "<p>10 rows \u00d7 5 columns</p>\n",
        "</div>"
       ],
       "metadata": {},
       "output_type": "pyout",
       "prompt_number": 47,
       "text": [
        "                                                                            odds_ratio         p   p bonf.   PASS  p_corrected\n",
        "cna      del 3p14.2      rna      BIOCARTA AKAP13 PATHWAY                        15.94  4.53e-14  3.01e-11   True     3.01e-11\n",
        "clinical smoker inferred rna      SIG PIP3 SIGNALING IN B LYMPHOCYTES             0.11  3.32e-13  2.21e-10   True     2.21e-10\n",
        "                         cna      amp 7q21.3                                      6.45  4.71e-10  3.13e-07   True     3.13e-07\n",
        "mirna    hsa-mir-548k    rna      REACTOME PHOSPHOLIPASE CMEDIATED CASCADE        0.15  3.13e-08  2.08e-05   True     2.08e-05\n",
        "cna      del 3p14.2      mutation TP53                                            6.59  3.56e-07  2.36e-04   True     2.36e-04\n",
        "mutation TP53            rna      QARS                                            0.17  7.12e-07  4.73e-04   True     4.73e-04\n",
        "clinical smoker inferred mirna    hsa-mir-3170                                    3.84  1.01e-06  6.72e-04   True     6.72e-04\n",
        "cna      del 3p14.2      mirna    hsa-mir-3170                                    5.43  5.15e-06  3.42e-03   True     3.42e-03\n",
        "mirna    hsa-mir-3664    mutation TP53                                            4.42  8.08e-03  5.36e+00  False     5.36e+00\n",
        "clinical year            mutation BIOCARTA MAL PATHWAY                            4.18  1.28e-02  8.51e+00  False     8.51e+00\n",
        "\n",
        "[10 rows x 5 columns]"
       ]
      }
     ],
     "prompt_number": 47
    },
    {
     "cell_type": "markdown",
     "metadata": {},
     "source": [
      "3p14.2 Deletion is associated with change of the AKAP13 pathay.  Included is RHOA and PRKAR2A which are both on 3p. Not very interesting..."
     ]
    },
    {
     "cell_type": "code",
     "collapsed": false,
     "input": [
      "fig, axs = subplots(1,2, figsize=(10,4))\n",
      "violin_plot_pandas(df.ix['cna'].ix['del_3p14.2'], rna.pathways.ix['BIOCARTA_AKAP13_PATHWAY'], \n",
      "                   ax=axs[0])\n",
      "rna.loadings.ix['BIOCARTA_AKAP13_PATHWAY'].order().plot(kind='bar', ax=axs[1])\n",
      "for ax in axs:\n",
      "    prettify_ax(ax)"
     ],
     "language": "python",
     "metadata": {},
     "outputs": [
      {
       "metadata": {},
       "output_type": "display_data",
       "png": "[encoded data removed]",
       "text": [
        "<matplotlib.figure.Figure at 0x7f9cd6674850>"
       ]
      }
     ],
     "prompt_number": 48
    },
    {
     "cell_type": "markdown",
     "metadata": {},
     "source": [
      "Interesting trend between smoking and GAQ signaling, but looks more like a phenotype of smoking rather than having to do with tumor progression. "
     ]
    },
    {
     "cell_type": "code",
     "collapsed": false,
     "input": [
      "fig, axs = subplots(1,2, figsize=(10,4))\n",
      "violin_plot_pandas(clinical_processed['smoker'], \n",
      "                   rna.pathways.ix['SIG_PIP3_SIGNALING_IN_B_LYMPHOCYTES'], ax=axs[0])\n",
      "rna.loadings.ix['SIG_PIP3_SIGNALING_IN_B_LYMPHOCYTES'].order().plot(kind='bar', ax=axs[1])\n",
      "for ax in axs:\n",
      "    prettify_ax(ax)"
     ],
     "language": "python",
     "metadata": {},
     "outputs": [
      {
       "metadata": {},
       "output_type": "display_data",
       "png": "[encoded data removed]",
       "text": [
        "<matplotlib.figure.Figure at 0x8e8c7d0>"
       ]
      }
     ],
     "prompt_number": 49
    },
    {
     "cell_type": "markdown",
     "metadata": {},
     "source": [
      "<div id='p53_3p'>TP53 mutation seems to be highly overlapping with 3p14.2 deletion.</div>"
     ]
    },
    {
     "cell_type": "code",
     "collapsed": false,
     "input": [
      "venn_pandas(df.ix['mutation'].ix['TP53'], df.ix['cna'].ix['del_3p14.2']);"
     ],
     "language": "python",
     "metadata": {},
     "outputs": [
      {
       "metadata": {},
       "output_type": "display_data",
       "png": "[encoded data removed]",
       "text": [
        "<matplotlib.figure.Figure at 0xc3494d0>"
       ]
      }
     ],
     "prompt_number": 50
    },
    {
     "cell_type": "markdown",
     "metadata": {},
     "source": [
      "Adjusting for the test space we get a p-value of ~10<sup>-4</sup>."
     ]
    },
    {
     "cell_type": "code",
     "collapsed": false,
     "input": [
      "fisher_exact_test(df.ix['mutation'].ix['TP53'], df.ix['cna'].ix['del_3p14.2'])"
     ],
     "language": "python",
     "metadata": {},
     "outputs": [
      {
       "metadata": {},
       "output_type": "pyout",
       "prompt_number": 51,
       "text": [
        "odds_ratio    6.59e+00\n",
        "p             3.56e-07\n",
        "dtype: float64"
       ]
      }
     ],
     "prompt_number": 51
    },
    {
     "cell_type": "code",
     "collapsed": false,
     "input": [
      "fisher_exact_test(df.ix['mutation'].ix['TP53'], df.ix['cna'].ix['del_3p14.2']).p * len(fet)"
     ],
     "language": "python",
     "metadata": {},
     "outputs": [
      {
       "metadata": {},
       "output_type": "pyout",
       "prompt_number": 52,
       "text": [
        "0.00023647820009441015"
       ]
      }
     ],
     "prompt_number": 52
    },
    {
     "cell_type": "markdown",
     "metadata": {},
     "source": [
      "* We show here that 3p14.2 is highly overlapping with TP53 mutation\n",
      "* Does this have any implications towards prognosis?"
     ]
    },
    {
     "cell_type": "code",
     "collapsed": false,
     "input": [
      "combo = combine(df.ix['mutation'].ix['TP53'] > 0, df.ix['cna'].ix['del_3p14.2'])\n",
      "survival_and_stats(combo, clinical.survival.survival_5y, figsize=(6,4))"
     ],
     "language": "python",
     "metadata": {},
     "outputs": [
      {
       "metadata": {},
       "output_type": "display_data",
       "png": "[encoded data removed]",
       "text": [
        "<matplotlib.figure.Figure at 0x909f950>"
       ]
      }
     ],
     "prompt_number": 53
    },
    {
     "cell_type": "code",
     "collapsed": false,
     "input": [
      "get_surv_fit_lr(surv, combo)"
     ],
     "language": "python",
     "metadata": {},
     "outputs": [
      {
       "html": [
        "<div style=\"max-height:1000px;max-width:1500px;overflow:auto;\">\n",
        "<table border=\"1\" class=\"dataframe\">\n",
        "  <thead>\n",
        "    <tr>\n",
        "      <th></th>\n",
        "      <th colspan=\"2\" halign=\"left\">Stats</th>\n",
        "      <th colspan=\"3\" halign=\"left\">Median Survival</th>\n",
        "      <th colspan=\"3\" halign=\"left\">5y Survival</th>\n",
        "      <th colspan=\"2\" halign=\"left\">Log-Rank</th>\n",
        "    </tr>\n",
        "    <tr>\n",
        "      <th></th>\n",
        "      <th># Patients</th>\n",
        "      <th># Events</th>\n",
        "      <th>Median</th>\n",
        "      <th>Lower</th>\n",
        "      <th>Upper</th>\n",
        "      <th>Surv</th>\n",
        "      <th>Lower</th>\n",
        "      <th>Upper</th>\n",
        "      <th>chi2</th>\n",
        "      <th>p</th>\n",
        "    </tr>\n",
        "  </thead>\n",
        "  <tbody>\n",
        "    <tr>\n",
        "      <th></th>\n",
        "      <td>    </td>\n",
        "      <td>   </td>\n",
        "      <td>    </td>\n",
        "      <td>     </td>\n",
        "      <td>     </td>\n",
        "      <td>      </td>\n",
        "      <td>      </td>\n",
        "      <td>      </td>\n",
        "      <td> 19.3</td>\n",
        "      <td> 0.000236</td>\n",
        "    </tr>\n",
        "    <tr>\n",
        "      <th>both</th>\n",
        "      <td> 179</td>\n",
        "      <td> 87</td>\n",
        "      <td> 1.9</td>\n",
        "      <td>  1.5</td>\n",
        "      <td> 2.84</td>\n",
        "      <td> 0.339</td>\n",
        "      <td> 0.255</td>\n",
        "      <td>  0.45</td>\n",
        "      <td>     </td>\n",
        "      <td>         </td>\n",
        "    </tr>\n",
        "    <tr>\n",
        "      <th>del_3p14.2</th>\n",
        "      <td>  26</td>\n",
        "      <td>  7</td>\n",
        "      <td> NaN</td>\n",
        "      <td> 2.96</td>\n",
        "      <td>  NaN</td>\n",
        "      <td> 0.621</td>\n",
        "      <td> 0.419</td>\n",
        "      <td> 0.921</td>\n",
        "      <td>     </td>\n",
        "      <td>         </td>\n",
        "    </tr>\n",
        "    <tr>\n",
        "      <th>TP53</th>\n",
        "      <td>  23</td>\n",
        "      <td>  5</td>\n",
        "      <td> NaN</td>\n",
        "      <td> 4.49</td>\n",
        "      <td>  NaN</td>\n",
        "      <td>  0.62</td>\n",
        "      <td> 0.374</td>\n",
        "      <td>     1</td>\n",
        "      <td>     </td>\n",
        "      <td>         </td>\n",
        "    </tr>\n",
        "    <tr>\n",
        "      <th>neither</th>\n",
        "      <td>  22</td>\n",
        "      <td>  3</td>\n",
        "      <td> NaN</td>\n",
        "      <td> 4.71</td>\n",
        "      <td>  NaN</td>\n",
        "      <td> 0.709</td>\n",
        "      <td> 0.444</td>\n",
        "      <td>     1</td>\n",
        "      <td>     </td>\n",
        "      <td>         </td>\n",
        "    </tr>\n",
        "  </tbody>\n",
        "</table>\n",
        "<p>5 rows \u00d7 10 columns</p>\n",
        "</div>"
       ],
       "metadata": {},
       "output_type": "pyout",
       "prompt_number": 54,
       "text": [
        "                Stats          Median Survival             5y Survival               Log-Rank          \n",
        "           # Patients # Events          Median Lower Upper        Surv  Lower  Upper     chi2         p\n",
        "                                                                                         19.3  0.000236\n",
        "both              179       87             1.9   1.5  2.84       0.339  0.255   0.45                   \n",
        "del_3p14.2         26        7             NaN  2.96   NaN       0.621  0.419  0.921                   \n",
        "TP53               23        5             NaN  4.49   NaN        0.62  0.374      1                   \n",
        "neither            22        3             NaN  4.71   NaN       0.709  0.444      1                   \n",
        "\n",
        "[5 rows x 10 columns]"
       ]
      }
     ],
     "prompt_number": 54
    },
    {
     "cell_type": "markdown",
     "metadata": {},
     "source": [
      "<b>There is a lot of literature out there implicating TP53 with chromosomal instability... are we picking up an artifact of this?  </b>  \n",
      "\n",
      "* Short answer is no\n",
      "* Long answer is in <a href='copy_number_exploration.ipynb'>copy_number_exporation notebook</a>.\n"
     ]
    },
    {
     "cell_type": "code",
     "collapsed": false,
     "input": [
      "two_hit = combo == 'both'\n",
      "p53_mut = df.ix['mutation'].ix['TP53']\n",
      "del_3p = df.ix['cna'].ix['del_3p14.2']\n",
      "two_hit.name = 'TP53_3p'\n",
      "survival_and_stats(two_hit, surv)"
     ],
     "language": "python",
     "metadata": {},
     "outputs": [
      {
       "metadata": {},
       "output_type": "display_data",
       "png": "[encoded data removed]",
       "text": [
        "<matplotlib.figure.Figure at 0x935ce10>"
       ]
      }
     ],
     "prompt_number": 55
    },
    {
     "cell_type": "markdown",
     "metadata": {},
     "source": [
      "<div id='prog_interaction'>Although the prognostic effect of TP53 mutation in HNSCC has been well characterized, this aggregate event was significantly more predictive of survival than TP53 mutation alone.</div>"
     ]
    },
    {
     "cell_type": "code",
     "collapsed": false,
     "input": [
      "m1 = get_cox_ph(surv, two_hit, [age, old], interactions='None', print_desc=True)"
     ],
     "language": "python",
     "metadata": {},
     "outputs": [
      {
       "output_type": "stream",
       "stream": "stdout",
       "text": [
        "\n",
        "         coef exp(coef) se(coef)    z       p\n",
        "feature 1.203      3.33   0.2814 4.28 1.9e-05\n",
        "old     0.262      1.30   0.0873 3.00 2.7e-03\n",
        "\n",
        "Likelihood ratio test=29.1  on 2 df, p=4.9e-07  n= 250, number of events= 102 \n",
        "   (128 observations deleted due to missingness)\n",
        "\n"
       ]
      }
     ],
     "prompt_number": 56
    },
    {
     "cell_type": "code",
     "collapsed": false,
     "input": [
      "m2 = get_cox_ph(surv, p53_mut, [age, old], interactions='None', print_desc=True)"
     ],
     "language": "python",
     "metadata": {},
     "outputs": [
      {
       "output_type": "stream",
       "stream": "stdout",
       "text": [
        "\n",
        "        coef exp(coef) se(coef)    z      p\n",
        "feature 1.09      2.97    0.334 3.26 0.0011\n",
        "old     0.23      1.26    0.087 2.64 0.0082\n",
        "\n",
        "Likelihood ratio test=19.6  on 2 df, p=5.44e-05  n= 250, number of events= 102 \n",
        "   (128 observations deleted due to missingness)\n",
        "\n"
       ]
      }
     ],
     "prompt_number": 57
    },
    {
     "cell_type": "code",
     "collapsed": false,
     "input": [
      "LR_test(m1, m2, df=1)"
     ],
     "language": "python",
     "metadata": {},
     "outputs": [
      {
       "metadata": {},
       "output_type": "pyout",
       "prompt_number": 58,
       "text": [
        "0.0021463124501954031"
       ]
      }
     ],
     "prompt_number": 58
    },
    {
     "cell_type": "code",
     "collapsed": false,
     "input": [
      "m3 = get_cox_ph(surv, del_3p, [age, old], interactions='None', print_desc=True)"
     ],
     "language": "python",
     "metadata": {},
     "outputs": [
      {
       "output_type": "stream",
       "stream": "stdout",
       "text": [
        "\n",
        "         coef exp(coef) se(coef)    z       p\n",
        "feature 1.403      4.07   0.3726 3.76 0.00017\n",
        "old     0.294      1.34   0.0879 3.35 0.00082\n",
        "\n",
        "Likelihood ratio test=26.1  on 2 df, p=2.18e-06  n= 250, number of events= 102 \n",
        "   (128 observations deleted due to missingness)\n",
        "\n"
       ]
      }
     ],
     "prompt_number": 59
    },
    {
     "cell_type": "code",
     "collapsed": false,
     "input": [
      "LR_test(m1, m3, df=1)"
     ],
     "language": "python",
     "metadata": {},
     "outputs": [
      {
       "metadata": {},
       "output_type": "pyout",
       "prompt_number": 60,
       "text": [
        "0.084060129965569844"
       ]
      }
     ],
     "prompt_number": 60
    },
    {
     "cell_type": "code",
     "collapsed": false,
     "input": [
      "cox(two_hit.ix[true_index(p53_mut==1)].ix[ti(old==False)], surv)"
     ],
     "language": "python",
     "metadata": {},
     "outputs": [
      {
       "metadata": {},
       "output_type": "pyout",
       "prompt_number": 61,
       "text": [
        "hazard       exp(coef)      5.58\n",
        "             exp(-coef)     0.18\n",
        "             lower .95      1.37\n",
        "             upper .95     22.74\n",
        "LR           stat          10.37\n",
        "             df             1.00\n",
        "             p              0.00\n",
        "concordance  stat           0.55\n",
        "             se             0.02\n",
        "dtype: float64"
       ]
      }
     ],
     "prompt_number": 61
    },
    {
     "cell_type": "code",
     "collapsed": false,
     "input": [
      "test(two_hit.ix[true_index(p53_mut==1)], surv, [age, old])"
     ],
     "language": "python",
     "metadata": {},
     "outputs": [
      {
       "metadata": {},
       "output_type": "pyout",
       "prompt_number": 62,
       "text": [
        "LR                                       0.00239\n",
        "feature_p                                 0.0109\n",
        "fmla         Surv(days, event) ~ feature + old\\n\n",
        "hazzard                                     3.25\n",
        "dtype: object"
       ]
      }
     ],
     "prompt_number": 62
    },
    {
     "cell_type": "code",
     "collapsed": false,
     "input": [
      "test(two_hit.ix[true_index(del_3p==1)], surv, [age, old])"
     ],
     "language": "python",
     "metadata": {},
     "outputs": [
      {
       "metadata": {},
       "output_type": "pyout",
       "prompt_number": 63,
       "text": [
        "LR                                                      0.0186\n",
        "feature_p                                                 0.05\n",
        "fmla         Surv(days, event) ~ feature + old + feature:old\\n\n",
        "hazzard                                                   2.25\n",
        "dtype: object"
       ]
      }
     ],
     "prompt_number": 63
    },
    {
     "cell_type": "heading",
     "level": 2,
     "metadata": {},
     "source": [
      "Mutation Events Overlapping / Mutually Exclusive with TP53-3p"
     ]
    },
    {
     "cell_type": "code",
     "collapsed": false,
     "input": [
      "r = screen_feature(two_hit, fisher_exact_test, df.ix['mutation'])"
     ],
     "language": "python",
     "metadata": {},
     "outputs": [],
     "prompt_number": 64
    },
    {
     "cell_type": "code",
     "collapsed": false,
     "input": [
      "r.head()"
     ],
     "language": "python",
     "metadata": {},
     "outputs": [
      {
       "html": [
        "<div style=\"max-height:1000px;max-width:1500px;overflow:auto;\">\n",
        "<table border=\"1\" class=\"dataframe\">\n",
        "  <thead>\n",
        "    <tr style=\"text-align: right;\">\n",
        "      <th></th>\n",
        "      <th>odds_ratio</th>\n",
        "      <th>p</th>\n",
        "      <th>q</th>\n",
        "    </tr>\n",
        "  </thead>\n",
        "  <tbody>\n",
        "    <tr>\n",
        "      <th>TP53</th>\n",
        "      <td>  inf</td>\n",
        "      <td> 3.26e-34</td>\n",
        "      <td> 3.94e-32</td>\n",
        "    </tr>\n",
        "    <tr>\n",
        "      <th>KEGG_CELL_CYCLE</th>\n",
        "      <td>  inf</td>\n",
        "      <td> 2.92e-13</td>\n",
        "      <td> 1.77e-11</td>\n",
        "    </tr>\n",
        "    <tr>\n",
        "      <th>REACTOME_SOS_MEDIATED_SIGNALLING</th>\n",
        "      <td> 0.11</td>\n",
        "      <td> 2.50e-06</td>\n",
        "      <td> 1.01e-04</td>\n",
        "    </tr>\n",
        "    <tr>\n",
        "      <th>REACTOME_SHC_MEDIATED_SIGNALLING</th>\n",
        "      <td> 0.12</td>\n",
        "      <td> 7.72e-06</td>\n",
        "      <td> 2.34e-04</td>\n",
        "    </tr>\n",
        "    <tr>\n",
        "      <th>CASP8</th>\n",
        "      <td> 0.13</td>\n",
        "      <td> 2.32e-05</td>\n",
        "      <td> 5.61e-04</td>\n",
        "    </tr>\n",
        "  </tbody>\n",
        "</table>\n",
        "<p>5 rows \u00d7 3 columns</p>\n",
        "</div>"
       ],
       "metadata": {},
       "output_type": "pyout",
       "prompt_number": 65,
       "text": [
        "                                  odds_ratio         p         q\n",
        "TP53                                     inf  3.26e-34  3.94e-32\n",
        "KEGG_CELL_CYCLE                          inf  2.92e-13  1.77e-11\n",
        "REACTOME_SOS_MEDIATED_SIGNALLING        0.11  2.50e-06  1.01e-04\n",
        "REACTOME_SHC_MEDIATED_SIGNALLING        0.12  7.72e-06  2.34e-04\n",
        "CASP8                                   0.13  2.32e-05  5.61e-04\n",
        "\n",
        "[5 rows x 3 columns]"
       ]
      }
     ],
     "prompt_number": 65
    },
    {
     "cell_type": "code",
     "collapsed": false,
     "input": [
      "len(r)"
     ],
     "language": "python",
     "metadata": {},
     "outputs": [
      {
       "metadata": {},
       "output_type": "pyout",
       "prompt_number": 66,
       "text": [
        "121"
       ]
      }
     ],
     "prompt_number": 66
    },
    {
     "cell_type": "code",
     "collapsed": false,
     "input": [
      "r.ix['REACTOME_SOS_MEDIATED_SIGNALLING'].p * len(r)"
     ],
     "language": "python",
     "metadata": {},
     "outputs": [
      {
       "metadata": {},
       "output_type": "pyout",
       "prompt_number": 67,
       "text": [
        "0.00030230943613944141"
       ]
      }
     ],
     "prompt_number": 67
    },
    {
     "cell_type": "code",
     "collapsed": false,
     "input": [
      "r.ix['CASP8'].p * len(r)"
     ],
     "language": "python",
     "metadata": {},
     "outputs": [
      {
       "metadata": {},
       "output_type": "pyout",
       "prompt_number": 68,
       "text": [
        "0.0028054320178764786"
       ]
      }
     ],
     "prompt_number": 68
    }
   ],
   "metadata": {}
  }
 ]
}