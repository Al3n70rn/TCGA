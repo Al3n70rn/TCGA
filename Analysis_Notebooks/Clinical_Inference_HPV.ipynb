{
 "metadata": {
  "name": ""
 },
 "nbformat": 3,
 "nbformat_minor": 0,
 "worksheets": [
  {
   "cells": [
    {
     "cell_type": "markdown",
     "metadata": {},
     "source": [
      "<h1 class=\"alert alert-info\">HNSCC Cohort <small> <i class=\"icon-zoom-in\"></i> Predicting HPV Status</small></h1>"
     ]
    },
    {
     "cell_type": "markdown",
     "metadata": {},
     "source": [
      "#Contents\n",
      "<div id=\"toc\" style=\"max-height: 967px; display: block;\"><ol><li><a href=\"#Setup\">Setup</a></li><ol><li><a href=\"#Initialization\">Initialization</a></li><li><a href=\"#Read-in-Pre-processed-Data\">Read in Pre-processed Data</a></li><li><a href=\"#Update-patient-followup-based-on-most-recent-data-obtained-from-TCGA-Data-Portal\">Update patient followup based on most recent data obtained from TCGA Data-Portal</a></li></ol><li><a href=\"#Clinical-/-Sequencing-HPV-Status\">Clinical / Sequencing HPV Status</a></li><li><a href=\"#Infer-Missing-HPV-Calls\">Infer Missing HPV Calls</a></li><ol><li><a href=\"#Support-Vector-Inference\">Support Vector Inference</a></li><li><a href=\"#Infer-missing-HPV-status-from-mRNASeq-data\">Infer missing HPV status from mRNASeq data</a></li><li><a href=\"#Predict-remaining-patients-from-miRNA\">Predict remaining patients from miRNA</a></li></ol><li><a href=\"#Combine-HPV-predictions\">Combine HPV predictions</a></li><li><a href=\"#Re-calculate-of-meta-features-in-HPV--background\">Re-calculate of meta-features in HPV- background</a></li></ol></div>"
     ]
    },
    {
     "cell_type": "heading",
     "level": 1,
     "metadata": {},
     "source": [
      "Setup"
     ]
    },
    {
     "cell_type": "markdown",
     "metadata": {},
     "source": [
      "Style-Sheet\n",
      "\n",
      "<style>\n",
      "    @font-face {\n",
      "        font-family: \"Computer Modern\";\n",
      "        src: url('http://mirrors.ctan.org/fonts/cm-unicode/fonts/otf/cmunss.otf');\n",
      "    }\n",
      "    div.cell{\n",
      "        width:900px;\n",
      "        margin-left:auto;\n",
      "        margin-right:auto;\n",
      "    }\n",
      "    h1, h2, h3, h4 {\n",
      "        font-family: Helvetica, serif;\n",
      "        color: #000000;\n",
      "    }\n",
      "    div.text_cell_render{\n",
      "        font-family: Computer Modern, \"Helvetica Neue\", Arial, Helvetica, Geneva, sans-serif;\n",
      "        line-height: 125%;\n",
      "        font-size: 115%;\n",
      "        color: #4d4d4d;\n",
      "        width:800px;\n",
      "        margin-left:0px;\n",
      "        margin-right:auto;\n",
      "    }\n",
      "    \n",
      "    .warning{\n",
      "        color: rgb( 240, 20, 20 )\n",
      "        }  \n",
      "</style>"
     ]
    },
    {
     "cell_type": "heading",
     "level": 2,
     "metadata": {},
     "source": [
      "Initialization"
     ]
    },
    {
     "cell_type": "code",
     "collapsed": false,
     "input": [
      "cd ../src"
     ],
     "language": "python",
     "metadata": {},
     "outputs": [
      {
       "output_type": "stream",
       "stream": "stdout",
       "text": [
        "/cellar/users/agross/TCGA_Code/TCGA/src\n"
       ]
      }
     ],
     "prompt_number": 2
    },
    {
     "cell_type": "code",
     "collapsed": false,
     "input": [
      "from Processing.Imports import *"
     ],
     "language": "python",
     "metadata": {},
     "outputs": [],
     "prompt_number": 3
    },
    {
     "cell_type": "heading",
     "level": 2,
     "metadata": {},
     "source": [
      "Read in Pre-processed Data"
     ]
    },
    {
     "cell_type": "code",
     "collapsed": false,
     "input": [
      "params = pd.read_table('../global_params.txt', header=None, squeeze=True, \n",
      "                       index_col=0)"
     ],
     "language": "python",
     "metadata": {},
     "outputs": [],
     "prompt_number": 7
    },
    {
     "cell_type": "code",
     "collapsed": false,
     "input": [
      "run_path  = '{}/Firehose__{}/'.format(params.ix['OUT_PATH'], params.ix['RUN_DATE'])\n",
      "run = get_run(run_path, 'Run_' + params.ix['VERSION'])\n",
      "cancer = run.load_cancer(params.ix['CANCER'])\n",
      "clinical = cancer.load_clinical()\n",
      "\n",
      "mut = cancer.load_data('Mutation')\n",
      "mut.uncompress()\n",
      "cn = cancer.load_data('CN_broad')\n",
      "cn.uncompress()\n",
      "\n",
      "rna = cancer.load_data('mRNASeq')\n",
      "mirna = cancer.load_data('miRNASeq')\n",
      "rppa = cancer.load_data('RPPA')\n",
      "#meth = cancer.load_data('Methylation')"
     ],
     "language": "python",
     "metadata": {},
     "outputs": [],
     "prompt_number": 8
    },
    {
     "cell_type": "heading",
     "level": 2,
     "metadata": {},
     "source": [
      "Update patient followup based on most recent data obtained from TCGA Data-Portal "
     ]
    },
    {
     "cell_type": "markdown",
     "metadata": {},
     "source": [
      "* Downloaded from [here](https://tcga-data.nci.nih.gov/tcgafiles/ftp_auth/distro_ftpusers/anonymous/tumor/hnsc/bcr/biotab/clin/)  \n",
      "* I'm including this as a static file because the clinical data is not versioned on the Data-Portal\n",
      "* Contains updated followup on patient outcomes"
     ]
    },
    {
     "cell_type": "code",
     "collapsed": false,
     "input": [
      "from Data.ProcessClinicalDataPortal import update_clinical_object\n",
      "\n",
      "path  = '../Extra_Data/HNSC_Followup/'\n",
      "clinical = update_clinical_object(clinical, path)\n",
      "age = clinical.timeline.age\n",
      "surv = clinical.survival.survival_5y"
     ],
     "language": "python",
     "metadata": {},
     "outputs": [],
     "prompt_number": 9
    },
    {
     "cell_type": "heading",
     "level": 1,
     "metadata": {},
     "source": [
      "Clinical / Sequencing HPV Status"
     ]
    },
    {
     "cell_type": "markdown",
     "metadata": {},
     "source": [
      "####This file contains the HPV calls from analysis of the sequencing reads \n",
      "* This was obtained from Neil Hayes in March \n",
      "* This should probably be made public with the TCGA marker paper, if not I need to obtain permission to publish it"
     ]
    },
    {
     "cell_type": "code",
     "collapsed": false,
     "input": [
      "hpv_all = pd.read_csv('../Extra_Data/hpv_summary_3_20_13_distribute.csv', index_col=0)\n",
      "hpv = hpv_all.Molecular_HPV.map({0:'HPV-', 1:'HPV+'})\n",
      "hpv.name = 'HPV'\n",
      "hpv_seq = hpv"
     ],
     "language": "python",
     "metadata": {},
     "outputs": [],
     "prompt_number": 10
    },
    {
     "cell_type": "code",
     "collapsed": false,
     "input": [
      "hpv.value_counts()"
     ],
     "language": "python",
     "metadata": {},
     "outputs": [
      {
       "metadata": {},
       "output_type": "pyout",
       "prompt_number": 11,
       "text": [
        "HPV-    244\n",
        "HPV+     35\n",
        "dtype: int64"
       ]
      }
     ],
     "prompt_number": 11
    },
    {
     "cell_type": "markdown",
     "metadata": {},
     "source": [
      "####Here I process the clinical HPV marker tests \n",
      "* If either the p16 or the ish testing is positive I call the patient HPV+ \n",
      "* I first use the molecular testing and then fill in the patient with their clinical biomarkers if they do not have sequencing data available"
     ]
    },
    {
     "cell_type": "code",
     "collapsed": false,
     "input": [
      "status = clinical.clinical[['hpvstatusbyishtesting','hpvstatusbyp16testing']]\n",
      "hpv_clin = (status.dropna(how='all') == 'Positive').sum(1) > 0\n",
      "hpv = hpv.ix[true_index(hpv_clin).union(hpv.index)].fillna('HPV+')\n",
      "\n",
      "neg = (status.dropna(how='all') != 'Positive').sum(1) == 2\n",
      "neg = true_index(combine(neg, hpv.ix[neg.index].isnull()) == 'both')\n",
      "for i in neg:\n",
      "    hpv = hpv.set_value(i, 'HPV-')"
     ],
     "language": "python",
     "metadata": {},
     "outputs": [],
     "prompt_number": 12
    },
    {
     "cell_type": "code",
     "collapsed": false,
     "input": [
      "status = clinical.clinical[['hpvstatusbyishtesting','hpvstatusbyp16testing']]\n",
      "hpv_clin = (status.dropna() == 'Positive').sum(1)\n",
      "hpv_clin = hpv_clin.map({2: 'HPV+', 0:'HPV-', 1:nan}).dropna()"
     ],
     "language": "python",
     "metadata": {},
     "outputs": [],
     "prompt_number": 13
    },
    {
     "cell_type": "code",
     "collapsed": false,
     "input": [
      "hpv_clin.value_counts()"
     ],
     "language": "python",
     "metadata": {},
     "outputs": [
      {
       "metadata": {},
       "output_type": "pyout",
       "prompt_number": 14,
       "text": [
        "HPV-    72\n",
        "HPV+     7\n",
        "dtype: int64"
       ]
      }
     ],
     "prompt_number": 14
    },
    {
     "cell_type": "code",
     "collapsed": false,
     "input": [
      "singles = status[status.isin(['Negative','Positive']).sum(1) == 1]\n",
      "(singles == 'Positive').sum(1).value_counts()"
     ],
     "language": "python",
     "metadata": {},
     "outputs": [
      {
       "metadata": {},
       "output_type": "pyout",
       "prompt_number": 15,
       "text": [
        "1    10\n",
        "0    10\n",
        "dtype: int64"
       ]
      }
     ],
     "prompt_number": 15
    },
    {
     "cell_type": "heading",
     "level": 1,
     "metadata": {},
     "source": [
      "Infer Missing HPV Calls"
     ]
    },
    {
     "cell_type": "heading",
     "level": 2,
     "metadata": {},
     "source": [
      "Support Vector Inference "
     ]
    },
    {
     "cell_type": "markdown",
     "metadata": {},
     "source": [
      "* Using [SVC](http://scikit-learn.org/stable/modules/generated/sklearn.svm.SVC.html) function from [Scikit Learn Package](http://scikit-learn.org/stable/) \n",
      "* Features are the binarized differential expression vectors  \n",
      "  * Have high change in expression from tumor to normal \n",
      "  * Thresholded at 1 standard deviation over the mean to reduce overfitting\n",
      "* Parameters are fit using cross validation, optimizing for AUC score \n",
      "  * I try linear, RBF, and polynomial kernels under a variety of parameters \n",
      "  * The best model in cross validation is fit on the entire dataset \n",
      "* Missing values are filled in based on the model prediction"
     ]
    },
    {
     "cell_type": "code",
     "collapsed": false,
     "input": [
      "from Stats.Classification import SVC_fill"
     ],
     "language": "python",
     "metadata": {},
     "outputs": [],
     "prompt_number": 16
    },
    {
     "cell_type": "heading",
     "level": 2,
     "metadata": {},
     "source": [
      "Infer missing HPV status from mRNASeq data"
     ]
    },
    {
     "cell_type": "code",
     "collapsed": false,
     "input": [
      "ret = SVC_fill(hpv_seq=='HPV+', rna.features.ix['real'], test_size=.3)\n",
      "ret['auc']"
     ],
     "language": "python",
     "metadata": {},
     "outputs": [
      {
       "metadata": {},
       "output_type": "pyout",
       "prompt_number": 17,
       "text": [
        "0.98207885304659504"
       ]
      }
     ],
     "prompt_number": 17
    },
    {
     "cell_type": "code",
     "collapsed": false,
     "input": [
      "fun = ret['decision_function']\n",
      "violin_plot_pandas(hpv, fun, ann=None)"
     ],
     "language": "python",
     "metadata": {},
     "outputs": [
      {
       "metadata": {},
       "output_type": "display_data",
       "png": "[encoded data removed]",
       "text": [
        "<matplotlib.figure.Figure at 0xbfef710>"
       ]
      }
     ],
     "prompt_number": 18
    },
    {
     "cell_type": "markdown",
     "metadata": {},
     "source": [
      "* It looks like we have one patient mis-classified as HPV-\n",
      "* CR-6467\n",
      "  * 40 reads mapping to HPV33, and high expression of p16\n",
      "  * WGS is pending, will probably find more reads "
     ]
    },
    {
     "cell_type": "code",
     "collapsed": false,
     "input": [
      "m = true_index(combine(hpv.dropna()=='HPV-', ret['decision_function'] > 0) == 'both')\n",
      "hpv_all.ix[m].dropna(how='all', axis=1).T"
     ],
     "language": "python",
     "metadata": {},
     "outputs": [
      {
       "html": [
        "<div style=\"max-height:1000px;max-width:1500px;overflow:auto;\">\n",
        "<table border=\"1\" class=\"dataframe\">\n",
        "  <thead>\n",
        "    <tr style=\"text-align: right;\">\n",
        "      <th></th>\n",
        "      <th>TCGA-BB-4224</th>\n",
        "      <th>TCGA-CR-6467</th>\n",
        "    </tr>\n",
        "  </thead>\n",
        "  <tbody>\n",
        "    <tr>\n",
        "      <th>Tumor_Site</th>\n",
        "      <td> Oral Tongue</td>\n",
        "      <td>            Tonsil</td>\n",
        "    </tr>\n",
        "    <tr>\n",
        "      <th>Clinical_HPVSite_Indicator</th>\n",
        "      <td>           0</td>\n",
        "      <td>                 1</td>\n",
        "    </tr>\n",
        "    <tr>\n",
        "      <th>Clinical_HPV_Interpretation</th>\n",
        "      <td>    negative</td>\n",
        "      <td>           Missing</td>\n",
        "    </tr>\n",
        "    <tr>\n",
        "      <th>Molecular_HPV</th>\n",
        "      <td>           0</td>\n",
        "      <td>                 0</td>\n",
        "    </tr>\n",
        "    <tr>\n",
        "      <th>Clinical_Staining</th>\n",
        "      <td>     Missing</td>\n",
        "      <td>           Missing</td>\n",
        "    </tr>\n",
        "    <tr>\n",
        "      <th>Harvard_HPV.LowPass.Done</th>\n",
        "      <td>           0</td>\n",
        "      <td>               NaN</td>\n",
        "    </tr>\n",
        "    <tr>\n",
        "      <th>WGS_Baylor</th>\n",
        "      <td>         NaN</td>\n",
        "      <td>        1, pending</td>\n",
        "    </tr>\n",
        "    <tr>\n",
        "      <th>Broad.Exome</th>\n",
        "      <td>           0</td>\n",
        "      <td>                 1</td>\n",
        "    </tr>\n",
        "    <tr>\n",
        "      <th>Broad.Exome.HPV16</th>\n",
        "      <td>           0</td>\n",
        "      <td>                 0</td>\n",
        "    </tr>\n",
        "    <tr>\n",
        "      <th>Broad.Exome.HPV33</th>\n",
        "      <td>           0</td>\n",
        "      <td>                40</td>\n",
        "    </tr>\n",
        "    <tr>\n",
        "      <th>Broad.Exome.HPV35</th>\n",
        "      <td>           0</td>\n",
        "      <td>                 0</td>\n",
        "    </tr>\n",
        "    <tr>\n",
        "      <th>RNA_type_16</th>\n",
        "      <td>           1</td>\n",
        "      <td>                 0</td>\n",
        "    </tr>\n",
        "    <tr>\n",
        "      <th>RNA_type_18</th>\n",
        "      <td>           0</td>\n",
        "      <td>                 0</td>\n",
        "    </tr>\n",
        "    <tr>\n",
        "      <th>RNA_type_2</th>\n",
        "      <td>           0</td>\n",
        "      <td>                 0</td>\n",
        "    </tr>\n",
        "    <tr>\n",
        "      <th>RNA_type_33</th>\n",
        "      <td>           0</td>\n",
        "      <td>                 0</td>\n",
        "    </tr>\n",
        "    <tr>\n",
        "      <th>RNA_type_35</th>\n",
        "      <td>           0</td>\n",
        "      <td>                 0</td>\n",
        "    </tr>\n",
        "    <tr>\n",
        "      <th>maxSequencingSource</th>\n",
        "      <td> RNA_type_16</td>\n",
        "      <td> Broad.Exome.HPV33</td>\n",
        "    </tr>\n",
        "    <tr>\n",
        "      <th>maxSequencingCount</th>\n",
        "      <td>           1</td>\n",
        "      <td>                40</td>\n",
        "    </tr>\n",
        "  </tbody>\n",
        "</table>\n",
        "<p>18 rows \u00d7 2 columns</p>\n",
        "</div>"
       ],
       "metadata": {},
       "output_type": "pyout",
       "prompt_number": 19,
       "text": [
        "                            TCGA-BB-4224       TCGA-CR-6467\n",
        "Tumor_Site                   Oral Tongue             Tonsil\n",
        "Clinical_HPVSite_Indicator             0                  1\n",
        "Clinical_HPV_Interpretation     negative            Missing\n",
        "Molecular_HPV                          0                  0\n",
        "Clinical_Staining                Missing            Missing\n",
        "Harvard_HPV.LowPass.Done               0                NaN\n",
        "WGS_Baylor                           NaN         1, pending\n",
        "Broad.Exome                            0                  1\n",
        "Broad.Exome.HPV16                      0                  0\n",
        "Broad.Exome.HPV33                      0                 40\n",
        "Broad.Exome.HPV35                      0                  0\n",
        "RNA_type_16                            1                  0\n",
        "RNA_type_18                            0                  0\n",
        "RNA_type_2                             0                  0\n",
        "RNA_type_33                            0                  0\n",
        "RNA_type_35                            0                  0\n",
        "maxSequencingSource          RNA_type_16  Broad.Exome.HPV33\n",
        "maxSequencingCount                     1                 40\n",
        "\n",
        "[18 rows x 2 columns]"
       ]
      }
     ],
     "prompt_number": 19
    },
    {
     "cell_type": "markdown",
     "metadata": {},
     "source": [
      "* We have 3 patients that seem to be mis-classified as HPV+ \n",
      "* Two have had sequencing and have viral reads \n",
      "* Could these be viral infected patients with an aggresive disease? "
     ]
    },
    {
     "cell_type": "code",
     "collapsed": false,
     "input": [
      "m = true_index(combine(hpv.dropna()=='HPV+', ret['decision_function'] < 0) == 'both')\n",
      "hpv_all.ix[m].dropna(how='all', axis=1).T"
     ],
     "language": "python",
     "metadata": {},
     "outputs": [
      {
       "html": [
        "<div style=\"max-height:1000px;max-width:1500px;overflow:auto;\">\n",
        "<table border=\"1\" class=\"dataframe\">\n",
        "  <thead>\n",
        "    <tr style=\"text-align: right;\">\n",
        "      <th></th>\n",
        "      <th>TCGA-BB-7872</th>\n",
        "      <th>TCGA-CV-5971</th>\n",
        "      <th>TCGA-CV-6961</th>\n",
        "      <th>TCGA-CV-7406</th>\n",
        "      <th>TCGA-DQ-7595</th>\n",
        "    </tr>\n",
        "  </thead>\n",
        "  <tbody>\n",
        "    <tr>\n",
        "      <th>Tumor_Site</th>\n",
        "      <td> NaN</td>\n",
        "      <td> Oral Tongue</td>\n",
        "      <td> Oral Tongue</td>\n",
        "      <td> Base of Tongue</td>\n",
        "      <td> NaN</td>\n",
        "    </tr>\n",
        "    <tr>\n",
        "      <th>Clinical_HPVSite_Indicator</th>\n",
        "      <td> NaN</td>\n",
        "      <td>           0</td>\n",
        "      <td>           0</td>\n",
        "      <td>              1</td>\n",
        "      <td> NaN</td>\n",
        "    </tr>\n",
        "    <tr>\n",
        "      <th>Clinical_HPV_Interpretation</th>\n",
        "      <td> NaN</td>\n",
        "      <td>    negative</td>\n",
        "      <td>    negative</td>\n",
        "      <td>        Missing</td>\n",
        "      <td> NaN</td>\n",
        "    </tr>\n",
        "    <tr>\n",
        "      <th>Molecular_HPV</th>\n",
        "      <td> NaN</td>\n",
        "      <td>           1</td>\n",
        "      <td>           1</td>\n",
        "      <td>              1</td>\n",
        "      <td> NaN</td>\n",
        "    </tr>\n",
        "    <tr>\n",
        "      <th>Clinical_Staining</th>\n",
        "      <td> NaN</td>\n",
        "      <td>           1</td>\n",
        "      <td>           1</td>\n",
        "      <td>        Missing</td>\n",
        "      <td> NaN</td>\n",
        "    </tr>\n",
        "    <tr>\n",
        "      <th>p16_OUTSIDE_BCR_Update</th>\n",
        "      <td> NaN</td>\n",
        "      <td>           1</td>\n",
        "      <td>           1</td>\n",
        "      <td>            NaN</td>\n",
        "      <td> NaN</td>\n",
        "    </tr>\n",
        "    <tr>\n",
        "      <th>Harvard_HPV.LowPass.Done</th>\n",
        "      <td> NaN</td>\n",
        "      <td>           1</td>\n",
        "      <td>         NaN</td>\n",
        "      <td>            NaN</td>\n",
        "      <td> NaN</td>\n",
        "    </tr>\n",
        "    <tr>\n",
        "      <th>LowPassHarvard.Strain</th>\n",
        "      <td> NaN</td>\n",
        "      <td>       hpv16</td>\n",
        "      <td>         NaN</td>\n",
        "      <td>            NaN</td>\n",
        "      <td> NaN</td>\n",
        "    </tr>\n",
        "    <tr>\n",
        "      <th>LowPassHarvard.Call</th>\n",
        "      <td> NaN</td>\n",
        "      <td>    definite</td>\n",
        "      <td>         NaN</td>\n",
        "      <td>            NaN</td>\n",
        "      <td> NaN</td>\n",
        "    </tr>\n",
        "    <tr>\n",
        "      <th>WGS_Broad</th>\n",
        "      <td> NaN</td>\n",
        "      <td>         NaN</td>\n",
        "      <td>           1</td>\n",
        "      <td>            NaN</td>\n",
        "      <td> NaN</td>\n",
        "    </tr>\n",
        "    <tr>\n",
        "      <th>WGS_HPV16</th>\n",
        "      <td> NaN</td>\n",
        "      <td>         NaN</td>\n",
        "      <td>    8.81e+03</td>\n",
        "      <td>            NaN</td>\n",
        "      <td> NaN</td>\n",
        "    </tr>\n",
        "    <tr>\n",
        "      <th>WGS_HPV33</th>\n",
        "      <td> NaN</td>\n",
        "      <td>         NaN</td>\n",
        "      <td>           0</td>\n",
        "      <td>            NaN</td>\n",
        "      <td> NaN</td>\n",
        "    </tr>\n",
        "    <tr>\n",
        "      <th>Broad.Exome</th>\n",
        "      <td> NaN</td>\n",
        "      <td>           1</td>\n",
        "      <td>           1</td>\n",
        "      <td>              0</td>\n",
        "      <td> NaN</td>\n",
        "    </tr>\n",
        "    <tr>\n",
        "      <th>Broad.Exome.HPV16</th>\n",
        "      <td> NaN</td>\n",
        "      <td>           3</td>\n",
        "      <td>          13</td>\n",
        "      <td>              0</td>\n",
        "      <td> NaN</td>\n",
        "    </tr>\n",
        "    <tr>\n",
        "      <th>Broad.Exome.HPV33</th>\n",
        "      <td> NaN</td>\n",
        "      <td>           0</td>\n",
        "      <td>           0</td>\n",
        "      <td>              0</td>\n",
        "      <td> NaN</td>\n",
        "    </tr>\n",
        "    <tr>\n",
        "      <th>Broad.Exome.HPV35</th>\n",
        "      <td> NaN</td>\n",
        "      <td>           0</td>\n",
        "      <td>           0</td>\n",
        "      <td>              0</td>\n",
        "      <td> NaN</td>\n",
        "    </tr>\n",
        "    <tr>\n",
        "      <th>RNA_type_16</th>\n",
        "      <td> NaN</td>\n",
        "      <td>    1.99e+03</td>\n",
        "      <td>    1.45e+04</td>\n",
        "      <td>       1.86e+03</td>\n",
        "      <td> NaN</td>\n",
        "    </tr>\n",
        "    <tr>\n",
        "      <th>RNA_type_18</th>\n",
        "      <td> NaN</td>\n",
        "      <td>           0</td>\n",
        "      <td>           0</td>\n",
        "      <td>              0</td>\n",
        "      <td> NaN</td>\n",
        "    </tr>\n",
        "    <tr>\n",
        "      <th>RNA_type_2</th>\n",
        "      <td> NaN</td>\n",
        "      <td>           0</td>\n",
        "      <td>           0</td>\n",
        "      <td>              0</td>\n",
        "      <td> NaN</td>\n",
        "    </tr>\n",
        "    <tr>\n",
        "      <th>RNA_type_33</th>\n",
        "      <td> NaN</td>\n",
        "      <td>           0</td>\n",
        "      <td>           0</td>\n",
        "      <td>              0</td>\n",
        "      <td> NaN</td>\n",
        "    </tr>\n",
        "    <tr>\n",
        "      <th>RNA_type_35</th>\n",
        "      <td> NaN</td>\n",
        "      <td>           0</td>\n",
        "      <td>           0</td>\n",
        "      <td>              0</td>\n",
        "      <td> NaN</td>\n",
        "    </tr>\n",
        "    <tr>\n",
        "      <th>maxSequencingSource</th>\n",
        "      <td> NaN</td>\n",
        "      <td> RNA_type_16</td>\n",
        "      <td> RNA_type_16</td>\n",
        "      <td>    RNA_type_16</td>\n",
        "      <td> NaN</td>\n",
        "    </tr>\n",
        "    <tr>\n",
        "      <th>maxSequencingCount</th>\n",
        "      <td> NaN</td>\n",
        "      <td>    1.99e+03</td>\n",
        "      <td>    1.45e+04</td>\n",
        "      <td>       1.86e+03</td>\n",
        "      <td> NaN</td>\n",
        "    </tr>\n",
        "  </tbody>\n",
        "</table>\n",
        "<p>23 rows \u00d7 5 columns</p>\n",
        "</div>"
       ],
       "metadata": {},
       "output_type": "pyout",
       "prompt_number": 20,
       "text": [
        "                            TCGA-BB-7872 TCGA-CV-5971 TCGA-CV-6961    TCGA-CV-7406 TCGA-DQ-7595\n",
        "Tumor_Site                           NaN  Oral Tongue  Oral Tongue  Base of Tongue          NaN\n",
        "Clinical_HPVSite_Indicator           NaN            0            0               1          NaN\n",
        "Clinical_HPV_Interpretation          NaN     negative     negative         Missing          NaN\n",
        "Molecular_HPV                        NaN            1            1               1          NaN\n",
        "Clinical_Staining                    NaN            1            1         Missing          NaN\n",
        "p16_OUTSIDE_BCR_Update               NaN            1            1             NaN          NaN\n",
        "Harvard_HPV.LowPass.Done             NaN            1          NaN             NaN          NaN\n",
        "LowPassHarvard.Strain                NaN        hpv16          NaN             NaN          NaN\n",
        "LowPassHarvard.Call                  NaN     definite          NaN             NaN          NaN\n",
        "WGS_Broad                            NaN          NaN            1             NaN          NaN\n",
        "WGS_HPV16                            NaN          NaN     8.81e+03             NaN          NaN\n",
        "WGS_HPV33                            NaN          NaN            0             NaN          NaN\n",
        "Broad.Exome                          NaN            1            1               0          NaN\n",
        "Broad.Exome.HPV16                    NaN            3           13               0          NaN\n",
        "Broad.Exome.HPV33                    NaN            0            0               0          NaN\n",
        "Broad.Exome.HPV35                    NaN            0            0               0          NaN\n",
        "RNA_type_16                          NaN     1.99e+03     1.45e+04        1.86e+03          NaN\n",
        "RNA_type_18                          NaN            0            0               0          NaN\n",
        "RNA_type_2                           NaN            0            0               0          NaN\n",
        "RNA_type_33                          NaN            0            0               0          NaN\n",
        "RNA_type_35                          NaN            0            0               0          NaN\n",
        "maxSequencingSource                  NaN  RNA_type_16  RNA_type_16     RNA_type_16          NaN\n",
        "maxSequencingCount                   NaN     1.99e+03     1.45e+04        1.86e+03          NaN\n",
        "\n",
        "[23 rows x 5 columns]"
       ]
      }
     ],
     "prompt_number": 20
    },
    {
     "cell_type": "markdown",
     "metadata": {},
     "source": [
      "* These mis-classifications seem to behave more like the expression classifier than the Clinical/Sequencing classifier.  \n",
      "* We really can't say whether this is due to diffences among HPV infected cancers, or if its just due to mis-classification"
     ]
    },
    {
     "cell_type": "code",
     "collapsed": false,
     "input": [
      "survival_and_stats(combine(hpv.dropna()=='HPV+', ret['decision_function'] > 0), surv)"
     ],
     "language": "python",
     "metadata": {},
     "outputs": [
      {
       "metadata": {},
       "output_type": "display_data",
       "png": "[encoded data removed]",
       "text": [
        "<matplotlib.figure.Figure at 0x8d53ad0>"
       ]
      }
     ],
     "prompt_number": 22
    },
    {
     "cell_type": "markdown",
     "metadata": {},
     "source": [
      "* For now, we'll use the Clinical/Sequencing calls and only infer HPV calls with no data"
     ]
    },
    {
     "cell_type": "code",
     "collapsed": false,
     "input": [
      "hpv_inferred = ret['filled_feature']\n",
      "hpv_inferred = (hpv_inferred == 1).combine_first(hpv=='HPV+')"
     ],
     "language": "python",
     "metadata": {},
     "outputs": [],
     "prompt_number": 23
    },
    {
     "cell_type": "code",
     "collapsed": false,
     "input": [
      "get_surv_fit_lr(surv, hpv_inferred)"
     ],
     "language": "python",
     "metadata": {},
     "outputs": [
      {
       "html": [
        "<div style=\"max-height:1000px;max-width:1500px;overflow:auto;\">\n",
        "<table border=\"1\" class=\"dataframe\">\n",
        "  <thead>\n",
        "    <tr>\n",
        "      <th></th>\n",
        "      <th colspan=\"2\" halign=\"left\">Stats</th>\n",
        "      <th colspan=\"3\" halign=\"left\">Median Survival</th>\n",
        "      <th colspan=\"3\" halign=\"left\">5y Survival</th>\n",
        "      <th colspan=\"2\" halign=\"left\">Log-Rank</th>\n",
        "    </tr>\n",
        "    <tr>\n",
        "      <th></th>\n",
        "      <th># Patients</th>\n",
        "      <th># Events</th>\n",
        "      <th>Median</th>\n",
        "      <th>Lower</th>\n",
        "      <th>Upper</th>\n",
        "      <th>Surv</th>\n",
        "      <th>Lower</th>\n",
        "      <th>Upper</th>\n",
        "      <th>chi2</th>\n",
        "      <th>p</th>\n",
        "    </tr>\n",
        "  </thead>\n",
        "  <tbody>\n",
        "    <tr>\n",
        "      <th></th>\n",
        "      <td>    </td>\n",
        "      <td>    </td>\n",
        "      <td>     </td>\n",
        "      <td>     </td>\n",
        "      <td>    </td>\n",
        "      <td>      </td>\n",
        "      <td>      </td>\n",
        "      <td>      </td>\n",
        "      <td> 9.75</td>\n",
        "      <td> 0.00179</td>\n",
        "    </tr>\n",
        "    <tr>\n",
        "      <th>0</th>\n",
        "      <td> 291</td>\n",
        "      <td> 113</td>\n",
        "      <td> 2.84</td>\n",
        "      <td> 2.16</td>\n",
        "      <td> NaN</td>\n",
        "      <td> 0.417</td>\n",
        "      <td> 0.341</td>\n",
        "      <td> 0.511</td>\n",
        "      <td>     </td>\n",
        "      <td>        </td>\n",
        "    </tr>\n",
        "    <tr>\n",
        "      <th>1</th>\n",
        "      <td>  46</td>\n",
        "      <td>   8</td>\n",
        "      <td> 4.82</td>\n",
        "      <td> 4.79</td>\n",
        "      <td> NaN</td>\n",
        "      <td>   0.5</td>\n",
        "      <td> 0.269</td>\n",
        "      <td> 0.928</td>\n",
        "      <td>     </td>\n",
        "      <td>        </td>\n",
        "    </tr>\n",
        "  </tbody>\n",
        "</table>\n",
        "<p>3 rows \u00d7 10 columns</p>\n",
        "</div>"
       ],
       "metadata": {},
       "output_type": "pyout",
       "prompt_number": 24,
       "text": [
        "       Stats          Median Survival             5y Survival               Log-Rank         \n",
        "  # Patients # Events          Median Lower Upper        Surv  Lower  Upper     chi2        p\n",
        "                                                                                9.75  0.00179\n",
        "0        291      113            2.84  2.16   NaN       0.417  0.341  0.511                  \n",
        "1         46        8            4.82  4.79   NaN         0.5  0.269  0.928                  \n",
        "\n",
        "[3 rows x 10 columns]"
       ]
      }
     ],
     "prompt_number": 24
    },
    {
     "cell_type": "code",
     "collapsed": false,
     "input": [
      "survival_and_stats(hpv_inferred, surv)"
     ],
     "language": "python",
     "metadata": {},
     "outputs": [
      {
       "metadata": {},
       "output_type": "display_data",
       "png": "[encoded data removed]",
       "text": [
        "<matplotlib.figure.Figure at 0xc05ee50>"
       ]
      }
     ],
     "prompt_number": 25
    },
    {
     "cell_type": "heading",
     "level": 2,
     "metadata": {},
     "source": [
      "Predict remaining patients from miRNA "
     ]
    },
    {
     "cell_type": "markdown",
     "metadata": {},
     "source": [
      "* There are a few patients left who don't have mRNA data but do have miRNA \n",
      "* We will assign them using miRNA data"
     ]
    },
    {
     "cell_type": "code",
     "collapsed": false,
     "input": [
      "ret = SVC_fill(hpv_seq=='HPV+', mirna.features)\n",
      "ret['auc']"
     ],
     "language": "python",
     "metadata": {},
     "outputs": [
      {
       "metadata": {},
       "output_type": "pyout",
       "prompt_number": 26,
       "text": [
        "0.96415770609318996"
       ]
      }
     ],
     "prompt_number": 26
    },
    {
     "cell_type": "code",
     "collapsed": false,
     "input": [
      "fun = ret['decision_function']\n",
      "violin_plot_pandas(hpv, fun, ann=None)"
     ],
     "language": "python",
     "metadata": {},
     "outputs": [
      {
       "metadata": {},
       "output_type": "display_data",
       "png": "[encoded data removed]",
       "text": [
        "<matplotlib.figure.Figure at 0x91aaa10>"
       ]
      }
     ],
     "prompt_number": 27
    },
    {
     "cell_type": "code",
     "collapsed": false,
     "input": [
      "m = true_index(combine(hpv_inferred==0, ret['decision_function'] > 0) == 'both')\n",
      "hpv_all.ix[m].dropna(how='all', axis=1).T"
     ],
     "language": "python",
     "metadata": {},
     "outputs": [
      {
       "html": [
        "<div style=\"max-height:1000px;max-width:1500px;overflow:auto;\">\n",
        "<table border=\"1\" class=\"dataframe\">\n",
        "  <thead>\n",
        "    <tr style=\"text-align: right;\">\n",
        "      <th></th>\n",
        "      <th>TCGA-BA-4078</th>\n",
        "      <th>TCGA-BB-8601</th>\n",
        "      <th>TCGA-CN-4735</th>\n",
        "      <th>TCGA-CR-6467</th>\n",
        "      <th>TCGA-CR-7402</th>\n",
        "    </tr>\n",
        "  </thead>\n",
        "  <tbody>\n",
        "    <tr>\n",
        "      <th>Tumor_Site</th>\n",
        "      <td>      Larynx</td>\n",
        "      <td> NaN</td>\n",
        "      <td>   Larynx</td>\n",
        "      <td>            Tonsil</td>\n",
        "      <td>      Larynx</td>\n",
        "    </tr>\n",
        "    <tr>\n",
        "      <th>Clinical_HPVSite_Indicator</th>\n",
        "      <td>           0</td>\n",
        "      <td> NaN</td>\n",
        "      <td>        0</td>\n",
        "      <td>                 1</td>\n",
        "      <td>           0</td>\n",
        "    </tr>\n",
        "    <tr>\n",
        "      <th>Clinical_HPV_Interpretation</th>\n",
        "      <td>    negative</td>\n",
        "      <td> NaN</td>\n",
        "      <td> negative</td>\n",
        "      <td>           Missing</td>\n",
        "      <td>    negative</td>\n",
        "    </tr>\n",
        "    <tr>\n",
        "      <th>Molecular_HPV</th>\n",
        "      <td>           0</td>\n",
        "      <td> NaN</td>\n",
        "      <td>        0</td>\n",
        "      <td>                 0</td>\n",
        "      <td>           0</td>\n",
        "    </tr>\n",
        "    <tr>\n",
        "      <th>Clinical_Staining</th>\n",
        "      <td>           0</td>\n",
        "      <td> NaN</td>\n",
        "      <td>        0</td>\n",
        "      <td>           Missing</td>\n",
        "      <td>     Missing</td>\n",
        "    </tr>\n",
        "    <tr>\n",
        "      <th>ISH_BCR.DCC</th>\n",
        "      <td>         NaN</td>\n",
        "      <td> NaN</td>\n",
        "      <td>        0</td>\n",
        "      <td>               NaN</td>\n",
        "      <td>         NaN</td>\n",
        "    </tr>\n",
        "    <tr>\n",
        "      <th>p16_BCR.DCC</th>\n",
        "      <td>         NaN</td>\n",
        "      <td> NaN</td>\n",
        "      <td>        0</td>\n",
        "      <td>               NaN</td>\n",
        "      <td>         NaN</td>\n",
        "    </tr>\n",
        "    <tr>\n",
        "      <th>p16_OUTSIDE_BCR_Update</th>\n",
        "      <td>           0</td>\n",
        "      <td> NaN</td>\n",
        "      <td>      NaN</td>\n",
        "      <td>               NaN</td>\n",
        "      <td>         NaN</td>\n",
        "    </tr>\n",
        "    <tr>\n",
        "      <th>Harvard_HPV.LowPass.Done</th>\n",
        "      <td>           0</td>\n",
        "      <td> NaN</td>\n",
        "      <td>        0</td>\n",
        "      <td>               NaN</td>\n",
        "      <td>         NaN</td>\n",
        "    </tr>\n",
        "    <tr>\n",
        "      <th>WGS_Baylor</th>\n",
        "      <td>         NaN</td>\n",
        "      <td> NaN</td>\n",
        "      <td>      NaN</td>\n",
        "      <td>        1, pending</td>\n",
        "      <td>         NaN</td>\n",
        "    </tr>\n",
        "    <tr>\n",
        "      <th>Broad.Exome</th>\n",
        "      <td>           0</td>\n",
        "      <td> NaN</td>\n",
        "      <td>        0</td>\n",
        "      <td>                 1</td>\n",
        "      <td>           0</td>\n",
        "    </tr>\n",
        "    <tr>\n",
        "      <th>Broad.Exome.HPV16</th>\n",
        "      <td>           0</td>\n",
        "      <td> NaN</td>\n",
        "      <td>        0</td>\n",
        "      <td>                 0</td>\n",
        "      <td>           0</td>\n",
        "    </tr>\n",
        "    <tr>\n",
        "      <th>Broad.Exome.HPV33</th>\n",
        "      <td>           0</td>\n",
        "      <td> NaN</td>\n",
        "      <td>        0</td>\n",
        "      <td>                40</td>\n",
        "      <td>           0</td>\n",
        "    </tr>\n",
        "    <tr>\n",
        "      <th>Broad.Exome.HPV35</th>\n",
        "      <td>           0</td>\n",
        "      <td> NaN</td>\n",
        "      <td>        0</td>\n",
        "      <td>                 0</td>\n",
        "      <td>           0</td>\n",
        "    </tr>\n",
        "    <tr>\n",
        "      <th>RNA_type_16</th>\n",
        "      <td>           0</td>\n",
        "      <td> NaN</td>\n",
        "      <td>        0</td>\n",
        "      <td>                 0</td>\n",
        "      <td>           0</td>\n",
        "    </tr>\n",
        "    <tr>\n",
        "      <th>RNA_type_18</th>\n",
        "      <td>           6</td>\n",
        "      <td> NaN</td>\n",
        "      <td>        0</td>\n",
        "      <td>                 0</td>\n",
        "      <td>           2</td>\n",
        "    </tr>\n",
        "    <tr>\n",
        "      <th>RNA_type_2</th>\n",
        "      <td>           0</td>\n",
        "      <td> NaN</td>\n",
        "      <td>        0</td>\n",
        "      <td>                 0</td>\n",
        "      <td>           0</td>\n",
        "    </tr>\n",
        "    <tr>\n",
        "      <th>RNA_type_33</th>\n",
        "      <td>           2</td>\n",
        "      <td> NaN</td>\n",
        "      <td>        0</td>\n",
        "      <td>                 0</td>\n",
        "      <td>           0</td>\n",
        "    </tr>\n",
        "    <tr>\n",
        "      <th>RNA_type_35</th>\n",
        "      <td>           0</td>\n",
        "      <td> NaN</td>\n",
        "      <td>        0</td>\n",
        "      <td>                 0</td>\n",
        "      <td>           0</td>\n",
        "    </tr>\n",
        "    <tr>\n",
        "      <th>maxSequencingSource</th>\n",
        "      <td> RNA_type_18</td>\n",
        "      <td> NaN</td>\n",
        "      <td>      NaN</td>\n",
        "      <td> Broad.Exome.HPV33</td>\n",
        "      <td> RNA_type_18</td>\n",
        "    </tr>\n",
        "    <tr>\n",
        "      <th>maxSequencingCount</th>\n",
        "      <td>           6</td>\n",
        "      <td> NaN</td>\n",
        "      <td>        0</td>\n",
        "      <td>                40</td>\n",
        "      <td>           2</td>\n",
        "    </tr>\n",
        "  </tbody>\n",
        "</table>\n",
        "<p>21 rows \u00d7 5 columns</p>\n",
        "</div>"
       ],
       "metadata": {},
       "output_type": "pyout",
       "prompt_number": 28,
       "text": [
        "                            TCGA-BA-4078 TCGA-BB-8601 TCGA-CN-4735       TCGA-CR-6467 TCGA-CR-7402\n",
        "Tumor_Site                        Larynx          NaN       Larynx             Tonsil       Larynx\n",
        "Clinical_HPVSite_Indicator             0          NaN            0                  1            0\n",
        "Clinical_HPV_Interpretation     negative          NaN     negative            Missing     negative\n",
        "Molecular_HPV                          0          NaN            0                  0            0\n",
        "Clinical_Staining                      0          NaN            0            Missing      Missing\n",
        "ISH_BCR.DCC                          NaN          NaN            0                NaN          NaN\n",
        "p16_BCR.DCC                          NaN          NaN            0                NaN          NaN\n",
        "p16_OUTSIDE_BCR_Update                 0          NaN          NaN                NaN          NaN\n",
        "Harvard_HPV.LowPass.Done               0          NaN            0                NaN          NaN\n",
        "WGS_Baylor                           NaN          NaN          NaN         1, pending          NaN\n",
        "Broad.Exome                            0          NaN            0                  1            0\n",
        "Broad.Exome.HPV16                      0          NaN            0                  0            0\n",
        "Broad.Exome.HPV33                      0          NaN            0                 40            0\n",
        "Broad.Exome.HPV35                      0          NaN            0                  0            0\n",
        "RNA_type_16                            0          NaN            0                  0            0\n",
        "RNA_type_18                            6          NaN            0                  0            2\n",
        "RNA_type_2                             0          NaN            0                  0            0\n",
        "RNA_type_33                            2          NaN            0                  0            0\n",
        "RNA_type_35                            0          NaN            0                  0            0\n",
        "maxSequencingSource          RNA_type_18          NaN          NaN  Broad.Exome.HPV33  RNA_type_18\n",
        "maxSequencingCount                     6          NaN            0                 40            2\n",
        "\n",
        "[21 rows x 5 columns]"
       ]
      }
     ],
     "prompt_number": 28
    },
    {
     "cell_type": "code",
     "collapsed": false,
     "input": [
      "m = true_index(combine(hpv_inferred==1, ret['decision_function'] < 0) == 'both')\n",
      "hpv_all.ix[m].dropna(how='all', axis=1).T"
     ],
     "language": "python",
     "metadata": {},
     "outputs": [
      {
       "html": [
        "<div style=\"max-height:1000px;max-width:1500px;overflow:auto;\">\n",
        "<table border=\"1\" class=\"dataframe\">\n",
        "  <thead>\n",
        "    <tr style=\"text-align: right;\">\n",
        "      <th></th>\n",
        "      <th>TCGA-BB-7864</th>\n",
        "      <th>TCGA-BB-7870</th>\n",
        "      <th>TCGA-CR-6471</th>\n",
        "      <th>TCGA-CV-5971</th>\n",
        "      <th>TCGA-CV-6961</th>\n",
        "      <th>TCGA-CV-7100</th>\n",
        "      <th>TCGA-CV-7406</th>\n",
        "      <th>TCGA-DQ-7593</th>\n",
        "      <th>TCGA-DQ-7594</th>\n",
        "      <th>TCGA-HD-7832</th>\n",
        "      <th>TCGA-HL-7533</th>\n",
        "    </tr>\n",
        "  </thead>\n",
        "  <tbody>\n",
        "    <tr>\n",
        "      <th>Tumor_Site</th>\n",
        "      <td> NaN</td>\n",
        "      <td> NaN</td>\n",
        "      <td> Oral Cavity</td>\n",
        "      <td> Oral Tongue</td>\n",
        "      <td> Oral Tongue</td>\n",
        "      <td> Oral Cavity</td>\n",
        "      <td> Base of Tongue</td>\n",
        "      <td> NaN</td>\n",
        "      <td> NaN</td>\n",
        "      <td> Floor of Mouth</td>\n",
        "      <td> NaN</td>\n",
        "    </tr>\n",
        "    <tr>\n",
        "      <th>Clinical_HPVSite_Indicator</th>\n",
        "      <td> NaN</td>\n",
        "      <td> NaN</td>\n",
        "      <td>           0</td>\n",
        "      <td>           0</td>\n",
        "      <td>           0</td>\n",
        "      <td>           0</td>\n",
        "      <td>              1</td>\n",
        "      <td> NaN</td>\n",
        "      <td> NaN</td>\n",
        "      <td>              0</td>\n",
        "      <td> NaN</td>\n",
        "    </tr>\n",
        "    <tr>\n",
        "      <th>Clinical_HPV_Interpretation</th>\n",
        "      <td> NaN</td>\n",
        "      <td> NaN</td>\n",
        "      <td>    negative</td>\n",
        "      <td>    negative</td>\n",
        "      <td>    negative</td>\n",
        "      <td>    negative</td>\n",
        "      <td>        Missing</td>\n",
        "      <td> NaN</td>\n",
        "      <td> NaN</td>\n",
        "      <td>       negative</td>\n",
        "      <td> NaN</td>\n",
        "    </tr>\n",
        "    <tr>\n",
        "      <th>Molecular_HPV</th>\n",
        "      <td> NaN</td>\n",
        "      <td> NaN</td>\n",
        "      <td>           1</td>\n",
        "      <td>           1</td>\n",
        "      <td>           1</td>\n",
        "      <td>           1</td>\n",
        "      <td>              1</td>\n",
        "      <td> NaN</td>\n",
        "      <td> NaN</td>\n",
        "      <td>              1</td>\n",
        "      <td> NaN</td>\n",
        "    </tr>\n",
        "    <tr>\n",
        "      <th>Clinical_Staining</th>\n",
        "      <td> NaN</td>\n",
        "      <td> NaN</td>\n",
        "      <td>     Missing</td>\n",
        "      <td>           1</td>\n",
        "      <td>           1</td>\n",
        "      <td>           1</td>\n",
        "      <td>        Missing</td>\n",
        "      <td> NaN</td>\n",
        "      <td> NaN</td>\n",
        "      <td>        Missing</td>\n",
        "      <td> NaN</td>\n",
        "    </tr>\n",
        "    <tr>\n",
        "      <th>p16_OUTSIDE_BCR_Update</th>\n",
        "      <td> NaN</td>\n",
        "      <td> NaN</td>\n",
        "      <td>         NaN</td>\n",
        "      <td>           1</td>\n",
        "      <td>           1</td>\n",
        "      <td>           1</td>\n",
        "      <td>            NaN</td>\n",
        "      <td> NaN</td>\n",
        "      <td> NaN</td>\n",
        "      <td>            NaN</td>\n",
        "      <td> NaN</td>\n",
        "    </tr>\n",
        "    <tr>\n",
        "      <th>Harvard_HPV.LowPass.Done</th>\n",
        "      <td> NaN</td>\n",
        "      <td> NaN</td>\n",
        "      <td>         NaN</td>\n",
        "      <td>           1</td>\n",
        "      <td>         NaN</td>\n",
        "      <td>         NaN</td>\n",
        "      <td>            NaN</td>\n",
        "      <td> NaN</td>\n",
        "      <td> NaN</td>\n",
        "      <td>            NaN</td>\n",
        "      <td> NaN</td>\n",
        "    </tr>\n",
        "    <tr>\n",
        "      <th>LowPassHarvard.Strain</th>\n",
        "      <td> NaN</td>\n",
        "      <td> NaN</td>\n",
        "      <td>         NaN</td>\n",
        "      <td>       hpv16</td>\n",
        "      <td>         NaN</td>\n",
        "      <td>         NaN</td>\n",
        "      <td>            NaN</td>\n",
        "      <td> NaN</td>\n",
        "      <td> NaN</td>\n",
        "      <td>            NaN</td>\n",
        "      <td> NaN</td>\n",
        "    </tr>\n",
        "    <tr>\n",
        "      <th>LowPassHarvard.Call</th>\n",
        "      <td> NaN</td>\n",
        "      <td> NaN</td>\n",
        "      <td>         NaN</td>\n",
        "      <td>    definite</td>\n",
        "      <td>         NaN</td>\n",
        "      <td>         NaN</td>\n",
        "      <td>            NaN</td>\n",
        "      <td> NaN</td>\n",
        "      <td> NaN</td>\n",
        "      <td>            NaN</td>\n",
        "      <td> NaN</td>\n",
        "    </tr>\n",
        "    <tr>\n",
        "      <th>WGS_Broad</th>\n",
        "      <td> NaN</td>\n",
        "      <td> NaN</td>\n",
        "      <td>         NaN</td>\n",
        "      <td>         NaN</td>\n",
        "      <td>           1</td>\n",
        "      <td>           1</td>\n",
        "      <td>            NaN</td>\n",
        "      <td> NaN</td>\n",
        "      <td> NaN</td>\n",
        "      <td>            NaN</td>\n",
        "      <td> NaN</td>\n",
        "    </tr>\n",
        "    <tr>\n",
        "      <th>WGS_HPV16</th>\n",
        "      <td> NaN</td>\n",
        "      <td> NaN</td>\n",
        "      <td>         NaN</td>\n",
        "      <td>         NaN</td>\n",
        "      <td>    8.81e+03</td>\n",
        "      <td>           0</td>\n",
        "      <td>            NaN</td>\n",
        "      <td> NaN</td>\n",
        "      <td> NaN</td>\n",
        "      <td>            NaN</td>\n",
        "      <td> NaN</td>\n",
        "    </tr>\n",
        "    <tr>\n",
        "      <th>WGS_HPV33</th>\n",
        "      <td> NaN</td>\n",
        "      <td> NaN</td>\n",
        "      <td>         NaN</td>\n",
        "      <td>         NaN</td>\n",
        "      <td>           0</td>\n",
        "      <td>    2.25e+04</td>\n",
        "      <td>            NaN</td>\n",
        "      <td> NaN</td>\n",
        "      <td> NaN</td>\n",
        "      <td>            NaN</td>\n",
        "      <td> NaN</td>\n",
        "    </tr>\n",
        "    <tr>\n",
        "      <th>Broad.Exome</th>\n",
        "      <td> NaN</td>\n",
        "      <td> NaN</td>\n",
        "      <td>           1</td>\n",
        "      <td>           1</td>\n",
        "      <td>           1</td>\n",
        "      <td>           1</td>\n",
        "      <td>              0</td>\n",
        "      <td> NaN</td>\n",
        "      <td> NaN</td>\n",
        "      <td>              0</td>\n",
        "      <td> NaN</td>\n",
        "    </tr>\n",
        "    <tr>\n",
        "      <th>Broad.Exome.HPV16</th>\n",
        "      <td> NaN</td>\n",
        "      <td> NaN</td>\n",
        "      <td>           0</td>\n",
        "      <td>           3</td>\n",
        "      <td>          13</td>\n",
        "      <td>           0</td>\n",
        "      <td>              0</td>\n",
        "      <td> NaN</td>\n",
        "      <td> NaN</td>\n",
        "      <td>              0</td>\n",
        "      <td> NaN</td>\n",
        "    </tr>\n",
        "    <tr>\n",
        "      <th>Broad.Exome.HPV33</th>\n",
        "      <td> NaN</td>\n",
        "      <td> NaN</td>\n",
        "      <td>           1</td>\n",
        "      <td>           0</td>\n",
        "      <td>           0</td>\n",
        "      <td>          64</td>\n",
        "      <td>              0</td>\n",
        "      <td> NaN</td>\n",
        "      <td> NaN</td>\n",
        "      <td>              0</td>\n",
        "      <td> NaN</td>\n",
        "    </tr>\n",
        "    <tr>\n",
        "      <th>Broad.Exome.HPV35</th>\n",
        "      <td> NaN</td>\n",
        "      <td> NaN</td>\n",
        "      <td>           0</td>\n",
        "      <td>           0</td>\n",
        "      <td>           0</td>\n",
        "      <td>           0</td>\n",
        "      <td>              0</td>\n",
        "      <td> NaN</td>\n",
        "      <td> NaN</td>\n",
        "      <td>              0</td>\n",
        "      <td> NaN</td>\n",
        "    </tr>\n",
        "    <tr>\n",
        "      <th>RNA_type_16</th>\n",
        "      <td> NaN</td>\n",
        "      <td> NaN</td>\n",
        "      <td>           0</td>\n",
        "      <td>    1.99e+03</td>\n",
        "      <td>    1.45e+04</td>\n",
        "      <td>           0</td>\n",
        "      <td>       1.86e+03</td>\n",
        "      <td> NaN</td>\n",
        "      <td> NaN</td>\n",
        "      <td>              0</td>\n",
        "      <td> NaN</td>\n",
        "    </tr>\n",
        "    <tr>\n",
        "      <th>RNA_type_18</th>\n",
        "      <td> NaN</td>\n",
        "      <td> NaN</td>\n",
        "      <td>           0</td>\n",
        "      <td>           0</td>\n",
        "      <td>           0</td>\n",
        "      <td>           0</td>\n",
        "      <td>              0</td>\n",
        "      <td> NaN</td>\n",
        "      <td> NaN</td>\n",
        "      <td>              0</td>\n",
        "      <td> NaN</td>\n",
        "    </tr>\n",
        "    <tr>\n",
        "      <th>RNA_type_2</th>\n",
        "      <td> NaN</td>\n",
        "      <td> NaN</td>\n",
        "      <td>           0</td>\n",
        "      <td>           0</td>\n",
        "      <td>           0</td>\n",
        "      <td>           0</td>\n",
        "      <td>              0</td>\n",
        "      <td> NaN</td>\n",
        "      <td> NaN</td>\n",
        "      <td>              0</td>\n",
        "      <td> NaN</td>\n",
        "    </tr>\n",
        "    <tr>\n",
        "      <th>RNA_type_33</th>\n",
        "      <td> NaN</td>\n",
        "      <td> NaN</td>\n",
        "      <td>    7.85e+04</td>\n",
        "      <td>           0</td>\n",
        "      <td>           0</td>\n",
        "      <td>    1.48e+04</td>\n",
        "      <td>              0</td>\n",
        "      <td> NaN</td>\n",
        "      <td> NaN</td>\n",
        "      <td>       1.58e+04</td>\n",
        "      <td> NaN</td>\n",
        "    </tr>\n",
        "    <tr>\n",
        "      <th>RNA_type_35</th>\n",
        "      <td> NaN</td>\n",
        "      <td> NaN</td>\n",
        "      <td>           0</td>\n",
        "      <td>           0</td>\n",
        "      <td>           0</td>\n",
        "      <td>           0</td>\n",
        "      <td>              0</td>\n",
        "      <td> NaN</td>\n",
        "      <td> NaN</td>\n",
        "      <td>              0</td>\n",
        "      <td> NaN</td>\n",
        "    </tr>\n",
        "    <tr>\n",
        "      <th>maxSequencingSource</th>\n",
        "      <td> NaN</td>\n",
        "      <td> NaN</td>\n",
        "      <td> RNA_type_33</td>\n",
        "      <td> RNA_type_16</td>\n",
        "      <td> RNA_type_16</td>\n",
        "      <td>   WGS_HPV33</td>\n",
        "      <td>    RNA_type_16</td>\n",
        "      <td> NaN</td>\n",
        "      <td> NaN</td>\n",
        "      <td>    RNA_type_33</td>\n",
        "      <td> NaN</td>\n",
        "    </tr>\n",
        "    <tr>\n",
        "      <th>maxSequencingCount</th>\n",
        "      <td> NaN</td>\n",
        "      <td> NaN</td>\n",
        "      <td>    7.85e+04</td>\n",
        "      <td>    1.99e+03</td>\n",
        "      <td>    1.45e+04</td>\n",
        "      <td>    2.25e+04</td>\n",
        "      <td>       1.86e+03</td>\n",
        "      <td> NaN</td>\n",
        "      <td> NaN</td>\n",
        "      <td>       1.58e+04</td>\n",
        "      <td> NaN</td>\n",
        "    </tr>\n",
        "  </tbody>\n",
        "</table>\n",
        "<p>23 rows \u00d7 11 columns</p>\n",
        "</div>"
       ],
       "metadata": {},
       "output_type": "pyout",
       "prompt_number": 29,
       "text": [
        "                            TCGA-BB-7864 TCGA-BB-7870 TCGA-CR-6471 TCGA-CV-5971 TCGA-CV-6961 TCGA-CV-7100    TCGA-CV-7406 TCGA-DQ-7593 TCGA-DQ-7594    TCGA-HD-7832 TCGA-HL-7533\n",
        "Tumor_Site                           NaN          NaN  Oral Cavity  Oral Tongue  Oral Tongue  Oral Cavity  Base of Tongue          NaN          NaN  Floor of Mouth          NaN\n",
        "Clinical_HPVSite_Indicator           NaN          NaN            0            0            0            0               1          NaN          NaN               0          NaN\n",
        "Clinical_HPV_Interpretation          NaN          NaN     negative     negative     negative     negative         Missing          NaN          NaN        negative          NaN\n",
        "Molecular_HPV                        NaN          NaN            1            1            1            1               1          NaN          NaN               1          NaN\n",
        "Clinical_Staining                    NaN          NaN      Missing            1            1            1         Missing          NaN          NaN         Missing          NaN\n",
        "p16_OUTSIDE_BCR_Update               NaN          NaN          NaN            1            1            1             NaN          NaN          NaN             NaN          NaN\n",
        "Harvard_HPV.LowPass.Done             NaN          NaN          NaN            1          NaN          NaN             NaN          NaN          NaN             NaN          NaN\n",
        "LowPassHarvard.Strain                NaN          NaN          NaN        hpv16          NaN          NaN             NaN          NaN          NaN             NaN          NaN\n",
        "LowPassHarvard.Call                  NaN          NaN          NaN     definite          NaN          NaN             NaN          NaN          NaN             NaN          NaN\n",
        "WGS_Broad                            NaN          NaN          NaN          NaN            1            1             NaN          NaN          NaN             NaN          NaN\n",
        "WGS_HPV16                            NaN          NaN          NaN          NaN     8.81e+03            0             NaN          NaN          NaN             NaN          NaN\n",
        "WGS_HPV33                            NaN          NaN          NaN          NaN            0     2.25e+04             NaN          NaN          NaN             NaN          NaN\n",
        "Broad.Exome                          NaN          NaN            1            1            1            1               0          NaN          NaN               0          NaN\n",
        "Broad.Exome.HPV16                    NaN          NaN            0            3           13            0               0          NaN          NaN               0          NaN\n",
        "Broad.Exome.HPV33                    NaN          NaN            1            0            0           64               0          NaN          NaN               0          NaN\n",
        "Broad.Exome.HPV35                    NaN          NaN            0            0            0            0               0          NaN          NaN               0          NaN\n",
        "RNA_type_16                          NaN          NaN            0     1.99e+03     1.45e+04            0        1.86e+03          NaN          NaN               0          NaN\n",
        "RNA_type_18                          NaN          NaN            0            0            0            0               0          NaN          NaN               0          NaN\n",
        "RNA_type_2                           NaN          NaN            0            0            0            0               0          NaN          NaN               0          NaN\n",
        "RNA_type_33                          NaN          NaN     7.85e+04            0            0     1.48e+04               0          NaN          NaN        1.58e+04          NaN\n",
        "RNA_type_35                          NaN          NaN            0            0            0            0               0          NaN          NaN               0          NaN\n",
        "maxSequencingSource                  NaN          NaN  RNA_type_33  RNA_type_16  RNA_type_16    WGS_HPV33     RNA_type_16          NaN          NaN     RNA_type_33          NaN\n",
        "maxSequencingCount                   NaN          NaN     7.85e+04     1.99e+03     1.45e+04     2.25e+04        1.86e+03          NaN          NaN        1.58e+04          NaN\n",
        "\n",
        "[23 rows x 11 columns]"
       ]
      }
     ],
     "prompt_number": 29
    },
    {
     "cell_type": "code",
     "collapsed": false,
     "input": [
      "hpv_inferred2 = ret['filled_feature']\n",
      "hpv_inferred2 = (hpv_inferred2 == 1).combine_first(hpv_inferred==1)\n",
      "hpv_inferred2.name = 'hpv_inferred2'"
     ],
     "language": "python",
     "metadata": {},
     "outputs": [],
     "prompt_number": 62
    },
    {
     "cell_type": "code",
     "collapsed": false,
     "input": [
      "get_surv_fit_lr(surv, hpv_inferred2)"
     ],
     "language": "python",
     "metadata": {},
     "outputs": [
      {
       "html": [
        "<div style=\"max-height:1000px;max-width:1500px;overflow:auto;\">\n",
        "<table border=\"1\" class=\"dataframe\">\n",
        "  <thead>\n",
        "    <tr>\n",
        "      <th></th>\n",
        "      <th colspan=\"2\" halign=\"left\">Stats</th>\n",
        "      <th colspan=\"3\" halign=\"left\">Median Survival</th>\n",
        "      <th colspan=\"3\" halign=\"left\">5y Survival</th>\n",
        "      <th colspan=\"2\" halign=\"left\">Log-Rank</th>\n",
        "    </tr>\n",
        "    <tr>\n",
        "      <th></th>\n",
        "      <th># Patients</th>\n",
        "      <th># Events</th>\n",
        "      <th>Median</th>\n",
        "      <th>Lower</th>\n",
        "      <th>Upper</th>\n",
        "      <th>Surv</th>\n",
        "      <th>Lower</th>\n",
        "      <th>Upper</th>\n",
        "      <th>chi2</th>\n",
        "      <th>p</th>\n",
        "    </tr>\n",
        "  </thead>\n",
        "  <tbody>\n",
        "    <tr>\n",
        "      <th></th>\n",
        "      <td>    </td>\n",
        "      <td>    </td>\n",
        "      <td>     </td>\n",
        "      <td>     </td>\n",
        "      <td>     </td>\n",
        "      <td>      </td>\n",
        "      <td>      </td>\n",
        "      <td>      </td>\n",
        "      <td> 8.66</td>\n",
        "      <td> 0.00325</td>\n",
        "    </tr>\n",
        "    <tr>\n",
        "      <th>0</th>\n",
        "      <td> 305</td>\n",
        "      <td> 117</td>\n",
        "      <td> 2.96</td>\n",
        "      <td> 2.21</td>\n",
        "      <td> 4.71</td>\n",
        "      <td> 0.404</td>\n",
        "      <td> 0.328</td>\n",
        "      <td> 0.498</td>\n",
        "      <td>     </td>\n",
        "      <td>        </td>\n",
        "    </tr>\n",
        "    <tr>\n",
        "      <th>1</th>\n",
        "      <td>  43</td>\n",
        "      <td>   8</td>\n",
        "      <td> 4.82</td>\n",
        "      <td> 4.79</td>\n",
        "      <td>  NaN</td>\n",
        "      <td> 0.491</td>\n",
        "      <td> 0.263</td>\n",
        "      <td> 0.917</td>\n",
        "      <td>     </td>\n",
        "      <td>        </td>\n",
        "    </tr>\n",
        "  </tbody>\n",
        "</table>\n",
        "<p>3 rows \u00d7 10 columns</p>\n",
        "</div>"
       ],
       "metadata": {},
       "output_type": "pyout",
       "prompt_number": 33,
       "text": [
        "       Stats          Median Survival             5y Survival               Log-Rank         \n",
        "  # Patients # Events          Median Lower Upper        Surv  Lower  Upper     chi2        p\n",
        "                                                                                8.66  0.00325\n",
        "0        305      117            2.96  2.21  4.71       0.404  0.328  0.498                  \n",
        "1         43        8            4.82  4.79   NaN       0.491  0.263  0.917                  \n",
        "\n",
        "[3 rows x 10 columns]"
       ]
      }
     ],
     "prompt_number": 33
    },
    {
     "cell_type": "code",
     "collapsed": false,
     "input": [
      "survival_and_stats(hpv_inferred2, surv)"
     ],
     "language": "python",
     "metadata": {},
     "outputs": [
      {
       "metadata": {},
       "output_type": "display_data",
       "png": "[encoded data removed]",
       "text": [
        "<matplotlib.figure.Figure at 0x8d879d0>"
       ]
      }
     ],
     "prompt_number": 34
    },
    {
     "cell_type": "code",
     "collapsed": false,
     "input": [
      "pd.crosstab(hpv_inferred, hpv_inferred2)"
     ],
     "language": "python",
     "metadata": {},
     "outputs": [
      {
       "html": [
        "<div style=\"max-height:1000px;max-width:1500px;overflow:auto;\">\n",
        "<table border=\"1\" class=\"dataframe\">\n",
        "  <thead>\n",
        "    <tr style=\"text-align: right;\">\n",
        "      <th>hpv_inferred2</th>\n",
        "      <th>False</th>\n",
        "      <th>True</th>\n",
        "    </tr>\n",
        "    <tr>\n",
        "      <th>HPV</th>\n",
        "      <th></th>\n",
        "      <th></th>\n",
        "    </tr>\n",
        "  </thead>\n",
        "  <tbody>\n",
        "    <tr>\n",
        "      <th>False</th>\n",
        "      <td> 290</td>\n",
        "      <td>  1</td>\n",
        "    </tr>\n",
        "    <tr>\n",
        "      <th>True </th>\n",
        "      <td>   5</td>\n",
        "      <td> 41</td>\n",
        "    </tr>\n",
        "  </tbody>\n",
        "</table>\n",
        "<p>2 rows \u00d7 2 columns</p>\n",
        "</div>"
       ],
       "metadata": {},
       "output_type": "pyout",
       "prompt_number": 63,
       "text": [
        "hpv_inferred2  False  True \n",
        "HPV                        \n",
        "False            290      1\n",
        "True               5     41\n",
        "\n",
        "[2 rows x 2 columns]"
       ]
      }
     ],
     "prompt_number": 63
    },
    {
     "cell_type": "heading",
     "level": 1,
     "metadata": {},
     "source": [
      "Combine HPV predictions"
     ]
    },
    {
     "cell_type": "code",
     "collapsed": false,
     "input": [
      "hpv_seq.value_counts()"
     ],
     "language": "python",
     "metadata": {},
     "outputs": [
      {
       "metadata": {},
       "output_type": "pyout",
       "prompt_number": 64,
       "text": [
        "HPV-    244\n",
        "HPV+     35\n",
        "dtype: int64"
       ]
      }
     ],
     "prompt_number": 64
    },
    {
     "cell_type": "code",
     "collapsed": false,
     "input": [
      "hpv_clin.ix[hpv_clin.index.diff(hpv_seq.index)].value_counts()"
     ],
     "language": "python",
     "metadata": {},
     "outputs": [
      {
       "metadata": {},
       "output_type": "pyout",
       "prompt_number": 65,
       "text": [
        "HPV-    31\n",
        "HPV+     3\n",
        "dtype: int64"
       ]
      }
     ],
     "prompt_number": 65
    },
    {
     "cell_type": "code",
     "collapsed": false,
     "input": [
      "hpv_inferred_t = hpv_seq.combine_first(hpv_clin) =='HPV+'"
     ],
     "language": "python",
     "metadata": {},
     "outputs": [],
     "prompt_number": 66
    },
    {
     "cell_type": "code",
     "collapsed": false,
     "input": [
      "hpv_inferred.ix[hpv_inferred.index.diff(hpv_inferred_t.index)].value_counts()"
     ],
     "language": "python",
     "metadata": {},
     "outputs": [
      {
       "metadata": {},
       "output_type": "pyout",
       "prompt_number": 67,
       "text": [
        "False    16\n",
        "True      8\n",
        "dtype: int64"
       ]
      }
     ],
     "prompt_number": 67
    },
    {
     "cell_type": "code",
     "collapsed": false,
     "input": [
      "hpv_inferred_t = hpv_inferred_t.combine_first(hpv_inferred)"
     ],
     "language": "python",
     "metadata": {},
     "outputs": [],
     "prompt_number": 68
    },
    {
     "cell_type": "code",
     "collapsed": false,
     "input": [
      "hpv_inferred2.ix[hpv_inferred2.index.diff(hpv_inferred_t.index)].value_counts()"
     ],
     "language": "python",
     "metadata": {},
     "outputs": [
      {
       "metadata": {},
       "output_type": "pyout",
       "prompt_number": 69,
       "text": [
        "False    32\n",
        "True      3\n",
        "dtype: int64"
       ]
      }
     ],
     "prompt_number": 69
    },
    {
     "cell_type": "code",
     "collapsed": false,
     "input": [
      "hpv_inferred_t = hpv_inferred_t.combine_first(hpv_inferred2)"
     ],
     "language": "python",
     "metadata": {},
     "outputs": [],
     "prompt_number": 70
    },
    {
     "cell_type": "code",
     "collapsed": false,
     "input": [
      "hpv_inferred_t.value_counts()"
     ],
     "language": "python",
     "metadata": {},
     "outputs": [
      {
       "metadata": {},
       "output_type": "pyout",
       "prompt_number": 71,
       "text": [
        "False    323\n",
        "True      49\n",
        "dtype: int64"
       ]
      }
     ],
     "prompt_number": 71
    },
    {
     "cell_type": "code",
     "collapsed": false,
     "input": [
      "get_surv_fit_lr(surv, hpv_inferred_t)"
     ],
     "language": "python",
     "metadata": {},
     "outputs": [
      {
       "html": [
        "<div style=\"max-height:1000px;max-width:1500px;overflow:auto;\">\n",
        "<table border=\"1\" class=\"dataframe\">\n",
        "  <thead>\n",
        "    <tr>\n",
        "      <th></th>\n",
        "      <th colspan=\"2\" halign=\"left\">Stats</th>\n",
        "      <th colspan=\"3\" halign=\"left\">Median Survival</th>\n",
        "      <th colspan=\"3\" halign=\"left\">5y Survival</th>\n",
        "      <th colspan=\"2\" halign=\"left\">Log-Rank</th>\n",
        "    </tr>\n",
        "    <tr>\n",
        "      <th></th>\n",
        "      <th># Patients</th>\n",
        "      <th># Events</th>\n",
        "      <th>Median</th>\n",
        "      <th>Lower</th>\n",
        "      <th>Upper</th>\n",
        "      <th>Surv</th>\n",
        "      <th>Lower</th>\n",
        "      <th>Upper</th>\n",
        "      <th>chi2</th>\n",
        "      <th>p</th>\n",
        "    </tr>\n",
        "  </thead>\n",
        "  <tbody>\n",
        "    <tr>\n",
        "      <th></th>\n",
        "      <td>    </td>\n",
        "      <td>    </td>\n",
        "      <td>     </td>\n",
        "      <td>     </td>\n",
        "      <td>     </td>\n",
        "      <td>    </td>\n",
        "      <td>      </td>\n",
        "      <td>      </td>\n",
        "      <td> 10.4</td>\n",
        "      <td> 0.00127</td>\n",
        "    </tr>\n",
        "    <tr>\n",
        "      <th>0</th>\n",
        "      <td> 301</td>\n",
        "      <td> 117</td>\n",
        "      <td> 2.84</td>\n",
        "      <td>  2.2</td>\n",
        "      <td> 4.71</td>\n",
        "      <td> 0.4</td>\n",
        "      <td> 0.323</td>\n",
        "      <td> 0.494</td>\n",
        "      <td>     </td>\n",
        "      <td>        </td>\n",
        "    </tr>\n",
        "    <tr>\n",
        "      <th>1</th>\n",
        "      <td>  47</td>\n",
        "      <td>   8</td>\n",
        "      <td>  NaN</td>\n",
        "      <td> 4.79</td>\n",
        "      <td>  NaN</td>\n",
        "      <td> 0.5</td>\n",
        "      <td> 0.269</td>\n",
        "      <td> 0.929</td>\n",
        "      <td>     </td>\n",
        "      <td>        </td>\n",
        "    </tr>\n",
        "  </tbody>\n",
        "</table>\n",
        "<p>3 rows \u00d7 10 columns</p>\n",
        "</div>"
       ],
       "metadata": {},
       "output_type": "pyout",
       "prompt_number": 72,
       "text": [
        "       Stats          Median Survival             5y Survival               Log-Rank         \n",
        "  # Patients # Events          Median Lower Upper        Surv  Lower  Upper     chi2        p\n",
        "                                                                                10.4  0.00127\n",
        "0        301      117            2.84   2.2  4.71         0.4  0.323  0.494                  \n",
        "1         47        8             NaN  4.79   NaN         0.5  0.269  0.929                  \n",
        "\n",
        "[3 rows x 10 columns]"
       ]
      }
     ],
     "prompt_number": 72
    },
    {
     "cell_type": "code",
     "collapsed": false,
     "input": [
      "survival_and_stats(hpv_inferred_t, surv)"
     ],
     "language": "python",
     "metadata": {},
     "outputs": [
      {
       "metadata": {},
       "output_type": "display_data",
       "png": "[encoded data removed]",
       "text": [
        "<matplotlib.figure.Figure at 0x8d42910>"
       ]
      }
     ],
     "prompt_number": 73
    },
    {
     "cell_type": "heading",
     "level": 1,
     "metadata": {},
     "source": [
      "Re-calculate of meta-features in HPV- background"
     ]
    },
    {
     "cell_type": "markdown",
     "metadata": {},
     "source": [
      "* These contain meta-features that are sensative to the background patient set (I.E. side effects)\n",
      "* The mutation and copy number data-sets don't need to be regenerated \n",
      "* These are saved in a seperate directory"
     ]
    },
    {
     "cell_type": "code",
     "collapsed": false,
     "input": [
      "clinical.hpv_inferred = hpv_inferred_t\n",
      "clinical.hpv = hpv\n",
      "clinical.save()  #I keep the same object as there are no side effects"
     ],
     "language": "python",
     "metadata": {},
     "outputs": [],
     "prompt_number": 74
    },
    {
     "cell_type": "code",
     "collapsed": false,
     "input": [
      "keepers_o = true_index(hpv_inferred_t==0)"
     ],
     "language": "python",
     "metadata": {},
     "outputs": [],
     "prompt_number": 75
    },
    {
     "cell_type": "code",
     "collapsed": false,
     "input": [
      "from Initialization.InitializeReal import RealDataset\n",
      "from Processing.Helpers import make_path_dump\n",
      "rna = RealDataset(run, cancer, 'mRNASeq', keepers_o)\n",
      "#meth = RealDataset(run, cancer, 'Methylation', keepers_o)\n",
      "mirna = RealDataset(run, cancer, 'miRNASeq', keepers_o, create_meta_features=False)\n",
      "\n",
      "make_path_dump(rna, rna.path + '/store/no_hpv.p')\n",
      "#make_path_dump(meth, meth.path + '/store/no_hpv.p')\n",
      "make_path_dump(mirna, mirna.path + '/store/no_hpv.p')"
     ],
     "language": "python",
     "metadata": {},
     "outputs": []
    }
   ],
   "metadata": {}
  }
 ]
}