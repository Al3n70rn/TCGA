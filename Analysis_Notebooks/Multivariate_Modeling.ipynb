{
 "metadata": {
  "name": "",
  "signature": "sha256:c4381f2a866b955fb22434c77ce40d840417c4617ce63fedfd84d5c1b00f23ee"
 },
 "nbformat": 3,
 "nbformat_minor": 0,
 "worksheets": [
  {
   "cells": [
    {
     "cell_type": "markdown",
     "metadata": {},
     "source": [
      "<h1 class=\"alert alert-info\">HNSCC HPV- Cohort <small> <i class=\"icon-globe\"></i> Exploration of Subtypes in the Context of Clinical Variables</small></h1>"
     ]
    },
    {
     "cell_type": "markdown",
     "metadata": {},
     "source": [
      "####Import Data and Packages  \n",
      "For full list of data and packages imported see the [Imports](../Analysis_Notebooks/Imports.ipynb) notebook."
     ]
    },
    {
     "cell_type": "code",
     "collapsed": false,
     "input": [
      "import NotebookImport\n",
      "from Imports import *"
     ],
     "language": "python",
     "metadata": {},
     "outputs": [
      {
       "output_type": "stream",
       "stream": "stdout",
       "text": [
        "importing IPython notebook from Imports.ipynb\n",
        "Populating the interactive namespace from numpy and matplotlib"
       ]
      },
      {
       "output_type": "stream",
       "stream": "stdout",
       "text": [
        "\n",
        "changing to source dirctory"
       ]
      },
      {
       "output_type": "stream",
       "stream": "stdout",
       "text": [
        "\n",
        "populating namespace with data"
       ]
      },
      {
       "output_type": "stream",
       "stream": "stdout",
       "text": [
        "\n"
       ]
      }
     ],
     "prompt_number": 1
    },
    {
     "cell_type": "heading",
     "level": 3,
     "metadata": {},
     "source": [
      "Recreate Subtypes"
     ]
    },
    {
     "cell_type": "code",
     "collapsed": false,
     "input": [
      "p53_mut = mut.features.ix['TP53'].ix[keepers_o].dropna()\n",
      "del_3p = cn.features.ix['Deletion'].ix['3p14.2'].ix[0].ix[keepers_o].dropna()\n",
      "\n",
      "combo = combine(p53_mut==1, del_3p==-1)\n",
      "combo = combo.map({'Lesion':'b', 'neither':'a', 'TP53':'c', 'both':'d'})\n",
      "two_hit = combo=='d'"
     ],
     "language": "python",
     "metadata": {},
     "outputs": [],
     "prompt_number": 2
    },
    {
     "cell_type": "heading",
     "level": 1,
     "metadata": {},
     "source": [
      "Big Combined Model with Clincial Covariates"
     ]
    },
    {
     "cell_type": "heading",
     "level": 2,
     "metadata": {},
     "source": [
      "Clinical model"
     ]
    },
    {
     "cell_type": "code",
     "collapsed": false,
     "input": [
      "clin_stage = clinical.processed.stage.ix[keepers_o].dropna()\n",
      "clin_stage.name = 'Clinical_Stage'\n",
      "lymph_stage = clinical.processed.lymph_stage.replace('n2', 'n2+').replace('n3', 'n2+').dropna()\n",
      "lymph_stage = lymph_stage == 'n2+'\n",
      "lymph_stage = lymph_stage.ix[keepers_o].fillna('nx')\n",
      "s4 = clin_stage == 'Stage iv'\n",
      "s4.name = 'Stage_IV'"
     ],
     "language": "python",
     "metadata": {},
     "outputs": [],
     "prompt_number": 16
    },
    {
     "cell_type": "code",
     "collapsed": false,
     "input": [
      "drinker = clinical.processed.drinker\n",
      "current_smoker = clinical.processed.smoker.dropna() == 'current smoker'\n",
      "current_smoker.name = 'current_smoker'\n",
      "non_smoker = clinical.processed.smoker.dropna() == 'lifelong non-smoker'\n",
      "non_smoker.name = 'non_smoker'\n",
      "recent_smoker = clinical.processed.smoker.dropna().isin(['current reformed smoker for < or = 15 years',\n",
      "                                                         'current smoker'])\n",
      "recent_smoker.name = 'recent_smoker'\n",
      "\n",
      "spread = clinical.processed.spread\n",
      "spread = spread.replace({'yes':True, 'no':False})\n",
      "invasion = clinical.processed.invasion\n",
      "invasion = invasion.replace({'yes':True, 'no':False})\n",
      "year = clinical.processed.year\n",
      "old = clinical.processed.old_age"
     ],
     "language": "python",
     "metadata": {},
     "outputs": [],
     "prompt_number": 89
    },
    {
     "cell_type": "code",
     "collapsed": false,
     "input": [
      "clinical_vars = pd.concat([drinker, current_smoker, non_smoker, recent_smoker,\n",
      "                           spread, invasion, year, old, s4,\n",
      "                           lymph_stage], 1).fillna(' missing')\n",
      "clinical_vars = clinical_vars.ix[keepers_o].dropna()"
     ],
     "language": "python",
     "metadata": {},
     "outputs": [],
     "prompt_number": 121
    },
    {
     "cell_type": "heading",
     "level": 2,
     "metadata": {},
     "source": [
      "Combined model"
     ]
    },
    {
     "cell_type": "code",
     "collapsed": false,
     "input": [
      "m2 = get_cox_ph(surv, two_hit, covariates=clinical_vars, print_desc=True, interactions=False);"
     ],
     "language": "python",
     "metadata": {},
     "outputs": [
      {
       "output_type": "stream",
       "stream": "stdout",
       "text": [
        "\n",
        "                        coef exp(coef) se(coef)     z      p\n",
        "feature               0.7868      2.20    0.307 2.560 0.0100\n",
        "drinker missing       0.7522      2.12    0.400 1.879 0.0600\n",
        "drinkerTrue           0.6583      1.93    0.459 1.434 0.1500\n",
        "recent_smoker missing 0.3422      1.41    0.486 0.704 0.4800\n",
        "recent_smokerTrue     0.7342      2.08    0.273 2.694 0.0071\n",
        "spread missing        0.0892      1.09    0.258 0.345 0.7300\n",
        "spreadTrue            0.5384      1.71    0.259 2.076 0.0380\n",
        "invasion missing      0.5071      1.66    0.297 1.710 0.0870\n",
        "invasionTrue          0.5237      1.69    0.262 2.003 0.0450\n",
        "yearpre_2000          0.6767      1.97    0.222 3.054 0.0023\n",
        "old_ageAge > 75       0.6564      1.93    0.292 2.244 0.0250\n",
        "\n",
        "Likelihood ratio test=66.8  on 11 df, p=4.9e-10  n= 250, number of events= 102 \n",
        "\n"
       ]
      }
     ],
     "prompt_number": 123
    },
    {
     "cell_type": "code",
     "collapsed": false,
     "input": [
      "m3 = get_cox_ph(surv, covariates=clinical_vars[['drinker','recent_smoker','spread','invasion','year', 'old_age']],\n",
      "                print_desc=True, interactions=False);"
     ],
     "language": "python",
     "metadata": {},
     "outputs": [
      {
       "output_type": "stream",
       "stream": "stdout",
       "text": [
        "\n",
        "                        coef exp(coef) se(coef)     z       p\n",
        "drinker missing       0.7391      2.09    0.400 1.847 6.5e-02\n",
        "drinkerTrue           0.6028      1.83    0.459 1.315 1.9e-01\n",
        "recent_smoker missing 0.6972      2.01    0.452 1.542 1.2e-01\n",
        "recent_smokerTrue     1.0121      2.75    0.255 3.963 7.4e-05\n",
        "spread missing        0.0932      1.10    0.257 0.363 7.2e-01\n",
        "spreadTrue            0.6928      2.00    0.257 2.692 7.1e-03\n",
        "invasion missing      0.4440      1.56    0.297 1.492 1.4e-01\n",
        "invasionTrue          0.5386      1.71    0.262 2.055 4.0e-02\n",
        "yearpre_2000          0.6896      1.99    0.222 3.109 1.9e-03\n",
        "old_ageAge > 75       0.6691      1.95    0.287 2.332 2.0e-02\n",
        "\n",
        "Likelihood ratio test=59.4  on 10 df, p=4.66e-09  n= 250, number of events= 102 \n",
        "\n"
       ]
      }
     ],
     "prompt_number": 124
    },
    {
     "cell_type": "code",
     "collapsed": false,
     "input": [
      "LR_test(m2, m3)"
     ],
     "language": "python",
     "metadata": {},
     "outputs": [
      {
       "metadata": {},
       "output_type": "pyout",
       "prompt_number": 125,
       "text": [
        "0.0065466476845842825"
       ]
      }
     ],
     "prompt_number": 125
    },
    {
     "cell_type": "code",
     "collapsed": false,
     "input": [
      "cc = [colors[4], 'grey','grey', '#9ecae1','#9ecae1', 'grey','grey', '#9ecae1','#9ecae1',\n",
      "      'grey', '#9ecae1','#9ecae1']"
     ],
     "language": "python",
     "metadata": {},
     "outputs": [],
     "prompt_number": 126
    },
    {
     "cell_type": "code",
     "collapsed": false,
     "input": [
      "fig, ax = subplots(figsize=(6,5))\n",
      "ci = convert_robj(robjects.r.summary(m2)[7])\n",
      "haz = ci['exp(coef)']\n",
      "for j,h in enumerate(haz):\n",
      "    ax.scatter(h, j, marker='s', s=100, color=cc[j], \n",
      "               edgecolors=['black'], zorder=10)\n",
      "    ax.plot(*zip(*((ci.iloc[j]['lower .95'],j), (ci.iloc[j]['upper .95'],j))), \n",
      "            lw=3, ls='-', marker='o', dash_joinstyle='bevel', color=cc[j])\n",
      "ax.axvline(1, ls='--', color='black')\n",
      "ax.set_xscale('log')\n",
      "ax.set_xbound(.5,5)\n",
      "ax.set_ybound(-.5,len(ci.index) - .5)\n",
      "ax.set_xticks([.5, 1, 1.5, 2, 4])\n",
      "ax.set_xticklabels([.5, 1, 1.5, 2, 4])\n",
      "ax.set_yticks(range(len(ci.index)))\n",
      "ax.set_yticklabels(ci.index)\n",
      "ax.set_xlabel('Hazard Ratio')\n",
      "prettify_ax(ax)\n",
      "fig.tight_layout()\n",
      "fig.savefig('/cellar/users/agross/figures/mv_pb.pdf', tranparent=True)"
     ],
     "language": "python",
     "metadata": {},
     "outputs": [
      {
       "metadata": {},
       "output_type": "display_data",
       "png": "[encoded data removed]",
       "text": [
        "<matplotlib.figure.Figure at 0x829d250>"
       ]
      }
     ],
     "prompt_number": 127
    },
    {
     "cell_type": "heading",
     "level": 2,
     "metadata": {},
     "source": [
      "In Patients Under 75"
     ]
    },
    {
     "cell_type": "code",
     "collapsed": false,
     "input": [
      "clinical_vars = pd.concat([current_smoker, non_smoker, recent_smoker,weight,\n",
      "                           spread, invasion, year, old, s4,\n",
      "                           lymph_stage], 1).fillna(' missing')"
     ],
     "language": "python",
     "metadata": {},
     "outputs": [],
     "prompt_number": 41
    },
    {
     "cell_type": "code",
     "collapsed": false,
     "input": [
      "clinical_vars_y = clinical_vars.ix[ti(age < 75)].ix[keepers_o].dropna()\n",
      "clinical_vars_y = clinical_vars_y.replace(' missing', 'zzz')\n",
      "m1 = get_cox_ph(surv, covariates=clinical_vars_y, print_desc=True, interactions=False);\n",
      "m2 = get_cox_ph(surv, two_hit, covariates=clinical_vars_y, print_desc=True, interactions=False);"
     ],
     "language": "python",
     "metadata": {},
     "outputs": [
      {
       "output_type": "stream",
       "stream": "stdout",
       "text": [
        "\n",
        "                   coef exp(coef) se(coef)    z       p\n",
        "non_smokerTrue    1.182      3.26    0.605 1.95 5.1e-02\n",
        "non_smokerzzz     1.929      6.88    0.680 2.84 4.6e-03\n",
        "recent_smokerTrue 1.826      6.21    0.521 3.50 4.6e-04\n",
        "recent_smokerzzz     NA        NA    0.000   NA      NA\n",
        "spreadyes         0.600      1.82    0.276 2.17 3.0e-02\n",
        "spreadzzz         0.299      1.35    0.282 1.06 2.9e-01\n",
        "invasionyes       0.660      1.94    0.282 2.34 1.9e-02\n",
        "invasionzzz       0.379      1.46    0.327 1.16 2.5e-01\n",
        "yearpre_2000      0.963      2.62    0.240 4.02 5.8e-05\n",
        "\n",
        "Likelihood ratio test=54.7  on 8 df, p=5.05e-09  n= 220, number of events= 83 \n",
        "\n",
        "\n",
        "                   coef exp(coef) se(coef)    z       p\n",
        "feature           1.117      3.06    0.366 3.05 0.00230\n",
        "recent_smokerTrue 0.852      2.34    0.307 2.78 0.00550\n",
        "recent_smokerzzz  1.086      2.96    0.561 1.94 0.05300\n",
        "invasionyes       0.665      1.94    0.282 2.36 0.01800\n",
        "invasionzzz       0.496      1.64    0.312 1.59 0.11000\n",
        "yearpre_2000      0.901      2.46    0.238 3.79 0.00015\n",
        "\n",
        "Likelihood ratio test=58.2  on 6 df, p=1.05e-10  n= 220, number of events= 83 \n"
       ]
      },
      {
       "output_type": "stream",
       "stream": "stdout",
       "text": [
        "\n"
       ]
      }
     ],
     "prompt_number": 73
    },
    {
     "cell_type": "code",
     "collapsed": false,
     "input": [
      "fig, ax = subplots(figsize=(6,4))\n",
      "ci = convert_robj(robjects.r.summary(m2)[7])\n",
      "haz = ci['exp(coef)']\n",
      "for j,h in enumerate(haz):\n",
      "    ax.scatter(h, j, marker='s', s=100, color=cc[j], \n",
      "               edgecolors=['black'], zorder=10)\n",
      "    ax.plot(*zip(*((ci.iloc[j]['lower .95'],j), (ci.iloc[j]['upper .95'],j))), \n",
      "            lw=3, ls='-', marker='o', dash_joinstyle='bevel', color=cc[j])\n",
      "ax.axvline(1, ls='--', color='black')\n",
      "ax.set_xscale('log')\n",
      "ax.set_xbound(.5,12)\n",
      "ax.set_ybound(-.5,len(ci.index) - .5)\n",
      "ax.set_xticks([.5, 1, 1.5, 2, 4,8])\n",
      "ax.set_xticklabels([.5, 1, 1.5, 2, 4,8])\n",
      "ax.set_yticks(range(len(ci.index)))\n",
      "ax.set_yticklabels(ci.index)\n",
      "ax.set_xlabel('Hazard Ratio')\n",
      "prettify_ax(ax)\n",
      "fig.tight_layout()\n",
      "fig.savefig('/cellar/users/agross/figures/mv_pa.pdf', tranparent=True)"
     ],
     "language": "python",
     "metadata": {},
     "outputs": [
      {
       "metadata": {},
       "output_type": "display_data",
       "png": "[encoded data removed]",
       "text": [
        "<matplotlib.figure.Figure at 0x7dd4550>"
       ]
      }
     ],
     "prompt_number": 82
    },
    {
     "cell_type": "code",
     "collapsed": false,
     "input": [
      "clinical_vars_y = clinical_vars.ix[ti(age >= 75)].ix[keepers_o].dropna()\n",
      "clinical_vars_y = clinical_vars_y.replace(' missing', 'zzz')\n",
      "m1 = get_cox_ph(surv, covariates=clinical_vars_y, print_desc=True, interactions=False);\n",
      "m2 = get_cox_ph(surv, two_hit, covariates=clinical_vars_y, print_desc=True, interactions=False);"
     ],
     "language": "python",
     "metadata": {},
     "outputs": [
      {
       "output_type": "stream",
       "stream": "stdout",
       "text": [
        "\n",
        "                     coef exp(coef) se(coef)      z     p\n",
        "current_smokerTrue  1.506     4.507    0.758  1.986 0.047\n",
        "current_smokerzzz  -1.342     0.261    1.029 -1.304 0.190\n",
        "weight              0.764     2.148    0.412  1.854 0.064\n",
        "spreadyes           0.558     1.748    0.819  0.682 0.500\n",
        "spreadzzz          -1.504     0.222    0.817 -1.840 0.066\n",
        "invasionyes         1.784     5.954    1.010  1.766 0.077\n",
        "invasionzzz         2.727    15.280    1.264  2.157 0.031\n",
        "Stage_IV            1.115     3.049    0.438  2.546 0.011\n",
        "\n",
        "Likelihood ratio test=21  on 8 df, p=0.00712  n= 30, number of events= 19 \n",
        "\n",
        "\n",
        "                     coef exp(coef) se(coef)      z     p\n",
        "current_smokerTrue  1.506     4.507    0.758  1.986 0.047\n",
        "current_smokerzzz  -1.342     0.261    1.029 -1.304 0.190\n",
        "weight              0.764     2.148    0.412  1.854 0.064\n",
        "spreadyes           0.558     1.748    0.819  0.682 0.500\n",
        "spreadzzz          -1.504     0.222    0.817 -1.840 0.066\n",
        "invasionyes         1.784     5.954    1.010  1.766 0.077\n",
        "invasionzzz         2.727    15.280    1.264  2.157 0.031\n",
        "Stage_IV            1.115     3.049    0.438  2.546 0.011\n",
        "\n",
        "Likelihood ratio test=21  on 8 df, p=0.00712  n= 30, number of events= 19 \n"
       ]
      },
      {
       "output_type": "stream",
       "stream": "stdout",
       "text": [
        "\n"
       ]
      }
     ],
     "prompt_number": 83
    },
    {
     "cell_type": "code",
     "collapsed": false,
     "input": [
      "fig, ax = subplots(figsize=(6,4))\n",
      "ci = convert_robj(robjects.r.summary(m2)[7])\n",
      "haz = ci['exp(coef)']\n",
      "for j,h in enumerate(haz):\n",
      "    ax.scatter(h, j, marker='s', s=100, color=cc[j], \n",
      "               edgecolors=['black'], zorder=10)\n",
      "    ax.plot(*zip(*((ci.iloc[j]['lower .95'],j), (ci.iloc[j]['upper .95'],j))), \n",
      "            lw=3, ls='-', marker='o', dash_joinstyle='bevel', color=cc[j])\n",
      "ax.axvline(1, ls='--', color='black')\n",
      "ax.set_xscale('log')\n",
      "ax.set_xbound(.5,12)\n",
      "ax.set_ybound(-.5,len(ci.index) - .5)\n",
      "ax.set_xticks([.5, 1, 1.5, 2, 4,8])\n",
      "ax.set_xticklabels([.5, 1, 1.5, 2, 4,8])\n",
      "ax.set_yticks(range(len(ci.index)))\n",
      "ax.set_yticklabels(ci.index)\n",
      "ax.set_xlabel('Hazard Ratio')\n",
      "prettify_ax(ax)\n",
      "fig.tight_layout()"
     ],
     "language": "python",
     "metadata": {},
     "outputs": [
      {
       "metadata": {},
       "output_type": "display_data",
       "png": "[encoded data removed]",
       "text": [
        "<matplotlib.figure.Figure at 0x7f4db50>"
       ]
      }
     ],
     "prompt_number": 84
    },
    {
     "cell_type": "heading",
     "level": 2,
     "metadata": {},
     "source": [
      "In Ever-Smokers Under 75"
     ]
    },
    {
     "cell_type": "code",
     "collapsed": false,
     "input": [
      "pts = ti(non_smoker.ix[keepers_o] != True).intersection(ti(old=='Age < 75'))\n",
      "clinical_vars_y = clinical_vars.ix[pts].fillna(' missing')\n",
      "m1 = get_cox_ph(surv, covariates=clinical_vars_y, print_desc=True, interactions=False);\n",
      "m2 = get_cox_ph(surv, two_hit, covariates=clinical_vars_y, print_desc=True, interactions=False);"
     ],
     "language": "python",
     "metadata": {},
     "outputs": [
      {
       "output_type": "stream",
       "stream": "stdout",
       "text": [
        "\n",
        "                      coef exp(coef) se(coef)      z       p\n",
        "drinker missing      1.355     3.876    0.535  2.534 1.1e-02\n",
        "drinkerTrue          1.038     2.822    0.596  1.740 8.2e-02\n",
        "spread missing       0.608     1.836    0.371  1.638 1.0e-01\n",
        "spreadTrue           1.159     3.187    0.346  3.346 8.2e-04\n",
        "invasion missing     0.160     1.173    0.403  0.397 6.9e-01\n",
        "invasionTrue         0.758     2.135    0.362  2.094 3.6e-02\n",
        "yearpost_2000        1.338     3.810    0.457  2.924 3.5e-03\n",
        "yearpre_2000         2.019     7.530    0.505  3.996 6.5e-05\n",
        "Stage_IV missing        NA        NA    0.000     NA      NA\n",
        "Stage_IVTrue        -1.269     0.281    0.459 -2.767 5.7e-03\n",
        "lymph_stage missing     NA        NA    0.000     NA      NA\n",
        "lymph_stagenx        2.717    15.136    1.098  2.474 1.3e-02\n",
        "lymph_stageTrue      0.992     2.697    0.459  2.162 3.1e-02\n",
        "\n",
        "Likelihood ratio test=51.9  on 11 df, p=2.88e-07  n= 181, number of events= 73 \n",
        "\n",
        "\n",
        "                       coef exp(coef) se(coef)      z      p\n",
        "feature              1.3277     3.772    0.453  2.932 0.0034\n",
        "drinker missing      1.3610     3.900    0.537  2.536 0.0110\n",
        "drinkerTrue          1.0731     2.924    0.597  1.798 0.0720\n",
        "spread missing       0.7113     2.037    0.373  1.905 0.0570\n",
        "spreadTrue           1.0691     2.913    0.343  3.118 0.0018\n",
        "invasion missing     0.0837     1.087    0.402  0.208 0.8400\n",
        "invasionTrue         0.7342     2.084    0.360  2.037 0.0420\n",
        "yearpost_2000        1.0422     2.835    0.459  2.271 0.0230\n",
        "yearpre_2000         1.6158     5.032    0.510  3.171 0.0015\n",
        "Stage_IV missing         NA        NA    0.000     NA     NA\n",
        "Stage_IVTrue        -1.1956     0.303    0.459 -2.603 0.0092\n",
        "lymph_stage missing      NA        NA    0.000     NA     NA\n",
        "lymph_stagenx        2.4678    11.797    1.098  2.249 0.0250\n",
        "lymph_stageTrue      0.8172     2.264    0.449  1.818 0.0690\n",
        "\n",
        "Likelihood ratio test=63  on 12 df, p=6.32e-09  n= 181, number of events= 73 \n"
       ]
      },
      {
       "output_type": "stream",
       "stream": "stdout",
       "text": [
        "\n"
       ]
      }
     ],
     "prompt_number": 155
    },
    {
     "cell_type": "code",
     "collapsed": false,
     "input": [
      "LR_test(m2, m1)"
     ],
     "language": "python",
     "metadata": {},
     "outputs": [
      {
       "metadata": {},
       "output_type": "pyout",
       "prompt_number": 156,
       "text": [
        "0.00083911771294018986"
       ]
      }
     ],
     "prompt_number": 156
    },
    {
     "cell_type": "code",
     "collapsed": false,
     "input": [
      "fig, ax = subplots(figsize=(6,4))\n",
      "ci = convert_robj(robjects.r.summary(m2)[7])\n",
      "haz = ci['exp(coef)']\n",
      "for j,h in enumerate(haz):\n",
      "    ax.scatter(h, j, marker='s', s=100, color='grey', \n",
      "               edgecolors=['black'], zorder=10)\n",
      "    ax.plot(*zip(*((ci.iloc[j]['lower .95'],j), (ci.iloc[j]['upper .95'],j))), \n",
      "            lw=3, ls='-', marker='o', dash_joinstyle='bevel', color='grey')\n",
      "ax.axvline(1, ls='--', color='black')\n",
      "ax.set_xscale('log')\n",
      "ax.set_xbound(.5,3.5)\n",
      "ax.set_ybound(-.5,len(ci.index) - .5)\n",
      "ax.set_xticks([.25,.5, 1, 1.5, 2, 4,8,16])\n",
      "ax.set_xticklabels([.25,.5, 1, 1.5, 2, 4,8,16])\n",
      "ax.set_yticks(range(len(ci.index)))\n",
      "ax.set_yticklabels(ci.index)\n",
      "ax.set_xlabel('Hazard Ratio')\n",
      "prettify_ax(ax)\n",
      "fig.tight_layout()"
     ],
     "language": "python",
     "metadata": {},
     "outputs": [
      {
       "metadata": {},
       "output_type": "display_data",
       "png": "[encoded data removed]",
       "text": [
        "<matplotlib.figure.Figure at 0x7e4ead0>"
       ]
      }
     ],
     "prompt_number": 158
    }
   ],
   "metadata": {}
  }
 ]
}