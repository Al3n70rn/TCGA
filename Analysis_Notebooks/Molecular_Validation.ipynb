{
 "metadata": {
  "name": "",
  "signature": "sha256:a9fdd42c9375ac0b76ccc2c1d805595d31fcd0c8ae16bdbfa92b5b3377ba5d09"
 },
 "nbformat": 3,
 "nbformat_minor": 0,
 "worksheets": [
  {
   "cells": [
    {
     "cell_type": "heading",
     "level": 1,
     "metadata": {},
     "source": [
      "TCGA HNSCC Molecular Validation Cohort TCGA MAF"
     ]
    },
    {
     "cell_type": "markdown",
     "metadata": {},
     "source": [
      "Here we analyze the TCGA HNSCC molecular validation cohort.  Since my last pass the TCGA has released a new MAF file with 511 patients with mutation data.  This is not in the current submissison."
     ]
    },
    {
     "cell_type": "markdown",
     "metadata": {},
     "source": [
      "####Import Data and Packages  \n",
      "For full list of data and packages imported see the [Imports](../Analysis_Notebooks/Imports.ipynb) notebook."
     ]
    },
    {
     "cell_type": "code",
     "collapsed": false,
     "input": [
      "import NotebookImport\n",
      "from Imports import *"
     ],
     "language": "python",
     "metadata": {},
     "outputs": [
      {
       "output_type": "stream",
       "stream": "stdout",
       "text": [
        "importing IPython notebook from Imports.ipynb\n",
        "Populating the interactive namespace from numpy and matplotlib"
       ]
      },
      {
       "output_type": "stream",
       "stream": "stdout",
       "text": [
        "\n",
        "changing to source dirctory"
       ]
      },
      {
       "output_type": "stream",
       "stream": "stdout",
       "text": [
        "\n",
        "populating namespace with data"
       ]
      },
      {
       "output_type": "stream",
       "stream": "stdout",
       "text": [
        "\n"
       ]
      }
     ],
     "prompt_number": 1
    },
    {
     "cell_type": "heading",
     "level": 4,
     "metadata": {},
     "source": [
      "Read in TCGA HNSCCC Molecular Validation Calls"
     ]
    },
    {
     "cell_type": "code",
     "collapsed": false,
     "input": [
      "f = '../Data/MAFs/PR_TCGA_HNSC_PAIR_Capture_All_Pairs_QCPASS_v4.aggregated.capture.tcga.uuid.automated.somatic.maf.txt'\n",
      "mut_new = pd.read_table(f, skiprows=4, low_memory=False)"
     ],
     "language": "python",
     "metadata": {},
     "outputs": [],
     "prompt_number": 2
    },
    {
     "cell_type": "code",
     "collapsed": false,
     "input": [
      "keep = (mut_new.Variant_Classification.isin(['Silent', 'Intron', \"3'UTR\", \"5'UTR\"])==False)\n",
      "mut_new = mut_new[keep]\n",
      "mut_new['barcode'] = mut_new.Tumor_Sample_Barcode.map(lambda s: s[:12])\n",
      "mut_new = mut_new.groupby(['barcode','Hugo_Symbol']).size().unstack().fillna(0).T"
     ],
     "language": "python",
     "metadata": {},
     "outputs": [],
     "prompt_number": 3
    },
    {
     "cell_type": "code",
     "collapsed": false,
     "input": [
      "mut_old = mut.df.ix[mut_new.index, mut_new.columns].dropna([0,1], how='all')"
     ],
     "language": "python",
     "metadata": {},
     "outputs": [],
     "prompt_number": 4
    },
    {
     "cell_type": "code",
     "collapsed": false,
     "input": [
      "del_3p = cn.features.ix['Deletion'].ix['3p14.2'].ix[0]\n",
      "del_3p.name = '3p_deletion'"
     ],
     "language": "python",
     "metadata": {},
     "outputs": [],
     "prompt_number": 5
    },
    {
     "cell_type": "heading",
     "level": 1,
     "metadata": {},
     "source": [
      "Validation of Molecular Associations in Recent TCGA Patients"
     ]
    },
    {
     "cell_type": "code",
     "collapsed": false,
     "input": [
      "mut_all = mut.df.combine_first(mut_new)\n",
      "\n",
      "clinical_cohort = mut.df.columns\n",
      "molecular_cohort = mut_new.columns.diff(mut.features.columns)\n",
      "hpv_neg_cohort = mut_all.columns.intersection(true_index(hpv == 0))\n",
      "molecular_cohort_n = molecular_cohort.intersection(hpv_neg_cohort)"
     ],
     "language": "python",
     "metadata": {},
     "outputs": [],
     "prompt_number": 6
    },
    {
     "cell_type": "heading",
     "level": 3,
     "metadata": {},
     "source": [
      "TP53 is mutually exclusive with HPV status"
     ]
    },
    {
     "cell_type": "markdown",
     "metadata": {},
     "source": [
      "This association is very significnat but weaking in the validation data.  This could be because of less acurate mutation calls, or less accurate HPV status assignment as most of these patients' HPV statuses were inferred from the expression data."
     ]
    },
    {
     "cell_type": "code",
     "collapsed": false,
     "input": [
      "cohorts = {'Discovery': clinical_cohort, 'Validation': molecular_cohort, 'All': mut_all.columns}"
     ],
     "language": "python",
     "metadata": {},
     "outputs": [],
     "prompt_number": 7
    },
    {
     "cell_type": "code",
     "collapsed": false,
     "input": [
      "hpv.name = 'HPV'"
     ],
     "language": "python",
     "metadata": {},
     "outputs": [],
     "prompt_number": 8
    },
    {
     "cell_type": "code",
     "collapsed": false,
     "input": [
      "ct = pd.concat({c: combine(hpv, mut_all.ix['TP53']>0).ix[s].value_counts()\n",
      "                for c,s in cohorts.iteritems()}, axis=1)\n",
      "ct.ix[['neither','HPV','TP53','both'],['Discovery','Validation','All']]"
     ],
     "language": "python",
     "metadata": {},
     "outputs": [
      {
       "html": [
        "<div style=\"max-height:1000px;max-width:1500px;overflow:auto;\">\n",
        "<table border=\"1\" class=\"dataframe\">\n",
        "  <thead>\n",
        "    <tr style=\"text-align: right;\">\n",
        "      <th></th>\n",
        "      <th>Discovery</th>\n",
        "      <th>Validation</th>\n",
        "      <th>All</th>\n",
        "    </tr>\n",
        "  </thead>\n",
        "  <tbody>\n",
        "    <tr>\n",
        "      <th>neither</th>\n",
        "      <td>  52</td>\n",
        "      <td>  32</td>\n",
        "      <td>  84</td>\n",
        "    </tr>\n",
        "    <tr>\n",
        "      <th>HPV</th>\n",
        "      <td>  41</td>\n",
        "      <td>  31</td>\n",
        "      <td>  72</td>\n",
        "    </tr>\n",
        "    <tr>\n",
        "      <th>TP53</th>\n",
        "      <td> 211</td>\n",
        "      <td> 139</td>\n",
        "      <td> 350</td>\n",
        "    </tr>\n",
        "    <tr>\n",
        "      <th>both</th>\n",
        "      <td>   2</td>\n",
        "      <td>   3</td>\n",
        "      <td>   5</td>\n",
        "    </tr>\n",
        "  </tbody>\n",
        "</table>\n",
        "<p>4 rows \u00d7 3 columns</p>\n",
        "</div>"
       ],
       "metadata": {},
       "output_type": "pyout",
       "prompt_number": 9,
       "text": [
        "         Discovery  Validation  All\n",
        "neither         52          32   84\n",
        "HPV             41          31   72\n",
        "TP53           211         139  350\n",
        "both             2           3    5\n",
        "\n",
        "[4 rows x 3 columns]"
       ]
      }
     ],
     "prompt_number": 9
    },
    {
     "cell_type": "code",
     "collapsed": false,
     "input": [
      "stats = pd.concat({c: fisher_exact_test(hpv.ix[s], mut_all.ix['TP53'].ix[s]>0)\n",
      "                  for c,s in cohorts.iteritems()}, axis=1)\n",
      "stats[['Discovery','Validation','All']]"
     ],
     "language": "python",
     "metadata": {},
     "outputs": [
      {
       "html": [
        "<div style=\"max-height:1000px;max-width:1500px;overflow:auto;\">\n",
        "<table border=\"1\" class=\"dataframe\">\n",
        "  <thead>\n",
        "    <tr style=\"text-align: right;\">\n",
        "      <th></th>\n",
        "      <th>Discovery</th>\n",
        "      <th>Validation</th>\n",
        "      <th>All</th>\n",
        "    </tr>\n",
        "  </thead>\n",
        "  <tbody>\n",
        "    <tr>\n",
        "      <th>odds_ratio</th>\n",
        "      <td> 1.20e-02</td>\n",
        "      <td> 2.23e-02</td>\n",
        "      <td> 1.67e-02</td>\n",
        "    </tr>\n",
        "    <tr>\n",
        "      <th>p</th>\n",
        "      <td> 1.70e-22</td>\n",
        "      <td> 5.90e-16</td>\n",
        "      <td> 2.93e-37</td>\n",
        "    </tr>\n",
        "  </tbody>\n",
        "</table>\n",
        "<p>2 rows \u00d7 3 columns</p>\n",
        "</div>"
       ],
       "metadata": {},
       "output_type": "pyout",
       "prompt_number": 10,
       "text": [
        "            Discovery  Validation       All\n",
        "odds_ratio   1.20e-02    2.23e-02  1.67e-02\n",
        "p            1.70e-22    5.90e-16  2.93e-37\n",
        "\n",
        "[2 rows x 3 columns]"
       ]
      }
     ],
     "prompt_number": 10
    },
    {
     "cell_type": "heading",
     "level": 3,
     "metadata": {},
     "source": [
      "TP53 mutation and 3p deletion have high co-occurance"
     ]
    },
    {
     "cell_type": "markdown",
     "metadata": {},
     "source": [
      "Note that the HPV- cohort contains a couple of the patients in original TCGA analysis set that were filtered out due to missing data or old age.  "
     ]
    },
    {
     "cell_type": "code",
     "collapsed": false,
     "input": [
      "cohorts = {'Discovery': keepers_o, 'Validation': molecular_cohort_n, 'HPV-': hpv_neg_cohort}"
     ],
     "language": "python",
     "metadata": {},
     "outputs": [],
     "prompt_number": 11
    },
    {
     "cell_type": "code",
     "collapsed": false,
     "input": [
      "ct = pd.concat({c: combine(mut_all.ix['TP53'].ix[s].dropna()>0, del_3p<0).value_counts()\n",
      "                for c,s in cohorts.iteritems()}, axis=1)\n",
      "ct.ix[['neither','3p_deletion','TP53','both'],['Discovery','Validation','HPV-']]"
     ],
     "language": "python",
     "metadata": {},
     "outputs": [
      {
       "html": [
        "<div style=\"max-height:1000px;max-width:1500px;overflow:auto;\">\n",
        "<table border=\"1\" class=\"dataframe\">\n",
        "  <thead>\n",
        "    <tr style=\"text-align: right;\">\n",
        "      <th></th>\n",
        "      <th>Discovery</th>\n",
        "      <th>Validation</th>\n",
        "      <th>HPV-</th>\n",
        "    </tr>\n",
        "  </thead>\n",
        "  <tbody>\n",
        "    <tr>\n",
        "      <th>neither</th>\n",
        "      <td>  22</td>\n",
        "      <td> 18</td>\n",
        "      <td>  42</td>\n",
        "    </tr>\n",
        "    <tr>\n",
        "      <th>3p_deletion</th>\n",
        "      <td>  26</td>\n",
        "      <td>  7</td>\n",
        "      <td>  33</td>\n",
        "    </tr>\n",
        "    <tr>\n",
        "      <th>TP53</th>\n",
        "      <td>  23</td>\n",
        "      <td> 20</td>\n",
        "      <td>  45</td>\n",
        "    </tr>\n",
        "    <tr>\n",
        "      <th>both</th>\n",
        "      <td> 179</td>\n",
        "      <td> 81</td>\n",
        "      <td> 265</td>\n",
        "    </tr>\n",
        "  </tbody>\n",
        "</table>\n",
        "<p>4 rows \u00d7 3 columns</p>\n",
        "</div>"
       ],
       "metadata": {},
       "output_type": "pyout",
       "prompt_number": 12,
       "text": [
        "             Discovery  Validation  HPV-\n",
        "neither             22          18    42\n",
        "3p_deletion         26           7    33\n",
        "TP53                23          20    45\n",
        "both               179          81   265\n",
        "\n",
        "[4 rows x 3 columns]"
       ]
      }
     ],
     "prompt_number": 12
    },
    {
     "cell_type": "code",
     "collapsed": false,
     "input": [
      "stats = pd.concat({c: fisher_exact_test(mut_all.ix['TP53'].ix[s]>0, del_3p<0)\n",
      "                  for c,s in cohorts.iteritems()}, axis=1)\n",
      "stats[['Discovery','Validation','HPV-']]"
     ],
     "language": "python",
     "metadata": {},
     "outputs": [
      {
       "html": [
        "<div style=\"max-height:1000px;max-width:1500px;overflow:auto;\">\n",
        "<table border=\"1\" class=\"dataframe\">\n",
        "  <thead>\n",
        "    <tr style=\"text-align: right;\">\n",
        "      <th></th>\n",
        "      <th>Discovery</th>\n",
        "      <th>Validation</th>\n",
        "      <th>HPV-</th>\n",
        "    </tr>\n",
        "  </thead>\n",
        "  <tbody>\n",
        "    <tr>\n",
        "      <th>odds_ratio</th>\n",
        "      <td> 6.59e+00</td>\n",
        "      <td> 1.04e+01</td>\n",
        "      <td> 7.49e+00</td>\n",
        "    </tr>\n",
        "    <tr>\n",
        "      <th>p</th>\n",
        "      <td> 3.56e-07</td>\n",
        "      <td> 1.44e-06</td>\n",
        "      <td> 8.11e-13</td>\n",
        "    </tr>\n",
        "  </tbody>\n",
        "</table>\n",
        "<p>2 rows \u00d7 3 columns</p>\n",
        "</div>"
       ],
       "metadata": {},
       "output_type": "pyout",
       "prompt_number": 13,
       "text": [
        "            Discovery  Validation      HPV-\n",
        "odds_ratio   6.59e+00    1.04e+01  7.49e+00\n",
        "p            3.56e-07    1.44e-06  8.11e-13\n",
        "\n",
        "[2 rows x 3 columns]"
       ]
      }
     ],
     "prompt_number": 13
    },
    {
     "cell_type": "markdown",
     "metadata": {},
     "source": [
      "Here we show that 3p is has the highest association of any chromosomal segment with TP53 mutation in both training and discovery cohorts. "
     ]
    },
    {
     "cell_type": "code",
     "collapsed": false,
     "input": [
      "cn.features.index = cn.features.index.droplevel(2)\n",
      "r1 = screen_feature(mut_all.ix['TP53'].ix[molecular_cohort_n] > 0, fisher_exact_test, \n",
      "                    cn.features.ix['Deletion'] < 0)\n",
      "r2 = screen_feature(mut_all.ix['TP53'].ix[molecular_cohort_n] > 0, fisher_exact_test, \n",
      "                    cn.features.ix['Amplification'] > 0)\n",
      "\n",
      "r3 = screen_feature(mut_all.ix['TP53'].ix[keepers_o] > 0, fisher_exact_test, \n",
      "                    cn.features.ix['Deletion'] < 0)\n",
      "r4 = screen_feature(mut_all.ix['TP53'].ix[keepers_o] > 0, fisher_exact_test, \n",
      "                    cn.features.ix['Amplification'] > 0)"
     ],
     "language": "python",
     "metadata": {},
     "outputs": [],
     "prompt_number": 14
    },
    {
     "cell_type": "code",
     "collapsed": false,
     "input": [
      "v1 = pd.concat([r3, r1], keys=['Discovery','Validation'], axis=1).sort([('Discovery','p')])\n",
      "v2 = pd.concat([r4, r2], keys=['Discovery','Validation'], axis=1).sort([('Discovery','p')])\n",
      "v3 = pd.concat([v1.head(6), v2.head(6)], keys=['Deletion','Amplification'])\n",
      "v3.columns = v3.columns.swaplevel(0,1)\n",
      "v3 = v3.sort_index(axis=1)\n",
      "del v3['q']\n",
      "v3[('q','bonf')] = pd.concat([v3.p.Discovery['Deletion'] * len(r3), \n",
      "                              v3.p.Discovery['Amplification'] * len(r4)],\n",
      "                             keys=['Deletion','Amplification'])\n",
      "v3"
     ],
     "language": "python",
     "metadata": {},
     "outputs": [
      {
       "html": [
        "<div style=\"max-height:1000px;max-width:1500px;overflow:auto;\">\n",
        "<table border=\"1\" class=\"dataframe\">\n",
        "  <thead>\n",
        "    <tr>\n",
        "      <th></th>\n",
        "      <th></th>\n",
        "      <th colspan=\"2\" halign=\"left\">odds_ratio</th>\n",
        "      <th colspan=\"2\" halign=\"left\">p</th>\n",
        "      <th>q</th>\n",
        "    </tr>\n",
        "    <tr>\n",
        "      <th></th>\n",
        "      <th></th>\n",
        "      <th>Discovery</th>\n",
        "      <th>Validation</th>\n",
        "      <th>Discovery</th>\n",
        "      <th>Validation</th>\n",
        "      <th>bonf</th>\n",
        "    </tr>\n",
        "  </thead>\n",
        "  <tbody>\n",
        "    <tr>\n",
        "      <th rowspan=\"6\" valign=\"top\">Deletion</th>\n",
        "      <th>3p14.3</th>\n",
        "      <td> 6.59</td>\n",
        "      <td> 10.41</td>\n",
        "      <td> 3.56e-07</td>\n",
        "      <td> 1.44e-06</td>\n",
        "      <td> 1.71e-05</td>\n",
        "    </tr>\n",
        "    <tr>\n",
        "      <th>3p14.2</th>\n",
        "      <td> 6.59</td>\n",
        "      <td> 10.41</td>\n",
        "      <td> 3.56e-07</td>\n",
        "      <td> 1.44e-06</td>\n",
        "      <td> 1.71e-05</td>\n",
        "    </tr>\n",
        "    <tr>\n",
        "      <th>3p25.3</th>\n",
        "      <td> 5.49</td>\n",
        "      <td>  9.23</td>\n",
        "      <td> 1.81e-06</td>\n",
        "      <td> 4.17e-06</td>\n",
        "      <td> 8.68e-05</td>\n",
        "    </tr>\n",
        "    <tr>\n",
        "      <th>3p12.2</th>\n",
        "      <td> 5.07</td>\n",
        "      <td>  8.72</td>\n",
        "      <td> 6.28e-06</td>\n",
        "      <td> 6.87e-06</td>\n",
        "      <td> 3.02e-04</td>\n",
        "    </tr>\n",
        "    <tr>\n",
        "      <th>10p15.3</th>\n",
        "      <td> 4.00</td>\n",
        "      <td>  6.10</td>\n",
        "      <td> 6.74e-04</td>\n",
        "      <td> 7.33e-03</td>\n",
        "      <td> 3.24e-02</td>\n",
        "    </tr>\n",
        "    <tr>\n",
        "      <th>11q23.1</th>\n",
        "      <td> 3.23</td>\n",
        "      <td>  3.04</td>\n",
        "      <td> 1.12e-03</td>\n",
        "      <td> 5.79e-02</td>\n",
        "      <td> 5.36e-02</td>\n",
        "    </tr>\n",
        "    <tr>\n",
        "      <th rowspan=\"6\" valign=\"top\">Amplification</th>\n",
        "      <th>3q26.33</th>\n",
        "      <td> 6.35</td>\n",
        "      <td>  7.82</td>\n",
        "      <td> 9.00e-08</td>\n",
        "      <td> 2.43e-05</td>\n",
        "      <td> 2.34e-06</td>\n",
        "    </tr>\n",
        "    <tr>\n",
        "      <th>8q24.21</th>\n",
        "      <td> 4.24</td>\n",
        "      <td>  2.70</td>\n",
        "      <td> 3.98e-05</td>\n",
        "      <td> 7.84e-02</td>\n",
        "      <td> 1.04e-03</td>\n",
        "    </tr>\n",
        "    <tr>\n",
        "      <th>12p13.33</th>\n",
        "      <td> 3.21</td>\n",
        "      <td>  1.46</td>\n",
        "      <td> 2.63e-03</td>\n",
        "      <td> 6.12e-01</td>\n",
        "      <td> 6.85e-02</td>\n",
        "    </tr>\n",
        "    <tr>\n",
        "      <th>9p24.1</th>\n",
        "      <td> 0.40</td>\n",
        "      <td>  0.76</td>\n",
        "      <td> 8.88e-03</td>\n",
        "      <td> 6.05e-01</td>\n",
        "      <td> 2.31e-01</td>\n",
        "    </tr>\n",
        "    <tr>\n",
        "      <th>18p11.31</th>\n",
        "      <td> 2.61</td>\n",
        "      <td>  4.41</td>\n",
        "      <td> 1.69e-02</td>\n",
        "      <td> 3.91e-02</td>\n",
        "      <td> 4.40e-01</td>\n",
        "    </tr>\n",
        "    <tr>\n",
        "      <th>8q11.21</th>\n",
        "      <td> 2.13</td>\n",
        "      <td>  2.41</td>\n",
        "      <td> 2.15e-02</td>\n",
        "      <td> 5.88e-02</td>\n",
        "      <td> 5.60e-01</td>\n",
        "    </tr>\n",
        "  </tbody>\n",
        "</table>\n",
        "<p>12 rows \u00d7 5 columns</p>\n",
        "</div>"
       ],
       "metadata": {},
       "output_type": "pyout",
       "prompt_number": 15,
       "text": [
        "                        odds_ratio                      p                     q\n",
        "                         Discovery  Validation  Discovery  Validation      bonf\n",
        "Deletion      3p14.3          6.59       10.41   3.56e-07    1.44e-06  1.71e-05\n",
        "              3p14.2          6.59       10.41   3.56e-07    1.44e-06  1.71e-05\n",
        "              3p25.3          5.49        9.23   1.81e-06    4.17e-06  8.68e-05\n",
        "              3p12.2          5.07        8.72   6.28e-06    6.87e-06  3.02e-04\n",
        "              10p15.3         4.00        6.10   6.74e-04    7.33e-03  3.24e-02\n",
        "              11q23.1         3.23        3.04   1.12e-03    5.79e-02  5.36e-02\n",
        "Amplification 3q26.33         6.35        7.82   9.00e-08    2.43e-05  2.34e-06\n",
        "              8q24.21         4.24        2.70   3.98e-05    7.84e-02  1.04e-03\n",
        "              12p13.33        3.21        1.46   2.63e-03    6.12e-01  6.85e-02\n",
        "              9p24.1          0.40        0.76   8.88e-03    6.05e-01  2.31e-01\n",
        "              18p11.31        2.61        4.41   1.69e-02    3.91e-02  4.40e-01\n",
        "              8q11.21         2.13        2.41   2.15e-02    5.88e-02  5.60e-01\n",
        "\n",
        "[12 rows x 5 columns]"
       ]
      }
     ],
     "prompt_number": 15
    },
    {
     "cell_type": "heading",
     "level": 3,
     "metadata": {},
     "source": [
      "TP53-3p and CASP8 are Mutually Exclusive"
     ]
    },
    {
     "cell_type": "code",
     "collapsed": false,
     "input": [
      "combo_all = combine(mut_all.ix['TP53']>0, del_3p<0)\n",
      "two_hit = combo_all == 'both'\n",
      "two_hit.name = 'TP53-3p'"
     ],
     "language": "python",
     "metadata": {},
     "outputs": [],
     "prompt_number": 16
    },
    {
     "cell_type": "code",
     "collapsed": false,
     "input": [
      "ct = pd.concat({c: combine(two_hit, mut_all.ix['CASP8']>0).ix[s].value_counts()\n",
      "                for c,s in cohorts.iteritems()}, axis=1)\n",
      "ct.ix[['neither','CASP8','TP53-3p','both'],['Discovery','Validation','HPV-']]"
     ],
     "language": "python",
     "metadata": {},
     "outputs": [
      {
       "html": [
        "<div style=\"max-height:1000px;max-width:1500px;overflow:auto;\">\n",
        "<table border=\"1\" class=\"dataframe\">\n",
        "  <thead>\n",
        "    <tr style=\"text-align: right;\">\n",
        "      <th></th>\n",
        "      <th>Discovery</th>\n",
        "      <th>Validation</th>\n",
        "      <th>HPV-</th>\n",
        "    </tr>\n",
        "  </thead>\n",
        "  <tbody>\n",
        "    <tr>\n",
        "      <th>neither</th>\n",
        "      <td>  56</td>\n",
        "      <td> 27</td>\n",
        "      <td>  84</td>\n",
        "    </tr>\n",
        "    <tr>\n",
        "      <th>CASP8</th>\n",
        "      <td>  15</td>\n",
        "      <td> 18</td>\n",
        "      <td>  36</td>\n",
        "    </tr>\n",
        "    <tr>\n",
        "      <th>TP53-3p</th>\n",
        "      <td> 173</td>\n",
        "      <td> 79</td>\n",
        "      <td> 255</td>\n",
        "    </tr>\n",
        "    <tr>\n",
        "      <th>both</th>\n",
        "      <td>   6</td>\n",
        "      <td>  2</td>\n",
        "      <td>  10</td>\n",
        "    </tr>\n",
        "  </tbody>\n",
        "</table>\n",
        "<p>4 rows \u00d7 3 columns</p>\n",
        "</div>"
       ],
       "metadata": {},
       "output_type": "pyout",
       "prompt_number": 17,
       "text": [
        "         Discovery  Validation  HPV-\n",
        "neither         56          27    84\n",
        "CASP8           15          18    36\n",
        "TP53-3p        173          79   255\n",
        "both             6           2    10\n",
        "\n",
        "[4 rows x 3 columns]"
       ]
      }
     ],
     "prompt_number": 17
    },
    {
     "cell_type": "code",
     "collapsed": false,
     "input": [
      "ct = pd.concat({c: combine(two_hit, mut_all.ix['CASP8']>0).ix[s].value_counts()\n",
      "                for c,s in cohorts.iteritems()}, axis=1)\n",
      "ct.ix[['neither','CASP8','TP53-3p','both'],['Discovery','Validation','HPV-']]"
     ],
     "language": "python",
     "metadata": {},
     "outputs": [
      {
       "html": [
        "<div style=\"max-height:1000px;max-width:1500px;overflow:auto;\">\n",
        "<table border=\"1\" class=\"dataframe\">\n",
        "  <thead>\n",
        "    <tr style=\"text-align: right;\">\n",
        "      <th></th>\n",
        "      <th>Discovery</th>\n",
        "      <th>Validation</th>\n",
        "      <th>HPV-</th>\n",
        "    </tr>\n",
        "  </thead>\n",
        "  <tbody>\n",
        "    <tr>\n",
        "      <th>neither</th>\n",
        "      <td>  56</td>\n",
        "      <td> 27</td>\n",
        "      <td>  84</td>\n",
        "    </tr>\n",
        "    <tr>\n",
        "      <th>CASP8</th>\n",
        "      <td>  15</td>\n",
        "      <td> 18</td>\n",
        "      <td>  36</td>\n",
        "    </tr>\n",
        "    <tr>\n",
        "      <th>TP53-3p</th>\n",
        "      <td> 173</td>\n",
        "      <td> 79</td>\n",
        "      <td> 255</td>\n",
        "    </tr>\n",
        "    <tr>\n",
        "      <th>both</th>\n",
        "      <td>   6</td>\n",
        "      <td>  2</td>\n",
        "      <td>  10</td>\n",
        "    </tr>\n",
        "  </tbody>\n",
        "</table>\n",
        "<p>4 rows \u00d7 3 columns</p>\n",
        "</div>"
       ],
       "metadata": {},
       "output_type": "pyout",
       "prompt_number": 18,
       "text": [
        "         Discovery  Validation  HPV-\n",
        "neither         56          27    84\n",
        "CASP8           15          18    36\n",
        "TP53-3p        173          79   255\n",
        "both             6           2    10\n",
        "\n",
        "[4 rows x 3 columns]"
       ]
      }
     ],
     "prompt_number": 18
    },
    {
     "cell_type": "code",
     "collapsed": false,
     "input": [
      "stats = pd.concat({c: fisher_exact_test(two_hit.ix[s], mut_all.ix['CASP8']>0)\n",
      "                  for c,s in cohorts.iteritems()}, axis=1)\n",
      "stats[['Discovery','Validation','HPV-']]"
     ],
     "language": "python",
     "metadata": {},
     "outputs": [
      {
       "html": [
        "<div style=\"max-height:1000px;max-width:1500px;overflow:auto;\">\n",
        "<table border=\"1\" class=\"dataframe\">\n",
        "  <thead>\n",
        "    <tr style=\"text-align: right;\">\n",
        "      <th></th>\n",
        "      <th>Discovery</th>\n",
        "      <th>Validation</th>\n",
        "      <th>HPV-</th>\n",
        "    </tr>\n",
        "  </thead>\n",
        "  <tbody>\n",
        "    <tr>\n",
        "      <th>odds_ratio</th>\n",
        "      <td> 1.29e-01</td>\n",
        "      <td> 3.80e-02</td>\n",
        "      <td> 9.15e-02</td>\n",
        "    </tr>\n",
        "    <tr>\n",
        "      <th>p</th>\n",
        "      <td> 2.32e-05</td>\n",
        "      <td> 6.77e-08</td>\n",
        "      <td> 2.50e-12</td>\n",
        "    </tr>\n",
        "  </tbody>\n",
        "</table>\n",
        "<p>2 rows \u00d7 3 columns</p>\n",
        "</div>"
       ],
       "metadata": {},
       "output_type": "pyout",
       "prompt_number": 19,
       "text": [
        "            Discovery  Validation      HPV-\n",
        "odds_ratio   1.29e-01    3.80e-02  9.15e-02\n",
        "p            2.32e-05    6.77e-08  2.50e-12\n",
        "\n",
        "[2 rows x 3 columns]"
       ]
      }
     ],
     "prompt_number": 19
    },
    {
     "cell_type": "heading",
     "level": 3,
     "metadata": {},
     "source": [
      "TP53-3p and RAS/SOS1 Pathway are Mutually Exclusive"
     ]
    },
    {
     "cell_type": "code",
     "collapsed": false,
     "input": [
      "combo_all = combine(mut_all.ix['TP53']>0, del_3p<0)\n",
      "two_hit = combo_all == 'both'\n",
      "two_hit.name = 'TP53-3p'"
     ],
     "language": "python",
     "metadata": {},
     "outputs": [],
     "prompt_number": 20
    },
    {
     "cell_type": "code",
     "collapsed": false,
     "input": [
      "gs = run.gene_sets['REACTOME_SOS_MEDIATED_SIGNALLING']\n",
      "sos1_pathway = mut_all.ix[gs].sum()>0\n",
      "sos1_pathway.name = 'SOS1 Pathway'"
     ],
     "language": "python",
     "metadata": {},
     "outputs": [],
     "prompt_number": 21
    },
    {
     "cell_type": "code",
     "collapsed": false,
     "input": [
      "ct = pd.concat({c: combine(two_hit, sos1_pathway>0).ix[s].value_counts()\n",
      "                for c,s in cohorts.iteritems()}, axis=1)\n",
      "ct.ix[['neither','SOS1 Pathway','TP53-3p','both'],['Discovery','Validation','HPV-']]"
     ],
     "language": "python",
     "metadata": {},
     "outputs": [
      {
       "html": [
        "<div style=\"max-height:1000px;max-width:1500px;overflow:auto;\">\n",
        "<table border=\"1\" class=\"dataframe\">\n",
        "  <thead>\n",
        "    <tr style=\"text-align: right;\">\n",
        "      <th></th>\n",
        "      <th>Discovery</th>\n",
        "      <th>Validation</th>\n",
        "      <th>HPV-</th>\n",
        "    </tr>\n",
        "  </thead>\n",
        "  <tbody>\n",
        "    <tr>\n",
        "      <th>neither</th>\n",
        "      <td>  54</td>\n",
        "      <td> 28</td>\n",
        "      <td>  83</td>\n",
        "    </tr>\n",
        "    <tr>\n",
        "      <th>SOS1 Pathway</th>\n",
        "      <td>  17</td>\n",
        "      <td> 17</td>\n",
        "      <td>  37</td>\n",
        "    </tr>\n",
        "    <tr>\n",
        "      <th>TP53-3p</th>\n",
        "      <td> 173</td>\n",
        "      <td> 77</td>\n",
        "      <td> 254</td>\n",
        "    </tr>\n",
        "    <tr>\n",
        "      <th>both</th>\n",
        "      <td>   6</td>\n",
        "      <td>  4</td>\n",
        "      <td>  11</td>\n",
        "    </tr>\n",
        "  </tbody>\n",
        "</table>\n",
        "<p>4 rows \u00d7 3 columns</p>\n",
        "</div>"
       ],
       "metadata": {},
       "output_type": "pyout",
       "prompt_number": 22,
       "text": [
        "              Discovery  Validation  HPV-\n",
        "neither              54          28    83\n",
        "SOS1 Pathway         17          17    37\n",
        "TP53-3p             173          77   254\n",
        "both                  6           4    11\n",
        "\n",
        "[4 rows x 3 columns]"
       ]
      }
     ],
     "prompt_number": 22
    },
    {
     "cell_type": "code",
     "collapsed": false,
     "input": [
      "stats = pd.concat({c: fisher_exact_test(two_hit.ix[s],  sos1_pathway)\n",
      "                  for c,s in cohorts.iteritems()}, axis=1)\n",
      "stats[['Discovery','Validation','HPV-']]"
     ],
     "language": "python",
     "metadata": {},
     "outputs": [
      {
       "html": [
        "<div style=\"max-height:1000px;max-width:1500px;overflow:auto;\">\n",
        "<table border=\"1\" class=\"dataframe\">\n",
        "  <thead>\n",
        "    <tr style=\"text-align: right;\">\n",
        "      <th></th>\n",
        "      <th>Discovery</th>\n",
        "      <th>Validation</th>\n",
        "      <th>HPV-</th>\n",
        "    </tr>\n",
        "  </thead>\n",
        "  <tbody>\n",
        "    <tr>\n",
        "      <th>odds_ratio</th>\n",
        "      <td> 1.10e-01</td>\n",
        "      <td> 8.56e-02</td>\n",
        "      <td> 9.71e-02</td>\n",
        "    </tr>\n",
        "    <tr>\n",
        "      <th>p</th>\n",
        "      <td> 2.50e-06</td>\n",
        "      <td> 4.63e-06</td>\n",
        "      <td> 2.61e-12</td>\n",
        "    </tr>\n",
        "  </tbody>\n",
        "</table>\n",
        "<p>2 rows \u00d7 3 columns</p>\n",
        "</div>"
       ],
       "metadata": {},
       "output_type": "pyout",
       "prompt_number": 23,
       "text": [
        "            Discovery  Validation      HPV-\n",
        "odds_ratio   1.10e-01    8.56e-02  9.71e-02\n",
        "p            2.50e-06    4.63e-06  2.61e-12\n",
        "\n",
        "[2 rows x 3 columns]"
       ]
      }
     ],
     "prompt_number": 23
    }
   ],
   "metadata": {}
  }
 ]
}