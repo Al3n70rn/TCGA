{
 "metadata": {
  "name": ""
 },
 "nbformat": 3,
 "nbformat_minor": 0,
 "worksheets": [
  {
   "cells": [
    {
     "cell_type": "markdown",
     "metadata": {},
     "source": [
      "<h1 class=\"alert alert-info\">Initialization <small>  <i class=\"icon-download\"></i>  Download and process all of the data fom Firehose</small></h1> \n",
      "\n",
      "<h4>See https://confluence.broadinstitute.org/display/GDAC/Download for firehose_get documentation (requires wget)</h4> "
     ]
    },
    {
     "cell_type": "heading",
     "level": 1,
     "metadata": {},
     "source": [
      "Parameters"
     ]
    },
    {
     "cell_type": "markdown",
     "metadata": {},
     "source": [
      "<span class='altert alert-success' style='font-size:120%'>Change __OUT_PATH__ to directory on your machine where you want to store the data</span>"
     ]
    },
    {
     "cell_type": "code",
     "collapsed": false,
     "input": [
      "OUT_PATH = '/cellar/users/agross/HNSCC_Test/Data_man'"
     ],
     "language": "python",
     "metadata": {},
     "outputs": []
    },
    {
     "cell_type": "code",
     "collapsed": false,
     "input": [
      "RUN_DATE = '2013_09_23'\n",
      "CANCER = 'HNSC'\n",
      "VERSION = 'all_2'\n",
      "DESCRIPTION = '''Testing in new file tree.'''\n",
      "\n",
      "PARAMETERS = {'min_patients' : 12,\n",
      "              'pathway_file' : '../Extra_Data/c2.cp.v3.0.symbols_edit.csv'\n",
      "              }"
     ],
     "language": "python",
     "metadata": {},
     "outputs": []
    },
    {
     "cell_type": "heading",
     "level": 1,
     "metadata": {},
     "source": [
      "Initialization"
     ]
    },
    {
     "cell_type": "code",
     "collapsed": false,
     "input": [
      "cd ../src/"
     ],
     "language": "python",
     "metadata": {},
     "outputs": []
    },
    {
     "cell_type": "code",
     "collapsed": false,
     "input": [
      "import pickle as pickle\n",
      "import pandas as pd\n",
      "import os as os \n",
      "\n",
      "from Data.Containers import Run\n",
      "\n",
      "from Data.Containers import get_run\n",
      "from Data.Containers import Cancer\n",
      "from Initialization.InitializeCN import initialize_cn\n",
      "from Initialization.InitializeReal import initialize_real\n",
      "from Initialization.InitializeMut import initialize_mut\n",
      "from Initialization.PreprocessMethylation import process_meth"
     ],
     "language": "python",
     "metadata": {},
     "outputs": []
    },
    {
     "cell_type": "code",
     "collapsed": false,
     "input": [
      "!curl http://gdac.broadinstitute.org/runs/code/firehose_get_latest.zip -o fh_get.zip\n",
      "! unzip fh_get.zip"
     ],
     "language": "python",
     "metadata": {},
     "outputs": []
    },
    {
     "cell_type": "heading",
     "level": 1,
     "metadata": {},
     "source": [
      "Download data"
     ]
    },
    {
     "cell_type": "code",
     "collapsed": false,
     "input": [
      "d = 'http://gdac.broadinstitute.org/runs/analyses__{}/ingested_data.tsv'.format(RUN_DATE)\n",
      "tab = pd.read_table(d, skiprows=3, index_col=0).dropna()"
     ],
     "language": "python",
     "metadata": {},
     "outputs": []
    },
    {
     "cell_type": "code",
     "collapsed": false,
     "input": [
      "cancers = tab[tab.Clinical>0].index[:-1]"
     ],
     "language": "python",
     "metadata": {},
     "outputs": []
    },
    {
     "cell_type": "markdown",
     "metadata": {},
     "source": [
      "<span class='alert alert-warning'>Takes about 5 min to download data.</span>"
     ]
    },
    {
     "cell_type": "code",
     "collapsed": false,
     "input": [
      "cancer_string = ' '.join(cancers)"
     ],
     "language": "python",
     "metadata": {},
     "outputs": []
    },
    {
     "cell_type": "code",
     "collapsed": true,
     "input": [
      "!firehose_get -b analyses $RUN_DATE $cancer_string"
     ],
     "language": "python",
     "metadata": {},
     "outputs": [
      {
       "output_type": "stream",
       "stream": "stdout",
       "text": [
        "     0K ........ ........ .....                              100%  656K=2.1s\r\n"
       ]
      },
      {
       "output_type": "stream",
       "stream": "stdout",
       "text": [
        "--2013-10-30 12:51:21--  http://gdac.broadinstitute.org/runs/analyses__2013_09_23/data/KIRC/20130923/gdac.broadinstitute.org_KIRC-TP.CopyNumber_Clustering_CNMF.Level_4.2013092300.0.0.tar.gz.md5\r\n"
       ]
      },
      {
       "output_type": "stream",
       "stream": "stdout",
       "text": [
        "Saving to: `analyses__2013_09_23/KIRC/20130923/gdac.broadinstitute.org_KIRC-TP.CopyNumber_Clustering_CNMF.Level_4.2013092300.0.0.tar.gz.md5'\r\n",
        "     0K                                                      100% 5.80M=0s\r\n",
        "--2013-10-30 12:51:21--  http://gdac.broadinstitute.org/runs/analyses__2013_09_23/data/KIRC/20130923/gdac.broadinstitute.org_KIRC-TP.CopyNumber_Clustering_CNMF.aux.2013092300.0.0.tar.gz\r\n"
       ]
      },
      {
       "output_type": "stream",
       "stream": "stdout",
       "text": [
        "Saving to: `analyses__2013_09_23/KIRC/20130923/gdac.broadinstitute.org_KIRC-TP.CopyNumber_Clustering_CNMF.aux.2013092300.0.0.tar.gz'\r\n",
        "     0K                                                      100%  272M=0s\r\n",
        "--2013-10-30 12:51:21--  http://gdac.broadinstitute.org/runs/analyses__2013_09_23/data/KIRC/20130923/gdac.broadinstitute.org_KIRC-TP.CopyNumber_Clustering_CNMF.aux.2013092300.0.0.tar.gz.md5\r\n"
       ]
      },
      {
       "output_type": "stream",
       "stream": "stdout",
       "text": [
        "Saving to: `analyses__2013_09_23/KIRC/20130923/gdac.broadinstitute.org_KIRC-TP.CopyNumber_Clustering_CNMF.aux.2013092300.0.0.tar.gz.md5'\r\n",
        "     0K                                                      100% 30.9M=0s\r\n",
        "--2013-10-30 12:51:21--  http://gdac.broadinstitute.org/runs/analyses__2013_09_23/data/KIRC/20130923/gdac.broadinstitute.org_KIRC-TP.CopyNumber_Clustering_CNMF.mage-tab.2013092300.0.0.tar.gz\r\n"
       ]
      },
      {
       "output_type": "stream",
       "stream": "stdout",
       "text": [
        "Saving to: `analyses__2013_09_23/KIRC/20130923/gdac.broadinstitute.org_KIRC-TP.CopyNumber_Clustering_CNMF.mage-tab.2013092300.0.0.tar.gz'\r\n",
        "     0K                                                      100%  340M=0s\r\n",
        "--2013-10-30 12:51:21--  http://gdac.broadinstitute.org/runs/analyses__2013_09_23/data/KIRC/20130923/gdac.broadinstitute.org_KIRC-TP.CopyNumber_Clustering_CNMF.mage-tab.2013092300.0.0.tar.gz.md5\r\n"
       ]
      },
      {
       "output_type": "stream",
       "stream": "stdout",
       "text": [
        "Saving to: `analyses__2013_09_23/KIRC/20130923/gdac.broadinstitute.org_KIRC-TP.CopyNumber_Clustering_CNMF.mage-tab.2013092300.0.0.tar.gz.md5'\r\n",
        "     0K                                                      100% 36.1M=0s\r\n",
        "--2013-10-30 12:51:21--  http://gdac.broadinstitute.org/runs/analyses__2013_09_23/data/KIRC/20130923/gdac.broadinstitute.org_KIRC-TP.CopyNumber_Gistic2.Level_4.2013092300.0.0.tar.gz\r\n"
       ]
      },
      {
       "output_type": "stream",
       "stream": "stdout",
       "text": [
        "Saving to: `analyses__2013_09_23/KIRC/20130923/gdac.broadinstitute.org_KIRC-TP.CopyNumber_Gistic2.Level_4.2013092300.0.0.tar.gz'\r\n"
       ]
      },
      {
       "output_type": "stream",
       "stream": "stdout",
       "text": [
        "     0K ........ ........ ........ ........ ........ ........ 11%  844K 28s\r\n"
       ]
      },
      {
       "output_type": "stream",
       "stream": "stdout",
       "text": [
        "  3072K ........ ........ ........ ........ ........ ........ 23%  951K 23s\r\n"
       ]
      }
     ]
    },
    {
     "cell_type": "code",
     "collapsed": false,
     "input": [
      "!firehose_get -b -o miR_gene_expression stddata $RUN_DATE $cancer_string"
     ],
     "language": "python",
     "metadata": {},
     "outputs": []
    },
    {
     "cell_type": "code",
     "collapsed": false,
     "input": [
      "!firehose_get -b -o RSEM_genes_normalized stddata $RUN_DATE $cancer_string"
     ],
     "language": "python",
     "metadata": {},
     "outputs": []
    },
    {
     "cell_type": "code",
     "collapsed": false,
     "input": [
      "!firehose_get -b -o rppa stddata $RUN_DATE $cancer_string"
     ],
     "language": "python",
     "metadata": {},
     "outputs": []
    },
    {
     "cell_type": "code",
     "collapsed": false,
     "input": [
      "!firehose_get -b -o rppa stddata $RUN_DATE "
     ],
     "language": "python",
     "metadata": {},
     "outputs": []
    },
    {
     "cell_type": "code",
     "collapsed": false,
     "input": [
      "!firehose_get -b -o clinical stddata $RUN_DATE $cancer_string"
     ],
     "language": "python",
     "metadata": {},
     "outputs": []
    },
    {
     "cell_type": "markdown",
     "metadata": {},
     "source": [
      "<span class='alert alert-warning'>Takes about 25 min to download methylation data.</span>"
     ]
    },
    {
     "cell_type": "code",
     "collapsed": false,
     "input": [
      "#!firehose_get -b -o humanmethylation450 stddata $RUN_DATE HNSC"
     ],
     "language": "python",
     "metadata": {},
     "outputs": []
    },
    {
     "cell_type": "heading",
     "level": 1,
     "metadata": {},
     "source": [
      "Clean Up Downloads"
     ]
    },
    {
     "cell_type": "code",
     "collapsed": false,
     "input": [
      "!rm fh_get.zip\n",
      "!rm firehose_get"
     ],
     "language": "python",
     "metadata": {},
     "outputs": []
    },
    {
     "cell_type": "code",
     "collapsed": false,
     "input": [
      "if not os.path.isdir(OUT_PATH):\n",
      "    os.makedirs(OUT_PATH)"
     ],
     "language": "python",
     "metadata": {},
     "outputs": []
    },
    {
     "cell_type": "code",
     "collapsed": false,
     "input": [
      "analyses_folder = 'analyses__' + RUN_DATE\n",
      "!mv $analyses_folder {OUT_PATH + '/' + analyses_folder}"
     ],
     "language": "python",
     "metadata": {},
     "outputs": []
    },
    {
     "cell_type": "code",
     "collapsed": false,
     "input": [
      "stddata_folder = 'stddata__' + RUN_DATE\n",
      "!mv $stddata_folder {OUT_PATH + '/' + stddata_folder}"
     ],
     "language": "python",
     "metadata": {},
     "outputs": []
    },
    {
     "cell_type": "heading",
     "level": 1,
     "metadata": {},
     "source": [
      "Exctract data and set up file hierarchy for downstream analysis"
     ]
    },
    {
     "cell_type": "code",
     "collapsed": false,
     "input": [
      "from Initialization.ProcessFirehose import process_firehose_get\n",
      "\n",
      "process_firehose_get(OUT_PATH, CANCER, RUN_DATE)"
     ],
     "language": "python",
     "metadata": {},
     "outputs": []
    },
    {
     "cell_type": "markdown",
     "metadata": {},
     "source": [
      "Get rid of all of the downloaded zip files that we processed"
     ]
    },
    {
     "cell_type": "code",
     "collapsed": false,
     "input": [
      "OUT_PATH"
     ],
     "language": "python",
     "metadata": {},
     "outputs": []
    },
    {
     "cell_type": "code",
     "collapsed": false,
     "input": [
      "!rm -rf {OUT_PATH + '/' + stddata_folder}\n",
      "!rm -rf {OUT_PATH + '/' + analyses_folder}"
     ],
     "language": "python",
     "metadata": {},
     "outputs": []
    },
    {
     "cell_type": "heading",
     "level": 1,
     "metadata": {},
     "source": [
      "Create Run Object for Firehose Download"
     ]
    },
    {
     "cell_type": "code",
     "collapsed": false,
     "input": [
      "data_path = '{}/Firehose__{}/'.format(OUT_PATH, RUN_DATE)\n",
      "result_path = data_path + 'ucsd_analyses/'"
     ],
     "language": "python",
     "metadata": {},
     "outputs": []
    },
    {
     "cell_type": "code",
     "collapsed": false,
     "input": [
      "cancer_codes = pd.read_table('../Extra_Data/diseaseStudy.txt',\n",
      "                             index_col=0, squeeze=True)\n",
      "run_dir = 'http://gdac.broadinstitute.org/runs'\n",
      "f = '{}/analyses__{}/ingested_data.tsv'.format(run_dir, RUN_DATE)\n",
      "sample_matrix = pd.read_table(f, skiprows=3, index_col=0).dropna()"
     ],
     "language": "python",
     "metadata": {},
     "outputs": []
    },
    {
     "cell_type": "code",
     "collapsed": false,
     "input": [
      "run = Run(RUN_DATE, VERSION, data_path, result_path, PARAMETERS, \n",
      "          cancer_codes, sample_matrix, DESCRIPTION)\n",
      "run.save()\n",
      "run"
     ],
     "language": "python",
     "metadata": {},
     "outputs": []
    },
    {
     "cell_type": "heading",
     "level": 1,
     "metadata": {},
     "source": [
      "Initialize Data Objects into the File Hierarchy"
     ]
    },
    {
     "cell_type": "code",
     "collapsed": false,
     "input": [
      "cancer = Cancer(CANCER, run)\n",
      "cancer.initialize_data(run, save=True)\n",
      "initialize_real(CANCER, run.report_path, 'mRNASeq', \n",
      "                create_meta_features=True)\n",
      "initialize_real(CANCER, run.report_path, 'RPPA', \n",
      "                create_meta_features=True, create_real_features=False)\n",
      "initialize_real(CANCER, run.report_path, 'miRNASeq', \n",
      "                create_meta_features=False)\n",
      "initialize_cn(CANCER, run.report_path, 'CN_broad')\n",
      "initialize_mut(CANCER, run.report_path, create_meta_features=True);"
     ],
     "language": "python",
     "metadata": {},
     "outputs": []
    },
    {
     "cell_type": "code",
     "collapsed": false,
     "input": [
      "#process_meth(run.data_path, cancer.name)\n",
      "#initialize_real(cancer_type, run.report_path, 'Methylation', create_meta_features=True)"
     ],
     "language": "python",
     "metadata": {},
     "outputs": []
    }
   ],
   "metadata": {}
  }
 ]
}