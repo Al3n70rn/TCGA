{
 "metadata": {
  "name": ""
 },
 "nbformat": 3,
 "nbformat_minor": 0,
 "worksheets": [
  {
   "cells": [
    {
     "cell_type": "markdown",
     "metadata": {},
     "source": [
      "<h1 class=\"alert alert-info\">Initialization <small>  <i class=\"icon-download\"></i>  Download and process all of the data fom Firehose</small></h1> \n",
      "\n",
      "<h4>See https://confluence.broadinstitute.org/display/GDAC/Download for firehose_get documentation (requires wget)</h4> "
     ]
    },
    {
     "cell_type": "heading",
     "level": 1,
     "metadata": {},
     "source": [
      "Parameters"
     ]
    },
    {
     "cell_type": "markdown",
     "metadata": {},
     "source": [
      "<span class='altert alert-success' style='font-size:120%'>Change __OUT_PATH__ to directory on your machine where you want to store the data</span>"
     ]
    },
    {
     "cell_type": "code",
     "collapsed": false,
     "input": [
      "OUT_PATH = '/cellar/users/agross/HNSCC_Test/Data_man'"
     ],
     "language": "python",
     "metadata": {},
     "outputs": [],
     "prompt_number": 1
    },
    {
     "cell_type": "code",
     "collapsed": false,
     "input": [
      "RUN_DATE = '2013_09_23'\n",
      "CANCER = 'HNSC'\n",
      "VERSION = 'all_2'\n",
      "DESCRIPTION = '''Testing in new file tree.'''\n",
      "\n",
      "PARAMETERS = {'min_patients' : 12,\n",
      "              'pathway_file' : '../Extra_Data/c2.cp.v3.0.symbols_edit.csv'\n",
      "              }"
     ],
     "language": "python",
     "metadata": {},
     "outputs": [],
     "prompt_number": 2
    },
    {
     "cell_type": "heading",
     "level": 1,
     "metadata": {},
     "source": [
      "Initialization"
     ]
    },
    {
     "cell_type": "code",
     "collapsed": false,
     "input": [
      "cd ../src/"
     ],
     "language": "python",
     "metadata": {},
     "outputs": [
      {
       "output_type": "stream",
       "stream": "stdout",
       "text": [
        "/cellar/users/agross/TCGA_Code/TCGA/HNSCC_Manuscript/src\n"
       ]
      }
     ],
     "prompt_number": 3
    },
    {
     "cell_type": "code",
     "collapsed": false,
     "input": [
      "import pickle as pickle\n",
      "import pandas as pd\n",
      "import os as os \n",
      "\n",
      "from Data.Containers import Run\n",
      "\n",
      "from Data.Containers import get_run\n",
      "from Data.Containers import Cancer\n",
      "from Initialization.InitializeCN import initialize_cn\n",
      "from Initialization.InitializeReal import initialize_real\n",
      "from Initialization.InitializeMut import initialize_mut\n",
      "from Initialization.PreprocessMethylation import process_meth"
     ],
     "language": "python",
     "metadata": {},
     "outputs": [],
     "prompt_number": 4
    },
    {
     "cell_type": "code",
     "collapsed": false,
     "input": [
      "!curl http://gdac.broadinstitute.org/runs/code/firehose_get_latest.zip -o fh_get.zip\n",
      "! unzip fh_get.zip"
     ],
     "language": "python",
     "metadata": {},
     "outputs": [
      {
       "output_type": "stream",
       "stream": "stdout",
       "text": [
        "  % Total    % Received % Xferd  Average Speed   Time    Time     Time  Current\r\n",
        "                                 Dload  Upload   Total   Spent    Left  Speed\r\n",
        "\r",
        "  0     0    0     0    0     0      0      0 --:--:-- --:--:-- --:--:--     0"
       ]
      },
      {
       "output_type": "stream",
       "stream": "stdout",
       "text": [
        "\r",
        "  0     0    0     0    0     0      0      0 --:--:-- --:--:-- --:--:--     0"
       ]
      },
      {
       "output_type": "stream",
       "stream": "stdout",
       "text": [
        "\r",
        "100  6422  100  6422    0     0  25123      0 --:--:-- --:--:-- --:--:-- 25085\r\n"
       ]
      },
      {
       "output_type": "stream",
       "stream": "stdout",
       "text": [
        "Archive:  fh_get.zip\r\n",
        "  inflating: firehose_get            \r\n"
       ]
      }
     ],
     "prompt_number": 5
    },
    {
     "cell_type": "heading",
     "level": 1,
     "metadata": {},
     "source": [
      "Download data"
     ]
    },
    {
     "cell_type": "code",
     "collapsed": false,
     "input": [
      "d = 'http://gdac.broadinstitute.org/runs/analyses__{}/ingested_data.tsv'.format(RUN_DATE)\n",
      "tab = pd.read_table(d, skiprows=3, index_col=0).dropna()"
     ],
     "language": "python",
     "metadata": {},
     "outputs": [],
     "prompt_number": 7
    },
    {
     "cell_type": "code",
     "collapsed": false,
     "input": [
      "cancers = tab[tab.Clinical>0].index[:-1]"
     ],
     "language": "python",
     "metadata": {},
     "outputs": [],
     "prompt_number": 11
    },
    {
     "cell_type": "markdown",
     "metadata": {},
     "source": [
      "<span class='alert alert-warning'>Takes about 5 min to download data.</span>"
     ]
    },
    {
     "cell_type": "code",
     "collapsed": false,
     "input": [
      "cancer_string = ' '.join(cancers)"
     ],
     "language": "python",
     "metadata": {},
     "outputs": [],
     "prompt_number": 14
    },
    {
     "cell_type": "code",
     "collapsed": true,
     "input": [
      "!firehose_get -b analyses $RUN_DATE $cancer_string"
     ],
     "language": "python",
     "metadata": {},
     "outputs": [
      {
       "output_type": "stream",
       "stream": "stdout",
       "text": [
        "Validating run selection against Broad Institute website ...\r\n"
       ]
      },
      {
       "output_type": "stream",
       "stream": "stdout",
       "text": [
        "You've asked to download archives for the following disease cohorts\r\n",
        "\r\n",
        "      BLCA BRCA CESC COAD COADREAD DLBC ESCA GBM HNSC KICH KIRC KIRP LAML LGG LIHC LUAD LUSC OV PAAD PANCAN12 PRAD READ SARC SKCM STAD THCA UCEC UCS\r\n",
        "\r\n",
        "from the analyses__2013_09_23 Firehose run. \r\n",
        "Attempting to retrieve data for Broad GDAC run analyses__2013_09_23 ...\r\n",
        "--2013-10-30 11:39:53--  http://gdac.broadinstitute.org/runs/analyses__2013_09_23/data/BLCA/\r\n"
       ]
      },
      {
       "output_type": "stream",
       "stream": "stdout",
       "text": [
        "     0K                                                      100% 75.9M=0s\r\n"
       ]
      },
      {
       "output_type": "stream",
       "stream": "stdout",
       "text": [
        "     0K                                                      100% 96.3K=0.08s\r\n",
        "--2013-10-30 11:39:54--  http://gdac.broadinstitute.org/runs/analyses__2013_09_23/data/BLCA/20130923/\r\n"
       ]
      },
      {
       "output_type": "stream",
       "stream": "stdout",
       "text": [
        "     0K                                                        137K=0.3s\r\n",
        "--2013-10-30 11:39:54--  http://gdac.broadinstitute.org/runs/analyses__2013_09_23/data/BLCA/20130923/gdac.broadinstitute.org_BLCA-TP.Aggregate_Molecular_Subtype_Clusters.Level_4.2013092300.0.0.tar.gz\r\n"
       ]
      },
      {
       "output_type": "stream",
       "stream": "stdout",
       "text": [
        "Saving to: `analyses__2013_09_23/BLCA/20130923/gdac.broadinstitute.org_BLCA-TP.Aggregate_Molecular_Subtype_Clusters.Level_4.2013092300.0.0.tar.gz'\r\n",
        "     0K                                                      100%  152M=0s\r\n",
        "--2013-10-30 11:39:54--  http://gdac.broadinstitute.org/runs/analyses__2013_09_23/data/BLCA/20130923/gdac.broadinstitute.org_BLCA-TP.Aggregate_Molecular_Subtype_Clusters.Level_4.2013092300.0.0.tar.gz.md5\r\n"
       ]
      },
      {
       "output_type": "stream",
       "stream": "stdout",
       "text": [
        "Saving to: `analyses__2013_09_23/BLCA/20130923/gdac.broadinstitute.org_BLCA-TP.Aggregate_Molecular_Subtype_Clusters.Level_4.2013092300.0.0.tar.gz.md5'\r\n",
        "     0K                                                      100% 9.04M=0s\r\n",
        "--2013-10-30 11:39:54--  http://gdac.broadinstitute.org/runs/analyses__2013_09_23/data/BLCA/20130923/gdac.broadinstitute.org_BLCA-TP.Aggregate_Molecular_Subtype_Clusters.aux.2013092300.0.0.tar.gz\r\n"
       ]
      },
      {
       "output_type": "stream",
       "stream": "stdout",
       "text": [
        "Saving to: `analyses__2013_09_23/BLCA/20130923/gdac.broadinstitute.org_BLCA-TP.Aggregate_Molecular_Subtype_Clusters.aux.2013092300.0.0.tar.gz'\r\n",
        "     0K                                                      100%  133M=0s\r\n",
        "--2013-10-30 11:39:54--  http://gdac.broadinstitute.org/runs/analyses__2013_09_23/data/BLCA/20130923/gdac.broadinstitute.org_BLCA-TP.Aggregate_Molecular_Subtype_Clusters.aux.2013092300.0.0.tar.gz.md5\r\n"
       ]
      },
      {
       "output_type": "stream",
       "stream": "stdout",
       "text": [
        "Saving to: `analyses__2013_09_23/BLCA/20130923/gdac.broadinstitute.org_BLCA-TP.Aggregate_Molecular_Subtype_Clusters.aux.2013092300.0.0.tar.gz.md5'\r\n",
        "     0K                                                      100% 6.41M=0s\r\n",
        "--2013-10-30 11:39:55--  http://gdac.broadinstitute.org/runs/analyses__2013_09_23/data/BLCA/20130923/gdac.broadinstitute.org_BLCA-TP.Aggregate_Molecular_Subtype_Clusters.mage-tab.2013092300.0.0.tar.gz\r\n"
       ]
      },
      {
       "output_type": "stream",
       "stream": "stdout",
       "text": [
        "Saving to: `analyses__2013_09_23/BLCA/20130923/gdac.broadinstitute.org_BLCA-TP.Aggregate_Molecular_Subtype_Clusters.mage-tab.2013092300.0.0.tar.gz'\r\n",
        "     0K                                                      100%  324M=0s\r\n",
        "--2013-10-30 11:39:55--  http://gdac.broadinstitute.org/runs/analyses__2013_09_23/data/BLCA/20130923/gdac.broadinstitute.org_BLCA-TP.Aggregate_Molecular_Subtype_Clusters.mage-tab.2013092300.0.0.tar.gz.md5\r\n"
       ]
      },
      {
       "output_type": "stream",
       "stream": "stdout",
       "text": [
        "Saving to: `analyses__2013_09_23/BLCA/20130923/gdac.broadinstitute.org_BLCA-TP.Aggregate_Molecular_Subtype_Clusters.mage-tab.2013092300.0.0.tar.gz.md5'\r\n",
        "     0K                                                      100% 22.4M=0s\r\n",
        "--2013-10-30 11:39:55--  http://gdac.broadinstitute.org/runs/analyses__2013_09_23/data/BLCA/20130923/gdac.broadinstitute.org_BLCA-TP.CopyNumberLowPass_Gistic2.Level_4.2013092300.0.0.tar.gz\r\n"
       ]
      },
      {
       "output_type": "stream",
       "stream": "stdout",
       "text": [
        "Saving to: `analyses__2013_09_23/BLCA/20130923/gdac.broadinstitute.org_BLCA-TP.CopyNumberLowPass_Gistic2.Level_4.2013092300.0.0.tar.gz'\r\n"
       ]
      },
      {
       "output_type": "stream",
       "stream": "stdout",
       "text": [
        "     0K ........ ........ ........ ........ ........ ........ 55%  924K 3s\r\n"
       ]
      },
      {
       "output_type": "stream",
       "stream": "stdout",
       "text": [
        "  3072K ........ ........ ........ ........ ......           100%  985K=5.8s\r\n"
       ]
      },
      {
       "output_type": "stream",
       "stream": "stdout",
       "text": [
        "--2013-10-30 11:40:01--  http://gdac.broadinstitute.org/runs/analyses__2013_09_23/data/BLCA/20130923/gdac.broadinstitute.org_BLCA-TP.CopyNumberLowPass_Gistic2.Level_4.2013092300.0.0.tar.gz.md5\r\n"
       ]
      },
      {
       "output_type": "stream",
       "stream": "stdout",
       "text": [
        "Saving to: `analyses__2013_09_23/BLCA/20130923/gdac.broadinstitute.org_BLCA-TP.CopyNumberLowPass_Gistic2.Level_4.2013092300.0.0.tar.gz.md5'\r\n",
        "     0K                                                      100% 16.3M=0s\r\n",
        "--2013-10-30 11:40:01--  http://gdac.broadinstitute.org/runs/analyses__2013_09_23/data/BLCA/20130923/gdac.broadinstitute.org_BLCA-TP.CopyNumberLowPass_Gistic2.aux.2013092300.0.0.tar.gz\r\n"
       ]
      },
      {
       "output_type": "stream",
       "stream": "stdout",
       "text": [
        "Saving to: `analyses__2013_09_23/BLCA/20130923/gdac.broadinstitute.org_BLCA-TP.CopyNumberLowPass_Gistic2.aux.2013092300.0.0.tar.gz'\r\n"
       ]
      },
      {
       "output_type": "stream",
       "stream": "stdout",
       "text": [
        "     0K ........ ........ ........ ........ ........ ...     100% 1.02M=2.7s\r\n",
        "--2013-10-30 11:40:04--  http://gdac.broadinstitute.org/runs/analyses__2013_09_23/data/BLCA/20130923/gdac.broadinstitute.org_BLCA-TP.CopyNumberLowPass_Gistic2.aux.2013092300.0.0.tar.gz.md5\r\n"
       ]
      },
      {
       "output_type": "stream",
       "stream": "stdout",
       "text": [
        "Saving to: `analyses__2013_09_23/BLCA/20130923/gdac.broadinstitute.org_BLCA-TP.CopyNumberLowPass_Gistic2.aux.2013092300.0.0.tar.gz.md5'\r\n",
        "     0K                                                      100% 31.3M=0s\r\n",
        "--2013-10-30 11:40:04--  http://gdac.broadinstitute.org/runs/analyses__2013_09_23/data/BLCA/20130923/gdac.broadinstitute.org_BLCA-TP.CopyNumberLowPass_Gistic2.mage-tab.2013092300.0.0.tar.gz\r\n"
       ]
      },
      {
       "output_type": "stream",
       "stream": "stdout",
       "text": [
        "Saving to: `analyses__2013_09_23/BLCA/20130923/gdac.broadinstitute.org_BLCA-TP.CopyNumberLowPass_Gistic2.mage-tab.2013092300.0.0.tar.gz'\r\n",
        "     0K                                                      100%  447M=0s\r\n",
        "--2013-10-30 11:40:04--  http://gdac.broadinstitute.org/runs/analyses__2013_09_23/data/BLCA/20130923/gdac.broadinstitute.org_BLCA-TP.CopyNumberLowPass_Gistic2.mage-tab.2013092300.0.0.tar.gz.md5\r\n"
       ]
      },
      {
       "output_type": "stream",
       "stream": "stdout",
       "text": [
        "Saving to: `analyses__2013_09_23/BLCA/20130923/gdac.broadinstitute.org_BLCA-TP.CopyNumberLowPass_Gistic2.mage-tab.2013092300.0.0.tar.gz.md5'\r\n",
        "     0K                                                      100% 24.5M=0s\r\n",
        "--2013-10-30 11:40:04--  http://gdac.broadinstitute.org/runs/analyses__2013_09_23/data/BLCA/20130923/gdac.broadinstitute.org_BLCA-TP.CopyNumber_Clustering_CNMF.Level_4.2013092300.0.0.tar.gz\r\n"
       ]
      },
      {
       "output_type": "stream",
       "stream": "stdout",
       "text": [
        "Saving to: `analyses__2013_09_23/BLCA/20130923/gdac.broadinstitute.org_BLCA-TP.CopyNumber_Clustering_CNMF.Level_4.2013092300.0.0.tar.gz'\r\n"
       ]
      },
      {
       "output_type": "stream",
       "stream": "stdout",
       "text": [
        "     0K ........ .                                           100% 1.08M=0.6s\r\n"
       ]
      },
      {
       "output_type": "stream",
       "stream": "stdout",
       "text": [
        "--2013-10-30 11:40:05--  http://gdac.broadinstitute.org/runs/analyses__2013_09_23/data/BLCA/20130923/gdac.broadinstitute.org_BLCA-TP.CopyNumber_Clustering_CNMF.Level_4.2013092300.0.0.tar.gz.md5\r\n"
       ]
      },
      {
       "output_type": "stream",
       "stream": "stdout",
       "text": [
        "Saving to: `analyses__2013_09_23/BLCA/20130923/gdac.broadinstitute.org_BLCA-TP.CopyNumber_Clustering_CNMF.Level_4.2013092300.0.0.tar.gz.md5'\r\n",
        "     0K                                                      100% 30.8M=0s\r\n",
        "--2013-10-30 11:40:05--  http://gdac.broadinstitute.org/runs/analyses__2013_09_23/data/BLCA/20130923/gdac.broadinstitute.org_BLCA-TP.CopyNumber_Clustering_CNMF.aux.2013092300.0.0.tar.gz\r\n"
       ]
      },
      {
       "output_type": "stream",
       "stream": "stdout",
       "text": [
        "Saving to: `analyses__2013_09_23/BLCA/20130923/gdac.broadinstitute.org_BLCA-TP.CopyNumber_Clustering_CNMF.aux.2013092300.0.0.tar.gz'\r\n",
        "     0K                                                      100% 1.07G=0s\r\n",
        "--2013-10-30 11:40:05--  http://gdac.broadinstitute.org/runs/analyses__2013_09_23/data/BLCA/20130923/gdac.broadinstitute.org_BLCA-TP.CopyNumber_Clustering_CNMF.aux.2013092300.0.0.tar.gz.md5\r\n"
       ]
      },
      {
       "output_type": "stream",
       "stream": "stdout",
       "text": [
        "Saving to: `analyses__2013_09_23/BLCA/20130923/gdac.broadinstitute.org_BLCA-TP.CopyNumber_Clustering_CNMF.aux.2013092300.0.0.tar.gz.md5'\r\n",
        "     0K                                                      100% 19.2M=0s\r\n",
        "--2013-10-30 11:40:05--  http://gdac.broadinstitute.org/runs/analyses__2013_09_23/data/BLCA/20130923/gdac.broadinstitute.org_BLCA-TP.CopyNumber_Clustering_CNMF.mage-tab.2013092300.0.0.tar.gz\r\n"
       ]
      },
      {
       "output_type": "stream",
       "stream": "stdout",
       "text": [
        "Saving to: `analyses__2013_09_23/BLCA/20130923/gdac.broadinstitute.org_BLCA-TP.CopyNumber_Clustering_CNMF.mage-tab.2013092300.0.0.tar.gz'\r\n",
        "     0K                                                      100%  131M=0s\r\n",
        "--2013-10-30 11:40:05--  http://gdac.broadinstitute.org/runs/analyses__2013_09_23/data/BLCA/20130923/gdac.broadinstitute.org_BLCA-TP.CopyNumber_Clustering_CNMF.mage-tab.2013092300.0.0.tar.gz.md5\r\n"
       ]
      },
      {
       "output_type": "stream",
       "stream": "stdout",
       "text": [
        "Saving to: `analyses__2013_09_23/BLCA/20130923/gdac.broadinstitute.org_BLCA-TP.CopyNumber_Clustering_CNMF.mage-tab.2013092300.0.0.tar.gz.md5'\r\n",
        "     0K                                                      100% 7.93M=0s\r\n",
        "--2013-10-30 11:40:05--  http://gdac.broadinstitute.org/runs/analyses__2013_09_23/data/BLCA/20130923/gdac.broadinstitute.org_BLCA-TP.CopyNumber_Gistic2.Level_4.2013092300.0.0.tar.gz\r\n"
       ]
      },
      {
       "output_type": "stream",
       "stream": "stdout",
       "text": [
        "Saving to: `analyses__2013_09_23/BLCA/20130923/gdac.broadinstitute.org_BLCA-TP.CopyNumber_Gistic2.Level_4.2013092300.0.0.tar.gz'\r\n"
       ]
      },
      {
       "output_type": "stream",
       "stream": "stdout",
       "text": [
        "     0K ........ ........ ........ ........ ........ ........ 13% 1.00M 20s\r\n"
       ]
      },
      {
       "output_type": "stream",
       "stream": "stdout",
       "text": [
        "  3072K ........ ........ ........ ........ ........ ........ 26% 1000K 17s\r\n"
       ]
      },
      {
       "output_type": "stream",
       "stream": "stdout",
       "text": [
        "  6144K ........ ........ ........ ........ ........ ........ 39% 1001K 14s\r\n"
       ]
      },
      {
       "output_type": "stream",
       "stream": "stdout",
       "text": [
        "  9216K ........ ........ ........ ........ ........ ........ 52%  976K 11s\r\n"
       ]
      },
      {
       "output_type": "stream",
       "stream": "stdout",
       "text": [
        " 12288K ........ ........ ........ ........ ........ ........ 66% 1.00M 8s\r\n"
       ]
      },
      {
       "output_type": "stream",
       "stream": "stdout",
       "text": [
        " 15360K ........ ........ ........ ........ ........ ........ 79% 1001K 5s\r\n"
       ]
      },
      {
       "output_type": "stream",
       "stream": "stdout",
       "text": [
        " 18432K ........ ........ ........ ........ ........ ........ 92% 1001K 2s\r\n"
       ]
      },
      {
       "output_type": "stream",
       "stream": "stdout",
       "text": [
        " 21504K ........ ........ ........ ...                       100% 1.02M=23s\r\n"
       ]
      },
      {
       "output_type": "stream",
       "stream": "stdout",
       "text": [
        "--2013-10-30 11:40:28--  http://gdac.broadinstitute.org/runs/analyses__2013_09_23/data/BLCA/20130923/gdac.broadinstitute.org_BLCA-TP.CopyNumber_Gistic2.Level_4.2013092300.0.0.tar.gz.md5\r\n"
       ]
      },
      {
       "output_type": "stream",
       "stream": "stdout",
       "text": [
        "Saving to: `analyses__2013_09_23/BLCA/20130923/gdac.broadinstitute.org_BLCA-TP.CopyNumber_Gistic2.Level_4.2013092300.0.0.tar.gz.md5'\r\n",
        "     0K                                                      100% 6.73M=0s\r\n",
        "--2013-10-30 11:40:28--  http://gdac.broadinstitute.org/runs/analyses__2013_09_23/data/BLCA/20130923/gdac.broadinstitute.org_BLCA-TP.CopyNumber_Gistic2.aux.2013092300.0.0.tar.gz\r\n"
       ]
      },
      {
       "output_type": "stream",
       "stream": "stdout",
       "text": [
        "Saving to: `analyses__2013_09_23/BLCA/20130923/gdac.broadinstitute.org_BLCA-TP.CopyNumber_Gistic2.aux.2013092300.0.0.tar.gz'\r\n"
       ]
      },
      {
       "output_type": "stream",
       "stream": "stdout",
       "text": [
        "     0K ........ ........ ........ ........ ........ ........  3%  748K 1m47s\r\n"
       ]
      },
      {
       "output_type": "stream",
       "stream": "stdout",
       "text": [
        "  3072K ........ ........ ........ ........ ........ ........  7%  952K 92s\r\n"
       ]
      },
      {
       "output_type": "stream",
       "stream": "stdout",
       "text": [
        "  6144K ........ ........ ........ ........ ........ ........ 11% 1.00M 82s\r\n"
       ]
      },
      {
       "output_type": "stream",
       "stream": "stdout",
       "text": [
        "  9216K ........ ........ ........ ........ ........ ........ 14%  935K 78s\r\n"
       ]
      },
      {
       "output_type": "stream",
       "stream": "stdout",
       "text": [
        " 12288K ........ ........ ........ ........ ........ ........ 18%  731K 78s\r\n"
       ]
      },
      {
       "output_type": "stream",
       "stream": "stdout",
       "text": [
        " 15360K ........ ........ ........ ........ ........ ........ 22%  974K 73s\r\n"
       ]
      },
      {
       "output_type": "stream",
       "stream": "stdout",
       "text": [
        " 18432K ........ ........ ........ ........ ........ ........ 25%  974K 69s\r\n"
       ]
      }
     ],
     "prompt_number": "*"
    },
    {
     "cell_type": "code",
     "collapsed": false,
     "input": [
      "!firehose_get -b -o miR_gene_expression stddata $RUN_DATE $cancer_string"
     ],
     "language": "python",
     "metadata": {},
     "outputs": [],
     "prompt_number": "*"
    },
    {
     "cell_type": "code",
     "collapsed": false,
     "input": [
      "!firehose_get -b -o RSEM_genes_normalized stddata $RUN_DATE $cancer_string"
     ],
     "language": "python",
     "metadata": {},
     "outputs": [],
     "prompt_number": "*"
    },
    {
     "cell_type": "code",
     "collapsed": false,
     "input": [
      "!firehose_get -b -o rppa stddata $RUN_DATE $cancer_string"
     ],
     "language": "python",
     "metadata": {},
     "outputs": [],
     "prompt_number": "*"
    },
    {
     "cell_type": "code",
     "collapsed": false,
     "input": [
      "!firehose_get -b -o rppa stddata $RUN_DATE "
     ],
     "language": "python",
     "metadata": {},
     "outputs": [],
     "prompt_number": "*"
    },
    {
     "cell_type": "code",
     "collapsed": false,
     "input": [
      "!firehose_get -b -o clinical stddata $RUN_DATE $cancer_string"
     ],
     "language": "python",
     "metadata": {},
     "outputs": [
      {
       "output_type": "stream",
       "stream": "stdout",
       "text": [
        "Validating run selection against Broad Institute website ...\r\n"
       ]
      },
      {
       "output_type": "stream",
       "stream": "stdout",
       "text": [
        "You've asked to download archives for the following tasks\r\n",
        "\r\n",
        "     clinical\r\n",
        "\r\n",
        "run against the disease cohorts\r\n",
        "\r\n",
        "     \tACC  BLCA  BRCA  CESC  COAD  COADREAD  DLBC  ESCA  \r\n",
        "\tGBM  HNSC  KICH  KIRC  KIRP  LAML  LGG  LIHC  \r\n",
        "\tLUAD  LUSC  OV  PAAD  PANCANCER  PANCAN8  PANCAN12  PRAD  \r\n",
        "\tREAD  SARC  SKCM  STAD  THCA  UCEC  UCS  \r\n",
        "\r\n",
        "from the stddata__2013_09_23 Firehose run. \r\n",
        "Attempting to retrieve data for Broad GDAC run stddata__2013_09_23 ...\r\n",
        "--2013-10-29 19:04:59--  http://gdac.broadinstitute.org/runs/stddata__2013_09_23/data/ACC/\r\n"
       ]
      },
      {
       "output_type": "stream",
       "stream": "stdout",
       "text": [
        "     0K                                                      100% 29.1M=0s\r\n"
       ]
      },
      {
       "output_type": "stream",
       "stream": "stdout",
       "text": [
        "     0K                                                      100% 95.7K=0.08s\r\n"
       ]
      },
      {
       "output_type": "stream",
       "stream": "stdout",
       "text": [
        "--2013-10-29 19:05:00--  http://gdac.broadinstitute.org/runs/stddata__2013_09_23/data/ACC/20130923/\r\n"
       ]
      },
      {
       "output_type": "stream",
       "stream": "stdout",
       "text": [
        "     0K                                                       98.7K=0.2s\r\n",
        "FINISHED --2013-10-29 19:05:00--\r\n",
        "Total wall clock time: 0.7s\r\n",
        "Downloaded: 3 files, 32K in 0.3s (99.0 KB/s)\r\n"
       ]
      },
      {
       "output_type": "stream",
       "stream": "stdout",
       "text": [
        "--2013-10-29 19:05:00--  http://gdac.broadinstitute.org/runs/stddata__2013_09_23/data/BLCA/\r\n"
       ]
      },
      {
       "output_type": "stream",
       "stream": "stdout",
       "text": [
        "     0K                                                      100% 27.4M=0s\r\n"
       ]
      },
      {
       "output_type": "stream",
       "stream": "stdout",
       "text": [
        "     0K                                                      100% 95.6K=0.08s\r\n",
        "--2013-10-29 19:05:01--  http://gdac.broadinstitute.org/runs/stddata__2013_09_23/data/BLCA/20130923/\r\n"
       ]
      },
      {
       "output_type": "stream",
       "stream": "stdout",
       "text": [
        "     0K                                                        137K=0.3s\r\n",
        "--2013-10-29 19:05:01--  http://gdac.broadinstitute.org/runs/stddata__2013_09_23/data/BLCA/20130923/gdac.broadinstitute.org_BLCA.Clinical_Pick_Tier1.Level_4.2013092300.0.0.tar.gz\r\n"
       ]
      },
      {
       "output_type": "stream",
       "stream": "stdout",
       "text": [
        "Saving to: `stddata__2013_09_23/BLCA/20130923/gdac.broadinstitute.org_BLCA.Clinical_Pick_Tier1.Level_4.2013092300.0.0.tar.gz'\r\n"
       ]
      },
      {
       "output_type": "stream",
       "stream": "stdout",
       "text": [
        "     0K                                                      100%  230K=0.2s\r\n",
        "--2013-10-29 19:05:02--  http://gdac.broadinstitute.org/runs/stddata__2013_09_23/data/BLCA/20130923/gdac.broadinstitute.org_BLCA.Clinical_Pick_Tier1.Level_4.2013092300.0.0.tar.gz.md5\r\n"
       ]
      },
      {
       "output_type": "stream",
       "stream": "stdout",
       "text": [
        "Saving to: `stddata__2013_09_23/BLCA/20130923/gdac.broadinstitute.org_BLCA.Clinical_Pick_Tier1.Level_4.2013092300.0.0.tar.gz.md5'\r\n",
        "     0K                                                      100% 24.4M=0s\r\n",
        "--2013-10-29 19:05:02--  http://gdac.broadinstitute.org/runs/stddata__2013_09_23/data/BLCA/20130923/gdac.broadinstitute.org_BLCA.Clinical_Pick_Tier1.aux.2013092300.0.0.tar.gz\r\n"
       ]
      },
      {
       "output_type": "stream",
       "stream": "stdout",
       "text": [
        "Saving to: `stddata__2013_09_23/BLCA/20130923/gdac.broadinstitute.org_BLCA.Clinical_Pick_Tier1.aux.2013092300.0.0.tar.gz'\r\n",
        "     0K                                                      100%  134M=0s\r\n",
        "--2013-10-29 19:05:02--  http://gdac.broadinstitute.org/runs/stddata__2013_09_23/data/BLCA/20130923/gdac.broadinstitute.org_BLCA.Clinical_Pick_Tier1.aux.2013092300.0.0.tar.gz.md5\r\n"
       ]
      },
      {
       "output_type": "stream",
       "stream": "stdout",
       "text": [
        "Saving to: `stddata__2013_09_23/BLCA/20130923/gdac.broadinstitute.org_BLCA.Clinical_Pick_Tier1.aux.2013092300.0.0.tar.gz.md5'\r\n",
        "     0K                                                      100% 8.72M=0s\r\n",
        "--2013-10-29 19:05:02--  http://gdac.broadinstitute.org/runs/stddata__2013_09_23/data/BLCA/20130923/gdac.broadinstitute.org_BLCA.Clinical_Pick_Tier1.mage-tab.2013092300.0.0.tar.gz\r\n"
       ]
      },
      {
       "output_type": "stream",
       "stream": "stdout",
       "text": [
        "Saving to: `stddata__2013_09_23/BLCA/20130923/gdac.broadinstitute.org_BLCA.Clinical_Pick_Tier1.mage-tab.2013092300.0.0.tar.gz'\r\n",
        "     0K                                                      100%  107M=0s\r\n",
        "--2013-10-29 19:05:02--  http://gdac.broadinstitute.org/runs/stddata__2013_09_23/data/BLCA/20130923/gdac.broadinstitute.org_BLCA.Clinical_Pick_Tier1.mage-tab.2013092300.0.0.tar.gz.md5\r\n"
       ]
      },
      {
       "output_type": "stream",
       "stream": "stdout",
       "text": [
        "Saving to: `stddata__2013_09_23/BLCA/20130923/gdac.broadinstitute.org_BLCA.Clinical_Pick_Tier1.mage-tab.2013092300.0.0.tar.gz.md5'\r\n",
        "     0K                                                      100% 9.55M=0s\r\n",
        "--2013-10-29 19:05:02--  http://gdac.broadinstitute.org/runs/stddata__2013_09_23/data/BLCA/20130923/gdac.broadinstitute.org_BLCA.Merge_Clinical.Level_1.2013092300.0.0.tar.gz\r\n"
       ]
      },
      {
       "output_type": "stream",
       "stream": "stdout",
       "text": [
        "Saving to: `stddata__2013_09_23/BLCA/20130923/gdac.broadinstitute.org_BLCA.Merge_Clinical.Level_1.2013092300.0.0.tar.gz'\r\n"
       ]
      },
      {
       "output_type": "stream",
       "stream": "stdout",
       "text": [
        "     0K .                                                    100%  416K=0.2s\r\n",
        "--2013-10-29 19:05:02--  http://gdac.broadinstitute.org/runs/stddata__2013_09_23/data/BLCA/20130923/gdac.broadinstitute.org_BLCA.Merge_Clinical.Level_1.2013092300.0.0.tar.gz.md5\r\n"
       ]
      },
      {
       "output_type": "stream",
       "stream": "stdout",
       "text": [
        "Saving to: `stddata__2013_09_23/BLCA/20130923/gdac.broadinstitute.org_BLCA.Merge_Clinical.Level_1.2013092300.0.0.tar.gz.md5'\r\n",
        "     0K                                                      100% 9.36M=0s\r\n",
        "--2013-10-29 19:05:02--  http://gdac.broadinstitute.org/runs/stddata__2013_09_23/data/BLCA/20130923/gdac.broadinstitute.org_BLCA.Merge_Clinical.aux.2013092300.0.0.tar.gz\r\n"
       ]
      },
      {
       "output_type": "stream",
       "stream": "stdout",
       "text": [
        "Saving to: `stddata__2013_09_23/BLCA/20130923/gdac.broadinstitute.org_BLCA.Merge_Clinical.aux.2013092300.0.0.tar.gz'\r\n",
        "     0K                                                      100%  104M=0s\r\n",
        "--2013-10-29 19:05:02--  http://gdac.broadinstitute.org/runs/stddata__2013_09_23/data/BLCA/20130923/gdac.broadinstitute.org_BLCA.Merge_Clinical.aux.2013092300.0.0.tar.gz.md5\r\n"
       ]
      },
      {
       "output_type": "stream",
       "stream": "stdout",
       "text": [
        "Saving to: `stddata__2013_09_23/BLCA/20130923/gdac.broadinstitute.org_BLCA.Merge_Clinical.aux.2013092300.0.0.tar.gz.md5'\r\n",
        "     0K                                                      100% 8.38M=0s\r\n",
        "--2013-10-29 19:05:03--  http://gdac.broadinstitute.org/runs/stddata__2013_09_23/data/BLCA/20130923/gdac.broadinstitute.org_BLCA.Merge_Clinical.mage-tab.2013092300.0.0.tar.gz\r\n"
       ]
      },
      {
       "output_type": "stream",
       "stream": "stdout",
       "text": [
        "Saving to: `stddata__2013_09_23/BLCA/20130923/gdac.broadinstitute.org_BLCA.Merge_Clinical.mage-tab.2013092300.0.0.tar.gz'\r\n",
        "     0K                                                      100%  270M=0s\r\n",
        "--2013-10-29 19:05:03--  http://gdac.broadinstitute.org/runs/stddata__2013_09_23/data/BLCA/20130923/gdac.broadinstitute.org_BLCA.Merge_Clinical.mage-tab.2013092300.0.0.tar.gz.md5\r\n"
       ]
      },
      {
       "output_type": "stream",
       "stream": "stdout",
       "text": [
        "Saving to: `stddata__2013_09_23/BLCA/20130923/gdac.broadinstitute.org_BLCA.Merge_Clinical.mage-tab.2013092300.0.0.tar.gz.md5'\r\n",
        "     0K                                                      100% 9.05M=0s\r\n",
        "FINISHED --2013-10-29 19:05:03--\r\n",
        "Total wall clock time: 2.6s\r\n",
        "Downloaded: 15 files, 166K in 0.7s (228 KB/s)\r\n",
        "--2013-10-29 19:05:03--  http://gdac.broadinstitute.org/runs/stddata__2013_09_23/data/BRCA/\r\n"
       ]
      },
      {
       "output_type": "stream",
       "stream": "stdout",
       "text": [
        "     0K                                                      100% 72.0M=0s\r\n"
       ]
      },
      {
       "output_type": "stream",
       "stream": "stdout",
       "text": [
        "     0K                                                      100% 94.8K=0.08s\r\n",
        "--2013-10-29 19:05:03--  http://gdac.broadinstitute.org/runs/stddata__2013_09_23/data/BRCA/20130923/\r\n"
       ]
      },
      {
       "output_type": "stream",
       "stream": "stdout",
       "text": [
        "     0K                                                        122K=0.5s\r\n",
        "--2013-10-29 19:05:04--  http://gdac.broadinstitute.org/runs/stddata__2013_09_23/data/BRCA/20130923/gdac.broadinstitute.org_BRCA-FFPE.Merge_Clinical.Level_1.2013092300.0.0.tar.gz\r\n"
       ]
      },
      {
       "output_type": "stream",
       "stream": "stdout",
       "text": [
        "Saving to: `stddata__2013_09_23/BRCA/20130923/gdac.broadinstitute.org_BRCA-FFPE.Merge_Clinical.Level_1.2013092300.0.0.tar.gz'\r\n",
        "     0K                                                      100%  183M=0s\r\n",
        "--2013-10-29 19:05:04--  http://gdac.broadinstitute.org/runs/stddata__2013_09_23/data/BRCA/20130923/gdac.broadinstitute.org_BRCA-FFPE.Merge_Clinical.Level_1.2013092300.0.0.tar.gz.md5\r\n"
       ]
      },
      {
       "output_type": "stream",
       "stream": "stdout",
       "text": [
        "Saving to: `stddata__2013_09_23/BRCA/20130923/gdac.broadinstitute.org_BRCA-FFPE.Merge_Clinical.Level_1.2013092300.0.0.tar.gz.md5'\r\n",
        "     0K                                                      100% 24.4M=0s\r\n",
        "--2013-10-29 19:05:04--  http://gdac.broadinstitute.org/runs/stddata__2013_09_23/data/BRCA/20130923/gdac.broadinstitute.org_BRCA-FFPE.Merge_Clinical.aux.2013092300.0.0.tar.gz\r\n"
       ]
      },
      {
       "output_type": "stream",
       "stream": "stdout",
       "text": [
        "Saving to: `stddata__2013_09_23/BRCA/20130923/gdac.broadinstitute.org_BRCA-FFPE.Merge_Clinical.aux.2013092300.0.0.tar.gz'\r\n",
        "     0K                                                      100% 99.3M=0s\r\n",
        "--2013-10-29 19:05:05--  http://gdac.broadinstitute.org/runs/stddata__2013_09_23/data/BRCA/20130923/gdac.broadinstitute.org_BRCA-FFPE.Merge_Clinical.aux.2013092300.0.0.tar.gz.md5\r\n"
       ]
      },
      {
       "output_type": "stream",
       "stream": "stdout",
       "text": [
        "Saving to: `stddata__2013_09_23/BRCA/20130923/gdac.broadinstitute.org_BRCA-FFPE.Merge_Clinical.aux.2013092300.0.0.tar.gz.md5'\r\n",
        "     0K                                                      100% 8.79M=0s\r\n",
        "--2013-10-29 19:05:05--  http://gdac.broadinstitute.org/runs/stddata__2013_09_23/data/BRCA/20130923/gdac.broadinstitute.org_BRCA-FFPE.Merge_Clinical.mage-tab.2013092300.0.0.tar.gz\r\n"
       ]
      },
      {
       "output_type": "stream",
       "stream": "stdout",
       "text": [
        "Saving to: `stddata__2013_09_23/BRCA/20130923/gdac.broadinstitute.org_BRCA-FFPE.Merge_Clinical.mage-tab.2013092300.0.0.tar.gz'\r\n",
        "     0K                                                      100%  108M=0s\r\n",
        "--2013-10-29 19:05:05--  http://gdac.broadinstitute.org/runs/stddata__2013_09_23/data/BRCA/20130923/gdac.broadinstitute.org_BRCA-FFPE.Merge_Clinical.mage-tab.2013092300.0.0.tar.gz.md5\r\n"
       ]
      },
      {
       "output_type": "stream",
       "stream": "stdout",
       "text": [
        "Saving to: `stddata__2013_09_23/BRCA/20130923/gdac.broadinstitute.org_BRCA-FFPE.Merge_Clinical.mage-tab.2013092300.0.0.tar.gz.md5'\r\n",
        "     0K                                                      100% 9.25M=0s\r\n",
        "--2013-10-29 19:05:05--  http://gdac.broadinstitute.org/runs/stddata__2013_09_23/data/BRCA/20130923/gdac.broadinstitute.org_BRCA.Clinical_Pick_Tier1.Level_4.2013092300.0.0.tar.gz\r\n"
       ]
      },
      {
       "output_type": "stream",
       "stream": "stdout",
       "text": [
        "Saving to: `stddata__2013_09_23/BRCA/20130923/gdac.broadinstitute.org_BRCA.Clinical_Pick_Tier1.Level_4.2013092300.0.0.tar.gz'\r\n"
       ]
      },
      {
       "output_type": "stream",
       "stream": "stdout",
       "text": [
        "     0K ....                                                 100%  532K=0.5s\r\n",
        "--2013-10-29 19:05:05--  http://gdac.broadinstitute.org/runs/stddata__2013_09_23/data/BRCA/20130923/gdac.broadinstitute.org_BRCA.Clinical_Pick_Tier1.Level_4.2013092300.0.0.tar.gz.md5\r\n"
       ]
      },
      {
       "output_type": "stream",
       "stream": "stdout",
       "text": [
        "Saving to: `stddata__2013_09_23/BRCA/20130923/gdac.broadinstitute.org_BRCA.Clinical_Pick_Tier1.Level_4.2013092300.0.0.tar.gz.md5'\r\n",
        "     0K                                                      100% 9.58M=0s\r\n",
        "--2013-10-29 19:05:05--  http://gdac.broadinstitute.org/runs/stddata__2013_09_23/data/BRCA/20130923/gdac.broadinstitute.org_BRCA.Clinical_Pick_Tier1.aux.2013092300.0.0.tar.gz\r\n"
       ]
      },
      {
       "output_type": "stream",
       "stream": "stdout",
       "text": [
        "Saving to: `stddata__2013_09_23/BRCA/20130923/gdac.broadinstitute.org_BRCA.Clinical_Pick_Tier1.aux.2013092300.0.0.tar.gz'\r\n",
        "     0K                                                      100%  126M=0s\r\n",
        "--2013-10-29 19:05:06--  http://gdac.broadinstitute.org/runs/stddata__2013_09_23/data/BRCA/20130923/gdac.broadinstitute.org_BRCA.Clinical_Pick_Tier1.aux.2013092300.0.0.tar.gz.md5\r\n"
       ]
      },
      {
       "output_type": "stream",
       "stream": "stdout",
       "text": [
        "Saving to: `stddata__2013_09_23/BRCA/20130923/gdac.broadinstitute.org_BRCA.Clinical_Pick_Tier1.aux.2013092300.0.0.tar.gz.md5'\r\n",
        "     0K                                                      100% 9.29M=0s\r\n",
        "--2013-10-29 19:05:06--  http://gdac.broadinstitute.org/runs/stddata__2013_09_23/data/BRCA/20130923/gdac.broadinstitute.org_BRCA.Clinical_Pick_Tier1.mage-tab.2013092300.0.0.tar.gz\r\n"
       ]
      },
      {
       "output_type": "stream",
       "stream": "stdout",
       "text": [
        "Saving to: `stddata__2013_09_23/BRCA/20130923/gdac.broadinstitute.org_BRCA.Clinical_Pick_Tier1.mage-tab.2013092300.0.0.tar.gz'\r\n",
        "     0K                                                      100%  113M=0s\r\n",
        "--2013-10-29 19:05:06--  http://gdac.broadinstitute.org/runs/stddata__2013_09_23/data/BRCA/20130923/gdac.broadinstitute.org_BRCA.Clinical_Pick_Tier1.mage-tab.2013092300.0.0.tar.gz.md5\r\n"
       ]
      },
      {
       "output_type": "stream",
       "stream": "stdout",
       "text": [
        "Saving to: `stddata__2013_09_23/BRCA/20130923/gdac.broadinstitute.org_BRCA.Clinical_Pick_Tier1.mage-tab.2013092300.0.0.tar.gz.md5'\r\n",
        "     0K                                                      100% 24.8M=0s\r\n",
        "--2013-10-29 19:05:06--  http://gdac.broadinstitute.org/runs/stddata__2013_09_23/data/BRCA/20130923/gdac.broadinstitute.org_BRCA.Merge_Clinical.Level_1.2013092300.0.0.tar.gz\r\n"
       ]
      },
      {
       "output_type": "stream",
       "stream": "stdout",
       "text": [
        "Saving to: `stddata__2013_09_23/BRCA/20130923/gdac.broadinstitute.org_BRCA.Merge_Clinical.Level_1.2013092300.0.0.tar.gz'\r\n"
       ]
      },
      {
       "output_type": "stream",
       "stream": "stdout",
       "text": [
        "     0K .......                                              100%  863K=0.6s\r\n",
        "--2013-10-29 19:05:07--  http://gdac.broadinstitute.org/runs/stddata__2013_09_23/data/BRCA/20130923/gdac.broadinstitute.org_BRCA.Merge_Clinical.Level_1.2013092300.0.0.tar.gz.md5\r\n"
       ]
      },
      {
       "output_type": "stream",
       "stream": "stdout",
       "text": [
        "Saving to: `stddata__2013_09_23/BRCA/20130923/gdac.broadinstitute.org_BRCA.Merge_Clinical.Level_1.2013092300.0.0.tar.gz.md5'\r\n",
        "     0K                                                      100% 9.18M=0s\r\n",
        "--2013-10-29 19:05:07--  http://gdac.broadinstitute.org/runs/stddata__2013_09_23/data/BRCA/20130923/gdac.broadinstitute.org_BRCA.Merge_Clinical.aux.2013092300.0.0.tar.gz\r\n"
       ]
      },
      {
       "output_type": "stream",
       "stream": "stdout",
       "text": [
        "Saving to: `stddata__2013_09_23/BRCA/20130923/gdac.broadinstitute.org_BRCA.Merge_Clinical.aux.2013092300.0.0.tar.gz'\r\n",
        "     0K                                                      100%  109M=0s\r\n",
        "--2013-10-29 19:05:07--  http://gdac.broadinstitute.org/runs/stddata__2013_09_23/data/BRCA/20130923/gdac.broadinstitute.org_BRCA.Merge_Clinical.aux.2013092300.0.0.tar.gz.md5\r\n"
       ]
      },
      {
       "output_type": "stream",
       "stream": "stdout",
       "text": [
        "Saving to: `stddata__2013_09_23/BRCA/20130923/gdac.broadinstitute.org_BRCA.Merge_Clinical.aux.2013092300.0.0.tar.gz.md5'\r\n",
        "     0K                                                      100% 8.07M=0s\r\n",
        "--2013-10-29 19:05:07--  http://gdac.broadinstitute.org/runs/stddata__2013_09_23/data/BRCA/20130923/gdac.broadinstitute.org_BRCA.Merge_Clinical.mage-tab.2013092300.0.0.tar.gz\r\n"
       ]
      },
      {
       "output_type": "stream",
       "stream": "stdout",
       "text": [
        "Saving to: `stddata__2013_09_23/BRCA/20130923/gdac.broadinstitute.org_BRCA.Merge_Clinical.mage-tab.2013092300.0.0.tar.gz'\r\n",
        "     0K                                                      100%  156M=0s\r\n",
        "--2013-10-29 19:05:07--  http://gdac.broadinstitute.org/runs/stddata__2013_09_23/data/BRCA/20130923/gdac.broadinstitute.org_BRCA.Merge_Clinical.mage-tab.2013092300.0.0.tar.gz.md5\r\n"
       ]
      },
      {
       "output_type": "stream",
       "stream": "stdout",
       "text": [
        "Saving to: `stddata__2013_09_23/BRCA/20130923/gdac.broadinstitute.org_BRCA.Merge_Clinical.mage-tab.2013092300.0.0.tar.gz.md5'\r\n",
        "     0K                                                      100% 9.20M=0s\r\n",
        "FINISHED --2013-10-29 19:05:07--\r\n",
        "Total wall clock time: 4.4s\r\n",
        "Downloaded: 21 files, 836K in 1.6s (518 KB/s)\r\n",
        "--2013-10-29 19:05:07--  http://gdac.broadinstitute.org/runs/stddata__2013_09_23/data/CESC/\r\n"
       ]
      },
      {
       "output_type": "stream",
       "stream": "stdout",
       "text": [
        "     0K                                                      100% 74.1M=0s\r\n"
       ]
      },
      {
       "output_type": "stream",
       "stream": "stdout",
       "text": [
        "     0K                                                      100% 95.7K=0.08s\r\n",
        "--2013-10-29 19:05:07--  http://gdac.broadinstitute.org/runs/stddata__2013_09_23/data/CESC/20130923/\r\n"
       ]
      },
      {
       "output_type": "stream",
       "stream": "stdout",
       "text": [
        "     0K                                                        117K=0.2s\r\n",
        "--2013-10-29 19:05:08--  http://gdac.broadinstitute.org/runs/stddata__2013_09_23/data/CESC/20130923/gdac.broadinstitute.org_CESC.Clinical_Pick_Tier1.Level_4.2013092300.0.0.tar.gz\r\n"
       ]
      },
      {
       "output_type": "stream",
       "stream": "stdout",
       "text": [
        "Saving to: `stddata__2013_09_23/CESC/20130923/gdac.broadinstitute.org_CESC.Clinical_Pick_Tier1.Level_4.2013092300.0.0.tar.gz'\r\n"
       ]
      },
      {
       "output_type": "stream",
       "stream": "stdout",
       "text": [
        "     0K                                                      100%  176K=0.2s\r\n",
        "--2013-10-29 19:05:08--  http://gdac.broadinstitute.org/runs/stddata__2013_09_23/data/CESC/20130923/gdac.broadinstitute.org_CESC.Clinical_Pick_Tier1.Level_4.2013092300.0.0.tar.gz.md5\r\n"
       ]
      },
      {
       "output_type": "stream",
       "stream": "stdout",
       "text": [
        "Saving to: `stddata__2013_09_23/CESC/20130923/gdac.broadinstitute.org_CESC.Clinical_Pick_Tier1.Level_4.2013092300.0.0.tar.gz.md5'\r\n",
        "     0K                                                      100% 9.24M=0s\r\n",
        "--2013-10-29 19:05:08--  http://gdac.broadinstitute.org/runs/stddata__2013_09_23/data/CESC/20130923/gdac.broadinstitute.org_CESC.Clinical_Pick_Tier1.aux.2013092300.0.0.tar.gz\r\n"
       ]
      },
      {
       "output_type": "stream",
       "stream": "stdout",
       "text": [
        "Saving to: `stddata__2013_09_23/CESC/20130923/gdac.broadinstitute.org_CESC.Clinical_Pick_Tier1.aux.2013092300.0.0.tar.gz'\r\n",
        "     0K                                                      100%  137M=0s\r\n",
        "--2013-10-29 19:05:08--  http://gdac.broadinstitute.org/runs/stddata__2013_09_23/data/CESC/20130923/gdac.broadinstitute.org_CESC.Clinical_Pick_Tier1.aux.2013092300.0.0.tar.gz.md5\r\n"
       ]
      },
      {
       "output_type": "stream",
       "stream": "stdout",
       "text": [
        "Saving to: `stddata__2013_09_23/CESC/20130923/gdac.broadinstitute.org_CESC.Clinical_Pick_Tier1.aux.2013092300.0.0.tar.gz.md5'\r\n",
        "     0K                                                      100% 8.81M=0s\r\n",
        "--2013-10-29 19:05:08--  http://gdac.broadinstitute.org/runs/stddata__2013_09_23/data/CESC/20130923/gdac.broadinstitute.org_CESC.Clinical_Pick_Tier1.mage-tab.2013092300.0.0.tar.gz\r\n"
       ]
      },
      {
       "output_type": "stream",
       "stream": "stdout",
       "text": [
        "Saving to: `stddata__2013_09_23/CESC/20130923/gdac.broadinstitute.org_CESC.Clinical_Pick_Tier1.mage-tab.2013092300.0.0.tar.gz'\r\n"
       ]
      },
      {
       "output_type": "stream",
       "stream": "stdout",
       "text": [
        "     0K                                                      100% 9.03K=0.2s\r\n",
        "--2013-10-29 19:05:09--  http://gdac.broadinstitute.org/runs/stddata__2013_09_23/data/CESC/20130923/gdac.broadinstitute.org_CESC.Clinical_Pick_Tier1.mage-tab.2013092300.0.0.tar.gz.md5\r\n"
       ]
      },
      {
       "output_type": "stream",
       "stream": "stdout",
       "text": [
        "Saving to: `stddata__2013_09_23/CESC/20130923/gdac.broadinstitute.org_CESC.Clinical_Pick_Tier1.mage-tab.2013092300.0.0.tar.gz.md5'\r\n",
        "     0K                                                      100% 9.31M=0s\r\n",
        "--2013-10-29 19:05:09--  http://gdac.broadinstitute.org/runs/stddata__2013_09_23/data/CESC/20130923/gdac.broadinstitute.org_CESC.Merge_Clinical.Level_1.2013092300.0.0.tar.gz\r\n"
       ]
      },
      {
       "output_type": "stream",
       "stream": "stdout",
       "text": [
        "Saving to: `stddata__2013_09_23/CESC/20130923/gdac.broadinstitute.org_CESC.Merge_Clinical.Level_1.2013092300.0.0.tar.gz'\r\n"
       ]
      },
      {
       "output_type": "stream",
       "stream": "stdout",
       "text": [
        "     0K                                                      100%  133K=0.4s\r\n",
        "--2013-10-29 19:05:10--  http://gdac.broadinstitute.org/runs/stddata__2013_09_23/data/CESC/20130923/gdac.broadinstitute.org_CESC.Merge_Clinical.Level_1.2013092300.0.0.tar.gz.md5\r\n"
       ]
      },
      {
       "output_type": "stream",
       "stream": "stdout",
       "text": [
        "Saving to: `stddata__2013_09_23/CESC/20130923/gdac.broadinstitute.org_CESC.Merge_Clinical.Level_1.2013092300.0.0.tar.gz.md5'\r\n",
        "     0K                                                      100% 9.52M=0s\r\n",
        "--2013-10-29 19:05:10--  http://gdac.broadinstitute.org/runs/stddata__2013_09_23/data/CESC/20130923/gdac.broadinstitute.org_CESC.Merge_Clinical.aux.2013092300.0.0.tar.gz\r\n"
       ]
      },
      {
       "output_type": "stream",
       "stream": "stdout",
       "text": [
        "Saving to: `stddata__2013_09_23/CESC/20130923/gdac.broadinstitute.org_CESC.Merge_Clinical.aux.2013092300.0.0.tar.gz'\r\n",
        "     0K                                                      100%  109M=0s\r\n",
        "--2013-10-29 19:05:10--  http://gdac.broadinstitute.org/runs/stddata__2013_09_23/data/CESC/20130923/gdac.broadinstitute.org_CESC.Merge_Clinical.aux.2013092300.0.0.tar.gz.md5\r\n"
       ]
      },
      {
       "output_type": "stream",
       "stream": "stdout",
       "text": [
        "Saving to: `stddata__2013_09_23/CESC/20130923/gdac.broadinstitute.org_CESC.Merge_Clinical.aux.2013092300.0.0.tar.gz.md5'\r\n",
        "     0K                                                      100% 9.16M=0s\r\n",
        "--2013-10-29 19:05:10--  http://gdac.broadinstitute.org/runs/stddata__2013_09_23/data/CESC/20130923/gdac.broadinstitute.org_CESC.Merge_Clinical.mage-tab.2013092300.0.0.tar.gz\r\n"
       ]
      },
      {
       "output_type": "stream",
       "stream": "stdout",
       "text": [
        "Saving to: `stddata__2013_09_23/CESC/20130923/gdac.broadinstitute.org_CESC.Merge_Clinical.mage-tab.2013092300.0.0.tar.gz'\r\n",
        "     0K                                                      100%  186M=0s\r\n",
        "--2013-10-29 19:05:10--  http://gdac.broadinstitute.org/runs/stddata__2013_09_23/data/CESC/20130923/gdac.broadinstitute.org_CESC.Merge_Clinical.mage-tab.2013092300.0.0.tar.gz.md5\r\n"
       ]
      },
      {
       "output_type": "stream",
       "stream": "stdout",
       "text": [
        "Saving to: `stddata__2013_09_23/CESC/20130923/gdac.broadinstitute.org_CESC.Merge_Clinical.mage-tab.2013092300.0.0.tar.gz.md5'\r\n",
        "     0K                                                      100% 8.73M=0s\r\n",
        "FINISHED --2013-10-29 19:05:10--\r\n",
        "Total wall clock time: 2.9s\r\n",
        "Downloaded: 15 files, 126K in 1.0s (120 KB/s)\r\n"
       ]
      },
      {
       "output_type": "stream",
       "stream": "stdout",
       "text": [
        "--2013-10-29 19:05:10--  http://gdac.broadinstitute.org/runs/stddata__2013_09_23/data/COAD/\r\n"
       ]
      },
      {
       "output_type": "stream",
       "stream": "stdout",
       "text": [
        "     0K                                                      100% 28.1M=0s\r\n"
       ]
      },
      {
       "output_type": "stream",
       "stream": "stdout",
       "text": [
        "     0K                                                      100% 96.0K=0.08s\r\n",
        "--2013-10-29 19:05:10--  http://gdac.broadinstitute.org/runs/stddata__2013_09_23/data/COAD/20130923/\r\n"
       ]
      },
      {
       "output_type": "stream",
       "stream": "stdout",
       "text": [
        "     0K .                                                      151K=0.6s\r\n",
        "--2013-10-29 19:05:11--  http://gdac.broadinstitute.org/runs/stddata__2013_09_23/data/COAD/20130923/gdac.broadinstitute.org_COAD-FFPE.Clinical_Pick_Tier1.Level_4.2013092300.0.0.tar.gz\r\n"
       ]
      },
      {
       "output_type": "stream",
       "stream": "stdout",
       "text": [
        "Saving to: `stddata__2013_09_23/COAD/20130923/gdac.broadinstitute.org_COAD-FFPE.Clinical_Pick_Tier1.Level_4.2013092300.0.0.tar.gz'\r\n",
        "     0K                                                      100%  179M=0s\r\n",
        "--2013-10-29 19:05:11--  http://gdac.broadinstitute.org/runs/stddata__2013_09_23/data/COAD/20130923/gdac.broadinstitute.org_COAD-FFPE.Clinical_Pick_Tier1.Level_4.2013092300.0.0.tar.gz.md5\r\n"
       ]
      },
      {
       "output_type": "stream",
       "stream": "stdout",
       "text": [
        "Saving to: `stddata__2013_09_23/COAD/20130923/gdac.broadinstitute.org_COAD-FFPE.Clinical_Pick_Tier1.Level_4.2013092300.0.0.tar.gz.md5'\r\n",
        "     0K                                                      100% 25.1M=0s\r\n",
        "--2013-10-29 19:05:11--  http://gdac.broadinstitute.org/runs/stddata__2013_09_23/data/COAD/20130923/gdac.broadinstitute.org_COAD-FFPE.Clinical_Pick_Tier1.aux.2013092300.0.0.tar.gz\r\n"
       ]
      },
      {
       "output_type": "stream",
       "stream": "stdout",
       "text": [
        "Saving to: `stddata__2013_09_23/COAD/20130923/gdac.broadinstitute.org_COAD-FFPE.Clinical_Pick_Tier1.aux.2013092300.0.0.tar.gz'\r\n",
        "     0K                                                      100%  132M=0s\r\n",
        "--2013-10-29 19:05:12--  http://gdac.broadinstitute.org/runs/stddata__2013_09_23/data/COAD/20130923/gdac.broadinstitute.org_COAD-FFPE.Clinical_Pick_Tier1.aux.2013092300.0.0.tar.gz.md5\r\n"
       ]
      },
      {
       "output_type": "stream",
       "stream": "stdout",
       "text": [
        "Saving to: `stddata__2013_09_23/COAD/20130923/gdac.broadinstitute.org_COAD-FFPE.Clinical_Pick_Tier1.aux.2013092300.0.0.tar.gz.md5'\r\n",
        "     0K                                                      100% 9.42M=0s\r\n",
        "--2013-10-29 19:05:12--  http://gdac.broadinstitute.org/runs/stddata__2013_09_23/data/COAD/20130923/gdac.broadinstitute.org_COAD-FFPE.Clinical_Pick_Tier1.mage-tab.2013092300.0.0.tar.gz\r\n"
       ]
      },
      {
       "output_type": "stream",
       "stream": "stdout",
       "text": [
        "Saving to: `stddata__2013_09_23/COAD/20130923/gdac.broadinstitute.org_COAD-FFPE.Clinical_Pick_Tier1.mage-tab.2013092300.0.0.tar.gz'\r\n",
        "     0K                                                      100%  120M=0s\r\n",
        "--2013-10-29 19:05:12--  http://gdac.broadinstitute.org/runs/stddata__2013_09_23/data/COAD/20130923/gdac.broadinstitute.org_COAD-FFPE.Clinical_Pick_Tier1.mage-tab.2013092300.0.0.tar.gz.md5\r\n"
       ]
      },
      {
       "output_type": "stream",
       "stream": "stdout",
       "text": [
        "Saving to: `stddata__2013_09_23/COAD/20130923/gdac.broadinstitute.org_COAD-FFPE.Clinical_Pick_Tier1.mage-tab.2013092300.0.0.tar.gz.md5'\r\n",
        "     0K                                                      100% 9.27M=0s\r\n",
        "--2013-10-29 19:05:12--  http://gdac.broadinstitute.org/runs/stddata__2013_09_23/data/COAD/20130923/gdac.broadinstitute.org_COAD-FFPE.Merge_Clinical.Level_1.2013092300.0.0.tar.gz\r\n"
       ]
      },
      {
       "output_type": "stream",
       "stream": "stdout",
       "text": [
        "Saving to: `stddata__2013_09_23/COAD/20130923/gdac.broadinstitute.org_COAD-FFPE.Merge_Clinical.Level_1.2013092300.0.0.tar.gz'\r\n",
        "     0K                                                      100%  193M=0s\r\n",
        "--2013-10-29 19:05:12--  http://gdac.broadinstitute.org/runs/stddata__2013_09_23/data/COAD/20130923/gdac.broadinstitute.org_COAD-FFPE.Merge_Clinical.Level_1.2013092300.0.0.tar.gz.md5\r\n"
       ]
      },
      {
       "output_type": "stream",
       "stream": "stdout",
       "text": [
        "Saving to: `stddata__2013_09_23/COAD/20130923/gdac.broadinstitute.org_COAD-FFPE.Merge_Clinical.Level_1.2013092300.0.0.tar.gz.md5'\r\n",
        "     0K                                                      100% 9.37M=0s\r\n",
        "--2013-10-29 19:05:12--  http://gdac.broadinstitute.org/runs/stddata__2013_09_23/data/COAD/20130923/gdac.broadinstitute.org_COAD-FFPE.Merge_Clinical.aux.2013092300.0.0.tar.gz\r\n"
       ]
      },
      {
       "output_type": "stream",
       "stream": "stdout",
       "text": [
        "Saving to: `stddata__2013_09_23/COAD/20130923/gdac.broadinstitute.org_COAD-FFPE.Merge_Clinical.aux.2013092300.0.0.tar.gz'\r\n",
        "     0K                                                      100%  104M=0s\r\n",
        "--2013-10-29 19:05:12--  http://gdac.broadinstitute.org/runs/stddata__2013_09_23/data/COAD/20130923/gdac.broadinstitute.org_COAD-FFPE.Merge_Clinical.aux.2013092300.0.0.tar.gz.md5\r\n"
       ]
      },
      {
       "output_type": "stream",
       "stream": "stdout",
       "text": [
        "Saving to: `stddata__2013_09_23/COAD/20130923/gdac.broadinstitute.org_COAD-FFPE.Merge_Clinical.aux.2013092300.0.0.tar.gz.md5'\r\n",
        "     0K                                                      100% 8.74M=0s\r\n",
        "--2013-10-29 19:05:12--  http://gdac.broadinstitute.org/runs/stddata__2013_09_23/data/COAD/20130923/gdac.broadinstitute.org_COAD-FFPE.Merge_Clinical.mage-tab.2013092300.0.0.tar.gz\r\n"
       ]
      },
      {
       "output_type": "stream",
       "stream": "stdout",
       "text": [
        "Saving to: `stddata__2013_09_23/COAD/20130923/gdac.broadinstitute.org_COAD-FFPE.Merge_Clinical.mage-tab.2013092300.0.0.tar.gz'\r\n",
        "     0K                                                      100%  114M=0s\r\n",
        "--2013-10-29 19:05:12--  http://gdac.broadinstitute.org/runs/stddata__2013_09_23/data/COAD/20130923/gdac.broadinstitute.org_COAD-FFPE.Merge_Clinical.mage-tab.2013092300.0.0.tar.gz.md5\r\n"
       ]
      },
      {
       "output_type": "stream",
       "stream": "stdout",
       "text": [
        "Saving to: `stddata__2013_09_23/COAD/20130923/gdac.broadinstitute.org_COAD-FFPE.Merge_Clinical.mage-tab.2013092300.0.0.tar.gz.md5'\r\n",
        "     0K                                                      100% 22.8M=0s\r\n",
        "--2013-10-29 19:05:12--  http://gdac.broadinstitute.org/runs/stddata__2013_09_23/data/COAD/20130923/gdac.broadinstitute.org_COAD.Clinical_Pick_Tier1.Level_4.2013092300.0.0.tar.gz\r\n"
       ]
      },
      {
       "output_type": "stream",
       "stream": "stdout",
       "text": [
        "Saving to: `stddata__2013_09_23/COAD/20130923/gdac.broadinstitute.org_COAD.Clinical_Pick_Tier1.Level_4.2013092300.0.0.tar.gz'\r\n"
       ]
      },
      {
       "output_type": "stream",
       "stream": "stdout",
       "text": [
        "     0K .                                                    100%  194K=0.6s\r\n",
        "--2013-10-29 19:05:13--  http://gdac.broadinstitute.org/runs/stddata__2013_09_23/data/COAD/20130923/gdac.broadinstitute.org_COAD.Clinical_Pick_Tier1.Level_4.2013092300.0.0.tar.gz.md5\r\n"
       ]
      },
      {
       "output_type": "stream",
       "stream": "stdout",
       "text": [
        "Saving to: `stddata__2013_09_23/COAD/20130923/gdac.broadinstitute.org_COAD.Clinical_Pick_Tier1.Level_4.2013092300.0.0.tar.gz.md5'\r\n",
        "     0K                                                      100% 8.94M=0s\r\n",
        "--2013-10-29 19:05:14--  http://gdac.broadinstitute.org/runs/stddata__2013_09_23/data/COAD/20130923/gdac.broadinstitute.org_COAD.Clinical_Pick_Tier1.aux.2013092300.0.0.tar.gz\r\n"
       ]
      },
      {
       "output_type": "stream",
       "stream": "stdout",
       "text": [
        "Saving to: `stddata__2013_09_23/COAD/20130923/gdac.broadinstitute.org_COAD.Clinical_Pick_Tier1.aux.2013092300.0.0.tar.gz'\r\n",
        "     0K                                                      100%  133M=0s\r\n",
        "--2013-10-29 19:05:14--  http://gdac.broadinstitute.org/runs/stddata__2013_09_23/data/COAD/20130923/gdac.broadinstitute.org_COAD.Clinical_Pick_Tier1.aux.2013092300.0.0.tar.gz.md5\r\n"
       ]
      },
      {
       "output_type": "stream",
       "stream": "stdout",
       "text": [
        "Saving to: `stddata__2013_09_23/COAD/20130923/gdac.broadinstitute.org_COAD.Clinical_Pick_Tier1.aux.2013092300.0.0.tar.gz.md5'\r\n",
        "     0K                                                      100% 8.92M=0s\r\n",
        "--2013-10-29 19:05:14--  http://gdac.broadinstitute.org/runs/stddata__2013_09_23/data/COAD/20130923/gdac.broadinstitute.org_COAD.Clinical_Pick_Tier1.mage-tab.2013092300.0.0.tar.gz\r\n"
       ]
      },
      {
       "output_type": "stream",
       "stream": "stdout",
       "text": [
        "Saving to: `stddata__2013_09_23/COAD/20130923/gdac.broadinstitute.org_COAD.Clinical_Pick_Tier1.mage-tab.2013092300.0.0.tar.gz'\r\n",
        "     0K                                                      100%  108M=0s\r\n"
       ]
      },
      {
       "output_type": "stream",
       "stream": "stdout",
       "text": [
        "--2013-10-29 19:05:14--  http://gdac.broadinstitute.org/runs/stddata__2013_09_23/data/COAD/20130923/gdac.broadinstitute.org_COAD.Clinical_Pick_Tier1.mage-tab.2013092300.0.0.tar.gz.md5\r\n"
       ]
      },
      {
       "output_type": "stream",
       "stream": "stdout",
       "text": [
        "Saving to: `stddata__2013_09_23/COAD/20130923/gdac.broadinstitute.org_COAD.Clinical_Pick_Tier1.mage-tab.2013092300.0.0.tar.gz.md5'\r\n",
        "     0K                                                      100% 9.04M=0s\r\n",
        "--2013-10-29 19:05:14--  http://gdac.broadinstitute.org/runs/stddata__2013_09_23/data/COAD/20130923/gdac.broadinstitute.org_COAD.Merge_Clinical.Level_1.2013092300.0.0.tar.gz\r\n"
       ]
      },
      {
       "output_type": "stream",
       "stream": "stdout",
       "text": [
        "Saving to: `stddata__2013_09_23/COAD/20130923/gdac.broadinstitute.org_COAD.Merge_Clinical.Level_1.2013092300.0.0.tar.gz'\r\n"
       ]
      },
      {
       "output_type": "stream",
       "stream": "stdout",
       "text": [
        "     0K ...                                                  100%  714K=0.3s\r\n"
       ]
      },
      {
       "output_type": "stream",
       "stream": "stdout",
       "text": [
        "--2013-10-29 19:05:14--  http://gdac.broadinstitute.org/runs/stddata__2013_09_23/data/COAD/20130923/gdac.broadinstitute.org_COAD.Merge_Clinical.Level_1.2013092300.0.0.tar.gz.md5\r\n"
       ]
      },
      {
       "output_type": "stream",
       "stream": "stdout",
       "text": [
        "Saving to: `stddata__2013_09_23/COAD/20130923/gdac.broadinstitute.org_COAD.Merge_Clinical.Level_1.2013092300.0.0.tar.gz.md5'\r\n",
        "     0K                                                      100% 8.83M=0s\r\n",
        "--2013-10-29 19:05:14--  http://gdac.broadinstitute.org/runs/stddata__2013_09_23/data/COAD/20130923/gdac.broadinstitute.org_COAD.Merge_Clinical.aux.2013092300.0.0.tar.gz\r\n"
       ]
      },
      {
       "output_type": "stream",
       "stream": "stdout",
       "text": [
        "Saving to: `stddata__2013_09_23/COAD/20130923/gdac.broadinstitute.org_COAD.Merge_Clinical.aux.2013092300.0.0.tar.gz'\r\n",
        "     0K                                                      100%  109M=0s\r\n",
        "--2013-10-29 19:05:15--  http://gdac.broadinstitute.org/runs/stddata__2013_09_23/data/COAD/20130923/gdac.broadinstitute.org_COAD.Merge_Clinical.aux.2013092300.0.0.tar.gz.md5\r\n"
       ]
      },
      {
       "output_type": "stream",
       "stream": "stdout",
       "text": [
        "Saving to: `stddata__2013_09_23/COAD/20130923/gdac.broadinstitute.org_COAD.Merge_Clinical.aux.2013092300.0.0.tar.gz.md5'\r\n",
        "     0K                                                      100% 9.04M=0s\r\n",
        "--2013-10-29 19:05:15--  http://gdac.broadinstitute.org/runs/stddata__2013_09_23/data/COAD/20130923/gdac.broadinstitute.org_COAD.Merge_Clinical.mage-tab.2013092300.0.0.tar.gz\r\n"
       ]
      },
      {
       "output_type": "stream",
       "stream": "stdout",
       "text": [
        "Saving to: `stddata__2013_09_23/COAD/20130923/gdac.broadinstitute.org_COAD.Merge_Clinical.mage-tab.2013092300.0.0.tar.gz'\r\n",
        "     0K                                                      100%  122M=0s\r\n",
        "--2013-10-29 19:05:15--  http://gdac.broadinstitute.org/runs/stddata__2013_09_23/data/COAD/20130923/gdac.broadinstitute.org_COAD.Merge_Clinical.mage-tab.2013092300.0.0.tar.gz.md5\r\n"
       ]
      },
      {
       "output_type": "stream",
       "stream": "stdout",
       "text": [
        "Saving to: `stddata__2013_09_23/COAD/20130923/gdac.broadinstitute.org_COAD.Merge_Clinical.mage-tab.2013092300.0.0.tar.gz.md5'\r\n",
        "     0K                                                      100% 8.81M=0s\r\n",
        "FINISHED --2013-10-29 19:05:15--\r\n",
        "Total wall clock time: 4.9s\r\n",
        "Downloaded: 27 files, 486K in 1.7s (288 KB/s)\r\n",
        "--2013-10-29 19:05:15--  http://gdac.broadinstitute.org/runs/stddata__2013_09_23/data/COADREAD/\r\n"
       ]
      },
      {
       "output_type": "stream",
       "stream": "stdout",
       "text": [
        "     0K                                                      100% 30.5M=0s\r\n"
       ]
      },
      {
       "output_type": "stream",
       "stream": "stdout",
       "text": [
        "     0K                                                      100% 95.8K=0.08s\r\n",
        "--2013-10-29 19:05:15--  http://gdac.broadinstitute.org/runs/stddata__2013_09_23/data/COADREAD/20130923/\r\n"
       ]
      },
      {
       "output_type": "stream",
       "stream": "stdout",
       "text": [
        "     0K .                                                      155K=0.6s\r\n",
        "--2013-10-29 19:05:16--  http://gdac.broadinstitute.org/runs/stddata__2013_09_23/data/COADREAD/20130923/gdac.broadinstitute.org_COADREAD-FFPE.Clinical_Pick_Tier1.Level_4.2013092300.0.0.tar.gz\r\n"
       ]
      },
      {
       "output_type": "stream",
       "stream": "stdout",
       "text": [
        "Saving to: `stddata__2013_09_23/COADREAD/20130923/gdac.broadinstitute.org_COADREAD-FFPE.Clinical_Pick_Tier1.Level_4.2013092300.0.0.tar.gz'\r\n",
        "     0K                                                      100%  167M=0s\r\n",
        "--2013-10-29 19:05:16--  http://gdac.broadinstitute.org/runs/stddata__2013_09_23/data/COADREAD/20130923/gdac.broadinstitute.org_COADREAD-FFPE.Clinical_Pick_Tier1.Level_4.2013092300.0.0.tar.gz.md5\r\n"
       ]
      },
      {
       "output_type": "stream",
       "stream": "stdout",
       "text": [
        "Saving to: `stddata__2013_09_23/COADREAD/20130923/gdac.broadinstitute.org_COADREAD-FFPE.Clinical_Pick_Tier1.Level_4.2013092300.0.0.tar.gz.md5'\r\n",
        "     0K                                                      100% 10.7M=0s\r\n",
        "--2013-10-29 19:05:16--  http://gdac.broadinstitute.org/runs/stddata__2013_09_23/data/COADREAD/20130923/gdac.broadinstitute.org_COADREAD-FFPE.Clinical_Pick_Tier1.aux.2013092300.0.0.tar.gz\r\n"
       ]
      },
      {
       "output_type": "stream",
       "stream": "stdout",
       "text": [
        "Saving to: `stddata__2013_09_23/COADREAD/20130923/gdac.broadinstitute.org_COADREAD-FFPE.Clinical_Pick_Tier1.aux.2013092300.0.0.tar.gz'\r\n",
        "     0K                                                      100%  132M=0s\r\n",
        "--2013-10-29 19:05:17--  http://gdac.broadinstitute.org/runs/stddata__2013_09_23/data/COADREAD/20130923/gdac.broadinstitute.org_COADREAD-FFPE.Clinical_Pick_Tier1.aux.2013092300.0.0.tar.gz.md5\r\n"
       ]
      },
      {
       "output_type": "stream",
       "stream": "stdout",
       "text": [
        "Saving to: `stddata__2013_09_23/COADREAD/20130923/gdac.broadinstitute.org_COADREAD-FFPE.Clinical_Pick_Tier1.aux.2013092300.0.0.tar.gz.md5'\r\n",
        "     0K                                                      100% 12.6M=0s\r\n",
        "--2013-10-29 19:05:17--  http://gdac.broadinstitute.org/runs/stddata__2013_09_23/data/COADREAD/20130923/gdac.broadinstitute.org_COADREAD-FFPE.Clinical_Pick_Tier1.mage-tab.2013092300.0.0.tar.gz\r\n"
       ]
      },
      {
       "output_type": "stream",
       "stream": "stdout",
       "text": [
        "Saving to: `stddata__2013_09_23/COADREAD/20130923/gdac.broadinstitute.org_COADREAD-FFPE.Clinical_Pick_Tier1.mage-tab.2013092300.0.0.tar.gz'\r\n",
        "     0K                                                      100%  315M=0s\r\n",
        "--2013-10-29 19:05:17--  http://gdac.broadinstitute.org/runs/stddata__2013_09_23/data/COADREAD/20130923/gdac.broadinstitute.org_COADREAD-FFPE.Clinical_Pick_Tier1.mage-tab.2013092300.0.0.tar.gz.md5\r\n"
       ]
      },
      {
       "output_type": "stream",
       "stream": "stdout",
       "text": [
        "Saving to: `stddata__2013_09_23/COADREAD/20130923/gdac.broadinstitute.org_COADREAD-FFPE.Clinical_Pick_Tier1.mage-tab.2013092300.0.0.tar.gz.md5'\r\n",
        "     0K                                                      100% 26.4M=0s\r\n"
       ]
      },
      {
       "output_type": "stream",
       "stream": "stdout",
       "text": [
        "--2013-10-29 19:05:17--  http://gdac.broadinstitute.org/runs/stddata__2013_09_23/data/COADREAD/20130923/gdac.broadinstitute.org_COADREAD-FFPE.Merge_Clinical.Level_1.2013092300.0.0.tar.gz\r\n"
       ]
      },
      {
       "output_type": "stream",
       "stream": "stdout",
       "text": [
        "Saving to: `stddata__2013_09_23/COADREAD/20130923/gdac.broadinstitute.org_COADREAD-FFPE.Merge_Clinical.Level_1.2013092300.0.0.tar.gz'\r\n",
        "     0K                                                      100%  257M=0s\r\n",
        "--2013-10-29 19:05:17--  http://gdac.broadinstitute.org/runs/stddata__2013_09_23/data/COADREAD/20130923/gdac.broadinstitute.org_COADREAD-FFPE.Merge_Clinical.Level_1.2013092300.0.0.tar.gz.md5\r\n"
       ]
      },
      {
       "output_type": "stream",
       "stream": "stdout",
       "text": [
        "Saving to: `stddata__2013_09_23/COADREAD/20130923/gdac.broadinstitute.org_COADREAD-FFPE.Merge_Clinical.Level_1.2013092300.0.0.tar.gz.md5'\r\n",
        "     0K                                                      100% 25.9M=0s\r\n",
        "--2013-10-29 19:05:17--  http://gdac.broadinstitute.org/runs/stddata__2013_09_23/data/COADREAD/20130923/gdac.broadinstitute.org_COADREAD-FFPE.Merge_Clinical.aux.2013092300.0.0.tar.gz\r\n"
       ]
      },
      {
       "output_type": "stream",
       "stream": "stdout",
       "text": [
        "Saving to: `stddata__2013_09_23/COADREAD/20130923/gdac.broadinstitute.org_COADREAD-FFPE.Merge_Clinical.aux.2013092300.0.0.tar.gz'\r\n",
        "     0K                                                      100%  104M=0s\r\n",
        "--2013-10-29 19:05:17--  http://gdac.broadinstitute.org/runs/stddata__2013_09_23/data/COADREAD/20130923/gdac.broadinstitute.org_COADREAD-FFPE.Merge_Clinical.aux.2013092300.0.0.tar.gz.md5\r\n"
       ]
      },
      {
       "output_type": "stream",
       "stream": "stdout",
       "text": [
        "Saving to: `stddata__2013_09_23/COADREAD/20130923/gdac.broadinstitute.org_COADREAD-FFPE.Merge_Clinical.aux.2013092300.0.0.tar.gz.md5'\r\n",
        "     0K                                                      100% 9.19M=0s\r\n",
        "--2013-10-29 19:05:17--  http://gdac.broadinstitute.org/runs/stddata__2013_09_23/data/COADREAD/20130923/gdac.broadinstitute.org_COADREAD-FFPE.Merge_Clinical.mage-tab.2013092300.0.0.tar.gz\r\n"
       ]
      },
      {
       "output_type": "stream",
       "stream": "stdout",
       "text": [
        "Saving to: `stddata__2013_09_23/COADREAD/20130923/gdac.broadinstitute.org_COADREAD-FFPE.Merge_Clinical.mage-tab.2013092300.0.0.tar.gz'\r\n",
        "     0K                                                      100%  109M=0s\r\n",
        "--2013-10-29 19:05:17--  http://gdac.broadinstitute.org/runs/stddata__2013_09_23/data/COADREAD/20130923/gdac.broadinstitute.org_COADREAD-FFPE.Merge_Clinical.mage-tab.2013092300.0.0.tar.gz.md5\r\n"
       ]
      },
      {
       "output_type": "stream",
       "stream": "stdout",
       "text": [
        "Saving to: `stddata__2013_09_23/COADREAD/20130923/gdac.broadinstitute.org_COADREAD-FFPE.Merge_Clinical.mage-tab.2013092300.0.0.tar.gz.md5'\r\n",
        "     0K                                                      100% 25.4M=0s\r\n",
        "--2013-10-29 19:05:17--  http://gdac.broadinstitute.org/runs/stddata__2013_09_23/data/COADREAD/20130923/gdac.broadinstitute.org_COADREAD.Clinical_Pick_Tier1.Level_4.2013092300.0.0.tar.gz\r\n"
       ]
      },
      {
       "output_type": "stream",
       "stream": "stdout",
       "text": [
        "Saving to: `stddata__2013_09_23/COADREAD/20130923/gdac.broadinstitute.org_COADREAD.Clinical_Pick_Tier1.Level_4.2013092300.0.0.tar.gz'\r\n"
       ]
      },
      {
       "output_type": "stream",
       "stream": "stdout",
       "text": [
        "     0K ..                                                   100%  411K=0.4s\r\n",
        "--2013-10-29 19:05:18--  http://gdac.broadinstitute.org/runs/stddata__2013_09_23/data/COADREAD/20130923/gdac.broadinstitute.org_COADREAD.Clinical_Pick_Tier1.Level_4.2013092300.0.0.tar.gz.md5\r\n"
       ]
      },
      {
       "output_type": "stream",
       "stream": "stdout",
       "text": [
        "Saving to: `stddata__2013_09_23/COADREAD/20130923/gdac.broadinstitute.org_COADREAD.Clinical_Pick_Tier1.Level_4.2013092300.0.0.tar.gz.md5'\r\n",
        "     0K                                                      100% 9.36M=0s\r\n",
        "--2013-10-29 19:05:18--  http://gdac.broadinstitute.org/runs/stddata__2013_09_23/data/COADREAD/20130923/gdac.broadinstitute.org_COADREAD.Clinical_Pick_Tier1.aux.2013092300.0.0.tar.gz\r\n"
       ]
      },
      {
       "output_type": "stream",
       "stream": "stdout",
       "text": [
        "Saving to: `stddata__2013_09_23/COADREAD/20130923/gdac.broadinstitute.org_COADREAD.Clinical_Pick_Tier1.aux.2013092300.0.0.tar.gz'\r\n",
        "     0K                                                      100%  132M=0s\r\n",
        "--2013-10-29 19:05:18--  http://gdac.broadinstitute.org/runs/stddata__2013_09_23/data/COADREAD/20130923/gdac.broadinstitute.org_COADREAD.Clinical_Pick_Tier1.aux.2013092300.0.0.tar.gz.md5\r\n"
       ]
      },
      {
       "output_type": "stream",
       "stream": "stdout",
       "text": [
        "Saving to: `stddata__2013_09_23/COADREAD/20130923/gdac.broadinstitute.org_COADREAD.Clinical_Pick_Tier1.aux.2013092300.0.0.tar.gz.md5'\r\n",
        "     0K                                                      100% 9.07M=0s\r\n",
        "--2013-10-29 19:05:18--  http://gdac.broadinstitute.org/runs/stddata__2013_09_23/data/COADREAD/20130923/gdac.broadinstitute.org_COADREAD.Clinical_Pick_Tier1.mage-tab.2013092300.0.0.tar.gz\r\n"
       ]
      },
      {
       "output_type": "stream",
       "stream": "stdout",
       "text": [
        "Saving to: `stddata__2013_09_23/COADREAD/20130923/gdac.broadinstitute.org_COADREAD.Clinical_Pick_Tier1.mage-tab.2013092300.0.0.tar.gz'\r\n",
        "     0K                                                      100%  109M=0s\r\n",
        "--2013-10-29 19:05:18--  http://gdac.broadinstitute.org/runs/stddata__2013_09_23/data/COADREAD/20130923/gdac.broadinstitute.org_COADREAD.Clinical_Pick_Tier1.mage-tab.2013092300.0.0.tar.gz.md5\r\n"
       ]
      },
      {
       "output_type": "stream",
       "stream": "stdout",
       "text": [
        "Saving to: `stddata__2013_09_23/COADREAD/20130923/gdac.broadinstitute.org_COADREAD.Clinical_Pick_Tier1.mage-tab.2013092300.0.0.tar.gz.md5'\r\n",
        "     0K                                                      100% 9.71M=0s\r\n",
        "--2013-10-29 19:05:18--  http://gdac.broadinstitute.org/runs/stddata__2013_09_23/data/COADREAD/20130923/gdac.broadinstitute.org_COADREAD.Merge_Clinical.Level_1.2013092300.0.0.tar.gz\r\n"
       ]
      },
      {
       "output_type": "stream",
       "stream": "stdout",
       "text": [
        "Saving to: `stddata__2013_09_23/COADREAD/20130923/gdac.broadinstitute.org_COADREAD.Merge_Clinical.Level_1.2013092300.0.0.tar.gz'\r\n"
       ]
      },
      {
       "output_type": "stream",
       "stream": "stdout",
       "text": [
        "     0K ....                                                 100%  768K=0.4s\r\n",
        "--2013-10-29 19:05:19--  http://gdac.broadinstitute.org/runs/stddata__2013_09_23/data/COADREAD/20130923/gdac.broadinstitute.org_COADREAD.Merge_Clinical.Level_1.2013092300.0.0.tar.gz.md5\r\n"
       ]
      },
      {
       "output_type": "stream",
       "stream": "stdout",
       "text": [
        "Saving to: `stddata__2013_09_23/COADREAD/20130923/gdac.broadinstitute.org_COADREAD.Merge_Clinical.Level_1.2013092300.0.0.tar.gz.md5'\r\n",
        "     0K                                                      100% 9.43M=0s\r\n",
        "--2013-10-29 19:05:19--  http://gdac.broadinstitute.org/runs/stddata__2013_09_23/data/COADREAD/20130923/gdac.broadinstitute.org_COADREAD.Merge_Clinical.aux.2013092300.0.0.tar.gz\r\n"
       ]
      },
      {
       "output_type": "stream",
       "stream": "stdout",
       "text": [
        "Saving to: `stddata__2013_09_23/COADREAD/20130923/gdac.broadinstitute.org_COADREAD.Merge_Clinical.aux.2013092300.0.0.tar.gz'\r\n",
        "     0K                                                      100%  105M=0s\r\n",
        "--2013-10-29 19:05:19--  http://gdac.broadinstitute.org/runs/stddata__2013_09_23/data/COADREAD/20130923/gdac.broadinstitute.org_COADREAD.Merge_Clinical.aux.2013092300.0.0.tar.gz.md5\r\n"
       ]
      },
      {
       "output_type": "stream",
       "stream": "stdout",
       "text": [
        "Saving to: `stddata__2013_09_23/COADREAD/20130923/gdac.broadinstitute.org_COADREAD.Merge_Clinical.aux.2013092300.0.0.tar.gz.md5'\r\n",
        "     0K                                                      100% 9.04M=0s\r\n",
        "--2013-10-29 19:05:19--  http://gdac.broadinstitute.org/runs/stddata__2013_09_23/data/COADREAD/20130923/gdac.broadinstitute.org_COADREAD.Merge_Clinical.mage-tab.2013092300.0.0.tar.gz\r\n"
       ]
      },
      {
       "output_type": "stream",
       "stream": "stdout",
       "text": [
        "Saving to: `stddata__2013_09_23/COADREAD/20130923/gdac.broadinstitute.org_COADREAD.Merge_Clinical.mage-tab.2013092300.0.0.tar.gz'\r\n",
        "     0K                                                      100%  413M=0s\r\n",
        "--2013-10-29 19:05:19--  http://gdac.broadinstitute.org/runs/stddata__2013_09_23/data/COADREAD/20130923/gdac.broadinstitute.org_COADREAD.Merge_Clinical.mage-tab.2013092300.0.0.tar.gz.md5\r\n"
       ]
      },
      {
       "output_type": "stream",
       "stream": "stdout",
       "text": [
        "Saving to: `stddata__2013_09_23/COADREAD/20130923/gdac.broadinstitute.org_COADREAD.Merge_Clinical.mage-tab.2013092300.0.0.tar.gz.md5'\r\n",
        "     0K                                                      100% 9.79M=0s\r\n",
        "FINISHED --2013-10-29 19:05:20--\r\n",
        "Total wall clock time: 4.6s\r\n",
        "Downloaded: 27 files, 614K in 1.5s (401 KB/s)\r\n",
        "--2013-10-29 19:05:20--  http://gdac.broadinstitute.org/runs/stddata__2013_09_23/data/DLBC/\r\n"
       ]
      },
      {
       "output_type": "stream",
       "stream": "stdout",
       "text": [
        "     0K                                                      100% 24.4M=0s\r\n"
       ]
      },
      {
       "output_type": "stream",
       "stream": "stdout",
       "text": [
        "     0K                                                      100% 95.4K=0.08s\r\n",
        "--2013-10-29 19:05:20--  http://gdac.broadinstitute.org/runs/stddata__2013_09_23/data/DLBC/20130923/\r\n"
       ]
      },
      {
       "output_type": "stream",
       "stream": "stdout",
       "text": [
        "     0K                                                       97.9K=0.2s\r\n",
        "--2013-10-29 19:05:20--  http://gdac.broadinstitute.org/runs/stddata__2013_09_23/data/DLBC/20130923/gdac.broadinstitute.org_DLBC.Clinical_Pick_Tier1.Level_4.2013092300.0.0.tar.gz\r\n"
       ]
      },
      {
       "output_type": "stream",
       "stream": "stdout",
       "text": [
        "Saving to: `stddata__2013_09_23/DLBC/20130923/gdac.broadinstitute.org_DLBC.Clinical_Pick_Tier1.Level_4.2013092300.0.0.tar.gz'\r\n",
        "     0K                                                      100%  114M=0s\r\n",
        "--2013-10-29 19:05:20--  http://gdac.broadinstitute.org/runs/stddata__2013_09_23/data/DLBC/20130923/gdac.broadinstitute.org_DLBC.Clinical_Pick_Tier1.Level_4.2013092300.0.0.tar.gz.md5\r\n"
       ]
      },
      {
       "output_type": "stream",
       "stream": "stdout",
       "text": [
        "Saving to: `stddata__2013_09_23/DLBC/20130923/gdac.broadinstitute.org_DLBC.Clinical_Pick_Tier1.Level_4.2013092300.0.0.tar.gz.md5'\r\n",
        "     0K                                                      100% 9.07M=0s\r\n",
        "--2013-10-29 19:05:20--  http://gdac.broadinstitute.org/runs/stddata__2013_09_23/data/DLBC/20130923/gdac.broadinstitute.org_DLBC.Clinical_Pick_Tier1.aux.2013092300.0.0.tar.gz\r\n"
       ]
      },
      {
       "output_type": "stream",
       "stream": "stdout",
       "text": [
        "Saving to: `stddata__2013_09_23/DLBC/20130923/gdac.broadinstitute.org_DLBC.Clinical_Pick_Tier1.aux.2013092300.0.0.tar.gz'\r\n",
        "     0K                                                      100%  130M=0s\r\n",
        "--2013-10-29 19:05:20--  http://gdac.broadinstitute.org/runs/stddata__2013_09_23/data/DLBC/20130923/gdac.broadinstitute.org_DLBC.Clinical_Pick_Tier1.aux.2013092300.0.0.tar.gz.md5\r\n"
       ]
      },
      {
       "output_type": "stream",
       "stream": "stdout",
       "text": [
        "Saving to: `stddata__2013_09_23/DLBC/20130923/gdac.broadinstitute.org_DLBC.Clinical_Pick_Tier1.aux.2013092300.0.0.tar.gz.md5'\r\n",
        "     0K                                                      100% 8.66M=0s\r\n",
        "--2013-10-29 19:05:21--  http://gdac.broadinstitute.org/runs/stddata__2013_09_23/data/DLBC/20130923/gdac.broadinstitute.org_DLBC.Clinical_Pick_Tier1.mage-tab.2013092300.0.0.tar.gz\r\n"
       ]
      },
      {
       "output_type": "stream",
       "stream": "stdout",
       "text": [
        "Saving to: `stddata__2013_09_23/DLBC/20130923/gdac.broadinstitute.org_DLBC.Clinical_Pick_Tier1.mage-tab.2013092300.0.0.tar.gz'\r\n",
        "     0K                                                      100%  109M=0s\r\n",
        "--2013-10-29 19:05:21--  http://gdac.broadinstitute.org/runs/stddata__2013_09_23/data/DLBC/20130923/gdac.broadinstitute.org_DLBC.Clinical_Pick_Tier1.mage-tab.2013092300.0.0.tar.gz.md5\r\n"
       ]
      },
      {
       "output_type": "stream",
       "stream": "stdout",
       "text": [
        "Saving to: `stddata__2013_09_23/DLBC/20130923/gdac.broadinstitute.org_DLBC.Clinical_Pick_Tier1.mage-tab.2013092300.0.0.tar.gz.md5'\r\n",
        "     0K                                                      100% 9.16M=0s\r\n",
        "--2013-10-29 19:05:21--  http://gdac.broadinstitute.org/runs/stddata__2013_09_23/data/DLBC/20130923/gdac.broadinstitute.org_DLBC.Merge_Clinical.Level_1.2013092300.0.0.tar.gz\r\n"
       ]
      },
      {
       "output_type": "stream",
       "stream": "stdout",
       "text": [
        "Saving to: `stddata__2013_09_23/DLBC/20130923/gdac.broadinstitute.org_DLBC.Merge_Clinical.Level_1.2013092300.0.0.tar.gz'\r\n"
       ]
      },
      {
       "output_type": "stream",
       "stream": "stdout",
       "text": [
        "     0K                                                      100%  187K=0.08s\r\n",
        "--2013-10-29 19:05:21--  http://gdac.broadinstitute.org/runs/stddata__2013_09_23/data/DLBC/20130923/gdac.broadinstitute.org_DLBC.Merge_Clinical.Level_1.2013092300.0.0.tar.gz.md5\r\n"
       ]
      },
      {
       "output_type": "stream",
       "stream": "stdout",
       "text": [
        "Saving to: `stddata__2013_09_23/DLBC/20130923/gdac.broadinstitute.org_DLBC.Merge_Clinical.Level_1.2013092300.0.0.tar.gz.md5'\r\n",
        "     0K                                                      100% 25.2M=0s\r\n",
        "--2013-10-29 19:05:21--  http://gdac.broadinstitute.org/runs/stddata__2013_09_23/data/DLBC/20130923/gdac.broadinstitute.org_DLBC.Merge_Clinical.aux.2013092300.0.0.tar.gz\r\n"
       ]
      },
      {
       "output_type": "stream",
       "stream": "stdout",
       "text": [
        "Saving to: `stddata__2013_09_23/DLBC/20130923/gdac.broadinstitute.org_DLBC.Merge_Clinical.aux.2013092300.0.0.tar.gz'\r\n",
        "     0K                                                      100% 89.1M=0s\r\n",
        "--2013-10-29 19:05:21--  http://gdac.broadinstitute.org/runs/stddata__2013_09_23/data/DLBC/20130923/gdac.broadinstitute.org_DLBC.Merge_Clinical.aux.2013092300.0.0.tar.gz.md5\r\n"
       ]
      },
      {
       "output_type": "stream",
       "stream": "stdout",
       "text": [
        "Saving to: `stddata__2013_09_23/DLBC/20130923/gdac.broadinstitute.org_DLBC.Merge_Clinical.aux.2013092300.0.0.tar.gz.md5'\r\n",
        "     0K                                                      100% 8.47M=0s\r\n",
        "--2013-10-29 19:05:21--  http://gdac.broadinstitute.org/runs/stddata__2013_09_23/data/DLBC/20130923/gdac.broadinstitute.org_DLBC.Merge_Clinical.mage-tab.2013092300.0.0.tar.gz\r\n"
       ]
      },
      {
       "output_type": "stream",
       "stream": "stdout",
       "text": [
        "Saving to: `stddata__2013_09_23/DLBC/20130923/gdac.broadinstitute.org_DLBC.Merge_Clinical.mage-tab.2013092300.0.0.tar.gz'\r\n",
        "     0K                                                      100%  131M=0s\r\n",
        "--2013-10-29 19:05:21--  http://gdac.broadinstitute.org/runs/stddata__2013_09_23/data/DLBC/20130923/gdac.broadinstitute.org_DLBC.Merge_Clinical.mage-tab.2013092300.0.0.tar.gz.md5\r\n"
       ]
      },
      {
       "output_type": "stream",
       "stream": "stdout",
       "text": [
        "Saving to: `stddata__2013_09_23/DLBC/20130923/gdac.broadinstitute.org_DLBC.Merge_Clinical.mage-tab.2013092300.0.0.tar.gz.md5'\r\n",
        "     0K                                                      100% 9.39M=0s\r\n",
        "FINISHED --2013-10-29 19:05:21--\r\n",
        "Total wall clock time: 1.8s\r\n",
        "Downloaded: 15 files, 53K in 0.3s (167 KB/s)\r\n",
        "--2013-10-29 19:05:21--  http://gdac.broadinstitute.org/runs/stddata__2013_09_23/data/ESCA/\r\n"
       ]
      },
      {
       "output_type": "stream",
       "stream": "stdout",
       "text": [
        "     0K                                                      100% 29.7M=0s\r\n"
       ]
      },
      {
       "output_type": "stream",
       "stream": "stdout",
       "text": [
        "     0K                                                      100% 95.0K=0.08s\r\n",
        "--2013-10-29 19:05:22--  http://gdac.broadinstitute.org/runs/stddata__2013_09_23/data/ESCA/20130923/\r\n"
       ]
      },
      {
       "output_type": "stream",
       "stream": "stdout",
       "text": [
        "     0K                                                        108K=0.2s\r\n",
        "--2013-10-29 19:05:22--  http://gdac.broadinstitute.org/runs/stddata__2013_09_23/data/ESCA/20130923/gdac.broadinstitute.org_ESCA.Clinical_Pick_Tier1.Level_4.2013092300.0.0.tar.gz\r\n"
       ]
      },
      {
       "output_type": "stream",
       "stream": "stdout",
       "text": [
        "Saving to: `stddata__2013_09_23/ESCA/20130923/gdac.broadinstitute.org_ESCA.Clinical_Pick_Tier1.Level_4.2013092300.0.0.tar.gz'\r\n",
        "     0K                                                      100%  311M=0s\r\n",
        "--2013-10-29 19:05:22--  http://gdac.broadinstitute.org/runs/stddata__2013_09_23/data/ESCA/20130923/gdac.broadinstitute.org_ESCA.Clinical_Pick_Tier1.Level_4.2013092300.0.0.tar.gz.md5\r\n"
       ]
      },
      {
       "output_type": "stream",
       "stream": "stdout",
       "text": [
        "Saving to: `stddata__2013_09_23/ESCA/20130923/gdac.broadinstitute.org_ESCA.Clinical_Pick_Tier1.Level_4.2013092300.0.0.tar.gz.md5'\r\n",
        "     0K                                                      100% 26.0M=0s\r\n",
        "--2013-10-29 19:05:22--  http://gdac.broadinstitute.org/runs/stddata__2013_09_23/data/ESCA/20130923/gdac.broadinstitute.org_ESCA.Clinical_Pick_Tier1.aux.2013092300.0.0.tar.gz\r\n"
       ]
      },
      {
       "output_type": "stream",
       "stream": "stdout",
       "text": [
        "Saving to: `stddata__2013_09_23/ESCA/20130923/gdac.broadinstitute.org_ESCA.Clinical_Pick_Tier1.aux.2013092300.0.0.tar.gz'\r\n",
        "     0K                                                      100%  352M=0s\r\n",
        "--2013-10-29 19:05:22--  http://gdac.broadinstitute.org/runs/stddata__2013_09_23/data/ESCA/20130923/gdac.broadinstitute.org_ESCA.Clinical_Pick_Tier1.aux.2013092300.0.0.tar.gz.md5\r\n"
       ]
      },
      {
       "output_type": "stream",
       "stream": "stdout",
       "text": [
        "Saving to: `stddata__2013_09_23/ESCA/20130923/gdac.broadinstitute.org_ESCA.Clinical_Pick_Tier1.aux.2013092300.0.0.tar.gz.md5'\r\n",
        "     0K                                                      100% 24.6M=0s\r\n",
        "--2013-10-29 19:05:23--  http://gdac.broadinstitute.org/runs/stddata__2013_09_23/data/ESCA/20130923/gdac.broadinstitute.org_ESCA.Clinical_Pick_Tier1.mage-tab.2013092300.0.0.tar.gz\r\n"
       ]
      },
      {
       "output_type": "stream",
       "stream": "stdout",
       "text": [
        "Saving to: `stddata__2013_09_23/ESCA/20130923/gdac.broadinstitute.org_ESCA.Clinical_Pick_Tier1.mage-tab.2013092300.0.0.tar.gz'\r\n",
        "     0K                                                      100%  310M=0s\r\n",
        "--2013-10-29 19:05:23--  http://gdac.broadinstitute.org/runs/stddata__2013_09_23/data/ESCA/20130923/gdac.broadinstitute.org_ESCA.Clinical_Pick_Tier1.mage-tab.2013092300.0.0.tar.gz.md5\r\n"
       ]
      },
      {
       "output_type": "stream",
       "stream": "stdout",
       "text": [
        "Saving to: `stddata__2013_09_23/ESCA/20130923/gdac.broadinstitute.org_ESCA.Clinical_Pick_Tier1.mage-tab.2013092300.0.0.tar.gz.md5'\r\n",
        "     0K                                                      100% 27.1M=0s\r\n",
        "--2013-10-29 19:05:23--  http://gdac.broadinstitute.org/runs/stddata__2013_09_23/data/ESCA/20130923/gdac.broadinstitute.org_ESCA.Merge_Clinical.Level_1.2013092300.0.0.tar.gz\r\n"
       ]
      },
      {
       "output_type": "stream",
       "stream": "stdout",
       "text": [
        "Saving to: `stddata__2013_09_23/ESCA/20130923/gdac.broadinstitute.org_ESCA.Merge_Clinical.Level_1.2013092300.0.0.tar.gz'\r\n",
        "     0K                                                      100%  327M=0s\r\n",
        "--2013-10-29 19:05:23--  http://gdac.broadinstitute.org/runs/stddata__2013_09_23/data/ESCA/20130923/gdac.broadinstitute.org_ESCA.Merge_Clinical.Level_1.2013092300.0.0.tar.gz.md5\r\n"
       ]
      },
      {
       "output_type": "stream",
       "stream": "stdout",
       "text": [
        "Saving to: `stddata__2013_09_23/ESCA/20130923/gdac.broadinstitute.org_ESCA.Merge_Clinical.Level_1.2013092300.0.0.tar.gz.md5'\r\n",
        "     0K                                                      100% 7.53M=0s\r\n",
        "--2013-10-29 19:05:23--  http://gdac.broadinstitute.org/runs/stddata__2013_09_23/data/ESCA/20130923/gdac.broadinstitute.org_ESCA.Merge_Clinical.aux.2013092300.0.0.tar.gz\r\n"
       ]
      },
      {
       "output_type": "stream",
       "stream": "stdout",
       "text": [
        "Saving to: `stddata__2013_09_23/ESCA/20130923/gdac.broadinstitute.org_ESCA.Merge_Clinical.aux.2013092300.0.0.tar.gz'\r\n",
        "     0K                                                      100%  224M=0s\r\n",
        "--2013-10-29 19:05:23--  http://gdac.broadinstitute.org/runs/stddata__2013_09_23/data/ESCA/20130923/gdac.broadinstitute.org_ESCA.Merge_Clinical.aux.2013092300.0.0.tar.gz.md5\r\n"
       ]
      },
      {
       "output_type": "stream",
       "stream": "stdout",
       "text": [
        "Saving to: `stddata__2013_09_23/ESCA/20130923/gdac.broadinstitute.org_ESCA.Merge_Clinical.aux.2013092300.0.0.tar.gz.md5'\r\n",
        "     0K                                                      100% 19.7M=0s\r\n",
        "--2013-10-29 19:05:23--  http://gdac.broadinstitute.org/runs/stddata__2013_09_23/data/ESCA/20130923/gdac.broadinstitute.org_ESCA.Merge_Clinical.mage-tab.2013092300.0.0.tar.gz\r\n"
       ]
      },
      {
       "output_type": "stream",
       "stream": "stdout",
       "text": [
        "Saving to: `stddata__2013_09_23/ESCA/20130923/gdac.broadinstitute.org_ESCA.Merge_Clinical.mage-tab.2013092300.0.0.tar.gz'\r\n",
        "     0K                                                      100%  131M=0s\r\n",
        "--2013-10-29 19:05:24--  http://gdac.broadinstitute.org/runs/stddata__2013_09_23/data/ESCA/20130923/gdac.broadinstitute.org_ESCA.Merge_Clinical.mage-tab.2013092300.0.0.tar.gz.md5\r\n"
       ]
      },
      {
       "output_type": "stream",
       "stream": "stdout",
       "text": [
        "Saving to: `stddata__2013_09_23/ESCA/20130923/gdac.broadinstitute.org_ESCA.Merge_Clinical.mage-tab.2013092300.0.0.tar.gz.md5'\r\n",
        "     0K                                                      100% 9.46M=0s\r\n",
        "FINISHED --2013-10-29 19:05:24--\r\n",
        "Total wall clock time: 2.3s\r\n",
        "Downloaded: 15 files, 42K in 0.2s (173 KB/s)\r\n",
        "--2013-10-29 19:05:24--  http://gdac.broadinstitute.org/runs/stddata__2013_09_23/data/GBM/\r\n"
       ]
      },
      {
       "output_type": "stream",
       "stream": "stdout",
       "text": [
        "     0K                                                      100% 79.6M=0s\r\n"
       ]
      },
      {
       "output_type": "stream",
       "stream": "stdout",
       "text": [
        "     0K                                                      100% 95.9K=0.08s\r\n",
        "--2013-10-29 19:05:24--  http://gdac.broadinstitute.org/runs/stddata__2013_09_23/data/GBM/20130923/\r\n"
       ]
      },
      {
       "output_type": "stream",
       "stream": "stdout",
       "text": [
        "     0K                                                        125K=0.4s\r\n",
        "--2013-10-29 19:05:25--  http://gdac.broadinstitute.org/runs/stddata__2013_09_23/data/GBM/20130923/gdac.broadinstitute.org_GBM.Clinical_Pick_Tier1.Level_4.2013092300.0.0.tar.gz\r\n"
       ]
      },
      {
       "output_type": "stream",
       "stream": "stdout",
       "text": [
        "Saving to: `stddata__2013_09_23/GBM/20130923/gdac.broadinstitute.org_GBM.Clinical_Pick_Tier1.Level_4.2013092300.0.0.tar.gz'\r\n"
       ]
      },
      {
       "output_type": "stream",
       "stream": "stdout",
       "text": [
        "     0K ...                                                  100%  395K=0.5s\r\n",
        "--2013-10-29 19:05:25--  http://gdac.broadinstitute.org/runs/stddata__2013_09_23/data/GBM/20130923/gdac.broadinstitute.org_GBM.Clinical_Pick_Tier1.Level_4.2013092300.0.0.tar.gz.md5\r\n"
       ]
      },
      {
       "output_type": "stream",
       "stream": "stdout",
       "text": [
        "Saving to: `stddata__2013_09_23/GBM/20130923/gdac.broadinstitute.org_GBM.Clinical_Pick_Tier1.Level_4.2013092300.0.0.tar.gz.md5'\r\n",
        "     0K                                                      100% 9.39M=0s\r\n",
        "--2013-10-29 19:05:25--  http://gdac.broadinstitute.org/runs/stddata__2013_09_23/data/GBM/20130923/gdac.broadinstitute.org_GBM.Clinical_Pick_Tier1.aux.2013092300.0.0.tar.gz\r\n"
       ]
      },
      {
       "output_type": "stream",
       "stream": "stdout",
       "text": [
        "Saving to: `stddata__2013_09_23/GBM/20130923/gdac.broadinstitute.org_GBM.Clinical_Pick_Tier1.aux.2013092300.0.0.tar.gz'\r\n",
        "     0K                                                      100%  129M=0s\r\n",
        "--2013-10-29 19:05:25--  http://gdac.broadinstitute.org/runs/stddata__2013_09_23/data/GBM/20130923/gdac.broadinstitute.org_GBM.Clinical_Pick_Tier1.aux.2013092300.0.0.tar.gz.md5\r\n"
       ]
      },
      {
       "output_type": "stream",
       "stream": "stdout",
       "text": [
        "Saving to: `stddata__2013_09_23/GBM/20130923/gdac.broadinstitute.org_GBM.Clinical_Pick_Tier1.aux.2013092300.0.0.tar.gz.md5'\r\n",
        "     0K                                                      100% 10.5M=0s\r\n",
        "--2013-10-29 19:05:26--  http://gdac.broadinstitute.org/runs/stddata__2013_09_23/data/GBM/20130923/gdac.broadinstitute.org_GBM.Clinical_Pick_Tier1.mage-tab.2013092300.0.0.tar.gz\r\n"
       ]
      },
      {
       "output_type": "stream",
       "stream": "stdout",
       "text": [
        "Saving to: `stddata__2013_09_23/GBM/20130923/gdac.broadinstitute.org_GBM.Clinical_Pick_Tier1.mage-tab.2013092300.0.0.tar.gz'\r\n",
        "     0K                                                      100%  111M=0s\r\n",
        "--2013-10-29 19:05:26--  http://gdac.broadinstitute.org/runs/stddata__2013_09_23/data/GBM/20130923/gdac.broadinstitute.org_GBM.Clinical_Pick_Tier1.mage-tab.2013092300.0.0.tar.gz.md5\r\n"
       ]
      },
      {
       "output_type": "stream",
       "stream": "stdout",
       "text": [
        "Saving to: `stddata__2013_09_23/GBM/20130923/gdac.broadinstitute.org_GBM.Clinical_Pick_Tier1.mage-tab.2013092300.0.0.tar.gz.md5'\r\n",
        "     0K                                                      100% 8.97M=0s\r\n",
        "--2013-10-29 19:05:26--  http://gdac.broadinstitute.org/runs/stddata__2013_09_23/data/GBM/20130923/gdac.broadinstitute.org_GBM.Merge_Clinical.Level_1.2013092300.0.0.tar.gz\r\n"
       ]
      },
      {
       "output_type": "stream",
       "stream": "stdout",
       "text": [
        "Saving to: `stddata__2013_09_23/GBM/20130923/gdac.broadinstitute.org_GBM.Merge_Clinical.Level_1.2013092300.0.0.tar.gz'\r\n"
       ]
      },
      {
       "output_type": "stream",
       "stream": "stdout",
       "text": [
        "     0K ......                                               100%  818K=0.5s\r\n",
        "--2013-10-29 19:05:26--  http://gdac.broadinstitute.org/runs/stddata__2013_09_23/data/GBM/20130923/gdac.broadinstitute.org_GBM.Merge_Clinical.Level_1.2013092300.0.0.tar.gz.md5\r\n"
       ]
      },
      {
       "output_type": "stream",
       "stream": "stdout",
       "text": [
        "Saving to: `stddata__2013_09_23/GBM/20130923/gdac.broadinstitute.org_GBM.Merge_Clinical.Level_1.2013092300.0.0.tar.gz.md5'\r\n",
        "     0K                                                      100% 8.50M=0s\r\n",
        "--2013-10-29 19:05:26--  http://gdac.broadinstitute.org/runs/stddata__2013_09_23/data/GBM/20130923/gdac.broadinstitute.org_GBM.Merge_Clinical.aux.2013092300.0.0.tar.gz\r\n"
       ]
      },
      {
       "output_type": "stream",
       "stream": "stdout",
       "text": [
        "Saving to: `stddata__2013_09_23/GBM/20130923/gdac.broadinstitute.org_GBM.Merge_Clinical.aux.2013092300.0.0.tar.gz'\r\n",
        "     0K                                                      100%  102M=0s\r\n",
        "--2013-10-29 19:05:27--  http://gdac.broadinstitute.org/runs/stddata__2013_09_23/data/GBM/20130923/gdac.broadinstitute.org_GBM.Merge_Clinical.aux.2013092300.0.0.tar.gz.md5\r\n"
       ]
      },
      {
       "output_type": "stream",
       "stream": "stdout",
       "text": [
        "Saving to: `stddata__2013_09_23/GBM/20130923/gdac.broadinstitute.org_GBM.Merge_Clinical.aux.2013092300.0.0.tar.gz.md5'\r\n",
        "     0K                                                      100% 8.17M=0s\r\n"
       ]
      },
      {
       "output_type": "stream",
       "stream": "stdout",
       "text": [
        "--2013-10-29 19:05:27--  http://gdac.broadinstitute.org/runs/stddata__2013_09_23/data/GBM/20130923/gdac.broadinstitute.org_GBM.Merge_Clinical.mage-tab.2013092300.0.0.tar.gz\r\n"
       ]
      },
      {
       "output_type": "stream",
       "stream": "stdout",
       "text": [
        "Saving to: `stddata__2013_09_23/GBM/20130923/gdac.broadinstitute.org_GBM.Merge_Clinical.mage-tab.2013092300.0.0.tar.gz'\r\n",
        "     0K                                                      100%  126M=0s\r\n",
        "--2013-10-29 19:05:27--  http://gdac.broadinstitute.org/runs/stddata__2013_09_23/data/GBM/20130923/gdac.broadinstitute.org_GBM.Merge_Clinical.mage-tab.2013092300.0.0.tar.gz.md5\r\n"
       ]
      },
      {
       "output_type": "stream",
       "stream": "stdout",
       "text": [
        "Saving to: `stddata__2013_09_23/GBM/20130923/gdac.broadinstitute.org_GBM.Merge_Clinical.mage-tab.2013092300.0.0.tar.gz.md5'\r\n",
        "     0K                                                      100% 9.52M=0s\r\n",
        "FINISHED --2013-10-29 19:05:27--\r\n",
        "Total wall clock time: 3.2s\r\n",
        "Downloaded: 15 files, 675K in 1.5s (453 KB/s)\r\n",
        "--2013-10-29 19:05:27--  http://gdac.broadinstitute.org/runs/stddata__2013_09_23/data/HNSC/\r\n"
       ]
      },
      {
       "output_type": "stream",
       "stream": "stdout",
       "text": [
        "     0K                                                      100% 29.5M=0s\r\n"
       ]
      },
      {
       "output_type": "stream",
       "stream": "stdout",
       "text": [
        "     0K                                                      100% 95.5K=0.08s\r\n",
        "--2013-10-29 19:05:27--  http://gdac.broadinstitute.org/runs/stddata__2013_09_23/data/HNSC/20130923/\r\n"
       ]
      },
      {
       "output_type": "stream",
       "stream": "stdout",
       "text": [
        "     0K                                                        117K=0.4s\r\n"
       ]
      },
      {
       "output_type": "stream",
       "stream": "stdout",
       "text": [
        "--2013-10-29 19:05:28--  http://gdac.broadinstitute.org/runs/stddata__2013_09_23/data/HNSC/20130923/gdac.broadinstitute.org_HNSC.Clinical_Pick_Tier1.Level_4.2013092300.0.0.tar.gz\r\n"
       ]
      },
      {
       "output_type": "stream",
       "stream": "stdout",
       "text": [
        "Saving to: `stddata__2013_09_23/HNSC/20130923/gdac.broadinstitute.org_HNSC.Clinical_Pick_Tier1.Level_4.2013092300.0.0.tar.gz'\r\n"
       ]
      },
      {
       "output_type": "stream",
       "stream": "stdout",
       "text": [
        "     0K .                                                    100%  319K=0.3s\r\n",
        "--2013-10-29 19:05:29--  http://gdac.broadinstitute.org/runs/stddata__2013_09_23/data/HNSC/20130923/gdac.broadinstitute.org_HNSC.Clinical_Pick_Tier1.Level_4.2013092300.0.0.tar.gz.md5\r\n"
       ]
      },
      {
       "output_type": "stream",
       "stream": "stdout",
       "text": [
        "Saving to: `stddata__2013_09_23/HNSC/20130923/gdac.broadinstitute.org_HNSC.Clinical_Pick_Tier1.Level_4.2013092300.0.0.tar.gz.md5'\r\n",
        "     0K                                                      100% 9.83M=0s\r\n",
        "--2013-10-29 19:05:29--  http://gdac.broadinstitute.org/runs/stddata__2013_09_23/data/HNSC/20130923/gdac.broadinstitute.org_HNSC.Clinical_Pick_Tier1.aux.2013092300.0.0.tar.gz\r\n"
       ]
      },
      {
       "output_type": "stream",
       "stream": "stdout",
       "text": [
        "Saving to: `stddata__2013_09_23/HNSC/20130923/gdac.broadinstitute.org_HNSC.Clinical_Pick_Tier1.aux.2013092300.0.0.tar.gz'\r\n",
        "     0K                                                      100%  134M=0s\r\n",
        "--2013-10-29 19:05:29--  http://gdac.broadinstitute.org/runs/stddata__2013_09_23/data/HNSC/20130923/gdac.broadinstitute.org_HNSC.Clinical_Pick_Tier1.aux.2013092300.0.0.tar.gz.md5\r\n"
       ]
      },
      {
       "output_type": "stream",
       "stream": "stdout",
       "text": [
        "Saving to: `stddata__2013_09_23/HNSC/20130923/gdac.broadinstitute.org_HNSC.Clinical_Pick_Tier1.aux.2013092300.0.0.tar.gz.md5'\r\n",
        "     0K                                                      100% 8.73M=0s\r\n",
        "--2013-10-29 19:05:29--  http://gdac.broadinstitute.org/runs/stddata__2013_09_23/data/HNSC/20130923/gdac.broadinstitute.org_HNSC.Clinical_Pick_Tier1.mage-tab.2013092300.0.0.tar.gz\r\n"
       ]
      },
      {
       "output_type": "stream",
       "stream": "stdout",
       "text": [
        "Saving to: `stddata__2013_09_23/HNSC/20130923/gdac.broadinstitute.org_HNSC.Clinical_Pick_Tier1.mage-tab.2013092300.0.0.tar.gz'\r\n",
        "     0K                                                      100%  104M=0s\r\n",
        "--2013-10-29 19:05:29--  http://gdac.broadinstitute.org/runs/stddata__2013_09_23/data/HNSC/20130923/gdac.broadinstitute.org_HNSC.Clinical_Pick_Tier1.mage-tab.2013092300.0.0.tar.gz.md5\r\n"
       ]
      },
      {
       "output_type": "stream",
       "stream": "stdout",
       "text": [
        "Saving to: `stddata__2013_09_23/HNSC/20130923/gdac.broadinstitute.org_HNSC.Clinical_Pick_Tier1.mage-tab.2013092300.0.0.tar.gz.md5'\r\n",
        "     0K                                                      100% 9.56M=0s\r\n",
        "--2013-10-29 19:05:29--  http://gdac.broadinstitute.org/runs/stddata__2013_09_23/data/HNSC/20130923/gdac.broadinstitute.org_HNSC.Merge_Clinical.Level_1.2013092300.0.0.tar.gz\r\n"
       ]
      },
      {
       "output_type": "stream",
       "stream": "stdout",
       "text": [
        "Saving to: `stddata__2013_09_23/HNSC/20130923/gdac.broadinstitute.org_HNSC.Merge_Clinical.Level_1.2013092300.0.0.tar.gz'\r\n"
       ]
      },
      {
       "output_type": "stream",
       "stream": "stdout",
       "text": [
        "     0K ..                                                   100%  588K=0.3s\r\n",
        "--2013-10-29 19:05:30--  http://gdac.broadinstitute.org/runs/stddata__2013_09_23/data/HNSC/20130923/gdac.broadinstitute.org_HNSC.Merge_Clinical.Level_1.2013092300.0.0.tar.gz.md5\r\n"
       ]
      },
      {
       "output_type": "stream",
       "stream": "stdout",
       "text": [
        "Saving to: `stddata__2013_09_23/HNSC/20130923/gdac.broadinstitute.org_HNSC.Merge_Clinical.Level_1.2013092300.0.0.tar.gz.md5'\r\n",
        "     0K                                                      100% 9.58M=0s\r\n",
        "--2013-10-29 19:05:30--  http://gdac.broadinstitute.org/runs/stddata__2013_09_23/data/HNSC/20130923/gdac.broadinstitute.org_HNSC.Merge_Clinical.aux.2013092300.0.0.tar.gz\r\n"
       ]
      },
      {
       "output_type": "stream",
       "stream": "stdout",
       "text": [
        "Saving to: `stddata__2013_09_23/HNSC/20130923/gdac.broadinstitute.org_HNSC.Merge_Clinical.aux.2013092300.0.0.tar.gz'\r\n",
        "     0K                                                      100%  106M=0s\r\n",
        "--2013-10-29 19:05:30--  http://gdac.broadinstitute.org/runs/stddata__2013_09_23/data/HNSC/20130923/gdac.broadinstitute.org_HNSC.Merge_Clinical.aux.2013092300.0.0.tar.gz.md5\r\n"
       ]
      },
      {
       "output_type": "stream",
       "stream": "stdout",
       "text": [
        "Saving to: `stddata__2013_09_23/HNSC/20130923/gdac.broadinstitute.org_HNSC.Merge_Clinical.aux.2013092300.0.0.tar.gz.md5'\r\n",
        "     0K                                                      100% 9.28M=0s\r\n",
        "--2013-10-29 19:05:30--  http://gdac.broadinstitute.org/runs/stddata__2013_09_23/data/HNSC/20130923/gdac.broadinstitute.org_HNSC.Merge_Clinical.mage-tab.2013092300.0.0.tar.gz\r\n"
       ]
      },
      {
       "output_type": "stream",
       "stream": "stdout",
       "text": [
        "Saving to: `stddata__2013_09_23/HNSC/20130923/gdac.broadinstitute.org_HNSC.Merge_Clinical.mage-tab.2013092300.0.0.tar.gz'\r\n",
        "     0K                                                      100%  118M=0s\r\n",
        "--2013-10-29 19:05:30--  http://gdac.broadinstitute.org/runs/stddata__2013_09_23/data/HNSC/20130923/gdac.broadinstitute.org_HNSC.Merge_Clinical.mage-tab.2013092300.0.0.tar.gz.md5\r\n"
       ]
      },
      {
       "output_type": "stream",
       "stream": "stdout",
       "text": [
        "Saving to: `stddata__2013_09_23/HNSC/20130923/gdac.broadinstitute.org_HNSC.Merge_Clinical.mage-tab.2013092300.0.0.tar.gz.md5'\r\n",
        "     0K                                                      100% 8.58M=0s\r\n",
        "FINISHED --2013-10-29 19:05:30--\r\n",
        "Total wall clock time: 3.2s\r\n",
        "Downloaded: 15 files, 355K in 1.1s (328 KB/s)\r\n",
        "--2013-10-29 19:05:30--  http://gdac.broadinstitute.org/runs/stddata__2013_09_23/data/KICH/\r\n"
       ]
      },
      {
       "output_type": "stream",
       "stream": "stdout",
       "text": [
        "     0K                                                      100% 29.3M=0s\r\n"
       ]
      },
      {
       "output_type": "stream",
       "stream": "stdout",
       "text": [
        "     0K                                                      100% 95.9K=0.08s\r\n",
        "--2013-10-29 19:05:30--  http://gdac.broadinstitute.org/runs/stddata__2013_09_23/data/KICH/20130923/\r\n"
       ]
      },
      {
       "output_type": "stream",
       "stream": "stdout",
       "text": [
        "     0K                                                        117K=0.2s\r\n",
        "--2013-10-29 19:05:31--  http://gdac.broadinstitute.org/runs/stddata__2013_09_23/data/KICH/20130923/gdac.broadinstitute.org_KICH.Clinical_Pick_Tier1.Level_4.2013092300.0.0.tar.gz\r\n"
       ]
      },
      {
       "output_type": "stream",
       "stream": "stdout",
       "text": [
        "Saving to: `stddata__2013_09_23/KICH/20130923/gdac.broadinstitute.org_KICH.Clinical_Pick_Tier1.Level_4.2013092300.0.0.tar.gz'\r\n"
       ]
      },
      {
       "output_type": "stream",
       "stream": "stdout",
       "text": [
        "     0K                                                      100%  169K=0.08s\r\n",
        "--2013-10-29 19:05:31--  http://gdac.broadinstitute.org/runs/stddata__2013_09_23/data/KICH/20130923/gdac.broadinstitute.org_KICH.Clinical_Pick_Tier1.Level_4.2013092300.0.0.tar.gz.md5\r\n"
       ]
      },
      {
       "output_type": "stream",
       "stream": "stdout",
       "text": [
        "Saving to: `stddata__2013_09_23/KICH/20130923/gdac.broadinstitute.org_KICH.Clinical_Pick_Tier1.Level_4.2013092300.0.0.tar.gz.md5'\r\n",
        "     0K                                                      100% 9.61M=0s\r\n",
        "--2013-10-29 19:05:31--  http://gdac.broadinstitute.org/runs/stddata__2013_09_23/data/KICH/20130923/gdac.broadinstitute.org_KICH.Clinical_Pick_Tier1.aux.2013092300.0.0.tar.gz\r\n"
       ]
      },
      {
       "output_type": "stream",
       "stream": "stdout",
       "text": [
        "Saving to: `stddata__2013_09_23/KICH/20130923/gdac.broadinstitute.org_KICH.Clinical_Pick_Tier1.aux.2013092300.0.0.tar.gz'\r\n",
        "     0K                                                      100%  130M=0s\r\n",
        "--2013-10-29 19:05:31--  http://gdac.broadinstitute.org/runs/stddata__2013_09_23/data/KICH/20130923/gdac.broadinstitute.org_KICH.Clinical_Pick_Tier1.aux.2013092300.0.0.tar.gz.md5\r\n"
       ]
      },
      {
       "output_type": "stream",
       "stream": "stdout",
       "text": [
        "Saving to: `stddata__2013_09_23/KICH/20130923/gdac.broadinstitute.org_KICH.Clinical_Pick_Tier1.aux.2013092300.0.0.tar.gz.md5'\r\n",
        "     0K                                                      100% 9.33M=0s\r\n",
        "--2013-10-29 19:05:31--  http://gdac.broadinstitute.org/runs/stddata__2013_09_23/data/KICH/20130923/gdac.broadinstitute.org_KICH.Clinical_Pick_Tier1.mage-tab.2013092300.0.0.tar.gz\r\n"
       ]
      },
      {
       "output_type": "stream",
       "stream": "stdout",
       "text": [
        "Saving to: `stddata__2013_09_23/KICH/20130923/gdac.broadinstitute.org_KICH.Clinical_Pick_Tier1.mage-tab.2013092300.0.0.tar.gz'\r\n",
        "     0K                                                      100%  103M=0s\r\n",
        "--2013-10-29 19:05:31--  http://gdac.broadinstitute.org/runs/stddata__2013_09_23/data/KICH/20130923/gdac.broadinstitute.org_KICH.Clinical_Pick_Tier1.mage-tab.2013092300.0.0.tar.gz.md5\r\n"
       ]
      },
      {
       "output_type": "stream",
       "stream": "stdout",
       "text": [
        "Saving to: `stddata__2013_09_23/KICH/20130923/gdac.broadinstitute.org_KICH.Clinical_Pick_Tier1.mage-tab.2013092300.0.0.tar.gz.md5'\r\n",
        "     0K                                                      100% 9.93M=0s\r\n",
        "--2013-10-29 19:05:31--  http://gdac.broadinstitute.org/runs/stddata__2013_09_23/data/KICH/20130923/gdac.broadinstitute.org_KICH.Merge_Clinical.Level_1.2013092300.0.0.tar.gz\r\n"
       ]
      },
      {
       "output_type": "stream",
       "stream": "stdout",
       "text": [
        "Saving to: `stddata__2013_09_23/KICH/20130923/gdac.broadinstitute.org_KICH.Merge_Clinical.Level_1.2013092300.0.0.tar.gz'\r\n"
       ]
      },
      {
       "output_type": "stream",
       "stream": "stdout",
       "text": [
        "     0K                                                      100%  301K=0.08s\r\n",
        "--2013-10-29 19:05:32--  http://gdac.broadinstitute.org/runs/stddata__2013_09_23/data/KICH/20130923/gdac.broadinstitute.org_KICH.Merge_Clinical.Level_1.2013092300.0.0.tar.gz.md5\r\n"
       ]
      },
      {
       "output_type": "stream",
       "stream": "stdout",
       "text": [
        "Saving to: `stddata__2013_09_23/KICH/20130923/gdac.broadinstitute.org_KICH.Merge_Clinical.Level_1.2013092300.0.0.tar.gz.md5'\r\n",
        "     0K                                                      100% 8.78M=0s\r\n",
        "--2013-10-29 19:05:32--  http://gdac.broadinstitute.org/runs/stddata__2013_09_23/data/KICH/20130923/gdac.broadinstitute.org_KICH.Merge_Clinical.aux.2013092300.0.0.tar.gz\r\n"
       ]
      },
      {
       "output_type": "stream",
       "stream": "stdout",
       "text": [
        "Saving to: `stddata__2013_09_23/KICH/20130923/gdac.broadinstitute.org_KICH.Merge_Clinical.aux.2013092300.0.0.tar.gz'\r\n",
        "     0K                                                      100%  107M=0s\r\n",
        "--2013-10-29 19:05:32--  http://gdac.broadinstitute.org/runs/stddata__2013_09_23/data/KICH/20130923/gdac.broadinstitute.org_KICH.Merge_Clinical.aux.2013092300.0.0.tar.gz.md5\r\n"
       ]
      },
      {
       "output_type": "stream",
       "stream": "stdout",
       "text": [
        "Saving to: `stddata__2013_09_23/KICH/20130923/gdac.broadinstitute.org_KICH.Merge_Clinical.aux.2013092300.0.0.tar.gz.md5'\r\n",
        "     0K                                                      100% 21.7M=0s\r\n",
        "--2013-10-29 19:05:32--  http://gdac.broadinstitute.org/runs/stddata__2013_09_23/data/KICH/20130923/gdac.broadinstitute.org_KICH.Merge_Clinical.mage-tab.2013092300.0.0.tar.gz\r\n"
       ]
      },
      {
       "output_type": "stream",
       "stream": "stdout",
       "text": [
        "Saving to: `stddata__2013_09_23/KICH/20130923/gdac.broadinstitute.org_KICH.Merge_Clinical.mage-tab.2013092300.0.0.tar.gz'\r\n",
        "     0K                                                      100%  403M=0s\r\n",
        "--2013-10-29 19:05:32--  http://gdac.broadinstitute.org/runs/stddata__2013_09_23/data/KICH/20130923/gdac.broadinstitute.org_KICH.Merge_Clinical.mage-tab.2013092300.0.0.tar.gz.md5\r\n"
       ]
      },
      {
       "output_type": "stream",
       "stream": "stdout",
       "text": [
        "Saving to: `stddata__2013_09_23/KICH/20130923/gdac.broadinstitute.org_KICH.Merge_Clinical.mage-tab.2013092300.0.0.tar.gz.md5'\r\n",
        "     0K                                                      100% 22.4M=0s\r\n",
        "FINISHED --2013-10-29 19:05:32--\r\n",
        "Total wall clock time: 2.1s\r\n",
        "Downloaded: 15 files, 81K in 0.5s (169 KB/s)\r\n",
        "--2013-10-29 19:05:32--  http://gdac.broadinstitute.org/runs/stddata__2013_09_23/data/KIRC/\r\n"
       ]
      },
      {
       "output_type": "stream",
       "stream": "stdout",
       "text": [
        "     0K                                                      100% 74.6M=0s\r\n"
       ]
      },
      {
       "output_type": "stream",
       "stream": "stdout",
       "text": [
        "     0K                                                      100% 95.7K=0.08s\r\n",
        "--2013-10-29 19:05:33--  http://gdac.broadinstitute.org/runs/stddata__2013_09_23/data/KIRC/20130923/\r\n"
       ]
      },
      {
       "output_type": "stream",
       "stream": "stdout",
       "text": [
        "     0K                                                        159K=0.4s\r\n",
        "--2013-10-29 19:05:33--  http://gdac.broadinstitute.org/runs/stddata__2013_09_23/data/KIRC/20130923/gdac.broadinstitute.org_KIRC-FFPE.Merge_Clinical.Level_1.2013092300.0.0.tar.gz\r\n"
       ]
      },
      {
       "output_type": "stream",
       "stream": "stdout",
       "text": [
        "Saving to: `stddata__2013_09_23/KIRC/20130923/gdac.broadinstitute.org_KIRC-FFPE.Merge_Clinical.Level_1.2013092300.0.0.tar.gz'\r\n",
        "     0K                                                      100%  346M=0s\r\n",
        "--2013-10-29 19:05:33--  http://gdac.broadinstitute.org/runs/stddata__2013_09_23/data/KIRC/20130923/gdac.broadinstitute.org_KIRC-FFPE.Merge_Clinical.Level_1.2013092300.0.0.tar.gz.md5\r\n"
       ]
      },
      {
       "output_type": "stream",
       "stream": "stdout",
       "text": [
        "Saving to: `stddata__2013_09_23/KIRC/20130923/gdac.broadinstitute.org_KIRC-FFPE.Merge_Clinical.Level_1.2013092300.0.0.tar.gz.md5'\r\n",
        "     0K                                                      100% 26.1M=0s\r\n",
        "--2013-10-29 19:05:33--  http://gdac.broadinstitute.org/runs/stddata__2013_09_23/data/KIRC/20130923/gdac.broadinstitute.org_KIRC-FFPE.Merge_Clinical.aux.2013092300.0.0.tar.gz\r\n"
       ]
      },
      {
       "output_type": "stream",
       "stream": "stdout",
       "text": [
        "Saving to: `stddata__2013_09_23/KIRC/20130923/gdac.broadinstitute.org_KIRC-FFPE.Merge_Clinical.aux.2013092300.0.0.tar.gz'\r\n",
        "     0K                                                      100%  276M=0s\r\n",
        "--2013-10-29 19:05:33--  http://gdac.broadinstitute.org/runs/stddata__2013_09_23/data/KIRC/20130923/gdac.broadinstitute.org_KIRC-FFPE.Merge_Clinical.aux.2013092300.0.0.tar.gz.md5\r\n"
       ]
      },
      {
       "output_type": "stream",
       "stream": "stdout",
       "text": [
        "Saving to: `stddata__2013_09_23/KIRC/20130923/gdac.broadinstitute.org_KIRC-FFPE.Merge_Clinical.aux.2013092300.0.0.tar.gz.md5'\r\n",
        "     0K                                                      100% 9.10M=0s\r\n",
        "--2013-10-29 19:05:34--  http://gdac.broadinstitute.org/runs/stddata__2013_09_23/data/KIRC/20130923/gdac.broadinstitute.org_KIRC-FFPE.Merge_Clinical.mage-tab.2013092300.0.0.tar.gz\r\n"
       ]
      },
      {
       "output_type": "stream",
       "stream": "stdout",
       "text": [
        "Saving to: `stddata__2013_09_23/KIRC/20130923/gdac.broadinstitute.org_KIRC-FFPE.Merge_Clinical.mage-tab.2013092300.0.0.tar.gz'\r\n",
        "     0K                                                      100%  113M=0s\r\n"
       ]
      },
      {
       "output_type": "stream",
       "stream": "stdout",
       "text": [
        "--2013-10-29 19:05:34--  http://gdac.broadinstitute.org/runs/stddata__2013_09_23/data/KIRC/20130923/gdac.broadinstitute.org_KIRC-FFPE.Merge_Clinical.mage-tab.2013092300.0.0.tar.gz.md5\r\n"
       ]
      },
      {
       "output_type": "stream",
       "stream": "stdout",
       "text": [
        "Saving to: `stddata__2013_09_23/KIRC/20130923/gdac.broadinstitute.org_KIRC-FFPE.Merge_Clinical.mage-tab.2013092300.0.0.tar.gz.md5'\r\n",
        "     0K                                                      100% 8.70M=0s\r\n",
        "--2013-10-29 19:05:34--  http://gdac.broadinstitute.org/runs/stddata__2013_09_23/data/KIRC/20130923/gdac.broadinstitute.org_KIRC.Clinical_Pick_Tier1.Level_4.2013092300.0.0.tar.gz\r\n"
       ]
      },
      {
       "output_type": "stream",
       "stream": "stdout",
       "text": [
        "Saving to: `stddata__2013_09_23/KIRC/20130923/gdac.broadinstitute.org_KIRC.Clinical_Pick_Tier1.Level_4.2013092300.0.0.tar.gz'\r\n"
       ]
      },
      {
       "output_type": "stream",
       "stream": "stdout",
       "text": [
        "     0K .                                                    100%  397K=0.2s\r\n",
        "--2013-10-29 19:05:34--  http://gdac.broadinstitute.org/runs/stddata__2013_09_23/data/KIRC/20130923/gdac.broadinstitute.org_KIRC.Clinical_Pick_Tier1.Level_4.2013092300.0.0.tar.gz.md5\r\n"
       ]
      },
      {
       "output_type": "stream",
       "stream": "stdout",
       "text": [
        "Saving to: `stddata__2013_09_23/KIRC/20130923/gdac.broadinstitute.org_KIRC.Clinical_Pick_Tier1.Level_4.2013092300.0.0.tar.gz.md5'\r\n",
        "     0K                                                      100% 8.83M=0s\r\n",
        "--2013-10-29 19:05:34--  http://gdac.broadinstitute.org/runs/stddata__2013_09_23/data/KIRC/20130923/gdac.broadinstitute.org_KIRC.Clinical_Pick_Tier1.aux.2013092300.0.0.tar.gz\r\n"
       ]
      },
      {
       "output_type": "stream",
       "stream": "stdout",
       "text": [
        "Saving to: `stddata__2013_09_23/KIRC/20130923/gdac.broadinstitute.org_KIRC.Clinical_Pick_Tier1.aux.2013092300.0.0.tar.gz'\r\n",
        "     0K                                                      100%  130M=0s\r\n",
        "--2013-10-29 19:05:34--  http://gdac.broadinstitute.org/runs/stddata__2013_09_23/data/KIRC/20130923/gdac.broadinstitute.org_KIRC.Clinical_Pick_Tier1.aux.2013092300.0.0.tar.gz.md5\r\n"
       ]
      },
      {
       "output_type": "stream",
       "stream": "stdout",
       "text": [
        "Saving to: `stddata__2013_09_23/KIRC/20130923/gdac.broadinstitute.org_KIRC.Clinical_Pick_Tier1.aux.2013092300.0.0.tar.gz.md5'\r\n",
        "     0K                                                      100% 18.8M=0s\r\n"
       ]
      },
      {
       "output_type": "stream",
       "stream": "stdout",
       "text": [
        "--2013-10-29 19:05:34--  http://gdac.broadinstitute.org/runs/stddata__2013_09_23/data/KIRC/20130923/gdac.broadinstitute.org_KIRC.Clinical_Pick_Tier1.mage-tab.2013092300.0.0.tar.gz\r\n"
       ]
      },
      {
       "output_type": "stream",
       "stream": "stdout",
       "text": [
        "Saving to: `stddata__2013_09_23/KIRC/20130923/gdac.broadinstitute.org_KIRC.Clinical_Pick_Tier1.mage-tab.2013092300.0.0.tar.gz'\r\n",
        "     0K                                                      100%  326M=0s\r\n",
        "--2013-10-29 19:05:34--  http://gdac.broadinstitute.org/runs/stddata__2013_09_23/data/KIRC/20130923/gdac.broadinstitute.org_KIRC.Clinical_Pick_Tier1.mage-tab.2013092300.0.0.tar.gz.md5\r\n"
       ]
      },
      {
       "output_type": "stream",
       "stream": "stdout",
       "text": [
        "Saving to: `stddata__2013_09_23/KIRC/20130923/gdac.broadinstitute.org_KIRC.Clinical_Pick_Tier1.mage-tab.2013092300.0.0.tar.gz.md5'\r\n",
        "     0K                                                      100% 23.4M=0s\r\n",
        "--2013-10-29 19:05:35--  http://gdac.broadinstitute.org/runs/stddata__2013_09_23/data/KIRC/20130923/gdac.broadinstitute.org_KIRC.Merge_Clinical.Level_1.2013092300.0.0.tar.gz\r\n"
       ]
      },
      {
       "output_type": "stream",
       "stream": "stdout",
       "text": [
        "Saving to: `stddata__2013_09_23/KIRC/20130923/gdac.broadinstitute.org_KIRC.Merge_Clinical.Level_1.2013092300.0.0.tar.gz'\r\n"
       ]
      },
      {
       "output_type": "stream",
       "stream": "stdout",
       "text": [
        "     0K ..                                                   100%  540K=0.3s\r\n",
        "--2013-10-29 19:05:35--  http://gdac.broadinstitute.org/runs/stddata__2013_09_23/data/KIRC/20130923/gdac.broadinstitute.org_KIRC.Merge_Clinical.Level_1.2013092300.0.0.tar.gz.md5\r\n"
       ]
      },
      {
       "output_type": "stream",
       "stream": "stdout",
       "text": [
        "Saving to: `stddata__2013_09_23/KIRC/20130923/gdac.broadinstitute.org_KIRC.Merge_Clinical.Level_1.2013092300.0.0.tar.gz.md5'\r\n",
        "     0K                                                      100% 8.65M=0s\r\n",
        "--2013-10-29 19:05:35--  http://gdac.broadinstitute.org/runs/stddata__2013_09_23/data/KIRC/20130923/gdac.broadinstitute.org_KIRC.Merge_Clinical.aux.2013092300.0.0.tar.gz\r\n"
       ]
      },
      {
       "output_type": "stream",
       "stream": "stdout",
       "text": [
        "Saving to: `stddata__2013_09_23/KIRC/20130923/gdac.broadinstitute.org_KIRC.Merge_Clinical.aux.2013092300.0.0.tar.gz'\r\n",
        "     0K                                                      100%  101M=0s\r\n",
        "--2013-10-29 19:05:35--  http://gdac.broadinstitute.org/runs/stddata__2013_09_23/data/KIRC/20130923/gdac.broadinstitute.org_KIRC.Merge_Clinical.aux.2013092300.0.0.tar.gz.md5\r\n"
       ]
      },
      {
       "output_type": "stream",
       "stream": "stdout",
       "text": [
        "Saving to: `stddata__2013_09_23/KIRC/20130923/gdac.broadinstitute.org_KIRC.Merge_Clinical.aux.2013092300.0.0.tar.gz.md5'\r\n",
        "     0K                                                      100% 19.8M=0s\r\n",
        "--2013-10-29 19:05:35--  http://gdac.broadinstitute.org/runs/stddata__2013_09_23/data/KIRC/20130923/gdac.broadinstitute.org_KIRC.Merge_Clinical.mage-tab.2013092300.0.0.tar.gz\r\n"
       ]
      },
      {
       "output_type": "stream",
       "stream": "stdout",
       "text": [
        "Saving to: `stddata__2013_09_23/KIRC/20130923/gdac.broadinstitute.org_KIRC.Merge_Clinical.mage-tab.2013092300.0.0.tar.gz'\r\n",
        "     0K                                                      100%  479M=0s\r\n",
        "--2013-10-29 19:05:35--  http://gdac.broadinstitute.org/runs/stddata__2013_09_23/data/KIRC/20130923/gdac.broadinstitute.org_KIRC.Merge_Clinical.mage-tab.2013092300.0.0.tar.gz.md5\r\n"
       ]
      },
      {
       "output_type": "stream",
       "stream": "stdout",
       "text": [
        "Saving to: `stddata__2013_09_23/KIRC/20130923/gdac.broadinstitute.org_KIRC.Merge_Clinical.mage-tab.2013092300.0.0.tar.gz.md5'\r\n",
        "     0K                                                      100% 8.96M=0s\r\n",
        "FINISHED --2013-10-29 19:05:36--\r\n",
        "Total wall clock time: 3.4s\r\n",
        "Downloaded: 21 files, 352K in 1.0s (352 KB/s)\r\n",
        "--2013-10-29 19:05:36--  http://gdac.broadinstitute.org/runs/stddata__2013_09_23/data/KIRP/\r\n"
       ]
      },
      {
       "output_type": "stream",
       "stream": "stdout",
       "text": [
        "     0K                                                      100% 28.6M=0s\r\n"
       ]
      },
      {
       "output_type": "stream",
       "stream": "stdout",
       "text": [
        "     0K                                                      100% 95.7K=0.08s\r\n",
        "--2013-10-29 19:05:36--  http://gdac.broadinstitute.org/runs/stddata__2013_09_23/data/KIRP/20130923/\r\n"
       ]
      },
      {
       "output_type": "stream",
       "stream": "stdout",
       "text": [
        "     0K                                                        128K=0.3s\r\n",
        "--2013-10-29 19:05:36--  http://gdac.broadinstitute.org/runs/stddata__2013_09_23/data/KIRP/20130923/gdac.broadinstitute.org_KIRP.Clinical_Pick_Tier1.Level_4.2013092300.0.0.tar.gz\r\n"
       ]
      },
      {
       "output_type": "stream",
       "stream": "stdout",
       "text": [
        "Saving to: `stddata__2013_09_23/KIRP/20130923/gdac.broadinstitute.org_KIRP.Clinical_Pick_Tier1.Level_4.2013092300.0.0.tar.gz'\r\n"
       ]
      },
      {
       "output_type": "stream",
       "stream": "stdout",
       "text": [
        "     0K                                                      100%  311K=0.08s\r\n",
        "--2013-10-29 19:05:37--  http://gdac.broadinstitute.org/runs/stddata__2013_09_23/data/KIRP/20130923/gdac.broadinstitute.org_KIRP.Clinical_Pick_Tier1.Level_4.2013092300.0.0.tar.gz.md5\r\n"
       ]
      },
      {
       "output_type": "stream",
       "stream": "stdout",
       "text": [
        "Saving to: `stddata__2013_09_23/KIRP/20130923/gdac.broadinstitute.org_KIRP.Clinical_Pick_Tier1.Level_4.2013092300.0.0.tar.gz.md5'\r\n",
        "     0K                                                      100% 26.1M=0s\r\n",
        "--2013-10-29 19:05:37--  http://gdac.broadinstitute.org/runs/stddata__2013_09_23/data/KIRP/20130923/gdac.broadinstitute.org_KIRP.Clinical_Pick_Tier1.aux.2013092300.0.0.tar.gz\r\n"
       ]
      },
      {
       "output_type": "stream",
       "stream": "stdout",
       "text": [
        "Saving to: `stddata__2013_09_23/KIRP/20130923/gdac.broadinstitute.org_KIRP.Clinical_Pick_Tier1.aux.2013092300.0.0.tar.gz'\r\n",
        "     0K                                                      100%  175M=0s\r\n",
        "--2013-10-29 19:05:37--  http://gdac.broadinstitute.org/runs/stddata__2013_09_23/data/KIRP/20130923/gdac.broadinstitute.org_KIRP.Clinical_Pick_Tier1.aux.2013092300.0.0.tar.gz.md5\r\n"
       ]
      },
      {
       "output_type": "stream",
       "stream": "stdout",
       "text": [
        "Saving to: `stddata__2013_09_23/KIRP/20130923/gdac.broadinstitute.org_KIRP.Clinical_Pick_Tier1.aux.2013092300.0.0.tar.gz.md5'\r\n",
        "     0K                                                      100% 24.9M=0s\r\n",
        "--2013-10-29 19:05:37--  http://gdac.broadinstitute.org/runs/stddata__2013_09_23/data/KIRP/20130923/gdac.broadinstitute.org_KIRP.Clinical_Pick_Tier1.mage-tab.2013092300.0.0.tar.gz\r\n"
       ]
      },
      {
       "output_type": "stream",
       "stream": "stdout",
       "text": [
        "Saving to: `stddata__2013_09_23/KIRP/20130923/gdac.broadinstitute.org_KIRP.Clinical_Pick_Tier1.mage-tab.2013092300.0.0.tar.gz'\r\n",
        "     0K                                                      100%  111M=0s\r\n",
        "--2013-10-29 19:05:37--  http://gdac.broadinstitute.org/runs/stddata__2013_09_23/data/KIRP/20130923/gdac.broadinstitute.org_KIRP.Clinical_Pick_Tier1.mage-tab.2013092300.0.0.tar.gz.md5\r\n"
       ]
      },
      {
       "output_type": "stream",
       "stream": "stdout",
       "text": [
        "Saving to: `stddata__2013_09_23/KIRP/20130923/gdac.broadinstitute.org_KIRP.Clinical_Pick_Tier1.mage-tab.2013092300.0.0.tar.gz.md5'\r\n",
        "     0K                                                      100% 24.1M=0s\r\n",
        "--2013-10-29 19:05:37--  http://gdac.broadinstitute.org/runs/stddata__2013_09_23/data/KIRP/20130923/gdac.broadinstitute.org_KIRP.Merge_Clinical.Level_1.2013092300.0.0.tar.gz\r\n"
       ]
      },
      {
       "output_type": "stream",
       "stream": "stdout",
       "text": [
        "Saving to: `stddata__2013_09_23/KIRP/20130923/gdac.broadinstitute.org_KIRP.Merge_Clinical.Level_1.2013092300.0.0.tar.gz'\r\n"
       ]
      },
      {
       "output_type": "stream",
       "stream": "stdout",
       "text": [
        "     0K                                                      100%  277K=0.2s\r\n",
        "--2013-10-29 19:05:37--  http://gdac.broadinstitute.org/runs/stddata__2013_09_23/data/KIRP/20130923/gdac.broadinstitute.org_KIRP.Merge_Clinical.Level_1.2013092300.0.0.tar.gz.md5\r\n"
       ]
      },
      {
       "output_type": "stream",
       "stream": "stdout",
       "text": [
        "Saving to: `stddata__2013_09_23/KIRP/20130923/gdac.broadinstitute.org_KIRP.Merge_Clinical.Level_1.2013092300.0.0.tar.gz.md5'\r\n",
        "     0K                                                      100% 22.8M=0s\r\n",
        "--2013-10-29 19:05:37--  http://gdac.broadinstitute.org/runs/stddata__2013_09_23/data/KIRP/20130923/gdac.broadinstitute.org_KIRP.Merge_Clinical.aux.2013092300.0.0.tar.gz\r\n"
       ]
      },
      {
       "output_type": "stream",
       "stream": "stdout",
       "text": [
        "Saving to: `stddata__2013_09_23/KIRP/20130923/gdac.broadinstitute.org_KIRP.Merge_Clinical.aux.2013092300.0.0.tar.gz'\r\n",
        "     0K                                                      100%  269M=0s\r\n",
        "--2013-10-29 19:05:37--  http://gdac.broadinstitute.org/runs/stddata__2013_09_23/data/KIRP/20130923/gdac.broadinstitute.org_KIRP.Merge_Clinical.aux.2013092300.0.0.tar.gz.md5\r\n"
       ]
      },
      {
       "output_type": "stream",
       "stream": "stdout",
       "text": [
        "Saving to: `stddata__2013_09_23/KIRP/20130923/gdac.broadinstitute.org_KIRP.Merge_Clinical.aux.2013092300.0.0.tar.gz.md5'\r\n",
        "     0K                                                      100% 10.7M=0s\r\n",
        "--2013-10-29 19:05:38--  http://gdac.broadinstitute.org/runs/stddata__2013_09_23/data/KIRP/20130923/gdac.broadinstitute.org_KIRP.Merge_Clinical.mage-tab.2013092300.0.0.tar.gz\r\n"
       ]
      },
      {
       "output_type": "stream",
       "stream": "stdout",
       "text": [
        "Saving to: `stddata__2013_09_23/KIRP/20130923/gdac.broadinstitute.org_KIRP.Merge_Clinical.mage-tab.2013092300.0.0.tar.gz'\r\n",
        "     0K                                                      100%  409M=0s\r\n",
        "--2013-10-29 19:05:38--  http://gdac.broadinstitute.org/runs/stddata__2013_09_23/data/KIRP/20130923/gdac.broadinstitute.org_KIRP.Merge_Clinical.mage-tab.2013092300.0.0.tar.gz.md5\r\n"
       ]
      },
      {
       "output_type": "stream",
       "stream": "stdout",
       "text": [
        "Saving to: `stddata__2013_09_23/KIRP/20130923/gdac.broadinstitute.org_KIRP.Merge_Clinical.mage-tab.2013092300.0.0.tar.gz.md5'\r\n",
        "     0K                                                      100% 8.62M=0s\r\n",
        "FINISHED --2013-10-29 19:05:38--\r\n",
        "Total wall clock time: 2.2s\r\n",
        "Downloaded: 15 files, 127K in 0.6s (198 KB/s)\r\n",
        "--2013-10-29 19:05:38--  http://gdac.broadinstitute.org/runs/stddata__2013_09_23/data/LAML/\r\n"
       ]
      },
      {
       "output_type": "stream",
       "stream": "stdout",
       "text": [
        "     0K                                                      100% 27.6M=0s\r\n"
       ]
      },
      {
       "output_type": "stream",
       "stream": "stdout",
       "text": [
        "     0K                                                      100% 95.7K=0.08s\r\n",
        "--2013-10-29 19:05:38--  http://gdac.broadinstitute.org/runs/stddata__2013_09_23/data/LAML/20130923/\r\n"
       ]
      },
      {
       "output_type": "stream",
       "stream": "stdout",
       "text": [
        "     0K                                                        110K=0.3s\r\n"
       ]
      },
      {
       "output_type": "stream",
       "stream": "stdout",
       "text": [
        "--2013-10-29 19:05:39--  http://gdac.broadinstitute.org/runs/stddata__2013_09_23/data/LAML/20130923/gdac.broadinstitute.org_LAML.Clinical_Pick_Tier1.Level_4.2013092300.0.0.tar.gz\r\n"
       ]
      },
      {
       "output_type": "stream",
       "stream": "stdout",
       "text": [
        "Saving to: `stddata__2013_09_23/LAML/20130923/gdac.broadinstitute.org_LAML.Clinical_Pick_Tier1.Level_4.2013092300.0.0.tar.gz'\r\n"
       ]
      },
      {
       "output_type": "stream",
       "stream": "stdout",
       "text": [
        "     0K                                                      100%  332K=0.08s\r\n",
        "--2013-10-29 19:05:39--  http://gdac.broadinstitute.org/runs/stddata__2013_09_23/data/LAML/20130923/gdac.broadinstitute.org_LAML.Clinical_Pick_Tier1.Level_4.2013092300.0.0.tar.gz.md5\r\n"
       ]
      },
      {
       "output_type": "stream",
       "stream": "stdout",
       "text": [
        "Saving to: `stddata__2013_09_23/LAML/20130923/gdac.broadinstitute.org_LAML.Clinical_Pick_Tier1.Level_4.2013092300.0.0.tar.gz.md5'\r\n",
        "     0K                                                      100% 12.0M=0s\r\n",
        "--2013-10-29 19:05:39--  http://gdac.broadinstitute.org/runs/stddata__2013_09_23/data/LAML/20130923/gdac.broadinstitute.org_LAML.Clinical_Pick_Tier1.aux.2013092300.0.0.tar.gz\r\n"
       ]
      },
      {
       "output_type": "stream",
       "stream": "stdout",
       "text": [
        "Saving to: `stddata__2013_09_23/LAML/20130923/gdac.broadinstitute.org_LAML.Clinical_Pick_Tier1.aux.2013092300.0.0.tar.gz'\r\n",
        "     0K                                                      100%  130M=0s\r\n",
        "--2013-10-29 19:05:39--  http://gdac.broadinstitute.org/runs/stddata__2013_09_23/data/LAML/20130923/gdac.broadinstitute.org_LAML.Clinical_Pick_Tier1.aux.2013092300.0.0.tar.gz.md5\r\n"
       ]
      },
      {
       "output_type": "stream",
       "stream": "stdout",
       "text": [
        "Saving to: `stddata__2013_09_23/LAML/20130923/gdac.broadinstitute.org_LAML.Clinical_Pick_Tier1.aux.2013092300.0.0.tar.gz.md5'\r\n",
        "     0K                                                      100% 8.96M=0s\r\n",
        "--2013-10-29 19:05:39--  http://gdac.broadinstitute.org/runs/stddata__2013_09_23/data/LAML/20130923/gdac.broadinstitute.org_LAML.Clinical_Pick_Tier1.mage-tab.2013092300.0.0.tar.gz\r\n"
       ]
      },
      {
       "output_type": "stream",
       "stream": "stdout",
       "text": [
        "Saving to: `stddata__2013_09_23/LAML/20130923/gdac.broadinstitute.org_LAML.Clinical_Pick_Tier1.mage-tab.2013092300.0.0.tar.gz'\r\n",
        "     0K                                                      100%  113M=0s\r\n",
        "--2013-10-29 19:05:39--  http://gdac.broadinstitute.org/runs/stddata__2013_09_23/data/LAML/20130923/gdac.broadinstitute.org_LAML.Clinical_Pick_Tier1.mage-tab.2013092300.0.0.tar.gz.md5\r\n"
       ]
      },
      {
       "output_type": "stream",
       "stream": "stdout",
       "text": [
        "Saving to: `stddata__2013_09_23/LAML/20130923/gdac.broadinstitute.org_LAML.Clinical_Pick_Tier1.mage-tab.2013092300.0.0.tar.gz.md5'\r\n",
        "     0K                                                      100% 23.6M=0s\r\n",
        "--2013-10-29 19:05:39--  http://gdac.broadinstitute.org/runs/stddata__2013_09_23/data/LAML/20130923/gdac.broadinstitute.org_LAML.Merge_Clinical.Level_1.2013092300.0.0.tar.gz\r\n"
       ]
      },
      {
       "output_type": "stream",
       "stream": "stdout",
       "text": [
        "Saving to: `stddata__2013_09_23/LAML/20130923/gdac.broadinstitute.org_LAML.Merge_Clinical.Level_1.2013092300.0.0.tar.gz'\r\n"
       ]
      },
      {
       "output_type": "stream",
       "stream": "stdout",
       "text": [
        "     0K                                                      100%  301K=0.2s\r\n",
        "--2013-10-29 19:05:40--  http://gdac.broadinstitute.org/runs/stddata__2013_09_23/data/LAML/20130923/gdac.broadinstitute.org_LAML.Merge_Clinical.Level_1.2013092300.0.0.tar.gz.md5\r\n"
       ]
      },
      {
       "output_type": "stream",
       "stream": "stdout",
       "text": [
        "Saving to: `stddata__2013_09_23/LAML/20130923/gdac.broadinstitute.org_LAML.Merge_Clinical.Level_1.2013092300.0.0.tar.gz.md5'\r\n",
        "     0K                                                      100% 8.77M=0s\r\n",
        "--2013-10-29 19:05:40--  http://gdac.broadinstitute.org/runs/stddata__2013_09_23/data/LAML/20130923/gdac.broadinstitute.org_LAML.Merge_Clinical.aux.2013092300.0.0.tar.gz\r\n"
       ]
      },
      {
       "output_type": "stream",
       "stream": "stdout",
       "text": [
        "Saving to: `stddata__2013_09_23/LAML/20130923/gdac.broadinstitute.org_LAML.Merge_Clinical.aux.2013092300.0.0.tar.gz'\r\n",
        "     0K                                                      100%  102M=0s\r\n",
        "--2013-10-29 19:05:40--  http://gdac.broadinstitute.org/runs/stddata__2013_09_23/data/LAML/20130923/gdac.broadinstitute.org_LAML.Merge_Clinical.aux.2013092300.0.0.tar.gz.md5\r\n"
       ]
      },
      {
       "output_type": "stream",
       "stream": "stdout",
       "text": [
        "Saving to: `stddata__2013_09_23/LAML/20130923/gdac.broadinstitute.org_LAML.Merge_Clinical.aux.2013092300.0.0.tar.gz.md5'\r\n",
        "     0K                                                      100% 22.3M=0s\r\n",
        "--2013-10-29 19:05:40--  http://gdac.broadinstitute.org/runs/stddata__2013_09_23/data/LAML/20130923/gdac.broadinstitute.org_LAML.Merge_Clinical.mage-tab.2013092300.0.0.tar.gz\r\n"
       ]
      },
      {
       "output_type": "stream",
       "stream": "stdout",
       "text": [
        "Saving to: `stddata__2013_09_23/LAML/20130923/gdac.broadinstitute.org_LAML.Merge_Clinical.mage-tab.2013092300.0.0.tar.gz'\r\n",
        "     0K                                                      100%  254M=0s\r\n",
        "--2013-10-29 19:05:40--  http://gdac.broadinstitute.org/runs/stddata__2013_09_23/data/LAML/20130923/gdac.broadinstitute.org_LAML.Merge_Clinical.mage-tab.2013092300.0.0.tar.gz.md5\r\n"
       ]
      },
      {
       "output_type": "stream",
       "stream": "stdout",
       "text": [
        "Saving to: `stddata__2013_09_23/LAML/20130923/gdac.broadinstitute.org_LAML.Merge_Clinical.mage-tab.2013092300.0.0.tar.gz.md5'\r\n",
        "     0K                                                      100% 8.90M=0s\r\n",
        "FINISHED --2013-10-29 19:05:40--\r\n",
        "Total wall clock time: 2.3s\r\n",
        "Downloaded: 15 files, 127K in 0.6s (198 KB/s)\r\n",
        "--2013-10-29 19:05:40--  http://gdac.broadinstitute.org/runs/stddata__2013_09_23/data/LGG/\r\n"
       ]
      },
      {
       "output_type": "stream",
       "stream": "stdout",
       "text": [
        "     0K                                                      100% 27.5M=0s\r\n"
       ]
      },
      {
       "output_type": "stream",
       "stream": "stdout",
       "text": [
        "     0K                                                      100% 96.9K=0.08s\r\n",
        "--2013-10-29 19:05:40--  http://gdac.broadinstitute.org/runs/stddata__2013_09_23/data/LGG/20130923/\r\n"
       ]
      },
      {
       "output_type": "stream",
       "stream": "stdout",
       "text": [
        "     0K                                                        137K=0.2s\r\n",
        "--2013-10-29 19:05:41--  http://gdac.broadinstitute.org/runs/stddata__2013_09_23/data/LGG/20130923/gdac.broadinstitute.org_LGG.Clinical_Pick_Tier1.Level_4.2013092300.0.0.tar.gz\r\n"
       ]
      },
      {
       "output_type": "stream",
       "stream": "stdout",
       "text": [
        "Saving to: `stddata__2013_09_23/LGG/20130923/gdac.broadinstitute.org_LGG.Clinical_Pick_Tier1.Level_4.2013092300.0.0.tar.gz'\r\n"
       ]
      },
      {
       "output_type": "stream",
       "stream": "stdout",
       "text": [
        "     0K .                                                    100%  286K=0.2s\r\n",
        "--2013-10-29 19:05:41--  http://gdac.broadinstitute.org/runs/stddata__2013_09_23/data/LGG/20130923/gdac.broadinstitute.org_LGG.Clinical_Pick_Tier1.Level_4.2013092300.0.0.tar.gz.md5\r\n"
       ]
      },
      {
       "output_type": "stream",
       "stream": "stdout",
       "text": [
        "Saving to: `stddata__2013_09_23/LGG/20130923/gdac.broadinstitute.org_LGG.Clinical_Pick_Tier1.Level_4.2013092300.0.0.tar.gz.md5'\r\n",
        "     0K                                                      100% 9.46M=0s\r\n",
        "--2013-10-29 19:05:41--  http://gdac.broadinstitute.org/runs/stddata__2013_09_23/data/LGG/20130923/gdac.broadinstitute.org_LGG.Clinical_Pick_Tier1.aux.2013092300.0.0.tar.gz\r\n"
       ]
      },
      {
       "output_type": "stream",
       "stream": "stdout",
       "text": [
        "Saving to: `stddata__2013_09_23/LGG/20130923/gdac.broadinstitute.org_LGG.Clinical_Pick_Tier1.aux.2013092300.0.0.tar.gz'\r\n",
        "     0K                                                      100%  137M=0s\r\n",
        "--2013-10-29 19:05:41--  http://gdac.broadinstitute.org/runs/stddata__2013_09_23/data/LGG/20130923/gdac.broadinstitute.org_LGG.Clinical_Pick_Tier1.aux.2013092300.0.0.tar.gz.md5\r\n"
       ]
      },
      {
       "output_type": "stream",
       "stream": "stdout",
       "text": [
        "Saving to: `stddata__2013_09_23/LGG/20130923/gdac.broadinstitute.org_LGG.Clinical_Pick_Tier1.aux.2013092300.0.0.tar.gz.md5'\r\n",
        "     0K                                                      100% 23.2M=0s\r\n",
        "--2013-10-29 19:05:41--  http://gdac.broadinstitute.org/runs/stddata__2013_09_23/data/LGG/20130923/gdac.broadinstitute.org_LGG.Clinical_Pick_Tier1.mage-tab.2013092300.0.0.tar.gz\r\n"
       ]
      },
      {
       "output_type": "stream",
       "stream": "stdout",
       "text": [
        "Saving to: `stddata__2013_09_23/LGG/20130923/gdac.broadinstitute.org_LGG.Clinical_Pick_Tier1.mage-tab.2013092300.0.0.tar.gz'\r\n",
        "     0K                                                      100%  111M=0s\r\n",
        "--2013-10-29 19:05:42--  http://gdac.broadinstitute.org/runs/stddata__2013_09_23/data/LGG/20130923/gdac.broadinstitute.org_LGG.Clinical_Pick_Tier1.mage-tab.2013092300.0.0.tar.gz.md5\r\n"
       ]
      },
      {
       "output_type": "stream",
       "stream": "stdout",
       "text": [
        "Saving to: `stddata__2013_09_23/LGG/20130923/gdac.broadinstitute.org_LGG.Clinical_Pick_Tier1.mage-tab.2013092300.0.0.tar.gz.md5'\r\n",
        "     0K                                                      100% 9.78M=0s\r\n",
        "--2013-10-29 19:05:42--  http://gdac.broadinstitute.org/runs/stddata__2013_09_23/data/LGG/20130923/gdac.broadinstitute.org_LGG.Merge_Clinical.Level_1.2013092300.0.0.tar.gz\r\n"
       ]
      },
      {
       "output_type": "stream",
       "stream": "stdout",
       "text": [
        "Saving to: `stddata__2013_09_23/LGG/20130923/gdac.broadinstitute.org_LGG.Merge_Clinical.Level_1.2013092300.0.0.tar.gz'\r\n"
       ]
      },
      {
       "output_type": "stream",
       "stream": "stdout",
       "text": [
        "     0K ..                                                   100%  268K=0.5s\r\n",
        "--2013-10-29 19:05:42--  http://gdac.broadinstitute.org/runs/stddata__2013_09_23/data/LGG/20130923/gdac.broadinstitute.org_LGG.Merge_Clinical.Level_1.2013092300.0.0.tar.gz.md5\r\n"
       ]
      },
      {
       "output_type": "stream",
       "stream": "stdout",
       "text": [
        "Saving to: `stddata__2013_09_23/LGG/20130923/gdac.broadinstitute.org_LGG.Merge_Clinical.Level_1.2013092300.0.0.tar.gz.md5'\r\n",
        "     0K                                                      100% 9.00M=0s\r\n",
        "--2013-10-29 19:05:42--  http://gdac.broadinstitute.org/runs/stddata__2013_09_23/data/LGG/20130923/gdac.broadinstitute.org_LGG.Merge_Clinical.aux.2013092300.0.0.tar.gz\r\n"
       ]
      },
      {
       "output_type": "stream",
       "stream": "stdout",
       "text": [
        "Saving to: `stddata__2013_09_23/LGG/20130923/gdac.broadinstitute.org_LGG.Merge_Clinical.aux.2013092300.0.0.tar.gz'\r\n",
        "     0K                                                      100%  283M=0s\r\n",
        "--2013-10-29 19:05:43--  http://gdac.broadinstitute.org/runs/stddata__2013_09_23/data/LGG/20130923/gdac.broadinstitute.org_LGG.Merge_Clinical.aux.2013092300.0.0.tar.gz.md5\r\n"
       ]
      },
      {
       "output_type": "stream",
       "stream": "stdout",
       "text": [
        "Saving to: `stddata__2013_09_23/LGG/20130923/gdac.broadinstitute.org_LGG.Merge_Clinical.aux.2013092300.0.0.tar.gz.md5'\r\n",
        "     0K                                                      100% 22.2M=0s\r\n",
        "--2013-10-29 19:05:43--  http://gdac.broadinstitute.org/runs/stddata__2013_09_23/data/LGG/20130923/gdac.broadinstitute.org_LGG.Merge_Clinical.mage-tab.2013092300.0.0.tar.gz\r\n"
       ]
      },
      {
       "output_type": "stream",
       "stream": "stdout",
       "text": [
        "Saving to: `stddata__2013_09_23/LGG/20130923/gdac.broadinstitute.org_LGG.Merge_Clinical.mage-tab.2013092300.0.0.tar.gz'\r\n",
        "     0K                                                      100%  770M=0s\r\n",
        "--2013-10-29 19:05:43--  http://gdac.broadinstitute.org/runs/stddata__2013_09_23/data/LGG/20130923/gdac.broadinstitute.org_LGG.Merge_Clinical.mage-tab.2013092300.0.0.tar.gz.md5\r\n"
       ]
      },
      {
       "output_type": "stream",
       "stream": "stdout",
       "text": [
        "Saving to: `stddata__2013_09_23/LGG/20130923/gdac.broadinstitute.org_LGG.Merge_Clinical.mage-tab.2013092300.0.0.tar.gz.md5'\r\n",
        "     0K                                                      100% 20.8M=0s\r\n",
        "FINISHED --2013-10-29 19:05:43--\r\n",
        "Total wall clock time: 2.7s\r\n",
        "Downloaded: 15 files, 248K in 1.0s (239 KB/s)\r\n"
       ]
      },
      {
       "output_type": "stream",
       "stream": "stdout",
       "text": [
        "--2013-10-29 19:05:43--  http://gdac.broadinstitute.org/runs/stddata__2013_09_23/data/LIHC/\r\n"
       ]
      },
      {
       "output_type": "stream",
       "stream": "stdout",
       "text": [
        "     0K                                                      100% 28.1M=0s\r\n"
       ]
      },
      {
       "output_type": "stream",
       "stream": "stdout",
       "text": [
        "     0K                                                      100% 95.5K=0.08s\r\n",
        "--2013-10-29 19:05:43--  http://gdac.broadinstitute.org/runs/stddata__2013_09_23/data/LIHC/20130923/\r\n"
       ]
      },
      {
       "output_type": "stream",
       "stream": "stdout",
       "text": [
        "     0K                                                        129K=0.2s\r\n"
       ]
      },
      {
       "output_type": "stream",
       "stream": "stdout",
       "text": [
        "--2013-10-29 19:05:44--  http://gdac.broadinstitute.org/runs/stddata__2013_09_23/data/LIHC/20130923/gdac.broadinstitute.org_LIHC.Clinical_Pick_Tier1.Level_4.2013092300.0.0.tar.gz\r\n"
       ]
      },
      {
       "output_type": "stream",
       "stream": "stdout",
       "text": [
        "Saving to: `stddata__2013_09_23/LIHC/20130923/gdac.broadinstitute.org_LIHC.Clinical_Pick_Tier1.Level_4.2013092300.0.0.tar.gz'\r\n"
       ]
      },
      {
       "output_type": "stream",
       "stream": "stdout",
       "text": [
        "     0K                                                      100%  330K=0.08s\r\n",
        "--2013-10-29 19:05:44--  http://gdac.broadinstitute.org/runs/stddata__2013_09_23/data/LIHC/20130923/gdac.broadinstitute.org_LIHC.Clinical_Pick_Tier1.Level_4.2013092300.0.0.tar.gz.md5\r\n"
       ]
      },
      {
       "output_type": "stream",
       "stream": "stdout",
       "text": [
        "Saving to: `stddata__2013_09_23/LIHC/20130923/gdac.broadinstitute.org_LIHC.Clinical_Pick_Tier1.Level_4.2013092300.0.0.tar.gz.md5'\r\n",
        "     0K                                                      100% 9.94M=0s\r\n",
        "--2013-10-29 19:05:44--  http://gdac.broadinstitute.org/runs/stddata__2013_09_23/data/LIHC/20130923/gdac.broadinstitute.org_LIHC.Clinical_Pick_Tier1.aux.2013092300.0.0.tar.gz\r\n"
       ]
      },
      {
       "output_type": "stream",
       "stream": "stdout",
       "text": [
        "Saving to: `stddata__2013_09_23/LIHC/20130923/gdac.broadinstitute.org_LIHC.Clinical_Pick_Tier1.aux.2013092300.0.0.tar.gz'\r\n",
        "     0K                                                      100%  127M=0s\r\n",
        "--2013-10-29 19:05:44--  http://gdac.broadinstitute.org/runs/stddata__2013_09_23/data/LIHC/20130923/gdac.broadinstitute.org_LIHC.Clinical_Pick_Tier1.aux.2013092300.0.0.tar.gz.md5\r\n"
       ]
      },
      {
       "output_type": "stream",
       "stream": "stdout",
       "text": [
        "Saving to: `stddata__2013_09_23/LIHC/20130923/gdac.broadinstitute.org_LIHC.Clinical_Pick_Tier1.aux.2013092300.0.0.tar.gz.md5'\r\n",
        "     0K                                                      100% 8.55M=0s\r\n",
        "--2013-10-29 19:05:44--  http://gdac.broadinstitute.org/runs/stddata__2013_09_23/data/LIHC/20130923/gdac.broadinstitute.org_LIHC.Clinical_Pick_Tier1.mage-tab.2013092300.0.0.tar.gz\r\n"
       ]
      },
      {
       "output_type": "stream",
       "stream": "stdout",
       "text": [
        "Saving to: `stddata__2013_09_23/LIHC/20130923/gdac.broadinstitute.org_LIHC.Clinical_Pick_Tier1.mage-tab.2013092300.0.0.tar.gz'\r\n",
        "     0K                                                      100%  107M=0s\r\n",
        "--2013-10-29 19:05:44--  http://gdac.broadinstitute.org/runs/stddata__2013_09_23/data/LIHC/20130923/gdac.broadinstitute.org_LIHC.Clinical_Pick_Tier1.mage-tab.2013092300.0.0.tar.gz.md5\r\n"
       ]
      },
      {
       "output_type": "stream",
       "stream": "stdout",
       "text": [
        "Saving to: `stddata__2013_09_23/LIHC/20130923/gdac.broadinstitute.org_LIHC.Clinical_Pick_Tier1.mage-tab.2013092300.0.0.tar.gz.md5'\r\n",
        "     0K                                                      100% 9.18M=0s\r\n",
        "--2013-10-29 19:05:44--  http://gdac.broadinstitute.org/runs/stddata__2013_09_23/data/LIHC/20130923/gdac.broadinstitute.org_LIHC.Merge_Clinical.Level_1.2013092300.0.0.tar.gz\r\n"
       ]
      },
      {
       "output_type": "stream",
       "stream": "stdout",
       "text": [
        "Saving to: `stddata__2013_09_23/LIHC/20130923/gdac.broadinstitute.org_LIHC.Merge_Clinical.Level_1.2013092300.0.0.tar.gz'\r\n"
       ]
      },
      {
       "output_type": "stream",
       "stream": "stdout",
       "text": [
        "     0K                                                      100%  303K=0.2s\r\n",
        "--2013-10-29 19:05:45--  http://gdac.broadinstitute.org/runs/stddata__2013_09_23/data/LIHC/20130923/gdac.broadinstitute.org_LIHC.Merge_Clinical.Level_1.2013092300.0.0.tar.gz.md5\r\n"
       ]
      },
      {
       "output_type": "stream",
       "stream": "stdout",
       "text": [
        "Saving to: `stddata__2013_09_23/LIHC/20130923/gdac.broadinstitute.org_LIHC.Merge_Clinical.Level_1.2013092300.0.0.tar.gz.md5'\r\n",
        "     0K                                                      100% 9.46M=0s\r\n",
        "--2013-10-29 19:05:45--  http://gdac.broadinstitute.org/runs/stddata__2013_09_23/data/LIHC/20130923/gdac.broadinstitute.org_LIHC.Merge_Clinical.aux.2013092300.0.0.tar.gz\r\n"
       ]
      },
      {
       "output_type": "stream",
       "stream": "stdout",
       "text": [
        "Saving to: `stddata__2013_09_23/LIHC/20130923/gdac.broadinstitute.org_LIHC.Merge_Clinical.aux.2013092300.0.0.tar.gz'\r\n",
        "     0K                                                      100%  104M=0s\r\n",
        "--2013-10-29 19:05:45--  http://gdac.broadinstitute.org/runs/stddata__2013_09_23/data/LIHC/20130923/gdac.broadinstitute.org_LIHC.Merge_Clinical.aux.2013092300.0.0.tar.gz.md5\r\n"
       ]
      },
      {
       "output_type": "stream",
       "stream": "stdout",
       "text": [
        "Saving to: `stddata__2013_09_23/LIHC/20130923/gdac.broadinstitute.org_LIHC.Merge_Clinical.aux.2013092300.0.0.tar.gz.md5'\r\n",
        "     0K                                                      100% 8.94M=0s\r\n",
        "--2013-10-29 19:05:45--  http://gdac.broadinstitute.org/runs/stddata__2013_09_23/data/LIHC/20130923/gdac.broadinstitute.org_LIHC.Merge_Clinical.mage-tab.2013092300.0.0.tar.gz\r\n"
       ]
      },
      {
       "output_type": "stream",
       "stream": "stdout",
       "text": [
        "Saving to: `stddata__2013_09_23/LIHC/20130923/gdac.broadinstitute.org_LIHC.Merge_Clinical.mage-tab.2013092300.0.0.tar.gz'\r\n",
        "     0K                                                      100%  242M=0s\r\n",
        "--2013-10-29 19:05:45--  http://gdac.broadinstitute.org/runs/stddata__2013_09_23/data/LIHC/20130923/gdac.broadinstitute.org_LIHC.Merge_Clinical.mage-tab.2013092300.0.0.tar.gz.md5\r\n"
       ]
      },
      {
       "output_type": "stream",
       "stream": "stdout",
       "text": [
        "Saving to: `stddata__2013_09_23/LIHC/20130923/gdac.broadinstitute.org_LIHC.Merge_Clinical.mage-tab.2013092300.0.0.tar.gz.md5'\r\n",
        "     0K                                                      100% 8.50M=0s\r\n",
        "FINISHED --2013-10-29 19:05:45--\r\n",
        "Total wall clock time: 2.2s\r\n",
        "Downloaded: 15 files, 123K in 0.6s (218 KB/s)\r\n",
        "--2013-10-29 19:05:45--  http://gdac.broadinstitute.org/runs/stddata__2013_09_23/data/LUAD/\r\n"
       ]
      },
      {
       "output_type": "stream",
       "stream": "stdout",
       "text": [
        "     0K                                                      100% 26.9M=0s\r\n"
       ]
      },
      {
       "output_type": "stream",
       "stream": "stdout",
       "text": [
        "     0K                                                      100% 95.9K=0.08s\r\n",
        "--2013-10-29 19:05:45--  http://gdac.broadinstitute.org/runs/stddata__2013_09_23/data/LUAD/20130923/\r\n"
       ]
      },
      {
       "output_type": "stream",
       "stream": "stdout",
       "text": [
        "     0K .                                                      127K=0.6s\r\n",
        "--2013-10-29 19:05:47--  http://gdac.broadinstitute.org/runs/stddata__2013_09_23/data/LUAD/20130923/gdac.broadinstitute.org_LUAD-FFPE.Merge_Clinical.Level_1.2013092300.0.0.tar.gz\r\n"
       ]
      },
      {
       "output_type": "stream",
       "stream": "stdout",
       "text": [
        "Saving to: `stddata__2013_09_23/LUAD/20130923/gdac.broadinstitute.org_LUAD-FFPE.Merge_Clinical.Level_1.2013092300.0.0.tar.gz'\r\n",
        "     0K                                                      100%  349M=0s\r\n",
        "--2013-10-29 19:05:47--  http://gdac.broadinstitute.org/runs/stddata__2013_09_23/data/LUAD/20130923/gdac.broadinstitute.org_LUAD-FFPE.Merge_Clinical.Level_1.2013092300.0.0.tar.gz.md5\r\n"
       ]
      },
      {
       "output_type": "stream",
       "stream": "stdout",
       "text": [
        "Saving to: `stddata__2013_09_23/LUAD/20130923/gdac.broadinstitute.org_LUAD-FFPE.Merge_Clinical.Level_1.2013092300.0.0.tar.gz.md5'\r\n",
        "     0K                                                      100% 9.46M=0s\r\n",
        "--2013-10-29 19:05:47--  http://gdac.broadinstitute.org/runs/stddata__2013_09_23/data/LUAD/20130923/gdac.broadinstitute.org_LUAD-FFPE.Merge_Clinical.aux.2013092300.0.0.tar.gz\r\n"
       ]
      },
      {
       "output_type": "stream",
       "stream": "stdout",
       "text": [
        "Saving to: `stddata__2013_09_23/LUAD/20130923/gdac.broadinstitute.org_LUAD-FFPE.Merge_Clinical.aux.2013092300.0.0.tar.gz'\r\n",
        "     0K                                                      100%  249M=0s\r\n",
        "--2013-10-29 19:05:47--  http://gdac.broadinstitute.org/runs/stddata__2013_09_23/data/LUAD/20130923/gdac.broadinstitute.org_LUAD-FFPE.Merge_Clinical.aux.2013092300.0.0.tar.gz.md5\r\n"
       ]
      },
      {
       "output_type": "stream",
       "stream": "stdout",
       "text": [
        "Saving to: `stddata__2013_09_23/LUAD/20130923/gdac.broadinstitute.org_LUAD-FFPE.Merge_Clinical.aux.2013092300.0.0.tar.gz.md5'\r\n",
        "     0K                                                      100% 23.4M=0s\r\n",
        "--2013-10-29 19:05:47--  http://gdac.broadinstitute.org/runs/stddata__2013_09_23/data/LUAD/20130923/gdac.broadinstitute.org_LUAD-FFPE.Merge_Clinical.mage-tab.2013092300.0.0.tar.gz\r\n"
       ]
      },
      {
       "output_type": "stream",
       "stream": "stdout",
       "text": [
        "Saving to: `stddata__2013_09_23/LUAD/20130923/gdac.broadinstitute.org_LUAD-FFPE.Merge_Clinical.mage-tab.2013092300.0.0.tar.gz'\r\n",
        "     0K                                                      100%  262M=0s\r\n",
        "--2013-10-29 19:05:47--  http://gdac.broadinstitute.org/runs/stddata__2013_09_23/data/LUAD/20130923/gdac.broadinstitute.org_LUAD-FFPE.Merge_Clinical.mage-tab.2013092300.0.0.tar.gz.md5\r\n"
       ]
      },
      {
       "output_type": "stream",
       "stream": "stdout",
       "text": [
        "Saving to: `stddata__2013_09_23/LUAD/20130923/gdac.broadinstitute.org_LUAD-FFPE.Merge_Clinical.mage-tab.2013092300.0.0.tar.gz.md5'\r\n",
        "     0K                                                      100% 9.17M=0s\r\n",
        "--2013-10-29 19:05:47--  http://gdac.broadinstitute.org/runs/stddata__2013_09_23/data/LUAD/20130923/gdac.broadinstitute.org_LUAD.Clinical_Pick_Tier1.Level_4.2013092300.0.0.tar.gz\r\n"
       ]
      },
      {
       "output_type": "stream",
       "stream": "stdout",
       "text": [
        "Saving to: `stddata__2013_09_23/LUAD/20130923/gdac.broadinstitute.org_LUAD.Clinical_Pick_Tier1.Level_4.2013092300.0.0.tar.gz'\r\n"
       ]
      },
      {
       "output_type": "stream",
       "stream": "stdout",
       "text": [
        "     0K .                                                    100%  419K=0.2s\r\n",
        "--2013-10-29 19:05:48--  http://gdac.broadinstitute.org/runs/stddata__2013_09_23/data/LUAD/20130923/gdac.broadinstitute.org_LUAD.Clinical_Pick_Tier1.Level_4.2013092300.0.0.tar.gz.md5\r\n"
       ]
      },
      {
       "output_type": "stream",
       "stream": "stdout",
       "text": [
        "Saving to: `stddata__2013_09_23/LUAD/20130923/gdac.broadinstitute.org_LUAD.Clinical_Pick_Tier1.Level_4.2013092300.0.0.tar.gz.md5'\r\n",
        "     0K                                                      100% 9.63M=0s\r\n",
        "--2013-10-29 19:05:48--  http://gdac.broadinstitute.org/runs/stddata__2013_09_23/data/LUAD/20130923/gdac.broadinstitute.org_LUAD.Clinical_Pick_Tier1.aux.2013092300.0.0.tar.gz\r\n"
       ]
      },
      {
       "output_type": "stream",
       "stream": "stdout",
       "text": [
        "Saving to: `stddata__2013_09_23/LUAD/20130923/gdac.broadinstitute.org_LUAD.Clinical_Pick_Tier1.aux.2013092300.0.0.tar.gz'\r\n",
        "     0K                                                      100%  131M=0s\r\n",
        "--2013-10-29 19:05:48--  http://gdac.broadinstitute.org/runs/stddata__2013_09_23/data/LUAD/20130923/gdac.broadinstitute.org_LUAD.Clinical_Pick_Tier1.aux.2013092300.0.0.tar.gz.md5\r\n"
       ]
      },
      {
       "output_type": "stream",
       "stream": "stdout",
       "text": [
        "Saving to: `stddata__2013_09_23/LUAD/20130923/gdac.broadinstitute.org_LUAD.Clinical_Pick_Tier1.aux.2013092300.0.0.tar.gz.md5'\r\n",
        "     0K                                                      100% 9.24M=0s\r\n",
        "--2013-10-29 19:05:48--  http://gdac.broadinstitute.org/runs/stddata__2013_09_23/data/LUAD/20130923/gdac.broadinstitute.org_LUAD.Clinical_Pick_Tier1.mage-tab.2013092300.0.0.tar.gz\r\n"
       ]
      },
      {
       "output_type": "stream",
       "stream": "stdout",
       "text": [
        "Saving to: `stddata__2013_09_23/LUAD/20130923/gdac.broadinstitute.org_LUAD.Clinical_Pick_Tier1.mage-tab.2013092300.0.0.tar.gz'\r\n",
        "     0K                                                      100%  112M=0s\r\n",
        "--2013-10-29 19:05:48--  http://gdac.broadinstitute.org/runs/stddata__2013_09_23/data/LUAD/20130923/gdac.broadinstitute.org_LUAD.Clinical_Pick_Tier1.mage-tab.2013092300.0.0.tar.gz.md5\r\n"
       ]
      },
      {
       "output_type": "stream",
       "stream": "stdout",
       "text": [
        "Saving to: `stddata__2013_09_23/LUAD/20130923/gdac.broadinstitute.org_LUAD.Clinical_Pick_Tier1.mage-tab.2013092300.0.0.tar.gz.md5'\r\n",
        "     0K                                                      100% 24.2M=0s\r\n",
        "--2013-10-29 19:05:48--  http://gdac.broadinstitute.org/runs/stddata__2013_09_23/data/LUAD/20130923/gdac.broadinstitute.org_LUAD.Merge_Clinical.Level_1.2013092300.0.0.tar.gz\r\n"
       ]
      },
      {
       "output_type": "stream",
       "stream": "stdout",
       "text": [
        "Saving to: `stddata__2013_09_23/LUAD/20130923/gdac.broadinstitute.org_LUAD.Merge_Clinical.Level_1.2013092300.0.0.tar.gz'\r\n"
       ]
      },
      {
       "output_type": "stream",
       "stream": "stdout",
       "text": [
        "     0K ..                                                   100%  567K=0.3s\r\n",
        "--2013-10-29 19:05:48--  http://gdac.broadinstitute.org/runs/stddata__2013_09_23/data/LUAD/20130923/gdac.broadinstitute.org_LUAD.Merge_Clinical.Level_1.2013092300.0.0.tar.gz.md5\r\n"
       ]
      },
      {
       "output_type": "stream",
       "stream": "stdout",
       "text": [
        "Saving to: `stddata__2013_09_23/LUAD/20130923/gdac.broadinstitute.org_LUAD.Merge_Clinical.Level_1.2013092300.0.0.tar.gz.md5'\r\n",
        "     0K                                                      100% 23.7M=0s\r\n"
       ]
      },
      {
       "output_type": "stream",
       "stream": "stdout",
       "text": [
        "--2013-10-29 19:05:49--  http://gdac.broadinstitute.org/runs/stddata__2013_09_23/data/LUAD/20130923/gdac.broadinstitute.org_LUAD.Merge_Clinical.aux.2013092300.0.0.tar.gz\r\n"
       ]
      },
      {
       "output_type": "stream",
       "stream": "stdout",
       "text": [
        "Saving to: `stddata__2013_09_23/LUAD/20130923/gdac.broadinstitute.org_LUAD.Merge_Clinical.aux.2013092300.0.0.tar.gz'\r\n",
        "     0K                                                      100%  260M=0s\r\n",
        "--2013-10-29 19:05:49--  http://gdac.broadinstitute.org/runs/stddata__2013_09_23/data/LUAD/20130923/gdac.broadinstitute.org_LUAD.Merge_Clinical.aux.2013092300.0.0.tar.gz.md5\r\n"
       ]
      },
      {
       "output_type": "stream",
       "stream": "stdout",
       "text": [
        "Saving to: `stddata__2013_09_23/LUAD/20130923/gdac.broadinstitute.org_LUAD.Merge_Clinical.aux.2013092300.0.0.tar.gz.md5'\r\n",
        "     0K                                                      100% 8.51M=0s\r\n",
        "--2013-10-29 19:05:49--  http://gdac.broadinstitute.org/runs/stddata__2013_09_23/data/LUAD/20130923/gdac.broadinstitute.org_LUAD.Merge_Clinical.mage-tab.2013092300.0.0.tar.gz\r\n"
       ]
      },
      {
       "output_type": "stream",
       "stream": "stdout",
       "text": [
        "Saving to: `stddata__2013_09_23/LUAD/20130923/gdac.broadinstitute.org_LUAD.Merge_Clinical.mage-tab.2013092300.0.0.tar.gz'\r\n",
        "     0K                                                      100%  442M=0s\r\n",
        "--2013-10-29 19:05:49--  http://gdac.broadinstitute.org/runs/stddata__2013_09_23/data/LUAD/20130923/gdac.broadinstitute.org_LUAD.Merge_Clinical.mage-tab.2013092300.0.0.tar.gz.md5\r\n"
       ]
      },
      {
       "output_type": "stream",
       "stream": "stdout",
       "text": [
        "Saving to: `stddata__2013_09_23/LUAD/20130923/gdac.broadinstitute.org_LUAD.Merge_Clinical.mage-tab.2013092300.0.0.tar.gz.md5'\r\n",
        "     0K                                                      100% 9.04M=0s\r\n",
        "FINISHED --2013-10-29 19:05:49--\r\n",
        "Total wall clock time: 3.9s\r\n",
        "Downloaded: 21 files, 384K in 1.2s (318 KB/s)\r\n",
        "--2013-10-29 19:05:49--  http://gdac.broadinstitute.org/runs/stddata__2013_09_23/data/LUSC/\r\n"
       ]
      },
      {
       "output_type": "stream",
       "stream": "stdout",
       "text": [
        "     0K                                                      100% 27.8M=0s\r\n"
       ]
      },
      {
       "output_type": "stream",
       "stream": "stdout",
       "text": [
        "     0K                                                      100% 94.3K=0.08s\r\n",
        "--2013-10-29 19:05:49--  http://gdac.broadinstitute.org/runs/stddata__2013_09_23/data/LUSC/20130923/\r\n"
       ]
      },
      {
       "output_type": "stream",
       "stream": "stdout",
       "text": [
        "     0K                                                        144K=0.4s\r\n",
        "--2013-10-29 19:05:50--  http://gdac.broadinstitute.org/runs/stddata__2013_09_23/data/LUSC/20130923/gdac.broadinstitute.org_LUSC.Clinical_Pick_Tier1.Level_4.2013092300.0.0.tar.gz\r\n"
       ]
      },
      {
       "output_type": "stream",
       "stream": "stdout",
       "text": [
        "Saving to: `stddata__2013_09_23/LUSC/20130923/gdac.broadinstitute.org_LUSC.Clinical_Pick_Tier1.Level_4.2013092300.0.0.tar.gz'\r\n"
       ]
      },
      {
       "output_type": "stream",
       "stream": "stdout",
       "text": [
        "     0K .                                                    100%  317K=0.2s\r\n",
        "--2013-10-29 19:05:50--  http://gdac.broadinstitute.org/runs/stddata__2013_09_23/data/LUSC/20130923/gdac.broadinstitute.org_LUSC.Clinical_Pick_Tier1.Level_4.2013092300.0.0.tar.gz.md5\r\n"
       ]
      },
      {
       "output_type": "stream",
       "stream": "stdout",
       "text": [
        "Saving to: `stddata__2013_09_23/LUSC/20130923/gdac.broadinstitute.org_LUSC.Clinical_Pick_Tier1.Level_4.2013092300.0.0.tar.gz.md5'\r\n",
        "     0K                                                      100% 25.7M=0s\r\n",
        "--2013-10-29 19:05:50--  http://gdac.broadinstitute.org/runs/stddata__2013_09_23/data/LUSC/20130923/gdac.broadinstitute.org_LUSC.Clinical_Pick_Tier1.aux.2013092300.0.0.tar.gz\r\n"
       ]
      },
      {
       "output_type": "stream",
       "stream": "stdout",
       "text": [
        "Saving to: `stddata__2013_09_23/LUSC/20130923/gdac.broadinstitute.org_LUSC.Clinical_Pick_Tier1.aux.2013092300.0.0.tar.gz'\r\n",
        "     0K                                                      100%  343M=0s\r\n",
        "--2013-10-29 19:05:51--  http://gdac.broadinstitute.org/runs/stddata__2013_09_23/data/LUSC/20130923/gdac.broadinstitute.org_LUSC.Clinical_Pick_Tier1.aux.2013092300.0.0.tar.gz.md5\r\n"
       ]
      },
      {
       "output_type": "stream",
       "stream": "stdout",
       "text": [
        "Saving to: `stddata__2013_09_23/LUSC/20130923/gdac.broadinstitute.org_LUSC.Clinical_Pick_Tier1.aux.2013092300.0.0.tar.gz.md5'\r\n",
        "     0K                                                      100% 22.5M=0s\r\n",
        "--2013-10-29 19:05:51--  http://gdac.broadinstitute.org/runs/stddata__2013_09_23/data/LUSC/20130923/gdac.broadinstitute.org_LUSC.Clinical_Pick_Tier1.mage-tab.2013092300.0.0.tar.gz\r\n"
       ]
      },
      {
       "output_type": "stream",
       "stream": "stdout",
       "text": [
        "Saving to: `stddata__2013_09_23/LUSC/20130923/gdac.broadinstitute.org_LUSC.Clinical_Pick_Tier1.mage-tab.2013092300.0.0.tar.gz'\r\n",
        "     0K                                                      100%  267M=0s\r\n",
        "--2013-10-29 19:05:51--  http://gdac.broadinstitute.org/runs/stddata__2013_09_23/data/LUSC/20130923/gdac.broadinstitute.org_LUSC.Clinical_Pick_Tier1.mage-tab.2013092300.0.0.tar.gz.md5\r\n"
       ]
      },
      {
       "output_type": "stream",
       "stream": "stdout",
       "text": [
        "Saving to: `stddata__2013_09_23/LUSC/20130923/gdac.broadinstitute.org_LUSC.Clinical_Pick_Tier1.mage-tab.2013092300.0.0.tar.gz.md5'\r\n",
        "     0K                                                      100% 9.23M=0s\r\n",
        "--2013-10-29 19:05:51--  http://gdac.broadinstitute.org/runs/stddata__2013_09_23/data/LUSC/20130923/gdac.broadinstitute.org_LUSC.Merge_Clinical.Level_1.2013092300.0.0.tar.gz\r\n"
       ]
      },
      {
       "output_type": "stream",
       "stream": "stdout",
       "text": [
        "Saving to: `stddata__2013_09_23/LUSC/20130923/gdac.broadinstitute.org_LUSC.Merge_Clinical.Level_1.2013092300.0.0.tar.gz'\r\n"
       ]
      },
      {
       "output_type": "stream",
       "stream": "stdout",
       "text": [
        "     0K ..                                                   100%  560K=0.2s\r\n",
        "--2013-10-29 19:05:51--  http://gdac.broadinstitute.org/runs/stddata__2013_09_23/data/LUSC/20130923/gdac.broadinstitute.org_LUSC.Merge_Clinical.Level_1.2013092300.0.0.tar.gz.md5\r\n"
       ]
      },
      {
       "output_type": "stream",
       "stream": "stdout",
       "text": [
        "Saving to: `stddata__2013_09_23/LUSC/20130923/gdac.broadinstitute.org_LUSC.Merge_Clinical.Level_1.2013092300.0.0.tar.gz.md5'\r\n",
        "     0K                                                      100% 8.52M=0s\r\n",
        "--2013-10-29 19:05:51--  http://gdac.broadinstitute.org/runs/stddata__2013_09_23/data/LUSC/20130923/gdac.broadinstitute.org_LUSC.Merge_Clinical.aux.2013092300.0.0.tar.gz\r\n"
       ]
      },
      {
       "output_type": "stream",
       "stream": "stdout",
       "text": [
        "Saving to: `stddata__2013_09_23/LUSC/20130923/gdac.broadinstitute.org_LUSC.Merge_Clinical.aux.2013092300.0.0.tar.gz'\r\n",
        "     0K                                                      100% 96.3M=0s\r\n",
        "--2013-10-29 19:05:51--  http://gdac.broadinstitute.org/runs/stddata__2013_09_23/data/LUSC/20130923/gdac.broadinstitute.org_LUSC.Merge_Clinical.aux.2013092300.0.0.tar.gz.md5\r\n"
       ]
      },
      {
       "output_type": "stream",
       "stream": "stdout",
       "text": [
        "Saving to: `stddata__2013_09_23/LUSC/20130923/gdac.broadinstitute.org_LUSC.Merge_Clinical.aux.2013092300.0.0.tar.gz.md5'\r\n",
        "     0K                                                      100% 20.2M=0s\r\n",
        "--2013-10-29 19:05:51--  http://gdac.broadinstitute.org/runs/stddata__2013_09_23/data/LUSC/20130923/gdac.broadinstitute.org_LUSC.Merge_Clinical.mage-tab.2013092300.0.0.tar.gz\r\n"
       ]
      },
      {
       "output_type": "stream",
       "stream": "stdout",
       "text": [
        "Saving to: `stddata__2013_09_23/LUSC/20130923/gdac.broadinstitute.org_LUSC.Merge_Clinical.mage-tab.2013092300.0.0.tar.gz'\r\n",
        "     0K                                                      100%  439M=0s\r\n",
        "--2013-10-29 19:05:52--  http://gdac.broadinstitute.org/runs/stddata__2013_09_23/data/LUSC/20130923/gdac.broadinstitute.org_LUSC.Merge_Clinical.mage-tab.2013092300.0.0.tar.gz.md5\r\n"
       ]
      },
      {
       "output_type": "stream",
       "stream": "stdout",
       "text": [
        "Saving to: `stddata__2013_09_23/LUSC/20130923/gdac.broadinstitute.org_LUSC.Merge_Clinical.mage-tab.2013092300.0.0.tar.gz.md5'\r\n",
        "     0K                                                      100% 21.5M=0s\r\n",
        "FINISHED --2013-10-29 19:05:52--\r\n",
        "Total wall clock time: 2.6s\r\n",
        "Downloaded: 15 files, 289K in 1.0s (299 KB/s)\r\n",
        "--2013-10-29 19:05:52--  http://gdac.broadinstitute.org/runs/stddata__2013_09_23/data/OV/\r\n"
       ]
      },
      {
       "output_type": "stream",
       "stream": "stdout",
       "text": [
        "     0K                                                      100% 29.5M=0s\r\n"
       ]
      },
      {
       "output_type": "stream",
       "stream": "stdout",
       "text": [
        "     0K                                                      100% 95.6K=0.08s\r\n",
        "--2013-10-29 19:05:52--  http://gdac.broadinstitute.org/runs/stddata__2013_09_23/data/OV/20130923/\r\n"
       ]
      },
      {
       "output_type": "stream",
       "stream": "stdout",
       "text": [
        "     0K                                                        141K=0.4s\r\n",
        "--2013-10-29 19:05:53--  http://gdac.broadinstitute.org/runs/stddata__2013_09_23/data/OV/20130923/gdac.broadinstitute.org_OV.Clinical_Pick_Tier1.Level_4.2013092300.0.0.tar.gz\r\n"
       ]
      },
      {
       "output_type": "stream",
       "stream": "stdout",
       "text": [
        "Saving to: `stddata__2013_09_23/OV/20130923/gdac.broadinstitute.org_OV.Clinical_Pick_Tier1.Level_4.2013092300.0.0.tar.gz'\r\n"
       ]
      },
      {
       "output_type": "stream",
       "stream": "stdout",
       "text": [
        "     0K ...                                                  100%  339K=0.7s\r\n",
        "--2013-10-29 19:05:53--  http://gdac.broadinstitute.org/runs/stddata__2013_09_23/data/OV/20130923/gdac.broadinstitute.org_OV.Clinical_Pick_Tier1.Level_4.2013092300.0.0.tar.gz.md5\r\n"
       ]
      },
      {
       "output_type": "stream",
       "stream": "stdout",
       "text": [
        "Saving to: `stddata__2013_09_23/OV/20130923/gdac.broadinstitute.org_OV.Clinical_Pick_Tier1.Level_4.2013092300.0.0.tar.gz.md5'\r\n",
        "     0K                                                      100% 22.7M=0s\r\n",
        "--2013-10-29 19:05:54--  http://gdac.broadinstitute.org/runs/stddata__2013_09_23/data/OV/20130923/gdac.broadinstitute.org_OV.Clinical_Pick_Tier1.aux.2013092300.0.0.tar.gz\r\n"
       ]
      },
      {
       "output_type": "stream",
       "stream": "stdout",
       "text": [
        "Saving to: `stddata__2013_09_23/OV/20130923/gdac.broadinstitute.org_OV.Clinical_Pick_Tier1.aux.2013092300.0.0.tar.gz'\r\n",
        "     0K                                                      100%  329M=0s\r\n",
        "--2013-10-29 19:05:54--  http://gdac.broadinstitute.org/runs/stddata__2013_09_23/data/OV/20130923/gdac.broadinstitute.org_OV.Clinical_Pick_Tier1.aux.2013092300.0.0.tar.gz.md5\r\n"
       ]
      },
      {
       "output_type": "stream",
       "stream": "stdout",
       "text": [
        "Saving to: `stddata__2013_09_23/OV/20130923/gdac.broadinstitute.org_OV.Clinical_Pick_Tier1.aux.2013092300.0.0.tar.gz.md5'\r\n",
        "     0K                                                      100% 21.6M=0s\r\n",
        "--2013-10-29 19:05:54--  http://gdac.broadinstitute.org/runs/stddata__2013_09_23/data/OV/20130923/gdac.broadinstitute.org_OV.Clinical_Pick_Tier1.mage-tab.2013092300.0.0.tar.gz\r\n"
       ]
      },
      {
       "output_type": "stream",
       "stream": "stdout",
       "text": [
        "Saving to: `stddata__2013_09_23/OV/20130923/gdac.broadinstitute.org_OV.Clinical_Pick_Tier1.mage-tab.2013092300.0.0.tar.gz'\r\n",
        "     0K                                                      100%  264M=0s\r\n",
        "--2013-10-29 19:05:54--  http://gdac.broadinstitute.org/runs/stddata__2013_09_23/data/OV/20130923/gdac.broadinstitute.org_OV.Clinical_Pick_Tier1.mage-tab.2013092300.0.0.tar.gz.md5\r\n"
       ]
      },
      {
       "output_type": "stream",
       "stream": "stdout",
       "text": [
        "Saving to: `stddata__2013_09_23/OV/20130923/gdac.broadinstitute.org_OV.Clinical_Pick_Tier1.mage-tab.2013092300.0.0.tar.gz.md5'\r\n",
        "     0K                                                      100% 21.5M=0s\r\n",
        "--2013-10-29 19:05:54--  http://gdac.broadinstitute.org/runs/stddata__2013_09_23/data/OV/20130923/gdac.broadinstitute.org_OV.Merge_Clinical.Level_1.2013092300.0.0.tar.gz\r\n"
       ]
      },
      {
       "output_type": "stream",
       "stream": "stdout",
       "text": [
        "Saving to: `stddata__2013_09_23/OV/20130923/gdac.broadinstitute.org_OV.Merge_Clinical.Level_1.2013092300.0.0.tar.gz'\r\n"
       ]
      },
      {
       "output_type": "stream",
       "stream": "stdout",
       "text": [
        "     0K ......                                               100%  883K=0.5s\r\n",
        "--2013-10-29 19:05:55--  http://gdac.broadinstitute.org/runs/stddata__2013_09_23/data/OV/20130923/gdac.broadinstitute.org_OV.Merge_Clinical.Level_1.2013092300.0.0.tar.gz.md5\r\n"
       ]
      },
      {
       "output_type": "stream",
       "stream": "stdout",
       "text": [
        "Saving to: `stddata__2013_09_23/OV/20130923/gdac.broadinstitute.org_OV.Merge_Clinical.Level_1.2013092300.0.0.tar.gz.md5'\r\n",
        "     0K                                                      100% 9.04M=0s\r\n",
        "--2013-10-29 19:05:55--  http://gdac.broadinstitute.org/runs/stddata__2013_09_23/data/OV/20130923/gdac.broadinstitute.org_OV.Merge_Clinical.aux.2013092300.0.0.tar.gz\r\n"
       ]
      },
      {
       "output_type": "stream",
       "stream": "stdout",
       "text": [
        "Saving to: `stddata__2013_09_23/OV/20130923/gdac.broadinstitute.org_OV.Merge_Clinical.aux.2013092300.0.0.tar.gz'\r\n",
        "     0K                                                      100%  103M=0s\r\n",
        "--2013-10-29 19:05:55--  http://gdac.broadinstitute.org/runs/stddata__2013_09_23/data/OV/20130923/gdac.broadinstitute.org_OV.Merge_Clinical.aux.2013092300.0.0.tar.gz.md5\r\n"
       ]
      },
      {
       "output_type": "stream",
       "stream": "stdout",
       "text": [
        "Saving to: `stddata__2013_09_23/OV/20130923/gdac.broadinstitute.org_OV.Merge_Clinical.aux.2013092300.0.0.tar.gz.md5'\r\n",
        "     0K                                                      100% 11.1M=0s\r\n",
        "--2013-10-29 19:05:55--  http://gdac.broadinstitute.org/runs/stddata__2013_09_23/data/OV/20130923/gdac.broadinstitute.org_OV.Merge_Clinical.mage-tab.2013092300.0.0.tar.gz\r\n"
       ]
      },
      {
       "output_type": "stream",
       "stream": "stdout",
       "text": [
        "Saving to: `stddata__2013_09_23/OV/20130923/gdac.broadinstitute.org_OV.Merge_Clinical.mage-tab.2013092300.0.0.tar.gz'\r\n",
        "     0K                                                      100%  121M=0s\r\n",
        "--2013-10-29 19:05:55--  http://gdac.broadinstitute.org/runs/stddata__2013_09_23/data/OV/20130923/gdac.broadinstitute.org_OV.Merge_Clinical.mage-tab.2013092300.0.0.tar.gz.md5\r\n"
       ]
      },
      {
       "output_type": "stream",
       "stream": "stdout",
       "text": [
        "Saving to: `stddata__2013_09_23/OV/20130923/gdac.broadinstitute.org_OV.Merge_Clinical.mage-tab.2013092300.0.0.tar.gz.md5'\r\n",
        "     0K                                                      100% 8.57M=0s\r\n",
        "FINISHED --2013-10-29 19:05:55--\r\n",
        "Total wall clock time: 3.4s\r\n",
        "Downloaded: 15 files, 727K in 1.6s (449 KB/s)\r\n",
        "--2013-10-29 19:05:55--  http://gdac.broadinstitute.org/runs/stddata__2013_09_23/data/PAAD/\r\n"
       ]
      },
      {
       "output_type": "stream",
       "stream": "stdout",
       "text": [
        "     0K                                                      100% 28.5M=0s\r\n"
       ]
      },
      {
       "output_type": "stream",
       "stream": "stdout",
       "text": [
        "     0K                                                      100% 95.9K=0.08s\r\n",
        "--2013-10-29 19:05:55--  http://gdac.broadinstitute.org/runs/stddata__2013_09_23/data/PAAD/20130923/\r\n"
       ]
      },
      {
       "output_type": "stream",
       "stream": "stdout",
       "text": [
        "     0K                                                        101K=0.3s\r\n",
        "--2013-10-29 19:05:56--  http://gdac.broadinstitute.org/runs/stddata__2013_09_23/data/PAAD/20130923/gdac.broadinstitute.org_PAAD.Clinical_Pick_Tier1.Level_4.2013092300.0.0.tar.gz\r\n"
       ]
      },
      {
       "output_type": "stream",
       "stream": "stdout",
       "text": [
        "Saving to: `stddata__2013_09_23/PAAD/20130923/gdac.broadinstitute.org_PAAD.Clinical_Pick_Tier1.Level_4.2013092300.0.0.tar.gz'\r\n"
       ]
      },
      {
       "output_type": "stream",
       "stream": "stdout",
       "text": [
        "     0K                                                      100%  176K=0.08s\r\n",
        "--2013-10-29 19:05:56--  http://gdac.broadinstitute.org/runs/stddata__2013_09_23/data/PAAD/20130923/gdac.broadinstitute.org_PAAD.Clinical_Pick_Tier1.Level_4.2013092300.0.0.tar.gz.md5\r\n"
       ]
      },
      {
       "output_type": "stream",
       "stream": "stdout",
       "text": [
        "Saving to: `stddata__2013_09_23/PAAD/20130923/gdac.broadinstitute.org_PAAD.Clinical_Pick_Tier1.Level_4.2013092300.0.0.tar.gz.md5'\r\n",
        "     0K                                                      100% 26.3M=0s\r\n",
        "--2013-10-29 19:05:57--  http://gdac.broadinstitute.org/runs/stddata__2013_09_23/data/PAAD/20130923/gdac.broadinstitute.org_PAAD.Clinical_Pick_Tier1.aux.2013092300.0.0.tar.gz\r\n"
       ]
      },
      {
       "output_type": "stream",
       "stream": "stdout",
       "text": [
        "Saving to: `stddata__2013_09_23/PAAD/20130923/gdac.broadinstitute.org_PAAD.Clinical_Pick_Tier1.aux.2013092300.0.0.tar.gz'\r\n",
        "     0K                                                      100%  317M=0s\r\n",
        "--2013-10-29 19:05:57--  http://gdac.broadinstitute.org/runs/stddata__2013_09_23/data/PAAD/20130923/gdac.broadinstitute.org_PAAD.Clinical_Pick_Tier1.aux.2013092300.0.0.tar.gz.md5\r\n"
       ]
      },
      {
       "output_type": "stream",
       "stream": "stdout",
       "text": [
        "Saving to: `stddata__2013_09_23/PAAD/20130923/gdac.broadinstitute.org_PAAD.Clinical_Pick_Tier1.aux.2013092300.0.0.tar.gz.md5'\r\n",
        "     0K                                                      100% 20.0M=0s\r\n",
        "--2013-10-29 19:05:57--  http://gdac.broadinstitute.org/runs/stddata__2013_09_23/data/PAAD/20130923/gdac.broadinstitute.org_PAAD.Clinical_Pick_Tier1.mage-tab.2013092300.0.0.tar.gz\r\n"
       ]
      },
      {
       "output_type": "stream",
       "stream": "stdout",
       "text": [
        "Saving to: `stddata__2013_09_23/PAAD/20130923/gdac.broadinstitute.org_PAAD.Clinical_Pick_Tier1.mage-tab.2013092300.0.0.tar.gz'\r\n",
        "     0K                                                      100%  282M=0s\r\n",
        "--2013-10-29 19:05:57--  http://gdac.broadinstitute.org/runs/stddata__2013_09_23/data/PAAD/20130923/gdac.broadinstitute.org_PAAD.Clinical_Pick_Tier1.mage-tab.2013092300.0.0.tar.gz.md5\r\n"
       ]
      },
      {
       "output_type": "stream",
       "stream": "stdout",
       "text": [
        "Saving to: `stddata__2013_09_23/PAAD/20130923/gdac.broadinstitute.org_PAAD.Clinical_Pick_Tier1.mage-tab.2013092300.0.0.tar.gz.md5'\r\n",
        "     0K                                                      100% 22.9M=0s\r\n"
       ]
      },
      {
       "output_type": "stream",
       "stream": "stdout",
       "text": [
        "--2013-10-29 19:05:57--  http://gdac.broadinstitute.org/runs/stddata__2013_09_23/data/PAAD/20130923/gdac.broadinstitute.org_PAAD.Merge_Clinical.Level_1.2013092300.0.0.tar.gz\r\n"
       ]
      },
      {
       "output_type": "stream",
       "stream": "stdout",
       "text": [
        "Saving to: `stddata__2013_09_23/PAAD/20130923/gdac.broadinstitute.org_PAAD.Merge_Clinical.Level_1.2013092300.0.0.tar.gz'\r\n"
       ]
      },
      {
       "output_type": "stream",
       "stream": "stdout",
       "text": [
        "     0K                                                      100%  315K=0.08s\r\n",
        "--2013-10-29 19:05:57--  http://gdac.broadinstitute.org/runs/stddata__2013_09_23/data/PAAD/20130923/gdac.broadinstitute.org_PAAD.Merge_Clinical.Level_1.2013092300.0.0.tar.gz.md5\r\n"
       ]
      },
      {
       "output_type": "stream",
       "stream": "stdout",
       "text": [
        "Saving to: `stddata__2013_09_23/PAAD/20130923/gdac.broadinstitute.org_PAAD.Merge_Clinical.Level_1.2013092300.0.0.tar.gz.md5'\r\n",
        "     0K                                                      100% 24.1M=0s\r\n",
        "--2013-10-29 19:05:57--  http://gdac.broadinstitute.org/runs/stddata__2013_09_23/data/PAAD/20130923/gdac.broadinstitute.org_PAAD.Merge_Clinical.aux.2013092300.0.0.tar.gz\r\n"
       ]
      },
      {
       "output_type": "stream",
       "stream": "stdout",
       "text": [
        "Saving to: `stddata__2013_09_23/PAAD/20130923/gdac.broadinstitute.org_PAAD.Merge_Clinical.aux.2013092300.0.0.tar.gz'\r\n",
        "     0K                                                      100%  259M=0s\r\n",
        "--2013-10-29 19:05:57--  http://gdac.broadinstitute.org/runs/stddata__2013_09_23/data/PAAD/20130923/gdac.broadinstitute.org_PAAD.Merge_Clinical.aux.2013092300.0.0.tar.gz.md5\r\n"
       ]
      },
      {
       "output_type": "stream",
       "stream": "stdout",
       "text": [
        "Saving to: `stddata__2013_09_23/PAAD/20130923/gdac.broadinstitute.org_PAAD.Merge_Clinical.aux.2013092300.0.0.tar.gz.md5'\r\n",
        "     0K                                                      100% 22.5M=0s\r\n",
        "--2013-10-29 19:05:57--  http://gdac.broadinstitute.org/runs/stddata__2013_09_23/data/PAAD/20130923/gdac.broadinstitute.org_PAAD.Merge_Clinical.mage-tab.2013092300.0.0.tar.gz\r\n"
       ]
      },
      {
       "output_type": "stream",
       "stream": "stdout",
       "text": [
        "Saving to: `stddata__2013_09_23/PAAD/20130923/gdac.broadinstitute.org_PAAD.Merge_Clinical.mage-tab.2013092300.0.0.tar.gz'\r\n",
        "     0K                                                      100%  424M=0s\r\n",
        "--2013-10-29 19:05:57--  http://gdac.broadinstitute.org/runs/stddata__2013_09_23/data/PAAD/20130923/gdac.broadinstitute.org_PAAD.Merge_Clinical.mage-tab.2013092300.0.0.tar.gz.md5\r\n"
       ]
      },
      {
       "output_type": "stream",
       "stream": "stdout",
       "text": [
        "Saving to: `stddata__2013_09_23/PAAD/20130923/gdac.broadinstitute.org_PAAD.Merge_Clinical.mage-tab.2013092300.0.0.tar.gz.md5'\r\n",
        "     0K                                                      100% 23.6M=0s\r\n",
        "FINISHED --2013-10-29 19:05:58--\r\n",
        "Total wall clock time: 2.5s\r\n",
        "Downloaded: 15 files, 82K in 0.5s (159 KB/s)\r\n"
       ]
      },
      {
       "output_type": "stream",
       "stream": "stdout",
       "text": [
        "--2013-10-29 19:05:58--  http://gdac.broadinstitute.org/runs/stddata__2013_09_23/data/PANCANCER/\r\n"
       ]
      },
      {
       "output_type": "stream",
       "stream": "stdout",
       "text": [
        "2013-10-29 19:05:59 ERROR 404: Not Found.\r\n"
       ]
      }
     ],
     "prompt_number": 10
    },
    {
     "cell_type": "markdown",
     "metadata": {},
     "source": [
      "<span class='alert alert-warning'>Takes about 25 min to download methylation data.</span>"
     ]
    },
    {
     "cell_type": "code",
     "collapsed": false,
     "input": [
      "#!firehose_get -b -o humanmethylation450 stddata $RUN_DATE HNSC"
     ],
     "language": "python",
     "metadata": {},
     "outputs": [],
     "prompt_number": 11
    },
    {
     "cell_type": "heading",
     "level": 1,
     "metadata": {},
     "source": [
      "Clean Up Downloads"
     ]
    },
    {
     "cell_type": "code",
     "collapsed": false,
     "input": [
      "!rm fh_get.zip\n",
      "!rm firehose_get"
     ],
     "language": "python",
     "metadata": {},
     "outputs": [],
     "prompt_number": 12
    },
    {
     "cell_type": "code",
     "collapsed": false,
     "input": [
      "if not os.path.isdir(OUT_PATH):\n",
      "    os.makedirs(OUT_PATH)"
     ],
     "language": "python",
     "metadata": {},
     "outputs": [],
     "prompt_number": 13
    },
    {
     "cell_type": "code",
     "collapsed": false,
     "input": [
      "analyses_folder = 'analyses__' + RUN_DATE\n",
      "!mv $analyses_folder {OUT_PATH + '/' + analyses_folder}"
     ],
     "language": "python",
     "metadata": {},
     "outputs": [],
     "prompt_number": 14
    },
    {
     "cell_type": "code",
     "collapsed": false,
     "input": [
      "stddata_folder = 'stddata__' + RUN_DATE\n",
      "!mv $stddata_folder {OUT_PATH + '/' + stddata_folder}"
     ],
     "language": "python",
     "metadata": {},
     "outputs": [],
     "prompt_number": 15
    },
    {
     "cell_type": "heading",
     "level": 1,
     "metadata": {},
     "source": [
      "Exctract data and set up file hierarchy for downstream analysis"
     ]
    },
    {
     "cell_type": "code",
     "collapsed": false,
     "input": [
      "from Initialization.ProcessFirehose import process_firehose_get\n",
      "\n",
      "process_firehose_get(OUT_PATH, CANCER, RUN_DATE)"
     ],
     "language": "python",
     "metadata": {},
     "outputs": [],
     "prompt_number": 16
    },
    {
     "cell_type": "markdown",
     "metadata": {},
     "source": [
      "Get rid of all of the downloaded zip files that we processed"
     ]
    },
    {
     "cell_type": "code",
     "collapsed": false,
     "input": [
      "OUT_PATH"
     ],
     "language": "python",
     "metadata": {},
     "outputs": [
      {
       "metadata": {},
       "output_type": "pyout",
       "prompt_number": 21,
       "text": [
        "'/cellar/users/agross/HNSCC_Test/Data7'"
       ]
      }
     ],
     "prompt_number": 21
    },
    {
     "cell_type": "code",
     "collapsed": false,
     "input": [
      "!rm -rf {OUT_PATH + '/' + stddata_folder}\n",
      "!rm -rf {OUT_PATH + '/' + analyses_folder}"
     ],
     "language": "python",
     "metadata": {},
     "outputs": [],
     "prompt_number": 17
    },
    {
     "cell_type": "heading",
     "level": 1,
     "metadata": {},
     "source": [
      "Create Run Object for Firehose Download"
     ]
    },
    {
     "cell_type": "code",
     "collapsed": false,
     "input": [
      "data_path = '{}/Firehose__{}/'.format(OUT_PATH, RUN_DATE)\n",
      "result_path = data_path + 'ucsd_analyses/'"
     ],
     "language": "python",
     "metadata": {},
     "outputs": [],
     "prompt_number": 18
    },
    {
     "cell_type": "code",
     "collapsed": false,
     "input": [
      "cancer_codes = pd.read_table('../Extra_Data/diseaseStudy.txt',\n",
      "                             index_col=0, squeeze=True)\n",
      "run_dir = 'http://gdac.broadinstitute.org/runs'\n",
      "f = '{}/analyses__{}/ingested_data.tsv'.format(run_dir, RUN_DATE)\n",
      "sample_matrix = pd.read_table(f, skiprows=3, index_col=0).dropna()"
     ],
     "language": "python",
     "metadata": {},
     "outputs": [],
     "prompt_number": 24
    },
    {
     "cell_type": "code",
     "collapsed": false,
     "input": [
      "run = Run(RUN_DATE, VERSION, data_path, result_path, PARAMETERS, \n",
      "          cancer_codes, sample_matrix, DESCRIPTION)\n",
      "run.save()\n",
      "run"
     ],
     "language": "python",
     "metadata": {},
     "outputs": []
    },
    {
     "cell_type": "heading",
     "level": 1,
     "metadata": {},
     "source": [
      "Initialize Data Objects into the File Hierarchy"
     ]
    },
    {
     "cell_type": "code",
     "collapsed": false,
     "input": [
      "cancer = Cancer(CANCER, run)\n",
      "cancer.initialize_data(run, save=True)\n",
      "initialize_real(CANCER, run.report_path, 'mRNASeq', \n",
      "                create_meta_features=True)\n",
      "initialize_real(CANCER, run.report_path, 'RPPA', \n",
      "                create_meta_features=True, create_real_features=False)\n",
      "initialize_real(CANCER, run.report_path, 'miRNASeq', \n",
      "                create_meta_features=False)\n",
      "initialize_cn(CANCER, run.report_path, 'CN_broad')\n",
      "initialize_mut(CANCER, run.report_path, create_meta_features=True);"
     ],
     "language": "python",
     "metadata": {},
     "outputs": []
    },
    {
     "cell_type": "code",
     "collapsed": false,
     "input": [
      "#process_meth(run.data_path, cancer.name)\n",
      "#initialize_real(cancer_type, run.report_path, 'Methylation', create_meta_features=True)"
     ],
     "language": "python",
     "metadata": {},
     "outputs": []
    }
   ],
   "metadata": {}
  }
 ]
}